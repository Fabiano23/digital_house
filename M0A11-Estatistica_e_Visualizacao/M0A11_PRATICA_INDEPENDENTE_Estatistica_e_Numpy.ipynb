{
  "nbformat": 4,
  "nbformat_minor": 0,
  "metadata": {
    "kernelspec": {
      "display_name": "Python 3",
      "language": "python",
      "name": "python3"
    },
    "language_info": {
      "codemirror_mode": {
        "name": "ipython",
        "version": 3
      },
      "file_extension": ".py",
      "mimetype": "text/x-python",
      "name": "python",
      "nbconvert_exporter": "python",
      "pygments_lexer": "ipython3",
      "version": "3.7.6"
    },
    "colab": {
      "name": "M0A11-PRATICA_INDEPENDENTE_Estatistica_e_Numpy.ipynb",
      "provenance": [],
      "collapsed_sections": []
    }
  },
  "cells": [
    {
      "cell_type": "markdown",
      "metadata": {
        "id": "JjMSjirpLQF_"
      },
      "source": [
        "# Prática Independente de Estatística e Numpy\n",
        "\n",
        "#### Responder às perguntas usando a distribuição definida na variável `dist` na próxima célula."
      ]
    },
    {
      "cell_type": "code",
      "metadata": {
        "id": "SnUtGBtWNxEq"
      },
      "source": [
        "import numpy as np\n",
        "from scipy.stats import mode\n",
        "import matplotlib.pyplot as plt\n",
        "import seaborn as sns"
      ],
      "execution_count": null,
      "outputs": []
    },
    {
      "cell_type": "code",
      "metadata": {
        "id": "dTl_FhaMLQGI"
      },
      "source": [
        "dist = [33.3, 8.0, 2.7, 7.0, 11.3, 10.2, 38.4, 14.7, 46.9, 6.6, 38.6, 41.1, 20.4, 19.5,\n",
        "        102.6, 111.5, 21.8, 27.0, 30.3, 9.3, 19.6, 31.1, 48.8, 8.9, 11.4, 0.6, 23.5,\n",
        "        8.0, 27.5, 69.7, 11.5, 15.5, 1.4, 7.0, 4.6, 6.0, 16.0, 17.2, 6.3, 26.2, 23.9,\n",
        "        45.9, 55.4, 100.8, 22.9, 75.5, 115.5, 58.9, 10.5, 92.6, 12.4, 102.7, 10.2, 167.6,\n",
        "        143.6, 132.3, 134.2, 39.4, 49.7, 12.0, 27.0, 1.3, 4.7, 5.0, 24.1, 21.5, 33.1,\n",
        "        45.6, 46.3, 15.8, 30.7, 15.7, 6.8, 64.6, 39.1, 2.9, 8.0, 5.4, 33.4, 40.0, 22.7,\n",
        "        24.2, 25.7, 85.0, 26.2, 3.3, 20.7, 117.4, 66.8, 44.3, 37.9, 71.8, 161.4, 45.9,\n",
        "        4.6, 6.6, 12.6, 24.4, 21.4, 33.6, 33.7, 18.8, 7.6, 36.3, 1.8, 83.2, 75.1, 71.3,\n",
        "        32.9, 30.6, 16.0, 6.9, 11.0, 9.4, 11.7, 13.8, 39.4, 4.3, 38.1, 60.1, 78.2, 49.6,\n",
        "        14.3, 8.0, 19.3, 30.8, 32.5, 29.6, 28.3, 32.4, 35.7, 36.7, 10.0, 8.5, 12.2, 22.6,\n",
        "        32.1, 25.7, 14.1, 20.9, 23.8, 29.5, 2.9, 42.3, 19.9, 47.5, 15.9, 6.0, 19.3, 38.2,\n",
        "        23.5, 2.7, 27.0, 49.9, 43.5, 31.7, 39.1, 15.1, 18.0, 33.8, 32.1, 50.7, 28.8, 11.6,\n",
        "        74.8, 16.2, 8.3, 36.3, 44.0, 15.6, 48.9, 7.3, 8.2, 29.8, 38.7, 3.9, 7.2, 5.1, 23.7,\n",
        "        48.4, 92.0, 64.3, 97.4, 99.1, 18.0, 7.1, 14.7, 47.1, 41.3, 44.2, 6.5, 44.4, 9.7,\n",
        "        15.5, 23.7, 34.5, 19.9, 58.6, 35.0, 66.1, 74.5, 45.2]"
      ],
      "execution_count": null,
      "outputs": []
    },
    {
      "cell_type": "markdown",
      "metadata": {
        "id": "NvOi-e-vLQGT"
      },
      "source": [
        "#### Exercício 1: Calcular a média de `dist`."
      ]
    },
    {
      "cell_type": "code",
      "metadata": {
        "id": "6KXPk8ICLQGU",
        "outputId": "b956ad29-8b7e-47f6-955f-f3d33840250a",
        "colab": {
          "base_uri": "https://localhost:8080/"
        }
      },
      "source": [
        "print(f'Media de distâncias: {np.mean(dist)}')"
      ],
      "execution_count": null,
      "outputs": [
        {
          "output_type": "stream",
          "text": [
            "Media de distância: 33.995049504950494\n"
          ],
          "name": "stdout"
        }
      ]
    },
    {
      "cell_type": "markdown",
      "metadata": {
        "id": "Oq2I4SoTLQGa"
      },
      "source": [
        "#### Exercício 2: Calcular a mediana de `dist`."
      ]
    },
    {
      "cell_type": "code",
      "metadata": {
        "id": "8yvuRNLLLQGb",
        "outputId": "de327839-613e-434e-d1ed-80dad772cf1e",
        "colab": {
          "base_uri": "https://localhost:8080/"
        }
      },
      "source": [
        "print(f'Mediana de distâncias: {np.median(dist)}')"
      ],
      "execution_count": null,
      "outputs": [
        {
          "output_type": "stream",
          "text": [
            "Mediana de distância: 25.95\n"
          ],
          "name": "stdout"
        }
      ]
    },
    {
      "cell_type": "markdown",
      "metadata": {
        "id": "uYjalRHHLQGg"
      },
      "source": [
        "#### Exercício 3: Arredondar os números de `dist` e calcular a moda"
      ]
    },
    {
      "cell_type": "markdown",
      "metadata": {
        "id": "m-D4aw7QNB-5"
      },
      "source": [
        "Usando list comprehension pra arredondar pra valores inteiros todos os valores presentes em dist"
      ]
    },
    {
      "cell_type": "code",
      "metadata": {
        "id": "C3Avm27dLQGh"
      },
      "source": [
        "dist_arredondada = [round(num) for num in dist]"
      ],
      "execution_count": null,
      "outputs": []
    },
    {
      "cell_type": "code",
      "metadata": {
        "id": "WmNvfNOQNSD4",
        "outputId": "de741ce6-f236-41d8-cc22-28315983d157",
        "colab": {
          "base_uri": "https://localhost:8080/"
        }
      },
      "source": [
        "print(f'Moda das distâncias arrendondadas: {mode(dist_arredondada)[0]}')"
      ],
      "execution_count": null,
      "outputs": [
        {
          "output_type": "stream",
          "text": [
            "Moda das distâncias arrendondadas: [7]\n"
          ],
          "name": "stdout"
        }
      ]
    },
    {
      "cell_type": "markdown",
      "metadata": {
        "id": "2YRlgFBJLQGo"
      },
      "source": [
        "#### Exercício 4: Determinar se a `dist` é assimétrica. Caso seja; em que sentido? Por quê?"
      ]
    },
    {
      "cell_type": "markdown",
      "metadata": {
        "id": "rsapPta0PcmQ"
      },
      "source": [
        "####Função que determina um valor óptimo para os bins com a [`regra de Sturges`](https://accendoreliability.com/sturges-rule-method-selecting-number-bins-histogram/) para uma determinada distribuição de variáveis quantitativas contínuas"
      ]
    },
    {
      "cell_type": "code",
      "metadata": {
        "id": "SbRS7bTzPcEh"
      },
      "source": [
        "def sturges_rule(dados):\n",
        "  \n",
        "  # Encontrando o número de indivíduos no Dataset\n",
        "  n = len(dados)\n",
        "\n",
        "  # Regra de sturges\n",
        "  k = 1 + (10 / 3) * np.log10(n)\n",
        "\n",
        "  # Arrendondando o valor encontrado de quantidade de classes indicada\n",
        "  k = int(round(k))\n",
        "  \n",
        "  return k"
      ],
      "execution_count": null,
      "outputs": []
    },
    {
      "cell_type": "markdown",
      "metadata": {
        "id": "wavj83d2Q0N5"
      },
      "source": [
        "Aplicando regra de Sturges na distribuição de distâncias"
      ]
    },
    {
      "cell_type": "code",
      "metadata": {
        "id": "vDncwvswQrAY",
        "outputId": "1829a0ef-46bf-4907-8597-c47991c81895",
        "colab": {
          "base_uri": "https://localhost:8080/"
        }
      },
      "source": [
        "bins_dist= sturges_rule(dist)\n",
        "bins_dist"
      ],
      "execution_count": null,
      "outputs": [
        {
          "output_type": "execute_result",
          "data": {
            "text/plain": [
              "9"
            ]
          },
          "metadata": {
            "tags": []
          },
          "execution_count": 35
        }
      ]
    },
    {
      "cell_type": "markdown",
      "metadata": {
        "id": "8-W3anUfQ5uX"
      },
      "source": [
        "Histograma pra ver como é comportamento da distribuição de distâncias"
      ]
    },
    {
      "cell_type": "code",
      "metadata": {
        "id": "vO9faaSgLQGp",
        "outputId": "e832567a-563e-474d-a4ad-d20c039cd44e",
        "colab": {
          "base_uri": "https://localhost:8080/",
          "height": 265
        }
      },
      "source": [
        "plt.hist(dist, bins= bins_dist)\n",
        "plt.show()"
      ],
      "execution_count": null,
      "outputs": [
        {
          "output_type": "display_data",
          "data": {
            "image/png": "[encoded data removed]",
            "text/plain": [
              "<Figure size 432x288 with 1 Axes>"
            ]
          },
          "metadata": {
            "tags": [],
            "needs_background": "light"
          }
        }
      ]
    },
    {
      "cell_type": "markdown",
      "metadata": {
        "id": "vvD8UODrT81G"
      },
      "source": [
        "Boxplot para visualização da distribuição de distâncias"
      ]
    },
    {
      "cell_type": "code",
      "metadata": {
        "id": "YXEdO8xkSusO",
        "outputId": "c99dd390-468a-4f3b-90a9-5bfba42277df",
        "colab": {
          "base_uri": "https://localhost:8080/",
          "height": 255
        }
      },
      "source": [
        "sns.boxplot(y= dist)\n",
        "plt.show()"
      ],
      "execution_count": null,
      "outputs": [
        {
          "output_type": "display_data",
          "data": {
            "image/png": "[encoded data removed]",
            "text/plain": [
              "<Figure size 432x288 with 1 Axes>"
            ]
          },
          "metadata": {
            "tags": [],
            "needs_background": "light"
          }
        }
      ]
    },
    {
      "cell_type": "markdown",
      "metadata": {
        "id": "cm_WAQsoR50P"
      },
      "source": [
        "Descrição da distribuição:\n",
        "\n",
        "Temos uma distribuição assimétrica à esquerda.\n",
        "\n",
        "Isto nos indica que a maioria dos dados estão situados em valores mais baixos de nossa distribuição. Nesse caso nos indica que a maioria das distâncias percorridas foram curtas, mais ou menos entre 15 e 45."
      ]
    },
    {
      "cell_type": "markdown",
      "metadata": {
        "id": "SqstqVs4LQGu"
      },
      "source": [
        "#### Exercício 5: Calcular o intervalo de `dist`."
      ]
    },
    {
      "cell_type": "code",
      "metadata": {
        "id": "HphPdh3rLQGv",
        "outputId": "fe1b80ed-0df9-4db5-8208-77530ebed94d",
        "colab": {
          "base_uri": "https://localhost:8080/"
        }
      },
      "source": [
        "print(f'Intervalo das distâncias: {np.ptp(dist)}')"
      ],
      "execution_count": null,
      "outputs": [
        {
          "output_type": "stream",
          "text": [
            "Intervalo das distâncias: 167.0\n"
          ],
          "name": "stdout"
        }
      ]
    },
    {
      "cell_type": "markdown",
      "metadata": {
        "id": "q4tQe4yFLQG0"
      },
      "source": [
        "#### Exercício 6: Calcular a variância de `dist`."
      ]
    },
    {
      "cell_type": "markdown",
      "metadata": {
        "id": "SkaYroRNVArT"
      },
      "source": [
        "Aqui temos a problemática da variância retornar valores muito altos e difíceis de compreender analiticamente."
      ]
    },
    {
      "cell_type": "code",
      "metadata": {
        "id": "phOBbLNILQG1",
        "outputId": "caabacd0-a156-4a60-8098-0dd713828544",
        "colab": {
          "base_uri": "https://localhost:8080/"
        }
      },
      "source": [
        "print(f'Variância das distâncias: {np.var(dist):.2f}')"
      ],
      "execution_count": null,
      "outputs": [
        {
          "output_type": "stream",
          "text": [
            "Variância das distâncias: 957.83\n"
          ],
          "name": "stdout"
        }
      ]
    },
    {
      "cell_type": "markdown",
      "metadata": {
        "id": "1GMdlFeALQG8"
      },
      "source": [
        "#### Exercício 7: Calcular o desvio padrão de `dist`."
      ]
    },
    {
      "cell_type": "markdown",
      "metadata": {
        "id": "dCmCzngXVGY4"
      },
      "source": [
        "O problema do alto valor da variância é resolvido pela medida de dispersão do desvio padrão."
      ]
    },
    {
      "cell_type": "code",
      "metadata": {
        "id": "LHKUIM8WLQG9",
        "outputId": "55dd512a-84da-4bc8-e484-345eb21c42b5",
        "colab": {
          "base_uri": "https://localhost:8080/"
        }
      },
      "source": [
        "print(f'Desvio padrão das distâncias: {np.std(dist):.2f}')"
      ],
      "execution_count": null,
      "outputs": [
        {
          "output_type": "stream",
          "text": [
            "Desvio padrão das distâncias: 30.95\n"
          ],
          "name": "stdout"
        }
      ]
    },
    {
      "cell_type": "markdown",
      "metadata": {
        "id": "S65MydJXLQHC"
      },
      "source": [
        "#### Exercício 8: Arredondar a distribuição e calcular a moda (sem usar a função de SciPy)."
      ]
    },
    {
      "cell_type": "code",
      "metadata": {
        "id": "2Xndq3vILQHD",
        "outputId": "9e5a00ec-b54a-4fb1-b9b5-8b74f14cb152",
        "colab": {
          "base_uri": "https://localhost:8080/"
        }
      },
      "source": [
        "# Primeiros cinco valores da lista dist_arredondada onde arredondei os números da distribuição usando list comprehension\n",
        "dist_arredondada[:5]"
      ],
      "execution_count": null,
      "outputs": [
        {
          "output_type": "execute_result",
          "data": {
            "text/plain": [
              "[33, 8, 3, 7, 11]"
            ]
          },
          "metadata": {
            "tags": []
          },
          "execution_count": 93
        }
      ]
    },
    {
      "cell_type": "markdown",
      "metadata": {
        "id": "D1R4sFuDaRvb"
      },
      "source": [
        "Importando função Counter do módulo collections que conta a frequência de elementos em um conjunto de dados. A estrutura do Counter é a mesma de um dicionário, composto por chaves e valores associados a elas."
      ]
    },
    {
      "cell_type": "code",
      "metadata": {
        "id": "DZcbdgpkWWu5"
      },
      "source": [
        "from collections import Counter"
      ],
      "execution_count": null,
      "outputs": []
    },
    {
      "cell_type": "markdown",
      "metadata": {
        "id": "ReAM3iizaw0i"
      },
      "source": [
        "Criando função que utiliza o Counter e retorna os valores (em caso de distribuições multimodais) que mais aparecem em uma distribuição. "
      ]
    },
    {
      "cell_type": "code",
      "metadata": {
        "id": "47nkUATUVe1C"
      },
      "source": [
        "def moda(dados):\n",
        "  contagem = Counter(dados)\n",
        "  frequencia_maxima = max(contagem.values())\n",
        "  for chave, valor in contagem.items():\n",
        "    if valor == frequencia_maxima:\n",
        "      print(chave)"
      ],
      "execution_count": null,
      "outputs": []
    },
    {
      "cell_type": "code",
      "metadata": {
        "id": "obprPGRpZnh-",
        "outputId": "7c4454c8-d9ba-4ca6-d7f8-d74d870eed3b",
        "colab": {
          "base_uri": "https://localhost:8080/"
        }
      },
      "source": [
        "print('Moda(s) da distribuição de distâncias arredondadas:')\n",
        "moda(dist_arredondada)"
      ],
      "execution_count": null,
      "outputs": [
        {
          "output_type": "stream",
          "text": [
            "Moda(s) da distribuição de distâncias arredondadas:\n",
            "7\n",
            "24\n",
            "16\n"
          ],
          "name": "stdout"
        }
      ]
    }
  ]
}