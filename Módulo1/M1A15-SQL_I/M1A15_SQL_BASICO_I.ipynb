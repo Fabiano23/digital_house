{
  "nbformat": 4,
  "nbformat_minor": 0,
  "metadata": {
    "kernelspec": {
      "display_name": "Python 3",
      "language": "python",
      "name": "python3"
    },
    "language_info": {
      "codemirror_mode": {
        "name": "ipython",
        "version": 3
      },
      "file_extension": ".py",
      "mimetype": "text/x-python",
      "name": "python",
      "nbconvert_exporter": "python",
      "pygments_lexer": "ipython3",
      "version": "3.7.6"
    },
    "colab": {
      "name": "M1A15-SQL_BASICO_I.ipynb",
      "provenance": [],
      "collapsed_sections": [
        "wXArL9Vpx4rc",
        "OViAHtGpx4rc",
        "O2XJTj__x4rc",
        "a5NNhc6Rx4rd",
        "i57Bx-Cwx4rd",
        "3nERfmHtx4rd",
        "6CI5YTV2x4rd",
        "AOqdg-t-x4rd"
      ]
    }
  },
  "cells": [
    {
      "cell_type": "markdown",
      "metadata": {
        "id": "DR5zh_jUx4rU"
      },
      "source": [
        "# Exemplos de queries SQL integrados ao Python e Pandas\n",
        "Usaremos dados de exemplo do site [MySQL Tutorial](http://www.mysqltutorial.org/mysql-sample-database.aspx).\n",
        "\n",
        "Para recriar o banco de dados em SQLite, sem Python, basta executar o arquivo com os comandos SQL na linha de comando do sistema operacional:\n",
        "\n",
        "```shell\n",
        "sqlite3 database.db < sample-database-dump.sql\n",
        "```\n",
        "\n",
        "O arquivo `database.db` será criado e tabelas e dados conforme especificados em `sql-sample-database.sql` serão populados.\n",
        "\n",
        "Se estivéssemos lidando com um SGBD (sistema gerenciador de banco de dados) mais robusto, como MariaDB/MySQL, Oracle ou DB2, o comando acima seria diferente e deverá conter:\n",
        "\n",
        "* o hostname ou IP do servidor de banco de dados\n",
        "* usuário e senha de acesso\n",
        "* nome do banco de dados em que vamos operar\n",
        "\n",
        "Mas SQLite é bem mais simples e didático e opera num arquivo local.\n",
        "\n",
        "## Visualizando o banco de dados, suas tabelas e dados\n",
        "\n",
        "<img src=\"MySQL-Sample-Database-Schema.png\">\n",
        "\n",
        "Cada SGBD tem seu próprio ferramental para navegar nos dados. MariaDB/MySQL tem o popular [PHP MyAdmin](https://www.phpmyadmin.net), Oracle e DB2 tem suas próprias ferramentas proprietárias, SQLite tem [DB Browser for SQLite](https://sqlitebrowser.org) e uma ferramenta online chamada [SQLite Online](https://sqliteonline.com).\n",
        "\n",
        "Para navegar nos dados do DB SQLite que acabamos de criar, use uma das 3 opções:\n",
        "\n",
        "* Use o comando `sqlite3`.\n",
        "* Instale o **DB Browser for SQLite** e abra o arquivo.\n",
        "* Envie o arquivo para o site **SQLiteOnline.com**."
      ]
    },
    {
      "cell_type": "markdown",
      "metadata": {
        "id": "ZrEMfNvax4rW"
      },
      "source": [
        "## SQLite\n",
        "\n",
        "#### Vamos primeiro usar a estrutura e dados do arquivo `sql-sample-database.sql` para criar um banco de dados no arquivo `database.db`.\n",
        "\n",
        "#### Usamos o método [`connect()`](https://docs.python.org/3/library/sqlite3.html#sqlite3.Connection) para criar um objeto de conexão com esse banco de dados."
      ]
    },
    {
      "cell_type": "code",
      "metadata": {
        "id": "HwAze74Vx4rW"
      },
      "source": [
        "import pandas as pd\n",
        "import sqlite3\n",
        "\n",
        "db = sqlite3.connect('database.db')"
      ],
      "execution_count": 5,
      "outputs": []
    },
    {
      "cell_type": "markdown",
      "metadata": {
        "id": "0EulpOsSx4rX"
      },
      "source": [
        "#### Depois de ter um objeto de conexão, podemos criar um [`objeto Cursor`](https://docs.python.org/2.5/lib/sqlite3-Cursor-Objects.html) [`cursor()`](https://docs.python.org/3/library/sqlite3.html#sqlite3.Cursor) e chamar seu método [`execute()`](https://docs.python.org/3/library/sqlite3.html#sqlite3.Cursor.execute) para executar comandos `SQL`."
      ]
    },
    {
      "cell_type": "code",
      "metadata": {
        "colab": {
          "base_uri": "https://localhost:8080/"
        },
        "id": "b8RJ44y-x4rX",
        "outputId": "a63d20a3-eb3e-4f7c-c86e-ba88f04a6133"
      },
      "source": [
        "script = 'sample-database-dump.sql'\n",
        "\n",
        "db.cursor().executescript(open(script).read())"
      ],
      "execution_count": 6,
      "outputs": [
        {
          "output_type": "execute_result",
          "data": {
            "text/plain": [
              "<sqlite3.Cursor at 0x7fc8a20269d0>"
            ]
          },
          "metadata": {
            "tags": []
          },
          "execution_count": 6
        }
      ]
    },
    {
      "cell_type": "markdown",
      "metadata": {
        "id": "uL8rR_ygx4rY"
      },
      "source": [
        "#### Camos criar uma conexão com a nossa base de dados."
      ]
    },
    {
      "cell_type": "code",
      "metadata": {
        "id": "OvWSpIIFx4rY"
      },
      "source": [
        "conn = sqlite3.connect('database.db')\n",
        "curs = conn.cursor()\n",
        "#conn.close()"
      ],
      "execution_count": 7,
      "outputs": []
    },
    {
      "cell_type": "code",
      "metadata": {
        "id": "poaWyaVOx4rY"
      },
      "source": [
        "query = \"\"\"CREATE TABLE IF NOT EXISTS countries (\n",
        "\n",
        "key INTEGER PRIMARY KEY AUTOINCREMENT,\n",
        "\n",
        "name text UNIQUE,\n",
        "\n",
        "founding_year INTEGER,\n",
        "\n",
        "capital TEXT\n",
        "\n",
        ");\"\"\"\n",
        "\n",
        "#query = \"\"\"DROP TABLE countries ;\"\"\"\n",
        "\n",
        "curs.execute(query)\n",
        "\n",
        "conn.commit()"
      ],
      "execution_count": 8,
      "outputs": []
    },
    {
      "cell_type": "markdown",
      "metadata": {
        "id": "qm9H7y9lx4rY"
      },
      "source": [
        "#### Vamos criar agora uma tabela."
      ]
    },
    {
      "cell_type": "code",
      "metadata": {
        "colab": {
          "base_uri": "https://localhost:8080/"
        },
        "id": "VtA3dHYKx4rY",
        "outputId": "474f7cce-51b0-4270-c713-faa02f84e62e"
      },
      "source": [
        "#query = \"DELETE FROM countries WHERE name == 'BRASIL';\"\n",
        "\n",
        "query  = \"\"\"INSERT INTO countries (key, name, founding_year, capital)\n",
        "    VALUES (1, 'BRASIL', 1500, 'SALVADOR')\n",
        ";\"\"\"\n",
        "\n",
        "conn.commit()\n",
        "\n",
        "curs.execute(query)"
      ],
      "execution_count": 9,
      "outputs": [
        {
          "output_type": "execute_result",
          "data": {
            "text/plain": [
              "<sqlite3.Cursor at 0x7fc8a2026a40>"
            ]
          },
          "metadata": {
            "tags": []
          },
          "execution_count": 9
        }
      ]
    },
    {
      "cell_type": "markdown",
      "metadata": {
        "id": "D8QVnC0cx4rY"
      },
      "source": [
        "#### Vamos observar a tabela que foi criada."
      ]
    },
    {
      "cell_type": "code",
      "metadata": {
        "colab": {
          "base_uri": "https://localhost:8080/",
          "height": 49
        },
        "id": "E8bNWDBbx4rY",
        "outputId": "b684f499-a13a-41f0-d854-44d4c692fe33"
      },
      "source": [
        "query = \"\"\"SELECT * \n",
        "    FROM countries\n",
        ";\"\"\"\n",
        "\n",
        "queryResult = pd.read_sql_query(query, db)\n",
        "\n",
        "queryResult.head()"
      ],
      "execution_count": 10,
      "outputs": [
        {
          "output_type": "execute_result",
          "data": {
            "text/html": [
              "<div>\n",
              "<style scoped>\n",
              "    .dataframe tbody tr th:only-of-type {\n",
              "        vertical-align: middle;\n",
              "    }\n",
              "\n",
              "    .dataframe tbody tr th {\n",
              "        vertical-align: top;\n",
              "    }\n",
              "\n",
              "    .dataframe thead th {\n",
              "        text-align: right;\n",
              "    }\n",
              "</style>\n",
              "<table border=\"1\" class=\"dataframe\">\n",
              "  <thead>\n",
              "    <tr style=\"text-align: right;\">\n",
              "      <th></th>\n",
              "      <th>key</th>\n",
              "      <th>name</th>\n",
              "      <th>founding_year</th>\n",
              "      <th>capital</th>\n",
              "    </tr>\n",
              "  </thead>\n",
              "  <tbody>\n",
              "  </tbody>\n",
              "</table>\n",
              "</div>"
            ],
            "text/plain": [
              "Empty DataFrame\n",
              "Columns: [key, name, founding_year, capital]\n",
              "Index: []"
            ]
          },
          "metadata": {
            "tags": []
          },
          "execution_count": 10
        }
      ]
    },
    {
      "cell_type": "code",
      "metadata": {
        "colab": {
          "base_uri": "https://localhost:8080/"
        },
        "id": "T8mKNLS5x4rY",
        "outputId": "029d4e44-c19c-4baa-cb2d-b02db9194a4b"
      },
      "source": [
        "res = curs.execute(\"SELECT name FROM sqlite_master WHERE type = 'table';\")\n",
        "for name in res:\n",
        "    print (name[0])"
      ],
      "execution_count": 11,
      "outputs": [
        {
          "output_type": "stream",
          "text": [
            "my_table\n",
            "sqlite_sequence\n",
            "countries\n",
            "customers\n",
            "employees\n",
            "offices\n",
            "orderdetails\n",
            "orders\n",
            "payments\n",
            "productlines\n",
            "products\n"
          ],
          "name": "stdout"
        }
      ]
    },
    {
      "cell_type": "markdown",
      "metadata": {
        "id": "ysPx6KUHx4rY"
      },
      "source": [
        "#### Vamos inserir valores na tabela criada."
      ]
    },
    {
      "cell_type": "code",
      "metadata": {
        "colab": {
          "base_uri": "https://localhost:8080/",
          "height": 49
        },
        "id": "YMVyYgFlx4rY",
        "outputId": "30927f0d-06ed-4967-b695-558bc9936bcf"
      },
      "source": [
        "#curs.execute(\"INSERT INTO countries (key, name, founding_year, capital) VALUES (1, 'BRASIL', 1500, 'SALVADOR');\")\n",
        "#conn.commit()\n",
        "\n",
        "query = \"SELECT * FROM countries;\"\n",
        "\n",
        "queryResult = pd.read_sql_query(query, db)\n",
        "\n",
        "queryResult.head()"
      ],
      "execution_count": 12,
      "outputs": [
        {
          "output_type": "execute_result",
          "data": {
            "text/html": [
              "<div>\n",
              "<style scoped>\n",
              "    .dataframe tbody tr th:only-of-type {\n",
              "        vertical-align: middle;\n",
              "    }\n",
              "\n",
              "    .dataframe tbody tr th {\n",
              "        vertical-align: top;\n",
              "    }\n",
              "\n",
              "    .dataframe thead th {\n",
              "        text-align: right;\n",
              "    }\n",
              "</style>\n",
              "<table border=\"1\" class=\"dataframe\">\n",
              "  <thead>\n",
              "    <tr style=\"text-align: right;\">\n",
              "      <th></th>\n",
              "      <th>key</th>\n",
              "      <th>name</th>\n",
              "      <th>founding_year</th>\n",
              "      <th>capital</th>\n",
              "    </tr>\n",
              "  </thead>\n",
              "  <tbody>\n",
              "  </tbody>\n",
              "</table>\n",
              "</div>"
            ],
            "text/plain": [
              "Empty DataFrame\n",
              "Columns: [key, name, founding_year, capital]\n",
              "Index: []"
            ]
          },
          "metadata": {
            "tags": []
          },
          "execution_count": 12
        }
      ]
    },
    {
      "cell_type": "markdown",
      "metadata": {
        "id": "Lqr7HKKRx4rY"
      },
      "source": [
        "#### Vamos inserir mais alguns países."
      ]
    },
    {
      "cell_type": "code",
      "metadata": {
        "colab": {
          "base_uri": "https://localhost:8080/",
          "height": 142
        },
        "id": "TrR87Tb0x4rZ",
        "outputId": "fb6379eb-45cf-4ee2-f86d-9e03aca8f801"
      },
      "source": [
        "curs.execute(\"\"\"INSERT INTO countries (key, name, founding_year, capital)\n",
        "\n",
        "VALUES \n",
        "(2, 'MÉXICO', 1519, 'CIDADE DO MÉXICO'),\n",
        "(3, 'ARGENTINA', 1516, 'BUENOS AIRES')\n",
        ";\"\"\")\n",
        "\n",
        "conn.commit()\n",
        "\n",
        "query = \"SELECT * FROM countries;\"\n",
        "\n",
        "queryResult = pd.read_sql_query(query,db)\n",
        "\n",
        "queryResult.head()"
      ],
      "execution_count": 13,
      "outputs": [
        {
          "output_type": "execute_result",
          "data": {
            "text/html": [
              "<div>\n",
              "<style scoped>\n",
              "    .dataframe tbody tr th:only-of-type {\n",
              "        vertical-align: middle;\n",
              "    }\n",
              "\n",
              "    .dataframe tbody tr th {\n",
              "        vertical-align: top;\n",
              "    }\n",
              "\n",
              "    .dataframe thead th {\n",
              "        text-align: right;\n",
              "    }\n",
              "</style>\n",
              "<table border=\"1\" class=\"dataframe\">\n",
              "  <thead>\n",
              "    <tr style=\"text-align: right;\">\n",
              "      <th></th>\n",
              "      <th>key</th>\n",
              "      <th>name</th>\n",
              "      <th>founding_year</th>\n",
              "      <th>capital</th>\n",
              "    </tr>\n",
              "  </thead>\n",
              "  <tbody>\n",
              "    <tr>\n",
              "      <th>0</th>\n",
              "      <td>1</td>\n",
              "      <td>BRASIL</td>\n",
              "      <td>1500</td>\n",
              "      <td>SALVADOR</td>\n",
              "    </tr>\n",
              "    <tr>\n",
              "      <th>1</th>\n",
              "      <td>2</td>\n",
              "      <td>MÉXICO</td>\n",
              "      <td>1519</td>\n",
              "      <td>CIDADE DO MÉXICO</td>\n",
              "    </tr>\n",
              "    <tr>\n",
              "      <th>2</th>\n",
              "      <td>3</td>\n",
              "      <td>ARGENTINA</td>\n",
              "      <td>1516</td>\n",
              "      <td>BUENOS AIRES</td>\n",
              "    </tr>\n",
              "  </tbody>\n",
              "</table>\n",
              "</div>"
            ],
            "text/plain": [
              "   key       name  founding_year           capital\n",
              "0    1     BRASIL           1500          SALVADOR\n",
              "1    2     MÉXICO           1519  CIDADE DO MÉXICO\n",
              "2    3  ARGENTINA           1516      BUENOS AIRES"
            ]
          },
          "metadata": {
            "tags": []
          },
          "execution_count": 13
        }
      ]
    },
    {
      "cell_type": "markdown",
      "metadata": {
        "id": "nNlT1Pgvx4rZ"
      },
      "source": [
        "#### Vamos inserir o país \"EUA\"."
      ]
    },
    {
      "cell_type": "code",
      "metadata": {
        "colab": {
          "base_uri": "https://localhost:8080/",
          "height": 173
        },
        "id": "Os9fsSPex4rZ",
        "outputId": "ecb5fa01-85a9-4c22-f571-fa32cffc0110"
      },
      "source": [
        "curs.execute(\"INSERT INTO countries (key, name, founding_year, capital) VALUES (4, 'EUA', 1585, 'St. Augustine');\")\n",
        "\n",
        "conn.commit()\n",
        "\n",
        "query = \"SELECT * FROM countries;\"\n",
        "\n",
        "queryResult = pd.read_sql_query(query,db)\n",
        "\n",
        "queryResult.head()"
      ],
      "execution_count": 14,
      "outputs": [
        {
          "output_type": "execute_result",
          "data": {
            "text/html": [
              "<div>\n",
              "<style scoped>\n",
              "    .dataframe tbody tr th:only-of-type {\n",
              "        vertical-align: middle;\n",
              "    }\n",
              "\n",
              "    .dataframe tbody tr th {\n",
              "        vertical-align: top;\n",
              "    }\n",
              "\n",
              "    .dataframe thead th {\n",
              "        text-align: right;\n",
              "    }\n",
              "</style>\n",
              "<table border=\"1\" class=\"dataframe\">\n",
              "  <thead>\n",
              "    <tr style=\"text-align: right;\">\n",
              "      <th></th>\n",
              "      <th>key</th>\n",
              "      <th>name</th>\n",
              "      <th>founding_year</th>\n",
              "      <th>capital</th>\n",
              "    </tr>\n",
              "  </thead>\n",
              "  <tbody>\n",
              "    <tr>\n",
              "      <th>0</th>\n",
              "      <td>1</td>\n",
              "      <td>BRASIL</td>\n",
              "      <td>1500</td>\n",
              "      <td>SALVADOR</td>\n",
              "    </tr>\n",
              "    <tr>\n",
              "      <th>1</th>\n",
              "      <td>2</td>\n",
              "      <td>MÉXICO</td>\n",
              "      <td>1519</td>\n",
              "      <td>CIDADE DO MÉXICO</td>\n",
              "    </tr>\n",
              "    <tr>\n",
              "      <th>2</th>\n",
              "      <td>3</td>\n",
              "      <td>ARGENTINA</td>\n",
              "      <td>1516</td>\n",
              "      <td>BUENOS AIRES</td>\n",
              "    </tr>\n",
              "    <tr>\n",
              "      <th>3</th>\n",
              "      <td>4</td>\n",
              "      <td>EUA</td>\n",
              "      <td>1585</td>\n",
              "      <td>St. Augustine</td>\n",
              "    </tr>\n",
              "  </tbody>\n",
              "</table>\n",
              "</div>"
            ],
            "text/plain": [
              "   key       name  founding_year           capital\n",
              "0    1     BRASIL           1500          SALVADOR\n",
              "1    2     MÉXICO           1519  CIDADE DO MÉXICO\n",
              "2    3  ARGENTINA           1516      BUENOS AIRES\n",
              "3    4        EUA           1585     St. Augustine"
            ]
          },
          "metadata": {
            "tags": []
          },
          "execution_count": 14
        }
      ]
    },
    {
      "cell_type": "markdown",
      "metadata": {
        "id": "ZtBBwjTzx4rZ"
      },
      "source": [
        "#### Inserimos também o país \"VENEZUELA\"."
      ]
    },
    {
      "cell_type": "code",
      "metadata": {
        "colab": {
          "base_uri": "https://localhost:8080/",
          "height": 204
        },
        "id": "k9-4Dg2Zx4rZ",
        "outputId": "8cf7dba3-f7de-44dc-c3c1-ffc25ea4fc1c"
      },
      "source": [
        "curs.execute(\"\"\"INSERT INTO countries  \n",
        "\n",
        "(name, founding_year, capital)\n",
        "\n",
        "VALUES \n",
        "\n",
        "('VENEZUELA', 1519, 'CARACAS')\n",
        ";\"\"\")\n",
        "\n",
        "conn.commit()\n",
        "\n",
        "query = \"SELECT * FROM countries;\"\n",
        "\n",
        "queryResult = pd.read_sql_query(query,db)\n",
        "\n",
        "queryResult.head()"
      ],
      "execution_count": 15,
      "outputs": [
        {
          "output_type": "execute_result",
          "data": {
            "text/html": [
              "<div>\n",
              "<style scoped>\n",
              "    .dataframe tbody tr th:only-of-type {\n",
              "        vertical-align: middle;\n",
              "    }\n",
              "\n",
              "    .dataframe tbody tr th {\n",
              "        vertical-align: top;\n",
              "    }\n",
              "\n",
              "    .dataframe thead th {\n",
              "        text-align: right;\n",
              "    }\n",
              "</style>\n",
              "<table border=\"1\" class=\"dataframe\">\n",
              "  <thead>\n",
              "    <tr style=\"text-align: right;\">\n",
              "      <th></th>\n",
              "      <th>key</th>\n",
              "      <th>name</th>\n",
              "      <th>founding_year</th>\n",
              "      <th>capital</th>\n",
              "    </tr>\n",
              "  </thead>\n",
              "  <tbody>\n",
              "    <tr>\n",
              "      <th>0</th>\n",
              "      <td>1</td>\n",
              "      <td>BRASIL</td>\n",
              "      <td>1500</td>\n",
              "      <td>SALVADOR</td>\n",
              "    </tr>\n",
              "    <tr>\n",
              "      <th>1</th>\n",
              "      <td>2</td>\n",
              "      <td>MÉXICO</td>\n",
              "      <td>1519</td>\n",
              "      <td>CIDADE DO MÉXICO</td>\n",
              "    </tr>\n",
              "    <tr>\n",
              "      <th>2</th>\n",
              "      <td>3</td>\n",
              "      <td>ARGENTINA</td>\n",
              "      <td>1516</td>\n",
              "      <td>BUENOS AIRES</td>\n",
              "    </tr>\n",
              "    <tr>\n",
              "      <th>3</th>\n",
              "      <td>4</td>\n",
              "      <td>EUA</td>\n",
              "      <td>1585</td>\n",
              "      <td>St. Augustine</td>\n",
              "    </tr>\n",
              "    <tr>\n",
              "      <th>4</th>\n",
              "      <td>5</td>\n",
              "      <td>VENEZUELA</td>\n",
              "      <td>1519</td>\n",
              "      <td>CARACAS</td>\n",
              "    </tr>\n",
              "  </tbody>\n",
              "</table>\n",
              "</div>"
            ],
            "text/plain": [
              "   key       name  founding_year           capital\n",
              "0    1     BRASIL           1500          SALVADOR\n",
              "1    2     MÉXICO           1519  CIDADE DO MÉXICO\n",
              "2    3  ARGENTINA           1516      BUENOS AIRES\n",
              "3    4        EUA           1585     St. Augustine\n",
              "4    5  VENEZUELA           1519           CARACAS"
            ]
          },
          "metadata": {
            "tags": []
          },
          "execution_count": 15
        }
      ]
    },
    {
      "cell_type": "markdown",
      "metadata": {
        "id": "BLGHcAPKx4rZ"
      },
      "source": [
        "#### Podemos também fazer uma atualização de valores na tabela criada."
      ]
    },
    {
      "cell_type": "code",
      "metadata": {
        "colab": {
          "base_uri": "https://localhost:8080/",
          "height": 204
        },
        "id": "EH10kgvCx4rZ",
        "outputId": "b905a3ce-1b19-47e0-b744-14fda623e58a"
      },
      "source": [
        "curs.execute(\"\"\"UPDATE countries  \n",
        "SET capital = 'BRASILIA'\n",
        "\n",
        "WHERE\n",
        "name = 'BRASIL' AND founding_year = 1500\n",
        "\n",
        ";\"\"\")\n",
        "conn.commit()\n",
        "\n",
        "query = \"SELECT * FROM countries;\"\n",
        "\n",
        "queryResult = pd.read_sql_query(query,db)\n",
        "\n",
        "queryResult.head()"
      ],
      "execution_count": 16,
      "outputs": [
        {
          "output_type": "execute_result",
          "data": {
            "text/html": [
              "<div>\n",
              "<style scoped>\n",
              "    .dataframe tbody tr th:only-of-type {\n",
              "        vertical-align: middle;\n",
              "    }\n",
              "\n",
              "    .dataframe tbody tr th {\n",
              "        vertical-align: top;\n",
              "    }\n",
              "\n",
              "    .dataframe thead th {\n",
              "        text-align: right;\n",
              "    }\n",
              "</style>\n",
              "<table border=\"1\" class=\"dataframe\">\n",
              "  <thead>\n",
              "    <tr style=\"text-align: right;\">\n",
              "      <th></th>\n",
              "      <th>key</th>\n",
              "      <th>name</th>\n",
              "      <th>founding_year</th>\n",
              "      <th>capital</th>\n",
              "    </tr>\n",
              "  </thead>\n",
              "  <tbody>\n",
              "    <tr>\n",
              "      <th>0</th>\n",
              "      <td>1</td>\n",
              "      <td>BRASIL</td>\n",
              "      <td>1500</td>\n",
              "      <td>BRASILIA</td>\n",
              "    </tr>\n",
              "    <tr>\n",
              "      <th>1</th>\n",
              "      <td>2</td>\n",
              "      <td>MÉXICO</td>\n",
              "      <td>1519</td>\n",
              "      <td>CIDADE DO MÉXICO</td>\n",
              "    </tr>\n",
              "    <tr>\n",
              "      <th>2</th>\n",
              "      <td>3</td>\n",
              "      <td>ARGENTINA</td>\n",
              "      <td>1516</td>\n",
              "      <td>BUENOS AIRES</td>\n",
              "    </tr>\n",
              "    <tr>\n",
              "      <th>3</th>\n",
              "      <td>4</td>\n",
              "      <td>EUA</td>\n",
              "      <td>1585</td>\n",
              "      <td>St. Augustine</td>\n",
              "    </tr>\n",
              "    <tr>\n",
              "      <th>4</th>\n",
              "      <td>5</td>\n",
              "      <td>VENEZUELA</td>\n",
              "      <td>1519</td>\n",
              "      <td>CARACAS</td>\n",
              "    </tr>\n",
              "  </tbody>\n",
              "</table>\n",
              "</div>"
            ],
            "text/plain": [
              "   key       name  founding_year           capital\n",
              "0    1     BRASIL           1500          BRASILIA\n",
              "1    2     MÉXICO           1519  CIDADE DO MÉXICO\n",
              "2    3  ARGENTINA           1516      BUENOS AIRES\n",
              "3    4        EUA           1585     St. Augustine\n",
              "4    5  VENEZUELA           1519           CARACAS"
            ]
          },
          "metadata": {
            "tags": []
          },
          "execution_count": 16
        }
      ]
    },
    {
      "cell_type": "markdown",
      "metadata": {
        "id": "n5v5JFn1x4rZ"
      },
      "source": [
        "#### É possível ainda excluir valores."
      ]
    },
    {
      "cell_type": "code",
      "metadata": {
        "colab": {
          "base_uri": "https://localhost:8080/",
          "height": 204
        },
        "id": "abTohGUwx4rZ",
        "outputId": "e229f532-49a7-4f4c-df89-894b4a1e934f"
      },
      "source": [
        "\n",
        "curs.execute(\"\"\"UPDATE countries  \n",
        "\n",
        "SET capital = NULL\n",
        "\n",
        "WHERE\n",
        "\n",
        "name = 'ARGENTINA'\n",
        "\n",
        ";\"\"\")\n",
        "conn.commit()\n",
        "\n",
        "query = \"SELECT * FROM countries;\"\n",
        "\n",
        "queryResult = pd.read_sql_query(query,db)\n",
        "\n",
        "queryResult.head()"
      ],
      "execution_count": 17,
      "outputs": [
        {
          "output_type": "execute_result",
          "data": {
            "text/html": [
              "<div>\n",
              "<style scoped>\n",
              "    .dataframe tbody tr th:only-of-type {\n",
              "        vertical-align: middle;\n",
              "    }\n",
              "\n",
              "    .dataframe tbody tr th {\n",
              "        vertical-align: top;\n",
              "    }\n",
              "\n",
              "    .dataframe thead th {\n",
              "        text-align: right;\n",
              "    }\n",
              "</style>\n",
              "<table border=\"1\" class=\"dataframe\">\n",
              "  <thead>\n",
              "    <tr style=\"text-align: right;\">\n",
              "      <th></th>\n",
              "      <th>key</th>\n",
              "      <th>name</th>\n",
              "      <th>founding_year</th>\n",
              "      <th>capital</th>\n",
              "    </tr>\n",
              "  </thead>\n",
              "  <tbody>\n",
              "    <tr>\n",
              "      <th>0</th>\n",
              "      <td>1</td>\n",
              "      <td>BRASIL</td>\n",
              "      <td>1500</td>\n",
              "      <td>BRASILIA</td>\n",
              "    </tr>\n",
              "    <tr>\n",
              "      <th>1</th>\n",
              "      <td>2</td>\n",
              "      <td>MÉXICO</td>\n",
              "      <td>1519</td>\n",
              "      <td>CIDADE DO MÉXICO</td>\n",
              "    </tr>\n",
              "    <tr>\n",
              "      <th>2</th>\n",
              "      <td>3</td>\n",
              "      <td>ARGENTINA</td>\n",
              "      <td>1516</td>\n",
              "      <td>None</td>\n",
              "    </tr>\n",
              "    <tr>\n",
              "      <th>3</th>\n",
              "      <td>4</td>\n",
              "      <td>EUA</td>\n",
              "      <td>1585</td>\n",
              "      <td>St. Augustine</td>\n",
              "    </tr>\n",
              "    <tr>\n",
              "      <th>4</th>\n",
              "      <td>5</td>\n",
              "      <td>VENEZUELA</td>\n",
              "      <td>1519</td>\n",
              "      <td>CARACAS</td>\n",
              "    </tr>\n",
              "  </tbody>\n",
              "</table>\n",
              "</div>"
            ],
            "text/plain": [
              "   key       name  founding_year           capital\n",
              "0    1     BRASIL           1500          BRASILIA\n",
              "1    2     MÉXICO           1519  CIDADE DO MÉXICO\n",
              "2    3  ARGENTINA           1516              None\n",
              "3    4        EUA           1585     St. Augustine\n",
              "4    5  VENEZUELA           1519           CARACAS"
            ]
          },
          "metadata": {
            "tags": []
          },
          "execution_count": 17
        }
      ]
    },
    {
      "cell_type": "markdown",
      "metadata": {
        "id": "4xxBqopvx4rZ"
      },
      "source": [
        "#### Ou também excluir uma linha inteira."
      ]
    },
    {
      "cell_type": "code",
      "metadata": {
        "colab": {
          "base_uri": "https://localhost:8080/",
          "height": 173
        },
        "id": "uy5wEGUvx4rZ",
        "outputId": "5c2d94dc-14ed-4fba-974a-f1b2d7d89343"
      },
      "source": [
        "curs.execute(\"\"\"DELETE FROM countries  \n",
        "\n",
        "WHERE\n",
        "name = 'ARGENTINA'\n",
        "\n",
        ";\"\"\")\n",
        "conn.commit()\n",
        "\n",
        "query = \"SELECT * FROM countries;\"\n",
        "\n",
        "queryResult = pd.read_sql_query(query,db)\n",
        "\n",
        "queryResult.head()"
      ],
      "execution_count": 18,
      "outputs": [
        {
          "output_type": "execute_result",
          "data": {
            "text/html": [
              "<div>\n",
              "<style scoped>\n",
              "    .dataframe tbody tr th:only-of-type {\n",
              "        vertical-align: middle;\n",
              "    }\n",
              "\n",
              "    .dataframe tbody tr th {\n",
              "        vertical-align: top;\n",
              "    }\n",
              "\n",
              "    .dataframe thead th {\n",
              "        text-align: right;\n",
              "    }\n",
              "</style>\n",
              "<table border=\"1\" class=\"dataframe\">\n",
              "  <thead>\n",
              "    <tr style=\"text-align: right;\">\n",
              "      <th></th>\n",
              "      <th>key</th>\n",
              "      <th>name</th>\n",
              "      <th>founding_year</th>\n",
              "      <th>capital</th>\n",
              "    </tr>\n",
              "  </thead>\n",
              "  <tbody>\n",
              "    <tr>\n",
              "      <th>0</th>\n",
              "      <td>1</td>\n",
              "      <td>BRASIL</td>\n",
              "      <td>1500</td>\n",
              "      <td>BRASILIA</td>\n",
              "    </tr>\n",
              "    <tr>\n",
              "      <th>1</th>\n",
              "      <td>2</td>\n",
              "      <td>MÉXICO</td>\n",
              "      <td>1519</td>\n",
              "      <td>CIDADE DO MÉXICO</td>\n",
              "    </tr>\n",
              "    <tr>\n",
              "      <th>2</th>\n",
              "      <td>4</td>\n",
              "      <td>EUA</td>\n",
              "      <td>1585</td>\n",
              "      <td>St. Augustine</td>\n",
              "    </tr>\n",
              "    <tr>\n",
              "      <th>3</th>\n",
              "      <td>5</td>\n",
              "      <td>VENEZUELA</td>\n",
              "      <td>1519</td>\n",
              "      <td>CARACAS</td>\n",
              "    </tr>\n",
              "  </tbody>\n",
              "</table>\n",
              "</div>"
            ],
            "text/plain": [
              "   key       name  founding_year           capital\n",
              "0    1     BRASIL           1500          BRASILIA\n",
              "1    2     MÉXICO           1519  CIDADE DO MÉXICO\n",
              "2    4        EUA           1585     St. Augustine\n",
              "3    5  VENEZUELA           1519           CARACAS"
            ]
          },
          "metadata": {
            "tags": []
          },
          "execution_count": 18
        }
      ]
    },
    {
      "cell_type": "markdown",
      "metadata": {
        "id": "FyTikIWlx4rZ"
      },
      "source": [
        "#### Para excluir uma tabela, usamos o comando [`DROP TABLE`](https://www.sqlitetutorial.net/sqlite-drop-table/)."
      ]
    },
    {
      "cell_type": "markdown",
      "metadata": {
        "id": "srMqFPXGx4ra"
      },
      "source": [
        "<img src=\"RobertDROPTABLEStudants.png\">"
      ]
    },
    {
      "cell_type": "code",
      "metadata": {
        "id": "P600IpFdx4ra"
      },
      "source": [
        "curs.execute(\"\"\"\n",
        "DROP TABLE countries;\"\"\")\n",
        "\n",
        "conn.commit()"
      ],
      "execution_count": 19,
      "outputs": []
    },
    {
      "cell_type": "code",
      "metadata": {
        "colab": {
          "base_uri": "https://localhost:8080/"
        },
        "id": "p-xebkHzx4ra",
        "outputId": "89f7af9e-e335-489f-bafd-afdf15e61e55"
      },
      "source": [
        "res = conn.execute(\"\"\"SELECT name \n",
        "FROM sqlite_master \n",
        "WHERE type = 'table'\n",
        ";\"\"\"\n",
        "                  )\n",
        "for name in res:\n",
        "    print (name[0])"
      ],
      "execution_count": 20,
      "outputs": [
        {
          "output_type": "stream",
          "text": [
            "my_table\n",
            "sqlite_sequence\n",
            "customers\n",
            "employees\n",
            "offices\n",
            "orderdetails\n",
            "orders\n",
            "payments\n",
            "productlines\n",
            "products\n"
          ],
          "name": "stdout"
        }
      ]
    },
    {
      "cell_type": "markdown",
      "metadata": {
        "id": "db31R-xcx4ra"
      },
      "source": [
        "## Vamos focar em ler dados de um banco relacional utilizando SQL\n",
        "\n",
        "#### A operação mais comum em um banco de dados é a leitura de dados e para isso precisamos escrever uma requisição, também conhecida como `QUERY`.\n",
        "\n",
        "Uma `query` é construída em etapas:\n",
        "\n",
        "1. [`SELECT`](https://www.sqlitetutorial.net/sqlite-select/) = irá iniciar a seleção de dados que faremos a leitura\n",
        "\n",
        "2. FROM = irá selecionar as tabelas de interesse\n",
        "\n",
        "3. [`WHERE`](https://www.sqlitetutorial.net/sqlite-where/) = vamos declarar as condições para ler os dados\n",
        "\n",
        "4. [`GROUP BY`](https://www.sqlitetutorial.net/sqlite-group-by/) = podemos agrupar algum dado considerando uma coluna \n",
        "\n",
        "5. Pós processamento = podemos ordenar ([`ORDER BY`](https://www.sqlitetutorial.net/sqlite-order-by/)) ou estabelecer limites ([`LIMIT`](https://www.sqlitetutorial.net/sqlite-limit/))\n",
        "\n"
      ]
    },
    {
      "cell_type": "markdown",
      "metadata": {
        "id": "p3Wt3dYjx4ra"
      },
      "source": [
        "## Vamos construir aos poucos nossa query"
      ]
    },
    {
      "cell_type": "code",
      "metadata": {
        "colab": {
          "base_uri": "https://localhost:8080/",
          "height": 326
        },
        "id": "fAvkkdoxx4rb",
        "outputId": "553ccee3-7e60-4a88-b9ae-82c6459a00d4"
      },
      "source": [
        "query = \"SELECT * FROM customers;\"\n",
        "\n",
        "queryResult = pd.read_sql_query(query, db)\n",
        "\n",
        "queryResult.head()"
      ],
      "execution_count": 21,
      "outputs": [
        {
          "output_type": "execute_result",
          "data": {
            "text/html": [
              "<div>\n",
              "<style scoped>\n",
              "    .dataframe tbody tr th:only-of-type {\n",
              "        vertical-align: middle;\n",
              "    }\n",
              "\n",
              "    .dataframe tbody tr th {\n",
              "        vertical-align: top;\n",
              "    }\n",
              "\n",
              "    .dataframe thead th {\n",
              "        text-align: right;\n",
              "    }\n",
              "</style>\n",
              "<table border=\"1\" class=\"dataframe\">\n",
              "  <thead>\n",
              "    <tr style=\"text-align: right;\">\n",
              "      <th></th>\n",
              "      <th>customerNumber</th>\n",
              "      <th>customerName</th>\n",
              "      <th>contactLastName</th>\n",
              "      <th>contactFirstName</th>\n",
              "      <th>phone</th>\n",
              "      <th>addressLine1</th>\n",
              "      <th>addressLine2</th>\n",
              "      <th>city</th>\n",
              "      <th>state</th>\n",
              "      <th>postalCode</th>\n",
              "      <th>country</th>\n",
              "      <th>salesRepEmployeeNumber</th>\n",
              "      <th>creditLimit</th>\n",
              "    </tr>\n",
              "  </thead>\n",
              "  <tbody>\n",
              "    <tr>\n",
              "      <th>0</th>\n",
              "      <td>103</td>\n",
              "      <td>Atelier graphique</td>\n",
              "      <td>Schmitt</td>\n",
              "      <td>Carine</td>\n",
              "      <td>40.32.2555</td>\n",
              "      <td>54, rue Royale</td>\n",
              "      <td>None</td>\n",
              "      <td>Nantes</td>\n",
              "      <td>None</td>\n",
              "      <td>44000</td>\n",
              "      <td>France</td>\n",
              "      <td>1370.0</td>\n",
              "      <td>21000</td>\n",
              "    </tr>\n",
              "    <tr>\n",
              "      <th>1</th>\n",
              "      <td>112</td>\n",
              "      <td>Signal Gift Stores</td>\n",
              "      <td>King</td>\n",
              "      <td>Jean</td>\n",
              "      <td>7025551838</td>\n",
              "      <td>8489 Strong St.</td>\n",
              "      <td>None</td>\n",
              "      <td>Las Vegas</td>\n",
              "      <td>NV</td>\n",
              "      <td>83030</td>\n",
              "      <td>USA</td>\n",
              "      <td>1166.0</td>\n",
              "      <td>71800</td>\n",
              "    </tr>\n",
              "    <tr>\n",
              "      <th>2</th>\n",
              "      <td>114</td>\n",
              "      <td>Australian Collectors, Co.</td>\n",
              "      <td>Ferguson</td>\n",
              "      <td>Peter</td>\n",
              "      <td>03 9520 4555</td>\n",
              "      <td>636 St Kilda Road</td>\n",
              "      <td>Level 3</td>\n",
              "      <td>Melbourne</td>\n",
              "      <td>Victoria</td>\n",
              "      <td>3004</td>\n",
              "      <td>Australia</td>\n",
              "      <td>1611.0</td>\n",
              "      <td>117300</td>\n",
              "    </tr>\n",
              "    <tr>\n",
              "      <th>3</th>\n",
              "      <td>119</td>\n",
              "      <td>La Rochelle Gifts</td>\n",
              "      <td>Labrune</td>\n",
              "      <td>Janine</td>\n",
              "      <td>40.67.8555</td>\n",
              "      <td>67, rue des Cinquante Otages</td>\n",
              "      <td>None</td>\n",
              "      <td>Nantes</td>\n",
              "      <td>None</td>\n",
              "      <td>44000</td>\n",
              "      <td>France</td>\n",
              "      <td>1370.0</td>\n",
              "      <td>118200</td>\n",
              "    </tr>\n",
              "    <tr>\n",
              "      <th>4</th>\n",
              "      <td>121</td>\n",
              "      <td>Baane Mini Imports</td>\n",
              "      <td>Bergulfsen</td>\n",
              "      <td>Jonas</td>\n",
              "      <td>07-98 9555</td>\n",
              "      <td>Erling Skakkes gate 78</td>\n",
              "      <td>None</td>\n",
              "      <td>Stavern</td>\n",
              "      <td>None</td>\n",
              "      <td>4110</td>\n",
              "      <td>Norway</td>\n",
              "      <td>1504.0</td>\n",
              "      <td>81700</td>\n",
              "    </tr>\n",
              "  </tbody>\n",
              "</table>\n",
              "</div>"
            ],
            "text/plain": [
              "   customerNumber  ... creditLimit\n",
              "0             103  ...       21000\n",
              "1             112  ...       71800\n",
              "2             114  ...      117300\n",
              "3             119  ...      118200\n",
              "4             121  ...       81700\n",
              "\n",
              "[5 rows x 13 columns]"
            ]
          },
          "metadata": {
            "tags": []
          },
          "execution_count": 21
        }
      ]
    },
    {
      "cell_type": "markdown",
      "metadata": {
        "id": "YdH8LPRox4rb"
      },
      "source": [
        "#### Vamos ler apenas algumas colunas específicas."
      ]
    },
    {
      "cell_type": "code",
      "metadata": {
        "colab": {
          "base_uri": "https://localhost:8080/",
          "height": 204
        },
        "id": "CkXW_Oo9x4rb",
        "outputId": "301fec45-6743-45d0-fa95-437e8c1f81e1"
      },
      "source": [
        "query = \"SELECT customerName, phone FROM customers;\"\n",
        "\n",
        "queryResult = pd.read_sql_query(query,db)\n",
        "\n",
        "queryResult.head()"
      ],
      "execution_count": 22,
      "outputs": [
        {
          "output_type": "execute_result",
          "data": {
            "text/html": [
              "<div>\n",
              "<style scoped>\n",
              "    .dataframe tbody tr th:only-of-type {\n",
              "        vertical-align: middle;\n",
              "    }\n",
              "\n",
              "    .dataframe tbody tr th {\n",
              "        vertical-align: top;\n",
              "    }\n",
              "\n",
              "    .dataframe thead th {\n",
              "        text-align: right;\n",
              "    }\n",
              "</style>\n",
              "<table border=\"1\" class=\"dataframe\">\n",
              "  <thead>\n",
              "    <tr style=\"text-align: right;\">\n",
              "      <th></th>\n",
              "      <th>customerName</th>\n",
              "      <th>phone</th>\n",
              "    </tr>\n",
              "  </thead>\n",
              "  <tbody>\n",
              "    <tr>\n",
              "      <th>0</th>\n",
              "      <td>Atelier graphique</td>\n",
              "      <td>40.32.2555</td>\n",
              "    </tr>\n",
              "    <tr>\n",
              "      <th>1</th>\n",
              "      <td>Signal Gift Stores</td>\n",
              "      <td>7025551838</td>\n",
              "    </tr>\n",
              "    <tr>\n",
              "      <th>2</th>\n",
              "      <td>Australian Collectors, Co.</td>\n",
              "      <td>03 9520 4555</td>\n",
              "    </tr>\n",
              "    <tr>\n",
              "      <th>3</th>\n",
              "      <td>La Rochelle Gifts</td>\n",
              "      <td>40.67.8555</td>\n",
              "    </tr>\n",
              "    <tr>\n",
              "      <th>4</th>\n",
              "      <td>Baane Mini Imports</td>\n",
              "      <td>07-98 9555</td>\n",
              "    </tr>\n",
              "  </tbody>\n",
              "</table>\n",
              "</div>"
            ],
            "text/plain": [
              "                 customerName         phone\n",
              "0           Atelier graphique    40.32.2555\n",
              "1          Signal Gift Stores    7025551838\n",
              "2  Australian Collectors, Co.  03 9520 4555\n",
              "3           La Rochelle Gifts    40.67.8555\n",
              "4          Baane Mini Imports    07-98 9555"
            ]
          },
          "metadata": {
            "tags": []
          },
          "execution_count": 22
        }
      ]
    },
    {
      "cell_type": "markdown",
      "metadata": {
        "id": "4VDaJ7Z5x4rb"
      },
      "source": [
        "#### Vamos utilizar pela primeira vez uma condição para fazer a leitura."
      ]
    },
    {
      "cell_type": "code",
      "metadata": {
        "colab": {
          "base_uri": "https://localhost:8080/",
          "height": 309
        },
        "id": "EhDWi8Iqx4rb",
        "outputId": "ea75f533-7394-4825-cc91-38ebcfb56fee"
      },
      "source": [
        "query = \"\"\"SELECT * \n",
        "          \n",
        "          FROM customers \n",
        "          \n",
        "          WHERE country = 'USA' ;\"\"\"\n",
        "\n",
        "query2 = pd.read_sql_query(query,db)\n",
        "\n",
        "query2.head()"
      ],
      "execution_count": 23,
      "outputs": [
        {
          "output_type": "execute_result",
          "data": {
            "text/html": [
              "<div>\n",
              "<style scoped>\n",
              "    .dataframe tbody tr th:only-of-type {\n",
              "        vertical-align: middle;\n",
              "    }\n",
              "\n",
              "    .dataframe tbody tr th {\n",
              "        vertical-align: top;\n",
              "    }\n",
              "\n",
              "    .dataframe thead th {\n",
              "        text-align: right;\n",
              "    }\n",
              "</style>\n",
              "<table border=\"1\" class=\"dataframe\">\n",
              "  <thead>\n",
              "    <tr style=\"text-align: right;\">\n",
              "      <th></th>\n",
              "      <th>customerNumber</th>\n",
              "      <th>customerName</th>\n",
              "      <th>contactLastName</th>\n",
              "      <th>contactFirstName</th>\n",
              "      <th>phone</th>\n",
              "      <th>addressLine1</th>\n",
              "      <th>addressLine2</th>\n",
              "      <th>city</th>\n",
              "      <th>state</th>\n",
              "      <th>postalCode</th>\n",
              "      <th>country</th>\n",
              "      <th>salesRepEmployeeNumber</th>\n",
              "      <th>creditLimit</th>\n",
              "    </tr>\n",
              "  </thead>\n",
              "  <tbody>\n",
              "    <tr>\n",
              "      <th>0</th>\n",
              "      <td>112</td>\n",
              "      <td>Signal Gift Stores</td>\n",
              "      <td>King</td>\n",
              "      <td>Jean</td>\n",
              "      <td>7025551838</td>\n",
              "      <td>8489 Strong St.</td>\n",
              "      <td>None</td>\n",
              "      <td>Las Vegas</td>\n",
              "      <td>NV</td>\n",
              "      <td>83030</td>\n",
              "      <td>USA</td>\n",
              "      <td>1166</td>\n",
              "      <td>71800</td>\n",
              "    </tr>\n",
              "    <tr>\n",
              "      <th>1</th>\n",
              "      <td>124</td>\n",
              "      <td>Mini Gifts Distributors Ltd.</td>\n",
              "      <td>Nelson</td>\n",
              "      <td>Susan</td>\n",
              "      <td>4155551450</td>\n",
              "      <td>5677 Strong St.</td>\n",
              "      <td>None</td>\n",
              "      <td>San Rafael</td>\n",
              "      <td>CA</td>\n",
              "      <td>97562</td>\n",
              "      <td>USA</td>\n",
              "      <td>1165</td>\n",
              "      <td>210500</td>\n",
              "    </tr>\n",
              "    <tr>\n",
              "      <th>2</th>\n",
              "      <td>129</td>\n",
              "      <td>Mini Wheels Co.</td>\n",
              "      <td>Murphy</td>\n",
              "      <td>Julie</td>\n",
              "      <td>6505555787</td>\n",
              "      <td>5557 North Pendale Street</td>\n",
              "      <td>None</td>\n",
              "      <td>San Francisco</td>\n",
              "      <td>CA</td>\n",
              "      <td>94217</td>\n",
              "      <td>USA</td>\n",
              "      <td>1165</td>\n",
              "      <td>64600</td>\n",
              "    </tr>\n",
              "    <tr>\n",
              "      <th>3</th>\n",
              "      <td>131</td>\n",
              "      <td>Land of Toys Inc.</td>\n",
              "      <td>Lee</td>\n",
              "      <td>Kwai</td>\n",
              "      <td>2125557818</td>\n",
              "      <td>897 Long Airport Avenue</td>\n",
              "      <td>None</td>\n",
              "      <td>NYC</td>\n",
              "      <td>NY</td>\n",
              "      <td>10022</td>\n",
              "      <td>USA</td>\n",
              "      <td>1323</td>\n",
              "      <td>114900</td>\n",
              "    </tr>\n",
              "    <tr>\n",
              "      <th>4</th>\n",
              "      <td>151</td>\n",
              "      <td>Muscle Machine Inc</td>\n",
              "      <td>Young</td>\n",
              "      <td>Jeff</td>\n",
              "      <td>2125557413</td>\n",
              "      <td>4092 Furth Circle</td>\n",
              "      <td>Suite 400</td>\n",
              "      <td>NYC</td>\n",
              "      <td>NY</td>\n",
              "      <td>10022</td>\n",
              "      <td>USA</td>\n",
              "      <td>1286</td>\n",
              "      <td>138500</td>\n",
              "    </tr>\n",
              "  </tbody>\n",
              "</table>\n",
              "</div>"
            ],
            "text/plain": [
              "   customerNumber  ... creditLimit\n",
              "0             112  ...       71800\n",
              "1             124  ...      210500\n",
              "2             129  ...       64600\n",
              "3             131  ...      114900\n",
              "4             151  ...      138500\n",
              "\n",
              "[5 rows x 13 columns]"
            ]
          },
          "metadata": {
            "tags": []
          },
          "execution_count": 23
        }
      ]
    },
    {
      "cell_type": "markdown",
      "metadata": {
        "id": "LUnGudzOx4rb"
      },
      "source": [
        "#### Agora uma condição composta."
      ]
    },
    {
      "cell_type": "code",
      "metadata": {
        "colab": {
          "base_uri": "https://localhost:8080/",
          "height": 326
        },
        "id": "DDPy3eiPx4rb",
        "outputId": "ba35daa8-04e3-4ad5-a5e1-c7075bc79991"
      },
      "source": [
        "query = \"\"\"SELECT * \n",
        "          \n",
        "          FROM customers \n",
        "          \n",
        "          WHERE country = 'USA' OR country = 'France';\"\"\"\n",
        "\n",
        "query2 = pd.read_sql_query(query,db)\n",
        "\n",
        "#query2.shape\n",
        "query2.head()"
      ],
      "execution_count": 24,
      "outputs": [
        {
          "output_type": "execute_result",
          "data": {
            "text/html": [
              "<div>\n",
              "<style scoped>\n",
              "    .dataframe tbody tr th:only-of-type {\n",
              "        vertical-align: middle;\n",
              "    }\n",
              "\n",
              "    .dataframe tbody tr th {\n",
              "        vertical-align: top;\n",
              "    }\n",
              "\n",
              "    .dataframe thead th {\n",
              "        text-align: right;\n",
              "    }\n",
              "</style>\n",
              "<table border=\"1\" class=\"dataframe\">\n",
              "  <thead>\n",
              "    <tr style=\"text-align: right;\">\n",
              "      <th></th>\n",
              "      <th>customerNumber</th>\n",
              "      <th>customerName</th>\n",
              "      <th>contactLastName</th>\n",
              "      <th>contactFirstName</th>\n",
              "      <th>phone</th>\n",
              "      <th>addressLine1</th>\n",
              "      <th>addressLine2</th>\n",
              "      <th>city</th>\n",
              "      <th>state</th>\n",
              "      <th>postalCode</th>\n",
              "      <th>country</th>\n",
              "      <th>salesRepEmployeeNumber</th>\n",
              "      <th>creditLimit</th>\n",
              "    </tr>\n",
              "  </thead>\n",
              "  <tbody>\n",
              "    <tr>\n",
              "      <th>0</th>\n",
              "      <td>103</td>\n",
              "      <td>Atelier graphique</td>\n",
              "      <td>Schmitt</td>\n",
              "      <td>Carine</td>\n",
              "      <td>40.32.2555</td>\n",
              "      <td>54, rue Royale</td>\n",
              "      <td>None</td>\n",
              "      <td>Nantes</td>\n",
              "      <td>None</td>\n",
              "      <td>44000</td>\n",
              "      <td>France</td>\n",
              "      <td>1370</td>\n",
              "      <td>21000</td>\n",
              "    </tr>\n",
              "    <tr>\n",
              "      <th>1</th>\n",
              "      <td>112</td>\n",
              "      <td>Signal Gift Stores</td>\n",
              "      <td>King</td>\n",
              "      <td>Jean</td>\n",
              "      <td>7025551838</td>\n",
              "      <td>8489 Strong St.</td>\n",
              "      <td>None</td>\n",
              "      <td>Las Vegas</td>\n",
              "      <td>NV</td>\n",
              "      <td>83030</td>\n",
              "      <td>USA</td>\n",
              "      <td>1166</td>\n",
              "      <td>71800</td>\n",
              "    </tr>\n",
              "    <tr>\n",
              "      <th>2</th>\n",
              "      <td>119</td>\n",
              "      <td>La Rochelle Gifts</td>\n",
              "      <td>Labrune</td>\n",
              "      <td>Janine</td>\n",
              "      <td>40.67.8555</td>\n",
              "      <td>67, rue des Cinquante Otages</td>\n",
              "      <td>None</td>\n",
              "      <td>Nantes</td>\n",
              "      <td>None</td>\n",
              "      <td>44000</td>\n",
              "      <td>France</td>\n",
              "      <td>1370</td>\n",
              "      <td>118200</td>\n",
              "    </tr>\n",
              "    <tr>\n",
              "      <th>3</th>\n",
              "      <td>124</td>\n",
              "      <td>Mini Gifts Distributors Ltd.</td>\n",
              "      <td>Nelson</td>\n",
              "      <td>Susan</td>\n",
              "      <td>4155551450</td>\n",
              "      <td>5677 Strong St.</td>\n",
              "      <td>None</td>\n",
              "      <td>San Rafael</td>\n",
              "      <td>CA</td>\n",
              "      <td>97562</td>\n",
              "      <td>USA</td>\n",
              "      <td>1165</td>\n",
              "      <td>210500</td>\n",
              "    </tr>\n",
              "    <tr>\n",
              "      <th>4</th>\n",
              "      <td>129</td>\n",
              "      <td>Mini Wheels Co.</td>\n",
              "      <td>Murphy</td>\n",
              "      <td>Julie</td>\n",
              "      <td>6505555787</td>\n",
              "      <td>5557 North Pendale Street</td>\n",
              "      <td>None</td>\n",
              "      <td>San Francisco</td>\n",
              "      <td>CA</td>\n",
              "      <td>94217</td>\n",
              "      <td>USA</td>\n",
              "      <td>1165</td>\n",
              "      <td>64600</td>\n",
              "    </tr>\n",
              "  </tbody>\n",
              "</table>\n",
              "</div>"
            ],
            "text/plain": [
              "   customerNumber  ... creditLimit\n",
              "0             103  ...       21000\n",
              "1             112  ...       71800\n",
              "2             119  ...      118200\n",
              "3             124  ...      210500\n",
              "4             129  ...       64600\n",
              "\n",
              "[5 rows x 13 columns]"
            ]
          },
          "metadata": {
            "tags": []
          },
          "execution_count": 24
        }
      ]
    },
    {
      "cell_type": "markdown",
      "metadata": {
        "id": "fYwQTicPx4rb"
      },
      "source": [
        "#### Podemos usar o comando [`NOT IN`](https://www.ramosdainformatica.com.br/banco_de_dados/sql-not-in-ou-not-exists/)"
      ]
    },
    {
      "cell_type": "code",
      "metadata": {
        "colab": {
          "base_uri": "https://localhost:8080/",
          "height": 394
        },
        "id": "_SI25Dadx4rb",
        "outputId": "087b856c-cc47-4fb0-a478-f01882f3ad06"
      },
      "source": [
        "query = \"\"\"SELECT * \n",
        "          \n",
        "          FROM customers \n",
        "          \n",
        "          WHERE country NOT IN ('USA', 'France');\"\"\"\n",
        "\n",
        "query2 = pd.read_sql_query(query,db)\n",
        "\n",
        "#query2.shape\n",
        "query2.head()"
      ],
      "execution_count": 25,
      "outputs": [
        {
          "output_type": "execute_result",
          "data": {
            "text/html": [
              "<div>\n",
              "<style scoped>\n",
              "    .dataframe tbody tr th:only-of-type {\n",
              "        vertical-align: middle;\n",
              "    }\n",
              "\n",
              "    .dataframe tbody tr th {\n",
              "        vertical-align: top;\n",
              "    }\n",
              "\n",
              "    .dataframe thead th {\n",
              "        text-align: right;\n",
              "    }\n",
              "</style>\n",
              "<table border=\"1\" class=\"dataframe\">\n",
              "  <thead>\n",
              "    <tr style=\"text-align: right;\">\n",
              "      <th></th>\n",
              "      <th>customerNumber</th>\n",
              "      <th>customerName</th>\n",
              "      <th>contactLastName</th>\n",
              "      <th>contactFirstName</th>\n",
              "      <th>phone</th>\n",
              "      <th>addressLine1</th>\n",
              "      <th>addressLine2</th>\n",
              "      <th>city</th>\n",
              "      <th>state</th>\n",
              "      <th>postalCode</th>\n",
              "      <th>country</th>\n",
              "      <th>salesRepEmployeeNumber</th>\n",
              "      <th>creditLimit</th>\n",
              "    </tr>\n",
              "  </thead>\n",
              "  <tbody>\n",
              "    <tr>\n",
              "      <th>0</th>\n",
              "      <td>114</td>\n",
              "      <td>Australian Collectors, Co.</td>\n",
              "      <td>Ferguson</td>\n",
              "      <td>Peter</td>\n",
              "      <td>03 9520 4555</td>\n",
              "      <td>636 St Kilda Road</td>\n",
              "      <td>Level 3</td>\n",
              "      <td>Melbourne</td>\n",
              "      <td>Victoria</td>\n",
              "      <td>3004</td>\n",
              "      <td>Australia</td>\n",
              "      <td>1611.0</td>\n",
              "      <td>117300</td>\n",
              "    </tr>\n",
              "    <tr>\n",
              "      <th>1</th>\n",
              "      <td>121</td>\n",
              "      <td>Baane Mini Imports</td>\n",
              "      <td>Bergulfsen</td>\n",
              "      <td>Jonas</td>\n",
              "      <td>07-98 9555</td>\n",
              "      <td>Erling Skakkes gate 78</td>\n",
              "      <td>None</td>\n",
              "      <td>Stavern</td>\n",
              "      <td>None</td>\n",
              "      <td>4110</td>\n",
              "      <td>Norway</td>\n",
              "      <td>1504.0</td>\n",
              "      <td>81700</td>\n",
              "    </tr>\n",
              "    <tr>\n",
              "      <th>2</th>\n",
              "      <td>125</td>\n",
              "      <td>Havel &amp; Zbyszek Co</td>\n",
              "      <td>Piestrzeniewicz</td>\n",
              "      <td>Zbyszek</td>\n",
              "      <td>(26) 642-7555</td>\n",
              "      <td>ul. Filtrowa 68</td>\n",
              "      <td>None</td>\n",
              "      <td>Warszawa</td>\n",
              "      <td>None</td>\n",
              "      <td>01-012</td>\n",
              "      <td>Poland</td>\n",
              "      <td>NaN</td>\n",
              "      <td>0</td>\n",
              "    </tr>\n",
              "    <tr>\n",
              "      <th>3</th>\n",
              "      <td>128</td>\n",
              "      <td>Blauer See Auto, Co.</td>\n",
              "      <td>Keitel</td>\n",
              "      <td>Roland</td>\n",
              "      <td>+49 69 66 90 2555</td>\n",
              "      <td>Lyonerstr. 34</td>\n",
              "      <td>None</td>\n",
              "      <td>Frankfurt</td>\n",
              "      <td>None</td>\n",
              "      <td>60528</td>\n",
              "      <td>Germany</td>\n",
              "      <td>1504.0</td>\n",
              "      <td>59700</td>\n",
              "    </tr>\n",
              "    <tr>\n",
              "      <th>4</th>\n",
              "      <td>141</td>\n",
              "      <td>Euro+ Shopping Channel</td>\n",
              "      <td>Freyre</td>\n",
              "      <td>Diego</td>\n",
              "      <td>(91) 555 94 44</td>\n",
              "      <td>C/ Moralzarzal, 86</td>\n",
              "      <td>None</td>\n",
              "      <td>Madrid</td>\n",
              "      <td>None</td>\n",
              "      <td>28034</td>\n",
              "      <td>Spain</td>\n",
              "      <td>1370.0</td>\n",
              "      <td>227600</td>\n",
              "    </tr>\n",
              "  </tbody>\n",
              "</table>\n",
              "</div>"
            ],
            "text/plain": [
              "   customerNumber  ... creditLimit\n",
              "0             114  ...      117300\n",
              "1             121  ...       81700\n",
              "2             125  ...           0\n",
              "3             128  ...       59700\n",
              "4             141  ...      227600\n",
              "\n",
              "[5 rows x 13 columns]"
            ]
          },
          "metadata": {
            "tags": []
          },
          "execution_count": 25
        }
      ]
    },
    {
      "cell_type": "markdown",
      "metadata": {
        "id": "4G6Q2xu3x4rb"
      },
      "source": [
        "#### Uma terceira seleção composta."
      ]
    },
    {
      "cell_type": "code",
      "metadata": {
        "colab": {
          "base_uri": "https://localhost:8080/",
          "height": 309
        },
        "id": "BC6KJljsx4rb",
        "outputId": "86ed5f84-b73a-4940-ee14-fa2b044a8384"
      },
      "source": [
        "query = \"\"\"SELECT * \n",
        "          \n",
        "          FROM customers \n",
        "          \n",
        "          WHERE country = 'USA' AND city = 'NYC';\"\"\"\n",
        "\n",
        "query2 = pd.read_sql_query(query,db)\n",
        "\n",
        "query2.head()"
      ],
      "execution_count": 26,
      "outputs": [
        {
          "output_type": "execute_result",
          "data": {
            "text/html": [
              "<div>\n",
              "<style scoped>\n",
              "    .dataframe tbody tr th:only-of-type {\n",
              "        vertical-align: middle;\n",
              "    }\n",
              "\n",
              "    .dataframe tbody tr th {\n",
              "        vertical-align: top;\n",
              "    }\n",
              "\n",
              "    .dataframe thead th {\n",
              "        text-align: right;\n",
              "    }\n",
              "</style>\n",
              "<table border=\"1\" class=\"dataframe\">\n",
              "  <thead>\n",
              "    <tr style=\"text-align: right;\">\n",
              "      <th></th>\n",
              "      <th>customerNumber</th>\n",
              "      <th>customerName</th>\n",
              "      <th>contactLastName</th>\n",
              "      <th>contactFirstName</th>\n",
              "      <th>phone</th>\n",
              "      <th>addressLine1</th>\n",
              "      <th>addressLine2</th>\n",
              "      <th>city</th>\n",
              "      <th>state</th>\n",
              "      <th>postalCode</th>\n",
              "      <th>country</th>\n",
              "      <th>salesRepEmployeeNumber</th>\n",
              "      <th>creditLimit</th>\n",
              "    </tr>\n",
              "  </thead>\n",
              "  <tbody>\n",
              "    <tr>\n",
              "      <th>0</th>\n",
              "      <td>131</td>\n",
              "      <td>Land of Toys Inc.</td>\n",
              "      <td>Lee</td>\n",
              "      <td>Kwai</td>\n",
              "      <td>2125557818</td>\n",
              "      <td>897 Long Airport Avenue</td>\n",
              "      <td>None</td>\n",
              "      <td>NYC</td>\n",
              "      <td>NY</td>\n",
              "      <td>10022</td>\n",
              "      <td>USA</td>\n",
              "      <td>1323</td>\n",
              "      <td>114900</td>\n",
              "    </tr>\n",
              "    <tr>\n",
              "      <th>1</th>\n",
              "      <td>151</td>\n",
              "      <td>Muscle Machine Inc</td>\n",
              "      <td>Young</td>\n",
              "      <td>Jeff</td>\n",
              "      <td>2125557413</td>\n",
              "      <td>4092 Furth Circle</td>\n",
              "      <td>Suite 400</td>\n",
              "      <td>NYC</td>\n",
              "      <td>NY</td>\n",
              "      <td>10022</td>\n",
              "      <td>USA</td>\n",
              "      <td>1286</td>\n",
              "      <td>138500</td>\n",
              "    </tr>\n",
              "    <tr>\n",
              "      <th>2</th>\n",
              "      <td>181</td>\n",
              "      <td>Vitachrome Inc.</td>\n",
              "      <td>Frick</td>\n",
              "      <td>Michael</td>\n",
              "      <td>2125551500</td>\n",
              "      <td>2678 Kingston Rd.</td>\n",
              "      <td>Suite 101</td>\n",
              "      <td>NYC</td>\n",
              "      <td>NY</td>\n",
              "      <td>10022</td>\n",
              "      <td>USA</td>\n",
              "      <td>1286</td>\n",
              "      <td>76400</td>\n",
              "    </tr>\n",
              "    <tr>\n",
              "      <th>3</th>\n",
              "      <td>424</td>\n",
              "      <td>Classic Legends Inc.</td>\n",
              "      <td>Hernandez</td>\n",
              "      <td>Maria</td>\n",
              "      <td>2125558493</td>\n",
              "      <td>5905 Pompton St.</td>\n",
              "      <td>Suite 750</td>\n",
              "      <td>NYC</td>\n",
              "      <td>NY</td>\n",
              "      <td>10022</td>\n",
              "      <td>USA</td>\n",
              "      <td>1286</td>\n",
              "      <td>67500</td>\n",
              "    </tr>\n",
              "    <tr>\n",
              "      <th>4</th>\n",
              "      <td>456</td>\n",
              "      <td>Microscale Inc.</td>\n",
              "      <td>Choi</td>\n",
              "      <td>Yu</td>\n",
              "      <td>2125551957</td>\n",
              "      <td>5290 North Pendale Street</td>\n",
              "      <td>Suite 200</td>\n",
              "      <td>NYC</td>\n",
              "      <td>NY</td>\n",
              "      <td>10022</td>\n",
              "      <td>USA</td>\n",
              "      <td>1286</td>\n",
              "      <td>39800</td>\n",
              "    </tr>\n",
              "  </tbody>\n",
              "</table>\n",
              "</div>"
            ],
            "text/plain": [
              "   customerNumber          customerName  ... salesRepEmployeeNumber creditLimit\n",
              "0             131     Land of Toys Inc.  ...                   1323      114900\n",
              "1             151    Muscle Machine Inc  ...                   1286      138500\n",
              "2             181       Vitachrome Inc.  ...                   1286       76400\n",
              "3             424  Classic Legends Inc.  ...                   1286       67500\n",
              "4             456       Microscale Inc.  ...                   1286       39800\n",
              "\n",
              "[5 rows x 13 columns]"
            ]
          },
          "metadata": {
            "tags": []
          },
          "execution_count": 26
        }
      ]
    },
    {
      "cell_type": "markdown",
      "metadata": {
        "id": "3BJ06AJWx4rb"
      },
      "source": [
        "#### Para o caso de termos mais de uma tabela e quisermos ler apenas algumas colunas de cada tabela, utilzamos o [`JOIN`](https://www.sqlitetutorial.net/sqlite-join/)."
      ]
    },
    {
      "cell_type": "code",
      "metadata": {
        "colab": {
          "base_uri": "https://localhost:8080/",
          "height": 204
        },
        "id": "vINiqNTNx4rb",
        "outputId": "e95a863d-6b05-40eb-f4c8-7e94bbe816a8"
      },
      "source": [
        "query = \"\"\"SELECT\n",
        "    o.priceEach,\n",
        "    p.productCode,\n",
        "    p.productName\n",
        "    \n",
        "    FROM \n",
        "    orderdetails AS o INNER JOIN products AS p\n",
        "/*\n",
        "    orderdetails AS o,products AS p    \n",
        "*/\n",
        "    \n",
        "    WHERE\n",
        "    o.productCode=p.productCode;\"\"\"\n",
        "\n",
        "queryResult = pd.read_sql_query(query,db)\n",
        "\n",
        "#queryResult.shape\n",
        "queryResult.head()"
      ],
      "execution_count": 27,
      "outputs": [
        {
          "output_type": "execute_result",
          "data": {
            "text/html": [
              "<div>\n",
              "<style scoped>\n",
              "    .dataframe tbody tr th:only-of-type {\n",
              "        vertical-align: middle;\n",
              "    }\n",
              "\n",
              "    .dataframe tbody tr th {\n",
              "        vertical-align: top;\n",
              "    }\n",
              "\n",
              "    .dataframe thead th {\n",
              "        text-align: right;\n",
              "    }\n",
              "</style>\n",
              "<table border=\"1\" class=\"dataframe\">\n",
              "  <thead>\n",
              "    <tr style=\"text-align: right;\">\n",
              "      <th></th>\n",
              "      <th>priceEach</th>\n",
              "      <th>productCode</th>\n",
              "      <th>productName</th>\n",
              "    </tr>\n",
              "  </thead>\n",
              "  <tbody>\n",
              "    <tr>\n",
              "      <th>0</th>\n",
              "      <td>136.00</td>\n",
              "      <td>S18_1749</td>\n",
              "      <td>1917 Grand Touring Sedan</td>\n",
              "    </tr>\n",
              "    <tr>\n",
              "      <th>1</th>\n",
              "      <td>55.09</td>\n",
              "      <td>S18_2248</td>\n",
              "      <td>1911 Ford Town Car</td>\n",
              "    </tr>\n",
              "    <tr>\n",
              "      <th>2</th>\n",
              "      <td>75.46</td>\n",
              "      <td>S18_4409</td>\n",
              "      <td>1932 Alfa Romeo 8C2300 Spider Sport</td>\n",
              "    </tr>\n",
              "    <tr>\n",
              "      <th>3</th>\n",
              "      <td>35.29</td>\n",
              "      <td>S24_3969</td>\n",
              "      <td>1936 Mercedes Benz 500k Roadster</td>\n",
              "    </tr>\n",
              "    <tr>\n",
              "      <th>4</th>\n",
              "      <td>108.06</td>\n",
              "      <td>S18_2325</td>\n",
              "      <td>1932 Model A Ford J-Coupe</td>\n",
              "    </tr>\n",
              "  </tbody>\n",
              "</table>\n",
              "</div>"
            ],
            "text/plain": [
              "   priceEach productCode                          productName\n",
              "0     136.00    S18_1749             1917 Grand Touring Sedan\n",
              "1      55.09    S18_2248                   1911 Ford Town Car\n",
              "2      75.46    S18_4409  1932 Alfa Romeo 8C2300 Spider Sport\n",
              "3      35.29    S24_3969     1936 Mercedes Benz 500k Roadster\n",
              "4     108.06    S18_2325            1932 Model A Ford J-Coupe"
            ]
          },
          "metadata": {
            "tags": []
          },
          "execution_count": 27
        }
      ]
    },
    {
      "cell_type": "markdown",
      "metadata": {
        "id": "Jjgs8VM6x4rc"
      },
      "source": [
        "#### Para ordenar as linhas pelos valores de uma coluna em ordem decrescente devemos utilizar o comando [`DESC`](https://www.tutorialspoint.com/sqlite/sqlite_order_by.htm) após a coluna de referência."
      ]
    },
    {
      "cell_type": "code",
      "metadata": {
        "colab": {
          "base_uri": "https://localhost:8080/",
          "height": 204
        },
        "id": "efG41KT-x4rc",
        "outputId": "8f216a13-aa2d-45f5-8e53-235cb497c99a"
      },
      "source": [
        "\n",
        "query = \"\"\"SELECT\n",
        "    o.priceEach,\n",
        "    p.productCode,\n",
        "    p.productName\n",
        "    \n",
        "    FROM \n",
        "    orderdetails AS o, products AS p\n",
        "    \n",
        "    WHERE\n",
        "    o.productCode = p.productCode\n",
        "    \n",
        "    ORDER BY\n",
        "    o.priceEach DESC;\"\"\"\n",
        "\n",
        "queryResult = pd.read_sql_query(query,db)\n",
        "\n",
        "#queryResult.shape\n",
        "queryResult.head()"
      ],
      "execution_count": 28,
      "outputs": [
        {
          "output_type": "execute_result",
          "data": {
            "text/html": [
              "<div>\n",
              "<style scoped>\n",
              "    .dataframe tbody tr th:only-of-type {\n",
              "        vertical-align: middle;\n",
              "    }\n",
              "\n",
              "    .dataframe tbody tr th {\n",
              "        vertical-align: top;\n",
              "    }\n",
              "\n",
              "    .dataframe thead th {\n",
              "        text-align: right;\n",
              "    }\n",
              "</style>\n",
              "<table border=\"1\" class=\"dataframe\">\n",
              "  <thead>\n",
              "    <tr style=\"text-align: right;\">\n",
              "      <th></th>\n",
              "      <th>priceEach</th>\n",
              "      <th>productCode</th>\n",
              "      <th>productName</th>\n",
              "    </tr>\n",
              "  </thead>\n",
              "  <tbody>\n",
              "    <tr>\n",
              "      <th>0</th>\n",
              "      <td>214.30</td>\n",
              "      <td>S10_1949</td>\n",
              "      <td>1952 Alpine Renault 1300</td>\n",
              "    </tr>\n",
              "    <tr>\n",
              "      <th>1</th>\n",
              "      <td>214.30</td>\n",
              "      <td>S10_1949</td>\n",
              "      <td>1952 Alpine Renault 1300</td>\n",
              "    </tr>\n",
              "    <tr>\n",
              "      <th>2</th>\n",
              "      <td>214.30</td>\n",
              "      <td>S10_1949</td>\n",
              "      <td>1952 Alpine Renault 1300</td>\n",
              "    </tr>\n",
              "    <tr>\n",
              "      <th>3</th>\n",
              "      <td>212.16</td>\n",
              "      <td>S10_1949</td>\n",
              "      <td>1952 Alpine Renault 1300</td>\n",
              "    </tr>\n",
              "    <tr>\n",
              "      <th>4</th>\n",
              "      <td>210.01</td>\n",
              "      <td>S10_1949</td>\n",
              "      <td>1952 Alpine Renault 1300</td>\n",
              "    </tr>\n",
              "  </tbody>\n",
              "</table>\n",
              "</div>"
            ],
            "text/plain": [
              "   priceEach productCode               productName\n",
              "0     214.30    S10_1949  1952 Alpine Renault 1300\n",
              "1     214.30    S10_1949  1952 Alpine Renault 1300\n",
              "2     214.30    S10_1949  1952 Alpine Renault 1300\n",
              "3     212.16    S10_1949  1952 Alpine Renault 1300\n",
              "4     210.01    S10_1949  1952 Alpine Renault 1300"
            ]
          },
          "metadata": {
            "tags": []
          },
          "execution_count": 28
        }
      ]
    },
    {
      "cell_type": "markdown",
      "metadata": {
        "id": "fsCr3PjRx4rc"
      },
      "source": [
        "#### O comando [`GROUP BY`](https://www.sqlitetutorial.net/sqlite-group-by/) é utilizado para agrupar um conjunto de linhas em acordo com um determinado atributo comum. Se usado em conjunto com o[`Order by`](https://www.sqlitetutorial.net/sqlite-order-by/), deve-se lembrar que order by segue group by em [ordem de operação](https://learnsql.com/blog/sql-order-of-operations/#:~:text=Six%20Operations%20to%20Order%3A%20SELECT,developer%20to%20know%20this%20order.)."
      ]
    },
    {
      "cell_type": "code",
      "metadata": {
        "colab": {
          "base_uri": "https://localhost:8080/",
          "height": 204
        },
        "id": "x82yzunRx4rc",
        "outputId": "b4017801-f729-4225-e42c-16ca8242c144"
      },
      "source": [
        "query = \"\"\"SELECT\n",
        "    p.productVendor AS Vendedor,\n",
        "    SUM(o.priceEach*o.quantityOrdered) AS 'VendaTotal'\n",
        "    \n",
        "    FROM \n",
        "    orderdetails AS o, products AS p\n",
        "    \n",
        "    WHERE\n",
        "    o.productCode = p.productCode\n",
        "    \n",
        "    GROUP BY\n",
        "    p.productVendor\n",
        "    \n",
        "    ORDER BY\n",
        "    VendaTotal;\"\"\"\n",
        "\n",
        "queryResult = pd.read_sql_query(query,db)\n",
        "\n",
        "queryResult.head()"
      ],
      "execution_count": 29,
      "outputs": [
        {
          "output_type": "execute_result",
          "data": {
            "text/html": [
              "<div>\n",
              "<style scoped>\n",
              "    .dataframe tbody tr th:only-of-type {\n",
              "        vertical-align: middle;\n",
              "    }\n",
              "\n",
              "    .dataframe tbody tr th {\n",
              "        vertical-align: top;\n",
              "    }\n",
              "\n",
              "    .dataframe thead th {\n",
              "        text-align: right;\n",
              "    }\n",
              "</style>\n",
              "<table border=\"1\" class=\"dataframe\">\n",
              "  <thead>\n",
              "    <tr style=\"text-align: right;\">\n",
              "      <th></th>\n",
              "      <th>Vendedor</th>\n",
              "      <th>VendaTotal</th>\n",
              "    </tr>\n",
              "  </thead>\n",
              "  <tbody>\n",
              "    <tr>\n",
              "      <th>0</th>\n",
              "      <td>Studio M Art Models</td>\n",
              "      <td>474426.49</td>\n",
              "    </tr>\n",
              "    <tr>\n",
              "      <th>1</th>\n",
              "      <td>Red Start Diecast</td>\n",
              "      <td>655487.61</td>\n",
              "    </tr>\n",
              "    <tr>\n",
              "      <th>2</th>\n",
              "      <td>Highway 66 Mini Classics</td>\n",
              "      <td>664508.39</td>\n",
              "    </tr>\n",
              "    <tr>\n",
              "      <th>3</th>\n",
              "      <td>Carousel DieCast Legends</td>\n",
              "      <td>667190.00</td>\n",
              "    </tr>\n",
              "    <tr>\n",
              "      <th>4</th>\n",
              "      <td>Min Lin Diecast</td>\n",
              "      <td>680657.99</td>\n",
              "    </tr>\n",
              "  </tbody>\n",
              "</table>\n",
              "</div>"
            ],
            "text/plain": [
              "                   Vendedor  VendaTotal\n",
              "0       Studio M Art Models   474426.49\n",
              "1         Red Start Diecast   655487.61\n",
              "2  Highway 66 Mini Classics   664508.39\n",
              "3  Carousel DieCast Legends   667190.00\n",
              "4           Min Lin Diecast   680657.99"
            ]
          },
          "metadata": {
            "tags": []
          },
          "execution_count": 29
        }
      ]
    },
    {
      "cell_type": "markdown",
      "metadata": {
        "id": "MeNEKViQx4rc"
      },
      "source": [
        "#### Podemos realizar a contagem de valores com o comando  [`COUNT`](https://www.sqlitetutorial.net/sqlite-count-function/)."
      ]
    },
    {
      "cell_type": "code",
      "metadata": {
        "colab": {
          "base_uri": "https://localhost:8080/",
          "height": 204
        },
        "id": "4xnlEcfLx4rc",
        "outputId": "f1ef2c76-101d-4540-f145-112e46b780d9"
      },
      "source": [
        "query = \"\"\"SELECT\n",
        "    p.productVendor AS Vendedor,\n",
        "    COUNT(p.productVendor) AS 'TotalRegistro'\n",
        "    \n",
        "    FROM \n",
        "    products AS p\n",
        "    \n",
        "    GROUP BY\n",
        "    p.productVendor\n",
        "    \n",
        "    ORDER BY\n",
        "    TotalRegistro;\"\"\"\n",
        "\n",
        "queryResult = pd.read_sql_query(query,db)\n",
        "\n",
        "queryResult.head()"
      ],
      "execution_count": 30,
      "outputs": [
        {
          "output_type": "execute_result",
          "data": {
            "text/html": [
              "<div>\n",
              "<style scoped>\n",
              "    .dataframe tbody tr th:only-of-type {\n",
              "        vertical-align: middle;\n",
              "    }\n",
              "\n",
              "    .dataframe tbody tr th {\n",
              "        vertical-align: top;\n",
              "    }\n",
              "\n",
              "    .dataframe thead th {\n",
              "        text-align: right;\n",
              "    }\n",
              "</style>\n",
              "<table border=\"1\" class=\"dataframe\">\n",
              "  <thead>\n",
              "    <tr style=\"text-align: right;\">\n",
              "      <th></th>\n",
              "      <th>Vendedor</th>\n",
              "      <th>TotalRegistro</th>\n",
              "    </tr>\n",
              "  </thead>\n",
              "  <tbody>\n",
              "    <tr>\n",
              "      <th>0</th>\n",
              "      <td>Red Start Diecast</td>\n",
              "      <td>7</td>\n",
              "    </tr>\n",
              "    <tr>\n",
              "      <th>1</th>\n",
              "      <td>Autoart Studio Design</td>\n",
              "      <td>8</td>\n",
              "    </tr>\n",
              "    <tr>\n",
              "      <th>2</th>\n",
              "      <td>Min Lin Diecast</td>\n",
              "      <td>8</td>\n",
              "    </tr>\n",
              "    <tr>\n",
              "      <th>3</th>\n",
              "      <td>Second Gear Diecast</td>\n",
              "      <td>8</td>\n",
              "    </tr>\n",
              "    <tr>\n",
              "      <th>4</th>\n",
              "      <td>Studio M Art Models</td>\n",
              "      <td>8</td>\n",
              "    </tr>\n",
              "  </tbody>\n",
              "</table>\n",
              "</div>"
            ],
            "text/plain": [
              "                Vendedor  TotalRegistro\n",
              "0      Red Start Diecast              7\n",
              "1  Autoart Studio Design              8\n",
              "2        Min Lin Diecast              8\n",
              "3    Second Gear Diecast              8\n",
              "4    Studio M Art Models              8"
            ]
          },
          "metadata": {
            "tags": []
          },
          "execution_count": 30
        }
      ]
    },
    {
      "cell_type": "markdown",
      "metadata": {
        "id": "wXArL9Vpx4rc"
      },
      "source": [
        "## Lista completa de agregações \n",
        "\n",
        "<img src=\"list_aggregation.png\">"
      ]
    },
    {
      "cell_type": "markdown",
      "metadata": {
        "id": "OViAHtGpx4rc"
      },
      "source": [
        "#### O comando [`HAVING`](https://www.sqlitetutorial.net/sqlite-having/) é usado para especificar uma condição de pesquisa para um grupo."
      ]
    },
    {
      "cell_type": "code",
      "metadata": {
        "colab": {
          "base_uri": "https://localhost:8080/",
          "height": 0
        },
        "id": "YSEkBXdix4rc",
        "outputId": "84bc23cd-4c51-4eb8-b0b6-3b05e5ac3238"
      },
      "source": [
        "\n",
        "query = \"\"\"SELECT\n",
        "    p.productVendor AS Vendedor,\n",
        "    SUM(o.priceEach*o.quantityOrdered) AS 'VendaTotal'\n",
        "    \n",
        "    FROM \n",
        "    orderdetails AS o INNER JOIN products AS p\n",
        "    \n",
        "    WHERE\n",
        "    o.productCode = p.productCode\n",
        "    \n",
        "    GROUP BY\n",
        "    p.productVendor\n",
        "    \n",
        "    HAVING\n",
        "    o.quantityOrdered < 30\n",
        "    \n",
        "    ORDER BY\n",
        "    VendaTotal DESC\n",
        "    ;\"\"\"\n",
        "\n",
        "queryResult = pd.read_sql_query(query,db)\n",
        "\n",
        "queryResult"
      ],
      "execution_count": 31,
      "outputs": [
        {
          "output_type": "execute_result",
          "data": {
            "text/html": [
              "<div>\n",
              "<style scoped>\n",
              "    .dataframe tbody tr th:only-of-type {\n",
              "        vertical-align: middle;\n",
              "    }\n",
              "\n",
              "    .dataframe tbody tr th {\n",
              "        vertical-align: top;\n",
              "    }\n",
              "\n",
              "    .dataframe thead th {\n",
              "        text-align: right;\n",
              "    }\n",
              "</style>\n",
              "<table border=\"1\" class=\"dataframe\">\n",
              "  <thead>\n",
              "    <tr style=\"text-align: right;\">\n",
              "      <th></th>\n",
              "      <th>Vendedor</th>\n",
              "      <th>VendaTotal</th>\n",
              "    </tr>\n",
              "  </thead>\n",
              "  <tbody>\n",
              "    <tr>\n",
              "      <th>0</th>\n",
              "      <td>Classic Metal Creations</td>\n",
              "      <td>934554.42</td>\n",
              "    </tr>\n",
              "    <tr>\n",
              "      <th>1</th>\n",
              "      <td>Unimax Art Galleries</td>\n",
              "      <td>884167.33</td>\n",
              "    </tr>\n",
              "    <tr>\n",
              "      <th>2</th>\n",
              "      <td>Gearbox Collectibles</td>\n",
              "      <td>828013.76</td>\n",
              "    </tr>\n",
              "    <tr>\n",
              "      <th>3</th>\n",
              "      <td>Highway 66 Mini Classics</td>\n",
              "      <td>664508.39</td>\n",
              "    </tr>\n",
              "    <tr>\n",
              "      <th>4</th>\n",
              "      <td>Studio M Art Models</td>\n",
              "      <td>474426.49</td>\n",
              "    </tr>\n",
              "  </tbody>\n",
              "</table>\n",
              "</div>"
            ],
            "text/plain": [
              "                   Vendedor  VendaTotal\n",
              "0   Classic Metal Creations   934554.42\n",
              "1      Unimax Art Galleries   884167.33\n",
              "2      Gearbox Collectibles   828013.76\n",
              "3  Highway 66 Mini Classics   664508.39\n",
              "4       Studio M Art Models   474426.49"
            ]
          },
          "metadata": {
            "tags": []
          },
          "execution_count": 31
        }
      ]
    },
    {
      "cell_type": "markdown",
      "metadata": {
        "id": "O2XJTj__x4rc"
      },
      "source": [
        "#### Podemos limitar a quantidade de linhas que serão lidas com o commando [`LIMIT`](https://www.sqlitetutorial.net/sqlite-limit/)."
      ]
    },
    {
      "cell_type": "code",
      "metadata": {
        "colab": {
          "base_uri": "https://localhost:8080/",
          "height": 0
        },
        "id": "dT9fpospx4rc",
        "outputId": "62285e0d-dfd9-498a-b53f-13061fc1f862"
      },
      "source": [
        "query = \"\"\"SELECT\n",
        "    p.productVendor AS Vendedor,\n",
        "    SUM(o.priceEach*o.quantityOrdered) AS 'VendaTotal'\n",
        "    \n",
        "    FROM \n",
        "    orderdetails AS o, products AS p\n",
        "    \n",
        "    WHERE\n",
        "    o.productCode=p.productCode\n",
        "    \n",
        "    GROUP BY\n",
        "    p.productVendor\n",
        "    \n",
        "    ORDER BY\n",
        "    VendaTotal DESC\n",
        "    \n",
        "    LIMIT\n",
        "    3;\"\"\"\n",
        "\n",
        "queryResult = pd.read_sql_query(query,db)\n",
        "\n",
        "queryResult"
      ],
      "execution_count": 32,
      "outputs": [
        {
          "output_type": "execute_result",
          "data": {
            "text/html": [
              "<div>\n",
              "<style scoped>\n",
              "    .dataframe tbody tr th:only-of-type {\n",
              "        vertical-align: middle;\n",
              "    }\n",
              "\n",
              "    .dataframe tbody tr th {\n",
              "        vertical-align: top;\n",
              "    }\n",
              "\n",
              "    .dataframe thead th {\n",
              "        text-align: right;\n",
              "    }\n",
              "</style>\n",
              "<table border=\"1\" class=\"dataframe\">\n",
              "  <thead>\n",
              "    <tr style=\"text-align: right;\">\n",
              "      <th></th>\n",
              "      <th>Vendedor</th>\n",
              "      <th>VendaTotal</th>\n",
              "    </tr>\n",
              "  </thead>\n",
              "  <tbody>\n",
              "    <tr>\n",
              "      <th>0</th>\n",
              "      <td>Classic Metal Creations</td>\n",
              "      <td>934554.42</td>\n",
              "    </tr>\n",
              "    <tr>\n",
              "      <th>1</th>\n",
              "      <td>Unimax Art Galleries</td>\n",
              "      <td>884167.33</td>\n",
              "    </tr>\n",
              "    <tr>\n",
              "      <th>2</th>\n",
              "      <td>Gearbox Collectibles</td>\n",
              "      <td>828013.76</td>\n",
              "    </tr>\n",
              "  </tbody>\n",
              "</table>\n",
              "</div>"
            ],
            "text/plain": [
              "                  Vendedor  VendaTotal\n",
              "0  Classic Metal Creations   934554.42\n",
              "1     Unimax Art Galleries   884167.33\n",
              "2     Gearbox Collectibles   828013.76"
            ]
          },
          "metadata": {
            "tags": []
          },
          "execution_count": 32
        }
      ]
    },
    {
      "cell_type": "markdown",
      "metadata": {
        "id": "jy8Q1Qw0x4rc"
      },
      "source": [
        "## SQLite com Pandas\n",
        "\n",
        "###  <span style = \"color:blue\">Prática independente.</span>\n",
        "\n",
        "#### Agora começamos a fazer queries:"
      ]
    },
    {
      "cell_type": "markdown",
      "metadata": {
        "id": "SV2c3x0Ox4rc"
      },
      "source": [
        "## Lista de funcionários por chefe.\n",
        "\n",
        "```SQL\n",
        "JUNTE E COMBINE TODOS AS LINHAS DAS TABELAS\n",
        "   employees e1,\n",
        "   employees e2\n",
        "\n",
        "PEGUE SÓ LINHAS QUE OBEDEÇAM AO CRITÉRIO\n",
        "   e1.reportsTo = e2.employeeNumber\n",
        "\n",
        "MOSTRE AS COLUNAS\n",
        "   e2.firstName||' '||e2.lastName AS boss,\n",
        "   e2.jobTitle                    AS department,\n",
        "   e1.employeeNumber              AS ID,\n",
        "   e1.firstName||' '||e1.lastName AS employee\n",
        "\n",
        "ORDENE POR\n",
        "   boss\n",
        "```"
      ]
    },
    {
      "cell_type": "code",
      "metadata": {
        "colab": {
          "base_uri": "https://localhost:8080/",
          "height": 204
        },
        "id": "nMJJ8jq5x4rc",
        "outputId": "6db8b23d-1808-41b3-d40d-3b0e34d8d8fa"
      },
      "source": [
        "query = \"\"\"SELECT\n",
        "    (e2.firstName||' '||e2.lastName) AS boss,\n",
        "    e2.jobTitle AS department,\n",
        "    e1.employeeNumber AS ID,\n",
        "    (e1.firstName||' '||e1.lastName) AS employee\n",
        "    \n",
        "    FROM \n",
        "    employees AS e1 INNER JOIN employees AS e2\n",
        "    \n",
        "    WHERE\n",
        "    e1.reportsTo = e2.employeeNumber\n",
        "    \n",
        "    ORDER BY\n",
        "    boss;\"\"\"\n",
        "\n",
        "queryResult = pd.read_sql_query(query,db)\n",
        "\n",
        "queryResult.head()"
      ],
      "execution_count": 36,
      "outputs": [
        {
          "output_type": "execute_result",
          "data": {
            "text/html": [
              "<div>\n",
              "<style scoped>\n",
              "    .dataframe tbody tr th:only-of-type {\n",
              "        vertical-align: middle;\n",
              "    }\n",
              "\n",
              "    .dataframe tbody tr th {\n",
              "        vertical-align: top;\n",
              "    }\n",
              "\n",
              "    .dataframe thead th {\n",
              "        text-align: right;\n",
              "    }\n",
              "</style>\n",
              "<table border=\"1\" class=\"dataframe\">\n",
              "  <thead>\n",
              "    <tr style=\"text-align: right;\">\n",
              "      <th></th>\n",
              "      <th>boss</th>\n",
              "      <th>department</th>\n",
              "      <th>ID</th>\n",
              "      <th>employee</th>\n",
              "    </tr>\n",
              "  </thead>\n",
              "  <tbody>\n",
              "    <tr>\n",
              "      <th>0</th>\n",
              "      <td>Anthony Bow</td>\n",
              "      <td>Sales Manager (NA)</td>\n",
              "      <td>1165</td>\n",
              "      <td>Leslie Jennings</td>\n",
              "    </tr>\n",
              "    <tr>\n",
              "      <th>1</th>\n",
              "      <td>Anthony Bow</td>\n",
              "      <td>Sales Manager (NA)</td>\n",
              "      <td>1166</td>\n",
              "      <td>Leslie Thompson</td>\n",
              "    </tr>\n",
              "    <tr>\n",
              "      <th>2</th>\n",
              "      <td>Anthony Bow</td>\n",
              "      <td>Sales Manager (NA)</td>\n",
              "      <td>1188</td>\n",
              "      <td>Julie Firrelli</td>\n",
              "    </tr>\n",
              "    <tr>\n",
              "      <th>3</th>\n",
              "      <td>Anthony Bow</td>\n",
              "      <td>Sales Manager (NA)</td>\n",
              "      <td>1216</td>\n",
              "      <td>Steve Patterson</td>\n",
              "    </tr>\n",
              "    <tr>\n",
              "      <th>4</th>\n",
              "      <td>Anthony Bow</td>\n",
              "      <td>Sales Manager (NA)</td>\n",
              "      <td>1286</td>\n",
              "      <td>Foon Yue Tseng</td>\n",
              "    </tr>\n",
              "  </tbody>\n",
              "</table>\n",
              "</div>"
            ],
            "text/plain": [
              "          boss          department    ID         employee\n",
              "0  Anthony Bow  Sales Manager (NA)  1165  Leslie Jennings\n",
              "1  Anthony Bow  Sales Manager (NA)  1166  Leslie Thompson\n",
              "2  Anthony Bow  Sales Manager (NA)  1188   Julie Firrelli\n",
              "3  Anthony Bow  Sales Manager (NA)  1216  Steve Patterson\n",
              "4  Anthony Bow  Sales Manager (NA)  1286   Foon Yue Tseng"
            ]
          },
          "metadata": {
            "tags": []
          },
          "execution_count": 36
        }
      ]
    },
    {
      "cell_type": "markdown",
      "metadata": {
        "id": "tHNVtZ6Qx4rc"
      },
      "source": [
        "####  <span style = \"color:red\">Código original.</span>\n",
        "<!--- \n",
        "query = \"\"\"SELECT    \n",
        "   e2.firstName||' '||e2.lastName AS boss,\n",
        "   e2.jobTitle                    AS department,\n",
        "   e1.employeeNumber              AS ID,\n",
        "   e1.firstName||' '||e1.lastName AS employee    \n",
        "\n",
        "    FROM \n",
        "    employees AS e1, employees AS e2\n",
        "\n",
        "    ORDER BY boss \n",
        "    LIMIT\n",
        "    3;\"\"\"\n",
        "\n",
        "queryResult = pd.read_sql_query(query, db)\n",
        "\n",
        "queryResult\n",
        "-->"
      ]
    },
    {
      "cell_type": "markdown",
      "metadata": {
        "id": "QVkR3msIx4rc"
      },
      "source": [
        "#### Inspeção de pedidos de compra.\n",
        "\n",
        "#### Dados sobre pedidos aparecem nas tabelas `orders` e `orderdetails` e o que relaciona elas é a coluna `orderNumber`. Vamos inspecionar um único pedido.\n",
        "\n",
        "```SQL\n",
        "JUNTE E COMBINE TODOS AS LINHAS DAS TABELAS\n",
        "   orderdetails\n",
        "\n",
        "PEGUE SÓ LINHAS QUE OBEDEÇAM AO CRITÉRIO\n",
        "   orderNumber=10103\n",
        "\n",
        "MOSTRE AS COLUNAS\n",
        "    orderLineNumber,\n",
        "    productCode,\n",
        "    priceEach,\n",
        "    quantityOrdered,\n",
        "    priceEach*quantityOrdered as priceTotal\n",
        "    \n",
        "ORDENE POR\n",
        "   orderLineNumber\n",
        "```"
      ]
    },
    {
      "cell_type": "code",
      "metadata": {
        "colab": {
          "base_uri": "https://localhost:8080/",
          "height": 204
        },
        "id": "PsNVNMYEx4rd",
        "outputId": "704b9e85-44fe-414f-920d-bd5be12f8329"
      },
      "source": [
        "query = \"\"\" SELECT orderLineNumber,\n",
        "  productCode,\n",
        "  priceEach,\n",
        "  quantityOrdered,\n",
        "  priceEach * quantityOrdered AS priceTotal\n",
        "  \n",
        "  FROM \n",
        "  orderdetails\n",
        "  \n",
        "  WHERE \n",
        "  orderNumber = 10103\n",
        "  \n",
        "  ORDER BY\n",
        "  orderLineNumber;\n",
        "  \"\"\"\n",
        "\n",
        "queryResult = pd.read_sql_query(query, db)\n",
        "queryResult.head()"
      ],
      "execution_count": 37,
      "outputs": [
        {
          "output_type": "execute_result",
          "data": {
            "text/html": [
              "<div>\n",
              "<style scoped>\n",
              "    .dataframe tbody tr th:only-of-type {\n",
              "        vertical-align: middle;\n",
              "    }\n",
              "\n",
              "    .dataframe tbody tr th {\n",
              "        vertical-align: top;\n",
              "    }\n",
              "\n",
              "    .dataframe thead th {\n",
              "        text-align: right;\n",
              "    }\n",
              "</style>\n",
              "<table border=\"1\" class=\"dataframe\">\n",
              "  <thead>\n",
              "    <tr style=\"text-align: right;\">\n",
              "      <th></th>\n",
              "      <th>orderLineNumber</th>\n",
              "      <th>productCode</th>\n",
              "      <th>priceEach</th>\n",
              "      <th>quantityOrdered</th>\n",
              "      <th>priceTotal</th>\n",
              "    </tr>\n",
              "  </thead>\n",
              "  <tbody>\n",
              "    <tr>\n",
              "      <th>0</th>\n",
              "      <td>1</td>\n",
              "      <td>S24_2300</td>\n",
              "      <td>107.34</td>\n",
              "      <td>36</td>\n",
              "      <td>3864.24</td>\n",
              "    </tr>\n",
              "    <tr>\n",
              "      <th>1</th>\n",
              "      <td>2</td>\n",
              "      <td>S18_2432</td>\n",
              "      <td>58.34</td>\n",
              "      <td>22</td>\n",
              "      <td>1283.48</td>\n",
              "    </tr>\n",
              "    <tr>\n",
              "      <th>2</th>\n",
              "      <td>3</td>\n",
              "      <td>S32_1268</td>\n",
              "      <td>92.46</td>\n",
              "      <td>31</td>\n",
              "      <td>2866.26</td>\n",
              "    </tr>\n",
              "    <tr>\n",
              "      <th>3</th>\n",
              "      <td>4</td>\n",
              "      <td>S10_4962</td>\n",
              "      <td>119.67</td>\n",
              "      <td>42</td>\n",
              "      <td>5026.14</td>\n",
              "    </tr>\n",
              "    <tr>\n",
              "      <th>4</th>\n",
              "      <td>5</td>\n",
              "      <td>S18_4600</td>\n",
              "      <td>98.07</td>\n",
              "      <td>36</td>\n",
              "      <td>3530.52</td>\n",
              "    </tr>\n",
              "  </tbody>\n",
              "</table>\n",
              "</div>"
            ],
            "text/plain": [
              "   orderLineNumber productCode  priceEach  quantityOrdered  priceTotal\n",
              "0                1    S24_2300     107.34               36     3864.24\n",
              "1                2    S18_2432      58.34               22     1283.48\n",
              "2                3    S32_1268      92.46               31     2866.26\n",
              "3                4    S10_4962     119.67               42     5026.14\n",
              "4                5    S18_4600      98.07               36     3530.52"
            ]
          },
          "metadata": {
            "tags": []
          },
          "execution_count": 37
        }
      ]
    },
    {
      "cell_type": "markdown",
      "metadata": {
        "id": "c05t8r_tx4rd"
      },
      "source": [
        "#  <span style = \"color:red\">Código original.</span>\n",
        "<!--- \n",
        "query = \"\"\"SELECT    \n",
        "    orderLineNumber,\n",
        "    productCode,\n",
        "    priceEach,\n",
        "    quantityOrdered,\n",
        "    priceEach*quantityOrdered as priceTotal,\n",
        "    orderNumber\n",
        "\n",
        "    FROM \n",
        "    orderdetails\n",
        "\n",
        "    WHERE orderNumber = 10103\n",
        "    \n",
        "    ORDER BY orderLineNumber\n",
        "    LIMIT\n",
        "    3;\"\"\"\n",
        "\n",
        "queryResult = pd.read_sql_query(query, db)\n",
        "\n",
        "queryResult\n",
        "\n",
        "-->"
      ]
    },
    {
      "cell_type": "markdown",
      "metadata": {
        "id": "RmnPPnA0x4rd"
      },
      "source": [
        "#### Vamos melhorar a leitura dessa tabela adicionando a descrição do produto. Faremos um `JOIN` com a tabela `products`.\n",
        "\n",
        "```SQL\n",
        "JUNTE E COMBINE TODOS AS LINHAS DAS TABELAS\n",
        "   orderdetails AS o,\n",
        "   products AS p\n",
        "\n",
        "PEGUE SÓ LINHAS QUE OBEDEÇAM AO CRITÉRIO\n",
        "    o.productCode=p.productCode AND\n",
        "    orderNumber=10103\n",
        "\n",
        "MOSTRE AS COLUNAS\n",
        "    o.orderLineNumber,\n",
        "    o.priceEach,\n",
        "    o.quantityOrdered,\n",
        "    o.priceEach*o.quantityOrdered as itemTotal,\n",
        "    o.productCode,\n",
        "    p.productName\n",
        "    \n",
        "ORDENE POR\n",
        "   orderLineNumber\n",
        "```"
      ]
    },
    {
      "cell_type": "code",
      "metadata": {
        "colab": {
          "base_uri": "https://localhost:8080/",
          "height": 204
        },
        "id": "CAp-o6Ugx4rd",
        "outputId": "8b17c23a-a5a5-464c-9f30-56b97e694603"
      },
      "source": [
        "query = \"\"\"SELECT \n",
        "        o.orderLineNumber,\n",
        "        o.priceEach,\n",
        "        o.quantityOrdered,\n",
        "        o.priceEach * o.quantityOrdered AS itemTotal,\n",
        "        o.productCode,\n",
        "        p.productName\n",
        "\n",
        "    FROM\n",
        "    orderdetails AS o INNER JOIN products AS p\n",
        "\n",
        "    WHERE\n",
        "    o.productCode = p.productCode AND orderNumber = 10103    \n",
        "\n",
        "    ORDER BY\n",
        "    orderLineNumber;\"\"\"\n",
        "\n",
        "queryResult = pd.read_sql_query(query, db)\n",
        "queryResult.head()"
      ],
      "execution_count": 38,
      "outputs": [
        {
          "output_type": "execute_result",
          "data": {
            "text/html": [
              "<div>\n",
              "<style scoped>\n",
              "    .dataframe tbody tr th:only-of-type {\n",
              "        vertical-align: middle;\n",
              "    }\n",
              "\n",
              "    .dataframe tbody tr th {\n",
              "        vertical-align: top;\n",
              "    }\n",
              "\n",
              "    .dataframe thead th {\n",
              "        text-align: right;\n",
              "    }\n",
              "</style>\n",
              "<table border=\"1\" class=\"dataframe\">\n",
              "  <thead>\n",
              "    <tr style=\"text-align: right;\">\n",
              "      <th></th>\n",
              "      <th>orderLineNumber</th>\n",
              "      <th>priceEach</th>\n",
              "      <th>quantityOrdered</th>\n",
              "      <th>itemTotal</th>\n",
              "      <th>productCode</th>\n",
              "      <th>productName</th>\n",
              "    </tr>\n",
              "  </thead>\n",
              "  <tbody>\n",
              "    <tr>\n",
              "      <th>0</th>\n",
              "      <td>1</td>\n",
              "      <td>107.34</td>\n",
              "      <td>36</td>\n",
              "      <td>3864.24</td>\n",
              "      <td>S24_2300</td>\n",
              "      <td>1962 Volkswagen Microbus</td>\n",
              "    </tr>\n",
              "    <tr>\n",
              "      <th>1</th>\n",
              "      <td>2</td>\n",
              "      <td>58.34</td>\n",
              "      <td>22</td>\n",
              "      <td>1283.48</td>\n",
              "      <td>S18_2432</td>\n",
              "      <td>1926 Ford Fire Engine</td>\n",
              "    </tr>\n",
              "    <tr>\n",
              "      <th>2</th>\n",
              "      <td>3</td>\n",
              "      <td>92.46</td>\n",
              "      <td>31</td>\n",
              "      <td>2866.26</td>\n",
              "      <td>S32_1268</td>\n",
              "      <td>1980’s GM Manhattan Express</td>\n",
              "    </tr>\n",
              "    <tr>\n",
              "      <th>3</th>\n",
              "      <td>4</td>\n",
              "      <td>119.67</td>\n",
              "      <td>42</td>\n",
              "      <td>5026.14</td>\n",
              "      <td>S10_4962</td>\n",
              "      <td>1962 LanciaA Delta 16V</td>\n",
              "    </tr>\n",
              "    <tr>\n",
              "      <th>4</th>\n",
              "      <td>5</td>\n",
              "      <td>98.07</td>\n",
              "      <td>36</td>\n",
              "      <td>3530.52</td>\n",
              "      <td>S18_4600</td>\n",
              "      <td>1940s Ford truck</td>\n",
              "    </tr>\n",
              "  </tbody>\n",
              "</table>\n",
              "</div>"
            ],
            "text/plain": [
              "   orderLineNumber  priceEach  ...  productCode                  productName\n",
              "0                1     107.34  ...     S24_2300     1962 Volkswagen Microbus\n",
              "1                2      58.34  ...     S18_2432        1926 Ford Fire Engine\n",
              "2                3      92.46  ...     S32_1268  1980’s GM Manhattan Express\n",
              "3                4     119.67  ...     S10_4962       1962 LanciaA Delta 16V\n",
              "4                5      98.07  ...     S18_4600             1940s Ford truck\n",
              "\n",
              "[5 rows x 6 columns]"
            ]
          },
          "metadata": {
            "tags": []
          },
          "execution_count": 38
        }
      ]
    },
    {
      "cell_type": "markdown",
      "metadata": {
        "id": "a5NNhc6Rx4rd"
      },
      "source": [
        "####  <span style = \"color:red\">Código original.</span>\n",
        "<!--- \n",
        "query = \"\"\"SELECT    \n",
        "    o.orderLineNumber,\n",
        "    o.priceEach,\n",
        "    o.quantityOrdered,\n",
        "    o.priceEach*o.quantityOrdered as itemTotal,\n",
        "    o.productCode,\n",
        "    p.productName\n",
        "    FROM \n",
        "    orderdetails AS o,\n",
        "    products AS p\n",
        "    \n",
        "    WHERE o.productCode = p.productCode AND orderNumber = 10103\n",
        "    \n",
        "    ORDER BY orderLineNumber\n",
        "    LIMIT\n",
        "    3;\"\"\"\n",
        "\n",
        "queryResult = pd.read_sql_query(query, db)\n",
        "\n",
        "queryResult\n",
        "\n",
        "-->"
      ]
    },
    {
      "cell_type": "markdown",
      "metadata": {
        "id": "3wgHc6nkx4rd"
      },
      "source": [
        "## Cálculo de totais e subtotais\n"
      ]
    },
    {
      "cell_type": "markdown",
      "metadata": {
        "id": "i57Bx-Cwx4rd"
      },
      "source": [
        "#### Performance de venda por categoria de produtos.\n",
        "\n",
        "```SQL\n",
        "JUNTE E COMBINE TODOS AS LINHAS DAS TABELAS\n",
        "    orderdetails o,\n",
        "    products p\n",
        "\n",
        "PEGUE SÓ LINHAS QUE OBEDEÇAM AO CRITÉRIO\n",
        "    o.productCode=p.productCode\n",
        "\n",
        "MOSTRE AS COLUNAS\n",
        "    p.productLine,\n",
        "    count(p.productLine) AS nItems,\n",
        "    sum(o.priceEach*o.quantityOrdered)/count(p.productLine) AS averagePerItem,\n",
        "    sum(o.priceEach*o.quantityOrdered) AS lineTotal\n",
        "\n",
        "AGRUPE POR\n",
        "    p.productLine\n",
        "\n",
        "ORDENE INVERSAMENTE POR\n",
        "   lineTotal\n",
        "```"
      ]
    },
    {
      "cell_type": "code",
      "metadata": {
        "id": "NHpae3zbx4rd",
        "colab": {
          "base_uri": "https://localhost:8080/",
          "height": 204
        },
        "outputId": "a2b5eb73-8294-48aa-f9b9-9286f92b3984"
      },
      "source": [
        "query = \"\"\"SELECT \n",
        "      p.productLine,\n",
        "      count(p.productLine) as nItems,\n",
        "      sum(o.priceEach * o.quantityOrdered) / count(p.productLine) AS averagePerItem,\n",
        "      sum(o.priceEach * o.quantityOrdered) AS lineTotal\n",
        "    \n",
        "    FROM\n",
        "    orderdetails AS o INNER JOIN products AS p\n",
        "\n",
        "    WHERE\n",
        "    o.productCode = p.productCode   \n",
        "\n",
        "    GROUP BY\n",
        "    p.productLine\n",
        "\n",
        "    ORDER BY\n",
        "    lineTotal DESC;\"\"\"\n",
        "\n",
        "queryResult = pd.read_sql_query(query, db)\n",
        "queryResult.head()"
      ],
      "execution_count": 40,
      "outputs": [
        {
          "output_type": "execute_result",
          "data": {
            "text/html": [
              "<div>\n",
              "<style scoped>\n",
              "    .dataframe tbody tr th:only-of-type {\n",
              "        vertical-align: middle;\n",
              "    }\n",
              "\n",
              "    .dataframe tbody tr th {\n",
              "        vertical-align: top;\n",
              "    }\n",
              "\n",
              "    .dataframe thead th {\n",
              "        text-align: right;\n",
              "    }\n",
              "</style>\n",
              "<table border=\"1\" class=\"dataframe\">\n",
              "  <thead>\n",
              "    <tr style=\"text-align: right;\">\n",
              "      <th></th>\n",
              "      <th>productLine</th>\n",
              "      <th>nItems</th>\n",
              "      <th>averagePerItem</th>\n",
              "      <th>lineTotal</th>\n",
              "    </tr>\n",
              "  </thead>\n",
              "  <tbody>\n",
              "    <tr>\n",
              "      <th>0</th>\n",
              "      <td>Classic Cars</td>\n",
              "      <td>1010</td>\n",
              "      <td>3815.764842</td>\n",
              "      <td>3853922.49</td>\n",
              "    </tr>\n",
              "    <tr>\n",
              "      <th>1</th>\n",
              "      <td>Vintage Cars</td>\n",
              "      <td>657</td>\n",
              "      <td>2736.011613</td>\n",
              "      <td>1797559.63</td>\n",
              "    </tr>\n",
              "    <tr>\n",
              "      <th>2</th>\n",
              "      <td>Motorcycles</td>\n",
              "      <td>359</td>\n",
              "      <td>3123.749638</td>\n",
              "      <td>1121426.12</td>\n",
              "    </tr>\n",
              "    <tr>\n",
              "      <th>3</th>\n",
              "      <td>Trucks and Buses</td>\n",
              "      <td>308</td>\n",
              "      <td>3325.044058</td>\n",
              "      <td>1024113.57</td>\n",
              "    </tr>\n",
              "    <tr>\n",
              "      <th>4</th>\n",
              "      <td>Planes</td>\n",
              "      <td>336</td>\n",
              "      <td>2841.183155</td>\n",
              "      <td>954637.54</td>\n",
              "    </tr>\n",
              "  </tbody>\n",
              "</table>\n",
              "</div>"
            ],
            "text/plain": [
              "        productLine  nItems  averagePerItem   lineTotal\n",
              "0      Classic Cars    1010     3815.764842  3853922.49\n",
              "1      Vintage Cars     657     2736.011613  1797559.63\n",
              "2       Motorcycles     359     3123.749638  1121426.12\n",
              "3  Trucks and Buses     308     3325.044058  1024113.57\n",
              "4            Planes     336     2841.183155   954637.54"
            ]
          },
          "metadata": {
            "tags": []
          },
          "execution_count": 40
        }
      ]
    },
    {
      "cell_type": "markdown",
      "metadata": {
        "id": "3nERfmHtx4rd"
      },
      "source": [
        "####  <span style = \"color:red\">Código original.</span>\n",
        "<!--- \n",
        "query = \"\"\"SELECT    \n",
        "    p.productLine,\n",
        "    count(p.productLine) AS nItems,\n",
        "    sum(o.priceEach*o.quantityOrdered)/count(p.productLine) AS averagePerItem,\n",
        "    sum(o.priceEach*o.quantityOrdered) AS lineTotal\n",
        "\n",
        "    FROM \n",
        "    orderdetails AS o, products AS p\n",
        "    /*orderdetails AS o INNER JOIN products AS p*/\n",
        "    \n",
        "    GROUP BY p.productLine\n",
        "    ORDER BY lineTotal\n",
        "    LIMIT 3;\"\"\"\n",
        "\n",
        "queryResult = pd.read_sql_query(query, db)\n",
        "\n",
        "queryResult\n",
        "\n",
        "-->"
      ]
    },
    {
      "cell_type": "markdown",
      "metadata": {
        "id": "u0ED-6_ex4rd"
      },
      "source": [
        "#### Qual é o produto que mais vende ?\n",
        "\n",
        "```SQL\n",
        "JUNTE E COMBINE TODOS AS LINHAS DAS TABELAS\n",
        "    orderdetails o,\n",
        "    products p\n",
        "\n",
        "PEGUE SÓ LINHAS QUE OBEDEÇAM AO CRITÉRIO\n",
        "    o.productCode=p.productCode\n",
        "\n",
        "MOSTRE AS COLUNAS\n",
        "    p.productName,\n",
        "    count(o.quantityOrdered) AS nItems,\n",
        "#    sum(o.priceEach*o.quantityOrdered) AS lineTotal\n",
        "\n",
        "AGRUPE POR\n",
        "    p.productCode\n",
        "\n",
        "ORDENE INVERSAMENTE POR\n",
        "   lineTotal\n",
        "```"
      ]
    },
    {
      "cell_type": "code",
      "metadata": {
        "id": "zbPPEkOtx4rd",
        "colab": {
          "base_uri": "https://localhost:8080/",
          "height": 204
        },
        "outputId": "4c1f1eb4-cd28-4303-d135-23806293479f"
      },
      "source": [
        "query = \"\"\"SELECT \n",
        "      p.productName,\n",
        "      count(o.quantityOrdered) AS nItems,\n",
        "      sum(o.priceEach * o.quantityOrdered) AS lineTotal\n",
        "    \n",
        "    FROM\n",
        "    orderdetails AS o INNER JOIN products AS p\n",
        "\n",
        "    WHERE\n",
        "    o.productCode = p.productCode   \n",
        "\n",
        "    GROUP BY\n",
        "    p.productCode\n",
        "\n",
        "    ORDER BY\n",
        "    lineTotal DESC;\"\"\"\n",
        "\n",
        "queryResult = pd.read_sql_query(query, db)\n",
        "queryResult.head()"
      ],
      "execution_count": 41,
      "outputs": [
        {
          "output_type": "execute_result",
          "data": {
            "text/html": [
              "<div>\n",
              "<style scoped>\n",
              "    .dataframe tbody tr th:only-of-type {\n",
              "        vertical-align: middle;\n",
              "    }\n",
              "\n",
              "    .dataframe tbody tr th {\n",
              "        vertical-align: top;\n",
              "    }\n",
              "\n",
              "    .dataframe thead th {\n",
              "        text-align: right;\n",
              "    }\n",
              "</style>\n",
              "<table border=\"1\" class=\"dataframe\">\n",
              "  <thead>\n",
              "    <tr style=\"text-align: right;\">\n",
              "      <th></th>\n",
              "      <th>productName</th>\n",
              "      <th>nItems</th>\n",
              "      <th>lineTotal</th>\n",
              "    </tr>\n",
              "  </thead>\n",
              "  <tbody>\n",
              "    <tr>\n",
              "      <th>0</th>\n",
              "      <td>1992 Ferrari 360 Spider red</td>\n",
              "      <td>53</td>\n",
              "      <td>276839.98</td>\n",
              "    </tr>\n",
              "    <tr>\n",
              "      <th>1</th>\n",
              "      <td>2001 Ferrari Enzo</td>\n",
              "      <td>27</td>\n",
              "      <td>190755.86</td>\n",
              "    </tr>\n",
              "    <tr>\n",
              "      <th>2</th>\n",
              "      <td>1952 Alpine Renault 1300</td>\n",
              "      <td>28</td>\n",
              "      <td>190017.96</td>\n",
              "    </tr>\n",
              "    <tr>\n",
              "      <th>3</th>\n",
              "      <td>2003 Harley-Davidson Eagle Drag Bike</td>\n",
              "      <td>28</td>\n",
              "      <td>170686.00</td>\n",
              "    </tr>\n",
              "    <tr>\n",
              "      <th>4</th>\n",
              "      <td>1968 Ford Mustang</td>\n",
              "      <td>27</td>\n",
              "      <td>161531.48</td>\n",
              "    </tr>\n",
              "  </tbody>\n",
              "</table>\n",
              "</div>"
            ],
            "text/plain": [
              "                            productName  nItems  lineTotal\n",
              "0           1992 Ferrari 360 Spider red      53  276839.98\n",
              "1                     2001 Ferrari Enzo      27  190755.86\n",
              "2              1952 Alpine Renault 1300      28  190017.96\n",
              "3  2003 Harley-Davidson Eagle Drag Bike      28  170686.00\n",
              "4                     1968 Ford Mustang      27  161531.48"
            ]
          },
          "metadata": {
            "tags": []
          },
          "execution_count": 41
        }
      ]
    },
    {
      "cell_type": "markdown",
      "metadata": {
        "id": "6CI5YTV2x4rd"
      },
      "source": [
        "####  <span style = \"color:red\">Código original.</span>\n",
        "<!--- \n",
        "query = \"\"\"SELECT    \n",
        "    p.productName,\n",
        "    count(o.quantityOrdered) AS nItems,\n",
        "    sum(o.priceEach*o.quantityOrdered) AS lineTotal\n",
        "\n",
        "    FROM orderdetails o INNER JOIN products p\n",
        "    \n",
        "    WHERE o.productCode = p.productCode\n",
        "    \n",
        "    GROUP BY p.productCode\n",
        "    \n",
        "    ORDER BY lineTotal\n",
        "    \n",
        "    LIMIT 3;\"\"\"\n",
        "\n",
        "queryResult = pd.read_sql_query(query, db)\n",
        "\n",
        "queryResult\n",
        "\n",
        "-->"
      ]
    },
    {
      "cell_type": "markdown",
      "metadata": {
        "id": "vB0wOsgbx4rd"
      },
      "source": [
        "#### Qual é o cliente que mais compra ?\n",
        "\n",
        "```SQL\n",
        "JUNTE E COMBINE TODOS AS LINHAS DAS TABELAS\n",
        "    orderdetails as od,\n",
        "    orders as o,\n",
        "    customers as c\n",
        "\n",
        "PEGUE SÓ LINHAS QUE OBEDEÇAM AO CRITÉRIO\n",
        "    od.orderNumber = o.orderNumber AND\n",
        "    c.customerNumber = o.customerNumber\n",
        "\n",
        "MOSTRE AS COLUNAS\n",
        "    c.customerNumber,\n",
        "    c.customerName,\n",
        "    sum(od.priceEach*od.quantityOrdered) AS customerTotal\n",
        "    sum(od.quantityOrdered) AS nItems,\n",
        "\n",
        "AGRUPE POR\n",
        "    c.customerNumber\n",
        "\n",
        "ORDENE INVERSAMENTE POR\n",
        "   c.customerNumber\n",
        "```"
      ]
    },
    {
      "cell_type": "code",
      "metadata": {
        "id": "RL2PHfKSx4rd",
        "colab": {
          "base_uri": "https://localhost:8080/",
          "height": 204
        },
        "outputId": "05c80655-5f20-4ac3-a93a-9c4912950a31"
      },
      "source": [
        "query = \"\"\"SELECT \n",
        "      c.customerName,\n",
        "      c.customerNumber,\n",
        "      sum(od.priceEach * od.quantityOrdered) AS customerTotal,\n",
        "      sum(od.quantityOrdered) AS nItems,\n",
        "    \n",
        "    FROM\n",
        "    orderdetails AS od INNER JOIN orders AS o INNER JOIN customers AS c\n",
        "\n",
        "    WHERE\n",
        "    od.orderNumber = o.orderNumber AND\n",
        "    c.customerNumber = o.customerNumber   \n",
        "\n",
        "    GROUP BY\n",
        "    c.customerNumber\n",
        "\n",
        "    ORDER BY\n",
        "    nItems DESC;\"\"\"\n",
        "\n",
        "queryResult = pd.read_sql_query(query, db)\n",
        "queryResult.head()"
      ],
      "execution_count": 43,
      "outputs": [
        {
          "output_type": "execute_result",
          "data": {
            "text/html": [
              "<div>\n",
              "<style scoped>\n",
              "    .dataframe tbody tr th:only-of-type {\n",
              "        vertical-align: middle;\n",
              "    }\n",
              "\n",
              "    .dataframe tbody tr th {\n",
              "        vertical-align: top;\n",
              "    }\n",
              "\n",
              "    .dataframe thead th {\n",
              "        text-align: right;\n",
              "    }\n",
              "</style>\n",
              "<table border=\"1\" class=\"dataframe\">\n",
              "  <thead>\n",
              "    <tr style=\"text-align: right;\">\n",
              "      <th></th>\n",
              "      <th>customerName</th>\n",
              "      <th>customerNumber</th>\n",
              "      <th>customerTotal</th>\n",
              "      <th>nItems</th>\n",
              "    </tr>\n",
              "  </thead>\n",
              "  <tbody>\n",
              "    <tr>\n",
              "      <th>0</th>\n",
              "      <td>Euro+ Shopping Channel</td>\n",
              "      <td>141</td>\n",
              "      <td>820689.54</td>\n",
              "      <td>9327</td>\n",
              "    </tr>\n",
              "    <tr>\n",
              "      <th>1</th>\n",
              "      <td>Mini Gifts Distributors Ltd.</td>\n",
              "      <td>124</td>\n",
              "      <td>591827.34</td>\n",
              "      <td>6366</td>\n",
              "    </tr>\n",
              "    <tr>\n",
              "      <th>2</th>\n",
              "      <td>Australian Collectors, Co.</td>\n",
              "      <td>114</td>\n",
              "      <td>180585.07</td>\n",
              "      <td>1926</td>\n",
              "    </tr>\n",
              "    <tr>\n",
              "      <th>3</th>\n",
              "      <td>La Rochelle Gifts</td>\n",
              "      <td>119</td>\n",
              "      <td>158573.12</td>\n",
              "      <td>1832</td>\n",
              "    </tr>\n",
              "    <tr>\n",
              "      <th>4</th>\n",
              "      <td>AV Stores, Co.</td>\n",
              "      <td>187</td>\n",
              "      <td>148410.09</td>\n",
              "      <td>1778</td>\n",
              "    </tr>\n",
              "  </tbody>\n",
              "</table>\n",
              "</div>"
            ],
            "text/plain": [
              "                   customerName  customerNumber  customerTotal  nItems\n",
              "0        Euro+ Shopping Channel             141      820689.54    9327\n",
              "1  Mini Gifts Distributors Ltd.             124      591827.34    6366\n",
              "2    Australian Collectors, Co.             114      180585.07    1926\n",
              "3             La Rochelle Gifts             119      158573.12    1832\n",
              "4                AV Stores, Co.             187      148410.09    1778"
            ]
          },
          "metadata": {
            "tags": []
          },
          "execution_count": 43
        }
      ]
    },
    {
      "cell_type": "markdown",
      "metadata": {
        "id": "AOqdg-t-x4rd"
      },
      "source": [
        "####  <span style = \"color:red\">Código original.</span>\n",
        "<!--- \n",
        "query = \"\"\"SELECT\n",
        "    c.customerNumber,\n",
        "    c.customerName,\n",
        "    sum(od.priceEach*od.quantityOrdered) AS customerTotal,\n",
        "    sum(od.quantityOrdered) AS nItems\n",
        "    \n",
        "    FROM \n",
        "    orderdetails AS od INNER JOIN orders AS o INNER JOIN customers AS c\n",
        "\n",
        "    WHERE od.orderNumber = o.orderNumber AND c.customerNumber = o.customerNumber\n",
        "\n",
        "    GROUP BY c.customerNumber\n",
        "    \n",
        "    ORDER BY c.customerNumber\n",
        "        \n",
        "    LIMIT 3;\"\"\"\n",
        "\n",
        "queryResult = pd.read_sql_query(query, db)\n",
        "\n",
        "queryResult\n",
        "-->"
      ]
    },
    {
      "cell_type": "markdown",
      "metadata": {
        "id": "Ft3kV4_tx4rd"
      },
      "source": [
        "#### Vendas e valores por mês.\n",
        "\n",
        "```SQL\n",
        "JUNTE E COMBINE TODOS AS LINHAS DAS TABELAS\n",
        "    orderdetails as od,\n",
        "    orders as o,\n",
        "\n",
        "PEGUE SÓ LINHAS QUE OBEDEÇAM AO CRITÉRIO\n",
        "    od.orderNumber = o.orderNumber\n",
        "\n",
        "MOSTRE AS COLUNAS\n",
        "    substr(o.orderDate,1,7) as month,\n",
        "    sum(od.priceEach*od.quantityOrdered) AS monthTotal\n",
        "    sum(od.quantityOrdered) AS nItems,\n",
        "\n",
        "AGRUPE POR\n",
        "    month\n",
        "\n",
        "ORDENE INVERSAMENTE POR\n",
        "   month\n",
        "```"
      ]
    },
    {
      "cell_type": "code",
      "metadata": {
        "id": "dHMraRfJx4rd",
        "colab": {
          "base_uri": "https://localhost:8080/",
          "height": 204
        },
        "outputId": "22a455d1-139c-40e8-812d-28b5b9b11e3c"
      },
      "source": [
        "query = \"\"\"SELECT \n",
        "      substr(o.orderDate, 1, 7) AS month,\n",
        "      sum(od.priceEach * od.quantityOrdered) AS monthTotal,\n",
        "      sum(od.quantityOrdered) AS nItems\n",
        "    \n",
        "    FROM\n",
        "    orderdetails AS od INNER JOIN orders AS o\n",
        "\n",
        "    WHERE\n",
        "    od.orderNumber = o.orderNumber \n",
        "\n",
        "    GROUP BY\n",
        "    month\n",
        "\n",
        "    ORDER BY\n",
        "    month DESC;\"\"\"\n",
        "\n",
        "queryResult = pd.read_sql_query(query, db)\n",
        "queryResult.head()"
      ],
      "execution_count": 45,
      "outputs": [
        {
          "output_type": "execute_result",
          "data": {
            "text/html": [
              "<div>\n",
              "<style scoped>\n",
              "    .dataframe tbody tr th:only-of-type {\n",
              "        vertical-align: middle;\n",
              "    }\n",
              "\n",
              "    .dataframe tbody tr th {\n",
              "        vertical-align: top;\n",
              "    }\n",
              "\n",
              "    .dataframe thead th {\n",
              "        text-align: right;\n",
              "    }\n",
              "</style>\n",
              "<table border=\"1\" class=\"dataframe\">\n",
              "  <thead>\n",
              "    <tr style=\"text-align: right;\">\n",
              "      <th></th>\n",
              "      <th>month</th>\n",
              "      <th>monthTotal</th>\n",
              "      <th>nItems</th>\n",
              "    </tr>\n",
              "  </thead>\n",
              "  <tbody>\n",
              "    <tr>\n",
              "      <th>0</th>\n",
              "      <td>2005-05</td>\n",
              "      <td>441474.94</td>\n",
              "      <td>4759</td>\n",
              "    </tr>\n",
              "    <tr>\n",
              "      <th>1</th>\n",
              "      <td>2005-04</td>\n",
              "      <td>344820.62</td>\n",
              "      <td>3836</td>\n",
              "    </tr>\n",
              "    <tr>\n",
              "      <th>2</th>\n",
              "      <td>2005-03</td>\n",
              "      <td>359711.96</td>\n",
              "      <td>4207</td>\n",
              "    </tr>\n",
              "    <tr>\n",
              "      <th>3</th>\n",
              "      <td>2005-02</td>\n",
              "      <td>317192.17</td>\n",
              "      <td>3393</td>\n",
              "    </tr>\n",
              "    <tr>\n",
              "      <th>4</th>\n",
              "      <td>2005-01</td>\n",
              "      <td>307737.02</td>\n",
              "      <td>3395</td>\n",
              "    </tr>\n",
              "  </tbody>\n",
              "</table>\n",
              "</div>"
            ],
            "text/plain": [
              "     month  monthTotal  nItems\n",
              "0  2005-05   441474.94    4759\n",
              "1  2005-04   344820.62    3836\n",
              "2  2005-03   359711.96    4207\n",
              "3  2005-02   317192.17    3393\n",
              "4  2005-01   307737.02    3395"
            ]
          },
          "metadata": {
            "tags": []
          },
          "execution_count": 45
        }
      ]
    }
  ]
}