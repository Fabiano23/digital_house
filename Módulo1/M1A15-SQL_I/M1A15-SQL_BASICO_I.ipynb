{
 "cells": [
  {
   "cell_type": "markdown",
   "metadata": {},
   "source": [
    "# Exemplos de queries SQL integrados ao Python e Pandas\n",
    "Usaremos dados de exemplo do site [MySQL Tutorial](http://www.mysqltutorial.org/mysql-sample-database.aspx).\n",
    "\n",
    "Para recriar o banco de dados em SQLite, sem Python, basta executar o arquivo com os comandos SQL na linha de comando do sistema operacional:\n",
    "\n",
    "```shell\n",
    "sqlite3 database.db < sample-database-dump.sql\n",
    "```\n",
    "\n",
    "O arquivo `database.db` será criado e tabelas e dados conforme especificados em `sql-sample-database.sql` serão populados.\n",
    "\n",
    "Se estivéssemos lidando com um SGBD (sistema gerenciador de banco de dados) mais robusto, como MariaDB/MySQL, Oracle ou DB2, o comando acima seria diferente e deverá conter:\n",
    "\n",
    "* o hostname ou IP do servidor de banco de dados\n",
    "* usuário e senha de acesso\n",
    "* nome do banco de dados em que vamos operar\n",
    "\n",
    "Mas SQLite é bem mais simples e didático e opera num arquivo local.\n",
    "\n",
    "## Visualizando o banco de dados, suas tabelas e dados\n",
    "\n",
    "<img src=\"MySQL-Sample-Database-Schema.png\">\n",
    "\n",
    "Cada SGBD tem seu próprio ferramental para navegar nos dados. MariaDB/MySQL tem o popular [PHP MyAdmin](https://www.phpmyadmin.net), Oracle e DB2 tem suas próprias ferramentas proprietárias, SQLite tem [DB Browser for SQLite](https://sqlitebrowser.org) e uma ferramenta online chamada [SQLite Online](https://sqliteonline.com).\n",
    "\n",
    "Para navegar nos dados do DB SQLite que acabamos de criar, use uma das 3 opções:\n",
    "\n",
    "* Use o comando `sqlite3`.\n",
    "* Instale o **DB Browser for SQLite** e abra o arquivo.\n",
    "* Envie o arquivo para o site **SQLiteOnline.com**."
   ]
  },
  {
   "cell_type": "markdown",
   "metadata": {},
   "source": [
    "## SQLite\n",
    "\n",
    "#### Vamos primeiro usar a estrutura e dados do arquivo `sql-sample-database.sql` para criar um banco de dados no arquivo `database.db`.\n",
    "\n",
    "#### Usamos o método [`connect()`](https://docs.python.org/3/library/sqlite3.html#sqlite3.Connection) para criar um objeto de conexão com esse banco de dados."
   ]
  },
  {
   "cell_type": "code",
   "execution_count": null,
   "metadata": {},
   "outputs": [],
   "source": [
    "import pandas as pd\n",
    "import sqlite3\n",
    "\n",
    "db = sqlite3.connect('database.db')"
   ]
  },
  {
   "cell_type": "markdown",
   "metadata": {},
   "source": [
    "#### Depois de ter um objeto de conexão, podemos criar um [`objeto Cursor`](https://docs.python.org/2.5/lib/sqlite3-Cursor-Objects.html) [`cursos()`](https://docs.python.org/3/library/sqlite3.html#sqlite3.Cursor) e chamar seu método [`execute()`](https://docs.python.org/3/library/sqlite3.html#sqlite3.Cursor.execute) para executar comandos `SQL`."
   ]
  },
  {
   "cell_type": "code",
   "execution_count": null,
   "metadata": {},
   "outputs": [],
   "source": [
    "script = 'sample-database-dump.sql'\n",
    "\n",
    "db.cursor().executescript(open(script).read())"
   ]
  },
  {
   "cell_type": "markdown",
   "metadata": {},
   "source": [
    "#### Camos criar uma conexão com a nossa base de dados."
   ]
  },
  {
   "cell_type": "code",
   "execution_count": null,
   "metadata": {},
   "outputs": [],
   "source": [
    "conn = sqlite3.connect('database.db')\n",
    "curs = conn.cursor()\n",
    "#conn.close()"
   ]
  },
  {
   "cell_type": "code",
   "execution_count": null,
   "metadata": {},
   "outputs": [],
   "source": [
    "query = \"\"\"CREATE TABLE IF NOT EXISTS countries (\n",
    "\n",
    "key INTEGER PRIMARY KEY AUTOINCREMENT,\n",
    "\n",
    "name text UNIQUE,\n",
    "\n",
    "founding_year INTEGER,\n",
    "\n",
    "capital text\n",
    "\n",
    ");\"\"\"\n",
    "\n",
    "#query = \"\"\"DROP TABLE countries ;\"\"\"\n",
    "\n",
    "curs.execute(query)\n",
    "\n",
    "conn.commit()"
   ]
  },
  {
   "cell_type": "markdown",
   "metadata": {},
   "source": [
    "#### Vamos criar agora uma tabela."
   ]
  },
  {
   "cell_type": "code",
   "execution_count": null,
   "metadata": {},
   "outputs": [],
   "source": [
    "#query = \"DELETE FROM countries WHERE name == 'BRASIL';\"\n",
    "\n",
    "query  = \"\"\"INSERT INTO countries (key, name, founding_year, capital)\n",
    "    VALUES (1, 'BRASIL', 1500, 'SALVADOR')\n",
    ";\"\"\"\n",
    "\n",
    "conn.commit()\n",
    "\n",
    "curs.execute(query)"
   ]
  },
  {
   "cell_type": "markdown",
   "metadata": {},
   "source": [
    "#### Vamos observar a tabela que foi criada."
   ]
  },
  {
   "cell_type": "code",
   "execution_count": null,
   "metadata": {},
   "outputs": [],
   "source": [
    "query = \"\"\"SELECT * \n",
    "    FROM countries\n",
    ";\"\"\"\n",
    "\n",
    "queryResult = pd.read_sql_query(query, db)\n",
    "\n",
    "queryResult.head()"
   ]
  },
  {
   "cell_type": "code",
   "execution_count": null,
   "metadata": {},
   "outputs": [],
   "source": [
    "res = curs.execute(\"SELECT name FROM sqlite_master WHERE type = 'table';\")\n",
    "for name in res:\n",
    "    print (name[0])"
   ]
  },
  {
   "cell_type": "markdown",
   "metadata": {},
   "source": [
    "#### Vamos inserir valores na tabela criada."
   ]
  },
  {
   "cell_type": "code",
   "execution_count": null,
   "metadata": {},
   "outputs": [],
   "source": [
    "#curs.execute(\"INSERT INTO countries (key, name, founding_year, capital) VALUES (1, 'BRASIL', 1500, 'SALVADOR');\")\n",
    "#conn.commit()\n",
    "\n",
    "query = \"SELECT * FROM countries;\"\n",
    "\n",
    "queryResult = pd.read_sql_query(query, db)\n",
    "\n",
    "queryResult.head()"
   ]
  },
  {
   "cell_type": "markdown",
   "metadata": {},
   "source": [
    "#### Vamos inserir mais alguns países."
   ]
  },
  {
   "cell_type": "code",
   "execution_count": null,
   "metadata": {},
   "outputs": [],
   "source": [
    "\n",
    "curs.execute(\"\"\"INSERT INTO countries (key, name, founding_year, capital)\n",
    "\n",
    "VALUES \n",
    "(2, 'MÉXICO', 1519, 'CIDADE DO MÉXICO'),\n",
    "(3, 'ARGENTINA', 1516, 'BUENOS AIRES')\n",
    ";\"\"\")\n",
    "\n",
    "conn.commit()\n",
    "\n",
    "query = \"SELECT * FROM countries;\"\n",
    "\n",
    "queryResult = pd.read_sql_query(query,db)\n",
    "\n",
    "queryResult.head()"
   ]
  },
  {
   "cell_type": "markdown",
   "metadata": {},
   "source": [
    "#### Vamos inserir o país \"EUA\"."
   ]
  },
  {
   "cell_type": "code",
   "execution_count": null,
   "metadata": {},
   "outputs": [],
   "source": [
    "curs.execute(\"INSERT INTO countries (key, name, founding_year, capital) VALUES (4, 'EUA', 1585, 'St. Augustine');\")\n",
    "\n",
    "conn.commit()\n",
    "\n",
    "query = \"SELECT * FROM countries;\"\n",
    "\n",
    "queryResult = pd.read_sql_query(query,db)\n",
    "\n",
    "queryResult.head()"
   ]
  },
  {
   "cell_type": "markdown",
   "metadata": {},
   "source": [
    "#### Inserimos também o país \"VENEZUELA\"."
   ]
  },
  {
   "cell_type": "code",
   "execution_count": null,
   "metadata": {},
   "outputs": [],
   "source": [
    "curs.execute(\"\"\"INSERT INTO countries  \n",
    "\n",
    "(name, founding_year, capital)\n",
    "\n",
    "VALUES \n",
    "\n",
    "('VENEZUELA', 1519, 'CARACAS')\n",
    ";\"\"\")\n",
    "\n",
    "conn.commit()\n",
    "\n",
    "query = \"SELECT * FROM countries;\"\n",
    "\n",
    "queryResult = pd.read_sql_query(query,db)\n",
    "\n",
    "queryResult.head()"
   ]
  },
  {
   "cell_type": "markdown",
   "metadata": {},
   "source": [
    "#### Podemos também fazer uma atualização de valores na tabela criada."
   ]
  },
  {
   "cell_type": "code",
   "execution_count": null,
   "metadata": {},
   "outputs": [],
   "source": [
    "curs.execute(\"\"\"UPDATE countries  \n",
    "SET capital = 'BRASILIA'\n",
    "\n",
    "WHERE\n",
    "name = 'BRASIL' AND founding_year = 1500\n",
    "\n",
    ";\"\"\")\n",
    "conn.commit()\n",
    "\n",
    "query = \"SELECT * FROM countries;\"\n",
    "\n",
    "queryResult = pd.read_sql_query(query,db)\n",
    "\n",
    "queryResult.head()"
   ]
  },
  {
   "cell_type": "markdown",
   "metadata": {},
   "source": [
    "#### É possível ainda excluir valores."
   ]
  },
  {
   "cell_type": "code",
   "execution_count": null,
   "metadata": {},
   "outputs": [],
   "source": [
    "\n",
    "curs.execute(\"\"\"UPDATE countries  \n",
    "\n",
    "SET capital = NULL\n",
    "\n",
    "WHERE\n",
    "\n",
    "name = 'ARGENTINA'\n",
    "\n",
    ";\"\"\")\n",
    "conn.commit()\n",
    "\n",
    "query = \"SELECT * FROM countries;\"\n",
    "\n",
    "queryResult = pd.read_sql_query(query,db)\n",
    "\n",
    "queryResult.head()"
   ]
  },
  {
   "cell_type": "markdown",
   "metadata": {},
   "source": [
    "#### Ou também excluir uma linha inteira."
   ]
  },
  {
   "cell_type": "code",
   "execution_count": null,
   "metadata": {},
   "outputs": [],
   "source": [
    "curs.execute(\"\"\"DELETE FROM countries  \n",
    "\n",
    "WHERE\n",
    "name = 'ARGENTINA'\n",
    "\n",
    ";\"\"\")\n",
    "conn.commit()\n",
    "\n",
    "query = \"SELECT * FROM countries;\"\n",
    "\n",
    "queryResult = pd.read_sql_query(query,db)\n",
    "\n",
    "queryResult.head()"
   ]
  },
  {
   "cell_type": "markdown",
   "metadata": {},
   "source": [
    "#### Para excluir uma tabela, usamos o comando [`DROP TABLE`](https://www.sqlitetutorial.net/sqlite-drop-table/)."
   ]
  },
  {
   "cell_type": "markdown",
   "metadata": {},
   "source": [
    "<img src=\"RobertDROPTABLEStudants.png\">"
   ]
  },
  {
   "cell_type": "code",
   "execution_count": null,
   "metadata": {},
   "outputs": [],
   "source": [
    "\n",
    "curs.execute(\"\"\"\n",
    "DROP TABLE countries;\"\"\")\n",
    "\n",
    "conn.commit()"
   ]
  },
  {
   "cell_type": "code",
   "execution_count": null,
   "metadata": {},
   "outputs": [],
   "source": [
    "res = conn.execute(\"\"\"SELECT name \n",
    "FROM sqlite_master \n",
    "WHERE type = 'table'\n",
    ";\"\"\"\n",
    "                  )\n",
    "for name in res:\n",
    "    print (name[0])"
   ]
  },
  {
   "cell_type": "markdown",
   "metadata": {},
   "source": [
    "## Vamos focar em ler dados de um banco relacional utilizando SQL\n",
    "\n",
    "#### A operação mais comum em um banco de dados é a leitura de dados e para isso precisamos escrever uma requisição, tmbém conhecido como `QUERY`.\n",
    "\n",
    "Uma `query` é construída em etapas:\n",
    "\n",
    "1. [`SELECT`](https://www.sqlitetutorial.net/sqlite-select/) = irá iniciar a seleção de dados que faremos a leitura\n",
    "\n",
    "2. FROM = irá selecionar as tabelas de interesse\n",
    "\n",
    "3. [`WHERE`](https://www.sqlitetutorial.net/sqlite-where/) = vamos declarar as condições para ler os dados\n",
    "\n",
    "4. [`GROUP BY`](https://www.sqlitetutorial.net/sqlite-group-by/) = podemos agrupar algum dado considerando uma coluna \n",
    "\n",
    "5. Pós processamento = podemos ordenar ([`ORDER BY`](https://www.sqlitetutorial.net/sqlite-order-by/)) ou estabelecer limites ([`LIMIT`](https://www.sqlitetutorial.net/sqlite-limit/))\n",
    "\n"
   ]
  },
  {
   "cell_type": "markdown",
   "metadata": {},
   "source": [
    "## Vamos construir aos poucos nossa query"
   ]
  },
  {
   "cell_type": "code",
   "execution_count": null,
   "metadata": {},
   "outputs": [],
   "source": [
    "query = \"SELECT * FROM customers;\"\n",
    "\n",
    "queryResult = pd.read_sql_query(query, db)\n",
    "\n",
    "queryResult.head()"
   ]
  },
  {
   "cell_type": "markdown",
   "metadata": {},
   "source": [
    "#### Vamos ler apenas algumas colunas específicas."
   ]
  },
  {
   "cell_type": "code",
   "execution_count": null,
   "metadata": {},
   "outputs": [],
   "source": [
    "query = \"SELECT customerName, phone FROM customers;\"\n",
    "\n",
    "queryResult = pd.read_sql_query(query,db)\n",
    "\n",
    "queryResult.head()"
   ]
  },
  {
   "cell_type": "markdown",
   "metadata": {},
   "source": [
    "#### Vamos utilizar pela primeira vez uma condição para fazer a leitura."
   ]
  },
  {
   "cell_type": "code",
   "execution_count": null,
   "metadata": {},
   "outputs": [],
   "source": [
    "query = \"\"\"SELECT * \n",
    "          \n",
    "          FROM customers \n",
    "          \n",
    "          WHERE country = 'USA' ;\"\"\"\n",
    "\n",
    "query2 = pd.read_sql_query(query,db)\n",
    "\n",
    "query2.head()"
   ]
  },
  {
   "cell_type": "markdown",
   "metadata": {},
   "source": [
    "#### Agora uma condição composta."
   ]
  },
  {
   "cell_type": "code",
   "execution_count": null,
   "metadata": {},
   "outputs": [],
   "source": [
    "query = \"\"\"SELECT * \n",
    "          \n",
    "          FROM customers \n",
    "          \n",
    "          WHERE country = 'USA' OR country = 'France';\"\"\"\n",
    "\n",
    "query2 = pd.read_sql_query(query,db)\n",
    "\n",
    "#query2.shape\n",
    "query2.head()"
   ]
  },
  {
   "cell_type": "markdown",
   "metadata": {},
   "source": [
    "#### Podemos usar o comando [`NOT IN`](https://www.ramosdainformatica.com.br/banco_de_dados/sql-not-in-ou-not-exists/)"
   ]
  },
  {
   "cell_type": "code",
   "execution_count": null,
   "metadata": {},
   "outputs": [],
   "source": [
    "query = \"\"\"SELECT * \n",
    "          \n",
    "          FROM customers \n",
    "          \n",
    "          WHERE country NOT IN ('USA', 'France');\"\"\"\n",
    "\n",
    "query2 = pd.read_sql_query(query,db)\n",
    "\n",
    "query2.shape\n",
    "query2.head()"
   ]
  },
  {
   "cell_type": "markdown",
   "metadata": {},
   "source": [
    "#### Uma terceira seleção composta."
   ]
  },
  {
   "cell_type": "code",
   "execution_count": null,
   "metadata": {},
   "outputs": [],
   "source": [
    "query = \"\"\"SELECT * \n",
    "          \n",
    "          FROM customers \n",
    "          \n",
    "          WHERE country ='USA' AND city ='NYC';\"\"\"\n",
    "\n",
    "query2 = pd.read_sql_query(query,db)\n",
    "\n",
    "query2.shape"
   ]
  },
  {
   "cell_type": "markdown",
   "metadata": {},
   "source": [
    "#### Para o caso de termos mais de uma tabela e quisermos ler apenas algumas colunas de cada tabela, utilzamos o [`JOIN`](https://www.sqlitetutorial.net/sqlite-join/)."
   ]
  },
  {
   "cell_type": "code",
   "execution_count": null,
   "metadata": {},
   "outputs": [],
   "source": [
    "query = \"\"\"SELECT\n",
    "    o.priceEach,\n",
    "    p.productCode,\n",
    "    p.productName\n",
    "    \n",
    "    FROM \n",
    "    orderdetails AS o INNER JOIN products AS p\n",
    "/*\n",
    "    orderdetails AS o,products AS p    \n",
    "*/\n",
    "    \n",
    "    WHERE\n",
    "    o.productCode=p.productCode;\"\"\"\n",
    "\n",
    "queryResult = pd.read_sql_query(query,db)\n",
    "\n",
    "queryResult.shape\n",
    "queryResult.head()"
   ]
  },
  {
   "cell_type": "markdown",
   "metadata": {},
   "source": [
    "#### Para ordenar as linhas pelos valores de uma coluna em ordem decrescente devemos utilizar o comando [`DESC`](https://www.tutorialspoint.com/sqlite/sqlite_order_by.htm) após a coluna de referência."
   ]
  },
  {
   "cell_type": "code",
   "execution_count": null,
   "metadata": {},
   "outputs": [],
   "source": [
    "\n",
    "query = \"\"\"SELECT\n",
    "    o.priceEach,\n",
    "    p.productCode,\n",
    "    p.productName\n",
    "    \n",
    "    FROM \n",
    "    orderdetails AS o, products AS p\n",
    "    \n",
    "    WHERE\n",
    "    o.productCode = p.productCode\n",
    "    \n",
    "    ORDER BY\n",
    "    o.priceEach DESC;\"\"\"\n",
    "\n",
    "queryResult = pd.read_sql_query(query,db)\n",
    "\n",
    "queryResult.shape\n",
    "queryResult.head()"
   ]
  },
  {
   "cell_type": "markdown",
   "metadata": {},
   "source": [
    "#### O comando [`GROUP BY`](https://www.sqlitetutorial.net/sqlite-group-by/) é utilizado para agrupar um conjunto de linhas em acordo com um determinado atributo comum. Se usado em conjunto com o[`Order by`](https://www.sqlitetutorial.net/sqlite-order-by/), deve-se lembrar que order by segue group by em [ordem de operação](https://learnsql.com/blog/sql-order-of-operations/#:~:text=Six%20Operations%20to%20Order%3A%20SELECT,developer%20to%20know%20this%20order.)."
   ]
  },
  {
   "cell_type": "code",
   "execution_count": null,
   "metadata": {},
   "outputs": [],
   "source": [
    "query = \"\"\"SELECT\n",
    "    p.productVendor AS Vendedor,\n",
    "    SUM(o.priceEach*o.quantityOrdered) AS 'VendaTotal'\n",
    "    \n",
    "    FROM \n",
    "    orderdetails AS o, products AS p\n",
    "    \n",
    "    WHERE\n",
    "    o.productCode = p.productCode\n",
    "    \n",
    "    GROUP BY\n",
    "    p.productVendor\n",
    "    \n",
    "    ORDER BY\n",
    "    VendaTotal;\"\"\"\n",
    "\n",
    "queryResult = pd.read_sql_query(query,db)\n",
    "\n",
    "queryResult.head()"
   ]
  },
  {
   "cell_type": "markdown",
   "metadata": {},
   "source": [
    "#### Podemos realisar a contagem de valores com o comando  [`COUNT`](https://www.sqlitetutorial.net/sqlite-count-function/)."
   ]
  },
  {
   "cell_type": "code",
   "execution_count": null,
   "metadata": {},
   "outputs": [],
   "source": [
    "\n",
    "query = \"\"\"SELECT\n",
    "    p.productVendor AS Vendedor,\n",
    "    COUNT(p.productVendor) AS 'TotalRegistro'\n",
    "    \n",
    "    FROM \n",
    "    products AS p\n",
    "    \n",
    "    GROUP BY\n",
    "    p.productVendor\n",
    "    \n",
    "    ORDER BY\n",
    "    TotalRegistro;\"\"\"\n",
    "\n",
    "queryResult = pd.read_sql_query(query,db)\n",
    "\n",
    "queryResult.head()"
   ]
  },
  {
   "cell_type": "markdown",
   "metadata": {},
   "source": [
    "## Lista completa de agregações \n",
    "\n",
    "<img src=\"list_aggregation.png\">"
   ]
  },
  {
   "cell_type": "markdown",
   "metadata": {},
   "source": [
    "#### O comando [`HAVING`](https://www.sqlitetutorial.net/sqlite-having/) é usado para especificar uma condição de pesquisa para um grupo."
   ]
  },
  {
   "cell_type": "code",
   "execution_count": null,
   "metadata": {},
   "outputs": [],
   "source": [
    "\n",
    "query = \"\"\"SELECT\n",
    "    p.productVendor AS Vendedor,\n",
    "    SUM(o.priceEach*o.quantityOrdered) AS 'VendaTotal'\n",
    "    \n",
    "    FROM \n",
    "    orderdetails AS o INNER JOIN products AS p\n",
    "    \n",
    "    WHERE\n",
    "    o.productCode = p.productCode\n",
    "    \n",
    "    GROUP BY\n",
    "    p.productVendor\n",
    "    \n",
    "    HAVING\n",
    "    o.quantityOrdered < 30\n",
    "    \n",
    "    ORDER BY\n",
    "    VendaTotal\n",
    "    ;\"\"\"\n",
    "\n",
    "queryResult = pd.read_sql_query(query,db)\n",
    "\n",
    "queryResult"
   ]
  },
  {
   "cell_type": "markdown",
   "metadata": {},
   "source": [
    "#### Podemos limitar a quantidade de linhas que serão lidas com o commando [`LIMIT`](https://www.sqlitetutorial.net/sqlite-limit/)."
   ]
  },
  {
   "cell_type": "code",
   "execution_count": null,
   "metadata": {},
   "outputs": [],
   "source": [
    "\n",
    "query = \"\"\"SELECT\n",
    "    p.productVendor AS Vendedor,\n",
    "    SUM(o.priceEach*o.quantityOrdered) AS 'VendaTotal'\n",
    "    \n",
    "    FROM \n",
    "    orderdetails AS o, products AS p\n",
    "    \n",
    "    WHERE\n",
    "    o.productCode=p.productCode\n",
    "    \n",
    "    GROUP BY\n",
    "    p.productVendor\n",
    "    \n",
    "    ORDER BY\n",
    "    VendaTotal DESC\n",
    "    \n",
    "    LIMIT\n",
    "    3;\"\"\"\n",
    "\n",
    "queryResult = pd.read_sql_query(query,db)\n",
    "\n",
    "queryResult"
   ]
  },
  {
   "cell_type": "markdown",
   "metadata": {},
   "source": [
    "## SQLite com Pandas\n",
    "\n",
    "###  <span style = \"color:blue\">Prática independente.</span>\n",
    "\n",
    "#### Agora começamos a fazer queries:"
   ]
  },
  {
   "cell_type": "markdown",
   "metadata": {},
   "source": [
    "## Lista de funcionários por chefe.\n",
    "\n",
    "```SQL\n",
    "JUNTE E COMBINE TODOS AS LINHAS DAS TABELAS\n",
    "   employees e1,\n",
    "   employees e2\n",
    "\n",
    "PEGUE SÓ LINHAS QUE OBEDEÇAM AO CRITÉRIO\n",
    "   e1.reportsTo = e2.employeeNumber\n",
    "\n",
    "MOSTRE AS COLUNAS\n",
    "   e2.firstName||' '||e2.lastName AS boss,\n",
    "   e2.jobTitle                    AS department,\n",
    "   e1.employeeNumber              AS ID,\n",
    "   e1.firstName||' '||e1.lastName AS employee\n",
    "\n",
    "ORDENE POR\n",
    "   boss\n",
    "```"
   ]
  },
  {
   "cell_type": "code",
   "execution_count": null,
   "metadata": {},
   "outputs": [],
   "source": []
  },
  {
   "cell_type": "markdown",
   "metadata": {},
   "source": [
    "####  <span style = \"color:red\">Código original.</span>\n",
    "<!--- \n",
    "query = \"\"\"SELECT    \n",
    "   e2.firstName||' '||e2.lastName AS boss,\n",
    "   e2.jobTitle                    AS department,\n",
    "   e1.employeeNumber              AS ID,\n",
    "   e1.firstName||' '||e1.lastName AS employee    \n",
    "\n",
    "    FROM \n",
    "    employees AS e1, employees AS e2\n",
    "\n",
    "    ORDER BY boss \n",
    "    LIMIT\n",
    "    3;\"\"\"\n",
    "\n",
    "queryResult = pd.read_sql_query(query, db)\n",
    "\n",
    "queryResult\n",
    "-->"
   ]
  },
  {
   "cell_type": "markdown",
   "metadata": {},
   "source": [
    "## Inspeção de pedidos de compra.\n",
    "\n",
    "#### Dados sobre pedidos aparecem nas tabelas `orders` e `orderdetails` e o que relaciona elas é a coluna `orderNumber`. Vamos inspecionar um único pedido.\n",
    "\n",
    "```SQL\n",
    "JUNTE E COMBINE TODOS AS LINHAS DAS TABELAS\n",
    "   orderdetails\n",
    "\n",
    "PEGUE SÓ LINHAS QUE OBEDEÇAM AO CRITÉRIO\n",
    "   orderNumber=10103\n",
    "\n",
    "MOSTRE AS COLUNAS\n",
    "    orderLineNumber,\n",
    "    productCode,\n",
    "    priceEach,\n",
    "    quantityOrdered,\n",
    "    priceEach*quantityOrdered as priceTotal\n",
    "    \n",
    "ORDENE POR\n",
    "   orderLineNumber\n",
    "```"
   ]
  },
  {
   "cell_type": "code",
   "execution_count": null,
   "metadata": {},
   "outputs": [],
   "source": []
  },
  {
   "cell_type": "markdown",
   "metadata": {},
   "source": [
    "####  <span style = \"color:red\">Código original.</span>\n",
    "<!--- \n",
    "query = \"\"\"SELECT    \n",
    "    orderLineNumber,\n",
    "    productCode,\n",
    "    priceEach,\n",
    "    quantityOrdered,\n",
    "    priceEach*quantityOrdered as priceTotal,\n",
    "    orderNumber\n",
    "\n",
    "    FROM \n",
    "    orderdetails\n",
    "\n",
    "    WHERE orderNumber = 10103\n",
    "    \n",
    "    ORDER BY orderLineNumber\n",
    "    LIMIT\n",
    "    3;\"\"\"\n",
    "\n",
    "queryResult = pd.read_sql_query(query, db)\n",
    "\n",
    "queryResult\n",
    "\n",
    "-->"
   ]
  },
  {
   "cell_type": "markdown",
   "metadata": {},
   "source": [
    "#### Vamos melhorar a leitura dessa tabela adicionando a descrição do produto. Faremos um `JOIN` com a tabela `products`.\n",
    "\n",
    "```SQL\n",
    "JUNTE E COMBINE TODOS AS LINHAS DAS TABELAS\n",
    "   orderdetails AS o,\n",
    "   products AS p\n",
    "\n",
    "PEGUE SÓ LINHAS QUE OBEDEÇAM AO CRITÉRIO\n",
    "    o.productCode=p.productCode AND\n",
    "    orderNumber=10103\n",
    "\n",
    "MOSTRE AS COLUNAS\n",
    "    o.orderLineNumber,\n",
    "    o.priceEach,\n",
    "    o.quantityOrdered,\n",
    "    o.priceEach*o.quantityOrdered as itemTotal,\n",
    "    o.productCode,\n",
    "    p.productName\n",
    "    \n",
    "ORDENE POR\n",
    "   orderLineNumber\n",
    "```"
   ]
  },
  {
   "cell_type": "code",
   "execution_count": null,
   "metadata": {},
   "outputs": [],
   "source": []
  },
  {
   "cell_type": "markdown",
   "metadata": {},
   "source": [
    "####  <span style = \"color:red\">Código original.</span>\n",
    "<!--- \n",
    "query = \"\"\"SELECT    \n",
    "    o.orderLineNumber,\n",
    "    o.priceEach,\n",
    "    o.quantityOrdered,\n",
    "    o.priceEach*o.quantityOrdered as itemTotal,\n",
    "    o.productCode,\n",
    "    p.productName\n",
    "    FROM \n",
    "    orderdetails AS o,\n",
    "    products AS p\n",
    "    \n",
    "    WHERE o.productCode = p.productCode AND orderNumber = 10103\n",
    "    \n",
    "    ORDER BY orderLineNumber\n",
    "    LIMIT\n",
    "    3;\"\"\"\n",
    "\n",
    "queryResult = pd.read_sql_query(query, db)\n",
    "\n",
    "queryResult\n",
    "\n",
    "-->"
   ]
  },
  {
   "cell_type": "markdown",
   "metadata": {},
   "source": [
    "## Cálculo de totais e subtotais\n"
   ]
  },
  {
   "cell_type": "markdown",
   "metadata": {},
   "source": [
    "#### Performance de venda por categoria de produtos.\n",
    "\n",
    "```SQL\n",
    "JUNTE E COMBINE TODOS AS LINHAS DAS TABELAS\n",
    "    orderdetails o,\n",
    "    products p\n",
    "\n",
    "PEGUE SÓ LINHAS QUE OBEDEÇAM AO CRITÉRIO\n",
    "    o.productCode=p.productCode\n",
    "\n",
    "MOSTRE AS COLUNAS\n",
    "    p.productLine,\n",
    "    count(p.productLine) AS nItems,\n",
    "    sum(o.priceEach*o.quantityOrdered)/count(p.productLine) AS averagePerItem,\n",
    "    sum(o.priceEach*o.quantityOrdered) AS lineTotal\n",
    "\n",
    "AGRUPE POR\n",
    "    p.productLine\n",
    "\n",
    "ORDENE INVERSAMENTE POR\n",
    "   lineTotal\n",
    "```"
   ]
  },
  {
   "cell_type": "code",
   "execution_count": null,
   "metadata": {},
   "outputs": [],
   "source": []
  },
  {
   "cell_type": "markdown",
   "metadata": {},
   "source": [
    "####  <span style = \"color:red\">Código original.</span>\n",
    "<!--- \n",
    "query = \"\"\"SELECT    \n",
    "    p.productLine,\n",
    "    count(p.productLine) AS nItems,\n",
    "    sum(o.priceEach*o.quantityOrdered)/count(p.productLine) AS averagePerItem,\n",
    "    sum(o.priceEach*o.quantityOrdered) AS lineTotal\n",
    "\n",
    "    FROM \n",
    "    orderdetails AS o, products AS p\n",
    "    /*orderdetails AS o INNER JOIN products AS p*/\n",
    "    \n",
    "    GROUP BY p.productLine\n",
    "    ORDER BY lineTotal\n",
    "    LIMIT 3;\"\"\"\n",
    "\n",
    "queryResult = pd.read_sql_query(query, db)\n",
    "\n",
    "queryResult\n",
    "\n",
    "-->"
   ]
  },
  {
   "cell_type": "markdown",
   "metadata": {},
   "source": [
    "#### Qual é o produto que mais vende ?\n",
    "\n",
    "```SQL\n",
    "JUNTE E COMBINE TODOS AS LINHAS DAS TABELAS\n",
    "    orderdetails o,\n",
    "    products p\n",
    "\n",
    "PEGUE SÓ LINHAS QUE OBEDEÇAM AO CRITÉRIO\n",
    "    o.productCode=p.productCode\n",
    "\n",
    "MOSTRE AS COLUNAS\n",
    "    p.productName,\n",
    "    count(o.quantityOrdered) AS nItems,\n",
    "#    sum(o.priceEach*o.quantityOrdered) AS lineTotal\n",
    "\n",
    "AGRUPE POR\n",
    "    p.productCode\n",
    "\n",
    "ORDENE INVERSAMENTE POR\n",
    "   lineTotal\n",
    "```"
   ]
  },
  {
   "cell_type": "code",
   "execution_count": null,
   "metadata": {},
   "outputs": [],
   "source": []
  },
  {
   "cell_type": "markdown",
   "metadata": {},
   "source": [
    "####  <span style = \"color:red\">Código original.</span>\n",
    "<!--- \n",
    "query = \"\"\"SELECT    \n",
    "    p.productName,\n",
    "    count(o.quantityOrdered) AS nItems,\n",
    "    sum(o.priceEach*o.quantityOrdered) AS lineTotal\n",
    "\n",
    "    FROM orderdetails o INNER JOIN products p\n",
    "    \n",
    "    WHERE o.productCode = p.productCode\n",
    "    \n",
    "    GROUP BY p.productCode\n",
    "    \n",
    "    ORDER BY lineTotal\n",
    "    \n",
    "    LIMIT 3;\"\"\"\n",
    "\n",
    "queryResult = pd.read_sql_query(query, db)\n",
    "\n",
    "queryResult\n",
    "\n",
    "-->"
   ]
  },
  {
   "cell_type": "markdown",
   "metadata": {},
   "source": [
    "#### Qual é o cliente que mais compra ?\n",
    "\n",
    "```SQL\n",
    "JUNTE E COMBINE TODOS AS LINHAS DAS TABELAS\n",
    "    orderdetails as od,\n",
    "    orders as o,\n",
    "    customers as c\n",
    "\n",
    "PEGUE SÓ LINHAS QUE OBEDEÇAM AO CRITÉRIO\n",
    "    od.orderNumber = o.orderNumber AND\n",
    "    c.customerNumber = o.customerNumber\n",
    "\n",
    "MOSTRE AS COLUNAS\n",
    "    c.customerNumber,\n",
    "    c.customerName,\n",
    "    sum(od.priceEach*od.quantityOrdered) AS customerTotal\n",
    "    sum(od.quantityOrdered) AS nItems,\n",
    "\n",
    "AGRUPE POR\n",
    "    c.customerNumber\n",
    "\n",
    "ORDENE INVERSAMENTE POR\n",
    "   c.customerNumber\n",
    "```"
   ]
  },
  {
   "cell_type": "code",
   "execution_count": null,
   "metadata": {},
   "outputs": [],
   "source": []
  },
  {
   "cell_type": "markdown",
   "metadata": {},
   "source": [
    "####  <span style = \"color:red\">Código original.</span>\n",
    "<!--- \n",
    "query = \"\"\"SELECT\n",
    "    c.customerNumber,\n",
    "    c.customerName,\n",
    "    sum(od.priceEach*od.quantityOrdered) AS customerTotal,\n",
    "    sum(od.quantityOrdered) AS nItems\n",
    "    \n",
    "    FROM \n",
    "    orderdetails AS od INNER JOIN orders AS o INNER JOIN customers AS c\n",
    "\n",
    "    WHERE od.orderNumber = o.orderNumber AND c.customerNumber = o.customerNumber\n",
    "\n",
    "    GROUP BY c.customerNumber\n",
    "    \n",
    "    ORDER BY c.customerNumber\n",
    "        \n",
    "    LIMIT 3;\"\"\"\n",
    "\n",
    "queryResult = pd.read_sql_query(query, db)\n",
    "\n",
    "queryResult\n",
    "-->"
   ]
  },
  {
   "cell_type": "markdown",
   "metadata": {},
   "source": [
    "#### Vendas e valores por mês.\n",
    "\n",
    "```SQL\n",
    "JUNTE E COMBINE TODOS AS LINHAS DAS TABELAS\n",
    "    orderdetails as od,\n",
    "    orders as o,\n",
    "\n",
    "PEGUE SÓ LINHAS QUE OBEDEÇAM AO CRITÉRIO\n",
    "    od.orderNumber = o.orderNumber\n",
    "\n",
    "MOSTRE AS COLUNAS\n",
    "    substr(o.orderDate,1,7) as month,\n",
    "    sum(od.priceEach*od.quantityOrdered) AS monthTotal\n",
    "    sum(od.quantityOrdered) AS nItems,\n",
    "\n",
    "AGRUPE POR\n",
    "    month\n",
    "\n",
    "ORDENE INVERSAMENTE POR\n",
    "   month\n",
    "```"
   ]
  },
  {
   "cell_type": "code",
   "execution_count": null,
   "metadata": {},
   "outputs": [],
   "source": []
  },
  {
   "cell_type": "markdown",
   "metadata": {},
   "source": [
    "\n",
    "####  <span style = \"color:red\">Código original.</span>\n",
    "<!--- \n",
    "query = \"\"\"SELECT\n",
    "    substr(o.orderDate,1,7) AS month,\n",
    "    sum(od.priceEach*od.quantityOrdered) AS monthTotal,\n",
    "    sum(od.quantityOrdered) AS nItems\n",
    "    \n",
    "    FROM orderdetails as od INNER JOIN orders as o\n",
    "    \n",
    "    WHERE od.orderNumber = o.orderNumber\n",
    "\n",
    "    GROUP BY month\n",
    "    \n",
    "    ORDER BY month\n",
    "        \n",
    "    LIMIT 3;\"\"\"\n",
    "\n",
    "queryResult = pd.read_sql_query(query, db)\n",
    "\n",
    "queryResult\n",
    "-->"
   ]
  },
  {
   "cell_type": "code",
   "execution_count": null,
   "metadata": {},
   "outputs": [],
   "source": []
  },
  {
   "cell_type": "code",
   "execution_count": null,
   "metadata": {},
   "outputs": [],
   "source": []
  }
 ],
 "metadata": {
  "kernelspec": {
   "display_name": "Python 3",
   "language": "python",
   "name": "python3"
  },
  "language_info": {
   "codemirror_mode": {
    "name": "ipython",
    "version": 3
   },
   "file_extension": ".py",
   "mimetype": "text/x-python",
   "name": "python",
   "nbconvert_exporter": "python",
   "pygments_lexer": "ipython3",
   "version": "3.7.6"
  }
 },
 "nbformat": 4,
 "nbformat_minor": 4
}
