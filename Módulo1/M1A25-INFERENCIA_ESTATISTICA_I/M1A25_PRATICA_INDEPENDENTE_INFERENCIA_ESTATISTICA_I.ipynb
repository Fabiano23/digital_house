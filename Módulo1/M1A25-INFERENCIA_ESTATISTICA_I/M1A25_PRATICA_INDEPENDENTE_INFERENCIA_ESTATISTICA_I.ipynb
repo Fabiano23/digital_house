{
  "nbformat": 4,
  "nbformat_minor": 0,
  "metadata": {
    "kernelspec": {
      "display_name": "Python 3",
      "language": "python",
      "name": "python3"
    },
    "language_info": {
      "codemirror_mode": {
        "name": "ipython",
        "version": 3
      },
      "file_extension": ".py",
      "mimetype": "text/x-python",
      "name": "python",
      "nbconvert_exporter": "python",
      "pygments_lexer": "ipython3",
      "version": "3.7.6"
    },
    "latex_envs": {
      "LaTeX_envs_menu_present": true,
      "autoclose": false,
      "autocomplete": true,
      "bibliofile": "biblio.bib",
      "cite_by": "apalike",
      "current_citInitial": 1,
      "eqLabelWithNumbers": true,
      "eqNumInitial": 1,
      "hotkeys": {
        "equation": "Ctrl-E",
        "itemize": "Ctrl-I"
      },
      "labels_anchors": false,
      "latex_user_defs": false,
      "report_style_numbering": false,
      "user_envs_cfg": false
    },
    "toc": {
      "base_numbering": 1,
      "nav_menu": {},
      "number_sections": true,
      "sideBar": true,
      "skip_h1_title": false,
      "title_cell": "Table of Contents",
      "title_sidebar": "Contents",
      "toc_cell": false,
      "toc_position": {},
      "toc_section_display": true,
      "toc_window_display": false
    },
    "varInspector": {
      "cols": {
        "lenName": 16,
        "lenType": 16,
        "lenVar": 40
      },
      "kernels_config": {
        "python": {
          "delete_cmd_postfix": "",
          "delete_cmd_prefix": "del ",
          "library": "var_list.py",
          "varRefreshCmd": "print(var_dic_list())"
        },
        "r": {
          "delete_cmd_postfix": ") ",
          "delete_cmd_prefix": "rm(",
          "library": "var_list.r",
          "varRefreshCmd": "cat(var_dic_list()) "
        }
      },
      "types_to_exclude": [
        "module",
        "function",
        "builtin_function_or_method",
        "instance",
        "_Feature"
      ],
      "window_display": false
    },
    "colab": {
      "name": "M1A25-PRATICA_INDEPENDENTE_INFERENCIA_ESTATISTICA_I.ipynb",
      "provenance": [],
      "collapsed_sections": []
    }
  },
  "cells": [
    {
      "cell_type": "markdown",
      "metadata": {
        "id": "6_PdKZXuvka8"
      },
      "source": [
        "# House Sales Price\n",
        "\n",
        "<br>\n",
        "<img src=\"house_sale.png\">\n",
        "<br>\n",
        "\n",
        "#### Os preços de venda de casas de conjunto de dados para King County, Seattle. Inclui casas vendidas entre maio de 2014 e maio de 2015. O conjunto de dados fornece recursos que as casas têm e o preço pelo qual elas foram vendidas. Pode ser usado para modelar a previsão de preços de casas.\n",
        "\n",
        "#### O conjunto de dados está disponível em kaggle [House Sales in King County, USA](https://www.kaggle.com/harlfoxem/housesalesprediction)\n",
        "\n",
        "#### Alguns dos atributos capturados no conjunto de dados são\n",
        "\n",
        "- Número de quartos e banheiros\n",
        "- Total de pés quadrados \n",
        "- Quantos andares\n",
        "- Se tem um porão e tamanho do porão\n",
        "- Classificação da casa\n",
        "- Clima tem beira-mar e a qualidade da vista\n",
        "- Quando a casa foi construída e se a casa é renovada, se for renovado\n",
        "- Latitude e longitude\n",
        "- preço da casa\n",
        "- Quando a casa foi vendida\n",
        "\n",
        "\n",
        "\n",
        "#### Levante algumas hipóteses a sua escolha e comprove se é possível não-rejeitar ou rejeitar, respondendo se as médias são estatisticamente iguais/equivalentes ou estatisticamente diferentes/significativas."
      ]
    },
    {
      "cell_type": "markdown",
      "metadata": {
        "id": "XS78tttRvkbK"
      },
      "source": [
        "#### Exercício 1: Faça a leitura do dataset, colete suas informações básicas, verifique a distribuição e plote dispersão dos dados de preços das casas."
      ]
    },
    {
      "cell_type": "code",
      "metadata": {
        "id": "ypN2Q4DhvkbL"
      },
      "source": [
        "import pandas as pd\n",
        "import numpy as np\n",
        "import matplotlib.pyplot as plt\n",
        "import seaborn as sns\n",
        "%matplotlib inline\n",
        "\n",
        "import warnings\n",
        "warnings.filterwarnings(\"ignore\")\n",
        "\n",
        "#Standard size of figures on this notebook\n",
        "plt.rcParams['figure.figsize'] = [10, 6]\n",
        "plt.rcParams['figure.dpi'] = 100"
      ],
      "execution_count": null,
      "outputs": []
    },
    {
      "cell_type": "code",
      "metadata": {
        "id": "9n40S_sgvkbN"
      },
      "source": [
        "kc = pd.read_csv('kc_house_data.csv')"
      ],
      "execution_count": null,
      "outputs": []
    },
    {
      "cell_type": "code",
      "metadata": {
        "colab": {
          "base_uri": "https://localhost:8080/",
          "height": 224
        },
        "id": "O2WpY0omvkbN",
        "outputId": "b18eae2d-497d-40f2-b8d0-44e13a28c348"
      },
      "source": [
        "kc.head()"
      ],
      "execution_count": null,
      "outputs": [
        {
          "output_type": "execute_result",
          "data": {
            "text/html": [
              "<div>\n",
              "<style scoped>\n",
              "    .dataframe tbody tr th:only-of-type {\n",
              "        vertical-align: middle;\n",
              "    }\n",
              "\n",
              "    .dataframe tbody tr th {\n",
              "        vertical-align: top;\n",
              "    }\n",
              "\n",
              "    .dataframe thead th {\n",
              "        text-align: right;\n",
              "    }\n",
              "</style>\n",
              "<table border=\"1\" class=\"dataframe\">\n",
              "  <thead>\n",
              "    <tr style=\"text-align: right;\">\n",
              "      <th></th>\n",
              "      <th>id</th>\n",
              "      <th>date</th>\n",
              "      <th>price</th>\n",
              "      <th>bedrooms</th>\n",
              "      <th>bathrooms</th>\n",
              "      <th>sqft_living</th>\n",
              "      <th>sqft_lot</th>\n",
              "      <th>floors</th>\n",
              "      <th>waterfront</th>\n",
              "      <th>view</th>\n",
              "      <th>condition</th>\n",
              "      <th>grade</th>\n",
              "      <th>sqft_above</th>\n",
              "      <th>sqft_basement</th>\n",
              "      <th>yr_built</th>\n",
              "      <th>yr_renovated</th>\n",
              "      <th>zipcode</th>\n",
              "      <th>lat</th>\n",
              "      <th>long</th>\n",
              "      <th>sqft_living15</th>\n",
              "      <th>sqft_lot15</th>\n",
              "    </tr>\n",
              "  </thead>\n",
              "  <tbody>\n",
              "    <tr>\n",
              "      <th>0</th>\n",
              "      <td>7129300520</td>\n",
              "      <td>20141013T000000</td>\n",
              "      <td>221900.0</td>\n",
              "      <td>3</td>\n",
              "      <td>1.00</td>\n",
              "      <td>1180</td>\n",
              "      <td>5650</td>\n",
              "      <td>1.0</td>\n",
              "      <td>0</td>\n",
              "      <td>0</td>\n",
              "      <td>3</td>\n",
              "      <td>7</td>\n",
              "      <td>1180</td>\n",
              "      <td>0</td>\n",
              "      <td>1955</td>\n",
              "      <td>0</td>\n",
              "      <td>98178</td>\n",
              "      <td>47.5112</td>\n",
              "      <td>-122.257</td>\n",
              "      <td>1340</td>\n",
              "      <td>5650</td>\n",
              "    </tr>\n",
              "    <tr>\n",
              "      <th>1</th>\n",
              "      <td>6414100192</td>\n",
              "      <td>20141209T000000</td>\n",
              "      <td>538000.0</td>\n",
              "      <td>3</td>\n",
              "      <td>2.25</td>\n",
              "      <td>2570</td>\n",
              "      <td>7242</td>\n",
              "      <td>2.0</td>\n",
              "      <td>0</td>\n",
              "      <td>0</td>\n",
              "      <td>3</td>\n",
              "      <td>7</td>\n",
              "      <td>2170</td>\n",
              "      <td>400</td>\n",
              "      <td>1951</td>\n",
              "      <td>1991</td>\n",
              "      <td>98125</td>\n",
              "      <td>47.7210</td>\n",
              "      <td>-122.319</td>\n",
              "      <td>1690</td>\n",
              "      <td>7639</td>\n",
              "    </tr>\n",
              "    <tr>\n",
              "      <th>2</th>\n",
              "      <td>5631500400</td>\n",
              "      <td>20150225T000000</td>\n",
              "      <td>180000.0</td>\n",
              "      <td>2</td>\n",
              "      <td>1.00</td>\n",
              "      <td>770</td>\n",
              "      <td>10000</td>\n",
              "      <td>1.0</td>\n",
              "      <td>0</td>\n",
              "      <td>0</td>\n",
              "      <td>3</td>\n",
              "      <td>6</td>\n",
              "      <td>770</td>\n",
              "      <td>0</td>\n",
              "      <td>1933</td>\n",
              "      <td>0</td>\n",
              "      <td>98028</td>\n",
              "      <td>47.7379</td>\n",
              "      <td>-122.233</td>\n",
              "      <td>2720</td>\n",
              "      <td>8062</td>\n",
              "    </tr>\n",
              "    <tr>\n",
              "      <th>3</th>\n",
              "      <td>2487200875</td>\n",
              "      <td>20141209T000000</td>\n",
              "      <td>604000.0</td>\n",
              "      <td>4</td>\n",
              "      <td>3.00</td>\n",
              "      <td>1960</td>\n",
              "      <td>5000</td>\n",
              "      <td>1.0</td>\n",
              "      <td>0</td>\n",
              "      <td>0</td>\n",
              "      <td>5</td>\n",
              "      <td>7</td>\n",
              "      <td>1050</td>\n",
              "      <td>910</td>\n",
              "      <td>1965</td>\n",
              "      <td>0</td>\n",
              "      <td>98136</td>\n",
              "      <td>47.5208</td>\n",
              "      <td>-122.393</td>\n",
              "      <td>1360</td>\n",
              "      <td>5000</td>\n",
              "    </tr>\n",
              "    <tr>\n",
              "      <th>4</th>\n",
              "      <td>1954400510</td>\n",
              "      <td>20150218T000000</td>\n",
              "      <td>510000.0</td>\n",
              "      <td>3</td>\n",
              "      <td>2.00</td>\n",
              "      <td>1680</td>\n",
              "      <td>8080</td>\n",
              "      <td>1.0</td>\n",
              "      <td>0</td>\n",
              "      <td>0</td>\n",
              "      <td>3</td>\n",
              "      <td>8</td>\n",
              "      <td>1680</td>\n",
              "      <td>0</td>\n",
              "      <td>1987</td>\n",
              "      <td>0</td>\n",
              "      <td>98074</td>\n",
              "      <td>47.6168</td>\n",
              "      <td>-122.045</td>\n",
              "      <td>1800</td>\n",
              "      <td>7503</td>\n",
              "    </tr>\n",
              "  </tbody>\n",
              "</table>\n",
              "</div>"
            ],
            "text/plain": [
              "           id             date     price  ...     long  sqft_living15  sqft_lot15\n",
              "0  7129300520  20141013T000000  221900.0  ... -122.257           1340        5650\n",
              "1  6414100192  20141209T000000  538000.0  ... -122.319           1690        7639\n",
              "2  5631500400  20150225T000000  180000.0  ... -122.233           2720        8062\n",
              "3  2487200875  20141209T000000  604000.0  ... -122.393           1360        5000\n",
              "4  1954400510  20150218T000000  510000.0  ... -122.045           1800        7503\n",
              "\n",
              "[5 rows x 21 columns]"
            ]
          },
          "metadata": {
            "tags": []
          },
          "execution_count": 3
        }
      ]
    },
    {
      "cell_type": "code",
      "metadata": {
        "colab": {
          "base_uri": "https://localhost:8080/"
        },
        "id": "gKv66HdiwVtm",
        "outputId": "96bda2a6-1d8f-4f20-b7eb-721d69faef6d"
      },
      "source": [
        "kc.info()"
      ],
      "execution_count": null,
      "outputs": [
        {
          "output_type": "stream",
          "text": [
            "<class 'pandas.core.frame.DataFrame'>\n",
            "RangeIndex: 21613 entries, 0 to 21612\n",
            "Data columns (total 21 columns):\n",
            " #   Column         Non-Null Count  Dtype  \n",
            "---  ------         --------------  -----  \n",
            " 0   id             21613 non-null  int64  \n",
            " 1   date           21613 non-null  object \n",
            " 2   price          21613 non-null  float64\n",
            " 3   bedrooms       21613 non-null  int64  \n",
            " 4   bathrooms      21613 non-null  float64\n",
            " 5   sqft_living    21613 non-null  int64  \n",
            " 6   sqft_lot       21613 non-null  int64  \n",
            " 7   floors         21613 non-null  float64\n",
            " 8   waterfront     21613 non-null  int64  \n",
            " 9   view           21613 non-null  int64  \n",
            " 10  condition      21613 non-null  int64  \n",
            " 11  grade          21613 non-null  int64  \n",
            " 12  sqft_above     21613 non-null  int64  \n",
            " 13  sqft_basement  21613 non-null  int64  \n",
            " 14  yr_built       21613 non-null  int64  \n",
            " 15  yr_renovated   21613 non-null  int64  \n",
            " 16  zipcode        21613 non-null  int64  \n",
            " 17  lat            21613 non-null  float64\n",
            " 18  long           21613 non-null  float64\n",
            " 19  sqft_living15  21613 non-null  int64  \n",
            " 20  sqft_lot15     21613 non-null  int64  \n",
            "dtypes: float64(5), int64(15), object(1)\n",
            "memory usage: 3.5+ MB\n"
          ],
          "name": "stdout"
        }
      ]
    },
    {
      "cell_type": "markdown",
      "metadata": {
        "id": "wgsyRLkGxnMe"
      },
      "source": [
        "Não temos dados nulos e todas as variáveis estão no tipo correto para se fazer operações com elas."
      ]
    },
    {
      "cell_type": "markdown",
      "metadata": {
        "id": "UVsPJ2QcxyRg"
      },
      "source": [
        "Distribuição preço das casas"
      ]
    },
    {
      "cell_type": "code",
      "metadata": {
        "colab": {
          "base_uri": "https://localhost:8080/",
          "height": 548
        },
        "id": "AyBQ14n9x0kx",
        "outputId": "67b029b9-7fe2-43c3-9c67-aed7a4dc3dd4"
      },
      "source": [
        "sns.distplot(kc['price']);"
      ],
      "execution_count": null,
      "outputs": [
        {
          "output_type": "display_data",
          "data": {
            "image/png": "[encoded data removed]",
            "text/plain": [
              "<Figure size 1000x600 with 1 Axes>"
            ]
          },
          "metadata": {
            "tags": [],
            "needs_background": "light"
          }
        }
      ]
    },
    {
      "cell_type": "code",
      "metadata": {
        "colab": {
          "base_uri": "https://localhost:8080/",
          "height": 533
        },
        "id": "iQI5liYeyTcs",
        "outputId": "4b554a60-a7ca-4302-9bee-4a92c0397277"
      },
      "source": [
        "sns.boxplot(kc['price']);"
      ],
      "execution_count": null,
      "outputs": [
        {
          "output_type": "display_data",
          "data": {
            "image/png": "[encoded data removed]",
            "text/plain": [
              "<Figure size 1000x600 with 1 Axes>"
            ]
          },
          "metadata": {
            "tags": [],
            "needs_background": "light"
          }
        }
      ]
    },
    {
      "cell_type": "markdown",
      "metadata": {
        "id": "oQAJPFcFzPzC"
      },
      "source": [
        "Temos uma distribuição enviesada à direita. Isso nos indica que as casas possuem os peços concentrados em valores mais baixos em nossa distribuição, mas possuímos casas outliers com valores considerados muito mais altos do que a maioria dos nossos dados."
      ]
    },
    {
      "cell_type": "markdown",
      "metadata": {
        "id": "KsX_YCKpvkbO"
      },
      "source": [
        "#### Exercício 2: Quais as 10 casas com a melhor relação custo/benefício do preço por metro quadrado?"
      ]
    },
    {
      "cell_type": "markdown",
      "metadata": {
        "id": "8yXH32bq2NKo"
      },
      "source": [
        "[How to Convert Square Feet Into Square Meters](https://sciencing.com/convert-feet-square-meters-5138447.html)\n",
        "\n",
        "Vamos somar as colunas sqft_living,\tsqft_lot, sqft_above, sqft_basement, sqft_living15, sqft_lot15 e obter o tamanho total em square feet da casa. Logo após, vamos utilizar a fórmula de conversão de pés quadrados para metros quadrados apontada no link acima.\n"
      ]
    },
    {
      "cell_type": "code",
      "metadata": {
        "id": "21ZYwUSQvkbO"
      },
      "source": [
        "kc['square_meters'] = round((kc['sqft_living'] + kc['sqft_lot'] + kc['sqft_above'] + kc['sqft_basement'] + kc['sqft_living15'] + kc['sqft_lot15']) * 0.09290304, 2)"
      ],
      "execution_count": null,
      "outputs": []
    },
    {
      "cell_type": "code",
      "metadata": {
        "colab": {
          "base_uri": "https://localhost:8080/"
        },
        "id": "7m3rSTE93185",
        "outputId": "f86ae787-96ec-4a52-e80f-13c2f6028931"
      },
      "source": [
        "kc['square_meters'].head()"
      ],
      "execution_count": null,
      "outputs": [
        {
          "output_type": "execute_result",
          "data": {
            "text/plain": [
              "0    1393.55\n",
              "1    2017.02\n",
              "2    2073.78\n",
              "3    1419.56\n",
              "4    1927.09\n",
              "Name: square_meters, dtype: float64"
            ]
          },
          "metadata": {
            "tags": []
          },
          "execution_count": 10
        }
      ]
    },
    {
      "cell_type": "code",
      "metadata": {
        "id": "JvLjxw-J362l"
      },
      "source": [
        "kc['cost_benefit'] = kc['price'] / kc['square_meters']"
      ],
      "execution_count": null,
      "outputs": []
    },
    {
      "cell_type": "code",
      "metadata": {
        "colab": {
          "base_uri": "https://localhost:8080/",
          "height": 379
        },
        "id": "KrdoqKIS4R9c",
        "outputId": "887eedee-76cf-4851-8b0c-19833aeadb78"
      },
      "source": [
        "kc.sort_values(by= 'cost_benefit', ascending= True).head(10)"
      ],
      "execution_count": null,
      "outputs": [
        {
          "output_type": "execute_result",
          "data": {
            "text/html": [
              "<div>\n",
              "<style scoped>\n",
              "    .dataframe tbody tr th:only-of-type {\n",
              "        vertical-align: middle;\n",
              "    }\n",
              "\n",
              "    .dataframe tbody tr th {\n",
              "        vertical-align: top;\n",
              "    }\n",
              "\n",
              "    .dataframe thead th {\n",
              "        text-align: right;\n",
              "    }\n",
              "</style>\n",
              "<table border=\"1\" class=\"dataframe\">\n",
              "  <thead>\n",
              "    <tr style=\"text-align: right;\">\n",
              "      <th></th>\n",
              "      <th>id</th>\n",
              "      <th>date</th>\n",
              "      <th>price</th>\n",
              "      <th>bedrooms</th>\n",
              "      <th>bathrooms</th>\n",
              "      <th>sqft_living</th>\n",
              "      <th>sqft_lot</th>\n",
              "      <th>floors</th>\n",
              "      <th>waterfront</th>\n",
              "      <th>view</th>\n",
              "      <th>condition</th>\n",
              "      <th>grade</th>\n",
              "      <th>sqft_above</th>\n",
              "      <th>sqft_basement</th>\n",
              "      <th>yr_built</th>\n",
              "      <th>yr_renovated</th>\n",
              "      <th>zipcode</th>\n",
              "      <th>lat</th>\n",
              "      <th>long</th>\n",
              "      <th>sqft_living15</th>\n",
              "      <th>sqft_lot15</th>\n",
              "      <th>square_meters</th>\n",
              "      <th>cost_benefit</th>\n",
              "    </tr>\n",
              "  </thead>\n",
              "  <tbody>\n",
              "    <tr>\n",
              "      <th>17319</th>\n",
              "      <td>3326079016</td>\n",
              "      <td>20150504T000000</td>\n",
              "      <td>190000.0</td>\n",
              "      <td>2</td>\n",
              "      <td>1.00</td>\n",
              "      <td>710</td>\n",
              "      <td>1164794</td>\n",
              "      <td>1.0</td>\n",
              "      <td>0</td>\n",
              "      <td>0</td>\n",
              "      <td>2</td>\n",
              "      <td>5</td>\n",
              "      <td>710</td>\n",
              "      <td>0</td>\n",
              "      <td>1915</td>\n",
              "      <td>0</td>\n",
              "      <td>98014</td>\n",
              "      <td>47.6888</td>\n",
              "      <td>-121.909</td>\n",
              "      <td>1680</td>\n",
              "      <td>16730</td>\n",
              "      <td>110055.17</td>\n",
              "      <td>1.726407</td>\n",
              "    </tr>\n",
              "    <tr>\n",
              "      <th>1719</th>\n",
              "      <td>1020069017</td>\n",
              "      <td>20150327T000000</td>\n",
              "      <td>700000.0</td>\n",
              "      <td>4</td>\n",
              "      <td>1.00</td>\n",
              "      <td>1300</td>\n",
              "      <td>1651359</td>\n",
              "      <td>1.0</td>\n",
              "      <td>0</td>\n",
              "      <td>3</td>\n",
              "      <td>4</td>\n",
              "      <td>6</td>\n",
              "      <td>1300</td>\n",
              "      <td>0</td>\n",
              "      <td>1920</td>\n",
              "      <td>0</td>\n",
              "      <td>98022</td>\n",
              "      <td>47.2313</td>\n",
              "      <td>-122.023</td>\n",
              "      <td>2560</td>\n",
              "      <td>425581</td>\n",
              "      <td>193433.42</td>\n",
              "      <td>3.618816</td>\n",
              "    </tr>\n",
              "    <tr>\n",
              "      <th>15620</th>\n",
              "      <td>2225079030</td>\n",
              "      <td>20141212T000000</td>\n",
              "      <td>180000.0</td>\n",
              "      <td>2</td>\n",
              "      <td>1.00</td>\n",
              "      <td>960</td>\n",
              "      <td>87991</td>\n",
              "      <td>1.5</td>\n",
              "      <td>0</td>\n",
              "      <td>0</td>\n",
              "      <td>3</td>\n",
              "      <td>5</td>\n",
              "      <td>960</td>\n",
              "      <td>0</td>\n",
              "      <td>1946</td>\n",
              "      <td>0</td>\n",
              "      <td>98014</td>\n",
              "      <td>47.6300</td>\n",
              "      <td>-121.900</td>\n",
              "      <td>1940</td>\n",
              "      <td>392040</td>\n",
              "      <td>44954.94</td>\n",
              "      <td>4.004009</td>\n",
              "    </tr>\n",
              "    <tr>\n",
              "      <th>17197</th>\n",
              "      <td>5111400086</td>\n",
              "      <td>20140512T000000</td>\n",
              "      <td>110000.0</td>\n",
              "      <td>3</td>\n",
              "      <td>1.00</td>\n",
              "      <td>1250</td>\n",
              "      <td>53143</td>\n",
              "      <td>1.0</td>\n",
              "      <td>0</td>\n",
              "      <td>0</td>\n",
              "      <td>5</td>\n",
              "      <td>6</td>\n",
              "      <td>1250</td>\n",
              "      <td>0</td>\n",
              "      <td>1945</td>\n",
              "      <td>0</td>\n",
              "      <td>98038</td>\n",
              "      <td>47.4235</td>\n",
              "      <td>-122.051</td>\n",
              "      <td>1820</td>\n",
              "      <td>217800</td>\n",
              "      <td>25572.77</td>\n",
              "      <td>4.301450</td>\n",
              "    </tr>\n",
              "    <tr>\n",
              "      <th>3493</th>\n",
              "      <td>522069097</td>\n",
              "      <td>20141125T000000</td>\n",
              "      <td>150000.0</td>\n",
              "      <td>2</td>\n",
              "      <td>1.00</td>\n",
              "      <td>720</td>\n",
              "      <td>212137</td>\n",
              "      <td>1.0</td>\n",
              "      <td>0</td>\n",
              "      <td>0</td>\n",
              "      <td>3</td>\n",
              "      <td>5</td>\n",
              "      <td>720</td>\n",
              "      <td>0</td>\n",
              "      <td>1982</td>\n",
              "      <td>0</td>\n",
              "      <td>98058</td>\n",
              "      <td>47.4220</td>\n",
              "      <td>-122.066</td>\n",
              "      <td>2010</td>\n",
              "      <td>109642</td>\n",
              "      <td>30214.76</td>\n",
              "      <td>4.964461</td>\n",
              "    </tr>\n",
              "    <tr>\n",
              "      <th>7647</th>\n",
              "      <td>2623069031</td>\n",
              "      <td>20140521T000000</td>\n",
              "      <td>542500.0</td>\n",
              "      <td>5</td>\n",
              "      <td>3.25</td>\n",
              "      <td>3010</td>\n",
              "      <td>1074218</td>\n",
              "      <td>1.5</td>\n",
              "      <td>0</td>\n",
              "      <td>0</td>\n",
              "      <td>5</td>\n",
              "      <td>8</td>\n",
              "      <td>2010</td>\n",
              "      <td>1000</td>\n",
              "      <td>1931</td>\n",
              "      <td>0</td>\n",
              "      <td>98027</td>\n",
              "      <td>47.4564</td>\n",
              "      <td>-122.004</td>\n",
              "      <td>2450</td>\n",
              "      <td>68825</td>\n",
              "      <td>106979.06</td>\n",
              "      <td>5.071086</td>\n",
              "    </tr>\n",
              "    <tr>\n",
              "      <th>1774</th>\n",
              "      <td>1549500370</td>\n",
              "      <td>20140505T000000</td>\n",
              "      <td>210000.0</td>\n",
              "      <td>3</td>\n",
              "      <td>1.00</td>\n",
              "      <td>1340</td>\n",
              "      <td>306848</td>\n",
              "      <td>1.0</td>\n",
              "      <td>0</td>\n",
              "      <td>0</td>\n",
              "      <td>3</td>\n",
              "      <td>5</td>\n",
              "      <td>1340</td>\n",
              "      <td>0</td>\n",
              "      <td>1953</td>\n",
              "      <td>0</td>\n",
              "      <td>98019</td>\n",
              "      <td>47.7534</td>\n",
              "      <td>-121.912</td>\n",
              "      <td>1800</td>\n",
              "      <td>128066</td>\n",
              "      <td>40821.04</td>\n",
              "      <td>5.144406</td>\n",
              "    </tr>\n",
              "    <tr>\n",
              "      <th>4540</th>\n",
              "      <td>2522029039</td>\n",
              "      <td>20140929T000000</td>\n",
              "      <td>550000.0</td>\n",
              "      <td>3</td>\n",
              "      <td>2.00</td>\n",
              "      <td>3650</td>\n",
              "      <td>843309</td>\n",
              "      <td>2.0</td>\n",
              "      <td>0</td>\n",
              "      <td>0</td>\n",
              "      <td>4</td>\n",
              "      <td>7</td>\n",
              "      <td>3650</td>\n",
              "      <td>0</td>\n",
              "      <td>1991</td>\n",
              "      <td>0</td>\n",
              "      <td>98070</td>\n",
              "      <td>47.3627</td>\n",
              "      <td>-122.496</td>\n",
              "      <td>1870</td>\n",
              "      <td>273992</td>\n",
              "      <td>104652.58</td>\n",
              "      <td>5.255484</td>\n",
              "    </tr>\n",
              "    <tr>\n",
              "      <th>12950</th>\n",
              "      <td>120059044</td>\n",
              "      <td>20150217T000000</td>\n",
              "      <td>250000.0</td>\n",
              "      <td>3</td>\n",
              "      <td>1.75</td>\n",
              "      <td>1628</td>\n",
              "      <td>286355</td>\n",
              "      <td>1.0</td>\n",
              "      <td>0</td>\n",
              "      <td>0</td>\n",
              "      <td>3</td>\n",
              "      <td>7</td>\n",
              "      <td>1628</td>\n",
              "      <td>0</td>\n",
              "      <td>1996</td>\n",
              "      <td>0</td>\n",
              "      <td>98092</td>\n",
              "      <td>47.2558</td>\n",
              "      <td>-122.122</td>\n",
              "      <td>1490</td>\n",
              "      <td>216344</td>\n",
              "      <td>47143.18</td>\n",
              "      <td>5.302994</td>\n",
              "    </tr>\n",
              "    <tr>\n",
              "      <th>17576</th>\n",
              "      <td>1222069089</td>\n",
              "      <td>20140904T000000</td>\n",
              "      <td>375000.0</td>\n",
              "      <td>1</td>\n",
              "      <td>1.00</td>\n",
              "      <td>800</td>\n",
              "      <td>533610</td>\n",
              "      <td>1.5</td>\n",
              "      <td>0</td>\n",
              "      <td>0</td>\n",
              "      <td>5</td>\n",
              "      <td>5</td>\n",
              "      <td>800</td>\n",
              "      <td>0</td>\n",
              "      <td>1950</td>\n",
              "      <td>0</td>\n",
              "      <td>98038</td>\n",
              "      <td>47.4134</td>\n",
              "      <td>-121.986</td>\n",
              "      <td>1790</td>\n",
              "      <td>216057</td>\n",
              "      <td>69961.28</td>\n",
              "      <td>5.360108</td>\n",
              "    </tr>\n",
              "  </tbody>\n",
              "</table>\n",
              "</div>"
            ],
            "text/plain": [
              "               id             date  ...  square_meters  cost_benefit\n",
              "17319  3326079016  20150504T000000  ...      110055.17      1.726407\n",
              "1719   1020069017  20150327T000000  ...      193433.42      3.618816\n",
              "15620  2225079030  20141212T000000  ...       44954.94      4.004009\n",
              "17197  5111400086  20140512T000000  ...       25572.77      4.301450\n",
              "3493    522069097  20141125T000000  ...       30214.76      4.964461\n",
              "7647   2623069031  20140521T000000  ...      106979.06      5.071086\n",
              "1774   1549500370  20140505T000000  ...       40821.04      5.144406\n",
              "4540   2522029039  20140929T000000  ...      104652.58      5.255484\n",
              "12950   120059044  20150217T000000  ...       47143.18      5.302994\n",
              "17576  1222069089  20140904T000000  ...       69961.28      5.360108\n",
              "\n",
              "[10 rows x 23 columns]"
            ]
          },
          "metadata": {
            "tags": []
          },
          "execution_count": 12
        }
      ]
    },
    {
      "cell_type": "code",
      "metadata": {
        "colab": {
          "base_uri": "https://localhost:8080/"
        },
        "id": "WzEUQ6Gh5yu3",
        "outputId": "b95edaa3-64e5-4270-be5e-0c762a5fbe13"
      },
      "source": [
        "kc['condition'].unique()"
      ],
      "execution_count": null,
      "outputs": [
        {
          "output_type": "execute_result",
          "data": {
            "text/plain": [
              "array([3, 5, 4, 1, 2])"
            ]
          },
          "metadata": {
            "tags": []
          },
          "execution_count": 13
        }
      ]
    },
    {
      "cell_type": "markdown",
      "metadata": {
        "id": "OGF-k4cc5k5T"
      },
      "source": [
        "Percebemos que elas possuem pouco números de andares; são, em grande maioria mais antigas e não foram renovadas. Apesar disso, possuem uma condição bem balanceada já que o range para a condição das casas é de 1 a 5."
      ]
    },
    {
      "cell_type": "markdown",
      "metadata": {
        "id": "WuWq30VyvkbO"
      },
      "source": [
        "#### Exercício 3: Qual a correlação do nível de classificação das casas em relação ao seu preço?"
      ]
    },
    {
      "cell_type": "code",
      "metadata": {
        "colab": {
          "base_uri": "https://localhost:8080/",
          "height": 564
        },
        "id": "S1vMGVJrvkbP",
        "outputId": "ee0942ba-c83b-461b-c5bd-b28d38ebaa43"
      },
      "source": [
        "sns.set_theme(style=\"whitegrid\")\n",
        "\n",
        "sns.scatterplot(kc['price'], kc['grade'])\n",
        "\n",
        "plt.title('House prices per grade');"
      ],
      "execution_count": null,
      "outputs": [
        {
          "output_type": "display_data",
          "data": {
            "image/png": "[encoded data removed]",
            "text/plain": [
              "<Figure size 1000x600 with 1 Axes>"
            ]
          },
          "metadata": {
            "tags": []
          }
        }
      ]
    },
    {
      "cell_type": "code",
      "metadata": {
        "colab": {
          "base_uri": "https://localhost:8080/",
          "height": 564
        },
        "id": "Fs3TYdgldOiO",
        "outputId": "eeacf2d9-ca70-4166-f239-d13abbe9ceef"
      },
      "source": [
        "sns.boxplot(kc['grade'], kc['price'])\n",
        "\n",
        "plt.title('House prices per grade');"
      ],
      "execution_count": null,
      "outputs": [
        {
          "output_type": "display_data",
          "data": {
            "image/png": "[encoded data removed]",
            "text/plain": [
              "<Figure size 1000x600 with 1 Axes>"
            ]
          },
          "metadata": {
            "tags": []
          }
        }
      ]
    },
    {
      "cell_type": "code",
      "metadata": {
        "colab": {
          "base_uri": "https://localhost:8080/",
          "height": 111
        },
        "id": "bYdeFJVA-2Tb",
        "outputId": "d2054b02-e6dd-4a72-d5a9-f08e83defec9"
      },
      "source": [
        "kc[['price', 'grade']].corr()"
      ],
      "execution_count": null,
      "outputs": [
        {
          "output_type": "execute_result",
          "data": {
            "text/html": [
              "<div>\n",
              "<style scoped>\n",
              "    .dataframe tbody tr th:only-of-type {\n",
              "        vertical-align: middle;\n",
              "    }\n",
              "\n",
              "    .dataframe tbody tr th {\n",
              "        vertical-align: top;\n",
              "    }\n",
              "\n",
              "    .dataframe thead th {\n",
              "        text-align: right;\n",
              "    }\n",
              "</style>\n",
              "<table border=\"1\" class=\"dataframe\">\n",
              "  <thead>\n",
              "    <tr style=\"text-align: right;\">\n",
              "      <th></th>\n",
              "      <th>price</th>\n",
              "      <th>grade</th>\n",
              "    </tr>\n",
              "  </thead>\n",
              "  <tbody>\n",
              "    <tr>\n",
              "      <th>price</th>\n",
              "      <td>1.000000</td>\n",
              "      <td>0.667434</td>\n",
              "    </tr>\n",
              "    <tr>\n",
              "      <th>grade</th>\n",
              "      <td>0.667434</td>\n",
              "      <td>1.000000</td>\n",
              "    </tr>\n",
              "  </tbody>\n",
              "</table>\n",
              "</div>"
            ],
            "text/plain": [
              "          price     grade\n",
              "price  1.000000  0.667434\n",
              "grade  0.667434  1.000000"
            ]
          },
          "metadata": {
            "tags": []
          },
          "execution_count": 28
        }
      ]
    },
    {
      "cell_type": "markdown",
      "metadata": {
        "id": "2itzFVvr_PV9"
      },
      "source": [
        "Temos uma correlação de 66%, 67%. Não temos uma correlação positiva tão forte, mas podemos perceber (no boxplot) que as casas com maiores notas estão concentradas em valores de preços maiores."
      ]
    },
    {
      "cell_type": "markdown",
      "metadata": {
        "id": "gV8ZfyhZvkbQ"
      },
      "source": [
        "#### Exercício 4: Podemos afirmar que estar de frente para o lago representa um fator que eleva o preço médio das casas, com uma confiança superior a 95%?"
      ]
    },
    {
      "cell_type": "markdown",
      "metadata": {
        "id": "Q8RG6NlHJeyU"
      },
      "source": [
        "0 = não é de frente para o lago\n",
        "\n",
        "1 = sim, é de frente para o lago"
      ]
    },
    {
      "cell_type": "code",
      "metadata": {
        "id": "KUDHDf_WvkbQ",
        "colab": {
          "base_uri": "https://localhost:8080/"
        },
        "outputId": "83f318d6-470d-4e00-8d3e-2c0dcb2dde6b"
      },
      "source": [
        "#Primeiro passo, separar os preços das casas dos dois grupos em variáveis diferentes\n",
        "nao_frente_pro_lago = kc[kc['waterfront'] == 0]['price'].values\n",
        "frente_pro_lago = kc[kc['waterfront'] == 1]['price'].values\n",
        "\n",
        "\n",
        "# Tamanho das duas amostras\n",
        "print(len(nao_frente_pro_lago), len(frente_pro_lago))"
      ],
      "execution_count": 31,
      "outputs": [
        {
          "output_type": "stream",
          "text": [
            "21450 163\n"
          ],
          "name": "stdout"
        }
      ]
    },
    {
      "cell_type": "code",
      "metadata": {
        "colab": {
          "base_uri": "https://localhost:8080/",
          "height": 553
        },
        "id": "BBssHtgTJaff",
        "outputId": "1b199ed4-d0c7-47da-bbbc-b1394ed9e219"
      },
      "source": [
        "sns.distplot(frente_pro_lago);"
      ],
      "execution_count": 32,
      "outputs": [
        {
          "output_type": "display_data",
          "data": {
            "image/png": "[encoded data removed]",
            "text/plain": [
              "<Figure size 1000x600 with 1 Axes>"
            ]
          },
          "metadata": {
            "tags": []
          }
        }
      ]
    },
    {
      "cell_type": "code",
      "metadata": {
        "colab": {
          "base_uri": "https://localhost:8080/",
          "height": 553
        },
        "id": "0c4wkboIKv1o",
        "outputId": "b0942dc9-ae51-41d0-8949-64f07494bec1"
      },
      "source": [
        "sns.distplot(nao_frente_pro_lago);"
      ],
      "execution_count": 33,
      "outputs": [
        {
          "output_type": "display_data",
          "data": {
            "image/png": "[encoded data removed]",
            "text/plain": [
              "<Figure size 1000x600 with 1 Axes>"
            ]
          },
          "metadata": {
            "tags": []
          }
        }
      ]
    },
    {
      "cell_type": "markdown",
      "metadata": {
        "id": "avGLiZ1tNpPM"
      },
      "source": [
        "Como não conseguimos visualmente afirmar que as duas distribuições são normais (os gráficos indicam que são enviesadas à direita), vamos utilizar o teste não paramétrico  Mann-Whitney U Test para testar se há diferenças significativas entre as duas distribuições.\n",
        "\n",
        "[Nonparametric statistical tests for the continuous data: the basic concept and the practical use](https://www.ncbi.nlm.nih.gov/pmc/articles/PMC4754273/)"
      ]
    },
    {
      "cell_type": "markdown",
      "metadata": {
        "id": "YhSgwQkbZKe7"
      },
      "source": [
        "###O [Mann-Whitney U test](https://en.wikipedia.org/wiki/Mann%E2%80%93Whitney_U_test) (para duas amostras independentes, não paramétricas e não pareadas)\n"
      ]
    },
    {
      "cell_type": "markdown",
      "metadata": {
        "id": "zLtzb8DJZS8C"
      },
      "source": [
        "O [Mann-Whitney U test](https://www.statisticshowto.com/mann-whitney-u-test/) é um teste estatístico não paramétrico de significância para determinar se duas amostras independentes e não pareadas são provenientes de populações com a mesma distribuição. \n",
        "Neste caso vamos utilizar o teste para determinar a probabilidade que selecionada qualquer observação de preço, aleatoriamente, em uma amostra (casas de frente para o lago), ela ser maior que uma observação na outra amostra (casas não de frente para o lago). Assim, podemos determinar a probabilidade das casas de frente para o lago possuírem maiores preços. Nesse sentido não vamos comparar o preço medio dos dois tipos de casas como desejado no enunciado, mas um procedimento que parece ser mais específico tendo em vista as características das variáveis com as quais estamos lidando.\n",
        "\n",
        "*Hipótese nula* (H0): As distribuições das amostras são iguais. Não temos indícios de que existem diferenças significativas dos preços de acordo com a localização das casas.\n",
        "\n",
        "*Hipótese alternativa* (H1): As distribuições das duas amostras são diferentes sendo mais provável termos valores mais altos de casas de frente para o lago."
      ]
    },
    {
      "cell_type": "markdown",
      "metadata": {
        "id": "no5S0zUNak6x"
      },
      "source": [
        "h0 = As distribuições \"provém\" de populações similares, portanto não possuem diferenças significativas entre os preços das casas. \n",
        " \n",
        "h1 = P(X > Y), isto é, a probabilidade de um valor na amostra x (casas de frente para o lago) ser maior que um valor na amostra y (casas que não são de frente para o lago).\n",
        "\n",
        "Se o p_value gerado for maior que alpha (α = 0.05), não temos evidências de que há diferenças nas duas distribuições."
      ]
    },
    {
      "cell_type": "code",
      "metadata": {
        "id": "PeXrvc8ijbUC",
        "colab": {
          "base_uri": "https://localhost:8080/"
        },
        "outputId": "962523f3-6046-4c38-aa42-ffe8ca44edff"
      },
      "source": [
        "from scipy.stats import mannwhitneyu\n",
        "# O parâmetro 'greater' nos é que específica nossa hipótese alternativa. A probabilidade de um valor em x ser maior que um valor de y.\n",
        "# Se não indicado, ela testa somente se as duas amostras provém da mesmas distribuições populacionais \n",
        "#e, portanto, não possuem diferenças significativas.\n",
        "\n",
        "p_value = mannwhitneyu(x= frente_pro_lago, y= nao_frente_pro_lago, alternative= 'greater')[1]\n",
        "p_value"
      ],
      "execution_count": 34,
      "outputs": [
        {
          "output_type": "execute_result",
          "data": {
            "text/plain": [
              "1.6215210391178017e-64"
            ]
          },
          "metadata": {
            "tags": []
          },
          "execution_count": 34
        }
      ]
    },
    {
      "cell_type": "code",
      "metadata": {
        "colab": {
          "base_uri": "https://localhost:8080/"
        },
        "id": "MNlVu1rZOZId",
        "outputId": "a70bc92f-dce2-4b9a-c78d-4eef3a32032d"
      },
      "source": [
        "alpha = 0.05\n",
        "\n",
        "if p_value >= alpha:\n",
        "    print('Mesma distribuição (não rejeito H0)')\n",
        "else:\n",
        "    print('Diferentes distribuições (rejeito H0)')"
      ],
      "execution_count": 35,
      "outputs": [
        {
          "output_type": "stream",
          "text": [
            "Diferentes distribuições (rejeito H0)\n"
          ],
          "name": "stdout"
        }
      ]
    },
    {
      "cell_type": "markdown",
      "metadata": {
        "id": "eRgqGYNam2rF"
      },
      "source": [
        "Rejeitamos a hipótese nula de que não há diferenças no preços da casas de acordo com a sua localização. Nesse sentido, há a maior probabilidade da casa ter um preço maior se for de frente para o lago.\n",
        "\n",
        "Obs: O teste foi realizado com dados de casas somente de King County, Seattle, não sendo possível, portanto, inferir a partir do teste feito sobre casas com mesmas características seja nos EUA ou em qualquer outro lugar do mundo."
      ]
    }
  ]
}