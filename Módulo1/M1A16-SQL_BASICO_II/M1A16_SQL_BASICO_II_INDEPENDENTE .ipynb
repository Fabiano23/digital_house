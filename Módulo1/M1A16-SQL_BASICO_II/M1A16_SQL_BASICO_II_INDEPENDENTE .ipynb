{
  "nbformat": 4,
  "nbformat_minor": 0,
  "metadata": {
    "kernelspec": {
      "display_name": "Python 3",
      "language": "python",
      "name": "python3"
    },
    "language_info": {
      "codemirror_mode": {
        "name": "ipython",
        "version": 3
      },
      "file_extension": ".py",
      "mimetype": "text/x-python",
      "name": "python",
      "nbconvert_exporter": "python",
      "pygments_lexer": "ipython3",
      "version": "3.7.6"
    },
    "colab": {
      "name": "M1A16-SQL_BASICO_II_INDEPENDENTE.ipynb",
      "provenance": [],
      "collapsed_sections": [
        "imPW6XDxk8fc",
        "vBzCv-R6k8fd",
        "86JTjONXk8fd",
        "bxblmz3lk8fd",
        "nimoebgAk8fd",
        "kiilEPnfk8fe"
      ]
    }
  },
  "cells": [
    {
      "cell_type": "markdown",
      "metadata": {
        "id": "gyPmbnoGk8fc"
      },
      "source": [
        "# Prática independente - SQL Básico II."
      ]
    },
    {
      "cell_type": "markdown",
      "metadata": {
        "id": "NXBkQYdelmlX"
      },
      "source": [
        "Importando bibliotecas"
      ]
    },
    {
      "cell_type": "code",
      "metadata": {
        "id": "n7nQm1iFlpNL"
      },
      "source": [
        "import pandas as pd\n",
        "import sqlite3\n",
        "import seaborn as sns\n",
        "import matplotlib.pyplot as plt"
      ],
      "execution_count": 38,
      "outputs": []
    },
    {
      "cell_type": "markdown",
      "metadata": {
        "id": "OUYC1vchzo6n"
      },
      "source": [
        "Tamanho padrão das figuras neste notebook"
      ]
    },
    {
      "cell_type": "code",
      "metadata": {
        "id": "ESJqYqlFzrIf"
      },
      "source": [
        "plt.rcParams['figure.figsize'] = [10, 6]\n",
        "plt.rcParams['figure.dpi'] = 100"
      ],
      "execution_count": 46,
      "outputs": []
    },
    {
      "cell_type": "markdown",
      "metadata": {
        "id": "_e23aKaQk_1t"
      },
      "source": [
        "Conectando à base de dados"
      ]
    },
    {
      "cell_type": "code",
      "metadata": {
        "id": "GmmMRWRflDM1"
      },
      "source": [
        "db = sqlite3.connect('database.db')"
      ],
      "execution_count": 7,
      "outputs": []
    },
    {
      "cell_type": "markdown",
      "metadata": {
        "id": "5nvd5riklzC3"
      },
      "source": [
        "Consultando tabelas presentes na base de dados utilizada"
      ]
    },
    {
      "cell_type": "code",
      "metadata": {
        "colab": {
          "base_uri": "https://localhost:8080/"
        },
        "id": "wo-8xA2Nl2lo",
        "outputId": "1b12a4ee-8663-4366-d4d7-935a94638d20"
      },
      "source": [
        "res = conn.execute(\"SELECT name FROM sqlite_master WHERE type = 'table';\")\n",
        "\n",
        "for name in res:\n",
        "    print (name[0])"
      ],
      "execution_count": 5,
      "outputs": [
        {
          "output_type": "stream",
          "text": [
            "customers\n",
            "employees\n",
            "offices\n",
            "orderdetails\n",
            "orders\n",
            "payments\n",
            "productlines\n",
            "products\n"
          ],
          "name": "stdout"
        }
      ]
    },
    {
      "cell_type": "markdown",
      "metadata": {
        "id": "imPW6XDxk8fc"
      },
      "source": [
        "#### Exercício 1 - Lista funcionários por chefe.\n",
        "```SQL\n",
        "JUNTE E COMBINE TODOS AS LINHAS DAS TABELAS\n",
        "   employees e1,\n",
        "   employees e2\n",
        "\n",
        "PEGUE SÓ LINHAS QUE OBEDEÇAM AO CRITÉRIO\n",
        "   e1.reportsTo = e2.employeeNumber\n",
        "\n",
        "MOSTRE AS COLUNAS\n",
        "   e2.firstName||' '||e2.lastName AS boss,\n",
        "   e2.jobTitle                    AS department,\n",
        "   e1.employeeNumber              AS ID,\n",
        "   e1.firstName||' '||e1.lastName AS employee\n",
        "\n",
        "ORDENE POR\n",
        "   boss\n",
        "```"
      ]
    },
    {
      "cell_type": "code",
      "metadata": {
        "colab": {
          "base_uri": "https://localhost:8080/",
          "height": 266
        },
        "id": "X2UBI3JBk8fd",
        "outputId": "0b151746-ddda-4b19-9e5a-4746f8fa0679"
      },
      "source": [
        "query = \"\"\"SELECT e2.firstName||' '||e2.firstName AS boss,\n",
        "                  e2.jobTitle AS department,\n",
        "                  e1.employeeNUmber AS ID,\n",
        "                  e1.firstName||' '||e1.lastName AS employeeName\n",
        "\n",
        "          FROM\n",
        "          employees AS e1, employees AS e2\n",
        "\n",
        "          WHERE\n",
        "          e1.reportsTo = e2.employeeNumber\n",
        "\n",
        "          ORDER BY\n",
        "          boss\n",
        ";\"\"\"\n",
        "\n",
        "queryResult = pd.read_sql_query(query, db)\n",
        "\n",
        "queryResult.head(7)"
      ],
      "execution_count": 14,
      "outputs": [
        {
          "output_type": "execute_result",
          "data": {
            "text/html": [
              "<div>\n",
              "<style scoped>\n",
              "    .dataframe tbody tr th:only-of-type {\n",
              "        vertical-align: middle;\n",
              "    }\n",
              "\n",
              "    .dataframe tbody tr th {\n",
              "        vertical-align: top;\n",
              "    }\n",
              "\n",
              "    .dataframe thead th {\n",
              "        text-align: right;\n",
              "    }\n",
              "</style>\n",
              "<table border=\"1\" class=\"dataframe\">\n",
              "  <thead>\n",
              "    <tr style=\"text-align: right;\">\n",
              "      <th></th>\n",
              "      <th>boss</th>\n",
              "      <th>department</th>\n",
              "      <th>ID</th>\n",
              "      <th>employeeName</th>\n",
              "    </tr>\n",
              "  </thead>\n",
              "  <tbody>\n",
              "    <tr>\n",
              "      <th>0</th>\n",
              "      <td>Anthony Anthony</td>\n",
              "      <td>Sales Manager (NA)</td>\n",
              "      <td>1165</td>\n",
              "      <td>Leslie Jennings</td>\n",
              "    </tr>\n",
              "    <tr>\n",
              "      <th>1</th>\n",
              "      <td>Anthony Anthony</td>\n",
              "      <td>Sales Manager (NA)</td>\n",
              "      <td>1166</td>\n",
              "      <td>Leslie Thompson</td>\n",
              "    </tr>\n",
              "    <tr>\n",
              "      <th>2</th>\n",
              "      <td>Anthony Anthony</td>\n",
              "      <td>Sales Manager (NA)</td>\n",
              "      <td>1188</td>\n",
              "      <td>Julie Firrelli</td>\n",
              "    </tr>\n",
              "    <tr>\n",
              "      <th>3</th>\n",
              "      <td>Anthony Anthony</td>\n",
              "      <td>Sales Manager (NA)</td>\n",
              "      <td>1216</td>\n",
              "      <td>Steve Patterson</td>\n",
              "    </tr>\n",
              "    <tr>\n",
              "      <th>4</th>\n",
              "      <td>Anthony Anthony</td>\n",
              "      <td>Sales Manager (NA)</td>\n",
              "      <td>1286</td>\n",
              "      <td>Foon Yue Tseng</td>\n",
              "    </tr>\n",
              "    <tr>\n",
              "      <th>5</th>\n",
              "      <td>Anthony Anthony</td>\n",
              "      <td>Sales Manager (NA)</td>\n",
              "      <td>1323</td>\n",
              "      <td>George Vanauf</td>\n",
              "    </tr>\n",
              "    <tr>\n",
              "      <th>6</th>\n",
              "      <td>Diane Diane</td>\n",
              "      <td>President</td>\n",
              "      <td>1056</td>\n",
              "      <td>Mary Patterson</td>\n",
              "    </tr>\n",
              "  </tbody>\n",
              "</table>\n",
              "</div>"
            ],
            "text/plain": [
              "              boss          department    ID     employeeName\n",
              "0  Anthony Anthony  Sales Manager (NA)  1165  Leslie Jennings\n",
              "1  Anthony Anthony  Sales Manager (NA)  1166  Leslie Thompson\n",
              "2  Anthony Anthony  Sales Manager (NA)  1188   Julie Firrelli\n",
              "3  Anthony Anthony  Sales Manager (NA)  1216  Steve Patterson\n",
              "4  Anthony Anthony  Sales Manager (NA)  1286   Foon Yue Tseng\n",
              "5  Anthony Anthony  Sales Manager (NA)  1323    George Vanauf\n",
              "6      Diane Diane           President  1056   Mary Patterson"
            ]
          },
          "metadata": {
            "tags": []
          },
          "execution_count": 14
        }
      ]
    },
    {
      "cell_type": "markdown",
      "metadata": {
        "id": "vBzCv-R6k8fd"
      },
      "source": [
        "#### Exercício 2 - Inspeciona pedidos de compra.\n",
        "\n",
        "Dados sobre pedidos aparecem nas tabelas `orders` e `orderdetails` e o que relaciona elas é a coluna `orderNumber`. Vamos inspecionar um único pedido.\n",
        "\n",
        "```SQL\n",
        "JUNTE E COMBINE TODOS AS LINHAS DAS TABELAS\n",
        "   orderdetails\n",
        "\n",
        "PEGUE SÓ LINHAS QUE OBEDEÇAM AO CRITÉRIO\n",
        "   orderNumber=10103\n",
        "\n",
        "MOSTRE AS COLUNAS\n",
        "    orderLineNumber,\n",
        "    productCode,\n",
        "    priceEach,\n",
        "    quantityOrdered,\n",
        "    priceEach*quantityOrdered as priceTotal\n",
        "    \n",
        "ORDENE POR\n",
        "   orderLineNumber\n",
        "```"
      ]
    },
    {
      "cell_type": "code",
      "metadata": {
        "colab": {
          "base_uri": "https://localhost:8080/",
          "height": 204
        },
        "id": "UE5R179-k8fd",
        "outputId": "30ec54bb-7511-4775-e95f-18eee42e6147"
      },
      "source": [
        "query = \"\"\"SELECT *,\n",
        "                  (od.priceEach * od.quantityOrdered) AS totalPrice\n",
        "\n",
        "          FROM\n",
        "          orderDetails AS od\n",
        "\n",
        "          WHERE\n",
        "          od.orderNUmber = 10103\n",
        "\n",
        "          ORDER BY\n",
        "          od.orderLineNumber\n",
        ";\"\"\"\n",
        "\n",
        "queryResult = pd.read_sql_query(query, db)\n",
        "\n",
        "queryResult.head()"
      ],
      "execution_count": 27,
      "outputs": [
        {
          "output_type": "execute_result",
          "data": {
            "text/html": [
              "<div>\n",
              "<style scoped>\n",
              "    .dataframe tbody tr th:only-of-type {\n",
              "        vertical-align: middle;\n",
              "    }\n",
              "\n",
              "    .dataframe tbody tr th {\n",
              "        vertical-align: top;\n",
              "    }\n",
              "\n",
              "    .dataframe thead th {\n",
              "        text-align: right;\n",
              "    }\n",
              "</style>\n",
              "<table border=\"1\" class=\"dataframe\">\n",
              "  <thead>\n",
              "    <tr style=\"text-align: right;\">\n",
              "      <th></th>\n",
              "      <th>orderNumber</th>\n",
              "      <th>productCode</th>\n",
              "      <th>quantityOrdered</th>\n",
              "      <th>priceEach</th>\n",
              "      <th>orderLineNumber</th>\n",
              "      <th>totalPrice</th>\n",
              "    </tr>\n",
              "  </thead>\n",
              "  <tbody>\n",
              "    <tr>\n",
              "      <th>0</th>\n",
              "      <td>10103</td>\n",
              "      <td>S24_2300</td>\n",
              "      <td>36</td>\n",
              "      <td>107.34</td>\n",
              "      <td>1</td>\n",
              "      <td>3864.24</td>\n",
              "    </tr>\n",
              "    <tr>\n",
              "      <th>1</th>\n",
              "      <td>10103</td>\n",
              "      <td>S18_2432</td>\n",
              "      <td>22</td>\n",
              "      <td>58.34</td>\n",
              "      <td>2</td>\n",
              "      <td>1283.48</td>\n",
              "    </tr>\n",
              "    <tr>\n",
              "      <th>2</th>\n",
              "      <td>10103</td>\n",
              "      <td>S32_1268</td>\n",
              "      <td>31</td>\n",
              "      <td>92.46</td>\n",
              "      <td>3</td>\n",
              "      <td>2866.26</td>\n",
              "    </tr>\n",
              "    <tr>\n",
              "      <th>3</th>\n",
              "      <td>10103</td>\n",
              "      <td>S10_4962</td>\n",
              "      <td>42</td>\n",
              "      <td>119.67</td>\n",
              "      <td>4</td>\n",
              "      <td>5026.14</td>\n",
              "    </tr>\n",
              "    <tr>\n",
              "      <th>4</th>\n",
              "      <td>10103</td>\n",
              "      <td>S18_4600</td>\n",
              "      <td>36</td>\n",
              "      <td>98.07</td>\n",
              "      <td>5</td>\n",
              "      <td>3530.52</td>\n",
              "    </tr>\n",
              "  </tbody>\n",
              "</table>\n",
              "</div>"
            ],
            "text/plain": [
              "   orderNumber productCode  ...  orderLineNumber  totalPrice\n",
              "0        10103    S24_2300  ...                1     3864.24\n",
              "1        10103    S18_2432  ...                2     1283.48\n",
              "2        10103    S32_1268  ...                3     2866.26\n",
              "3        10103    S10_4962  ...                4     5026.14\n",
              "4        10103    S18_4600  ...                5     3530.52\n",
              "\n",
              "[5 rows x 6 columns]"
            ]
          },
          "metadata": {
            "tags": []
          },
          "execution_count": 27
        }
      ]
    },
    {
      "cell_type": "markdown",
      "metadata": {
        "id": "86JTjONXk8fd"
      },
      "source": [
        "#### Exercício 3 - Vamos melhorar a leitura dessa tabela adicionando a descrição do produto. Faremos um **JOIN** com a tabela `products`.\n",
        "\n",
        "```SQL\n",
        "JUNTE E COMBINE TODOS AS LINHAS DAS TABELAS\n",
        "   orderdetails AS o,\n",
        "   products AS p\n",
        "\n",
        "PEGUE SÓ LINHAS QUE OBEDEÇAM AO CRITÉRIO\n",
        "    o.productCode=p.productCode AND\n",
        "    orderNumber=10103\n",
        "\n",
        "MOSTRE AS COLUNAS\n",
        "    o.orderLineNumber,\n",
        "    o.priceEach,\n",
        "    o.quantityOrdered,\n",
        "    o.priceEach*o.quantityOrdered as itemTotal,\n",
        "    o.productCode,\n",
        "    p.productName\n",
        "    \n",
        "ORDENE POR\n",
        "   orderLineNumber\n",
        "```"
      ]
    },
    {
      "cell_type": "code",
      "metadata": {
        "colab": {
          "base_uri": "https://localhost:8080/",
          "height": 204
        },
        "id": "vEOahRetk8fd",
        "outputId": "8c8c9edb-2560-442f-83a9-99968a86a214"
      },
      "source": [
        "query = \"\"\"SELECT o.orderLineNumber,\n",
        "                  o.productCode,\n",
        "                  p.productName,\n",
        "                  o.priceEach,\n",
        "                  o.quantityOrdered,\n",
        "                  (o.priceEach * o.quantityOrdered) AS totalPrice\n",
        "\n",
        "          FROM\n",
        "          orderDetails AS o, products AS p\n",
        "\n",
        "          WHERE \n",
        "          p.productCode = o.productCode AND\n",
        "          o.orderNumber = 10103\n",
        "\n",
        "          ORDER BY\n",
        "          o.orderLineNumber\n",
        ";\"\"\"\n",
        "\n",
        "queryResult = pd.read_sql_query(query, db)\n",
        "\n",
        "queryResult.head()"
      ],
      "execution_count": 25,
      "outputs": [
        {
          "output_type": "execute_result",
          "data": {
            "text/html": [
              "<div>\n",
              "<style scoped>\n",
              "    .dataframe tbody tr th:only-of-type {\n",
              "        vertical-align: middle;\n",
              "    }\n",
              "\n",
              "    .dataframe tbody tr th {\n",
              "        vertical-align: top;\n",
              "    }\n",
              "\n",
              "    .dataframe thead th {\n",
              "        text-align: right;\n",
              "    }\n",
              "</style>\n",
              "<table border=\"1\" class=\"dataframe\">\n",
              "  <thead>\n",
              "    <tr style=\"text-align: right;\">\n",
              "      <th></th>\n",
              "      <th>orderLineNumber</th>\n",
              "      <th>productCode</th>\n",
              "      <th>productName</th>\n",
              "      <th>priceEach</th>\n",
              "      <th>quantityOrdered</th>\n",
              "      <th>totalPrice</th>\n",
              "    </tr>\n",
              "  </thead>\n",
              "  <tbody>\n",
              "    <tr>\n",
              "      <th>0</th>\n",
              "      <td>1</td>\n",
              "      <td>S24_2300</td>\n",
              "      <td>1962 Volkswagen Microbus</td>\n",
              "      <td>107.34</td>\n",
              "      <td>36</td>\n",
              "      <td>3864.24</td>\n",
              "    </tr>\n",
              "    <tr>\n",
              "      <th>1</th>\n",
              "      <td>2</td>\n",
              "      <td>S18_2432</td>\n",
              "      <td>1926 Ford Fire Engine</td>\n",
              "      <td>58.34</td>\n",
              "      <td>22</td>\n",
              "      <td>1283.48</td>\n",
              "    </tr>\n",
              "    <tr>\n",
              "      <th>2</th>\n",
              "      <td>3</td>\n",
              "      <td>S32_1268</td>\n",
              "      <td>1980’s GM Manhattan Express</td>\n",
              "      <td>92.46</td>\n",
              "      <td>31</td>\n",
              "      <td>2866.26</td>\n",
              "    </tr>\n",
              "    <tr>\n",
              "      <th>3</th>\n",
              "      <td>4</td>\n",
              "      <td>S10_4962</td>\n",
              "      <td>1962 LanciaA Delta 16V</td>\n",
              "      <td>119.67</td>\n",
              "      <td>42</td>\n",
              "      <td>5026.14</td>\n",
              "    </tr>\n",
              "    <tr>\n",
              "      <th>4</th>\n",
              "      <td>5</td>\n",
              "      <td>S18_4600</td>\n",
              "      <td>1940s Ford truck</td>\n",
              "      <td>98.07</td>\n",
              "      <td>36</td>\n",
              "      <td>3530.52</td>\n",
              "    </tr>\n",
              "  </tbody>\n",
              "</table>\n",
              "</div>"
            ],
            "text/plain": [
              "   orderLineNumber productCode  ... quantityOrdered  totalPrice\n",
              "0                1    S24_2300  ...              36     3864.24\n",
              "1                2    S18_2432  ...              22     1283.48\n",
              "2                3    S32_1268  ...              31     2866.26\n",
              "3                4    S10_4962  ...              42     5026.14\n",
              "4                5    S18_4600  ...              36     3530.52\n",
              "\n",
              "[5 rows x 6 columns]"
            ]
          },
          "metadata": {
            "tags": []
          },
          "execution_count": 25
        }
      ]
    },
    {
      "cell_type": "markdown",
      "metadata": {
        "id": "bxblmz3lk8fd"
      },
      "source": [
        "#### Exercício 4 - Performance de venda por categoria de produtos\n",
        "\n",
        "```SQL\n",
        "JUNTE E COMBINE TODOS AS LINHAS DAS TABELAS\n",
        "    orderdetails o,\n",
        "    products p\n",
        "\n",
        "PEGUE SÓ LINHAS QUE OBEDEÇAM AO CRITÉRIO\n",
        "    o.productCode=p.productCode\n",
        "\n",
        "MOSTRE AS COLUNAS\n",
        "    p.productLine,\n",
        "    count(p.productLine) AS nItems,\n",
        "    sum(o.priceEach*o.quantityOrdered)/count(p.productLine) AS averagePerItem,\n",
        "    sum(o.priceEach*o.quantityOrdered) AS lineTotal\n",
        "\n",
        "AGRUPE POR\n",
        "    p.productLine\n",
        "\n",
        "ORDENE INVERSAMENTE POR\n",
        "   lineTotal\n",
        "```"
      ]
    },
    {
      "cell_type": "code",
      "metadata": {
        "colab": {
          "base_uri": "https://localhost:8080/",
          "height": 204
        },
        "id": "NtfBKL28k8fd",
        "outputId": "775f4cb4-f5a2-4743-8864-439dd8139399"
      },
      "source": [
        "query = \"\"\"SELECT p.productLine,\n",
        "                  COUNT(p.productLine) AS nItems,\n",
        "                  SUM(o.priceEach * o.quantityOrdered) / COUNT(p.productLine) AS averagePerItem,\n",
        "                  SUM(o.priceEach * o.quantityOrdered) AS totalLine\n",
        "\n",
        "          FROM\n",
        "          orderDetails AS o, products AS p\n",
        "\n",
        "          WHERE \n",
        "          p.productCode = o.productCode\n",
        "\n",
        "          GROUP BY\n",
        "          p.productLine\n",
        "\n",
        "          ORDER BY\n",
        "          totalLine DESC\n",
        ";\"\"\"\n",
        "\n",
        "queryResult = pd.read_sql_query(query, db)\n",
        "\n",
        "queryResult.head()"
      ],
      "execution_count": 42,
      "outputs": [
        {
          "output_type": "execute_result",
          "data": {
            "text/html": [
              "<div>\n",
              "<style scoped>\n",
              "    .dataframe tbody tr th:only-of-type {\n",
              "        vertical-align: middle;\n",
              "    }\n",
              "\n",
              "    .dataframe tbody tr th {\n",
              "        vertical-align: top;\n",
              "    }\n",
              "\n",
              "    .dataframe thead th {\n",
              "        text-align: right;\n",
              "    }\n",
              "</style>\n",
              "<table border=\"1\" class=\"dataframe\">\n",
              "  <thead>\n",
              "    <tr style=\"text-align: right;\">\n",
              "      <th></th>\n",
              "      <th>productLine</th>\n",
              "      <th>nItems</th>\n",
              "      <th>averagePerItem</th>\n",
              "      <th>totalLine</th>\n",
              "    </tr>\n",
              "  </thead>\n",
              "  <tbody>\n",
              "    <tr>\n",
              "      <th>0</th>\n",
              "      <td>Classic Cars</td>\n",
              "      <td>1010</td>\n",
              "      <td>3815.764842</td>\n",
              "      <td>3853922.49</td>\n",
              "    </tr>\n",
              "    <tr>\n",
              "      <th>1</th>\n",
              "      <td>Vintage Cars</td>\n",
              "      <td>657</td>\n",
              "      <td>2736.011613</td>\n",
              "      <td>1797559.63</td>\n",
              "    </tr>\n",
              "    <tr>\n",
              "      <th>2</th>\n",
              "      <td>Motorcycles</td>\n",
              "      <td>359</td>\n",
              "      <td>3123.749638</td>\n",
              "      <td>1121426.12</td>\n",
              "    </tr>\n",
              "    <tr>\n",
              "      <th>3</th>\n",
              "      <td>Trucks and Buses</td>\n",
              "      <td>308</td>\n",
              "      <td>3325.044058</td>\n",
              "      <td>1024113.57</td>\n",
              "    </tr>\n",
              "    <tr>\n",
              "      <th>4</th>\n",
              "      <td>Planes</td>\n",
              "      <td>336</td>\n",
              "      <td>2841.183155</td>\n",
              "      <td>954637.54</td>\n",
              "    </tr>\n",
              "  </tbody>\n",
              "</table>\n",
              "</div>"
            ],
            "text/plain": [
              "        productLine  nItems  averagePerItem   totalLine\n",
              "0      Classic Cars    1010     3815.764842  3853922.49\n",
              "1      Vintage Cars     657     2736.011613  1797559.63\n",
              "2       Motorcycles     359     3123.749638  1121426.12\n",
              "3  Trucks and Buses     308     3325.044058  1024113.57\n",
              "4            Planes     336     2841.183155   954637.54"
            ]
          },
          "metadata": {
            "tags": []
          },
          "execution_count": 42
        }
      ]
    },
    {
      "cell_type": "code",
      "metadata": {
        "id": "ZmzwvC3Dxn9q"
      },
      "source": [
        "categorias_produtos_mais_arrecadaram = queryResult.head()"
      ],
      "execution_count": 43,
      "outputs": []
    },
    {
      "cell_type": "code",
      "metadata": {
        "colab": {
          "base_uri": "https://localhost:8080/",
          "height": 555
        },
        "id": "b4VD62KyyqLt",
        "outputId": "82b08b55-982b-4b93-f10f-196e2a429474"
      },
      "source": [
        "# Gráfico de barras\n",
        "categorias_que_mais_arrecadaram = sns.barplot(x= categorias_produtos_mais_arrecadaram['productLine'], \n",
        "                                            y= categorias_produtos_mais_arrecadaram['totalLine'])\n",
        "\n",
        "#Título\n",
        "categorias_que_mais_arrecadaram.set_title('Arrecadamento total de vendas por categoria de produtos')\n",
        "\n",
        "#Legenda eixo x\n",
        "categorias_que_mais_arrecadaram.set_xlabel('Preço total de vendas')\n",
        "\n",
        "#Legenda eixo y\n",
        "categorias_que_mais_arrecadaram.set_ylabel('Categoria');"
      ],
      "execution_count": 51,
      "outputs": [
        {
          "output_type": "display_data",
          "data": {
            "image/png": "[encoded data removed]",
            "text/plain": [
              "<Figure size 1000x600 with 1 Axes>"
            ]
          },
          "metadata": {
            "tags": [],
            "needs_background": "light"
          }
        }
      ]
    },
    {
      "cell_type": "markdown",
      "metadata": {
        "id": "nimoebgAk8fd"
      },
      "source": [
        "#### Exercício 5 - Qual é o produto que mais vende ?\n",
        "\n",
        "```SQL\n",
        "JUNTE E COMBINE TODOS AS LINHAS DAS TABELAS\n",
        "    orderdetails o,\n",
        "    products p\n",
        "\n",
        "PEGUE SÓ LINHAS QUE OBEDEÇAM AO CRITÉRIO\n",
        "    o.productCode=p.productCode\n",
        "\n",
        "MOSTRE AS COLUNAS\n",
        "    p.productName,\n",
        "    count(o.quantityOrdered) AS nItems,\n",
        "#    sum(o.priceEach*o.quantityOrdered) AS lineTotal\n",
        "\n",
        "AGRUPE POR\n",
        "    p.productCode\n",
        "\n",
        "ORDENE INVERSAMENTE POR\n",
        "   lineTotal\n",
        "```"
      ]
    },
    {
      "cell_type": "code",
      "metadata": {
        "colab": {
          "base_uri": "https://localhost:8080/",
          "height": 204
        },
        "id": "Biy5OpG3k8fd",
        "outputId": "8cd6e23f-1fa5-4494-aeb8-f077e1eb1457"
      },
      "source": [
        "query = \"\"\"SELECT p.productName,\n",
        "                  COUNT(o.quantityOrdered) AS nItems,\n",
        "                  SUM(o.priceEach * o.quantityOrdered) AS totalLine\n",
        "\n",
        "          FROM\n",
        "          orderDetails AS o, products AS p\n",
        "\n",
        "          WHERE \n",
        "          p.productCode = o.productCode\n",
        "\n",
        "          GROUP BY\n",
        "          p.productCode\n",
        "\n",
        "          ORDER BY\n",
        "          nItems DESC\n",
        ";\"\"\"\n",
        "\n",
        "queryResult = pd.read_sql_query(query, db)\n",
        "\n",
        "queryResult.head()"
      ],
      "execution_count": 54,
      "outputs": [
        {
          "output_type": "execute_result",
          "data": {
            "text/html": [
              "<div>\n",
              "<style scoped>\n",
              "    .dataframe tbody tr th:only-of-type {\n",
              "        vertical-align: middle;\n",
              "    }\n",
              "\n",
              "    .dataframe tbody tr th {\n",
              "        vertical-align: top;\n",
              "    }\n",
              "\n",
              "    .dataframe thead th {\n",
              "        text-align: right;\n",
              "    }\n",
              "</style>\n",
              "<table border=\"1\" class=\"dataframe\">\n",
              "  <thead>\n",
              "    <tr style=\"text-align: right;\">\n",
              "      <th></th>\n",
              "      <th>productName</th>\n",
              "      <th>nItems</th>\n",
              "      <th>totalLine</th>\n",
              "    </tr>\n",
              "  </thead>\n",
              "  <tbody>\n",
              "    <tr>\n",
              "      <th>0</th>\n",
              "      <td>1992 Ferrari 360 Spider red</td>\n",
              "      <td>53</td>\n",
              "      <td>276839.98</td>\n",
              "    </tr>\n",
              "    <tr>\n",
              "      <th>1</th>\n",
              "      <td>1969 Harley Davidson Ultimate Chopper</td>\n",
              "      <td>28</td>\n",
              "      <td>90157.77</td>\n",
              "    </tr>\n",
              "    <tr>\n",
              "      <th>2</th>\n",
              "      <td>1952 Alpine Renault 1300</td>\n",
              "      <td>28</td>\n",
              "      <td>190017.96</td>\n",
              "    </tr>\n",
              "    <tr>\n",
              "      <th>3</th>\n",
              "      <td>1996 Moto Guzzi 1100i</td>\n",
              "      <td>28</td>\n",
              "      <td>109998.82</td>\n",
              "    </tr>\n",
              "    <tr>\n",
              "      <th>4</th>\n",
              "      <td>2003 Harley-Davidson Eagle Drag Bike</td>\n",
              "      <td>28</td>\n",
              "      <td>170686.00</td>\n",
              "    </tr>\n",
              "  </tbody>\n",
              "</table>\n",
              "</div>"
            ],
            "text/plain": [
              "                             productName  nItems  totalLine\n",
              "0            1992 Ferrari 360 Spider red      53  276839.98\n",
              "1  1969 Harley Davidson Ultimate Chopper      28   90157.77\n",
              "2               1952 Alpine Renault 1300      28  190017.96\n",
              "3                  1996 Moto Guzzi 1100i      28  109998.82\n",
              "4   2003 Harley-Davidson Eagle Drag Bike      28  170686.00"
            ]
          },
          "metadata": {
            "tags": []
          },
          "execution_count": 54
        }
      ]
    },
    {
      "cell_type": "markdown",
      "metadata": {
        "id": "_X7582AG0Spx"
      },
      "source": [
        "Cinco produtos com mais unidades vendidas"
      ]
    },
    {
      "cell_type": "code",
      "metadata": {
        "id": "ualDdyNo0V7C"
      },
      "source": [
        "produtos_com_mais_unidades_vendidas = queryResult.head()"
      ],
      "execution_count": 55,
      "outputs": []
    },
    {
      "cell_type": "code",
      "metadata": {
        "colab": {
          "base_uri": "https://localhost:8080/",
          "height": 555
        },
        "id": "uiUQnY-w0RlE",
        "outputId": "b627341d-0a83-466b-8c64-665f5d5cae39"
      },
      "source": [
        "#Gráfico de barras\n",
        "mais_unidades_vendidas = sns.barplot(x= produtos_com_mais_unidades_vendidas['nItems'], \n",
        "                                     y= produtos_com_mais_unidades_vendidas['productName'])\n",
        "\n",
        "#Título\n",
        "mais_unidades_vendidas.set_title('Produtos que venderam mais unidades')\n",
        "\n",
        "#Legenda eixo x\n",
        "mais_unidades_vendidas.set_xlabel('Unidades vendidas')\n",
        "\n",
        "#Legenda eixo y\n",
        "mais_unidades_vendidas.set_ylabel('Nome do produto');"
      ],
      "execution_count": 58,
      "outputs": [
        {
          "output_type": "display_data",
          "data": {
            "image/png": "[encoded data removed]",
            "text/plain": [
              "<Figure size 1000x600 with 1 Axes>"
            ]
          },
          "metadata": {
            "tags": [],
            "needs_background": "light"
          }
        }
      ]
    },
    {
      "cell_type": "markdown",
      "metadata": {
        "id": "kiilEPnfk8fe"
      },
      "source": [
        "#### Exercício 6 - Qual é o cliente que mais compra ?\n",
        "\n",
        "```SQL\n",
        "JUNTE E COMBINE TODOS AS LINHAS DAS TABELAS\n",
        "    orderdetails as od,\n",
        "    orders as o,\n",
        "    customers as c\n",
        "\n",
        "PEGUE SÓ LINHAS QUE OBEDEÇAM AO CRITÉRIO\n",
        "    od.orderNumber = o.orderNumber AND\n",
        "    c.customerNumber = o.customerNumber\n",
        "\n",
        "MOSTRE AS COLUNAS\n",
        "    c.customerNumber,\n",
        "    c.customerName,\n",
        "    sum(od.priceEach*od.quantityOrdered) AS customerTotal\n",
        "    sum(od.quantityOrdered) AS nItems,\n",
        "\n",
        "AGRUPE POR\n",
        "    c.customerNumber\n",
        "\n",
        "ORDENE INVERSAMENTE POR\n",
        "   customerTotal\n",
        "```"
      ]
    },
    {
      "cell_type": "code",
      "metadata": {
        "colab": {
          "base_uri": "https://localhost:8080/",
          "height": 204
        },
        "id": "R4_2ZMwak8fe",
        "outputId": "e017be0f-5212-41e1-d933-26a0135ee459"
      },
      "source": [
        "query = \"\"\"SELECT c.customerNumber,\n",
        "                  c.customerName,\n",
        "                  SUM(od.priceEach * od.quantityOrdered) AS totalCustomer,\n",
        "                  SUM(od.quantityOrdered) AS nItems\n",
        "                  \n",
        "\n",
        "          FROM\n",
        "          orderDetails AS od, orders AS o, customers AS c\n",
        "\n",
        "          WHERE \n",
        "          od.orderNumber = o.orderNumber AND\n",
        "          c.customerNumber = o.customerNumber\n",
        "\n",
        "          GROUP BY\n",
        "          c.customerNumber\n",
        "\n",
        "          ORDER BY\n",
        "          totalCustomer DESC\n",
        ";\"\"\"\n",
        "\n",
        "queryResult = pd.read_sql_query(query, db)\n",
        "\n",
        "queryResult.head()"
      ],
      "execution_count": 59,
      "outputs": [
        {
          "output_type": "execute_result",
          "data": {
            "text/html": [
              "<div>\n",
              "<style scoped>\n",
              "    .dataframe tbody tr th:only-of-type {\n",
              "        vertical-align: middle;\n",
              "    }\n",
              "\n",
              "    .dataframe tbody tr th {\n",
              "        vertical-align: top;\n",
              "    }\n",
              "\n",
              "    .dataframe thead th {\n",
              "        text-align: right;\n",
              "    }\n",
              "</style>\n",
              "<table border=\"1\" class=\"dataframe\">\n",
              "  <thead>\n",
              "    <tr style=\"text-align: right;\">\n",
              "      <th></th>\n",
              "      <th>customerNumber</th>\n",
              "      <th>customerName</th>\n",
              "      <th>totalCustomer</th>\n",
              "      <th>nItems</th>\n",
              "    </tr>\n",
              "  </thead>\n",
              "  <tbody>\n",
              "    <tr>\n",
              "      <th>0</th>\n",
              "      <td>141</td>\n",
              "      <td>Euro+ Shopping Channel</td>\n",
              "      <td>820689.54</td>\n",
              "      <td>9327</td>\n",
              "    </tr>\n",
              "    <tr>\n",
              "      <th>1</th>\n",
              "      <td>124</td>\n",
              "      <td>Mini Gifts Distributors Ltd.</td>\n",
              "      <td>591827.34</td>\n",
              "      <td>6366</td>\n",
              "    </tr>\n",
              "    <tr>\n",
              "      <th>2</th>\n",
              "      <td>114</td>\n",
              "      <td>Australian Collectors, Co.</td>\n",
              "      <td>180585.07</td>\n",
              "      <td>1926</td>\n",
              "    </tr>\n",
              "    <tr>\n",
              "      <th>3</th>\n",
              "      <td>151</td>\n",
              "      <td>Muscle Machine Inc</td>\n",
              "      <td>177913.95</td>\n",
              "      <td>1775</td>\n",
              "    </tr>\n",
              "    <tr>\n",
              "      <th>4</th>\n",
              "      <td>119</td>\n",
              "      <td>La Rochelle Gifts</td>\n",
              "      <td>158573.12</td>\n",
              "      <td>1832</td>\n",
              "    </tr>\n",
              "  </tbody>\n",
              "</table>\n",
              "</div>"
            ],
            "text/plain": [
              "   customerNumber                  customerName  totalCustomer  nItems\n",
              "0             141        Euro+ Shopping Channel      820689.54    9327\n",
              "1             124  Mini Gifts Distributors Ltd.      591827.34    6366\n",
              "2             114    Australian Collectors, Co.      180585.07    1926\n",
              "3             151            Muscle Machine Inc      177913.95    1775\n",
              "4             119             La Rochelle Gifts      158573.12    1832"
            ]
          },
          "metadata": {
            "tags": []
          },
          "execution_count": 59
        }
      ]
    },
    {
      "cell_type": "markdown",
      "metadata": {
        "id": "4JOdlqRd1549"
      },
      "source": [
        "Cinco clientes que mais compram"
      ]
    },
    {
      "cell_type": "code",
      "metadata": {
        "id": "D2N_7XdD18GV"
      },
      "source": [
        "clientes_que_mais_compraram = queryResult.head()"
      ],
      "execution_count": 61,
      "outputs": []
    },
    {
      "cell_type": "code",
      "metadata": {
        "colab": {
          "base_uri": "https://localhost:8080/",
          "height": 555
        },
        "id": "ZqiFN-rn18lm",
        "outputId": "2f9103e6-e768-446c-8efa-2891c5742cf6"
      },
      "source": [
        "#Gráfico de barras\n",
        "clientes_mais_compraram = sns.barplot(x= clientes_que_mais_compraram['totalCustomer'], \n",
        "                                     y= clientes_que_mais_compraram['customerName'])\n",
        "\n",
        "#Título\n",
        "clientes_mais_compraram.set_title('Clientes que compraram mais')\n",
        "\n",
        "#Legenda eixo x\n",
        "clientes_mais_compraram.set_xlabel('Valor total gasto em compras')\n",
        "\n",
        "#Legenda eixo y\n",
        "clientes_mais_compraram.set_ylabel('Cliente');"
      ],
      "execution_count": 62,
      "outputs": [
        {
          "output_type": "display_data",
          "data": {
            "image/png": "[encoded data removed]",
            "text/plain": [
              "<Figure size 1000x600 with 1 Axes>"
            ]
          },
          "metadata": {
            "tags": [],
            "needs_background": "light"
          }
        }
      ]
    },
    {
      "cell_type": "markdown",
      "metadata": {
        "id": "0gR555Wvk8fe"
      },
      "source": [
        "#### Exercício 7 - Mostre vendas e valores por mês...\n",
        "\n",
        "```SQL\n",
        "JUNTE E COMBINE TODOS AS LINHAS DAS TABELAS\n",
        "    orderdetails as od,\n",
        "    orders as o,\n",
        "\n",
        "PEGUE SÓ LINHAS QUE OBEDEÇAM AO CRITÉRIO\n",
        "    od.orderNumber = o.orderNumber\n",
        "\n",
        "MOSTRE AS COLUNAS\n",
        "    substr(o.orderDate,1,7) as month,\n",
        "    sum(od.priceEach*od.quantityOrdered) AS monthTotal\n",
        "    sum(od.quantityOrdered) AS nItems,\n",
        "\n",
        "AGRUPE POR\n",
        "    month\n",
        "\n",
        "ORDENE INVERSAMENTE POR\n",
        "   month\n",
        "```"
      ]
    },
    {
      "cell_type": "code",
      "metadata": {
        "colab": {
          "base_uri": "https://localhost:8080/",
          "height": 204
        },
        "id": "3Oy7qR6pk8fe",
        "outputId": "622e494e-aad4-4024-c628-1090aa95eacd"
      },
      "source": [
        "query = \"\"\"SELECT SUBSTR(o.orderDate, 1, 7) AS month,\n",
        "                  SUM(od.priceEach * od.quantityOrdered) AS totalPerMonth,\n",
        "                  SUM(od.quantityOrdered) AS nItems\n",
        "                  \n",
        "\n",
        "          FROM\n",
        "          orderDetails AS od, orders AS o\n",
        "\n",
        "          WHERE \n",
        "          od.orderNumber = o.orderNumber\n",
        "\n",
        "          GROUP BY\n",
        "          month\n",
        "\n",
        "          ORDER BY\n",
        "          month DESC\n",
        ";\"\"\"\n",
        "\n",
        "queryResult = pd.read_sql_query(query, db)\n",
        "\n",
        "queryResult.head()"
      ],
      "execution_count": 91,
      "outputs": [
        {
          "output_type": "execute_result",
          "data": {
            "text/html": [
              "<div>\n",
              "<style scoped>\n",
              "    .dataframe tbody tr th:only-of-type {\n",
              "        vertical-align: middle;\n",
              "    }\n",
              "\n",
              "    .dataframe tbody tr th {\n",
              "        vertical-align: top;\n",
              "    }\n",
              "\n",
              "    .dataframe thead th {\n",
              "        text-align: right;\n",
              "    }\n",
              "</style>\n",
              "<table border=\"1\" class=\"dataframe\">\n",
              "  <thead>\n",
              "    <tr style=\"text-align: right;\">\n",
              "      <th></th>\n",
              "      <th>month</th>\n",
              "      <th>totalPerMonth</th>\n",
              "      <th>nItems</th>\n",
              "    </tr>\n",
              "  </thead>\n",
              "  <tbody>\n",
              "    <tr>\n",
              "      <th>0</th>\n",
              "      <td>2005-05</td>\n",
              "      <td>441474.94</td>\n",
              "      <td>4759</td>\n",
              "    </tr>\n",
              "    <tr>\n",
              "      <th>1</th>\n",
              "      <td>2005-04</td>\n",
              "      <td>344820.62</td>\n",
              "      <td>3836</td>\n",
              "    </tr>\n",
              "    <tr>\n",
              "      <th>2</th>\n",
              "      <td>2005-03</td>\n",
              "      <td>359711.96</td>\n",
              "      <td>4207</td>\n",
              "    </tr>\n",
              "    <tr>\n",
              "      <th>3</th>\n",
              "      <td>2005-02</td>\n",
              "      <td>317192.17</td>\n",
              "      <td>3393</td>\n",
              "    </tr>\n",
              "    <tr>\n",
              "      <th>4</th>\n",
              "      <td>2005-01</td>\n",
              "      <td>307737.02</td>\n",
              "      <td>3395</td>\n",
              "    </tr>\n",
              "  </tbody>\n",
              "</table>\n",
              "</div>"
            ],
            "text/plain": [
              "     month  totalPerMonth  nItems\n",
              "0  2005-05      441474.94    4759\n",
              "1  2005-04      344820.62    3836\n",
              "2  2005-03      359711.96    4207\n",
              "3  2005-02      317192.17    3393\n",
              "4  2005-01      307737.02    3395"
            ]
          },
          "metadata": {
            "tags": []
          },
          "execution_count": 91
        }
      ]
    },
    {
      "cell_type": "code",
      "metadata": {
        "id": "a84pCPKX8IJh"
      },
      "source": [
        "vendas_ano_e_mes = queryResult"
      ],
      "execution_count": 93,
      "outputs": []
    },
    {
      "cell_type": "markdown",
      "metadata": {
        "id": "9eis9jbz4kjo"
      },
      "source": [
        "Analisando as vendas por anos e meses"
      ]
    },
    {
      "cell_type": "code",
      "metadata": {
        "colab": {
          "base_uri": "https://localhost:8080/",
          "height": 601
        },
        "id": "M3FKP0ju4p-K",
        "outputId": "45f5f6eb-09aa-45e9-b81f-24f193c760d7"
      },
      "source": [
        "# Gráfico de barras\n",
        "vendas_totais_por_ano_e_mes = sns.lineplot(data= vendas_ano_e_mes, x= 'month', y= 'totalPerMonth')\n",
        "\n",
        "#Título\n",
        "vendas_totais_por_ano_e_mes.set_title('Valor total de vendas por ano e mês')\n",
        "\n",
        "#Legenda eixo x\n",
        "vendas_totais_por_ano_e_mes.set_xlabel('País')\n",
        "\n",
        "#Legenda eixo y\n",
        "vendas_totais_por_ano_e_mes.set_ylabel('Valor total de vendas')\n",
        "\n",
        "# Rotacionando nome dos países no eixo x\n",
        "vendas_totais_por_ano_e_mes.set_xticklabels(labels= vendas_ano_e_mes['month'], rotation= 80);"
      ],
      "execution_count": 97,
      "outputs": [
        {
          "output_type": "display_data",
          "data": {
            "image/png": "[encoded data removed]",
            "text/plain": [
              "<Figure size 1000x600 with 1 Axes>"
            ]
          },
          "metadata": {
            "tags": [],
            "needs_background": "light"
          }
        }
      ]
    },
    {
      "cell_type": "markdown",
      "metadata": {
        "id": "PjIeqWvK9O0u"
      },
      "source": [
        "Hipótese:\n",
        "\n",
        "Temos os dois picos situados nos meses de Novembro de 2003 e 2004 (não temos informações desse mês em outros anos pra confirmarmos a lógica). O fato dos picos de vendas estarem situados em Novembro pode estar relacionado a este ser o mês que tradicionalmente é realizada a Black Friday (produtos são vendidos com preços teoricamente mais baratos). Temos uma queda  de vendas em Dezembro, o que pode indicar que as pessoas aproveitam os preços mais baratos pra comprar os presentes de Natal/Ano Novo antecipadamente na Black Friday."
      ]
    },
    {
      "cell_type": "markdown",
      "metadata": {
        "id": "LPG67Wp9w2z2"
      },
      "source": [
        "Em quais meses de quais anos as vendas foram maiores?"
      ]
    },
    {
      "cell_type": "code",
      "metadata": {
        "colab": {
          "base_uri": "https://localhost:8080/",
          "height": 204
        },
        "id": "qlvDJUWww58w",
        "outputId": "e2dcd943-1cd1-42b8-e1aa-fa58a88e6376"
      },
      "source": [
        "query = \"\"\"SELECT SUBSTR(o.orderDate, 1, 7) AS month,\n",
        "                  SUM(od.priceEach * od.quantityOrdered) AS totalPerMonth,\n",
        "                  SUM(od.quantityOrdered) AS nItems\n",
        "                  \n",
        "\n",
        "          FROM\n",
        "          orderDetails AS od, orders AS o\n",
        "\n",
        "          WHERE \n",
        "          od.orderNumber = o.orderNumber\n",
        "\n",
        "          GROUP BY\n",
        "          month\n",
        "\n",
        "          ORDER BY\n",
        "          totalPerMonth DESC\n",
        ";\"\"\"\n",
        "\n",
        "queryResult = pd.read_sql_query(query, db)\n",
        "\n",
        "queryResult.head()"
      ],
      "execution_count": 63,
      "outputs": [
        {
          "output_type": "execute_result",
          "data": {
            "text/html": [
              "<div>\n",
              "<style scoped>\n",
              "    .dataframe tbody tr th:only-of-type {\n",
              "        vertical-align: middle;\n",
              "    }\n",
              "\n",
              "    .dataframe tbody tr th {\n",
              "        vertical-align: top;\n",
              "    }\n",
              "\n",
              "    .dataframe thead th {\n",
              "        text-align: right;\n",
              "    }\n",
              "</style>\n",
              "<table border=\"1\" class=\"dataframe\">\n",
              "  <thead>\n",
              "    <tr style=\"text-align: right;\">\n",
              "      <th></th>\n",
              "      <th>month</th>\n",
              "      <th>totalPerMonth</th>\n",
              "      <th>nItems</th>\n",
              "    </tr>\n",
              "  </thead>\n",
              "  <tbody>\n",
              "    <tr>\n",
              "      <th>0</th>\n",
              "      <td>2003-11</td>\n",
              "      <td>988025.15</td>\n",
              "      <td>10862</td>\n",
              "    </tr>\n",
              "    <tr>\n",
              "      <th>1</th>\n",
              "      <td>2004-11</td>\n",
              "      <td>979291.98</td>\n",
              "      <td>10678</td>\n",
              "    </tr>\n",
              "    <tr>\n",
              "      <th>2</th>\n",
              "      <td>2003-10</td>\n",
              "      <td>514336.21</td>\n",
              "      <td>5731</td>\n",
              "    </tr>\n",
              "    <tr>\n",
              "      <th>3</th>\n",
              "      <td>2004-10</td>\n",
              "      <td>500233.86</td>\n",
              "      <td>5483</td>\n",
              "    </tr>\n",
              "    <tr>\n",
              "      <th>4</th>\n",
              "      <td>2005-05</td>\n",
              "      <td>441474.94</td>\n",
              "      <td>4759</td>\n",
              "    </tr>\n",
              "  </tbody>\n",
              "</table>\n",
              "</div>"
            ],
            "text/plain": [
              "     month  totalPerMonth  nItems\n",
              "0  2003-11      988025.15   10862\n",
              "1  2004-11      979291.98   10678\n",
              "2  2003-10      514336.21    5731\n",
              "3  2004-10      500233.86    5483\n",
              "4  2005-05      441474.94    4759"
            ]
          },
          "metadata": {
            "tags": []
          },
          "execution_count": 63
        }
      ]
    },
    {
      "cell_type": "markdown",
      "metadata": {
        "id": "soESRHgf3ENX"
      },
      "source": [
        "Cinco maiores vendas por meses e anos"
      ]
    },
    {
      "cell_type": "code",
      "metadata": {
        "id": "X_hZqKoA3Gq2"
      },
      "source": [
        "anos_e_meses_que_mais_venderam = queryResult.head()"
      ],
      "execution_count": 64,
      "outputs": []
    },
    {
      "cell_type": "code",
      "metadata": {
        "colab": {
          "base_uri": "https://localhost:8080/",
          "height": 555
        },
        "id": "Zv3-2AYI3Nmo",
        "outputId": "38b1a3f7-e86b-40ac-b4f5-099061f89a0b"
      },
      "source": [
        "#Gráfico de barras\n",
        "anos_e_meses_mais_vendas = sns.barplot(x= anos_e_meses_que_mais_venderam['month'], \n",
        "                                     y= anos_e_meses_que_mais_venderam['totalPerMonth'])\n",
        "\n",
        "#Título\n",
        "anos_e_meses_mais_vendas.set_title('Anos e meses que as vendas foram maiores')\n",
        "\n",
        "#Legenda eixo x\n",
        "anos_e_meses_mais_vendas.set_xlabel('Ano - Mês')\n",
        "\n",
        "#Legenda eixo y\n",
        "anos_e_meses_mais_vendas.set_ylabel('Valor total de arrecadamento');"
      ],
      "execution_count": 65,
      "outputs": [
        {
          "output_type": "display_data",
          "data": {
            "image/png": "[encoded data removed]",
            "text/plain": [
              "<Figure size 1000x600 with 1 Axes>"
            ]
          },
          "metadata": {
            "tags": [],
            "needs_background": "light"
          }
        }
      ]
    }
  ]
}