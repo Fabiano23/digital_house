{
  "nbformat": 4,
  "nbformat_minor": 0,
  "metadata": {
    "kernelspec": {
      "display_name": "Python 3",
      "language": "python",
      "name": "python3"
    },
    "language_info": {
      "codemirror_mode": {
        "name": "ipython",
        "version": 3
      },
      "file_extension": ".py",
      "mimetype": "text/x-python",
      "name": "python",
      "nbconvert_exporter": "python",
      "pygments_lexer": "ipython3",
      "version": "3.7.6"
    },
    "colab": {
      "name": "M1A16-SQL_BASICO_II.ipynb",
      "provenance": [],
      "collapsed_sections": [
        "hexFkoqK59xu",
        "Lcuk5bXK59xu",
        "136Pz94l59xu",
        "pHs2jysl59xu",
        "iFUSe1Sy59xu",
        "A7pjhp2g59xu",
        "BHYGLBwv59xv",
        "sgtg3X5859xv",
        "BlICPadR59xv",
        "6wWv85oi59xv",
        "00KJY8uw59xv",
        "iykLtjdd59xv",
        "YlgoB7Cd59xv",
        "TzrNZXyw59xv",
        "vz_4tHbv59xw",
        "G5ctFFZq59xw",
        "s3CNNjmr59xw",
        "nUyQTfWH59xw"
      ]
    }
  },
  "cells": [
    {
      "cell_type": "markdown",
      "metadata": {
        "id": "eKZRmxAn59xj"
      },
      "source": [
        "\n",
        "# Exemplos de queries SQL integrados ao Python e Pandas\n",
        "Usaremos dados de exemplo do site [MySQL Tutorial](http://www.mysqltutorial.org/mysql-sample-database.aspx).\n",
        "\n",
        "Para recriar o banco de dados em SQLite, sem Python, basta executar o arquivo com os comandos SQL na linha de comando do sistema operacional:\n",
        "\n",
        "```shell\n",
        "sqlite3 database.db < sample-database-dump.sql\n",
        "```\n",
        "\n",
        "O arquivo `database.db` será criado e tabelas e dados conforme especificados em `sql-sample-database.sql` serão populados.\n",
        "\n",
        "Se estivéssemos lidando com um SGBD (sistema gerenciador de banco de dados) mais robusto, como MariaDB/MySQL, Oracle ou DB2, o comando acima seria diferente e deverá conter:\n",
        "\n",
        "* o hostname ou IP do servidor de banco de dados\n",
        "* usuário e senha de acesso\n",
        "* nome do banco de dados em que vamos operar\n",
        "\n",
        "Mas SQLite é bem mais simples e didático e opera num arquivo local.\n",
        "\n",
        "## Visualizando o banco de dados, suas tabelas e dados\n",
        "\n",
        "![database example](http://www.mysqltutorial.org/wp-content/uploads/2009/12/MySQL-Sample-Database-Schema.png)\n",
        "\n",
        "Cada SGBD tem seu próprio ferramental para navegar nos dados. MariaDB/MySQL tem o popular [PHP MyAdmin](https://www.phpmyadmin.net), Oracle e DB2 tem suas próprias ferramentas proprietárias, SQLite tem [DB Browser for SQLite](https://sqlitebrowser.org) e uma ferramenta online chamada [SQLite Online](https://sqliteonline.com).\n",
        "\n",
        "Para navegar nos dados do DB SQLite que acabamos de criar, use uma das 3 opções:\n",
        "\n",
        "\n",
        "* Use o comando `sqlite3`.\n",
        "* Instale o **DB Browser for SQLite** e abra o arquivo.\n",
        "* Envie o arquivo para o site **SQLiteOnline.com**."
      ]
    },
    {
      "cell_type": "markdown",
      "metadata": {
        "id": "jQOPBlCZ59xj"
      },
      "source": [
        "#### Um banco de dados é um local para armazenar dados. Um sistema de banco de dados relacional (`Relational Database Management System` [`RDMS`](https://www.dofactory.com/sql)) armazena dados em tabelas."
      ]
    },
    {
      "cell_type": "markdown",
      "metadata": {
        "id": "S_ilzIq259xj"
      },
      "source": [
        "## SQLite.\n",
        "\n",
        "#### Vamos primeiro usar a estrutura e dados do arquivo `sql-sample-database.sql` para criar um banco de dados no arquivo `database.db`."
      ]
    },
    {
      "cell_type": "code",
      "metadata": {
        "id": "ojxwx5sB59xj"
      },
      "source": [
        "import pandas as pd\n",
        "import sqlite3\n",
        "\n",
        "db = sqlite3.connect('database.db')"
      ],
      "execution_count": 1,
      "outputs": []
    },
    {
      "cell_type": "markdown",
      "metadata": {
        "id": "WGzLJVYJ59xj"
      },
      "source": [
        "#### Vamos executar um script `SQL` com o método [`.executescript()`](https://docs.python.org/3/library/sqlite3.html#sqlite3.Cursor.executescript)."
      ]
    },
    {
      "cell_type": "code",
      "metadata": {
        "colab": {
          "base_uri": "https://localhost:8080/"
        },
        "id": "dlI9n5lE59xj",
        "outputId": "0d3d7e69-4a36-4965-d159-07ffbf324a74"
      },
      "source": [
        "script = 'sample-database-dump.sql'\n",
        "\n",
        "db.cursor().executescript(open(script).read())"
      ],
      "execution_count": 2,
      "outputs": [
        {
          "output_type": "execute_result",
          "data": {
            "text/plain": [
              "<sqlite3.Cursor at 0x7f10d0f958f0>"
            ]
          },
          "metadata": {
            "tags": []
          },
          "execution_count": 2
        }
      ]
    },
    {
      "cell_type": "markdown",
      "metadata": {
        "id": "KNnCUlsB59xk"
      },
      "source": [
        "#### Criar uma conexão com nossa base de dados."
      ]
    },
    {
      "cell_type": "code",
      "metadata": {
        "id": "yed6Kb6b59xk"
      },
      "source": [
        "conn = sqlite3.connect('database.db')\n",
        "curs = conn.cursor()\n",
        "#conn.close()"
      ],
      "execution_count": 3,
      "outputs": []
    },
    {
      "cell_type": "markdown",
      "metadata": {
        "id": "NL57Kb1059xk"
      },
      "source": [
        "#### Criamos uma nova tabela."
      ]
    },
    {
      "cell_type": "code",
      "metadata": {
        "id": "WZnDvQ3H59xk"
      },
      "source": [
        "#curs.execute(\"\"\"DROP TABLE countries;\"\"\")\n",
        "\n",
        "curs.execute(\"\"\"CREATE TABLE IF NOT EXISTS countries (\n",
        "\n",
        "key INT PRIMARY KEY,\n",
        "\n",
        "name TEXT UNIQUE,\n",
        "\n",
        "founding_year INT,\n",
        "\n",
        "capital TEXT\n",
        "\n",
        ");\"\"\")\n",
        "\n",
        "\n",
        "conn.commit()"
      ],
      "execution_count": 4,
      "outputs": []
    },
    {
      "cell_type": "markdown",
      "metadata": {
        "id": "YjxkyWvk59xk"
      },
      "source": [
        "#### Podemos mostrar a tabela criada com o comando [`SELECT`](https://towardsdatascience.com/data-science-lesson-2-selecting-data-using-sql-3aaf8258619d). O método [`.read_sql_query()`](https://pandas.pydata.org/pandas-docs/stable/reference/api/pandas.read_sql_query.html) retorna um DataFrame correspondente ao conjunto de resultados da requisição."
      ]
    },
    {
      "cell_type": "code",
      "metadata": {
        "colab": {
          "base_uri": "https://localhost:8080/",
          "height": 49
        },
        "id": "mJuYHx_m59xk",
        "outputId": "4ae8c943-2621-43eb-f683-cc63a079d2c6"
      },
      "source": [
        "query = \"SELECT * FROM countries;\"\n",
        "\n",
        "queryResult = pd.read_sql_query(query, db)\n",
        "\n",
        "queryResult.head()"
      ],
      "execution_count": 5,
      "outputs": [
        {
          "output_type": "execute_result",
          "data": {
            "text/html": [
              "<div>\n",
              "<style scoped>\n",
              "    .dataframe tbody tr th:only-of-type {\n",
              "        vertical-align: middle;\n",
              "    }\n",
              "\n",
              "    .dataframe tbody tr th {\n",
              "        vertical-align: top;\n",
              "    }\n",
              "\n",
              "    .dataframe thead th {\n",
              "        text-align: right;\n",
              "    }\n",
              "</style>\n",
              "<table border=\"1\" class=\"dataframe\">\n",
              "  <thead>\n",
              "    <tr style=\"text-align: right;\">\n",
              "      <th></th>\n",
              "      <th>key</th>\n",
              "      <th>name</th>\n",
              "      <th>founding_year</th>\n",
              "      <th>capital</th>\n",
              "    </tr>\n",
              "  </thead>\n",
              "  <tbody>\n",
              "  </tbody>\n",
              "</table>\n",
              "</div>"
            ],
            "text/plain": [
              "Empty DataFrame\n",
              "Columns: [key, name, founding_year, capital]\n",
              "Index: []"
            ]
          },
          "metadata": {
            "tags": []
          },
          "execution_count": 5
        }
      ]
    },
    {
      "cell_type": "markdown",
      "metadata": {
        "id": "auZprOY059xl"
      },
      "source": [
        "#### Vamos executar uma requisição com o método [`.execute()`](https://docs.python.org/3/library/sqlite3.html#sqlite3.Cursor.execute), que executa um requisição única ao [`sqlite_master`](https://wiki.tcl-lang.org/page/sqlite_master)."
      ]
    },
    {
      "cell_type": "code",
      "metadata": {
        "colab": {
          "base_uri": "https://localhost:8080/"
        },
        "id": "zpPMXPzB59xo",
        "outputId": "29adf5e9-7b0e-4523-efc2-41cb75c27e77"
      },
      "source": [
        "res = conn.execute(\"SELECT name FROM sqlite_master WHERE type = 'table';\")\n",
        "print(type(res))\n",
        "for name in res:\n",
        "    print (name[0])"
      ],
      "execution_count": 6,
      "outputs": [
        {
          "output_type": "stream",
          "text": [
            "<class 'sqlite3.Cursor'>\n",
            "customers\n",
            "employees\n",
            "offices\n",
            "orderdetails\n",
            "orders\n",
            "payments\n",
            "productlines\n",
            "products\n",
            "countries\n"
          ],
          "name": "stdout"
        }
      ]
    },
    {
      "cell_type": "markdown",
      "metadata": {
        "id": "n2obYzUk59xp"
      },
      "source": [
        "#### Podemos transformar o `cursor` `res` em um dataframe usando o método [`DataFrame.from_records()`](https://pandas.pydata.org/pandas-docs/stable/reference/api/pandas.DataFrame.from_records.html), que converte estruturas ou recordes de `ndarrray` em `DataFrames`."
      ]
    },
    {
      "cell_type": "code",
      "metadata": {
        "colab": {
          "base_uri": "https://localhost:8080/",
          "height": 328
        },
        "id": "fRhQmnrA59xp",
        "outputId": "73123448-3515-429c-e66c-d16a3447d6cd"
      },
      "source": [
        "res = conn.execute(\"SELECT name FROM sqlite_master WHERE type = 'table';\")\n",
        "\n",
        "cols = [column[0] for column in res.description]\n",
        "\n",
        "results = pd.DataFrame.from_records(data = res.fetchall(), \n",
        "                                    columns = cols\n",
        "                                   )\n",
        "results"
      ],
      "execution_count": 7,
      "outputs": [
        {
          "output_type": "execute_result",
          "data": {
            "text/html": [
              "<div>\n",
              "<style scoped>\n",
              "    .dataframe tbody tr th:only-of-type {\n",
              "        vertical-align: middle;\n",
              "    }\n",
              "\n",
              "    .dataframe tbody tr th {\n",
              "        vertical-align: top;\n",
              "    }\n",
              "\n",
              "    .dataframe thead th {\n",
              "        text-align: right;\n",
              "    }\n",
              "</style>\n",
              "<table border=\"1\" class=\"dataframe\">\n",
              "  <thead>\n",
              "    <tr style=\"text-align: right;\">\n",
              "      <th></th>\n",
              "      <th>name</th>\n",
              "    </tr>\n",
              "  </thead>\n",
              "  <tbody>\n",
              "    <tr>\n",
              "      <th>0</th>\n",
              "      <td>customers</td>\n",
              "    </tr>\n",
              "    <tr>\n",
              "      <th>1</th>\n",
              "      <td>employees</td>\n",
              "    </tr>\n",
              "    <tr>\n",
              "      <th>2</th>\n",
              "      <td>offices</td>\n",
              "    </tr>\n",
              "    <tr>\n",
              "      <th>3</th>\n",
              "      <td>orderdetails</td>\n",
              "    </tr>\n",
              "    <tr>\n",
              "      <th>4</th>\n",
              "      <td>orders</td>\n",
              "    </tr>\n",
              "    <tr>\n",
              "      <th>5</th>\n",
              "      <td>payments</td>\n",
              "    </tr>\n",
              "    <tr>\n",
              "      <th>6</th>\n",
              "      <td>productlines</td>\n",
              "    </tr>\n",
              "    <tr>\n",
              "      <th>7</th>\n",
              "      <td>products</td>\n",
              "    </tr>\n",
              "    <tr>\n",
              "      <th>8</th>\n",
              "      <td>countries</td>\n",
              "    </tr>\n",
              "  </tbody>\n",
              "</table>\n",
              "</div>"
            ],
            "text/plain": [
              "           name\n",
              "0     customers\n",
              "1     employees\n",
              "2       offices\n",
              "3  orderdetails\n",
              "4        orders\n",
              "5      payments\n",
              "6  productlines\n",
              "7      products\n",
              "8     countries"
            ]
          },
          "metadata": {
            "tags": []
          },
          "execution_count": 7
        }
      ]
    },
    {
      "cell_type": "markdown",
      "metadata": {
        "id": "sz6MDDsn59xp"
      },
      "source": [
        "#### Inserimos então alguns valores na tabela criada."
      ]
    },
    {
      "cell_type": "code",
      "metadata": {
        "colab": {
          "base_uri": "https://localhost:8080/",
          "height": 80
        },
        "id": "hK37L2Su59xp",
        "outputId": "96fc2df2-98ba-4d39-8770-4bff74656232"
      },
      "source": [
        "curs.execute(\"\"\"INSERT INTO countries  \n",
        "\n",
        "(key, name, founding_year, capital)\n",
        "\n",
        "VALUES \n",
        "\n",
        "\n",
        "(1, 'BRASIL', 1500, 'SALVADOR')\n",
        ";\"\"\")\n",
        "\n",
        "conn.commit()\n",
        "\n",
        "query = \"SELECT * FROM countries;\"\n",
        "\n",
        "queryResult = pd.read_sql_query(query,db)\n",
        "\n",
        "queryResult.head()"
      ],
      "execution_count": 8,
      "outputs": [
        {
          "output_type": "execute_result",
          "data": {
            "text/html": [
              "<div>\n",
              "<style scoped>\n",
              "    .dataframe tbody tr th:only-of-type {\n",
              "        vertical-align: middle;\n",
              "    }\n",
              "\n",
              "    .dataframe tbody tr th {\n",
              "        vertical-align: top;\n",
              "    }\n",
              "\n",
              "    .dataframe thead th {\n",
              "        text-align: right;\n",
              "    }\n",
              "</style>\n",
              "<table border=\"1\" class=\"dataframe\">\n",
              "  <thead>\n",
              "    <tr style=\"text-align: right;\">\n",
              "      <th></th>\n",
              "      <th>key</th>\n",
              "      <th>name</th>\n",
              "      <th>founding_year</th>\n",
              "      <th>capital</th>\n",
              "    </tr>\n",
              "  </thead>\n",
              "  <tbody>\n",
              "    <tr>\n",
              "      <th>0</th>\n",
              "      <td>1</td>\n",
              "      <td>BRASIL</td>\n",
              "      <td>1500</td>\n",
              "      <td>SALVADOR</td>\n",
              "    </tr>\n",
              "  </tbody>\n",
              "</table>\n",
              "</div>"
            ],
            "text/plain": [
              "   key    name  founding_year   capital\n",
              "0    1  BRASIL           1500  SALVADOR"
            ]
          },
          "metadata": {
            "tags": []
          },
          "execution_count": 8
        }
      ]
    },
    {
      "cell_type": "markdown",
      "metadata": {
        "id": "8XB-2Ctb59xq"
      },
      "source": [
        "#### Vamos inserir mais valores na tabela."
      ]
    },
    {
      "cell_type": "code",
      "metadata": {
        "id": "zbYN1Gi159xq"
      },
      "source": [
        "curs.execute(\"\"\"INSERT INTO countries  \n",
        "\n",
        "(key, name, founding_year, capital)\n",
        "\n",
        "VALUES \n",
        "\n",
        "(2, 'MÉXICO', 1519, 'CIDADE DO MÉXICO'),\n",
        "(3, 'ARGENTINA', 1516, 'BUENOS AIRES')\n",
        ";\"\"\")\n",
        "\n",
        "conn.commit()"
      ],
      "execution_count": 9,
      "outputs": []
    },
    {
      "cell_type": "markdown",
      "metadata": {
        "id": "YOPGxeRe59xq"
      },
      "source": [
        "#### Podemos observar a tabela a seguir."
      ]
    },
    {
      "cell_type": "code",
      "metadata": {
        "colab": {
          "base_uri": "https://localhost:8080/",
          "height": 142
        },
        "id": "2yUcOkdZ59xq",
        "outputId": "12341c70-8eb8-4625-ed98-3e53697e528a"
      },
      "source": [
        "query = \"SELECT * FROM countries;\"\n",
        "\n",
        "queryResult = pd.read_sql_query(query,db)\n",
        "\n",
        "queryResult.head()"
      ],
      "execution_count": 10,
      "outputs": [
        {
          "output_type": "execute_result",
          "data": {
            "text/html": [
              "<div>\n",
              "<style scoped>\n",
              "    .dataframe tbody tr th:only-of-type {\n",
              "        vertical-align: middle;\n",
              "    }\n",
              "\n",
              "    .dataframe tbody tr th {\n",
              "        vertical-align: top;\n",
              "    }\n",
              "\n",
              "    .dataframe thead th {\n",
              "        text-align: right;\n",
              "    }\n",
              "</style>\n",
              "<table border=\"1\" class=\"dataframe\">\n",
              "  <thead>\n",
              "    <tr style=\"text-align: right;\">\n",
              "      <th></th>\n",
              "      <th>key</th>\n",
              "      <th>name</th>\n",
              "      <th>founding_year</th>\n",
              "      <th>capital</th>\n",
              "    </tr>\n",
              "  </thead>\n",
              "  <tbody>\n",
              "    <tr>\n",
              "      <th>0</th>\n",
              "      <td>1</td>\n",
              "      <td>BRASIL</td>\n",
              "      <td>1500</td>\n",
              "      <td>SALVADOR</td>\n",
              "    </tr>\n",
              "    <tr>\n",
              "      <th>1</th>\n",
              "      <td>2</td>\n",
              "      <td>MÉXICO</td>\n",
              "      <td>1519</td>\n",
              "      <td>CIDADE DO MÉXICO</td>\n",
              "    </tr>\n",
              "    <tr>\n",
              "      <th>2</th>\n",
              "      <td>3</td>\n",
              "      <td>ARGENTINA</td>\n",
              "      <td>1516</td>\n",
              "      <td>BUENOS AIRES</td>\n",
              "    </tr>\n",
              "  </tbody>\n",
              "</table>\n",
              "</div>"
            ],
            "text/plain": [
              "   key       name  founding_year           capital\n",
              "0    1     BRASIL           1500          SALVADOR\n",
              "1    2     MÉXICO           1519  CIDADE DO MÉXICO\n",
              "2    3  ARGENTINA           1516      BUENOS AIRES"
            ]
          },
          "metadata": {
            "tags": []
          },
          "execution_count": 10
        }
      ]
    },
    {
      "cell_type": "markdown",
      "metadata": {
        "id": "sca1uLjD59xq"
      },
      "source": [
        "#### Inserimos mais um valor na tabela `countries`."
      ]
    },
    {
      "cell_type": "code",
      "metadata": {
        "colab": {
          "base_uri": "https://localhost:8080/",
          "height": 173
        },
        "id": "2BnGvXrU59xq",
        "outputId": "ab246b84-d6b7-4b23-b8a6-860fffa7329f"
      },
      "source": [
        "curs.execute(\"\"\"INSERT INTO countries  \n",
        "\n",
        "(key, name, founding_year, capital)\n",
        "\n",
        "VALUES \n",
        "\n",
        "\n",
        "(4, 'URUGUAI', 1680, 'MONTEVIDÉU')\n",
        ";\"\"\")\n",
        "\n",
        "conn.commit()\n",
        "\n",
        "query = \"SELECT * FROM countries;\"\n",
        "\n",
        "queryResult = pd.read_sql_query(query,db)\n",
        "\n",
        "queryResult.head()"
      ],
      "execution_count": 11,
      "outputs": [
        {
          "output_type": "execute_result",
          "data": {
            "text/html": [
              "<div>\n",
              "<style scoped>\n",
              "    .dataframe tbody tr th:only-of-type {\n",
              "        vertical-align: middle;\n",
              "    }\n",
              "\n",
              "    .dataframe tbody tr th {\n",
              "        vertical-align: top;\n",
              "    }\n",
              "\n",
              "    .dataframe thead th {\n",
              "        text-align: right;\n",
              "    }\n",
              "</style>\n",
              "<table border=\"1\" class=\"dataframe\">\n",
              "  <thead>\n",
              "    <tr style=\"text-align: right;\">\n",
              "      <th></th>\n",
              "      <th>key</th>\n",
              "      <th>name</th>\n",
              "      <th>founding_year</th>\n",
              "      <th>capital</th>\n",
              "    </tr>\n",
              "  </thead>\n",
              "  <tbody>\n",
              "    <tr>\n",
              "      <th>0</th>\n",
              "      <td>1</td>\n",
              "      <td>BRASIL</td>\n",
              "      <td>1500</td>\n",
              "      <td>SALVADOR</td>\n",
              "    </tr>\n",
              "    <tr>\n",
              "      <th>1</th>\n",
              "      <td>2</td>\n",
              "      <td>MÉXICO</td>\n",
              "      <td>1519</td>\n",
              "      <td>CIDADE DO MÉXICO</td>\n",
              "    </tr>\n",
              "    <tr>\n",
              "      <th>2</th>\n",
              "      <td>3</td>\n",
              "      <td>ARGENTINA</td>\n",
              "      <td>1516</td>\n",
              "      <td>BUENOS AIRES</td>\n",
              "    </tr>\n",
              "    <tr>\n",
              "      <th>3</th>\n",
              "      <td>4</td>\n",
              "      <td>URUGUAI</td>\n",
              "      <td>1680</td>\n",
              "      <td>MONTEVIDÉU</td>\n",
              "    </tr>\n",
              "  </tbody>\n",
              "</table>\n",
              "</div>"
            ],
            "text/plain": [
              "   key       name  founding_year           capital\n",
              "0    1     BRASIL           1500          SALVADOR\n",
              "1    2     MÉXICO           1519  CIDADE DO MÉXICO\n",
              "2    3  ARGENTINA           1516      BUENOS AIRES\n",
              "3    4    URUGUAI           1680        MONTEVIDÉU"
            ]
          },
          "metadata": {
            "tags": []
          },
          "execution_count": 11
        }
      ]
    },
    {
      "cell_type": "markdown",
      "metadata": {
        "id": "FNWOX2Cd59xq"
      },
      "source": [
        "#### Vamos inserir uma observação com dado faltante na tabela."
      ]
    },
    {
      "cell_type": "code",
      "metadata": {
        "id": "nac8UyMc59xq"
      },
      "source": [
        "curs.execute(\"\"\"INSERT INTO countries  \n",
        "\n",
        "(name, founding_year, capital)\n",
        "\n",
        "VALUES \n",
        "\n",
        "('VENEZUELA', 1500.0, 'SALVADOR')\n",
        ";\"\"\")\n",
        "\n",
        "conn.commit()"
      ],
      "execution_count": 12,
      "outputs": []
    },
    {
      "cell_type": "markdown",
      "metadata": {
        "id": "kidoPmhh59xr"
      },
      "source": [
        "#### E vemos o que ela apresenta."
      ]
    },
    {
      "cell_type": "code",
      "metadata": {
        "colab": {
          "base_uri": "https://localhost:8080/",
          "height": 204
        },
        "id": "JbSNmUaq59xr",
        "outputId": "1dd5e49d-c269-4e20-807f-8b45bc220281"
      },
      "source": [
        "query = \"SELECT * FROM countries;\"\n",
        "\n",
        "queryResult = pd.read_sql_query(query,db)\n",
        "\n",
        "queryResult.head()"
      ],
      "execution_count": 13,
      "outputs": [
        {
          "output_type": "execute_result",
          "data": {
            "text/html": [
              "<div>\n",
              "<style scoped>\n",
              "    .dataframe tbody tr th:only-of-type {\n",
              "        vertical-align: middle;\n",
              "    }\n",
              "\n",
              "    .dataframe tbody tr th {\n",
              "        vertical-align: top;\n",
              "    }\n",
              "\n",
              "    .dataframe thead th {\n",
              "        text-align: right;\n",
              "    }\n",
              "</style>\n",
              "<table border=\"1\" class=\"dataframe\">\n",
              "  <thead>\n",
              "    <tr style=\"text-align: right;\">\n",
              "      <th></th>\n",
              "      <th>key</th>\n",
              "      <th>name</th>\n",
              "      <th>founding_year</th>\n",
              "      <th>capital</th>\n",
              "    </tr>\n",
              "  </thead>\n",
              "  <tbody>\n",
              "    <tr>\n",
              "      <th>0</th>\n",
              "      <td>1.0</td>\n",
              "      <td>BRASIL</td>\n",
              "      <td>1500</td>\n",
              "      <td>SALVADOR</td>\n",
              "    </tr>\n",
              "    <tr>\n",
              "      <th>1</th>\n",
              "      <td>2.0</td>\n",
              "      <td>MÉXICO</td>\n",
              "      <td>1519</td>\n",
              "      <td>CIDADE DO MÉXICO</td>\n",
              "    </tr>\n",
              "    <tr>\n",
              "      <th>2</th>\n",
              "      <td>3.0</td>\n",
              "      <td>ARGENTINA</td>\n",
              "      <td>1516</td>\n",
              "      <td>BUENOS AIRES</td>\n",
              "    </tr>\n",
              "    <tr>\n",
              "      <th>3</th>\n",
              "      <td>4.0</td>\n",
              "      <td>URUGUAI</td>\n",
              "      <td>1680</td>\n",
              "      <td>MONTEVIDÉU</td>\n",
              "    </tr>\n",
              "    <tr>\n",
              "      <th>4</th>\n",
              "      <td>NaN</td>\n",
              "      <td>VENEZUELA</td>\n",
              "      <td>1500</td>\n",
              "      <td>SALVADOR</td>\n",
              "    </tr>\n",
              "  </tbody>\n",
              "</table>\n",
              "</div>"
            ],
            "text/plain": [
              "   key       name  founding_year           capital\n",
              "0  1.0     BRASIL           1500          SALVADOR\n",
              "1  2.0     MÉXICO           1519  CIDADE DO MÉXICO\n",
              "2  3.0  ARGENTINA           1516      BUENOS AIRES\n",
              "3  4.0    URUGUAI           1680        MONTEVIDÉU\n",
              "4  NaN  VENEZUELA           1500          SALVADOR"
            ]
          },
          "metadata": {
            "tags": []
          },
          "execution_count": 13
        }
      ]
    },
    {
      "cell_type": "markdown",
      "metadata": {
        "id": "qv40_iwh59xr"
      },
      "source": [
        "#### Podemos também atualizar valores com o comando [`UPDATE`](https://www.sqlitetutorial.net/sqlite-update/)."
      ]
    },
    {
      "cell_type": "code",
      "metadata": {
        "colab": {
          "base_uri": "https://localhost:8080/",
          "height": 204
        },
        "id": "Vane9Xi559xr",
        "outputId": "411ac0a6-a339-4194-ca68-f46fa6286b66"
      },
      "source": [
        "curs.execute(\"\"\"UPDATE countries  \n",
        "\n",
        "SET capital = 'BRASÍLIA'\n",
        "\n",
        "WHERE\n",
        "\n",
        "name = 'BRASIL' \n",
        "\n",
        ";\"\"\")\n",
        "conn.commit()\n",
        "\n",
        "query = \"SELECT * FROM countries;\"\n",
        "\n",
        "queryResult = pd.read_sql_query(query,db)\n",
        "\n",
        "queryResult.head()"
      ],
      "execution_count": 14,
      "outputs": [
        {
          "output_type": "execute_result",
          "data": {
            "text/html": [
              "<div>\n",
              "<style scoped>\n",
              "    .dataframe tbody tr th:only-of-type {\n",
              "        vertical-align: middle;\n",
              "    }\n",
              "\n",
              "    .dataframe tbody tr th {\n",
              "        vertical-align: top;\n",
              "    }\n",
              "\n",
              "    .dataframe thead th {\n",
              "        text-align: right;\n",
              "    }\n",
              "</style>\n",
              "<table border=\"1\" class=\"dataframe\">\n",
              "  <thead>\n",
              "    <tr style=\"text-align: right;\">\n",
              "      <th></th>\n",
              "      <th>key</th>\n",
              "      <th>name</th>\n",
              "      <th>founding_year</th>\n",
              "      <th>capital</th>\n",
              "    </tr>\n",
              "  </thead>\n",
              "  <tbody>\n",
              "    <tr>\n",
              "      <th>0</th>\n",
              "      <td>1.0</td>\n",
              "      <td>BRASIL</td>\n",
              "      <td>1500</td>\n",
              "      <td>BRASÍLIA</td>\n",
              "    </tr>\n",
              "    <tr>\n",
              "      <th>1</th>\n",
              "      <td>2.0</td>\n",
              "      <td>MÉXICO</td>\n",
              "      <td>1519</td>\n",
              "      <td>CIDADE DO MÉXICO</td>\n",
              "    </tr>\n",
              "    <tr>\n",
              "      <th>2</th>\n",
              "      <td>3.0</td>\n",
              "      <td>ARGENTINA</td>\n",
              "      <td>1516</td>\n",
              "      <td>BUENOS AIRES</td>\n",
              "    </tr>\n",
              "    <tr>\n",
              "      <th>3</th>\n",
              "      <td>4.0</td>\n",
              "      <td>URUGUAI</td>\n",
              "      <td>1680</td>\n",
              "      <td>MONTEVIDÉU</td>\n",
              "    </tr>\n",
              "    <tr>\n",
              "      <th>4</th>\n",
              "      <td>NaN</td>\n",
              "      <td>VENEZUELA</td>\n",
              "      <td>1500</td>\n",
              "      <td>SALVADOR</td>\n",
              "    </tr>\n",
              "  </tbody>\n",
              "</table>\n",
              "</div>"
            ],
            "text/plain": [
              "   key       name  founding_year           capital\n",
              "0  1.0     BRASIL           1500          BRASÍLIA\n",
              "1  2.0     MÉXICO           1519  CIDADE DO MÉXICO\n",
              "2  3.0  ARGENTINA           1516      BUENOS AIRES\n",
              "3  4.0    URUGUAI           1680        MONTEVIDÉU\n",
              "4  NaN  VENEZUELA           1500          SALVADOR"
            ]
          },
          "metadata": {
            "tags": []
          },
          "execution_count": 14
        }
      ]
    },
    {
      "cell_type": "markdown",
      "metadata": {
        "id": "La_0K1pO59xr"
      },
      "source": [
        "#### Vamos novamente atualizar um valor da tabela."
      ]
    },
    {
      "cell_type": "code",
      "metadata": {
        "colab": {
          "base_uri": "https://localhost:8080/",
          "height": 204
        },
        "id": "SvXMpmmI59xr",
        "outputId": "b3fbec85-ee89-42dc-8c25-0e09e9d78d22"
      },
      "source": [
        "curs.execute(\"\"\"UPDATE countries  \n",
        "\n",
        "SET capital = 'ASSUNCAO'\n",
        "\n",
        ";\"\"\")\n",
        "conn.commit()\n",
        "\n",
        "query = \"SELECT * FROM countries;\"\n",
        "\n",
        "queryResult = pd.read_sql_query(query,db)\n",
        "\n",
        "queryResult.head()"
      ],
      "execution_count": 15,
      "outputs": [
        {
          "output_type": "execute_result",
          "data": {
            "text/html": [
              "<div>\n",
              "<style scoped>\n",
              "    .dataframe tbody tr th:only-of-type {\n",
              "        vertical-align: middle;\n",
              "    }\n",
              "\n",
              "    .dataframe tbody tr th {\n",
              "        vertical-align: top;\n",
              "    }\n",
              "\n",
              "    .dataframe thead th {\n",
              "        text-align: right;\n",
              "    }\n",
              "</style>\n",
              "<table border=\"1\" class=\"dataframe\">\n",
              "  <thead>\n",
              "    <tr style=\"text-align: right;\">\n",
              "      <th></th>\n",
              "      <th>key</th>\n",
              "      <th>name</th>\n",
              "      <th>founding_year</th>\n",
              "      <th>capital</th>\n",
              "    </tr>\n",
              "  </thead>\n",
              "  <tbody>\n",
              "    <tr>\n",
              "      <th>0</th>\n",
              "      <td>1.0</td>\n",
              "      <td>BRASIL</td>\n",
              "      <td>1500</td>\n",
              "      <td>ASSUNCAO</td>\n",
              "    </tr>\n",
              "    <tr>\n",
              "      <th>1</th>\n",
              "      <td>2.0</td>\n",
              "      <td>MÉXICO</td>\n",
              "      <td>1519</td>\n",
              "      <td>ASSUNCAO</td>\n",
              "    </tr>\n",
              "    <tr>\n",
              "      <th>2</th>\n",
              "      <td>3.0</td>\n",
              "      <td>ARGENTINA</td>\n",
              "      <td>1516</td>\n",
              "      <td>ASSUNCAO</td>\n",
              "    </tr>\n",
              "    <tr>\n",
              "      <th>3</th>\n",
              "      <td>4.0</td>\n",
              "      <td>URUGUAI</td>\n",
              "      <td>1680</td>\n",
              "      <td>ASSUNCAO</td>\n",
              "    </tr>\n",
              "    <tr>\n",
              "      <th>4</th>\n",
              "      <td>NaN</td>\n",
              "      <td>VENEZUELA</td>\n",
              "      <td>1500</td>\n",
              "      <td>ASSUNCAO</td>\n",
              "    </tr>\n",
              "  </tbody>\n",
              "</table>\n",
              "</div>"
            ],
            "text/plain": [
              "   key       name  founding_year   capital\n",
              "0  1.0     BRASIL           1500  ASSUNCAO\n",
              "1  2.0     MÉXICO           1519  ASSUNCAO\n",
              "2  3.0  ARGENTINA           1516  ASSUNCAO\n",
              "3  4.0    URUGUAI           1680  ASSUNCAO\n",
              "4  NaN  VENEZUELA           1500  ASSUNCAO"
            ]
          },
          "metadata": {
            "tags": []
          },
          "execution_count": 15
        }
      ]
    },
    {
      "cell_type": "markdown",
      "metadata": {
        "id": "zQqFmLMX59xs"
      },
      "source": [
        "#### Ou então anular um valor."
      ]
    },
    {
      "cell_type": "code",
      "metadata": {
        "colab": {
          "base_uri": "https://localhost:8080/",
          "height": 204
        },
        "id": "GAIEQuOS59xs",
        "outputId": "6e737537-1a71-4e83-e0d7-161677f3773a"
      },
      "source": [
        "curs.execute(\"\"\"UPDATE countries  \n",
        "\n",
        "SET capital = NULL\n",
        "\n",
        "WHERE\n",
        "\n",
        "name = 'ARGENTINA'\n",
        "\n",
        ";\"\"\")\n",
        "conn.commit()\n",
        "\n",
        "query = \"SELECT * FROM countries;\"\n",
        "\n",
        "queryResult = pd.read_sql_query(query,db)\n",
        "\n",
        "queryResult.head()"
      ],
      "execution_count": 16,
      "outputs": [
        {
          "output_type": "execute_result",
          "data": {
            "text/html": [
              "<div>\n",
              "<style scoped>\n",
              "    .dataframe tbody tr th:only-of-type {\n",
              "        vertical-align: middle;\n",
              "    }\n",
              "\n",
              "    .dataframe tbody tr th {\n",
              "        vertical-align: top;\n",
              "    }\n",
              "\n",
              "    .dataframe thead th {\n",
              "        text-align: right;\n",
              "    }\n",
              "</style>\n",
              "<table border=\"1\" class=\"dataframe\">\n",
              "  <thead>\n",
              "    <tr style=\"text-align: right;\">\n",
              "      <th></th>\n",
              "      <th>key</th>\n",
              "      <th>name</th>\n",
              "      <th>founding_year</th>\n",
              "      <th>capital</th>\n",
              "    </tr>\n",
              "  </thead>\n",
              "  <tbody>\n",
              "    <tr>\n",
              "      <th>0</th>\n",
              "      <td>1.0</td>\n",
              "      <td>BRASIL</td>\n",
              "      <td>1500</td>\n",
              "      <td>ASSUNCAO</td>\n",
              "    </tr>\n",
              "    <tr>\n",
              "      <th>1</th>\n",
              "      <td>2.0</td>\n",
              "      <td>MÉXICO</td>\n",
              "      <td>1519</td>\n",
              "      <td>ASSUNCAO</td>\n",
              "    </tr>\n",
              "    <tr>\n",
              "      <th>2</th>\n",
              "      <td>3.0</td>\n",
              "      <td>ARGENTINA</td>\n",
              "      <td>1516</td>\n",
              "      <td>None</td>\n",
              "    </tr>\n",
              "    <tr>\n",
              "      <th>3</th>\n",
              "      <td>4.0</td>\n",
              "      <td>URUGUAI</td>\n",
              "      <td>1680</td>\n",
              "      <td>ASSUNCAO</td>\n",
              "    </tr>\n",
              "    <tr>\n",
              "      <th>4</th>\n",
              "      <td>NaN</td>\n",
              "      <td>VENEZUELA</td>\n",
              "      <td>1500</td>\n",
              "      <td>ASSUNCAO</td>\n",
              "    </tr>\n",
              "  </tbody>\n",
              "</table>\n",
              "</div>"
            ],
            "text/plain": [
              "   key       name  founding_year   capital\n",
              "0  1.0     BRASIL           1500  ASSUNCAO\n",
              "1  2.0     MÉXICO           1519  ASSUNCAO\n",
              "2  3.0  ARGENTINA           1516      None\n",
              "3  4.0    URUGUAI           1680  ASSUNCAO\n",
              "4  NaN  VENEZUELA           1500  ASSUNCAO"
            ]
          },
          "metadata": {
            "tags": []
          },
          "execution_count": 16
        }
      ]
    },
    {
      "cell_type": "markdown",
      "metadata": {
        "id": "VsqRwRI459xs"
      },
      "source": [
        "#### Podemos excluir uma linha."
      ]
    },
    {
      "cell_type": "code",
      "metadata": {
        "colab": {
          "base_uri": "https://localhost:8080/",
          "height": 173
        },
        "id": "0izqsKfh59xs",
        "outputId": "6366e259-be97-43c4-a325-e3f2a55e6184"
      },
      "source": [
        "curs.execute(\"\"\"DELETE FROM countries  \n",
        "\n",
        "WHERE\n",
        "\n",
        "name = 'ARGENTINA'\n",
        "\n",
        ";\"\"\")\n",
        "conn.commit()\n",
        "\n",
        "query = \"SELECT * FROM countries;\"\n",
        "\n",
        "queryResult = pd.read_sql_query(query,db)\n",
        "\n",
        "queryResult.head()"
      ],
      "execution_count": 17,
      "outputs": [
        {
          "output_type": "execute_result",
          "data": {
            "text/html": [
              "<div>\n",
              "<style scoped>\n",
              "    .dataframe tbody tr th:only-of-type {\n",
              "        vertical-align: middle;\n",
              "    }\n",
              "\n",
              "    .dataframe tbody tr th {\n",
              "        vertical-align: top;\n",
              "    }\n",
              "\n",
              "    .dataframe thead th {\n",
              "        text-align: right;\n",
              "    }\n",
              "</style>\n",
              "<table border=\"1\" class=\"dataframe\">\n",
              "  <thead>\n",
              "    <tr style=\"text-align: right;\">\n",
              "      <th></th>\n",
              "      <th>key</th>\n",
              "      <th>name</th>\n",
              "      <th>founding_year</th>\n",
              "      <th>capital</th>\n",
              "    </tr>\n",
              "  </thead>\n",
              "  <tbody>\n",
              "    <tr>\n",
              "      <th>0</th>\n",
              "      <td>1.0</td>\n",
              "      <td>BRASIL</td>\n",
              "      <td>1500</td>\n",
              "      <td>ASSUNCAO</td>\n",
              "    </tr>\n",
              "    <tr>\n",
              "      <th>1</th>\n",
              "      <td>2.0</td>\n",
              "      <td>MÉXICO</td>\n",
              "      <td>1519</td>\n",
              "      <td>ASSUNCAO</td>\n",
              "    </tr>\n",
              "    <tr>\n",
              "      <th>2</th>\n",
              "      <td>4.0</td>\n",
              "      <td>URUGUAI</td>\n",
              "      <td>1680</td>\n",
              "      <td>ASSUNCAO</td>\n",
              "    </tr>\n",
              "    <tr>\n",
              "      <th>3</th>\n",
              "      <td>NaN</td>\n",
              "      <td>VENEZUELA</td>\n",
              "      <td>1500</td>\n",
              "      <td>ASSUNCAO</td>\n",
              "    </tr>\n",
              "  </tbody>\n",
              "</table>\n",
              "</div>"
            ],
            "text/plain": [
              "   key       name  founding_year   capital\n",
              "0  1.0     BRASIL           1500  ASSUNCAO\n",
              "1  2.0     MÉXICO           1519  ASSUNCAO\n",
              "2  4.0    URUGUAI           1680  ASSUNCAO\n",
              "3  NaN  VENEZUELA           1500  ASSUNCAO"
            ]
          },
          "metadata": {
            "tags": []
          },
          "execution_count": 17
        }
      ]
    },
    {
      "cell_type": "markdown",
      "metadata": {
        "id": "7GYVAiVJ59xs"
      },
      "source": [
        "#### Ou excluir todas as linhas."
      ]
    },
    {
      "cell_type": "code",
      "metadata": {
        "colab": {
          "base_uri": "https://localhost:8080/",
          "height": 49
        },
        "id": "0EkvCtCB59xs",
        "outputId": "ee8f1c58-e69b-4f4a-b5a1-f51890e67f39"
      },
      "source": [
        "curs.execute(\"\"\"DELETE FROM countries  \n",
        "\n",
        ";\"\"\")\n",
        "conn.commit()\n",
        "\n",
        "query = \"SELECT * FROM countries;\"\n",
        "\n",
        "queryResult = pd.read_sql_query(query,db)\n",
        "\n",
        "queryResult.head()"
      ],
      "execution_count": 18,
      "outputs": [
        {
          "output_type": "execute_result",
          "data": {
            "text/html": [
              "<div>\n",
              "<style scoped>\n",
              "    .dataframe tbody tr th:only-of-type {\n",
              "        vertical-align: middle;\n",
              "    }\n",
              "\n",
              "    .dataframe tbody tr th {\n",
              "        vertical-align: top;\n",
              "    }\n",
              "\n",
              "    .dataframe thead th {\n",
              "        text-align: right;\n",
              "    }\n",
              "</style>\n",
              "<table border=\"1\" class=\"dataframe\">\n",
              "  <thead>\n",
              "    <tr style=\"text-align: right;\">\n",
              "      <th></th>\n",
              "      <th>key</th>\n",
              "      <th>name</th>\n",
              "      <th>founding_year</th>\n",
              "      <th>capital</th>\n",
              "    </tr>\n",
              "  </thead>\n",
              "  <tbody>\n",
              "  </tbody>\n",
              "</table>\n",
              "</div>"
            ],
            "text/plain": [
              "Empty DataFrame\n",
              "Columns: [key, name, founding_year, capital]\n",
              "Index: []"
            ]
          },
          "metadata": {
            "tags": []
          },
          "execution_count": 18
        }
      ]
    },
    {
      "cell_type": "markdown",
      "metadata": {
        "id": "HXEALvxx59xt"
      },
      "source": [
        "#### É possível excluir uma tabela."
      ]
    },
    {
      "cell_type": "code",
      "metadata": {
        "id": "wUd-yjhU59xt"
      },
      "source": [
        "curs.execute(\"\"\"\n",
        "DROP TABLE countries;\"\"\")\n",
        "\n",
        "conn.commit()"
      ],
      "execution_count": 19,
      "outputs": []
    },
    {
      "cell_type": "markdown",
      "metadata": {
        "id": "sRhGaIBK59xt"
      },
      "source": [
        "#### E checamos novamente as tabelas do banco de dados."
      ]
    },
    {
      "cell_type": "code",
      "metadata": {
        "colab": {
          "base_uri": "https://localhost:8080/"
        },
        "id": "XTI0k0oo59xt",
        "outputId": "c1deaae7-b399-41a7-8a4e-6cb5c7d7c251"
      },
      "source": [
        "res = conn.execute(\"SELECT name FROM sqlite_master WHERE type='table';\")\n",
        "for name in res:\n",
        "    print (name[0])"
      ],
      "execution_count": 20,
      "outputs": [
        {
          "output_type": "stream",
          "text": [
            "customers\n",
            "employees\n",
            "offices\n",
            "orderdetails\n",
            "orders\n",
            "payments\n",
            "productlines\n",
            "products\n"
          ],
          "name": "stdout"
        }
      ]
    },
    {
      "cell_type": "markdown",
      "metadata": {
        "id": "6vtT46vN59xt"
      },
      "source": [
        "## Vamos focar em ler dados de um banco relacional utilizando SQL\n",
        "\n",
        "A operação mais comum em um banco de dados é a leitura de dados, e para isso precisamos escrever um requerimento, que é mais conhecido como QUERY.\n",
        "\n",
        "Uma query poder ser quebrada em partes:\n",
        "1. SELECT = irá iniciar a seleção de dados que faremos a leitura\n",
        "2. FROM = irá selecionar as tabelas de interesse\n",
        "3. WHERE = vamos declarar as condições para ler os dados\n",
        "4. GROUP BY = podemos agrupar algum dado considerando uma coluna \n",
        "5. Pós processamento = podemos ordenar (ORDER BY) ou estabelecer limites (LIMIT)\n",
        "\n"
      ]
    },
    {
      "cell_type": "markdown",
      "metadata": {
        "id": "Yj4Sg8wO59xt"
      },
      "source": [
        "## Vamos construir aos poucos nossa query"
      ]
    },
    {
      "cell_type": "code",
      "metadata": {
        "colab": {
          "base_uri": "https://localhost:8080/",
          "height": 326
        },
        "id": "ofe8SOxb59xt",
        "outputId": "33927c4b-513a-4d41-a25b-9c4293da6d8a"
      },
      "source": [
        "query = \"SELECT * FROM customers;\"\n",
        "\n",
        "queryResult = pd.read_sql_query(query,db)\n",
        "\n",
        "queryResult.head()"
      ],
      "execution_count": 21,
      "outputs": [
        {
          "output_type": "execute_result",
          "data": {
            "text/html": [
              "<div>\n",
              "<style scoped>\n",
              "    .dataframe tbody tr th:only-of-type {\n",
              "        vertical-align: middle;\n",
              "    }\n",
              "\n",
              "    .dataframe tbody tr th {\n",
              "        vertical-align: top;\n",
              "    }\n",
              "\n",
              "    .dataframe thead th {\n",
              "        text-align: right;\n",
              "    }\n",
              "</style>\n",
              "<table border=\"1\" class=\"dataframe\">\n",
              "  <thead>\n",
              "    <tr style=\"text-align: right;\">\n",
              "      <th></th>\n",
              "      <th>customerNumber</th>\n",
              "      <th>customerName</th>\n",
              "      <th>contactLastName</th>\n",
              "      <th>contactFirstName</th>\n",
              "      <th>phone</th>\n",
              "      <th>addressLine1</th>\n",
              "      <th>addressLine2</th>\n",
              "      <th>city</th>\n",
              "      <th>state</th>\n",
              "      <th>postalCode</th>\n",
              "      <th>country</th>\n",
              "      <th>salesRepEmployeeNumber</th>\n",
              "      <th>creditLimit</th>\n",
              "    </tr>\n",
              "  </thead>\n",
              "  <tbody>\n",
              "    <tr>\n",
              "      <th>0</th>\n",
              "      <td>103</td>\n",
              "      <td>Atelier graphique</td>\n",
              "      <td>Schmitt</td>\n",
              "      <td>Carine</td>\n",
              "      <td>40.32.2555</td>\n",
              "      <td>54, rue Royale</td>\n",
              "      <td>None</td>\n",
              "      <td>Nantes</td>\n",
              "      <td>None</td>\n",
              "      <td>44000</td>\n",
              "      <td>France</td>\n",
              "      <td>1370.0</td>\n",
              "      <td>21000</td>\n",
              "    </tr>\n",
              "    <tr>\n",
              "      <th>1</th>\n",
              "      <td>112</td>\n",
              "      <td>Signal Gift Stores</td>\n",
              "      <td>King</td>\n",
              "      <td>Jean</td>\n",
              "      <td>7025551838</td>\n",
              "      <td>8489 Strong St.</td>\n",
              "      <td>None</td>\n",
              "      <td>Las Vegas</td>\n",
              "      <td>NV</td>\n",
              "      <td>83030</td>\n",
              "      <td>USA</td>\n",
              "      <td>1166.0</td>\n",
              "      <td>71800</td>\n",
              "    </tr>\n",
              "    <tr>\n",
              "      <th>2</th>\n",
              "      <td>114</td>\n",
              "      <td>Australian Collectors, Co.</td>\n",
              "      <td>Ferguson</td>\n",
              "      <td>Peter</td>\n",
              "      <td>03 9520 4555</td>\n",
              "      <td>636 St Kilda Road</td>\n",
              "      <td>Level 3</td>\n",
              "      <td>Melbourne</td>\n",
              "      <td>Victoria</td>\n",
              "      <td>3004</td>\n",
              "      <td>Australia</td>\n",
              "      <td>1611.0</td>\n",
              "      <td>117300</td>\n",
              "    </tr>\n",
              "    <tr>\n",
              "      <th>3</th>\n",
              "      <td>119</td>\n",
              "      <td>La Rochelle Gifts</td>\n",
              "      <td>Labrune</td>\n",
              "      <td>Janine</td>\n",
              "      <td>40.67.8555</td>\n",
              "      <td>67, rue des Cinquante Otages</td>\n",
              "      <td>None</td>\n",
              "      <td>Nantes</td>\n",
              "      <td>None</td>\n",
              "      <td>44000</td>\n",
              "      <td>France</td>\n",
              "      <td>1370.0</td>\n",
              "      <td>118200</td>\n",
              "    </tr>\n",
              "    <tr>\n",
              "      <th>4</th>\n",
              "      <td>121</td>\n",
              "      <td>Baane Mini Imports</td>\n",
              "      <td>Bergulfsen</td>\n",
              "      <td>Jonas</td>\n",
              "      <td>07-98 9555</td>\n",
              "      <td>Erling Skakkes gate 78</td>\n",
              "      <td>None</td>\n",
              "      <td>Stavern</td>\n",
              "      <td>None</td>\n",
              "      <td>4110</td>\n",
              "      <td>Norway</td>\n",
              "      <td>1504.0</td>\n",
              "      <td>81700</td>\n",
              "    </tr>\n",
              "  </tbody>\n",
              "</table>\n",
              "</div>"
            ],
            "text/plain": [
              "   customerNumber  ... creditLimit\n",
              "0             103  ...       21000\n",
              "1             112  ...       71800\n",
              "2             114  ...      117300\n",
              "3             119  ...      118200\n",
              "4             121  ...       81700\n",
              "\n",
              "[5 rows x 13 columns]"
            ]
          },
          "metadata": {
            "tags": []
          },
          "execution_count": 21
        }
      ]
    },
    {
      "cell_type": "markdown",
      "metadata": {
        "id": "nknspxCx59xt"
      },
      "source": [
        "#### É possível ler apenas colunas específicas de uma tabela."
      ]
    },
    {
      "cell_type": "code",
      "metadata": {
        "colab": {
          "base_uri": "https://localhost:8080/",
          "height": 204
        },
        "id": "c-zavrlI59xt",
        "outputId": "86d28457-ab46-40cd-dbfc-9f1231ea9c70"
      },
      "source": [
        "query = \"SELECT customerName, phone FROM customers;\"\n",
        "\n",
        "queryResult = pd.read_sql_query(query,db)\n",
        "\n",
        "queryResult.head()"
      ],
      "execution_count": 22,
      "outputs": [
        {
          "output_type": "execute_result",
          "data": {
            "text/html": [
              "<div>\n",
              "<style scoped>\n",
              "    .dataframe tbody tr th:only-of-type {\n",
              "        vertical-align: middle;\n",
              "    }\n",
              "\n",
              "    .dataframe tbody tr th {\n",
              "        vertical-align: top;\n",
              "    }\n",
              "\n",
              "    .dataframe thead th {\n",
              "        text-align: right;\n",
              "    }\n",
              "</style>\n",
              "<table border=\"1\" class=\"dataframe\">\n",
              "  <thead>\n",
              "    <tr style=\"text-align: right;\">\n",
              "      <th></th>\n",
              "      <th>customerName</th>\n",
              "      <th>phone</th>\n",
              "    </tr>\n",
              "  </thead>\n",
              "  <tbody>\n",
              "    <tr>\n",
              "      <th>0</th>\n",
              "      <td>Atelier graphique</td>\n",
              "      <td>40.32.2555</td>\n",
              "    </tr>\n",
              "    <tr>\n",
              "      <th>1</th>\n",
              "      <td>Signal Gift Stores</td>\n",
              "      <td>7025551838</td>\n",
              "    </tr>\n",
              "    <tr>\n",
              "      <th>2</th>\n",
              "      <td>Australian Collectors, Co.</td>\n",
              "      <td>03 9520 4555</td>\n",
              "    </tr>\n",
              "    <tr>\n",
              "      <th>3</th>\n",
              "      <td>La Rochelle Gifts</td>\n",
              "      <td>40.67.8555</td>\n",
              "    </tr>\n",
              "    <tr>\n",
              "      <th>4</th>\n",
              "      <td>Baane Mini Imports</td>\n",
              "      <td>07-98 9555</td>\n",
              "    </tr>\n",
              "  </tbody>\n",
              "</table>\n",
              "</div>"
            ],
            "text/plain": [
              "                 customerName         phone\n",
              "0           Atelier graphique    40.32.2555\n",
              "1          Signal Gift Stores    7025551838\n",
              "2  Australian Collectors, Co.  03 9520 4555\n",
              "3           La Rochelle Gifts    40.67.8555\n",
              "4          Baane Mini Imports    07-98 9555"
            ]
          },
          "metadata": {
            "tags": []
          },
          "execution_count": 22
        }
      ]
    },
    {
      "cell_type": "markdown",
      "metadata": {
        "id": "mqquJokl59xu"
      },
      "source": [
        "## SQLite com Pandas\n",
        "\n",
        "###  <span style = \"color:blue\">Prática independente.</span>"
      ]
    },
    {
      "cell_type": "markdown",
      "metadata": {
        "id": "tQFU4jgV59xu"
      },
      "source": [
        "#### Vamos escrever algumas queries, mas primeiro, vamos conhecer nossas tabelas."
      ]
    },
    {
      "cell_type": "code",
      "metadata": {
        "colab": {
          "base_uri": "https://localhost:8080/",
          "height": 204
        },
        "id": "MaA_fbmX59xu",
        "outputId": "0b6b52ab-2e3f-41ea-e5d8-9af9a287b488"
      },
      "source": [
        "#customers\n",
        "#employees\n",
        "#offices\n",
        "#orderdetails\n",
        "#orders\n",
        "#payments\n",
        "#productlines\n",
        "#products\n",
        "\n",
        "#query = \"\"\"SELECT Distinct jobTitle\n",
        "query = \"\"\"SELECT *\n",
        "\n",
        "    FROM orderdetails AS o\n",
        "    \n",
        "    ;\"\"\"\n",
        "\n",
        "queryResult = pd.read_sql_query(query,db)\n",
        "\n",
        "queryResult.head()\n",
        "#queryResult.shape"
      ],
      "execution_count": 23,
      "outputs": [
        {
          "output_type": "execute_result",
          "data": {
            "text/html": [
              "<div>\n",
              "<style scoped>\n",
              "    .dataframe tbody tr th:only-of-type {\n",
              "        vertical-align: middle;\n",
              "    }\n",
              "\n",
              "    .dataframe tbody tr th {\n",
              "        vertical-align: top;\n",
              "    }\n",
              "\n",
              "    .dataframe thead th {\n",
              "        text-align: right;\n",
              "    }\n",
              "</style>\n",
              "<table border=\"1\" class=\"dataframe\">\n",
              "  <thead>\n",
              "    <tr style=\"text-align: right;\">\n",
              "      <th></th>\n",
              "      <th>orderNumber</th>\n",
              "      <th>productCode</th>\n",
              "      <th>quantityOrdered</th>\n",
              "      <th>priceEach</th>\n",
              "      <th>orderLineNumber</th>\n",
              "    </tr>\n",
              "  </thead>\n",
              "  <tbody>\n",
              "    <tr>\n",
              "      <th>0</th>\n",
              "      <td>10100</td>\n",
              "      <td>S18_1749</td>\n",
              "      <td>30</td>\n",
              "      <td>136.00</td>\n",
              "      <td>3</td>\n",
              "    </tr>\n",
              "    <tr>\n",
              "      <th>1</th>\n",
              "      <td>10100</td>\n",
              "      <td>S18_2248</td>\n",
              "      <td>50</td>\n",
              "      <td>55.09</td>\n",
              "      <td>2</td>\n",
              "    </tr>\n",
              "    <tr>\n",
              "      <th>2</th>\n",
              "      <td>10100</td>\n",
              "      <td>S18_4409</td>\n",
              "      <td>22</td>\n",
              "      <td>75.46</td>\n",
              "      <td>4</td>\n",
              "    </tr>\n",
              "    <tr>\n",
              "      <th>3</th>\n",
              "      <td>10100</td>\n",
              "      <td>S24_3969</td>\n",
              "      <td>49</td>\n",
              "      <td>35.29</td>\n",
              "      <td>1</td>\n",
              "    </tr>\n",
              "    <tr>\n",
              "      <th>4</th>\n",
              "      <td>10101</td>\n",
              "      <td>S18_2325</td>\n",
              "      <td>25</td>\n",
              "      <td>108.06</td>\n",
              "      <td>4</td>\n",
              "    </tr>\n",
              "  </tbody>\n",
              "</table>\n",
              "</div>"
            ],
            "text/plain": [
              "   orderNumber productCode  quantityOrdered  priceEach  orderLineNumber\n",
              "0        10100    S18_1749               30     136.00                3\n",
              "1        10100    S18_2248               50      55.09                2\n",
              "2        10100    S18_4409               22      75.46                4\n",
              "3        10100    S24_3969               49      35.29                1\n",
              "4        10101    S18_2325               25     108.06                4"
            ]
          },
          "metadata": {
            "tags": []
          },
          "execution_count": 23
        }
      ]
    },
    {
      "cell_type": "markdown",
      "metadata": {
        "id": "hexFkoqK59xu"
      },
      "source": [
        "#### Aplique o comando [`SELECT DISTINCT`](https://www.sqlitetutorial.net/sqlite-select-distinct) para observar apenas os valores distintos da coluna `country`."
      ]
    },
    {
      "cell_type": "code",
      "metadata": {
        "colab": {
          "base_uri": "https://localhost:8080/",
          "height": 204
        },
        "id": "ZDLq36r659xu",
        "outputId": "5b200a85-24e6-496c-c097-2133124cc927"
      },
      "source": [
        "query = \"\"\"SELECT DISTINCT country\n",
        "\n",
        "    FROM customers\n",
        "    \n",
        "    ;\"\"\"\n",
        "\n",
        "queryResult = pd.read_sql_query(query,db)\n",
        "\n",
        "queryResult.head()"
      ],
      "execution_count": 25,
      "outputs": [
        {
          "output_type": "execute_result",
          "data": {
            "text/html": [
              "<div>\n",
              "<style scoped>\n",
              "    .dataframe tbody tr th:only-of-type {\n",
              "        vertical-align: middle;\n",
              "    }\n",
              "\n",
              "    .dataframe tbody tr th {\n",
              "        vertical-align: top;\n",
              "    }\n",
              "\n",
              "    .dataframe thead th {\n",
              "        text-align: right;\n",
              "    }\n",
              "</style>\n",
              "<table border=\"1\" class=\"dataframe\">\n",
              "  <thead>\n",
              "    <tr style=\"text-align: right;\">\n",
              "      <th></th>\n",
              "      <th>country</th>\n",
              "    </tr>\n",
              "  </thead>\n",
              "  <tbody>\n",
              "    <tr>\n",
              "      <th>0</th>\n",
              "      <td>France</td>\n",
              "    </tr>\n",
              "    <tr>\n",
              "      <th>1</th>\n",
              "      <td>USA</td>\n",
              "    </tr>\n",
              "    <tr>\n",
              "      <th>2</th>\n",
              "      <td>Australia</td>\n",
              "    </tr>\n",
              "    <tr>\n",
              "      <th>3</th>\n",
              "      <td>Norway</td>\n",
              "    </tr>\n",
              "    <tr>\n",
              "      <th>4</th>\n",
              "      <td>Poland</td>\n",
              "    </tr>\n",
              "  </tbody>\n",
              "</table>\n",
              "</div>"
            ],
            "text/plain": [
              "     country\n",
              "0     France\n",
              "1        USA\n",
              "2  Australia\n",
              "3     Norway\n",
              "4     Poland"
            ]
          },
          "metadata": {
            "tags": []
          },
          "execution_count": 25
        }
      ]
    },
    {
      "cell_type": "markdown",
      "metadata": {
        "id": "Lcuk5bXK59xu"
      },
      "source": [
        "####  <span style = \"color:red\">Código original.</span>\n",
        "<!--- \n",
        "query = \"\"\"SELECT DISTINCT country \n",
        "          \n",
        "          FROM customers ;\"\"\"\n",
        "\n",
        "query2 = pd.read_sql_query(query,db)\n",
        "\n",
        "query2.head()\n",
        "-->"
      ]
    },
    {
      "cell_type": "markdown",
      "metadata": {
        "id": "136Pz94l59xu"
      },
      "source": [
        "#### Podemos também aplicar uma condição para fazer a leitura, com incluir apenas os casos e, que `country = Australia`, da tabela `customers`."
      ]
    },
    {
      "cell_type": "code",
      "metadata": {
        "colab": {
          "base_uri": "https://localhost:8080/",
          "height": 394
        },
        "id": "jgZuE1s_59xu",
        "outputId": "8a28a37d-ff5c-45a8-dbed-6ff3fc49286f"
      },
      "source": [
        "query = \"\"\"SELECT *\n",
        "\n",
        "    FROM customers\n",
        "\n",
        "    WHERE\n",
        "    country = 'Australia'\n",
        "    \n",
        "    ;\"\"\"\n",
        "\n",
        "queryResult = pd.read_sql_query(query,db)\n",
        "\n",
        "queryResult.head()"
      ],
      "execution_count": 26,
      "outputs": [
        {
          "output_type": "execute_result",
          "data": {
            "text/html": [
              "<div>\n",
              "<style scoped>\n",
              "    .dataframe tbody tr th:only-of-type {\n",
              "        vertical-align: middle;\n",
              "    }\n",
              "\n",
              "    .dataframe tbody tr th {\n",
              "        vertical-align: top;\n",
              "    }\n",
              "\n",
              "    .dataframe thead th {\n",
              "        text-align: right;\n",
              "    }\n",
              "</style>\n",
              "<table border=\"1\" class=\"dataframe\">\n",
              "  <thead>\n",
              "    <tr style=\"text-align: right;\">\n",
              "      <th></th>\n",
              "      <th>customerNumber</th>\n",
              "      <th>customerName</th>\n",
              "      <th>contactLastName</th>\n",
              "      <th>contactFirstName</th>\n",
              "      <th>phone</th>\n",
              "      <th>addressLine1</th>\n",
              "      <th>addressLine2</th>\n",
              "      <th>city</th>\n",
              "      <th>state</th>\n",
              "      <th>postalCode</th>\n",
              "      <th>country</th>\n",
              "      <th>salesRepEmployeeNumber</th>\n",
              "      <th>creditLimit</th>\n",
              "    </tr>\n",
              "  </thead>\n",
              "  <tbody>\n",
              "    <tr>\n",
              "      <th>0</th>\n",
              "      <td>114</td>\n",
              "      <td>Australian Collectors, Co.</td>\n",
              "      <td>Ferguson</td>\n",
              "      <td>Peter</td>\n",
              "      <td>03 9520 4555</td>\n",
              "      <td>636 St Kilda Road</td>\n",
              "      <td>Level 3</td>\n",
              "      <td>Melbourne</td>\n",
              "      <td>Victoria</td>\n",
              "      <td>3004</td>\n",
              "      <td>Australia</td>\n",
              "      <td>1611</td>\n",
              "      <td>117300</td>\n",
              "    </tr>\n",
              "    <tr>\n",
              "      <th>1</th>\n",
              "      <td>276</td>\n",
              "      <td>Anna’s Decorations, Ltd</td>\n",
              "      <td>O’Hara</td>\n",
              "      <td>Anna</td>\n",
              "      <td>02 9936 8555</td>\n",
              "      <td>201 Miller Street</td>\n",
              "      <td>Level 15</td>\n",
              "      <td>North Sydney</td>\n",
              "      <td>NSW</td>\n",
              "      <td>2060</td>\n",
              "      <td>Australia</td>\n",
              "      <td>1611</td>\n",
              "      <td>107800</td>\n",
              "    </tr>\n",
              "    <tr>\n",
              "      <th>2</th>\n",
              "      <td>282</td>\n",
              "      <td>Souveniers And Things Co.</td>\n",
              "      <td>Huxley</td>\n",
              "      <td>Adrian</td>\n",
              "      <td>+61 2 9495 8555</td>\n",
              "      <td>Monitor Money Building</td>\n",
              "      <td>815 Pacific Hwy</td>\n",
              "      <td>Chatswood</td>\n",
              "      <td>NSW</td>\n",
              "      <td>2067</td>\n",
              "      <td>Australia</td>\n",
              "      <td>1611</td>\n",
              "      <td>93300</td>\n",
              "    </tr>\n",
              "    <tr>\n",
              "      <th>3</th>\n",
              "      <td>333</td>\n",
              "      <td>Australian Gift Network, Co</td>\n",
              "      <td>Calaghan</td>\n",
              "      <td>Ben</td>\n",
              "      <td>61-7-3844-6555</td>\n",
              "      <td>31 Duncan St. West End</td>\n",
              "      <td>None</td>\n",
              "      <td>South Brisbane</td>\n",
              "      <td>Queensland</td>\n",
              "      <td>4101</td>\n",
              "      <td>Australia</td>\n",
              "      <td>1611</td>\n",
              "      <td>51600</td>\n",
              "    </tr>\n",
              "    <tr>\n",
              "      <th>4</th>\n",
              "      <td>471</td>\n",
              "      <td>Australian Collectables, Ltd</td>\n",
              "      <td>Clenahan</td>\n",
              "      <td>Sean</td>\n",
              "      <td>61-9-3844-6555</td>\n",
              "      <td>7 Allen Street</td>\n",
              "      <td>None</td>\n",
              "      <td>Glen Waverly</td>\n",
              "      <td>Victoria</td>\n",
              "      <td>3150</td>\n",
              "      <td>Australia</td>\n",
              "      <td>1611</td>\n",
              "      <td>60300</td>\n",
              "    </tr>\n",
              "  </tbody>\n",
              "</table>\n",
              "</div>"
            ],
            "text/plain": [
              "   customerNumber  ... creditLimit\n",
              "0             114  ...      117300\n",
              "1             276  ...      107800\n",
              "2             282  ...       93300\n",
              "3             333  ...       51600\n",
              "4             471  ...       60300\n",
              "\n",
              "[5 rows x 13 columns]"
            ]
          },
          "metadata": {
            "tags": []
          },
          "execution_count": 26
        }
      ]
    },
    {
      "cell_type": "markdown",
      "metadata": {
        "id": "pHs2jysl59xu"
      },
      "source": [
        "####  <span style = \"color:red\">Código original.</span>\n",
        "<!--- \n",
        "query = \"\"\"SELECT * \n",
        "          \n",
        "          FROM customers \n",
        "          \n",
        "          WHERE country = 'Australia' ;\"\"\"\n",
        "\n",
        "query2 = pd.read_sql_query(query,db)\n",
        "\n",
        "query2.head()\n",
        "-->"
      ]
    },
    {
      "cell_type": "markdown",
      "metadata": {
        "id": "iFUSe1Sy59xu"
      },
      "source": [
        "#### E agora uma condição composta com `country = Norway` e `country = Poland`."
      ]
    },
    {
      "cell_type": "code",
      "metadata": {
        "colab": {
          "base_uri": "https://localhost:8080/",
          "height": 69
        },
        "id": "TzxJ-uQJ59xu",
        "outputId": "ce14a3a0-2958-49d4-d8da-76ef73198882"
      },
      "source": [
        "query = \"\"\"SELECT *\n",
        "\n",
        "    FROM customers\n",
        "\n",
        "    WHERE\n",
        "    country = 'Australia' AND\n",
        "    country = 'Poland'\n",
        "    \n",
        "    ;\"\"\"\n",
        "\n",
        "queryResult = pd.read_sql_query(query,db)\n",
        "\n",
        "queryResult.head()"
      ],
      "execution_count": 27,
      "outputs": [
        {
          "output_type": "execute_result",
          "data": {
            "text/html": [
              "<div>\n",
              "<style scoped>\n",
              "    .dataframe tbody tr th:only-of-type {\n",
              "        vertical-align: middle;\n",
              "    }\n",
              "\n",
              "    .dataframe tbody tr th {\n",
              "        vertical-align: top;\n",
              "    }\n",
              "\n",
              "    .dataframe thead th {\n",
              "        text-align: right;\n",
              "    }\n",
              "</style>\n",
              "<table border=\"1\" class=\"dataframe\">\n",
              "  <thead>\n",
              "    <tr style=\"text-align: right;\">\n",
              "      <th></th>\n",
              "      <th>customerNumber</th>\n",
              "      <th>customerName</th>\n",
              "      <th>contactLastName</th>\n",
              "      <th>contactFirstName</th>\n",
              "      <th>phone</th>\n",
              "      <th>addressLine1</th>\n",
              "      <th>addressLine2</th>\n",
              "      <th>city</th>\n",
              "      <th>state</th>\n",
              "      <th>postalCode</th>\n",
              "      <th>country</th>\n",
              "      <th>salesRepEmployeeNumber</th>\n",
              "      <th>creditLimit</th>\n",
              "    </tr>\n",
              "  </thead>\n",
              "  <tbody>\n",
              "  </tbody>\n",
              "</table>\n",
              "</div>"
            ],
            "text/plain": [
              "Empty DataFrame\n",
              "Columns: [customerNumber, customerName, contactLastName, contactFirstName, phone, addressLine1, addressLine2, city, state, postalCode, country, salesRepEmployeeNumber, creditLimit]\n",
              "Index: []"
            ]
          },
          "metadata": {
            "tags": []
          },
          "execution_count": 27
        }
      ]
    },
    {
      "cell_type": "markdown",
      "metadata": {
        "id": "0KWmaGWb9Mfk"
      },
      "source": [
        "Nada retorna, pois não há como um customer ser de dois países ao mesm tempo nesse caso."
      ]
    },
    {
      "cell_type": "markdown",
      "metadata": {
        "id": "A7pjhp2g59xu"
      },
      "source": [
        "####  <span style = \"color:red\">Código original.</span>\n",
        "<!--- \n",
        "query = \"\"\"SELECT * \n",
        "          \n",
        "          FROM customers \n",
        "          \n",
        "          WHERE country = 'Norway' OR country = 'Poland';\"\"\"\n",
        "\n",
        "query2 = pd.read_sql_query(query,db)\n",
        "\n",
        "query2.head()\n",
        "-->"
      ]
    },
    {
      "cell_type": "markdown",
      "metadata": {
        "id": "BHYGLBwv59xv"
      },
      "source": [
        "#### Reproduza o problema acima aplicando o conceito `IN` do `SQL`."
      ]
    },
    {
      "cell_type": "code",
      "metadata": {
        "colab": {
          "base_uri": "https://localhost:8080/",
          "height": 394
        },
        "id": "SUTojZvJ59xv",
        "outputId": "67a6064e-054d-46e1-abdd-5b29cdd11145"
      },
      "source": [
        "query = \"\"\"SELECT *\n",
        "\n",
        "    FROM customers\n",
        "\n",
        "    WHERE\n",
        "    country in ('Australia', 'Poland')\n",
        "    \n",
        "    ;\"\"\"\n",
        "\n",
        "queryResult = pd.read_sql_query(query,db)\n",
        "\n",
        "queryResult.head()"
      ],
      "execution_count": 28,
      "outputs": [
        {
          "output_type": "execute_result",
          "data": {
            "text/html": [
              "<div>\n",
              "<style scoped>\n",
              "    .dataframe tbody tr th:only-of-type {\n",
              "        vertical-align: middle;\n",
              "    }\n",
              "\n",
              "    .dataframe tbody tr th {\n",
              "        vertical-align: top;\n",
              "    }\n",
              "\n",
              "    .dataframe thead th {\n",
              "        text-align: right;\n",
              "    }\n",
              "</style>\n",
              "<table border=\"1\" class=\"dataframe\">\n",
              "  <thead>\n",
              "    <tr style=\"text-align: right;\">\n",
              "      <th></th>\n",
              "      <th>customerNumber</th>\n",
              "      <th>customerName</th>\n",
              "      <th>contactLastName</th>\n",
              "      <th>contactFirstName</th>\n",
              "      <th>phone</th>\n",
              "      <th>addressLine1</th>\n",
              "      <th>addressLine2</th>\n",
              "      <th>city</th>\n",
              "      <th>state</th>\n",
              "      <th>postalCode</th>\n",
              "      <th>country</th>\n",
              "      <th>salesRepEmployeeNumber</th>\n",
              "      <th>creditLimit</th>\n",
              "    </tr>\n",
              "  </thead>\n",
              "  <tbody>\n",
              "    <tr>\n",
              "      <th>0</th>\n",
              "      <td>114</td>\n",
              "      <td>Australian Collectors, Co.</td>\n",
              "      <td>Ferguson</td>\n",
              "      <td>Peter</td>\n",
              "      <td>03 9520 4555</td>\n",
              "      <td>636 St Kilda Road</td>\n",
              "      <td>Level 3</td>\n",
              "      <td>Melbourne</td>\n",
              "      <td>Victoria</td>\n",
              "      <td>3004</td>\n",
              "      <td>Australia</td>\n",
              "      <td>1611.0</td>\n",
              "      <td>117300</td>\n",
              "    </tr>\n",
              "    <tr>\n",
              "      <th>1</th>\n",
              "      <td>125</td>\n",
              "      <td>Havel &amp; Zbyszek Co</td>\n",
              "      <td>Piestrzeniewicz</td>\n",
              "      <td>Zbyszek</td>\n",
              "      <td>(26) 642-7555</td>\n",
              "      <td>ul. Filtrowa 68</td>\n",
              "      <td>None</td>\n",
              "      <td>Warszawa</td>\n",
              "      <td>None</td>\n",
              "      <td>01-012</td>\n",
              "      <td>Poland</td>\n",
              "      <td>NaN</td>\n",
              "      <td>0</td>\n",
              "    </tr>\n",
              "    <tr>\n",
              "      <th>2</th>\n",
              "      <td>276</td>\n",
              "      <td>Anna’s Decorations, Ltd</td>\n",
              "      <td>O’Hara</td>\n",
              "      <td>Anna</td>\n",
              "      <td>02 9936 8555</td>\n",
              "      <td>201 Miller Street</td>\n",
              "      <td>Level 15</td>\n",
              "      <td>North Sydney</td>\n",
              "      <td>NSW</td>\n",
              "      <td>2060</td>\n",
              "      <td>Australia</td>\n",
              "      <td>1611.0</td>\n",
              "      <td>107800</td>\n",
              "    </tr>\n",
              "    <tr>\n",
              "      <th>3</th>\n",
              "      <td>282</td>\n",
              "      <td>Souveniers And Things Co.</td>\n",
              "      <td>Huxley</td>\n",
              "      <td>Adrian</td>\n",
              "      <td>+61 2 9495 8555</td>\n",
              "      <td>Monitor Money Building</td>\n",
              "      <td>815 Pacific Hwy</td>\n",
              "      <td>Chatswood</td>\n",
              "      <td>NSW</td>\n",
              "      <td>2067</td>\n",
              "      <td>Australia</td>\n",
              "      <td>1611.0</td>\n",
              "      <td>93300</td>\n",
              "    </tr>\n",
              "    <tr>\n",
              "      <th>4</th>\n",
              "      <td>333</td>\n",
              "      <td>Australian Gift Network, Co</td>\n",
              "      <td>Calaghan</td>\n",
              "      <td>Ben</td>\n",
              "      <td>61-7-3844-6555</td>\n",
              "      <td>31 Duncan St. West End</td>\n",
              "      <td>None</td>\n",
              "      <td>South Brisbane</td>\n",
              "      <td>Queensland</td>\n",
              "      <td>4101</td>\n",
              "      <td>Australia</td>\n",
              "      <td>1611.0</td>\n",
              "      <td>51600</td>\n",
              "    </tr>\n",
              "  </tbody>\n",
              "</table>\n",
              "</div>"
            ],
            "text/plain": [
              "   customerNumber  ... creditLimit\n",
              "0             114  ...      117300\n",
              "1             125  ...           0\n",
              "2             276  ...      107800\n",
              "3             282  ...       93300\n",
              "4             333  ...       51600\n",
              "\n",
              "[5 rows x 13 columns]"
            ]
          },
          "metadata": {
            "tags": []
          },
          "execution_count": 28
        }
      ]
    },
    {
      "cell_type": "markdown",
      "metadata": {
        "id": "JVFBR26B9X7Y"
      },
      "source": [
        "Agora retorna, pois ele procura as linhas em que o país é Australia OU Poland."
      ]
    },
    {
      "cell_type": "markdown",
      "metadata": {
        "id": "sgtg3X5859xv"
      },
      "source": [
        "####  <span style = \"color:red\">Código original.</span>\n",
        "<!--- \n",
        "query = \"\"\"SELECT * \n",
        "          \n",
        "          FROM customers \n",
        "          \n",
        "          WHERE country IN ('Norway', 'Poland');\"\"\"\n",
        "\n",
        "query2 = pd.read_sql_query(query,db)\n",
        "\n",
        "query2.head()\n",
        "-->"
      ]
    },
    {
      "cell_type": "markdown",
      "metadata": {
        "id": "BlICPadR59xv"
      },
      "source": [
        "#### Procure agora pelas ocorrências na cidade de 'Strasbourg', na França."
      ]
    },
    {
      "cell_type": "code",
      "metadata": {
        "colab": {
          "base_uri": "https://localhost:8080/",
          "height": 100
        },
        "id": "KUaxnVwt59xv",
        "outputId": "1a08a618-0460-4538-c36b-5cc7660f32cb"
      },
      "source": [
        "query = \"\"\"SELECT *\n",
        "\n",
        "    FROM customers\n",
        "\n",
        "    WHERE\n",
        "    country = 'France' AND\n",
        "    city = 'Strasbourg'\n",
        "    \n",
        "    ;\"\"\"\n",
        "\n",
        "queryResult = pd.read_sql_query(query,db)\n",
        "\n",
        "queryResult.head()"
      ],
      "execution_count": 31,
      "outputs": [
        {
          "output_type": "execute_result",
          "data": {
            "text/html": [
              "<div>\n",
              "<style scoped>\n",
              "    .dataframe tbody tr th:only-of-type {\n",
              "        vertical-align: middle;\n",
              "    }\n",
              "\n",
              "    .dataframe tbody tr th {\n",
              "        vertical-align: top;\n",
              "    }\n",
              "\n",
              "    .dataframe thead th {\n",
              "        text-align: right;\n",
              "    }\n",
              "</style>\n",
              "<table border=\"1\" class=\"dataframe\">\n",
              "  <thead>\n",
              "    <tr style=\"text-align: right;\">\n",
              "      <th></th>\n",
              "      <th>customerNumber</th>\n",
              "      <th>customerName</th>\n",
              "      <th>contactLastName</th>\n",
              "      <th>contactFirstName</th>\n",
              "      <th>phone</th>\n",
              "      <th>addressLine1</th>\n",
              "      <th>addressLine2</th>\n",
              "      <th>city</th>\n",
              "      <th>state</th>\n",
              "      <th>postalCode</th>\n",
              "      <th>country</th>\n",
              "      <th>salesRepEmployeeNumber</th>\n",
              "      <th>creditLimit</th>\n",
              "    </tr>\n",
              "  </thead>\n",
              "  <tbody>\n",
              "    <tr>\n",
              "      <th>0</th>\n",
              "      <td>209</td>\n",
              "      <td>Mini Caravy</td>\n",
              "      <td>Citeaux</td>\n",
              "      <td>Frédérique</td>\n",
              "      <td>88.60.1555</td>\n",
              "      <td>24, place Kléber</td>\n",
              "      <td>None</td>\n",
              "      <td>Strasbourg</td>\n",
              "      <td>None</td>\n",
              "      <td>67000</td>\n",
              "      <td>France</td>\n",
              "      <td>1370</td>\n",
              "      <td>53800</td>\n",
              "    </tr>\n",
              "  </tbody>\n",
              "</table>\n",
              "</div>"
            ],
            "text/plain": [
              "   customerNumber customerName  ... salesRepEmployeeNumber creditLimit\n",
              "0             209  Mini Caravy  ...                   1370       53800\n",
              "\n",
              "[1 rows x 13 columns]"
            ]
          },
          "metadata": {
            "tags": []
          },
          "execution_count": 31
        }
      ]
    },
    {
      "cell_type": "markdown",
      "metadata": {
        "id": "FmkvrW3o59xv"
      },
      "source": [
        "####  <span style = \"color:red\">Código original.</span>\n",
        "<!--- \n",
        "query = \"\"\"SELECT * \n",
        "          \n",
        "          FROM customers \n",
        "          \n",
        "          WHERE country = 'France' AND city = 'Strasbourg' ;\"\"\"\n",
        "\n",
        "query2 = pd.read_sql_query(query, db)\n",
        "\n",
        "query2.head()\n",
        "-->"
      ]
    },
    {
      "cell_type": "markdown",
      "metadata": {
        "id": "6wWv85oi59xv"
      },
      "source": [
        "#### Obtenha as colunas `'productName'`, `'productLine'`, `'buyPrice'`, `'orderNumber'`, `'priceEach'` das tabelas das tabelas `'orderdetails'` e `'products'`, para o caso em que a linha de produtos `productLine` seja `'Motorcycles'`."
      ]
    },
    {
      "cell_type": "code",
      "metadata": {
        "colab": {
          "base_uri": "https://localhost:8080/",
          "height": 204
        },
        "id": "NsVL3LOl59xv",
        "outputId": "052cb66e-3183-4778-e339-f31399642c89"
      },
      "source": [
        "query = \"\"\"SELECT p.productName,\n",
        "          p.productLine,\n",
        "          p.buyPrice,\n",
        "          o.orderNumber, \n",
        "          o.priceEach\n",
        "          \n",
        "\n",
        "    FROM orderdetails AS o, products AS p\n",
        "\n",
        "    WHERE\n",
        "    p.productLine = 'Motorcycles'\n",
        "    \n",
        "    ;\"\"\"\n",
        "\n",
        "queryResult = pd.read_sql_query(query,db)\n",
        "\n",
        "queryResult.head()"
      ],
      "execution_count": 36,
      "outputs": [
        {
          "output_type": "execute_result",
          "data": {
            "text/html": [
              "<div>\n",
              "<style scoped>\n",
              "    .dataframe tbody tr th:only-of-type {\n",
              "        vertical-align: middle;\n",
              "    }\n",
              "\n",
              "    .dataframe tbody tr th {\n",
              "        vertical-align: top;\n",
              "    }\n",
              "\n",
              "    .dataframe thead th {\n",
              "        text-align: right;\n",
              "    }\n",
              "</style>\n",
              "<table border=\"1\" class=\"dataframe\">\n",
              "  <thead>\n",
              "    <tr style=\"text-align: right;\">\n",
              "      <th></th>\n",
              "      <th>productName</th>\n",
              "      <th>productLine</th>\n",
              "      <th>buyPrice</th>\n",
              "      <th>orderNumber</th>\n",
              "      <th>priceEach</th>\n",
              "    </tr>\n",
              "  </thead>\n",
              "  <tbody>\n",
              "    <tr>\n",
              "      <th>0</th>\n",
              "      <td>1936 Harley Davidson El Knucklehead</td>\n",
              "      <td>Motorcycles</td>\n",
              "      <td>24.23</td>\n",
              "      <td>10100</td>\n",
              "      <td>136.0</td>\n",
              "    </tr>\n",
              "    <tr>\n",
              "      <th>1</th>\n",
              "      <td>1957 Vespa GS150</td>\n",
              "      <td>Motorcycles</td>\n",
              "      <td>32.95</td>\n",
              "      <td>10100</td>\n",
              "      <td>136.0</td>\n",
              "    </tr>\n",
              "    <tr>\n",
              "      <th>2</th>\n",
              "      <td>1960 BSA Gold Star DBD34</td>\n",
              "      <td>Motorcycles</td>\n",
              "      <td>37.32</td>\n",
              "      <td>10100</td>\n",
              "      <td>136.0</td>\n",
              "    </tr>\n",
              "    <tr>\n",
              "      <th>3</th>\n",
              "      <td>1969 Harley Davidson Ultimate Chopper</td>\n",
              "      <td>Motorcycles</td>\n",
              "      <td>48.81</td>\n",
              "      <td>10100</td>\n",
              "      <td>136.0</td>\n",
              "    </tr>\n",
              "    <tr>\n",
              "      <th>4</th>\n",
              "      <td>1974 Ducati 350 Mk3 Desmo</td>\n",
              "      <td>Motorcycles</td>\n",
              "      <td>56.13</td>\n",
              "      <td>10100</td>\n",
              "      <td>136.0</td>\n",
              "    </tr>\n",
              "  </tbody>\n",
              "</table>\n",
              "</div>"
            ],
            "text/plain": [
              "                             productName  productLine  ...  orderNumber  priceEach\n",
              "0    1936 Harley Davidson El Knucklehead  Motorcycles  ...        10100      136.0\n",
              "1                       1957 Vespa GS150  Motorcycles  ...        10100      136.0\n",
              "2               1960 BSA Gold Star DBD34  Motorcycles  ...        10100      136.0\n",
              "3  1969 Harley Davidson Ultimate Chopper  Motorcycles  ...        10100      136.0\n",
              "4              1974 Ducati 350 Mk3 Desmo  Motorcycles  ...        10100      136.0\n",
              "\n",
              "[5 rows x 5 columns]"
            ]
          },
          "metadata": {
            "tags": []
          },
          "execution_count": 36
        }
      ]
    },
    {
      "cell_type": "markdown",
      "metadata": {
        "id": "00KJY8uw59xv"
      },
      "source": [
        "####  <span style = \"color:red\">Código original.</span>\n",
        "<!--- \n",
        "query = \"\"\"SELECT\n",
        "    p.productName,\n",
        "    p.productLine,\n",
        "    p.buyPrice,\n",
        "    o.orderNumber,\n",
        "    o.priceEach\n",
        "    \n",
        "    FROM orderdetails AS o INNER JOIN products AS p\n",
        "    ON o.productCode = p.productCode\n",
        "\n",
        "    WHERE productLine = 'Motorcycles'\n",
        "    \n",
        "    ;\"\"\"\n",
        "\n",
        "queryResult = pd.read_sql_query(query,db)\n",
        "\n",
        "queryResult.head()\n",
        "-->"
      ]
    },
    {
      "cell_type": "markdown",
      "metadata": {
        "id": "iykLtjdd59xv"
      },
      "source": [
        "#### Selecione as colunas `'requiredDate'`, `'shippedDate'`, `'priceEach'`, `'quantityOrdered'`, das tabelas `'orderdetails'` `'orders'`."
      ]
    },
    {
      "cell_type": "code",
      "metadata": {
        "colab": {
          "base_uri": "https://localhost:8080/",
          "height": 204
        },
        "id": "kIZA8QX-59xv",
        "outputId": "f6cdec5c-23a2-46a3-b503-f383fa672b49"
      },
      "source": [
        "query = \"\"\"SELECT o.requiredDate,\n",
        "                  o.shippedDate,\n",
        "                  od.priceEach,\n",
        "                  od.quantityOrdered \n",
        "          \n",
        "          FROM orders AS o, orderdetails AS od\n",
        ";\"\"\"\n",
        "\n",
        "queryResult = pd.read_sql_query(query,db)\n",
        "\n",
        "queryResult.head()"
      ],
      "execution_count": 38,
      "outputs": [
        {
          "output_type": "execute_result",
          "data": {
            "text/html": [
              "<div>\n",
              "<style scoped>\n",
              "    .dataframe tbody tr th:only-of-type {\n",
              "        vertical-align: middle;\n",
              "    }\n",
              "\n",
              "    .dataframe tbody tr th {\n",
              "        vertical-align: top;\n",
              "    }\n",
              "\n",
              "    .dataframe thead th {\n",
              "        text-align: right;\n",
              "    }\n",
              "</style>\n",
              "<table border=\"1\" class=\"dataframe\">\n",
              "  <thead>\n",
              "    <tr style=\"text-align: right;\">\n",
              "      <th></th>\n",
              "      <th>requiredDate</th>\n",
              "      <th>shippedDate</th>\n",
              "      <th>priceEach</th>\n",
              "      <th>quantityOrdered</th>\n",
              "    </tr>\n",
              "  </thead>\n",
              "  <tbody>\n",
              "    <tr>\n",
              "      <th>0</th>\n",
              "      <td>2003-01-13</td>\n",
              "      <td>2003-01-10</td>\n",
              "      <td>136.00</td>\n",
              "      <td>30</td>\n",
              "    </tr>\n",
              "    <tr>\n",
              "      <th>1</th>\n",
              "      <td>2003-01-13</td>\n",
              "      <td>2003-01-10</td>\n",
              "      <td>55.09</td>\n",
              "      <td>50</td>\n",
              "    </tr>\n",
              "    <tr>\n",
              "      <th>2</th>\n",
              "      <td>2003-01-13</td>\n",
              "      <td>2003-01-10</td>\n",
              "      <td>75.46</td>\n",
              "      <td>22</td>\n",
              "    </tr>\n",
              "    <tr>\n",
              "      <th>3</th>\n",
              "      <td>2003-01-13</td>\n",
              "      <td>2003-01-10</td>\n",
              "      <td>35.29</td>\n",
              "      <td>49</td>\n",
              "    </tr>\n",
              "    <tr>\n",
              "      <th>4</th>\n",
              "      <td>2003-01-13</td>\n",
              "      <td>2003-01-10</td>\n",
              "      <td>108.06</td>\n",
              "      <td>25</td>\n",
              "    </tr>\n",
              "  </tbody>\n",
              "</table>\n",
              "</div>"
            ],
            "text/plain": [
              "  requiredDate shippedDate  priceEach  quantityOrdered\n",
              "0   2003-01-13  2003-01-10     136.00               30\n",
              "1   2003-01-13  2003-01-10      55.09               50\n",
              "2   2003-01-13  2003-01-10      75.46               22\n",
              "3   2003-01-13  2003-01-10      35.29               49\n",
              "4   2003-01-13  2003-01-10     108.06               25"
            ]
          },
          "metadata": {
            "tags": []
          },
          "execution_count": 38
        }
      ]
    },
    {
      "cell_type": "markdown",
      "metadata": {
        "id": "Dk5CUnMc59xv"
      },
      "source": [
        "####  <span style = \"color:red\">Código original.</span>\n",
        "<!--- \n",
        "query = \"\"\"SELECT\n",
        "\n",
        "    o.requiredDate,\n",
        "    o.shippedDate,\n",
        "    od.priceEach,\n",
        "    od.quantityOrdered\n",
        "    \n",
        "    \n",
        "    FROM orderdetails AS od INNER JOIN orders AS o\n",
        "    \n",
        "    WHERE\n",
        "    o.orderNumber = od.orderNumber\n",
        "    ;\"\"\"\n",
        "\n",
        "queryResult = pd.read_sql_query(query,db)\n",
        "\n",
        "queryResult.head()\n",
        "-->"
      ]
    },
    {
      "cell_type": "markdown",
      "metadata": {
        "id": "YlgoB7Cd59xv"
      },
      "source": [
        "#### Selecione as colunas `'orderNumber'`, `'orderDate'`, `'requiredDate'`, `'shippedDate'`, `'paymentDate'`, `'amount'` das tabelas `'orders'` `'payments'`. Ordene os desultados pela data do pedido `'orderDate'` de forma decrescente."
      ]
    },
    {
      "cell_type": "code",
      "metadata": {
        "colab": {
          "base_uri": "https://localhost:8080/",
          "height": 204
        },
        "id": "izqDF83r59xv",
        "outputId": "8fa57495-8783-42b3-e397-052117c77bc0"
      },
      "source": [
        "query = \"\"\"SELECT o.orderNumber,\n",
        "                  o.orderDate,\n",
        "                  o.requiredDate,\n",
        "                  o.shippedDate,\n",
        "                  p.paymentDate,\n",
        "                  p.amount \n",
        "          \n",
        "          FROM orders AS o, payments AS p\n",
        ";\"\"\"\n",
        "\n",
        "queryResult = pd.read_sql_query(query,db)\n",
        "\n",
        "queryResult.head()"
      ],
      "execution_count": 40,
      "outputs": [
        {
          "output_type": "execute_result",
          "data": {
            "text/html": [
              "<div>\n",
              "<style scoped>\n",
              "    .dataframe tbody tr th:only-of-type {\n",
              "        vertical-align: middle;\n",
              "    }\n",
              "\n",
              "    .dataframe tbody tr th {\n",
              "        vertical-align: top;\n",
              "    }\n",
              "\n",
              "    .dataframe thead th {\n",
              "        text-align: right;\n",
              "    }\n",
              "</style>\n",
              "<table border=\"1\" class=\"dataframe\">\n",
              "  <thead>\n",
              "    <tr style=\"text-align: right;\">\n",
              "      <th></th>\n",
              "      <th>orderNumber</th>\n",
              "      <th>orderDate</th>\n",
              "      <th>requiredDate</th>\n",
              "      <th>shippedDate</th>\n",
              "      <th>paymentDate</th>\n",
              "      <th>amount</th>\n",
              "    </tr>\n",
              "  </thead>\n",
              "  <tbody>\n",
              "    <tr>\n",
              "      <th>0</th>\n",
              "      <td>10100</td>\n",
              "      <td>2003-01-06</td>\n",
              "      <td>2003-01-13</td>\n",
              "      <td>2003-01-10</td>\n",
              "      <td>2004-10-19</td>\n",
              "      <td>6066.78</td>\n",
              "    </tr>\n",
              "    <tr>\n",
              "      <th>1</th>\n",
              "      <td>10100</td>\n",
              "      <td>2003-01-06</td>\n",
              "      <td>2003-01-13</td>\n",
              "      <td>2003-01-10</td>\n",
              "      <td>2003-06-05</td>\n",
              "      <td>14571.44</td>\n",
              "    </tr>\n",
              "    <tr>\n",
              "      <th>2</th>\n",
              "      <td>10100</td>\n",
              "      <td>2003-01-06</td>\n",
              "      <td>2003-01-13</td>\n",
              "      <td>2003-01-10</td>\n",
              "      <td>2004-12-18</td>\n",
              "      <td>1676.14</td>\n",
              "    </tr>\n",
              "    <tr>\n",
              "      <th>3</th>\n",
              "      <td>10100</td>\n",
              "      <td>2003-01-06</td>\n",
              "      <td>2003-01-13</td>\n",
              "      <td>2003-01-10</td>\n",
              "      <td>2004-12-17</td>\n",
              "      <td>14191.12</td>\n",
              "    </tr>\n",
              "    <tr>\n",
              "      <th>4</th>\n",
              "      <td>10100</td>\n",
              "      <td>2003-01-06</td>\n",
              "      <td>2003-01-13</td>\n",
              "      <td>2003-01-10</td>\n",
              "      <td>2003-06-06</td>\n",
              "      <td>32641.98</td>\n",
              "    </tr>\n",
              "  </tbody>\n",
              "</table>\n",
              "</div>"
            ],
            "text/plain": [
              "   orderNumber   orderDate requiredDate shippedDate paymentDate    amount\n",
              "0        10100  2003-01-06   2003-01-13  2003-01-10  2004-10-19   6066.78\n",
              "1        10100  2003-01-06   2003-01-13  2003-01-10  2003-06-05  14571.44\n",
              "2        10100  2003-01-06   2003-01-13  2003-01-10  2004-12-18   1676.14\n",
              "3        10100  2003-01-06   2003-01-13  2003-01-10  2004-12-17  14191.12\n",
              "4        10100  2003-01-06   2003-01-13  2003-01-10  2003-06-06  32641.98"
            ]
          },
          "metadata": {
            "tags": []
          },
          "execution_count": 40
        }
      ]
    },
    {
      "cell_type": "markdown",
      "metadata": {
        "id": "_yO3Kyyk59xv"
      },
      "source": [
        "####  <span style = \"color:red\">Código original.</span>\n",
        "<!--- \n",
        "query = \"\"\"SELECT\n",
        "    o.orderNumber,\n",
        "    o.orderDate,\n",
        "    o.requiredDate,\n",
        "    o.shippedDate,\n",
        "    p.paymentDate,\n",
        "    p.amount\n",
        "    \n",
        "    FROM \n",
        "    orders AS o INNER JOIN payments AS p\n",
        "    \n",
        "    WHERE\n",
        "    o.customerNumber = p.customerNumber\n",
        "    \n",
        "    ORDER BY\n",
        "    o.orderDate DESC;\"\"\"\n",
        "\n",
        "queryResult = pd.read_sql_query(query,db)\n",
        "\n",
        "queryResult.head()\n",
        "-->"
      ]
    },
    {
      "cell_type": "markdown",
      "metadata": {
        "id": "TzrNZXyw59xv"
      },
      "source": [
        "#### Encontra as informações sobre `'city'`, `'state'`, `'jobTitle'`, `'lastName'` e `'firstName'`, a partir das tabelas `'offices'` e `'employees'`, do funcionário com o `'jobTitle'` igual a 'Sale Manager (EMEA)'."
      ]
    },
    {
      "cell_type": "code",
      "metadata": {
        "colab": {
          "base_uri": "https://localhost:8080/",
          "height": 204
        },
        "id": "Lsiudsgw59xv",
        "outputId": "25e4be2c-9e5d-4635-a3f0-bf89192b26e9"
      },
      "source": [
        "query = \"\"\"SELECT o.city,\n",
        "                  o.state,\n",
        "                  e.jobTitle,\n",
        "                  e.firstName,\n",
        "                  e.lastName\n",
        "\n",
        "          FROM offices AS o, employees AS e\n",
        "\n",
        "          WHERE jobTitle = 'Sale Manager (EMEA)'\n",
        ";\"\"\"\n",
        "\n",
        "queryResult = pd.read_sql_query(query, db)\n",
        "\n",
        "queryResult.head()"
      ],
      "execution_count": 42,
      "outputs": [
        {
          "output_type": "execute_result",
          "data": {
            "text/html": [
              "<div>\n",
              "<style scoped>\n",
              "    .dataframe tbody tr th:only-of-type {\n",
              "        vertical-align: middle;\n",
              "    }\n",
              "\n",
              "    .dataframe tbody tr th {\n",
              "        vertical-align: top;\n",
              "    }\n",
              "\n",
              "    .dataframe thead th {\n",
              "        text-align: right;\n",
              "    }\n",
              "</style>\n",
              "<table border=\"1\" class=\"dataframe\">\n",
              "  <thead>\n",
              "    <tr style=\"text-align: right;\">\n",
              "      <th></th>\n",
              "      <th>city</th>\n",
              "      <th>state</th>\n",
              "      <th>jobTitle</th>\n",
              "      <th>firstName</th>\n",
              "      <th>lastName</th>\n",
              "    </tr>\n",
              "  </thead>\n",
              "  <tbody>\n",
              "    <tr>\n",
              "      <th>0</th>\n",
              "      <td>San Francisco</td>\n",
              "      <td>CA</td>\n",
              "      <td>Sale Manager (EMEA)</td>\n",
              "      <td>Gerard</td>\n",
              "      <td>Bondur</td>\n",
              "    </tr>\n",
              "    <tr>\n",
              "      <th>1</th>\n",
              "      <td>Boston</td>\n",
              "      <td>MA</td>\n",
              "      <td>Sale Manager (EMEA)</td>\n",
              "      <td>Gerard</td>\n",
              "      <td>Bondur</td>\n",
              "    </tr>\n",
              "    <tr>\n",
              "      <th>2</th>\n",
              "      <td>NYC</td>\n",
              "      <td>NY</td>\n",
              "      <td>Sale Manager (EMEA)</td>\n",
              "      <td>Gerard</td>\n",
              "      <td>Bondur</td>\n",
              "    </tr>\n",
              "    <tr>\n",
              "      <th>3</th>\n",
              "      <td>Paris</td>\n",
              "      <td>None</td>\n",
              "      <td>Sale Manager (EMEA)</td>\n",
              "      <td>Gerard</td>\n",
              "      <td>Bondur</td>\n",
              "    </tr>\n",
              "    <tr>\n",
              "      <th>4</th>\n",
              "      <td>Tokyo</td>\n",
              "      <td>Chiyoda-Ku</td>\n",
              "      <td>Sale Manager (EMEA)</td>\n",
              "      <td>Gerard</td>\n",
              "      <td>Bondur</td>\n",
              "    </tr>\n",
              "  </tbody>\n",
              "</table>\n",
              "</div>"
            ],
            "text/plain": [
              "            city       state             jobTitle firstName lastName\n",
              "0  San Francisco          CA  Sale Manager (EMEA)    Gerard   Bondur\n",
              "1         Boston          MA  Sale Manager (EMEA)    Gerard   Bondur\n",
              "2            NYC          NY  Sale Manager (EMEA)    Gerard   Bondur\n",
              "3          Paris        None  Sale Manager (EMEA)    Gerard   Bondur\n",
              "4          Tokyo  Chiyoda-Ku  Sale Manager (EMEA)    Gerard   Bondur"
            ]
          },
          "metadata": {
            "tags": []
          },
          "execution_count": 42
        }
      ]
    },
    {
      "cell_type": "markdown",
      "metadata": {
        "id": "YFHqCmIC59xw"
      },
      "source": [
        "####  <span style = \"color:red\">Código original.</span>\n",
        "<!--- \n",
        "query = \"\"\"SELECT\n",
        "    o.city,\n",
        "    o.state,\n",
        "    e.jobTitle,\n",
        "    e.lastName,\n",
        "    e.firstName\n",
        "    \n",
        "    \n",
        "    FROM \n",
        "    offices AS o INNER JOIN employees AS e\n",
        "    ON o.officeCode = e.officeCode\n",
        "    \n",
        "    WHERE\n",
        "    jobTitle = 'President'\n",
        ";\"\"\"\n",
        "\n",
        "queryResult = pd.read_sql_query(query,db)\n",
        "\n",
        "queryResult.head()\n",
        "-->"
      ]
    },
    {
      "cell_type": "markdown",
      "metadata": {
        "id": "vz_4tHbv59xw"
      },
      "source": [
        "#### Realize uma contagem, com a função [`COUNT`](https://www.sqlitetutorial.net/sqlite-count-function/), de registos de produtos `'productVendor'` e apresente o vendedor `'productVendor'`, agrupando os resultados por vendedor. "
      ]
    },
    {
      "cell_type": "code",
      "metadata": {
        "colab": {
          "base_uri": "https://localhost:8080/",
          "height": 204
        },
        "id": "0aaku1wA59xw",
        "outputId": "dabf1ac5-d823-453c-99ca-223bed3cca50"
      },
      "source": [
        "query = \"\"\"SELECT p.productVendor,\n",
        "                  COUNT(p.productVendor) AS Total\n",
        "                  \n",
        "\n",
        "    FROM products AS p\n",
        "\n",
        "    GROUP BY\n",
        "    p.productVendor\n",
        "\n",
        "    ORDER BY\n",
        "    Total DESC\n",
        ";\"\"\"\n",
        "\n",
        "queryResult = pd.read_sql_query(query,db)\n",
        "\n",
        "queryResult.head()"
      ],
      "execution_count": 48,
      "outputs": [
        {
          "output_type": "execute_result",
          "data": {
            "text/html": [
              "<div>\n",
              "<style scoped>\n",
              "    .dataframe tbody tr th:only-of-type {\n",
              "        vertical-align: middle;\n",
              "    }\n",
              "\n",
              "    .dataframe tbody tr th {\n",
              "        vertical-align: top;\n",
              "    }\n",
              "\n",
              "    .dataframe thead th {\n",
              "        text-align: right;\n",
              "    }\n",
              "</style>\n",
              "<table border=\"1\" class=\"dataframe\">\n",
              "  <thead>\n",
              "    <tr style=\"text-align: right;\">\n",
              "      <th></th>\n",
              "      <th>productVendor</th>\n",
              "      <th>Total</th>\n",
              "    </tr>\n",
              "  </thead>\n",
              "  <tbody>\n",
              "    <tr>\n",
              "      <th>0</th>\n",
              "      <td>Classic Metal Creations</td>\n",
              "      <td>10</td>\n",
              "    </tr>\n",
              "    <tr>\n",
              "      <th>1</th>\n",
              "      <td>Carousel DieCast Legends</td>\n",
              "      <td>9</td>\n",
              "    </tr>\n",
              "    <tr>\n",
              "      <th>2</th>\n",
              "      <td>Exoto Designs</td>\n",
              "      <td>9</td>\n",
              "    </tr>\n",
              "    <tr>\n",
              "      <th>3</th>\n",
              "      <td>Gearbox Collectibles</td>\n",
              "      <td>9</td>\n",
              "    </tr>\n",
              "    <tr>\n",
              "      <th>4</th>\n",
              "      <td>Highway 66 Mini Classics</td>\n",
              "      <td>9</td>\n",
              "    </tr>\n",
              "  </tbody>\n",
              "</table>\n",
              "</div>"
            ],
            "text/plain": [
              "              productVendor  Total\n",
              "0   Classic Metal Creations     10\n",
              "1  Carousel DieCast Legends      9\n",
              "2             Exoto Designs      9\n",
              "3      Gearbox Collectibles      9\n",
              "4  Highway 66 Mini Classics      9"
            ]
          },
          "metadata": {
            "tags": []
          },
          "execution_count": 48
        }
      ]
    },
    {
      "cell_type": "markdown",
      "metadata": {
        "id": "VVTCnXNK59xw"
      },
      "source": [
        "####  <span style = \"color:red\">Código original.</span>\n",
        "<!--- \n",
        "query = \"\"\"SELECT\n",
        "    p.productVendor AS Vendedor,\n",
        "    COUNT(p.productVendor) AS 'TotalRegistro'\n",
        "    \n",
        "    FROM \n",
        "    products AS p\n",
        "    \n",
        "    GROUP BY\n",
        "    p.productVendor\n",
        "    \n",
        "    ORDER BY\n",
        "    TotalRegistro;\"\"\"\n",
        "\n",
        "queryResult = pd.read_sql_query(query,db)\n",
        "\n",
        "queryResult.head()\n",
        "-->"
      ]
    },
    {
      "cell_type": "markdown",
      "metadata": {
        "id": "8eP5mLFc59xw"
      },
      "source": [
        "## Lista completa de agregações \n",
        "\n",
        "<img src=\"list_aggregation.png\">\n",
        "          "
      ]
    },
    {
      "cell_type": "markdown",
      "metadata": {
        "id": "G5ctFFZq59xw"
      },
      "source": [
        "#### Use o comando [`HAVING`](https://www.sqlitetutorial.net/sqlite-having/) para aplicar a condição `'quantityOrdered > 10'`, selecionando as colunas de de nome do produto `'productName'`, linha do produto `'productLine'` e descrição do produto `'productDescription'`. Calcule a diferença entre o [preço de varejo sugerido pelo fabricante]((https://www.investopedia.com/terms/m/manufacturers-suggested-retail-price-msrp.asp)) `'MSRP'` e o preço cobrado `'buyPrice'` e ordene a saída por esse valor. Agrupe os dados por linha de produto, considerando apenas os resultados em que a quantidade pedida `'quantityOrdered'` supera os 10 produtos. Limite a saída aos três primeiros resultados."
      ]
    },
    {
      "cell_type": "code",
      "metadata": {
        "colab": {
          "base_uri": "https://localhost:8080/",
          "height": 142
        },
        "id": "oOPko9Av59xw",
        "outputId": "03496695-8135-4090-e8be-31b81b916654"
      },
      "source": [
        "query = \"\"\"SELECT p.productName,\n",
        "                  p.productLine,\n",
        "                  p.productDescription,\n",
        "                  (p.MSRP - p.buyPrice) AS valueDifference\n",
        "\n",
        "            FROM products AS p, orderdetails AS od\n",
        "\n",
        "            GROUP BY\n",
        "            p.productLine\n",
        "\n",
        "            HAVING \n",
        "            od.quantityOrdered > 10\n",
        "\n",
        "            ORDER BY\n",
        "            valueDifference DESC\n",
        "\n",
        "            LIMIT 3\n",
        ";\"\"\"\n",
        "\n",
        "queryResult = pd.read_sql_query(query, db)\n",
        "\n",
        "queryResult"
      ],
      "execution_count": 57,
      "outputs": [
        {
          "output_type": "execute_result",
          "data": {
            "text/html": [
              "<div>\n",
              "<style scoped>\n",
              "    .dataframe tbody tr th:only-of-type {\n",
              "        vertical-align: middle;\n",
              "    }\n",
              "\n",
              "    .dataframe tbody tr th {\n",
              "        vertical-align: top;\n",
              "    }\n",
              "\n",
              "    .dataframe thead th {\n",
              "        text-align: right;\n",
              "    }\n",
              "</style>\n",
              "<table border=\"1\" class=\"dataframe\">\n",
              "  <thead>\n",
              "    <tr style=\"text-align: right;\">\n",
              "      <th></th>\n",
              "      <th>productName</th>\n",
              "      <th>productLine</th>\n",
              "      <th>productDescription</th>\n",
              "      <th>valueDifference</th>\n",
              "    </tr>\n",
              "  </thead>\n",
              "  <tbody>\n",
              "    <tr>\n",
              "      <th>0</th>\n",
              "      <td>1982 Camaro Z28</td>\n",
              "      <td>Classic Cars</td>\n",
              "      <td>Features include opening and closing doors. Co...</td>\n",
              "      <td>54.62</td>\n",
              "    </tr>\n",
              "    <tr>\n",
              "      <th>1</th>\n",
              "      <td>Diamond T620 Semi-Skirted Tanker</td>\n",
              "      <td>Trucks and Buses</td>\n",
              "      <td>This limited edition model is licensed and per...</td>\n",
              "      <td>47.46</td>\n",
              "    </tr>\n",
              "    <tr>\n",
              "      <th>2</th>\n",
              "      <td>2002 Yamaha YZR M1</td>\n",
              "      <td>Motorcycles</td>\n",
              "      <td>Features rotating wheels , working kick stand....</td>\n",
              "      <td>47.19</td>\n",
              "    </tr>\n",
              "  </tbody>\n",
              "</table>\n",
              "</div>"
            ],
            "text/plain": [
              "                        productName  ... valueDifference\n",
              "0                   1982 Camaro Z28  ...           54.62\n",
              "1  Diamond T620 Semi-Skirted Tanker  ...           47.46\n",
              "2                2002 Yamaha YZR M1  ...           47.19\n",
              "\n",
              "[3 rows x 4 columns]"
            ]
          },
          "metadata": {
            "tags": []
          },
          "execution_count": 57
        }
      ]
    },
    {
      "cell_type": "markdown",
      "metadata": {
        "id": "s3CNNjmr59xw"
      },
      "source": [
        "####  <span style = \"color:red\">Código original.</span>\n",
        "<!--- \n",
        "query = \"\"\"SELECT\n",
        "    p.productName AS nomeProduto,\n",
        "    p.productLine AS Linha,\n",
        "    p.productDescription AS descricao,\n",
        "    (p.MSRP - p.buyPrice) AS sugeridoMenosCobrado\n",
        "    \n",
        "    FROM \n",
        "    orderdetails AS o INNER JOIN products AS p\n",
        "    \n",
        "    WHERE\n",
        "    o.productCode = p.productCode\n",
        "    \n",
        "    GROUP BY\n",
        "    p.productLine\n",
        "    \n",
        "    HAVING\n",
        "    o.quantityOrdered > 10\n",
        "    \n",
        "    ORDER BY\n",
        "    sugeridoMenosCobrado\n",
        "    \n",
        "    LIMIT \n",
        "    3\n",
        "    ;\"\"\"\n",
        "\n",
        "queryResult = pd.read_sql_query(query,db)\n",
        "\n",
        "queryResult\n",
        "-->"
      ]
    },
    {
      "cell_type": "markdown",
      "metadata": {
        "id": "qTutRP8V59xw"
      },
      "source": [
        "#### Utilize o comando [`SELECT DISTINCT`](https://www.sqlitetutorial.net/sqlite-select-distinct) para verificar a existência de dados duplicados na coluna `'productCode'` da tabela `'orderDetails'`."
      ]
    },
    {
      "cell_type": "code",
      "metadata": {
        "colab": {
          "base_uri": "https://localhost:8080/",
          "height": 204
        },
        "id": "v90NpXK6IDxn",
        "outputId": "441446c4-7a89-4e60-8c9b-50e0d30bc486"
      },
      "source": [
        "query = \"\"\"SELECT productCode\n",
        "\n",
        "    FROM orderDetails\n",
        "    \n",
        "    ORDER BY\n",
        "    productCode\n",
        "    ;\"\"\"\n",
        "\n",
        "queryResult = pd.read_sql_query(query,db)\n",
        "\n",
        "queryResult.head()"
      ],
      "execution_count": 68,
      "outputs": [
        {
          "output_type": "execute_result",
          "data": {
            "text/html": [
              "<div>\n",
              "<style scoped>\n",
              "    .dataframe tbody tr th:only-of-type {\n",
              "        vertical-align: middle;\n",
              "    }\n",
              "\n",
              "    .dataframe tbody tr th {\n",
              "        vertical-align: top;\n",
              "    }\n",
              "\n",
              "    .dataframe thead th {\n",
              "        text-align: right;\n",
              "    }\n",
              "</style>\n",
              "<table border=\"1\" class=\"dataframe\">\n",
              "  <thead>\n",
              "    <tr style=\"text-align: right;\">\n",
              "      <th></th>\n",
              "      <th>productCode</th>\n",
              "    </tr>\n",
              "  </thead>\n",
              "  <tbody>\n",
              "    <tr>\n",
              "      <th>0</th>\n",
              "      <td>S10_1678</td>\n",
              "    </tr>\n",
              "    <tr>\n",
              "      <th>1</th>\n",
              "      <td>S10_1678</td>\n",
              "    </tr>\n",
              "    <tr>\n",
              "      <th>2</th>\n",
              "      <td>S10_1678</td>\n",
              "    </tr>\n",
              "    <tr>\n",
              "      <th>3</th>\n",
              "      <td>S10_1678</td>\n",
              "    </tr>\n",
              "    <tr>\n",
              "      <th>4</th>\n",
              "      <td>S10_1678</td>\n",
              "    </tr>\n",
              "  </tbody>\n",
              "</table>\n",
              "</div>"
            ],
            "text/plain": [
              "  productCode\n",
              "0    S10_1678\n",
              "1    S10_1678\n",
              "2    S10_1678\n",
              "3    S10_1678\n",
              "4    S10_1678"
            ]
          },
          "metadata": {
            "tags": []
          },
          "execution_count": 68
        }
      ]
    },
    {
      "cell_type": "code",
      "metadata": {
        "colab": {
          "base_uri": "https://localhost:8080/"
        },
        "id": "FLcWzt49IlsE",
        "outputId": "1477b233-b82a-45cd-d8fc-9006f8e344e3"
      },
      "source": [
        "#Quantidade de valores totais em productCode\n",
        "len(queryResult)"
      ],
      "execution_count": 70,
      "outputs": [
        {
          "output_type": "execute_result",
          "data": {
            "text/plain": [
              "2996"
            ]
          },
          "metadata": {
            "tags": []
          },
          "execution_count": 70
        }
      ]
    },
    {
      "cell_type": "code",
      "metadata": {
        "colab": {
          "base_uri": "https://localhost:8080/",
          "height": 204
        },
        "id": "HeZ_ptDD59xw",
        "outputId": "a65b8546-caa4-4334-de9f-c3809b70d052"
      },
      "source": [
        "query = \"\"\"SELECT DISTINCT productCode\n",
        "\n",
        "    FROM orderDetails\n",
        "\n",
        "    ORDER BY\n",
        "    productCode\n",
        "    \n",
        "    ;\"\"\"\n",
        "\n",
        "queryResult = pd.read_sql_query(query,db)\n",
        "\n",
        "queryResult.head()"
      ],
      "execution_count": 73,
      "outputs": [
        {
          "output_type": "execute_result",
          "data": {
            "text/html": [
              "<div>\n",
              "<style scoped>\n",
              "    .dataframe tbody tr th:only-of-type {\n",
              "        vertical-align: middle;\n",
              "    }\n",
              "\n",
              "    .dataframe tbody tr th {\n",
              "        vertical-align: top;\n",
              "    }\n",
              "\n",
              "    .dataframe thead th {\n",
              "        text-align: right;\n",
              "    }\n",
              "</style>\n",
              "<table border=\"1\" class=\"dataframe\">\n",
              "  <thead>\n",
              "    <tr style=\"text-align: right;\">\n",
              "      <th></th>\n",
              "      <th>productCode</th>\n",
              "    </tr>\n",
              "  </thead>\n",
              "  <tbody>\n",
              "    <tr>\n",
              "      <th>0</th>\n",
              "      <td>S10_1678</td>\n",
              "    </tr>\n",
              "    <tr>\n",
              "      <th>1</th>\n",
              "      <td>S10_1949</td>\n",
              "    </tr>\n",
              "    <tr>\n",
              "      <th>2</th>\n",
              "      <td>S10_2016</td>\n",
              "    </tr>\n",
              "    <tr>\n",
              "      <th>3</th>\n",
              "      <td>S10_4698</td>\n",
              "    </tr>\n",
              "    <tr>\n",
              "      <th>4</th>\n",
              "      <td>S10_4757</td>\n",
              "    </tr>\n",
              "  </tbody>\n",
              "</table>\n",
              "</div>"
            ],
            "text/plain": [
              "  productCode\n",
              "0    S10_1678\n",
              "1    S10_1949\n",
              "2    S10_2016\n",
              "3    S10_4698\n",
              "4    S10_4757"
            ]
          },
          "metadata": {
            "tags": []
          },
          "execution_count": 73
        }
      ]
    },
    {
      "cell_type": "code",
      "metadata": {
        "colab": {
          "base_uri": "https://localhost:8080/"
        },
        "id": "tfdOgKnRIc0B",
        "outputId": "ef4e024d-5a3e-4f41-ecb2-8a3f44602462"
      },
      "source": [
        "#Quantidade de valores únicos em productCode\n",
        "len(queryResult)"
      ],
      "execution_count": 72,
      "outputs": [
        {
          "output_type": "execute_result",
          "data": {
            "text/plain": [
              "109"
            ]
          },
          "metadata": {
            "tags": []
          },
          "execution_count": 72
        }
      ]
    },
    {
      "cell_type": "markdown",
      "metadata": {
        "id": "nUyQTfWH59xw"
      },
      "source": [
        "####  <span style = \"color:red\">Código original.</span>\n",
        "<!--- \n",
        "query = \"\"\"SELECT DISTINCT productCode\n",
        "\n",
        "FROM \n",
        "orderDetails;\"\"\"\n",
        "\n",
        "queryResult = pd.read_sql_query(query,db)\n",
        "\n",
        "queryResult.head()\n",
        "-->"
      ]
    },
    {
      "cell_type": "markdown",
      "metadata": {
        "id": "mSQYlstC59xw"
      },
      "source": [
        "## SubQuery\n",
        "\n",
        "#### Muitas vezes precisamos ler registros que satisfazem certas condições, mas em alguns casos essas condições devem ser aplicadas em outra tabela. Quando temos casos desse tipo o caminho a ser seguido é fazer subqueries.    \n",
        "\n",
        "1. Exemplo de escrita:\n",
        "        SELECT column-names\n",
        "        FROM table-name1\n",
        "        WHERE value IN (SELECT column-name\n",
        "                   FROM table-name2)"
      ]
    },
    {
      "cell_type": "markdown",
      "metadata": {
        "id": "5xIEGF4F59xw"
      },
      "source": [
        "#### Vamos primeiro ver as tabelas que iremos trabalhar."
      ]
    },
    {
      "cell_type": "code",
      "metadata": {
        "colab": {
          "base_uri": "https://localhost:8080/",
          "height": 204
        },
        "id": "5sQ4GpaN59xw",
        "outputId": "aa2211af-12ca-4e6d-f69a-b3ceeb2aeeb8"
      },
      "source": [
        "query = \"\"\"SELECT *\n",
        "\n",
        "FROM offices;\"\"\"\n",
        "\n",
        "queryResult = pd.read_sql_query(query,db)\n",
        "\n",
        "queryResult.head()"
      ],
      "execution_count": 74,
      "outputs": [
        {
          "output_type": "execute_result",
          "data": {
            "text/html": [
              "<div>\n",
              "<style scoped>\n",
              "    .dataframe tbody tr th:only-of-type {\n",
              "        vertical-align: middle;\n",
              "    }\n",
              "\n",
              "    .dataframe tbody tr th {\n",
              "        vertical-align: top;\n",
              "    }\n",
              "\n",
              "    .dataframe thead th {\n",
              "        text-align: right;\n",
              "    }\n",
              "</style>\n",
              "<table border=\"1\" class=\"dataframe\">\n",
              "  <thead>\n",
              "    <tr style=\"text-align: right;\">\n",
              "      <th></th>\n",
              "      <th>officeCode</th>\n",
              "      <th>city</th>\n",
              "      <th>phone</th>\n",
              "      <th>addressLine1</th>\n",
              "      <th>addressLine2</th>\n",
              "      <th>state</th>\n",
              "      <th>country</th>\n",
              "      <th>postalCode</th>\n",
              "      <th>territory</th>\n",
              "    </tr>\n",
              "  </thead>\n",
              "  <tbody>\n",
              "    <tr>\n",
              "      <th>0</th>\n",
              "      <td>1</td>\n",
              "      <td>San Francisco</td>\n",
              "      <td>+1 650 219 4782</td>\n",
              "      <td>100 Market Street</td>\n",
              "      <td>Suite 300</td>\n",
              "      <td>CA</td>\n",
              "      <td>USA</td>\n",
              "      <td>94080</td>\n",
              "      <td>NA</td>\n",
              "    </tr>\n",
              "    <tr>\n",
              "      <th>1</th>\n",
              "      <td>2</td>\n",
              "      <td>Boston</td>\n",
              "      <td>+1 215 837 0825</td>\n",
              "      <td>1550 Court Place</td>\n",
              "      <td>Suite 102</td>\n",
              "      <td>MA</td>\n",
              "      <td>USA</td>\n",
              "      <td>02107</td>\n",
              "      <td>NA</td>\n",
              "    </tr>\n",
              "    <tr>\n",
              "      <th>2</th>\n",
              "      <td>3</td>\n",
              "      <td>NYC</td>\n",
              "      <td>+1 212 555 3000</td>\n",
              "      <td>523 East 53rd Street</td>\n",
              "      <td>apt. 5A</td>\n",
              "      <td>NY</td>\n",
              "      <td>USA</td>\n",
              "      <td>10022</td>\n",
              "      <td>NA</td>\n",
              "    </tr>\n",
              "    <tr>\n",
              "      <th>3</th>\n",
              "      <td>4</td>\n",
              "      <td>Paris</td>\n",
              "      <td>+33 14 723 4404</td>\n",
              "      <td>43 Rue Jouffroy D’abbans</td>\n",
              "      <td>None</td>\n",
              "      <td>None</td>\n",
              "      <td>France</td>\n",
              "      <td>75017</td>\n",
              "      <td>EMEA</td>\n",
              "    </tr>\n",
              "    <tr>\n",
              "      <th>4</th>\n",
              "      <td>5</td>\n",
              "      <td>Tokyo</td>\n",
              "      <td>+81 33 224 5000</td>\n",
              "      <td>4-1 Kioicho</td>\n",
              "      <td>None</td>\n",
              "      <td>Chiyoda-Ku</td>\n",
              "      <td>Japan</td>\n",
              "      <td>102-8578</td>\n",
              "      <td>Japan</td>\n",
              "    </tr>\n",
              "  </tbody>\n",
              "</table>\n",
              "</div>"
            ],
            "text/plain": [
              "  officeCode           city            phone  ... country postalCode territory\n",
              "0          1  San Francisco  +1 650 219 4782  ...     USA      94080        NA\n",
              "1          2         Boston  +1 215 837 0825  ...     USA      02107        NA\n",
              "2          3            NYC  +1 212 555 3000  ...     USA      10022        NA\n",
              "3          4          Paris  +33 14 723 4404  ...  France      75017      EMEA\n",
              "4          5          Tokyo  +81 33 224 5000  ...   Japan   102-8578     Japan\n",
              "\n",
              "[5 rows x 9 columns]"
            ]
          },
          "metadata": {
            "tags": []
          },
          "execution_count": 74
        }
      ]
    },
    {
      "cell_type": "code",
      "metadata": {
        "colab": {
          "base_uri": "https://localhost:8080/",
          "height": 204
        },
        "id": "KKYArTrF59xx",
        "outputId": "bbb4e035-6360-4ef0-886e-b298310d5bfc"
      },
      "source": [
        "query = \"\"\"SELECT *\n",
        "\n",
        "FROM employees;\"\"\"\n",
        "\n",
        "queryResult = pd.read_sql_query(query,db)\n",
        "\n",
        "queryResult.head()"
      ],
      "execution_count": 75,
      "outputs": [
        {
          "output_type": "execute_result",
          "data": {
            "text/html": [
              "<div>\n",
              "<style scoped>\n",
              "    .dataframe tbody tr th:only-of-type {\n",
              "        vertical-align: middle;\n",
              "    }\n",
              "\n",
              "    .dataframe tbody tr th {\n",
              "        vertical-align: top;\n",
              "    }\n",
              "\n",
              "    .dataframe thead th {\n",
              "        text-align: right;\n",
              "    }\n",
              "</style>\n",
              "<table border=\"1\" class=\"dataframe\">\n",
              "  <thead>\n",
              "    <tr style=\"text-align: right;\">\n",
              "      <th></th>\n",
              "      <th>employeeNumber</th>\n",
              "      <th>lastName</th>\n",
              "      <th>firstName</th>\n",
              "      <th>extension</th>\n",
              "      <th>email</th>\n",
              "      <th>officeCode</th>\n",
              "      <th>reportsTo</th>\n",
              "      <th>jobTitle</th>\n",
              "    </tr>\n",
              "  </thead>\n",
              "  <tbody>\n",
              "    <tr>\n",
              "      <th>0</th>\n",
              "      <td>1002</td>\n",
              "      <td>Murphy</td>\n",
              "      <td>Diane</td>\n",
              "      <td>x5800</td>\n",
              "      <td>dmurphy@classicmodelcars.com</td>\n",
              "      <td>1</td>\n",
              "      <td>NaN</td>\n",
              "      <td>President</td>\n",
              "    </tr>\n",
              "    <tr>\n",
              "      <th>1</th>\n",
              "      <td>1056</td>\n",
              "      <td>Patterson</td>\n",
              "      <td>Mary</td>\n",
              "      <td>x4611</td>\n",
              "      <td>mpatterso@classicmodelcars.com</td>\n",
              "      <td>1</td>\n",
              "      <td>1002.0</td>\n",
              "      <td>VP Sales</td>\n",
              "    </tr>\n",
              "    <tr>\n",
              "      <th>2</th>\n",
              "      <td>1076</td>\n",
              "      <td>Firrelli</td>\n",
              "      <td>Jeff</td>\n",
              "      <td>x9273</td>\n",
              "      <td>jfirrelli@classicmodelcars.com</td>\n",
              "      <td>1</td>\n",
              "      <td>1002.0</td>\n",
              "      <td>VP Marketing</td>\n",
              "    </tr>\n",
              "    <tr>\n",
              "      <th>3</th>\n",
              "      <td>1088</td>\n",
              "      <td>Patterson</td>\n",
              "      <td>William</td>\n",
              "      <td>x4871</td>\n",
              "      <td>wpatterson@classicmodelcars.com</td>\n",
              "      <td>6</td>\n",
              "      <td>1056.0</td>\n",
              "      <td>Sales Manager (APAC)</td>\n",
              "    </tr>\n",
              "    <tr>\n",
              "      <th>4</th>\n",
              "      <td>1102</td>\n",
              "      <td>Bondur</td>\n",
              "      <td>Gerard</td>\n",
              "      <td>x5408</td>\n",
              "      <td>gbondur@classicmodelcars.com</td>\n",
              "      <td>4</td>\n",
              "      <td>1056.0</td>\n",
              "      <td>Sale Manager (EMEA)</td>\n",
              "    </tr>\n",
              "  </tbody>\n",
              "</table>\n",
              "</div>"
            ],
            "text/plain": [
              "   employeeNumber   lastName  ... reportsTo              jobTitle\n",
              "0            1002     Murphy  ...       NaN             President\n",
              "1            1056  Patterson  ...    1002.0              VP Sales\n",
              "2            1076   Firrelli  ...    1002.0          VP Marketing\n",
              "3            1088  Patterson  ...    1056.0  Sales Manager (APAC)\n",
              "4            1102     Bondur  ...    1056.0   Sale Manager (EMEA)\n",
              "\n",
              "[5 rows x 8 columns]"
            ]
          },
          "metadata": {
            "tags": []
          },
          "execution_count": 75
        }
      ]
    },
    {
      "cell_type": "code",
      "metadata": {
        "colab": {
          "base_uri": "https://localhost:8080/",
          "height": 111
        },
        "id": "hsHQbcBC59xx",
        "outputId": "a5426ed4-8ef1-4475-f78a-2aad412934cd"
      },
      "source": [
        "query = \"\"\"SELECT *\n",
        "    \n",
        "    FROM \n",
        "    employees\n",
        "    \n",
        "    WHERE\n",
        "    officeCode in (SELECT officeCode\n",
        "    \n",
        "    FROM offices\n",
        "    \n",
        "    WHERE\n",
        "    city = 'London');\"\"\"\n",
        "\n",
        "queryResult = pd.read_sql_query(query,db)\n",
        "\n",
        "queryResult"
      ],
      "execution_count": 76,
      "outputs": [
        {
          "output_type": "execute_result",
          "data": {
            "text/html": [
              "<div>\n",
              "<style scoped>\n",
              "    .dataframe tbody tr th:only-of-type {\n",
              "        vertical-align: middle;\n",
              "    }\n",
              "\n",
              "    .dataframe tbody tr th {\n",
              "        vertical-align: top;\n",
              "    }\n",
              "\n",
              "    .dataframe thead th {\n",
              "        text-align: right;\n",
              "    }\n",
              "</style>\n",
              "<table border=\"1\" class=\"dataframe\">\n",
              "  <thead>\n",
              "    <tr style=\"text-align: right;\">\n",
              "      <th></th>\n",
              "      <th>employeeNumber</th>\n",
              "      <th>lastName</th>\n",
              "      <th>firstName</th>\n",
              "      <th>extension</th>\n",
              "      <th>email</th>\n",
              "      <th>officeCode</th>\n",
              "      <th>reportsTo</th>\n",
              "      <th>jobTitle</th>\n",
              "    </tr>\n",
              "  </thead>\n",
              "  <tbody>\n",
              "    <tr>\n",
              "      <th>0</th>\n",
              "      <td>1501</td>\n",
              "      <td>Bott</td>\n",
              "      <td>Larry</td>\n",
              "      <td>x2311</td>\n",
              "      <td>lbott@classicmodelcars.com</td>\n",
              "      <td>7</td>\n",
              "      <td>1102</td>\n",
              "      <td>Sales Rep</td>\n",
              "    </tr>\n",
              "    <tr>\n",
              "      <th>1</th>\n",
              "      <td>1504</td>\n",
              "      <td>Jones</td>\n",
              "      <td>Barry</td>\n",
              "      <td>x102</td>\n",
              "      <td>bjones@classicmodelcars.com</td>\n",
              "      <td>7</td>\n",
              "      <td>1102</td>\n",
              "      <td>Sales Rep</td>\n",
              "    </tr>\n",
              "  </tbody>\n",
              "</table>\n",
              "</div>"
            ],
            "text/plain": [
              "   employeeNumber lastName firstName  ... officeCode reportsTo   jobTitle\n",
              "0            1501     Bott     Larry  ...          7      1102  Sales Rep\n",
              "1            1504    Jones     Barry  ...          7      1102  Sales Rep\n",
              "\n",
              "[2 rows x 8 columns]"
            ]
          },
          "metadata": {
            "tags": []
          },
          "execution_count": 76
        }
      ]
    },
    {
      "cell_type": "code",
      "metadata": {
        "colab": {
          "base_uri": "https://localhost:8080/",
          "height": 80
        },
        "id": "Lxo9TvO259xx",
        "outputId": "ba50f4ad-293a-4adc-b470-94300952af74"
      },
      "source": [
        "query = \"\"\"SELECT officeCode\n",
        "    \n",
        "    FROM offices\n",
        "    \n",
        "    WHERE\n",
        "    city = 'London';\"\"\"\n",
        "\n",
        "queryResult = pd.read_sql_query(query,db)\n",
        "\n",
        "queryResult"
      ],
      "execution_count": 77,
      "outputs": [
        {
          "output_type": "execute_result",
          "data": {
            "text/html": [
              "<div>\n",
              "<style scoped>\n",
              "    .dataframe tbody tr th:only-of-type {\n",
              "        vertical-align: middle;\n",
              "    }\n",
              "\n",
              "    .dataframe tbody tr th {\n",
              "        vertical-align: top;\n",
              "    }\n",
              "\n",
              "    .dataframe thead th {\n",
              "        text-align: right;\n",
              "    }\n",
              "</style>\n",
              "<table border=\"1\" class=\"dataframe\">\n",
              "  <thead>\n",
              "    <tr style=\"text-align: right;\">\n",
              "      <th></th>\n",
              "      <th>officeCode</th>\n",
              "    </tr>\n",
              "  </thead>\n",
              "  <tbody>\n",
              "    <tr>\n",
              "      <th>0</th>\n",
              "      <td>7</td>\n",
              "    </tr>\n",
              "  </tbody>\n",
              "</table>\n",
              "</div>"
            ],
            "text/plain": [
              "  officeCode\n",
              "0          7"
            ]
          },
          "metadata": {
            "tags": []
          },
          "execution_count": 77
        }
      ]
    }
  ]
}