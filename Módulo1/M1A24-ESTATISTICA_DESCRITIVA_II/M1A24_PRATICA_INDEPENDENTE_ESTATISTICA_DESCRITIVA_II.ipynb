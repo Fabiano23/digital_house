{
  "nbformat": 4,
  "nbformat_minor": 0,
  "metadata": {
    "kernelspec": {
      "display_name": "Python 3",
      "language": "python",
      "name": "python3"
    },
    "language_info": {
      "codemirror_mode": {
        "name": "ipython",
        "version": 3
      },
      "file_extension": ".py",
      "mimetype": "text/x-python",
      "name": "python",
      "nbconvert_exporter": "python",
      "pygments_lexer": "ipython3",
      "version": "3.7.6"
    },
    "colab": {
      "name": "M1A24-PRATICA_INDEPENDENTE_ESTATISTICA_DESCRITIVA_II.ipynb",
      "provenance": [],
      "collapsed_sections": []
    }
  },
  "cells": [
    {
      "cell_type": "markdown",
      "metadata": {
        "id": "Y95bcrsdzxHh"
      },
      "source": [
        "# PRÁTICA INDEPENDENTE - Estatística Descritiva II."
      ]
    },
    {
      "cell_type": "code",
      "metadata": {
        "id": "THP5RgLZzxHw"
      },
      "source": [
        "import matplotlib.pyplot as plt\n",
        "%matplotlib inline\n",
        "import numpy as np\n",
        "import pandas as pd\n",
        "from scipy import stats\n",
        "import seaborn as sns"
      ],
      "execution_count": 1,
      "outputs": []
    },
    {
      "cell_type": "code",
      "metadata": {
        "id": "vX-9IKJfrwwT"
      },
      "source": [
        "#Standard size of figures on this notebook\n",
        "plt.rcParams['figure.figsize'] = [9, 5]\n",
        "plt.rcParams['figure.dpi'] = 100"
      ],
      "execution_count": 3,
      "outputs": []
    },
    {
      "cell_type": "markdown",
      "metadata": {
        "id": "_XZ7zVX_zxHx"
      },
      "source": [
        "## Exercício 1 - Função de Probabilidade - [Distribuição Binomial](https://www.investopedia.com/terms/b/binomialdistribution.asp).\n",
        "\n",
        "\\begin{equation*}\n",
        "f(x)=  \\binom {n}{x} (p)^{x} (1-p)^{(n-x)}\n",
        "\\end{equation*}\n",
        "\n",
        "#### Considere uma variável $ X $, do tipo aleatória aleatória, contendo o número de caras saídas em $ 12 $ lançamentos de uma [moeda honesta](https://en.wikipedia.org/wiki/Fair_coin). Qual a probabilidade de sair $ 5 $ caras em $ 12 $ lançamentos, $P(X = 5)$."
      ]
    },
    {
      "cell_type": "markdown",
      "metadata": {
        "id": "oxmy1tDH9ZmM"
      },
      "source": [
        "Neste caso, como estou usando a Probability mass function (pmf), estou calculando a probabilidade de sair EXATAMENTE 5 caras em 12 lançamentos de uma moeda justa."
      ]
    },
    {
      "cell_type": "code",
      "metadata": {
        "colab": {
          "base_uri": "https://localhost:8080/"
        },
        "id": "XRBZl8vN4zUX",
        "outputId": "88bae891-b3b6-44b7-82bc-523749220937"
      },
      "source": [
        "probabilidade_cara = stats.binom.pmf(k=5, n=12, p=0.5)\n",
        "\n",
        "# Onde k = quantidade do evento desejado (sair cara) ocorrer\n",
        "# n = numero total de lançamentos\n",
        "# p = probabilidade do evento desejado ocorrer em cada lançamento\n",
        "\n",
        "print(f'Probabilidade de sair EXATAMENTE 5 caras em 12 lançamentos de uma moeda justa: {round(probabilidade_cara, 2) * 100}%')"
      ],
      "execution_count": 62,
      "outputs": [
        {
          "output_type": "stream",
          "text": [
            "Probabilidade de sair EXATAMENTE 5 caras em 12 lançamentos de uma moeda justa: 19.0%\n"
          ],
          "name": "stdout"
        }
      ]
    },
    {
      "cell_type": "markdown",
      "metadata": {
        "id": "YjXkNP1P9kEG"
      },
      "source": [
        "Se eu quiser calcular a probabilidade de sair ATÉ 5 caras em doze lançamentos eu uso a Cumulative distribution function."
      ]
    },
    {
      "cell_type": "code",
      "metadata": {
        "colab": {
          "base_uri": "https://localhost:8080/"
        },
        "id": "Hz4IhtF253jo",
        "outputId": "ec067a69-2286-4d1a-adc2-f0170108a00c"
      },
      "source": [
        "print(f'Probabilidade de sair ATÉ 5 caras em 12 lançamentos de uma moeda justa: {round(stats.binom.cdf(k=5, n=12, p=0.5), 2) * 100}%')"
      ],
      "execution_count": 63,
      "outputs": [
        {
          "output_type": "stream",
          "text": [
            "Probabilidade de sair ATÉ 5 caras em 12 lançamentos de uma moeda justa: 39.0%\n"
          ],
          "name": "stdout"
        }
      ]
    },
    {
      "cell_type": "markdown",
      "metadata": {
        "id": "A-TtchowzxHz"
      },
      "source": [
        "## Exercício 2 - Função de Probabilidade - [Distribuição de Poisson](https://www.investopedia.com/terms/p/poisson-distribution.asp).\n",
        "\n",
        "\\begin{equation*}\n",
        "f(x)= e^{-\\lambda} \\dfrac{\\lambda^{x}}{x!}\n",
        "\\end{equation*}\n",
        "\n",
        "#### Imagine um pronto socorro que realiza em média $ 5 $ atendimentos por hora.  Qual  a  probabilidade  dele  realizar  $ 2 $ atendimentos a qualquer momento aleatório? "
      ]
    },
    {
      "cell_type": "code",
      "metadata": {
        "colab": {
          "base_uri": "https://localhost:8080/"
        },
        "id": "xJGVLnvszxHz",
        "outputId": "2dc484ca-765f-422e-b8be-913d71399254"
      },
      "source": [
        "print(f'Probabilidade de 2 atendimentos aleatórias com a media de 5 atendimentos por hora: {round(stats.poisson.pmf(k= 2, mu= 5), 2) * 100}%')"
      ],
      "execution_count": 64,
      "outputs": [
        {
          "output_type": "stream",
          "text": [
            "Probabilidade de 2 atendimentos aleatórias com a media de 5 atendimentos por hora: 8.0%\n"
          ],
          "name": "stdout"
        }
      ]
    },
    {
      "cell_type": "markdown",
      "metadata": {
        "id": "vURHh5m_zxHz"
      },
      "source": [
        "## Exercício 3 - [Função de Probabilidade](https://www.investopedia.com/terms/p/probabilitydistribution.asp).\n",
        "\n",
        "#### (Meyer,2000) Suponha que $ X_{t} $, o nº de partículas emitidas em $ t $  horas por uma fonte radioativa, tenha uma distribuição de Poisson com parâmetro $20 t $. Qual será a probabilidade de que exatamente $ 5 $  partículas sejam emitidas durante um período de $ 15 $ min?"
      ]
    },
    {
      "cell_type": "code",
      "metadata": {
        "colab": {
          "base_uri": "https://localhost:8080/"
        },
        "id": "H4y9u_JjJTW1",
        "outputId": "7858d292-085e-454e-ec8e-62090bc9c197"
      },
      "source": [
        "parametro_uma_hora = 20\n",
        "parametro_quinze_minutos = parametro_uma_hora * (1 / 4) # 15 minutos equivale a 1/4 de hora\n",
        "parametro_quinze_minutos"
      ],
      "execution_count": 65,
      "outputs": [
        {
          "output_type": "execute_result",
          "data": {
            "text/plain": [
              "5.0"
            ]
          },
          "metadata": {
            "tags": []
          },
          "execution_count": 65
        }
      ]
    },
    {
      "cell_type": "code",
      "metadata": {
        "id": "jgq_JVEPTmeW"
      },
      "source": [
        "probabilidade = round(stats.poisson.pmf(k= 5, mu= parametro_quinze_minutos), 2) * 100"
      ],
      "execution_count": 66,
      "outputs": []
    },
    {
      "cell_type": "code",
      "metadata": {
        "colab": {
          "base_uri": "https://localhost:8080/"
        },
        "id": "Osv2627sS71y",
        "outputId": "bc40aeba-ba0a-4e45-9dd1-3a80d5b5e3a8"
      },
      "source": [
        "print(f'Probabilidade de exatamente 5 partículas em 15 minutos:{probabilidade}%')"
      ],
      "execution_count": 67,
      "outputs": [
        {
          "output_type": "stream",
          "text": [
            "Probabilidade de exatamente 5 partículas em 15 minutos:18.0%\n"
          ],
          "name": "stdout"
        }
      ]
    },
    {
      "cell_type": "markdown",
      "metadata": {
        "id": "QtdBKR8UzxH1"
      },
      "source": [
        "## Exercício 4 - [Distribuição Normal](https://www.investopedia.com/terms/n/normaldistribution.asp).\n",
        "\n",
        "#### Gere uma distribuição normal com o peso da população; tome como média $70$ kg, como desvio padrão de $25$ kg e $ 100 $ observações e plote a Função Densidade de Probabilidade (PDF)."
      ]
    },
    {
      "cell_type": "code",
      "metadata": {
        "id": "9WHBF6ZGzxH2"
      },
      "source": [
        "# Generating normal distribution with numpy\n",
        "normal_distribution = np.random.normal(loc= 70, scale = 25,\n",
        "              size = 100)\n",
        "# Mean of the distribution\n",
        "mean = round(normal_distribution.mean(), 2)\n",
        "\n",
        "# Standard deviation of the distribution\n",
        "sd = round(normal_distribution.std(), 2)"
      ],
      "execution_count": 68,
      "outputs": []
    },
    {
      "cell_type": "markdown",
      "metadata": {
        "id": "9rvKdS1MsJ0e"
      },
      "source": [
        "Using [kdeplot()](https://seaborn.pydata.org/generated/seaborn.kdeplot.html)"
      ]
    },
    {
      "cell_type": "code",
      "metadata": {
        "colab": {
          "base_uri": "https://localhost:8080/",
          "height": 480
        },
        "id": "WQXl1f7_x9Lk",
        "outputId": "7d3dd846-54dc-4bed-c828-f9cebc91ec8f"
      },
      "source": [
        "ax = sns.kdeplot(normal_distribution)\n",
        "\n",
        "ax.set_title(f'Mean: {mean} - Standard Deviation: {sd}')\n",
        "\n",
        "ax.set_xlabel('Weight')\n",
        "\n",
        "ax.set_ylabel('Density');"
      ],
      "execution_count": 69,
      "outputs": [
        {
          "output_type": "display_data",
          "data": {
            "image/png": "[encoded data removed]",
            "text/plain": [
              "<Figure size 900x500 with 1 Axes>"
            ]
          },
          "metadata": {
            "tags": [],
            "needs_background": "light"
          }
        }
      ]
    },
    {
      "cell_type": "markdown",
      "metadata": {
        "id": "nbUu3hrt1Kj6"
      },
      "source": [
        "Using [distplot()](https://seaborn.pydata.org/generated/seaborn.distplot.html)"
      ]
    },
    {
      "cell_type": "code",
      "metadata": {
        "colab": {
          "base_uri": "https://localhost:8080/",
          "height": 543
        },
        "id": "h6X_GZRHzo6f",
        "outputId": "61cc83d8-0ea9-45c4-862f-cd04923da45c"
      },
      "source": [
        "ax2 = sns.displot(normal_distribution, kind= 'kde')\n",
        "\n",
        "print(f'            Mean: {mean} - Standard Deviation: {sd}')\n",
        "\n",
        "ax2.set_xlabels('Weight');"
      ],
      "execution_count": 70,
      "outputs": [
        {
          "output_type": "stream",
          "text": [
            "            Mean: 75.44 - Standard Deviation: 25.89\n"
          ],
          "name": "stdout"
        },
        {
          "output_type": "display_data",
          "data": {
            "image/png": "[encoded data removed]",
            "text/plain": [
              "<Figure size 500x500 with 1 Axes>"
            ]
          },
          "metadata": {
            "tags": [],
            "needs_background": "light"
          }
        }
      ]
    },
    {
      "cell_type": "markdown",
      "metadata": {
        "id": "ScyD0-l8zxH2"
      },
      "source": [
        "## Exercício 5 - [Normalização](https://www.investopedia.com/terms/z/zscore.asp)\n",
        "\n",
        "\n",
        "#### Normalize a distribuição anterior com [z-score](https://towardsdatascience.com/the-surprising-longevity-of-the-z-score-a8d4f65f64a0)\n",
        "\n",
        "\\begin{equation*}\n",
        "Z \\sim \\dfrac{x - \\mu} {\\sigma^{2}\\,}\n",
        "\\end{equation*}\n",
        "\n",
        "#### Tente realizar essa tarefa através de um método explícito, de uma função definida, com o auxílio da função [`lambda`](https://docs.python.org/3/reference/expressions.html#lambda) e com o método [`Sklearn.Preprocessing()`](https://scikit-learn.org/stable/modules/generated/sklearn.preprocessing.StandardScaler.html)."
      ]
    },
    {
      "cell_type": "markdown",
      "metadata": {
        "id": "DlPgO1r2zxH3"
      },
      "source": [
        "#### Método explícito:"
      ]
    },
    {
      "cell_type": "code",
      "metadata": {
        "id": "m56QlU7dzxH4",
        "colab": {
          "base_uri": "https://localhost:8080/"
        },
        "outputId": "13039e83-1db0-41ac-b435-18b35a7db9a1"
      },
      "source": [
        "z_scores = list()\n",
        "\n",
        "for x in normal_distribution:\n",
        "    z_scores.append((x - mean) / sd)\n",
        "\n",
        "z_scores[:3] "
      ],
      "execution_count": 71,
      "outputs": [
        {
          "output_type": "execute_result",
          "data": {
            "text/plain": [
              "[0.6336757570377465, 0.3596106475847312, -0.633148798697793]"
            ]
          },
          "metadata": {
            "tags": []
          },
          "execution_count": 71
        }
      ]
    },
    {
      "cell_type": "markdown",
      "metadata": {
        "id": "zDmGENEkzxH5"
      },
      "source": [
        "#### Definindo uma função:"
      ]
    },
    {
      "cell_type": "code",
      "metadata": {
        "id": "h023-si-zxH5"
      },
      "source": [
        "def get_z_scores_of_a_distribution(distribution):\n",
        "  \n",
        "  mean = distribution.mean() # Get the mean of the distribution\n",
        "  \n",
        "  sd = distribution.std() # Get the standard deviation of the distribution\n",
        "  \n",
        "  z_score_list = [(x - mean) / sd for x in distribution] # Calculate the z_scores of the distribution\n",
        "\n",
        "  return z_score_list"
      ],
      "execution_count": 72,
      "outputs": []
    },
    {
      "cell_type": "code",
      "metadata": {
        "id": "06S64iFEzxH6",
        "colab": {
          "base_uri": "https://localhost:8080/"
        },
        "outputId": "21520ba0-1e40-4791-9e52-792d052f530c"
      },
      "source": [
        "get_z_scores_of_a_distribution(normal_distribution)[:3]"
      ],
      "execution_count": 73,
      "outputs": [
        {
          "output_type": "execute_result",
          "data": {
            "text/plain": [
              "[0.6334757148691841, 0.359453535030638, -0.6331504052103674]"
            ]
          },
          "metadata": {
            "tags": []
          },
          "execution_count": 73
        }
      ]
    },
    {
      "cell_type": "markdown",
      "metadata": {
        "id": "o5IqJYu6zxH6"
      },
      "source": [
        "#### Utilizando função `Lambda`:"
      ]
    },
    {
      "cell_type": "code",
      "metadata": {
        "scrolled": true,
        "id": "pdbUVvvRzxH7",
        "colab": {
          "base_uri": "https://localhost:8080/"
        },
        "outputId": "61e673bc-045c-499b-eec5-add90bd6ddef"
      },
      "source": [
        "z_score_list = [(x - mean) / sd for x in normal_distribution]\n",
        "z_score_list[:3]"
      ],
      "execution_count": 74,
      "outputs": [
        {
          "output_type": "execute_result",
          "data": {
            "text/plain": [
              "[0.6336757570377465, 0.3596106475847312, -0.633148798697793]"
            ]
          },
          "metadata": {
            "tags": []
          },
          "execution_count": 74
        }
      ]
    },
    {
      "cell_type": "markdown",
      "metadata": {
        "id": "V0zKbMjczxH7"
      },
      "source": [
        "#### Utilizando `Sklearn.Preprocessing`:"
      ]
    },
    {
      "cell_type": "code",
      "metadata": {
        "id": "Fltce4yAzxH8"
      },
      "source": [
        "from sklearn.preprocessing import StandardScaler"
      ],
      "execution_count": 75,
      "outputs": []
    },
    {
      "cell_type": "code",
      "metadata": {
        "id": "NChDJXMYzxH9",
        "colab": {
          "base_uri": "https://localhost:8080/"
        },
        "outputId": "bd22830f-4c84-456e-d2e8-d54089da086d"
      },
      "source": [
        "#Creating StandardScaler object\n",
        "scaler = StandardScaler()\n",
        "\n",
        "#Reshaping the normal distribution\n",
        "x = normal_distribution.reshape(-1, 1)\n",
        "\n",
        "#Calculating the z_scores of the distribution\n",
        "z_scores = scaler.fit_transform(x)\n",
        "\n",
        "#Showing the first three z_scores of the distribution\n",
        "z_scores[:3]"
      ],
      "execution_count": 77,
      "outputs": [
        {
          "output_type": "execute_result",
          "data": {
            "text/plain": [
              "array([[ 0.63347571],\n",
              "       [ 0.35945354],\n",
              "       [-0.63315041]])"
            ]
          },
          "metadata": {
            "tags": []
          },
          "execution_count": 77
        }
      ]
    },
    {
      "cell_type": "markdown",
      "metadata": {
        "id": "OdPjVoydVV4p"
      },
      "source": [
        "Showing the distribution"
      ]
    },
    {
      "cell_type": "code",
      "metadata": {
        "colab": {
          "base_uri": "https://localhost:8080/",
          "height": 480
        },
        "id": "RToa0tvQVY-U",
        "outputId": "6e285525-8764-467e-cabb-231d1357e8d0"
      },
      "source": [
        "ax3 = sns.kdeplot(z_score_list)\n",
        "\n",
        "ax3.set_title(f'Mean: {mean} - Standard Deviation: {sd}')\n",
        "\n",
        "ax3.set_xlabel('Standard Deviation')\n",
        "\n",
        "ax3.set_ylabel('Density');"
      ],
      "execution_count": 78,
      "outputs": [
        {
          "output_type": "display_data",
          "data": {
            "image/png": "[encoded data removed]",
            "text/plain": [
              "<Figure size 900x500 with 1 Axes>"
            ]
          },
          "metadata": {
            "tags": [],
            "needs_background": "light"
          }
        }
      ]
    }
  ]
}