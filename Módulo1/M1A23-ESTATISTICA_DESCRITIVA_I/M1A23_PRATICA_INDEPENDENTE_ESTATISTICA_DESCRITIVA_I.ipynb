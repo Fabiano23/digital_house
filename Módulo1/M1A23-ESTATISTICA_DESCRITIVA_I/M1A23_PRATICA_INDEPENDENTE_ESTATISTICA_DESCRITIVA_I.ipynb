{
  "nbformat": 4,
  "nbformat_minor": 0,
  "metadata": {
    "kernelspec": {
      "display_name": "Python 3",
      "language": "python",
      "name": "python3"
    },
    "language_info": {
      "codemirror_mode": {
        "name": "ipython",
        "version": 3
      },
      "file_extension": ".py",
      "mimetype": "text/x-python",
      "name": "python",
      "nbconvert_exporter": "python",
      "pygments_lexer": "ipython3",
      "version": "3.7.6"
    },
    "colab": {
      "name": "M1A23-PRATICA_INDEPENDENTE-ESTATISTICA_DESCRITIVA_I.ipynb",
      "provenance": [],
      "collapsed_sections": []
    }
  },
  "cells": [
    {
      "cell_type": "markdown",
      "metadata": {
        "id": "ffiO1KTG_o78"
      },
      "source": [
        "# Prática Independente de Estatística e Numpy.\n",
        "\n",
        "#### Responder às perguntas usando a distribuição definida na variável `dist` na próxima célula."
      ]
    },
    {
      "cell_type": "code",
      "metadata": {
        "id": "1dMEyy8J_o8M"
      },
      "source": [
        "import numpy as np\n",
        "from scipy.stats import mode\n",
        "\n",
        "dist = [33.3, 8.0, 2.7, 7.0, 11.3, 10.2, 38.4, 14.7, 46.9, 6.6, 38.6, 41.1, 20.4, 19.5,\n",
        "        102.6, 111.5, 21.8, 27.0, 30.3, 9.3, 19.6, 31.1, 48.8, 8.9, 11.4, 0.6, 23.5,\n",
        "        8.0, 27.5, 69.7, 11.5, 15.5, 1.4, 7.0, 4.6, 6.0, 16.0, 17.2, 6.3, 26.2, 23.9,\n",
        "        45.9, 55.4, 100.8, 22.9, 75.5, 115.5, 58.9, 10.5, 92.6, 12.4, 102.7, 10.2, 167.6,\n",
        "        143.6, 132.3, 134.2, 39.4, 49.7, 12.0, 27.0, 1.3, 4.7, 5.0, 24.1, 21.5, 33.1,\n",
        "        45.6, 46.3, 15.8, 30.7, 15.7, 6.8, 64.6, 39.1, 2.9, 8.0, 5.4, 33.4, 40.0, 22.7,\n",
        "        24.2, 25.7, 85.0, 26.2, 3.3, 20.7, 117.4, 66.8, 44.3, 37.9, 71.8, 161.4, 45.9,\n",
        "        4.6, 6.6, 12.6, 24.4, 21.4, 33.6, 33.7, 18.8, 7.6, 36.3, 1.8, 83.2, 75.1, 71.3,\n",
        "        32.9, 30.6, 16.0, 6.9, 11.0, 9.4, 11.7, 13.8, 39.4, 4.3, 38.1, 60.1, 78.2, 49.6,\n",
        "        14.3, 8.0, 19.3, 30.8, 32.5, 29.6, 28.3, 32.4, 35.7, 36.7, 10.0, 8.5, 12.2, 22.6,\n",
        "        32.1, 25.7, 14.1, 20.9, 23.8, 29.5, 2.9, 42.3, 19.9, 47.5, 15.9, 6.0, 19.3, 38.2,\n",
        "        23.5, 2.7, 27.0, 49.9, 43.5, 31.7, 39.1, 15.1, 18.0, 33.8, 32.1, 50.7, 28.8, 11.6,\n",
        "        74.8, 16.2, 8.3, 36.3, 44.0, 15.6, 48.9, 7.3, 8.2, 29.8, 38.7, 3.9, 7.2, 5.1, 23.7,\n",
        "        48.4, 92.0, 64.3, 97.4, 99.1, 18.0, 7.1, 14.7, 47.1, 41.3, 44.2, 6.5, 44.4, 9.7,\n",
        "        15.5, 23.7, 34.5, 19.9, 58.6, 35.0, 66.1, 74.5, 45.2]"
      ],
      "execution_count": 1,
      "outputs": []
    },
    {
      "cell_type": "markdown",
      "metadata": {
        "id": "2iJmksbE_o8Q"
      },
      "source": [
        "#### Exercício 1: Calcular a média de `dist`."
      ]
    },
    {
      "cell_type": "code",
      "metadata": {
        "colab": {
          "base_uri": "https://localhost:8080/"
        },
        "id": "QAd5kUvh_o8T",
        "outputId": "74f55d9a-6bf2-4b4f-bf32-01b29275b939"
      },
      "source": [
        "round(np.mean(dist), 3)"
      ],
      "execution_count": 7,
      "outputs": [
        {
          "output_type": "execute_result",
          "data": {
            "text/plain": [
              "33.995"
            ]
          },
          "metadata": {
            "tags": []
          },
          "execution_count": 7
        }
      ]
    },
    {
      "cell_type": "markdown",
      "metadata": {
        "id": "jyAMWiLV_o8U"
      },
      "source": [
        "#### Exercício 2: Calcular a mediana de `dist`."
      ]
    },
    {
      "cell_type": "code",
      "metadata": {
        "colab": {
          "base_uri": "https://localhost:8080/"
        },
        "id": "Nnq6HzPX_o8W",
        "outputId": "f21b1bc8-a883-44b5-cd1c-b24faff63cc5"
      },
      "source": [
        "round(np.median(dist), 3)"
      ],
      "execution_count": 8,
      "outputs": [
        {
          "output_type": "execute_result",
          "data": {
            "text/plain": [
              "25.95"
            ]
          },
          "metadata": {
            "tags": []
          },
          "execution_count": 8
        }
      ]
    },
    {
      "cell_type": "markdown",
      "metadata": {
        "id": "Qb9X-4FG_o8a"
      },
      "source": [
        "#### Exercício 3: Arredondar os números de `dist` e calcular a moda"
      ]
    },
    {
      "cell_type": "code",
      "metadata": {
        "colab": {
          "base_uri": "https://localhost:8080/"
        },
        "id": "fi_FqKa8_o8c",
        "outputId": "397d0ba3-10c2-48c0-b70c-21903b7dd31d"
      },
      "source": [
        "# List comprehension pra arredondas todos os valores em dist\n",
        "dist_arredondada = [round(x) for x in dist]\n",
        "\n",
        "# Primeiros cinco valores de dist arredondada\n",
        "print(dist_arredondada[:5])\n",
        "\n",
        "# Moda de dist arredondada\n",
        "print(f'Moda: {mode(dist_arredondada)[0]}')"
      ],
      "execution_count": 19,
      "outputs": [
        {
          "output_type": "stream",
          "text": [
            "[33, 8, 3, 7, 11]\n",
            "Moda: [7]\n"
          ],
          "name": "stdout"
        }
      ]
    },
    {
      "cell_type": "markdown",
      "metadata": {
        "id": "oKggENci_o8c"
      },
      "source": [
        "#### Exercício 4: Determinar se a `dist` é assimétrica. Caso seja; em que sentido? Por quê?"
      ]
    },
    {
      "cell_type": "code",
      "metadata": {
        "colab": {
          "base_uri": "https://localhost:8080/",
          "height": 265
        },
        "id": "vSWnHEKn_o8e",
        "outputId": "b0dbc530-513e-4917-feb1-6b4ce3aa959c"
      },
      "source": [
        "import matplotlib.pyplot as plt\n",
        "%matplotlib inline\n",
        "\n",
        "plt.hist(dist);"
      ],
      "execution_count": 23,
      "outputs": [
        {
          "output_type": "display_data",
          "data": {
            "image/png": "[encoded data removed]",
            "text/plain": [
              "<Figure size 432x288 with 1 Axes>"
            ]
          },
          "metadata": {
            "tags": [],
            "needs_background": "light"
          }
        }
      ]
    },
    {
      "cell_type": "markdown",
      "metadata": {
        "id": "KnKW3BvzCu-s"
      },
      "source": [
        "Temos uma distribuição assimétrica à esquerda. Isso nos indica que os valores de dist estão concentrados em valores menores. Nesse sentido, distâncias maiores são menos comuns nesse pequeno conjunto de dados de distância."
      ]
    },
    {
      "cell_type": "markdown",
      "metadata": {
        "id": "rwxg2t_a_o8f"
      },
      "source": [
        "#### Exercício 5: Calcular o intervalo de `dist`."
      ]
    },
    {
      "cell_type": "code",
      "metadata": {
        "colab": {
          "base_uri": "https://localhost:8080/"
        },
        "id": "114iAbGk_o8k",
        "outputId": "e741b9d1-107a-472c-967c-94620edbd42a"
      },
      "source": [
        "np.ptp(dist)"
      ],
      "execution_count": 25,
      "outputs": [
        {
          "output_type": "execute_result",
          "data": {
            "text/plain": [
              "167.0"
            ]
          },
          "metadata": {
            "tags": []
          },
          "execution_count": 25
        }
      ]
    },
    {
      "cell_type": "markdown",
      "metadata": {
        "id": "N_l4GHtc_o8m"
      },
      "source": [
        "#### Exercício 6: Calcular a variância de `dist`."
      ]
    },
    {
      "cell_type": "code",
      "metadata": {
        "colab": {
          "base_uri": "https://localhost:8080/"
        },
        "id": "GUHeZzBj_o8m",
        "outputId": "9ac2980f-c53d-4dff-c111-1232db55de2b"
      },
      "source": [
        "round(np.var(dist), 3)"
      ],
      "execution_count": 27,
      "outputs": [
        {
          "output_type": "execute_result",
          "data": {
            "text/plain": [
              "957.828"
            ]
          },
          "metadata": {
            "tags": []
          },
          "execution_count": 27
        }
      ]
    },
    {
      "cell_type": "markdown",
      "metadata": {
        "id": "rTdc0wlX_o8o"
      },
      "source": [
        "#### Exercício 7: Calcular o desvio padrão de `dist`."
      ]
    },
    {
      "cell_type": "code",
      "metadata": {
        "colab": {
          "base_uri": "https://localhost:8080/"
        },
        "id": "RwwA-ibJ_o8p",
        "outputId": "44799ac5-e484-47f9-e779-3e8d28d97049"
      },
      "source": [
        "round(np.std(dist), 2)"
      ],
      "execution_count": 30,
      "outputs": [
        {
          "output_type": "execute_result",
          "data": {
            "text/plain": [
              "30.95"
            ]
          },
          "metadata": {
            "tags": []
          },
          "execution_count": 30
        }
      ]
    },
    {
      "cell_type": "markdown",
      "metadata": {
        "id": "GvlIRY1m_o8p"
      },
      "source": [
        "#### Exercício 8: Arredondar a distribuição e calcular a moda (sem usar a função de SciPy)."
      ]
    },
    {
      "cell_type": "code",
      "metadata": {
        "id": "T7nS_J1nD5oU"
      },
      "source": [
        "def calcula_modas_de_lista(lista:list):\n",
        "  \n",
        "  \"\"\"\n",
        "  >>> lista1 = [1, 2, 2, 3]\n",
        "  >>> calcula_modas_de_lista(lista1)\n",
        "  ... [2]\n",
        "  \n",
        "  >>> lista2 = [1, 2, 3, 3, 5, 5]\n",
        "  >>> calcula_modas_de_lista(lista2)\n",
        "  ... [3, 5]\n",
        "\n",
        "  :param lista: lista com números pra realização da contagem da(s) moda(s).\n",
        "  :return: uma nova lista com valor(es) mais frequente(s) da lista passada como argumento.\n",
        "  \"\"\"\n",
        "  \n",
        "  from collections import Counter\n",
        "\n",
        "  # Função Counter calcula a frequência dos valores em estrutura de dicionário: valor:frequência \n",
        "  modas = Counter(lista).most_common()\n",
        "  \n",
        "  # Maior frequência de um valor da lista passada\n",
        "  frequencia_maxima = modas[0][1]\n",
        "  \n",
        "  # Lista que irá guardar a(s) moda(s)\n",
        "  lista_modas = []\n",
        "\n",
        "  for tupla in modas:\n",
        "    if tupla[1] == frequencia_maxima:\n",
        "      lista_modas.append(tupla[0])\n",
        "    else:\n",
        "      break\n",
        "  \n",
        "  return lista_modas"
      ],
      "execution_count": 71,
      "outputs": []
    },
    {
      "cell_type": "code",
      "metadata": {
        "colab": {
          "base_uri": "https://localhost:8080/"
        },
        "id": "WZAb6q-HFJMr",
        "outputId": "eb47d294-c29e-4363-82d1-0d7c38f89d3e"
      },
      "source": [
        "modas_de_lista(dist_arredondada)"
      ],
      "execution_count": 72,
      "outputs": [
        {
          "output_type": "execute_result",
          "data": {
            "text/plain": [
              "[7, 24, 16]"
            ]
          },
          "metadata": {
            "tags": []
          },
          "execution_count": 72
        }
      ]
    }
  ]
}