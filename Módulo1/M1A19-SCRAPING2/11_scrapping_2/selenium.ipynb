{
 "cells": [
  {
   "cell_type": "markdown",
   "metadata": {},
   "source": [
    "## Instalando e importando as bibliotecas"
   ]
  },
  {
   "cell_type": "markdown",
   "metadata": {},
   "source": [
    "```shell\n",
    "pip3 install bs4 --user\n",
    "```"
   ]
  },
  {
   "cell_type": "code",
   "execution_count": null,
   "metadata": {},
   "outputs": [],
   "source": [
    "from bs4 import BeautifulSoup\n",
    "from requests import get\n",
    "import warnings\n",
    "warnings.filterwarnings(\"ignore\")"
   ]
  },
  {
   "cell_type": "markdown",
   "metadata": {},
   "source": [
    "Agora, vamos tentar baixar a lista de vôos entre São Paulo e Rio do site Kayak. Olhando para a estrutura HTML, vemos que cada palestra, ou a linha do dataset que quero montar, é um elemento \"tr\" com a classe \"data\"\n",
    "<img src='img/kayak-inspected.png'/>"
   ]
  },
  {
   "cell_type": "markdown",
   "metadata": {},
   "source": [
    "### Vamos tentar capturar esta informação por meio do Beautiful Soup."
   ]
  },
  {
   "cell_type": "code",
   "execution_count": null,
   "metadata": {},
   "outputs": [],
   "source": [
    "# Definimos a URL\n",
    "# url = 'https://www.festivalpath.com.br/programacao/palestra?data=sabado--1-de-junho'\n",
    "url = 'https://www.kayak.com/flights/SAO-RIO/2020-12-07/2020-12-12?sort=bestflight_a'\n",
    "\n",
    "userAgents=[\n",
    "    \"Mozilla/5.0 (X11; Linux x86_64) AppleWebKit/537.36 (KHTML, like Gecko) HeadlessChrome/74.0.3729.157 Safari/537.36\",\n",
    "    \"Mozilla/5.0 (Macintosh; Intel Mac OS X 10_14_5) AppleWebKit/605.1.15 (KHTML, like Gecko) Version/12.1.1 Safari/605.1.15\"\n",
    "]"
   ]
  },
  {
   "cell_type": "code",
   "execution_count": null,
   "metadata": {},
   "outputs": [],
   "source": [
    "#capturamos a resposta que a URL nos trás\n",
    "response = get(url, headers={\"User-agent\": userAgents[1]})"
   ]
  },
  {
   "cell_type": "code",
   "execution_count": null,
   "metadata": {},
   "outputs": [],
   "source": [
    "response"
   ]
  },
  {
   "cell_type": "markdown",
   "metadata": {},
   "source": [
    "O código \"200\" na resposta do servidor, se refere a uma resposta \"OK\" (ou sem erros) <br>\n",
    "Para saber mais sobre os códigos de resposta, basta acessar este link:<br>\n",
    "https://developer.mozilla.org/pt-BR/docs/Web/HTTP/Status"
   ]
  },
  {
   "cell_type": "markdown",
   "metadata": {},
   "source": [
    "junto com o código de resposta, a minha variável também armazenou o conteúdo da resposta do servidor, que podemos acessar por meio de: \"variável.content\""
   ]
  },
  {
   "cell_type": "code",
   "execution_count": null,
   "metadata": {},
   "outputs": [],
   "source": [
    "olhadinha=700\n",
    "display(str(response.content[:olhadinha]) + '…')"
   ]
  },
  {
   "cell_type": "markdown",
   "metadata": {},
   "source": [
    "O próximo passo é passar este conteúdo para o beautiful soup organizá-lo para nós."
   ]
  },
  {
   "cell_type": "code",
   "execution_count": null,
   "metadata": {},
   "outputs": [],
   "source": [
    "parsed_content = BeautifulSoup(response.content, 'html.parser')"
   ]
  },
  {
   "cell_type": "code",
   "execution_count": null,
   "metadata": {},
   "outputs": [],
   "source": [
    "display(str(parsed_content)[:olhadinha] + '…')"
   ]
  },
  {
   "cell_type": "markdown",
   "metadata": {},
   "source": [
    "Além de mais ingeligível, o conteúdo armazenado nesta variável \"parsed_content\" se torna navegável e agora podemos pedir para ele retornar o elemento \"tr\", de classe \"data\". Correspondente às linhas do data set que quero construir"
   ]
  },
  {
   "cell_type": "code",
   "execution_count": null,
   "metadata": {},
   "outputs": [],
   "source": [
    "parsed_content.findAll('div', {'class':'Base-Results-HorizonResult'})"
   ]
  },
  {
   "cell_type": "markdown",
   "metadata": {},
   "source": [
    "A resposta que obtive foi 200, então a minha consulta não apresentou um erro.<br>\n",
    "Mas o resultado voltou vazio, algo está errado.<br>\n",
    "Posso ter errado a URL ou a referência que tentei buscar.<br>\n",
    "\n",
    "Se eu procurar no meu notebook (utilizando CTRL+F) pela string ' tr class=\"data\" ', não vou encontrar nada, então de fato parte do conteúdo acabou não retornando. Vamos voltar ao site.\n",
    "\n",
    "Se repararmos, as informações contidas na tabela demoram um pouco mais para carregar. <br>\n",
    "O que está acontecendo, é que o meu código está pegando o HTML carregado no primeiro momento apenas. No caso deste site, um javascript modifica o HTML e adiciona informações ali depois que o HTML inicial já foi carregado.\n",
    "\n",
    "Então preciso de algo que carregue a página, espere alguns segundos e apenas depois deste tempo capture as informações e as guarde em uma variável.\n",
    "\n",
    "### Para isto, vamos utilizar o Selenium\n",
    "\n",
    "instalando o selenium:\n",
    "\n",
    "```shell\n",
    "pip3 install selenium --user\n",
    "```\n",
    "\n",
    "No caso do selenium, não basta instalar a biblioteca, precisamos baixar um webdriver para ser utilizado pela biblioteca. Este webdriver vai abrir um browser e vai permitir que o código navegue na página conforme as nossas instruções.\n",
    "\n",
    "### Baixando o webdriver do Google Chrome\n",
    "\n",
    "primero passo: descubra qual é a versão do seu Chrome:\n",
    "\n",
    "Opções ➔ Ajuda ➔ Sobre o Chrome\n",
    "\n",
    "<img src='img/about-chrome.png'>\n",
    "\n",
    "Vá em http://chromedriver.chromium.org/downloads e baixe o webdriver correspondente a sua versão do Chrome."
   ]
  },
  {
   "cell_type": "markdown",
   "metadata": {},
   "source": [
    "# Usando o Selenium"
   ]
  },
  {
   "cell_type": "code",
   "execution_count": null,
   "metadata": {},
   "outputs": [],
   "source": [
    "#importamos a função webdriver da biblioteca selenium\n",
    "from selenium import webdriver"
   ]
  },
  {
   "cell_type": "markdown",
   "metadata": {},
   "source": [
    "Como o webdriver vai abrir um navegador, temos que tomar alguns cuidados. <br>\n",
    "Por exemplo: dependendo da responsividade do site, o html pode ser diferente dependendo do tamanho da janela. <br>\n",
    "Então só para garantir, vou falar para ele abrir a tela maximizada."
   ]
  },
  {
   "cell_type": "code",
   "execution_count": null,
   "metadata": {},
   "outputs": [],
   "source": [
    "options = webdriver.FirefoxOptions()\n",
    "# options = webdriver.ChromeOptions()\n",
    "# options = webdriver.SafariOptions()\n",
    "options.add_argument(\"--start-maximized\")\n",
    "# options.add_argument(\"--display=localhost:11.0\")\n",
    "# options.headless = True"
   ]
  },
  {
   "cell_type": "code",
   "execution_count": null,
   "metadata": {},
   "outputs": [],
   "source": [
    "options"
   ]
  },
  {
   "cell_type": "markdown",
   "metadata": {},
   "source": [
    "Definimos a variável driver, passando os parâmetros caminho (onde o webdriver está no meu pc) e opções (definidas no passo anterior)"
   ]
  },
  {
   "cell_type": "markdown",
   "metadata": {},
   "source": [
    "## Em Linux\n",
    "```shell\n",
    "wget \"https://github.com/mozilla/geckodriver/releases/download/v0.26.0/geckodriver-v0.26.0-linux64.tar.gz\"; tar -zxvf \"geckodriver-v0.26.0-linux64.tar.gz\"\n",
    "```\n",
    "\n",
    "## Num Mac\n",
    "```shell\n",
    "curl \"https://github.com/mozilla/geckodriver/releases/download/v0.28.0/geckodriver-v0.28.0-macos.tar.gz\" > geckodriver-v0.28.0-macos.tar.gz; tar -zxvf geckodriver-v0.28.0-macos.tar.gz\n",
    "```"
   ]
  },
  {
   "cell_type": "code",
   "execution_count": null,
   "metadata": {},
   "outputs": [],
   "source": [
    "# path = './chromedriver.exe'\n",
    "path = './geckodriver.macos'\n",
    "# path = 'safaridriver'"
   ]
  },
  {
   "cell_type": "code",
   "execution_count": null,
   "metadata": {},
   "outputs": [],
   "source": [
    "# driver = webdriver.Chrome(path, chrome_options=options)\n",
    "driver = webdriver.Firefox(executable_path=path, firefox_options=options)\n",
    "# driver = webdriver.Firefox(options=options)\n",
    "# driver = webdriver.Safari()"
   ]
  },
  {
   "cell_type": "code",
   "execution_count": null,
   "metadata": {},
   "outputs": [],
   "source": [
    "import time"
   ]
  },
  {
   "cell_type": "code",
   "execution_count": null,
   "metadata": {},
   "outputs": [],
   "source": [
    "#isto vai abrir o navegador\n",
    "# driver = webdriver.Chrome(path, chrome_options=options)\n",
    "driver = webdriver.Firefox(executable_path=path, firefox_options=options)\n",
    "#isto vai fazer o navegador abrir no endereço\n",
    "driver.get(url)\n",
    "#o camando abaixo vai fazer o navegador esperar um pouco antes de fazer qualquer coisa\n",
    "time.sleep(5)"
   ]
  },
  {
   "cell_type": "markdown",
   "metadata": {},
   "source": [
    "Para navegar pelas urls em um navegador, basta seguir o exemplo abaixo:"
   ]
  },
  {
   "cell_type": "code",
   "execution_count": null,
   "metadata": {},
   "outputs": [],
   "source": [
    "url1 = 'https://www.wikipedia.org/'\n",
    "url2 = 'https://vejasp.abril.com.br'\n",
    "url3 = 'https://br.digitalhouse.com/'"
   ]
  },
  {
   "cell_type": "code",
   "execution_count": null,
   "metadata": {},
   "outputs": [],
   "source": [
    "# driver = webdriver.Chrome(path, chrome_options=options)\n",
    "driver = webdriver.Firefox(executable_path=path, firefox_options=options)\n",
    "\n",
    "driver.get(url1)\n",
    "time.sleep(4)\n",
    "driver.get(url2)\n",
    "time.sleep(4)\n",
    "driver.get(url3)\n",
    "time.sleep(4)"
   ]
  },
  {
   "cell_type": "markdown",
   "metadata": {},
   "source": [
    "A forma de capturar o HTML é através da função driver.page_source <br>\n",
    "O código abaixo vai abrir o site, esperar as informações carregarem e capturar o HTML."
   ]
  },
  {
   "cell_type": "code",
   "execution_count": null,
   "metadata": {},
   "outputs": [],
   "source": [
    "# driver = webdriver.Chrome(path, chrome_options=options)\n",
    "driver = webdriver.Firefox(executable_path=path, firefox_options=options)\n",
    "\n",
    "\n",
    "driver.get(url)\n",
    "time.sleep(8)\n",
    "#na linha abaixo guardamos o HTML final em uma variável\n",
    "page_source = driver.page_source"
   ]
  },
  {
   "cell_type": "markdown",
   "metadata": {},
   "source": [
    "Agora com o conteúdo em mãos, podemos passar para o Beautiful Soup"
   ]
  },
  {
   "cell_type": "code",
   "execution_count": null,
   "metadata": {},
   "outputs": [],
   "source": [
    "page_source"
   ]
  },
  {
   "cell_type": "code",
   "execution_count": null,
   "metadata": {},
   "outputs": [],
   "source": [
    "parsed_content = BeautifulSoup(page_source, 'html.parser')"
   ]
  },
  {
   "cell_type": "code",
   "execution_count": null,
   "metadata": {},
   "outputs": [],
   "source": [
    "parsed_content"
   ]
  },
  {
   "cell_type": "markdown",
   "metadata": {},
   "source": [
    "Agora quando pedirmos para retornar o elemento \"tr\" de classe \"data\". Ele não virá vazio.\n"
   ]
  },
  {
   "cell_type": "code",
   "execution_count": null,
   "metadata": {},
   "outputs": [],
   "source": [
    "parsed_content.findAll('div', {'class':'Base-Results-HorizonResult'})"
   ]
  },
  {
   "cell_type": "code",
   "execution_count": null,
   "metadata": {},
   "outputs": [],
   "source": [
    "voos = parsed_content.findAll('div', {'class':'Base-Results-HorizonResult'})"
   ]
  },
  {
   "cell_type": "markdown",
   "metadata": {},
   "source": [
    "Repetimos o mesmo processo da aula anterior e primeiro aprendemos em como extrair as informações de uma única palestra:"
   ]
  },
  {
   "cell_type": "code",
   "execution_count": null,
   "metadata": {},
   "outputs": [],
   "source": [
    "voos[0]"
   ]
  },
  {
   "cell_type": "code",
   "execution_count": null,
   "metadata": {},
   "outputs": [],
   "source": [
    "primeiro_voo = voos[0]"
   ]
  },
  {
   "cell_type": "code",
   "execution_count": null,
   "metadata": {},
   "outputs": [],
   "source": [
    "primeiro_voo.findAll('div', class_=\"times\")"
   ]
  },
  {
   "cell_type": "markdown",
   "metadata": {},
   "source": [
    "Primeira saída e chegada:"
   ]
  },
  {
   "cell_type": "code",
   "execution_count": null,
   "metadata": {},
   "outputs": [],
   "source": [
    "primeiro_voo.findAll('div', class_=\"times\")[0].findAll('span', class_=\"depart-time\")[0].text, primeiro_voo.findAll('div', class_=\"times\")[0].findAll('span', class_=\"arrival-time\")[0].text"
   ]
  },
  {
   "cell_type": "markdown",
   "metadata": {},
   "source": [
    "Loop para capturar tudo:"
   ]
  },
  {
   "cell_type": "code",
   "execution_count": null,
   "metadata": {},
   "outputs": [],
   "source": [
    "horario_voos=[]\n",
    "\n",
    "for v in voos:\n",
    "    saida = v.findAll('div', class_=\"times\")[0].findAll('span', class_=\"depart-time\")[0].text\n",
    "    chegada = v.findAll('div', class_=\"times\")[0].findAll('span', class_=\"arrival-time\")[0].text\n",
    "    \n",
    "    horario_voos.append({'saida': saida, 'chegada': chegada})\n",
    "    \n",
    "horario_voos"
   ]
  },
  {
   "cell_type": "markdown",
   "metadata": {},
   "source": [
    "construindo o dataframe:"
   ]
  },
  {
   "cell_type": "code",
   "execution_count": null,
   "metadata": {},
   "outputs": [],
   "source": [
    "import pandas as pd"
   ]
  },
  {
   "cell_type": "code",
   "execution_count": null,
   "metadata": {},
   "outputs": [],
   "source": [
    "voos_df = pd.DataFrame(horario_voos)\n",
    "voos_df"
   ]
  },
  {
   "cell_type": "markdown",
   "metadata": {},
   "source": [
    "## Navegando com o Selenium"
   ]
  },
  {
   "cell_type": "code",
   "execution_count": null,
   "metadata": {},
   "outputs": [],
   "source": [
    "url = 'https://www.zapimoveis.com.br/venda/apartamentos/sp+sao-paulo+zona-oeste+pinheiros'"
   ]
  },
  {
   "cell_type": "markdown",
   "metadata": {},
   "source": [
    "Trabalhando com listas dropdown:"
   ]
  },
  {
   "cell_type": "markdown",
   "metadata": {},
   "source": [
    "Algumas vezes é mais fácil navegar pelo elementos html do que pela URL, por exemplo a forma com que a URL deste site muda não se encaixa diretamente com a opção disponível na lista dropdown:"
   ]
  },
  {
   "cell_type": "markdown",
   "metadata": {},
   "source": [
    "<img src='img/img_9.png'>"
   ]
  },
  {
   "cell_type": "markdown",
   "metadata": {},
   "source": [
    "<img src='img/img_10.png'>"
   ]
  },
  {
   "cell_type": "markdown",
   "metadata": {},
   "source": [
    "#### 1º passo:\n",
    "procuramos pelo elemento select -> <select><option>opção 1</option><option>opção 2</option><option>opção 3</option></select>"
   ]
  },
  {
   "cell_type": "markdown",
   "metadata": {},
   "source": [
    "<img src='img/img_8.png'>"
   ]
  },
  {
   "cell_type": "markdown",
   "metadata": {},
   "source": [
    "O primeiro passo é encontrar e referenciar o elemento, temos algumas formas de fazer isto: <br><br>\n",
    "find_element_by_id<br>\n",
    "find_element_by_name<br>\n",
    "find_element_by_xpath<br>\n",
    "find_element_by_link_text<br>\n",
    "find_element_by_partial_link_text<br>\n",
    "find_element_by_tag_name<br>\n",
    "find_element_by_class_name<br>\n",
    "find_element_by_css_selector<br><br>\n",
    "\n",
    "qualquer item nesta lista vai retornar o <strong>primeiro</strong> elemento que bater com a pesquisa,<br>\n",
    "ou então posso pedir para retornar a <strong>lista</strong> de elementos que se encaixa com a pesquisa:<br><br>\n",
    "\n",
    "\n",
    "find_elements_by_name<br>\n",
    "find_elements_by_xpath<br>\n",
    "find_elements_by_link_text<br>\n",
    "find_elements_by_partial_link_text<br>\n",
    "find_elements_by_tag_name<br>\n",
    "find_elements_by_class_name<br>\n",
    "find_elements_by_css_selector<br>\n"
   ]
  },
  {
   "cell_type": "code",
   "execution_count": null,
   "metadata": {},
   "outputs": [],
   "source": [
    "from selenium import webdriver\n",
    "from selenium.webdriver.support.ui import Select\n",
    "import time\n",
    "\n",
    "# driver = webdriver.Chrome('chromedrivers/Versão 75/Windows/chromedriver.exe', chrome_options=options)\n",
    "driver = webdriver.Firefox(executable_path=path, firefox_options=options)\n",
    "\n",
    "driver.get(url)\n",
    "time.sleep(15)\n",
    "\n",
    "#Podemos utilzar diferentes formas de selecionar o elemento de lista:\n",
    "\n",
    "# lista = Select(driver.find_element_by_xpath('//*[@id=\"tipoImovelNovo\"]'))\n",
    "#ou\n",
    "lista = Select(driver.find_element_by_xpath('//*[@id=\"l-select2\"]'))\n",
    "#ou\n",
    "#lista = Select(driver.find_element_by_css_selector('select.select-novo'))\n",
    "#ou\n",
    "#lista = Select(driver.find_element_by_id('tipoImovelNovo'))\n",
    "#ou\n",
    "#lista = Select(driver.find_element_by_class_name('select-novo'))\n"
   ]
  },
  {
   "cell_type": "markdown",
   "metadata": {},
   "source": [
    "### Sobre o Xpath"
   ]
  },
  {
   "cell_type": "markdown",
   "metadata": {},
   "source": [
    "No Xpath existem vários tipos de nodos: <br>\n",
    "elemento html, atributo, texto, entre outros..."
   ]
  },
  {
   "cell_type": "markdown",
   "metadata": {},
   "source": [
    "##### exemplo:"
   ]
  },
  {
   "cell_type": "markdown",
   "metadata": {},
   "source": [
    "<img src='img/img_11.png'>"
   ]
  },
  {
   "cell_type": "markdown",
   "metadata": {},
   "source": [
    "<img src='img/img_12.png'>"
   ]
  },
  {
   "cell_type": "markdown",
   "metadata": {},
   "source": [
    "#### sintaxe e exemplos:"
   ]
  },
  {
   "cell_type": "markdown",
   "metadata": {},
   "source": [
    "<img src='img/img_13.png'>"
   ]
  },
  {
   "cell_type": "markdown",
   "metadata": {},
   "source": [
    "<img src='img/img_14.png'>"
   ]
  },
  {
   "cell_type": "markdown",
   "metadata": {},
   "source": [
    "<img src='img/img_15.png'>"
   ]
  },
  {
   "cell_type": "markdown",
   "metadata": {},
   "source": [
    "Para ver mais: https://www.w3schools.com/xml/xpath_syntax.asp"
   ]
  },
  {
   "cell_type": "markdown",
   "metadata": {},
   "source": [
    "Uma maneira fácil de descobrir o xpath:"
   ]
  },
  {
   "cell_type": "markdown",
   "metadata": {},
   "source": [
    "<img src='img/img_16.png'>"
   ]
  },
  {
   "cell_type": "code",
   "execution_count": null,
   "metadata": {},
   "outputs": [],
   "source": [
    "for item in lista.options:\n",
    "    print(item.text)"
   ]
  },
  {
   "cell_type": "code",
   "execution_count": null,
   "metadata": {},
   "outputs": [],
   "source": [
    "# driver = webdriver.Chrome(path, chrome_options=options)\n",
    "driver = webdriver.Firefox(executable_path=path, firefox_options=options)\n",
    "\n",
    "\n",
    "driver.get(url)\n",
    "time.sleep(15)\n",
    "\n",
    "lista = Select(driver.find_element_by_xpath('//*[@id=\"l-select2\"]'))\n",
    "\n",
    "\n",
    "#maneiras diferentes de navegar pela lista:\n",
    "#index\n",
    "lista.select_by_index(2)\n",
    "time.sleep(5)\n",
    "#texto visível (de fato o que aparece ali)\n",
    "lista.select_by_visible_text('Casa de Condomínio')\n",
    "#pelo valor atribuído àquela opção (dispinível no html)\n",
    "# time.sleep(5)\n",
    "# lista.select_by_value('apartamento-padrao')"
   ]
  },
  {
   "cell_type": "markdown",
   "metadata": {},
   "source": [
    "Outra maneira de navegar:"
   ]
  },
  {
   "cell_type": "code",
   "execution_count": null,
   "metadata": {},
   "outputs": [],
   "source": [
    "l = ['Casa de Condomínio','Flat','Cobertura', 'Loft']\n",
    "\n",
    "# driver = webdriver.Chrome(path, chrome_options=options)\n",
    "driver = webdriver.Firefox(executable_path=path, firefox_options=options)\n",
    "\n",
    "\n",
    "driver.get(url)\n",
    "time.sleep(8)\n",
    "\n",
    "lista = Select(driver.find_element_by_xpath('//*[@id=\"l-select2\"]'))\n",
    "\n",
    "for item in l:\n",
    "    lista.select_by_visible_text(item)\n",
    "    time.sleep(3)"
   ]
  },
  {
   "cell_type": "markdown",
   "metadata": {},
   "source": [
    "Navegando e captando os dados da págna:"
   ]
  },
  {
   "cell_type": "code",
   "execution_count": null,
   "metadata": {},
   "outputs": [],
   "source": [
    "# driver = webdriver.Chrome(path, chrome_options=options)\n",
    "driver = webdriver.Firefox(executable_path=path, firefox_options=options)\n",
    "\n",
    "\n",
    "driver.get(url)\n",
    "time.sleep(15)\n",
    "\n",
    "Select(driver.find_element_by_xpath('//*[@id=\"l-select2\"]')).select_by_visible_text('Flat')\n",
    "\n",
    "time.sleep(5)\n",
    "\n",
    "page_source = driver.page_source"
   ]
  },
  {
   "cell_type": "code",
   "execution_count": null,
   "metadata": {},
   "outputs": [],
   "source": [
    "parsed_content = BeautifulSoup(page_source, 'html.parser')\n",
    "parsed_content"
   ]
  },
  {
   "cell_type": "code",
   "execution_count": null,
   "metadata": {},
   "outputs": [],
   "source": [
    "parsed_content.find(\"div\", {'class':'card-container'})"
   ]
  },
  {
   "cell_type": "code",
   "execution_count": null,
   "metadata": {},
   "outputs": [],
   "source": [
    "parsed_content.find(\"div\", {'class':'card-container'}).findAll('div', class_='simple-card__description')"
   ]
  },
  {
   "cell_type": "code",
   "execution_count": null,
   "metadata": {},
   "outputs": [],
   "source": [
    "# driver = webdriver.Chrome(path, chrome_options=options)\n",
    "driver = webdriver.Firefox(executable_path=path, firefox_options=options)\n",
    "\n",
    "\n",
    "driver.get(url)\n",
    "time.sleep(15)"
   ]
  },
  {
   "cell_type": "code",
   "execution_count": null,
   "metadata": {},
   "outputs": [],
   "source": [
    "quartos=driver.find_elements_by_css_selector('li.js-bedrooms')"
   ]
  },
  {
   "cell_type": "code",
   "execution_count": null,
   "metadata": {},
   "outputs": [],
   "source": [
    "quartos[0].text"
   ]
  },
  {
   "cell_type": "code",
   "execution_count": null,
   "metadata": {},
   "outputs": [],
   "source": [
    "quartos[2].text"
   ]
  },
  {
   "cell_type": "code",
   "execution_count": null,
   "metadata": {},
   "outputs": [],
   "source": [
    "for q in quartos:\n",
    "    v=q.text\n",
    "    if v=='3':\n",
    "        b=q\n",
    "\n",
    "b.click()"
   ]
  },
  {
   "cell_type": "markdown",
   "metadata": {},
   "source": [
    "## Daqui para baixo o conteúdo mudou de forma que o código não funciona mais"
   ]
  },
  {
   "cell_type": "code",
   "execution_count": null,
   "metadata": {},
   "outputs": [],
   "source": [
    "botoes = parsed_content.find(\"div\", {'class':'card-container'}).findAll('button')"
   ]
  },
  {
   "cell_type": "code",
   "execution_count": null,
   "metadata": {},
   "outputs": [],
   "source": [
    "btns = []\n",
    "for btn in botoes:\n",
    "    item = btn.get('value')\n",
    "    btns.append(item)"
   ]
  },
  {
   "cell_type": "code",
   "execution_count": null,
   "metadata": {},
   "outputs": [],
   "source": [
    "btns"
   ]
  },
  {
   "cell_type": "code",
   "execution_count": null,
   "metadata": {},
   "outputs": [],
   "source": [
    "slc = parsed_content.find(\"div\", {'class':'card-container'}).find('button', {'class':'button active'}).get('value')\n",
    "slc"
   ]
  },
  {
   "cell_type": "code",
   "execution_count": null,
   "metadata": {},
   "outputs": [],
   "source": [
    "btns.remove(slc)"
   ]
  },
  {
   "cell_type": "code",
   "execution_count": null,
   "metadata": {},
   "outputs": [],
   "source": [
    "btns"
   ]
  },
  {
   "cell_type": "code",
   "execution_count": null,
   "metadata": {},
   "outputs": [],
   "source": [
    "# driver = webdriver.Chrome(path, chrome_options=options)\n",
    "driver = webdriver.Firefox(executable_path=path, firefox_options=options)\n",
    "\n",
    "\n",
    "driver.get(url)\n",
    "time.sleep(2)\n",
    "\n",
    "for n in btns:\n",
    "    driver.find_element_by_xpath(\"//button[@value='\" + n + \"']\").click()\n",
    "    time.sleep(5)"
   ]
  },
  {
   "cell_type": "code",
   "execution_count": null,
   "metadata": {},
   "outputs": [],
   "source": [
    "bairros = ['pinheiros','perdizes']"
   ]
  },
  {
   "cell_type": "code",
   "execution_count": null,
   "metadata": {},
   "outputs": [],
   "source": [
    "url = 'https://www.zapimoveis.com.br/venda/apartamentos/sp+sao-paulo+zona-sul+moema/'"
   ]
  },
  {
   "cell_type": "code",
   "execution_count": null,
   "metadata": {},
   "outputs": [],
   "source": [
    "from selenium.webdriver.common.keys import Keys\n",
    "\n",
    "driver = webdriver.Chrome(path, chrome_options=options)\n",
    "driver.get(url)\n",
    "time.sleep(2)\n",
    "\n",
    "for n in bairros:\n",
    "    busca = driver.find_element_by_id('location')\n",
    "    busca.send_keys(n)\n",
    "    busca.send_keys(Keys.RETURN)\n",
    "    time.sleep(5)\n",
    "    \n",
    "busca.send_keys('escrevi algo errado')\n",
    "time.sleeo(5)\n",
    "busca.clear()"
   ]
  },
  {
   "cell_type": "markdown",
   "metadata": {},
   "source": [
    "Compilando tudo o que vimos até aqui: "
   ]
  },
  {
   "cell_type": "code",
   "execution_count": null,
   "metadata": {},
   "outputs": [],
   "source": [
    "url = 'https://www.zapimoveis.com.br/venda/apartamentos'\n",
    "\n",
    "driver = webdriver.Chrome(path, chrome_options=options)\n",
    "driver.get(url)\n",
    "time.sleep(5)\n",
    "\n",
    "lista = Select(driver.find_element_by_xpath('//*[@id=\"tipoImovelNovo\"]'))\n",
    "lista.select_by_index(5)\n",
    "time.sleep(5)\n",
    "lista.select_by_visible_text('Casa de Condomínio')\n",
    "time.sleep(5)\n",
    "lista.select_by_value('apartamento-padrao')\n",
    "time.sleep(5)\n",
    "\n",
    "l = ['Casa de Condomínio','Flat','Cobertura']\n",
    "\n",
    "for item in l:\n",
    "    lista.select_by_visible_text(item)\n",
    "    time.sleep(5)\n",
    "    \n",
    "page_source = driver.page_source\n",
    "\n",
    "parsed_content = BeautifulSoup(page_source, 'html.parser')\n",
    "\n",
    "botoes = parsed_content.find(\"div\", {'id':'divTransacao'}).findAll('button')\n",
    "\n",
    "btns = []\n",
    "for btn in botoes:\n",
    "    item = btn.get('value')\n",
    "    btns.append(item)\n",
    "    \n",
    "slc = parsed_content.find(\"div\", {'id':'divTransacao'}).find('button', {'class':'button active'}).get('value')\n",
    "\n",
    "btns.remove(slc)\n",
    "\n",
    "for n in btns:\n",
    "    driver.find_element_by_xpath(\"//button[@value='\" + n + \"']\").click()\n",
    "    time.sleep(5)\n",
    "    \n",
    "bairros = ['pinheiros','moema']\n",
    "\n",
    "for n in bairros:\n",
    "    busca = driver.find_element_by_id('location')\n",
    "    busca.send_keys(n)\n",
    "    busca.send_keys(Keys.RETURN)\n",
    "    time.sleep(5)\n",
    "    \n",
    "busca.send_keys('escrevi algo errado')\n",
    "time.sleeo(5)\n",
    "busca.clear()"
   ]
  },
  {
   "cell_type": "code",
   "execution_count": null,
   "metadata": {},
   "outputs": [],
   "source": [
    "url = 'http://www.ipea.gov.br/ipeageo/bases.html'"
   ]
  },
  {
   "cell_type": "code",
   "execution_count": null,
   "metadata": {},
   "outputs": [],
   "source": [
    "conteudo = get(url).content"
   ]
  },
  {
   "cell_type": "code",
   "execution_count": null,
   "metadata": {},
   "outputs": [],
   "source": [
    "parsed_content = BeautifulSoup(conteudo, 'html.parser')"
   ]
  },
  {
   "cell_type": "code",
   "execution_count": null,
   "metadata": {},
   "outputs": [],
   "source": [
    "links = parsed_content.find('div', {'id':'editavel'}).find_all('li')"
   ]
  },
  {
   "cell_type": "code",
   "execution_count": null,
   "metadata": {},
   "outputs": [],
   "source": [
    "links_download = []\n",
    "for link in links:\n",
    "    if link.find('a') is not None:    \n",
    "        #l = link.a.get('href')\n",
    "        l = link.a.text.strip()\n",
    "        links_download.append(l)"
   ]
  },
  {
   "cell_type": "code",
   "execution_count": null,
   "metadata": {},
   "outputs": [],
   "source": [
    "links_download[:2]"
   ]
  },
  {
   "cell_type": "code",
   "execution_count": null,
   "metadata": {},
   "outputs": [],
   "source": [
    "prefs = {\"download.default_directory\" : r\"C:\\Users\\victo\\Desktop\\Python\\Selenium\\Repositorio\"}\n",
    "options.add_experimental_option(\"prefs\",prefs)\n",
    "\n",
    "driver = webdriver.Chrome(path, chrome_options=options)\n",
    "driver.get(url)\n",
    "time.sleep(5)\n",
    "\n",
    "for link in links_download[:2]:\n",
    "    driver.find_element_by_link_text(link).click()"
   ]
  },
  {
   "cell_type": "code",
   "execution_count": null,
   "metadata": {},
   "outputs": [],
   "source": [
    "import os\n",
    "\n",
    "path = r\"C:\\Users\\victo\\Desktop\\Python\\Selenium\\Repositorio\"\n",
    "\n",
    "files = []\n",
    "# r=root, d=directories, f = files\n",
    "for r, d, f in os.walk(path):\n",
    "    for file in f:\n",
    "        if '.xls' in file:\n",
    "            files.append(os.path.join(r, file))\n",
    "\n",
    "for f in files:\n",
    "    print(f)\n"
   ]
  },
  {
   "cell_type": "code",
   "execution_count": null,
   "metadata": {},
   "outputs": [],
   "source": [
    "import pandas as pd"
   ]
  },
  {
   "cell_type": "code",
   "execution_count": null,
   "metadata": {},
   "outputs": [],
   "source": [
    "pd.read_excel(files[0])"
   ]
  }
 ],
 "metadata": {
  "kernelspec": {
   "display_name": "Python 3",
   "language": "python",
   "name": "python3"
  },
  "language_info": {
   "codemirror_mode": {
    "name": "ipython",
    "version": 3
   },
   "file_extension": ".py",
   "mimetype": "text/x-python",
   "name": "python",
   "nbconvert_exporter": "python",
   "pygments_lexer": "ipython3",
   "version": "3.7.3"
  }
 },
 "nbformat": 4,
 "nbformat_minor": 4
}
