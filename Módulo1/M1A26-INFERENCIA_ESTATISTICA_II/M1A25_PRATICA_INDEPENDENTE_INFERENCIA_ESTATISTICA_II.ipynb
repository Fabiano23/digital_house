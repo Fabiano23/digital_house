{
  "nbformat": 4,
  "nbformat_minor": 0,
  "metadata": {
    "kernelspec": {
      "display_name": "Python 3",
      "language": "python",
      "name": "python3"
    },
    "language_info": {
      "codemirror_mode": {
        "name": "ipython",
        "version": 3
      },
      "file_extension": ".py",
      "mimetype": "text/x-python",
      "name": "python",
      "nbconvert_exporter": "python",
      "pygments_lexer": "ipython3",
      "version": "3.7.6"
    },
    "colab": {
      "name": "M1A25-PRATICA_INDEPENDENTE_INFERENCIA_ESTATISTICA_II.ipynb",
      "provenance": [],
      "collapsed_sections": [
        "GDdkrqWdnTdQ",
        "pCf0lL9FnTdU",
        "VQqnB6epnTdV",
        "KlKVnKnRnTdW",
        "C8aGtpisnTdY"
      ]
    }
  },
  "cells": [
    {
      "cell_type": "markdown",
      "metadata": {
        "id": "aP9C1ONsnTdD"
      },
      "source": [
        "# Prática Independente - Inferência Estatística II."
      ]
    },
    {
      "cell_type": "code",
      "metadata": {
        "id": "zdnMy3s3nTdR"
      },
      "source": [
        "import pandas as pd\n",
        "import numpy as np\n",
        "import seaborn as sns\n",
        "import matplotlib.pyplot as plt\n",
        "\n",
        "#Standard size of figures on this notebook\n",
        "plt.rcParams['figure.figsize'] = [10, 6]\n",
        "plt.rcParams['figure.dpi'] = 100"
      ],
      "execution_count": null,
      "outputs": []
    },
    {
      "cell_type": "markdown",
      "metadata": {
        "id": "GDdkrqWdnTdQ"
      },
      "source": [
        "#### Exercício 1 - Use as bilbiotecas `Pandas`e `Numpy` para gerar distribuições aleatórias normais, aplique o método [`np.random.binomial()`](https://numpy.org/doc/stable/reference/random/generated/numpy.random.binomial.html) para estudar a distribuição com um número de tentativas `n` e uma probabilidade de ocorrência `p`."
      ]
    },
    {
      "cell_type": "code",
      "metadata": {
        "colab": {
          "base_uri": "https://localhost:8080/",
          "height": 265
        },
        "id": "0UOVt7ZonTdS",
        "outputId": "0ff0fd77-25e5-4ad9-df88-0dada9796319"
      },
      "source": [
        "#Com numpy\n",
        "np.random.seed(1)\n",
        "\n",
        "media, desvio_padrao = 0, 1\n",
        "x = np.random.normal(media, desvio_padrao, 1000)\n",
        "sns.histplot(x, kde= True);"
      ],
      "execution_count": null,
      "outputs": [
        {
          "output_type": "display_data",
          "data": {
            "image/png": "[encoded data removed]",
            "text/plain": [
              "<Figure size 432x288 with 1 Axes>"
            ]
          },
          "metadata": {
            "tags": [],
            "needs_background": "light"
          }
        }
      ]
    },
    {
      "cell_type": "code",
      "metadata": {
        "colab": {
          "base_uri": "https://localhost:8080/",
          "height": 265
        },
        "id": "zaNY_oV9zHGt",
        "outputId": "f00f216c-fc6c-49a4-f222-6ecc784997a1"
      },
      "source": [
        "#Com pandas\n",
        "s = pd.Series([1, 2, 2.5, 3, 3.5, 4, 5])\n",
        "ax = s.plot.kde()"
      ],
      "execution_count": null,
      "outputs": [
        {
          "output_type": "display_data",
          "data": {
            "image/png": "[encoded data removed]",
            "text/plain": [
              "<Figure size 432x288 with 1 Axes>"
            ]
          },
          "metadata": {
            "tags": [],
            "needs_background": "light"
          }
        }
      ]
    },
    {
      "cell_type": "markdown",
      "metadata": {
        "id": "fzo_j6RrHE3a"
      },
      "source": [
        "Vamos medir a probabilidade de tirar 3 caras em cada 10 lançamentos de uma moeda justa a partir do cálculo de 1000 amostras"
      ]
    },
    {
      "cell_type": "code",
      "metadata": {
        "colab": {
          "base_uri": "https://localhost:8080/"
        },
        "id": "T9dWAMy6zbcw",
        "outputId": "32b64f7e-3bfb-4ab6-ed39-a629d2c7434a"
      },
      "source": [
        "np.random.seed(2)\n",
        "n = 10 # tamanho de cada amostra\n",
        "p = 0.5 #temos 50% de probabilidade de tirar cara em cada lançamento\n",
        "totais_amostras = 1000\n",
        "\n",
        "prob_3 = sum([1 for i in np.random.binomial(n, p, size=totais_amostras) if i==3]) / totais_amostras\n",
        "prob_3 = round(prob_3 * 100, 2)\n",
        "print('A probabilidade de 3 caras a cada 10 lançamentos é de: ' + str(prob_3) + '%')"
      ],
      "execution_count": null,
      "outputs": [
        {
          "output_type": "stream",
          "text": [
            "A probabilidade de 3 caras a cada 10 lançamentos é de: 11.6%\n"
          ],
          "name": "stdout"
        }
      ]
    },
    {
      "cell_type": "markdown",
      "metadata": {
        "id": "pCf0lL9FnTdU"
      },
      "source": [
        "#### Exercício 2 - Considere a chance de um tornado ocorrer em meio a uma tempestade como sendo `chance_of_tornado` = $0.01/100$, quantos tornados esperamos que ocorram em $1000000$ tempestades?"
      ]
    },
    {
      "cell_type": "code",
      "metadata": {
        "colab": {
          "base_uri": "https://localhost:8080/"
        },
        "id": "pmyn1TmwnTdU",
        "outputId": "c1e33803-4dd8-4328-d66d-c8ebcd4b53f4"
      },
      "source": [
        "np.random.seed(3)\n",
        "\n",
        "n = 100 # Tempestades\n",
        "p = 0.01 # Probabilidade de tornado a cada tempestade\n",
        "\n",
        "s = np.random.binomial(n, p, 1000000) #Gerando distribuição binomial aleatória se houve ou não tornado a cada 100 tempestades\n",
        "totais_de_tornados_ocorridos = sum(s) #Somando a quantidade de tornados \"ocorridos\"\n",
        "\n",
        "print(f'Em 1000000 (um milhão) de tempestades esperamos que ocorra por volta de : {totais_de_tornados_ocorridos} tornados.')"
      ],
      "execution_count": null,
      "outputs": [
        {
          "output_type": "stream",
          "text": [
            "Em 1000000 (um milhão) de tempestades esperamos que ocorra por volta de : 1001332 tornados.\n"
          ],
          "name": "stdout"
        }
      ]
    },
    {
      "cell_type": "markdown",
      "metadata": {
        "id": "VQqnB6epnTdV"
      },
      "source": [
        "#### Exercício 3 - Imagine agora que queremos calcular o número de casos em que dois tornados ocorrem em dois dias consecutivos, aplique o método `np.random.binomial` para calcular o número de eventos de sucesso sob essa condição."
      ]
    },
    {
      "cell_type": "code",
      "metadata": {
        "colab": {
          "base_uri": "https://localhost:8080/"
        },
        "id": "ECbNyuNwnTdW",
        "outputId": "7b63f3b4-bac7-4739-a333-81a177849860"
      },
      "source": [
        "np.random.seed(4)\n",
        "n = 1 # amostra (cada dia)\n",
        "p = 0.01 # Probabilidade de tornado a cada dia (supondo que seja 1% de chance a cada dia)\n",
        "\n",
        "s = np.random.binomial(n, p, 365) #Gerando distribuição binomial aleatória se houve ou não tornado em um ano\n",
        "\n",
        "sucesso = 0\n",
        "\n",
        "for i in range (len(s)):\n",
        "  dia_atual = s[i]\n",
        "  dia_anterior = s[i -1]\n",
        "  if dia_atual == 2 and dia_anterior == 2:\n",
        "    sucesso += 1\n",
        "  \n",
        "print(f'Total de dois tornados ocorridos em dois dias consecultivos: {sucesso}')\n"
      ],
      "execution_count": null,
      "outputs": [
        {
          "output_type": "stream",
          "text": [
            "Total de dois tornados ocorridos em dois dias consecultivos: 0\n"
          ],
          "name": "stdout"
        }
      ]
    },
    {
      "cell_type": "markdown",
      "metadata": {
        "id": "KlKVnKnRnTdW"
      },
      "source": [
        "#### Exercício 4 - Estude as distribuições uniformes com o auxílio do método [`np.random.uniform()`](https://numpy.org/doc/stable/reference/random/generated/numpy.random.uniform.html) para uma distribuição limitada pelo intervalo `[0, 1]` e $100$ observaçoes. Estude também a distribuição normal, com o método [`np.random.normal()`](https://numpy.org/doc/stable/reference/random/generated/numpy.random.normal.html), com média em $0.75$, desvio padrão de $1$ e também $100$ observações."
      ]
    },
    {
      "cell_type": "code",
      "metadata": {
        "id": "sNn7IzutnTdX",
        "colab": {
          "base_uri": "https://localhost:8080/",
          "height": 265
        },
        "outputId": "46031dca-e749-42f5-ff81-4ae28fed338d"
      },
      "source": [
        "np.random.seed(5)\n",
        "distribuicao_uniforme = np.random.uniform(low=0, high=1, size=100)\n",
        "sns.histplot(distribuicao_uniforme, kde= True);"
      ],
      "execution_count": null,
      "outputs": [
        {
          "output_type": "display_data",
          "data": {
            "image/png": "[encoded data removed]",
            "text/plain": [
              "<Figure size 432x288 with 1 Axes>"
            ]
          },
          "metadata": {
            "tags": [],
            "needs_background": "light"
          }
        }
      ]
    },
    {
      "cell_type": "markdown",
      "metadata": {
        "id": "r71DcUB_gwZz"
      },
      "source": [
        "Podemos perceber que a ocorrência dos valores são similares numa distribuição uniforme. Nesse sentido, a probabilidade de selecionar aleatoriamente um valor desta distribuição é muito próxima de qualquer valor presente na distribuição."
      ]
    },
    {
      "cell_type": "code",
      "metadata": {
        "id": "WjDw9dSjnTdX",
        "colab": {
          "base_uri": "https://localhost:8080/",
          "height": 268
        },
        "outputId": "4e2c505a-6b31-41f8-df8a-825d4abbf434"
      },
      "source": [
        "np.random.seed(3)\n",
        "distribuicao_normal = np.random.normal(loc=0.75, scale=1, size=100)\n",
        "sns.histplot(distribuicao_normal, kde= True);"
      ],
      "execution_count": null,
      "outputs": [
        {
          "output_type": "display_data",
          "data": {
            "image/png": "[encoded data removed]",
            "text/plain": [
              "<Figure size 432x288 with 1 Axes>"
            ]
          },
          "metadata": {
            "tags": [],
            "needs_background": "light"
          }
        }
      ]
    },
    {
      "cell_type": "markdown",
      "metadata": {
        "id": "7ae2N4m8hk0J"
      },
      "source": [
        "Na distribuição normal, por sua vez, temos uma concentração maior dos valores até dois desvios padrão abaixo e acima da media (cerca de 95% dos dados). Nesse sentido, possuímos \"bordas\" na distribuição que são compostas por valores mais incomuns presentes nela."
      ]
    },
    {
      "cell_type": "markdown",
      "metadata": {
        "id": "C8aGtpisnTdY"
      },
      "source": [
        "#### Exercício 5 - Considerando a Fórmula para o desvio padrão a seguir, calcule o valor para a distribuição normal do exercício 4.\n",
        "$$\n",
        "\\sqrt{\\frac{1}{N} \\sum_{i=1}^N (x_i - \\overline{x})^2}\n",
        "$$\n",
        "\n",
        "#### Compare o valor encontrado com aquele gerado pelo método [`np.std()`](https://numpy.org/doc/stable/reference/generated/numpy.std.html)."
      ]
    },
    {
      "cell_type": "code",
      "metadata": {
        "id": "z2ZtsuhanTdY"
      },
      "source": [
        "def standard_deviation(distribution):\n",
        "  \n",
        "  \"\"\"Calculate the standard deviation of any population distribution\n",
        "  \"\"\"\n",
        "\n",
        "  from math import sqrt\n",
        "\n",
        "  mean = np.mean(distribution) # distribution mean\n",
        "\n",
        "  deviations = [] #list that will store deviation for each data point to the mean\n",
        "\n",
        "  for x in distribution:\n",
        "    \n",
        "    squared_deviation = pow(x - mean, 2) # deviation of a data point\n",
        "    \n",
        "    deviations.append(squared_deviation) \n",
        "\n",
        "  sum_of_squared_deviations = sum(deviations) / len(deviations) # Sum of every data point deviation from the mean\n",
        "  \n",
        "  standard_deviation = sqrt(sum_of_squared_deviations) # standard deviation of the sample distribution\n",
        "\n",
        "  return standard_deviation"
      ],
      "execution_count": null,
      "outputs": []
    },
    {
      "cell_type": "code",
      "metadata": {
        "colab": {
          "base_uri": "https://localhost:8080/"
        },
        "id": "eWZprxAqjute",
        "outputId": "b7bd8834-6ed1-4933-adcd-9f079c9e7367"
      },
      "source": [
        "print(f'Desvio padrão de função feita \"à mão\": {standard_deviation(distribuicao_normal)}')\n",
        "print(f'Desvio padrão com função do numpy: {np.std(distribuicao_normal)}')"
      ],
      "execution_count": null,
      "outputs": [
        {
          "output_type": "stream",
          "text": [
            "Desvio padrão de função feita \"à mão\": 0.9668617247280397\n",
            "Desvio padrão com função do numpy: 0.9668617247280397\n"
          ],
          "name": "stdout"
        }
      ]
    },
    {
      "cell_type": "markdown",
      "metadata": {
        "id": "bLKLynuXnYkS"
      },
      "source": [
        "As duas funções trouxeram valores iguais. É importante ressaltar que utilizamos a fórmula de desvio padrão que usualmente é utilizada para uma distribuição de população, isto é, quando você possui dados de todos os \"indivíduos\" que serão abordados em seu estudo. Para desvio padrão de uma amostra necessitamos somente subtrair 1 de n na função e teríamos, com isso, o desvio padrão amostral."
      ]
    },
    {
      "cell_type": "markdown",
      "metadata": {
        "id": "kR1BvizenTdZ"
      },
      "source": [
        "#### Exercício 6 - Utilize o método [`stats.kurtosis()`](https://docs.scipy.org/doc/scipy/reference/generated/scipy.stats.kurtosis.html) para estudar a curtose ([Kurtosis](https://en.wikipedia.org/wiki/Kurtosis)) e o método [`stats.skew()`](https://docs.scipy.org/doc/scipy/reference/generated/scipy.stats.skew.html)para estudar a assimetria ([Skewness](https://en.wikipedia.org/wiki/Skewness)), da distribuição criada no exercício 5."
      ]
    },
    {
      "cell_type": "markdown",
      "metadata": {
        "id": "u9kiFv14pTYX"
      },
      "source": [
        "Kurtosis:\n",
        "\n",
        "\"The kurtosis of any univariate normal distribution is 3. It is common to compare the kurtosis of a distribution to this value. Distributions with kurtosis less than 3 are said to be platykurtic, although this does not imply the distribution is \"flat-topped\" as is sometimes stated. Rather, it means the distribution produces fewer and less extreme outliers than does the normal distribution. An example of a platykurtic distribution is the uniform distribution, which does not produce outliers. \n",
        "\n",
        "Distributions with kurtosis greater than 3 are said to be leptokurtic. An example of a leptokurtic distribution is the Laplace distribution, which has tails that asymptotically approach zero more slowly than a Gaussian, and therefore produces more outliers than the normal distribution. It is also common practice to use an adjusted version of Pearson's kurtosis, the excess kurtosis, which is the kurtosis minus 3, to provide the comparison to the standard normal distribution.\" [Wikipedia](https://en.wikipedia.org/wiki/Kurtosis)"
      ]
    },
    {
      "cell_type": "code",
      "metadata": {
        "id": "Ap4lmGsPnTda",
        "colab": {
          "base_uri": "https://localhost:8080/"
        },
        "outputId": "54d12080-a283-4c96-9393-008b8fc62dd2"
      },
      "source": [
        "# Vamos medir a kurtosis das distribuições normal e uniforme geradas no exercício 4 pra saber o nível de outliers que elas possuem\n",
        "from scipy.stats import kurtosis\n",
        "\n",
        "print(f'Nível de outliers na distribuição normal: {kurtosis(distribuicao_normal, fisher= False):.2}')\n",
        "print(f'Nível de outliers na distribuição uniforme: {kurtosis(distribuicao_uniforme,fisher= False):.2}')"
      ],
      "execution_count": null,
      "outputs": [
        {
          "output_type": "stream",
          "text": [
            "Nível de outliers na distribuição normal: 2.6\n",
            "Nível de outliers na distribuição uniforme: 1.7\n"
          ],
          "name": "stdout"
        }
      ]
    },
    {
      "cell_type": "markdown",
      "metadata": {
        "id": "VQjbrMPxrx2j"
      },
      "source": [
        "O resultado faz sentido já que a distribuição uniforme, como mencionado, possui um maior equílibrio na ocorrência dos valores. Ao passo que as distribuições normais possuem \"caldas\" compostas pelos outliers. \n",
        "\n",
        "O nível de kurtosis da distribuição normal menor que 3 também nos indica uma distribuição não tão ajustada, o que não significa que ela não seja uma distribuição normal. \n",
        "\n",
        "Nesse caso geramos uma distribuição normal com o numpy, mas se estivéssemos trabalhando com dados reais necessitaríamos aplicar testes de normalidade em nossa distribuição visando à sua interpretação e a melhor escolha do modelo de aprendizado de máquina para utilizá-los."
      ]
    },
    {
      "cell_type": "code",
      "metadata": {
        "id": "lct8UnEbnTda",
        "colab": {
          "base_uri": "https://localhost:8080/"
        },
        "outputId": "0b0215a8-625d-4389-f677-b502f5d457cd"
      },
      "source": [
        "#Vamos agora medir o nível de distorção da nossa distribuição normal\n",
        "from scipy.stats import skew\n",
        "\n",
        "print(f'Nível de distorção na distribuição normal: {skew(distribuicao_normal):.2}')"
      ],
      "execution_count": null,
      "outputs": [
        {
          "output_type": "stream",
          "text": [
            "Nível de distorção na distribuição normal: -0.0049\n"
          ],
          "name": "stdout"
        }
      ]
    },
    {
      "cell_type": "markdown",
      "metadata": {
        "id": "eZcGcY9kxa_x"
      },
      "source": [
        "Temos um valor bem próximo de zero, o que nos daria um forte indício (sem o recurso do gráfico) das possíveis distribuições de nossos dados (tendo em vista que existem outras distribuições com baixa distorção tal como a normal). "
      ]
    },
    {
      "cell_type": "markdown",
      "metadata": {
        "id": "8Z3IugVmnTdb"
      },
      "source": [
        "#### Exercício 7 - Aplique o método ([`np.random.chisquare()`](https://numpy.org/doc/stable/reference/random/generated/numpy.random.chisquare.html)) e calcule uma distribuição $\\chi^{2}$ aleatória, com $2$ graus de liberdade e $10000$ observações. Em seguida estude a simetria de tal distribuição. Em seguida reproduza o mesmo exercício com $5$ graus de liberdade. Em seguida plote e compare as duas distribuições."
      ]
    },
    {
      "cell_type": "code",
      "metadata": {
        "colab": {
          "base_uri": "https://localhost:8080/",
          "height": 555
        },
        "id": "uoZ8gSZdMMQs",
        "outputId": "e3112213-2b2d-4ffd-a280-c6f575f22d8d"
      },
      "source": [
        "degrees_of_freedom = [2, 5, 8, 11]\n",
        "\n",
        "for df in degrees_of_freedom:\n",
        "  chisquare_distribution = np.random.chisquare(df, 10000)\n",
        "  sns.kdeplot(chisquare_distribution)\n",
        "  \n",
        "plt.title('Chisquared distributions for different degrees of freedom')\n",
        "plt.xlabel('Data Points')\n",
        "plt.legend(('2 degrees of freedom', '5 degrees of freedom', \n",
        "            '8 degrees of freedom', '11 degrees of freedom'), loc= 'best');"
      ],
      "execution_count": 9,
      "outputs": [
        {
          "output_type": "display_data",
          "data": {
            "image/png": "[encoded data removed]",
            "text/plain": [
              "<Figure size 1000x600 with 1 Axes>"
            ]
          },
          "metadata": {
            "tags": [],
            "needs_background": "light"
          }
        }
      ]
    },
    {
      "cell_type": "markdown",
      "metadata": {
        "id": "5At7Z_2NIWpt"
      },
      "source": [
        "Graus de liberdade: pedaços de informação (dados) que nós temos para estimar (estamos trabalhando com amostras) parametros reais da população.\n",
        "\n",
        "Podemos perceber que conforme aumentamos os graus de liberdade da distribuição ela vai adquirindo um formato mais equilibrado entre as observações, e na situação inversa ela se concentra como uma distribuição enviesada à direita. Tendo em vista que quando aumentamos o grau de liberdade estamos aumentando as informações que temos da população, parece fazer sentido que quanto maior o grau de liberdade, mais equilibrada (esparsa) a nossa distribuição vai ficando."
      ]
    },
    {
      "cell_type": "markdown",
      "metadata": {
        "id": "bJzu_aNPRCXb"
      },
      "source": [
        "[Degrees of Freedom in Statistics](https://statisticsbyjim.com/hypothesis-testing/degrees-freedom-statistics/)"
      ]
    },
    {
      "cell_type": "markdown",
      "metadata": {
        "id": "qF4uEVi1nTdd"
      },
      "source": [
        "#### Exercício 8 - Faça a leitura do arquivo `'grades.csv'` com notas e datas de submissão de tarefas. Separe a base de dados entre aquelas em que a submissão da primeira tarefa 1 ocorreu antes ou no dia '2015-12-31', daquelas em que a submissão da tarefa 1 ocorreu depois do dia '2015-12-31'. Aplique o método [`stats.ttest_ind()`](https://docs.scipy.org/doc/scipy/reference/generated/scipy.stats.ttest_ind.html) e calcule as médias das tarefas, dada essa condição, e realize o teste de hipótese de que as médias não serão diferentes antes ou depois de '2015-12-31', para todas as tarefas da base de dados. Discuta seus resultados."
      ]
    },
    {
      "cell_type": "code",
      "metadata": {
        "id": "NvHqdjjEnTdd",
        "colab": {
          "base_uri": "https://localhost:8080/",
          "height": 479
        },
        "outputId": "52b33956-8369-458e-a624-5fc792705002"
      },
      "source": [
        "df = pd.read_csv('grades.csv')\n",
        "df.head()"
      ],
      "execution_count": null,
      "outputs": [
        {
          "output_type": "execute_result",
          "data": {
            "text/html": [
              "<div>\n",
              "<style scoped>\n",
              "    .dataframe tbody tr th:only-of-type {\n",
              "        vertical-align: middle;\n",
              "    }\n",
              "\n",
              "    .dataframe tbody tr th {\n",
              "        vertical-align: top;\n",
              "    }\n",
              "\n",
              "    .dataframe thead th {\n",
              "        text-align: right;\n",
              "    }\n",
              "</style>\n",
              "<table border=\"1\" class=\"dataframe\">\n",
              "  <thead>\n",
              "    <tr style=\"text-align: right;\">\n",
              "      <th></th>\n",
              "      <th>student_id</th>\n",
              "      <th>assignment1_grade</th>\n",
              "      <th>assignment1_submission</th>\n",
              "      <th>assignment2_grade</th>\n",
              "      <th>assignment2_submission</th>\n",
              "      <th>assignment3_grade</th>\n",
              "      <th>assignment3_submission</th>\n",
              "      <th>assignment4_grade</th>\n",
              "      <th>assignment4_submission</th>\n",
              "      <th>assignment5_grade</th>\n",
              "      <th>assignment5_submission</th>\n",
              "      <th>assignment6_grade</th>\n",
              "      <th>assignment6_submission</th>\n",
              "    </tr>\n",
              "  </thead>\n",
              "  <tbody>\n",
              "    <tr>\n",
              "      <th>0</th>\n",
              "      <td>B73F2C11-70F0-E37D-8B10-1D20AFED50B1</td>\n",
              "      <td>92.733946</td>\n",
              "      <td>2015-11-02 06:55:34.282000000</td>\n",
              "      <td>83.030552</td>\n",
              "      <td>2015-11-09 02:22:58.938000000</td>\n",
              "      <td>67.164441</td>\n",
              "      <td>2015-11-12 08:58:33.998000000</td>\n",
              "      <td>53.011553</td>\n",
              "      <td>2015-11-16 01:21:24.663000000</td>\n",
              "      <td>47.710398</td>\n",
              "      <td>2015-11-20 13:24:59.692000000</td>\n",
              "      <td>38.168318</td>\n",
              "      <td>2015-11-22 18:31:15.934000000</td>\n",
              "    </tr>\n",
              "    <tr>\n",
              "      <th>1</th>\n",
              "      <td>98A0FAE0-A19A-13D2-4BB5-CFBFD94031D1</td>\n",
              "      <td>86.790821</td>\n",
              "      <td>2015-11-29 14:57:44.429000000</td>\n",
              "      <td>86.290821</td>\n",
              "      <td>2015-12-06 17:41:18.449000000</td>\n",
              "      <td>69.772657</td>\n",
              "      <td>2015-12-10 08:54:55.904000000</td>\n",
              "      <td>55.098125</td>\n",
              "      <td>2015-12-13 17:32:30.941000000</td>\n",
              "      <td>49.588313</td>\n",
              "      <td>2015-12-19 23:26:39.285000000</td>\n",
              "      <td>44.629482</td>\n",
              "      <td>2015-12-21 17:07:24.275000000</td>\n",
              "    </tr>\n",
              "    <tr>\n",
              "      <th>2</th>\n",
              "      <td>D0F62040-CEB0-904C-F563-2F8620916C4E</td>\n",
              "      <td>85.512541</td>\n",
              "      <td>2016-01-09 05:36:02.389000000</td>\n",
              "      <td>85.512541</td>\n",
              "      <td>2016-01-09 06:39:44.416000000</td>\n",
              "      <td>68.410033</td>\n",
              "      <td>2016-01-15 20:22:45.882000000</td>\n",
              "      <td>54.728026</td>\n",
              "      <td>2016-01-11 12:41:50.749000000</td>\n",
              "      <td>49.255224</td>\n",
              "      <td>2016-01-11 17:31:12.489000000</td>\n",
              "      <td>44.329701</td>\n",
              "      <td>2016-01-17 16:24:42.765000000</td>\n",
              "    </tr>\n",
              "    <tr>\n",
              "      <th>3</th>\n",
              "      <td>FFDF2B2C-F514-EF7F-6538-A6A53518E9DC</td>\n",
              "      <td>86.030665</td>\n",
              "      <td>2016-04-30 06:50:39.801000000</td>\n",
              "      <td>68.824532</td>\n",
              "      <td>2016-04-30 17:20:38.727000000</td>\n",
              "      <td>61.942079</td>\n",
              "      <td>2016-05-12 07:47:16.326000000</td>\n",
              "      <td>49.553663</td>\n",
              "      <td>2016-05-07 16:09:20.485000000</td>\n",
              "      <td>49.553663</td>\n",
              "      <td>2016-05-24 12:51:18.016000000</td>\n",
              "      <td>44.598297</td>\n",
              "      <td>2016-05-26 08:09:12.058000000</td>\n",
              "    </tr>\n",
              "    <tr>\n",
              "      <th>4</th>\n",
              "      <td>5ECBEEB6-F1CE-80AE-3164-E45E99473FB4</td>\n",
              "      <td>64.813800</td>\n",
              "      <td>2015-12-13 17:06:10.750000000</td>\n",
              "      <td>51.491040</td>\n",
              "      <td>2015-12-14 12:25:12.056000000</td>\n",
              "      <td>41.932832</td>\n",
              "      <td>2015-12-29 14:25:22.594000000</td>\n",
              "      <td>36.929549</td>\n",
              "      <td>2015-12-28 01:29:55.901000000</td>\n",
              "      <td>33.236594</td>\n",
              "      <td>2015-12-29 14:46:06.628000000</td>\n",
              "      <td>33.236594</td>\n",
              "      <td>2016-01-05 01:06:59.546000000</td>\n",
              "    </tr>\n",
              "  </tbody>\n",
              "</table>\n",
              "</div>"
            ],
            "text/plain": [
              "                             student_id  ...         assignment6_submission\n",
              "0  B73F2C11-70F0-E37D-8B10-1D20AFED50B1  ...  2015-11-22 18:31:15.934000000\n",
              "1  98A0FAE0-A19A-13D2-4BB5-CFBFD94031D1  ...  2015-12-21 17:07:24.275000000\n",
              "2  D0F62040-CEB0-904C-F563-2F8620916C4E  ...  2016-01-17 16:24:42.765000000\n",
              "3  FFDF2B2C-F514-EF7F-6538-A6A53518E9DC  ...  2016-05-26 08:09:12.058000000\n",
              "4  5ECBEEB6-F1CE-80AE-3164-E45E99473FB4  ...  2016-01-05 01:06:59.546000000\n",
              "\n",
              "[5 rows x 13 columns]"
            ]
          },
          "metadata": {
            "tags": []
          },
          "execution_count": 7
        }
      ]
    },
    {
      "cell_type": "code",
      "metadata": {
        "id": "piMenncYnTde",
        "colab": {
          "base_uri": "https://localhost:8080/"
        },
        "outputId": "1b3b4e5e-a563-48a9-8596-df425888b4e2"
      },
      "source": [
        "df.info()"
      ],
      "execution_count": null,
      "outputs": [
        {
          "output_type": "stream",
          "text": [
            "<class 'pandas.core.frame.DataFrame'>\n",
            "RangeIndex: 2315 entries, 0 to 2314\n",
            "Data columns (total 13 columns):\n",
            " #   Column                  Non-Null Count  Dtype  \n",
            "---  ------                  --------------  -----  \n",
            " 0   student_id              2315 non-null   object \n",
            " 1   assignment1_grade       2315 non-null   float64\n",
            " 2   assignment1_submission  2315 non-null   object \n",
            " 3   assignment2_grade       2315 non-null   float64\n",
            " 4   assignment2_submission  2315 non-null   object \n",
            " 5   assignment3_grade       2315 non-null   float64\n",
            " 6   assignment3_submission  2315 non-null   object \n",
            " 7   assignment4_grade       2315 non-null   float64\n",
            " 8   assignment4_submission  2315 non-null   object \n",
            " 9   assignment5_grade       2315 non-null   float64\n",
            " 10  assignment5_submission  2315 non-null   object \n",
            " 11  assignment6_grade       2315 non-null   float64\n",
            " 12  assignment6_submission  2315 non-null   object \n",
            "dtypes: float64(6), object(7)\n",
            "memory usage: 235.2+ KB\n"
          ],
          "name": "stdout"
        }
      ]
    },
    {
      "cell_type": "code",
      "metadata": {
        "id": "Yp-7oP7gnTde"
      },
      "source": [
        ""
      ],
      "execution_count": null,
      "outputs": []
    },
    {
      "cell_type": "code",
      "metadata": {
        "id": "_l4iz7gnnTde"
      },
      "source": [
        ""
      ],
      "execution_count": null,
      "outputs": []
    },
    {
      "cell_type": "code",
      "metadata": {
        "id": "jJmjVLktnTdf"
      },
      "source": [
        ""
      ],
      "execution_count": null,
      "outputs": []
    },
    {
      "cell_type": "code",
      "metadata": {
        "id": "raY5u_1JnTdf"
      },
      "source": [
        ""
      ],
      "execution_count": null,
      "outputs": []
    },
    {
      "cell_type": "code",
      "metadata": {
        "id": "BlCZrCSVnTdf"
      },
      "source": [
        ""
      ],
      "execution_count": null,
      "outputs": []
    },
    {
      "cell_type": "code",
      "metadata": {
        "id": "Y3j_wldMnTdg"
      },
      "source": [
        ""
      ],
      "execution_count": null,
      "outputs": []
    },
    {
      "cell_type": "code",
      "metadata": {
        "id": "NfdMPNjnnTdg"
      },
      "source": [
        ""
      ],
      "execution_count": null,
      "outputs": []
    },
    {
      "cell_type": "code",
      "metadata": {
        "id": "TiOoHNCCnTdg"
      },
      "source": [
        ""
      ],
      "execution_count": null,
      "outputs": []
    },
    {
      "cell_type": "code",
      "metadata": {
        "id": "rQu67_xxnTdh"
      },
      "source": [
        ""
      ],
      "execution_count": null,
      "outputs": []
    },
    {
      "cell_type": "code",
      "metadata": {
        "id": "W3pEHEHFnTdh"
      },
      "source": [
        ""
      ],
      "execution_count": null,
      "outputs": []
    },
    {
      "cell_type": "code",
      "metadata": {
        "id": "E4-naNNVnTdh"
      },
      "source": [
        ""
      ],
      "execution_count": null,
      "outputs": []
    }
  ]
}