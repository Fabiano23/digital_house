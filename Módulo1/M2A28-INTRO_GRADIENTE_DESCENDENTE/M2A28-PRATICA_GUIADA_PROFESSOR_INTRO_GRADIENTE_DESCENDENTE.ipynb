{
 "cells": [
  {
   "cell_type": "markdown",
   "metadata": {},
   "source": [
    "# Prática Guiada - Gradiente Descendente."
   ]
  },
  {
   "cell_type": "markdown",
   "metadata": {},
   "source": [
    "#### O Gradiente Descendente (GD) é um [algoritmo iterativo](https://towardsdatascience.com/understanding-the-mathematics-behind-gradient-descent-dde5dc9be06e) para encontrar um Mínimo Global de uma função objetivo. Gradiente Descendente é um método iterativo de OTIMIZAÇÃO amplamente utilizado em Machine Learning. Sua aplicação vai desde modelos mais simples como a Regressão Linear até em Redes Neurais Artificiais Profundas (Deep Learning).\n",
    "\n",
    "<img src=\"GRADIENTDESCENDENT.png\" width=\"563\" height=\"296\" align=\"center\"/>\n",
    "\n",
    "#### Em cálculo vetorial o [operador gradiente](https://www.youtube.com/watch?v=8BHlp9854p0&ab_channel=MattYedlin), quando aplicado a uma função, nos diz a direção da inclinação mais íngreme dessa função. Com o Gradiente Descendente queremos encontrar o ponto mínimo globar de uma função custo.\n",
    "\n",
    "$$\n",
    "\\begin{equation}\n",
    "\\vec{\\nabla} f(x, y, ...,  z) = \\big(\\frac{\\partial}{\\partial x} \\vec{i}, \\frac{\\partial}{\\partial y}  \\vec{j}, ..., \\frac{\\partial}{\\partial z } \\vec{k} \\big) f(x, y, ...,  z)\n",
    "\\end{equation}\n",
    "$$\n",
    "\n",
    "#### O objetivo do Gradiente Descendente é minimizar a função de custo/perda, para encontrar a melhor solução para o Modelo."
   ]
  },
  {
   "cell_type": "markdown",
   "metadata": {},
   "source": [
    "## Regressão Linear\n",
    "\n",
    "#### Podemos usar GD para calcular uma [regressão Linear](https://towardsdatascience.com/linear-regression-using-gradient-descent-97a6c8700931)."
   ]
  },
  {
   "cell_type": "markdown",
   "metadata": {},
   "source": [
    "<img src=\"GD_LR.gif\" width=\"750\" align=\"center\">"
   ]
  },
  {
   "cell_type": "markdown",
   "metadata": {},
   "source": [
    "#### Desejamos minimizar a função de Custo/Erro de nosso Modelo. Encontramos isso calculandos os Gradientes que direcionam os dados para um ponto mínimo. Daí o nome de Gradiente Descendente."
   ]
  },
  {
   "cell_type": "markdown",
   "metadata": {},
   "source": [
    "<img src=\"GD_FUNCAO_CUSTO.png\" width=\"563\" height=\"296\" align=\"center\"/>"
   ]
  },
  {
   "cell_type": "markdown",
   "metadata": {},
   "source": [
    "#### Semanticamente, [gradiente](https://www.infopedia.pt/dicionarios/lingua-portuguesa/gradiente) significa: \n",
    "\n",
    "1. variação de uma grandeza ao longo de uma dimensão espacial, em determinada direção\n",
    "2. MATEMÁTICA coeficiente angular (ou declive) da tangente a uma curva (em um dos seus pontos) e cujo valor é o da tangente trigonométrica da inclinação da tangente à curva (nos pontos em que tal tangente exista)"
   ]
  },
  {
   "cell_type": "markdown",
   "metadata": {},
   "source": [
    "#### Lembre-se que o [objetivo](https://medium.com/@ramrajchandradevan/the-evolution-of-gradient-descend-optimization-algorithm-4106a6702d39) é minimizar o valor da [função de custo](https://towardsdatascience.com/gradient-descent-explained-9b953fc0d2c#:~:text=Gradient%20Descent%20is%20an%20optimizing,f(x)%20using%20iteration.&text=Gradient%20Descent%20on%20Cost%20function.) ao longo das iterações do algoritmo GD."
   ]
  },
  {
   "cell_type": "markdown",
   "metadata": {},
   "source": [
    "<img src=\"COST_FUNCTION_GD.gif\" width=\"750\" align=\"center\">"
   ]
  },
  {
   "cell_type": "markdown",
   "metadata": {},
   "source": [
    "## Gradiente Descendente  - utilizado dos modelos mais simples até os mais complexos."
   ]
  },
  {
   "cell_type": "markdown",
   "metadata": {},
   "source": [
    "<img src=\"GD.png\" width=\"563\" height=\"296\" align=\"center\"/>"
   ]
  },
  {
   "cell_type": "markdown",
   "metadata": {},
   "source": [
    "### Aplicação em uma Regressão Linear Simples - uma variável"
   ]
  },
  {
   "cell_type": "markdown",
   "metadata": {},
   "source": [
    "\n",
    "#### Nossa premissa para a regresão linear é assumir uma equação de reta:\n",
    "\n",
    "$$\n",
    "\\begin{equation}\n",
    "\\hat{y} = b + m x\n",
    "\\end{equation}\n",
    "$$\n",
    "\n",
    "#### Em um problema de ciência de dados, você provavelmente trabalhará com mais variáveis:\n",
    "\n",
    "$$\n",
    "\\begin{equation}\n",
    "\\hat{y} = \\omega_{0} + \\omega_{1} x + ... + + \\omega_{i} x\n",
    "\\end{equation}\n",
    "$$\n",
    "\n",
    "#### Considerando as previsões que sua equação gera, em comparação com os valores observados, é possível calcular a função erro pelo [método dos mínimos quadrados](https://www.statisticshowto.com/mean-squared-error/):\n",
    "\n",
    "$$\n",
    "\\begin{equation}\n",
    "ERROR = \\sum (\\hat{y}_{(i)} - y_{(i)})^{2}\n",
    "\\end{equation}\n",
    "$$\n",
    "\n",
    "#### Em ciência de dados teremos as funções custo:\n",
    "\n",
    "$$\n",
    "\\begin{equation}\n",
    "J(\\omega_{0}, ..., \\omega_{i}) = \\frac{1}{2m}\\sum_{i} (\\hat{y}_{(i)} - y_{(i)})^{2}\n",
    "\\end{equation}\n",
    "$$"
   ]
  },
  {
   "cell_type": "markdown",
   "metadata": {},
   "source": [
    "#### O algoritmo GD deve assumir um valor inicial para $\\omega_{0}$: \n",
    "\n",
    "$$\n",
    "\\begin{equation}\n",
    "\\omega_{0} := \\omega_{0} - \\alpha\\vec{\\nabla}_{\\omega_{0}}\n",
    "\\end{equation}\n",
    "$$\n",
    "\n",
    "#### e $\\omega_{i}$: \n",
    "\n",
    "$$\n",
    "\\begin{equation}\n",
    "\\omega_{i} := \\omega_{i} - \\alpha\\vec{\\nabla}_{\\omega_{i}} x_{i}\n",
    "\\end{equation}\n",
    "$$\n",
    "\n",
    "#### aplicando uma taxa de aprendizado $\\alpha$ e um gradiente descendente $\\vec{\\nabla}$, $N$ vezes, até que a conversão."
   ]
  },
  {
   "cell_type": "markdown",
   "metadata": {},
   "source": [
    "<img src=\"COST_FUNCTION_GRADIENTE.png\" width=\"1142\" height=\"667\" align=\"center\"/>"
   ]
  },
  {
   "cell_type": "markdown",
   "metadata": {},
   "source": [
    "#### Para o cálculo do gradiente, temos:\n",
    "\n",
    "#### Calcular a função custo para todos os parâmentros:\n",
    "\n",
    "$$\n",
    "\\begin{equation}\n",
    "J(\\omega_{0}, ..., \\omega_{i}) = \\frac{1}{2m}\\sum_{i} (\\hat{y}_{(i)} - y_{(i)})^{2}\n",
    "\\end{equation}\n",
    "$$\n",
    "\n",
    "#### Calcular o gradiente da função custo em relação à cada parâmetro:\n",
    "\n",
    "$$\n",
    "\\begin{equation}\n",
    "\\nabla_{\\omega_{i}} = \\frac{d_{j}}{d_{\\omega_{0}}}J(\\omega_{0}, ..., \\omega_{i}) \n",
    "\\end{equation}\n",
    "$$\n",
    "\n",
    "#### Aplicando o operador derivada:\n",
    "\n",
    "$$\n",
    "\\begin{equation}\n",
    "\\nabla_{\\omega_{i}} = \\frac{1}{m}\\sum_{i} (\\hat{y}_{(i)} - y_{(i)})^{2}\n",
    "\\end{equation}\n",
    "$$"
   ]
  },
  {
   "cell_type": "markdown",
   "metadata": {},
   "source": [
    "#### O algoritimo GD atualiza os parâmetros da função de custo a cada ciclo, até convergir sob alguma condição imposta."
   ]
  },
  {
   "cell_type": "markdown",
   "metadata": {},
   "source": [
    "$$\n",
    "\\begin{equation}\n",
    "\\omega_{j} := \\omega_{j} - \\alpha\\frac{1}{m}\\sum_{i} (\\hat{y}_{(i)} - y_{(i)})^{2}x_{j}\n",
    "\\end{equation}\n",
    "$$"
   ]
  },
  {
   "cell_type": "markdown",
   "metadata": {},
   "source": [
    "<img src=\"GD_LR.gif\" width=\"750\" align=\"center\">"
   ]
  },
  {
   "cell_type": "markdown",
   "metadata": {},
   "source": [
    "#### Vamos começar importando as bibiotecas necessárias:"
   ]
  },
  {
   "cell_type": "code",
   "execution_count": 44,
   "metadata": {},
   "outputs": [],
   "source": [
    "import numpy as np\n",
    "import matplotlib.pyplot as plt\n",
    "import math\n",
    "%matplotlib inline"
   ]
  },
  {
   "cell_type": "markdown",
   "metadata": {},
   "source": [
    "#### Geramos alguns dados:"
   ]
  },
  {
   "cell_type": "code",
   "execution_count": 45,
   "metadata": {},
   "outputs": [],
   "source": [
    "X = [0.5, 2.2, 2.0]\n",
    "y = [2.0, 2.5, 1.4]"
   ]
  },
  {
   "cell_type": "markdown",
   "metadata": {},
   "source": [
    "#### Definimos valores iniciais para $\\omega_{i}$:"
   ]
  },
  {
   "cell_type": "code",
   "execution_count": 46,
   "metadata": {},
   "outputs": [],
   "source": [
    "w0 = 0.1\n",
    "w1 = 0.1"
   ]
  },
  {
   "cell_type": "markdown",
   "metadata": {},
   "source": [
    "#### Nossa hipótese inicial é a de que podemos utilizar uma reta para modelar esses pontros."
   ]
  },
  {
   "cell_type": "code",
   "execution_count": 47,
   "metadata": {},
   "outputs": [],
   "source": [
    "def y_hipo(x, w0, w1):\n",
    "    return w0 + w1 * x"
   ]
  },
  {
   "cell_type": "markdown",
   "metadata": {},
   "source": [
    "#### Podemos plotar dos pontos e da regressão:"
   ]
  },
  {
   "cell_type": "code",
   "execution_count": 48,
   "metadata": {},
   "outputs": [],
   "source": [
    "def plot_line(X, y, w0, w1):\n",
    "    x_values = [i for i in range(int(min(X))-1, int(max(X)) + 2)]\n",
    "    y_values = [y_hipo(x, w0, w1) for x in x_values]\n",
    "    plt.plot(x_values, y_values,'r')\n",
    "    plt.plot(X,y,'bo')"
   ]
  },
  {
   "cell_type": "code",
   "execution_count": 49,
   "metadata": {},
   "outputs": [
    {
     "data": {
      "image/png": "[encoded data removed]",
      "text/plain": [
       "<Figure size 432x288 with 1 Axes>"
      ]
     },
     "metadata": {
      "needs_background": "light"
     },
     "output_type": "display_data"
    }
   ],
   "source": [
    "plot_line(X, y, w0, w1)"
   ]
  },
  {
   "cell_type": "markdown",
   "metadata": {},
   "source": [
    "#### Podemos agora fazer a primeira previsão $\\hat{y}$ para um valor $x$:"
   ]
  },
  {
   "cell_type": "code",
   "execution_count": 50,
   "metadata": {},
   "outputs": [],
   "source": [
    "valor_X = 2.0"
   ]
  },
  {
   "cell_type": "code",
   "execution_count": 51,
   "metadata": {},
   "outputs": [
    {
     "data": {
      "text/plain": [
       "0.30000000000000004"
      ]
     },
     "execution_count": 51,
     "metadata": {},
     "output_type": "execute_result"
    }
   ],
   "source": [
    "y_hipo(valor_X, w0, w1)"
   ]
  },
  {
   "cell_type": "markdown",
   "metadata": {},
   "source": [
    "#### É possível ver que a previsão ainda é imprecisa."
   ]
  },
  {
   "cell_type": "markdown",
   "metadata": {},
   "source": [
    "### Função custo, erro quadrático médio.\n",
    "\n",
    "\n",
    "$$\n",
    "\\begin{equation}\n",
    "J(\\omega_{0}, ..., \\omega_{i}) = \\frac{1}{2m}\\sum_{i} (\\hat{y}_{(i)} - y_{(i)})^{2}\n",
    "\\end{equation}\n",
    "$$"
   ]
  },
  {
   "cell_type": "markdown",
   "metadata": {},
   "source": [
    "#### Inicializamos a variável a ser retornada, definimos a quantidade de pontos para a regressão e criamos o mecanismo de repetição."
   ]
  },
  {
   "cell_type": "code",
   "execution_count": 52,
   "metadata": {},
   "outputs": [],
   "source": [
    "def MSE (X, y , w0 , w1):\n",
    "    custo = 0\n",
    "    m = len(X)\n",
    "    for i in range(0, len(X)):\n",
    "        custo += (y_hipo(X[i], w0, w1) - y[i]) ** 2\n",
    "    return custo/m"
   ]
  },
  {
   "cell_type": "markdown",
   "metadata": {},
   "source": [
    "#### E o erro quadrático médio da previsão foi:"
   ]
  },
  {
   "cell_type": "code",
   "execution_count": 53,
   "metadata": {},
   "outputs": [
    {
     "data": {
      "text/plain": [
       "3.1282999999999994"
      ]
     },
     "execution_count": 53,
     "metadata": {},
     "output_type": "execute_result"
    }
   ],
   "source": [
    "MSE(X, y, w0, w1)"
   ]
  },
  {
   "cell_type": "markdown",
   "metadata": {},
   "source": [
    "### Taxa de aprendizado $\\alpha$.\n",
    "\n",
    "<img src=\"LEARNING_RATE_GD.jpeg\" width=\"459\" height=\"414\" align=\"center\"/>"
   ]
  },
  {
   "cell_type": "markdown",
   "metadata": {},
   "source": [
    "#### Para obtermos uma melhor aproximação com o [gradiente descendente](https://www.jeremyjordan.me/gradient-descent/) é importante entendermos como a taxa de aprendizado funciona. Ela tem a propriedade de controlar a velocidade de descida da função de custo.\n",
    "\n",
    "#### A taxa de aprendizado é um [hiperparâmetro](https://towardsdatascience.com/understanding-hyperparameters-and-its-optimisation-techniques-f0debba07568) que deve ser [ajustado](https://automaticaddison.com/how-to-choose-an-optimal-learning-rate-for-gradient-descent/)\n",
    "\n",
    "- Se você escolher uma taxa de aprendizado muito pequena, o algoritmo de descida do gradiente pode levar muito tempo para encontrar o valor mínimo da função de erro.\n",
    "\n",
    "- Se você escolher uma taxa de aprendizado muito grande, poderá ultrapassar o valor mínimo da função de erro e poderá até nunca alcançar a solução ideal.\n",
    "\n",
    "\n",
    "<img src=\"TAXA_APRENDIZADO_GD.PNG\" width=\"1235\" height=\"479\" align=\"center\"/>"
   ]
  },
  {
   "cell_type": "markdown",
   "metadata": {},
   "source": [
    "#### Vamos discutir a criação de uma função que realize a operação GD. O primeiro passo é estabelecermos uma taxa de aprendizagem $\\alpha$. Lembre-se que para valores muito grandes de $\\alpha$ o algoritmo pode nunca convergir.\n",
    "\n",
    "$$\n",
    "\\begin{equation}\n",
    "\\omega_{i} := \\omega_{i} - \\alpha\\frac{1}{m}\\sum_{i} (\\hat{y}_{(i)} - y_{(i)})^{2}x_{i}\n",
    "\\end{equation}\n",
    "$$"
   ]
  },
  {
   "cell_type": "code",
   "execution_count": 35,
   "metadata": {},
   "outputs": [],
   "source": [
    "alpha = 0.01"
   ]
  },
  {
   "cell_type": "markdown",
   "metadata": {},
   "source": [
    "### GRADIENTE DESCENDENTE STEP.\n",
    "\n",
    "#### Inicializamos as variáveis $\\omega_{0}$ e $\\omega_{i}$, calculamos somatória do erro dos elementos e os novos valores de $\\omega_{0}$ e $\\omega_{i}$."
   ]
  },
  {
   "cell_type": "code",
   "execution_count": 36,
   "metadata": {},
   "outputs": [],
   "source": [
    "def gradient_descent_step(w0, w1, X, y, alpha):\n",
    "    # inicialização das variáveis\n",
    "    erro_w0 = 0\n",
    "    erro_w1 = 0\n",
    "    m = len(X)\n",
    "    \n",
    "    for i in range(0,len(X)):\n",
    "        erro_w0 += y_hipo(X[i], w0, w1) - y[i]\n",
    "        erro_w1 += (y_hipo(X[i], w0, w1) - y[i]) * X[i]\n",
    "    \n",
    "    new_w0 = w0 - alpha * (1/m) * erro_w0\n",
    "    new_w1 = w1 - alpha * (1/m) * erro_w1\n",
    "\n",
    "    return new_w0, new_w1"
   ]
  },
  {
   "cell_type": "markdown",
   "metadata": {},
   "source": [
    "### GRADIENTE DESCENDENTE LOOP - EXECUTA QUANTAS VEZES DETERMINARMOS.\n",
    "\n",
    "#### Inicialiamos as variáveis função custo, repetimos a execução do algorítmo o número de épocas (epoch) definida e calculamos o `MSE` (custo) com os novos valores de $\\omega_{0}$ e $\\omega_{i}$."
   ]
  },
  {
   "cell_type": "code",
   "execution_count": 60,
   "metadata": {},
   "outputs": [],
   "source": [
    "def gradient_descent(w0, w1, X, y, alpha, epoch):\n",
    "    \n",
    "    custo = np.zeros(epoch)\n",
    "\n",
    "    for i in range(epoch):\n",
    "\n",
    "        w0 , w1 = gradient_descent_step(w0, w1, X, y, alpha)\n",
    "        custo[i] = MSE(X, y, w0, w1)\n",
    "        \n",
    "    return w0, w1, custo"
   ]
  },
  {
   "cell_type": "markdown",
   "metadata": {},
   "source": [
    "#### Para nosso processo vamos inicializar $\\omega_{0}$ e $\\omega_{i}$ com valores aleatórios, e informamos também o número de épocas `epoch` que serão rodadas."
   ]
  },
  {
   "cell_type": "code",
   "execution_count": 76,
   "metadata": {},
   "outputs": [],
   "source": [
    "w0 = 0.1\n",
    "w1 = 0.1\n",
    "epoch = 5\n",
    "#epoch1 = 50"
   ]
  },
  {
   "cell_type": "markdown",
   "metadata": {},
   "source": [
    "#### Executamos nossa função `gradient_descent()`."
   ]
  },
  {
   "cell_type": "code",
   "execution_count": 77,
   "metadata": {},
   "outputs": [],
   "source": [
    "w0 , w1 , custo = gradient_descent(w0, w1, X, y, alpha, epoch)\n",
    "#w0 , w1 , custo1 = gradient_descent(w0, w1, X, y, alpha, epoch1)"
   ]
  },
  {
   "cell_type": "markdown",
   "metadata": {},
   "source": [
    "#### Podemos observar a evolução da minimização da função custo, época a época."
   ]
  },
  {
   "cell_type": "code",
   "execution_count": 78,
   "metadata": {},
   "outputs": [
    {
     "data": {
      "text/plain": [
       "array([2.93421022, 2.75481098, 2.58898416, 2.43569679, 2.29399451])"
      ]
     },
     "execution_count": 78,
     "metadata": {},
     "output_type": "execute_result"
    }
   ],
   "source": [
    "custo"
   ]
  },
  {
   "cell_type": "markdown",
   "metadata": {},
   "source": [
    "#### Podemos então apresentar os valores finais de $\\omega_{0}$ e $\\omega_{i}$."
   ]
  },
  {
   "cell_type": "code",
   "execution_count": 79,
   "metadata": {},
   "outputs": [
    {
     "name": "stdout",
     "output_type": "stream",
     "text": [
      "w0 = 0.17987490356241226, w1 = 0.22174463634217417\n"
     ]
    }
   ],
   "source": [
    "print(\"w0 = {}, w1 = {}\".format(w0, w1))"
   ]
  },
  {
   "cell_type": "markdown",
   "metadata": {},
   "source": [
    "#### Plotando a função custo."
   ]
  },
  {
   "cell_type": "code",
   "execution_count": 80,
   "metadata": {},
   "outputs": [
    {
     "data": {
      "text/plain": [
       "Text(0.5, 1.0, 'MSE vs. Epoch')"
      ]
     },
     "execution_count": 80,
     "metadata": {},
     "output_type": "execute_result"
    },
    {
     "data": {
      "image/png": "[encoded data removed]",
      "text/plain": [
       "<Figure size 432x288 with 1 Axes>"
      ]
     },
     "metadata": {
      "needs_background": "light"
     },
     "output_type": "display_data"
    }
   ],
   "source": [
    "fig, ax = plt.subplots()  \n",
    "ax.plot(np.arange(epoch), custo, 'r')\n",
    "#ax.plot(np.arange(epoch1), custo1, 'b')  \n",
    "ax.set_xlabel('Iterações')  \n",
    "ax.set_ylabel('Custo')  \n",
    "ax.set_title('MSE vs. Epoch')  "
   ]
  },
  {
   "cell_type": "markdown",
   "metadata": {},
   "source": [
    "## PLOT DA HIPÓTESE OTIMIZADA"
   ]
  },
  {
   "cell_type": "code",
   "execution_count": 85,
   "metadata": {
    "scrolled": true
   },
   "outputs": [
    {
     "data": {
      "image/png": "[encoded data removed]",
      "text/plain": [
       "<Figure size 432x288 with 1 Axes>"
      ]
     },
     "metadata": {
      "needs_background": "light"
     },
     "output_type": "display_data"
    }
   ],
   "source": [
    "plot_line(X, y, w0, w1)"
   ]
  },
  {
   "cell_type": "markdown",
   "metadata": {},
   "source": [
    "#### Por que o modelo ainda não chegou a um resultado bom? O que precisamos alterar para alcançar um resultado melhor?\n",
    "\n",
    "#### Vamos realizar uma previsão para um valor qualquer de $x$."
   ]
  },
  {
   "cell_type": "code",
   "execution_count": 86,
   "metadata": {},
   "outputs": [],
   "source": [
    "valor_x = 1.5"
   ]
  },
  {
   "cell_type": "code",
   "execution_count": 87,
   "metadata": {},
   "outputs": [
    {
     "data": {
      "text/plain": [
       "0.5124918580756734"
      ]
     },
     "execution_count": 87,
     "metadata": {},
     "output_type": "execute_result"
    }
   ],
   "source": [
    "y_hipo(valor_x, w0, w1)"
   ]
  },
  {
   "cell_type": "code",
   "execution_count": 89,
   "metadata": {},
   "outputs": [
    {
     "name": "stdout",
     "output_type": "stream",
     "text": [
      "w0 = 0.17987490356241226, w1 = 0.22174463634217417\n"
     ]
    }
   ],
   "source": [
    "print(\"w0 = {}, w1 = {}\".format(w0, w1))"
   ]
  },
  {
   "cell_type": "code",
   "execution_count": 91,
   "metadata": {},
   "outputs": [
    {
     "data": {
      "text/plain": [
       "0.5124918580756734"
      ]
     },
     "execution_count": 91,
     "metadata": {},
     "output_type": "execute_result"
    }
   ],
   "source": [
    "yhat = w0 + w1 * valor_x\n",
    "yhat"
   ]
  },
  {
   "cell_type": "markdown",
   "metadata": {},
   "source": [
    "### GRADIENTE DESCENDENTE - MÚLTIPLAS VARIÁVEIS.\n",
    "\n",
    "#### A partir de quantas iterações nosso modelo passa a não obter grandes melhoras?"
   ]
  },
  {
   "cell_type": "markdown",
   "metadata": {},
   "source": [
    "\n",
    "#### Como hipótee de uma variável, temos para $\\hat{y}$:\n",
    "$$\n",
    "\\begin{equation}\n",
    "\\hat{y} = \\omega_{0} + ... + \\omega_{1} X_{i}.\n",
    "\\end{equation}\n",
    "$$\n",
    "#### E para a hipótese de várias variáveis, termos:\n",
    "$$\n",
    "\\begin{equation}\n",
    "\\hat{y} = \\omega_{0} X_{0} + ... + \\omega_{1} X_{i} \\text{, em que } X_{0} = 1.\n",
    "\\end{equation}\n",
    "$$ \n",
    "\n",
    "\n",
    "#### Temos para os vetores de peso $\\vec{\\omega}$ e atributos $\\vec{x}$ as definições $\n",
    "\\begin{align}\n",
    "    \\omega &= \\begin{bmatrix}\n",
    "           \\omega_{0} \\\\\n",
    "           \\omega_{1} \\\\\n",
    "           \\vdots \\\\\n",
    "           \\omega_{i}\n",
    "         \\end{bmatrix}\n",
    "  \\end{align}\n",
    "$  e  $\n",
    "\\begin{align}\n",
    "    X &= \\begin{bmatrix}\n",
    "           X_{0} \\\\\n",
    "           X_{1} \\\\\n",
    "           \\vdots \\\\\n",
    "           X_{i}\n",
    "         \\end{bmatrix}.\n",
    "  \\end{align}\n",
    "$\n",
    "\n",
    "#### Em álgera linear, podemos reescrever a equação para $\\hat{y}$ como:\n",
    "$$\n",
    "\\begin{equation}\n",
    "\\hat{y} = \\omega^{T} X.\n",
    "\\end{equation}\n",
    "$$"
   ]
  },
  {
   "cell_type": "markdown",
   "metadata": {},
   "source": [
    "#### Considerando uma única variável, veríamos algo como:\n",
    "$$\n",
    "\\begin{equation}\n",
    "\\omega_{0} := \\omega_{0} - \\alpha\\frac{1}{m}\\sum_{i} (\\hat{y}_{(i)} - y_{(i)})^{2}\n",
    "\\end{equation}\n",
    "$$\n",
    "#### e\n",
    "$$\n",
    "\\begin{equation}\n",
    "\\omega_{1} := \\omega_{1} - \\alpha\\frac{1}{m}\\sum_{i} (\\hat{y}_{(i)} - y_{(i)})^{2}\n",
    "\\end{equation}\n",
    "$$\n",
    "\n",
    "#### Para $j$ variáveis, temos:\n",
    "$$\n",
    "\\begin{equation}\n",
    "\\omega_{j} := \\omega_{j} - \\alpha\\frac{1}{m}\\sum_{i} (\\hat{y}_{(i)} - y_{(i)})^{2}X_{j}\n",
    "\\end{equation}\n",
    "$$\n",
    "#### ou ainda, em termos matriciais:\n",
    "$$\n",
    "\\begin{equation}\n",
    "\\omega_{j} := \\omega_{j} - \\alpha\\frac{1}{m}\\sum_{i} (\\omega^{T} X - y_{(i)})^{2}X_{j}\n",
    "\\end{equation}\n",
    "$$"
   ]
  },
  {
   "cell_type": "markdown",
   "metadata": {},
   "source": [
    "## Explorando um exemplo."
   ]
  },
  {
   "cell_type": "code",
   "execution_count": 99,
   "metadata": {},
   "outputs": [],
   "source": [
    "import pandas as pd"
   ]
  },
  {
   "cell_type": "markdown",
   "metadata": {},
   "source": [
    "#### Carregamos os dados de preços de apartamentos, com tamanho `size`, número de quartos `bedroom` e preço `price`."
   ]
  },
  {
   "cell_type": "code",
   "execution_count": 100,
   "metadata": {
    "scrolled": true
   },
   "outputs": [
    {
     "data": {
      "text/html": [
       "<div>\n",
       "<style scoped>\n",
       "    .dataframe tbody tr th:only-of-type {\n",
       "        vertical-align: middle;\n",
       "    }\n",
       "\n",
       "    .dataframe tbody tr th {\n",
       "        vertical-align: top;\n",
       "    }\n",
       "\n",
       "    .dataframe thead th {\n",
       "        text-align: right;\n",
       "    }\n",
       "</style>\n",
       "<table border=\"1\" class=\"dataframe\">\n",
       "  <thead>\n",
       "    <tr style=\"text-align: right;\">\n",
       "      <th></th>\n",
       "      <th>size</th>\n",
       "      <th>bedroom</th>\n",
       "      <th>price</th>\n",
       "    </tr>\n",
       "  </thead>\n",
       "  <tbody>\n",
       "    <tr>\n",
       "      <th>0</th>\n",
       "      <td>2104</td>\n",
       "      <td>3</td>\n",
       "      <td>399900</td>\n",
       "    </tr>\n",
       "    <tr>\n",
       "      <th>1</th>\n",
       "      <td>1600</td>\n",
       "      <td>3</td>\n",
       "      <td>329900</td>\n",
       "    </tr>\n",
       "    <tr>\n",
       "      <th>2</th>\n",
       "      <td>2400</td>\n",
       "      <td>3</td>\n",
       "      <td>369000</td>\n",
       "    </tr>\n",
       "    <tr>\n",
       "      <th>3</th>\n",
       "      <td>1416</td>\n",
       "      <td>2</td>\n",
       "      <td>232000</td>\n",
       "    </tr>\n",
       "    <tr>\n",
       "      <th>4</th>\n",
       "      <td>3000</td>\n",
       "      <td>4</td>\n",
       "      <td>539900</td>\n",
       "    </tr>\n",
       "  </tbody>\n",
       "</table>\n",
       "</div>"
      ],
      "text/plain": [
       "   size  bedroom   price\n",
       "0  2104        3  399900\n",
       "1  1600        3  329900\n",
       "2  2400        3  369000\n",
       "3  1416        2  232000\n",
       "4  3000        4  539900"
      ]
     },
     "execution_count": 100,
     "metadata": {},
     "output_type": "execute_result"
    }
   ],
   "source": [
    "df = pd.read_csv('prices.csv')\n",
    "df.head()"
   ]
  },
  {
   "cell_type": "code",
   "execution_count": 101,
   "metadata": {},
   "outputs": [
    {
     "data": {
      "text/plain": [
       "(47, 3)"
      ]
     },
     "execution_count": 101,
     "metadata": {},
     "output_type": "execute_result"
    }
   ],
   "source": [
    "df.shape"
   ]
  },
  {
   "cell_type": "markdown",
   "metadata": {},
   "source": [
    "### Pré-processamento.\n",
    "\n",
    "#### Vamos normalizar os dados dos preços de acordo com a média e o desvio padrão, através da aplicação do conceito de [z-score](https://www.statisticshowto.com/probability-and-statistics/z-score/#:~:text=1.,mean%20a%20raw%20score%20is.):\n",
    "$$\n",
    "\\begin{equation}\n",
    "z_{i} = \\frac{ X_{i} - \\overline{X}}{\\sigma}\n",
    "\\end{equation}\n",
    "$$"
   ]
  },
  {
   "cell_type": "code",
   "execution_count": 102,
   "metadata": {},
   "outputs": [
    {
     "data": {
      "text/html": [
       "<div>\n",
       "<style scoped>\n",
       "    .dataframe tbody tr th:only-of-type {\n",
       "        vertical-align: middle;\n",
       "    }\n",
       "\n",
       "    .dataframe tbody tr th {\n",
       "        vertical-align: top;\n",
       "    }\n",
       "\n",
       "    .dataframe thead th {\n",
       "        text-align: right;\n",
       "    }\n",
       "</style>\n",
       "<table border=\"1\" class=\"dataframe\">\n",
       "  <thead>\n",
       "    <tr style=\"text-align: right;\">\n",
       "      <th></th>\n",
       "      <th>size</th>\n",
       "      <th>bedroom</th>\n",
       "      <th>price</th>\n",
       "    </tr>\n",
       "  </thead>\n",
       "  <tbody>\n",
       "    <tr>\n",
       "      <th>0</th>\n",
       "      <td>0.130010</td>\n",
       "      <td>-0.223675</td>\n",
       "      <td>0.475747</td>\n",
       "    </tr>\n",
       "    <tr>\n",
       "      <th>1</th>\n",
       "      <td>-0.504190</td>\n",
       "      <td>-0.223675</td>\n",
       "      <td>-0.084074</td>\n",
       "    </tr>\n",
       "    <tr>\n",
       "      <th>2</th>\n",
       "      <td>0.502476</td>\n",
       "      <td>-0.223675</td>\n",
       "      <td>0.228626</td>\n",
       "    </tr>\n",
       "    <tr>\n",
       "      <th>3</th>\n",
       "      <td>-0.735723</td>\n",
       "      <td>-1.537767</td>\n",
       "      <td>-0.867025</td>\n",
       "    </tr>\n",
       "    <tr>\n",
       "      <th>4</th>\n",
       "      <td>1.257476</td>\n",
       "      <td>1.090417</td>\n",
       "      <td>1.595389</td>\n",
       "    </tr>\n",
       "  </tbody>\n",
       "</table>\n",
       "</div>"
      ],
      "text/plain": [
       "       size   bedroom     price\n",
       "0  0.130010 -0.223675  0.475747\n",
       "1 -0.504190 -0.223675 -0.084074\n",
       "2  0.502476 -0.223675  0.228626\n",
       "3 -0.735723 -1.537767 -0.867025\n",
       "4  1.257476  1.090417  1.595389"
      ]
     },
     "execution_count": 102,
     "metadata": {},
     "output_type": "execute_result"
    }
   ],
   "source": [
    "df_norm = (df - df.mean()) / df.std()\n",
    "df_norm.head()"
   ]
  },
  {
   "cell_type": "markdown",
   "metadata": {},
   "source": [
    "#### Captura da quantidade de atributos (features), lembrando que a última coluna faz referência aos rótulos (target)."
   ]
  },
  {
   "cell_type": "code",
   "execution_count": 103,
   "metadata": {},
   "outputs": [
    {
     "data": {
      "text/plain": [
       "2"
      ]
     },
     "execution_count": 103,
     "metadata": {},
     "output_type": "execute_result"
    }
   ],
   "source": [
    "n_features = len(df_norm.columns) - 1\n",
    "n_features"
   ]
  },
  {
   "cell_type": "markdown",
   "metadata": {},
   "source": [
    "#### Criamos um vetor $\\omega_{i}$ com base no número de atributos, inicializados com valores aleatórios entre 0 e 1."
   ]
  },
  {
   "cell_type": "code",
   "execution_count": 105,
   "metadata": {},
   "outputs": [
    {
     "data": {
      "text/plain": [
       "array([[0.65331796, 0.68875725, 0.47594217]])"
      ]
     },
     "execution_count": 105,
     "metadata": {},
     "output_type": "execute_result"
    }
   ],
   "source": [
    "w = np.random.rand(1, n_features + 1)\n",
    "w"
   ]
  },
  {
   "cell_type": "markdown",
   "metadata": {},
   "source": [
    "#### Por que criamos um vetor $\\omega$ com $3$ atributos e não $2$?"
   ]
  },
  {
   "cell_type": "markdown",
   "metadata": {},
   "source": [
    "#### Separamos os atributos $X_{i}$ e o rótulo $y$."
   ]
  },
  {
   "cell_type": "code",
   "execution_count": 106,
   "metadata": {},
   "outputs": [],
   "source": [
    "X = np.array(df_norm.drop('price', axis = 1))\n",
    "\n",
    "y = df_norm.iloc[:, 2:3].values"
   ]
  },
  {
   "cell_type": "code",
   "execution_count": 107,
   "metadata": {},
   "outputs": [
    {
     "data": {
      "text/plain": [
       "array([[ 1.30009869e-01, -2.23675187e-01],\n",
       "       [-5.04189838e-01, -2.23675187e-01],\n",
       "       [ 5.02476364e-01, -2.23675187e-01],\n",
       "       [-7.35723065e-01, -1.53776691e+00],\n",
       "       [ 1.25747602e+00,  1.09041654e+00],\n",
       "       [-1.97317285e-02,  1.09041654e+00],\n",
       "       [-5.87239800e-01, -2.23675187e-01],\n",
       "       [-7.21881404e-01, -2.23675187e-01],\n",
       "       [-7.81023044e-01, -2.23675187e-01],\n",
       "       [-6.37573110e-01, -2.23675187e-01],\n",
       "       [-7.63567023e-02,  1.09041654e+00],\n",
       "       [-8.56737193e-04, -2.23675187e-01],\n",
       "       [-1.39273340e-01, -2.23675187e-01],\n",
       "       [ 3.11729182e+00,  2.40450826e+00],\n",
       "       [-9.21956312e-01, -2.23675187e-01],\n",
       "       [ 3.76643089e-01,  1.09041654e+00],\n",
       "       [-8.56523009e-01, -1.53776691e+00],\n",
       "       [-9.62222960e-01, -2.23675187e-01],\n",
       "       [ 7.65467909e-01,  1.09041654e+00],\n",
       "       [ 1.29648433e+00,  1.09041654e+00],\n",
       "       [-2.94048269e-01, -2.23675187e-01],\n",
       "       [-1.41790005e-01, -1.53776691e+00],\n",
       "       [-4.99156507e-01, -2.23675187e-01],\n",
       "       [-4.86733818e-02,  1.09041654e+00],\n",
       "       [ 2.37739217e+00, -2.23675187e-01],\n",
       "       [-1.13335621e+00, -2.23675187e-01],\n",
       "       [-6.82873089e-01, -2.23675187e-01],\n",
       "       [ 6.61026291e-01, -2.23675187e-01],\n",
       "       [ 2.50809813e-01, -2.23675187e-01],\n",
       "       [ 8.00701226e-01, -2.23675187e-01],\n",
       "       [-2.03448310e-01, -1.53776691e+00],\n",
       "       [-1.25918949e+00, -2.85185864e+00],\n",
       "       [ 4.94765729e-02,  1.09041654e+00],\n",
       "       [ 1.42986760e+00, -2.23675187e-01],\n",
       "       [-2.38681627e-01,  1.09041654e+00],\n",
       "       [-7.09298077e-01, -2.23675187e-01],\n",
       "       [-9.58447962e-01, -2.23675187e-01],\n",
       "       [ 1.65243186e-01,  1.09041654e+00],\n",
       "       [ 2.78635031e+00,  1.09041654e+00],\n",
       "       [ 2.02993169e-01,  1.09041654e+00],\n",
       "       [-4.23656542e-01, -1.53776691e+00],\n",
       "       [ 2.98626458e-01, -2.23675187e-01],\n",
       "       [ 7.12617934e-01,  1.09041654e+00],\n",
       "       [-1.00752294e+00, -2.23675187e-01],\n",
       "       [-1.44542274e+00, -1.53776691e+00],\n",
       "       [-1.87089985e-01,  1.09041654e+00],\n",
       "       [-1.00374794e+00, -2.23675187e-01]])"
      ]
     },
     "execution_count": 107,
     "metadata": {},
     "output_type": "execute_result"
    }
   ],
   "source": [
    "X"
   ]
  },
  {
   "cell_type": "code",
   "execution_count": 109,
   "metadata": {},
   "outputs": [
    {
     "data": {
      "text/plain": [
       "array([[ 0.47574687],\n",
       "       [-0.08407444],\n",
       "       [ 0.22862575],\n",
       "       [-0.86702453],\n",
       "       [ 1.59538948],\n",
       "       [-0.32399786],\n",
       "       [-0.20403615],\n",
       "       [-1.13094828],\n",
       "       [-1.02697347],\n",
       "       [-0.78305133],\n",
       "       [-0.80305294],\n",
       "       [ 0.05268191],\n",
       "       [-0.08328269],\n",
       "       [ 2.87498104],\n",
       "       [-0.64389575],\n",
       "       [ 0.87561923],\n",
       "       [-0.32399786],\n",
       "       [-1.12374258],\n",
       "       [ 1.27627534],\n",
       "       [ 2.06803861],\n",
       "       [-0.69987788],\n",
       "       [-0.68308324],\n",
       "       [-0.77985235],\n",
       "       [-0.64389575],\n",
       "       [ 1.86730269],\n",
       "       [-0.72387022],\n",
       "       [ 0.99238196],\n",
       "       [ 1.02837047],\n",
       "       [ 1.07635515],\n",
       "       [-0.32399786],\n",
       "       [ 0.0758745 ],\n",
       "       [-1.363666  ],\n",
       "       [-0.20403615],\n",
       "       [ 1.91528737],\n",
       "       [-0.43596212],\n",
       "       [-0.72387022],\n",
       "       [-0.88381916],\n",
       "       [ 0.03668701],\n",
       "       [ 1.66816625],\n",
       "       [-0.42716493],\n",
       "       [ 0.22462702],\n",
       "       [-0.08407444],\n",
       "       [-0.21123385],\n",
       "       [-0.33119556],\n",
       "       [-1.28369153],\n",
       "       [-0.32399786],\n",
       "       [-0.80704367]])"
      ]
     },
     "execution_count": 109,
     "metadata": {},
     "output_type": "execute_result"
    }
   ],
   "source": [
    "y"
   ]
  },
  {
   "cell_type": "markdown",
   "metadata": {},
   "source": [
    "#### Função que cria a coluna com `1` para $X_{0}$."
   ]
  },
  {
   "cell_type": "code",
   "execution_count": 114,
   "metadata": {},
   "outputs": [],
   "source": [
    "def insert_ones(X):\n",
    "    ones = np.ones([X.shape[0],1])\n",
    "    return np.concatenate((ones, X), axis = 1)"
   ]
  },
  {
   "cell_type": "markdown",
   "metadata": {},
   "source": [
    "#### Função que calcula o Custo.\n",
    "\n",
    "#### Essa função faz a [multiplicação de matrizes](https://medium.com/analytics-vidhya/python-matrix-multiplication-using-a-dedicated-infix-operator-b0a41b68904f) ([operador `@`](https://www.python.org/dev/peps/pep-0465/)), utilizando a transposta de $\\omega$. Ela também realiza a soma dos quadrados e retorna um valor dividido pelo número de observações `m`."
   ]
  },
  {
   "cell_type": "code",
   "execution_count": 126,
   "metadata": {},
   "outputs": [],
   "source": [
    "def custo(w, X, y):\n",
    "    m = len(X)\n",
    "    erro = (X @ w.T - y)\n",
    "    custo = np.sum(np.power(erro, 2))\n",
    "    return custo / m"
   ]
  },
  {
   "cell_type": "markdown",
   "metadata": {},
   "source": [
    "#### O algoritmo do Gradiente Descendente pode ser escrito inicializando-se uma matriz função de custo com zeros, com o método [`np.zeros()`](https://numpy.org/doc/stable/reference/generated/numpy.zeros.html)."
   ]
  },
  {
   "cell_type": "code",
   "execution_count": 116,
   "metadata": {},
   "outputs": [],
   "source": [
    "def gradient_descent(w, X, y, alpha, epoch):\n",
    "    cost = np.zeros(epoch)\n",
    "    for i in range(epoch): \n",
    "        w = w - (alpha / len(X)) * np.sum((X @ w.T - y) * X, \n",
    "                                          axis = 0\n",
    "                                         )\n",
    "        # chama a função de custo para realizar o cálculo\n",
    "        cost[i] = custo(w, X, y)\n",
    "    \n",
    "    return w, cost"
   ]
  },
  {
   "cell_type": "markdown",
   "metadata": {},
   "source": [
    "#### Inicialização das variáveis."
   ]
  },
  {
   "cell_type": "code",
   "execution_count": 117,
   "metadata": {},
   "outputs": [
    {
     "data": {
      "text/plain": [
       "array([[ 1.00000000e+00,  1.30009869e-01, -2.23675187e-01],\n",
       "       [ 1.00000000e+00, -5.04189838e-01, -2.23675187e-01],\n",
       "       [ 1.00000000e+00,  5.02476364e-01, -2.23675187e-01],\n",
       "       [ 1.00000000e+00, -7.35723065e-01, -1.53776691e+00],\n",
       "       [ 1.00000000e+00,  1.25747602e+00,  1.09041654e+00],\n",
       "       [ 1.00000000e+00, -1.97317285e-02,  1.09041654e+00],\n",
       "       [ 1.00000000e+00, -5.87239800e-01, -2.23675187e-01],\n",
       "       [ 1.00000000e+00, -7.21881404e-01, -2.23675187e-01],\n",
       "       [ 1.00000000e+00, -7.81023044e-01, -2.23675187e-01],\n",
       "       [ 1.00000000e+00, -6.37573110e-01, -2.23675187e-01],\n",
       "       [ 1.00000000e+00, -7.63567023e-02,  1.09041654e+00],\n",
       "       [ 1.00000000e+00, -8.56737193e-04, -2.23675187e-01],\n",
       "       [ 1.00000000e+00, -1.39273340e-01, -2.23675187e-01],\n",
       "       [ 1.00000000e+00,  3.11729182e+00,  2.40450826e+00],\n",
       "       [ 1.00000000e+00, -9.21956312e-01, -2.23675187e-01],\n",
       "       [ 1.00000000e+00,  3.76643089e-01,  1.09041654e+00],\n",
       "       [ 1.00000000e+00, -8.56523009e-01, -1.53776691e+00],\n",
       "       [ 1.00000000e+00, -9.62222960e-01, -2.23675187e-01],\n",
       "       [ 1.00000000e+00,  7.65467909e-01,  1.09041654e+00],\n",
       "       [ 1.00000000e+00,  1.29648433e+00,  1.09041654e+00],\n",
       "       [ 1.00000000e+00, -2.94048269e-01, -2.23675187e-01],\n",
       "       [ 1.00000000e+00, -1.41790005e-01, -1.53776691e+00],\n",
       "       [ 1.00000000e+00, -4.99156507e-01, -2.23675187e-01],\n",
       "       [ 1.00000000e+00, -4.86733818e-02,  1.09041654e+00],\n",
       "       [ 1.00000000e+00,  2.37739217e+00, -2.23675187e-01],\n",
       "       [ 1.00000000e+00, -1.13335621e+00, -2.23675187e-01],\n",
       "       [ 1.00000000e+00, -6.82873089e-01, -2.23675187e-01],\n",
       "       [ 1.00000000e+00,  6.61026291e-01, -2.23675187e-01],\n",
       "       [ 1.00000000e+00,  2.50809813e-01, -2.23675187e-01],\n",
       "       [ 1.00000000e+00,  8.00701226e-01, -2.23675187e-01],\n",
       "       [ 1.00000000e+00, -2.03448310e-01, -1.53776691e+00],\n",
       "       [ 1.00000000e+00, -1.25918949e+00, -2.85185864e+00],\n",
       "       [ 1.00000000e+00,  4.94765729e-02,  1.09041654e+00],\n",
       "       [ 1.00000000e+00,  1.42986760e+00, -2.23675187e-01],\n",
       "       [ 1.00000000e+00, -2.38681627e-01,  1.09041654e+00],\n",
       "       [ 1.00000000e+00, -7.09298077e-01, -2.23675187e-01],\n",
       "       [ 1.00000000e+00, -9.58447962e-01, -2.23675187e-01],\n",
       "       [ 1.00000000e+00,  1.65243186e-01,  1.09041654e+00],\n",
       "       [ 1.00000000e+00,  2.78635031e+00,  1.09041654e+00],\n",
       "       [ 1.00000000e+00,  2.02993169e-01,  1.09041654e+00],\n",
       "       [ 1.00000000e+00, -4.23656542e-01, -1.53776691e+00],\n",
       "       [ 1.00000000e+00,  2.98626458e-01, -2.23675187e-01],\n",
       "       [ 1.00000000e+00,  7.12617934e-01,  1.09041654e+00],\n",
       "       [ 1.00000000e+00, -1.00752294e+00, -2.23675187e-01],\n",
       "       [ 1.00000000e+00, -1.44542274e+00, -1.53776691e+00],\n",
       "       [ 1.00000000e+00, -1.87089985e-01,  1.09041654e+00],\n",
       "       [ 1.00000000e+00, -1.00374794e+00, -2.23675187e-01]])"
      ]
     },
     "execution_count": 117,
     "metadata": {},
     "output_type": "execute_result"
    }
   ],
   "source": [
    "X = insert_ones(X)\n",
    "X"
   ]
  },
  {
   "cell_type": "code",
   "execution_count": 118,
   "metadata": {},
   "outputs": [],
   "source": [
    "alpha = 0.01\n",
    "epoch = 800"
   ]
  },
  {
   "cell_type": "markdown",
   "metadata": {},
   "source": [
    "#### Executamos do laço das épocas."
   ]
  },
  {
   "cell_type": "code",
   "execution_count": 119,
   "metadata": {},
   "outputs": [],
   "source": [
    "w, cost = gradient_descent(w, X, y, alpha, epoch)"
   ]
  },
  {
   "cell_type": "markdown",
   "metadata": {},
   "source": [
    "#### Ao custo final de."
   ]
  },
  {
   "cell_type": "code",
   "execution_count": 120,
   "metadata": {},
   "outputs": [
    {
     "data": {
      "text/plain": [
       "0.26148647494246624"
      ]
     },
     "execution_count": 120,
     "metadata": {},
     "output_type": "execute_result"
    }
   ],
   "source": [
    "custo(w, X, y)"
   ]
  },
  {
   "cell_type": "markdown",
   "metadata": {},
   "source": [
    "#### Que plotamos:"
   ]
  },
  {
   "cell_type": "code",
   "execution_count": 123,
   "metadata": {},
   "outputs": [
    {
     "data": {
      "text/plain": [
       "Text(0.5, 1.0, 'Erro vs. Epoch')"
      ]
     },
     "execution_count": 123,
     "metadata": {},
     "output_type": "execute_result"
    },
    {
     "data": {
      "image/png": "[encoded data removed]",
      "text/plain": [
       "<Figure size 432x288 with 1 Axes>"
      ]
     },
     "metadata": {
      "needs_background": "light"
     },
     "output_type": "display_data"
    }
   ],
   "source": [
    "fig, ax = plt.subplots()  \n",
    "ax.plot(np.arange(epoch), cost, 'r')  \n",
    "ax.set_xlabel('Iterações')  \n",
    "ax.set_ylabel('Custo')  \n",
    "ax.set_title('Erro vs. Epoch')  "
   ]
  },
  {
   "cell_type": "markdown",
   "metadata": {},
   "source": [
    "#### Os valores finais dos pesos $\\omega_{i}$."
   ]
  },
  {
   "cell_type": "code",
   "execution_count": 125,
   "metadata": {},
   "outputs": [
    {
     "data": {
      "text/plain": [
       "array([[ 2.10513656e-04,  8.73289111e-01, -4.17004397e-02]])"
      ]
     },
     "execution_count": 125,
     "metadata": {},
     "output_type": "execute_result"
    }
   ],
   "source": [
    "w"
   ]
  }
 ],
 "metadata": {
  "kernelspec": {
   "display_name": "Python 3",
   "language": "python",
   "name": "python3"
  },
  "language_info": {
   "codemirror_mode": {
    "name": "ipython",
    "version": 3
   },
   "file_extension": ".py",
   "mimetype": "text/x-python",
   "name": "python",
   "nbconvert_exporter": "python",
   "pygments_lexer": "ipython3",
   "version": "3.7.6"
  }
 },
 "nbformat": 4,
 "nbformat_minor": 4
}
