{
  "nbformat": 4,
  "nbformat_minor": 0,
  "metadata": {
    "colab": {
      "name": "M2A28-PRATICA_INDEPENDENTE_INTRO_GRADIENTE_DESCENDENTE.ipynb",
      "provenance": [],
      "collapsed_sections": []
    },
    "kernelspec": {
      "display_name": "Python 3",
      "language": "python",
      "name": "python3"
    },
    "language_info": {
      "codemirror_mode": {
        "name": "ipython",
        "version": 3
      },
      "file_extension": ".py",
      "mimetype": "text/x-python",
      "name": "python",
      "nbconvert_exporter": "python",
      "pygments_lexer": "ipython3",
      "version": "3.7.6"
    }
  },
  "cells": [
    {
      "cell_type": "markdown",
      "metadata": {
        "id": "CwgSmWct8_2J"
      },
      "source": [
        "# Prática independente - Gradiente Descendente."
      ]
    },
    {
      "cell_type": "code",
      "metadata": {
        "id": "lorJrLET8_2S"
      },
      "source": [
        "import numpy as np\n",
        "import pandas as pd\n",
        "import scipy as sp\n",
        "import matplotlib.pyplot as plt\n",
        "import random\n",
        "from scipy import stats\n",
        "from scipy.optimize import fmin\n",
        "\n",
        "#Tamanho padrão das figuras neste notebook\n",
        "plt.rcParams['figure.figsize'] = [9, 5]\n",
        "plt.rcParams['figure.dpi'] = 100"
      ],
      "execution_count": 5,
      "outputs": []
    },
    {
      "cell_type": "markdown",
      "metadata": {
        "id": "ERwnK6qJ8_2U"
      },
      "source": [
        "#### O Gradiente Descendente é um algoritmo de otimização de minimização de uma função custo, ou função erro. o algoritmo procura por direções de gradiente negativo.\n",
        "\n",
        "- Encontre um valor inicial para $X_{0}$\n",
        "- Escreva um laço para $i$, com um número ($i = 0, 1, 2, ... $) de variáveis.\n",
        "- Calcule $s_k$ = -$\\nabla f(x_k)$\n",
        "- Escolha a taxa de aprendizado $\\alpha_{k}$ que minimiza $f(x_k+\\alpha_{k} s_{k})$\n",
        "- Faça $x_{k + 1} = x_{k} + \\alpha_k s_{k}$"
      ]
    },
    {
      "cell_type": "markdown",
      "metadata": {
        "id": "sf9jDOHl8_2U"
      },
      "source": [
        "#### Exercicio 1 - Gradiente Descendente: Encontre o valor mínimo para a função de custo $f(x) = x^{3} - 2x^{2} + 2$."
      ]
    },
    {
      "cell_type": "markdown",
      "metadata": {
        "id": "lGYgMzHV8_2V"
      },
      "source": [
        "#### Defina a função custo e plot seu valor no invervalo `x = [-1.0, 2,5]` e `y = [0.0, 3.0]`."
      ]
    },
    {
      "cell_type": "code",
      "metadata": {
        "id": "-QhDDND58_2V"
      },
      "source": [
        "funcao_custo = lambda x: x ** 3 - 2 * x ** 2 + 2"
      ],
      "execution_count": 3,
      "outputs": []
    },
    {
      "cell_type": "code",
      "metadata": {
        "colab": {
          "base_uri": "https://localhost:8080/",
          "height": 443
        },
        "id": "ygkBuBpF8_2W",
        "outputId": "9de5a309-d502-4f7e-ac79-bf04420197ad"
      },
      "source": [
        "x = np.linspace(-1,2.5,1000) # distribuição com 1000 valores entre o valor mínimo e máximo de x\n",
        "\n",
        "xmin = -1.0 # x mínimo\n",
        "xmax = 2.5 # x máximo\n",
        "ymin = 0.0 # y mínimo\n",
        "ymax = 3.0 # y máximo\n",
        "\n",
        "plt.plot(x,funcao_custo(x))\n",
        "plt.xlim([xmin,xmax])\n",
        "plt.ylim([ymin,ymax]);"
      ],
      "execution_count": 6,
      "outputs": [
        {
          "output_type": "display_data",
          "data": {
            "image/png": "[encoded data removed]",
            "text/plain": [
              "<Figure size 900x500 with 1 Axes>"
            ]
          },
          "metadata": {
            "tags": [],
            "needs_background": "light"
          }
        }
      ]
    },
    {
      "cell_type": "markdown",
      "metadata": {
        "id": "PRmd3Tsy8_2W"
      },
      "source": [
        "#### Escreva uma função para calcular ponto mínimo $X_{min}$, começando a busca por $X_{0} = 2$. Imprima também o número de passos aplicados ao Gradiente Descendente. Defina um passo de tamanho $0.1$ a precisão como $0.0001$."
      ]
    },
    {
      "cell_type": "code",
      "metadata": {
        "colab": {
          "base_uri": "https://localhost:8080/"
        },
        "id": "2czgL6wk8_2X",
        "outputId": "e8e2c9e2-a01c-48f8-b13e-de6a93af32d9"
      },
      "source": [
        "x_antigo = 0\n",
        "x_novo = 2 # a busca começa em X0 = 2\n",
        "alpha = 0.1 # tamanho do passo (alpha)\n",
        "precisao = 0.0001\n",
        "passo = 1\n",
        "\n",
        "def derivativa_de_funcao(x):\n",
        "    return 3 * x ** 2 - 4 * x # Retorna o valor da derivativa da função\n",
        " \n",
        "\n",
        "x_lista, y_lista = [x_novo], [derivativa_de_funcao(x_novo)]\n",
        "\n",
        "while abs(x_novo - x_antigo) > precisao:\n",
        "    x_antigo = x_novo\n",
        "    s_k = -derivativa_de_funcao(x_antigo)\n",
        "    x_novo = x_antigo + alpha * s_k\n",
        "    print(f'Passo: {passo} - Local mínimo: {x_novo}')\n",
        "    x_lista.append(x_novo)\n",
        "    y_lista.append(derivativa_de_funcao(x_novo))\n",
        "    passo += 1\n",
        "\n",
        "print()\n",
        "print(\"O ponto mínimo ocorre em:\", x_novo)\n",
        "print(\"Número de passos:\", len(x_lista))"
      ],
      "execution_count": 7,
      "outputs": [
        {
          "output_type": "stream",
          "text": [
            "Passo: 1 - Local mínimo: 1.6\n",
            "Passo: 2 - Local mínimo: 1.472\n",
            "Passo: 3 - Local mínimo: 1.4107648\n",
            "Passo: 4 - Local mínimo: 1.377993523724288\n",
            "Passo: 5 - Local mínimo: 1.3595310877861793\n",
            "Passo: 6 - Local mínimo: 1.3488460893035294\n",
            "Passo: 7 - Local mínimo: 1.3425687932361137\n",
            "Passo: 8 - Local mínimo: 1.3388490211591169\n",
            "Passo: 9 - Local mínimo: 1.336633619185146\n",
            "Passo: 10 - Local mínimo: 1.3353102372784098\n",
            "Passo: 11 - Local mínimo: 1.3345183032556167\n",
            "Passo: 12 - Local mínimo: 1.3340438940405883\n",
            "Passo: 13 - Local mínimo: 1.3337595182887307\n",
            "Passo: 14 - Local mínimo: 1.333588989816487\n",
            "Passo: 15 - Local mínimo: 1.3334867076151544\n",
            "Passo: 16 - Local mínimo: 1.3334253508453249\n",
            "\n",
            "O ponto mínimo ocorre em: 1.3334253508453249\n",
            "Número de passos: 17\n"
          ],
          "name": "stdout"
        }
      ]
    },
    {
      "cell_type": "markdown",
      "metadata": {
        "id": "Ym99iNrl8_2X"
      },
      "source": [
        "#### Acima você fez uso de uma taxa de aprendizado, ou o passo do algoritmo, constante, o que para um valor baixo pode significar lenta convergência. Estude o método [`scipy.optimize.fmin()`](https://docs.scipy.org/doc/scipy/reference/generated/scipy.optimize.fmin.html) e tente otimizar o número de passos que o algoritmo dá para apresentar um resultado. Em outras palavras, otimize a taxa de aprendizagem do modelo."
      ]
    },
    {
      "cell_type": "code",
      "metadata": {
        "colab": {
          "base_uri": "https://localhost:8080/"
        },
        "id": "XjHn_1BZ8_2Y",
        "outputId": "ecf5133f-7cb8-4f91-caac-fa7a11d351d4"
      },
      "source": [
        "def derivativa_de_funcao(x):\n",
        "    return 3 * x ** 2 - 4 * x # Retorna o valor da derivativa da função\n",
        "\n",
        "# função para ser utilizado no otimizador\n",
        "def funcao_objetiva(n,x,s):\n",
        "    x = x + n * s\n",
        "    return derivativa_de_funcao(x)\n",
        "\n",
        "x_antigo = 0\n",
        "x_novo = 2 # a busca começa em X0 = 2\n",
        "alpha = 0.1 # tamanho do passo (alpha)\n",
        "precisao = 0.0001\n",
        "\n",
        "x_lista, y_lista = [x_novo], [derivativa_de_funcao(x_novo)]\n",
        "\n",
        "while abs(x_novo - x_antigo) > precisao:\n",
        "  x_antigo = x_novo\n",
        "  s_k = -derivativa_de_funcao(x_antigo)\n",
        "\n",
        "  #otimizador do scipy para encontrar o melhor número de passos \n",
        "  n_k = fmin(funcao_objetiva, 0.1, (x_antigo, s_k), \n",
        "              full_output = False, \n",
        "              disp = False\n",
        "            )\n",
        "    \n",
        "  x_novo = x_antigo + n_k * s_k\n",
        "  x_lista.append(x_novo)\n",
        "  y_lista.append(derivativa_de_funcao(x_novo))\n",
        "\n",
        "print(\"O ponto mínimo ocorre em:\", float(x_novo))\n",
        "print(\"Número de passos:\", len(x_lista))"
      ],
      "execution_count": 9,
      "outputs": [
        {
          "output_type": "stream",
          "text": [
            "O ponto mínimo ocorre em: 0.6666666666641204\n",
            "Número de passos: 4\n"
          ],
          "name": "stdout"
        }
      ]
    },
    {
      "cell_type": "markdown",
      "metadata": {
        "id": "542q0cQT8_2Y"
      },
      "source": [
        "#### Teste também outro método de ajuste da taxa de aprendizado, criando uma \"constante\" que varia de acordo com uma constande de redução $d$, como visto a seguir. \n",
        "$$\n",
        "\\begin{equation}\n",
        "\\alpha_{t+1} = \\frac{\\alpha_{t}}{(1+t\\times d)}\n",
        "\\end{equation}\n",
        "$$"
      ]
    },
    {
      "cell_type": "code",
      "metadata": {
        "colab": {
          "base_uri": "https://localhost:8080/"
        },
        "id": "cTo7DNEa8_2Z",
        "outputId": "088aae48-769e-4623-c0ba-1b7ef79be906"
      },
      "source": [
        "def derivativa_de_funcao(x):\n",
        "    return 3 * x ** 2 - 4 * x # Retorna o valor da derivativa da função\n",
        "\n",
        "# função para ser utilizado no otimizador\n",
        "def funcao_objetiva(n,x,s):\n",
        "    x = x + n * s\n",
        "    return derivativa_de_funcao(x)\n",
        "\n",
        "x_antigo = 0\n",
        "x_novo = 2 # a busca começa em X0 = 2\n",
        "n_k = 0.17 # tamanho do passo\n",
        "precisao = 0.0001\n",
        "t, d = 0, 1\n",
        "\n",
        "x_lista, y_lista = [x_novo], [derivativa_de_funcao(x_novo)]\n",
        "\n",
        "while abs(x_novo - x_antigo) > precisao:\n",
        "  x_antigo = x_novo\n",
        "  s_k = -derivativa_de_funcao(x_antigo)\n",
        "  x_novo = x_antigo + n_k * s_k\n",
        "  x_lista.append(x_novo)\n",
        "  y_lista.append(derivativa_de_funcao(x_novo))\n",
        "  n_k = n_k / (1 + t * d)\n",
        "  t += 1\n",
        "\n",
        "print(\"O ponto mínimo ocorre em:\", x_novo)\n",
        "print(\"Número de passos:\", len(x_lista))"
      ],
      "execution_count": 10,
      "outputs": [
        {
          "output_type": "stream",
          "text": [
            "O ponto mínimo ocorre em: 1.3308506740900838\n",
            "Número de passos: 6\n"
          ],
          "name": "stdout"
        }
      ]
    },
    {
      "cell_type": "markdown",
      "metadata": {
        "id": "Mo8KLHbN8_2Z"
      },
      "source": [
        "#### Exercício 2 - Regressão Linear: Como a temperatura afeta os ruídos dos grilos. No arquivo `SGD_data.txt`, você encontra  uma base de dados de taxas de [chilreio](https://escola.britannica.com.br/artigo/grilo/481074) de grilos em várias temperaturas. Carregue o conjunto, e plote a dispersão entre `Temperatura` em graus Fahrenheit e os `chilreios/s` para o [Allonemobius fasciatus](https://www.cirrusimage.com/orthoptera_striped_cricket/):"
      ]
    },
    {
      "cell_type": "code",
      "metadata": {
        "colab": {
          "base_uri": "https://localhost:8080/",
          "height": 480
        },
        "id": "OK67sOD58_2Z",
        "outputId": "5316f3a6-a590-4d9c-fd53-f3f2946ed46a"
      },
      "source": [
        "# Carregando dados como um array numpy (duas dimensões: taxas de chilheio e temperaturas)\n",
        "grilos = np.loadtxt('SGD_data.txt', delimiter = ',')\n",
        "\n",
        "#Plotando dados\n",
        "plt.scatter(x= grilos[:, 1],\n",
        "            y= grilos[:, 0], \n",
        "             )\n",
        "\n",
        "plt.title('Chilreios vs Temperatura')\n",
        "plt.ylabel('chilreios/s')\n",
        "plt.xlabel('Temperatura (Fahrenheit)');"
      ],
      "execution_count": 12,
      "outputs": [
        {
          "output_type": "display_data",
          "data": {
            "image/png": "[encoded data removed]",
            "text/plain": [
              "<Figure size 900x500 with 1 Axes>"
            ]
          },
          "metadata": {
            "tags": [],
            "needs_background": "light"
          }
        }
      ]
    },
    {
      "cell_type": "markdown",
      "metadata": {
        "id": "XmY2UNMCDN-t"
      },
      "source": [
        "Percebemos uma correlação linear positiva entre taxas de chilreios e temperatura, o que nos faz levantar a hipótese de quanto maior a temperatura (variável preditora/independente), maior o número de grilos e, consequentemente, a taxa de chilreios (variável resposta/dependente)."
      ]
    },
    {
      "cell_type": "markdown",
      "metadata": {
        "id": "ixb04bBC8_2a"
      },
      "source": [
        "#### Seu objetivo é encontrar a equação de reta $h_\\theta(x) = \\theta_0 + \\theta_1 x$ que melhor se ajusta aos pontos. \n",
        "\n",
        "$$\n",
        "\\begin{equation}\n",
        "J(\\theta_0,\\theta_1) = {1 \\over 2m} \\sum\\limits_{i=1}^m (h_\\theta(x_i)-y_i)^2\n",
        "\\end{equation}\n",
        "$$\n",
        "\n",
        "Aqui o Gradiente terá duas dimensões:\n",
        "\n",
        "\n",
        "$$\n",
        "\\begin{equation}\n",
        "\\frac{\\partial}{\\partial \\theta_0} J(\\theta_0,\\theta_1) = \\frac{1}{m}  \\sum\\limits_{i=1}^m (h_\\theta(x_i)-y_i)\n",
        "\\end{equation}\n",
        "$$\n",
        "\n",
        "$$\n",
        "\\begin{equation}\n",
        "\\frac{\\partial}{\\partial \\theta_1} J(\\theta_0,\\theta_1) = \\frac{1}{m}  \\sum\\limits_{i=1}^m ((h_\\theta(x_i)-y_i) \\cdot x_i)\n",
        "\\end{equation}\n",
        "$$\n",
        "\n",
        "#### Configure as funções $h$, $J$ e o gradiente:"
      ]
    },
    {
      "cell_type": "code",
      "metadata": {
        "id": "joLgPlsu8_2a"
      },
      "source": [
        "h = lambda theta_0, theta_1, x: theta_0 + theta_1 * x\n",
        "\n",
        "def J(x, y, m, theta_0, theta_1):\n",
        "    returnValue = 0\n",
        "    for i in range(m):\n",
        "        returnValue += (h(theta_0,\n",
        "                          theta_1, \n",
        "                          x[i]) - y[i]) ** 2\n",
        "    returnValue = returnValue / (2 * m)\n",
        "    return returnValue\n",
        "\n",
        "def grad_J(x, y, m, theta_0, theta_1):\n",
        "    returnValue = np.array([0., 0.])\n",
        "    for i in range(m):\n",
        "        returnValue[0] += (h(theta_0, theta_1, x[i]) - y[i])\n",
        "        returnValue[1] += (h(theta_0, theta_1, x[i]) - y[i]) * x[i]\n",
        "    returnValue = returnValue / (m)\n",
        "    return returnValue"
      ],
      "execution_count": 28,
      "outputs": []
    },
    {
      "cell_type": "markdown",
      "metadata": {
        "id": "Ob6ktuoB8_2a"
      },
      "source": [
        "#### Carregue os dados nas variáveis $X$ e $y$."
      ]
    },
    {
      "cell_type": "code",
      "metadata": {
        "id": "A6yk_2K48_2b"
      },
      "source": [
        "# Chilreios (Dependente)\n",
        "X= grilos[:, 0]\n",
        "\n",
        "# Temperatura (Independente)\n",
        "y= grilos[:, 1]\n",
        "\n",
        "#Total de individuos\n",
        "m = len(X)"
      ],
      "execution_count": 38,
      "outputs": []
    },
    {
      "cell_type": "markdown",
      "metadata": {
        "id": "1vfVfO-i8_2b"
      },
      "source": [
        "#### Execute no algoritmo do gradiente Descendente, com taxa de aprendizado constante."
      ]
    },
    {
      "cell_type": "code",
      "metadata": {
        "colab": {
          "base_uri": "https://localhost:8080/"
        },
        "id": "xMJuRI3z8_2b",
        "outputId": "8661276a-5572-4462-d68c-bf1835863292"
      },
      "source": [
        "theta_old = np.array([0., 0.])\n",
        "theta_new = np.array([1., 1.]) # The algorithm starts at [1,1]\n",
        "n_k = 0.001 # step size\n",
        "precision = 0.001\n",
        "num_steps = 0\n",
        "s_k = float(\"inf\")\n",
        "\n",
        "while np.linalg.norm(s_k) > precision:\n",
        "  num_steps += 1\n",
        "  theta_old = theta_new\n",
        "  s_k = -gradiente_J(X, \n",
        "                  y, \n",
        "                  m, \n",
        "                  theta_old[0],\n",
        "                  theta_old[1]\n",
        "                 )\n",
        "  theta_new = theta_old + n_k * s_k\n",
        "\n",
        "print(\"O mínimo local ocorre em:\")\n",
        "print(\"theta_0 =\", theta_new[0])\n",
        "print(\"theta_1 =\", theta_new[1])\n",
        "print(\"Tomando\", num_steps, \"passos para convergir\")"
      ],
      "execution_count": 39,
      "outputs": [
        {
          "output_type": "stream",
          "text": [
            "O mínimo local ocorre em:\n",
            "theta_0 = 25.128552558595363\n",
            "theta_1 = 3.297264756251897\n",
            "Tomando 565859 passos para convergir\n"
          ],
          "name": "stdout"
        }
      ]
    },
    {
      "cell_type": "markdown",
      "metadata": {
        "id": "JQMfNuZT8_2c"
      },
      "source": [
        "#### Para comparação, tome os valores reais para $\\theta_0$ and $\\theta_1$, aplicando o método [`scipy.stats.linregress(`](https://docs.scipy.org/doc/scipy/reference/generated/scipy.stats.linregress.html). Discuta os resultados."
      ]
    },
    {
      "cell_type": "code",
      "metadata": {
        "id": "GF30vS5v8_2c",
        "colab": {
          "base_uri": "https://localhost:8080/"
        },
        "outputId": "f99f3692-6db2-480a-db5c-6c9a89053ac8"
      },
      "source": [
        "valores_reais = sp.stats.linregress(X, y)\n",
        "print(\"Os valores reais para theta são:\")\n",
        "print(\"theta_0 =\", valores_reais.intercept)\n",
        "print(\"theta_1 =\", valores_reais.slope)"
      ],
      "execution_count": 41,
      "outputs": [
        {
          "output_type": "stream",
          "text": [
            "Os valores reais para theta são:\n",
            "theta_0 = 25.232304983426026\n",
            "theta_1 = 3.2910945679475647\n"
          ],
          "name": "stdout"
        }
      ]
    },
    {
      "cell_type": "code",
      "metadata": {
        "colab": {
          "base_uri": "https://localhost:8080/"
        },
        "id": "ISodpodN28kL",
        "outputId": "f63a1b3f-4fdd-455e-81f6-1ebf018fc0c8"
      },
      "source": [
        "print(f\"R-squared: {valores_reais.rvalue**2:.6f}\")"
      ],
      "execution_count": 53,
      "outputs": [
        {
          "output_type": "stream",
          "text": [
            "R-squared: 0.697465\n"
          ],
          "name": "stdout"
        }
      ]
    },
    {
      "cell_type": "markdown",
      "metadata": {
        "id": "Rf4AnwjV3DBE"
      },
      "source": [
        "O R-squared é uma métrica de avaliação de modelo que nos retorna o quão bem o nosso modelo está explicando as variáveis. O minínimo (ruim) é zero e o melhor é 1. Neste caso temos 69% de eficácia do modelo na explicação da relação entre as duas variáveis."
      ]
    },
    {
      "cell_type": "markdown",
      "metadata": {
        "id": "ErlRauno8_2c"
      },
      "source": [
        "#### Apresente o gráfico da linha desenhada com seus valores $\\theta_{0}$ e $\\theta_{1}$ em relação aos dados:"
      ]
    },
    {
      "cell_type": "code",
      "metadata": {
        "id": "Y24blSYO8_2d",
        "colab": {
          "base_uri": "https://localhost:8080/",
          "height": 480
        },
        "outputId": "029f92c7-76e4-4f82-db5f-f2b6d3617d97"
      },
      "source": [
        "xx = np.linspace(0, 21, 1000)\n",
        "\n",
        "plt.scatter(grilos[:, 0], \n",
        "            grilos[:, 1], \n",
        "            marker = 'o', \n",
        "            c = 'b')\n",
        "\n",
        "plt.plot(xx,h(theta_new[0], \n",
        "              theta_new[1], \n",
        "              xx))\n",
        "\n",
        "plt.xlim([13,21])\n",
        "plt.ylim([65,95])\n",
        "plt.title('Chilreios vs Temperatura')\n",
        "plt.xlabel('chilreios/s')\n",
        "plt.ylabel('Temperatura ($^{o}$F)');"
      ],
      "execution_count": 50,
      "outputs": [
        {
          "output_type": "display_data",
          "data": {
            "image/png": "[encoded data removed]",
            "text/plain": [
              "<Figure size 900x500 with 1 Axes>"
            ]
          },
          "metadata": {
            "tags": [],
            "needs_background": "light"
          }
        }
      ]
    },
    {
      "cell_type": "markdown",
      "metadata": {
        "id": "r5Ev5z1J8_2d"
      },
      "source": [
        "#### Estude o caso do Gradiente Descendente em Lote ([Batch Gradient Descent](https://towardsdatascience.com/batch-mini-batch-stochastic-gradient-descent-7a62ecba642a)) e outras técnicas."
      ]
    },
    {
      "cell_type": "markdown",
      "metadata": {
        "id": "EoH2Zi8E8_2d"
      },
      "source": [
        "#### Exercício 3 - Gradiente Descendente Estocástico."
      ]
    },
    {
      "cell_type": "markdown",
      "metadata": {
        "id": "_6MOC6tI8_2e"
      },
      "source": [
        "#### Como fizemos acima, no Gradiente Descendente em Lote (batch gradient descent), devemos olhar para cada exemplo em todo o conjunto de treinamento em cada etapa (nos casos em que um conjunto de treinamento é usado para o Gradiente Descendente). Isso pode ser bastante lento se o conjunto de treinamento for suficientemente grande. o Gradiente Descendente Estocástico ([Stochastic Gradient Descent](https://towardsdatascience.com/stochastic-gradient-descent-clearly-explained-53d239905d31)) atualizamos nossos valores depois de olhar para cada item no conjunto de treinamento, para que possamos começar a fazer progresso imediatamente. \n",
        "\n",
        "#### Teremos:\n",
        "\n",
        "$$\n",
        "\\begin{equation}\n",
        "\\frac{\\partial}{\\partial \\theta_0} J(\\theta_0,\\theta_1) = \\frac{1}{m}  \\sum\\limits_{i=1}^m (h_\\theta(x_i)-y_i)\n",
        "\\end{equation}\n",
        "$$\n",
        "\n",
        "$$\n",
        "\\begin{equation}\n",
        "\\frac{\\partial}{\\partial \\theta_1} J(\\theta_0,\\theta_1) = \\frac{1}{m}  \\sum\\limits_{i=1}^m ((h_\\theta(x_i)-y_i) \\cdot x_i)\n",
        "\\end{equation}\n",
        "$$\n",
        "\n",
        "#### Em que: \n",
        "\n",
        "$$\n",
        "\\begin{equation}\n",
        "h_\\theta(x) = \\theta_{0} + \\theta_{1} x\n",
        "\\end{equation}\n",
        "$$\n",
        "\n",
        "#### Seguimos o algoritmo, com $\\alpha$ constante:\n",
        "\n",
        "- Encontre um valor inicial para $X_{0}$\n",
        "- Escreva um laço para $i$, com um número ($i = 0, 1, 2, ... $) de variáveis.\n",
        "- Calcule $s_k$ = -$\\nabla f(x_k)$\n",
        "- Escolha a taxa de aprendizado $\\alpha_{k}$ que minimiza $f(x_k+\\alpha_{k} s_{k})$\n",
        "- Faça $x_{k + 1} = x_{k} + \\alpha_k s_{k}$\n",
        "\n",
        "#### Quando os dados de amostra tinham $15$ pontos de dados como no exemplo acima, o cálculo do gradiente não era muito caro. Mas, para conjuntos de dados muito grandes, esse não seria o caso. Então, em vez disso, consideramos um algoritmo de Gradiente Descendente Estocástico para regressão linear simples, em que $m$ é o tamanho do conjunto de dados:\n",
        "\n",
        "- Embaralhe aleatoriamente o conjunto de dados.\n",
        "- Escrevar um laço para :\n",
        "\n",
        "$$\n",
        "\\begin{bmatrix}\n",
        " \\theta_{1} \\\\ \n",
        " \\theta_2 \\\\ \n",
        " \\end{bmatrix} = \n",
        " \\begin{bmatrix}\n",
        " \\theta_1 \\\\ \n",
        " \\theta_2 \\\\ \n",
        " \\end{bmatrix} - \n",
        " \\alpha\\begin{bmatrix}\n",
        " 2(h_\\theta(x_i)-y_i) \\\\ \n",
        " 2x_i(h_\\theta(x_i)-y_i) \\\\ \n",
        " \\end{bmatrix}\n",
        " $$\n",
        "\n",
        "#### Normalmente, com a Gradiente Descendente Estocástico, você percorrerá todo o conjunto de dados de $1$ a $10$ vezes, dependendo da velocidade de convergência dos dados e do tamanho do conjunto de dados.\n",
        "\n",
        "#### Com o Gradiente Descendente em lote, devemos percorrer todo o conjunto de dados antes de fazer qualquer progresso. Porém, com esse algoritmo, podemos progredir imediatamente e continuar avançando conforme analisamos o conjunto de dados. Portanto, a Gradiente Descendente Estocástico é freqüentemente preferido ao lidar com grandes conjuntos de dados.\n",
        "\n",
        "#### Ao contrário da Gradiente Descendente, o Gradiente Descendente Estocástica tenderá a oscilar perto de um valor mínimo em vez de se aproximar continuamente. No entanto, pode nunca convergir para o mínimo. Uma maneira de contornar isso é diminuir lentamente o tamanho do passo $\\alpha$, conforme o algoritmo é executado. No entanto, isso é menos comum do que usar um $\\alpha$ fixo.\n",
        "\n",
        "#### Aplique a seguir o Gradiente Descendente Estocástico para uma regressão linear, em que criamos um conjunto de $500.000$ pontos em torno da linha $y = 2x + 17 + \\epsilon $, para valores de $x= [0, 100]$."
      ]
    },
    {
      "cell_type": "code",
      "metadata": {
        "id": "hjmhiOdg8_2f"
      },
      "source": [
        "f= lambda x: x * 2 + 17 + np.random.randn(len(x)) * 10\n",
        "\n",
        "x = np.random.random(500000) * 100\n",
        "y = f(x) \n",
        "m = len(y)"
      ],
      "execution_count": 58,
      "outputs": []
    },
    {
      "cell_type": "markdown",
      "metadata": {
        "id": "41nMlCgm8_2f"
      },
      "source": [
        "#### Primeiro, embaralhe aleatoriamente o conjunto de dados. Observe que essa etapa não é estritamente necessária, pois os dados já estão em uma ordem aleatória. No entanto, isso obviamente nem sempre é o caso:"
      ]
    },
    {
      "cell_type": "code",
      "metadata": {
        "id": "zonVR8MS8_2g"
      },
      "source": [
        "from random import shuffle\n",
        "\n",
        "x_shuf = []\n",
        "y_shuf = []\n",
        "\n",
        "index_shuf = list(range(len(x)))\n",
        "shuffle(index_shuf)\n",
        "\n",
        "for i in index_shuf:\n",
        "    x_shuf.append(x[i])\n",
        "    y_shuf.append(y[i])"
      ],
      "execution_count": 59,
      "outputs": []
    },
    {
      "cell_type": "markdown",
      "metadata": {
        "id": "YxhglNjj8_2g"
      },
      "source": [
        "#### Configure a função $h$ e a função de custo para verificar como o valor está melhorando."
      ]
    },
    {
      "cell_type": "code",
      "metadata": {
        "id": "RFnj11Io8_2g"
      },
      "source": [
        "h = lambda theta_0, theta_1, x: theta_0 + theta_1 * x\n",
        "funcao_custo2 = lambda theta_0, theta_1, x_i, y_i: 0.5 * (h(theta_0, theta_1, x_i) - y_i) ** 2"
      ],
      "execution_count": 60,
      "outputs": []
    },
    {
      "cell_type": "markdown",
      "metadata": {
        "id": "Ca-_F7Us8_2g"
      },
      "source": [
        "#### Crie e execute o algoritmo de Gradiente Descendente Estocástico. Para observar seu progresso, faça uma medição de custo a cada etapa. A cada $10.000$ etapas, obtenha um custo médio das últimas $10.000$ etapas e, em seguida, anexe isso a uma variável `cost_list`. Percorra a lista inteira $10$ vezes."
      ]
    },
    {
      "cell_type": "code",
      "metadata": {
        "id": "XTHCGb_F8_2h",
        "colab": {
          "base_uri": "https://localhost:8080/"
        },
        "outputId": "ef4a038d-b80f-4af0-e59a-6c1b135f3c62"
      },
      "source": [
        "theta_old = np.array([0., 0.])\n",
        "theta_new = np.array([1., 1.]) # The algorithm starts at [1,1]\n",
        "n_k = 0.000005 # step size\n",
        "\n",
        "iter_num = 0\n",
        "s_k = np.array([float(\"inf\"), \n",
        "                float(\"inf\")\n",
        "               ]\n",
        "              )\n",
        "sum_cost = 0\n",
        "cost_list = []\n",
        "\n",
        "for j in range(10):\n",
        "    for i in range(m):\n",
        "        iter_num += 1\n",
        "        theta_old = theta_new\n",
        "        s_k[0] = (h(theta_old[0], theta_old[1], x[i]) - y[i])\n",
        "        s_k[1] = (h(theta_old[0], theta_old[1], x[i]) - y[i]) * x[i]\n",
        "        s_k = (-1) * s_k\n",
        "        theta_new = theta_old + n_k * s_k\n",
        "        sum_cost += funcao_custo2(theta_old[0], \n",
        "                         theta_old[1], \n",
        "                         x[i], \n",
        "                         y[i]\n",
        "                        )\n",
        "        if (i+1) % 10000 == 0:\n",
        "            cost_list.append(sum_cost / 10000.0)\n",
        "            sum_cost = 0   \n",
        "            \n",
        "print(\"Mínimo local ocorre em:\")\n",
        "print(\"theta_0 =\", theta_new[0])\n",
        "print(\"theta_1 =\", theta_new[1])"
      ],
      "execution_count": 62,
      "outputs": [
        {
          "output_type": "stream",
          "text": [
            "Mínimo local ocorre em:\n",
            "theta_0 = 16.95598055455278\n",
            "theta_1 = 1.975745399283837\n"
          ],
          "name": "stdout"
        }
      ]
    },
    {
      "cell_type": "markdown",
      "metadata": {
        "id": "dcEnmAsN8_2h"
      },
      "source": [
        "#### Discuta os valores para $\\theta_0$ e $ \\theta_1$ encontrados. Plote o custo versus o número de iterações. o que você pode dizer sobre o custo ao longo das iterações?"
      ]
    },
    {
      "cell_type": "code",
      "metadata": {
        "id": "9GllmVjv8_2h",
        "colab": {
          "base_uri": "https://localhost:8080/",
          "height": 457
        },
        "outputId": "ba225739-16bf-43b9-dc46-db14a1a0fe02"
      },
      "source": [
        "iterations = np.arange(len(cost_list)) * 10000\n",
        "plt.plot(iterations,\n",
        "         cost_list\n",
        "        )\n",
        "plt.xlabel(\"Iteraçoes\")\n",
        "plt.ylabel(\"Custo médio\");"
      ],
      "execution_count": 63,
      "outputs": [
        {
          "output_type": "display_data",
          "data": {
            "image/png": "[encoded data removed]",
            "text/plain": [
              "<Figure size 900x500 with 1 Axes>"
            ]
          },
          "metadata": {
            "tags": [],
            "needs_background": "light"
          }
        }
      ]
    },
    {
      "cell_type": "markdown",
      "metadata": {
        "id": "qpTHoauF8_2i"
      },
      "source": [
        "Nós temos uma queda bem grande do custo no início das iterações, porém, em um determinado momento (a partir de 1 no gráfico) podemos perceber que além do custo não diminuir de forma mais considerável, ele fica oscilando entre pontos mínimos locais. Podemos dizer que a partir de um determinado numero de iterações 1(1e6), o custo já não apresenta mudanças significativas e estamos fazendo iterações desnecessárias neste caso."
      ]
    }
  ]
}