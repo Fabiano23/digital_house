{
  "nbformat": 4,
  "nbformat_minor": 0,
  "metadata": {
    "kernelspec": {
      "display_name": "Python 3",
      "language": "python",
      "name": "python3"
    },
    "language_info": {
      "codemirror_mode": {
        "name": "ipython",
        "version": 3
      },
      "file_extension": ".py",
      "mimetype": "text/x-python",
      "name": "python",
      "nbconvert_exporter": "python",
      "pygments_lexer": "ipython3",
      "version": "3.7.6"
    },
    "colab": {
      "name": "M0A9-PRATICA_INDEPENDENTE_Dummies.ipynb",
      "provenance": [],
      "collapsed_sections": []
    }
  },
  "cells": [
    {
      "cell_type": "markdown",
      "metadata": {
        "id": "JMZxwqNr50Tb"
      },
      "source": [
        "# Prática Independente - Variáveis dummies.\n",
        "\n",
        "### Dataset cereais\n",
        "\n",
        "O dataset a seguir contém informação sobre diferentes cereais.\n",
        "\n",
        "As categorias nas colunas são:\n",
        "       \n",
        "   * **name** : Nome do fabricante\n",
        "      * A = American Home Food Products\n",
        "      * G = General Mills\n",
        "      * K = Kelloggs\n",
        "      * N = Nabisco\n",
        "      * P = Post\n",
        "      * Q = Quaker Oats\n",
        "      * R = Ralston Purina \n",
        "   \n",
        "   \n",
        "   * **type**:\n",
        "      * C = frio  \n",
        "      * H = quente \n",
        "        \n",
        "   \n",
        "   * **calories**: calorias por porção\n",
        "   * **protein**: gramas de proteínas\n",
        "   * **fat**: gramas de gordura\n",
        "   * **sodium**: miligramas de sódio\n",
        "   * **fiber**: gramas de fibra dietética\n",
        "   * **arbo**: gramas de açúcares complexos\n",
        "   * **sugars**: gramas de açúcares simples\n",
        "   * **potass**: miligramas de K\n",
        "   * **vitamins**: vitaminas e minerais - 0, 25, ou 100, indicando a % recomendado pela FDA.\n",
        "   * **shelf**: display shelf (1, 2, or 3, counting from the floor)\n",
        "   * **weight**: peso en onças de uma porção\n",
        "   * **cups**: número de copos em uma porção \n",
        "   * **rating**: classificação dos cereais (Possibly from Consumer Reports?)\n",
        "        \n",
        "A partir desta informação:\n",
        "     \n",
        "  * Caracterizar o tipo de dado de cada coluna (_string, int, float_) e,\n",
        "  * Reconhecer o tipo variável (_contínua, categórica_)."
      ]
    },
    {
      "cell_type": "code",
      "metadata": {
        "id": "l7e5Pb3E6UZV"
      },
      "source": [
        "import pandas as pd\n",
        "import numpy as np\n",
        "import matplotlib.pyplot as plt\n",
        "import seaborn as sns"
      ],
      "execution_count": null,
      "outputs": []
    },
    {
      "cell_type": "markdown",
      "metadata": {
        "id": "cSdAn_0J50Tj"
      },
      "source": [
        "### Ler o Arquivo 'cereal.csv'."
      ]
    },
    {
      "cell_type": "code",
      "metadata": {
        "id": "y03SPITd50Tm"
      },
      "source": [
        "dados = pd.read_csv('cereal.csv')"
      ],
      "execution_count": null,
      "outputs": []
    },
    {
      "cell_type": "code",
      "metadata": {
        "id": "xjIBTqzJyh85",
        "outputId": "e38e58ef-ba91-4169-f6f7-1383c2949018",
        "colab": {
          "base_uri": "https://localhost:8080/",
          "height": 204
        }
      },
      "source": [
        "dados.head()"
      ],
      "execution_count": null,
      "outputs": [
        {
          "output_type": "execute_result",
          "data": {
            "text/html": [
              "<div>\n",
              "<style scoped>\n",
              "    .dataframe tbody tr th:only-of-type {\n",
              "        vertical-align: middle;\n",
              "    }\n",
              "\n",
              "    .dataframe tbody tr th {\n",
              "        vertical-align: top;\n",
              "    }\n",
              "\n",
              "    .dataframe thead th {\n",
              "        text-align: right;\n",
              "    }\n",
              "</style>\n",
              "<table border=\"1\" class=\"dataframe\">\n",
              "  <thead>\n",
              "    <tr style=\"text-align: right;\">\n",
              "      <th></th>\n",
              "      <th>name</th>\n",
              "      <th>mfr</th>\n",
              "      <th>type</th>\n",
              "      <th>calories</th>\n",
              "      <th>protein</th>\n",
              "      <th>fat</th>\n",
              "      <th>sodium</th>\n",
              "      <th>fiber</th>\n",
              "      <th>carbo</th>\n",
              "      <th>sugars</th>\n",
              "      <th>potass</th>\n",
              "      <th>vitamins</th>\n",
              "      <th>shelf</th>\n",
              "      <th>weight</th>\n",
              "      <th>cups</th>\n",
              "      <th>rating</th>\n",
              "    </tr>\n",
              "  </thead>\n",
              "  <tbody>\n",
              "    <tr>\n",
              "      <th>0</th>\n",
              "      <td>100% Bran</td>\n",
              "      <td>N</td>\n",
              "      <td>C</td>\n",
              "      <td>70</td>\n",
              "      <td>4</td>\n",
              "      <td>1</td>\n",
              "      <td>130</td>\n",
              "      <td>10.0</td>\n",
              "      <td>5.0</td>\n",
              "      <td>6</td>\n",
              "      <td>280</td>\n",
              "      <td>25</td>\n",
              "      <td>3</td>\n",
              "      <td>1.0</td>\n",
              "      <td>0.33</td>\n",
              "      <td>68.402973</td>\n",
              "    </tr>\n",
              "    <tr>\n",
              "      <th>1</th>\n",
              "      <td>100% Natural Bran</td>\n",
              "      <td>Q</td>\n",
              "      <td>C</td>\n",
              "      <td>120</td>\n",
              "      <td>3</td>\n",
              "      <td>5</td>\n",
              "      <td>15</td>\n",
              "      <td>2.0</td>\n",
              "      <td>8.0</td>\n",
              "      <td>8</td>\n",
              "      <td>135</td>\n",
              "      <td>0</td>\n",
              "      <td>3</td>\n",
              "      <td>1.0</td>\n",
              "      <td>1.00</td>\n",
              "      <td>33.983679</td>\n",
              "    </tr>\n",
              "    <tr>\n",
              "      <th>2</th>\n",
              "      <td>All-Bran</td>\n",
              "      <td>K</td>\n",
              "      <td>C</td>\n",
              "      <td>70</td>\n",
              "      <td>4</td>\n",
              "      <td>1</td>\n",
              "      <td>260</td>\n",
              "      <td>9.0</td>\n",
              "      <td>7.0</td>\n",
              "      <td>5</td>\n",
              "      <td>320</td>\n",
              "      <td>25</td>\n",
              "      <td>3</td>\n",
              "      <td>1.0</td>\n",
              "      <td>0.33</td>\n",
              "      <td>59.425505</td>\n",
              "    </tr>\n",
              "    <tr>\n",
              "      <th>3</th>\n",
              "      <td>All-Bran with Extra Fiber</td>\n",
              "      <td>K</td>\n",
              "      <td>C</td>\n",
              "      <td>50</td>\n",
              "      <td>4</td>\n",
              "      <td>0</td>\n",
              "      <td>140</td>\n",
              "      <td>14.0</td>\n",
              "      <td>8.0</td>\n",
              "      <td>0</td>\n",
              "      <td>330</td>\n",
              "      <td>25</td>\n",
              "      <td>3</td>\n",
              "      <td>1.0</td>\n",
              "      <td>0.50</td>\n",
              "      <td>93.704912</td>\n",
              "    </tr>\n",
              "    <tr>\n",
              "      <th>4</th>\n",
              "      <td>Almond Delight</td>\n",
              "      <td>R</td>\n",
              "      <td>C</td>\n",
              "      <td>110</td>\n",
              "      <td>2</td>\n",
              "      <td>2</td>\n",
              "      <td>200</td>\n",
              "      <td>1.0</td>\n",
              "      <td>14.0</td>\n",
              "      <td>8</td>\n",
              "      <td>-1</td>\n",
              "      <td>25</td>\n",
              "      <td>3</td>\n",
              "      <td>1.0</td>\n",
              "      <td>0.75</td>\n",
              "      <td>34.384843</td>\n",
              "    </tr>\n",
              "  </tbody>\n",
              "</table>\n",
              "</div>"
            ],
            "text/plain": [
              "                        name mfr type  calories  ...  shelf  weight  cups     rating\n",
              "0                  100% Bran   N    C        70  ...      3     1.0  0.33  68.402973\n",
              "1          100% Natural Bran   Q    C       120  ...      3     1.0  1.00  33.983679\n",
              "2                   All-Bran   K    C        70  ...      3     1.0  0.33  59.425505\n",
              "3  All-Bran with Extra Fiber   K    C        50  ...      3     1.0  0.50  93.704912\n",
              "4             Almond Delight   R    C       110  ...      3     1.0  0.75  34.384843\n",
              "\n",
              "[5 rows x 16 columns]"
            ]
          },
          "metadata": {
            "tags": []
          },
          "execution_count": 3
        }
      ]
    },
    {
      "cell_type": "markdown",
      "metadata": {
        "id": "9RLe5xwSsHlp"
      },
      "source": [
        "`name`: Categórica\n",
        "\n",
        "`mrf`: Categórica\n",
        "\n",
        "`type`: Categórica\n",
        "\n",
        "`protein`:\tDiscreta\n",
        "\n",
        "`fat`: Discreta\n",
        "\n",
        "`sodium`: Discreta\n",
        "\n",
        "`fiber`: Contínua\n",
        "\n",
        "`carbo`: Contínua\n",
        "\n",
        "`sugars`: Discreta\n",
        "\n",
        "`potass`: Discreta\n",
        "\n",
        "`vitamins:`\tCategórica\n",
        "\n",
        "`shelf`: Categórica\n",
        "\n",
        "`weight`: Contínua\n",
        "\n",
        "`cups`: Contínua\n",
        "\n",
        "`rating`: Contínua\n"
      ]
    },
    {
      "cell_type": "markdown",
      "metadata": {
        "id": "NpUADLvezk33"
      },
      "source": [
        "As variaveis contínuas e discretas podem, porém, serem transformadas em variáveis categóricas ao definirmos intervalos que as classifiquem. Se pegarmos, por exemplo, a variável `rating` (notas dos cereais) que inicialmente é uma variável contínua e definirmos intervalos que representem notas ruins, medias e boas, ela se transformaria, nesse caso, numa variável categórica."
      ]
    },
    {
      "cell_type": "code",
      "metadata": {
        "id": "VJJPpVxA79OX",
        "outputId": "79f8e430-25f3-4102-fa52-60144dac2de6",
        "colab": {
          "base_uri": "https://localhost:8080/"
        }
      },
      "source": [
        "dados.info()"
      ],
      "execution_count": null,
      "outputs": [
        {
          "output_type": "stream",
          "text": [
            "<class 'pandas.core.frame.DataFrame'>\n",
            "RangeIndex: 77 entries, 0 to 76\n",
            "Data columns (total 16 columns):\n",
            " #   Column    Non-Null Count  Dtype  \n",
            "---  ------    --------------  -----  \n",
            " 0   name      77 non-null     object \n",
            " 1   mfr       77 non-null     object \n",
            " 2   type      77 non-null     object \n",
            " 3   calories  77 non-null     int64  \n",
            " 4   protein   77 non-null     int64  \n",
            " 5   fat       77 non-null     int64  \n",
            " 6   sodium    77 non-null     int64  \n",
            " 7   fiber     77 non-null     float64\n",
            " 8   carbo     77 non-null     float64\n",
            " 9   sugars    77 non-null     int64  \n",
            " 10  potass    77 non-null     int64  \n",
            " 11  vitamins  77 non-null     int64  \n",
            " 12  shelf     77 non-null     int64  \n",
            " 13  weight    77 non-null     float64\n",
            " 14  cups      77 non-null     float64\n",
            " 15  rating    77 non-null     float64\n",
            "dtypes: float64(5), int64(8), object(3)\n",
            "memory usage: 9.8+ KB\n"
          ],
          "name": "stdout"
        }
      ]
    },
    {
      "cell_type": "markdown",
      "metadata": {
        "id": "g5YirBgN8GdW"
      },
      "source": [
        "Variáveis numéricas já em tipos numéricos e as strings da mesma forma."
      ]
    },
    {
      "cell_type": "markdown",
      "metadata": {
        "id": "qAYyjLSF50Tw"
      },
      "source": [
        "#### Exercício 1: Imprimir 5 amostras para reconhecimento de dados. Coincidem com as caracterizações realizadas?"
      ]
    },
    {
      "cell_type": "code",
      "metadata": {
        "id": "VME0lp-150Tx",
        "outputId": "66959c62-6fba-4498-b58a-5744ddb7148f",
        "colab": {
          "base_uri": "https://localhost:8080/",
          "height": 204
        }
      },
      "source": [
        "dados.head()"
      ],
      "execution_count": null,
      "outputs": [
        {
          "output_type": "execute_result",
          "data": {
            "text/html": [
              "<div>\n",
              "<style scoped>\n",
              "    .dataframe tbody tr th:only-of-type {\n",
              "        vertical-align: middle;\n",
              "    }\n",
              "\n",
              "    .dataframe tbody tr th {\n",
              "        vertical-align: top;\n",
              "    }\n",
              "\n",
              "    .dataframe thead th {\n",
              "        text-align: right;\n",
              "    }\n",
              "</style>\n",
              "<table border=\"1\" class=\"dataframe\">\n",
              "  <thead>\n",
              "    <tr style=\"text-align: right;\">\n",
              "      <th></th>\n",
              "      <th>name</th>\n",
              "      <th>mfr</th>\n",
              "      <th>type</th>\n",
              "      <th>calories</th>\n",
              "      <th>protein</th>\n",
              "      <th>fat</th>\n",
              "      <th>sodium</th>\n",
              "      <th>fiber</th>\n",
              "      <th>carbo</th>\n",
              "      <th>sugars</th>\n",
              "      <th>potass</th>\n",
              "      <th>vitamins</th>\n",
              "      <th>shelf</th>\n",
              "      <th>weight</th>\n",
              "      <th>cups</th>\n",
              "      <th>rating</th>\n",
              "    </tr>\n",
              "  </thead>\n",
              "  <tbody>\n",
              "    <tr>\n",
              "      <th>0</th>\n",
              "      <td>100% Bran</td>\n",
              "      <td>N</td>\n",
              "      <td>C</td>\n",
              "      <td>70</td>\n",
              "      <td>4</td>\n",
              "      <td>1</td>\n",
              "      <td>130</td>\n",
              "      <td>10.0</td>\n",
              "      <td>5.0</td>\n",
              "      <td>6</td>\n",
              "      <td>280</td>\n",
              "      <td>25</td>\n",
              "      <td>3</td>\n",
              "      <td>1.0</td>\n",
              "      <td>0.33</td>\n",
              "      <td>68.402973</td>\n",
              "    </tr>\n",
              "    <tr>\n",
              "      <th>1</th>\n",
              "      <td>100% Natural Bran</td>\n",
              "      <td>Q</td>\n",
              "      <td>C</td>\n",
              "      <td>120</td>\n",
              "      <td>3</td>\n",
              "      <td>5</td>\n",
              "      <td>15</td>\n",
              "      <td>2.0</td>\n",
              "      <td>8.0</td>\n",
              "      <td>8</td>\n",
              "      <td>135</td>\n",
              "      <td>0</td>\n",
              "      <td>3</td>\n",
              "      <td>1.0</td>\n",
              "      <td>1.00</td>\n",
              "      <td>33.983679</td>\n",
              "    </tr>\n",
              "    <tr>\n",
              "      <th>2</th>\n",
              "      <td>All-Bran</td>\n",
              "      <td>K</td>\n",
              "      <td>C</td>\n",
              "      <td>70</td>\n",
              "      <td>4</td>\n",
              "      <td>1</td>\n",
              "      <td>260</td>\n",
              "      <td>9.0</td>\n",
              "      <td>7.0</td>\n",
              "      <td>5</td>\n",
              "      <td>320</td>\n",
              "      <td>25</td>\n",
              "      <td>3</td>\n",
              "      <td>1.0</td>\n",
              "      <td>0.33</td>\n",
              "      <td>59.425505</td>\n",
              "    </tr>\n",
              "    <tr>\n",
              "      <th>3</th>\n",
              "      <td>All-Bran with Extra Fiber</td>\n",
              "      <td>K</td>\n",
              "      <td>C</td>\n",
              "      <td>50</td>\n",
              "      <td>4</td>\n",
              "      <td>0</td>\n",
              "      <td>140</td>\n",
              "      <td>14.0</td>\n",
              "      <td>8.0</td>\n",
              "      <td>0</td>\n",
              "      <td>330</td>\n",
              "      <td>25</td>\n",
              "      <td>3</td>\n",
              "      <td>1.0</td>\n",
              "      <td>0.50</td>\n",
              "      <td>93.704912</td>\n",
              "    </tr>\n",
              "    <tr>\n",
              "      <th>4</th>\n",
              "      <td>Almond Delight</td>\n",
              "      <td>R</td>\n",
              "      <td>C</td>\n",
              "      <td>110</td>\n",
              "      <td>2</td>\n",
              "      <td>2</td>\n",
              "      <td>200</td>\n",
              "      <td>1.0</td>\n",
              "      <td>14.0</td>\n",
              "      <td>8</td>\n",
              "      <td>-1</td>\n",
              "      <td>25</td>\n",
              "      <td>3</td>\n",
              "      <td>1.0</td>\n",
              "      <td>0.75</td>\n",
              "      <td>34.384843</td>\n",
              "    </tr>\n",
              "  </tbody>\n",
              "</table>\n",
              "</div>"
            ],
            "text/plain": [
              "                        name mfr type  calories  ...  shelf  weight  cups     rating\n",
              "0                  100% Bran   N    C        70  ...      3     1.0  0.33  68.402973\n",
              "1          100% Natural Bran   Q    C       120  ...      3     1.0  1.00  33.983679\n",
              "2                   All-Bran   K    C        70  ...      3     1.0  0.33  59.425505\n",
              "3  All-Bran with Extra Fiber   K    C        50  ...      3     1.0  0.50  93.704912\n",
              "4             Almond Delight   R    C       110  ...      3     1.0  0.75  34.384843\n",
              "\n",
              "[5 rows x 16 columns]"
            ]
          },
          "metadata": {
            "tags": []
          },
          "execution_count": 6
        }
      ]
    },
    {
      "cell_type": "markdown",
      "metadata": {
        "id": "DiMNddF8687g"
      },
      "source": [
        "A variável name possui outros nomes diferente das categorias dadas na descrição inicial sobre os dados. Essas categorias (o fabricante do produto) na verdade se encontram na coluna `mfr`.\n"
      ]
    },
    {
      "cell_type": "markdown",
      "metadata": {
        "id": "GS8tHvFx50T3"
      },
      "source": [
        "#### Exercício 2: Escolher uma coluna categórica e converter em uma variável dummie, a função `pd.get_dummies()` pode ser usada.\n"
      ]
    },
    {
      "cell_type": "markdown",
      "metadata": {
        "id": "Xlc9PNcf85zW"
      },
      "source": [
        "Tranformando a variável type (cereal quente ou frio) em variável dummie.\n",
        "\n",
        "1 == Sim, a instância daquela linha é a coluna preenchida com 1.\n",
        "\n",
        "0 == Não, a instância daquela linha não é a coluna preenchida com 0."
      ]
    },
    {
      "cell_type": "code",
      "metadata": {
        "id": "gFyC6Vg_50T4",
        "outputId": "ba629b7c-2874-471a-876f-45524085fbc8",
        "colab": {
          "base_uri": "https://localhost:8080/",
          "height": 204
        }
      },
      "source": [
        "pd.get_dummies(dados['type']).head()"
      ],
      "execution_count": null,
      "outputs": [
        {
          "output_type": "execute_result",
          "data": {
            "text/html": [
              "<div>\n",
              "<style scoped>\n",
              "    .dataframe tbody tr th:only-of-type {\n",
              "        vertical-align: middle;\n",
              "    }\n",
              "\n",
              "    .dataframe tbody tr th {\n",
              "        vertical-align: top;\n",
              "    }\n",
              "\n",
              "    .dataframe thead th {\n",
              "        text-align: right;\n",
              "    }\n",
              "</style>\n",
              "<table border=\"1\" class=\"dataframe\">\n",
              "  <thead>\n",
              "    <tr style=\"text-align: right;\">\n",
              "      <th></th>\n",
              "      <th>C</th>\n",
              "      <th>H</th>\n",
              "    </tr>\n",
              "  </thead>\n",
              "  <tbody>\n",
              "    <tr>\n",
              "      <th>0</th>\n",
              "      <td>1</td>\n",
              "      <td>0</td>\n",
              "    </tr>\n",
              "    <tr>\n",
              "      <th>1</th>\n",
              "      <td>1</td>\n",
              "      <td>0</td>\n",
              "    </tr>\n",
              "    <tr>\n",
              "      <th>2</th>\n",
              "      <td>1</td>\n",
              "      <td>0</td>\n",
              "    </tr>\n",
              "    <tr>\n",
              "      <th>3</th>\n",
              "      <td>1</td>\n",
              "      <td>0</td>\n",
              "    </tr>\n",
              "    <tr>\n",
              "      <th>4</th>\n",
              "      <td>1</td>\n",
              "      <td>0</td>\n",
              "    </tr>\n",
              "  </tbody>\n",
              "</table>\n",
              "</div>"
            ],
            "text/plain": [
              "   C  H\n",
              "0  1  0\n",
              "1  1  0\n",
              "2  1  0\n",
              "3  1  0\n",
              "4  1  0"
            ]
          },
          "metadata": {
            "tags": []
          },
          "execution_count": 7
        }
      ]
    },
    {
      "cell_type": "markdown",
      "metadata": {
        "id": "T8K69N7pBKwe"
      },
      "source": [
        "Proporção de cereais quentes e frios"
      ]
    },
    {
      "cell_type": "code",
      "metadata": {
        "id": "44U3q6CJ8oe1",
        "outputId": "44abf24a-f7b8-4a31-b16d-b7ca6fc39c07",
        "colab": {
          "base_uri": "https://localhost:8080/"
        }
      },
      "source": [
        "prop_quente_ou_frio = pd.get_dummies(dados['type']).value_counts(normalize= True) * 100\n",
        "\n",
        "print(f'Cereais frios: {prop_quente_ou_frio.values[0]:.2f}%')\n",
        "print(f'Cereais quentes: {prop_quente_ou_frio.values[1]:.2f}%')"
      ],
      "execution_count": null,
      "outputs": [
        {
          "output_type": "stream",
          "text": [
            "Cereais frios: 96.10%\n",
            "Cereais quentes: 3.90%\n"
          ],
          "name": "stdout"
        }
      ]
    },
    {
      "cell_type": "markdown",
      "metadata": {
        "id": "aETEgkhw99dK"
      },
      "source": [
        "Em nosso dataset 96.10% dos cerais são frios e 3.90% são quentes."
      ]
    },
    {
      "cell_type": "markdown",
      "metadata": {
        "id": "ZsJSpbDq50T_"
      },
      "source": [
        "#### Exercício 3: Pegar a coluna de fabricante, transformar a variável dummie e contar quantos produtos são pertencentes à marca \"Kellogg's\"."
      ]
    },
    {
      "cell_type": "code",
      "metadata": {
        "id": "v0m9B1QR50UA",
        "outputId": "600f3de8-ba0e-4846-d995-c135df62df1f",
        "colab": {
          "base_uri": "https://localhost:8080/"
        }
      },
      "source": [
        "pd.get_dummies(dados['mfr']).value_counts()"
      ],
      "execution_count": null,
      "outputs": [
        {
          "output_type": "execute_result",
          "data": {
            "text/plain": [
              "A  G  K  N  P  Q  R\n",
              "0  0  1  0  0  0  0    23\n",
              "   1  0  0  0  0  0    22\n",
              "   0  0  0  1  0  0     9\n",
              "            0  1  0     8\n",
              "               0  1     8\n",
              "         1  0  0  0     6\n",
              "1  0  0  0  0  0  0     1\n",
              "dtype: int64"
            ]
          },
          "metadata": {
            "tags": []
          },
          "execution_count": 137
        }
      ]
    },
    {
      "cell_type": "markdown",
      "metadata": {
        "id": "6fawht6H_h4G"
      },
      "source": [
        "23 produtos são da marca Kellogg's (K), que tem o maior número de cereais do dataset precedida por General Mills (G) com 22 cereais."
      ]
    },
    {
      "cell_type": "markdown",
      "metadata": {
        "id": "zQSs5ytN_ydq"
      },
      "source": [
        "Outra forma de contar variável categóricas é usar a função[`.value_counts()`](https://pandas.pydata.org/pandas-docs/stable/reference/api/pandas.Series.value_counts.html)"
      ]
    },
    {
      "cell_type": "code",
      "metadata": {
        "id": "S0n9ryxK_V5v",
        "outputId": "c390b4d4-e6ff-4e98-ef49-558fdcfa2844",
        "colab": {
          "base_uri": "https://localhost:8080/"
        }
      },
      "source": [
        "dados['mfr'].value_counts()"
      ],
      "execution_count": null,
      "outputs": [
        {
          "output_type": "execute_result",
          "data": {
            "text/plain": [
              "K    23\n",
              "G    22\n",
              "P     9\n",
              "Q     8\n",
              "R     8\n",
              "N     6\n",
              "A     1\n",
              "Name: mfr, dtype: int64"
            ]
          },
          "metadata": {
            "tags": []
          },
          "execution_count": 10
        }
      ]
    },
    {
      "cell_type": "markdown",
      "metadata": {
        "id": "qT8ZOLCe50UF"
      },
      "source": [
        "#### Exercício 4: Organizar os fabricantes por quantidade de produtos em ordem decrescente e apresentá-los em um gráfico."
      ]
    },
    {
      "cell_type": "markdown",
      "metadata": {
        "id": "2DnZnQ9EBxVM"
      },
      "source": [
        "Fazendo a contagem em forma descrescente e guardando a Series gerada em uma variável"
      ]
    },
    {
      "cell_type": "code",
      "metadata": {
        "id": "TuDQh77J50UG"
      },
      "source": [
        "produtos_por_fabricantes = dados['mfr'].value_counts(ascending= True)"
      ],
      "execution_count": null,
      "outputs": []
    },
    {
      "cell_type": "markdown",
      "metadata": {
        "id": "XCQb5FPTBqlb"
      },
      "source": [
        "Criando dicionário pra renomear as variáveis categóricas e utiizar seus nomes completos no gráfico"
      ]
    },
    {
      "cell_type": "code",
      "metadata": {
        "id": "MGx91K89An6q"
      },
      "source": [
        "dicionario_fabricantes = {'A' : 'American Home Food Products',\n",
        "'G' : 'General Mills',\n",
        "'K' : 'Kelloggs',\n",
        "'N' : 'Nabisco',\n",
        "'P' : 'Post',\n",
        "'Q' : 'Quaker Oats',\n",
        "'R' : 'Ralston Purina'}"
      ],
      "execution_count": null,
      "outputs": []
    },
    {
      "cell_type": "markdown",
      "metadata": {
        "id": "eOpi3mvmB5yW"
      },
      "source": [
        "Renomeando variáveis para seus nomes completos"
      ]
    },
    {
      "cell_type": "code",
      "metadata": {
        "id": "OEvymK_oBOB6"
      },
      "source": [
        "produtos_por_fabricantes.rename(index= dicionario_fabricantes, inplace= True)"
      ],
      "execution_count": null,
      "outputs": []
    },
    {
      "cell_type": "markdown",
      "metadata": {
        "id": "jxXmJICAH8uE"
      },
      "source": [
        "Series gerada com o nome dos fabricantes e a quantidade de produtos que possuem no dataset"
      ]
    },
    {
      "cell_type": "code",
      "metadata": {
        "id": "N1RyZiZoC2Hv",
        "outputId": "f04168e7-0ab3-494e-ef71-840dd3096108",
        "colab": {
          "base_uri": "https://localhost:8080/"
        }
      },
      "source": [
        "produtos_por_fabricantes"
      ],
      "execution_count": null,
      "outputs": [
        {
          "output_type": "execute_result",
          "data": {
            "text/plain": [
              "American Home Food Products     1\n",
              "Nabisco                         6\n",
              "Ralston Purina                  8\n",
              "Quaker Oats                     8\n",
              "Post                            9\n",
              "General Mills                  22\n",
              "Kelloggs                       23\n",
              "Name: mfr, dtype: int64"
            ]
          },
          "metadata": {
            "tags": []
          },
          "execution_count": 141
        }
      ]
    },
    {
      "cell_type": "code",
      "metadata": {
        "id": "WmZNyfaRFZS-"
      },
      "source": [
        "# Definindo largura e algura das figuras que eu fizer neste notebook\n",
        "plt.rcParams['figure.figsize'] = (11,7)\n",
        "\n",
        "# Colocando grades nas figuras que eu fizer neste notebook pra facilitar a visualização \n",
        "sns.set_theme(style=\"whitegrid\")"
      ],
      "execution_count": null,
      "outputs": []
    },
    {
      "cell_type": "markdown",
      "metadata": {
        "id": "ZhyqHC2kIEEY"
      },
      "source": [
        "Gerando gráfico de barras com as frequências dos cereais por fabricante"
      ]
    },
    {
      "cell_type": "code",
      "metadata": {
        "id": "Sf0UZH5BCulS",
        "outputId": "27b2c607-dfdf-4ea8-8188-3e255e34e613",
        "colab": {
          "base_uri": "https://localhost:8080/",
          "height": 447
        }
      },
      "source": [
        "sns.barplot(x= produtos_por_fabricantes.values, y= produtos_por_fabricantes.index,\n",
        "            palette=\"Blues_d\", orient= 'h') \n",
        "\n",
        "plt.title('Cereais por fabricantes')\n",
        "\n",
        "plt.show()"
      ],
      "execution_count": null,
      "outputs": [
        {
          "output_type": "display_data",
          "data": {
            "image/png": "[encoded data removed]",
            "text/plain": [
              "<Figure size 792x504 with 1 Axes>"
            ]
          },
          "metadata": {
            "tags": []
          }
        }
      ]
    },
    {
      "cell_type": "markdown",
      "metadata": {
        "id": "jM74gaeOIJol"
      },
      "source": [
        "O nome da marca `American Home Food Products` não ficou bem mostrado no gráfico com as barras mostradas na vertical. Mesmo tentando rotacionar um pouco o nome das marcas o problema não foi resolvido.\n",
        "\n",
        "Pra evitar de ter que modificar o nome da marca eu preferi plotar as barras na horizontal e assim a visualização dos nomes dos fabricantes ficaram \"limpos\"."
      ]
    },
    {
      "cell_type": "markdown",
      "metadata": {
        "id": "SLOO8Jf550UN"
      },
      "source": [
        "#### Exercício 5: Pegar as colunas `mfr` e `type`, convertê-las em variáveis dummies simultaneamente e obter uma descrição desse dataframe. Lembre-se que a função `.get_dummies()` permite pegar mais de uma coluna, por exemplo, usando slicing. "
      ]
    },
    {
      "cell_type": "code",
      "metadata": {
        "id": "bteSH0-D50UO",
        "outputId": "dc334a0a-6913-499f-a8e8-f00bbcebe09a",
        "colab": {
          "base_uri": "https://localhost:8080/",
          "height": 204
        }
      },
      "source": [
        "dados.head()"
      ],
      "execution_count": null,
      "outputs": [
        {
          "output_type": "execute_result",
          "data": {
            "text/html": [
              "<div>\n",
              "<style scoped>\n",
              "    .dataframe tbody tr th:only-of-type {\n",
              "        vertical-align: middle;\n",
              "    }\n",
              "\n",
              "    .dataframe tbody tr th {\n",
              "        vertical-align: top;\n",
              "    }\n",
              "\n",
              "    .dataframe thead th {\n",
              "        text-align: right;\n",
              "    }\n",
              "</style>\n",
              "<table border=\"1\" class=\"dataframe\">\n",
              "  <thead>\n",
              "    <tr style=\"text-align: right;\">\n",
              "      <th></th>\n",
              "      <th>name</th>\n",
              "      <th>mfr</th>\n",
              "      <th>type</th>\n",
              "      <th>calories</th>\n",
              "      <th>protein</th>\n",
              "      <th>fat</th>\n",
              "      <th>sodium</th>\n",
              "      <th>fiber</th>\n",
              "      <th>carbo</th>\n",
              "      <th>sugars</th>\n",
              "      <th>potass</th>\n",
              "      <th>vitamins</th>\n",
              "      <th>shelf</th>\n",
              "      <th>weight</th>\n",
              "      <th>cups</th>\n",
              "      <th>rating</th>\n",
              "    </tr>\n",
              "  </thead>\n",
              "  <tbody>\n",
              "    <tr>\n",
              "      <th>0</th>\n",
              "      <td>100% Bran</td>\n",
              "      <td>N</td>\n",
              "      <td>C</td>\n",
              "      <td>70</td>\n",
              "      <td>4</td>\n",
              "      <td>1</td>\n",
              "      <td>130</td>\n",
              "      <td>10.0</td>\n",
              "      <td>5.0</td>\n",
              "      <td>6</td>\n",
              "      <td>280</td>\n",
              "      <td>25</td>\n",
              "      <td>3</td>\n",
              "      <td>1.0</td>\n",
              "      <td>0.33</td>\n",
              "      <td>68.402973</td>\n",
              "    </tr>\n",
              "    <tr>\n",
              "      <th>1</th>\n",
              "      <td>100% Natural Bran</td>\n",
              "      <td>Q</td>\n",
              "      <td>C</td>\n",
              "      <td>120</td>\n",
              "      <td>3</td>\n",
              "      <td>5</td>\n",
              "      <td>15</td>\n",
              "      <td>2.0</td>\n",
              "      <td>8.0</td>\n",
              "      <td>8</td>\n",
              "      <td>135</td>\n",
              "      <td>0</td>\n",
              "      <td>3</td>\n",
              "      <td>1.0</td>\n",
              "      <td>1.00</td>\n",
              "      <td>33.983679</td>\n",
              "    </tr>\n",
              "    <tr>\n",
              "      <th>2</th>\n",
              "      <td>All-Bran</td>\n",
              "      <td>K</td>\n",
              "      <td>C</td>\n",
              "      <td>70</td>\n",
              "      <td>4</td>\n",
              "      <td>1</td>\n",
              "      <td>260</td>\n",
              "      <td>9.0</td>\n",
              "      <td>7.0</td>\n",
              "      <td>5</td>\n",
              "      <td>320</td>\n",
              "      <td>25</td>\n",
              "      <td>3</td>\n",
              "      <td>1.0</td>\n",
              "      <td>0.33</td>\n",
              "      <td>59.425505</td>\n",
              "    </tr>\n",
              "    <tr>\n",
              "      <th>3</th>\n",
              "      <td>All-Bran with Extra Fiber</td>\n",
              "      <td>K</td>\n",
              "      <td>C</td>\n",
              "      <td>50</td>\n",
              "      <td>4</td>\n",
              "      <td>0</td>\n",
              "      <td>140</td>\n",
              "      <td>14.0</td>\n",
              "      <td>8.0</td>\n",
              "      <td>0</td>\n",
              "      <td>330</td>\n",
              "      <td>25</td>\n",
              "      <td>3</td>\n",
              "      <td>1.0</td>\n",
              "      <td>0.50</td>\n",
              "      <td>93.704912</td>\n",
              "    </tr>\n",
              "    <tr>\n",
              "      <th>4</th>\n",
              "      <td>Almond Delight</td>\n",
              "      <td>R</td>\n",
              "      <td>C</td>\n",
              "      <td>110</td>\n",
              "      <td>2</td>\n",
              "      <td>2</td>\n",
              "      <td>200</td>\n",
              "      <td>1.0</td>\n",
              "      <td>14.0</td>\n",
              "      <td>8</td>\n",
              "      <td>-1</td>\n",
              "      <td>25</td>\n",
              "      <td>3</td>\n",
              "      <td>1.0</td>\n",
              "      <td>0.75</td>\n",
              "      <td>34.384843</td>\n",
              "    </tr>\n",
              "  </tbody>\n",
              "</table>\n",
              "</div>"
            ],
            "text/plain": [
              "                        name mfr type  calories  ...  shelf  weight  cups     rating\n",
              "0                  100% Bran   N    C        70  ...      3     1.0  0.33  68.402973\n",
              "1          100% Natural Bran   Q    C       120  ...      3     1.0  1.00  33.983679\n",
              "2                   All-Bran   K    C        70  ...      3     1.0  0.33  59.425505\n",
              "3  All-Bran with Extra Fiber   K    C        50  ...      3     1.0  0.50  93.704912\n",
              "4             Almond Delight   R    C       110  ...      3     1.0  0.75  34.384843\n",
              "\n",
              "[5 rows x 16 columns]"
            ]
          },
          "metadata": {
            "tags": []
          },
          "execution_count": 17
        }
      ]
    },
    {
      "cell_type": "code",
      "metadata": {
        "id": "JPOM5agH50UU"
      },
      "source": [
        "# Transformando fabricantes e tipos em variáveis dummies\n",
        "fabricante_e_tipo = pd.get_dummies(dados[['mfr', 'type']])"
      ],
      "execution_count": null,
      "outputs": []
    },
    {
      "cell_type": "code",
      "metadata": {
        "id": "ZQcEM4NC3eZ0",
        "outputId": "381d5950-d104-4da1-938a-2aa8ae92ac75",
        "colab": {
          "base_uri": "https://localhost:8080/"
        }
      },
      "source": [
        "# Contando os valores d cereais de cada fabricante e por tipo (frio ou quente) \n",
        "fabricante_e_tipo.value_counts()"
      ],
      "execution_count": null,
      "outputs": [
        {
          "output_type": "execute_result",
          "data": {
            "text/plain": [
              "mfr_A  mfr_G  mfr_K  mfr_N  mfr_P  mfr_Q  mfr_R  type_C  type_H\n",
              "0      0      1      0      0      0      0      1       0         23\n",
              "       1      0      0      0      0      0      1       0         22\n",
              "       0      0      0      1      0      0      1       0          9\n",
              "                            0      0      1      1       0          8\n",
              "                                   1      0      1       0          7\n",
              "                     1      0      0      0      1       0          5\n",
              "1      0      0      0      0      0      0      0       1          1\n",
              "0      0      0      1      0      0      0      0       1          1\n",
              "                     0      0      1      0      0       1          1\n",
              "dtype: int64"
            ]
          },
          "metadata": {
            "tags": []
          },
          "execution_count": 51
        }
      ]
    },
    {
      "cell_type": "code",
      "metadata": {
        "id": "IDwkdHqe3uXz",
        "outputId": "c090f190-500f-4331-be2a-4caa14b5bb34",
        "colab": {
          "base_uri": "https://localhost:8080/",
          "height": 382
        }
      },
      "source": [
        "# Gerando gráfico de frequência dos tipos dos cereais\n",
        "sns.catplot(x= 'type', data= dados, kind= 'count')\n",
        "\n",
        "# Modificando nome das barras com respectivos tipos\n",
        "plt.xticks([0, 1], ['Cold', 'Hot'])\n",
        "\n",
        "plt.show()"
      ],
      "execution_count": null,
      "outputs": [
        {
          "output_type": "display_data",
          "data": {
            "image/png": "[encoded data removed]",
            "text/plain": [
              "<Figure size 360x360 with 1 Axes>"
            ]
          },
          "metadata": {
            "tags": []
          }
        }
      ]
    },
    {
      "cell_type": "markdown",
      "metadata": {
        "id": "29cgqdGn3i0O"
      },
      "source": [
        "Como dito anteriormente e mostrado no gráfico acima, há a prevalecência dos cereais frios em relação aos quentes tendo em vista que as marcas que mais possuem cereais na amostra tem cereais frios. A grande questão é se há de fato maior número de cereais frios no mercado ou a amostra foi coletada com viés e coletou mais as marcas que possuem produção de cereais frios.\n",
        "\n",
        "Interessante notar que não há fabricante que produza os dois tipos de cereais: ou o fabricante produz cereal frio ou produz cereal quente, mas nenhum produz os dois. "
      ]
    }
  ]
}