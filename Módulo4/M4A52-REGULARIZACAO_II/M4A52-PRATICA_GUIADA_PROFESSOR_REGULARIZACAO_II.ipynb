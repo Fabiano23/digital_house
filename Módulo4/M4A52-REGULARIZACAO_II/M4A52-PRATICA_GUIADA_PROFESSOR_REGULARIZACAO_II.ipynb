{
 "cells": [
  {
   "cell_type": "markdown",
   "metadata": {},
   "source": [
    "# Prática Guiada: Regularização."
   ]
  },
  {
   "cell_type": "markdown",
   "metadata": {},
   "source": [
    "\n",
    "#### Até agora, quando ajustamos modelos lineares, selecionamos o modelo que minimizava o erro quadrático.\n",
    "\n",
    "#### Para um modelo da forma:\n",
    "\n",
    "$$\n",
    "y_i = f(x_i) + e_i\n",
    "$$\n",
    "\n",
    "#### minimizamos a soma:\n",
    "$$\\sum_{i}{\\left(\\hat{y}_i - y_i \\right)^2}$$\n",
    "\n",
    "#### Este é um exemplo de _função de custo_: uma função que mede o \"custo\" dos erros das previsões de um modelo. Para aplicar a técnica de regularização modificamos a função de custo, agregando um termo que penaliza os modelos por sua complexidade. Por exemplo, poderíamos ter uma nova função de custo dessa forma:\n",
    "\n",
    "$$\\sum_{i}{\\left(\\hat{y}_i - y_i \\right)^2 + \\alpha \\theta_i}$$\n",
    "\n",
    "#### Onde o vetor $\\theta$ corresponde aos parâmetros do nosso modelo e $\\alpha$ é um parâmetro que controla quão forte é a penalização. Um valor de $\\alpha$ maior, significa uma penalização maior, já que aumenta o custo, que é o que queremos minimizar.\n",
    "\n",
    "#### O exemplo clássico é ajustar um polinômio a um dataset pequeno. Vejamos como funciona com um datset de exemplo."
   ]
  },
  {
   "cell_type": "markdown",
   "metadata": {},
   "source": [
    "#### Primeiramente vamos definir a função mágica [`@matplotlib inline`](), aí podemos importar o [módulo python](https://www.pythonforbeginners.com/random/how-to-use-the-random-module-in-python) [`random`](https://docs.python.org/3/library/random.html) para a geração de números aleatórios.\n",
    "\n",
    "\n",
    "#### Os pacotes [`numpy`](numpy.org) para o tratamento dos dados, [`matplotlib.pyplot`](https://matplotlib.org/3.1.1/api/_as_gen/matplotlib.pyplot.html) para a geração dos gráficos, [`sklearn.dataset`](https://scikit-learn.org/stable/datasets/index.html) para a obtenção do dataset que usaremos e [`sklearn.linear_model`](https://scikit-learn.org/stable/modules/classes.html#module-sklearn.linear_model) para a modelização do problemas também devem ser importados."
   ]
  },
  {
   "cell_type": "code",
   "execution_count": 1,
   "metadata": {},
   "outputs": [],
   "source": [
    "%matplotlib inline\n",
    "import random\n",
    "import numpy as np\n",
    "from matplotlib import pyplot as plt\n",
    "#import matplotlib.pyplot as plt\n",
    "from sklearn import datasets, linear_model\n",
    "import warnings\n",
    "warnings.filterwarnings('ignore')"
   ]
  },
  {
   "cell_type": "markdown",
   "metadata": {},
   "source": [
    "####  <span style = \"color:red\">Código Original.</span>\n",
    "<!---\n",
    "%matplotlib inline\n",
    "import random\n",
    "import numpy as np\n",
    "from matplotlib import pyplot as plt\n",
    "#import matplotlib.pyplot as plt\n",
    "from sklearn import datasets, linear_model\n",
    "import warnings\n",
    "warnings.filterwarnings('ignore')\n",
    "-->"
   ]
  },
  {
   "cell_type": "markdown",
   "metadata": {},
   "source": [
    "#### Depois disso podemos definir algumas características dos gráficos que vamos plotar instanciando o objeto [`plt.rcParams`](https://matplotlib.org/3.2.2/api/matplotlib_configuration_api.html#matplotlib.rcParams), projetado para a manipulação de valores padrão `matplotlib`, é possível customizar os valores de [`rcParams[]`](https://matplotlib.org/3.2.2/tutorials/introductory/customizing.html) de acordo com a preferência. Vamos também definir uma semente [`.seed()`](https://pynative.com/python-random-seed/) para a geração aleatória de dados.\n"
   ]
  },
  {
   "cell_type": "code",
   "execution_count": 2,
   "metadata": {},
   "outputs": [],
   "source": [
    "plt.rcParams['figure.figsize'] = (8, 8)\n",
    "random.seed(5)"
   ]
  },
  {
   "cell_type": "markdown",
   "metadata": {},
   "source": [
    "####  <span style = \"color:red\">Código Original.</span>\n",
    "<!---\n",
    "plt.rcParams['figure.figsize'] = (8, 8)\n",
    "random.seed(5)\n",
    "-->"
   ]
  },
  {
   "cell_type": "markdown",
   "metadata": {},
   "source": [
    "#### Vamos agora definir uma função própria `generate_data()`, para a geração de um `dataset` de trabalho. Vamos criar um arranjo\n",
    "[`np.array()`](https://numpy.org/doc/stable/reference/generated/numpy.array.html) de dimensões `(-3, 3, 1)`, definir um objeto `data` que receba valores aleatórios, gerados pela função [`random.random()`](https://docs.python.org/3/library/random.html), dentro do intervalo estabelecido.\n",
    "\n",
    "#### A função deve ainda ordenar os valores de `data`, com a função [`.sort()`](https://docs.python.org/3/library/stdtypes.html#list.sort) e retornar os valores (xs, ys) de saída dos dados gerados."
   ]
  },
  {
   "cell_type": "code",
   "execution_count": 3,
   "metadata": {},
   "outputs": [],
   "source": [
    "# Geramos um dataset de exemplo\n",
    "def generate_data():\n",
    "    xs = np.arange(-3, 3, 1)\n",
    "    #print(xs)\n",
    "    data = [(2 * x - 3 * random.random(), \n",
    "             (x - 3*random.random()) * (x + random.random())) for x in xs]\n",
    "    data.sort()\n",
    "    #print(data)\n",
    "    xs = [x for (x, y) in data]\n",
    "    ys = [y for (x, y) in data]\n",
    "    return xs, ys\n",
    "xs, ys = generate_data()"
   ]
  },
  {
   "cell_type": "code",
   "execution_count": 4,
   "metadata": {},
   "outputs": [
    {
     "name": "stdout",
     "output_type": "stream",
     "text": [
      "[-7.868705084669106, -6.8273508513311505, -2.087015684850844, -1.9469236594107726, 0.5927928566535088, 2.2781764362156975]\n",
      "[11.520909484008026, 4.5474606036694905, 0.13576647035349249, -0.3059619276753641, 0.4018123953876509, 4.346247756315739]\n"
     ]
    }
   ],
   "source": [
    "print(xs)\n",
    "print(ys)"
   ]
  },
  {
   "cell_type": "markdown",
   "metadata": {},
   "source": [
    "####  <span style = \"color:red\">Código Original.</span>\n",
    "<!---\n",
    "# Geramos um dataset de exemplo\n",
    "def generate_data():\n",
    "    xs = np.arange(-3, 3, 1)\n",
    "    data = [(2 * x - 3 * random.random(), (x - 3*random.random()) * (x + random.random())) for x in xs]\n",
    "    data.sort()\n",
    "    xs = [x for (x, y) in data]\n",
    "    ys = [y for (x, y) in data]\n",
    "    return xs, ys\n",
    "-->"
   ]
  },
  {
   "cell_type": "markdown",
   "metadata": {},
   "source": [
    "#### Agora podemos usar a função [`plt.scatter()`](https://matplotlib.org/api/_as_gen/matplotlib.pyplot.scatter.html) para plotar os pontos que geramos na célula anterior."
   ]
  },
  {
   "cell_type": "code",
   "execution_count": 5,
   "metadata": {},
   "outputs": [
    {
     "data": {
      "image/png": "[encoded data removed]",
      "text/plain": [
       "<Figure size 576x576 with 1 Axes>"
      ]
     },
     "metadata": {
      "needs_background": "light"
     },
     "output_type": "display_data"
    }
   ],
   "source": [
    "plt.scatter(xs, ys)\n",
    "plt.title(\"Dados gerados\")\n",
    "plt.show()"
   ]
  },
  {
   "cell_type": "markdown",
   "metadata": {},
   "source": [
    "####  <span style = \"color:red\">Código Original.</span>\n",
    "<!---\n",
    "plt.scatter(xs, ys)\n",
    "plt.title(\"Dados gerados\")\n",
    "plt.show()\n",
    "-->"
   ]
  },
  {
   "cell_type": "markdown",
   "metadata": {},
   "source": [
    "#### Agora, vamos tentar ajustar um modelo, para isso vamos instanciar um objeto `lm` que receberá o modelo [`linear_model.LinearRegression()`](https://scikit-learn.org/stable/modules/generated/sklearn.linear_model.LinearRegression.html).\n",
    "\n",
    "#### Diferente do que fizemos antes, vamos aqui aplicar a função [`np.vander`](https://numpy.org/doc/stable/reference/generated/numpy.vander.html) que gera uma matriz com os termos de uma progressão geométrica em cada linha, também conhecida como matriz de [Vandermonde](https://en.wikipedia.org/wiki/Vandermonde_matrix), Aqui vamos definir as quantidades `X = np.vander(xs, 4)` e `y = ys`.\n",
    "\n",
    "#### O próximo passo é ajustar os dados gerados com o método [`.fit()`](https://scikit-learn.org/stable/modules/generated/sklearn.linear_model.LinearRegression.html#sklearn.linear_model.LinearRegression.fit) e então realizar as previsões para `X` com o método [`.predict()`](https://scikit-learn.org/stable/modules/generated/sklearn.linear_model.LinearRegression.html#sklearn.linear_model.LinearRegression.predict).\n",
    "\n",
    "\n",
    "#### Então podemos plotar as dispersões entre `xs`, `ys` e as previsões `predictions`, com a função `plt.scatter()`.\n",
    "\n",
    "#### Com a aplicação do método [`.score()`](https://scikit-learn.org/stable/modules/generated/sklearn.linear_model.LinearRegression.html#sklearn.linear_model.LinearRegression.score) obtemos os valores do coeficiente de determinação $R^{2}$.\n",
    "\n",
    "#### Se tentarmos ajustar um modelo de grau 4, obteremos o que chamamos de modelo superajustado."
   ]
  },
  {
   "cell_type": "code",
   "execution_count": 6,
   "metadata": {},
   "outputs": [
    {
     "name": "stdout",
     "output_type": "stream",
     "text": [
      "[[-4.87202833e+02  6.19165197e+01 -7.86870508e+00  1.00000000e+00]\n",
      " [-3.18241391e+02  4.66127196e+01 -6.82735085e+00  1.00000000e+00]\n",
      " [-9.09027745e+00  4.35563447e+00 -2.08701568e+00  1.00000000e+00]\n",
      " [-7.37983698e+00  3.79051174e+00 -1.94692366e+00  1.00000000e+00]\n",
      " [ 2.08309408e-01  3.51403371e-01  5.92792857e-01  1.00000000e+00]\n",
      " [ 1.18239359e+01  5.19008787e+00  2.27817644e+00  1.00000000e+00]]\n",
      "[11.520909484008026, 4.5474606036694905, 0.13576647035349249, -0.3059619276753641, 0.4018123953876509, 4.346247756315739]\n"
     ]
    },
    {
     "data": {
      "image/png": "[encoded data removed]",
      "text/plain": [
       "<Figure size 576x576 with 1 Axes>"
      ]
     },
     "metadata": {
      "needs_background": "light"
     },
     "output_type": "display_data"
    },
    {
     "name": "stdout",
     "output_type": "stream",
     "text": [
      "r^2: 0.945031349805265\n"
     ]
    }
   ],
   "source": [
    "lm = linear_model.LinearRegression()\n",
    "\n",
    "# Esta função de numpy gera a matriz polinômica a partir de uma série de valores\n",
    "X = np.vander(xs, 4)\n",
    "print(X)\n",
    "y = ys\n",
    "print(y)\n",
    "\n",
    "model = lm.fit(X, y)\n",
    "predictions = lm.predict(X)\n",
    "\n",
    "plt.scatter(xs, ys)\n",
    "plt.title(\"Amostra de dados #1\")\n",
    "plt.plot(xs, predictions, color = 'r')\n",
    "plt.show()\n",
    "print (\"r^2:\", model.score(X, y))"
   ]
  },
  {
   "cell_type": "markdown",
   "metadata": {},
   "source": [
    "####  <span style = \"color:red\">Código Original.</span>\n",
    "<!---\n",
    "lm = linear_model.LinearRegression()\n",
    "\n",
    "# Esta função de numpy gera a matriz polinômica a partir de uma série de valores\n",
    "X = np.vander(xs, 4)\n",
    "#print(np.vander(xs, N = 4))\n",
    "y = ys\n",
    "\n",
    "model = lm.fit(X, y)\n",
    "predictions = lm.predict(X)\n",
    "\n",
    "plt.scatter(xs, ys)\n",
    "plt.title(\"Amostra de dados #1\")\n",
    "plt.plot(xs, predictions)\n",
    "plt.show()\n",
    "print (\"r^2:\", model.score(X, y))\n",
    "-->"
   ]
  },
  {
   "cell_type": "markdown",
   "metadata": {},
   "source": [
    "#### Se aplicarmos esse mesmo modelo a uma nova amostra de dados gerados pela mesma função, veremos que não se ajusta muito bem. Ou melhor, veremos que se ajusta consideravelmente pior.\n",
    "\n",
    "#### Vamos repetir o processo anterior para os novos dados `xs2` e `ys2`."
   ]
  },
  {
   "cell_type": "code",
   "execution_count": 7,
   "metadata": {},
   "outputs": [
    {
     "data": {
      "image/png": "[encoded data removed]",
      "text/plain": [
       "<Figure size 576x576 with 1 Axes>"
      ]
     },
     "metadata": {
      "needs_background": "light"
     },
     "output_type": "display_data"
    },
    {
     "name": "stdout",
     "output_type": "stream",
     "text": [
      "r^2: 0.20020821820869683\n"
     ]
    }
   ],
   "source": [
    "xs2, ys2 = generate_data()\n",
    "X = np.vander(xs2, 4)\n",
    "predictions = lm.predict(X)\n",
    "\n",
    "plt.scatter(xs2, ys2)\n",
    "plt.title(\"Amostra de dados #2\")\n",
    "plt.plot(xs2, predictions, color = 'r')\n",
    "plt.show()\n",
    "print (\"r^2:\", model.score(X, ys2))"
   ]
  },
  {
   "cell_type": "markdown",
   "metadata": {},
   "source": [
    "####  <span style = \"color:red\">Código Original.</span>\n",
    "<!---\n",
    "xs2, ys2 = generate_data()\n",
    "X = np.vander(xs2, 4)\n",
    "predictions = lm.predict(X)\n",
    "\n",
    "plt.scatter(xs2, ys2)\n",
    "plt.title(\"Amostra de dados #2\")\n",
    "plt.plot(xs2, predictions)\n",
    "plt.show()\n",
    "print (\"r^2:\", model.score(X, ys2))\n",
    "-->"
   ]
  },
  {
   "cell_type": "markdown",
   "metadata": {},
   "source": [
    "##  <span style = \"color:Blue\">Prática Independente 1.</span>\n",
    "<!---\n",
    "\n",
    "-->"
   ]
  },
  {
   "cell_type": "markdown",
   "metadata": {},
   "source": [
    "#### Repita os passos anteriores, criando um arranjo diferente de dados, você pode criar uma nova lista de dados a partir da função `generate_data()` definida anteriormente, pode alterar as equações que geram os dados ou pode definir uma nova função."
   ]
  },
  {
   "cell_type": "code",
   "execution_count": 8,
   "metadata": {},
   "outputs": [],
   "source": [
    "#Modificando função\n",
    "def generate_data():\n",
    "    xs = np.arange(-4, 4, 1)\n",
    "    #print(xs)\n",
    "    data = [(4 * x - 1 * random.random(), \n",
    "             (x - 3*random.random()) * (x + random.random())) for x in xs]\n",
    "    data.sort()\n",
    "    #print(data)\n",
    "    xs = [x for (x, y) in data]\n",
    "    ys = [y for (x, y) in data]\n",
    "    return xs, ys\n",
    "\n",
    "xs3, ys3 = generate_data()"
   ]
  },
  {
   "cell_type": "markdown",
   "metadata": {},
   "source": [
    "####  <span style = \"color:red\">Código Original.</span>\n",
    "<!---\n",
    "# Geramos um dataset de exemplo\n",
    "def generate_data2():\n",
    "    xs = np.arange(-3, 3, 1)\n",
    "    #data = [(2 * x - 3 * random.random(), (x - 3 * random.random()) * (x + random.random())) for x in xs]\n",
    "    data = [(3 * x - 2 * random.random(), (x + 2 * random.random()) * (x - random.random())) for x in xs]\n",
    "    data.sort()\n",
    "    xs = [x for (x, y) in data]\n",
    "    ys = [y for (x, y) in data]\n",
    "    return xs, ys\n",
    "xs_PI1, ys_PI1 = generate_data2()\n",
    "-->"
   ]
  },
  {
   "cell_type": "markdown",
   "metadata": {},
   "source": [
    "#### Plote a dispersão dos dados que você gerou."
   ]
  },
  {
   "cell_type": "code",
   "execution_count": 9,
   "metadata": {},
   "outputs": [
    {
     "data": {
      "image/png": "[encoded data removed]",
      "text/plain": [
       "<Figure size 576x576 with 1 Axes>"
      ]
     },
     "metadata": {
      "needs_background": "light"
     },
     "output_type": "display_data"
    }
   ],
   "source": [
    "plt.scatter(xs3, ys3)\n",
    "plt.title(\"Dados gerados com função modificada\");"
   ]
  },
  {
   "cell_type": "markdown",
   "metadata": {},
   "source": [
    "####  <span style = \"color:red\">Código Original.</span>\n",
    "<!---\n",
    "# Traçamos\n",
    "plt.scatter(xs_PI1, ys_PI1);\n",
    "plt.title(\"Dados gerados\")\n",
    "plt.show()\n",
    "-->"
   ]
  },
  {
   "cell_type": "markdown",
   "metadata": {},
   "source": [
    "#### Agora defina um modelo de regressão para tentarmos ajustar esses pontos, ao fim imprima na tela os valores dos atributos descritivos e da previsão do modelo."
   ]
  },
  {
   "cell_type": "code",
   "execution_count": 10,
   "metadata": {},
   "outputs": [
    {
     "name": "stdout",
     "output_type": "stream",
     "text": [
      "Dados descritivos: [[-4.25529212e+03  2.62594879e+02 -1.62047795e+01]\n",
      " [-2.18009167e+03  1.68131790e+02 -1.29665643e+01]\n",
      " [-5.84526584e+02  6.99094971e+01 -8.36118993e+00]\n",
      " [-6.71779008e+01  1.65253609e+01 -4.06513971e+00]\n",
      " [-3.87214816e-08  1.14454967e-05 -3.38311937e-03]\n",
      " [ 5.02451274e+01  1.36164105e+01  3.69004207e+00]\n",
      " [ 4.53729638e+02  5.90470356e+01  7.68420689e+00]\n",
      " [ 1.70349238e+03  1.42635227e+02  1.19429991e+01]]\n",
      "\n",
      "Predições: [23.26276736 13.99999463  5.23147416  0.82092472 -0.85092771 -0.92826859\n",
      " -0.16005773  0.82531474]\n"
     ]
    }
   ],
   "source": [
    "# Esta função de numpy gera a matriz polinômica a partir de uma série de valores\n",
    "X = np.vander(xs3, 4)[:,:-1]\n",
    "\n",
    "#Valores variável resposta\n",
    "y = ys3\n",
    "\n",
    "#Ajustando modelo aos novos dados gerados\n",
    "modelo = lm.fit(X, y)\n",
    "\n",
    "#Prevendo\n",
    "predicoes = lm.predict(X)\n",
    "\n",
    "print(f'Dados descritivos: {X}')\n",
    "print()\n",
    "print(f'Predições: {predicoes}')"
   ]
  },
  {
   "cell_type": "markdown",
   "metadata": {},
   "source": [
    "####  <span style = \"color:red\">Código Original.</span>\n",
    "<!---\n",
    "lm = linear_model.LinearRegression()\n",
    "\n",
    "# Esta função de numpy gera a matriz polinômica a partir de uma série de valores\n",
    "X = np.vander(xs_PI1, 4)\n",
    "#print(np.vander(xs, N = 4))\n",
    "y = ys_PI1\n",
    "\n",
    "model = lm.fit(X, y)\n",
    "predictions = lm.predict(X)\n",
    "print(X)\n",
    "print(predictions)\n",
    "-->"
   ]
  },
  {
   "cell_type": "markdown",
   "metadata": {},
   "source": [
    "#### Plote os pontos gerados e o modelo que os ajusta."
   ]
  },
  {
   "cell_type": "code",
   "execution_count": 11,
   "metadata": {},
   "outputs": [
    {
     "name": "stdout",
     "output_type": "stream",
     "text": [
      "R²: 0.9867682776042457\n"
     ]
    },
    {
     "data": {
      "image/png": "[encoded data removed]",
      "text/plain": [
       "<Figure size 576x576 with 1 Axes>"
      ]
     },
     "metadata": {
      "needs_background": "light"
     },
     "output_type": "display_data"
    }
   ],
   "source": [
    "plt.scatter(xs3, ys3)\n",
    "plt.title(\"Amostra de dados #3\")\n",
    "plt.plot(xs3, predicoes, color = 'y');\n",
    "print (\"R²:\", modelo.score(X, y))"
   ]
  },
  {
   "cell_type": "markdown",
   "metadata": {},
   "source": [
    "####  <span style = \"color:red\">Código Original.</span>\n",
    "<!---\n",
    "plt.scatter(xs_PI1, ys_PI1)\n",
    "plt.title(\"Amostra de dados #1\")\n",
    "plt.plot(xs_PI1, predictions, color = 'r')\n",
    "plt.show()\n",
    "print (\"r^2:\", model.score(X, y))\n",
    "-->"
   ]
  },
  {
   "cell_type": "markdown",
   "metadata": {},
   "source": [
    "#### Chame novamente a função que você criou para gerar números aleatórios, realize novas previsões"
   ]
  },
  {
   "cell_type": "code",
   "execution_count": 12,
   "metadata": {},
   "outputs": [],
   "source": [
    "#Gerando novos dados\n",
    "xs4, ys4 = generate_data()\n",
    "\n",
    "#Matriz polinômica com 10 graus de liberdade\n",
    "X = np.vander(xs4, 4)[:,:-1]\n",
    "\n",
    "#Variável resposta\n",
    "y = ys4\n",
    "\n",
    "#Previsões\n",
    "predicoes = lm.predict(X)"
   ]
  },
  {
   "cell_type": "markdown",
   "metadata": {},
   "source": [
    "####  <span style = \"color:red\">Código Original.</span>\n",
    "<!---\n",
    "xs2_PI1, ys2_PI1 = generate_data2()\n",
    "X = np.vander(xs2_PI1, 4)\n",
    "predictions = lm.predict(X)\n",
    "-->"
   ]
  },
  {
   "cell_type": "markdown",
   "metadata": {},
   "source": [
    "#### Plote os novos dados e as novas previsões, sem modificar o ajuste realizado."
   ]
  },
  {
   "cell_type": "code",
   "execution_count": 13,
   "metadata": {},
   "outputs": [
    {
     "name": "stdout",
     "output_type": "stream",
     "text": [
      "R²: 0.7887586027671042\n"
     ]
    },
    {
     "data": {
      "image/png": "[encoded data removed]",
      "text/plain": [
       "<Figure size 576x576 with 1 Axes>"
      ]
     },
     "metadata": {
      "needs_background": "light"
     },
     "output_type": "display_data"
    }
   ],
   "source": [
    "plt.scatter(xs4, ys4)\n",
    "plt.title(\"Amostra de dados #4\")\n",
    "plt.plot(xs4, predicoes, color = 'y');\n",
    "print (\"R²:\", modelo.score(X, y))"
   ]
  },
  {
   "cell_type": "markdown",
   "metadata": {},
   "source": [
    "####  <span style = \"color:red\">Código Original.</span>\n",
    "<!---\n",
    "plt.scatter(xs2_PI1, ys2_PI1)\n",
    "plt.title(\"Amostra de dados #2\")\n",
    "plt.plot(xs2_PI1, predictions, color = 'r')\n",
    "plt.show()\n",
    "print (\"r^2:\", model.score(X, ys2_PI1))\n",
    "-->"
   ]
  },
  {
   "cell_type": "markdown",
   "metadata": {},
   "source": [
    "## Regressão regularizada."
   ]
  },
  {
   "cell_type": "markdown",
   "metadata": {},
   "source": [
    "#### A regularização é um método de penalização de atributos extras em um modelo."
   ]
  },
  {
   "cell_type": "markdown",
   "metadata": {},
   "source": [
    "## Ridge Regression"
   ]
  },
  {
   "cell_type": "markdown",
   "metadata": {},
   "source": [
    "#### Vamos usar scikit-learn para ajustar uma regressão com regularização, como a que descrevemos no início do notebook. Esta forma de regularização se chama _ridge regression_ , em inglês. Na regressão Ridge ([Tikhonov Regularization](https://en.wikipedia.org/wiki/Tikhonov_regularization)) queremos minimar a seguinte expressão:\n",
    "\n",
    "\n",
    "<center>$RSS + \\alpha\\sum_{j=1}^{p} \\beta_{j}^{2}$</center>\n",
    "\n",
    "\n",
    "\n",
    "#### Para aplicar o modelo de regularização de Ridge devemos importar a bilbioteca correspondente  [`sklearn.linear_model.Ridge()`](https://scikit-learn.org/stable/modules/generated/sklearn.linear_model.Ridge.html). Devemos instanciar um modelo `rlm` com a função [`linear_model.Ridge()`](https://scikit-learn.org/stable/modules/generated/sklearn.linear_model.Ridge.html), observe o parâmetro `alpha = 10`.\n",
    "\n",
    "\n",
    "#### Aplicamos novamente a função [`np.vander`](https://numpy.org/doc/stable/reference/generated/numpy.vander.html) que gera uma matriz com os termos de uma progressão geométrica em cada linha, também conhecida como matriz de [Vandermonde](https://en.wikipedia.org/wiki/Vandermonde_matrix), assim com os métodos `.fit()` e `.predict()` para ajuste e predição dos dados.\n",
    "\n",
    "####  Por fim podemos plotar um gráfico com a relação entre os pontos  observamos e aqueles previstos, usando o método `.scatter()`. O método método [`.score()`](https://scikit-learn.org/stable/modules/generated/sklearn.linear_model.LinearRegression.html#sklearn.linear_model.LinearRegression.score) obtemos os valores do coeficiente de determinação $R^{2}$."
   ]
  },
  {
   "cell_type": "code",
   "execution_count": 14,
   "metadata": {},
   "outputs": [
    {
     "name": "stdout",
     "output_type": "stream",
     "text": [
      "[[-4.87202833e+02  6.19165197e+01 -7.86870508e+00  1.00000000e+00]\n",
      " [-3.18241391e+02  4.66127196e+01 -6.82735085e+00  1.00000000e+00]\n",
      " [-9.09027745e+00  4.35563447e+00 -2.08701568e+00  1.00000000e+00]\n",
      " [-7.37983698e+00  3.79051174e+00 -1.94692366e+00  1.00000000e+00]\n",
      " [ 2.08309408e-01  3.51403371e-01  5.92792857e-01  1.00000000e+00]\n",
      " [ 1.18239359e+01  5.19008787e+00  2.27817644e+00  1.00000000e+00]]\n",
      "[11.520909484008026, 4.5474606036694905, 0.13576647035349249, -0.3059619276753641, 0.4018123953876509, 4.346247756315739]\n"
     ]
    },
    {
     "data": {
      "image/png": "[encoded data removed]",
      "text/plain": [
       "<Figure size 576x576 with 1 Axes>"
      ]
     },
     "metadata": {
      "needs_background": "light"
     },
     "output_type": "display_data"
    },
    {
     "name": "stdout",
     "output_type": "stream",
     "text": [
      "r^2: 0.9116490185982189\n"
     ]
    }
   ],
   "source": [
    "rlm = linear_model.Ridge(alpha = 10)\n",
    "\n",
    "# Ajustamos novamente, desta vez com regularização\n",
    "X = np.vander(xs, 4)\n",
    "print(X)\n",
    "y = ys\n",
    "print(y)\n",
    "ridge_model = rlm.fit(X, y)\n",
    "predictions = ridge_model.predict(X)\n",
    "\n",
    "plt.scatter(xs, ys)\n",
    "plt.title(\"Amostra de dados #1\")\n",
    "plt.plot(xs, predictions, color = 'r')\n",
    "plt.show()\n",
    "print (\"r^2:\", ridge_model.score(X, ys))"
   ]
  },
  {
   "cell_type": "markdown",
   "metadata": {},
   "source": [
    "####  <span style = \"color:red\">Código Original.</span>\n",
    "<!---\n",
    "rlm = linear_model.Ridge(alpha=10)\n",
    "\n",
    "# Ajustamos novamente, desta vez com regularização\n",
    "X = np.vander(xs, 4)\n",
    "y = ys\n",
    "ridge_model = rlm.fit(X, y)\n",
    "predictions = ridge_model.predict(X)\n",
    "\n",
    "plt.scatter(xs, ys)\n",
    "plt.title(\"Amostra de dados #1\")\n",
    "plt.plot(xs, predictions)\n",
    "plt.show()\n",
    "print (\"r^2:\", ridge_model.score(X, ys))\n",
    "-->"
   ]
  },
  {
   "cell_type": "markdown",
   "metadata": {},
   "source": [
    "#### Se aplicarmos esse mesmo modelo a uma nova amostra de dados gerados pela mesma função, veremos que não se ajusta muito bem. Ou melhor, veremos que se ajusta consideravelmente pior.\n",
    "\n",
    "#### Vamos repetir o processo anterior para os novos dados `xs2`."
   ]
  },
  {
   "cell_type": "code",
   "execution_count": 15,
   "metadata": {},
   "outputs": [
    {
     "data": {
      "image/png": "[encoded data removed]",
      "text/plain": [
       "<Figure size 576x576 with 1 Axes>"
      ]
     },
     "metadata": {
      "needs_background": "light"
     },
     "output_type": "display_data"
    },
    {
     "name": "stdout",
     "output_type": "stream",
     "text": [
      "r^2: 0.3924390594090428\n"
     ]
    }
   ],
   "source": [
    "X = np.vander(xs2, 4)\n",
    "predictions = ridge_model.predict(X)\n",
    "\n",
    "plt.scatter(xs2, ys2)\n",
    "plt.title(\"Amostra de dados #2\")\n",
    "plt.plot(xs2, predictions, color = 'r')\n",
    "plt.show()\n",
    "print (\"r^2:\", ridge_model.score(X, ys2))"
   ]
  },
  {
   "cell_type": "markdown",
   "metadata": {},
   "source": [
    "####  <span style = \"color:red\">Código Original.</span>\n",
    "<!---\n",
    "X = np.vander(xs2, 4)\n",
    "predictions = ridge_model.predict(X)\n",
    "\n",
    "plt.scatter(xs2, ys2)\n",
    "plt.title(\"Amostra de dados#2\")\n",
    "plt.plot(xs2, predictions)\n",
    "plt.show()\n",
    "print (\"r^2:\", ridge_model.score(X, ys2))\n",
    "-->"
   ]
  },
  {
   "cell_type": "markdown",
   "metadata": {},
   "source": [
    "#### Note que o ajuste da _ridge regression_ piorou um pouco (ou seja, não foi tão bom) na amostra \n",
    "\n",
    "- #1. Por outro lado, a melhoria foi notável na amostra. \n",
    "- #2. Isto acontece porque a regularização busca prevenir o superajuste (overfitting).\n",
    "\n",
    "#### Se quiserem ver outro exemplo de ridge regularization, leiam [este](http://scikit-learn.org/stable/auto_examples/linear_model/plot_ols_ridge_variance.html) da documentação oficial de scikit-learn."
   ]
  },
  {
   "cell_type": "markdown",
   "metadata": {},
   "source": [
    "##  <span style = \"color:Blue\">Prática Independente 2.</span>\n",
    "<!---\n",
    "\n",
    "-->"
   ]
  },
  {
   "cell_type": "markdown",
   "metadata": {},
   "source": [
    "#### Crie um objeto que receberá o modelo de regressão com regularização de Ridge."
   ]
  },
  {
   "cell_type": "code",
   "execution_count": 16,
   "metadata": {},
   "outputs": [],
   "source": [
    "rlm2 = linear_model.Ridge(alpha = 8)"
   ]
  },
  {
   "cell_type": "markdown",
   "metadata": {},
   "source": [
    "####  <span style = \"color:red\">Código Original.</span>\n",
    "<!---\n",
    "rlm = linear_model.Ridge(alpha = 10)\n",
    "-->"
   ]
  },
  {
   "cell_type": "markdown",
   "metadata": {},
   "source": [
    "#### Faça um novo ajuste dos dados da Prática Independente 1 e realize novas predições."
   ]
  },
  {
   "cell_type": "code",
   "execution_count": 17,
   "metadata": {},
   "outputs": [],
   "source": [
    "X = np.vander(xs3, 4)[:,:-1]\n",
    "y= ys3\n",
    "ridge_model= rlm.fit(X, y)\n",
    "predictions = ridge_model.predict(X)"
   ]
  },
  {
   "cell_type": "markdown",
   "metadata": {},
   "source": [
    "####  <span style = \"color:red\">Código Original.</span>\n",
    "<!---\n",
    "# Ajustamos novamente, desta vez com regularização\n",
    "X = np.vander(xs_PI1, 4)\n",
    "y = ys_PI1\n",
    "ridge_model = rlm.fit(X, y)\n",
    "predictions = ridge_model.predict(X)\n",
    "-->"
   ]
  },
  {
   "cell_type": "markdown",
   "metadata": {},
   "source": [
    "#### Plote novamente os pontos gerados na Prática Independente 1 e também o novo modelo, agora regularizado pelo método Ridge."
   ]
  },
  {
   "cell_type": "code",
   "execution_count": 18,
   "metadata": {},
   "outputs": [
    {
     "data": {
      "image/png": "[encoded data removed]",
      "text/plain": [
       "<Figure size 576x576 with 1 Axes>"
      ]
     },
     "metadata": {
      "needs_background": "light"
     },
     "output_type": "display_data"
    },
    {
     "name": "stdout",
     "output_type": "stream",
     "text": [
      "r^2: 0.9867210065697894\n"
     ]
    }
   ],
   "source": [
    "plt.scatter(xs3, ys3)\n",
    "plt.title(\"Amostra de dados #3\")\n",
    "plt.plot(xs3, predictions, color = 'r')\n",
    "plt.show()\n",
    "print (\"r^2:\", ridge_model.score(X, y))"
   ]
  },
  {
   "cell_type": "markdown",
   "metadata": {},
   "source": [
    "####  <span style = \"color:red\">Código Original.</span>\n",
    "<!---\n",
    "plt.scatter(xs_PI1, ys_PI1)\n",
    "plt.title(\"Amostra de dados #1\")\n",
    "plt.plot(xs_PI1, predictions, color = 'r')\n",
    "plt.show()\n",
    "print (\"r^2:\", ridge_model.score(X, ys_PI1))\n",
    "-->"
   ]
  },
  {
   "cell_type": "markdown",
   "metadata": {},
   "source": [
    "#### Agora repita o processo"
   ]
  },
  {
   "cell_type": "code",
   "execution_count": 19,
   "metadata": {},
   "outputs": [],
   "source": [
    "X = np.vander(xs4, 4)[:,:-1]\n",
    "y= ys4\n",
    "predictions = ridge_model.predict(X)"
   ]
  },
  {
   "cell_type": "code",
   "execution_count": 20,
   "metadata": {},
   "outputs": [
    {
     "data": {
      "image/png": "[encoded data removed]",
      "text/plain": [
       "<Figure size 576x576 with 1 Axes>"
      ]
     },
     "metadata": {
      "needs_background": "light"
     },
     "output_type": "display_data"
    },
    {
     "name": "stdout",
     "output_type": "stream",
     "text": [
      "r^2: 0.7904337010604634\n"
     ]
    }
   ],
   "source": [
    "plt.scatter(xs4, ys4)\n",
    "plt.title(\"Amostra de dados #4\")\n",
    "plt.plot(xs4, predictions, color = 'r')\n",
    "plt.show()\n",
    "print (\"r^2:\", ridge_model.score(X, y))"
   ]
  },
  {
   "cell_type": "markdown",
   "metadata": {},
   "source": [
    "####  <span style = \"color:red\">Código Original.</span>\n",
    "<!---\n",
    "X = np.vander(xs2_PI1, 4)\n",
    "predictions = ridge_model.predict(X)\n",
    "\n",
    "plt.scatter(xs2_PI1, ys2_PI1)\n",
    "plt.title(\"Amostra de dados #2\")\n",
    "plt.plot(xs2_PI1, predictions, color = 'r')\n",
    "plt.show()\n",
    "print (\"r^2:\", ridge_model.score(X, ys2_PI1))\n",
    "-->"
   ]
  },
  {
   "cell_type": "markdown",
   "metadata": {},
   "source": [
    "#### O que você observou depois da regularização de Ridge?"
   ]
  },
  {
   "cell_type": "markdown",
   "metadata": {},
   "source": [
    "## Lasso."
   ]
  },
  {
   "cell_type": "markdown",
   "metadata": {},
   "source": [
    "#### Vamos também usar scikit-learn para ajustar nossa regressão com a regularização do tipo __Lasso Regression__. Na regressão Lasso ([Least Absolute Shrinkage and Selection Operator](https://en.wikipedia.org/wiki/Lasso_(statistics))) queremos minimar a seguinte expressão:\n",
    "\n",
    "<center>$RSS + \\lambda\\sum_{j=1}^{p} |\\beta_{j}|$</center>\n",
    "\n",
    "#### Para aplicar o modelo de regularização de Lasso devemos importar a bilbioteca correspondente  [`sklearn.linear_model.Lasso()`](https://scikit-learn.org/stable/modules/generated/sklearn.linear_model.Lasso.html). Devemos instanciar um modelo `rlm` com a função [`linear_model.Lasso()`](https://scikit-learn.org/stable/modules/generated/sklearn.linear_model.Lasso.html), observe os parâmetros `alpha = 0.5` e `normalize = True`.\n",
    "\n",
    "\n",
    "#### Aplicamos novamente a função [`np.vander`](https://numpy.org/doc/stable/reference/generated/numpy.vander.html) que gera uma matriz com os termos de uma progressão geométrica em cada linha, também conhecida como matriz de [Vandermonde](https://en.wikipedia.org/wiki/Vandermonde_matrix), assim com os métodos `.fit()` e `.predict()` para ajuste e predição dos dados.\n",
    "\n",
    "####  Prof fim podemos plotar um gráfico com a relação entre os pontos  observamos e aqueles previstos, usando o método `.scatter()`. O método método [`.score()`](https://scikit-learn.org/stable/modules/generated/sklearn.linear_model.LinearRegression.html#sklearn.linear_model.LinearRegression.score) obtemos os valores do coeficiente de determinação $R^{2}$."
   ]
  },
  {
   "cell_type": "code",
   "execution_count": 21,
   "metadata": {},
   "outputs": [
    {
     "name": "stdout",
     "output_type": "stream",
     "text": [
      "r^2: 0.6774247705250349\n"
     ]
    },
    {
     "data": {
      "image/png": "[encoded data removed]",
      "text/plain": [
       "<Figure size 576x576 with 1 Axes>"
      ]
     },
     "metadata": {
      "needs_background": "light"
     },
     "output_type": "display_data"
    }
   ],
   "source": [
    "lasso = linear_model.Lasso(alpha = 0.5, normalize = True)\n",
    "\n",
    "# Ajustamos nuevamente, esta vez con regularizacion\n",
    "X = np.vander(xs, 4)[:,:-1]\n",
    "y = ys\n",
    "lasso_model =lasso.fit(X, y)\n",
    "predictions = lasso_model.predict(X)\n",
    "\n",
    "plt.scatter(xs, ys)\n",
    "plt.title(\"Amostra de dados #1\")\n",
    "plt.plot(xs, predictions, color ='r')\n",
    "\n",
    "print (\"r^2:\", lasso_model.score(X, ys))"
   ]
  },
  {
   "cell_type": "markdown",
   "metadata": {},
   "source": [
    "####  <span style = \"color:red\">Código Original.</span>\n",
    "<!---\n",
    "lasso = linear_model.Lasso(alpha = 0.5, normalize = True)\n",
    "\n",
    "# Ajustamos nuevamente, esta vez con regularizacion\n",
    "X = np.vander(xs, 4)[:,:-1]\n",
    "y = ys\n",
    "lasso_model =lasso.fit(X, y)\n",
    "predictions = lasso_model.predict(X)\n",
    "\n",
    "plt.scatter(xs, ys)\n",
    "plt.title(\"Amostra de dados #1\")\n",
    "plt.plot(xs, predictions, c='r')\n",
    "\n",
    "print (\"r^2:\", lasso_model.score(X, ys))\n",
    "-->"
   ]
  },
  {
   "cell_type": "markdown",
   "metadata": {},
   "source": [
    "#### Se aplicarmos esse mesmo modelo a uma nova amostra de dados gerados pela mesma função, veremos que não se ajusta muito bem. Ou melhor, veremos que se ajusta consideravelmente pior.\n",
    "\n",
    "#### Vamos repetir o processo anterior para os novos dados `xs2`."
   ]
  },
  {
   "cell_type": "code",
   "execution_count": 22,
   "metadata": {},
   "outputs": [
    {
     "name": "stdout",
     "output_type": "stream",
     "text": [
      "r^2: 0.41942409398690095\n"
     ]
    },
    {
     "data": {
      "image/png": "[encoded data removed]",
      "text/plain": [
       "<Figure size 576x576 with 1 Axes>"
      ]
     },
     "metadata": {
      "needs_background": "light"
     },
     "output_type": "display_data"
    }
   ],
   "source": [
    "X = np.vander(xs2, 4)[:,:-1]\n",
    "predictions = lasso_model.predict(X)\n",
    "\n",
    "plt.scatter(xs2, ys2)\n",
    "plt.title(\"Amostra de dados#2\")\n",
    "plt.plot(xs2, predictions, c = 'r')\n",
    "\n",
    "print (\"r^2:\", lasso_model.score(X, ys2))"
   ]
  },
  {
   "cell_type": "markdown",
   "metadata": {},
   "source": [
    "####  <span style = \"color:red\">Código Original.</span>\n",
    "<!---\n",
    "X = np.vander(xs2, 4)[:,:-1]\n",
    "predictions = lasso_model.predict(X)\n",
    "\n",
    "plt.scatter(xs2, ys2)\n",
    "plt.title(\"Amostra de dados#2\")\n",
    "plt.plot(xs2, predictions, c='r')\n",
    "\n",
    "print (\"r^2:\", lasso_model.score(X, ys2))\n",
    "-->"
   ]
  },
  {
   "cell_type": "markdown",
   "metadata": {},
   "source": [
    "#### Vamos ver os coeficientes da regressão de Lasso [`lasso_model.coef_`](https://scikit-learn.org/stable/modules/generated/sklearn.linear_model.Lasso.html):"
   ]
  },
  {
   "cell_type": "code",
   "execution_count": 23,
   "metadata": {},
   "outputs": [
    {
     "data": {
      "text/plain": [
       "array([-0.00605141,  0.04889947, -0.        ])"
      ]
     },
     "execution_count": 23,
     "metadata": {},
     "output_type": "execute_result"
    }
   ],
   "source": [
    "lasso_model.coef_"
   ]
  },
  {
   "cell_type": "markdown",
   "metadata": {},
   "source": [
    "####  <span style = \"color:red\">Código Original.</span>\n",
    "<!---\n",
    "lasso_model.coef_\n",
    "-->"
   ]
  },
  {
   "cell_type": "markdown",
   "metadata": {},
   "source": [
    "##  <span style = \"color:Blue\">Prática Independente 3.</span>\n",
    "<!---\n",
    "\n",
    "-->"
   ]
  },
  {
   "cell_type": "markdown",
   "metadata": {},
   "source": [
    "#### Agora crie um objeto que deva receber a função de regressão regularizada pelo método Lasso"
   ]
  },
  {
   "cell_type": "code",
   "execution_count": 24,
   "metadata": {},
   "outputs": [],
   "source": [
    "lasso = linear_model.Lasso(alpha = 0.5, normalize = True)"
   ]
  },
  {
   "cell_type": "markdown",
   "metadata": {},
   "source": [
    "####  <span style = \"color:red\">Código Original.</span>\n",
    "<!---\n",
    "lasso = linear_model.Lasso(alpha = 0.5, normalize = True)\n",
    "-->"
   ]
  },
  {
   "cell_type": "markdown",
   "metadata": {},
   "source": [
    "#### Utilize novamente os dados que você gerou na Prática Independente 1 e faça o ajuste do modelo, adotando o método Lasso de regularização. Faça novas previsões."
   ]
  },
  {
   "cell_type": "code",
   "execution_count": 25,
   "metadata": {},
   "outputs": [],
   "source": [
    "X = np.vander(xs3, 4)[:,:-1]\n",
    "y = ys3\n",
    "lasso_model = lasso.fit(X, y)\n",
    "predictions = lasso_model.predict(X)"
   ]
  },
  {
   "cell_type": "markdown",
   "metadata": {},
   "source": [
    "####  <span style = \"color:red\">Código Original.</span>\n",
    "<!---\n",
    "# Ajustamos nuevamente, esta vez con regularizacion\n",
    "X = np.vander(xs_PI1, 4)[:,:-1]\n",
    "y = ys_PI1\n",
    "lasso_model = lasso.fit(X, y)\n",
    "predictions = lasso_model.predict(X)\n",
    "-->"
   ]
  },
  {
   "cell_type": "markdown",
   "metadata": {},
   "source": [
    "#### Plot a dispersão dos novos dados, juntamente com o modelo calculado."
   ]
  },
  {
   "cell_type": "code",
   "execution_count": 26,
   "metadata": {},
   "outputs": [
    {
     "name": "stdout",
     "output_type": "stream",
     "text": [
      "r^2: 0.9470501780454473\n"
     ]
    },
    {
     "data": {
      "image/png": "[encoded data removed]",
      "text/plain": [
       "<Figure size 576x576 with 1 Axes>"
      ]
     },
     "metadata": {
      "needs_background": "light"
     },
     "output_type": "display_data"
    }
   ],
   "source": [
    "plt.scatter(xs3, ys3)\n",
    "plt.title(\"Amostra de dados #1\")\n",
    "plt.plot(xs3, predictions, color = 'r')\n",
    "\n",
    "print (\"r^2:\", lasso_model.score(X, y))"
   ]
  },
  {
   "cell_type": "markdown",
   "metadata": {},
   "source": [
    "####  <span style = \"color:red\">Código Original.</span>\n",
    "<!---\n",
    "plt.scatter(xs_PI1, ys_PI1)\n",
    "plt.title(\"Amostra de dados #1\")\n",
    "plt.plot(xs_PI1, predictions, color = 'r')\n",
    "\n",
    "print (\"r^2:\", lasso_model.score(X, ys_PI1))\n",
    "-->"
   ]
  },
  {
   "cell_type": "markdown",
   "metadata": {},
   "source": [
    "#### Use o segundo de dados gerados na Prática Independente 1 e aplique novamente o modelo regularizado pelo método Lasso."
   ]
  },
  {
   "cell_type": "code",
   "execution_count": 27,
   "metadata": {},
   "outputs": [
    {
     "name": "stdout",
     "output_type": "stream",
     "text": [
      "r^2: 0.793576233607623\n"
     ]
    },
    {
     "data": {
      "image/png": "[encoded data removed]",
      "text/plain": [
       "<Figure size 576x576 with 1 Axes>"
      ]
     },
     "metadata": {
      "needs_background": "light"
     },
     "output_type": "display_data"
    }
   ],
   "source": [
    "X = np.vander(xs4, 4)[:,:-1]\n",
    "predictions = lasso_model.predict(X)\n",
    "y= ys4\n",
    "\n",
    "plt.scatter(xs4, ys4)\n",
    "plt.title(\"Amostra de dados#4\")\n",
    "plt.plot(xs4, predictions, color = 'r')\n",
    "print (\"r^2:\", lasso_model.score(X, y))\n",
    "plt.show()"
   ]
  },
  {
   "cell_type": "markdown",
   "metadata": {},
   "source": [
    "####  <span style = \"color:red\">Código Original.</span>\n",
    "<!---\n",
    "X = np.vander(xs2_PI1, 4)[:,:-1]\n",
    "predictions = lasso_model.predict(X)\n",
    "\n",
    "plt.scatter(xs2_PI1, ys2_PI1)\n",
    "plt.title(\"Amostra de dados#2\")\n",
    "plt.plot(xs2_PI1, predictions, color = 'r')\n",
    "\n",
    "print (\"r^2:\", lasso_model.score(X, ys2_PI1))\n",
    "-->"
   ]
  },
  {
   "cell_type": "markdown",
   "metadata": {},
   "source": [
    "#### Discuta suas observações."
   ]
  },
  {
   "cell_type": "markdown",
   "metadata": {},
   "source": [
    "## ElasticNet."
   ]
  },
  {
   "cell_type": "markdown",
   "metadata": {},
   "source": [
    "#### Vamos também usar scikit-learn para ajustar nossa regressão com a regularização do tipo __ElasticNet Regression__.  A regularização de rede elástica ([ElasticNet](https://en.wikipedia.org/wiki/Elastic_net_regularization)) é um método de regressão regularizado que combina linearmente as penalidades $L_{1}$ e $L_{2}$ dos métodos laço e cordão.\n",
    "\n",
    "\n",
    "#### Para aplicar o modelo de regularização ElasticNet devemos importar a bilbioteca correspondente  [`sklearn.linear_model.ElasticNet()`](https://scikit-learn.org/stable/modules/generated/sklearn.linear_model.ElasticNet.html). Devemos instanciar um modelo `rlm` com a função [`linear_model.ElasticNet()`](https://scikit-learn.org/stable/modules/generated/sklearn.linear_model.ElasticNet.html), observe os parâmetros `alpha = 0.5` e `normalize = True`.\n",
    "\n",
    "#### Aplicamos novamente a função [`np.vander`](https://numpy.org/doc/stable/reference/generated/numpy.vander.html) que gera uma matriz com os termos de uma progressão geométrica em cada linha, também conhecida como matriz de [Vandermonde](https://en.wikipedia.org/wiki/Vandermonde_matrix), assim com os métodos `.fit()` e `.predict()` para ajuste e predição dos dados.\n",
    "\n",
    "####  Por fim podemos plotar um gráfico com a relação entre os pontos  observamos e aqueles previstos, usando o método `.scatter()`. O método método [`.score()`](https://scikit-learn.org/stable/modules/generated/sklearn.linear_model.LinearRegression.html#sklearn.linear_model.LinearRegression.score) obtemos os valores do coeficiente de determinação $R^{2}$."
   ]
  },
  {
   "cell_type": "code",
   "execution_count": 28,
   "metadata": {},
   "outputs": [
    {
     "name": "stdout",
     "output_type": "stream",
     "text": [
      "r^2: 0.5540874979410444\n"
     ]
    },
    {
     "data": {
      "image/png": "[encoded data removed]",
      "text/plain": [
       "<Figure size 576x576 with 1 Axes>"
      ]
     },
     "metadata": {
      "needs_background": "light"
     },
     "output_type": "display_data"
    }
   ],
   "source": [
    "elastic_net = linear_model.ElasticNet(alpha = 0.5, normalize = True)\n",
    "\n",
    "# Ajustamos nuevamente, esta vez con regularizacion\n",
    "X = np.vander(xs, 4)[:,:-1]\n",
    "y = ys\n",
    "\n",
    "elastic_net.fit(X, y)\n",
    "predictions = elastic_net.predict(X)\n",
    "\n",
    "plt.scatter(xs, ys)\n",
    "plt.title(\"Amostra de dados #1\")\n",
    "plt.plot(xs, predictions, color = 'r')\n",
    "\n",
    "print (\"r^2:\", elastic_net.score(X, ys))"
   ]
  },
  {
   "cell_type": "markdown",
   "metadata": {},
   "source": [
    "####  <span style = \"color:red\">Código Original.</span>\n",
    "<!---\n",
    "elastic_net = linear_model.ElasticNet(alpha = 0.5, normalize = True)\n",
    "\n",
    "# Ajustamos nuevamente, esta vez con regularizacion\n",
    "X = np.vander(xs, 4)[:,:-1]\n",
    "y = ys\n",
    "\n",
    "elastic_net.fit(X, y)\n",
    "predictions = elastic_net.predict(X)\n",
    "\n",
    "plt.scatter(xs, ys)\n",
    "plt.title(\"Amostra de dados #1\")\n",
    "plt.plot(xs, predictions, c='r')\n",
    "\n",
    "print (\"r^2:\", elastic_net.score(X, ys))\n",
    "-->"
   ]
  },
  {
   "cell_type": "markdown",
   "metadata": {},
   "source": [
    "#### Se aplicarmos esse mesmo modelo a uma nova amostra de dados gerados pela mesma função, veremos que não se ajusta muito bem. Ou melhor, veremos que se ajusta consideravelmente pior.\n",
    "\n",
    "#### Vamos repetir o processo anterior para os novos dados `xs2`."
   ]
  },
  {
   "cell_type": "code",
   "execution_count": 29,
   "metadata": {},
   "outputs": [
    {
     "name": "stdout",
     "output_type": "stream",
     "text": [
      "r^2: 0.3362123797028943\n"
     ]
    },
    {
     "data": {
      "image/png": "[encoded data removed]",
      "text/plain": [
       "<Figure size 576x576 with 1 Axes>"
      ]
     },
     "metadata": {
      "needs_background": "light"
     },
     "output_type": "display_data"
    }
   ],
   "source": [
    "X = np.vander(xs2, 4)[:,:-1]\n",
    "predictions = elastic_net.predict(X)\n",
    "\n",
    "plt.scatter(xs2, ys2)\n",
    "plt.title(\"Amostra de dados#2\")\n",
    "plt.plot(xs2, predictions, color = 'r')\n",
    "print (\"r^2:\", elastic_net.score(X, ys2))"
   ]
  },
  {
   "cell_type": "markdown",
   "metadata": {},
   "source": [
    "####  <span style = \"color:red\">Código Original.</span>\n",
    "<!---\n",
    "X = np.vander(xs2, 4)[:,:-1]\n",
    "predictions = elastic_net.predict(X)\n",
    "\n",
    "plt.scatter(xs2, ys2)\n",
    "plt.title(\"Amostra de dados#2\")\n",
    "plt.plot(xs2, predictions, c='r')\n",
    "print (\"r^2:\", elastic_net.score(X, ys2))\n",
    "-->"
   ]
  },
  {
   "cell_type": "markdown",
   "metadata": {},
   "source": [
    "#### Vejamos os coeficientes da regressão ElasticNet."
   ]
  },
  {
   "cell_type": "code",
   "execution_count": 30,
   "metadata": {},
   "outputs": [
    {
     "data": {
      "text/plain": [
       "array([-0.00408996,  0.03280451, -0.05583325])"
      ]
     },
     "execution_count": 30,
     "metadata": {},
     "output_type": "execute_result"
    }
   ],
   "source": [
    "elastic_net.coef_"
   ]
  },
  {
   "cell_type": "markdown",
   "metadata": {},
   "source": [
    "####  <span style = \"color:red\">Código Original.</span>\n",
    "<!---\n",
    "elastic_net.coef_\n",
    "-->"
   ]
  },
  {
   "cell_type": "markdown",
   "metadata": {},
   "source": [
    "## Otimizando o hiperparâmetro $\\alpha$. "
   ]
  },
  {
   "cell_type": "markdown",
   "metadata": {},
   "source": [
    "#### Você deve ter notado que, no exemplo, definimos o hyperparametro `alpha = 10`. Essa foi uma decisão arbitrária e existem maneiras de determinar esse valor empiricamente.\n",
    "\n",
    "#### Em geral, devemos decidir como escolher o parâmetro `alpha` e existem maneiras automáticas de fazê-lo. Uma maneira de fazer isso é com _validação-cruzada_ ou _cross-validation_ em inglês. Para esta prática guiada, vamos explorar o modelo de Ridge, que nos permite adotar a funcionalidade do [cross-validation](https://en.wikipedia.org/wiki/Cross-validation_%28statistics%29). \n",
    "\n",
    "#### Normalmente, a validação cruzada funciona separando nosso conjunto de dados entre dados para ajustar o modelo (conjunto de treinamento) e dados para avaliar o modelo (conjunto de teste).\n",
    "\n",
    "\n",
    "#### Nesse caso, o modelo que geramos com o [`linear_model.RidgeCV()`](https://scikit-learn.org/stable/modules/generated/sklearn.linear_model.RidgeCV.html) do scikit-learn testa automaticamente valores diferentes de `alpha`. Execute o código a seguir mais de uma vez. Você deve ver que escolhe valores diferentes de `alpha`, pois faz separações diferentes dos dados a cada vez."
   ]
  },
  {
   "cell_type": "code",
   "execution_count": 31,
   "metadata": {},
   "outputs": [
    {
     "data": {
      "image/png": "[encoded data removed]",
      "text/plain": [
       "<Figure size 576x576 with 1 Axes>"
      ]
     },
     "metadata": {
      "needs_background": "light"
     },
     "output_type": "display_data"
    },
    {
     "name": "stdout",
     "output_type": "stream",
     "text": [
      "r^2: 0.9453846927794924\n",
      "alpha: 0.01\n"
     ]
    }
   ],
   "source": [
    "rlmcv = linear_model.RidgeCV(alphas = np.linspace(0.01,100, 1000), cv = 5, normalize = True)\n",
    "xs, ys = generate_data()\n",
    "\n",
    "# Ajustamos nuevamente nuestro modelo, esta vez con RidgeCV\n",
    "X = np.vander(xs, 4)[:,:-1]\n",
    "y = ys\n",
    "\n",
    "rlmcv.fit(X, y)\n",
    "predictions = rlmcv.predict(X)\n",
    "\n",
    "plt.scatter(xs, ys)\n",
    "plt.title(\"Amostra de dados #1\")\n",
    "plt.plot(xs, predictions, color = 'r')\n",
    "plt.show()\n",
    "print (\"r^2:\", rlmcv.score(X, ys))\n",
    "print (\"alpha:\", rlmcv.alpha_);"
   ]
  },
  {
   "cell_type": "markdown",
   "metadata": {},
   "source": [
    "####  <span style = \"color:red\">Código Original.</span>\n",
    "<!---\n",
    "rlmcv = linear_model.RidgeCV(alphas = np.linspace(0.01,100, 1000), cv = 5, normalize = True)\n",
    "xs, ys = generate_data()\n",
    "\n",
    "# Ajustamos nuevamente nuestro modelo, esta vez con RidgeCV\n",
    "X = np.vander(xs, 4)[:,:-1]\n",
    "y = ys\n",
    "\n",
    "rlmcv.fit(X, y)\n",
    "predictions = rlmcv.predict(X)\n",
    "\n",
    "plt.scatter(xs, ys)\n",
    "plt.title(\"Amostra de dados #1\")\n",
    "plt.plot(xs, predictions, c='r')\n",
    "plt.show()\n",
    "print (\"r^2:\", rlmcv.score(X, ys))\n",
    "print (\"alpha:\", rlmcv.alpha_)\n",
    "-->"
   ]
  },
  {
   "cell_type": "markdown",
   "metadata": {},
   "source": [
    "#### Se aplicarmos esse mesmo modelo a uma nova amostra de dados gerados pela mesma função, veremos que não se ajusta muito bem. Ou melhor, veremos que se ajusta consideravelmente pior.\n",
    "\n",
    "#### Vamos repetir o processo anterior para os novos dados `xs2`."
   ]
  },
  {
   "cell_type": "code",
   "execution_count": 32,
   "metadata": {},
   "outputs": [
    {
     "data": {
      "image/png": "[encoded data removed]",
      "text/plain": [
       "<Figure size 576x576 with 1 Axes>"
      ]
     },
     "metadata": {
      "needs_background": "light"
     },
     "output_type": "display_data"
    },
    {
     "name": "stdout",
     "output_type": "stream",
     "text": [
      "r^2: -0.07115490147522596\n"
     ]
    }
   ],
   "source": [
    "X = np.vander(xs2, 4)[:,:-1]\n",
    "predictions = rlmcv.predict(X)\n",
    "\n",
    "plt.scatter(xs2, ys2)\n",
    "plt.title(\"Amostra de dados #2\")\n",
    "plt.plot(xs2, predictions, color = 'r')\n",
    "plt.show()\n",
    "print (\"r^2:\", rlmcv.score(X, ys2))"
   ]
  },
  {
   "cell_type": "markdown",
   "metadata": {},
   "source": [
    "####  <span style = \"color:red\">Código Original.</span>\n",
    "<!---\n",
    "X = np.vander(xs2, 4)[:,:-1]\n",
    "predictions = rlmcv.predict(X)\n",
    "\n",
    "plt.scatter(xs2, ys2)\n",
    "plt.title(\"Amostra de dados #2\")\n",
    "plt.plot(xs2, predictions, c='r')\n",
    "plt.show()\n",
    "print (\"r^2:\", rlmcv.score(X, ys2))\n",
    "-->"
   ]
  },
  {
   "cell_type": "markdown",
   "metadata": {},
   "source": [
    "#### Podemos também testar os hiperparâmetros com o modelo  [`linear_model.LassoCV()`](https://scikit-learn.org/stable/modules/generated/sklearn.linear_model.LassoCV.html) do scikit-learn testa automaticamente valores diferentes de `alpha`. Execute o código a seguir mais de uma vez. Você deve ver que escolhe valores diferentes de `alpha`, pois faz separações diferentes dos dados a cada vez."
   ]
  },
  {
   "cell_type": "code",
   "execution_count": 33,
   "metadata": {},
   "outputs": [
    {
     "data": {
      "image/png": "[encoded data removed]",
      "text/plain": [
       "<Figure size 576x576 with 1 Axes>"
      ]
     },
     "metadata": {
      "needs_background": "light"
     },
     "output_type": "display_data"
    },
    {
     "name": "stdout",
     "output_type": "stream",
     "text": [
      "r^2: 0.990196877466372\n",
      "alpha: 0.01\n"
     ]
    }
   ],
   "source": [
    "lassocv = linear_model.LassoCV(alphas = np.linspace(0.01,100, 1000), cv = 5, normalize = True)\n",
    "xs, ys = generate_data()\n",
    "\n",
    "# Ajustamos nuevamente nuestro modelo, esta vez con RidgeCV\n",
    "X = np.vander(xs, 4)[:,:-1]\n",
    "y = ys\n",
    "lassocv.fit(X, y)\n",
    "predictions = lassocv.predict(X)\n",
    "\n",
    "plt.scatter(xs, ys)\n",
    "plt.title(\"Amostra de dados #1\")\n",
    "plt.plot(xs, predictions, color = 'r')\n",
    "plt.show()\n",
    "print (\"r^2:\", lassocv.score(X, ys))\n",
    "print (\"alpha:\", lassocv.alpha_)"
   ]
  },
  {
   "cell_type": "markdown",
   "metadata": {},
   "source": [
    "####  <span style = \"color:red\">Código Original.</span>\n",
    "<!---\n",
    "lassocv = linear_model.LassoCV(alphas = np.linspace(0.01,100, 1000), cv = 5, normalize = True)\n",
    "xs, ys = generate_data()\n",
    "\n",
    "# Ajustamos nuevamente nuestro modelo, esta vez con RidgeCV\n",
    "X = np.vander(xs, 4)[:,:-1]\n",
    "y = ys\n",
    "lassocv.fit(X, y)\n",
    "predictions = lassocv.predict(X)\n",
    "\n",
    "plt.scatter(xs, ys)\n",
    "plt.title(\"Amostra de dados #1\")\n",
    "plt.plot(xs, predictions, c='r')\n",
    "plt.show()\n",
    "print (\"r^2:\", lassocv.score(X, ys))\n",
    "print (\"alpha:\", lassocv.alpha_)\n",
    "\n",
    "X = np.vander(xs2, 4)[:,:-1]\n",
    "predictions = lassocv.predict(X)\n",
    "\n",
    "plt.scatter(xs2, ys2)\n",
    "plt.title(\"Amostra de dados #2\")\n",
    "plt.plot(xs2, predictions, c='r')\n",
    "plt.show()\n",
    "print (\"r^2:\", lassocv.score(X, ys2))\n",
    "-->"
   ]
  },
  {
   "cell_type": "markdown",
   "metadata": {},
   "source": [
    "#### Se aplicarmos esse mesmo modelo a uma nova amostra de dados gerados pela mesma função, veremos que não se ajusta muito bem. Ou melhor, veremos que se ajusta consideravelmente pior.\n",
    "\n",
    "#### Vamos repetir o processo anterior para os novos dados `xs2`."
   ]
  },
  {
   "cell_type": "code",
   "execution_count": 34,
   "metadata": {},
   "outputs": [
    {
     "data": {
      "image/png": "[encoded data removed]",
      "text/plain": [
       "<Figure size 576x576 with 1 Axes>"
      ]
     },
     "metadata": {
      "needs_background": "light"
     },
     "output_type": "display_data"
    },
    {
     "name": "stdout",
     "output_type": "stream",
     "text": [
      "r^2: 0.06612872163988814\n"
     ]
    }
   ],
   "source": [
    "X = np.vander(xs2, 4)[:,:-1]\n",
    "predictions = lassocv.predict(X)\n",
    "\n",
    "plt.scatter(xs2, ys2)\n",
    "plt.title(\"Amostra de dados #2\")\n",
    "plt.plot(xs2, predictions, color = 'r')\n",
    "plt.show()\n",
    "print (\"r^2:\", lassocv.score(X, ys2))"
   ]
  },
  {
   "cell_type": "markdown",
   "metadata": {},
   "source": [
    "####  <span style = \"color:red\">Código Original.</span>\n",
    "<!---\n",
    "X = np.vander(xs2, 4)[:,:-1]\n",
    "predictions = lassocv.predict(X)\n",
    "\n",
    "plt.scatter(xs2, ys2)\n",
    "plt.title(\"Amostra de dados #2\")\n",
    "plt.plot(xs2, predictions, c='r')\n",
    "plt.show()\n",
    "print (\"r^2:\", lassocv.score(X, ys2))\n",
    "-->"
   ]
  },
  {
   "cell_type": "markdown",
   "metadata": {},
   "source": [
    "### Regularizações:\n",
    "\n",
    "* Rigde: Melhor quando todas as variáveis do modelo são importantes.\n",
    "  $$\\sum_{i}{\\left(\\hat{y}_i - y_i \\right)^2 + \\alpha \\sum_{i=1}^{N}\\beta_i^{2}}$$\n",
    "* Lasso: Melhor quando variáveis não improtantes ao modelo podem ser removidas.\n",
    "  $$\\sum_{i}{\\left(\\hat{y}_i - y_i \\right)^2 + \\alpha \\sum_{i=1}^{N}|\\beta_i|}$$\n",
    "* Elastic net: Melhor quando vá muitas variáveis e você não as conhece muito bem. Combina as penalidades das regressões Lasso e Rigde. Bom para situações em que há correlação entre os parâmetros. $$\\sum_{i}{\\left(\\hat{y}_i - y_i \\right)^2 + \\alpha_{1} \\sum_{i=1}^{N}\\beta_i^{2}} + \\alpha_{2} \\sum_{i=1}^{N}|\\beta_i| $$"
   ]
  },
  {
   "cell_type": "markdown",
   "metadata": {},
   "source": [
    "##  <span style = \"color:Blue\">Prática Independente 4.</span>\n",
    "<!---\n",
    "\n",
    "-->"
   ]
  },
  {
   "cell_type": "markdown",
   "metadata": {},
   "source": [
    "#### Agora você deve definir um objeto que receberá o modelo de regressão, regularizado com o método de `Ridge` e cujos valores de `alpha` tenham sido calculados automaticamente."
   ]
  },
  {
   "cell_type": "code",
   "execution_count": 35,
   "metadata": {},
   "outputs": [],
   "source": [
    "rlmcv = linear_model.RidgeCV(alphas = np.linspace(0.01,100, 1000), cv = 5, normalize = True)"
   ]
  },
  {
   "cell_type": "markdown",
   "metadata": {},
   "source": [
    "####  <span style = \"color:red\">Código Original.</span>\n",
    "<!---\n",
    "rlmcv = linear_model.RidgeCV(alphas = np.linspace(0.01,100, 1000), cv = 5, normalize = True)\n",
    "xs_PI4, ys_PI4 = generate_data2()\n",
    "-->"
   ]
  },
  {
   "cell_type": "markdown",
   "metadata": {},
   "source": [
    "#### Realize o processo de ajuste e previsão dos dados."
   ]
  },
  {
   "cell_type": "code",
   "execution_count": 36,
   "metadata": {},
   "outputs": [],
   "source": [
    "X = np.vander(xs4, 4)[:,:-1]\n",
    "y = ys4\n",
    "rlmcv.fit(X, y)\n",
    "predictions = rlmcv.predict(X)"
   ]
  },
  {
   "cell_type": "markdown",
   "metadata": {},
   "source": [
    "####  <span style = \"color:red\">Código Original.</span>\n",
    "<!---\n",
    "# Ajustamos nuevamente nuestro modelo, esta vez con RidgeCV\n",
    "X = np.vander(xs_PI4, 4)[:,:-1]\n",
    "y = ys_PI4\n",
    "rlmcv.fit(X, y)\n",
    "predictions = rlmcv.predict(X)\n",
    "-->"
   ]
  },
  {
   "cell_type": "markdown",
   "metadata": {},
   "source": [
    "#### Plote a dispersão dos dados gerados e o modelo ajustado, imprima na tela os valores do coeficiente de determinação `Rˆ2` e  de `alpha`, usando o método `.score()` e o atributo `.alpha_`."
   ]
  },
  {
   "cell_type": "code",
   "execution_count": 37,
   "metadata": {},
   "outputs": [
    {
     "data": {
      "image/png": "[encoded data removed]",
      "text/plain": [
       "<Figure size 576x576 with 1 Axes>"
      ]
     },
     "metadata": {
      "needs_background": "light"
     },
     "output_type": "display_data"
    },
    {
     "name": "stdout",
     "output_type": "stream",
     "text": [
      "R²: 0.940926922322382\n",
      "alpha: 0.01\n"
     ]
    }
   ],
   "source": [
    "plt.scatter(xs4, ys4)\n",
    "plt.title(\"Amostra de dados #4\")\n",
    "plt.plot(xs4, predictions, color = 'r')\n",
    "plt.show()\n",
    "print (\"R²:\", rlmcv.score(X, ys4))\n",
    "print (\"alpha:\", rlmcv.alpha_);"
   ]
  },
  {
   "cell_type": "markdown",
   "metadata": {},
   "source": [
    "####  <span style = \"color:red\">Código Original.</span>\n",
    "<!---\n",
    "plt.scatter(xs_PI4, ys_PI4)\n",
    "plt.title(\"Amostra de dados #1\")\n",
    "plt.plot(xs_PI4, predictions, color = 'r')\n",
    "plt.show()\n",
    "print (\"r^2:\", rlmcv.score(X, ys_PI4))\n",
    "print (\"alpha:\", rlmcv.alpha_);\n",
    "-->"
   ]
  },
  {
   "cell_type": "markdown",
   "metadata": {},
   "source": [
    "#### A seguir gere novos dados e faça novas previsões, sem reajustar o modelo."
   ]
  },
  {
   "cell_type": "code",
   "execution_count": 38,
   "metadata": {},
   "outputs": [],
   "source": [
    "xs5, ys5= generate_data()\n",
    "X = np.vander(xs5, 4)[:,:-1]\n",
    "y = ys5\n",
    "predictions = rlmcv.predict(X)"
   ]
  },
  {
   "cell_type": "markdown",
   "metadata": {},
   "source": [
    "####  <span style = \"color:red\">Código Original.</span>\n",
    "<!---\n",
    "xs2_PI4, ys2_PI4 = generate_data2()\n",
    "X = np.vander(xs2_PI4, 4)[:,:-1]\n",
    "predictions = rlmcv.predict(X)\n",
    "-->"
   ]
  },
  {
   "cell_type": "markdown",
   "metadata": {},
   "source": [
    "#### Plote a nova dispersão dos pontos e o modelo cujo `alpha` otimizado foi calculado."
   ]
  },
  {
   "cell_type": "code",
   "execution_count": 39,
   "metadata": {},
   "outputs": [
    {
     "data": {
      "image/png": "[encoded data removed]",
      "text/plain": [
       "<Figure size 576x576 with 1 Axes>"
      ]
     },
     "metadata": {
      "needs_background": "light"
     },
     "output_type": "display_data"
    },
    {
     "name": "stdout",
     "output_type": "stream",
     "text": [
      "R²: 0.6574200089692459\n"
     ]
    }
   ],
   "source": [
    "plt.scatter(xs5, ys5)\n",
    "plt.title(\"Amostra de dados #5\")\n",
    "plt.plot(xs5, predictions, color = 'r')\n",
    "plt.show()\n",
    "print (\"R²:\", rlmcv.score(X, y))"
   ]
  },
  {
   "cell_type": "markdown",
   "metadata": {},
   "source": [
    "####  <span style = \"color:red\">Código Original.</span>\n",
    "<!---\n",
    "plt.scatter(xs2_PI4, ys2_PI4)\n",
    "plt.title(\"Amostra de dados #2\")\n",
    "plt.plot(xs2, predictions, color = 'r')\n",
    "plt.show()\n",
    "print (\"r^2:\", rlmcv.score(X, ys2))\n",
    "-->"
   ]
  },
  {
   "cell_type": "markdown",
   "metadata": {},
   "source": [
    "#### o que você observou nesse processo?"
   ]
  },
  {
   "cell_type": "markdown",
   "metadata": {},
   "source": [
    "##  <span style = \"color:Blue\">Prática Independente 5.</span>\n",
    "<!---\n",
    "\n",
    "-->"
   ]
  },
  {
   "cell_type": "markdown",
   "metadata": {},
   "source": [
    "#### Agora você deve definir um objeto que receberá o modelo de regressão, regularizado com o método de `Lasso` e cujos valores de `alpha` tenham sido calculados automaticamente."
   ]
  },
  {
   "cell_type": "code",
   "execution_count": 46,
   "metadata": {},
   "outputs": [],
   "source": [
    "lassocv = linear_model.LassoCV(alphas = np.linspace(0.01,100, 1000), \n",
    "                               cv = 5, normalize = True)"
   ]
  },
  {
   "cell_type": "markdown",
   "metadata": {},
   "source": [
    "####  <span style = \"color:red\">Código Original.</span>\n",
    "<!---\n",
    "lassocv = linear_model.LassoCV(alphas = np.linspace(0.01,100, 1000), \n",
    "                               cv = 5, \n",
    "                               normalize = True\n",
    "                              )\n",
    "xs_PI5, ys_PI5 = generate_data2()\n",
    "-->"
   ]
  },
  {
   "cell_type": "markdown",
   "metadata": {},
   "source": [
    "#### Realize o processo de ajuste e previsão dos dados."
   ]
  },
  {
   "cell_type": "code",
   "execution_count": 47,
   "metadata": {},
   "outputs": [],
   "source": [
    "xs6, ys6 = generate_data()\n",
    "\n",
    "X = np.vander(xs6, 4)[:,:-1]\n",
    "y = ys6\n",
    "lassocv.fit(X, y)\n",
    "predictions = lassocv.predict(X)"
   ]
  },
  {
   "cell_type": "markdown",
   "metadata": {},
   "source": [
    "####  <span style = \"color:red\">Código Original.</span>\n",
    "<!---\n",
    "# Ajustamos nuevamente nuestro modelo, esta vez con RidgeCV\n",
    "X = np.vander(xs_PI5, 4)[:,:-1]\n",
    "y = ys_PI5\n",
    "lassocv.fit(X, y)\n",
    "predictions = lassocv.predict(X)\n",
    "-->"
   ]
  },
  {
   "cell_type": "markdown",
   "metadata": {},
   "source": [
    "#### Plote a dispersão dos dados gerados e o modelo ajustado, imprima na tela os valores do coeficiente de determinação `Rˆ2` e  de `alpha`, usando o método `.score()` e o atributo `.alpha_`."
   ]
  },
  {
   "cell_type": "code",
   "execution_count": 48,
   "metadata": {},
   "outputs": [
    {
     "data": {
      "image/png": "[encoded data removed]",
      "text/plain": [
       "<Figure size 576x576 with 1 Axes>"
      ]
     },
     "metadata": {
      "needs_background": "light"
     },
     "output_type": "display_data"
    },
    {
     "name": "stdout",
     "output_type": "stream",
     "text": [
      "R²: 0.9697363643665964\n",
      "alpha: 0.11009009009009008\n"
     ]
    }
   ],
   "source": [
    "plt.scatter(xs6, ys6)\n",
    "plt.title(\"Amostra de dados #6\")\n",
    "plt.plot(xs6, predictions, color = 'r')\n",
    "plt.show()\n",
    "print (\"R²:\", lassocv.score(X, ys6))\n",
    "print (\"alpha:\", lassocv.alpha_)"
   ]
  },
  {
   "cell_type": "markdown",
   "metadata": {},
   "source": [
    "####  <span style = \"color:red\">Código Original.</span>\n",
    "<!---\n",
    "plt.scatter(xs_PI5, ys_PI5)\n",
    "plt.title(\"Amostra de dados #1\")\n",
    "plt.plot(xs_PI5, predictions, color = 'r')\n",
    "plt.show()\n",
    "print (\"r^2:\", lassocv.score(X, ys_PI5))\n",
    "print (\"alpha:\", lassocv.alpha_)\n",
    "-->"
   ]
  },
  {
   "cell_type": "markdown",
   "metadata": {},
   "source": [
    "#### A seguir gere novos dados e faça novas previões, sem reajustar o modelo."
   ]
  },
  {
   "cell_type": "code",
   "execution_count": 49,
   "metadata": {},
   "outputs": [],
   "source": [
    "xs7, ys7 = generate_data()\n",
    "\n",
    "X = np.vander(xs7, 4)[:,:-1]\n",
    "y = ys7\n",
    "\n",
    "predictions = lassocv.predict(X)"
   ]
  },
  {
   "cell_type": "markdown",
   "metadata": {},
   "source": [
    "####  <span style = \"color:red\">Código Original.</span>\n",
    "<!---\n",
    "xs2_PI5, ys2_PI5 = generate_data2()\n",
    "X = np.vander(xs2_PI5, 4)[:,:-1]\n",
    "predictions = lassocv.predict(X)\n",
    "-->"
   ]
  },
  {
   "cell_type": "markdown",
   "metadata": {},
   "source": [
    "#### Plote a nova dispersão dos pontos e o modelo cujo `alpha` otimizado foi calculado."
   ]
  },
  {
   "cell_type": "code",
   "execution_count": 50,
   "metadata": {},
   "outputs": [
    {
     "data": {
      "image/png": "[encoded data removed]",
      "text/plain": [
       "<Figure size 576x576 with 1 Axes>"
      ]
     },
     "metadata": {
      "needs_background": "light"
     },
     "output_type": "display_data"
    },
    {
     "name": "stdout",
     "output_type": "stream",
     "text": [
      "R²: 0.9186619711916086\n",
      "alpha: 0.11009009009009008\n"
     ]
    }
   ],
   "source": [
    "plt.scatter(xs7, ys7)\n",
    "plt.title(\"Amostra de dados #7\")\n",
    "plt.plot(xs7, predictions, color = 'r')\n",
    "plt.show()\n",
    "print (\"R²:\", lassocv.score(X, ys7))\n",
    "print (\"alpha:\", lassocv.alpha_)"
   ]
  },
  {
   "cell_type": "markdown",
   "metadata": {},
   "source": [
    "####  <span style = \"color:red\">Código Original.</span>\n",
    "<!---\n",
    "plt.scatter(xs2, ys2)\n",
    "plt.title(\"Amostra de dados #2\")\n",
    "plt.plot(xs2, predictions, \n",
    "         c ='r'\n",
    "        )\n",
    "plt.show()\n",
    "print (\"r^2:\", lassocv.score(X, ys2))\n",
    "-->"
   ]
  },
  {
   "cell_type": "markdown",
   "metadata": {},
   "source": [
    "#### o que você observou nesse processo?"
   ]
  },
  {
   "cell_type": "markdown",
   "metadata": {},
   "source": [
    "####  <span style = \"color:blue\">Código Original.</span>\n",
    "<!---\n",
    "[``]()\n",
    "-->"
   ]
  }
 ],
 "metadata": {
  "kernelspec": {
   "display_name": "Python 3",
   "language": "python",
   "name": "python3"
  },
  "language_info": {
   "codemirror_mode": {
    "name": "ipython",
    "version": 3
   },
   "file_extension": ".py",
   "mimetype": "text/x-python",
   "name": "python",
   "nbconvert_exporter": "python",
   "pygments_lexer": "ipython3",
   "version": "3.8.3"
  }
 },
 "nbformat": 4,
 "nbformat_minor": 4
}
