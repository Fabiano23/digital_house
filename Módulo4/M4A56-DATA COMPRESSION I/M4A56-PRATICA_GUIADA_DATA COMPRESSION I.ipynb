{
 "cells": [
  {
   "cell_type": "markdown",
   "metadata": {
    "colab_type": "text",
    "id": "4Nx7hNWchk4f"
   },
   "source": [
    "# Prática Guiada: Maldição da Dimensionalidade."
   ]
  },
  {
   "cell_type": "markdown",
   "metadata": {},
   "source": [
    "#### Vamos iniciar nossa discussão sobre a [maldição da dimensionalidade](https://deepai.org/machine-learning-glossary-and-terms/curse-of-dimensionality#:~:text=The%20curse%20of%20dimensionality%20refers,and%20%E2%80%9Ccloseness%E2%80%9D%20of%20data.) importando as seguintes bibliotecas:\n",
    "\n",
    "- [`pandas`](https://pandas.pydata.org/docs/), para a manipulação dos dados.\n",
    "- [`seaborn`](https://seaborn.pydata.org/), para a visualização dos dados."
   ]
  },
  {
   "cell_type": "code",
   "execution_count": 1,
   "metadata": {
    "colab": {
     "autoexec": {
      "startup": false,
      "wait_interval": 0
     }
    },
    "colab_type": "code",
    "id": "F0ue4crmhk4h"
   },
   "outputs": [
    {
     "name": "stdout",
     "output_type": "stream",
     "text": [
      "Populating the interactive namespace from numpy and matplotlib\n"
     ]
    }
   ],
   "source": [
    "%pylab inline\n",
    "import seaborn as sns\n",
    "import pandas as pd"
   ]
  },
  {
   "cell_type": "markdown",
   "metadata": {},
   "source": [
    "####  <span style = \"color:red\">Código Original.</span>\n",
    "<!---\n",
    "%pylab inline\n",
    "import seaborn as sns\n",
    "import pandas as pd\n",
    "-->"
   ]
  },
  {
   "cell_type": "markdown",
   "metadata": {
    "colab_type": "text",
    "id": "KHQFshufhk4m"
   },
   "source": [
    "## Proporção de outliers\n",
    "\n",
    "#### Imagine que temos uma variável distribuída uniformemente em um hipercubo de `d` dimensões, qual seria a proporção esperada de `outliers` ? Podemos definir os outliers como aqueles pontos que recebem valores extremos em algumas das `d` dimensões. "
   ]
  },
  {
   "cell_type": "markdown",
   "metadata": {},
   "source": [
    "#### Vamos considerar, por exemplo, um cubo com `d = 2`,  o que forma um quadrado.\n",
    "\n",
    "\n",
    "#### Vamos usar o método [`np.random.uniform()`](https://numpy.org/doc/stable/reference/random/generated/numpy.random.uniform.html) para gerar uma distribuição de pontos no intervalo `(0, 1)` com o tamanho `m`. Guardamos esses pontos gerados em uma matriz `X`."
   ]
  },
  {
   "cell_type": "code",
   "execution_count": 2,
   "metadata": {},
   "outputs": [],
   "source": [
    "m = 500\n",
    "\n",
    "xs = uniform(0.0,1.0,m)\n",
    "\n",
    "ys = uniform(0.0,1.0,m)\n",
    "\n",
    "X = c_[xs,ys]\n",
    "\n",
    "#print(xs)\n",
    "#print(ys)\n",
    "#print(X)"
   ]
  },
  {
   "cell_type": "markdown",
   "metadata": {},
   "source": [
    "####  <span style = \"color:red\">Código Original.</span>\n",
    "<!---\n",
    "m = 500\n",
    "\n",
    "xs = uniform(0.0,1.0,m)\n",
    "\n",
    "ys = uniform(0.0,1.0,m)\n",
    "\n",
    "X = c_[xs,ys]\n",
    "\n",
    "#print(xs)\n",
    "#print(ys)\n",
    "#print(X)\n",
    "-->"
   ]
  },
  {
   "cell_type": "markdown",
   "metadata": {},
   "source": [
    "#### Depois disso vamos plotar os dados gerados com a função [`plot()`](https://matplotlib.org/api/_as_gen/matplotlib.pyplot.plot.html), usando um marcador do tipo `marker = 'o'` e lembrando de definir o tamanho dos pontos com o parâmetro `ms`.\n",
    "\n",
    "#### A idéia é preencher com pontos entre as barras cinzas, definidas pelas funcão [`fill_between()`](https://matplotlib.org/3.2.2/api/_as_gen/matplotlib.pyplot.fill_between.html), aplicada em diferentes pontos.\n",
    "\n",
    "#### Aqui, a quantidade `p` representa a borda de nosso sistema o intervalo dentro do qual procuramos `outliers`,  `X` e `X`  $\\times 1\\%$."
   ]
  },
  {
   "cell_type": "code",
   "execution_count": 3,
   "metadata": {},
   "outputs": [
    {
     "name": "stdout",
     "output_type": "stream",
     "text": [
      "Outliers  18 de 500\n"
     ]
    },
    {
     "data": {
      "image/png": "[encoded data removed]",
      "text/plain": [
       "<Figure size 432x288 with 1 Axes>"
      ]
     },
     "metadata": {
      "needs_background": "light"
     },
     "output_type": "display_data"
    }
   ],
   "source": [
    "plot(xs, \n",
    "     ys,\n",
    "     'o', \n",
    "     ms = 2\n",
    "    );\n",
    "\n",
    "x = [0.0,1.0]\n",
    "\n",
    "p = 0.01 # 1%\n",
    "\n",
    "fill_between(x, \n",
    "             0, \n",
    "             p, \n",
    "             alpha = 0.2, \n",
    "             color = 'k'\n",
    "            )\n",
    "\n",
    "fill_between(x, \n",
    "             1 - p, \n",
    "             1, \n",
    "             alpha = 0.2, \n",
    "             color = 'k'\n",
    "            )\n",
    "\n",
    "fill_betweenx(x, \n",
    "              0, \n",
    "              p, \n",
    "              alpha = 0.2, \n",
    "              color = 'k'\n",
    "             )\n",
    "\n",
    "fill_betweenx(x, \n",
    "              1 - p, \n",
    "              1 , \n",
    "              alpha = 0.2, \n",
    "              color = 'k', \n",
    "              label = 'Região de outliers'\n",
    "             );\n",
    "\n",
    "legend();\n",
    "\n",
    "print('Outliers ', \n",
    "      sum([any([(d < .01 or d > .99) for d in p]) for p in X]), \n",
    "      'de', \n",
    "      m\n",
    "     )"
   ]
  },
  {
   "cell_type": "markdown",
   "metadata": {},
   "source": [
    "####  <span style = \"color:red\">Código Original.</span>\n",
    "<!---\n",
    "plot(xs, \n",
    "     ys,\n",
    "     'o', \n",
    "     ms = 2\n",
    "    );\n",
    "\n",
    "x = [0.0,1.0]\n",
    "\n",
    "p = 0.01 # 1%\n",
    "\n",
    "fill_between(x, \n",
    "             0, \n",
    "             p, \n",
    "             alpha = 0.2, \n",
    "             color = 'k'\n",
    "            )\n",
    "\n",
    "fill_between(x, \n",
    "             1 - p, \n",
    "             1, \n",
    "             alpha = 0.2, \n",
    "             color = 'k'\n",
    "            )\n",
    "\n",
    "fill_betweenx(x, \n",
    "              0, \n",
    "              p, \n",
    "              alpha = 0.2, \n",
    "              color = 'k'\n",
    "             )\n",
    "\n",
    "fill_betweenx(x, \n",
    "              1 - p, \n",
    "              1 , \n",
    "              alpha = 0.2, \n",
    "              color = 'k', \n",
    "              label = 'Região de outliers'\n",
    "             );\n",
    "\n",
    "legend();\n",
    "\n",
    "print('Outliers ', \n",
    "      sum([any([(d < .01 or d > .99) for d in p]) for p in X]), \n",
    "      'de', \n",
    "      m\n",
    "     )\n",
    "-->"
   ]
  },
  {
   "cell_type": "markdown",
   "metadata": {
    "colab_type": "text",
    "id": "RIpxRIK-hk4r"
   },
   "source": [
    "#### Mas o que acontece à medida que aumentamos a dimensionalidade do conjunto de dados? Como não podemos fazer gráficos com mais de três dimensões, vamos gerar um gráfico da evolução da proporção de outliers para cada nível de dimensionalidade.\n",
    "\n",
    "#### Vamos definir uma função chamável que calcule uma amostra de 1000 pontos com um número `d` de dimensões."
   ]
  },
  {
   "cell_type": "code",
   "execution_count": 4,
   "metadata": {},
   "outputs": [],
   "source": [
    "def sample_(d, N = 1000 ):\n",
    "    '''Gera uma amostra de 1000 pontos em d dimensões'''\n",
    "    return [[uniform(0., 1.) for i in range(d)] for _ in range(N)]"
   ]
  },
  {
   "cell_type": "markdown",
   "metadata": {},
   "source": [
    "####  <span style = \"color:red\">Código Original.</span>\n",
    "<!---\n",
    "def sample_(d, N = 1000 ):\n",
    "    '''Gera uma amostra de 1000 pontos em d dimensões'''\n",
    "    return [[uniform(0., 1.) for i in range(d)] for _ in range(N)]\n",
    "-->"
   ]
  },
  {
   "cell_type": "markdown",
   "metadata": {},
   "source": [
    "#### Em seguida vamos criar uma nova função, para realizar a contagem do número médio de pontos considerados `outliers`, ou seja, pontos que estejam entre os limites de `X` e $1\\%$ disso."
   ]
  },
  {
   "cell_type": "code",
   "execution_count": 5,
   "metadata": {},
   "outputs": [],
   "source": [
    "def corner_count(points):\n",
    "    '''Conta a quantidade de pontos que são outliers em alguma das d dimensões.'''\n",
    "    return mean([any([(d < .01 or d > .99) for d in p]) for p in points])"
   ]
  },
  {
   "cell_type": "markdown",
   "metadata": {},
   "source": [
    "####  <span style = \"color:red\">Código Original.</span>\n",
    "<!---\n",
    "def corner_count(points):\n",
    "    '''Conta a quantidade de pontos que são outliers em alguma das d dimensões.'''\n",
    "    return mean([any([(d < .01 or d > .99) for d in p]) for p in points])\n",
    "-->"
   ]
  },
  {
   "cell_type": "markdown",
   "metadata": {},
   "source": [
    "#### A seguir plotamos a proporsão de `outliers` como função do aumento do número de dimensões `d`, ou atributos em nosso sistema."
   ]
  },
  {
   "cell_type": "code",
   "execution_count": 6,
   "metadata": {
    "colab": {
     "autoexec": {
      "startup": false,
      "wait_interval": 0
     }
    },
    "colab_type": "code",
    "id": "QJMw7iuvhk4t"
   },
   "outputs": [
    {
     "data": {
      "image/png": "[encoded data removed]",
      "text/plain": [
       "<Figure size 432x288 with 1 Axes>"
      ]
     },
     "metadata": {
      "needs_background": "light"
     },
     "output_type": "display_data"
    }
   ],
   "source": [
    "Ds = arange(1, \n",
    "            200\n",
    "           )\n",
    "\n",
    "plot(Ds, \n",
    "     array([corner_count(sample_(d)) for d in Ds])*100\n",
    "    );\n",
    "\n",
    "xlabel('Proporção')\n",
    "\n",
    "ylabel('Dimensões');"
   ]
  },
  {
   "cell_type": "markdown",
   "metadata": {},
   "source": [
    "####  <span style = \"color:red\">Código Original.</span>\n",
    "<!---\n",
    "Ds = arange(1, \n",
    "            200\n",
    "           )\n",
    "\n",
    "plot(Ds, \n",
    "     array([corner_count(sample_(d)) for d in Ds])*100\n",
    "    );\n",
    "\n",
    "xlabel('Proporção')\n",
    "\n",
    "ylabel('Dimensões');\n",
    "-->"
   ]
  },
  {
   "cell_type": "markdown",
   "metadata": {
    "colab_type": "text",
    "id": "hyP_RbGhhk4w"
   },
   "source": [
    "#### Considerando o gráfico acima:\n",
    "\n",
    "* O que vocês observam?\n",
    "* O que acontece com a proporção de outliers à medida que o espaço de previsores aumenta em dimensionalidade?\n",
    "* Qual pode ser a causa disso?"
   ]
  },
  {
   "cell_type": "markdown",
   "metadata": {
    "colab_type": "text",
    "id": "hWL5px_Fhk4x"
   },
   "source": [
    "## Vamos retomar o exemplo de regressão logística\n",
    "\n",
    "#### A seguir, vamos ver o que acontece com a performance de uma regressão logística sem regularização à medida que a quantidade de dimensões aumenta.\n",
    "\n",
    "#### A regressão deverá prever dados simulados por meio de distribuições normais multivariadas.\n",
    "\n",
    "* A classe 0 terá média 0 e as variâncias de todas as dimensões valerão 0,5\n",
    "* A classe 1 terá média 1 e as variâncias de todas as dimensões valerão 0,5"
   ]
  },
  {
   "cell_type": "markdown",
   "metadata": {
    "colab_type": "text",
    "id": "3H7d4iLahk4z"
   },
   "source": [
    "### Regressão logística sobre dados de diferentes dimensões\n",
    "\n",
    "#### Geramos uma lista de possíveis dimensões e para cada um desses valores geramos um conjunto de dados simulado com as características descritas acima.\n",
    "\n",
    "#### Sobre esses dados rodamos e avaliamos uma regressão logística para cada dimensionalidade. A métrica de avaliação será a média do `score` de teste, utilizando `cross validation` com uma partição de 5 dobras em todos os casos. \n",
    "\n",
    "#### Para tanto, vamos importar as bibliotecas:\n",
    "\n",
    "- [`sklearn.model_selection.KFold`](https://scikit-learn.org/stable/modules/generated/sklearn.model_selection.KFold.html), para realizar a valização cruzada e gerar os índices dos conjuntos de treino e teste e dividir o conjunto de dados em `k` dobras consecutivas.\n",
    "\n",
    "- [`sklearn.model_selection.cross_val_score`](https://scikit-learn.org/stable/modules/generated/sklearn.model_selection.cross_val_score.html), avaliar a pontuação das métricas dos modelos por validação cruzada.\n",
    "\n",
    "- [`sklearn.linear_model.LogisticRegression`](https://scikit-learn.org/stable/modules/generated/sklearn.linear_model.LogisticRegression.html), para criar um modelo de classificação baseado em regressão logística.\n",
    "\n",
    "#### Vamos definir uma lista de diferentes valores de dimenões `ds` para nosso modelo, gerar um conjunto de dados de dimensões `(80, ds )`, com o auxílio dos métodos a seguir:\n",
    "\n",
    "- [`zeros()`](https://numpy.org/doc/stable/reference/generated/numpy.zeros.html), para gerarmos uma matriz preenchida com zeros.\n",
    "\n",
    "- [`diag()`](https://numpy.org/doc/stable/reference/generated/numpy.diag.html), para extrair a diagonal de uma matriz argumento.\n",
    "\n",
    "- [`ones()`](https://numpy.org/doc/stable/reference/generated/numpy.ones.html), para gerarmos uma matriz preenchida com uns.\n",
    "\n",
    "- [`multivariate_normal()`](https://numpy.org/doc/stable/reference/random/generated/numpy.random.multivariate_normal.html), para criarmos uma distribuição normal, multivariada."
   ]
  },
  {
   "cell_type": "code",
   "execution_count": 7,
   "metadata": {
    "colab": {
     "autoexec": {
      "startup": false,
      "wait_interval": 0
     }
    },
    "colab_type": "code",
    "id": "e7l3fm54hk4z"
   },
   "outputs": [],
   "source": [
    "from sklearn.model_selection import cross_val_score, KFold\n",
    "from sklearn.linear_model import LogisticRegression\n",
    "score = []\n",
    "\n",
    "# Avaliamos o modelo em todas essas dimensões\n",
    "ds = [1,3,6,40,50,60,120,180]\n",
    "\n",
    "for d in ds:\n",
    "\n",
    "    size0 = 40; size1 = 40;\n",
    "    \n",
    "    loc0 = ones(d); loc1 = zeros(d)\n",
    "    \n",
    "    sigma0 = 0.5; sigma1 = 0.5; C0 = sigma0*diag(ones(d)); C1 = sigma1*diag(ones(d))\n",
    "\n",
    "    #Geramos dados multivariados\n",
    "    x = c_[multivariate_normal(loc0,C0,size0), zeros(size0)]\n",
    "    y = c_[multivariate_normal(loc1,C1,size1), ones(size1)]\n",
    "    X = r_[x, y]\n",
    "\n",
    "    # Criamos a matriz de features\n",
    "    dfX = pd.DataFrame(X)\n",
    "    dfX.columns = ['dim' + str(i) for i in range(d)] + ['class']\n",
    "\n",
    "    X = dfX.drop('class', \n",
    "                 axis = 1\n",
    "                )\n",
    "    y = dfX['class']\n",
    "    \n",
    "    # Salvamos a média do score de cross-validation\n",
    "    model = LogisticRegression(C = 1e10, \n",
    "                               n_jobs = 4\n",
    "                              )\n",
    "    kf = KFold(5, \n",
    "               shuffle = True, \n",
    "               random_state = 0\n",
    "              )\n",
    "    score.append(np.mean(cross_val_score(model, \n",
    "                                         X,\n",
    "                                         y, \n",
    "                                         cv = kf\n",
    "                                        )\n",
    "                        )\n",
    "                )"
   ]
  },
  {
   "cell_type": "markdown",
   "metadata": {},
   "source": [
    "####  <span style = \"color:red\">Código Original.</span>\n",
    "<!---\n",
    "from sklearn.model_selection import cross_val_score, KFold\n",
    "from sklearn.linear_model import LogisticRegression\n",
    "score = []\n",
    "\n",
    "# Avaliamos o modelo em todas essas dimensões\n",
    "ds = [1,3,6,40,50,60,120,180]\n",
    "\n",
    "for d in ds:\n",
    "\n",
    "    size0 = 40; size1 = 40;\n",
    "    \n",
    "    loc0 = ones(d); loc1 = zeros(d)\n",
    "    \n",
    "    sigma0 = 0.5; sigma1 = 0.5; C0 = sigma0*diag(ones(d)); C1 = sigma1*diag(ones(d))\n",
    "\n",
    "    #Geramos dados multivariados\n",
    "    x = c_[multivariate_normal(loc0,C0,size0), zeros(size0)]\n",
    "    y = c_[multivariate_normal(loc1,C1,size1), ones(size1)]\n",
    "    X = r_[x, y]\n",
    "\n",
    "    # Criamos a matriz de features\n",
    "    dfX = pd.DataFrame(X)\n",
    "    dfX.columns = ['dim' + str(i) for i in range(d)] + ['class']\n",
    "\n",
    "    X = dfX.drop('class', \n",
    "                 axis = 1\n",
    "                )\n",
    "    y = dfX['class']\n",
    "    \n",
    "    # Salvamos a média do score de cross-validation\n",
    "    model = LogisticRegression(C = 1e10, \n",
    "                               n_jobs = 4\n",
    "                              )\n",
    "    kf = KFold(5, \n",
    "               shuffle = True, \n",
    "               random_state = 0\n",
    "              )\n",
    "    score.append(np.mean(cross_val_score(model, \n",
    "                                         X,\n",
    "                                         y, \n",
    "                                         cv = kf\n",
    "                                        )\n",
    "                        )\n",
    "                )\n",
    "-->"
   ]
  },
  {
   "cell_type": "markdown",
   "metadata": {
    "colab_type": "text",
    "id": "resjF5S9hk42"
   },
   "source": [
    "#### Observamos que a partir de certa quantidade de dimensões, a performance começa a cair muito, por causa do excesso de dimensões em relação com à quantidade de dados disponíveis. Vejamos a média do `score`, para cada uma das matrizes com `ds` dimensões."
   ]
  },
  {
   "cell_type": "code",
   "execution_count": 8,
   "metadata": {
    "colab": {
     "autoexec": {
      "startup": false,
      "wait_interval": 0
     }
    },
    "colab_type": "code",
    "id": "9ksFTFFYhk44"
   },
   "outputs": [
    {
     "data": {
      "text/plain": [
       "[0.8, 0.825, 0.8875, 1.0, 1.0, 1.0, 0.9125, 0.95]"
      ]
     },
     "execution_count": 8,
     "metadata": {},
     "output_type": "execute_result"
    }
   ],
   "source": [
    "score"
   ]
  },
  {
   "cell_type": "markdown",
   "metadata": {},
   "source": [
    "####  <span style = \"color:red\">Código Original.</span>\n",
    "<!---\n",
    "score\n",
    "-->"
   ]
  },
  {
   "cell_type": "markdown",
   "metadata": {},
   "source": [
    "#### A seguir plotamos a médida do `score`, para as `ds` dimensões consideradas."
   ]
  },
  {
   "cell_type": "code",
   "execution_count": 9,
   "metadata": {
    "colab": {
     "autoexec": {
      "startup": false,
      "wait_interval": 0
     }
    },
    "colab_type": "code",
    "id": "xYUibY2ihk48"
   },
   "outputs": [
    {
     "data": {
      "image/png": "[encoded data removed]",
      "text/plain": [
       "<Figure size 432x288 with 1 Axes>"
      ]
     },
     "metadata": {
      "needs_background": "light"
     },
     "output_type": "display_data"
    }
   ],
   "source": [
    "plt.plot(ds, \n",
    "         score,\n",
    "         'o-'\n",
    "        );\n",
    "ylabel('Accuracy')\n",
    "xlabel('Dimensions');"
   ]
  },
  {
   "cell_type": "markdown",
   "metadata": {},
   "source": [
    "####  <span style = \"color:red\">Código Original.</span>\n",
    "<!---\n",
    "plt.plot(ds, \n",
    "         score,\n",
    "         'o-'\n",
    "        );\n",
    "ylabel('Accuracy')\n",
    "xlabel('Dimensions');\n",
    "-->"
   ]
  },
  {
   "cell_type": "markdown",
   "metadata": {
    "colab_type": "text",
    "id": "k0aSAKsohk5A"
   },
   "source": [
    "#### Se o volume de dados aumentar, a quantidade ótima de dimensões também vai aumentar. "
   ]
  },
  {
   "cell_type": "markdown",
   "metadata": {},
   "source": [
    "#### Com o aumento de amostras, o acurácia do modelo gerado é maior para maiores quantidades de atributos. Vejamos a média do `score`, para cada uma das matrizes com `ds` dimensões."
   ]
  },
  {
   "cell_type": "code",
   "execution_count": 10,
   "metadata": {},
   "outputs": [],
   "source": [
    "score = []\n",
    "# Avaliamos o modelo em todas essas dimensões\n",
    "ds = [1,3,6,40,50,60,120,180]\n",
    "\n",
    "for d in ds:\n",
    "\n",
    "    size0 = 4000; size1 = 4000;\n",
    "    \n",
    "    loc0 = ones(d); loc1 = zeros(d)\n",
    "    \n",
    "    sigma0 = 0.5; sigma1 = 0.5; C0 = sigma0*diag(ones(d)); C1 = sigma1*diag(ones(d))\n",
    "\n",
    "    #Geramos dados multivariados\n",
    "    x = c_[multivariate_normal(loc0, \n",
    "                               C0, \n",
    "                               size0), \n",
    "           zeros(size0)\n",
    "          ]\n",
    "    \n",
    "    y = c_[multivariate_normal(loc1, \n",
    "                               C1, \n",
    "                               size1\n",
    "                              ), \n",
    "           ones(size1)\n",
    "          ]\n",
    "    X = r_[x, \n",
    "           y\n",
    "          ]\n",
    "\n",
    "    # Criamos a matriz de features\n",
    "    dfX = pd.DataFrame(X)\n",
    "    dfX.columns = ['dim' + str(i) for i in range(d)] + ['class']\n",
    "    X = dfX.drop('class', \n",
    "                 axis = 1\n",
    "                )\n",
    "    \n",
    "    y = dfX['class']\n",
    "    \n",
    "    # Salvamos a média do score de cross-validation\n",
    "    model = LogisticRegression(C = 1e10, \n",
    "                               n_jobs = 4\n",
    "                              )\n",
    "    \n",
    "    kf = KFold(5, \n",
    "               shuffle = True, \n",
    "               random_state = 0\n",
    "              )\n",
    "    \n",
    "    score.append(np.mean(cross_val_score(model, \n",
    "                                         X,\n",
    "                                         y, cv = kf\n",
    "                                        )\n",
    "                        )\n",
    "                )"
   ]
  },
  {
   "cell_type": "markdown",
   "metadata": {},
   "source": [
    "####  <span style = \"color:red\">Código Original.</span>\n",
    "<!---\n",
    "score = []\n",
    "# Avaliamos o modelo em todas essas dimensões\n",
    "ds = [1,3,6,40,50,60,120,180]\n",
    "\n",
    "for d in ds:\n",
    "\n",
    "    size0 = 4000; size1 = 4000;\n",
    "    \n",
    "    loc0 = ones(d); loc1 = zeros(d)\n",
    "    \n",
    "    sigma0 = 0.5; sigma1 = 0.5; C0 = sigma0*diag(ones(d)); C1 = sigma1*diag(ones(d))\n",
    "\n",
    "    #Geramos dados multivariados\n",
    "    x = c_[multivariate_normal(loc0, \n",
    "                               C0, \n",
    "                               size0), \n",
    "           zeros(size0)\n",
    "          ]\n",
    "    \n",
    "    y = c_[multivariate_normal(loc1, \n",
    "                               C1, \n",
    "                               size1\n",
    "                              ), \n",
    "           ones(size1)\n",
    "          ]\n",
    "    X = r_[x, \n",
    "           y\n",
    "          ]\n",
    "\n",
    "    # Criamos a matriz de features\n",
    "    dfX = pd.DataFrame(X)\n",
    "    dfX.columns = ['dim' + str(i) for i in range(d)] + ['class']\n",
    "    X = dfX.drop('class', \n",
    "                 axis = 1\n",
    "                )\n",
    "    \n",
    "    y = dfX['class']\n",
    "    \n",
    "    # Salvamos a média do score de cross-validation\n",
    "    model = LogisticRegression(C = 1e10, \n",
    "                               n_jobs = 4\n",
    "                              )\n",
    "    \n",
    "    kf = KFold(5, \n",
    "               shuffle = True, \n",
    "               random_state = 0\n",
    "              )\n",
    "    \n",
    "    score.append(np.mean(cross_val_score(model, \n",
    "                                         X,\n",
    "                                         y, cv = kf\n",
    "                                        )\n",
    "                        )\n",
    "                )\n",
    "-->"
   ]
  },
  {
   "cell_type": "markdown",
   "metadata": {},
   "source": [
    "#### Plotamos novamente a médida do `score`, para as `ds` dimensões consideradas."
   ]
  },
  {
   "cell_type": "code",
   "execution_count": 11,
   "metadata": {
    "colab": {
     "autoexec": {
      "startup": false,
      "wait_interval": 0
     }
    },
    "colab_type": "code",
    "id": "I8iuQsaLhk5G"
   },
   "outputs": [
    {
     "data": {
      "image/png": "[encoded data removed]",
      "text/plain": [
       "<Figure size 432x288 with 1 Axes>"
      ]
     },
     "metadata": {
      "needs_background": "light"
     },
     "output_type": "display_data"
    }
   ],
   "source": [
    "plt.plot(ds,\n",
    "         score,\n",
    "         'o-'\n",
    "        );\n",
    "\n",
    "ylabel('Accuracy')\n",
    "\n",
    "xlabel('Dimensions');"
   ]
  },
  {
   "cell_type": "markdown",
   "metadata": {},
   "source": [
    "####  <span style = \"color:red\">Código Original.</span>\n",
    "<!---\n",
    "plt.plot(ds,\n",
    "         score,\n",
    "         'o-'\n",
    "        );\n",
    "\n",
    "ylabel('Accuracy')\n",
    "\n",
    "xlabel('Dimensions');\n",
    "-->"
   ]
  },
  {
   "cell_type": "code",
   "execution_count": null,
   "metadata": {
    "colab": {
     "autoexec": {
      "startup": false,
      "wait_interval": 0
     }
    },
    "colab_type": "code",
    "id": "ML-OUgYqhk5J"
   },
   "outputs": [],
   "source": []
  }
 ],
 "metadata": {
  "colab": {
   "default_view": {},
   "name": "PRACTICA_GUIADA_Maldición de la Dimensionalidad_pt_br.ipynb",
   "provenance": [],
   "version": "0.3.2",
   "views": {}
  },
  "kernelspec": {
   "display_name": "Python 3",
   "language": "python",
   "name": "python3"
  },
  "language_info": {
   "codemirror_mode": {
    "name": "ipython",
    "version": 3
   },
   "file_extension": ".py",
   "mimetype": "text/x-python",
   "name": "python",
   "nbconvert_exporter": "python",
   "pygments_lexer": "ipython3",
   "version": "3.7.6"
  }
 },
 "nbformat": 4,
 "nbformat_minor": 4
}
