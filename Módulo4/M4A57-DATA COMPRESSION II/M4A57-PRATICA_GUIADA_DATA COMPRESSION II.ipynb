{
 "cells": [
  {
   "cell_type": "markdown",
   "metadata": {},
   "source": [
    "# Prática Guiada: Técnicas para datasets desbalanceados."
   ]
  },
  {
   "cell_type": "markdown",
   "metadata": {},
   "source": [
    "#### O problema dos datasets desbalanceados é encontrado em uma ampla variedade de problemas de aprendizado de máquina, como a detecção de comentários feitos por meio de bots, o diagnóstico de doenças ou a busca por transações fraudulentas em um sistema.\n",
    "\n",
    "#### Existem duas abordagens principais para lidar com datasets que estão desbalanceados:\n",
    "\n",
    "    1. Fazer um resampling da amostra para treinar o algoritmo com proporções similares.\n",
    "    2. Incorporar o desbalanceamento na função de custos do algoritmo para que ele tenha incentivos para escolher os parâmetros que melhor discriminam a classe minoritária."
   ]
  },
  {
   "cell_type": "markdown",
   "metadata": {},
   "source": [
    "## Classificação de dados desbalanceados\n",
    "\n",
    "#### A seguir, apresentamos um dataset da empresa americana Lending Club, que fornece serviços financeiros para diferentes segmentos. \n",
    "\n",
    "#### A seguir, vamos utilizar informação aberta do portal [lendingclub](https://www.lendingclub.com/) de empréstimos, para tentar prever quais dos créditos terminam em default. "
   ]
  },
  {
   "cell_type": "markdown",
   "metadata": {},
   "source": [
    "#### Para tanto, vamos importar as seguintes bibliotecas:\n",
    "\n",
    "- [`pandas`](https://pandas.pydata.org/docs/), para a manipulação dos dados.\n",
    "- [`seaborn`](https://seaborn.pydata.org/), para a visualização dos dados.\n",
    "- [`sklearn.model_selection.train_test_split`](https://scikit-learn.org/stable/modules/generated/sklearn.model_selection.train_test_split.html), para dividir nossos dados em subconjuntos aleatórios de treino e teste.\n",
    "\n",
    "- [`imblearn.over_sampling.SMOTE`](https://imbalanced-learn.readthedocs.io/en/stable/generated/imblearn.over_sampling.SMOTE.html), uma classe de funções para realizar uma re-amostragem usando o método Synthetic Minority Over-sampling Technique ([SMOTE](https://machinelearningmastery.com/smote-oversampling-for-imbalanced-classification/#:~:text=in%20their%202002%20paper%20named,a%20point%20along%20that%20line.)).\n",
    "\n",
    "- [`sklearn.utils`](https://scikit-learn.org/stable/modules/classes.html#module-sklearn.utils), com uma coleção de diferentes técnicas, de checagem e validação de dados de entrada à conversões e estimações."
   ]
  },
  {
   "cell_type": "code",
   "execution_count": 50,
   "metadata": {},
   "outputs": [],
   "source": [
    "#!pip install imblearn\n",
    "import numpy as np\n",
    "import pandas as pd\n",
    "from sklearn.model_selection import train_test_split\n",
    "from imblearn.over_sampling import SMOTE\n",
    "import sklearn.utils"
   ]
  },
  {
   "cell_type": "markdown",
   "metadata": {},
   "source": [
    "####  <span style = \"color:red\">Código Original.</span>\n",
    "<!---\n",
    "import numpy as np\n",
    "import pandas as pd\n",
    "from sklearn.model_selection import train_test_split\n",
    "from imblearn.over_sampling import SMOTE\n",
    "import sklearn.utils\n",
    "-->"
   ]
  },
  {
   "cell_type": "markdown",
   "metadata": {},
   "source": [
    "#### Inicialmente, vamos carregar os dados contidos no arquivo `loans.csv`, \n",
    "\n",
    "- 'grade', \n",
    "- 'home_ownership', \n",
    "- 'emp_length_num', \n",
    "- 'sub_grade', \n",
    "- 'short_emp',\n",
    "- 'dti', \n",
    "- 'term', \n",
    "- 'purpose', \n",
    "- 'int_rate', \n",
    "- 'last_delinq_none',\n",
    "- 'last_major_derog_none', \n",
    "- 'revol_util', \n",
    "- 'total_rec_late_fee',\n",
    "- 'payment_inc_ratio', \n",
    "- 'bad_loans'\n"
   ]
  },
  {
   "cell_type": "code",
   "execution_count": 51,
   "metadata": {},
   "outputs": [
    {
     "data": {
      "text/html": [
       "<div>\n",
       "<style scoped>\n",
       "    .dataframe tbody tr th:only-of-type {\n",
       "        vertical-align: middle;\n",
       "    }\n",
       "\n",
       "    .dataframe tbody tr th {\n",
       "        vertical-align: top;\n",
       "    }\n",
       "\n",
       "    .dataframe thead th {\n",
       "        text-align: right;\n",
       "    }\n",
       "</style>\n",
       "<table border=\"1\" class=\"dataframe\">\n",
       "  <thead>\n",
       "    <tr style=\"text-align: right;\">\n",
       "      <th></th>\n",
       "      <th>grade</th>\n",
       "      <th>home_ownership</th>\n",
       "      <th>emp_length_num</th>\n",
       "      <th>sub_grade</th>\n",
       "      <th>short_emp</th>\n",
       "      <th>dti</th>\n",
       "      <th>term</th>\n",
       "      <th>purpose</th>\n",
       "      <th>int_rate</th>\n",
       "      <th>last_delinq_none</th>\n",
       "      <th>last_major_derog_none</th>\n",
       "      <th>revol_util</th>\n",
       "      <th>total_rec_late_fee</th>\n",
       "      <th>payment_inc_ratio</th>\n",
       "      <th>bad_loans</th>\n",
       "    </tr>\n",
       "  </thead>\n",
       "  <tbody>\n",
       "    <tr>\n",
       "      <th>0</th>\n",
       "      <td>B</td>\n",
       "      <td>RENT</td>\n",
       "      <td>11</td>\n",
       "      <td>B2</td>\n",
       "      <td>0</td>\n",
       "      <td>27.65</td>\n",
       "      <td>36 months</td>\n",
       "      <td>credit_card</td>\n",
       "      <td>10.65</td>\n",
       "      <td>1</td>\n",
       "      <td>1</td>\n",
       "      <td>83.7</td>\n",
       "      <td>0.00</td>\n",
       "      <td>8.14350</td>\n",
       "      <td>0</td>\n",
       "    </tr>\n",
       "    <tr>\n",
       "      <th>1</th>\n",
       "      <td>C</td>\n",
       "      <td>RENT</td>\n",
       "      <td>1</td>\n",
       "      <td>C4</td>\n",
       "      <td>1</td>\n",
       "      <td>1.00</td>\n",
       "      <td>60 months</td>\n",
       "      <td>car</td>\n",
       "      <td>15.27</td>\n",
       "      <td>1</td>\n",
       "      <td>1</td>\n",
       "      <td>9.4</td>\n",
       "      <td>0.00</td>\n",
       "      <td>2.39320</td>\n",
       "      <td>1</td>\n",
       "    </tr>\n",
       "    <tr>\n",
       "      <th>2</th>\n",
       "      <td>C</td>\n",
       "      <td>RENT</td>\n",
       "      <td>11</td>\n",
       "      <td>C5</td>\n",
       "      <td>0</td>\n",
       "      <td>8.72</td>\n",
       "      <td>36 months</td>\n",
       "      <td>small_business</td>\n",
       "      <td>15.96</td>\n",
       "      <td>1</td>\n",
       "      <td>1</td>\n",
       "      <td>98.5</td>\n",
       "      <td>0.00</td>\n",
       "      <td>8.25955</td>\n",
       "      <td>0</td>\n",
       "    </tr>\n",
       "    <tr>\n",
       "      <th>3</th>\n",
       "      <td>C</td>\n",
       "      <td>RENT</td>\n",
       "      <td>11</td>\n",
       "      <td>C1</td>\n",
       "      <td>0</td>\n",
       "      <td>20.00</td>\n",
       "      <td>36 months</td>\n",
       "      <td>other</td>\n",
       "      <td>13.49</td>\n",
       "      <td>0</td>\n",
       "      <td>1</td>\n",
       "      <td>21.0</td>\n",
       "      <td>16.97</td>\n",
       "      <td>8.27585</td>\n",
       "      <td>0</td>\n",
       "    </tr>\n",
       "    <tr>\n",
       "      <th>4</th>\n",
       "      <td>A</td>\n",
       "      <td>RENT</td>\n",
       "      <td>4</td>\n",
       "      <td>A4</td>\n",
       "      <td>0</td>\n",
       "      <td>11.20</td>\n",
       "      <td>36 months</td>\n",
       "      <td>wedding</td>\n",
       "      <td>7.90</td>\n",
       "      <td>1</td>\n",
       "      <td>1</td>\n",
       "      <td>28.3</td>\n",
       "      <td>0.00</td>\n",
       "      <td>5.21533</td>\n",
       "      <td>0</td>\n",
       "    </tr>\n",
       "  </tbody>\n",
       "</table>\n",
       "</div>"
      ],
      "text/plain": [
       "  grade home_ownership  emp_length_num sub_grade  short_emp    dti  \\\n",
       "0     B           RENT              11        B2          0  27.65   \n",
       "1     C           RENT               1        C4          1   1.00   \n",
       "2     C           RENT              11        C5          0   8.72   \n",
       "3     C           RENT              11        C1          0  20.00   \n",
       "4     A           RENT               4        A4          0  11.20   \n",
       "\n",
       "         term         purpose  int_rate  last_delinq_none  \\\n",
       "0   36 months     credit_card     10.65                 1   \n",
       "1   60 months             car     15.27                 1   \n",
       "2   36 months  small_business     15.96                 1   \n",
       "3   36 months           other     13.49                 0   \n",
       "4   36 months         wedding      7.90                 1   \n",
       "\n",
       "   last_major_derog_none  revol_util  total_rec_late_fee  payment_inc_ratio  \\\n",
       "0                      1        83.7                0.00            8.14350   \n",
       "1                      1         9.4                0.00            2.39320   \n",
       "2                      1        98.5                0.00            8.25955   \n",
       "3                      1        21.0               16.97            8.27585   \n",
       "4                      1        28.3                0.00            5.21533   \n",
       "\n",
       "   bad_loans  \n",
       "0          0  \n",
       "1          1  \n",
       "2          0  \n",
       "3          0  \n",
       "4          0  "
      ]
     },
     "execution_count": 51,
     "metadata": {},
     "output_type": "execute_result"
    }
   ],
   "source": [
    "loans = pd.read_csv('loans.csv',\n",
    "                    low_memory = False\n",
    "                   )\n",
    "loans.head()"
   ]
  },
  {
   "cell_type": "markdown",
   "metadata": {},
   "source": [
    "####  <span style = \"color:red\">Código Original.</span>\n",
    "<!---\n",
    "loans = pd.read_csv('loans.csv',\n",
    "                    low_memory = False\n",
    "                   )\n",
    "loans.head()\n",
    "-->"
   ]
  },
  {
   "cell_type": "markdown",
   "metadata": {},
   "source": [
    "## Análise exploratória\n",
    "\n",
    "### Balanço da classe.\n",
    "\n",
    "#### A classe que tentaremos prever é \"bad loans\", que indica se o empréstimo foi pago a tempo ou não. \n",
    "\n",
    "#### Fazendo uma contagem normalizada com o auxílio do método [`value_counts()`](https://pandas.pydata.org/pandas-docs/stable/reference/api/pandas.Series.value_counts.html), observamos que a classe está desbalanceada. Amaioria dos empréstimos são pagos a tempo."
   ]
  },
  {
   "cell_type": "code",
   "execution_count": 52,
   "metadata": {},
   "outputs": [
    {
     "data": {
      "text/plain": [
       "0    0.811185\n",
       "1    0.188815\n",
       "Name: bad_loans, dtype: float64"
      ]
     },
     "execution_count": 52,
     "metadata": {},
     "output_type": "execute_result"
    }
   ],
   "source": [
    "loans['bad_loans'].value_counts(normalize = True)"
   ]
  },
  {
   "cell_type": "markdown",
   "metadata": {},
   "source": [
    "####  <span style = \"color:red\">Código Original.</span>\n",
    "<!---\n",
    "loans['bad_loans'].value_counts(normalize = True)\n",
    "-->"
   ]
  },
  {
   "cell_type": "markdown",
   "metadata": {},
   "source": [
    "### Variáveis numéricas.\n",
    "\n",
    "#### Podemos encontrar as variáveis numéricas relevantes observando quais são as que têm maior correlação com a classe `bad_loans`."
   ]
  },
  {
   "cell_type": "code",
   "execution_count": 53,
   "metadata": {},
   "outputs": [
    {
     "data": {
      "text/plain": [
       "bad_loans                1.000000\n",
       "int_rate                 0.227545\n",
       "revol_util               0.112548\n",
       "dti                      0.107652\n",
       "total_rec_late_fee       0.032719\n",
       "payment_inc_ratio        0.025879\n",
       "short_emp                0.019498\n",
       "emp_length_num           0.008342\n",
       "last_delinq_none         0.003466\n",
       "last_major_derog_none    0.002390\n",
       "Name: bad_loans, dtype: float64"
      ]
     },
     "execution_count": 53,
     "metadata": {},
     "output_type": "execute_result"
    }
   ],
   "source": [
    "loans.corr()['bad_loans'].apply(abs).sort_values(ascending = False)"
   ]
  },
  {
   "cell_type": "markdown",
   "metadata": {},
   "source": [
    "####  <span style = \"color:red\">Código Original.</span>\n",
    "<!---\n",
    "loans.corr()['bad_loans'].apply(abs).sort_values(ascending = False)\n",
    "-->"
   ]
  },
  {
   "cell_type": "code",
   "execution_count": 54,
   "metadata": {},
   "outputs": [
    {
     "data": {
      "text/html": [
       "<div>\n",
       "<style scoped>\n",
       "    .dataframe tbody tr th:only-of-type {\n",
       "        vertical-align: middle;\n",
       "    }\n",
       "\n",
       "    .dataframe tbody tr th {\n",
       "        vertical-align: top;\n",
       "    }\n",
       "\n",
       "    .dataframe thead th {\n",
       "        text-align: right;\n",
       "    }\n",
       "</style>\n",
       "<table border=\"1\" class=\"dataframe\">\n",
       "  <thead>\n",
       "    <tr style=\"text-align: right;\">\n",
       "      <th></th>\n",
       "      <th>grade</th>\n",
       "      <th>home_ownership</th>\n",
       "      <th>emp_length_num</th>\n",
       "      <th>sub_grade</th>\n",
       "      <th>short_emp</th>\n",
       "      <th>dti</th>\n",
       "      <th>term</th>\n",
       "      <th>purpose</th>\n",
       "      <th>int_rate</th>\n",
       "      <th>last_delinq_none</th>\n",
       "      <th>last_major_derog_none</th>\n",
       "      <th>revol_util</th>\n",
       "      <th>total_rec_late_fee</th>\n",
       "      <th>payment_inc_ratio</th>\n",
       "      <th>bad_loans</th>\n",
       "    </tr>\n",
       "  </thead>\n",
       "  <tbody>\n",
       "    <tr>\n",
       "      <th>0</th>\n",
       "      <td>B</td>\n",
       "      <td>RENT</td>\n",
       "      <td>11</td>\n",
       "      <td>B2</td>\n",
       "      <td>0</td>\n",
       "      <td>27.65</td>\n",
       "      <td>36 months</td>\n",
       "      <td>credit_card</td>\n",
       "      <td>10.65</td>\n",
       "      <td>1</td>\n",
       "      <td>1</td>\n",
       "      <td>83.7</td>\n",
       "      <td>0.00</td>\n",
       "      <td>8.14350</td>\n",
       "      <td>0</td>\n",
       "    </tr>\n",
       "    <tr>\n",
       "      <th>1</th>\n",
       "      <td>C</td>\n",
       "      <td>RENT</td>\n",
       "      <td>1</td>\n",
       "      <td>C4</td>\n",
       "      <td>1</td>\n",
       "      <td>1.00</td>\n",
       "      <td>60 months</td>\n",
       "      <td>car</td>\n",
       "      <td>15.27</td>\n",
       "      <td>1</td>\n",
       "      <td>1</td>\n",
       "      <td>9.4</td>\n",
       "      <td>0.00</td>\n",
       "      <td>2.39320</td>\n",
       "      <td>1</td>\n",
       "    </tr>\n",
       "    <tr>\n",
       "      <th>2</th>\n",
       "      <td>C</td>\n",
       "      <td>RENT</td>\n",
       "      <td>11</td>\n",
       "      <td>C5</td>\n",
       "      <td>0</td>\n",
       "      <td>8.72</td>\n",
       "      <td>36 months</td>\n",
       "      <td>small_business</td>\n",
       "      <td>15.96</td>\n",
       "      <td>1</td>\n",
       "      <td>1</td>\n",
       "      <td>98.5</td>\n",
       "      <td>0.00</td>\n",
       "      <td>8.25955</td>\n",
       "      <td>0</td>\n",
       "    </tr>\n",
       "    <tr>\n",
       "      <th>3</th>\n",
       "      <td>C</td>\n",
       "      <td>RENT</td>\n",
       "      <td>11</td>\n",
       "      <td>C1</td>\n",
       "      <td>0</td>\n",
       "      <td>20.00</td>\n",
       "      <td>36 months</td>\n",
       "      <td>other</td>\n",
       "      <td>13.49</td>\n",
       "      <td>0</td>\n",
       "      <td>1</td>\n",
       "      <td>21.0</td>\n",
       "      <td>16.97</td>\n",
       "      <td>8.27585</td>\n",
       "      <td>0</td>\n",
       "    </tr>\n",
       "    <tr>\n",
       "      <th>4</th>\n",
       "      <td>A</td>\n",
       "      <td>RENT</td>\n",
       "      <td>4</td>\n",
       "      <td>A4</td>\n",
       "      <td>0</td>\n",
       "      <td>11.20</td>\n",
       "      <td>36 months</td>\n",
       "      <td>wedding</td>\n",
       "      <td>7.90</td>\n",
       "      <td>1</td>\n",
       "      <td>1</td>\n",
       "      <td>28.3</td>\n",
       "      <td>0.00</td>\n",
       "      <td>5.21533</td>\n",
       "      <td>0</td>\n",
       "    </tr>\n",
       "  </tbody>\n",
       "</table>\n",
       "</div>"
      ],
      "text/plain": [
       "  grade home_ownership  emp_length_num sub_grade  short_emp    dti  \\\n",
       "0     B           RENT              11        B2          0  27.65   \n",
       "1     C           RENT               1        C4          1   1.00   \n",
       "2     C           RENT              11        C5          0   8.72   \n",
       "3     C           RENT              11        C1          0  20.00   \n",
       "4     A           RENT               4        A4          0  11.20   \n",
       "\n",
       "         term         purpose  int_rate  last_delinq_none  \\\n",
       "0   36 months     credit_card     10.65                 1   \n",
       "1   60 months             car     15.27                 1   \n",
       "2   36 months  small_business     15.96                 1   \n",
       "3   36 months           other     13.49                 0   \n",
       "4   36 months         wedding      7.90                 1   \n",
       "\n",
       "   last_major_derog_none  revol_util  total_rec_late_fee  payment_inc_ratio  \\\n",
       "0                      1        83.7                0.00            8.14350   \n",
       "1                      1         9.4                0.00            2.39320   \n",
       "2                      1        98.5                0.00            8.25955   \n",
       "3                      1        21.0               16.97            8.27585   \n",
       "4                      1        28.3                0.00            5.21533   \n",
       "\n",
       "   bad_loans  \n",
       "0          0  \n",
       "1          1  \n",
       "2          0  \n",
       "3          0  \n",
       "4          0  "
      ]
     },
     "execution_count": 54,
     "metadata": {},
     "output_type": "execute_result"
    }
   ],
   "source": [
    "loans.head()"
   ]
  },
  {
   "cell_type": "markdown",
   "metadata": {},
   "source": [
    "### Variáveis categóricas.\n",
    "\n",
    "#### Para fazer a mesma análise em variáveis categóricas, fazemos um `groupby()` por categoria para ver diferenças relevantes no número de créditos com default."
   ]
  },
  {
   "cell_type": "markdown",
   "metadata": {},
   "source": [
    "#### Testamos inicialmente o atributo `'home_ownership'`."
   ]
  },
  {
   "cell_type": "code",
   "execution_count": 55,
   "metadata": {},
   "outputs": [
    {
     "data": {
      "text/plain": [
       "home_ownership\n",
       "OTHER       0.229050\n",
       "RENT        0.209484\n",
       "OWN         0.194609\n",
       "MORTGAGE    0.169142\n",
       "Name: bad_loans, dtype: float64"
      ]
     },
     "execution_count": 55,
     "metadata": {},
     "output_type": "execute_result"
    }
   ],
   "source": [
    "loans.groupby('home_ownership')['bad_loans'].mean().sort_values(ascending = False)"
   ]
  },
  {
   "cell_type": "markdown",
   "metadata": {},
   "source": [
    "####  <span style = \"color:red\">Código Original.</span>\n",
    "<!---\n",
    "loans.groupby('home_ownership')['bad_loans'].mean().sort_values()\n",
    "-->"
   ]
  },
  {
   "cell_type": "markdown",
   "metadata": {},
   "source": [
    "#### Testamos também o atributo `'term'`."
   ]
  },
  {
   "cell_type": "code",
   "execution_count": 56,
   "metadata": {},
   "outputs": [
    {
     "data": {
      "text/plain": [
       "term\n",
       " 60 months    0.303757\n",
       " 36 months    0.159661\n",
       "Name: bad_loans, dtype: float64"
      ]
     },
     "execution_count": 56,
     "metadata": {},
     "output_type": "execute_result"
    }
   ],
   "source": [
    "loans.groupby('term')['bad_loans'].mean().sort_values(ascending = False)"
   ]
  },
  {
   "cell_type": "markdown",
   "metadata": {},
   "source": [
    "####  <span style = \"color:red\">Código Original.</span>\n",
    "<!---\n",
    "loans.groupby('term')['bad_loans'].mean().sort_values()\n",
    "-->"
   ]
  },
  {
   "cell_type": "markdown",
   "metadata": {},
   "source": [
    "#### O atributo `'purpose'`."
   ]
  },
  {
   "cell_type": "code",
   "execution_count": 57,
   "metadata": {},
   "outputs": [
    {
     "data": {
      "text/plain": [
       "purpose\n",
       "small_business        0.322304\n",
       "other                 0.220425\n",
       "moving                0.210169\n",
       "medical               0.206596\n",
       "debt_consolidation    0.195932\n",
       "vacation              0.187209\n",
       "house                 0.180100\n",
       "credit_card           0.159365\n",
       "home_improvement      0.159088\n",
       "wedding               0.152031\n",
       "major_purchase        0.141346\n",
       "car                   0.130526\n",
       "Name: bad_loans, dtype: float64"
      ]
     },
     "execution_count": 57,
     "metadata": {},
     "output_type": "execute_result"
    }
   ],
   "source": [
    "loans.groupby('purpose')['bad_loans'].mean().sort_values(ascending = False)"
   ]
  },
  {
   "cell_type": "markdown",
   "metadata": {},
   "source": [
    "####  <span style = \"color:red\">Código Original.</span>\n",
    "<!---\n",
    "loans.groupby('purpose')['bad_loans'].mean().sort_values()\n",
    "-->"
   ]
  },
  {
   "cell_type": "markdown",
   "metadata": {},
   "source": [
    "### Valores faltantes.\n",
    "\n",
    "#### Podemos ainda inspecionar os valores faltantes."
   ]
  },
  {
   "cell_type": "code",
   "execution_count": 58,
   "metadata": {},
   "outputs": [
    {
     "data": {
      "text/plain": [
       "grade                    0\n",
       "home_ownership           0\n",
       "emp_length_num           0\n",
       "sub_grade                0\n",
       "short_emp                0\n",
       "dti                      0\n",
       "term                     0\n",
       "purpose                  0\n",
       "int_rate                 0\n",
       "last_delinq_none         0\n",
       "last_major_derog_none    0\n",
       "revol_util               0\n",
       "total_rec_late_fee       0\n",
       "payment_inc_ratio        4\n",
       "bad_loans                0\n",
       "dtype: int64"
      ]
     },
     "execution_count": 58,
     "metadata": {},
     "output_type": "execute_result"
    }
   ],
   "source": [
    "loans.isnull().sum()"
   ]
  },
  {
   "cell_type": "markdown",
   "metadata": {},
   "source": [
    "####  <span style = \"color:red\">Código Original.</span>\n",
    "<!---\n",
    "loans.isnull().sum()\n",
    "-->"
   ]
  },
  {
   "cell_type": "markdown",
   "metadata": {},
   "source": [
    "#### Notamos que a variável `'payment_inc_ratio'` tem  $4$ valores nulos e não mostra uma [correlação](https://statisticsbyjim.com/basics/correlations/#:~:text=Direction%3A%20The%20sign%20of%20the,upward%20slope%20on%20a%20scatterplot.) muito alta com a classe `'bad_loans'`.  \n",
    "\n",
    "#### Eliminamos, então, os valores com `'payment_inc_ratio'` desconhecido."
   ]
  },
  {
   "cell_type": "code",
   "execution_count": 59,
   "metadata": {},
   "outputs": [
    {
     "data": {
      "text/plain": [
       "grade                    0\n",
       "home_ownership           0\n",
       "emp_length_num           0\n",
       "sub_grade                0\n",
       "short_emp                0\n",
       "dti                      0\n",
       "term                     0\n",
       "purpose                  0\n",
       "int_rate                 0\n",
       "last_delinq_none         0\n",
       "last_major_derog_none    0\n",
       "revol_util               0\n",
       "total_rec_late_fee       0\n",
       "payment_inc_ratio        0\n",
       "bad_loans                0\n",
       "dtype: int64"
      ]
     },
     "execution_count": 59,
     "metadata": {},
     "output_type": "execute_result"
    }
   ],
   "source": [
    "loans = loans[loans['payment_inc_ratio'].notnull()].copy()\n",
    "loans.isnull().sum()"
   ]
  },
  {
   "cell_type": "markdown",
   "metadata": {},
   "source": [
    "####  <span style = \"color:red\">Código Original.</span>\n",
    "<!---\n",
    "loans = loans[loans['payment_inc_ratio'].notnull()].copy()\n",
    "#loans.isnull().sum()\n",
    "-->"
   ]
  },
  {
   "cell_type": "markdown",
   "metadata": {},
   "source": [
    "#### Vamos gerar uma amostra dos dados."
   ]
  },
  {
   "cell_type": "code",
   "execution_count": 60,
   "metadata": {},
   "outputs": [
    {
     "data": {
      "text/html": [
       "<div>\n",
       "<style scoped>\n",
       "    .dataframe tbody tr th:only-of-type {\n",
       "        vertical-align: middle;\n",
       "    }\n",
       "\n",
       "    .dataframe tbody tr th {\n",
       "        vertical-align: top;\n",
       "    }\n",
       "\n",
       "    .dataframe thead th {\n",
       "        text-align: right;\n",
       "    }\n",
       "</style>\n",
       "<table border=\"1\" class=\"dataframe\">\n",
       "  <thead>\n",
       "    <tr style=\"text-align: right;\">\n",
       "      <th></th>\n",
       "      <th>grade</th>\n",
       "      <th>home_ownership</th>\n",
       "      <th>emp_length_num</th>\n",
       "      <th>sub_grade</th>\n",
       "      <th>short_emp</th>\n",
       "      <th>dti</th>\n",
       "      <th>term</th>\n",
       "      <th>purpose</th>\n",
       "      <th>int_rate</th>\n",
       "      <th>last_delinq_none</th>\n",
       "      <th>last_major_derog_none</th>\n",
       "      <th>revol_util</th>\n",
       "      <th>total_rec_late_fee</th>\n",
       "      <th>payment_inc_ratio</th>\n",
       "      <th>bad_loans</th>\n",
       "    </tr>\n",
       "  </thead>\n",
       "  <tbody>\n",
       "    <tr>\n",
       "      <th>889</th>\n",
       "      <td>C</td>\n",
       "      <td>MORTGAGE</td>\n",
       "      <td>5</td>\n",
       "      <td>C3</td>\n",
       "      <td>0</td>\n",
       "      <td>7.15</td>\n",
       "      <td>60 months</td>\n",
       "      <td>credit_card</td>\n",
       "      <td>14.65</td>\n",
       "      <td>1</td>\n",
       "      <td>1</td>\n",
       "      <td>56.4</td>\n",
       "      <td>0.0</td>\n",
       "      <td>6.68117</td>\n",
       "      <td>0</td>\n",
       "    </tr>\n",
       "    <tr>\n",
       "      <th>86948</th>\n",
       "      <td>B</td>\n",
       "      <td>RENT</td>\n",
       "      <td>11</td>\n",
       "      <td>B3</td>\n",
       "      <td>0</td>\n",
       "      <td>34.30</td>\n",
       "      <td>36 months</td>\n",
       "      <td>debt_consolidation</td>\n",
       "      <td>12.12</td>\n",
       "      <td>0</td>\n",
       "      <td>1</td>\n",
       "      <td>89.7</td>\n",
       "      <td>0.0</td>\n",
       "      <td>6.30613</td>\n",
       "      <td>0</td>\n",
       "    </tr>\n",
       "    <tr>\n",
       "      <th>56684</th>\n",
       "      <td>B</td>\n",
       "      <td>MORTGAGE</td>\n",
       "      <td>11</td>\n",
       "      <td>B4</td>\n",
       "      <td>0</td>\n",
       "      <td>27.24</td>\n",
       "      <td>36 months</td>\n",
       "      <td>debt_consolidation</td>\n",
       "      <td>12.35</td>\n",
       "      <td>1</td>\n",
       "      <td>1</td>\n",
       "      <td>80.2</td>\n",
       "      <td>0.0</td>\n",
       "      <td>14.05560</td>\n",
       "      <td>1</td>\n",
       "    </tr>\n",
       "    <tr>\n",
       "      <th>106421</th>\n",
       "      <td>C</td>\n",
       "      <td>MORTGAGE</td>\n",
       "      <td>2</td>\n",
       "      <td>C3</td>\n",
       "      <td>0</td>\n",
       "      <td>6.01</td>\n",
       "      <td>60 months</td>\n",
       "      <td>debt_consolidation</td>\n",
       "      <td>13.98</td>\n",
       "      <td>0</td>\n",
       "      <td>0</td>\n",
       "      <td>52.3</td>\n",
       "      <td>0.0</td>\n",
       "      <td>4.65164</td>\n",
       "      <td>0</td>\n",
       "    </tr>\n",
       "    <tr>\n",
       "      <th>110346</th>\n",
       "      <td>D</td>\n",
       "      <td>MORTGAGE</td>\n",
       "      <td>6</td>\n",
       "      <td>D1</td>\n",
       "      <td>0</td>\n",
       "      <td>7.40</td>\n",
       "      <td>60 months</td>\n",
       "      <td>home_improvement</td>\n",
       "      <td>15.61</td>\n",
       "      <td>0</td>\n",
       "      <td>1</td>\n",
       "      <td>38.7</td>\n",
       "      <td>0.0</td>\n",
       "      <td>7.38110</td>\n",
       "      <td>0</td>\n",
       "    </tr>\n",
       "    <tr>\n",
       "      <th>89353</th>\n",
       "      <td>D</td>\n",
       "      <td>RENT</td>\n",
       "      <td>3</td>\n",
       "      <td>D4</td>\n",
       "      <td>0</td>\n",
       "      <td>11.89</td>\n",
       "      <td>36 months</td>\n",
       "      <td>debt_consolidation</td>\n",
       "      <td>19.05</td>\n",
       "      <td>0</td>\n",
       "      <td>1</td>\n",
       "      <td>66.9</td>\n",
       "      <td>0.0</td>\n",
       "      <td>8.09531</td>\n",
       "      <td>1</td>\n",
       "    </tr>\n",
       "    <tr>\n",
       "      <th>97718</th>\n",
       "      <td>D</td>\n",
       "      <td>RENT</td>\n",
       "      <td>6</td>\n",
       "      <td>D1</td>\n",
       "      <td>0</td>\n",
       "      <td>11.40</td>\n",
       "      <td>36 months</td>\n",
       "      <td>credit_card</td>\n",
       "      <td>17.27</td>\n",
       "      <td>0</td>\n",
       "      <td>1</td>\n",
       "      <td>91.9</td>\n",
       "      <td>0.0</td>\n",
       "      <td>3.29818</td>\n",
       "      <td>0</td>\n",
       "    </tr>\n",
       "    <tr>\n",
       "      <th>49734</th>\n",
       "      <td>B</td>\n",
       "      <td>RENT</td>\n",
       "      <td>11</td>\n",
       "      <td>B1</td>\n",
       "      <td>0</td>\n",
       "      <td>19.27</td>\n",
       "      <td>36 months</td>\n",
       "      <td>debt_consolidation</td>\n",
       "      <td>9.71</td>\n",
       "      <td>1</td>\n",
       "      <td>1</td>\n",
       "      <td>37.9</td>\n",
       "      <td>0.0</td>\n",
       "      <td>7.71168</td>\n",
       "      <td>0</td>\n",
       "    </tr>\n",
       "    <tr>\n",
       "      <th>42198</th>\n",
       "      <td>C</td>\n",
       "      <td>MORTGAGE</td>\n",
       "      <td>3</td>\n",
       "      <td>C2</td>\n",
       "      <td>0</td>\n",
       "      <td>16.78</td>\n",
       "      <td>36 months</td>\n",
       "      <td>debt_consolidation</td>\n",
       "      <td>15.10</td>\n",
       "      <td>0</td>\n",
       "      <td>1</td>\n",
       "      <td>55.9</td>\n",
       "      <td>0.0</td>\n",
       "      <td>5.38357</td>\n",
       "      <td>0</td>\n",
       "    </tr>\n",
       "    <tr>\n",
       "      <th>55929</th>\n",
       "      <td>D</td>\n",
       "      <td>RENT</td>\n",
       "      <td>3</td>\n",
       "      <td>D3</td>\n",
       "      <td>0</td>\n",
       "      <td>11.34</td>\n",
       "      <td>36 months</td>\n",
       "      <td>debt_consolidation</td>\n",
       "      <td>18.85</td>\n",
       "      <td>0</td>\n",
       "      <td>1</td>\n",
       "      <td>94.7</td>\n",
       "      <td>0.0</td>\n",
       "      <td>3.70222</td>\n",
       "      <td>0</td>\n",
       "    </tr>\n",
       "  </tbody>\n",
       "</table>\n",
       "</div>"
      ],
      "text/plain": [
       "       grade home_ownership  emp_length_num sub_grade  short_emp    dti  \\\n",
       "889        C       MORTGAGE               5        C3          0   7.15   \n",
       "86948      B           RENT              11        B3          0  34.30   \n",
       "56684      B       MORTGAGE              11        B4          0  27.24   \n",
       "106421     C       MORTGAGE               2        C3          0   6.01   \n",
       "110346     D       MORTGAGE               6        D1          0   7.40   \n",
       "89353      D           RENT               3        D4          0  11.89   \n",
       "97718      D           RENT               6        D1          0  11.40   \n",
       "49734      B           RENT              11        B1          0  19.27   \n",
       "42198      C       MORTGAGE               3        C2          0  16.78   \n",
       "55929      D           RENT               3        D3          0  11.34   \n",
       "\n",
       "              term             purpose  int_rate  last_delinq_none  \\\n",
       "889      60 months         credit_card     14.65                 1   \n",
       "86948    36 months  debt_consolidation     12.12                 0   \n",
       "56684    36 months  debt_consolidation     12.35                 1   \n",
       "106421   60 months  debt_consolidation     13.98                 0   \n",
       "110346   60 months    home_improvement     15.61                 0   \n",
       "89353    36 months  debt_consolidation     19.05                 0   \n",
       "97718    36 months         credit_card     17.27                 0   \n",
       "49734    36 months  debt_consolidation      9.71                 1   \n",
       "42198    36 months  debt_consolidation     15.10                 0   \n",
       "55929    36 months  debt_consolidation     18.85                 0   \n",
       "\n",
       "        last_major_derog_none  revol_util  total_rec_late_fee  \\\n",
       "889                         1        56.4                 0.0   \n",
       "86948                       1        89.7                 0.0   \n",
       "56684                       1        80.2                 0.0   \n",
       "106421                      0        52.3                 0.0   \n",
       "110346                      1        38.7                 0.0   \n",
       "89353                       1        66.9                 0.0   \n",
       "97718                       1        91.9                 0.0   \n",
       "49734                       1        37.9                 0.0   \n",
       "42198                       1        55.9                 0.0   \n",
       "55929                       1        94.7                 0.0   \n",
       "\n",
       "        payment_inc_ratio  bad_loans  \n",
       "889               6.68117          0  \n",
       "86948             6.30613          0  \n",
       "56684            14.05560          1  \n",
       "106421            4.65164          0  \n",
       "110346            7.38110          0  \n",
       "89353             8.09531          1  \n",
       "97718             3.29818          0  \n",
       "49734             7.71168          0  \n",
       "42198             5.38357          0  \n",
       "55929             3.70222          0  "
      ]
     },
     "execution_count": 60,
     "metadata": {},
     "output_type": "execute_result"
    }
   ],
   "source": [
    "loans.sample(10)"
   ]
  },
  {
   "cell_type": "markdown",
   "metadata": {},
   "source": [
    "####  <span style = \"color:red\">Código Original.</span>\n",
    "<!---\n",
    "loans.sample(10)\n",
    "-->"
   ]
  },
  {
   "cell_type": "markdown",
   "metadata": {},
   "source": [
    "### Modelo Preditivo: regressão logística.\n",
    "\n",
    "#### Vamos usar Regressão Logística para prever a classe `'bad_loans'`. \n",
    "\n",
    "\n",
    "#### Mas primeiro precisamos gerar as variáveis `dummies` para os dados categóricos. Para isso vamos aplicar o método [`get_dummies()`](https://pandas.pydata.org/pandas-docs/stable/reference/api/pandas.get_dummies.html),  que converte as variáveis categórica para indicadores numéricos."
   ]
  },
  {
   "cell_type": "code",
   "execution_count": 61,
   "metadata": {},
   "outputs": [
    {
     "data": {
      "text/plain": [
       "Index(['emp_length_num', 'short_emp', 'dti', 'int_rate', 'last_delinq_none',\n",
       "       'last_major_derog_none', 'revol_util', 'total_rec_late_fee',\n",
       "       'payment_inc_ratio', 'bad_loans', 'grade_A', 'grade_B', 'grade_C',\n",
       "       'grade_D', 'grade_E', 'grade_F', 'grade_G', 'home_ownership_MORTGAGE',\n",
       "       'home_ownership_OTHER', 'home_ownership_OWN', 'home_ownership_RENT',\n",
       "       'sub_grade_A1', 'sub_grade_A2', 'sub_grade_A3', 'sub_grade_A4',\n",
       "       'sub_grade_A5', 'sub_grade_B1', 'sub_grade_B2', 'sub_grade_B3',\n",
       "       'sub_grade_B4', 'sub_grade_B5', 'sub_grade_C1', 'sub_grade_C2',\n",
       "       'sub_grade_C3', 'sub_grade_C4', 'sub_grade_C5', 'sub_grade_D1',\n",
       "       'sub_grade_D2', 'sub_grade_D3', 'sub_grade_D4', 'sub_grade_D5',\n",
       "       'sub_grade_E1', 'sub_grade_E2', 'sub_grade_E3', 'sub_grade_E4',\n",
       "       'sub_grade_E5', 'sub_grade_F1', 'sub_grade_F2', 'sub_grade_F3',\n",
       "       'sub_grade_F4', 'sub_grade_F5', 'sub_grade_G1', 'sub_grade_G2',\n",
       "       'sub_grade_G3', 'sub_grade_G4', 'sub_grade_G5', 'term_ 36 months',\n",
       "       'term_ 60 months', 'purpose_car', 'purpose_credit_card',\n",
       "       'purpose_debt_consolidation', 'purpose_home_improvement',\n",
       "       'purpose_house', 'purpose_major_purchase', 'purpose_medical',\n",
       "       'purpose_moving', 'purpose_other', 'purpose_small_business',\n",
       "       'purpose_vacation', 'purpose_wedding'],\n",
       "      dtype='object')"
      ]
     },
     "execution_count": 61,
     "metadata": {},
     "output_type": "execute_result"
    }
   ],
   "source": [
    "loans_enconded = pd.get_dummies(loans)\n",
    "loans_enconded.head()\n",
    "loans_enconded.columns\n",
    "#print(loans_enconded.shape)"
   ]
  },
  {
   "cell_type": "markdown",
   "metadata": {},
   "source": [
    "####  <span style = \"color:red\">Código Original.</span>\n",
    "<!---\n",
    "loans_enconded = pd.get_dummies(loans)\n",
    "#loans_enconded.head()\n",
    "-->"
   ]
  },
  {
   "cell_type": "markdown",
   "metadata": {},
   "source": [
    "#### Antes de aplicar o modelo de regressão, vamos ainda separar os dados originais em subconjuntos de treino e teste com o auxílio da função [`train_test_split()`](https://scikit-learn.org/stable/modules/generated/sklearn.model_selection.train_test_split.html), eliminando aqui o atributo `'bad_loans'`."
   ]
  },
  {
   "cell_type": "code",
   "execution_count": 62,
   "metadata": {},
   "outputs": [],
   "source": [
    "training_features, test_features, \\\n",
    "training_target, test_target, = train_test_split(loans_enconded.drop(['bad_loans'], \n",
    "                                                                     axis = 1\n",
    "                                                                    ), \n",
    "                                                 loans_enconded['bad_loans'], \n",
    "                                                 test_size = .05, \n",
    "                                                 random_state = 12\n",
    "                                                ) "
   ]
  },
  {
   "cell_type": "markdown",
   "metadata": {},
   "source": [
    "####  <span style = \"color:red\">Código Original.</span>\n",
    "<!---\n",
    "training_features, test_features, \\\n",
    "training_target, test_target, = train_test_split(loans_enconded.drop(['bad_loans'], axis=1),\n",
    "loans_enconded['bad_loans'],test_size = .1,random_state=12)\n",
    "-->"
   ]
  },
  {
   "cell_type": "markdown",
   "metadata": {},
   "source": [
    "#### O último passo antes de realizarmos a regressão logística de nossos dados para a classificação de nossas observações passa por importar as bibliotecas:\n",
    "\n",
    "- [`sklearn.linear_model.LogisticRegression`](https://scikit-learn.org/stable/modules/generated/sklearn.linear_model.LogisticRegression.html), uma classe que implementa uma regressão logística regularizada.\n",
    "\n",
    "- [`sklearn.metrics.roc_auc_score`](https://scikit-learn.org/stable/modules/generated/sklearn.metrics.roc_auc_score.html), que computa a área sob a curva (Area under the Curve) `AUC` e Curva Característica de Operação do Receptor (Receiver Operating Characteristic Curve) `ROC`, a partir do `score` dos preditores.\n",
    "\n",
    "- [`sklearn.metrics.classification_report`](https://scikit-learn.org/stable/modules/generated/sklearn.metrics.classification_report.html), que constrói um relatório de texto, com as principais métricas de classificação."
   ]
  },
  {
   "cell_type": "code",
   "execution_count": 63,
   "metadata": {},
   "outputs": [],
   "source": [
    "from sklearn.linear_model import LogisticRegression\n",
    "from sklearn.metrics import roc_auc_score, classification_report"
   ]
  },
  {
   "cell_type": "markdown",
   "metadata": {},
   "source": [
    "####  <span style = \"color:red\">Código Original.</span>\n",
    "<!---\n",
    "from sklearn.linear_model import LogisticRegression\n",
    "from sklearn.metrics import roc_auc_score, classification_report\n",
    "-->"
   ]
  },
  {
   "cell_type": "markdown",
   "metadata": {},
   "source": [
    "#### Agora sim, vamos instanciar uma objeto `model` para receber o modelo de regressão logística e o ajustamos aos dados de treinamento com o método [`.fit()`](https://scikit-learn.org/stable/modules/generated/sklearn.linear_model.LogisticRegression.html#sklearn.linear_model.LogisticRegression.fit). \n",
    "\n",
    "#### Repare que a regressão leva o parâmetro `C` que opera como o inverso da força de regularização; devendo ser uma flutuação positiva, em que valores menores especificam uma regularização mais forte."
   ]
  },
  {
   "cell_type": "code",
   "execution_count": 64,
   "metadata": {},
   "outputs": [
    {
     "data": {
      "text/plain": [
       "LogisticRegression(C=10000000000.0, max_iter=2000)"
      ]
     },
     "execution_count": 64,
     "metadata": {},
     "output_type": "execute_result"
    }
   ],
   "source": [
    "#{‘newton-cg’, ‘lbfgs’, ‘liblinear’, ‘sag’, ‘saga’}\n",
    "model = LogisticRegression(C = 1e10, \n",
    "                           max_iter = 2000,\n",
    "                           solver = 'lbfgs'                           \n",
    "                          )\n",
    "\n",
    "model.fit(training_features, \n",
    "          training_target\n",
    "         )"
   ]
  },
  {
   "cell_type": "markdown",
   "metadata": {},
   "source": [
    "####  <span style = \"color:red\">Código Original.</span>\n",
    "<!---\n",
    "model = LogisticRegression(C = 1e10)\n",
    "model.fit(training_features, \n",
    "          training_target\n",
    "         )\n",
    "-->"
   ]
  },
  {
   "cell_type": "markdown",
   "metadata": {},
   "source": [
    "#### Geramos nossas previsões dos rótulos para o subconjunto de teste com o método [`.predict()`](https://scikit-learn.org/stable/modules/generated/sklearn.linear_model.LogisticRegression.html#sklearn.linear_model.LogisticRegression.predict)."
   ]
  },
  {
   "cell_type": "code",
   "execution_count": 65,
   "metadata": {},
   "outputs": [],
   "source": [
    "y_pred = model.predict(test_features)"
   ]
  },
  {
   "cell_type": "markdown",
   "metadata": {},
   "source": [
    "####  <span style = \"color:red\">Código Original.</span>\n",
    "<!---\n",
    "y_pred = model.predict(test_features)\n",
    "-->"
   ]
  },
  {
   "cell_type": "markdown",
   "metadata": {},
   "source": [
    "#### Vamos agora aplicar a função [`roc_auc_score()`](https://scikit-learn.org/stable/modules/generated/sklearn.metrics.roc_auc_score.html) aos subconjuntos de teste e de previsão, para entendermos o desempenho de nossa classificação binária."
   ]
  },
  {
   "cell_type": "code",
   "execution_count": 66,
   "metadata": {},
   "outputs": [
    {
     "data": {
      "text/plain": [
       "0.5075852850216327"
      ]
     },
     "execution_count": 66,
     "metadata": {},
     "output_type": "execute_result"
    }
   ],
   "source": [
    "roc_auc_score(test_target, \n",
    "              y_pred\n",
    "             )"
   ]
  },
  {
   "cell_type": "markdown",
   "metadata": {},
   "source": [
    "####  <span style = \"color:red\">Código Original.</span>\n",
    "<!---\n",
    "roc_auc_score(test_target,y_pred)\n",
    "-->"
   ]
  },
  {
   "cell_type": "markdown",
   "metadata": {},
   "source": [
    "#### Podemos ainda plotar a representação gráfica da curva ROC, comparando a sensitividade (TPR) e a especificidade do mesmo (1 – FPR), como fazemos a seguir."
   ]
  },
  {
   "cell_type": "code",
   "execution_count": 67,
   "metadata": {},
   "outputs": [],
   "source": [
    "from sklearn.metrics import roc_curve\n",
    "fpr_log,tpr_log,thr_log = roc_curve(test_target, \n",
    "                                    y_pred\n",
    "                                   )"
   ]
  },
  {
   "cell_type": "code",
   "execution_count": 68,
   "metadata": {},
   "outputs": [],
   "source": [
    "df = pd.DataFrame(dict(fpr = fpr_log, \n",
    "                       tpr = tpr_log, \n",
    "                       thr = thr_log\n",
    "                      )\n",
    "                 )"
   ]
  },
  {
   "cell_type": "code",
   "execution_count": 69,
   "metadata": {},
   "outputs": [
    {
     "data": {
      "image/png": "[encoded data removed]",
      "text/plain": [
       "<Figure size 432x288 with 1 Axes>"
      ]
     },
     "metadata": {
      "needs_background": "light"
     },
     "output_type": "display_data"
    }
   ],
   "source": [
    "import matplotlib.pyplot as plt\n",
    "plt.axis([0, 1.01, 0, 1.01])\n",
    "\n",
    "plt.xlabel('1 - Specificty')\n",
    "\n",
    "plt.ylabel('TPR(Sensitivity)')\n",
    "\n",
    "plt.title('ROC Curve')\n",
    "\n",
    "plt.plot(df['fpr'],\n",
    "         df['tpr']\n",
    "        )\n",
    "\n",
    "plt.plot(np.arange(0,1, \n",
    "                   step = 0.01\n",
    "                  ), \n",
    "         np.arange(0,1, \n",
    "                   step = 0.01\n",
    "                  )\n",
    "        )\n",
    "\n",
    "plt.show() "
   ]
  },
  {
   "cell_type": "markdown",
   "metadata": {},
   "source": [
    "#### Quando avaliamos o modelo sobre dados não observados, a área sob a curva é muito próxima de 0.5. Especificamente, o recall na hora de encontrar \"maus créditos\" é muito ruim. Um dos problemas que temos para fazer um bom modelo é o desbalanceamento de dados. \n",
    "\n",
    "#### Vejamos a seguir o reporte da classificação [`classification_report()`](https://scikit-learn.org/stable/modules/generated/sklearn.metrics.classification_report.html), mostrando as métricas da mesma."
   ]
  },
  {
   "cell_type": "code",
   "execution_count": 70,
   "metadata": {},
   "outputs": [
    {
     "name": "stdout",
     "output_type": "stream",
     "text": [
      "              precision    recall  f1-score   support\n",
      "\n",
      "           0       0.81      1.00      0.89      4958\n",
      "           1       0.51      0.02      0.04      1173\n",
      "\n",
      "    accuracy                           0.81      6131\n",
      "   macro avg       0.66      0.51      0.47      6131\n",
      "weighted avg       0.75      0.81      0.73      6131\n",
      "\n"
     ]
    }
   ],
   "source": [
    "print(classification_report(test_target,\n",
    "                            y_pred\n",
    "                           )\n",
    "     )"
   ]
  },
  {
   "cell_type": "markdown",
   "metadata": {},
   "source": [
    "####  <span style = \"color:red\">Código Original.</span>\n",
    "<!---\n",
    "print(classification_report(test_target,\n",
    "                            y_pred\n",
    "                           )\n",
    "     )\n",
    "-->"
   ]
  },
  {
   "cell_type": "markdown",
   "metadata": {},
   "source": [
    "#### Vamos tentar duas soluções possíveis."
   ]
  },
  {
   "cell_type": "markdown",
   "metadata": {},
   "source": [
    "## Oversampling"
   ]
  },
  {
   "cell_type": "markdown",
   "metadata": {},
   "source": [
    "#### Para aumentar a representação da classe minoritária vamos fazer um oversampling usando o algoritmo [SMOTE](https://www.kite.com/blog/python/smote-python-imbalanced-learn-for-oversampling/) (Synthetic Minority Oversample) do pacote imblearn.\n",
    "\n",
    "#### Este algoritmo gera novos dados usando a técnica dos `k` vizinhos mais próximos. Para gerar um ponto novo:\n",
    "\n",
    "- É escolhido um ponto da classe minoritária ao acaso e seus `k` vizinhos mais próximos.\n",
    "- Um desses vizinhos é escolhido ao acaso.\n",
    "- O vetor é calculado entre o ponto e o vizinho selecionados ao acaso e multiplicado por um número aleatório entre $0$ e $1$.\n",
    "- O ponto aleatório dentro do vetor é o novo dado para o oversampling.\n",
    "\n",
    "####  Para cada observação que pertence à classe sub-representada, o algoritmo [`SMOTE()`](https://imbalanced-learn.readthedocs.io/en/stable/generated/imblearn.over_sampling.SMOTE.html#imblearn-over-sampling-smote) obtém seus `k` vizinhos mais próximos e sintetiza uma nova instância do rótulo minoritário em um local aleatório na linha entre a observação atual e o vizinho mais próximo. "
   ]
  },
  {
   "cell_type": "code",
   "execution_count": 71,
   "metadata": {},
   "outputs": [
    {
     "name": "stdout",
     "output_type": "stream",
     "text": [
      "(116472, 69)\n",
      "(116472,)\n",
      "(188990, 69)\n",
      "(188990,)\n"
     ]
    }
   ],
   "source": [
    "sm = SMOTE(random_state = 12\n",
    "          )\n",
    "x_train_res, y_train_res = sm.fit_sample(training_features, \n",
    "                                         training_target\n",
    "                                        )\n",
    "\n",
    "print(training_features.shape)\n",
    "print(training_target.shape)\n",
    "print(x_train_res.shape)\n",
    "print(y_train_res.shape)"
   ]
  },
  {
   "cell_type": "markdown",
   "metadata": {},
   "source": [
    "####  <span style = \"color:red\">Código Original.</span>\n",
    "<!---\n",
    "sm = SMOTE(random_state = 12\n",
    "          )\n",
    "x_train_res, y_train_res = sm.fit_sample(training_features, \n",
    "                                         training_target\n",
    "                                        )\n",
    "\n",
    "print(training_features.shape)\n",
    "print(training_target.shape)\n",
    "print(x_train_res.shape)\n",
    "print(y_train_res.shape)\n",
    "-->"
   ]
  },
  {
   "cell_type": "markdown",
   "metadata": {},
   "source": [
    "#### Após repetirmos o processo de separação da reamostragem dos dados entre subconjuntos de treino e teste, fazemos um novo ajuste dos pontos com o método [`.fit()`](https://scikit-learn.org/stable/modules/generated/sklearn.linear_model.LogisticRegression.html#sklearn.linear_model.LogisticRegression.fit). "
   ]
  },
  {
   "cell_type": "code",
   "execution_count": 75,
   "metadata": {},
   "outputs": [
    {
     "data": {
      "text/plain": [
       "LogisticRegression(C=10000000000.0, max_iter=2000, solver='liblinear')"
      ]
     },
     "execution_count": 75,
     "metadata": {},
     "output_type": "execute_result"
    }
   ],
   "source": [
    "model = LogisticRegression(C = 1e10, \n",
    "                           max_iter = 2000,\n",
    "                           solver = 'liblinear'                           \n",
    "                          )\n",
    "\n",
    "model.fit(x_train_res,\n",
    "          y_train_res\n",
    "         )"
   ]
  },
  {
   "cell_type": "markdown",
   "metadata": {},
   "source": [
    "####  <span style = \"color:red\">Código Original.</span>\n",
    "<!---\n",
    "model = LogisticRegression(C = 1e10, \n",
    "                           max_iter = 2000,\n",
    "                           solver = 'liblinear'                           \n",
    "                          )\n",
    "\n",
    "model.fit(x_train_res,\n",
    "          y_train_res\n",
    "         )\n",
    "-->"
   ]
  },
  {
   "cell_type": "markdown",
   "metadata": {},
   "source": [
    "#### E realizamos novas previsões com o método [`.predict()`](https://scikit-learn.org/stable/modules/generated/sklearn.linear_model.LogisticRegression.html#sklearn.linear_model.LogisticRegression.predict)."
   ]
  },
  {
   "cell_type": "code",
   "execution_count": null,
   "metadata": {},
   "outputs": [],
   "source": [
    "y_pred = model.predict(test_features)"
   ]
  },
  {
   "cell_type": "markdown",
   "metadata": {},
   "source": [
    "####  <span style = \"color:red\">Código Original.</span>\n",
    "<!---\n",
    "y_pred = model.predict(test_features)\n",
    "-->"
   ]
  },
  {
   "cell_type": "markdown",
   "metadata": {},
   "source": [
    "#### Aplicamos novamente a função [`roc_auc_score()`](https://scikit-learn.org/stable/modules/generated/sklearn.metrics.roc_auc_score.html) aos subconjuntos de teste e de previsão que incorreram em reamostragem e observamos novamente o desempenho de nossa classificação binária."
   ]
  },
  {
   "cell_type": "code",
   "execution_count": null,
   "metadata": {},
   "outputs": [],
   "source": [
    "roc_auc_score(test_target, \n",
    "              y_pred\n",
    "             )"
   ]
  },
  {
   "cell_type": "markdown",
   "metadata": {},
   "source": [
    "####  <span style = \"color:red\">Código Original.</span>\n",
    "<!---\n",
    "roc_auc_score(test_target, \n",
    "              y_pred\n",
    "             )\n",
    "-->"
   ]
  },
  {
   "cell_type": "markdown",
   "metadata": {},
   "source": [
    "#### Podemos novamente plotar a representação gráfica da curva ROC, comparando a sensitividade (TPR) e a especificidade do mesmo (1 – FPR), fazendo:"
   ]
  },
  {
   "cell_type": "code",
   "execution_count": null,
   "metadata": {},
   "outputs": [],
   "source": [
    "fpr_log,tpr_log,thr_log = roc_curve(test_target, \n",
    "                                    y_pred\n",
    "                                   )"
   ]
  },
  {
   "cell_type": "code",
   "execution_count": null,
   "metadata": {},
   "outputs": [],
   "source": [
    "df_res = pd.DataFrame(dict(fpr = fpr_log, \n",
    "                       tpr = tpr_log, \n",
    "                       thr = thr_log\n",
    "                      )\n",
    "                 )"
   ]
  },
  {
   "cell_type": "code",
   "execution_count": null,
   "metadata": {},
   "outputs": [],
   "source": [
    "plt.axis([0, 1.01, 0, 1.01])\n",
    "\n",
    "plt.xlabel('1 - Specificty')\n",
    "\n",
    "plt.ylabel('TPR(Sensitivity)')\n",
    "\n",
    "plt.title('ROC Curve')\n",
    "\n",
    "plt.plot(df_res['fpr'],\n",
    "         df_res['tpr']\n",
    "        )\n",
    "\n",
    "plt.plot(np.arange(0,1, \n",
    "                   step = 0.01\n",
    "                  ), \n",
    "         np.arange(0,1, \n",
    "                   step = 0.01\n",
    "                  )\n",
    "        )\n",
    "\n",
    "plt.show()"
   ]
  },
  {
   "cell_type": "markdown",
   "metadata": {},
   "source": [
    "#### Reavaliando o modelo sobre dados não observados, a área sob a curva tem um melhora para 56% do total. Especificamente, o recall na hora de encontrar \"maus créditos\" sobe. \n",
    "\n",
    "#### Vejamos a seguir o reporte da classificação [`classification_report()`](https://scikit-learn.org/stable/modules/generated/sklearn.metrics.classification_report.html), mostrando as métricas da mesma."
   ]
  },
  {
   "cell_type": "code",
   "execution_count": null,
   "metadata": {},
   "outputs": [],
   "source": [
    "print(classification_report(test_target, \n",
    "                            y_pred\n",
    "                           )\n",
    "     )"
   ]
  },
  {
   "cell_type": "markdown",
   "metadata": {},
   "source": [
    "####  <span style = \"color:red\">Código Original.</span>\n",
    "<!---\n",
    "print(classification_report(test_target, \n",
    "                            y_pred\n",
    "                           )\n",
    "     )\n",
    "-->"
   ]
  },
  {
   "cell_type": "markdown",
   "metadata": {},
   "source": [
    "##  <span style = \"color:blue\">Prática Independente.</span>"
   ]
  },
  {
   "cell_type": "markdown",
   "metadata": {},
   "source": [
    "# Class Weights\n",
    "\n",
    "#### A outra técnica que podemos usar para corrigir o desbalanceamento dos dados é incorporar na função de custos do algoritmo um peso maior para os erros de treinamento cometidos nos pontos da classe minoritária.\n",
    "\n",
    "#### Implemente a Regressão Logística com o parâmetro `class_weight`, que mude a ponderação das classes. Ajuste novamente o modelo, faça novas previsões e aplice o conceito de curva `ROC` aos seus resultados. Plote também o gráfico da curva `ROC` e estude o relatório da classificação.\n",
    "\n",
    "#### Discuta como é o desempenho do novo modelo em relação à regressão logística original.  Faz sentido aplicar esta correção junto com o algoritmo `SMOTE`?"
   ]
  },
  {
   "cell_type": "code",
   "execution_count": null,
   "metadata": {},
   "outputs": [],
   "source": []
  },
  {
   "cell_type": "markdown",
   "metadata": {},
   "source": [
    "####  <span style = \"color:red\">Código Original.</span>\n",
    "<!---\n",
    "model = LogisticRegression(C = 1e10, \n",
    "                           class_weight = 'balanced'\n",
    "                          )\n",
    "-->"
   ]
  },
  {
   "cell_type": "code",
   "execution_count": null,
   "metadata": {},
   "outputs": [],
   "source": []
  },
  {
   "cell_type": "markdown",
   "metadata": {},
   "source": [
    "####  <span style = \"color:red\">Código Original.</span>\n",
    "<!---\n",
    "model.fit(training_features, \n",
    "          training_target\n",
    "         )\n",
    "-->"
   ]
  },
  {
   "cell_type": "code",
   "execution_count": null,
   "metadata": {},
   "outputs": [],
   "source": []
  },
  {
   "cell_type": "markdown",
   "metadata": {},
   "source": [
    "####  <span style = \"color:red\">Código Original.</span>\n",
    "<!---\n",
    "y_pred = model.predict(test_features)\n",
    "-->"
   ]
  },
  {
   "cell_type": "code",
   "execution_count": null,
   "metadata": {},
   "outputs": [],
   "source": []
  },
  {
   "cell_type": "markdown",
   "metadata": {},
   "source": [
    "####  <span style = \"color:red\">Código Original.</span>\n",
    "<!---\n",
    "roc_auc_score(test_target, \n",
    "              y_pred\n",
    "             )\n",
    "-->"
   ]
  },
  {
   "cell_type": "code",
   "execution_count": null,
   "metadata": {},
   "outputs": [],
   "source": []
  },
  {
   "cell_type": "markdown",
   "metadata": {},
   "source": [
    "####  <span style = \"color:red\">Código Original.</span>\n",
    "<!---\n",
    "fpr_log,tpr_log,thr_log = roc_curve(test_target, \n",
    "                                    y_pred\n",
    "                                   )\n",
    "-->"
   ]
  },
  {
   "cell_type": "code",
   "execution_count": null,
   "metadata": {},
   "outputs": [],
   "source": []
  },
  {
   "cell_type": "markdown",
   "metadata": {},
   "source": [
    "####  <span style = \"color:red\">Código Original.</span>\n",
    "<!---\n",
    "df_bal = pd.DataFrame(dict(fpr = fpr_log, \n",
    "                       tpr = tpr_log, \n",
    "                       thr = thr_log\n",
    "                      )\n",
    "                 )\n",
    "-->"
   ]
  },
  {
   "cell_type": "code",
   "execution_count": null,
   "metadata": {},
   "outputs": [],
   "source": []
  },
  {
   "cell_type": "markdown",
   "metadata": {},
   "source": [
    "####  <span style = \"color:red\">Código Original.</span>\n",
    "<!---\n",
    "plt.axis([0, 1.01, 0, 1.01])\n",
    "\n",
    "plt.xlabel('1 - Specificty')\n",
    "\n",
    "plt.ylabel('TPR(Sensitivity)')\n",
    "\n",
    "plt.title('ROC Curve')\n",
    "\n",
    "plt.plot(df_bal['fpr'],\n",
    "         df_bal['tpr']\n",
    "        )\n",
    "\n",
    "plt.plot(np.arange(0,1, \n",
    "                   step = 0.01\n",
    "                  ), \n",
    "         np.arange(0,1, \n",
    "                   step = 0.01\n",
    "                  )\n",
    "        )\n",
    "\n",
    "plt.show()\n",
    "-->"
   ]
  },
  {
   "cell_type": "code",
   "execution_count": null,
   "metadata": {},
   "outputs": [],
   "source": []
  },
  {
   "cell_type": "markdown",
   "metadata": {},
   "source": [
    "####  <span style = \"color:red\">Código Original.</span>\n",
    "<!---\n",
    "print(classification_report(test_target, \n",
    "                            y_pred\n",
    "                           )\n",
    "     )\n",
    "-->"
   ]
  },
  {
   "cell_type": "code",
   "execution_count": null,
   "metadata": {},
   "outputs": [],
   "source": []
  },
  {
   "cell_type": "markdown",
   "metadata": {},
   "source": [
    "#### SMOTE + Class Weight"
   ]
  },
  {
   "cell_type": "code",
   "execution_count": null,
   "metadata": {},
   "outputs": [],
   "source": []
  },
  {
   "cell_type": "markdown",
   "metadata": {},
   "source": [
    "####  <span style = \"color:red\">Código Original.</span>\n",
    "<!---\n",
    "print(x_train_res.shape)\n",
    "print(y_train_res.shape)\n",
    "-->"
   ]
  },
  {
   "cell_type": "code",
   "execution_count": null,
   "metadata": {},
   "outputs": [],
   "source": []
  },
  {
   "cell_type": "markdown",
   "metadata": {},
   "source": [
    "####  <span style = \"color:red\">Código Original.</span>\n",
    "<!---\n",
    "model = LogisticRegression(C = 1e10, \n",
    "                           max_iter = 2000,\n",
    "                           class_weight = 'balanced',\n",
    "                           solver = 'liblinear'                           \n",
    "                          )\n",
    "\n",
    "model.fit(x_train_res,\n",
    "          y_train_res\n",
    "         )\n",
    "-->"
   ]
  },
  {
   "cell_type": "code",
   "execution_count": null,
   "metadata": {},
   "outputs": [],
   "source": []
  },
  {
   "cell_type": "markdown",
   "metadata": {},
   "source": [
    "####  <span style = \"color:red\">Código Original.</span>\n",
    "<!---\n",
    "y_pred = model.predict(test_features)\n",
    "-->"
   ]
  },
  {
   "cell_type": "code",
   "execution_count": null,
   "metadata": {},
   "outputs": [],
   "source": []
  },
  {
   "cell_type": "markdown",
   "metadata": {},
   "source": [
    "####  <span style = \"color:red\">Código Original.</span>\n",
    "<!---\n",
    "roc_auc_score(test_target, \n",
    "              y_pred\n",
    "             )\n",
    "-->"
   ]
  },
  {
   "cell_type": "code",
   "execution_count": null,
   "metadata": {},
   "outputs": [],
   "source": []
  },
  {
   "cell_type": "markdown",
   "metadata": {},
   "source": [
    "####  <span style = \"color:red\">Código Original.</span>\n",
    "<!---\n",
    "fpr_log,tpr_log,thr_log = roc_curve(test_target, \n",
    "                                    y_pred\n",
    "                                   )\n",
    "-->"
   ]
  },
  {
   "cell_type": "code",
   "execution_count": null,
   "metadata": {},
   "outputs": [],
   "source": []
  },
  {
   "cell_type": "markdown",
   "metadata": {},
   "source": [
    "####  <span style = \"color:red\">Código Original.</span>\n",
    "<!---\n",
    "df_res = pd.DataFrame(dict(fpr = fpr_log, \n",
    "                       tpr = tpr_log, \n",
    "                       thr = thr_log\n",
    "                      )\n",
    "                 )\n",
    "-->"
   ]
  },
  {
   "cell_type": "code",
   "execution_count": null,
   "metadata": {},
   "outputs": [],
   "source": []
  },
  {
   "cell_type": "markdown",
   "metadata": {},
   "source": [
    "####  <span style = \"color:red\">Código Original.</span>\n",
    "<!---\n",
    "plt.axis([0, 1.01, 0, 1.01])\n",
    "\n",
    "plt.xlabel('1 - Specificty')\n",
    "\n",
    "plt.ylabel('TPR(Sensitivity)')\n",
    "\n",
    "plt.title('ROC Curve')\n",
    "\n",
    "plt.plot(df_res['fpr'],\n",
    "         df_res['tpr']\n",
    "        )\n",
    "\n",
    "plt.plot(np.arange(0,1, \n",
    "                   step = 0.01\n",
    "                  ), \n",
    "         np.arange(0,1, \n",
    "                   step = 0.01\n",
    "                  )\n",
    "        )\n",
    "\n",
    "plt.show()\n",
    "\n",
    "-->"
   ]
  },
  {
   "cell_type": "code",
   "execution_count": null,
   "metadata": {},
   "outputs": [],
   "source": []
  },
  {
   "cell_type": "markdown",
   "metadata": {},
   "source": [
    "####  <span style = \"color:red\">Código Original.</span>\n",
    "<!---\n",
    "print(classification_report(test_target, \n",
    "                            y_pred\n",
    "                           )\n",
    "     )\n",
    "-->"
   ]
  },
  {
   "cell_type": "code",
   "execution_count": null,
   "metadata": {},
   "outputs": [],
   "source": []
  },
  {
   "cell_type": "code",
   "execution_count": null,
   "metadata": {},
   "outputs": [],
   "source": []
  },
  {
   "cell_type": "code",
   "execution_count": null,
   "metadata": {},
   "outputs": [],
   "source": []
  },
  {
   "cell_type": "code",
   "execution_count": null,
   "metadata": {},
   "outputs": [],
   "source": []
  }
 ],
 "metadata": {
  "kernelspec": {
   "display_name": "Python 3",
   "language": "python",
   "name": "python3"
  },
  "language_info": {
   "codemirror_mode": {
    "name": "ipython",
    "version": 3
   },
   "file_extension": ".py",
   "mimetype": "text/x-python",
   "name": "python",
   "nbconvert_exporter": "python",
   "pygments_lexer": "ipython3",
   "version": "3.7.6"
  }
 },
 "nbformat": 4,
 "nbformat_minor": 4
}
