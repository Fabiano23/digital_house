{
  "nbformat": 4,
  "nbformat_minor": 0,
  "metadata": {
    "kernelspec": {
      "display_name": "Python 3",
      "language": "python",
      "name": "python3"
    },
    "language_info": {
      "codemirror_mode": {
        "name": "ipython",
        "version": 3
      },
      "file_extension": ".py",
      "mimetype": "text/x-python",
      "name": "python",
      "nbconvert_exporter": "python",
      "pygments_lexer": "ipython3",
      "version": "3.8.3"
    },
    "colab": {
      "name": "M4A57-PRATICA_GUIADA_DATA COMPRESSION II.ipynb",
      "provenance": [],
      "collapsed_sections": [
        "MDSSjqM70tgT",
        "ftQN2Mzx0tgT",
        "PvFLtMHS0tgU",
        "ylIt3y0j0tgV",
        "ZV8mpCQ60tgV",
        "4Jlow2V10tgW",
        "bZeTb8qm0tgX",
        "ZArxUcep0tgX",
        "y0Jy54SZ0tgY",
        "cRGB4oO00tgY",
        "XLaOWyIX0tgZ",
        "jRqBM-Yo0tgZ",
        "QCLrsowy0tgb",
        "Z10vprch0tgd",
        "nvmKUUK70tgf",
        "xAFH7s8M0tgf",
        "noWRuQOf0tgg",
        "iNiReN8m0tgi",
        "6dM7UFBY0tgk",
        "iVVuu9_l0tgl",
        "-uuD0z130tgq",
        "leakyAVI0tgr",
        "wqq1J5Nl0tgr",
        "PmLFnxR10tgs",
        "3199nMW80tgs",
        "F5lvgy0z0tgt",
        "nFxjl_hc0tgu",
        "saDlqvcq0tgv",
        "v7HgCppC0tgv",
        "2ujJ-GAP0tgx",
        "Yhub-rjl0tgx",
        "8PghQQIJ0tg6",
        "Au8yQUYB0tg7"
      ]
    }
  },
  "cells": [
    {
      "cell_type": "markdown",
      "metadata": {
        "id": "Un9sXbMK0tf5"
      },
      "source": [
        "# Prática Guiada: Técnicas para datasets desbalanceados."
      ]
    },
    {
      "cell_type": "markdown",
      "metadata": {
        "id": "omkra_K50tgF"
      },
      "source": [
        "#### O problema dos datasets desbalanceados é encontrado em uma ampla variedade de problemas de aprendizado de máquina, como a detecção de comentários feitos por meio de bots, o diagnóstico de doenças ou a busca por transações fraudulentas em um sistema.\n",
        "\n",
        "#### Existem duas abordagens principais para lidar com datasets que estão desbalanceados:\n",
        "\n",
        "    1. Fazer um resampling da amostra para treinar o algoritmo com proporções similares.\n",
        "    2. Incorporar o desbalanceamento na função de custos do algoritmo para que ele tenha incentivos para escolher os parâmetros que melhor discriminam a classe minoritária."
      ]
    },
    {
      "cell_type": "markdown",
      "metadata": {
        "id": "nb90X7E80tgH"
      },
      "source": [
        "## Classificação de dados desbalanceados\n",
        "\n",
        "#### A seguir, apresentamos um dataset da empresa americana Lending Club, que fornece serviços financeiros para diferentes segmentos. \n",
        "\n",
        "#### A seguir, vamos utilizar informação aberta do portal [lendingclub](https://www.lendingclub.com/) de empréstimos, para tentar prever quais dos créditos terminam em default. "
      ]
    },
    {
      "cell_type": "markdown",
      "metadata": {
        "id": "Uxm8v3kn0tgI"
      },
      "source": [
        "#### Para tanto, vamos importar as seguintes bibliotecas:\n",
        "\n",
        "- [`pandas`](https://pandas.pydata.org/docs/), para a manipulação dos dados.\n",
        "- [`seaborn`](https://seaborn.pydata.org/), para a visualização dos dados.\n",
        "- [`sklearn.model_selection.train_test_split`](https://scikit-learn.org/stable/modules/generated/sklearn.model_selection.train_test_split.html), para dividir nossos dados em subconjuntos aleatórios de treino e teste.\n",
        "\n",
        "- [`imblearn.over_sampling.SMOTE`](https://imbalanced-learn.readthedocs.io/en/stable/generated/imblearn.over_sampling.SMOTE.html), uma classe de funções para realizar uma re-amostragem usando o método Synthetic Minority Over-sampling Technique ([SMOTE](https://machinelearningmastery.com/smote-oversampling-for-imbalanced-classification/#:~:text=in%20their%202002%20paper%20named,a%20point%20along%20that%20line.)).\n",
        "\n",
        "- [`sklearn.utils`](https://scikit-learn.org/stable/modules/classes.html#module-sklearn.utils), com uma coleção de diferentes técnicas, de checagem e validação de dados de entrada à conversões e estimações."
      ]
    },
    {
      "cell_type": "code",
      "metadata": {
        "colab": {
          "base_uri": "https://localhost:8080/"
        },
        "id": "Ip09Y6VY0tgJ",
        "outputId": "1c3ebf45-b3f9-4dfa-a413-b4572bd52def"
      },
      "source": [
        "#!pip install imblearn -U\n",
        "import numpy as np\n",
        "import pandas as pd\n",
        "from sklearn.model_selection import train_test_split\n",
        "from imblearn.over_sampling import SMOTE\n",
        "import sklearn.utils"
      ],
      "execution_count": 1,
      "outputs": [
        {
          "output_type": "stream",
          "text": [
            "/usr/local/lib/python3.7/dist-packages/sklearn/externals/six.py:31: FutureWarning: The module is deprecated in version 0.21 and will be removed in version 0.23 since we've dropped support for Python 2.7. Please rely on the official version of six (https://pypi.org/project/six/).\n",
            "  \"(https://pypi.org/project/six/).\", FutureWarning)\n",
            "/usr/local/lib/python3.7/dist-packages/sklearn/utils/deprecation.py:144: FutureWarning: The sklearn.neighbors.base module is  deprecated in version 0.22 and will be removed in version 0.24. The corresponding classes / functions should instead be imported from sklearn.neighbors. Anything that cannot be imported from sklearn.neighbors is now part of the private API.\n",
            "  warnings.warn(message, FutureWarning)\n"
          ],
          "name": "stderr"
        }
      ]
    },
    {
      "cell_type": "markdown",
      "metadata": {
        "id": "dOjilMEa0tgK"
      },
      "source": [
        "####  <span style = \"color:red\">Código Original.</span>\n",
        "<!---\n",
        "import numpy as np\n",
        "import pandas as pd\n",
        "from sklearn.model_selection import train_test_split\n",
        "from imblearn.over_sampling import SMOTE\n",
        "import sklearn.utils\n",
        "-->"
      ]
    },
    {
      "cell_type": "markdown",
      "metadata": {
        "id": "N6YbTqXs0tgK"
      },
      "source": [
        "#### Inicialmente, vamos carregar os dados contidos no arquivo `loans.csv`, \n",
        "\n",
        "- 'grade', \n",
        "- 'home_ownership', \n",
        "- 'emp_length_num', \n",
        "- 'sub_grade', \n",
        "- 'short_emp',\n",
        "- 'dti', \n",
        "- 'term', \n",
        "- 'purpose', \n",
        "- 'int_rate', \n",
        "- 'last_delinq_none',\n",
        "- 'last_major_derog_none', \n",
        "- 'revol_util', \n",
        "- 'total_rec_late_fee',\n",
        "- 'payment_inc_ratio', \n",
        "- 'bad_loans'\n"
      ]
    },
    {
      "cell_type": "code",
      "metadata": {
        "colab": {
          "base_uri": "https://localhost:8080/",
          "height": 305
        },
        "id": "sq1hV5nr0tgL",
        "outputId": "f14da19a-5906-4ef9-b5d9-61295d711fcc"
      },
      "source": [
        "loans = pd.read_csv('loans.csv',\n",
        "                    low_memory = False\n",
        "                   )\n",
        "loans.head()"
      ],
      "execution_count": 2,
      "outputs": [
        {
          "output_type": "execute_result",
          "data": {
            "text/html": [
              "<div>\n",
              "<style scoped>\n",
              "    .dataframe tbody tr th:only-of-type {\n",
              "        vertical-align: middle;\n",
              "    }\n",
              "\n",
              "    .dataframe tbody tr th {\n",
              "        vertical-align: top;\n",
              "    }\n",
              "\n",
              "    .dataframe thead th {\n",
              "        text-align: right;\n",
              "    }\n",
              "</style>\n",
              "<table border=\"1\" class=\"dataframe\">\n",
              "  <thead>\n",
              "    <tr style=\"text-align: right;\">\n",
              "      <th></th>\n",
              "      <th>grade</th>\n",
              "      <th>home_ownership</th>\n",
              "      <th>emp_length_num</th>\n",
              "      <th>sub_grade</th>\n",
              "      <th>short_emp</th>\n",
              "      <th>dti</th>\n",
              "      <th>term</th>\n",
              "      <th>purpose</th>\n",
              "      <th>int_rate</th>\n",
              "      <th>last_delinq_none</th>\n",
              "      <th>last_major_derog_none</th>\n",
              "      <th>revol_util</th>\n",
              "      <th>total_rec_late_fee</th>\n",
              "      <th>payment_inc_ratio</th>\n",
              "      <th>bad_loans</th>\n",
              "    </tr>\n",
              "  </thead>\n",
              "  <tbody>\n",
              "    <tr>\n",
              "      <th>0</th>\n",
              "      <td>B</td>\n",
              "      <td>RENT</td>\n",
              "      <td>11</td>\n",
              "      <td>B2</td>\n",
              "      <td>0</td>\n",
              "      <td>27.65</td>\n",
              "      <td>36 months</td>\n",
              "      <td>credit_card</td>\n",
              "      <td>10.65</td>\n",
              "      <td>1</td>\n",
              "      <td>1</td>\n",
              "      <td>83.7</td>\n",
              "      <td>0.00</td>\n",
              "      <td>8.14350</td>\n",
              "      <td>0</td>\n",
              "    </tr>\n",
              "    <tr>\n",
              "      <th>1</th>\n",
              "      <td>C</td>\n",
              "      <td>RENT</td>\n",
              "      <td>1</td>\n",
              "      <td>C4</td>\n",
              "      <td>1</td>\n",
              "      <td>1.00</td>\n",
              "      <td>60 months</td>\n",
              "      <td>car</td>\n",
              "      <td>15.27</td>\n",
              "      <td>1</td>\n",
              "      <td>1</td>\n",
              "      <td>9.4</td>\n",
              "      <td>0.00</td>\n",
              "      <td>2.39320</td>\n",
              "      <td>1</td>\n",
              "    </tr>\n",
              "    <tr>\n",
              "      <th>2</th>\n",
              "      <td>C</td>\n",
              "      <td>RENT</td>\n",
              "      <td>11</td>\n",
              "      <td>C5</td>\n",
              "      <td>0</td>\n",
              "      <td>8.72</td>\n",
              "      <td>36 months</td>\n",
              "      <td>small_business</td>\n",
              "      <td>15.96</td>\n",
              "      <td>1</td>\n",
              "      <td>1</td>\n",
              "      <td>98.5</td>\n",
              "      <td>0.00</td>\n",
              "      <td>8.25955</td>\n",
              "      <td>0</td>\n",
              "    </tr>\n",
              "    <tr>\n",
              "      <th>3</th>\n",
              "      <td>C</td>\n",
              "      <td>RENT</td>\n",
              "      <td>11</td>\n",
              "      <td>C1</td>\n",
              "      <td>0</td>\n",
              "      <td>20.00</td>\n",
              "      <td>36 months</td>\n",
              "      <td>other</td>\n",
              "      <td>13.49</td>\n",
              "      <td>0</td>\n",
              "      <td>1</td>\n",
              "      <td>21.0</td>\n",
              "      <td>16.97</td>\n",
              "      <td>8.27585</td>\n",
              "      <td>0</td>\n",
              "    </tr>\n",
              "    <tr>\n",
              "      <th>4</th>\n",
              "      <td>A</td>\n",
              "      <td>RENT</td>\n",
              "      <td>4</td>\n",
              "      <td>A4</td>\n",
              "      <td>0</td>\n",
              "      <td>11.20</td>\n",
              "      <td>36 months</td>\n",
              "      <td>wedding</td>\n",
              "      <td>7.90</td>\n",
              "      <td>1</td>\n",
              "      <td>1</td>\n",
              "      <td>28.3</td>\n",
              "      <td>0.00</td>\n",
              "      <td>5.21533</td>\n",
              "      <td>0</td>\n",
              "    </tr>\n",
              "  </tbody>\n",
              "</table>\n",
              "</div>"
            ],
            "text/plain": [
              "  grade home_ownership  ...  payment_inc_ratio bad_loans\n",
              "0     B           RENT  ...            8.14350         0\n",
              "1     C           RENT  ...            2.39320         1\n",
              "2     C           RENT  ...            8.25955         0\n",
              "3     C           RENT  ...            8.27585         0\n",
              "4     A           RENT  ...            5.21533         0\n",
              "\n",
              "[5 rows x 15 columns]"
            ]
          },
          "metadata": {
            "tags": []
          },
          "execution_count": 2
        }
      ]
    },
    {
      "cell_type": "markdown",
      "metadata": {
        "id": "iTJehs-V0tgN"
      },
      "source": [
        "####  <span style = \"color:red\">Código Original.</span>\n",
        "<!---\n",
        "loans = pd.read_csv('loans.csv',\n",
        "                    low_memory = False\n",
        "                   )\n",
        "loans.head()\n",
        "-->"
      ]
    },
    {
      "cell_type": "markdown",
      "metadata": {
        "id": "qE3FoYA60tgO"
      },
      "source": [
        "## Análise exploratória\n",
        "\n",
        "### Balanço da classe.\n",
        "\n",
        "#### A classe que tentaremos prever é \"bad loans\", que indica se o empréstimo foi pago a tempo ou não. \n",
        "\n",
        "#### Fazendo uma contagem normalizada com o auxílio do método [`value_counts()`](https://pandas.pydata.org/pandas-docs/stable/reference/api/pandas.Series.value_counts.html), observamos que a classe está desbalanceada. Amaioria dos empréstimos são pagos a tempo."
      ]
    },
    {
      "cell_type": "code",
      "metadata": {
        "colab": {
          "base_uri": "https://localhost:8080/"
        },
        "id": "sLO-7fpa0tgO",
        "outputId": "01dbfd26-10d2-4ae0-e7e7-67c6a915d246"
      },
      "source": [
        "loans['bad_loans'].value_counts(normalize = True)"
      ],
      "execution_count": 3,
      "outputs": [
        {
          "output_type": "execute_result",
          "data": {
            "text/plain": [
              "0    0.811185\n",
              "1    0.188815\n",
              "Name: bad_loans, dtype: float64"
            ]
          },
          "metadata": {
            "tags": []
          },
          "execution_count": 3
        }
      ]
    },
    {
      "cell_type": "markdown",
      "metadata": {
        "id": "xMvBmp0Z0tgP"
      },
      "source": [
        "####  <span style = \"color:red\">Código Original.</span>\n",
        "<!---\n",
        "loans['bad_loans'].value_counts(normalize = True)\n",
        "-->"
      ]
    },
    {
      "cell_type": "markdown",
      "metadata": {
        "id": "Xyl0bh4V0tgQ"
      },
      "source": [
        "### Variáveis numéricas.\n",
        "\n",
        "#### Podemos encontrar as variáveis numéricas relevantes observando quais são as que têm maior correlação com a classe `bad_loans`."
      ]
    },
    {
      "cell_type": "code",
      "metadata": {
        "colab": {
          "base_uri": "https://localhost:8080/"
        },
        "id": "nXUPNJrZ0tgR",
        "outputId": "21b3cee3-738f-4336-ea87-5e8c5b4031fd"
      },
      "source": [
        "loans.corr()['bad_loans'].apply(abs).sort_values(ascending = False)"
      ],
      "execution_count": 4,
      "outputs": [
        {
          "output_type": "execute_result",
          "data": {
            "text/plain": [
              "bad_loans                1.000000\n",
              "int_rate                 0.227545\n",
              "revol_util               0.112548\n",
              "dti                      0.107652\n",
              "total_rec_late_fee       0.032719\n",
              "payment_inc_ratio        0.025879\n",
              "short_emp                0.019498\n",
              "emp_length_num           0.008342\n",
              "last_delinq_none         0.003466\n",
              "last_major_derog_none    0.002390\n",
              "Name: bad_loans, dtype: float64"
            ]
          },
          "metadata": {
            "tags": []
          },
          "execution_count": 4
        }
      ]
    },
    {
      "cell_type": "markdown",
      "metadata": {
        "id": "6vCEpJVy0tgR"
      },
      "source": [
        "####  <span style = \"color:red\">Código Original.</span>\n",
        "<!---\n",
        "loans.corr()['bad_loans'].apply(abs).sort_values(ascending = False)\n",
        "-->"
      ]
    },
    {
      "cell_type": "code",
      "metadata": {
        "colab": {
          "base_uri": "https://localhost:8080/",
          "height": 305
        },
        "id": "lY4LjSvn0tgS",
        "outputId": "4f702922-2f76-4606-ec4c-763ce897eceb"
      },
      "source": [
        "loans.head()"
      ],
      "execution_count": 5,
      "outputs": [
        {
          "output_type": "execute_result",
          "data": {
            "text/html": [
              "<div>\n",
              "<style scoped>\n",
              "    .dataframe tbody tr th:only-of-type {\n",
              "        vertical-align: middle;\n",
              "    }\n",
              "\n",
              "    .dataframe tbody tr th {\n",
              "        vertical-align: top;\n",
              "    }\n",
              "\n",
              "    .dataframe thead th {\n",
              "        text-align: right;\n",
              "    }\n",
              "</style>\n",
              "<table border=\"1\" class=\"dataframe\">\n",
              "  <thead>\n",
              "    <tr style=\"text-align: right;\">\n",
              "      <th></th>\n",
              "      <th>grade</th>\n",
              "      <th>home_ownership</th>\n",
              "      <th>emp_length_num</th>\n",
              "      <th>sub_grade</th>\n",
              "      <th>short_emp</th>\n",
              "      <th>dti</th>\n",
              "      <th>term</th>\n",
              "      <th>purpose</th>\n",
              "      <th>int_rate</th>\n",
              "      <th>last_delinq_none</th>\n",
              "      <th>last_major_derog_none</th>\n",
              "      <th>revol_util</th>\n",
              "      <th>total_rec_late_fee</th>\n",
              "      <th>payment_inc_ratio</th>\n",
              "      <th>bad_loans</th>\n",
              "    </tr>\n",
              "  </thead>\n",
              "  <tbody>\n",
              "    <tr>\n",
              "      <th>0</th>\n",
              "      <td>B</td>\n",
              "      <td>RENT</td>\n",
              "      <td>11</td>\n",
              "      <td>B2</td>\n",
              "      <td>0</td>\n",
              "      <td>27.65</td>\n",
              "      <td>36 months</td>\n",
              "      <td>credit_card</td>\n",
              "      <td>10.65</td>\n",
              "      <td>1</td>\n",
              "      <td>1</td>\n",
              "      <td>83.7</td>\n",
              "      <td>0.00</td>\n",
              "      <td>8.14350</td>\n",
              "      <td>0</td>\n",
              "    </tr>\n",
              "    <tr>\n",
              "      <th>1</th>\n",
              "      <td>C</td>\n",
              "      <td>RENT</td>\n",
              "      <td>1</td>\n",
              "      <td>C4</td>\n",
              "      <td>1</td>\n",
              "      <td>1.00</td>\n",
              "      <td>60 months</td>\n",
              "      <td>car</td>\n",
              "      <td>15.27</td>\n",
              "      <td>1</td>\n",
              "      <td>1</td>\n",
              "      <td>9.4</td>\n",
              "      <td>0.00</td>\n",
              "      <td>2.39320</td>\n",
              "      <td>1</td>\n",
              "    </tr>\n",
              "    <tr>\n",
              "      <th>2</th>\n",
              "      <td>C</td>\n",
              "      <td>RENT</td>\n",
              "      <td>11</td>\n",
              "      <td>C5</td>\n",
              "      <td>0</td>\n",
              "      <td>8.72</td>\n",
              "      <td>36 months</td>\n",
              "      <td>small_business</td>\n",
              "      <td>15.96</td>\n",
              "      <td>1</td>\n",
              "      <td>1</td>\n",
              "      <td>98.5</td>\n",
              "      <td>0.00</td>\n",
              "      <td>8.25955</td>\n",
              "      <td>0</td>\n",
              "    </tr>\n",
              "    <tr>\n",
              "      <th>3</th>\n",
              "      <td>C</td>\n",
              "      <td>RENT</td>\n",
              "      <td>11</td>\n",
              "      <td>C1</td>\n",
              "      <td>0</td>\n",
              "      <td>20.00</td>\n",
              "      <td>36 months</td>\n",
              "      <td>other</td>\n",
              "      <td>13.49</td>\n",
              "      <td>0</td>\n",
              "      <td>1</td>\n",
              "      <td>21.0</td>\n",
              "      <td>16.97</td>\n",
              "      <td>8.27585</td>\n",
              "      <td>0</td>\n",
              "    </tr>\n",
              "    <tr>\n",
              "      <th>4</th>\n",
              "      <td>A</td>\n",
              "      <td>RENT</td>\n",
              "      <td>4</td>\n",
              "      <td>A4</td>\n",
              "      <td>0</td>\n",
              "      <td>11.20</td>\n",
              "      <td>36 months</td>\n",
              "      <td>wedding</td>\n",
              "      <td>7.90</td>\n",
              "      <td>1</td>\n",
              "      <td>1</td>\n",
              "      <td>28.3</td>\n",
              "      <td>0.00</td>\n",
              "      <td>5.21533</td>\n",
              "      <td>0</td>\n",
              "    </tr>\n",
              "  </tbody>\n",
              "</table>\n",
              "</div>"
            ],
            "text/plain": [
              "  grade home_ownership  ...  payment_inc_ratio bad_loans\n",
              "0     B           RENT  ...            8.14350         0\n",
              "1     C           RENT  ...            2.39320         1\n",
              "2     C           RENT  ...            8.25955         0\n",
              "3     C           RENT  ...            8.27585         0\n",
              "4     A           RENT  ...            5.21533         0\n",
              "\n",
              "[5 rows x 15 columns]"
            ]
          },
          "metadata": {
            "tags": []
          },
          "execution_count": 5
        }
      ]
    },
    {
      "cell_type": "markdown",
      "metadata": {
        "id": "MDSSjqM70tgT"
      },
      "source": [
        "### Variáveis categóricas.\n",
        "\n",
        "#### Para fazer a mesma análise em variáveis categóricas, fazemos um `groupby()` por categoria para ver diferenças relevantes no número de créditos com default."
      ]
    },
    {
      "cell_type": "markdown",
      "metadata": {
        "id": "ftQN2Mzx0tgT"
      },
      "source": [
        "#### Testamos inicialmente o atributo `'home_ownership'`."
      ]
    },
    {
      "cell_type": "code",
      "metadata": {
        "colab": {
          "base_uri": "https://localhost:8080/"
        },
        "id": "fyY2wn030tgU",
        "outputId": "14480c13-311b-44a2-bfe1-98d6d6f34c95"
      },
      "source": [
        "loans.groupby('home_ownership')['bad_loans'].mean().sort_values(ascending = False)"
      ],
      "execution_count": 6,
      "outputs": [
        {
          "output_type": "execute_result",
          "data": {
            "text/plain": [
              "home_ownership\n",
              "OTHER       0.229050\n",
              "RENT        0.209484\n",
              "OWN         0.194609\n",
              "MORTGAGE    0.169142\n",
              "Name: bad_loans, dtype: float64"
            ]
          },
          "metadata": {
            "tags": []
          },
          "execution_count": 6
        }
      ]
    },
    {
      "cell_type": "markdown",
      "metadata": {
        "id": "PvFLtMHS0tgU"
      },
      "source": [
        "####  <span style = \"color:red\">Código Original.</span>\n",
        "<!---\n",
        "loans.groupby('home_ownership')['bad_loans'].mean().sort_values()\n",
        "-->"
      ]
    },
    {
      "cell_type": "markdown",
      "metadata": {
        "id": "ylIt3y0j0tgV"
      },
      "source": [
        "#### Testamos também o atributo `'term'`."
      ]
    },
    {
      "cell_type": "code",
      "metadata": {
        "colab": {
          "base_uri": "https://localhost:8080/"
        },
        "id": "WkqgTSTW0tgV",
        "outputId": "75886681-b9e4-4814-f50d-e58c9798de90"
      },
      "source": [
        "loans.groupby('term')['bad_loans'].mean().sort_values(ascending = False)"
      ],
      "execution_count": 7,
      "outputs": [
        {
          "output_type": "execute_result",
          "data": {
            "text/plain": [
              "term\n",
              " 60 months    0.303757\n",
              " 36 months    0.159661\n",
              "Name: bad_loans, dtype: float64"
            ]
          },
          "metadata": {
            "tags": []
          },
          "execution_count": 7
        }
      ]
    },
    {
      "cell_type": "markdown",
      "metadata": {
        "id": "ZV8mpCQ60tgV"
      },
      "source": [
        "####  <span style = \"color:red\">Código Original.</span>\n",
        "<!---\n",
        "loans.groupby('term')['bad_loans'].mean().sort_values()\n",
        "-->"
      ]
    },
    {
      "cell_type": "markdown",
      "metadata": {
        "id": "4Jlow2V10tgW"
      },
      "source": [
        "#### O atributo `'purpose'`."
      ]
    },
    {
      "cell_type": "code",
      "metadata": {
        "colab": {
          "base_uri": "https://localhost:8080/"
        },
        "id": "IHvdE5ZJ0tgW",
        "outputId": "1380da0d-6b5b-4153-f44b-17d1d3cb51ad"
      },
      "source": [
        "loans.groupby('purpose')['bad_loans'].mean().sort_values(ascending = False)"
      ],
      "execution_count": 8,
      "outputs": [
        {
          "output_type": "execute_result",
          "data": {
            "text/plain": [
              "purpose\n",
              "small_business        0.322304\n",
              "other                 0.220425\n",
              "moving                0.210169\n",
              "medical               0.206596\n",
              "debt_consolidation    0.195932\n",
              "vacation              0.187209\n",
              "house                 0.180100\n",
              "credit_card           0.159365\n",
              "home_improvement      0.159088\n",
              "wedding               0.152031\n",
              "major_purchase        0.141346\n",
              "car                   0.130526\n",
              "Name: bad_loans, dtype: float64"
            ]
          },
          "metadata": {
            "tags": []
          },
          "execution_count": 8
        }
      ]
    },
    {
      "cell_type": "markdown",
      "metadata": {
        "id": "bZeTb8qm0tgX"
      },
      "source": [
        "####  <span style = \"color:red\">Código Original.</span>\n",
        "<!---\n",
        "loans.groupby('purpose')['bad_loans'].mean().sort_values()\n",
        "-->"
      ]
    },
    {
      "cell_type": "markdown",
      "metadata": {
        "id": "ZArxUcep0tgX"
      },
      "source": [
        "### Valores faltantes.\n",
        "\n",
        "#### Podemos ainda inspecionar os valores faltantes."
      ]
    },
    {
      "cell_type": "code",
      "metadata": {
        "colab": {
          "base_uri": "https://localhost:8080/"
        },
        "id": "TBL3pYDi0tgX",
        "outputId": "3d2c987c-e9d8-4be5-d0ad-8bcd093f2158"
      },
      "source": [
        "loans.isnull().sum()"
      ],
      "execution_count": 9,
      "outputs": [
        {
          "output_type": "execute_result",
          "data": {
            "text/plain": [
              "grade                    0\n",
              "home_ownership           0\n",
              "emp_length_num           0\n",
              "sub_grade                0\n",
              "short_emp                0\n",
              "dti                      0\n",
              "term                     0\n",
              "purpose                  0\n",
              "int_rate                 0\n",
              "last_delinq_none         0\n",
              "last_major_derog_none    0\n",
              "revol_util               0\n",
              "total_rec_late_fee       0\n",
              "payment_inc_ratio        4\n",
              "bad_loans                0\n",
              "dtype: int64"
            ]
          },
          "metadata": {
            "tags": []
          },
          "execution_count": 9
        }
      ]
    },
    {
      "cell_type": "markdown",
      "metadata": {
        "id": "y0Jy54SZ0tgY"
      },
      "source": [
        "####  <span style = \"color:red\">Código Original.</span>\n",
        "<!---\n",
        "loans.isnull().sum()\n",
        "-->"
      ]
    },
    {
      "cell_type": "markdown",
      "metadata": {
        "id": "cRGB4oO00tgY"
      },
      "source": [
        "#### Notamos que a variável `'payment_inc_ratio'` tem  $4$ valores nulos e não mostra uma [correlação](https://statisticsbyjim.com/basics/correlations/#:~:text=Direction%3A%20The%20sign%20of%20the,upward%20slope%20on%20a%20scatterplot.) muito alta com a classe `'bad_loans'`.  \n",
        "\n",
        "#### Eliminamos, então, os valores com `'payment_inc_ratio'` desconhecido."
      ]
    },
    {
      "cell_type": "code",
      "metadata": {
        "colab": {
          "base_uri": "https://localhost:8080/"
        },
        "id": "hy-p-mUb0tgZ",
        "outputId": "49af77b2-eda3-4841-bc02-c05455158283"
      },
      "source": [
        "loans = loans[loans['payment_inc_ratio'].notnull()].copy()\n",
        "loans.isnull().sum()"
      ],
      "execution_count": 10,
      "outputs": [
        {
          "output_type": "execute_result",
          "data": {
            "text/plain": [
              "grade                    0\n",
              "home_ownership           0\n",
              "emp_length_num           0\n",
              "sub_grade                0\n",
              "short_emp                0\n",
              "dti                      0\n",
              "term                     0\n",
              "purpose                  0\n",
              "int_rate                 0\n",
              "last_delinq_none         0\n",
              "last_major_derog_none    0\n",
              "revol_util               0\n",
              "total_rec_late_fee       0\n",
              "payment_inc_ratio        0\n",
              "bad_loans                0\n",
              "dtype: int64"
            ]
          },
          "metadata": {
            "tags": []
          },
          "execution_count": 10
        }
      ]
    },
    {
      "cell_type": "markdown",
      "metadata": {
        "id": "XLaOWyIX0tgZ"
      },
      "source": [
        "####  <span style = \"color:red\">Código Original.</span>\n",
        "<!---\n",
        "loans = loans[loans['payment_inc_ratio'].notnull()].copy()\n",
        "#loans.isnull().sum()\n",
        "-->"
      ]
    },
    {
      "cell_type": "markdown",
      "metadata": {
        "id": "jRqBM-Yo0tgZ"
      },
      "source": [
        "#### Vamos gerar uma amostra dos dados."
      ]
    },
    {
      "cell_type": "code",
      "metadata": {
        "colab": {
          "base_uri": "https://localhost:8080/",
          "height": 0
        },
        "id": "xdamkj1m0tga",
        "outputId": "b40a6c68-160a-4fc0-b10a-ba3b981d61b7"
      },
      "source": [
        "loans.sample(10)"
      ],
      "execution_count": 11,
      "outputs": [
        {
          "output_type": "execute_result",
          "data": {
            "text/html": [
              "<div>\n",
              "<style scoped>\n",
              "    .dataframe tbody tr th:only-of-type {\n",
              "        vertical-align: middle;\n",
              "    }\n",
              "\n",
              "    .dataframe tbody tr th {\n",
              "        vertical-align: top;\n",
              "    }\n",
              "\n",
              "    .dataframe thead th {\n",
              "        text-align: right;\n",
              "    }\n",
              "</style>\n",
              "<table border=\"1\" class=\"dataframe\">\n",
              "  <thead>\n",
              "    <tr style=\"text-align: right;\">\n",
              "      <th></th>\n",
              "      <th>grade</th>\n",
              "      <th>home_ownership</th>\n",
              "      <th>emp_length_num</th>\n",
              "      <th>sub_grade</th>\n",
              "      <th>short_emp</th>\n",
              "      <th>dti</th>\n",
              "      <th>term</th>\n",
              "      <th>purpose</th>\n",
              "      <th>int_rate</th>\n",
              "      <th>last_delinq_none</th>\n",
              "      <th>last_major_derog_none</th>\n",
              "      <th>revol_util</th>\n",
              "      <th>total_rec_late_fee</th>\n",
              "      <th>payment_inc_ratio</th>\n",
              "      <th>bad_loans</th>\n",
              "    </tr>\n",
              "  </thead>\n",
              "  <tbody>\n",
              "    <tr>\n",
              "      <th>111237</th>\n",
              "      <td>D</td>\n",
              "      <td>RENT</td>\n",
              "      <td>9</td>\n",
              "      <td>D2</td>\n",
              "      <td>0</td>\n",
              "      <td>32.38</td>\n",
              "      <td>36 months</td>\n",
              "      <td>other</td>\n",
              "      <td>16.29</td>\n",
              "      <td>1</td>\n",
              "      <td>1</td>\n",
              "      <td>49.0</td>\n",
              "      <td>0.0</td>\n",
              "      <td>1.896060</td>\n",
              "      <td>0</td>\n",
              "    </tr>\n",
              "    <tr>\n",
              "      <th>85055</th>\n",
              "      <td>A</td>\n",
              "      <td>RENT</td>\n",
              "      <td>7</td>\n",
              "      <td>A1</td>\n",
              "      <td>0</td>\n",
              "      <td>11.53</td>\n",
              "      <td>36 months</td>\n",
              "      <td>debt_consolidation</td>\n",
              "      <td>6.03</td>\n",
              "      <td>1</td>\n",
              "      <td>1</td>\n",
              "      <td>21.0</td>\n",
              "      <td>0.0</td>\n",
              "      <td>4.509040</td>\n",
              "      <td>0</td>\n",
              "    </tr>\n",
              "    <tr>\n",
              "      <th>12050</th>\n",
              "      <td>C</td>\n",
              "      <td>RENT</td>\n",
              "      <td>11</td>\n",
              "      <td>C1</td>\n",
              "      <td>0</td>\n",
              "      <td>2.09</td>\n",
              "      <td>36 months</td>\n",
              "      <td>small_business</td>\n",
              "      <td>12.99</td>\n",
              "      <td>0</td>\n",
              "      <td>1</td>\n",
              "      <td>87.8</td>\n",
              "      <td>0.0</td>\n",
              "      <td>5.588220</td>\n",
              "      <td>0</td>\n",
              "    </tr>\n",
              "    <tr>\n",
              "      <th>11060</th>\n",
              "      <td>B</td>\n",
              "      <td>RENT</td>\n",
              "      <td>5</td>\n",
              "      <td>B4</td>\n",
              "      <td>0</td>\n",
              "      <td>20.12</td>\n",
              "      <td>36 months</td>\n",
              "      <td>debt_consolidation</td>\n",
              "      <td>11.49</td>\n",
              "      <td>1</td>\n",
              "      <td>1</td>\n",
              "      <td>83.8</td>\n",
              "      <td>0.0</td>\n",
              "      <td>2.094710</td>\n",
              "      <td>0</td>\n",
              "    </tr>\n",
              "    <tr>\n",
              "      <th>77615</th>\n",
              "      <td>B</td>\n",
              "      <td>MORTGAGE</td>\n",
              "      <td>3</td>\n",
              "      <td>B2</td>\n",
              "      <td>0</td>\n",
              "      <td>23.72</td>\n",
              "      <td>36 months</td>\n",
              "      <td>debt_consolidation</td>\n",
              "      <td>11.14</td>\n",
              "      <td>1</td>\n",
              "      <td>1</td>\n",
              "      <td>75.0</td>\n",
              "      <td>0.0</td>\n",
              "      <td>6.871200</td>\n",
              "      <td>1</td>\n",
              "    </tr>\n",
              "    <tr>\n",
              "      <th>39907</th>\n",
              "      <td>B</td>\n",
              "      <td>RENT</td>\n",
              "      <td>11</td>\n",
              "      <td>B2</td>\n",
              "      <td>0</td>\n",
              "      <td>7.89</td>\n",
              "      <td>36 months</td>\n",
              "      <td>credit_card</td>\n",
              "      <td>10.99</td>\n",
              "      <td>1</td>\n",
              "      <td>1</td>\n",
              "      <td>49.0</td>\n",
              "      <td>0.0</td>\n",
              "      <td>8.380000</td>\n",
              "      <td>0</td>\n",
              "    </tr>\n",
              "    <tr>\n",
              "      <th>100703</th>\n",
              "      <td>A</td>\n",
              "      <td>RENT</td>\n",
              "      <td>6</td>\n",
              "      <td>A2</td>\n",
              "      <td>0</td>\n",
              "      <td>20.16</td>\n",
              "      <td>36 months</td>\n",
              "      <td>other</td>\n",
              "      <td>6.62</td>\n",
              "      <td>1</td>\n",
              "      <td>1</td>\n",
              "      <td>33.6</td>\n",
              "      <td>0.0</td>\n",
              "      <td>5.308270</td>\n",
              "      <td>0</td>\n",
              "    </tr>\n",
              "    <tr>\n",
              "      <th>49944</th>\n",
              "      <td>D</td>\n",
              "      <td>RENT</td>\n",
              "      <td>2</td>\n",
              "      <td>D4</td>\n",
              "      <td>0</td>\n",
              "      <td>11.73</td>\n",
              "      <td>36 months</td>\n",
              "      <td>medical</td>\n",
              "      <td>19.52</td>\n",
              "      <td>0</td>\n",
              "      <td>1</td>\n",
              "      <td>86.0</td>\n",
              "      <td>0.0</td>\n",
              "      <td>0.699632</td>\n",
              "      <td>0</td>\n",
              "    </tr>\n",
              "    <tr>\n",
              "      <th>97097</th>\n",
              "      <td>A</td>\n",
              "      <td>MORTGAGE</td>\n",
              "      <td>11</td>\n",
              "      <td>A1</td>\n",
              "      <td>0</td>\n",
              "      <td>8.53</td>\n",
              "      <td>36 months</td>\n",
              "      <td>credit_card</td>\n",
              "      <td>6.03</td>\n",
              "      <td>1</td>\n",
              "      <td>1</td>\n",
              "      <td>25.2</td>\n",
              "      <td>0.0</td>\n",
              "      <td>9.518240</td>\n",
              "      <td>0</td>\n",
              "    </tr>\n",
              "    <tr>\n",
              "      <th>81378</th>\n",
              "      <td>D</td>\n",
              "      <td>MORTGAGE</td>\n",
              "      <td>4</td>\n",
              "      <td>D1</td>\n",
              "      <td>0</td>\n",
              "      <td>17.53</td>\n",
              "      <td>36 months</td>\n",
              "      <td>debt_consolidation</td>\n",
              "      <td>17.77</td>\n",
              "      <td>1</td>\n",
              "      <td>1</td>\n",
              "      <td>85.3</td>\n",
              "      <td>0.0</td>\n",
              "      <td>12.452100</td>\n",
              "      <td>0</td>\n",
              "    </tr>\n",
              "  </tbody>\n",
              "</table>\n",
              "</div>"
            ],
            "text/plain": [
              "       grade home_ownership  ...  payment_inc_ratio bad_loans\n",
              "111237     D           RENT  ...           1.896060         0\n",
              "85055      A           RENT  ...           4.509040         0\n",
              "12050      C           RENT  ...           5.588220         0\n",
              "11060      B           RENT  ...           2.094710         0\n",
              "77615      B       MORTGAGE  ...           6.871200         1\n",
              "39907      B           RENT  ...           8.380000         0\n",
              "100703     A           RENT  ...           5.308270         0\n",
              "49944      D           RENT  ...           0.699632         0\n",
              "97097      A       MORTGAGE  ...           9.518240         0\n",
              "81378      D       MORTGAGE  ...          12.452100         0\n",
              "\n",
              "[10 rows x 15 columns]"
            ]
          },
          "metadata": {
            "tags": []
          },
          "execution_count": 11
        }
      ]
    },
    {
      "cell_type": "markdown",
      "metadata": {
        "id": "QCLrsowy0tgb"
      },
      "source": [
        "####  <span style = \"color:red\">Código Original.</span>\n",
        "<!---\n",
        "loans.sample(10)\n",
        "-->"
      ]
    },
    {
      "cell_type": "markdown",
      "metadata": {
        "id": "tTIFe1bG0tgb"
      },
      "source": [
        "### Modelo Preditivo: regressão logística.\n",
        "\n",
        "#### Vamos usar Regressão Logística para prever a classe `'bad_loans'`. \n",
        "\n",
        "\n",
        "#### Mas primeiro precisamos gerar as variáveis `dummies` para os dados categóricos. Para isso vamos aplicar o método [`get_dummies()`](https://pandas.pydata.org/pandas-docs/stable/reference/api/pandas.get_dummies.html),  que converte as variáveis categórica para indicadores numéricos."
      ]
    },
    {
      "cell_type": "code",
      "metadata": {
        "colab": {
          "base_uri": "https://localhost:8080/"
        },
        "id": "LhDCrKwm0tgc",
        "outputId": "0ca18aeb-a972-47ce-d077-44381e005173"
      },
      "source": [
        "loans_enconded = pd.get_dummies(loans)\n",
        "loans_enconded.head()\n",
        "loans_enconded.columns\n",
        "#print(loans_enconded.shape)"
      ],
      "execution_count": 12,
      "outputs": [
        {
          "output_type": "execute_result",
          "data": {
            "text/plain": [
              "Index(['emp_length_num', 'short_emp', 'dti', 'int_rate', 'last_delinq_none',\n",
              "       'last_major_derog_none', 'revol_util', 'total_rec_late_fee',\n",
              "       'payment_inc_ratio', 'bad_loans', 'grade_A', 'grade_B', 'grade_C',\n",
              "       'grade_D', 'grade_E', 'grade_F', 'grade_G', 'home_ownership_MORTGAGE',\n",
              "       'home_ownership_OTHER', 'home_ownership_OWN', 'home_ownership_RENT',\n",
              "       'sub_grade_A1', 'sub_grade_A2', 'sub_grade_A3', 'sub_grade_A4',\n",
              "       'sub_grade_A5', 'sub_grade_B1', 'sub_grade_B2', 'sub_grade_B3',\n",
              "       'sub_grade_B4', 'sub_grade_B5', 'sub_grade_C1', 'sub_grade_C2',\n",
              "       'sub_grade_C3', 'sub_grade_C4', 'sub_grade_C5', 'sub_grade_D1',\n",
              "       'sub_grade_D2', 'sub_grade_D3', 'sub_grade_D4', 'sub_grade_D5',\n",
              "       'sub_grade_E1', 'sub_grade_E2', 'sub_grade_E3', 'sub_grade_E4',\n",
              "       'sub_grade_E5', 'sub_grade_F1', 'sub_grade_F2', 'sub_grade_F3',\n",
              "       'sub_grade_F4', 'sub_grade_F5', 'sub_grade_G1', 'sub_grade_G2',\n",
              "       'sub_grade_G3', 'sub_grade_G4', 'sub_grade_G5', 'term_ 36 months',\n",
              "       'term_ 60 months', 'purpose_car', 'purpose_credit_card',\n",
              "       'purpose_debt_consolidation', 'purpose_home_improvement',\n",
              "       'purpose_house', 'purpose_major_purchase', 'purpose_medical',\n",
              "       'purpose_moving', 'purpose_other', 'purpose_small_business',\n",
              "       'purpose_vacation', 'purpose_wedding'],\n",
              "      dtype='object')"
            ]
          },
          "metadata": {
            "tags": []
          },
          "execution_count": 12
        }
      ]
    },
    {
      "cell_type": "markdown",
      "metadata": {
        "id": "Z10vprch0tgd"
      },
      "source": [
        "####  <span style = \"color:red\">Código Original.</span>\n",
        "<!---\n",
        "loans_enconded = pd.get_dummies(loans)\n",
        "#loans_enconded.head()\n",
        "-->"
      ]
    },
    {
      "cell_type": "markdown",
      "metadata": {
        "id": "B1_DGTdM0tgd"
      },
      "source": [
        "#### Antes de aplicar o modelo de regressão, vamos ainda separar os dados originais em subconjuntos de treino e teste com o auxílio da função [`train_test_split()`](https://scikit-learn.org/stable/modules/generated/sklearn.model_selection.train_test_split.html), eliminando aqui o atributo `'bad_loans'`."
      ]
    },
    {
      "cell_type": "code",
      "metadata": {
        "id": "qAHYV_MZ0tge"
      },
      "source": [
        "training_features, test_features, \\\n",
        "training_target, test_target, = train_test_split(loans_enconded.drop(['bad_loans'], \n",
        "                                                                     axis = 1\n",
        "                                                                    ), \n",
        "                                                 loans_enconded['bad_loans'], \n",
        "                                                 test_size = .05, \n",
        "                                                 random_state = 12\n",
        "                                                ) "
      ],
      "execution_count": 13,
      "outputs": []
    },
    {
      "cell_type": "markdown",
      "metadata": {
        "id": "nvmKUUK70tgf"
      },
      "source": [
        "####  <span style = \"color:red\">Código Original.</span>\n",
        "<!---\n",
        "training_features, test_features, \\\n",
        "training_target, test_target, = train_test_split(loans_enconded.drop(['bad_loans'], axis=1),\n",
        "loans_enconded['bad_loans'],test_size = .1,random_state=12)\n",
        "-->"
      ]
    },
    {
      "cell_type": "markdown",
      "metadata": {
        "id": "xAFH7s8M0tgf"
      },
      "source": [
        "#### O último passo antes de realizarmos a regressão logística de nossos dados para a classificação de nossas observações passa por importar as bibliotecas:\n",
        "\n",
        "- [`sklearn.linear_model.LogisticRegression`](https://scikit-learn.org/stable/modules/generated/sklearn.linear_model.LogisticRegression.html), uma classe que implementa uma regressão logística regularizada.\n",
        "\n",
        "- [`sklearn.metrics.roc_auc_score`](https://scikit-learn.org/stable/modules/generated/sklearn.metrics.roc_auc_score.html), que computa a área sob a curva (Area under the Curve) `AUC` e Curva Característica de Operação do Receptor (Receiver Operating Characteristic Curve) `ROC`, a partir do `score` dos preditores.\n",
        "\n",
        "- [`sklearn.metrics.classification_report`](https://scikit-learn.org/stable/modules/generated/sklearn.metrics.classification_report.html), que constrói um relatório de texto, com as principais métricas de classificação."
      ]
    },
    {
      "cell_type": "code",
      "metadata": {
        "id": "NarOGj5B0tgg"
      },
      "source": [
        "from sklearn.linear_model import LogisticRegression\n",
        "from sklearn.metrics import roc_auc_score, classification_report"
      ],
      "execution_count": 14,
      "outputs": []
    },
    {
      "cell_type": "markdown",
      "metadata": {
        "id": "noWRuQOf0tgg"
      },
      "source": [
        "####  <span style = \"color:red\">Código Original.</span>\n",
        "<!---\n",
        "from sklearn.linear_model import LogisticRegression\n",
        "from sklearn.metrics import roc_auc_score, classification_report\n",
        "-->"
      ]
    },
    {
      "cell_type": "markdown",
      "metadata": {
        "id": "kqP2FGpX0tgg"
      },
      "source": [
        "#### Agora sim, vamos instanciar uma objeto `model` para receber o modelo de regressão logística e o ajustamos aos dados de treinamento com o método [`.fit()`](https://scikit-learn.org/stable/modules/generated/sklearn.linear_model.LogisticRegression.html#sklearn.linear_model.LogisticRegression.fit). \n",
        "\n",
        "#### Repare que a regressão leva o parâmetro `C` que opera como o inverso da força de regularização; devendo ser uma flutuação positiva, em que valores menores especificam uma regularização mais forte."
      ]
    },
    {
      "cell_type": "code",
      "metadata": {
        "colab": {
          "base_uri": "https://localhost:8080/"
        },
        "id": "u5-sM0B50tgh",
        "outputId": "3fe381fb-17d7-443a-d789-983ed122c8c0"
      },
      "source": [
        "#{‘newton-cg’, ‘lbfgs’, ‘liblinear’, ‘sag’, ‘saga’}\n",
        "model = LogisticRegression(C = 1e10, \n",
        "                           max_iter = 2000,\n",
        "                           solver = 'lbfgs'                           \n",
        "                          )\n",
        "\n",
        "model.fit(training_features, \n",
        "          training_target\n",
        "         )"
      ],
      "execution_count": 15,
      "outputs": [
        {
          "output_type": "execute_result",
          "data": {
            "text/plain": [
              "LogisticRegression(C=10000000000.0, class_weight=None, dual=False,\n",
              "                   fit_intercept=True, intercept_scaling=1, l1_ratio=None,\n",
              "                   max_iter=2000, multi_class='auto', n_jobs=None, penalty='l2',\n",
              "                   random_state=None, solver='lbfgs', tol=0.0001, verbose=0,\n",
              "                   warm_start=False)"
            ]
          },
          "metadata": {
            "tags": []
          },
          "execution_count": 15
        }
      ]
    },
    {
      "cell_type": "markdown",
      "metadata": {
        "id": "iNiReN8m0tgi"
      },
      "source": [
        "####  <span style = \"color:red\">Código Original.</span>\n",
        "<!---\n",
        "model = LogisticRegression(C = 1e10)\n",
        "model.fit(training_features, \n",
        "          training_target\n",
        "         )\n",
        "-->"
      ]
    },
    {
      "cell_type": "markdown",
      "metadata": {
        "id": "-S3HKS360tgj"
      },
      "source": [
        "#### Geramos nossas previsões dos rótulos para o subconjunto de teste com o método [`.predict()`](https://scikit-learn.org/stable/modules/generated/sklearn.linear_model.LogisticRegression.html#sklearn.linear_model.LogisticRegression.predict)."
      ]
    },
    {
      "cell_type": "code",
      "metadata": {
        "id": "0wBXh59b0tgj"
      },
      "source": [
        "y_pred = model.predict(test_features)"
      ],
      "execution_count": 16,
      "outputs": []
    },
    {
      "cell_type": "markdown",
      "metadata": {
        "id": "6dM7UFBY0tgk"
      },
      "source": [
        "####  <span style = \"color:red\">Código Original.</span>\n",
        "<!---\n",
        "y_pred = model.predict(test_features)\n",
        "-->"
      ]
    },
    {
      "cell_type": "markdown",
      "metadata": {
        "id": "2K0JZDhI0tgk"
      },
      "source": [
        "#### Vamos agora aplicar a função [`roc_auc_score()`](https://scikit-learn.org/stable/modules/generated/sklearn.metrics.roc_auc_score.html) aos subconjuntos de teste e de previsão, para entendermos o desempenho de nossa classificação binária."
      ]
    },
    {
      "cell_type": "code",
      "metadata": {
        "colab": {
          "base_uri": "https://localhost:8080/"
        },
        "id": "8s1y018a0tgk",
        "outputId": "ca531dcf-ea8a-43c8-e8c5-707b90afc70f"
      },
      "source": [
        "roc_auc_score(test_target, \n",
        "              y_pred\n",
        "             )"
      ],
      "execution_count": 17,
      "outputs": [
        {
          "output_type": "execute_result",
          "data": {
            "text/plain": [
              "0.5090886206281099"
            ]
          },
          "metadata": {
            "tags": []
          },
          "execution_count": 17
        }
      ]
    },
    {
      "cell_type": "markdown",
      "metadata": {
        "id": "iVVuu9_l0tgl"
      },
      "source": [
        "####  <span style = \"color:red\">Código Original.</span>\n",
        "<!---\n",
        "roc_auc_score(test_target,y_pred)\n",
        "-->"
      ]
    },
    {
      "cell_type": "markdown",
      "metadata": {
        "id": "3sUftHTf0tgo"
      },
      "source": [
        "#### Podemos ainda plotar a representação gráfica da curva ROC, comparando a sensitividade (TPR) e a especificidade do mesmo (1 – FPR), como fazemos a seguir."
      ]
    },
    {
      "cell_type": "code",
      "metadata": {
        "id": "KvJe0cBq0tgp"
      },
      "source": [
        "from sklearn.metrics import roc_curve\n",
        "fpr_log,tpr_log,thr_log = roc_curve(test_target, \n",
        "                                    y_pred\n",
        "                                   )"
      ],
      "execution_count": 18,
      "outputs": []
    },
    {
      "cell_type": "code",
      "metadata": {
        "id": "JhyEZBn60tgp"
      },
      "source": [
        "df = pd.DataFrame(dict(fpr = fpr_log, \n",
        "                       tpr = tpr_log, \n",
        "                       thr = thr_log\n",
        "                      )\n",
        "                 )"
      ],
      "execution_count": 19,
      "outputs": []
    },
    {
      "cell_type": "code",
      "metadata": {
        "colab": {
          "base_uri": "https://localhost:8080/",
          "height": 295
        },
        "id": "STr-_Sqw0tgp",
        "outputId": "9e53de91-8ffa-42e8-fe43-0bee7c72ebfd"
      },
      "source": [
        "import matplotlib.pyplot as plt\n",
        "plt.axis([0, 1.01, 0, 1.01])\n",
        "\n",
        "plt.xlabel('1 - Specificty')\n",
        "\n",
        "plt.ylabel('TPR(Sensitivity)')\n",
        "\n",
        "plt.title('ROC Curve')\n",
        "\n",
        "plt.plot(df['fpr'],\n",
        "         df['tpr']\n",
        "        )\n",
        "\n",
        "plt.plot(np.arange(0,1, \n",
        "                   step = 0.01\n",
        "                  ), \n",
        "         np.arange(0,1, \n",
        "                   step = 0.01\n",
        "                  )\n",
        "        )\n",
        "\n",
        "plt.show() "
      ],
      "execution_count": 20,
      "outputs": [
        {
          "output_type": "display_data",
          "data": {
            "image/png": "[encoded data removed]",
            "text/plain": [
              "<Figure size 432x288 with 1 Axes>"
            ]
          },
          "metadata": {
            "tags": [],
            "needs_background": "light"
          }
        }
      ]
    },
    {
      "cell_type": "markdown",
      "metadata": {
        "id": "-uuD0z130tgq"
      },
      "source": [
        "#### Quando avaliamos o modelo sobre dados não observados, a área sob a curva é muito próxima de 0.5. Especificamente, o recall na hora de encontrar \"maus créditos\" é muito ruim. Um dos problemas que temos para fazer um bom modelo é o desbalanceamento de dados. \n",
        "\n",
        "#### Vejamos a seguir o reporte da classificação [`classification_report()`](https://scikit-learn.org/stable/modules/generated/sklearn.metrics.classification_report.html), mostrando as métricas da mesma."
      ]
    },
    {
      "cell_type": "code",
      "metadata": {
        "colab": {
          "base_uri": "https://localhost:8080/"
        },
        "id": "LmEc7XTK0tgq",
        "outputId": "93a6185b-b36f-4279-e940-3588b7ad2059"
      },
      "source": [
        "print(classification_report(test_target,\n",
        "                            y_pred\n",
        "                           )\n",
        "     )"
      ],
      "execution_count": 21,
      "outputs": [
        {
          "output_type": "stream",
          "text": [
            "              precision    recall  f1-score   support\n",
            "\n",
            "           0       0.81      1.00      0.89      4958\n",
            "           1       0.53      0.02      0.04      1173\n",
            "\n",
            "    accuracy                           0.81      6131\n",
            "   macro avg       0.67      0.51      0.47      6131\n",
            "weighted avg       0.76      0.81      0.73      6131\n",
            "\n"
          ],
          "name": "stdout"
        }
      ]
    },
    {
      "cell_type": "markdown",
      "metadata": {
        "id": "leakyAVI0tgr"
      },
      "source": [
        "####  <span style = \"color:red\">Código Original.</span>\n",
        "<!---\n",
        "print(classification_report(test_target,\n",
        "                            y_pred\n",
        "                           )\n",
        "     )\n",
        "-->"
      ]
    },
    {
      "cell_type": "markdown",
      "metadata": {
        "id": "wqq1J5Nl0tgr"
      },
      "source": [
        "#### Vamos tentar duas soluções possíveis."
      ]
    },
    {
      "cell_type": "markdown",
      "metadata": {
        "id": "97CdBZEh0tgr"
      },
      "source": [
        "## Oversampling"
      ]
    },
    {
      "cell_type": "markdown",
      "metadata": {
        "id": "PmLFnxR10tgs"
      },
      "source": [
        "#### Para aumentar a representação da classe minoritária vamos fazer um oversampling usando o algoritmo [SMOTE](https://www.kite.com/blog/python/smote-python-imbalanced-learn-for-oversampling/) (Synthetic Minority Oversample) do pacote imblearn.\n",
        "\n",
        "#### Este algoritmo gera novos dados usando a técnica dos `k` vizinhos mais próximos. Para gerar um ponto novo:\n",
        "\n",
        "- É escolhido um ponto da classe minoritária ao acaso e seus `k` vizinhos mais próximos.\n",
        "- Um desses vizinhos é escolhido ao acaso.\n",
        "- O vetor é calculado entre o ponto e o vizinho selecionados ao acaso e multiplicado por um número aleatório entre $0$ e $1$.\n",
        "- O ponto aleatório dentro do vetor é o novo dado para o oversampling.\n",
        "\n",
        "####  Para cada observação que pertence à classe sub-representada, o algoritmo [`SMOTE()`](https://imbalanced-learn.readthedocs.io/en/stable/generated/imblearn.over_sampling.SMOTE.html#imblearn-over-sampling-smote) obtém seus `k` vizinhos mais próximos e sintetiza uma nova instância do rótulo minoritário em um local aleatório na linha entre a observação atual e o vizinho mais próximo. "
      ]
    },
    {
      "cell_type": "code",
      "metadata": {
        "colab": {
          "base_uri": "https://localhost:8080/"
        },
        "id": "K6yzcXlp0tgs",
        "outputId": "b048c689-4aa4-497b-da8c-dbc3effd9b37"
      },
      "source": [
        "sm = SMOTE(random_state = 12\n",
        "          )\n",
        "x_train_res, y_train_res = sm.fit_resample(training_features, \n",
        "                                         training_target\n",
        "                                        )\n",
        "\n",
        "print(training_features.shape)\n",
        "print(training_target.shape)\n",
        "print(x_train_res.shape)\n",
        "print(y_train_res.shape)"
      ],
      "execution_count": 22,
      "outputs": [
        {
          "output_type": "stream",
          "text": [
            "/usr/local/lib/python3.7/dist-packages/sklearn/utils/deprecation.py:87: FutureWarning: Function safe_indexing is deprecated; safe_indexing is deprecated in version 0.22 and will be removed in version 0.24.\n",
            "  warnings.warn(msg, category=FutureWarning)\n"
          ],
          "name": "stderr"
        },
        {
          "output_type": "stream",
          "text": [
            "(116472, 69)\n",
            "(116472,)\n",
            "(188990, 69)\n",
            "(188990,)\n"
          ],
          "name": "stdout"
        }
      ]
    },
    {
      "cell_type": "markdown",
      "metadata": {
        "id": "3199nMW80tgs"
      },
      "source": [
        "####  <span style = \"color:red\">Código Original.</span>\n",
        "<!---\n",
        "sm = SMOTE(random_state = 12\n",
        "          )\n",
        "x_train_res, y_train_res = sm.fit_sample(training_features, \n",
        "                                         training_target\n",
        "                                        )\n",
        "\n",
        "print(training_features.shape)\n",
        "print(training_target.shape)\n",
        "print(x_train_res.shape)\n",
        "print(y_train_res.shape)\n",
        "-->"
      ]
    },
    {
      "cell_type": "markdown",
      "metadata": {
        "id": "N6vtOPgq0tgt"
      },
      "source": [
        "#### Após repetirmos o processo de separação da reamostragem dos dados entre subconjuntos de treino e teste, fazemos um novo ajuste dos pontos com o método [`.fit()`](https://scikit-learn.org/stable/modules/generated/sklearn.linear_model.LogisticRegression.html#sklearn.linear_model.LogisticRegression.fit). "
      ]
    },
    {
      "cell_type": "code",
      "metadata": {
        "colab": {
          "base_uri": "https://localhost:8080/"
        },
        "id": "5FoHqOvV0tgt",
        "outputId": "7d561eac-935d-4e32-81a3-69be14862cb8"
      },
      "source": [
        "model = LogisticRegression(C = 1e10, \n",
        "                           max_iter = 2000,\n",
        "                           solver = 'liblinear'                           \n",
        "                          )\n",
        "\n",
        "model.fit(x_train_res,\n",
        "          y_train_res\n",
        "         )"
      ],
      "execution_count": 23,
      "outputs": [
        {
          "output_type": "execute_result",
          "data": {
            "text/plain": [
              "LogisticRegression(C=10000000000.0, class_weight=None, dual=False,\n",
              "                   fit_intercept=True, intercept_scaling=1, l1_ratio=None,\n",
              "                   max_iter=2000, multi_class='auto', n_jobs=None, penalty='l2',\n",
              "                   random_state=None, solver='liblinear', tol=0.0001, verbose=0,\n",
              "                   warm_start=False)"
            ]
          },
          "metadata": {
            "tags": []
          },
          "execution_count": 23
        }
      ]
    },
    {
      "cell_type": "markdown",
      "metadata": {
        "id": "F5lvgy0z0tgt"
      },
      "source": [
        "####  <span style = \"color:red\">Código Original.</span>\n",
        "<!---\n",
        "model = LogisticRegression(C = 1e10, \n",
        "                           max_iter = 2000,\n",
        "                           solver = 'liblinear'                           \n",
        "                          )\n",
        "\n",
        "model.fit(x_train_res,\n",
        "          y_train_res\n",
        "         )\n",
        "-->"
      ]
    },
    {
      "cell_type": "markdown",
      "metadata": {
        "id": "DPCGCBIn0tgt"
      },
      "source": [
        "#### E realizamos novas previsões com o método [`.predict()`](https://scikit-learn.org/stable/modules/generated/sklearn.linear_model.LogisticRegression.html#sklearn.linear_model.LogisticRegression.predict)."
      ]
    },
    {
      "cell_type": "code",
      "metadata": {
        "id": "dNu74qkD0tgu"
      },
      "source": [
        "y_pred = model.predict(test_features)"
      ],
      "execution_count": 24,
      "outputs": []
    },
    {
      "cell_type": "markdown",
      "metadata": {
        "id": "nFxjl_hc0tgu"
      },
      "source": [
        "####  <span style = \"color:red\">Código Original.</span>\n",
        "<!---\n",
        "y_pred = model.predict(test_features)\n",
        "-->"
      ]
    },
    {
      "cell_type": "markdown",
      "metadata": {
        "id": "CFWExyex0tgu"
      },
      "source": [
        "#### Aplicamos novamente a função [`roc_auc_score()`](https://scikit-learn.org/stable/modules/generated/sklearn.metrics.roc_auc_score.html) aos subconjuntos de teste e de previsão que incorreram em reamostragem e observamos novamente o desempenho de nossa classificação binária."
      ]
    },
    {
      "cell_type": "code",
      "metadata": {
        "colab": {
          "base_uri": "https://localhost:8080/"
        },
        "id": "iJZR8xVe0tgv",
        "outputId": "5fd079e0-aa82-4863-b013-fe9bf071697a"
      },
      "source": [
        "roc_auc_score(test_target, \n",
        "              y_pred\n",
        "             )"
      ],
      "execution_count": 25,
      "outputs": [
        {
          "output_type": "execute_result",
          "data": {
            "text/plain": [
              "0.6300682768503512"
            ]
          },
          "metadata": {
            "tags": []
          },
          "execution_count": 25
        }
      ]
    },
    {
      "cell_type": "markdown",
      "metadata": {
        "id": "saDlqvcq0tgv"
      },
      "source": [
        "####  <span style = \"color:red\">Código Original.</span>\n",
        "<!---\n",
        "roc_auc_score(test_target, \n",
        "              y_pred\n",
        "             )\n",
        "-->"
      ]
    },
    {
      "cell_type": "markdown",
      "metadata": {
        "id": "v7HgCppC0tgv"
      },
      "source": [
        "#### Podemos novamente plotar a representação gráfica da curva ROC, comparando a sensitividade (TPR) e a especificidade do mesmo (1 – FPR), fazendo:"
      ]
    },
    {
      "cell_type": "code",
      "metadata": {
        "id": "z1NhKYcI0tgv"
      },
      "source": [
        "fpr_log,tpr_log,thr_log = roc_curve(test_target, \n",
        "                                    y_pred\n",
        "                                   )"
      ],
      "execution_count": 26,
      "outputs": []
    },
    {
      "cell_type": "code",
      "metadata": {
        "id": "N7qh436Y0tgw"
      },
      "source": [
        "df_res = pd.DataFrame(dict(fpr = fpr_log, \n",
        "                       tpr = tpr_log, \n",
        "                       thr = thr_log\n",
        "                      )\n",
        "                 )"
      ],
      "execution_count": 27,
      "outputs": []
    },
    {
      "cell_type": "code",
      "metadata": {
        "colab": {
          "base_uri": "https://localhost:8080/",
          "height": 0
        },
        "id": "bvAhYlGy0tgw",
        "outputId": "67729cad-5121-4f58-d2a0-0172234a24bb"
      },
      "source": [
        "plt.axis([0, 1.01, 0, 1.01])\n",
        "\n",
        "plt.xlabel('1 - Specificty')\n",
        "\n",
        "plt.ylabel('TPR(Sensitivity)')\n",
        "\n",
        "plt.title('ROC Curve')\n",
        "\n",
        "plt.plot(df_res['fpr'],\n",
        "         df_res['tpr']\n",
        "        )\n",
        "\n",
        "plt.plot(np.arange(0,1, \n",
        "                   step = 0.01\n",
        "                  ), \n",
        "         np.arange(0,1, \n",
        "                   step = 0.01\n",
        "                  )\n",
        "        )\n",
        "\n",
        "plt.show()"
      ],
      "execution_count": 28,
      "outputs": [
        {
          "output_type": "display_data",
          "data": {
            "image/png": "[encoded data removed]",
            "text/plain": [
              "<Figure size 432x288 with 1 Axes>"
            ]
          },
          "metadata": {
            "tags": [],
            "needs_background": "light"
          }
        }
      ]
    },
    {
      "cell_type": "markdown",
      "metadata": {
        "id": "2ujJ-GAP0tgx"
      },
      "source": [
        "#### Reavaliando o modelo sobre dados não observados, a área sob a curva tem um melhora para 56% do total. Especificamente, o recall na hora de encontrar \"maus créditos\" sobe. \n",
        "\n",
        "#### Vejamos a seguir o reporte da classificação [`classification_report()`](https://scikit-learn.org/stable/modules/generated/sklearn.metrics.classification_report.html), mostrando as métricas da mesma."
      ]
    },
    {
      "cell_type": "code",
      "metadata": {
        "colab": {
          "base_uri": "https://localhost:8080/"
        },
        "id": "nNvts2B50tgx",
        "outputId": "535fb39b-b1c8-40c0-9098-f336340ee51d"
      },
      "source": [
        "print(classification_report(test_target, \n",
        "                            y_pred\n",
        "                           )\n",
        "     )"
      ],
      "execution_count": 29,
      "outputs": [
        {
          "output_type": "stream",
          "text": [
            "              precision    recall  f1-score   support\n",
            "\n",
            "           0       0.88      0.62      0.73      4958\n",
            "           1       0.28      0.64      0.39      1173\n",
            "\n",
            "    accuracy                           0.62      6131\n",
            "   macro avg       0.58      0.63      0.56      6131\n",
            "weighted avg       0.77      0.62      0.66      6131\n",
            "\n"
          ],
          "name": "stdout"
        }
      ]
    },
    {
      "cell_type": "markdown",
      "metadata": {
        "id": "Yhub-rjl0tgx"
      },
      "source": [
        "####  <span style = \"color:red\">Código Original.</span>\n",
        "<!---\n",
        "print(classification_report(test_target, \n",
        "                            y_pred\n",
        "                           )\n",
        "     )\n",
        "-->"
      ]
    },
    {
      "cell_type": "markdown",
      "metadata": {
        "id": "TU_noLbI0tgx"
      },
      "source": [
        "##  <span style = \"color:blue\">Prática Independente.</span>"
      ]
    },
    {
      "cell_type": "markdown",
      "metadata": {
        "id": "0941MvHj0tgy"
      },
      "source": [
        "# Class Weights\n",
        "\n",
        "#### A outra técnica que podemos usar para corrigir o desbalanceamento dos dados é incorporar na função de custos do algoritmo um peso maior para os erros de treinamento cometidos nos pontos da classe minoritária.\n",
        "\n",
        "#### Implemente a Regressão Logística com o parâmetro `class_weight`, que mude a ponderação das classes. Ajuste novamente o modelo, faça novas previsões e aplice o conceito de curva `ROC` aos seus resultados. Plote também o gráfico da curva `ROC` e estude o relatório da classificação.\n",
        "\n",
        "#### Discuta como é o desempenho do novo modelo em relação à regressão logística original.  Faz sentido aplicar esta correção junto com o algoritmo `SMOTE`?"
      ]
    },
    {
      "cell_type": "code",
      "metadata": {
        "id": "XpanjTVc0tgy"
      },
      "source": [
        "#Instanciando o modelo indicando o parâmetro class weight\n",
        "model = LogisticRegression(C = 1e10, \n",
        "                           max_iter = 2000,\n",
        "                           solver = 'liblinear',\n",
        "                           class_weight='balanced'\n",
        "                          )"
      ],
      "execution_count": 30,
      "outputs": []
    },
    {
      "cell_type": "markdown",
      "metadata": {
        "id": "QIgSzK_L0tgy"
      },
      "source": [
        "####  <span style = \"color:red\">Código Original.</span>\n",
        "<!---\n",
        "model = LogisticRegression(C = 1e10, \n",
        "                           class_weight = 'balanced'\n",
        "                          )\n",
        "-->"
      ]
    },
    {
      "cell_type": "code",
      "metadata": {
        "colab": {
          "base_uri": "https://localhost:8080/"
        },
        "id": "iWfzcpGW0tgz",
        "outputId": "36a62401-1188-4a56-d58a-e1eaf1196d2c"
      },
      "source": [
        "#Ajustando modelo no dataset desbalanceado\n",
        "model.fit(training_features, \n",
        "         training_target)"
      ],
      "execution_count": 31,
      "outputs": [
        {
          "output_type": "execute_result",
          "data": {
            "text/plain": [
              "LogisticRegression(C=10000000000.0, class_weight='balanced', dual=False,\n",
              "                   fit_intercept=True, intercept_scaling=1, l1_ratio=None,\n",
              "                   max_iter=2000, multi_class='auto', n_jobs=None, penalty='l2',\n",
              "                   random_state=None, solver='liblinear', tol=0.0001, verbose=0,\n",
              "                   warm_start=False)"
            ]
          },
          "metadata": {
            "tags": []
          },
          "execution_count": 31
        }
      ]
    },
    {
      "cell_type": "markdown",
      "metadata": {
        "id": "eyb8fue10tgz"
      },
      "source": [
        "####  <span style = \"color:red\">Código Original.</span>\n",
        "<!---\n",
        "model.fit(training_features, \n",
        "          training_target\n",
        "         )\n",
        "-->"
      ]
    },
    {
      "cell_type": "code",
      "metadata": {
        "id": "JPNFzSoY0tgz"
      },
      "source": [
        "#Predições\n",
        "y_pred = model.predict(test_features)"
      ],
      "execution_count": 32,
      "outputs": []
    },
    {
      "cell_type": "code",
      "metadata": {
        "colab": {
          "base_uri": "https://localhost:8080/"
        },
        "id": "1Cginqmc_-BQ",
        "outputId": "3bd38b54-db1a-4b73-d4ea-a36b182b0f63"
      },
      "source": [
        "#Score\n",
        "roc_auc_score(test_target, \n",
        "              y_pred\n",
        "             )"
      ],
      "execution_count": 33,
      "outputs": [
        {
          "output_type": "execute_result",
          "data": {
            "text/plain": [
              "0.6313106823661467"
            ]
          },
          "metadata": {
            "tags": []
          },
          "execution_count": 33
        }
      ]
    },
    {
      "cell_type": "markdown",
      "metadata": {
        "id": "94gduI750tgz"
      },
      "source": [
        "####  <span style = \"color:red\">Código Original.</span>\n",
        "<!---\n",
        "y_pred = model.predict(test_features)\n",
        "-->"
      ]
    },
    {
      "cell_type": "code",
      "metadata": {
        "id": "1sy1e2JE0tg0"
      },
      "source": [
        "#Proporção de acerto e erro de cada combinação predito/verdadeiro possível\n",
        "fpr_log,tpr_log,thr_log = roc_curve(test_target, \n",
        "                                    y_pred\n",
        "                                   )"
      ],
      "execution_count": 34,
      "outputs": []
    },
    {
      "cell_type": "markdown",
      "metadata": {
        "id": "J2qobayd0tg0"
      },
      "source": [
        "####  <span style = \"color:red\">Código Original.</span>\n",
        "<!---\n",
        "roc_auc_score(test_target, \n",
        "              y_pred\n",
        "             )\n",
        "-->"
      ]
    },
    {
      "cell_type": "code",
      "metadata": {
        "id": "xmQ78A6h0tg0"
      },
      "source": [
        "#Dataframe com as combinações acima\n",
        "df = pd.DataFrame(dict(fpr = fpr_log, \n",
        "                       tpr = tpr_log, \n",
        "                       thr = thr_log\n",
        "                      )\n",
        "                 )"
      ],
      "execution_count": 35,
      "outputs": []
    },
    {
      "cell_type": "markdown",
      "metadata": {
        "id": "I9RT7xTW0tg1"
      },
      "source": [
        "####  <span style = \"color:red\">Código Original.</span>\n",
        "<!---\n",
        "fpr_log,tpr_log,thr_log = roc_curve(test_target, \n",
        "                                    y_pred\n",
        "                                   )\n",
        "-->"
      ]
    },
    {
      "cell_type": "code",
      "metadata": {
        "colab": {
          "base_uri": "https://localhost:8080/",
          "height": 295
        },
        "id": "BcdVdk6F0tg1",
        "outputId": "2158674a-6351-4088-c730-d5885fcaa698"
      },
      "source": [
        "#Curva ROC\n",
        "plt.axis([0, 1.01, 0, 1.01])\n",
        "\n",
        "plt.xlabel('1 - Specificty')\n",
        "\n",
        "plt.ylabel('TPR(Sensitivity)')\n",
        "\n",
        "plt.title('ROC Curve')\n",
        "\n",
        "plt.plot(df['fpr'],\n",
        "         df['tpr']\n",
        "        )\n",
        "\n",
        "plt.plot(np.arange(0,1, \n",
        "                   step = 0.01\n",
        "                  ), \n",
        "         np.arange(0,1, \n",
        "                   step = 0.01\n",
        "                  )\n",
        "        )\n",
        "\n",
        "plt.show() "
      ],
      "execution_count": 36,
      "outputs": [
        {
          "output_type": "display_data",
          "data": {
            "image/png": "[encoded data removed]",
            "text/plain": [
              "<Figure size 432x288 with 1 Axes>"
            ]
          },
          "metadata": {
            "tags": [],
            "needs_background": "light"
          }
        }
      ]
    },
    {
      "cell_type": "markdown",
      "metadata": {
        "id": "o559fHOi_MlJ"
      },
      "source": [
        "Vemos que temos de fato uma melhora considerável na assertividade modelo ao utilizar o parâmetro class weight pra levar em conta o desbalanceamento das classes. \n",
        "\n",
        "Se faz sentido utilizá-lo com o SMOTE, ao meu ver não: já que o parâmetro está levando em conta justamente em consideração que há uma diferença grande de quantidade entre as duas classes. O SMOTE faz justamente o contrário, isto é, cria dados sintéticos como resolução deste problema.\n",
        "\n",
        "Porém, vamos aplicar o mesmo processo do class weight com o SMOTE e empiricamente entendermos como o modelo se comporta em suas previsões e performance."
      ]
    },
    {
      "cell_type": "markdown",
      "metadata": {
        "id": "jpkNvSp40tg1"
      },
      "source": [
        "####  <span style = \"color:red\">Código Original.</span>\n",
        "<!---\n",
        "df_bal = pd.DataFrame(dict(fpr = fpr_log, \n",
        "                       tpr = tpr_log, \n",
        "                       thr = thr_log\n",
        "                      )\n",
        "                 )\n",
        "-->"
      ]
    },
    {
      "cell_type": "markdown",
      "metadata": {
        "id": "_TDYGm9t0tg2"
      },
      "source": [
        "####  <span style = \"color:red\">Código Original.</span>\n",
        "<!---\n",
        "plt.axis([0, 1.01, 0, 1.01])\n",
        "\n",
        "plt.xlabel('1 - Specificty')\n",
        "\n",
        "plt.ylabel('TPR(Sensitivity)')\n",
        "\n",
        "plt.title('ROC Curve')\n",
        "\n",
        "plt.plot(df_bal['fpr'],\n",
        "         df_bal['tpr']\n",
        "        )\n",
        "\n",
        "plt.plot(np.arange(0,1, \n",
        "                   step = 0.01\n",
        "                  ), \n",
        "         np.arange(0,1, \n",
        "                   step = 0.01\n",
        "                  )\n",
        "        )\n",
        "\n",
        "plt.show()\n",
        "-->"
      ]
    },
    {
      "cell_type": "markdown",
      "metadata": {
        "id": "hC6caPyi0tg2"
      },
      "source": [
        "####  <span style = \"color:red\">Código Original.</span>\n",
        "<!---\n",
        "print(classification_report(test_target, \n",
        "                            y_pred\n",
        "                           )\n",
        "     )\n",
        "-->"
      ]
    },
    {
      "cell_type": "markdown",
      "metadata": {
        "id": "pbX0EJCJ0tg3"
      },
      "source": [
        "#### SMOTE + Class Weight"
      ]
    },
    {
      "cell_type": "code",
      "metadata": {
        "id": "b6QPRB3g0tg3"
      },
      "source": [
        "#Instanciado modelo com parâmetro peso das classes\n",
        "model = LogisticRegression(C = 1e10, \n",
        "                           max_iter = 2000,\n",
        "                           solver = 'liblinear', \n",
        "                           class_weight='balanced')"
      ],
      "execution_count": 51,
      "outputs": []
    },
    {
      "cell_type": "markdown",
      "metadata": {
        "id": "lDGSZG520tg3"
      },
      "source": [
        "####  <span style = \"color:red\">Código Original.</span>\n",
        "<!---\n",
        "print(x_train_res.shape)\n",
        "print(y_train_res.shape)\n",
        "-->"
      ]
    },
    {
      "cell_type": "code",
      "metadata": {
        "colab": {
          "base_uri": "https://localhost:8080/"
        },
        "id": "8ElqdOye0tg3",
        "outputId": "a937556d-6a88-4f49-8218-05e8439426e6"
      },
      "source": [
        "#Ajustando novo modelo com os dados balanceados\n",
        "model.fit(x_train_res,\n",
        "          y_train_res\n",
        "         )"
      ],
      "execution_count": 52,
      "outputs": [
        {
          "output_type": "execute_result",
          "data": {
            "text/plain": [
              "LogisticRegression(C=10000000000.0, class_weight='balanced', dual=False,\n",
              "                   fit_intercept=True, intercept_scaling=1, l1_ratio=None,\n",
              "                   max_iter=2000, multi_class='auto', n_jobs=None, penalty='l2',\n",
              "                   random_state=None, solver='liblinear', tol=0.0001, verbose=0,\n",
              "                   warm_start=False)"
            ]
          },
          "metadata": {
            "tags": []
          },
          "execution_count": 52
        }
      ]
    },
    {
      "cell_type": "markdown",
      "metadata": {
        "id": "ZFHG8DFo0tg4"
      },
      "source": [
        "####  <span style = \"color:red\">Código Original.</span>\n",
        "<!---\n",
        "model = LogisticRegression(C = 1e10, \n",
        "                           max_iter = 2000,\n",
        "                           class_weight = 'balanced',\n",
        "                           solver = 'liblinear'                           \n",
        "                          )\n",
        "\n",
        "model.fit(x_train_res,\n",
        "          y_train_res\n",
        "         )\n",
        "-->"
      ]
    },
    {
      "cell_type": "code",
      "metadata": {
        "id": "SDQT5MKl0tg4"
      },
      "source": [
        "#Predições\n",
        "y_pred = model.predict(test_features)"
      ],
      "execution_count": 53,
      "outputs": []
    },
    {
      "cell_type": "markdown",
      "metadata": {
        "id": "1UEOe9do0tg4"
      },
      "source": [
        "####  <span style = \"color:red\">Código Original.</span>\n",
        "<!---\n",
        "y_pred = model.predict(test_features)\n",
        "-->"
      ]
    },
    {
      "cell_type": "code",
      "metadata": {
        "colab": {
          "base_uri": "https://localhost:8080/"
        },
        "id": "4fI3KOea0tg4",
        "outputId": "579b2f93-532b-45da-d6a8-f1a3376d7fed"
      },
      "source": [
        "#Score\n",
        "roc_auc_score(test_target, \n",
        "              y_pred\n",
        "             )"
      ],
      "execution_count": 54,
      "outputs": [
        {
          "output_type": "execute_result",
          "data": {
            "text/plain": [
              "0.6300682768503512"
            ]
          },
          "metadata": {
            "tags": []
          },
          "execution_count": 54
        }
      ]
    },
    {
      "cell_type": "markdown",
      "metadata": {
        "id": "zFup_ngN0tg5"
      },
      "source": [
        "####  <span style = \"color:red\">Código Original.</span>\n",
        "<!---\n",
        "roc_auc_score(test_target, \n",
        "              y_pred\n",
        "             )\n",
        "-->"
      ]
    },
    {
      "cell_type": "code",
      "metadata": {
        "id": "6KkSc9og0tg5"
      },
      "source": [
        "#Proporção de acerto e erro de combinações predito/verdadeiro possíveis\n",
        "fpr_log,tpr_log,thr_log = roc_curve(test_target, \n",
        "                                    y_pred\n",
        "                                   )"
      ],
      "execution_count": 55,
      "outputs": []
    },
    {
      "cell_type": "markdown",
      "metadata": {
        "id": "LsfGl-pH0tg5"
      },
      "source": [
        "####  <span style = \"color:red\">Código Original.</span>\n",
        "<!---\n",
        "fpr_log,tpr_log,thr_log = roc_curve(test_target, \n",
        "                                    y_pred\n",
        "                                   )\n",
        "-->"
      ]
    },
    {
      "cell_type": "code",
      "metadata": {
        "id": "fc3Z0HED0tg6"
      },
      "source": [
        "#Dataframe com as combinações acima\n",
        "df = pd.DataFrame(dict(fpr = fpr_log, \n",
        "                       tpr = tpr_log, \n",
        "                       thr = thr_log\n",
        "                      )\n",
        "                 )"
      ],
      "execution_count": 56,
      "outputs": []
    },
    {
      "cell_type": "markdown",
      "metadata": {
        "id": "ofjmgzuV0tg6"
      },
      "source": [
        "####  <span style = \"color:red\">Código Original.</span>\n",
        "<!---\n",
        "df_res = pd.DataFrame(dict(fpr = fpr_log, \n",
        "                       tpr = tpr_log, \n",
        "                       thr = thr_log\n",
        "                      )\n",
        "                 )\n",
        "-->"
      ]
    },
    {
      "cell_type": "code",
      "metadata": {
        "colab": {
          "base_uri": "https://localhost:8080/",
          "height": 295
        },
        "id": "t203I-Do0tg6",
        "outputId": "63e1ca44-2156-4fb2-aa44-b08451c551c2"
      },
      "source": [
        "#Curva ROC\n",
        "plt.axis([0, 1.01, 0, 1.01])\n",
        "\n",
        "plt.xlabel('1 - Specificty')\n",
        "\n",
        "plt.ylabel('TPR(Sensitivity)')\n",
        "\n",
        "plt.title('ROC Curve')\n",
        "\n",
        "plt.plot(df['fpr'],\n",
        "         df['tpr']\n",
        "        )\n",
        "\n",
        "plt.plot(np.arange(0,1, \n",
        "                   step = 0.01\n",
        "                  ), \n",
        "         np.arange(0,1, \n",
        "                   step = 0.01\n",
        "                  )\n",
        "        )\n",
        "\n",
        "plt.show() "
      ],
      "execution_count": 57,
      "outputs": [
        {
          "output_type": "display_data",
          "data": {
            "image/png": "[encoded data removed]",
            "text/plain": [
              "<Figure size 432x288 with 1 Axes>"
            ]
          },
          "metadata": {
            "tags": [],
            "needs_background": "light"
          }
        }
      ]
    },
    {
      "cell_type": "markdown",
      "metadata": {
        "id": "E_fBh15WBd8Y"
      },
      "source": [
        "O nosso score e a nossa curva roc são bem próximas: não houveram melhoras significativas. O que nos leva a compreender que a nossa hipótese inicial faz sentido: não há necessidade de aplicar o parâmetro que leva em conta o desbalanceamento das classes se houve a criação de dados a partir da técnica SMOTE de criação de mais dados da classe minoritária. Neste caso, os dois são técnicas diferentes e devem ser escolhidos e pensados de acordo com os dados que se tem em mãos. "
      ]
    },
    {
      "cell_type": "markdown",
      "metadata": {
        "id": "8PghQQIJ0tg6"
      },
      "source": [
        "####  <span style = \"color:red\">Código Original.</span>\n",
        "<!---\n",
        "plt.axis([0, 1.01, 0, 1.01])\n",
        "\n",
        "plt.xlabel('1 - Specificty')\n",
        "\n",
        "plt.ylabel('TPR(Sensitivity)')\n",
        "\n",
        "plt.title('ROC Curve')\n",
        "\n",
        "plt.plot(df_res['fpr'],\n",
        "         df_res['tpr']\n",
        "        )\n",
        "\n",
        "plt.plot(np.arange(0,1, \n",
        "                   step = 0.01\n",
        "                  ), \n",
        "         np.arange(0,1, \n",
        "                   step = 0.01\n",
        "                  )\n",
        "        )\n",
        "\n",
        "plt.show()\n",
        "\n",
        "-->"
      ]
    },
    {
      "cell_type": "code",
      "metadata": {
        "id": "61K0b1-G0tg7"
      },
      "source": [
        ""
      ],
      "execution_count": 43,
      "outputs": []
    },
    {
      "cell_type": "markdown",
      "metadata": {
        "id": "Au8yQUYB0tg7"
      },
      "source": [
        "####  <span style = \"color:red\">Código Original.</span>\n",
        "<!---\n",
        "print(classification_report(test_target, \n",
        "                            y_pred\n",
        "                           )\n",
        "     )\n",
        "-->"
      ]
    },
    {
      "cell_type": "code",
      "metadata": {
        "id": "rgpoXSv_0tg7"
      },
      "source": [
        ""
      ],
      "execution_count": 43,
      "outputs": []
    }
  ]
}