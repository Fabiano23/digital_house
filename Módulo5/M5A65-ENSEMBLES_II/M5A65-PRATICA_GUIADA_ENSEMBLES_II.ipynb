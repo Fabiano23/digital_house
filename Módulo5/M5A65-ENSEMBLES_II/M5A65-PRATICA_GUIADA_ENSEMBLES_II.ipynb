{
 "cells": [
  {
   "cell_type": "markdown",
   "metadata": {},
   "source": [
    "<img src=\"imgs/dh_logo.png\" align=\"right\" width=\"50%\">"
   ]
  },
  {
   "cell_type": "markdown",
   "metadata": {},
   "source": [
    "-------------\n",
    "\n",
    "# Hiper-parâmetros da Random Forest\n",
    "\n",
    "#### O [`scikit`]() possui duas implementações de Random Forest: [`RandomForestClassifier`](https://scikit-learn.org/stable/modules/generated/sklearn.ensemble.RandomForestClassifier.html) and [`RandomForestRegressor`](https://scikit-learn.org/stable/modules/generated/sklearn.ensemble.RandomForestRegressor.html).\n",
    "\n",
    "### Para regressão os Hiperparâmetros são os seguintes:\n",
    "\n",
    "   - `n_estimators` — O número de árvores na floresta (default = 10);\n",
    "   \n",
    "   - `criterion` — A função usada para medir a qualidade de uma divisão. Os critérios suportados são \"mse\" para o erro quadrático médio, que é igual à redução da variância como critério de seleção de recurso, e \"mae\" para o erro absoluto médio (padrão = \"mse\");\n",
    "   \n",
    "   - `max_features` — O número de recursos a serem considerados ao procurar a melhor divisão. Você pode especificar o número ou porcentagem de recursos, ou escolher entre os valores disponíveis: \"auto\" (todos os recursos), \"sqrt\", \"log2\". (default = \"auto\");\n",
    "   \n",
    "   -  `max_depth` — A profundidade máxima da árvore. o padrão significa que os nós são expandidos até que todas as folhas sejam puras ou até que todas as folhas contenham menos do que `min_samples_split` samples;\n",
    "     \n",
    "   -  `min_samples_split` — O número mínimo de amostras necessárias para dividir um nó interno. Pode ser especificado como o número ou como uma porcentagem de um número total de amostras (default = 2);\n",
    "   \n",
    "   -  `min_samples_leaf` — O número mínimo de amostras necessárias em um nó folha (default = 1);\n",
    "   \n",
    "   -  `min_weight_fraction_leaf` — A fração mínima ponderada da soma total dos pesos (de todas as amostras de entrada) necessária para estar em um nó folha. As amostras têm peso igual quando `sample_weight` não é fornecido (default = 0);\n",
    "   \n",
    "   - `max_leaf_nodes` — O número máximo de folhas (default = no restrictions);\n",
    "   \n",
    "   - `min_impurity_split` — Limite para parada precoce no crescimento da árvore. Um nó irá se dividir se sua impureza estiver acima do limite, caso contrário, é uma folha (default = 1е-7);\n",
    "   \n",
    "   - `bootstrap` — Se as amostras de bootstrap são usadas ao construir árvores (default = True);\n",
    "   \n",
    "   - `oob_score` — se deve usar amostras `out-of-bag` para estimar o $R^{2}$ em dados não vistos (default = False);\n",
    "   \n",
    "   - `n_jobs` — O número de tarefas (`jobs`) a serem executadas em paralelo para ajuste (`fit`) e previsão (`predict`). Se $-1$, então o número de trabalhos é definido como o número de núcleos `cores` (default = 1);\n",
    "   \n",
    "   - `random_state` — Se `int`, `random_state` é a semente usada pelo gerador de número aleatório; se a instância `RandomState`, `random_state` é o gerador de número aleatório; se nenhum, o gerador de número aleatório é a instância `RandomState` usada por `np.random`; \n",
    "   \n",
    "   - `verbose` — Controla o detalhamento do processo de construção da árvore (default = 0);\n",
    "   \n",
    "   - `warm_start` — Quando definido como `True`, reutiliza a solução da chamada anterior para ajustar (`fit`) e adicionar mais estimadores ao conjunto, caso contrário, apenas ajusta (`fit`) uma floresta totalmente nova (default = False).\n",
    "   \n",
    "### Para classificação, os Hiprparâmetros são quase idênticos. O que difere é:\n",
    "\n",
    "   - `criterion` — A função usada para medir a qualidade de uma divisão. Os critérios suportados são [`gini`](https://medium.com/@analyttica/gini-coefficient-or-gini-index-in-our-data-science-analytics-platform-d0408fc83772#:~:text=The%20Gini%20Coefficient%20or%20Gini,commonly%20used%20measure%20of%20inequality.) para a [impureza de Gini](https://medium.com/analytics-steps/understanding-the-gini-index-and-information-gain-in-decision-trees-ab4720518ba8) e [`entropy`](https://machinelearningmastery.com/what-is-information-entropy/) para o [ganho de informação](https://blog.clairvoyantsoft.com/entropy-information-gain-and-gini-index-the-crux-of-a-decision-tree-99d0cdc699f4). Notas: este parâmetro é específico da árvore. (default = \"gini\");\n",
    "   \n",
    "   - `class_weight` — O peso de cada classe. Por padrão, todos os pesos são iguais a $1$, mas você pode criar um dicionário com pesos ou especificá-lo como \"balanceado\" - usa os valores das classes para ajustar automaticamente os pesos inversamente proporcionais às frequências da classe nos dados de entrada ou como \"subamostra balanceada\" - o mesmo que \"balanceado\", exceto que os pesos são calculados com base na amostra de `bootstrap` para cada árvore cultivada."
   ]
  },
  {
   "cell_type": "markdown",
   "metadata": {},
   "source": [
    "   ### O que precisamos ter maior atenção quando construirmos um modelo de RF:\n",
    "\n",
    "   - `n_estimators` — O número de árvores na floresta;\n",
    "   \n",
    "   - `criterion` — A função usada para medir a qualidade de uma divisão.;\n",
    "   \n",
    "   - `max_features` — O número de recursos a serem considerados ao procurar a melhor divisão;\n",
    "\n",
    "   - `min_samples_leaf` — O número mínimo de amostras necessárias em um nó folha;\n",
    "\n",
    "   - `max_depth` — A profundidade máxima da árvore."
   ]
  },
  {
   "cell_type": "markdown",
   "metadata": {},
   "source": [
    "-------------\n",
    "\n",
    "# Random Forest para Churn\n",
    "\n",
    "#### Agora usaremos [Random Forest](https://www.youtube.com/watch?v=D_2LkhMJcfY&ab_channel=AugmentedStartups) para atacar um problema de [`churn`](https://towardsdatascience.com/predict-customer-churn-in-python-e8cd6d3aaa7) (classificação). O primeiro passo é construir um modelo básico para baseline. Utilizaremos os dados da competição [Telco Customer Churn](https://www.kaggle.com/blastchar/telco-customer-churn), no [`Kaggle`](https://www.kaggle.com/)."
   ]
  },
  {
   "cell_type": "code",
   "execution_count": 19,
   "metadata": {},
   "outputs": [
    {
     "data": {
      "text/html": [
       "<div>\n",
       "<style scoped>\n",
       "    .dataframe tbody tr th:only-of-type {\n",
       "        vertical-align: middle;\n",
       "    }\n",
       "\n",
       "    .dataframe tbody tr th {\n",
       "        vertical-align: top;\n",
       "    }\n",
       "\n",
       "    .dataframe thead th {\n",
       "        text-align: right;\n",
       "    }\n",
       "</style>\n",
       "<table border=\"1\" class=\"dataframe\">\n",
       "  <thead>\n",
       "    <tr style=\"text-align: right;\">\n",
       "      <th></th>\n",
       "      <th>state</th>\n",
       "      <th>account length</th>\n",
       "      <th>area code</th>\n",
       "      <th>phone number</th>\n",
       "      <th>international plan</th>\n",
       "      <th>voice mail plan</th>\n",
       "      <th>number vmail messages</th>\n",
       "      <th>total day minutes</th>\n",
       "      <th>total day calls</th>\n",
       "      <th>total day charge</th>\n",
       "      <th>...</th>\n",
       "      <th>total eve calls</th>\n",
       "      <th>total eve charge</th>\n",
       "      <th>total night minutes</th>\n",
       "      <th>total night calls</th>\n",
       "      <th>total night charge</th>\n",
       "      <th>total intl minutes</th>\n",
       "      <th>total intl calls</th>\n",
       "      <th>total intl charge</th>\n",
       "      <th>customer service calls</th>\n",
       "      <th>churn</th>\n",
       "    </tr>\n",
       "  </thead>\n",
       "  <tbody>\n",
       "    <tr>\n",
       "      <th>0</th>\n",
       "      <td>KS</td>\n",
       "      <td>128</td>\n",
       "      <td>415</td>\n",
       "      <td>382-4657</td>\n",
       "      <td>no</td>\n",
       "      <td>yes</td>\n",
       "      <td>25</td>\n",
       "      <td>265.1</td>\n",
       "      <td>110</td>\n",
       "      <td>45.07</td>\n",
       "      <td>...</td>\n",
       "      <td>99</td>\n",
       "      <td>16.78</td>\n",
       "      <td>244.7</td>\n",
       "      <td>91</td>\n",
       "      <td>11.01</td>\n",
       "      <td>10.0</td>\n",
       "      <td>3</td>\n",
       "      <td>2.70</td>\n",
       "      <td>1</td>\n",
       "      <td>False</td>\n",
       "    </tr>\n",
       "    <tr>\n",
       "      <th>1</th>\n",
       "      <td>OH</td>\n",
       "      <td>107</td>\n",
       "      <td>415</td>\n",
       "      <td>371-7191</td>\n",
       "      <td>no</td>\n",
       "      <td>yes</td>\n",
       "      <td>26</td>\n",
       "      <td>161.6</td>\n",
       "      <td>123</td>\n",
       "      <td>27.47</td>\n",
       "      <td>...</td>\n",
       "      <td>103</td>\n",
       "      <td>16.62</td>\n",
       "      <td>254.4</td>\n",
       "      <td>103</td>\n",
       "      <td>11.45</td>\n",
       "      <td>13.7</td>\n",
       "      <td>3</td>\n",
       "      <td>3.70</td>\n",
       "      <td>1</td>\n",
       "      <td>False</td>\n",
       "    </tr>\n",
       "    <tr>\n",
       "      <th>2</th>\n",
       "      <td>NJ</td>\n",
       "      <td>137</td>\n",
       "      <td>415</td>\n",
       "      <td>358-1921</td>\n",
       "      <td>no</td>\n",
       "      <td>no</td>\n",
       "      <td>0</td>\n",
       "      <td>243.4</td>\n",
       "      <td>114</td>\n",
       "      <td>41.38</td>\n",
       "      <td>...</td>\n",
       "      <td>110</td>\n",
       "      <td>10.30</td>\n",
       "      <td>162.6</td>\n",
       "      <td>104</td>\n",
       "      <td>7.32</td>\n",
       "      <td>12.2</td>\n",
       "      <td>5</td>\n",
       "      <td>3.29</td>\n",
       "      <td>0</td>\n",
       "      <td>False</td>\n",
       "    </tr>\n",
       "    <tr>\n",
       "      <th>3</th>\n",
       "      <td>OH</td>\n",
       "      <td>84</td>\n",
       "      <td>408</td>\n",
       "      <td>375-9999</td>\n",
       "      <td>yes</td>\n",
       "      <td>no</td>\n",
       "      <td>0</td>\n",
       "      <td>299.4</td>\n",
       "      <td>71</td>\n",
       "      <td>50.90</td>\n",
       "      <td>...</td>\n",
       "      <td>88</td>\n",
       "      <td>5.26</td>\n",
       "      <td>196.9</td>\n",
       "      <td>89</td>\n",
       "      <td>8.86</td>\n",
       "      <td>6.6</td>\n",
       "      <td>7</td>\n",
       "      <td>1.78</td>\n",
       "      <td>2</td>\n",
       "      <td>False</td>\n",
       "    </tr>\n",
       "    <tr>\n",
       "      <th>4</th>\n",
       "      <td>OK</td>\n",
       "      <td>75</td>\n",
       "      <td>415</td>\n",
       "      <td>330-6626</td>\n",
       "      <td>yes</td>\n",
       "      <td>no</td>\n",
       "      <td>0</td>\n",
       "      <td>166.7</td>\n",
       "      <td>113</td>\n",
       "      <td>28.34</td>\n",
       "      <td>...</td>\n",
       "      <td>122</td>\n",
       "      <td>12.61</td>\n",
       "      <td>186.9</td>\n",
       "      <td>121</td>\n",
       "      <td>8.41</td>\n",
       "      <td>10.1</td>\n",
       "      <td>3</td>\n",
       "      <td>2.73</td>\n",
       "      <td>3</td>\n",
       "      <td>False</td>\n",
       "    </tr>\n",
       "  </tbody>\n",
       "</table>\n",
       "<p>5 rows × 21 columns</p>\n",
       "</div>"
      ],
      "text/plain": [
       "  state  account length  area code phone number international plan  \\\n",
       "0    KS             128        415     382-4657                 no   \n",
       "1    OH             107        415     371-7191                 no   \n",
       "2    NJ             137        415     358-1921                 no   \n",
       "3    OH              84        408     375-9999                yes   \n",
       "4    OK              75        415     330-6626                yes   \n",
       "\n",
       "  voice mail plan  number vmail messages  total day minutes  total day calls  \\\n",
       "0             yes                     25              265.1              110   \n",
       "1             yes                     26              161.6              123   \n",
       "2              no                      0              243.4              114   \n",
       "3              no                      0              299.4               71   \n",
       "4              no                      0              166.7              113   \n",
       "\n",
       "   total day charge  ...  total eve calls  total eve charge  \\\n",
       "0             45.07  ...               99             16.78   \n",
       "1             27.47  ...              103             16.62   \n",
       "2             41.38  ...              110             10.30   \n",
       "3             50.90  ...               88              5.26   \n",
       "4             28.34  ...              122             12.61   \n",
       "\n",
       "   total night minutes  total night calls  total night charge  \\\n",
       "0                244.7                 91               11.01   \n",
       "1                254.4                103               11.45   \n",
       "2                162.6                104                7.32   \n",
       "3                196.9                 89                8.86   \n",
       "4                186.9                121                8.41   \n",
       "\n",
       "   total intl minutes  total intl calls  total intl charge  \\\n",
       "0                10.0                 3               2.70   \n",
       "1                13.7                 3               3.70   \n",
       "2                12.2                 5               3.29   \n",
       "3                 6.6                 7               1.78   \n",
       "4                10.1                 3               2.73   \n",
       "\n",
       "   customer service calls  churn  \n",
       "0                       1  False  \n",
       "1                       1  False  \n",
       "2                       0  False  \n",
       "3                       2  False  \n",
       "4                       3  False  \n",
       "\n",
       "[5 rows x 21 columns]"
      ]
     },
     "execution_count": 19,
     "metadata": {},
     "output_type": "execute_result"
    }
   ],
   "source": [
    "import pandas as pd\n",
    "import numpy as np\n",
    "from sklearn.model_selection import cross_val_score, StratifiedKFold, GridSearchCV\n",
    "from sklearn.metrics import accuracy_score\n",
    "from sklearn.ensemble import RandomForestRegressor, RandomForestClassifier\n",
    "import matplotlib.pyplot as plt\n",
    "import seaborn as sns\n",
    "\n",
    "# Load data\n",
    "df = pd.read_csv(\"telecom_churn.csv\", \n",
    "                 delimiter = ','\n",
    "                )\n",
    "df.head()"
   ]
  },
  {
   "cell_type": "code",
   "execution_count": 20,
   "metadata": {},
   "outputs": [
    {
     "name": "stdout",
     "output_type": "stream",
     "text": [
      "<class 'pandas.core.frame.DataFrame'>\n",
      "RangeIndex: 3333 entries, 0 to 3332\n",
      "Data columns (total 21 columns):\n",
      " #   Column                  Non-Null Count  Dtype  \n",
      "---  ------                  --------------  -----  \n",
      " 0   state                   3333 non-null   object \n",
      " 1   account length          3333 non-null   int64  \n",
      " 2   area code               3333 non-null   int64  \n",
      " 3   phone number            3333 non-null   object \n",
      " 4   international plan      3333 non-null   object \n",
      " 5   voice mail plan         3333 non-null   object \n",
      " 6   number vmail messages   3333 non-null   int64  \n",
      " 7   total day minutes       3333 non-null   float64\n",
      " 8   total day calls         3333 non-null   int64  \n",
      " 9   total day charge        3333 non-null   float64\n",
      " 10  total eve minutes       3333 non-null   float64\n",
      " 11  total eve calls         3333 non-null   int64  \n",
      " 12  total eve charge        3333 non-null   float64\n",
      " 13  total night minutes     3333 non-null   float64\n",
      " 14  total night calls       3333 non-null   int64  \n",
      " 15  total night charge      3333 non-null   float64\n",
      " 16  total intl minutes      3333 non-null   float64\n",
      " 17  total intl calls        3333 non-null   int64  \n",
      " 18  total intl charge       3333 non-null   float64\n",
      " 19  customer service calls  3333 non-null   int64  \n",
      " 20  churn                   3333 non-null   bool   \n",
      "dtypes: bool(1), float64(8), int64(8), object(4)\n",
      "memory usage: 524.2+ KB\n"
     ]
    }
   ],
   "source": [
    "df.info()"
   ]
  },
  {
   "cell_type": "code",
   "execution_count": 21,
   "metadata": {},
   "outputs": [
    {
     "name": "stdout",
     "output_type": "stream",
     "text": [
      "CV accuracy score: 92.50%\n"
     ]
    }
   ],
   "source": [
    "# Choose the numeric features\n",
    "cols = []\n",
    "for i in df.columns:\n",
    "    if (df[i].dtype == \"float64\") or (df[i].dtype == 'int64'):\n",
    "        cols.append(i)\n",
    "        \n",
    "# Divide the dataset into the input and target\n",
    "X, y = df[cols].copy(), np.asarray(df[\"churn\"], \n",
    "                                   dtype = 'int8'\n",
    "                                  )\n",
    "\n",
    "# Initialize a stratified split of our dataset for the validation process\n",
    "skf = StratifiedKFold(n_splits = 5, \n",
    "                      shuffle = True, \n",
    "                      random_state = 42\n",
    "                     )\n",
    "\n",
    "# Initialize the classifier with the default parameters \n",
    "rfc = RandomForestClassifier(random_state = 42, \n",
    "                             n_jobs = -1\n",
    "                            )\n",
    "\n",
    "# Train it on the training set\n",
    "results = cross_val_score(rfc, \n",
    "                          X, \n",
    "                          y, \n",
    "                          cv = skf\n",
    "                         )\n",
    "\n",
    "# Evaluate the accuracy on the test set\n",
    "print(\"CV accuracy score: {:.2f}%\".format(results.mean() * 100))"
   ]
  },
  {
   "cell_type": "markdown",
   "metadata": {},
   "source": [
    "#### Uma [Random Forest](https://towardsdatascience.com/seeing-the-random-forest-from-the-decision-trees-an-intuitive-explanation-of-random-forest-beaa2d6a0d80) sem `tuning` nos levou a uma acurácia maior de $90\\%$ de acurácia. Agora vamos explorar como cada hiper-parâmetro influencia nossos resultados.\n",
    "\n",
    "## Número de árvores:"
   ]
  },
  {
   "cell_type": "code",
   "execution_count": 22,
   "metadata": {},
   "outputs": [
    {
     "name": "stdout",
     "output_type": "stream",
     "text": [
      "Best CV accuracy is 92.50% with 100 trees\n"
     ]
    }
   ],
   "source": [
    "# Initialize the validation\n",
    "skf = StratifiedKFold(n_splits = 5, \n",
    "                      shuffle = True, \n",
    "                      random_state = 42\n",
    "                     )\n",
    "\n",
    "# Create lists to save the values of accuracy on training and test sets\n",
    "train_acc = []\n",
    "test_acc = []\n",
    "#temp_train_acc = []\n",
    "#temp_test_acc = []\n",
    "trees_grid = [5, 10, 15, 20, 30, 50, 75, 100]\n",
    "\n",
    "for ntrees in trees_grid:\n",
    "    rfc = RandomForestClassifier(n_estimators = ntrees, \n",
    "                                 random_state = 42, \n",
    "                                 n_jobs = -1\n",
    "                                )\n",
    "    temp_train_acc = []\n",
    "    temp_test_acc = []\n",
    "    for train_index, test_index in skf.split(X, y):\n",
    "        X_train, X_test = X.iloc[train_index], X.iloc[test_index]\n",
    "        y_train, y_test = y[train_index], y[test_index]\n",
    "        rfc.fit(X_train, y_train)\n",
    "        temp_train_acc.append(rfc.score(X_train, y_train))\n",
    "        temp_test_acc.append(rfc.score(X_test, y_test))\n",
    "    train_acc.append(temp_train_acc)\n",
    "    test_acc.append(temp_test_acc)\n",
    "    \n",
    "train_acc, test_acc = np.asarray(train_acc), np.asarray(test_acc)\n",
    "print(\"Best CV accuracy is {:.2f}% with {} trees\".format(max(test_acc.mean(axis = 1))*100, \n",
    "                                                        trees_grid[np.argmax(test_acc.mean(axis = 1))]))"
   ]
  },
  {
   "cell_type": "code",
   "execution_count": 23,
   "metadata": {},
   "outputs": [
    {
     "data": {
      "image/png": "[encoded data removed]",
      "text/plain": [
       "<Figure size 576x288 with 1 Axes>"
      ]
     },
     "metadata": {},
     "output_type": "display_data"
    }
   ],
   "source": [
    "plt.style.use('ggplot')\n",
    "\n",
    "fig, ax = plt.subplots(figsize = (8, 4))\n",
    "ax.plot(trees_grid, \n",
    "        train_acc.mean(axis = 1), \n",
    "        alpha = 0.5, \n",
    "        color = 'blue', \n",
    "        label = 'train'\n",
    "       )\n",
    "ax.plot(trees_grid, \n",
    "        test_acc.mean(axis = 1), \n",
    "        alpha = 0.5, \n",
    "        color = 'red', \n",
    "        label = 'cv'\n",
    "       )\n",
    "ax.fill_between(trees_grid, \n",
    "                test_acc.mean(axis = 1) - test_acc.std(axis = 1), \n",
    "                test_acc.mean(axis=1) + test_acc.std(axis=1), \n",
    "                color = '#888888', \n",
    "                alpha = 0.4\n",
    "               )\n",
    "ax.fill_between(trees_grid, \n",
    "                test_acc.mean(axis = 1) - 2 * test_acc.std(axis = 1), \n",
    "                test_acc.mean(axis = 1) + 2 * test_acc.std(axis = 1), \n",
    "                color = '#888888', \n",
    "                alpha = 0.2\n",
    "               )\n",
    "ax.legend(loc = 'best')\n",
    "ax.set_ylim([0.88,1.02])\n",
    "ax.set_ylabel(\"Accuracy\")\n",
    "ax.set_xlabel(\"N_estimators\");"
   ]
  },
  {
   "cell_type": "markdown",
   "metadata": {},
   "source": [
    "#### Como podemos observar, a partir de $30$ árvores, nossa performance chegou a uma saturação. Além disso, observamos que a partir de $50$ árvores,o modelo apresenta $100\\%$ de acurácia, o que pode indicar uma situação de `overfit`. Vamos explorar agora o efeito da profundidade:"
   ]
  },
  {
   "cell_type": "code",
   "execution_count": 24,
   "metadata": {},
   "outputs": [
    {
     "name": "stdout",
     "output_type": "stream",
     "text": [
      "Best CV accuracy is 92.44% with 24 max_depth\n"
     ]
    }
   ],
   "source": [
    "# Create lists to save accuracy values on the training and test sets\n",
    "train_acc = []\n",
    "test_acc = []\n",
    "#temp_train_acc = []\n",
    "#temp_test_acc = []\n",
    "max_depth_grid = [3, 5, 7, 9, 11, 13, 15, 17, 20, 22, 24]\n",
    "\n",
    "for max_depth in max_depth_grid:\n",
    "    rfc = RandomForestClassifier(n_estimators = 100, \n",
    "                                 random_state = 42, \n",
    "                                 n_jobs = -1, \n",
    "                                 max_depth = max_depth\n",
    "                                )\n",
    "    temp_train_acc = []\n",
    "    temp_test_acc = []\n",
    "    for train_index, test_index in skf.split(X, y):\n",
    "        X_train, X_test = X.iloc[train_index], X.iloc[test_index]\n",
    "        y_train, y_test = y[train_index], y[test_index]\n",
    "        rfc.fit(X_train, \n",
    "                y_train\n",
    "               )\n",
    "        temp_train_acc.append(rfc.score(X_train, y_train))        \n",
    "        temp_test_acc.append(rfc.score(X_test, y_test))\n",
    "    train_acc.append(temp_train_acc)\n",
    "    test_acc.append(temp_test_acc)\n",
    "    \n",
    "train_acc, test_acc = np.asarray(train_acc), np.asarray(test_acc)\n",
    "print(\"Best CV accuracy is {:.2f}% with {} max_depth\".format(max(test_acc.mean(axis = 1)) * 100, \n",
    "                                                        max_depth_grid[np.argmax(test_acc.mean(axis = 1))]))"
   ]
  },
  {
   "cell_type": "code",
   "execution_count": 25,
   "metadata": {},
   "outputs": [
    {
     "data": {
      "image/png": "[encoded data removed]",
      "text/plain": [
       "<Figure size 576x288 with 1 Axes>"
      ]
     },
     "metadata": {},
     "output_type": "display_data"
    }
   ],
   "source": [
    "fig, ax = plt.subplots(figsize = (8, 4))\n",
    "ax.plot(max_depth_grid, train_acc.mean(axis = 1), \n",
    "        alpha = 0.5, \n",
    "        color = 'blue', \n",
    "        label = 'train'\n",
    "       )\n",
    "\n",
    "ax.plot(max_depth_grid, \n",
    "        test_acc.mean(axis = 1), \n",
    "        alpha = 0.5, \n",
    "        color = 'red', \n",
    "        label = 'cv'\n",
    "       )\n",
    "\n",
    "ax.fill_between(max_depth_grid, \n",
    "                test_acc.mean(axis = 1) - test_acc.std(axis = 1), \n",
    "                test_acc.mean(axis = 1) + test_acc.std(axis = 1), \n",
    "                color = '#888888', \n",
    "                alpha = 0.4\n",
    "               )\n",
    "\n",
    "ax.fill_between(max_depth_grid, \n",
    "                test_acc.mean(axis = 1) - 2 * test_acc.std(axis = 1), \n",
    "                test_acc.mean(axis = 1) + 2 * test_acc.std(axis = 1), \n",
    "                color = '#888888', \n",
    "                alpha = 0.2\n",
    "               )\n",
    "ax.legend(loc = 'best')\n",
    "ax.set_ylim([0.88, 1.02])\n",
    "ax.set_ylabel(\"Accuracy\")\n",
    "ax.set_xlabel(\"Max_depth\");"
   ]
  },
  {
   "cell_type": "markdown",
   "metadata": {},
   "source": [
    "#### Podemos observar que a profundidade da árvore possui um comportamento mais controlado em relação ao `overfit`. Vamos explorar o parâmetro `min_samples_leaf`:"
   ]
  },
  {
   "cell_type": "code",
   "execution_count": 26,
   "metadata": {},
   "outputs": [
    {
     "name": "stdout",
     "output_type": "stream",
     "text": [
      "Best CV accuracy is 92.50% with 1 min_samples_leaf\n"
     ]
    }
   ],
   "source": [
    "# Create lists to save accuracy values on the training and test sets\n",
    "train_acc = []\n",
    "test_acc = []\n",
    "#temp_train_acc = []\n",
    "#temp_test_acc = []\n",
    "min_samples_leaf_grid = [1, 3, 5, 7, 9, 11, 13, 15, 17, 20, 22, 24]\n",
    "\n",
    "for min_samples_leaf in min_samples_leaf_grid:\n",
    "    rfc = RandomForestClassifier(n_estimators = 100, \n",
    "                                 random_state = 42, \n",
    "                                 n_jobs = -1, \n",
    "                                 min_samples_leaf = min_samples_leaf\n",
    "                                )\n",
    "    temp_train_acc = []\n",
    "    temp_test_acc = []\n",
    "    for train_index, test_index in skf.split(X, y):\n",
    "        X_train, X_test = X.iloc[train_index], X.iloc[test_index]\n",
    "        y_train, y_test = y[train_index], y[test_index]\n",
    "        rfc.fit(X_train, y_train)\n",
    "        temp_train_acc.append(rfc.score(X_train, y_train))\n",
    "        temp_test_acc.append(rfc.score(X_test, y_test))\n",
    "    train_acc.append(temp_train_acc)\n",
    "    test_acc.append(temp_test_acc)\n",
    "    \n",
    "train_acc, test_acc = np.asarray(train_acc), np.asarray(test_acc)\n",
    "print(\"Best CV accuracy is {:.2f}% with {} min_samples_leaf\".format(max(test_acc.mean(axis = 1)) * 100, \n",
    "                                                        min_samples_leaf_grid[np.argmax(test_acc.mean(axis = 1))]))"
   ]
  },
  {
   "cell_type": "code",
   "execution_count": 27,
   "metadata": {},
   "outputs": [
    {
     "data": {
      "image/png": "[encoded data removed]",
      "text/plain": [
       "<Figure size 576x288 with 1 Axes>"
      ]
     },
     "metadata": {},
     "output_type": "display_data"
    }
   ],
   "source": [
    "fig, ax = plt.subplots(figsize = (8, 4))\n",
    "ax.plot(min_samples_leaf_grid, train_acc.mean(axis = 1), \n",
    "        alpha = 0.5, \n",
    "        color = 'blue', \n",
    "        label = 'train'\n",
    "       )\n",
    "ax.plot(min_samples_leaf_grid, test_acc.mean(axis = 1), \n",
    "        alpha = 0.5, \n",
    "        color = 'red', \n",
    "        label = 'cv'\n",
    "       )\n",
    "ax.fill_between(min_samples_leaf_grid, test_acc.mean(axis = 1) - test_acc.std(axis = 1), \n",
    "                test_acc.mean(axis = 1) + test_acc.std(axis = 1), color = '#888888', \n",
    "                alpha = 0.4\n",
    "               )\n",
    "ax.fill_between(min_samples_leaf_grid, test_acc.mean(axis = 1) - 2 * test_acc.std(axis = 1), \n",
    "                test_acc.mean(axis = 1) + 2 * test_acc.std(axis = 1), color = '#888888', \n",
    "                alpha = 0.2\n",
    "               )\n",
    "ax.legend(loc = 'best')\n",
    "ax.set_ylim([0.88, 1.02])\n",
    "ax.set_ylabel(\"Accuracy\")\n",
    "ax.set_xlabel(\"Min_samples_leaf\");"
   ]
  },
  {
   "cell_type": "markdown",
   "metadata": {},
   "source": [
    "#### Nesse caso, não temos um ganho substancial na acurácia no `dataset` de validação, mas conseguimos nos proteger do `overfitting` enquanto mantemos a acurácia a $\\approx 92\\%$. Vamos explorar o `max_features`. Para classificação, é recomendado usar $\\sqrt{d}$ (número total de atributos)."
   ]
  },
  {
   "cell_type": "code",
   "execution_count": 28,
   "metadata": {},
   "outputs": [
    {
     "name": "stdout",
     "output_type": "stream",
     "text": [
      "Best CV accuracy is 92.50% with 4 max_features\n"
     ]
    }
   ],
   "source": [
    "# Create lists to save accuracy values on the training and test sets\n",
    "train_acc = []\n",
    "test_acc = []\n",
    "#temp_train_acc = []\n",
    "#temp_test_acc = []\n",
    "max_features_grid = [2, 4, 6, 8, 10, 12, 14, 16]\n",
    "\n",
    "for max_features in max_features_grid:\n",
    "    rfc = RandomForestClassifier(n_estimators = 100, \n",
    "                                 random_state = 42, \n",
    "                                 n_jobs = -1, \n",
    "                                 max_features = max_features\n",
    "                                )\n",
    "    temp_train_acc = []\n",
    "    temp_test_acc = []\n",
    "    for train_index, test_index in skf.split(X, y):\n",
    "        X_train, X_test = X.iloc[train_index], X.iloc[test_index]\n",
    "        y_train, y_test = y[train_index], y[test_index]\n",
    "        rfc.fit(X_train, y_train)\n",
    "        temp_train_acc.append(rfc.score(X_train, y_train))\n",
    "        temp_test_acc.append(rfc.score(X_test, y_test))\n",
    "    train_acc.append(temp_train_acc)\n",
    "    test_acc.append(temp_test_acc)\n",
    "    \n",
    "train_acc, test_acc = np.asarray(train_acc), np.asarray(test_acc)\n",
    "print(\"Best CV accuracy is {:.2f}% with {} max_features\".format(max(test_acc.mean(axis = 1)) * 100, \n",
    "                                                        max_features_grid[np.argmax(test_acc.mean(axis = 1))]))"
   ]
  },
  {
   "cell_type": "code",
   "execution_count": 29,
   "metadata": {},
   "outputs": [
    {
     "data": {
      "image/png": "[encoded data removed]",
      "text/plain": [
       "<Figure size 576x288 with 1 Axes>"
      ]
     },
     "metadata": {},
     "output_type": "display_data"
    }
   ],
   "source": [
    "fig, ax = plt.subplots(figsize = (8, 4))\n",
    "ax.plot(max_features_grid, train_acc.mean(axis = 1), \n",
    "        alpha = 0.5, \n",
    "        color = 'blue', \n",
    "        label = 'train'\n",
    "       )\n",
    "\n",
    "ax.plot(max_features_grid, test_acc.mean(axis = 1), \n",
    "        alpha = 0.5, \n",
    "        color = 'red', \n",
    "        label = 'cv'\n",
    "       )\n",
    "\n",
    "ax.fill_between(max_features_grid, test_acc.mean(axis = 1) - test_acc.std(axis = 1), \n",
    "                test_acc.mean(axis = 1) + test_acc.std(axis = 1), \n",
    "                color = '#888888', \n",
    "                alpha = 0.4\n",
    "               )\n",
    "\n",
    "ax.fill_between(max_features_grid, test_acc.mean(axis = 1) - 2 * test_acc.std(axis = 1), \n",
    "                test_acc.mean(axis = 1) + 2 * test_acc.std(axis = 1), \n",
    "                color = '#888888', \n",
    "                alpha = 0.2\n",
    "               )\n",
    "\n",
    "ax.legend(loc = 'best')\n",
    "ax.set_ylim([0.88,1.02])\n",
    "ax.set_ylabel(\"Accuracy\")\n",
    "ax.set_xlabel(\"Max_features\");"
   ]
  },
  {
   "cell_type": "markdown",
   "metadata": {},
   "source": [
    "#### No nosso caso, o número ótimo para esse hiperparâmetro é $4$, em que o melhor resultado é alcançado. Vamos descobrir agora a melhor combinação de hiperparâmetros via [`GridSearch`](https://towardsdatascience.com/optimizing-hyperparameters-in-random-forest-classification-ec7741f9d3f6):"
   ]
  },
  {
   "cell_type": "code",
   "execution_count": 30,
   "metadata": {},
   "outputs": [
    {
     "name": "stdout",
     "output_type": "stream",
     "text": [
      "Fitting 5 folds for each of 27 candidates, totalling 135 fits\n"
     ]
    },
    {
     "name": "stderr",
     "output_type": "stream",
     "text": [
      "[Parallel(n_jobs=-1)]: Using backend LokyBackend with 4 concurrent workers.\n",
      "[Parallel(n_jobs=-1)]: Done  42 tasks      | elapsed:   15.8s\n",
      "[Parallel(n_jobs=-1)]: Done 135 out of 135 | elapsed:   54.2s finished\n"
     ]
    },
    {
     "data": {
      "text/plain": [
       "GridSearchCV(cv=StratifiedKFold(n_splits=5, random_state=42, shuffle=True),\n",
       "             estimator=RandomForestClassifier(n_jobs=-1, random_state=42),\n",
       "             n_jobs=-1,\n",
       "             param_grid={'max_depth': [5, 10, 15], 'max_features': [4, 7, 10],\n",
       "                         'min_samples_leaf': [1, 3, 5]},\n",
       "             verbose=1)"
      ]
     },
     "execution_count": 30,
     "metadata": {},
     "output_type": "execute_result"
    }
   ],
   "source": [
    "# Initialize the set of parameters for exhaustive search and fit \n",
    "\n",
    "\n",
    "#parameters = {'max_features': [4, 7, 10, 13], \n",
    "#              'min_samples_leaf': [1, 3, 5, 7], \n",
    "#              'max_depth': [5, 10, 15, 20]}\n",
    "\n",
    "parameters = {'max_features': [4, 7, 10], \n",
    "              'min_samples_leaf': [1, 3, 5], \n",
    "              'max_depth': [5, 10, 15]}\n",
    "\n",
    "\n",
    "rfc = RandomForestClassifier(n_estimators = 100, \n",
    "                             random_state = 42, \n",
    "                             n_jobs = -1\n",
    "                            )\n",
    "gcv = GridSearchCV(rfc, \n",
    "                   parameters, \n",
    "                   n_jobs = -1, \n",
    "                   cv = skf, \n",
    "                   verbose = 1\n",
    "                  )\n",
    "gcv.fit(X, y)"
   ]
  },
  {
   "cell_type": "code",
   "execution_count": 31,
   "metadata": {},
   "outputs": [
    {
     "data": {
      "text/plain": [
       "({'max_depth': 10, 'max_features': 10, 'min_samples_leaf': 3},\n",
       " 0.9246971109040075)"
      ]
     },
     "execution_count": 31,
     "metadata": {},
     "output_type": "execute_result"
    }
   ],
   "source": [
    "gcv.best_params_, gcv.best_score_"
   ]
  },
  {
   "cell_type": "markdown",
   "metadata": {},
   "source": [
    "-----------\n",
    "\n",
    "# Random Forest Feature Importance"
   ]
  },
  {
   "cell_type": "code",
   "execution_count": 32,
   "metadata": {},
   "outputs": [
    {
     "data": {
      "text/plain": [
       "0.9583802024746907"
      ]
     },
     "execution_count": 32,
     "metadata": {},
     "output_type": "execute_result"
    }
   ],
   "source": [
    "rfc_best = RandomForestClassifier(n_estimators = 100, \n",
    "                                  max_depth = 20, \n",
    "                                  max_features = 10, \n",
    "                                  min_samples_leaf = 3, \n",
    "                                  random_state = 42, \n",
    "                                  n_jobs = -1\n",
    "                                 )\n",
    "\n",
    "rfc_best.fit(X, y)\n",
    "rfc_best.score(X_train, y_train)"
   ]
  },
  {
   "cell_type": "markdown",
   "metadata": {},
   "source": [
    "#### É possível aplicar o atributo [`feature_importances_`](https://scikit-learn.org/stable/auto_examples/ensemble/plot_forest_importances.html) para estudarmos a relevância de cada variável de nosso modelo."
   ]
  },
  {
   "cell_type": "code",
   "execution_count": 34,
   "metadata": {},
   "outputs": [
    {
     "name": "stderr",
     "output_type": "stream",
     "text": [
      "No handles with labels found to put in legend.\n"
     ]
    },
    {
     "data": {
      "image/png": "[encoded data removed]",
      "text/plain": [
       "<Figure size 432x288 with 1 Axes>"
      ]
     },
     "metadata": {
      "needs_background": "light"
     },
     "output_type": "display_data"
    }
   ],
   "source": [
    "#import pandas as pd\n",
    "feature_imp = pd.Series(rfc_best.feature_importances_, \n",
    "                        index = X.columns).sort_values(ascending = False)\n",
    "\n",
    "#import matplotlib.pyplot as plt\n",
    "#import seaborn as sns\n",
    "%matplotlib inline\n",
    "# Creating a bar plot\n",
    "sns.barplot(x = feature_imp, \n",
    "            y = feature_imp.index\n",
    "           )\n",
    "\n",
    "# Add labels to your graph\n",
    "plt.xlabel('Feature Importance Score')\n",
    "plt.ylabel('Features')\n",
    "plt.title(\"Visualizing Important Features\")\n",
    "plt.legend()\n",
    "plt.show()"
   ]
  },
  {
   "cell_type": "markdown",
   "metadata": {},
   "source": [
    "---------------\n",
    "\n",
    "# Pros & Cons de Random Forests\n",
    "\n",
    "## Pros:\n",
    "\n",
    "- Alta precisão de previsão; terá melhor desempenho do que algoritmos lineares na maioria dos problemas; a precisão é comparável à do boosting.\n",
    "- Robusto aos valores extremos, graças à amostragem aleatória.\n",
    "- Insensível ao dimensionamento ou escala de recursos, bem como a quaisquer outras transformações monotônicas devido à seleção aleatória do subespaço.\n",
    "- Não requer ajuste fino de parâmetros, funciona muito bem fora da caixa. Com o ajuste, é possível obter um ganho de precisão de 0,5 a 3%, dependendo da configuração e dos dados do problema.\n",
    "- Eficiente para conjuntos de dados com um grande número de recursos e classes.\n",
    "- Lida com variáveis ​​contínuas e discretas igualmente bem.\n",
    "- Raramente sobre-ajusta ou causa Overfit. Na prática, um aumento no número da árvore quase sempre melhora a composição. Mas, depois de atingir um certo número de árvores, a curva de aprendizado está muito próxima da assíntota.\n",
    "- Existem métodos desenvolvidos para estimar a importância dos recursos ou Feature Importance.\n",
    "- Funciona bem com dados faltantes e mantém boa precisão, mesmo quando uma grande parte dos dados está ausente.\n",
    "- Fornece meios para ponderar classes em todo o conjunto de dados, bem como para cada amostra de árvore.\n",
    "- Pode ser utilizada para calcular as proximidades entre pares de exemplos que podem ser usados ​​subsequentemente em cluster, detecção de outlier ou representações de dados interessantes.\n",
    "- A funcionalidade e as propriedades acima podem ser estendidas para dados não rotulados, para permitir cluster não supervisionado, visualização de dados e detecção de outlier.\n",
    "- Facilmente paralelizado e altamente escalável.\n",
    " \n"
   ]
  },
  {
   "cell_type": "markdown",
   "metadata": {},
   "source": [
    "## Cons:\n",
    "\n",
    "- Em comparação com uma única árvore de decisão, a saída da Random Forest é mais difícil de interpretar.\n",
    "- Não há valores p formais para a estimativa da significância das características.\n",
    "- Executa métodos piores que os lineares no caso de dados esparsos: entradas de texto, conjunto de palavras, etc.\n",
    "- Diferentemente da regressão linear, a Random Forest não pode extrapolar. Porém, isso também pode ser considerado uma vantagem, porque os Outliers não causam valores extremos nas florestas aleatórias.\n",
    "- Propenso a Overfit em alguns problemas, especialmente quando se lida com dados ruidosos.\n",
    "- No caso de variáveis categóricas com números de níveis variados, florestas aleatórias favorecem variáveis com um número maior de níveis. A árvore se ajustará mais a um recurso com muitos níveis, porque isso ganha maior precisão.\n",
    "- Se um conjunto de dados contiver grupos de recursos correlatos com importância semelhante para as classes previstas, a preferência será dada a grupos menores.\n",
    "- O modelo resultante é grande e requer muita RAM."
   ]
  },
  {
   "cell_type": "markdown",
   "metadata": {},
   "source": [
    "------------------\n",
    "\n",
    "## Principais algoritmos simples de classificação para um DS\n",
    "\n",
    "### KNN (K-Nearest Neighbors)\n",
    "- [KNN Classification using Scikit-learn](https://www.datacamp.com/community/tutorials/k-nearest-neighbor-classification-scikit-learn)\n",
    "- [StatQuest: K-nearest neighbors, Clearly Explained](https://www.youtube.com/watch?v=HVXime0nQeI&t=203s&ab_channel=StatQuestwithJoshStarmer)\n",
    "\n",
    "### Logistic Regression\n",
    "- [Understanding Logistic Regression in Python](https://www.datacamp.com/community/tutorials/understanding-logistic-regression-python)\n",
    "- [Lecture 6.1 — Logistic Regression | Classification — — [ Machine Learning | Andrew Ng]](https://www.youtube.com/watch?v=-la3q9d7AKQ&ab_channel=ArtificialIntelligence-AllinOne)\n",
    "- [StatQuest: Logistic Regression](https://www.youtube.com/watch?v=yIYKR4sgzI8)\n",
    "\n",
    "### Naive Bayes\n",
    "- [Naive Bayes Classification using Scikit-learn](https://www.datacamp.com/community/tutorials/naive-bayes-scikit-learn)\n",
    "- [Probability Theory - The Math of Intelligence #6](https://www.youtube.com/watch?v=PrkiRVcrxOs)\n",
    "- [Naïve Bayes Classifier - Fun and Easy Machine Learning](https://www.youtube.com/watch?v=CPqOCI0ahss&t=236s)\n",
    "\n",
    "### SVM (Support Vector Machine)\n",
    "- [Support Vector Machines with Scikit-learn](https://www.datacamp.com/community/tutorials/svm-classification-scikit-learn-python)\n",
    "- [Machine Learning Tutorial Python - 10 Support Vector Machine (SVM)](https://www.youtube.com/watch?v=FB5EdxAGxQg)\n",
    "\n",
    "### Decision Tree\n",
    "- [Decision Tree Classification in Python](https://www.datacamp.com/community/tutorials/decision-tree-classification-python)\n",
    "- [StatQuest: Decision Trees](https://www.youtube.com/watch?v=7VeUPuFGJHk&t=23s&ab_channel=StatQuestwithJoshStarmer)\n",
    "- [Let’s Write a Decision Tree Classifier from Scratch - Machine Learning Recipes #8](https://www.youtube.com/watch?v=LDRbO9a6XPU)"
   ]
  },
  {
   "cell_type": "code",
   "execution_count": null,
   "metadata": {},
   "outputs": [],
   "source": []
  }
 ],
 "metadata": {
  "kernelspec": {
   "display_name": "Python 3",
   "language": "python",
   "name": "python3"
  },
  "language_info": {
   "codemirror_mode": {
    "name": "ipython",
    "version": 3
   },
   "file_extension": ".py",
   "mimetype": "text/x-python",
   "name": "python",
   "nbconvert_exporter": "python",
   "pygments_lexer": "ipython3",
   "version": "3.7.6"
  },
  "latex_envs": {
   "LaTeX_envs_menu_present": true,
   "autoclose": false,
   "autocomplete": true,
   "bibliofile": "biblio.bib",
   "cite_by": "apalike",
   "current_citInitial": 1,
   "eqLabelWithNumbers": true,
   "eqNumInitial": 1,
   "hotkeys": {
    "equation": "Ctrl-E",
    "itemize": "Ctrl-I"
   },
   "labels_anchors": false,
   "latex_user_defs": false,
   "report_style_numbering": false,
   "user_envs_cfg": false
  },
  "toc": {
   "base_numbering": 1,
   "nav_menu": {},
   "number_sections": true,
   "sideBar": true,
   "skip_h1_title": false,
   "title_cell": "Table of Contents",
   "title_sidebar": "Contents",
   "toc_cell": false,
   "toc_position": {},
   "toc_section_display": true,
   "toc_window_display": false
  },
  "varInspector": {
   "cols": {
    "lenName": 16,
    "lenType": 16,
    "lenVar": 40
   },
   "kernels_config": {
    "python": {
     "delete_cmd_postfix": "",
     "delete_cmd_prefix": "del ",
     "library": "var_list.py",
     "varRefreshCmd": "print(var_dic_list())"
    },
    "r": {
     "delete_cmd_postfix": ") ",
     "delete_cmd_prefix": "rm(",
     "library": "var_list.r",
     "varRefreshCmd": "cat(var_dic_list()) "
    }
   },
   "types_to_exclude": [
    "module",
    "function",
    "builtin_function_or_method",
    "instance",
    "_Feature"
   ],
   "window_display": false
  }
 },
 "nbformat": 4,
 "nbformat_minor": 4
}
