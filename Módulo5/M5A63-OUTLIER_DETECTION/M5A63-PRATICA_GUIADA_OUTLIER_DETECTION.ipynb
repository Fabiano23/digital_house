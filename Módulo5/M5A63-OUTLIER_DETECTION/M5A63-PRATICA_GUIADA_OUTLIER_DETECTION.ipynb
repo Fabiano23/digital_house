{
 "cells": [
  {
   "cell_type": "markdown",
   "metadata": {},
   "source": [
    "<img src=\"imgs/dh_logo.png\" align=\"right\" width=\"50%\">"
   ]
  },
  {
   "cell_type": "markdown",
   "metadata": {},
   "source": [
    "# Detecção de Outliers."
   ]
  },
  {
   "cell_type": "markdown",
   "metadata": {},
   "source": [
    "#### Quando falamos sobre [`outliers`](https://towardsdatascience.com/a-brief-overview-of-outlier-detection-techniques-1e0b2c19e561#:~:text=Outliers%20are%20extreme%20values%20that,overall%20pattern%20on%20a%20sample.), nos referimos a valores (dados, linhas de dataframe) extremos que se desviam de outras observações nos dados. O surgimento desses [`outliers`](https://towardsdatascience.com/5-ways-to-detect-outliers-that-every-data-scientist-should-know-python-code-70a54335a623) podem indicar diversos fenômenos, desde a variabilidade das medições realizadas, erros experimentais, ou até mesmo uma nova descoberta."
   ]
  },
  {
   "cell_type": "markdown",
   "metadata": {},
   "source": [
    "<img src=\"Outlier_1.gif\">"
   ]
  },
  {
   "cell_type": "markdown",
   "metadata": {},
   "source": [
    "**Tipos de Outlier**"
   ]
  },
  {
   "cell_type": "markdown",
   "metadata": {},
   "source": [
    "### Outliers podem ser de dois tipos: <br>\n",
    "\n",
    "- [Univariados](https://www.statisticssolutions.com/univariate-and-multivariate-outliers/#:~:text=A%20univariate%20outlier%20is%20a,the%20outcome%20of%20statistical%20analyses.): [`Outliers`](https://datascience.foundation/sciencewhitepaper/knowing-all-about-outliers-in-machine-learning) univariados podem ser encontrados ao observar uma distribuição de valores em um único atributo.\n",
    "\n",
    "- [Multivariados](https://towardsdatascience.com/multivariate-outlier-detection-in-python-e946cfc843b3): [`Outliers`](https://www.kdnuggets.com/2017/01/3-methods-deal-outliers.html) multivariados podem ser encontrados em um espaço $n$-dimensional (de $n$-atributos). Olhar para distribuições em espaços $n$-dimensionais pode ser muito difícil para o cérebro humano, por isso precisamos treinar um modelo para fazer isso por nós.\n",
    "\n",
    "#### Além disso, [`Outliers`](https://www.aquare.la/en/what-are-outliers-and-how-to-treat-them-in-data-analytics/) também podem ser classificados de formas diferentes, como: Pontual Outliers, Contextual Outliers ou Collective Outliers. \n",
    "\n",
    "- [`Pontual Outliers`](https://www.aspexit.com/en/outliers-abnormal-data-lets-take-a-look-at-the-situation/): São pontos de dados únicos que ficam longe do resto da distribuição. São também conhecidos como `outliers` globais. <br>\n",
    "\n",
    "\n",
    "<img src=\"Outlier_1.png\">\n",
    "\n",
    "\n",
    "- [`Contextual Outliers`](https://towardsdatascience.com/outliers-analysis-a-quick-guide-to-the-different-types-of-outliers-e41de37e6bf6): Os valores discrepantes contextuais podem ser ruído nos dados. São pontos de dados que, se analisados em um outro contexto, poderiam ser \"normais\".\n",
    "\n",
    "\n",
    "<img src=\"Outlier_2.png\">\n",
    "\n",
    "\n",
    "- [`Collective Outliers`](https://www.anodot.com/blog/quick-guide-different-types-outliers/): Quando um subconjunto de pontos possuem comportamento semelhante, mas que difere de todos os demais. \n",
    "\n",
    "\n",
    "<img src=\"Outlier_3.png\">\n"
   ]
  },
  {
   "cell_type": "markdown",
   "metadata": {},
   "source": [
    "### Exemplos:\n",
    "\n",
    "#### Imagine que um avião precisou pousar numa rodovia. Esse seria um exemplo de `Punctual Outlier`, porque é um evento verdadeiramente raro. \n",
    "\n",
    "#### Agora imagine um congestionamento da marginal Pinheios, mas ocorrendo às $3$h da madrugada, quando o tráfego de veículos ainda não gera congestionamentos, esso poderia ser considerado um `Contextual Outlier`. \n",
    "\n",
    "#### Por fim, se todos os carros na rodovia estivessem se movendo para a pista da esquerda ao mesmo tempo, isso seria um `Collective Outlier`, porque, embora definitivamente não seja raro que as pessoas se movam para a pista da esquerda, é incomum que todos os carros mudem de lugar exatamente ao mesmo tempo."
   ]
  },
  {
   "cell_type": "markdown",
   "metadata": {},
   "source": [
    "## Origens"
   ]
  },
  {
   "cell_type": "markdown",
   "metadata": {},
   "source": [
    "- Erros de inserção:\n",
    "     É fruto do erro humano. Por exemplo, uma companhia de água que realiza medições em hidrômetros de casa em casa. \n",
    "    Em um dado momento, o operador pode anotar errado o valor do consumo daquela casa e reportar um valor muito discrepante das demais observações históricas de consumo.\n",
    "   \n",
    "- Erros de Medição:\n",
    "    O erro de medição é mais sistemático, pois tende a ocorrer de forma conjunta para mais observações. Por exemplo,imagine um medidor de velocidade que está descalibrado. Ele pode estar fornecendo velocidades com um viés de $20~km/h$, por falta de calibração. Ou seja, todas as velocidades medidas terão esse acréscimo inicial de 20km/h. Algumas dessa observações se tornarão outliers por isso. \n",
    "    \n",
    "- Erros experimentias:\n",
    "    São erros que ocorrem durante a execução/planejamento de um experimento. Um exemplo é o de uma reação química que produz elementos que impedem ou introduzem ruído na hora da leitura dos sensores.\n",
    "\n",
    "- Erros de processamento: São [`outliers`](https://www.neuraldesigner.com/blog/3_methods_to_deal_with_outliers) introduzidos durante o processo de processamento dos dados. É resultado de alguma operação, cálculo e etc.\n",
    "\n",
    "- Descobertas: São dados que desviam do padrão, mas porque representam fenômenos novos ou novas condições de processo e etc."
   ]
  },
  {
   "cell_type": "markdown",
   "metadata": {},
   "source": [
    "#### No processo de produção, coleta, processamento e análise de dados, os valores [`outliers`](https://www.youtube.com/watch?v=vcbMinm_1Q8&ab_channel=SimpleLearningPro) podem vir de muitas fontes e se esconder em muitas dimensões. Aquelas que não são produto de um erro são geralmente novos fenômenos ou comportamentos.\n",
    "\n",
    "#### A detecção de [`outliers`](https://www.youtube.com/watch?v=pDY_n9ukU0Q&ab_channel=KDD2017video) é de grande importância para quase todas as disciplinas quantitativas (ou seja: Física, Economia, Finanças, Aprendizado de Máquina, Segurança Cibernética). No aprendizado de máquina e em qualquer disciplina quantitativa, a qualidade dos dados é tão importante quanto a qualidade de um modelo de predição ou classificação."
   ]
  },
  {
   "cell_type": "markdown",
   "metadata": {},
   "source": [
    "#### Os algoritmos de aprendizado de máquina são sensíveis ao intervalo e à distribuição dos valores dos atributos. Dados discrepantes podem prejudicar e enganar o processo de treinamento, resultando em tempos de treinamento mais longos, modelos menos precisos e, em última análise, resultados mais fracos."
   ]
  },
  {
   "cell_type": "markdown",
   "metadata": {},
   "source": [
    "#### Quando ocorre algum problema no modelo devido a esses `outliers`, os chamamos de [`influential points`](https://stattrek.com/regression/influential-points.aspx#:~:text=An%20influential%20point%20is%20an,with%20and%20without%20the%20outlier.). \n",
    "\n",
    "#### Um dado pode ser `outlier`, mas pode não ser [`influential`](https://medium.com/@mail.amruthasasidharan/influential-points-vs-outliers-2c70c7b8d676).\n",
    "\n",
    "#### A eliminação de `outliers` se torna, então, uma questão recorrente."
   ]
  },
  {
   "cell_type": "markdown",
   "metadata": {},
   "source": [
    "## Eliminação de `outliers`"
   ]
  },
  {
   "cell_type": "markdown",
   "metadata": {},
   "source": [
    "#### Valores discrepantes são um daqueles problemas estatísticos que todos conhecem, mas a maioria das pessoas não tem certeza de como lidar com eles. A maioria das estatísticas paramétricas, como médias, desvios padrão e correlações, e todas as estatísticas com base nelas, são altamente sensíveis a `outliers`. E como as suposições de procedimentos estatísticos comuns, como regressão linear e `ANOVA`, também são baseadas nessas estatísticas, os valores discrepantes podem realmente bagunçar sua análise.\n",
    "\n",
    "#### Apesar de tudo isso, por mais que você queira, NÃO é aceitável abandonar uma observação apenas porque é um `outlier`. Elas podem ser observações legítimas e, às vezes, as mais interessantes. É importante investigar a natureza do `outlier` antes de decidir.\n",
    "\n",
    "<img src=\"fraud_detection_1.png\">"
   ]
  },
  {
   "cell_type": "markdown",
   "metadata": {},
   "source": [
    "#### Note que as fraudes são dados à parte dos demais. Ou seja, por meio de detecção de `outliers`, podemos melhor a performance de um algoritmo de fraude. Nesse caso, não faz sentido elimiar os `outliers`, pois eles são o objeto de estudo.\n",
    "\n",
    "<img src=\"Outliers.jpeg\">"
   ]
  },
  {
   "cell_type": "markdown",
   "metadata": {},
   "source": [
    "#### A detecção de `outliers` também é usada em análise de texto. Por exemplo, uma plataforma de eventos pode utilizar a análise de `outliers` para identificar novos temas de evento surgindo na plataforma.\n",
    "\n",
    "- Se for óbvio que o `outlier` é devido a dados incorretamente inseridos ou medidos, você deve descartar o `outlier`: Por exemplo, ao analisar um conjunto de dados em que o peso de uma mulher era registrado como $19~kg$. Seu verdadeiro peso era possivelmente $91~kg$, ou $119~kg$, mas como não sabemos qual, eliminamos o `outlier`. \n",
    "\n",
    "#### Isso também se aplica a uma situação na qual você sabe que o dado não mediu com precisão o que você pretendia. Por exemplo, se você está testando o tempo de reação das pessoas a um evento, mas viu que o participante não está prestando atenção e apertando aleatoriamente a tecla de resposta, você sabe que não é uma medida precisa."
   ]
  },
  {
   "cell_type": "markdown",
   "metadata": {},
   "source": [
    "- Se o valor discrepante não alterar os resultados, mas afetar as suposições, você pode eliminá-lo.\n",
    "\n",
    "<img src=\"outlierGraph-1.gif\">\n",
    "\n",
    "#### Acima, vemos que o `outlier` não afetaria a regressão, pois ele segue o comportamento dos demais dados. Ele só é um valor discrepante em $X$ e $Y$. Porém, isso acaba aumentando o valor da correlação entre os dados, matematicamente, o que pode acabar distorcendo a análise. "
   ]
  },
  {
   "cell_type": "markdown",
   "metadata": {},
   "source": [
    "- Mais comumente, os outtliers afetarão as hipóteses e também os resultados, métricas e etc. Nessa situação, é interessante reportar ambos os resultados: com e sem os outliers.\n",
    "\n",
    "<img src=\"outlierGraph-2.gif\">"
   ]
  },
  {
   "cell_type": "markdown",
   "metadata": {},
   "source": [
    "- Se os outliers criarem relações inexistentes ou padrões inexistentes, você deve dropar os resultados e nem precisa reportar todos os resultados.\n",
    "\n",
    "<img src=\"outlierGraph-3.gif\">"
   ]
  },
  {
   "cell_type": "markdown",
   "metadata": {},
   "source": [
    "### Outlier x High Leverage x Influential Points"
   ]
  },
  {
   "cell_type": "markdown",
   "metadata": {},
   "source": [
    "####  Ao longo do curso e em diversas situações utilizamos uma única denominação para dados discrepantes, que não possuam o comportamento esperado: `Outliers`.\n",
    "\n",
    "#### Contudo, há distinção entre os dados considerados 'anormais'. "
   ]
  },
  {
   "cell_type": "markdown",
   "metadata": {},
   "source": [
    "- Um dado é considerado `outlier`, quando é discrepante em $Y$. Ou seja, quando nosso `target` possui um comportamento anômalo em algum ponto de seu domínio, aquele ponto é chamado de `outlier`.\n",
    "\n",
    "<img src=\"Outlier_4.png\">\n",
    "\n",
    "#### O caso acima nos traz essa situação. Obviamente, isso pode ser generalizado para mais dimensões. Imagine que o eixo vertical é o eixo $Y$ e nosso `target`."
   ]
  },
  {
   "cell_type": "markdown",
   "metadata": {},
   "source": [
    "- Além de `outlier`, um dado pode ser considerado [`High Leverage`](https://online.stat.psu.edu/stat462/node/170/)."
   ]
  },
  {
   "cell_type": "markdown",
   "metadata": {},
   "source": [
    "#### Na imagem abaixo, em termos de $Y$, nosso `target`, temos uma discrepância, mas o ponto ainda segue o comportamento dos demais. Não podemos considerá-lo um `outlier`. Contudo, note que em relação a $X$, também temos um valor discrepante. Quando isso ocorre, podemos denominar esse ponto de `high leverage`. É importante notar que, para esse caso, nosso modelo de regressão linear não seria afetado por esse [`high leverage point`](https://towardsdatascience.com/a-short-journey-of-outlier-detection-bdf143464a92).\n",
    "\n",
    "<img src=\"HIghLeverage.png\">"
   ]
  },
  {
   "cell_type": "markdown",
   "metadata": {},
   "source": [
    "- Por fim, temos o chamado [`Influential point`](https://medium.com/analytics-vidhya/what-is-an-outliers-how-to-detect-and-remove-them-which-algorithm-are-sensitive-towards-outliers-2d501993d59), que será capaz de alterar nosso modelo, influenciar em sua performance e etc."
   ]
  },
  {
   "cell_type": "markdown",
   "metadata": {},
   "source": [
    "<img src=\"influence-of-outliers.png\" align=\"center\" width=\"70%\">"
   ]
  },
  {
   "cell_type": "markdown",
   "metadata": {},
   "source": [
    "#### Note os modelos acima. Temos o 'Model A', com um `outlier` à esquerda da reta de regressão. Esse `influential point` traz para perto de si a reta, aumentando o coeficiente angular.  \n",
    "\n",
    "#### O 'Model B' possui um `influential point` à direita da reta. Note que esse `influential point` traz para perto de si a reta e, dessa forma, tende a diminuir o coeficiente angular. \n",
    "\n",
    "#### Por fim, o modelo sem os `influential points` não sofre com o efeito."
   ]
  },
  {
   "cell_type": "markdown",
   "metadata": {},
   "source": [
    "# Algoritmos Sensíveis"
   ]
  },
  {
   "cell_type": "markdown",
   "metadata": {},
   "source": [
    "### Regressão Linear"
   ]
  },
  {
   "cell_type": "markdown",
   "metadata": {},
   "source": [
    "<img src=\"outlierRemoval.png\" align=\"center\" width=\"40%\">"
   ]
  },
  {
   "cell_type": "markdown",
   "metadata": {},
   "source": [
    "#### Os `influential points` têm um impacto dramático na regressão linear. Eles podem mudar a equação do modelo completamente, ou seja, a previsão ou estimativa mudam e isso é ruim. Acima podemos ver que o valor de $r$ foi alterado com a adição do [`influential point`](https://www.youtube.com/watch?v=xc_X9GFVuVU&ab_channel=jbstatistics)."
   ]
  },
  {
   "cell_type": "markdown",
   "metadata": {},
   "source": [
    "### Regressão Logística"
   ]
  },
  {
   "cell_type": "markdown",
   "metadata": {},
   "source": [
    "#### Em classificação também temos problema com `outliers`. Veja como o modelo de regressão logística pode ser afetado pela introdução de um [`influential point`](https://scialert.net/fulltext/?doi=jas.2011.26.35#:~:text=In%20logistic%20regression%2C%20a%20set,and%20lead%20to%20incorrect%20inferences.)."
   ]
  },
  {
   "cell_type": "markdown",
   "metadata": {},
   "source": [
    "<img src=\"outlierRemoval-2.png\" align=\"center\" width=\"40%\">"
   ]
  },
  {
   "cell_type": "markdown",
   "metadata": {},
   "source": [
    "### SVM (Hard Margin)"
   ]
  },
  {
   "cell_type": "markdown",
   "metadata": {},
   "source": [
    "#### As SVM de margem rígida (`Hard Margin`) são afetadas por `outliers` nas bordas. Como esse modelo é intolerante a erros, ele tenta ao máximo criar uma superfície de decisão que mantém em lados opostos as classes diferentes.\n",
    "\n",
    "#### Isso acaba alterando a superfície de decisão. Uma forma de contornar esse problema é usando um classificador de margem suave (`Soft Margin`)."
   ]
  },
  {
   "cell_type": "markdown",
   "metadata": {},
   "source": [
    "- Classificador Hard Margin:\n",
    "\n",
    "<img src=\"outlierSVM.png\" align=\"center\" width=\"40%\">"
   ]
  },
  {
   "cell_type": "markdown",
   "metadata": {},
   "source": [
    "- Classificador Soft Margin:\n",
    "\n",
    "<img src=\"outlierSVM-2.png\" align=\"center\" width=\"40%\">"
   ]
  },
  {
   "cell_type": "markdown",
   "metadata": {},
   "source": [
    "### KNN"
   ]
  },
  {
   "cell_type": "markdown",
   "metadata": {},
   "source": [
    "#### O algoritmo é sensível a `outliers`, uma vez que um único exemplo com rótulo incorreto muda drasticamente os limites da classe. As anomalias afetam o método significativamente, porque o [`kNN`](https://towardsdatascience.com/k-nearest-neighbors-knn-for-anomaly-detection-fdf8ee160d13) obtém todas as informações da entrada, em vez de um algoritmo que tenta generalizar os dados.\n",
    "\n",
    "#### Proposta: Evite número muito pequeno de vizinhos, como $k = 1$ por exemplo, principalmente se estiver na frente de dados com ruído.\n",
    "\n",
    "<img src=\"outlierKNN.png\" align=\"center\" width=\"40%\">"
   ]
  },
  {
   "cell_type": "markdown",
   "metadata": {},
   "source": [
    "### Naive Bayes"
   ]
  },
  {
   "cell_type": "markdown",
   "metadata": {},
   "source": [
    "#### Problemas de predição de sentimento são prejudicados por `outliers`. Mas o que seriam `outliers` no contexto de análise de sentimento usando texto?\n",
    "\n",
    "<img src=\"outlierNaiveBayes.jpeg\" align=\"center\" width=\"40%\">\n",
    "\n",
    "#### Palavras com [baixíssima frequência](https://medium.com/analytics-vidhya/understanding-machine-learning-algorithms-naive-bayes-808ed649c1ec) ou com baixa probabilidade de ocorrer num vocabulário comum tendem a introduzir ruídos nos modelos."
   ]
  },
  {
   "cell_type": "markdown",
   "metadata": {},
   "source": [
    "### Decision Trees"
   ]
  },
  {
   "cell_type": "markdown",
   "metadata": {},
   "source": [
    "#### As árvores são robusta a `outliers`, no sentido de não serem ou serem pouco afetadas pela presença deles. Como esse modelo trabalha criando cortes nos atributos, pouco importa se o dado está perto ou longe da margem criada. Importa apenas se ele está dentro ou fora da região, antes ou depois da linha de decisão.\n",
    "\n",
    "<img src=\"outlierDecisionTree.png\" align=\"center\" width=\"40%\">"
   ]
  },
  {
   "cell_type": "markdown",
   "metadata": {},
   "source": [
    "### K-Means"
   ]
  },
  {
   "cell_type": "markdown",
   "metadata": {},
   "source": [
    "#### O próprio nome do algoritmo revela sua fraqueza. O K-means usa a média para calcular os centróides, que são os pontos representativos dos clusters. Como a média é afetada por outliers, o cálculo dos centróides também o é. Dessa forma, podemos usar um outro algoritmo no lugar: K-Medians. O K-Medians utilizará a mediana, bem mais robusta.\n",
    "\n",
    "<img src=\"outlierKMEANS.jpeg\" align=\"center\" width=\"40%\">"
   ]
  },
  {
   "cell_type": "markdown",
   "metadata": {},
   "source": [
    "# Isolation Forests"
   ]
  },
  {
   "cell_type": "markdown",
   "metadata": {},
   "source": [
    "#### Existem vários algoritmos de detecção de `outlier`. Já vimos [`DBSCAN`](https://cse.buffalo.edu/~jing/cse601/fa12/materials/clustering_density.pdf), por exemplo, que atribui $-1$ aos pontos de dados que não estão em regiões densas, ou seja, não são [`core points`](https://www.datanovia.com/en/lessons/dbscan-density-based-clustering-essentials/) nem [`border points`](https://towardsdatascience.com/dbscan-make-density-based-clusters-by-hand-2689dc335120). Outros algoritmos bastante famosos são o [`one-class svm`](https://towardsdatascience.com/outlier-detection-with-one-class-svms-5403a1a1878c#:~:text=A%20One%2DClass%20Support%20Vector,%2C%20you%20guessed%20it%2C%20outliers.) e o [`Local Outlier Factor`](). Hoje veremos o funcionamento e implementação de um outro algoritmo, chamado de [`Isolation Forest`](https://towardsdatascience.com/outlier-detection-with-isolation-forest-3d190448d45e).\n",
    "\n",
    "#### O [`Isolation Forest`](https://cs.nju.edu.cn/zhouzh/zhouzh.files/publication/icdm08b.pdf?q=isolation-forest) é um algoritmo simples, com poucos hiperparâmetros. Aliás, esses hiperparâmetros podem ser otimizados por [validação cruzada](https://practicaldatascience.co.uk/machine-learning/how-to-use-the-isolation-forest-model-for-outlier-detection).\n",
    "\n",
    "#### Como o nome sugere, o [`Isolation Forest`](https://towardsdatascience.com/isolation-forest-a-tree-based-algorithm-for-anomaly-detection-4a1669f9b782) é um algoritmo baseado em árvores de decisão. Por se tratar de um conjunto de modelos, várias ávores, também é conhecido como [`ensemble`](https://heartbeat.fritz.ai/isolation-forest-algorithm-for-anomaly-detection-2a4abd347a5). Vamos estudar ensembles mais profundamente na próxima aula.\n",
    "\n",
    "\n",
    "#### Nessas árvores, as partições são criadas primeiro selecionando aleatoriamente um atributo e, em seguida, selecionando um valor de divisão aleatório entre o valor mínimo e máximo do recurso selecionado.\n",
    "\n",
    "\n",
    "#### `Outliers`costumam ser menos frequentes do que observações regulares e são diferentes deles em termos de valores, eles estão mais distantes das observações regulares no espaço de tributo. É por isso que, usando esse particionamento aleatório, eles devem ser identificados mais perto da raiz da árvore (menor comprimento médio do caminho, ou seja, o número de arestas que uma observação deve passar na árvore indo da raiz ao nó terminal), com menos divisões necessárias."
   ]
  },
  {
   "cell_type": "markdown",
   "metadata": {},
   "source": [
    "\n",
    "#### Para entender melhor coonsidera a seguinte situação: Qual ponto tem maior probabilidade de ser [\"isolado\"](https://thingsolver.com/friday-talks-the-dark-horse-of-isolation-forest/) dos demais, mais rapidamente, em outras palavras, com menos cortes, considerando-se cortes aleatórios? \n",
    "\n",
    "#### Os pontos mais discrepantes, longe da multidão de dados, tem uma área não prenchida muito grande ao seu redor. Em qualquer região desse espaço em branco que cortemos os nossos dados, já conseguiremos isolar nosso ponto vermelho.\n",
    "\n",
    "<img src=\"outliersIsolationforest.png\" align=\"center\" width=\"40%\">\n"
   ]
  },
  {
   "cell_type": "markdown",
   "metadata": {},
   "source": [
    "#### Abaixo vemos um esquema da árvore de isolamento e corte de um ponto `outlier`:\n",
    "\n",
    "<img src=\"outliersIsolationforest-2.png\">  "
   ]
  },
  {
   "cell_type": "markdown",
   "metadata": {},
   "source": [
    "#### O [`isolation forest`](https://www.youtube.com/watch?v=RyFQXQf4w4w&ab_channel=PyData) se baseia em um esquema de tomada de decisão do tipo árvora. Ele calcula quantos cortes em média é necessário para se isolar um ponto específico. De forma geral, os pontos discrepantes precisam de menos cortes. Agora ele pode usar essa informação para detectar os `outliers`. O [`Isolation Forest`](https://www.youtube.com/watch?v=TP3wdwD8JVY&ab_channel=DecisionForest) utiliza várias árvores e utiliza a média de número de cortes para gerar um [`score`] de `outlier` ou mesmo uma decisão $1$ ou $-1$.\n",
    "\n",
    "<img src=\"outliersIsolationforest.gif\">"
   ]
  },
  {
   "cell_type": "markdown",
   "metadata": {},
   "source": [
    "#### Vamos criar um modelo de `Isolation Forest`."
   ]
  },
  {
   "cell_type": "markdown",
   "metadata": {},
   "source": [
    "#### Primeiro, iremos criar um `dataset` de exemplo e também criaremos `outliers`. Importamos a biblioteca [`sklearn.ensemble.IsolationForest()`](https://scikit-learn.org/stable/modules/generated/sklearn.ensemble.IsolationForest.html) para a manipulação dos `outliers`. Usamos o método [`numpy.random.RandomState.uniform()`](https://numpy.org/doc/stable/reference/random/generated/numpy.random.RandomState.uniform.html) para gerar os `outliers`."
   ]
  },
  {
   "cell_type": "code",
   "execution_count": 10,
   "metadata": {},
   "outputs": [],
   "source": [
    "import numpy as np\n",
    "import pandas as pd\n",
    "import matplotlib.pyplot as plt\n",
    "from pylab import savefig\n",
    "from sklearn.ensemble import IsolationForest\n",
    "\n",
    "# default plot settings\n",
    "plt.rcParams['figure.dpi'] = 300\n",
    "plt.rcParams['figure.figsize'] = [15, 10]\n",
    "# Generating data ----\n",
    "\n",
    "rng = np.random.RandomState(42)\n",
    "\n",
    "# Generating training data \n",
    "X_train = 0.2 * rng.randn(1000, 2)\n",
    "X_train = np.r_[X_train + 3, \n",
    "                X_train\n",
    "               ]\n",
    "X_train = pd.DataFrame(X_train, \n",
    "                       columns = ['x1', 'x2']\n",
    "                      )\n",
    "\n",
    "# Generating new, 'normal' observation\n",
    "X_test = 0.2 * rng.randn(200, 2)\n",
    "X_test = np.r_[X_test + 3, \n",
    "               X_test\n",
    "              ]\n",
    "X_test = pd.DataFrame(X_test, \n",
    "                      columns = ['x1', 'x2']\n",
    "                     )\n",
    "# Generating outliers\n",
    "X_outliers = rng.uniform(low = -1, \n",
    "                         high = 5, \n",
    "                         size = (50, 2)\n",
    "                        )\n",
    "X_outliers = pd.DataFrame(X_outliers, \n",
    "                          columns = ['x1', 'x2']\n",
    "                         )"
   ]
  },
  {
   "cell_type": "code",
   "execution_count": 11,
   "metadata": {},
   "outputs": [
    {
     "data": {
      "text/plain": [
       "(50, 2)"
      ]
     },
     "execution_count": 11,
     "metadata": {},
     "output_type": "execute_result"
    }
   ],
   "source": [
    "X_outliers.shape"
   ]
  },
  {
   "cell_type": "markdown",
   "metadata": {},
   "source": [
    "#### Temos $50$ `outliers` para testar o algoritmo."
   ]
  },
  {
   "cell_type": "code",
   "execution_count": 18,
   "metadata": {},
   "outputs": [
    {
     "data": {
      "image/png": "[encoded data removed]",
      "text/plain": [
       "<Figure size 960x640 with 1 Axes>"
      ]
     },
     "metadata": {
      "needs_background": "light"
     },
     "output_type": "display_data"
    }
   ],
   "source": [
    "\n",
    "from matplotlib.pyplot import figure\n",
    "\n",
    "figure(figsize = (12, 8), \n",
    "       dpi = 80\n",
    "      )\n",
    "\n",
    "# Plotting generated data ----\n",
    "plt.title(\"Data\")\n",
    "\n",
    "p1 = plt.scatter(X_train.x1, \n",
    "                 X_train.x2, \n",
    "                 c = 'white', \n",
    "                 s = 20 * 4, \n",
    "                 edgecolor = 'k'\n",
    "                )\n",
    "p2 = plt.scatter(X_test.x1, \n",
    "                 X_test.x2, \n",
    "                 c = 'green',\n",
    "                 s = 20 * 4, \n",
    "                 edgecolor = 'k'\n",
    "                )\n",
    "p3 = plt.scatter(X_outliers.x1, \n",
    "                 X_outliers.x2, \n",
    "                 c = 'red',\n",
    "                 s = 20 * 4, \n",
    "                 edgecolor = 'k'\n",
    "                )\n",
    "plt.axis('tight')\n",
    "plt.xlim((-2, 5))\n",
    "plt.ylim((-2, 5))\n",
    "plt.legend([p1, p2, p3],\n",
    "           [\"training observations\", \"new regular obs.\", \"new abnormal obs.\"],\n",
    "           loc = \"lower right\"\n",
    "          )\n",
    "plt.show()"
   ]
  },
  {
   "cell_type": "markdown",
   "metadata": {},
   "source": [
    "#### Para o [`Isolation Forest`](https://www.youtube.com/watch?v=ttRyN9puC6E&ab_channel=DATAMINER), um parâmetro interessante é o [`contamination`](https://towardsdatascience.com/isolation-forest-with-statistical-rules-4dd27dad2da9), que indica o percentual de `outliers` no `dataset`."
   ]
  },
  {
   "cell_type": "code",
   "execution_count": 33,
   "metadata": {},
   "outputs": [],
   "source": [
    "# Isolation Forest ----\n",
    "\n",
    "# training the model\n",
    "clf = IsolationForest(contamination = 0.1, \n",
    "                      random_state = rng\n",
    "                     )\n",
    "clf.fit(X_train)\n",
    "\n",
    "# predictions\n",
    "y_pred_train = clf.predict(X_train)\n",
    "y_pred_test = clf.predict(X_test)\n",
    "y_pred_outliers = clf.predict(X_outliers)"
   ]
  },
  {
   "cell_type": "code",
   "execution_count": 34,
   "metadata": {},
   "outputs": [
    {
     "name": "stdout",
     "output_type": "stream",
     "text": [
      "Accuracy: 0.9\n"
     ]
    }
   ],
   "source": [
    "# new, 'normal' observations\n",
    "print(\"Accuracy:\", list(y_pred_train).count(1) / y_pred_train.shape[0])"
   ]
  },
  {
   "cell_type": "code",
   "execution_count": 35,
   "metadata": {},
   "outputs": [
    {
     "name": "stdout",
     "output_type": "stream",
     "text": [
      "Accuracy: 0.915\n"
     ]
    }
   ],
   "source": [
    "# new, 'normal' observations\n",
    "print(\"Accuracy:\", list(y_pred_test).count(1) / y_pred_test.shape[0])"
   ]
  },
  {
   "cell_type": "code",
   "execution_count": 36,
   "metadata": {},
   "outputs": [
    {
     "name": "stdout",
     "output_type": "stream",
     "text": [
      "Accuracy: 0.98\n"
     ]
    }
   ],
   "source": [
    "# outliers\n",
    "print(\"Accuracy:\", list(y_pred_outliers).count(-1) / y_pred_outliers.shape[0])"
   ]
  },
  {
   "cell_type": "markdown",
   "metadata": {},
   "source": [
    "#### Em problemas muito desbalanceados, um chute do percentual de `contamination` poderia ser a frequência de classe $1$."
   ]
  },
  {
   "cell_type": "code",
   "execution_count": 37,
   "metadata": {},
   "outputs": [
    {
     "data": {
      "text/plain": [
       "array([1, 1, 1, ..., 1, 1, 1])"
      ]
     },
     "execution_count": 37,
     "metadata": {},
     "output_type": "execute_result"
    }
   ],
   "source": [
    "clf.predict(X_train)"
   ]
  },
  {
   "cell_type": "code",
   "execution_count": 38,
   "metadata": {},
   "outputs": [
    {
     "data": {
      "text/plain": [
       "array([-0.43118413, -0.50559912, -0.42326847, ..., -0.46800921,\n",
       "       -0.44469335, -0.43566533])"
      ]
     },
     "execution_count": 38,
     "metadata": {},
     "output_type": "execute_result"
    }
   ],
   "source": [
    "clf.score_samples(X_train)"
   ]
  },
  {
   "cell_type": "code",
   "execution_count": null,
   "metadata": {},
   "outputs": [],
   "source": []
  },
  {
   "cell_type": "code",
   "execution_count": null,
   "metadata": {},
   "outputs": [],
   "source": []
  }
 ],
 "metadata": {
  "kernelspec": {
   "display_name": "Python 3",
   "language": "python",
   "name": "python3"
  },
  "language_info": {
   "codemirror_mode": {
    "name": "ipython",
    "version": 3
   },
   "file_extension": ".py",
   "mimetype": "text/x-python",
   "name": "python",
   "nbconvert_exporter": "python",
   "pygments_lexer": "ipython3",
   "version": "3.7.6"
  },
  "latex_envs": {
   "LaTeX_envs_menu_present": true,
   "autoclose": false,
   "autocomplete": true,
   "bibliofile": "biblio.bib",
   "cite_by": "apalike",
   "current_citInitial": 1,
   "eqLabelWithNumbers": true,
   "eqNumInitial": 1,
   "hotkeys": {
    "equation": "Ctrl-E",
    "itemize": "Ctrl-I"
   },
   "labels_anchors": false,
   "latex_user_defs": false,
   "report_style_numbering": false,
   "user_envs_cfg": false
  },
  "toc": {
   "base_numbering": 1,
   "nav_menu": {},
   "number_sections": true,
   "sideBar": true,
   "skip_h1_title": false,
   "title_cell": "Table of Contents",
   "title_sidebar": "Contents",
   "toc_cell": false,
   "toc_position": {},
   "toc_section_display": true,
   "toc_window_display": false
  },
  "varInspector": {
   "cols": {
    "lenName": 16,
    "lenType": 16,
    "lenVar": 40
   },
   "kernels_config": {
    "python": {
     "delete_cmd_postfix": "",
     "delete_cmd_prefix": "del ",
     "library": "var_list.py",
     "varRefreshCmd": "print(var_dic_list())"
    },
    "r": {
     "delete_cmd_postfix": ") ",
     "delete_cmd_prefix": "rm(",
     "library": "var_list.r",
     "varRefreshCmd": "cat(var_dic_list()) "
    }
   },
   "types_to_exclude": [
    "module",
    "function",
    "builtin_function_or_method",
    "instance",
    "_Feature"
   ],
   "window_display": false
  }
 },
 "nbformat": 4,
 "nbformat_minor": 4
}
