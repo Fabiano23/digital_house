{
 "cells": [
  {
   "cell_type": "markdown",
   "metadata": {},
   "source": [
    "# PRATICA INDEPENDENTE Joins com Pandas."
   ]
  },
  {
   "cell_type": "markdown",
   "metadata": {},
   "source": [
    "### Considerando os datframes a seguir, criados a partir de dicionários, atenda aos exercícios."
   ]
  },
  {
   "cell_type": "code",
   "execution_count": 1,
   "metadata": {},
   "outputs": [],
   "source": [
    "import pandas as pd\n",
    "\n",
    "df1 = pd.DataFrame({'employee': ['Bob', 'Jake', 'Lisa', 'Sue'], \n",
    "                    'group': ['Accounting', 'Engineering', 'Engineering', 'HR'],\n",
    "                    'absences': [3, 2, 5, 1]\n",
    "                   }\n",
    "                  )\n",
    "#df1\n",
    "\n",
    "df2 = pd.DataFrame({'employee': ['Lisa', 'Bob', 'Jake', 'Sue'], \n",
    "                    'hire_date': [2004, 2008, 2012, 2014]\n",
    "                   }\n",
    "                  )\n",
    "#df2\n",
    "\n",
    "df3 = pd.DataFrame({'group': ['Accounting', 'Engineering', 'HR'], \n",
    "                    'supervisor': ['Carly', 'Guido', 'Steve']\n",
    "                   }\n",
    "                  )\n",
    "#df3"
   ]
  },
  {
   "cell_type": "markdown",
   "metadata": {},
   "source": [
    "#### Exercício 1: Usando a função `.merge()`, obter um dataframe como resultado da intersecão entre `df1` e `df2`. "
   ]
  },
  {
   "cell_type": "code",
   "execution_count": null,
   "metadata": {},
   "outputs": [],
   "source": []
  },
  {
   "cell_type": "markdown",
   "metadata": {},
   "source": [
    "#### Exercício 2: Calcule também a interseção entre o dataframe criado no exercício anterior e `df3`. "
   ]
  },
  {
   "cell_type": "code",
   "execution_count": null,
   "metadata": {},
   "outputs": [],
   "source": []
  },
  {
   "cell_type": "markdown",
   "metadata": {},
   "source": [
    "#### Exercício 3: Usando o dataframe `df4` a seguir, gerar um novo dataframe que contenha o resultado dos três anteriores e `df4`."
   ]
  },
  {
   "cell_type": "code",
   "execution_count": null,
   "metadata": {},
   "outputs": [],
   "source": [
    "df4 = pd.DataFrame({'applier': ['Bob', 'Jake', 'Lisa', 'Sue'], \n",
    "                    'position': ['CTO', 'Senior Developer', 'CFO', 'Head of HR']\n",
    "                   }\n",
    "                  )\n",
    "df4"
   ]
  },
  {
   "cell_type": "code",
   "execution_count": null,
   "metadata": {},
   "outputs": [],
   "source": []
  },
  {
   "cell_type": "markdown",
   "metadata": {},
   "source": [
    "#### Exercício 4: Usar o método [`.drop()`](https://pandas.pydata.org/pandas-docs/stable/reference/api/pandas.DataFrame.drop.html) para eliminar as colunas redundantes."
   ]
  },
  {
   "cell_type": "code",
   "execution_count": null,
   "metadata": {},
   "outputs": [],
   "source": []
  },
  {
   "cell_type": "markdown",
   "metadata": {},
   "source": [
    "#### Exercício 5: Agrupe o dataframe do exercício 4 e calcule a contagem de grupos `group` supervisionado por cada supervisor `supervisor`."
   ]
  },
  {
   "cell_type": "code",
   "execution_count": null,
   "metadata": {},
   "outputs": [],
   "source": []
  },
  {
   "cell_type": "markdown",
   "metadata": {},
   "source": [
    "#### Exercício 6: Usando os DataFrames a seguir, realizar um `inner`, `outer`, `left` e `right` `join` entre eles. Antes de executar cada `join`, escrever um comentário com a saída esperada."
   ]
  },
  {
   "cell_type": "code",
   "execution_count": 58,
   "metadata": {},
   "outputs": [],
   "source": [
    "dfA = pd.DataFrame({\"a\":[1],\n",
    "                    \"b\":[2],\n",
    "                    \"c\":[3]\n",
    "                   }\n",
    "                  )\n",
    "dfB = pd.DataFrame({\"a\":[1, 4],\n",
    "                    \"b\":[7, 9],\n",
    "                    \"c\":[8, 9]\n",
    "                   }\n",
    "                  )"
   ]
  },
  {
   "cell_type": "code",
   "execution_count": null,
   "metadata": {
    "collapsed": true
   },
   "outputs": [],
   "source": []
  }
 ],
 "metadata": {
  "kernelspec": {
   "display_name": "Python 3",
   "language": "python",
   "name": "python3"
  },
  "language_info": {
   "codemirror_mode": {
    "name": "ipython",
    "version": 3
   },
   "file_extension": ".py",
   "mimetype": "text/x-python",
   "name": "python",
   "nbconvert_exporter": "python",
   "pygments_lexer": "ipython3",
   "version": "3.7.6"
  }
 },
 "nbformat": 4,
 "nbformat_minor": 2
}
