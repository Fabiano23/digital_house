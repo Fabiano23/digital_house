{
 "cells": [
  {
   "cell_type": "markdown",
   "metadata": {},
   "source": [
    "# PRATICA_INDEPENDENTE: SVM."
   ]
  },
  {
   "cell_type": "markdown",
   "metadata": {},
   "source": [
    "#### Exercício 1: Carregue o arquivo `'bill_authentication.csv'` anexo, do banco de [banknote authentication](https://archive.ics.uci.edu/ml/datasets/banknote+authentication), Os dados foram extraídos de imagens que foram tiradas para a avaliação de um procedimento de autenticação para notas.\n",
    "\n",
    "#### Os dados foram extraídos de imagens tiradas de dédulas genuínas e forjadas. Para a digitalização foi utilizada uma câmera industrial, usada para inspeção das notas. As imagens finais têm $400 \\times 400$ pixels. Devido às lentes e à distância às notas foram obtidas imagens em escala de cinza com uma resolução de cerca de 660 dpi. Usou-se uma ferramente A ferramenta [Wavelet Transform](https://en.wikipedia.org/wiki/Wavelet_transform) foi usada para extrair recursos das imagens.\n",
    "\n",
    "#### Faça o pré processamento dos dados, estudando sua forma, descrição e medidas centrais. Separe os dados entre atributos descritivos e targets e separe estes entre dados de treinamento e de teste.\n",
    "\n",
    "#### Submeta os dados ao método `SVM` para a separação entre notas falsas e verdadeiras, usando como função de kernel o método `Linear`. Ajuste os dados e realize as previões de autenticidade, calculando a matrix de confusão dos dados e plote essas informações em um mapa de calor."
   ]
  },
  {
   "cell_type": "code",
   "execution_count": 1,
   "metadata": {},
   "outputs": [],
   "source": [
    "import pandas as pd\n",
    "import numpy as np\n",
    "from sklearn.preprocessing import StandardScaler\n",
    "from sklearn.model_selection import train_test_split\n",
    "from sklearn.svm import SVC\n",
    "from sklearn.metrics import confusion_matrix\n",
    "import seaborn as sns\n",
    "import matplotlib.pyplot as plt\n",
    "\n",
    "# Tamanho padrões das figuras e a fonte de seus textos neste notebook\n",
    "plt.rcParams['figure.figsize'] = (12, 8)\n",
    "plt.rcParams['font.size'] = 14"
   ]
  },
  {
   "cell_type": "code",
   "execution_count": 2,
   "metadata": {},
   "outputs": [
    {
     "data": {
      "text/html": [
       "<div>\n",
       "<style scoped>\n",
       "    .dataframe tbody tr th:only-of-type {\n",
       "        vertical-align: middle;\n",
       "    }\n",
       "\n",
       "    .dataframe tbody tr th {\n",
       "        vertical-align: top;\n",
       "    }\n",
       "\n",
       "    .dataframe thead th {\n",
       "        text-align: right;\n",
       "    }\n",
       "</style>\n",
       "<table border=\"1\" class=\"dataframe\">\n",
       "  <thead>\n",
       "    <tr style=\"text-align: right;\">\n",
       "      <th></th>\n",
       "      <th>Variance</th>\n",
       "      <th>Skewness</th>\n",
       "      <th>Curtosis</th>\n",
       "      <th>Entropy</th>\n",
       "      <th>Class</th>\n",
       "    </tr>\n",
       "  </thead>\n",
       "  <tbody>\n",
       "    <tr>\n",
       "      <th>0</th>\n",
       "      <td>3.62160</td>\n",
       "      <td>8.6661</td>\n",
       "      <td>-2.8073</td>\n",
       "      <td>-0.44699</td>\n",
       "      <td>0</td>\n",
       "    </tr>\n",
       "    <tr>\n",
       "      <th>1</th>\n",
       "      <td>4.54590</td>\n",
       "      <td>8.1674</td>\n",
       "      <td>-2.4586</td>\n",
       "      <td>-1.46210</td>\n",
       "      <td>0</td>\n",
       "    </tr>\n",
       "    <tr>\n",
       "      <th>2</th>\n",
       "      <td>3.86600</td>\n",
       "      <td>-2.6383</td>\n",
       "      <td>1.9242</td>\n",
       "      <td>0.10645</td>\n",
       "      <td>0</td>\n",
       "    </tr>\n",
       "    <tr>\n",
       "      <th>3</th>\n",
       "      <td>3.45660</td>\n",
       "      <td>9.5228</td>\n",
       "      <td>-4.0112</td>\n",
       "      <td>-3.59440</td>\n",
       "      <td>0</td>\n",
       "    </tr>\n",
       "    <tr>\n",
       "      <th>4</th>\n",
       "      <td>0.32924</td>\n",
       "      <td>-4.4552</td>\n",
       "      <td>4.5718</td>\n",
       "      <td>-0.98880</td>\n",
       "      <td>0</td>\n",
       "    </tr>\n",
       "  </tbody>\n",
       "</table>\n",
       "</div>"
      ],
      "text/plain": [
       "   Variance  Skewness  Curtosis  Entropy  Class\n",
       "0   3.62160    8.6661   -2.8073 -0.44699      0\n",
       "1   4.54590    8.1674   -2.4586 -1.46210      0\n",
       "2   3.86600   -2.6383    1.9242  0.10645      0\n",
       "3   3.45660    9.5228   -4.0112 -3.59440      0\n",
       "4   0.32924   -4.4552    4.5718 -0.98880      0"
      ]
     },
     "execution_count": 2,
     "metadata": {},
     "output_type": "execute_result"
    }
   ],
   "source": [
    "#Leitura dos dados\n",
    "df= pd.read_csv('bill_authentication.csv')\n",
    "df.head()"
   ]
  },
  {
   "cell_type": "code",
   "execution_count": 3,
   "metadata": {},
   "outputs": [
    {
     "name": "stdout",
     "output_type": "stream",
     "text": [
      "Temos 1372 notas e 5 características das imagens das notas\n"
     ]
    }
   ],
   "source": [
    "#Número de linhas (notas) e características das notas\n",
    "\n",
    "print(f'Temos {df.shape[0]} notas e {df.shape[1]} características das imagens das notas')"
   ]
  },
  {
   "cell_type": "code",
   "execution_count": 4,
   "metadata": {},
   "outputs": [
    {
     "data": {
      "text/html": [
       "<div>\n",
       "<style scoped>\n",
       "    .dataframe tbody tr th:only-of-type {\n",
       "        vertical-align: middle;\n",
       "    }\n",
       "\n",
       "    .dataframe tbody tr th {\n",
       "        vertical-align: top;\n",
       "    }\n",
       "\n",
       "    .dataframe thead th {\n",
       "        text-align: right;\n",
       "    }\n",
       "</style>\n",
       "<table border=\"1\" class=\"dataframe\">\n",
       "  <thead>\n",
       "    <tr style=\"text-align: right;\">\n",
       "      <th></th>\n",
       "      <th>Variance</th>\n",
       "      <th>Skewness</th>\n",
       "      <th>Curtosis</th>\n",
       "      <th>Entropy</th>\n",
       "      <th>Class</th>\n",
       "    </tr>\n",
       "  </thead>\n",
       "  <tbody>\n",
       "    <tr>\n",
       "      <th>count</th>\n",
       "      <td>1372.000000</td>\n",
       "      <td>1372.000000</td>\n",
       "      <td>1372.000000</td>\n",
       "      <td>1372.000000</td>\n",
       "      <td>1372.000000</td>\n",
       "    </tr>\n",
       "    <tr>\n",
       "      <th>mean</th>\n",
       "      <td>0.433735</td>\n",
       "      <td>1.922353</td>\n",
       "      <td>1.397627</td>\n",
       "      <td>-1.191657</td>\n",
       "      <td>0.444606</td>\n",
       "    </tr>\n",
       "    <tr>\n",
       "      <th>std</th>\n",
       "      <td>2.842763</td>\n",
       "      <td>5.869047</td>\n",
       "      <td>4.310030</td>\n",
       "      <td>2.101013</td>\n",
       "      <td>0.497103</td>\n",
       "    </tr>\n",
       "    <tr>\n",
       "      <th>min</th>\n",
       "      <td>-7.042100</td>\n",
       "      <td>-13.773100</td>\n",
       "      <td>-5.286100</td>\n",
       "      <td>-8.548200</td>\n",
       "      <td>0.000000</td>\n",
       "    </tr>\n",
       "    <tr>\n",
       "      <th>25%</th>\n",
       "      <td>-1.773000</td>\n",
       "      <td>-1.708200</td>\n",
       "      <td>-1.574975</td>\n",
       "      <td>-2.413450</td>\n",
       "      <td>0.000000</td>\n",
       "    </tr>\n",
       "    <tr>\n",
       "      <th>50%</th>\n",
       "      <td>0.496180</td>\n",
       "      <td>2.319650</td>\n",
       "      <td>0.616630</td>\n",
       "      <td>-0.586650</td>\n",
       "      <td>0.000000</td>\n",
       "    </tr>\n",
       "    <tr>\n",
       "      <th>75%</th>\n",
       "      <td>2.821475</td>\n",
       "      <td>6.814625</td>\n",
       "      <td>3.179250</td>\n",
       "      <td>0.394810</td>\n",
       "      <td>1.000000</td>\n",
       "    </tr>\n",
       "    <tr>\n",
       "      <th>max</th>\n",
       "      <td>6.824800</td>\n",
       "      <td>12.951600</td>\n",
       "      <td>17.927400</td>\n",
       "      <td>2.449500</td>\n",
       "      <td>1.000000</td>\n",
       "    </tr>\n",
       "  </tbody>\n",
       "</table>\n",
       "</div>"
      ],
      "text/plain": [
       "          Variance     Skewness     Curtosis      Entropy        Class\n",
       "count  1372.000000  1372.000000  1372.000000  1372.000000  1372.000000\n",
       "mean      0.433735     1.922353     1.397627    -1.191657     0.444606\n",
       "std       2.842763     5.869047     4.310030     2.101013     0.497103\n",
       "min      -7.042100   -13.773100    -5.286100    -8.548200     0.000000\n",
       "25%      -1.773000    -1.708200    -1.574975    -2.413450     0.000000\n",
       "50%       0.496180     2.319650     0.616630    -0.586650     0.000000\n",
       "75%       2.821475     6.814625     3.179250     0.394810     1.000000\n",
       "max       6.824800    12.951600    17.927400     2.449500     1.000000"
      ]
     },
     "execution_count": 4,
     "metadata": {},
     "output_type": "execute_result"
    }
   ],
   "source": [
    "df.describe()"
   ]
  },
  {
   "cell_type": "code",
   "execution_count": 5,
   "metadata": {},
   "outputs": [
    {
     "data": {
      "text/plain": [
       "0    762\n",
       "1    610\n",
       "Name: Class, dtype: int64"
      ]
     },
     "execution_count": 5,
     "metadata": {},
     "output_type": "execute_result"
    }
   ],
   "source": [
    "#Balanceamento das classes\n",
    "df['Class'].value_counts()"
   ]
  },
  {
   "cell_type": "code",
   "execution_count": 6,
   "metadata": {},
   "outputs": [
    {
     "data": {
      "text/plain": [
       "Variance    0\n",
       "Skewness    0\n",
       "Curtosis    0\n",
       "Entropy     0\n",
       "Class       0\n",
       "dtype: int64"
      ]
     },
     "execution_count": 6,
     "metadata": {},
     "output_type": "execute_result"
    }
   ],
   "source": [
    "#Conferindo se temos dados nulos\n",
    "df.isnull().sum()"
   ]
  },
  {
   "cell_type": "code",
   "execution_count": 7,
   "metadata": {},
   "outputs": [],
   "source": [
    "#Variáveis preditoras\n",
    "X= df[['Variance', 'Skewness', 'Curtosis', 'Entropy']]\n",
    "\n",
    "#Variável resposta (o que queremos prever)\n",
    "y= df['Class']"
   ]
  },
  {
   "cell_type": "code",
   "execution_count": 8,
   "metadata": {},
   "outputs": [
    {
     "data": {
      "text/plain": [
       "array([[ 1.12180565,  1.14945512, -0.97597007,  0.35456135],\n",
       "       [ 1.44706568,  1.06445293, -0.89503626, -0.12876744],\n",
       "       [ 1.20780971, -0.77735215,  0.12221838,  0.61807317],\n",
       "       [ 1.06374236,  1.29547754, -1.25539712, -1.14402883],\n",
       "       [-0.03677175, -1.0870383 ,  0.73673042,  0.09658697]])"
      ]
     },
     "execution_count": 8,
     "metadata": {},
     "output_type": "execute_result"
    }
   ],
   "source": [
    "scaler = StandardScaler()\n",
    "\n",
    "X= scaler.fit_transform(X)\n",
    "X[:5]"
   ]
  },
  {
   "cell_type": "code",
   "execution_count": 9,
   "metadata": {},
   "outputs": [],
   "source": [
    "#Separação treino e teste\n",
    "X_train, X_test, y_train, y_test = train_test_split(X, \n",
    "                                                y, \n",
    "                                                random_state = 42\n",
    "                                               )"
   ]
  },
  {
   "cell_type": "markdown",
   "metadata": {},
   "source": [
    "Padronização das medidas das variáveis (utilizando z_score) preditoras porque estamos separando as classes em um espaço de 4 dimensões (variáveis preditoras). Se tivermos medidas físicas diferentes das variáveis esse espaço é ampliado de forma que não conseguimos separar as classes com muita acurácia."
   ]
  },
  {
   "cell_type": "code",
   "execution_count": 10,
   "metadata": {},
   "outputs": [],
   "source": [
    "#Instanciando modelo SVM\n",
    "model_svm = SVC(kernel = 'linear', \n",
    "                       class_weight = 'balanced')"
   ]
  },
  {
   "cell_type": "code",
   "execution_count": 11,
   "metadata": {},
   "outputs": [
    {
     "data": {
      "text/plain": [
       "SVC(class_weight='balanced', kernel='linear')"
      ]
     },
     "execution_count": 11,
     "metadata": {},
     "output_type": "execute_result"
    }
   ],
   "source": [
    "#Ajustando os dados\n",
    "model_svm.fit(X_train, \n",
    "                     y_train\n",
    "                    )"
   ]
  },
  {
   "cell_type": "code",
   "execution_count": 12,
   "metadata": {},
   "outputs": [],
   "source": [
    "#Predições do modelo\n",
    "y_pred = model_svm.predict(X_test)"
   ]
  },
  {
   "cell_type": "code",
   "execution_count": 13,
   "metadata": {},
   "outputs": [
    {
     "data": {
      "image/png": "[encoded data removed]",
      "text/plain": [
       "<Figure size 864x576 with 2 Axes>"
      ]
     },
     "metadata": {
      "needs_background": "light"
     },
     "output_type": "display_data"
    }
   ],
   "source": [
    "#Matriz de confusão das previsões do modelo\n",
    "\n",
    "mat = confusion_matrix(y_test, \n",
    "                       y_pred)\n",
    "\n",
    "sns.heatmap(mat, \n",
    "            square = True, \n",
    "            annot = True, \n",
    "            fmt = 'd', \n",
    "            cbar = True)\n",
    "\n",
    "plt.xlabel('Classe predita')\n",
    "plt.ylabel('Classe verdadeira');"
   ]
  },
  {
   "cell_type": "markdown",
   "metadata": {},
   "source": [
    "Aqui temos de fato o erro onde ao meu ver seria melhor ter o menor número, isto é, errar menos quando a nota for falsa. Se houver erro nas notas verdadeiras, o máximo que teríamos seria a passagem dessa nota para um ser humano avaliar e ele passaria essas notas após tal avaliação. No caso das notas falsas, se elas passam, elas não chegariam a essa avaliação e teríamos notas falsas no \"sistema\" sem serem apontadas. Nesse sentido, poderíamos pensar em uma otimização do modelo levando em conta as predições corretas do modelo quando as notas são falsas."
   ]
  },
  {
   "cell_type": "markdown",
   "metadata": {},
   "source": [
    "#### Exercício 2: Carregue os dados do arquivo `'iris.csv'` em um dataframe e realize o pré processamento, separando os conjuntos de dados descritivos e targets. \n",
    "\n",
    "#### Faça o pré processamento dos dados, estudando sua forma, descrição e medidas centrais. Separe os dados entre atributos descritivos e targets e separe estes entre dados de treinamento e de teste.\n",
    "\n",
    "#### Submeta os dados ao método `SVM` para a separação das espécies, com as funções de kernel  `Polynomial` , `RBF` e `Sigmoid`. Ajuste os dados e realize as previsões de autenticidade, calculando a matrix de confusão dos dados e plote essas informações em um mapa de calor.\n",
    "\n",
    "#### Compare os três métodos, concluindo qual deles tem o melhor retorno final."
   ]
  },
  {
   "cell_type": "code",
   "execution_count": 14,
   "metadata": {},
   "outputs": [
    {
     "name": "stdout",
     "output_type": "stream",
     "text": [
      "   sepal_length  sepal_width  petal_length  petal_width species\n",
      "0           5.1          3.5           1.4          0.2  setosa\n",
      "1           4.9          3.0           1.4          0.2  setosa\n",
      "2           4.7          3.2           1.3          0.2  setosa\n",
      "3           4.6          3.1           1.5          0.2  setosa\n",
      "4           5.0          3.6           1.4          0.2  setosa\n",
      "\n",
      "Balanceamento das espécies:\n",
      "versicolor    50\n",
      "virginica     50\n",
      "setosa        50\n",
      "Name: species, dtype: int64\n"
     ]
    }
   ],
   "source": [
    "df_iris= pd.read_csv('iris.csv')\n",
    "print(df_iris.head())\n",
    "print()\n",
    "print('Balanceamento das espécies:')\n",
    "print(df_iris['species'].value_counts())"
   ]
  },
  {
   "cell_type": "code",
   "execution_count": 15,
   "metadata": {},
   "outputs": [
    {
     "data": {
      "text/plain": [
       "2    50\n",
       "1    50\n",
       "0    50\n",
       "Name: species, dtype: int64"
      ]
     },
     "execution_count": 15,
     "metadata": {},
     "output_type": "execute_result"
    }
   ],
   "source": [
    "#Pre processamento de nomes das espécies para inteiros\n",
    "classes= {'setosa': 0, 'versicolor': 1, 'virginica': 2}\n",
    "\n",
    "df_iris['species']= df_iris['species'].map(classes)\n",
    "\n",
    "#Conferindo se a mudança foi feita corretamente pelo balanceamento das espécies\n",
    "df_iris['species'].value_counts()"
   ]
  },
  {
   "cell_type": "code",
   "execution_count": 16,
   "metadata": {},
   "outputs": [],
   "source": [
    "#Variáveis preditoras\n",
    "X= df_iris[['sepal_length',  'sepal_width',  'petal_length',  'petal_width']]\n",
    "\n",
    "#Variável resposta\n",
    "y= df_iris['species']"
   ]
  },
  {
   "cell_type": "code",
   "execution_count": 17,
   "metadata": {},
   "outputs": [],
   "source": [
    "#Padronização da medida das variáveis preditoras\n",
    "scaler = StandardScaler()\n",
    "X= scaler.fit_transform(X)"
   ]
  },
  {
   "cell_type": "code",
   "execution_count": 18,
   "metadata": {},
   "outputs": [],
   "source": [
    "#Separação treino e teste\n",
    "X_train, X_test, y_train, y_test = train_test_split(X, \n",
    "                                                y, \n",
    "                                                random_state = 42\n",
    "                                               )"
   ]
  },
  {
   "cell_type": "markdown",
   "metadata": {},
   "source": [
    "### Kernel polinomial"
   ]
  },
  {
   "cell_type": "code",
   "execution_count": 19,
   "metadata": {},
   "outputs": [],
   "source": [
    "#Instanciando modelo SVM\n",
    "model_svm_poly = SVC(kernel = 'poly', \n",
    "                       class_weight = 'balanced')"
   ]
  },
  {
   "cell_type": "code",
   "execution_count": 20,
   "metadata": {},
   "outputs": [
    {
     "data": {
      "text/plain": [
       "SVC(class_weight='balanced', kernel='poly')"
      ]
     },
     "execution_count": 20,
     "metadata": {},
     "output_type": "execute_result"
    }
   ],
   "source": [
    "#Ajustando os dados\n",
    "model_svm_poly.fit(X_train, \n",
    "                     y_train\n",
    "                    )"
   ]
  },
  {
   "cell_type": "code",
   "execution_count": 21,
   "metadata": {},
   "outputs": [],
   "source": [
    "#Predições do modelo\n",
    "y_pred = model_svm_poly.predict(X_test)"
   ]
  },
  {
   "cell_type": "code",
   "execution_count": 22,
   "metadata": {},
   "outputs": [
    {
     "data": {
      "image/png": "[encoded data removed]",
      "text/plain": [
       "<Figure size 864x576 with 2 Axes>"
      ]
     },
     "metadata": {
      "needs_background": "light"
     },
     "output_type": "display_data"
    }
   ],
   "source": [
    "#Matriz de confusão das previsões do modelo\n",
    "\n",
    "mat = confusion_matrix(y_test, \n",
    "                       y_pred)\n",
    "\n",
    "sns.heatmap(mat, \n",
    "            square = True, \n",
    "            annot = True, \n",
    "            fmt = 'd', \n",
    "            cbar = True)\n",
    "\n",
    "plt.xlabel('Classe predita')\n",
    "plt.ylabel('Classe verdadeira');"
   ]
  },
  {
   "cell_type": "markdown",
   "metadata": {},
   "source": [
    "### Kernel RBF"
   ]
  },
  {
   "cell_type": "code",
   "execution_count": 23,
   "metadata": {},
   "outputs": [],
   "source": [
    "#Instanciando modelo SVM\n",
    "model_svm_rbf = SVC(kernel = 'rbf', \n",
    "                       class_weight = 'balanced')"
   ]
  },
  {
   "cell_type": "code",
   "execution_count": 24,
   "metadata": {},
   "outputs": [
    {
     "data": {
      "text/plain": [
       "SVC(class_weight='balanced')"
      ]
     },
     "execution_count": 24,
     "metadata": {},
     "output_type": "execute_result"
    }
   ],
   "source": [
    "#Ajustando os dados\n",
    "model_svm_rbf.fit(X_train, \n",
    "                     y_train\n",
    "                    )"
   ]
  },
  {
   "cell_type": "code",
   "execution_count": 25,
   "metadata": {},
   "outputs": [],
   "source": [
    "#Predições do modelo\n",
    "y_pred = model_svm_rbf.predict(X_test)"
   ]
  },
  {
   "cell_type": "code",
   "execution_count": 26,
   "metadata": {},
   "outputs": [
    {
     "data": {
      "image/png": "[encoded data removed]",
      "text/plain": [
       "<Figure size 864x576 with 2 Axes>"
      ]
     },
     "metadata": {
      "needs_background": "light"
     },
     "output_type": "display_data"
    }
   ],
   "source": [
    "#Matriz de confusão das previsões do modelo\n",
    "\n",
    "mat = confusion_matrix(y_test, \n",
    "                       y_pred)\n",
    "\n",
    "sns.heatmap(mat, \n",
    "            square = True, \n",
    "            annot = True, \n",
    "            fmt = 'd', \n",
    "            cbar = True)\n",
    "\n",
    "plt.xlabel('Classe predita')\n",
    "plt.ylabel('Classe verdadeira');"
   ]
  },
  {
   "cell_type": "markdown",
   "metadata": {},
   "source": [
    "### Kernel Sigmoid"
   ]
  },
  {
   "cell_type": "code",
   "execution_count": 27,
   "metadata": {},
   "outputs": [],
   "source": [
    "#Instanciando modelo SVM\n",
    "model_svm_sigmoid = SVC(kernel = 'sigmoid', \n",
    "                       class_weight = 'balanced')"
   ]
  },
  {
   "cell_type": "code",
   "execution_count": 28,
   "metadata": {},
   "outputs": [
    {
     "data": {
      "text/plain": [
       "SVC(class_weight='balanced', kernel='sigmoid')"
      ]
     },
     "execution_count": 28,
     "metadata": {},
     "output_type": "execute_result"
    }
   ],
   "source": [
    "#Ajustando os dados\n",
    "model_svm_sigmoid.fit(X_train, \n",
    "                     y_train\n",
    "                    )"
   ]
  },
  {
   "cell_type": "code",
   "execution_count": 29,
   "metadata": {},
   "outputs": [],
   "source": [
    "#Predições do modelo\n",
    "y_pred = model_svm_sigmoid.predict(X_test)"
   ]
  },
  {
   "cell_type": "code",
   "execution_count": 30,
   "metadata": {},
   "outputs": [
    {
     "data": {
      "image/png": "[encoded data removed]",
      "text/plain": [
       "<Figure size 864x576 with 2 Axes>"
      ]
     },
     "metadata": {
      "needs_background": "light"
     },
     "output_type": "display_data"
    }
   ],
   "source": [
    "#Matriz de confusão das previsões do modelo\n",
    "\n",
    "mat = confusion_matrix(y_test, \n",
    "                       y_pred)\n",
    "\n",
    "sns.heatmap(mat, \n",
    "            square = True, \n",
    "            annot = True, \n",
    "            fmt = 'd', \n",
    "            cbar = True)\n",
    "\n",
    "plt.xlabel('Classe predita')\n",
    "plt.ylabel('Classe verdadeira');"
   ]
  },
  {
   "cell_type": "markdown",
   "metadata": {},
   "source": [
    "Erros Sigmoid = 5\n",
    "\n",
    "Erros polinomial = 1\n",
    "\n",
    "Erros RBF = 0\n",
    "\n",
    "Vemos que a função de kernel que mais erros teve foi a sigmoid; a melhor função de Kernel, por sua vez, que não errou nenhuma das previsões foi a função RBF."
   ]
  }
 ],
 "metadata": {
  "kernelspec": {
   "display_name": "Python 3",
   "language": "python",
   "name": "python3"
  },
  "language_info": {
   "codemirror_mode": {
    "name": "ipython",
    "version": 3
   },
   "file_extension": ".py",
   "mimetype": "text/x-python",
   "name": "python",
   "nbconvert_exporter": "python",
   "pygments_lexer": "ipython3",
   "version": "3.8.3"
  }
 },
 "nbformat": 4,
 "nbformat_minor": 4
}
