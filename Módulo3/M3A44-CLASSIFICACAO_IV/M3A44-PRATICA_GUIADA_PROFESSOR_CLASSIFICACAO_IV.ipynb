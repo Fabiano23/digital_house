{
 "cells": [
  {
   "cell_type": "markdown",
   "metadata": {},
   "source": [
    "# Prática Guiada: introdução a Support Vector Machine (SVM), -  Reconhecimento Facial."
   ]
  },
  {
   "cell_type": "markdown",
   "metadata": {},
   "source": [
    "#### Nessa prática vamos discutir uma aplicação do método de [Suppert Vector machine]() para o [reconhecimento facial](https://towardsdatascience.com/building-a-facial-recognition-model-using-pca-svm-algorithms-c81d870add16) de personalidades mundialmente conhecidas. Esse dataset é um trecho pré-processado conjunto de dados conhecido como [`Labeled Faces in the Wild (LFW)`](http://vis-www.cs.umass.edu/lfw/).\n",
    "\n",
    "\n",
    "#### Cada imagem é centralizada em uma única face. Cada pixel de cada canal (cor em RGB) é codificado por um ponto flutuante no intervalo de $0.0$ a $1,0$.\n",
    "\n",
    "#### A tarefa é chamada de [Reconhecimento](https://www.ijrte.org/wp-content/uploads/papers/v7i6s3/F1023376S19.pdf) de rosto (ou identificação): dada a imagem de um rosto, encontre o nome da pessoa que recebeu um conjunto de treinamento (galeria).\n",
    "\n",
    "#### As imagens originais são $250 \\times 250$ pixels, mas os argumentos de fatia e redimensionamento padrão os reduzem para $62 \\times 47$."
   ]
  },
  {
   "cell_type": "markdown",
   "metadata": {},
   "source": [
    "\n",
    "#### Utilizando um conjunto de dados formado por milhares de fotos coletadas de diversas figuras públicas, incluído na biblioteca [`Scikit_Learn`](https://scikit-learn.org/) vamos aplicar a técnica SVM.\n",
    "\n",
    "#### Primeiramente vamos importar: \n",
    "\n",
    "- A biblioteca [`sklearn.datasets.fetch_lfw_people`](https://scikit-learn.org/stable/auto_examples/applications/plot_face_recognition.html#sphx-glr-auto-examples-applications-plot-face-recognition-py) para carregar o conjunto de dados rotulados de rostos pessoas conhecidas.\n",
    "\n",
    "- A biblioteca [`matplotlib.pyplot`](https://matplotlib.org/3.1.1/api/_as_gen/matplotlib.pyplot.html) para gerar os gráficos necessários.\n",
    "\n",
    "- A biblioteca [`numpy`](https://numpy.org/) para a manipulação dos dados."
   ]
  },
  {
   "cell_type": "code",
   "execution_count": 1,
   "metadata": {},
   "outputs": [],
   "source": [
    "from sklearn.datasets import fetch_lfw_people\n",
    "import matplotlib.pyplot as plt\n",
    "%matplotlib inline\n",
    "import numpy as np"
   ]
  },
  {
   "cell_type": "markdown",
   "metadata": {},
   "source": [
    "####  <span style = \"color:red\">Código Original.</span>\n",
    "<!---\n",
    "from sklearn.datasets import fetch_lfw_people\n",
    "import matplotlib.pyplot as plt\n",
    "%matplotlib inline\n",
    "import numpy as np\n",
    "-->"
   ]
  },
  {
   "cell_type": "markdown",
   "metadata": {},
   "source": [
    "#### Vamos aplicar a função [`fetch_lfw_people()`](https://scikit-learn.org/stable/modules/generated/sklearn.datasets.fetch_lfw_people.html) para carregar o conjunto de dados rotulados de rostos de pessoas ([LFW](https://scikit-learn.org/0.16/datasets/labeled_faces.html)) para classificação. \n",
    "\n",
    "#### Umas das características dessa função é que o conjunto de dados extraído retém apenas imagens de pessoas que tenham pelo menos `min_faces_per_person` imagens diferentes, um parâmetro da função. "
   ]
  },
  {
   "cell_type": "code",
   "execution_count": 2,
   "metadata": {},
   "outputs": [],
   "source": [
    "from sklearn.datasets import fetch_lfw_people\n",
    "\n",
    "faces = fetch_lfw_people(min_faces_per_person = 60)"
   ]
  },
  {
   "cell_type": "markdown",
   "metadata": {},
   "source": [
    "####  <span style = \"color:red\">Código Original.</span>\n",
    "<!---\n",
    "from sklearn.datasets import fetch_lfw_people\n",
    "\n",
    "faces = fetch_lfw_people(min_faces_per_person = 60)\n",
    "-->"
   ]
  },
  {
   "cell_type": "markdown",
   "metadata": {},
   "source": [
    "#### O objeto `faces` é do tipo [`sklearn.utils.Bunch`](https://scikit-learn.org/stable/modules/generated/sklearn.utils.Bunch.html), contido no módulo [`sklearn.utils`](https://scikit-learn.org/stable/modules/classes.html#module-sklearn.utils)."
   ]
  },
  {
   "cell_type": "code",
   "execution_count": 3,
   "metadata": {},
   "outputs": [
    {
     "data": {
      "text/plain": [
       "sklearn.utils.Bunch"
      ]
     },
     "execution_count": 3,
     "metadata": {},
     "output_type": "execute_result"
    }
   ],
   "source": [
    "type(faces)"
   ]
  },
  {
   "cell_type": "markdown",
   "metadata": {},
   "source": [
    "####  <span style = \"color:red\">Código Original.</span>\n",
    "<!---\n",
    "type(faces)\n",
    "-->"
   ]
  },
  {
   "cell_type": "markdown",
   "metadata": {},
   "source": [
    "#### Temos ainda os atributos: \n",
    "\n",
    "* `.target_names`: retorna o número de nomes que atendem à condição imposta pelo parâmetro `min_faces_per_person`.\n",
    "\n",
    "*  `.images.shape`: retorna o formato do objeto `Bunch` que recebe os dados."
   ]
  },
  {
   "cell_type": "code",
   "execution_count": 4,
   "metadata": {},
   "outputs": [
    {
     "name": "stdout",
     "output_type": "stream",
     "text": [
      "Ariel Sharon\n",
      "Colin Powell\n",
      "Donald Rumsfeld\n",
      "George W Bush\n",
      "Gerhard Schroeder\n",
      "Hugo Chavez\n",
      "Junichiro Koizumi\n",
      "Tony Blair\n"
     ]
    }
   ],
   "source": [
    "for name in faces.target_names:\n",
    "     print(name)"
   ]
  },
  {
   "cell_type": "markdown",
   "metadata": {},
   "source": [
    "####  <span style = \"color:red\">Código Original.</span>\n",
    "<!---\n",
    "for name in faces.target_names:\n",
    "     print(name)\n",
    "-->        "
   ]
  },
  {
   "cell_type": "markdown",
   "metadata": {},
   "source": [
    "#### O atributo [`fetch_lfw_people().images`](https://www.kite.com/python/docs/sklearn.datasets.fetch_lfw_people) retorna um arranjo `numpy` de forma `(1, 3)`, em que cada linha é uma imagem de rosto correspondente a uma das $5749$ pessoas no conjunto de dados."
   ]
  },
  {
   "cell_type": "code",
   "execution_count": 5,
   "metadata": {},
   "outputs": [
    {
     "name": "stdout",
     "output_type": "stream",
     "text": [
      "(1348, 62, 47)\n"
     ]
    }
   ],
   "source": [
    "print(faces.images.shape)"
   ]
  },
  {
   "cell_type": "markdown",
   "metadata": {},
   "source": [
    "#### Podemos então representar gráficamente algumas das fotos, para saber com o que estamos trabalhando. \n",
    "\n",
    "#### Vamos aplicar a função [`plt.subplots()`](https://matplotlib.org/3.2.2/api/_as_gen/matplotlib.pyplot.subplots.html) para definir um conjunto de subplots para uma figura, nesse caso com três linhas e cinco colunas.\n",
    "\n",
    "#### Para a realização da plotagem vamos criar um `loop for` sobre  [`enumerate()`](https://docs.python.org/3/library/functions.html#enumerate), essa função retorna tuplas com elementos indexados. \n",
    "\n",
    "#### Nesse caso os valores retornados são iteradores `1-D`  dados pelo atributo [`.flat()`](https://numpy.org/doc/stable/reference/generated/numpy.ndarray.flat.html)  e capazes de serem acessados pela função [`.imshow()`](https://matplotlib.org/3.1.1/api/_as_gen/matplotlib.pyplot.imshow.html) para exibição das imagens associadas ao atributo `faces.images[i]`.\n",
    "\n",
    "#### Quando a função [`.imshow()`](https://matplotlib.org/3.1.1/api/_as_gen/matplotlib.pyplot.imshow.html) é aplicada às imagens, é importante observar o parâmetro  `cmap`, que mapeia os dados escalares em cores.\n",
    "\n",
    "#### Para esse plot não vamos dar nomes aos eixos, mantendo os  `xticks = []`,  `yticks = []` como listas vazias no método `.set()`, mas vamos dar rótulos para cada imagem, aplicando os nomes de target `target_names` de cada indivíduo ao parâmetro `xlabel`."
   ]
  },
  {
   "cell_type": "markdown",
   "metadata": {},
   "source": [
    "#### Vejamos um exemplor de aplicação da função `.flat()`."
   ]
  },
  {
   "cell_type": "code",
   "execution_count": 6,
   "metadata": {},
   "outputs": [
    {
     "name": "stdout",
     "output_type": "stream",
     "text": [
      "2\n",
      "3\n",
      "4\n",
      "5\n",
      "6\n",
      "7\n"
     ]
    }
   ],
   "source": [
    "#list(enumerate(ax.flat))\n",
    "import numpy as np\n",
    "\n",
    "a = np.array([[2,3],\n",
    "              [4,5],\n",
    "              [6,7]])\n",
    "\n",
    "for i in a.flat:\n",
    "    print(i)"
   ]
  },
  {
   "cell_type": "code",
   "execution_count": 7,
   "metadata": {},
   "outputs": [
    {
     "data": {
      "image/png": "[encoded data removed]",
      "text/plain": [
       "<Figure size 432x288 with 15 Axes>"
      ]
     },
     "metadata": {},
     "output_type": "display_data"
    }
   ],
   "source": [
    "fig, ax = plt.subplots(3, 5)\n",
    "\n",
    "for i, axi in enumerate(ax.flat):\n",
    "    axi.imshow(faces.images[i], \n",
    "               cmap = 'bone'\n",
    "              )\n",
    "    axi.set(xticks = [], \n",
    "            yticks = [], \n",
    "            xlabel = faces.target_names[faces.target[i]]\n",
    "           )"
   ]
  },
  {
   "cell_type": "markdown",
   "metadata": {},
   "source": [
    "####  <span style = \"color:red\">Código Original.</span>\n",
    "<!---\n",
    "fig, ax = plt.subplots(3, 5)\n",
    "\n",
    "for i, axi in enumerate(ax.flat):\n",
    "    axi.imshow(faces.images[i], \n",
    "               cmap = 'bone'\n",
    "              )\n",
    "    axi.set(xticks = [], \n",
    "            yticks = [], \n",
    "            xlabel = faces.target_names[faces.target[i]]\n",
    "           )\n",
    "-->"
   ]
  },
  {
   "cell_type": "markdown",
   "metadata": {},
   "source": [
    "### PCA e SVM.\n",
    "\n",
    "#### Cada imagem tem $[62 \\times 47]$ ou quase $3.000$ `pixels`.\n",
    "\n",
    "#### É possível prosseguir usando simplesmente cada valor de `pixel` como uma característica, mas geralmente é mais eficaz usar algum tipo de pré-processador para extrair características mais significativas. \n",
    "\n",
    "#### Aqui, vamos usar uma análise de componentes principais, [`PCA`](https://builtin.com/data-science/step-step-explanation-principal-component-analysis), para [extrair](https://www.ijrte.org/wp-content/uploads/papers/v7i6s3/F1023376S19.pdf) `150` componentes fundamentais para alimentar nosso classificador `SVM`. "
   ]
  },
  {
   "cell_type": "markdown",
   "metadata": {},
   "source": [
    "#### Faremos o `split` entre subconjuntos de treino e teste para poder avaliar o classificador. \n",
    "\n",
    "#### Aqui usaremos como características descritivas os dados obtidos com a aplicação do atributo [`.data`](https://www.kite.com/python/docs/sklearn.datasets.fetch_lfw_people), que retorna um arranjo `numpy` de formato $(13233, 2914)$ em que cada linha corresponde a uma imagem de rosto embaralhada do tamanho original $62 \\times 47$ pixels. \n",
    "\n",
    "#### Os targets são dados pelo atributo [`.target`](https://www.kite.com/python/docs/sklearn.datasets.fetch_lfw_people), um arranjo `numpy` de forma $(13233,)$, com rótulos associados a cada imagem de rosto. Esses rótulos variam de $0$ a $5748$ e correspondem aos `IDs` dos indivíduos.\n",
    "\n",
    "#### Para o embaralhamento dos dados usamos o parâmetro `random_state`."
   ]
  },
  {
   "cell_type": "code",
   "execution_count": 8,
   "metadata": {},
   "outputs": [],
   "source": [
    "from sklearn.model_selection import train_test_split\n",
    "\n",
    "Xtrain, Xtest, ytrain, ytest = train_test_split(faces.data, \n",
    "                                                faces.target, \n",
    "                                                random_state = 42\n",
    "                                               )"
   ]
  },
  {
   "cell_type": "markdown",
   "metadata": {},
   "source": [
    "####  <span style = \"color:red\">Código Original.</span>\n",
    "<!---\n",
    "from sklearn.model_selection import train_test_split\n",
    "\n",
    "Xtrain, Xtest, ytrain, ytest = train_test_split(faces.data, \n",
    "                                                faces.target, \n",
    "                                                random_state = 42\n",
    "                                               )\n",
    "-->"
   ]
  },
  {
   "cell_type": "markdown",
   "metadata": {},
   "source": [
    "#### Podemos treinar o modelo [`Principal component analysis`]() [(PCA)](https://towardsdatascience.com/pca-using-python-scikit-learn-e653f8989e60) sobre os dados de treinamento para reduzir as dimensões.\n",
    "\n",
    "#### Vamos importar:  \n",
    "\n",
    "* A biblioteca [`sklearn.svm.SVC`](https://scikit-learn.org/stable/modules/generated/sklearn.svm.SVC.html) é uma classe capaz de executar classificação binária e multi-classe em um conjunto de dados.\n",
    "\n",
    "* A biblioteca [`sklearn.decomposition.PCA`](https://scikit-learn.org/stable/modules/generated/sklearn.decomposition.PCA.html) que aplica a redução de dimensionalidade linear usando a Decomposição de Valor Singular [(SVD)](https://medium.com/@jonathan_hui/machine-learning-singular-value-decomposition-svd-principal-component-analysis-pca-1d45e885e491) dos dados para projetá-los em um espaço dimensional inferior. Os dados de entrada são centralizados, mas não redimensionados para cada recurso antes de aplicar o SVD.\n",
    "\n",
    "#### Na função `PCA` observamos os parâmetros:\n",
    "\n",
    "- `n_components`: Para definir o número de componentes a serem mantidos;\n",
    "- `whiten`\": Quando definido como `True`, os `components_` vetores são multiplicados pela raiz quadrada de `n_samples` e depois divididos pelos valores singulares para garantir saídas não correlacionadas com variações de unidade de componente.\n",
    "- `svd_solver`: Define o tipo de solucionador a ser empregado para a redução de dimensionalidade.\n",
    "- `random_state`: Cria uma semente pseudo-aleatória para quando `svd_solver = 'randomized'`."
   ]
  },
  {
   "cell_type": "code",
   "execution_count": 9,
   "metadata": {},
   "outputs": [],
   "source": [
    "from sklearn.svm import SVC\n",
    "from sklearn.decomposition import PCA\n",
    "\n",
    "pca = PCA(n_components = 150, \n",
    "          whiten = True, \n",
    "          svd_solver = 'randomized', \n",
    "          random_state = 42\n",
    "         )"
   ]
  },
  {
   "cell_type": "markdown",
   "metadata": {},
   "source": [
    "####  <span style = \"color:red\">Código Original.</span>\n",
    "<!---\n",
    "from sklearn.svm import SVC\n",
    "from sklearn.decomposition import PCA\n",
    "\n",
    "pca = PCA(n_components = 150, \n",
    "          whiten = True, \n",
    "          svd_solver = 'randomized', \n",
    "          random_state = 42\n",
    "         )\n",
    "-->"
   ]
  },
  {
   "cell_type": "markdown",
   "metadata": {},
   "source": [
    "#### Uma vez que reduzimos as dimensões do conjunto de treinamento com o método [`PCA`](https://towardsdatascience.com/a-one-stop-shop-for-principal-component-analysis-5582fb7e0a9c), vamos realizar o ajuste dos dados de treino a esse modelo, para isso usamos: \n",
    "\n",
    "- A função [`.fit()`](https://scikit-learn.org/stable/modules/generated/sklearn.decomposition.PCA.html#sklearn.decomposition.PCA.fit), que realiza o ajuste propriamente dito.\n",
    "\n",
    "- A função [`.transform()`](https://scikit-learn.org/stable/modules/generated/sklearn.decomposition.PCA.html#sklearn.decomposition.PCA.transform), que aplica a redução de dimensionalidade nos dados de treino e os projeta nos primeiros componentes principais extraídos anteriormente do conjunto de treinamento."
   ]
  },
  {
   "cell_type": "code",
   "execution_count": 10,
   "metadata": {},
   "outputs": [],
   "source": [
    "model_pca = pca.fit(Xtrain)\n",
    "\n",
    "X_train_pca = model_pca.transform(Xtrain)"
   ]
  },
  {
   "cell_type": "markdown",
   "metadata": {},
   "source": [
    "####  <span style = \"color:red\">Código Original.</span>\n",
    "<!---\n",
    "model_pca = pca.fit(Xtrain)\n",
    "\n",
    "X_train_pca = model_pca.transform(Xtrain)\n",
    "-->"
   ]
  },
  {
   "cell_type": "markdown",
   "metadata": {},
   "source": [
    "#### Observe a diferença entre as formas do conjunto de treino antes e depois da redução de dimensionalidade com a aplicação do atributo [`.shape`](https://numpy.org/doc/stable/reference/generated/numpy.ndarray.shape.html)."
   ]
  },
  {
   "cell_type": "code",
   "execution_count": 11,
   "metadata": {},
   "outputs": [
    {
     "name": "stdout",
     "output_type": "stream",
     "text": [
      "(1011, 2914)\n",
      "(1011, 150)\n"
     ]
    }
   ],
   "source": [
    "print(Xtrain.shape)\n",
    "print(X_train_pca.shape)"
   ]
  },
  {
   "cell_type": "markdown",
   "metadata": {},
   "source": [
    "####  <span style = \"color:red\">Código Original.</span>\n",
    "<!---\n",
    "print(Xtrain.shape)\n",
    "print(X_train_pca.shape)\n",
    "-->"
   ]
  },
  {
   "cell_type": "markdown",
   "metadata": {},
   "source": [
    "### Cross Validation.\n",
    "\n",
    "#### Vamos usar validação cruzada para explorar uma \"rede\" de combinações de parâmetros. Aqui, vamos ajustar `C`, que controla a dureza da margem, e `gama`,  que controla o tamanho da base radial do núcleo da função, para determinar o melhor modelo:\n",
    "\n",
    "#### Importamos a biblioteca:\n",
    "\n",
    "* [`sklearn.model_selection.cross_val_score`](https://scikit-learn.org/stable/modules/generated/sklearn.model_selection.cross_val_score.html), que avalia uma pontuação da validação cruzada.\n",
    "\n",
    "#### Depois será necessário criar dois objetos `svc_C` e `svc_gamma`, que receberão, respectivamente, listas com valores possíveis para o termo de suavização das margens e o coeficiente de kernel para 'rbf', 'poly' e 'sigmoid'.\n",
    "\n",
    "#### A idéia é percorrer um `loop for` duplo para `C` e `gamma`, calculando [`SVC()`](https://scikit-learn.org/stable/modules/generated/sklearn.svm.SVC.html) a classificação de vetores de suporte e testando os valores da matriz de pontuações do estimador, com a função [`cross_val_score()`](https://scikit-learn.org/stable/modules/generated/sklearn.model_selection.cross_val_score.html), para cada execução da validação cruzada.\n",
    "\n",
    "#### Ainda discutindo os [Parâmetros](https://scikit-learn.org/stable/auto_examples/svm/plot_rbf_parameters.html) da função [`SVC()`](https://scikit-learn.org/stable/modules/generated/sklearn.svm.SVC.html), devemos observar os parâmetros:\n",
    "\n",
    "* `kernel`: Especifica o tipo de kernel a ser usado no algoritmo. Ele deve ser um dos itens 'linear', 'poli', 'rbf', 'sigmoid', 'pré-computado' ou que possa ser chamado. Se nada for fornecido, 'rbf' será usado. Se uma chamada é fornecida, ela é usada para pré-calcular a matriz do kernel a partir de matrizes de dados; essa matriz deve ter a forma `(n_samples, n_samples)`.\n",
    "\n",
    "* `class_weight`: Define o parâmetro `C`, \n",
    "\n",
    "* `C`: Negocia a classificação correta dos exemplos de treinamento contra a maximização da margem da função de decisão. Para valores maiores de `C`, uma margem menor será aceita se a função de decisão for melhor na classificação correta de todos os pontos de treinamento. Um `C` mais baixo incentivará uma margem maior, portanto, uma função de decisão mais simples, ao custo da precisão do treinamento.\n",
    "\n",
    "* `gamma`: Define até que ponto a influência de um único exemplo de treinamento alcança, com valores baixos que significam 'longe' e valores altos que significam 'próximos'. Pode ser vistos como o inverso do raio de influência das amostras selecionadas pelo modelo como vetores de suporte.\n",
    "\n",
    "#### Para a escolha dos melhores valores de `C` e `gamma` vamos realizar uma varredura sobre uma faixa de valores possíveis para esses parâmetros."
   ]
  },
  {
   "cell_type": "code",
   "execution_count": 12,
   "metadata": {},
   "outputs": [
    {
     "name": "stdout",
     "output_type": "stream",
     "text": [
      "0.23123445349461055  gamma: 0.0001  C: 1\n",
      "0.6339511291030582  gamma: 0.0005  C: 1\n",
      "0.7982197727161878  gamma: 0.001  C: 1\n",
      "0.8071404184753451  gamma: 0.005  C: 1\n",
      "0.7140954982197727  gamma: 0.0001  C: 5\n",
      "0.8071452958103693  gamma: 0.0005  C: 5\n",
      "0.8150417012144564  gamma: 0.001  C: 5\n",
      "0.8091303711651954  gamma: 0.005  C: 5\n",
      "0.7992196263961372  gamma: 0.0001  C: 10\n",
      "0.8051504657854947  gamma: 0.0005  C: 10\n",
      "0.8150514558845046  gamma: 0.001  C: 10\n",
      "0.8051748524606156  gamma: 0.005  C: 10\n",
      "0.7982295273862363  gamma: 0.0001  C: 50\n",
      "0.7962639613715065  gamma: 0.0005  C: 50\n",
      "0.8111056918499733  gamma: 0.001  C: 50\n",
      "0.8051748524606156  gamma: 0.005  C: 50\n"
     ]
    }
   ],
   "source": [
    "from sklearn.model_selection import cross_val_score\n",
    "\n",
    "svc_C = [1, 5, 10, 50]\n",
    "svc_gamma = [0.0001, 0.0005, 0.001, 0.005]\n",
    "\n",
    "error_rates = {}\n",
    "\n",
    "for c in svc_C:\n",
    "    for g in svc_gamma:\n",
    "        model_svc = SVC(kernel = 'rbf', \n",
    "                        class_weight = 'balanced', \n",
    "                        C = c, \n",
    "                        gamma = g\n",
    "                       )\n",
    "        print (np.mean(cross_val_score(model_svc, \n",
    "                                       X_train_pca, \n",
    "                                       ytrain, \n",
    "                                       cv = 5\n",
    "                                      )\n",
    "                      ), \n",
    "               ' gamma:', g, \n",
    "               ' C:', c\n",
    "              )\n",
    "        \n",
    "        error = 1 - np.mean(cross_val_score(model_svc, \n",
    "                                            X_train_pca, \n",
    "                                            ytrain, \n",
    "                                            cv = 5\n",
    "                                           )\n",
    "                           )\n",
    "        error_rates.update({(c, g): error})"
   ]
  },
  {
   "cell_type": "markdown",
   "metadata": {},
   "source": [
    "#### Construímos um dicionário para guardar os valores os valores dos hyperparâmetros `C` e `gamma`, juntamente com os erros associados às medidas."
   ]
  },
  {
   "cell_type": "code",
   "execution_count": 13,
   "metadata": {},
   "outputs": [
    {
     "data": {
      "text/plain": [
       "{(1, 0.0001): 0.7687655465053894,\n",
       " (1, 0.0005): 0.3660488708969418,\n",
       " (1, 0.001): 0.20178022728381217,\n",
       " (1, 0.005): 0.19285958152465488,\n",
       " (5, 0.0001): 0.2859045017802273,\n",
       " (5, 0.0005): 0.1928547041896307,\n",
       " (5, 0.001): 0.1849582987855436,\n",
       " (5, 0.005): 0.19086962883480463,\n",
       " (10, 0.0001): 0.2007803736038628,\n",
       " (10, 0.0005): 0.19484953421450535,\n",
       " (10, 0.001): 0.18494854411549544,\n",
       " (10, 0.005): 0.1948251475393844,\n",
       " (50, 0.0001): 0.20177047261376369,\n",
       " (50, 0.0005): 0.20373603862849354,\n",
       " (50, 0.001): 0.18889430815002672,\n",
       " (50, 0.005): 0.1948251475393844}"
      ]
     },
     "execution_count": 13,
     "metadata": {},
     "output_type": "execute_result"
    }
   ],
   "source": [
    "error_rates"
   ]
  },
  {
   "cell_type": "markdown",
   "metadata": {},
   "source": [
    "#### Nossa combinação de parâmetros emerge da medida do menor erro associado."
   ]
  },
  {
   "cell_type": "code",
   "execution_count": 14,
   "metadata": {},
   "outputs": [
    {
     "data": {
      "text/plain": [
       "(10, 0.001)"
      ]
     },
     "execution_count": 14,
     "metadata": {},
     "output_type": "execute_result"
    }
   ],
   "source": [
    "#print(error_rates)\n",
    "min(error_rates, key = error_rates.get)"
   ]
  },
  {
   "cell_type": "markdown",
   "metadata": {},
   "source": [
    "####  <span style = \"color:red\">Código Original.</span>\n",
    "<!---\n",
    "from sklearn.model_selection import cross_val_score\n",
    "\n",
    "svc_C = [1, 5, 10, 50]\n",
    "svc_gamma = [0.0001, 0.0005, 0.001, 0.005]\n",
    "\n",
    "for c in svc_C:\n",
    "    for g in svc_gamma:\n",
    "        model_svc = SVC(kernel = 'rbf', \n",
    "                        class_weight = 'balanced', \n",
    "                        C = c, \n",
    "                        gamma = g\n",
    "                       )\n",
    "        print (np.mean(cross_val_score(model_svc, \n",
    "                                       X_train_pca, \n",
    "                                       ytrain, \n",
    "                                       cv = 5\n",
    "                                      )\n",
    "                      ), \n",
    "               ' gamma:', g, \n",
    "               ' C:', c\n",
    "              )\n",
    "-->"
   ]
  },
  {
   "cell_type": "markdown",
   "metadata": {},
   "source": [
    "#### Os valores ideais caem em direção ao centro da nossa rede de possíveis parâmetros. Se eles caírem nas bordas, devemos ampliar a rede para termos certeza de que encontramos o verdadeiro ideal.\n",
    "\n",
    "#### Agora, com este modelo validado de forma cruzada, podemos prever as `tags` dos dados de teste que o modelo ainda não viu.\n",
    "\n",
    "#### Vamos definir um modelo otimizado e aplicar novamente a função [`SVC()`](https://scikit-learn.org/stable/modules/generated/sklearn.svm.SVC.html) para a classificação dos vetores de suporte, aplicando os hiperparâmetros encontrados."
   ]
  },
  {
   "cell_type": "code",
   "execution_count": 15,
   "metadata": {},
   "outputs": [],
   "source": [
    "model_svc_otimizado = SVC(kernel = 'rbf', \n",
    "                       class_weight = 'balanced', \n",
    "                       C = 10, \n",
    "                       gamma = 0.001\n",
    "                      )"
   ]
  },
  {
   "cell_type": "markdown",
   "metadata": {},
   "source": [
    "####  <span style = \"color:red\">Código Original.</span>\n",
    "<!---\n",
    "model_svc_otimizado = SVC(kernel = 'rbf', \n",
    "                       class_weight = 'balanced', \n",
    "                       C = 10, \n",
    "                       gamma = 0.005\n",
    "                      )\n",
    "-->"
   ]
  },
  {
   "cell_type": "markdown",
   "metadata": {},
   "source": [
    "#### Agora ajustamos o modelo ideal com todos os dados de treinamento:"
   ]
  },
  {
   "cell_type": "code",
   "execution_count": 16,
   "metadata": {},
   "outputs": [
    {
     "data": {
      "text/plain": [
       "SVC(C=10, class_weight='balanced', gamma=0.001)"
      ]
     },
     "execution_count": 16,
     "metadata": {},
     "output_type": "execute_result"
    }
   ],
   "source": [
    "model_svc_otimizado.fit(X_train_pca, \n",
    "                     ytrain\n",
    "                    )"
   ]
  },
  {
   "cell_type": "markdown",
   "metadata": {},
   "source": [
    "####  <span style = \"color:red\">Código Original.</span>\n",
    "<!---\n",
    "model_svc_otimizado.fit(X_train_pca, \n",
    "                     ytrain\n",
    "                    )\n",
    "-->"
   ]
  },
  {
   "cell_type": "markdown",
   "metadata": {},
   "source": [
    "## Previsão sobre dados não observados"
   ]
  },
  {
   "cell_type": "markdown",
   "metadata": {},
   "source": [
    "#### Vamos então aplicar a função [`.transform()`](https://scikit-learn.org/stable/modules/generated/sklearn.decomposition.PCA.html#sklearn.decomposition.PCA.transform), que gera a redução de dimensionalidade nos dados de teste e os projeta nos primeiros componentes principais extraídos anteriormente do conjunto de treinamento."
   ]
  },
  {
   "cell_type": "code",
   "execution_count": 17,
   "metadata": {},
   "outputs": [],
   "source": [
    "# Primeiro passamos os dados de teste pelo mesmo processo de redução de dimensões\n",
    "X_test_pca = model_pca.transform(Xtest)"
   ]
  },
  {
   "cell_type": "markdown",
   "metadata": {},
   "source": [
    "####  <span style = \"color:red\">Código Original.</span>\n",
    "<!---\n",
    "X_test_pca = model_pca.transform(Xtest)\n",
    "-->"
   ]
  },
  {
   "cell_type": "markdown",
   "metadata": {},
   "source": [
    "#### Realizamos a previsão dos dados de teste com a função [`.predict()`](https://scikit-learn.org/stable/modules/generated/sklearn.svm.SVC.html#sklearn.svm.SVC.predict)."
   ]
  },
  {
   "cell_type": "code",
   "execution_count": 18,
   "metadata": {},
   "outputs": [],
   "source": [
    "yfit = model_svc_otimizado.predict(X_test_pca)"
   ]
  },
  {
   "cell_type": "markdown",
   "metadata": {},
   "source": [
    "####  <span style = \"color:red\">Código Original.</span>\n",
    "<!---\n",
    "yfit = model_svc_otimizado.predict(X_test_pca)\n",
    "-->"
   ]
  },
  {
   "cell_type": "markdown",
   "metadata": {},
   "source": [
    "#### Vamos ver algumas das imagens de teste junto com seus valores previstos.\n",
    "\n",
    "#### Para isso vamos novamente aplicar a função [`plt.subplots()`](https://matplotlib.org/3.2.2/api/_as_gen/matplotlib.pyplot.subplots.html) para definir um conjunto de subplots para uma figura, nesse caso com três linhas e cinco colunas.\n",
    "\n",
    "#### Realizamos novamene um  `loop for` sobre  [`enumerate()`](https://docs.python.org/3/library/functions.html#enumerate), essa função, que retorna tuplas com elementos indexados. \n",
    "\n",
    "#### Os valores retornados são iteradores `1-D`  dados pelo atributo [`ax.flat`](https://numpy.org/doc/stable/reference/generated/numpy.ndarray.flat.html)  e capazes de serem acessados pela função [`.imshow()`](https://matplotlib.org/3.1.1/api/_as_gen/matplotlib.pyplot.imshow.html) para exibição das imagens associadas ao atributo `faces.images[i]`.\n",
    "\n",
    "#### Quando a função [`.imshow()`](https://matplotlib.org/3.1.1/api/_as_gen/matplotlib.pyplot.imshow.html) é aplicada às imagens de teste, e novamente o parâmetro  `cmap` mapeia os dados escalares em cores. Mas aqui vamos alterar o formato dos dados avaliados, refletindo a redução de dimensionalidade devido à aplicação do `PCA`.\n",
    "\n",
    "#### Novamente, não vamos dar nomes aos eixos, mantendo os  `xticks = []`,  `yticks = []` como listas vazias no método `.set()`, mas vamos dar rótulos para cada imagem, aplicando os nomes dos target `target_names`.\n",
    "\n",
    "#### Tomamos o cuidado de associar rótulos em preto às imagens corretamente classificadas e em vermelho àquelas classificadas com erro. Finalizamos o plote com um título pertinente."
   ]
  },
  {
   "cell_type": "code",
   "execution_count": 19,
   "metadata": {},
   "outputs": [
    {
     "data": {
      "image/png": "[encoded data removed]",
      "text/plain": [
       "<Figure size 432x288 with 24 Axes>"
      ]
     },
     "metadata": {},
     "output_type": "display_data"
    }
   ],
   "source": [
    "%matplotlib inline\n",
    "import numpy as np\n",
    "import matplotlib.pyplot as plt\n",
    "\n",
    "\n",
    "fig, ax = plt.subplots(4, 6)\n",
    "\n",
    "for i, axi in enumerate(ax.flat):\n",
    "    \n",
    "    axi.imshow(Xtest[i].reshape(62, 47),\n",
    "               cmap = 'bone'\n",
    "              )\n",
    "    axi.set(xticks = [], \n",
    "            yticks = []\n",
    "           )\n",
    "    axi.set_ylabel(faces.target_names[yfit[i]].split()[-1], \n",
    "                   color = 'black' if yfit[i] == ytest[i] else 'red'\n",
    "                  )\n",
    "    fig.suptitle('Predicted Names; Incorrect Labels in Red', \n",
    "                 size = 14\n",
    "                );"
   ]
  },
  {
   "cell_type": "markdown",
   "metadata": {},
   "source": [
    "####  <span style = \"color:red\">Código Original.</span>\n",
    "<!---\n",
    "%matplotlib inline\n",
    "import numpy as np\n",
    "import matplotlib.pyplot as plt\n",
    "\n",
    "\n",
    "fig, ax = plt.subplots(4, 6)\n",
    "for i, axi in enumerate(ax.flat):\n",
    "    \n",
    "    axi.imshow(Xtest[i].reshape(62, 47), \n",
    "               cmap = 'bone'\n",
    "              )\n",
    "    axi.set(xticks = [], \n",
    "            yticks = []\n",
    "           )\n",
    "    axi.set_ylabel(faces.target_names[yfit[i]].split()[-1], \n",
    "                   color = 'black' if yfit[i] == ytest[i] else 'red'\n",
    "                  )\n",
    "    fig.suptitle('Predicted Names; Incorrect Labels in Red', \n",
    "                 size = 14\n",
    "                );\n",
    "-->"
   ]
  },
  {
   "cell_type": "markdown",
   "metadata": {},
   "source": [
    "#### A partir desta pequena amostra, nosso estimador ideal erroneamente indicou apenas uma face. A importação da biblioteca [`sklearn.metrics.accuracy_score`](https://scikit-learn.org/stable/modules/generated/sklearn.metrics.accuracy_score.html) ajuda a entender a acurácia do modelo."
   ]
  },
  {
   "cell_type": "code",
   "execution_count": 20,
   "metadata": {},
   "outputs": [
    {
     "data": {
      "text/plain": [
       "0.8486646884272997"
      ]
     },
     "execution_count": 20,
     "metadata": {},
     "output_type": "execute_result"
    }
   ],
   "source": [
    "from sklearn.metrics import accuracy_score\n",
    "accuracy_score(ytest, \n",
    "               yfit\n",
    "              )"
   ]
  },
  {
   "cell_type": "markdown",
   "metadata": {},
   "source": [
    "####  <span style = \"color:red\">Código Original.</span>\n",
    "<!---\n",
    "from sklearn.metrics import accuracy_score\n",
    "accuracy_score(ytest, \n",
    "               yfit\n",
    "              )\n",
    "-->"
   ]
  },
  {
   "cell_type": "markdown",
   "metadata": {},
   "source": [
    "#### Podemos obter uma melhor percepção do desempenho de nosso estimador usando o relatório de classificação, ao importarmos a biblioteca [`sklearn.metrics.classification_report`](https://scikit-learn.org/stable/modules/generated/sklearn.metrics.classification_report.html), que enumera as estatísticas de recuperação por tag.\n",
    "\n",
    "#### A função [`classification_report()`](https://scikit-learn.org/0.18/modules/generated/sklearn.metrics.classification_report.html) gera o reporte mencionado:\n",
    "\n",
    "* A precisão [`precision`](https://scikit-learn.org/stable/modules/generated/sklearn.metrics.precision_recall_fscore_support.html#sklearn.metrics.precision_recall_fscore_support) é a razão `tp / (tp + fp)`, em que `tp` é o número de verdadeiros positivos e `fp` o número de falsos positivos.\n",
    "\n",
    "* O recall [`recall`](https://scikit-learn.org/stable/modules/generated/sklearn.metrics.recall_score.html) é a razão `tp / (tp + fn)`\n",
    "\n",
    "* O [`f1_score`](https://scikit-learn.org/stable/modules/generated/sklearn.metrics.f1_score.html) é uma média ponderada da `precisão` e `recall`.\n",
    "\n",
    "* O suporte [`support`](https://scikit-learn.org/stable/modules/generated/sklearn.metrics.precision_recall_fscore_support.html#sklearn.metrics.precision_recall_fscore_support) é o número de ocorrências de cada classe em `y_true`."
   ]
  },
  {
   "cell_type": "code",
   "execution_count": 21,
   "metadata": {},
   "outputs": [
    {
     "name": "stdout",
     "output_type": "stream",
     "text": [
      "                   precision    recall  f1-score   support\n",
      "\n",
      "     Ariel Sharon       0.65      0.73      0.69        15\n",
      "     Colin Powell       0.80      0.87      0.83        68\n",
      "  Donald Rumsfeld       0.74      0.84      0.79        31\n",
      "    George W Bush       0.92      0.83      0.88       126\n",
      "Gerhard Schroeder       0.86      0.83      0.84        23\n",
      "      Hugo Chavez       0.93      0.70      0.80        20\n",
      "Junichiro Koizumi       0.92      1.00      0.96        12\n",
      "       Tony Blair       0.85      0.95      0.90        42\n",
      "\n",
      "         accuracy                           0.85       337\n",
      "        macro avg       0.83      0.84      0.84       337\n",
      "     weighted avg       0.86      0.85      0.85       337\n",
      "\n"
     ]
    }
   ],
   "source": [
    "from sklearn.metrics import classification_report\n",
    "\n",
    "print(classification_report(ytest, \n",
    "                            yfit, \n",
    "                            target_names = faces.target_names\n",
    "                           )\n",
    "     )"
   ]
  },
  {
   "cell_type": "markdown",
   "metadata": {},
   "source": [
    "####  <span style = \"color:red\">Código Original.</span>\n",
    "<!---\n",
    "from sklearn.metrics import classification_report\n",
    "\n",
    "print(classification_report(ytest, \n",
    "                            yfit, \n",
    "                            target_names = faces.target_names\n",
    "                           )\n",
    "     )\n",
    "-->"
   ]
  },
  {
   "cell_type": "markdown",
   "metadata": {},
   "source": [
    "#### Também podemos mostrar a matriz de confusão entre essas classes, se importarmos a biblioteca [`sklearn.metrics.confusion_matrix`](https://scikit-learn.org/stable/modules/generated/sklearn.metrics.confusion_matrix.html). \n",
    "\n",
    "\n",
    "#### Isso nos ajuda a ter uma ideia de quais tags podem ser as mais confusas para o estimador."
   ]
  },
  {
   "cell_type": "code",
   "execution_count": 22,
   "metadata": {},
   "outputs": [
    {
     "name": "stdout",
     "output_type": "stream",
     "text": [
      "[[ 11   1   2   1   0   0   0   0]\n",
      " [  2  59   2   3   0   0   0   2]\n",
      " [  1   2  26   1   0   0   0   1]\n",
      " [  2  11   3 105   2   1   0   2]\n",
      " [  0   0   1   1  19   0   1   1]\n",
      " [  1   1   0   2   1  14   0   1]\n",
      " [  0   0   0   0   0   0  12   0]\n",
      " [  0   0   1   1   0   0   0  40]]\n"
     ]
    }
   ],
   "source": [
    "from sklearn.metrics import confusion_matrix\n",
    "print(confusion_matrix(ytest, \n",
    "                       yfit\n",
    "                      ))"
   ]
  },
  {
   "cell_type": "code",
   "execution_count": 23,
   "metadata": {},
   "outputs": [
    {
     "data": {
      "image/png": "[encoded data removed]",
      "text/plain": [
       "<Figure size 432x288 with 2 Axes>"
      ]
     },
     "metadata": {},
     "output_type": "display_data"
    }
   ],
   "source": [
    "import seaborn as sns; sns.set()\n",
    "from sklearn.metrics import confusion_matrix\n",
    "\n",
    "mat = confusion_matrix(ytest, \n",
    "                       yfit\n",
    "                      )\n",
    "sns.heatmap(mat.T, \n",
    "            square = True, \n",
    "            annot = True, \n",
    "            fmt = 'd', \n",
    "            cbar = True, \n",
    "            xticklabels = faces.target_names, \n",
    "            yticklabels = faces.target_names\n",
    "           )\n",
    "\n",
    "plt.xlabel('true label')\n",
    "plt.ylabel('predicted label');"
   ]
  },
  {
   "cell_type": "markdown",
   "metadata": {},
   "source": [
    "####  <span style = \"color:red\">Código Original.</span>\n",
    "<!---\n",
    "import seaborn as sns; sns.set()\n",
    "from sklearn.metrics import confusion_matrix\n",
    "\n",
    "mat = confusion_matrix(ytest, \n",
    "                       yfit\n",
    "                      )\n",
    "sns.heatmap(mat.T, \n",
    "            square = True, \n",
    "            annot = True, \n",
    "            fmt = 'd', \n",
    "            cbar = False, \n",
    "            xticklabels = faces.target_names, \n",
    "            yticklabels = faces.target_names\n",
    "           )\n",
    "\n",
    "plt.xlabel('true label')\n",
    "plt.ylabel('predicted label');\n",
    "-->"
   ]
  },
  {
   "cell_type": "markdown",
   "metadata": {},
   "source": [
    "#### Para uma tarefa de reconhecimento facial no mundo real, em que as fotos não são pré-cortadas em grades convenientes, a única diferença no esquema de classificação facial é a seleção de características: \n",
    "\n",
    "* você precisaria usar um algoritmo mais sofisticado para encontrar as faces e extrair características que são independentes da pixilação. \n",
    "* Para este tipo de aplicação, uma boa opção é usar o [`OpenCV.org`](https://opencv.org/), que, entre outras coisas, inclui implementações pré-treinadas de ferramentas de última geração para extração de características para imagens em geral e faces em particular."
   ]
  },
  {
   "cell_type": "markdown",
   "metadata": {},
   "source": [
    "##  <span style = \"color:blue\">Prática Independente.</span>\n",
    "<!---\n",
    "-->"
   ]
  },
  {
   "cell_type": "markdown",
   "metadata": {},
   "source": [
    "#### Importe as bibliotecas necessárias para a realização de uma classificação com o método `support vector machine` e carregue os dados do dataset `breast-cancer.csv` em um dataframe e estude os dados."
   ]
  },
  {
   "cell_type": "code",
   "execution_count": 24,
   "metadata": {},
   "outputs": [],
   "source": [
    "import pandas as pd\n",
    "import numpy as np\n",
    "from sklearn.preprocessing import StandardScaler\n",
    "from sklearn.model_selection import train_test_split\n",
    "from sklearn.svm import SVC\n",
    "from sklearn.model_selection import cross_val_score\n",
    "from sklearn.metrics import confusion_matrix\n",
    "import seaborn as sns\n",
    "import matplotlib.pyplot as plt"
   ]
  },
  {
   "cell_type": "markdown",
   "metadata": {},
   "source": [
    "####  <span style = \"color:red\">Código Original.</span>\n",
    "<!---\n",
    "# Importamos as bibliotecas a serem usadas\n",
    "import pandas as pd\n",
    "import numpy as np\n",
    "from sklearn.model_selection import train_test_split\n",
    "from sklearn.model_selection import cross_val_score\n",
    "from sklearn.svm import SVC\n",
    "from sklearn.metrics import accuracy_score\n",
    "-->"
   ]
  },
  {
   "cell_type": "code",
   "execution_count": 25,
   "metadata": {},
   "outputs": [
    {
     "data": {
      "text/html": [
       "<div>\n",
       "<style scoped>\n",
       "    .dataframe tbody tr th:only-of-type {\n",
       "        vertical-align: middle;\n",
       "    }\n",
       "\n",
       "    .dataframe tbody tr th {\n",
       "        vertical-align: top;\n",
       "    }\n",
       "\n",
       "    .dataframe thead th {\n",
       "        text-align: right;\n",
       "    }\n",
       "</style>\n",
       "<table border=\"1\" class=\"dataframe\">\n",
       "  <thead>\n",
       "    <tr style=\"text-align: right;\">\n",
       "      <th></th>\n",
       "      <th>0</th>\n",
       "      <th>1</th>\n",
       "      <th>2</th>\n",
       "      <th>3</th>\n",
       "      <th>4</th>\n",
       "      <th>5</th>\n",
       "      <th>6</th>\n",
       "      <th>7</th>\n",
       "      <th>8</th>\n",
       "      <th>9</th>\n",
       "      <th>10</th>\n",
       "    </tr>\n",
       "  </thead>\n",
       "  <tbody>\n",
       "    <tr>\n",
       "      <th>0</th>\n",
       "      <td>1000025</td>\n",
       "      <td>5</td>\n",
       "      <td>1</td>\n",
       "      <td>1</td>\n",
       "      <td>1</td>\n",
       "      <td>2</td>\n",
       "      <td>1</td>\n",
       "      <td>3</td>\n",
       "      <td>1</td>\n",
       "      <td>1</td>\n",
       "      <td>2</td>\n",
       "    </tr>\n",
       "    <tr>\n",
       "      <th>1</th>\n",
       "      <td>1002945</td>\n",
       "      <td>5</td>\n",
       "      <td>4</td>\n",
       "      <td>4</td>\n",
       "      <td>5</td>\n",
       "      <td>7</td>\n",
       "      <td>10</td>\n",
       "      <td>3</td>\n",
       "      <td>2</td>\n",
       "      <td>1</td>\n",
       "      <td>2</td>\n",
       "    </tr>\n",
       "    <tr>\n",
       "      <th>2</th>\n",
       "      <td>1015425</td>\n",
       "      <td>3</td>\n",
       "      <td>1</td>\n",
       "      <td>1</td>\n",
       "      <td>1</td>\n",
       "      <td>2</td>\n",
       "      <td>2</td>\n",
       "      <td>3</td>\n",
       "      <td>1</td>\n",
       "      <td>1</td>\n",
       "      <td>2</td>\n",
       "    </tr>\n",
       "    <tr>\n",
       "      <th>3</th>\n",
       "      <td>1016277</td>\n",
       "      <td>6</td>\n",
       "      <td>8</td>\n",
       "      <td>8</td>\n",
       "      <td>1</td>\n",
       "      <td>3</td>\n",
       "      <td>4</td>\n",
       "      <td>3</td>\n",
       "      <td>7</td>\n",
       "      <td>1</td>\n",
       "      <td>2</td>\n",
       "    </tr>\n",
       "    <tr>\n",
       "      <th>4</th>\n",
       "      <td>1017023</td>\n",
       "      <td>4</td>\n",
       "      <td>1</td>\n",
       "      <td>1</td>\n",
       "      <td>3</td>\n",
       "      <td>2</td>\n",
       "      <td>1</td>\n",
       "      <td>3</td>\n",
       "      <td>1</td>\n",
       "      <td>1</td>\n",
       "      <td>2</td>\n",
       "    </tr>\n",
       "  </tbody>\n",
       "</table>\n",
       "</div>"
      ],
      "text/plain": [
       "        0   1   2   3   4   5   6   7   8   9   10\n",
       "0  1000025   5   1   1   1   2   1   3   1   1   2\n",
       "1  1002945   5   4   4   5   7  10   3   2   1   2\n",
       "2  1015425   3   1   1   1   2   2   3   1   1   2\n",
       "3  1016277   6   8   8   1   3   4   3   7   1   2\n",
       "4  1017023   4   1   1   3   2   1   3   1   1   2"
      ]
     },
     "execution_count": 25,
     "metadata": {},
     "output_type": "execute_result"
    }
   ],
   "source": [
    "#Leitura dos dados\n",
    "df_cancer= pd.read_csv('breast-cancer.csv', header= None)\n",
    "df_cancer.head()"
   ]
  },
  {
   "cell_type": "code",
   "execution_count": 26,
   "metadata": {},
   "outputs": [
    {
     "name": "stdout",
     "output_type": "stream",
     "text": [
      "<class 'pandas.core.frame.DataFrame'>\n",
      "RangeIndex: 683 entries, 0 to 682\n",
      "Data columns (total 11 columns):\n",
      " #   Column  Non-Null Count  Dtype\n",
      "---  ------  --------------  -----\n",
      " 0   0       683 non-null    int64\n",
      " 1   1       683 non-null    int64\n",
      " 2   2       683 non-null    int64\n",
      " 3   3       683 non-null    int64\n",
      " 4   4       683 non-null    int64\n",
      " 5   5       683 non-null    int64\n",
      " 6   6       683 non-null    int64\n",
      " 7   7       683 non-null    int64\n",
      " 8   8       683 non-null    int64\n",
      " 9   9       683 non-null    int64\n",
      " 10  10      683 non-null    int64\n",
      "dtypes: int64(11)\n",
      "memory usage: 58.8 KB\n"
     ]
    }
   ],
   "source": [
    "#Conferindo quantidade de dados e se há dados nulos\n",
    "df_cancer.info()"
   ]
  },
  {
   "cell_type": "code",
   "execution_count": 27,
   "metadata": {},
   "outputs": [
    {
     "data": {
      "text/html": [
       "<div>\n",
       "<style scoped>\n",
       "    .dataframe tbody tr th:only-of-type {\n",
       "        vertical-align: middle;\n",
       "    }\n",
       "\n",
       "    .dataframe tbody tr th {\n",
       "        vertical-align: top;\n",
       "    }\n",
       "\n",
       "    .dataframe thead th {\n",
       "        text-align: right;\n",
       "    }\n",
       "</style>\n",
       "<table border=\"1\" class=\"dataframe\">\n",
       "  <thead>\n",
       "    <tr style=\"text-align: right;\">\n",
       "      <th></th>\n",
       "      <th>0</th>\n",
       "      <th>1</th>\n",
       "      <th>2</th>\n",
       "      <th>3</th>\n",
       "      <th>4</th>\n",
       "      <th>5</th>\n",
       "      <th>6</th>\n",
       "      <th>7</th>\n",
       "      <th>8</th>\n",
       "      <th>9</th>\n",
       "      <th>10</th>\n",
       "    </tr>\n",
       "  </thead>\n",
       "  <tbody>\n",
       "    <tr>\n",
       "      <th>count</th>\n",
       "      <td>6.830000e+02</td>\n",
       "      <td>683.000000</td>\n",
       "      <td>683.000000</td>\n",
       "      <td>683.000000</td>\n",
       "      <td>683.000000</td>\n",
       "      <td>683.000000</td>\n",
       "      <td>683.000000</td>\n",
       "      <td>683.000000</td>\n",
       "      <td>683.000000</td>\n",
       "      <td>683.000000</td>\n",
       "      <td>683.000000</td>\n",
       "    </tr>\n",
       "    <tr>\n",
       "      <th>mean</th>\n",
       "      <td>1.076720e+06</td>\n",
       "      <td>4.442167</td>\n",
       "      <td>3.150805</td>\n",
       "      <td>3.215227</td>\n",
       "      <td>2.830161</td>\n",
       "      <td>3.234261</td>\n",
       "      <td>3.544656</td>\n",
       "      <td>3.445095</td>\n",
       "      <td>2.869693</td>\n",
       "      <td>1.603221</td>\n",
       "      <td>2.699854</td>\n",
       "    </tr>\n",
       "    <tr>\n",
       "      <th>std</th>\n",
       "      <td>6.206440e+05</td>\n",
       "      <td>2.820761</td>\n",
       "      <td>3.065145</td>\n",
       "      <td>2.988581</td>\n",
       "      <td>2.864562</td>\n",
       "      <td>2.223085</td>\n",
       "      <td>3.643857</td>\n",
       "      <td>2.449697</td>\n",
       "      <td>3.052666</td>\n",
       "      <td>1.732674</td>\n",
       "      <td>0.954592</td>\n",
       "    </tr>\n",
       "    <tr>\n",
       "      <th>min</th>\n",
       "      <td>6.337500e+04</td>\n",
       "      <td>1.000000</td>\n",
       "      <td>1.000000</td>\n",
       "      <td>1.000000</td>\n",
       "      <td>1.000000</td>\n",
       "      <td>1.000000</td>\n",
       "      <td>1.000000</td>\n",
       "      <td>1.000000</td>\n",
       "      <td>1.000000</td>\n",
       "      <td>1.000000</td>\n",
       "      <td>2.000000</td>\n",
       "    </tr>\n",
       "    <tr>\n",
       "      <th>25%</th>\n",
       "      <td>8.776170e+05</td>\n",
       "      <td>2.000000</td>\n",
       "      <td>1.000000</td>\n",
       "      <td>1.000000</td>\n",
       "      <td>1.000000</td>\n",
       "      <td>2.000000</td>\n",
       "      <td>1.000000</td>\n",
       "      <td>2.000000</td>\n",
       "      <td>1.000000</td>\n",
       "      <td>1.000000</td>\n",
       "      <td>2.000000</td>\n",
       "    </tr>\n",
       "    <tr>\n",
       "      <th>50%</th>\n",
       "      <td>1.171795e+06</td>\n",
       "      <td>4.000000</td>\n",
       "      <td>1.000000</td>\n",
       "      <td>1.000000</td>\n",
       "      <td>1.000000</td>\n",
       "      <td>2.000000</td>\n",
       "      <td>1.000000</td>\n",
       "      <td>3.000000</td>\n",
       "      <td>1.000000</td>\n",
       "      <td>1.000000</td>\n",
       "      <td>2.000000</td>\n",
       "    </tr>\n",
       "    <tr>\n",
       "      <th>75%</th>\n",
       "      <td>1.238705e+06</td>\n",
       "      <td>6.000000</td>\n",
       "      <td>5.000000</td>\n",
       "      <td>5.000000</td>\n",
       "      <td>4.000000</td>\n",
       "      <td>4.000000</td>\n",
       "      <td>6.000000</td>\n",
       "      <td>5.000000</td>\n",
       "      <td>4.000000</td>\n",
       "      <td>1.000000</td>\n",
       "      <td>4.000000</td>\n",
       "    </tr>\n",
       "    <tr>\n",
       "      <th>max</th>\n",
       "      <td>1.345435e+07</td>\n",
       "      <td>10.000000</td>\n",
       "      <td>10.000000</td>\n",
       "      <td>10.000000</td>\n",
       "      <td>10.000000</td>\n",
       "      <td>10.000000</td>\n",
       "      <td>10.000000</td>\n",
       "      <td>10.000000</td>\n",
       "      <td>10.000000</td>\n",
       "      <td>10.000000</td>\n",
       "      <td>4.000000</td>\n",
       "    </tr>\n",
       "  </tbody>\n",
       "</table>\n",
       "</div>"
      ],
      "text/plain": [
       "                 0           1           2           3           4   \\\n",
       "count  6.830000e+02  683.000000  683.000000  683.000000  683.000000   \n",
       "mean   1.076720e+06    4.442167    3.150805    3.215227    2.830161   \n",
       "std    6.206440e+05    2.820761    3.065145    2.988581    2.864562   \n",
       "min    6.337500e+04    1.000000    1.000000    1.000000    1.000000   \n",
       "25%    8.776170e+05    2.000000    1.000000    1.000000    1.000000   \n",
       "50%    1.171795e+06    4.000000    1.000000    1.000000    1.000000   \n",
       "75%    1.238705e+06    6.000000    5.000000    5.000000    4.000000   \n",
       "max    1.345435e+07   10.000000   10.000000   10.000000   10.000000   \n",
       "\n",
       "               5           6           7           8           9           10  \n",
       "count  683.000000  683.000000  683.000000  683.000000  683.000000  683.000000  \n",
       "mean     3.234261    3.544656    3.445095    2.869693    1.603221    2.699854  \n",
       "std      2.223085    3.643857    2.449697    3.052666    1.732674    0.954592  \n",
       "min      1.000000    1.000000    1.000000    1.000000    1.000000    2.000000  \n",
       "25%      2.000000    1.000000    2.000000    1.000000    1.000000    2.000000  \n",
       "50%      2.000000    1.000000    3.000000    1.000000    1.000000    2.000000  \n",
       "75%      4.000000    6.000000    5.000000    4.000000    1.000000    4.000000  \n",
       "max     10.000000   10.000000   10.000000   10.000000   10.000000    4.000000  "
      ]
     },
     "execution_count": 27,
     "metadata": {},
     "output_type": "execute_result"
    }
   ],
   "source": [
    "df_cancer.describe()"
   ]
  },
  {
   "cell_type": "markdown",
   "metadata": {},
   "source": [
    "####  <span style = \"color:red\">Código Original.</span>\n",
    "<!---\n",
    "### Importamos os dados\n",
    "df = pd.read_csv('breast-cancer.csv', header = None)\n",
    "\n",
    "df.columns = ['ID', 'clump_Thickness', 'unif_cell_size', \n",
    "              'unif_cell_shape', 'adhesion', 'epith_cell_Size', 'bare_nuclei', \n",
    "              'bland_chromatin ','norm_nucleoli', 'mitoses', 'class_t']\n",
    "\n",
    "df.sample(3)\n",
    "-->"
   ]
  },
  {
   "cell_type": "code",
   "execution_count": 28,
   "metadata": {},
   "outputs": [
    {
     "data": {
      "text/plain": [
       "array([2, 4])"
      ]
     },
     "execution_count": 28,
     "metadata": {},
     "output_type": "execute_result"
    }
   ],
   "source": [
    "#Target\n",
    "df_cancer[10].unique()"
   ]
  },
  {
   "cell_type": "markdown",
   "metadata": {},
   "source": [
    "####  <span style = \"color:red\">Código Original.</span>\n",
    "<!---\n",
    "df['class_t'].unique()\n",
    "-->"
   ]
  },
  {
   "cell_type": "code",
   "execution_count": 29,
   "metadata": {},
   "outputs": [
    {
     "data": {
      "text/plain": [
       "2    444\n",
       "4    239\n",
       "Name: 10, dtype: int64"
      ]
     },
     "execution_count": 29,
     "metadata": {},
     "output_type": "execute_result"
    }
   ],
   "source": [
    "#Balanceamento das classes\n",
    "df_cancer[10].value_counts()"
   ]
  },
  {
   "cell_type": "markdown",
   "metadata": {},
   "source": [
    "Vemos que não temos um balanceamento tão bom entre as duas classes. Temos três alternativas neste caso:\n",
    "    \n",
    "    1) Aplicá-lo com estas quantidades no modelo e analisar sua performance e aí decidir por uma das duas opções abaixo;\n",
    "    \n",
    "    2) Criar novos dados da classe 4 aleatoriamente baseado nos dados que temos dela com o total da classe 2 (444);\n",
    "    \n",
    "    3) Ou poderíamos excluir (também aleatoriamente) dados da classe com maior número (2) deixando-a com o total da classe 4 (239)\n",
    "\n",
    "Neste caso, vamos optar pela primeira opção para a realização deste exercício."
   ]
  },
  {
   "cell_type": "markdown",
   "metadata": {},
   "source": [
    "####  <span style = \"color:red\">Código Original.</span>\n",
    "<!---\n",
    "df['class_t'][df['class_t'] == 2] = 0\n",
    "df['class_t'][df['class_t'] == 4] = 1\n",
    "df.sample(3)\n",
    "-->"
   ]
  },
  {
   "cell_type": "markdown",
   "metadata": {},
   "source": [
    "####  <span style = \"color:red\">Código Original.</span>\n",
    "<!---\n",
    "df['class_t'].unique()\n",
    "-->"
   ]
  },
  {
   "cell_type": "markdown",
   "metadata": {},
   "source": [
    "####  <span style = \"color:red\">Código Original.</span>\n",
    "<!---\n",
    "df.info()\n",
    "-->"
   ]
  },
  {
   "cell_type": "markdown",
   "metadata": {},
   "source": [
    "####  <span style = \"color:red\">Código Original.</span>\n",
    "<!---\n",
    "df.shape\n",
    "-->"
   ]
  },
  {
   "cell_type": "markdown",
   "metadata": {},
   "source": [
    "####  <span style = \"color:red\">Código Original.</span>\n",
    "<!---\n",
    "df.describe()\n",
    "-->"
   ]
  },
  {
   "cell_type": "markdown",
   "metadata": {},
   "source": [
    "#### Divida o conjunto de dados entre atributos descritivos e targets."
   ]
  },
  {
   "cell_type": "code",
   "execution_count": 30,
   "metadata": {},
   "outputs": [],
   "source": [
    "#Variáveis preditoras\n",
    "X= df_cancer[[1, 2, 3, 4, 5, 6, 7, 8, 9]]\n",
    "\n",
    "#Variável resposta\n",
    "y= df_cancer[10]"
   ]
  },
  {
   "cell_type": "markdown",
   "metadata": {},
   "source": [
    "####  <span style = \"color:red\">Código Original.</span>\n",
    "<!---\n",
    "X = df[\n",
    "    ['clump_Thickness', 'unif_cell_size',\n",
    "     'unif_cell_shape', 'adhesion', \n",
    "     'epith_cell_Size', 'bare_nuclei', \n",
    "     'bland_chromatin ','norm_nucleoli', \n",
    "     'mitoses' \n",
    "    ]\n",
    "]\n",
    "-->"
   ]
  },
  {
   "cell_type": "markdown",
   "metadata": {},
   "source": [
    "####  <span style = \"color:red\">Código Original.</span>\n",
    "<!---\n",
    "y = df['class_t']\n",
    "-->"
   ]
  },
  {
   "cell_type": "markdown",
   "metadata": {},
   "source": [
    "#### Separe os conjuntos entre dados de teste e treino, investigue os hyperparâmetros e aplique a função kernel do tipo `linear`, observando o balanceamento do peso das classes."
   ]
  },
  {
   "cell_type": "code",
   "execution_count": 31,
   "metadata": {},
   "outputs": [],
   "source": [
    "X_train, X_test, y_train, y_test = train_test_split(X, \n",
    "                                                    y, \n",
    "                                                    test_size = 0.2,\n",
    "                                                    random_state = 42\n",
    "                                                   )"
   ]
  },
  {
   "cell_type": "markdown",
   "metadata": {},
   "source": [
    "####  <span style = \"color:red\">Código Original.</span>\n",
    "<!---\n",
    "X_train, X_test, y_train, y_test = train_test_split(X, \n",
    "                                                    y, \n",
    "                                                    test_size = 0.25, \n",
    "                                                    random_state = 53\n",
    "                                                   )\n",
    "-->"
   ]
  },
  {
   "cell_type": "code",
   "execution_count": 32,
   "metadata": {},
   "outputs": [
    {
     "name": "stdout",
     "output_type": "stream",
     "text": [
      "0.9633694745621352  gamma: 0.0001  C: 1\n",
      "0.9633694745621352  gamma: 0.0005  C: 1\n",
      "0.9633694745621352  gamma: 0.001  C: 1\n",
      "0.9633694745621352  gamma: 0.005  C: 1\n",
      "0.9652043369474562  gamma: 0.0001  C: 5\n",
      "0.9652043369474562  gamma: 0.0005  C: 5\n",
      "0.9652043369474562  gamma: 0.001  C: 5\n",
      "0.9652043369474562  gamma: 0.005  C: 5\n",
      "0.9652043369474562  gamma: 0.0001  C: 10\n",
      "0.9652043369474562  gamma: 0.0005  C: 10\n",
      "0.9652043369474562  gamma: 0.001  C: 10\n",
      "0.9652043369474562  gamma: 0.005  C: 10\n",
      "0.9652043369474562  gamma: 0.0001  C: 50\n",
      "0.9652043369474562  gamma: 0.0005  C: 50\n",
      "0.9652043369474562  gamma: 0.001  C: 50\n",
      "0.9652043369474562  gamma: 0.005  C: 50\n"
     ]
    }
   ],
   "source": [
    "svc_C = [1, 5, 10, 50]\n",
    "svc_gamma = [0.0001, 0.0005, 0.001, 0.005]\n",
    "\n",
    "error_rates = {}\n",
    "\n",
    "for c in svc_C:\n",
    "    for g in svc_gamma:\n",
    "        model_svc = SVC(kernel = 'linear', \n",
    "                        class_weight = 'balanced', \n",
    "                        C = c, \n",
    "                        gamma = g\n",
    "                       )\n",
    "        print (np.mean(cross_val_score(model_svc, \n",
    "                                       X_train, \n",
    "                                       y_train, \n",
    "                                       cv = 5\n",
    "                                      )\n",
    "                      ), \n",
    "               ' gamma:', g, \n",
    "               ' C:', c\n",
    "              )\n",
    "        \n",
    "        error = 1 - np.mean(cross_val_score(model_svc, \n",
    "                                            X_train_pca, \n",
    "                                            ytrain, \n",
    "                                            cv = 5\n",
    "                                           )\n",
    "                           )\n",
    "        error_rates.update({(c, g): error})"
   ]
  },
  {
   "cell_type": "markdown",
   "metadata": {},
   "source": [
    "####  <span style = \"color:red\">Código Original.</span>\n",
    "<!---\n",
    "from sklearn.model_selection import cross_val_score\n",
    "\n",
    "svc_C = [0.1, 0.2, 0.3]\n",
    "\n",
    "error_rates = {}\n",
    "\n",
    "for c in svc_C:\n",
    "        model_svc = SVC(kernel = 'linear', \n",
    "                        class_weight = 'balanced', \n",
    "                        C = c\n",
    "                       )\n",
    "        print (np.mean(cross_val_score(model_svc, \n",
    "                                       X_train, \n",
    "                                       y_train, \n",
    "                                       cv = 5\n",
    "                                      )\n",
    "                      ),\n",
    "               ' C:', c\n",
    "              )\n",
    "        \n",
    "        error = 1 - np.mean(cross_val_score(model_svc, \n",
    "                                            X_train, \n",
    "                                            y_train, \n",
    "                                            cv = 5\n",
    "                                           )\n",
    "                           )\n",
    "        error_rates.update({(c): error})\n",
    "-->"
   ]
  },
  {
   "cell_type": "code",
   "execution_count": 33,
   "metadata": {},
   "outputs": [
    {
     "data": {
      "text/plain": [
       "(1, 0.0001)"
      ]
     },
     "execution_count": 33,
     "metadata": {},
     "output_type": "execute_result"
    }
   ],
   "source": [
    "#Combinação C e Gama que retornaram o menor erro\n",
    "c_gama_otimizados= min(error_rates, key = error_rates.get)\n",
    "c_gama_otimizados"
   ]
  },
  {
   "cell_type": "markdown",
   "metadata": {},
   "source": [
    "####  <span style = \"color:red\">Código Original.</span>\n",
    "<!---\n",
    "print(error_rates)\n",
    "min(error_rates, key = error_rates.get)\n",
    "-->"
   ]
  },
  {
   "cell_type": "markdown",
   "metadata": {},
   "source": [
    "#### Escolha o hiperparâmetro mais adequado e realize suas previões com o modelo otimizado."
   ]
  },
  {
   "cell_type": "code",
   "execution_count": 34,
   "metadata": {},
   "outputs": [],
   "source": [
    "#Instanciando modelo SVM\n",
    "model_svc_otimizado = SVC(kernel = 'rbf', \n",
    "                       class_weight = 'balanced', \n",
    "                       C = c_gama_otimizados[0], \n",
    "                       gamma = c_gama_otimizados[1]\n",
    "                      )"
   ]
  },
  {
   "cell_type": "markdown",
   "metadata": {},
   "source": [
    "####  <span style = \"color:red\">Código Original.</span>\n",
    "<!---\n",
    "optimalC = min(error_rates, key = error_rates.get)\n",
    "-->"
   ]
  },
  {
   "cell_type": "code",
   "execution_count": 35,
   "metadata": {},
   "outputs": [
    {
     "data": {
      "text/plain": [
       "SVC(C=1, class_weight='balanced', gamma=0.0001)"
      ]
     },
     "execution_count": 35,
     "metadata": {},
     "output_type": "execute_result"
    }
   ],
   "source": [
    "#Ajustando os dados\n",
    "model_svc_otimizado.fit(X_train, \n",
    "                     y_train\n",
    "                    )"
   ]
  },
  {
   "cell_type": "code",
   "execution_count": 36,
   "metadata": {},
   "outputs": [],
   "source": [
    "#Predições do modelo\n",
    "y_pred= model_svc_otimizado.predict(X_test)"
   ]
  },
  {
   "cell_type": "markdown",
   "metadata": {},
   "source": [
    "####  <span style = \"color:red\">Código Original.</span>\n",
    "<!---\n",
    "best_model = SVC(C = optimalC, \n",
    "                 kernel = 'linear'\n",
    "                )\n",
    "-->"
   ]
  },
  {
   "cell_type": "markdown",
   "metadata": {},
   "source": [
    "####  <span style = \"color:red\">Código Original.</span>\n",
    "<!---\n",
    "best_model.fit(X_train, \n",
    "               y_train\n",
    "              )\n",
    "-->"
   ]
  },
  {
   "cell_type": "markdown",
   "metadata": {},
   "source": [
    "####  <span style = \"color:red\">Código Original.</span>\n",
    "<!---\n",
    "y_pred = best_model.predict(X_test)\n",
    "-->"
   ]
  },
  {
   "cell_type": "markdown",
   "metadata": {},
   "source": [
    "#### Apresente a reporte das classificações e crie a matriz de confusão para os dados."
   ]
  },
  {
   "cell_type": "code",
   "execution_count": 37,
   "metadata": {},
   "outputs": [
    {
     "name": "stdout",
     "output_type": "stream",
     "text": [
      "              precision    recall  f1-score   support\n",
      "\n",
      "           2       0.93      0.99      0.96        79\n",
      "           4       0.98      0.90      0.94        58\n",
      "\n",
      "    accuracy                           0.95       137\n",
      "   macro avg       0.95      0.94      0.95       137\n",
      "weighted avg       0.95      0.95      0.95       137\n",
      "\n"
     ]
    }
   ],
   "source": [
    "from sklearn.metrics import classification_report\n",
    "\n",
    "print(classification_report(y_test, \n",
    "                            y_pred, \n",
    "                            target_names = ['2', '4']\n",
    "                     ))"
   ]
  },
  {
   "cell_type": "markdown",
   "metadata": {},
   "source": [
    "####  <span style = \"color:red\">Código Original.</span>\n",
    "<!---\n",
    "from sklearn.metrics import classification_report\n",
    "\n",
    "print(classification_report(y_test, \n",
    "                            y_pred\n",
    "                           )\n",
    "     )\n",
    "-->"
   ]
  },
  {
   "cell_type": "code",
   "execution_count": 38,
   "metadata": {},
   "outputs": [],
   "source": [
    "from sklearn.metrics import confusion_matrix\n",
    "\n",
    "mat = confusion_matrix(y_test, \n",
    "                       y_pred\n",
    "                      )"
   ]
  },
  {
   "cell_type": "markdown",
   "metadata": {},
   "source": [
    "####  <span style = \"color:red\">Código Original.</span>\n",
    "<!---\n",
    "from sklearn.metrics import confusion_matrix\n",
    "print(confusion_matrix(y_test, \n",
    "                       y_pred\n",
    "                      )\n",
    "     )\n",
    "-->"
   ]
  },
  {
   "cell_type": "markdown",
   "metadata": {},
   "source": [
    "#### Crie um mapa de calor para a matriz de confusão e meça a acurácia de suas previões."
   ]
  },
  {
   "cell_type": "code",
   "execution_count": 39,
   "metadata": {},
   "outputs": [
    {
     "data": {
      "image/png": "[encoded data removed]",
      "text/plain": [
       "<Figure size 432x288 with 2 Axes>"
      ]
     },
     "metadata": {},
     "output_type": "display_data"
    }
   ],
   "source": [
    "import seaborn as sns\n",
    "sns.heatmap(mat, \n",
    "            square = True, \n",
    "            annot = True, \n",
    "            fmt = 'd', \n",
    "            cbar = True, \n",
    "            xticklabels = ['2', '4'], \n",
    "            yticklabels = ['2', '4']\n",
    "           )\n",
    "\n",
    "plt.xlabel('Predição')\n",
    "plt.ylabel('Verdadeira');"
   ]
  },
  {
   "cell_type": "markdown",
   "metadata": {},
   "source": [
    "Se a classe 2 ter o significado que a pessoa não tem câncer maligno e a 4 que ela tem, nós não temos um modelo tão bom. Neste, o modelo teria dito que 6 pessoas não tinham câncer maligno quando na verdade tinham.\n",
    "Se o modelo errar uma pessoa dizendo que ela tem câncer maligno, quando na verdade não tem, a ação mais provável seria o paciente fazer a quimioterapia sem necessitar; porém, no caso de errar o tempo de previsão de uma pessoa que de fato tenha câncer maligno, isto poderia custar a sua vida. Já que, neste caso, quanto mais cedo o prognóstico, mais cedo é iniciado o tratamento e maior a chance de cura."
   ]
  },
  {
   "cell_type": "markdown",
   "metadata": {},
   "source": [
    "####  <span style = \"color:red\">Código Original.</span>\n",
    "<!---\n",
    "import seaborn as sns; sns.set()\n",
    "from sklearn.metrics import confusion_matrix\n",
    "import matplotlib.pyplot as plt\n",
    "\n",
    "mat = confusion_matrix(y_test, \n",
    "                       y_pred\n",
    "                      )\n",
    "sns.heatmap(mat.T, \n",
    "            square = True, \n",
    "            annot = True, \n",
    "            fmt = 'd', \n",
    "            cbar = True\n",
    "           )\n",
    "\n",
    "plt.xlabel('true label')\n",
    "plt.ylabel('predicted label');\n",
    "-->"
   ]
  },
  {
   "cell_type": "code",
   "execution_count": null,
   "metadata": {},
   "outputs": [],
   "source": []
  },
  {
   "cell_type": "markdown",
   "metadata": {},
   "source": [
    "####  <span style = \"color:red\">Código Original.</span>\n",
    "<!---\n",
    "accuracy_score(y_test, \n",
    "               y_pred\n",
    "              )\n",
    "-->"
   ]
  },
  {
   "cell_type": "code",
   "execution_count": null,
   "metadata": {},
   "outputs": [],
   "source": []
  }
 ],
 "metadata": {
  "kernelspec": {
   "display_name": "Python 3",
   "language": "python",
   "name": "python3"
  },
  "language_info": {
   "codemirror_mode": {
    "name": "ipython",
    "version": 3
   },
   "file_extension": ".py",
   "mimetype": "text/x-python",
   "name": "python",
   "nbconvert_exporter": "python",
   "pygments_lexer": "ipython3",
   "version": "3.8.3"
  }
 },
 "nbformat": 4,
 "nbformat_minor": 4
}
