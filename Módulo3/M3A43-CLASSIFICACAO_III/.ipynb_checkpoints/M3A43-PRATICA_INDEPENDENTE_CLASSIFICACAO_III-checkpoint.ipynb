{
 "cells": [
  {
   "cell_type": "markdown",
   "metadata": {},
   "source": [
    "# PRÁTICA INDEPENDENTE: Naive Bayes - Solução."
   ]
  },
  {
   "cell_type": "markdown",
   "metadata": {},
   "source": [
    "#### Nessa prática independente vamos explorar o dataset [`iris`](https://scikit-learn.org/stable/modules/generated/sklearn.datasets.load_iris.html) e realizar a separação das espécies das flores com o auxílio do método de Naive Bayes."
   ]
  },
  {
   "cell_type": "markdown",
   "metadata": {},
   "source": [
    "#### Exercício 1: importe as bibliotecas necessárias para a aplicação do modelo. "
   ]
  },
  {
   "cell_type": "code",
   "execution_count": 36,
   "metadata": {},
   "outputs": [],
   "source": [
    "import pandas as pd\n",
    "import numpy as np\n",
    "import seaborn as sns\n",
    "import matplotlib.pyplot as plt\n",
    "from sklearn.datasets import load_iris\n",
    "from sklearn.naive_bayes import GaussianNB"
   ]
  },
  {
   "cell_type": "code",
   "execution_count": 30,
   "metadata": {},
   "outputs": [],
   "source": [
    "df= load_iris(as_frame= True).frame\n",
    "df.columns= ['sepal_length', 'sepal_width', 'petal_length', 'petal_width', 'specie']"
   ]
  },
  {
   "cell_type": "code",
   "execution_count": 31,
   "metadata": {},
   "outputs": [
    {
     "data": {
      "text/html": [
       "<div>\n",
       "<style scoped>\n",
       "    .dataframe tbody tr th:only-of-type {\n",
       "        vertical-align: middle;\n",
       "    }\n",
       "\n",
       "    .dataframe tbody tr th {\n",
       "        vertical-align: top;\n",
       "    }\n",
       "\n",
       "    .dataframe thead th {\n",
       "        text-align: right;\n",
       "    }\n",
       "</style>\n",
       "<table border=\"1\" class=\"dataframe\">\n",
       "  <thead>\n",
       "    <tr style=\"text-align: right;\">\n",
       "      <th></th>\n",
       "      <th>sepal_length</th>\n",
       "      <th>sepal_width</th>\n",
       "      <th>petal_length</th>\n",
       "      <th>petal_width</th>\n",
       "      <th>specie</th>\n",
       "    </tr>\n",
       "  </thead>\n",
       "  <tbody>\n",
       "    <tr>\n",
       "      <th>0</th>\n",
       "      <td>5.1</td>\n",
       "      <td>3.5</td>\n",
       "      <td>1.4</td>\n",
       "      <td>0.2</td>\n",
       "      <td>0</td>\n",
       "    </tr>\n",
       "    <tr>\n",
       "      <th>1</th>\n",
       "      <td>4.9</td>\n",
       "      <td>3.0</td>\n",
       "      <td>1.4</td>\n",
       "      <td>0.2</td>\n",
       "      <td>0</td>\n",
       "    </tr>\n",
       "    <tr>\n",
       "      <th>2</th>\n",
       "      <td>4.7</td>\n",
       "      <td>3.2</td>\n",
       "      <td>1.3</td>\n",
       "      <td>0.2</td>\n",
       "      <td>0</td>\n",
       "    </tr>\n",
       "    <tr>\n",
       "      <th>3</th>\n",
       "      <td>4.6</td>\n",
       "      <td>3.1</td>\n",
       "      <td>1.5</td>\n",
       "      <td>0.2</td>\n",
       "      <td>0</td>\n",
       "    </tr>\n",
       "    <tr>\n",
       "      <th>4</th>\n",
       "      <td>5.0</td>\n",
       "      <td>3.6</td>\n",
       "      <td>1.4</td>\n",
       "      <td>0.2</td>\n",
       "      <td>0</td>\n",
       "    </tr>\n",
       "  </tbody>\n",
       "</table>\n",
       "</div>"
      ],
      "text/plain": [
       "   sepal_length  sepal_width  petal_length  petal_width  specie\n",
       "0           5.1          3.5           1.4          0.2       0\n",
       "1           4.9          3.0           1.4          0.2       0\n",
       "2           4.7          3.2           1.3          0.2       0\n",
       "3           4.6          3.1           1.5          0.2       0\n",
       "4           5.0          3.6           1.4          0.2       0"
      ]
     },
     "execution_count": 31,
     "metadata": {},
     "output_type": "execute_result"
    }
   ],
   "source": [
    "df.head()"
   ]
  },
  {
   "cell_type": "markdown",
   "metadata": {},
   "source": [
    "#### Exercício 2: Plote a dispersão das espécies de flores para os atributos `sepal_length` e `sepal_width`. \n",
    "\n",
    "#### Você pode aplicar os métodos [`FacetGrid()`](https://seaborn.pydata.org/generated/seaborn.FacetGrid.html) e [`map()`](https://seaborn.pydata.org/generated/seaborn.FacetGrid.map.html) para isso.\n",
    "\n",
    "#### Depois crie um novo dataframe com os atributos `sepal_length`, `sepal_width` e `species` para a posterior classificação das espécies de flores."
   ]
  },
  {
   "cell_type": "code",
   "execution_count": 32,
   "metadata": {},
   "outputs": [
    {
     "data": {
      "image/png": "[encoded data removed]",
      "text/plain": [
       "<Figure size 648x216 with 3 Axes>"
      ]
     },
     "metadata": {
      "needs_background": "light"
     },
     "output_type": "display_data"
    }
   ],
   "source": [
    "g = sns.FacetGrid(df, col='specie')\n",
    "\n",
    "g.map(sns.scatterplot, 'sepal_length', 'sepal_width');"
   ]
  },
  {
   "cell_type": "code",
   "execution_count": 34,
   "metadata": {},
   "outputs": [
    {
     "data": {
      "text/html": [
       "<div>\n",
       "<style scoped>\n",
       "    .dataframe tbody tr th:only-of-type {\n",
       "        vertical-align: middle;\n",
       "    }\n",
       "\n",
       "    .dataframe tbody tr th {\n",
       "        vertical-align: top;\n",
       "    }\n",
       "\n",
       "    .dataframe thead th {\n",
       "        text-align: right;\n",
       "    }\n",
       "</style>\n",
       "<table border=\"1\" class=\"dataframe\">\n",
       "  <thead>\n",
       "    <tr style=\"text-align: right;\">\n",
       "      <th></th>\n",
       "      <th>sepal_length</th>\n",
       "      <th>sepal_width</th>\n",
       "      <th>specie</th>\n",
       "    </tr>\n",
       "  </thead>\n",
       "  <tbody>\n",
       "    <tr>\n",
       "      <th>0</th>\n",
       "      <td>5.1</td>\n",
       "      <td>3.5</td>\n",
       "      <td>0</td>\n",
       "    </tr>\n",
       "    <tr>\n",
       "      <th>1</th>\n",
       "      <td>4.9</td>\n",
       "      <td>3.0</td>\n",
       "      <td>0</td>\n",
       "    </tr>\n",
       "    <tr>\n",
       "      <th>2</th>\n",
       "      <td>4.7</td>\n",
       "      <td>3.2</td>\n",
       "      <td>0</td>\n",
       "    </tr>\n",
       "    <tr>\n",
       "      <th>3</th>\n",
       "      <td>4.6</td>\n",
       "      <td>3.1</td>\n",
       "      <td>0</td>\n",
       "    </tr>\n",
       "    <tr>\n",
       "      <th>4</th>\n",
       "      <td>5.0</td>\n",
       "      <td>3.6</td>\n",
       "      <td>0</td>\n",
       "    </tr>\n",
       "  </tbody>\n",
       "</table>\n",
       "</div>"
      ],
      "text/plain": [
       "   sepal_length  sepal_width  specie\n",
       "0           5.1          3.5       0\n",
       "1           4.9          3.0       0\n",
       "2           4.7          3.2       0\n",
       "3           4.6          3.1       0\n",
       "4           5.0          3.6       0"
      ]
     },
     "execution_count": 34,
     "metadata": {},
     "output_type": "execute_result"
    }
   ],
   "source": [
    "novo_df= df[['sepal_length', 'sepal_width', 'specie']]\n",
    "novo_df.head()"
   ]
  },
  {
   "cell_type": "markdown",
   "metadata": {},
   "source": [
    "#### Exercício 3: Subdivida o dataset secundário criado na questão anterior entre atributos descritivos e targets e substitua os nomes das espécies associadas às observações pode valores numéricos `(0, 1, 2)`. Instancie um modelo [`GaussianNB()`](https://scikit-learn.org/stable/modules/generated/sklearn.naive_bayes.GaussianNB.html) e ajuste os dados com o método [`.fit()`](https://scikit-learn.org/stable/modules/generated/sklearn.naive_bayes.GaussianNB.html#sklearn.naive_bayes.GaussianNB.fit).\n",
    "\n",
    "#### Em seguida use o método [`.linspace()`](https://numpy.org/doc/stable/reference/generated/numpy.linspace.html) para criar duas listas `X` e `y`, de até `100` pontos, espaçados uniformemente dentro do intervalo especificado na primeira dispersão plotada para (`sepal_length`, `sepal_width`).\n",
    "\n",
    "#### Por fim monte, com o auxílio do método [`.meshgrid()`](https://numpy.org/doc/stable/reference/generated/numpy.meshgrid.html), uma matriz de coordenadas a partir dos vetores de coordenadas `X`  e `Y`. "
   ]
  },
  {
   "cell_type": "code",
   "execution_count": 35,
   "metadata": {},
   "outputs": [],
   "source": [
    "#Separação variaveis independentes\n",
    "X= novo_df[['sepal_length', 'sepal_width']]\n",
    "\n",
    "#Variável resposta\n",
    "y= df['specie']"
   ]
  },
  {
   "cell_type": "code",
   "execution_count": 37,
   "metadata": {},
   "outputs": [],
   "source": [
    "#Instanciando modelo\n",
    "model= GaussianNB()"
   ]
  },
  {
   "cell_type": "code",
   "execution_count": 39,
   "metadata": {},
   "outputs": [
    {
     "data": {
      "text/plain": [
       "GaussianNB()"
      ]
     },
     "execution_count": 39,
     "metadata": {},
     "output_type": "execute_result"
    }
   ],
   "source": [
    "#Ajustando modelo aos dados\n",
    "model.fit(X, y)"
   ]
  },
  {
   "cell_type": "code",
   "execution_count": 40,
   "metadata": {},
   "outputs": [],
   "source": [
    "x_sepal_width= np.linspace(2, 8, num= 100)\n",
    "y_sepal_length= np.linspace(4, 8, num= 100)"
   ]
  },
  {
   "cell_type": "code",
   "execution_count": 52,
   "metadata": {},
   "outputs": [],
   "source": [
    "matriz= np.meshgrid(x_sepal_width, y_sepal_length)"
   ]
  },
  {
   "cell_type": "markdown",
   "metadata": {},
   "source": [
    "#### Exercício 4: Para terminar, vamos delinear os limites de decisão entre os diferentes campos para as espécies das flores do dataset. Para isso estude as funções:\n",
    "\n",
    "* [`FacetGrid()`](https://seaborn.pydata.org/generated/seaborn.FacetGrid.html) para inicializar um objeto de plotagem com os dados das espécies das flores.\n",
    "\n",
    "* [`np.array()`](https://numpy.org/doc/stable/reference/generated/numpy.array.html) para criar um arranjo que receba as previsões realizadas.\n",
    "\n",
    "* [`.predict()`](https://scikit-learn.org/stable/modules/generated/sklearn.naive_bayes.MultinomialNB.html#sklearn.naive_bayes.MultinomialNB.predict) para executar a classificação dos dados em `X` e `Y`.\n",
    "\n",
    "* [`zip()`](https://docs.python.org/3.3/library/functions.html#zip) para criar um iterador que agregue elementos de `np.ravel(X)` e `np.ravel(Y)`.\n",
    "\n",
    "* [`.ravel()`](https://numpy.org/doc/stable/reference/generated/numpy.ravel.html) que converterá as matrizes `X` e `Y` às formas apropriadas para as predições.\n",
    "\n",
    "* [`.reshape()`](https://numpy.org/doc/stable/reference/generated/numpy.reshape.html) para alterar a forma da matriz de previões, de modo a submetê-la à mesma forma das matrizes `X` e `Y` definidas anteriormente.\n",
    "\n",
    "* [`.contour()`](https://matplotlib.org/3.2.2/api/_as_gen/matplotlib.pyplot.contour.html) para desenhar as linhas de delineação entre as classificações das espécies.\n",
    "\n",
    "* [`.contourf()`](https://matplotlib.org/api/_as_gen/matplotlib.pyplot.contourf.html) para preencher os espaços de classificação com as cores adequadas para cada espécie.\n",
    "\n",
    "    1. Instancie um objeto que receba o arranjo gráfico defido por `.FacetGrid()`.\n",
    "    2. Compute a função de classe prevista para cada valor na grade com as funções `.array()`, `.predict()` e `zip()` e `.ravel()`.\n",
    "    3. Remodele a classe prevista para a forma `.meshgrid()` com a função `.reshape()`.\n",
    "    4. Trace os contornos preenchidos com `.contourf()` e de contorno com `.contour()`.\n",
    "    5. Adicione os eixos 'Sepal length' e 'Sepal width' e o título 'Limites de decisão de Gaussian Naive Bayes' com as funções `.set_xlabel()`, `.set_xlabel()` e `.set_title()`.\n",
    "    6. Plote o gráfico final com a função `.show()`."
   ]
  },
  {
   "cell_type": "code",
   "execution_count": null,
   "metadata": {},
   "outputs": [],
   "source": []
  },
  {
   "cell_type": "markdown",
   "metadata": {},
   "source": [
    "#### Use a função [`.score()`](https://scikit-learn.org/stable/modules/generated/sklearn.naive_bayes.GaussianNB.html#sklearn.naive_bayes.GaussianNB.score) para calcular a curácia de sua classificação."
   ]
  },
  {
   "cell_type": "code",
   "execution_count": null,
   "metadata": {},
   "outputs": [],
   "source": []
  },
  {
   "cell_type": "code",
   "execution_count": null,
   "metadata": {},
   "outputs": [],
   "source": []
  }
 ],
 "metadata": {
  "kernelspec": {
   "display_name": "Python 3",
   "language": "python",
   "name": "python3"
  },
  "language_info": {
   "codemirror_mode": {
    "name": "ipython",
    "version": 3
   },
   "file_extension": ".py",
   "mimetype": "text/x-python",
   "name": "python",
   "nbconvert_exporter": "python",
   "pygments_lexer": "ipython3",
   "version": "3.8.3"
  }
 },
 "nbformat": 4,
 "nbformat_minor": 4
}
