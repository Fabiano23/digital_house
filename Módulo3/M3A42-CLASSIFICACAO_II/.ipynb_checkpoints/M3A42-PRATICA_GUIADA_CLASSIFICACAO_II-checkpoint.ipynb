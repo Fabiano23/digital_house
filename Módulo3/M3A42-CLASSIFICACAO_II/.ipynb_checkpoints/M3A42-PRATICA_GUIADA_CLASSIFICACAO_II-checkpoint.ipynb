{
 "cells": [
  {
   "cell_type": "markdown",
   "metadata": {
    "colab_type": "text",
    "id": "jFzCyWhnb8m6"
   },
   "source": [
    "# PRÁTICA GUIADA: kNN."
   ]
  },
  {
   "cell_type": "markdown",
   "metadata": {},
   "source": [
    "## Introdução\n",
    "\n",
    "#### Nesta prática, a `kNN` será usada para resolver um problema de classificação.\n",
    "\n",
    "/* <img src='cover_cluster.jpg'> </img> */\n",
    "\n",
    "#### Os seguintes passos serão realizados:\n",
    "\n",
    "1. Carregar o conjunto de dados.\n",
    "2. Preparar a matriz de recursos e o vetor de targets.\n",
    "3. Escolher o valor ideal para o hiperparâmetro $k_{neighbours}$, utilizando VALIDAÇÃO CRUZADA.\n",
    "4. Repetir o processo, porém, padronizando a matriz de recursos para ver os efeitos sobre o algoritmo. \n",
    "5. Matriz de confusão."
   ]
  },
  {
   "cell_type": "markdown",
   "metadata": {},
   "source": [
    "## 1 - Importar o conjunto de dados."
   ]
  },
  {
   "cell_type": "markdown",
   "metadata": {
    "colab_type": "text",
    "id": "1hpN8Gk4b8m8"
   },
   "source": [
    "#### O conjunto de dados `market.csv` contém dados sobre as ações que compõem o índice [`S&P 500`](https://en.wikipedia.org/wiki/S%26P_500) retirado do site do [`Yahoo Finance`](https://finance.yahoo.com/) entre $2000$ e $2001$.\n",
    "\n",
    "#### A seguir, uma descrição das colunas:\n",
    "\n",
    "* **Lag1:** Percentage return for previous day\n",
    "* **Lag2:** Percentage return for 2 days previous\n",
    "* **Lag3:** Percentage return for 3 days previous\n",
    "* **Lag4:** Percentage return for 4 days previous\n",
    "* **Lag5:** Percentage return for 5 days previous\n",
    "* **Volume:** Volume of shares traded (number of daily shares traded in billions)\n",
    "* **Today:** Percentage return for today\n",
    "* **Direction:** A factor with levels Down and Up indicating whether the market had a positive or negative\n",
    "return on a given day\n"
   ]
  },
  {
   "cell_type": "markdown",
   "metadata": {},
   "source": [
    "#### Vamos importar as bibliotecas `pandas` e `numpy` para manipular os dados. Vamos também incluir as bibliotecas:\n",
    "\n",
    "- [`sklearn.model_selection.train_test_split`](https://scikit-learn.org/stable/modules/generated/sklearn.model_selection.train_test_split.html), para a seleção dos conjuntos de treino e teste; \n",
    "- [`sklearn.neighbors.KNeighborsClassifier`](https://scikit-learn.org/stable/modules/generated/sklearn.neighbors.KNeighborsClassifier.html) para a implementação do modelo de [`kNN`](https://scikit-learn.org/stable/modules/neighbors.html).\n",
    "- [`sklearn.metrics.confusion_matrix`](https://scikit-learn.org/stable/modules/generated/sklearn.metrics.confusion_matrix.html) para a construção da [matriz de confusão](https://scikit-learn.org/stable/auto_examples/model_selection/plot_confusion_matrix.html), que faz a comparação entre as classificações e os valores reais."
   ]
  },
  {
   "cell_type": "code",
   "execution_count": 1,
   "metadata": {
    "colab": {
     "autoexec": {
      "startup": false,
      "wait_interval": 0
     }
    },
    "colab_type": "code",
    "id": "y3wDs8XXb8nC"
   },
   "outputs": [],
   "source": [
    "import numpy as np\n",
    "import pandas as pd\n",
    "from sklearn.model_selection import train_test_split\n",
    "from sklearn.neighbors import KNeighborsClassifier\n",
    "from sklearn.metrics import confusion_matrix"
   ]
  },
  {
   "cell_type": "markdown",
   "metadata": {},
   "source": [
    "####  <span style = \"color:red\">Código Original.</span>\n",
    "<!---\n",
    "import numpy as np\n",
    "import pandas as pd\n",
    "from sklearn.model_selection import train_test_split\n",
    "from sklearn.neighbors import KNeighborsClassifier\n",
    "from sklearn.metrics import confusion_matrix\n",
    "-->"
   ]
  },
  {
   "cell_type": "markdown",
   "metadata": {},
   "source": [
    "#### Uma vez carregadas as bibliotecas podemos então ler o arquivo `market.csv`, em anexo. Vamos estudar uma amostra das primeiras linhas do `dataset`."
   ]
  },
  {
   "cell_type": "code",
   "execution_count": 2,
   "metadata": {
    "colab": {
     "autoexec": {
      "startup": false,
      "wait_interval": 0
     }
    },
    "colab_type": "code",
    "id": "b5kSse1fb8nG"
   },
   "outputs": [
    {
     "data": {
      "text/html": [
       "<div>\n",
       "<style scoped>\n",
       "    .dataframe tbody tr th:only-of-type {\n",
       "        vertical-align: middle;\n",
       "    }\n",
       "\n",
       "    .dataframe tbody tr th {\n",
       "        vertical-align: top;\n",
       "    }\n",
       "\n",
       "    .dataframe thead th {\n",
       "        text-align: right;\n",
       "    }\n",
       "</style>\n",
       "<table border=\"1\" class=\"dataframe\">\n",
       "  <thead>\n",
       "    <tr style=\"text-align: right;\">\n",
       "      <th></th>\n",
       "      <th>Lag1</th>\n",
       "      <th>Lag2</th>\n",
       "      <th>Lag3</th>\n",
       "      <th>Lag4</th>\n",
       "      <th>Lag5</th>\n",
       "      <th>Volume</th>\n",
       "      <th>Today</th>\n",
       "      <th>Direction</th>\n",
       "    </tr>\n",
       "  </thead>\n",
       "  <tbody>\n",
       "    <tr>\n",
       "      <th>0</th>\n",
       "      <td>381.0</td>\n",
       "      <td>-192.0</td>\n",
       "      <td>-2624.0</td>\n",
       "      <td>-1055.0</td>\n",
       "      <td>5.01</td>\n",
       "      <td>1.1913</td>\n",
       "      <td>959.0</td>\n",
       "      <td>Up</td>\n",
       "    </tr>\n",
       "    <tr>\n",
       "      <th>1</th>\n",
       "      <td>959.0</td>\n",
       "      <td>381.0</td>\n",
       "      <td>-192.0</td>\n",
       "      <td>-2624.0</td>\n",
       "      <td>-1055.00</td>\n",
       "      <td>1.2965</td>\n",
       "      <td>1032.0</td>\n",
       "      <td>Up</td>\n",
       "    </tr>\n",
       "    <tr>\n",
       "      <th>2</th>\n",
       "      <td>1032.0</td>\n",
       "      <td>959.0</td>\n",
       "      <td>381.0</td>\n",
       "      <td>-192.0</td>\n",
       "      <td>-2624.00</td>\n",
       "      <td>1.4112</td>\n",
       "      <td>-623.0</td>\n",
       "      <td>Down</td>\n",
       "    </tr>\n",
       "    <tr>\n",
       "      <th>3</th>\n",
       "      <td>-623.0</td>\n",
       "      <td>1032.0</td>\n",
       "      <td>959.0</td>\n",
       "      <td>381.0</td>\n",
       "      <td>-192.00</td>\n",
       "      <td>1276.0000</td>\n",
       "      <td>614.0</td>\n",
       "      <td>Up</td>\n",
       "    </tr>\n",
       "    <tr>\n",
       "      <th>4</th>\n",
       "      <td>614.0</td>\n",
       "      <td>-623.0</td>\n",
       "      <td>1032.0</td>\n",
       "      <td>959.0</td>\n",
       "      <td>381.00</td>\n",
       "      <td>1.2057</td>\n",
       "      <td>213.0</td>\n",
       "      <td>Up</td>\n",
       "    </tr>\n",
       "  </tbody>\n",
       "</table>\n",
       "</div>"
      ],
      "text/plain": [
       "     Lag1    Lag2    Lag3    Lag4     Lag5     Volume   Today Direction\n",
       "0   381.0  -192.0 -2624.0 -1055.0     5.01     1.1913   959.0        Up\n",
       "1   959.0   381.0  -192.0 -2624.0 -1055.00     1.2965  1032.0        Up\n",
       "2  1032.0   959.0   381.0  -192.0 -2624.00     1.4112  -623.0      Down\n",
       "3  -623.0  1032.0   959.0   381.0  -192.00  1276.0000   614.0        Up\n",
       "4   614.0  -623.0  1032.0   959.0   381.00     1.2057   213.0        Up"
      ]
     },
     "execution_count": 2,
     "metadata": {},
     "output_type": "execute_result"
    }
   ],
   "source": [
    "df = pd.read_csv('market.csv')\n",
    "#df.sample(5)\n",
    "df.head()"
   ]
  },
  {
   "cell_type": "markdown",
   "metadata": {},
   "source": [
    "####  <span style = \"color:red\">Código Original.</span>\n",
    "<!---\n",
    "df = pd.read_csv('market.csv')\n",
    "df.sample(5)\n",
    "-->"
   ]
  },
  {
   "cell_type": "code",
   "execution_count": 3,
   "metadata": {},
   "outputs": [
    {
     "data": {
      "text/plain": [
       "(1250, 8)"
      ]
     },
     "execution_count": 3,
     "metadata": {},
     "output_type": "execute_result"
    }
   ],
   "source": [
    "df.shape"
   ]
  },
  {
   "cell_type": "markdown",
   "metadata": {
    "colab_type": "text",
    "id": "73GGQyPOb8nN"
   },
   "source": [
    "## 2 - Construir a matriz de recursos e o vetor de targets."
   ]
  },
  {
   "cell_type": "markdown",
   "metadata": {},
   "source": [
    "#### O próximo passo é o de definir uma matriz com os atributos que servirão como recursos para a classificação dos `targets`. As colunas que temos disponíveis são as seguintes."
   ]
  },
  {
   "cell_type": "code",
   "execution_count": 4,
   "metadata": {
    "colab": {
     "autoexec": {
      "startup": false,
      "wait_interval": 0
     }
    },
    "colab_type": "code",
    "id": "G2eoiIEyb8nO"
   },
   "outputs": [
    {
     "data": {
      "text/plain": [
       "Index(['Lag1', 'Lag2', 'Lag3', 'Lag4', 'Lag5', 'Volume', 'Today', 'Direction'], dtype='object')"
      ]
     },
     "execution_count": 4,
     "metadata": {},
     "output_type": "execute_result"
    }
   ],
   "source": [
    "df.columns"
   ]
  },
  {
   "cell_type": "markdown",
   "metadata": {},
   "source": [
    "####  <span style = \"color:red\">Código Original.</span>\n",
    "<!---\n",
    "df.columns\n",
    "-->"
   ]
  },
  {
   "cell_type": "markdown",
   "metadata": {},
   "source": [
    "#### Vamos tomar os atributos `['Lag1', 'Lag2', 'Lag3', 'Lag4', 'Lag5']` do `dataset` `df` para classificar nosso `target`, para isso instanciamos um objeto `X` que recebe as colunas sugeridas."
   ]
  },
  {
   "cell_type": "code",
   "execution_count": 5,
   "metadata": {
    "colab": {
     "autoexec": {
      "startup": false,
      "wait_interval": 0
     }
    },
    "colab_type": "code",
    "id": "Oc59oV-Kb8nR"
   },
   "outputs": [],
   "source": [
    "# Construir a matriz de recursos, subconfigurando o DataFrame para que não contenha a classe, Direction\n",
    "X = df[['Lag1', 'Lag2', 'Lag3', 'Lag4', 'Lag5']]"
   ]
  },
  {
   "cell_type": "markdown",
   "metadata": {},
   "source": [
    "####  <span style = \"color:red\">Código Original.</span>\n",
    "<!---\n",
    "# Construir a matriz de recursos, subconfigurando o DataFrame para que não contenha a classe, Direction\n",
    "X = df[['Lag1', 'Lag2', 'Lag3', 'Lag4', 'Lag5']]\n",
    "-->"
   ]
  },
  {
   "cell_type": "markdown",
   "metadata": {
    "colab_type": "text",
    "id": "kIdMnMjfb8nV"
   },
   "source": [
    "### Tornando numérico o vetor de targets.\n",
    "\n",
    "#### O vetor de `targets` foi codificado com os valores possíveis de `'Up'` ou `'Down'`, mas lembre-se que `scikitlearn` só aceita valores numéricos (mesmo que eles representem classes), portanto, temos que codificar as classes como `tags` [numéricas](https://towardsdatascience.com/categorical-encoding-using-label-encoding-and-one-hot-encoder-911ef77fb5bd). Para isso vamos utilizar:\n",
    "\n",
    "- O pacote [`sklearn.preprocessing`](https://scikit-learn.org/stable/modules/preprocessing.html) que oferece várias funções utilitárias comuns e classes de transformadores para alterar vetores de recursos brutos em uma representação mais adequada para os estimadores.\n",
    "\n",
    "- Específicamente, vamos instanciar um objeto `le` que receberá a função de codificação [`.LabelEncoder()`](https://scikit-learn.org/stable/modules/generated/sklearn.preprocessing.LabelEncoder.html), que codifica os rótulos de destino com valor entre $0$ e $n_{classes-1}$.\n",
    "\n",
    "- Então, instanciamos um objeto `y` que recebe o objeto `le`, submetido ao método [`.fit_transform()`](https://scikit-learn.org/stable/modules/generated/sklearn.preprocessing.LabelEncoder.html#sklearn.preprocessing.LabelEncoder.fit_transform), que ajusta o codificador dos rótulos do target e retorna os rótulos originais sob anova codificacão."
   ]
  },
  {
   "cell_type": "code",
   "execution_count": 6,
   "metadata": {
    "colab": {
     "autoexec": {
      "startup": false,
      "wait_interval": 0
     }
    },
    "colab_type": "code",
    "id": "NTsXXlJIb8nW"
   },
   "outputs": [
    {
     "data": {
      "text/plain": [
       "array([1, 1, 0, ..., 1, 0, 0])"
      ]
     },
     "execution_count": 6,
     "metadata": {},
     "output_type": "execute_result"
    }
   ],
   "source": [
    "# Construir o vetor de targets\n",
    "from sklearn import preprocessing\n",
    "le = preprocessing.LabelEncoder()\n",
    "y = le.fit_transform(df['Direction'])\n",
    "y"
   ]
  },
  {
   "cell_type": "markdown",
   "metadata": {},
   "source": [
    "####  <span style = \"color:red\">Código Original.</span>\n",
    "<!---\n",
    "# Construir o vetor de targets\n",
    "from sklearn import preprocessing\n",
    "le = preprocessing.LabelEncoder()\n",
    "y = le.fit_transform(df['Direction'])\n",
    "y\n",
    "-->"
   ]
  },
  {
   "cell_type": "markdown",
   "metadata": {
    "colab_type": "text",
    "id": "4_e93w5kb8nb"
   },
   "source": [
    "## 3 - Avaliar diferentes valores para o hiperparâmetro `k`.\n",
    "\n",
    "#### Vamos executar o modelo [`KNeighborsClassifier`](https://ogrisel.github.io/scikit-learn.org/sklearn-tutorial/modules/generated/sklearn.neighbors.KNeighborsClassifier.html) testando diferentes valores possíveis para o hiperparâmetro $k_{neighbors}$.\n",
    "\n",
    "#### Para realizar a classificação dos targets vamos precisar realizar:\n",
    "\n",
    "- A importação da biblioteca [`sklearn.model_selection.cross_val_score`](https://scikit-learn.org/stable/modules/generated/sklearn.model_selection.cross_val_score.html), que avalia e gera uma pontuação para a validação cruzada.\n",
    "\n",
    "- A aplicação da função [`KNeighborsClassifier()`](https://scikit-learn.org/stable/modules/generated/sklearn.neighbors.KNeighborsClassifier.html), que desempenha a função de classificador, implementando os votos para os 'k'-vizinhos mais próximos. Os `k` vizinhos mais próximos representa um modelo de classificação, que será instanciado em um objeto `model`. observe o parâmetro `n_neighbors`, que recebe o número de vizinhos a serem usados.\n",
    "\n",
    "- A função [`cross_val_score()`](https://scikit-learn.org/stable/modules/generated/sklearn.model_selection.cross_val_score.html), que deve ser aplicada às matrizes `X` e `y` e ao objeto `model`, para realizar as dobras nos dados de treino e a avaliação da pontuação por validação cruzada. Para isso instanciamos esse processo em um objeto `cv_scores`.\n",
    "\n",
    "#### Podemos imbutir esse processo em um `loop` sobre um arranjo de valores para o número de vizinhos `n_neighbors`. Ao fim de cada ciclo um dicionário `dict_row_score` recebe os valores da média e desvio padrão de `cv_scores` e do número `i` de vizinhos associados. Ao fim, o `loop` cria uma lista de dicionários a ser manipulada."
   ]
  },
  {
   "cell_type": "code",
   "execution_count": 7,
   "metadata": {
    "colab": {
     "autoexec": {
      "startup": false,
      "wait_interval": 0
     }
    },
    "colab_type": "code",
    "id": "KVgZUjiHb8ne"
   },
   "outputs": [],
   "source": [
    "from sklearn.model_selection import cross_val_score\n",
    "\n",
    "# Queremos representar graficamente os diferentes valores de score de validação cruzada em função do hiperparâmetro k_neighbors\n",
    "# Para isso, vamos gerar uma lista de dicionários que depois podem ser facilmente convertidos em um DataFrame.\n",
    "\n",
    "#Lista de Dicionários\n",
    "scores_para_df = []\n",
    "\n",
    "error_rates = {}\n",
    "\n",
    "# range(1,40,5) são os valores possíveis de n_neighbors que queremos explorar. São todos os inteiros de 1\n",
    "# a 40, de 5 em 5. (Start,Stop,Step)\n",
    "for i in range(1, 100, 5):\n",
    "    \n",
    "    # Em cada iteração, instanciar o modelo com um hiperparâmetro diferente\n",
    "    model = KNeighborsClassifier(n_neighbors = i)\n",
    "    \n",
    "    # cross_val_scores retorna um array de 5 resultados, um para cada partição feita automaticamente pelo CV  \n",
    "    cv_scores = cross_val_score(model, \n",
    "                                X, \n",
    "                                y, \n",
    "                                cv = 5\n",
    "                               )\n",
    "\n",
    "    # Para cada valor de n_neighbours, criar um dicionário com o valor de n_neighbours, a média e o desvio dos scores.\n",
    "    dict_row_score = {'score_medio':np.mean(cv_scores), \n",
    "                      'score_std':np.std(cv_scores),\n",
    "                      'n_neighbours': i\n",
    "                     }\n",
    "    \n",
    "    # Guardar cada um na lista de dicionários\n",
    "    scores_para_df.append(dict_row_score)\n",
    "    \n",
    "    error = 1 - np.mean(cross_val_score(model, \n",
    "                                        X, \n",
    "                                        y, \n",
    "                                        cv = 5\n",
    "                                       )\n",
    "                       )\n",
    "    error_rates.update({i: error})"
   ]
  },
  {
   "cell_type": "markdown",
   "metadata": {},
   "source": [
    "#### Fazemos uma [validação cruzada](https://scikit-learn.org/stable/modules/cross_validation.html) para estimar o parâmetro `k` (número de vizinhos próximos) do algoritmo. Salvamos os valores do erro de classificação \n",
    "\n",
    "$$\n",
    "error = 1 - \\overline{cross~val~score}, \n",
    "$$ \n",
    "\n",
    "#### guardamos em um dicionário e procuramos o valor mínimo (ou seja, o erro mínimo de classificação)."
   ]
  },
  {
   "cell_type": "code",
   "execution_count": 8,
   "metadata": {},
   "outputs": [
    {
     "data": {
      "text/plain": [
       "{1: 0.4992,\n",
       " 6: 0.5168,\n",
       " 11: 0.49119999999999997,\n",
       " 16: 0.49839999999999995,\n",
       " 21: 0.48639999999999994,\n",
       " 26: 0.49119999999999997,\n",
       " 31: 0.49439999999999995,\n",
       " 36: 0.48239999999999994,\n",
       " 41: 0.4663999999999999,\n",
       " 46: 0.4616,\n",
       " 51: 0.45999999999999996,\n",
       " 56: 0.472,\n",
       " 61: 0.47439999999999993,\n",
       " 66: 0.47519999999999996,\n",
       " 71: 0.48239999999999994,\n",
       " 76: 0.49039999999999995,\n",
       " 81: 0.49439999999999995,\n",
       " 86: 0.4776,\n",
       " 91: 0.4623999999999999,\n",
       " 96: 0.46399999999999997}"
      ]
     },
     "execution_count": 8,
     "metadata": {},
     "output_type": "execute_result"
    }
   ],
   "source": [
    "error_rates"
   ]
  },
  {
   "cell_type": "code",
   "execution_count": 9,
   "metadata": {},
   "outputs": [
    {
     "data": {
      "text/plain": [
       "51"
      ]
     },
     "execution_count": 9,
     "metadata": {},
     "output_type": "execute_result"
    }
   ],
   "source": [
    "kBest = min(error_rates, key = error_rates.get)\n",
    "kBest"
   ]
  },
  {
   "cell_type": "markdown",
   "metadata": {},
   "source": [
    "####  <span style = \"color:red\">Código Original.</span>\n",
    "<!---\n",
    "from sklearn.model_selection import cross_val_score\n",
    "\n",
    "# Queremos representar graficamente os diferentes valores de score de validação cruzada em função do hiperparâmetro k_neighbors\n",
    "# Para isso, vamos gerar uma lista de dicionários que depois podem ser facilmente convertidos em um DataFrame.\n",
    "\n",
    "#Lista de Dicionários\n",
    "scores_para_df = []\n",
    "\n",
    "# range(1,40,5) são os valores possíveis de n_neighbors que queremos explorar. São todos os inteiros de 1\n",
    "# a 40, de 5 em 5. (Start,Stop,Step)\n",
    "for i in range(1,100,5):\n",
    "    # Em cada iteração, instanciar o modelo com um hiperparâmetro diferente\n",
    "    model = KNeighborsClassifier(n_neighbors = i)\n",
    "    \n",
    "    # cross_val_scores retorna um array de 5 resultados, um para cada partição feita automaticamente pelo CV  \n",
    "    cv_scores = cross_val_score(model, \n",
    "                                X, \n",
    "                                y, \n",
    "                                cv = 5\n",
    "                               )\n",
    "    \n",
    "    # Para cada valor de n_neighbours, criar um dicionário com o valor de n_neighbours, a média e o desvio dos scores.\n",
    "    dict_row_score = {'score_medio':np.mean(cv_scores), \n",
    "                      'score_std':np.std(cv_scores),\n",
    "                      'n_neighbours':i\n",
    "                     }\n",
    "    \n",
    "    # Guardar cada um na lista de dicionários\n",
    "    scores_para_df.append(dict_row_score)\n",
    "    \n",
    "\n",
    "-->"
   ]
  },
  {
   "cell_type": "markdown",
   "metadata": {},
   "source": [
    "#### Uma vez que a lista de dicionários está terminada, a convertemos em um `dataframe` que examinamos."
   ]
  },
  {
   "cell_type": "code",
   "execution_count": 10,
   "metadata": {
    "colab": {
     "autoexec": {
      "startup": false,
      "wait_interval": 0
     }
    },
    "colab_type": "code",
    "id": "MEMfHPf_b8nh"
   },
   "outputs": [
    {
     "data": {
      "text/html": [
       "<div>\n",
       "<style scoped>\n",
       "    .dataframe tbody tr th:only-of-type {\n",
       "        vertical-align: middle;\n",
       "    }\n",
       "\n",
       "    .dataframe tbody tr th {\n",
       "        vertical-align: top;\n",
       "    }\n",
       "\n",
       "    .dataframe thead th {\n",
       "        text-align: right;\n",
       "    }\n",
       "</style>\n",
       "<table border=\"1\" class=\"dataframe\">\n",
       "  <thead>\n",
       "    <tr style=\"text-align: right;\">\n",
       "      <th></th>\n",
       "      <th>score_medio</th>\n",
       "      <th>score_std</th>\n",
       "      <th>n_neighbours</th>\n",
       "    </tr>\n",
       "  </thead>\n",
       "  <tbody>\n",
       "    <tr>\n",
       "      <th>0</th>\n",
       "      <td>0.5008</td>\n",
       "      <td>0.047288</td>\n",
       "      <td>1</td>\n",
       "    </tr>\n",
       "    <tr>\n",
       "      <th>1</th>\n",
       "      <td>0.4832</td>\n",
       "      <td>0.024580</td>\n",
       "      <td>6</td>\n",
       "    </tr>\n",
       "    <tr>\n",
       "      <th>2</th>\n",
       "      <td>0.5088</td>\n",
       "      <td>0.031840</td>\n",
       "      <td>11</td>\n",
       "    </tr>\n",
       "    <tr>\n",
       "      <th>3</th>\n",
       "      <td>0.5016</td>\n",
       "      <td>0.026845</td>\n",
       "      <td>16</td>\n",
       "    </tr>\n",
       "    <tr>\n",
       "      <th>4</th>\n",
       "      <td>0.5136</td>\n",
       "      <td>0.023947</td>\n",
       "      <td>21</td>\n",
       "    </tr>\n",
       "    <tr>\n",
       "      <th>5</th>\n",
       "      <td>0.5088</td>\n",
       "      <td>0.033505</td>\n",
       "      <td>26</td>\n",
       "    </tr>\n",
       "    <tr>\n",
       "      <th>6</th>\n",
       "      <td>0.5056</td>\n",
       "      <td>0.026605</td>\n",
       "      <td>31</td>\n",
       "    </tr>\n",
       "    <tr>\n",
       "      <th>7</th>\n",
       "      <td>0.5176</td>\n",
       "      <td>0.039968</td>\n",
       "      <td>36</td>\n",
       "    </tr>\n",
       "    <tr>\n",
       "      <th>8</th>\n",
       "      <td>0.5336</td>\n",
       "      <td>0.017454</td>\n",
       "      <td>41</td>\n",
       "    </tr>\n",
       "    <tr>\n",
       "      <th>9</th>\n",
       "      <td>0.5384</td>\n",
       "      <td>0.022712</td>\n",
       "      <td>46</td>\n",
       "    </tr>\n",
       "    <tr>\n",
       "      <th>10</th>\n",
       "      <td>0.5400</td>\n",
       "      <td>0.032693</td>\n",
       "      <td>51</td>\n",
       "    </tr>\n",
       "    <tr>\n",
       "      <th>11</th>\n",
       "      <td>0.5280</td>\n",
       "      <td>0.026892</td>\n",
       "      <td>56</td>\n",
       "    </tr>\n",
       "    <tr>\n",
       "      <th>12</th>\n",
       "      <td>0.5256</td>\n",
       "      <td>0.034926</td>\n",
       "      <td>61</td>\n",
       "    </tr>\n",
       "    <tr>\n",
       "      <th>13</th>\n",
       "      <td>0.5248</td>\n",
       "      <td>0.023241</td>\n",
       "      <td>66</td>\n",
       "    </tr>\n",
       "    <tr>\n",
       "      <th>14</th>\n",
       "      <td>0.5176</td>\n",
       "      <td>0.026605</td>\n",
       "      <td>71</td>\n",
       "    </tr>\n",
       "    <tr>\n",
       "      <th>15</th>\n",
       "      <td>0.5096</td>\n",
       "      <td>0.022712</td>\n",
       "      <td>76</td>\n",
       "    </tr>\n",
       "    <tr>\n",
       "      <th>16</th>\n",
       "      <td>0.5056</td>\n",
       "      <td>0.020016</td>\n",
       "      <td>81</td>\n",
       "    </tr>\n",
       "    <tr>\n",
       "      <th>17</th>\n",
       "      <td>0.5224</td>\n",
       "      <td>0.024606</td>\n",
       "      <td>86</td>\n",
       "    </tr>\n",
       "    <tr>\n",
       "      <th>18</th>\n",
       "      <td>0.5376</td>\n",
       "      <td>0.021850</td>\n",
       "      <td>91</td>\n",
       "    </tr>\n",
       "    <tr>\n",
       "      <th>19</th>\n",
       "      <td>0.5360</td>\n",
       "      <td>0.016589</td>\n",
       "      <td>96</td>\n",
       "    </tr>\n",
       "  </tbody>\n",
       "</table>\n",
       "</div>"
      ],
      "text/plain": [
       "    score_medio  score_std  n_neighbours\n",
       "0        0.5008   0.047288             1\n",
       "1        0.4832   0.024580             6\n",
       "2        0.5088   0.031840            11\n",
       "3        0.5016   0.026845            16\n",
       "4        0.5136   0.023947            21\n",
       "5        0.5088   0.033505            26\n",
       "6        0.5056   0.026605            31\n",
       "7        0.5176   0.039968            36\n",
       "8        0.5336   0.017454            41\n",
       "9        0.5384   0.022712            46\n",
       "10       0.5400   0.032693            51\n",
       "11       0.5280   0.026892            56\n",
       "12       0.5256   0.034926            61\n",
       "13       0.5248   0.023241            66\n",
       "14       0.5176   0.026605            71\n",
       "15       0.5096   0.022712            76\n",
       "16       0.5056   0.020016            81\n",
       "17       0.5224   0.024606            86\n",
       "18       0.5376   0.021850            91\n",
       "19       0.5360   0.016589            96"
      ]
     },
     "execution_count": 10,
     "metadata": {},
     "output_type": "execute_result"
    }
   ],
   "source": [
    "# Criar o DataFrame a partir da lista de dicionários\n",
    "df_scores = pd.DataFrame(scores_para_df)\n",
    "df_scores.head(20)"
   ]
  },
  {
   "cell_type": "markdown",
   "metadata": {},
   "source": [
    "####  <span style = \"color:red\">Código Original.</span>\n",
    "<!---\n",
    "# Criar o DataFrame a partir da lista de dicionários\n",
    "df_scores = pd.DataFrame(scores_para_df)\n",
    "df_scores.head()\n",
    "-->"
   ]
  },
  {
   "cell_type": "markdown",
   "metadata": {
    "colab_type": "text",
    "id": "oUfwmYV3b8nl"
   },
   "source": [
    "### Representando graficamente a procura pelo melhor hiperparâmetro\n",
    "\n",
    "#### O valor de pontuação que utiliza [`KNeighborsClassifier`](https://towardsdatascience.com/k-nearest-neighbors-94395f445221) por padrão é o `accuracy`: <br>\n",
    "\n",
    "$$\n",
    "\\text{acurácia} = \\frac{\\text{Casos bem classificados}}{\\text{Total}}\n",
    "$$    \n",
    "\n",
    "#### Uma vez que temos o `DataFrame` com o desempenho de cada valor do hiperparâmetro, fazemos um gráfico com os valores. Para ter uma ideia da dispersão, também representamos graficamente as linhas que indicam um desvio padrão acima e abaixo da média."
   ]
  },
  {
   "cell_type": "markdown",
   "metadata": {},
   "source": [
    "#### Vamos calcular um limite superior e um inferior para os `scores` das validações cruzadas, em termos da média e dos valores e do desvio padrão, adicionado e subtraído à média dos `scores`."
   ]
  },
  {
   "cell_type": "code",
   "execution_count": 11,
   "metadata": {
    "colab": {
     "autoexec": {
      "startup": false,
      "wait_interval": 0
     }
    },
    "colab_type": "code",
    "id": "BXay5D-ib8nn"
   },
   "outputs": [],
   "source": [
    "df_scores['limite_inferior'] = df_scores['score_medio'] - df_scores['score_std']\n",
    "df_scores['limite_superior'] = df_scores['score_medio'] + df_scores['score_std']"
   ]
  },
  {
   "cell_type": "markdown",
   "metadata": {},
   "source": [
    "####  <span style = \"color:red\">Código Original.</span>\n",
    "<!---\n",
    "df_scores['limite_inferior'] = df_scores['score_medio'] - df_scores['score_std']\n",
    "df_scores['limite_superior'] = df_scores['score_medio'] + df_scores['score_std']\n",
    "-->"
   ]
  },
  {
   "cell_type": "markdown",
   "metadata": {},
   "source": [
    "#### Como atribuímos os limites a novas colunas no `dataframe` original, teremos como `.head()`:"
   ]
  },
  {
   "cell_type": "code",
   "execution_count": 12,
   "metadata": {
    "colab": {
     "autoexec": {
      "startup": false,
      "wait_interval": 0
     }
    },
    "colab_type": "code",
    "id": "jeaEF-5zb8nu"
   },
   "outputs": [
    {
     "data": {
      "text/html": [
       "<div>\n",
       "<style scoped>\n",
       "    .dataframe tbody tr th:only-of-type {\n",
       "        vertical-align: middle;\n",
       "    }\n",
       "\n",
       "    .dataframe tbody tr th {\n",
       "        vertical-align: top;\n",
       "    }\n",
       "\n",
       "    .dataframe thead th {\n",
       "        text-align: right;\n",
       "    }\n",
       "</style>\n",
       "<table border=\"1\" class=\"dataframe\">\n",
       "  <thead>\n",
       "    <tr style=\"text-align: right;\">\n",
       "      <th></th>\n",
       "      <th>score_medio</th>\n",
       "      <th>score_std</th>\n",
       "      <th>n_neighbours</th>\n",
       "      <th>limite_inferior</th>\n",
       "      <th>limite_superior</th>\n",
       "    </tr>\n",
       "  </thead>\n",
       "  <tbody>\n",
       "    <tr>\n",
       "      <th>0</th>\n",
       "      <td>0.5008</td>\n",
       "      <td>0.047288</td>\n",
       "      <td>1</td>\n",
       "      <td>0.453512</td>\n",
       "      <td>0.548088</td>\n",
       "    </tr>\n",
       "    <tr>\n",
       "      <th>1</th>\n",
       "      <td>0.4832</td>\n",
       "      <td>0.024580</td>\n",
       "      <td>6</td>\n",
       "      <td>0.458620</td>\n",
       "      <td>0.507780</td>\n",
       "    </tr>\n",
       "    <tr>\n",
       "      <th>2</th>\n",
       "      <td>0.5088</td>\n",
       "      <td>0.031840</td>\n",
       "      <td>11</td>\n",
       "      <td>0.476960</td>\n",
       "      <td>0.540640</td>\n",
       "    </tr>\n",
       "    <tr>\n",
       "      <th>3</th>\n",
       "      <td>0.5016</td>\n",
       "      <td>0.026845</td>\n",
       "      <td>16</td>\n",
       "      <td>0.474755</td>\n",
       "      <td>0.528445</td>\n",
       "    </tr>\n",
       "    <tr>\n",
       "      <th>4</th>\n",
       "      <td>0.5136</td>\n",
       "      <td>0.023947</td>\n",
       "      <td>21</td>\n",
       "      <td>0.489653</td>\n",
       "      <td>0.537547</td>\n",
       "    </tr>\n",
       "  </tbody>\n",
       "</table>\n",
       "</div>"
      ],
      "text/plain": [
       "   score_medio  score_std  n_neighbours  limite_inferior  limite_superior\n",
       "0       0.5008   0.047288             1         0.453512         0.548088\n",
       "1       0.4832   0.024580             6         0.458620         0.507780\n",
       "2       0.5088   0.031840            11         0.476960         0.540640\n",
       "3       0.5016   0.026845            16         0.474755         0.528445\n",
       "4       0.5136   0.023947            21         0.489653         0.537547"
      ]
     },
     "execution_count": 12,
     "metadata": {},
     "output_type": "execute_result"
    }
   ],
   "source": [
    "df_scores.head()"
   ]
  },
  {
   "cell_type": "markdown",
   "metadata": {},
   "source": [
    "####  <span style = \"color:red\">Código Original.</span>\n",
    "<!---\n",
    "df_scores.head()\n",
    "-->"
   ]
  },
  {
   "cell_type": "markdown",
   "metadata": {},
   "source": [
    "#### Usando a biblioteca [`matplotlib.pyplot`](https://matplotlib.org/3.3.4/api/_as_gen/matplotlib.pyplot.html) podemos traçar as curvas para o número de vizinhos `'n_neighbours'` em função dos atributos: \n",
    "\n",
    "- `'limite_inferior'`;\n",
    "- `'score_medio'`; \n",
    "- `'limite_superior'`."
   ]
  },
  {
   "cell_type": "code",
   "execution_count": 13,
   "metadata": {
    "colab": {
     "autoexec": {
      "startup": false,
      "wait_interval": 0
     }
    },
    "colab_type": "code",
    "id": "Nwr4ExLab8nx"
   },
   "outputs": [
    {
     "data": {
      "image/png": "[encoded data removed]",
      "text/plain": [
       "<Figure size 432x288 with 1 Axes>"
      ]
     },
     "metadata": {
      "needs_background": "light"
     },
     "output_type": "display_data"
    }
   ],
   "source": [
    "import matplotlib.pyplot as plt\n",
    "%matplotlib inline\n",
    "\n",
    "plt.rcParams.update({'font.size': 15})\n",
    "\n",
    "plt.plot(df_scores['n_neighbours'], \n",
    "         df_scores['limite_inferior'], \n",
    "         color = 'r'\n",
    "        )\n",
    "plt.plot(df_scores['n_neighbours'], \n",
    "         df_scores['score_medio'], \n",
    "         color = 'b'\n",
    "        )\n",
    "plt.plot(df_scores['n_neighbours'], \n",
    "         df_scores['limite_superior'], \n",
    "         color = 'r'\n",
    "        )\n",
    "\n",
    "n_neighbours = 100\n",
    "plt.xlabel('n_neighbours')\n",
    "plt.ylabel('score')\n",
    "plt.xticks(np.arange(0, n_neighbours, step = 10));"
   ]
  },
  {
   "cell_type": "markdown",
   "metadata": {},
   "source": [
    "####  <span style = \"color:red\">Código Original.</span>\n",
    "<!---\n",
    "import matplotlib.pyplot as plt\n",
    "%matplotlib inline\n",
    "\n",
    "plt.plot(df_scores['n_neighbours'],df_scores['limite_inferior'],color='r')\n",
    "plt.plot(df_scores['n_neighbours'],df_scores['score_medio'],color='b')\n",
    "plt.plot(df_scores['n_neighbours'],df_scores['limite_superior'],color='r');\n",
    "-->"
   ]
  },
  {
   "cell_type": "markdown",
   "metadata": {
    "colab_type": "text",
    "id": "ssGaK_Cob8n2"
   },
   "source": [
    "## 4 - Padronização das variáveis\n",
    "\n",
    "#### O [kNN](https://scikit-learn.org/stable/modules/neighbors.html) é um método de Machine Learning que se baseia em [medições de distância](https://medium.com/@luigi.fiori.lf0303/distance-metrics-and-k-nearest-neighbor-knn-1b840969c0f4), aqui consideramos para nosso modelo os atributos\n",
    "\n",
    "- `['Lag1', 'Lag2', 'Lag3', 'Lag4', 'Lag5']`.\n",
    "\n",
    "#### Para dar maior interpretabilidade matemática ao processo que está sendo feito, o correto seria padronizar as variáveis para se desfazer das unidades físicas.\n",
    "\n",
    "#### Vamos então importar a biblioteca [`sklearn.preprocessing`](https://scikit-learn.org/stable/modules/preprocessing.html) e aplicar a função de reescalonamento [`preprocessing.scale()`](https://scikit-learn.org/stable/modules/generated/sklearn.preprocessing.scale.html) aos atributos: "
   ]
  },
  {
   "cell_type": "code",
   "execution_count": 14,
   "metadata": {
    "colab": {
     "autoexec": {
      "startup": false,
      "wait_interval": 0
     }
    },
    "colab_type": "code",
    "id": "_NFDEktpb8n3"
   },
   "outputs": [
    {
     "name": "stdout",
     "output_type": "stream",
     "text": [
      "[[ 3.48481977e-01 -1.79255809e-01 -2.41127773e+00 -9.69640067e-01\n",
      "   4.19212790e-03]\n",
      " [ 8.80742814e-01  3.48410092e-01 -1.76909384e-01 -2.41104053e+00\n",
      "  -9.69612732e-01]\n",
      " [ 9.47966069e-01  8.80680406e-01  3.49526907e-01 -1.76823880e-01\n",
      "  -2.41101406e+00]\n",
      " ...\n",
      " [-8.81795667e-01  3.71516723e-02  3.87195123e-01  2.31067647e-01\n",
      "  -2.24586386e-02]\n",
      " [-2.24844658e-03 -8.81889459e-01  3.89938068e-02  3.87242330e-01\n",
      "   2.31095706e-01]\n",
      " [-2.76786376e-01 -2.32657749e-03 -8.77905702e-01  3.90646534e-02\n",
      "   3.87270484e-01]]\n"
     ]
    }
   ],
   "source": [
    "# Utilizar sklearn para padronizar a matriz de Features\n",
    "from sklearn import preprocessing\n",
    "X = df[['Lag1', 'Lag2', 'Lag3', 'Lag4', 'Lag5']]\n",
    "X = preprocessing.scale(X, \n",
    "                        axis = 0\n",
    "                       )\n",
    "print(X)"
   ]
  },
  {
   "cell_type": "markdown",
   "metadata": {},
   "source": [
    "####  <span style = \"color:red\">Código Original.</span>\n",
    "<!---\n",
    "# Utilizar sklearn para padronizar a matriz de Features\n",
    "from sklearn import preprocessing\n",
    "X = df[['Lag1', 'Lag2', 'Lag3', 'Lag4', 'Lag5']]\n",
    "X = preprocessing.scale(X, axis = 0)\n",
    "-->"
   ]
  },
  {
   "cell_type": "markdown",
   "metadata": {},
   "source": [
    "#### Podemos calcular as médias e desvios padão para cada atributo padronizado."
   ]
  },
  {
   "cell_type": "code",
   "execution_count": 15,
   "metadata": {
    "colab": {
     "autoexec": {
      "startup": false,
      "wait_interval": 0
     }
    },
    "colab_type": "code",
    "id": "iGu3WYEtb8n6"
   },
   "outputs": [
    {
     "name": "stdout",
     "output_type": "stream",
     "text": [
      "media: -8.526512829121201e-18\n",
      "desvio: 0.9999999999999999\n"
     ]
    }
   ],
   "source": [
    "# Verificar se as colunas têm média 0 e desvio 1.\n",
    "print('media:', np.mean(X[:,4]))\n",
    "print('desvio:', np.std(X[:,4]))"
   ]
  },
  {
   "cell_type": "markdown",
   "metadata": {},
   "source": [
    "####  <span style = \"color:red\">Código Original.</span>\n",
    "<!---\n",
    "# Verificar se as colunas têm média 0 e desvio 1.\n",
    "print('media:',np.mean(X[:,1]))\n",
    "print('desvio:',np.std(X[:,1]))\n",
    "-->"
   ]
  },
  {
   "cell_type": "markdown",
   "metadata": {},
   "source": [
    "#### Agora vamos repetir o processo de validação cruzada dos dados, uma vez que realizaremos o processo em dados padronizados.\n",
    "\n",
    "#### Vamos novamente rodar um `loop` sobre diversos valores possíveis de número de vizinhos, e calcular as médias e desvios padrão dos `scores` da validação cruzada, guandando-os em uma nova lista de dicionários."
   ]
  },
  {
   "cell_type": "code",
   "execution_count": 16,
   "metadata": {
    "colab": {
     "autoexec": {
      "startup": false,
      "wait_interval": 0
     }
    },
    "colab_type": "code",
    "id": "lZFghOnnb8n8"
   },
   "outputs": [],
   "source": [
    "# Calcular os scores de validação cruzada novamente, mas desta vez sobre os recursos padronizados\n",
    "from sklearn.model_selection import cross_val_score\n",
    "\n",
    "scores_para_df_standar = []\n",
    "\n",
    "error_rates = {}\n",
    "\n",
    "for i in range(1, 100, 5):\n",
    "    \n",
    "    model = KNeighborsClassifier(n_neighbors = i)\n",
    "    \n",
    "    cv_scores = cross_val_score(model, \n",
    "                                X, \n",
    "                                y, \n",
    "                                cv = 5\n",
    "                               )\n",
    "    \n",
    "    dict_row_score = {'score_medio':np.mean(cv_scores),\n",
    "                      'score_std':np.std(cv_scores),\n",
    "                      'n_neighbours':i\n",
    "                     }\n",
    "    scores_para_df_standar.append(dict_row_score)\n",
    "    \n",
    "    error = 1 - np.mean(cross_val_score(model, \n",
    "                                        X, \n",
    "                                        y, \n",
    "                                        cv = 5\n",
    "                                       )\n",
    "                       )\n",
    "    error_rates.update({i:error})"
   ]
  },
  {
   "cell_type": "markdown",
   "metadata": {},
   "source": [
    "####  <span style = \"color:red\">Código Original.</span>\n",
    "<!---\n",
    "# Calcular os scores de validação cruzada novamente, mas desta vez sobre os recursos padronizados\n",
    "from sklearn.model_selection import cross_val_score\n",
    "\n",
    "scores_para_df_standar = []\n",
    "\n",
    "for i in range(1,100,5):\n",
    "    model = KNeighborsClassifier(n_neighbors = i)\n",
    "    \n",
    "    cv_scores = cross_val_score(model, \n",
    "                                X, \n",
    "                                y, \n",
    "                                cv = 5\n",
    "                               )\n",
    "    \n",
    "    dict_row_score = {'score_medio':np.mean(cv_scores),\n",
    "                      'score_std':np.std(cv_scores),'n_neighbours':i\n",
    "                     }\n",
    "    scores_para_df_standar.append(dict_row_score)\n",
    "-->"
   ]
  },
  {
   "cell_type": "markdown",
   "metadata": {},
   "source": [
    "#### Fazemos novamente uma validação cruzada para estimar o parâmetro `k` (número de vizinhos próximos) do algoritmo. Salvamos os valores do erro de classificação ($1 - \\overline{cross~val~score}$), guardamos em um dicionário e procuramos o valor mínimo (ou seja, o erro mínimo de classificação)."
   ]
  },
  {
   "cell_type": "code",
   "execution_count": 17,
   "metadata": {},
   "outputs": [
    {
     "data": {
      "text/plain": [
       "{1: 0.4992,\n",
       " 6: 0.5184,\n",
       " 11: 0.48960000000000004,\n",
       " 16: 0.49839999999999995,\n",
       " 21: 0.488,\n",
       " 26: 0.49039999999999995,\n",
       " 31: 0.49439999999999995,\n",
       " 36: 0.48319999999999996,\n",
       " 41: 0.4663999999999999,\n",
       " 46: 0.45919999999999994,\n",
       " 51: 0.45999999999999996,\n",
       " 56: 0.4728,\n",
       " 61: 0.476,\n",
       " 66: 0.4776,\n",
       " 71: 0.48160000000000003,\n",
       " 76: 0.4888,\n",
       " 81: 0.49439999999999995,\n",
       " 86: 0.47919999999999996,\n",
       " 91: 0.46319999999999995,\n",
       " 96: 0.4648}"
      ]
     },
     "execution_count": 17,
     "metadata": {},
     "output_type": "execute_result"
    }
   ],
   "source": [
    "error_rates"
   ]
  },
  {
   "cell_type": "code",
   "execution_count": 18,
   "metadata": {},
   "outputs": [
    {
     "data": {
      "text/plain": [
       "46"
      ]
     },
     "execution_count": 18,
     "metadata": {},
     "output_type": "execute_result"
    }
   ],
   "source": [
    "kBest = min(error_rates, key = error_rates.get)\n",
    "kBest"
   ]
  },
  {
   "cell_type": "markdown",
   "metadata": {},
   "source": [
    "#### Convertemos a nova lista de dicionários em um dataframe."
   ]
  },
  {
   "cell_type": "code",
   "execution_count": 19,
   "metadata": {
    "colab": {
     "autoexec": {
      "startup": false,
      "wait_interval": 0
     }
    },
    "colab_type": "code",
    "id": "dsF8C8u9b8n_"
   },
   "outputs": [
    {
     "data": {
      "text/html": [
       "<div>\n",
       "<style scoped>\n",
       "    .dataframe tbody tr th:only-of-type {\n",
       "        vertical-align: middle;\n",
       "    }\n",
       "\n",
       "    .dataframe tbody tr th {\n",
       "        vertical-align: top;\n",
       "    }\n",
       "\n",
       "    .dataframe thead th {\n",
       "        text-align: right;\n",
       "    }\n",
       "</style>\n",
       "<table border=\"1\" class=\"dataframe\">\n",
       "  <thead>\n",
       "    <tr style=\"text-align: right;\">\n",
       "      <th></th>\n",
       "      <th>score_medio</th>\n",
       "      <th>score_std</th>\n",
       "      <th>n_neighbours</th>\n",
       "    </tr>\n",
       "  </thead>\n",
       "  <tbody>\n",
       "    <tr>\n",
       "      <th>0</th>\n",
       "      <td>0.5008</td>\n",
       "      <td>0.047288</td>\n",
       "      <td>1</td>\n",
       "    </tr>\n",
       "    <tr>\n",
       "      <th>1</th>\n",
       "      <td>0.4816</td>\n",
       "      <td>0.024344</td>\n",
       "      <td>6</td>\n",
       "    </tr>\n",
       "    <tr>\n",
       "      <th>2</th>\n",
       "      <td>0.5104</td>\n",
       "      <td>0.035472</td>\n",
       "      <td>11</td>\n",
       "    </tr>\n",
       "    <tr>\n",
       "      <th>3</th>\n",
       "      <td>0.5016</td>\n",
       "      <td>0.028689</td>\n",
       "      <td>16</td>\n",
       "    </tr>\n",
       "    <tr>\n",
       "      <th>4</th>\n",
       "      <td>0.5120</td>\n",
       "      <td>0.025675</td>\n",
       "      <td>21</td>\n",
       "    </tr>\n",
       "    <tr>\n",
       "      <th>5</th>\n",
       "      <td>0.5096</td>\n",
       "      <td>0.032060</td>\n",
       "      <td>26</td>\n",
       "    </tr>\n",
       "    <tr>\n",
       "      <th>6</th>\n",
       "      <td>0.5056</td>\n",
       "      <td>0.028800</td>\n",
       "      <td>31</td>\n",
       "    </tr>\n",
       "    <tr>\n",
       "      <th>7</th>\n",
       "      <td>0.5168</td>\n",
       "      <td>0.040509</td>\n",
       "      <td>36</td>\n",
       "    </tr>\n",
       "    <tr>\n",
       "      <th>8</th>\n",
       "      <td>0.5336</td>\n",
       "      <td>0.017270</td>\n",
       "      <td>41</td>\n",
       "    </tr>\n",
       "    <tr>\n",
       "      <th>9</th>\n",
       "      <td>0.5408</td>\n",
       "      <td>0.023379</td>\n",
       "      <td>46</td>\n",
       "    </tr>\n",
       "    <tr>\n",
       "      <th>10</th>\n",
       "      <td>0.5400</td>\n",
       "      <td>0.032199</td>\n",
       "      <td>51</td>\n",
       "    </tr>\n",
       "    <tr>\n",
       "      <th>11</th>\n",
       "      <td>0.5272</td>\n",
       "      <td>0.028889</td>\n",
       "      <td>56</td>\n",
       "    </tr>\n",
       "    <tr>\n",
       "      <th>12</th>\n",
       "      <td>0.5240</td>\n",
       "      <td>0.033657</td>\n",
       "      <td>61</td>\n",
       "    </tr>\n",
       "    <tr>\n",
       "      <th>13</th>\n",
       "      <td>0.5224</td>\n",
       "      <td>0.023269</td>\n",
       "      <td>66</td>\n",
       "    </tr>\n",
       "    <tr>\n",
       "      <th>14</th>\n",
       "      <td>0.5184</td>\n",
       "      <td>0.030839</td>\n",
       "      <td>71</td>\n",
       "    </tr>\n",
       "    <tr>\n",
       "      <th>15</th>\n",
       "      <td>0.5112</td>\n",
       "      <td>0.021526</td>\n",
       "      <td>76</td>\n",
       "    </tr>\n",
       "    <tr>\n",
       "      <th>16</th>\n",
       "      <td>0.5056</td>\n",
       "      <td>0.020016</td>\n",
       "      <td>81</td>\n",
       "    </tr>\n",
       "    <tr>\n",
       "      <th>17</th>\n",
       "      <td>0.5208</td>\n",
       "      <td>0.023103</td>\n",
       "      <td>86</td>\n",
       "    </tr>\n",
       "    <tr>\n",
       "      <th>18</th>\n",
       "      <td>0.5368</td>\n",
       "      <td>0.021526</td>\n",
       "      <td>91</td>\n",
       "    </tr>\n",
       "    <tr>\n",
       "      <th>19</th>\n",
       "      <td>0.5352</td>\n",
       "      <td>0.018830</td>\n",
       "      <td>96</td>\n",
       "    </tr>\n",
       "  </tbody>\n",
       "</table>\n",
       "</div>"
      ],
      "text/plain": [
       "    score_medio  score_std  n_neighbours\n",
       "0        0.5008   0.047288             1\n",
       "1        0.4816   0.024344             6\n",
       "2        0.5104   0.035472            11\n",
       "3        0.5016   0.028689            16\n",
       "4        0.5120   0.025675            21\n",
       "5        0.5096   0.032060            26\n",
       "6        0.5056   0.028800            31\n",
       "7        0.5168   0.040509            36\n",
       "8        0.5336   0.017270            41\n",
       "9        0.5408   0.023379            46\n",
       "10       0.5400   0.032199            51\n",
       "11       0.5272   0.028889            56\n",
       "12       0.5240   0.033657            61\n",
       "13       0.5224   0.023269            66\n",
       "14       0.5184   0.030839            71\n",
       "15       0.5112   0.021526            76\n",
       "16       0.5056   0.020016            81\n",
       "17       0.5208   0.023103            86\n",
       "18       0.5368   0.021526            91\n",
       "19       0.5352   0.018830            96"
      ]
     },
     "execution_count": 19,
     "metadata": {},
     "output_type": "execute_result"
    }
   ],
   "source": [
    "df_scores_standar = pd.DataFrame(scores_para_df_standar)\n",
    "df_scores_standar"
   ]
  },
  {
   "cell_type": "markdown",
   "metadata": {},
   "source": [
    "####  <span style = \"color:red\">Código Original.</span>\n",
    "<!---\n",
    "df_scores_standar = pd.DataFrame(scores_para_df_standar)\n",
    "df_scores_standar.head()\n",
    "-->"
   ]
  },
  {
   "cell_type": "markdown",
   "metadata": {},
   "source": [
    "#### Ainda repetindo o processo, vamos novamente criar intervalos mínimos e máximos para os `scores` das validações cruzadas, em termos das médias adicionadas e subtraídas de um desvio padrão."
   ]
  },
  {
   "cell_type": "code",
   "execution_count": 20,
   "metadata": {
    "colab": {
     "autoexec": {
      "startup": false,
      "wait_interval": 0
     }
    },
    "colab_type": "code",
    "id": "xBVaAOZ8b8oC"
   },
   "outputs": [],
   "source": [
    "# Criar os limites para representação gráfica novamente\n",
    "df_scores_standar['limite_superior'] = df_scores_standar['score_medio'] + df_scores_standar['score_std']\n",
    "df_scores_standar['limite_inferior'] = df_scores_standar['score_medio'] - df_scores_standar['score_std']"
   ]
  },
  {
   "cell_type": "markdown",
   "metadata": {},
   "source": [
    "####  <span style = \"color:red\">Código Original.</span>\n",
    "<!---\n",
    "# Criar os limites para representação gráfica novamente\n",
    "df_scores_standar['limite_superior'] = df_scores_standar['score_medio'] + df_scores_standar['score_std']\n",
    "df_scores_standar['limite_inferior'] = df_scores_standar['score_medio'] - df_scores_standar['score_std']\n",
    "-->"
   ]
  },
  {
   "cell_type": "markdown",
   "metadata": {},
   "source": [
    "#### Realizando uma nova plotagem do número de vizinhos `'n_neighbours'` em função dos atributos: \n",
    "* `'limite_inferior'`;\n",
    "* `'score_medio'`; \n",
    "* `'limite_superior'`."
   ]
  },
  {
   "cell_type": "code",
   "execution_count": 21,
   "metadata": {
    "colab": {
     "autoexec": {
      "startup": false,
      "wait_interval": 0
     }
    },
    "colab_type": "code",
    "id": "sQH0L8wjb8oF"
   },
   "outputs": [
    {
     "data": {
      "image/png": "[encoded data removed]",
      "text/plain": [
       "<Figure size 432x288 with 1 Axes>"
      ]
     },
     "metadata": {
      "needs_background": "light"
     },
     "output_type": "display_data"
    }
   ],
   "source": [
    "# Buscar graficamente o valor ideal para n_neighbors\n",
    "import matplotlib.pyplot as plt\n",
    "%matplotlib inline\n",
    "\n",
    "plt.rcParams.update({'font.size': 15})\n",
    "\n",
    "plt.plot(df_scores_standar['n_neighbours'], \n",
    "         df_scores_standar['limite_inferior'], \n",
    "         color = 'r'\n",
    "        )\n",
    "plt.plot(df_scores_standar['n_neighbours'], \n",
    "         df_scores_standar['score_medio'], \n",
    "         color = 'b'\n",
    "        )\n",
    "plt.plot(df_scores_standar['n_neighbours'], \n",
    "         df_scores_standar['limite_superior'], \n",
    "         color = 'r'\n",
    "        )\n",
    "\n",
    "n_neighbours = 100\n",
    "plt.xlabel('n_neighbours')\n",
    "plt.ylabel('score')\n",
    "plt.xticks(np.arange(0, n_neighbours, step = 10));"
   ]
  },
  {
   "cell_type": "markdown",
   "metadata": {},
   "source": [
    "####  <span style = \"color:red\">Código Original.</span>\n",
    "<!---\n",
    "# Buscar graficamente o valor ideal para n_neighbors\n",
    "import matplotlib.pyplot as plt\n",
    "%matplotlib inline\n",
    "\n",
    "plt.plot(df_scores_standar['n_neighbours'],df_scores_standar['limite_inferior'],color = 'r')\n",
    "plt.plot(df_scores_standar['n_neighbours'],df_scores_standar['score_medio'],color = 'b')\n",
    "plt.plot(df_scores_standar['n_neighbours'],df_scores_standar['limite_superior'],color = 'r');\n",
    "-->"
   ]
  },
  {
   "cell_type": "markdown",
   "metadata": {
    "colab_type": "text",
    "id": "7X8OB_clb8oI"
   },
   "source": [
    "#### Avaliando os resultados\n",
    "\n",
    "#### Neste caso, vemos que a padronização gera uma alteração nos resultados do modelo? \n",
    "\n",
    "* Por que observamos isso?\n",
    "\n",
    "A medida que padronizamos os dados temos distâncias menores de um ponto para o outro, já que a ocorrência de outliers ou medidas físicas maiores que outras deixam os pontos mais longes um do outro. Nesse caso, a diminuição do número de vizinhos se explica nessa \"redução do espaço\" onde nossos pontos estão sendo comparados ao utilizarmos os seus z_scores."
   ]
  },
  {
   "cell_type": "markdown",
   "metadata": {},
   "source": [
    "####  <span style = \"color:red\">Código Original.</span>\n",
    "<!---\n",
    "* Porque neste modelo todas as variáveis são expressas nas mesmas unidades, por isso, não é necessário redimensionar cada um dos componentes para construir uma matriz de distância que faça sentido.\n",
    "-->"
   ]
  },
  {
   "cell_type": "markdown",
   "metadata": {
    "colab_type": "text",
    "id": "MmJ4OGstb8oK"
   },
   "source": [
    "## 5 - Matriz de confusão\n",
    "\n",
    "#### Agora que foi decidido qual é o melhor pré-processamento e o melhor valor possível para os hiperparâmetros, é possível treinar um modelo com esses critérios para obter uma matriz de confusão sobre os dados não observados. "
   ]
  },
  {
   "cell_type": "markdown",
   "metadata": {},
   "source": [
    "### 5.1- Pré-processamento dos dados.\n",
    "\n",
    "#### Vamos repetir os passos acima apenas para tornar todo o processo mais claro.\n",
    "\n",
    "#### Reescalonamos os atributos escolhidos com `preprocessing.scale()` e realizamos a codificação dos targets com a função `preprocessing.LabelEncoder()`.\n",
    "\n",
    "#### Ajustamos os `targets` codificados ao atributo `'Direction'`."
   ]
  },
  {
   "cell_type": "code",
   "execution_count": 22,
   "metadata": {
    "colab": {
     "autoexec": {
      "startup": false,
      "wait_interval": 0
     }
    },
    "colab_type": "code",
    "id": "0A6Ryr0Qb8oK"
   },
   "outputs": [
    {
     "name": "stdout",
     "output_type": "stream",
     "text": [
      "[1 1 0 ... 1 0 0]\n"
     ]
    }
   ],
   "source": [
    "# Matriz de features\n",
    "X = df[['Lag1', 'Lag2', 'Lag3', 'Lag4', 'Lag5']]\n",
    "X = preprocessing.scale(X, \n",
    "                        axis = 0\n",
    "                       )\n",
    "# Vetor de targets\n",
    "le = preprocessing.LabelEncoder()\n",
    "\n",
    "y = le.fit_transform(df['Direction'])\n",
    "\n",
    "print(y)"
   ]
  },
  {
   "cell_type": "markdown",
   "metadata": {},
   "source": [
    "####  <span style = \"color:red\">Código Original.</span>\n",
    "<!---\n",
    "# Matriz de features\n",
    "X = df[['Lag1', 'Lag2', 'Lag3', 'Lag4', 'Lag5']]\n",
    "X = preprocessing.scale(X, axis = 0)\n",
    "\n",
    "# Vetor de targets\n",
    "le = preprocessing.LabelEncoder()\n",
    "\n",
    "y = le.fit_transform(df['Direction'])\n",
    "\n",
    "print(y)\n",
    "-->"
   ]
  },
  {
   "cell_type": "markdown",
   "metadata": {
    "colab_type": "text",
    "id": "eYwndLlyb8oN"
   },
   "source": [
    "### 5.2- Split train-test.\n",
    "\n",
    "#### Já sabendo qual é o melhor modelo, queremos obter uma matriz de confusão. \n",
    "\n",
    "#### Vamos fazer um novo `split train-test` porque sempre queremos avaliar onde o modelo faz previsões corretas e onde ele comete erros sobre dados não observados.\n",
    "\n",
    "#### Aplicamos novamente a função  `train_test_split()` aos objetos `X` com os atributos e `y` com os `targets`."
   ]
  },
  {
   "cell_type": "code",
   "execution_count": 23,
   "metadata": {
    "colab": {
     "autoexec": {
      "startup": false,
      "wait_interval": 0
     }
    },
    "colab_type": "code",
    "id": "aDqKwgnPb8oO"
   },
   "outputs": [],
   "source": [
    "from sklearn.model_selection import train_test_split\n",
    "\n",
    "X_train, X_test, y_train, y_test = train_test_split(X,y)"
   ]
  },
  {
   "cell_type": "markdown",
   "metadata": {},
   "source": [
    "####  <span style = \"color:red\">Código Original.</span>\n",
    "<!---\n",
    "from sklearn.model_selection import train_test_split\n",
    "\n",
    "X_train, X_test, y_train, y_test = train_test_split(X,y)\n",
    "-->"
   ]
  },
  {
   "cell_type": "markdown",
   "metadata": {},
   "source": [
    "#### Agora instanciamos o objeto `model` que receberá o modelo dos k vizinhos mais próximos `KNeighborsClassifier()` e ajustamos esse modelo aos dados de treino."
   ]
  },
  {
   "cell_type": "code",
   "execution_count": 24,
   "metadata": {
    "colab": {
     "autoexec": {
      "startup": false,
      "wait_interval": 0
     }
    },
    "colab_type": "code",
    "id": "OTnGEUa_b8oS"
   },
   "outputs": [
    {
     "data": {
      "text/plain": [
       "KNeighborsClassifier(n_neighbors=46)"
      ]
     },
     "execution_count": 24,
     "metadata": {},
     "output_type": "execute_result"
    }
   ],
   "source": [
    "# Escolher o modelo ideal que foi indicado pela validação cruzada\n",
    "#model = KNeighborsClassifier(n_neighbors = KBest)\n",
    "model = KNeighborsClassifier(n_neighbors = kBest)\n",
    "\n",
    "# Ajustá-lo sobre os dados de treinamento\n",
    "model.fit(X_train, y_train)"
   ]
  },
  {
   "cell_type": "markdown",
   "metadata": {},
   "source": [
    "####  <span style = \"color:red\">Código Original.</span>\n",
    "<!---\n",
    "# Escolher o modelo ideal que foi indicado pela validação cruzada\n",
    "model = KNeighborsClassifier(n_neighbors = 26)\n",
    "\n",
    "# Ajustá-lo sobre os dados de treinamento\n",
    "model.fit(X_train,y_train)\n",
    "-->"
   ]
  },
  {
   "cell_type": "markdown",
   "metadata": {},
   "source": [
    "#### Podemos então fazer a previsão da condição de `up` ou `down` para o atributo target `'Direction'`."
   ]
  },
  {
   "cell_type": "code",
   "execution_count": 25,
   "metadata": {
    "colab": {
     "autoexec": {
      "startup": false,
      "wait_interval": 0
     }
    },
    "colab_type": "code",
    "id": "Mepx-39Yb8oV"
   },
   "outputs": [],
   "source": [
    "# Ele é utilizado para prever em teste\n",
    "y_pred = model.predict(X_test)"
   ]
  },
  {
   "cell_type": "markdown",
   "metadata": {},
   "source": [
    "####  <span style = \"color:red\">Código Original.</span>\n",
    "<!---\n",
    "# Ele é utilizado para prever em teste\n",
    "y_pred = model.predict(X_test)\n",
    "-->"
   ]
  },
  {
   "cell_type": "markdown",
   "metadata": {},
   "source": [
    "#### Agora, importando a biblioteca [`sklearn.metrics.confusion_matrix`](https://scikit-learn.org/stable/modules/generated/sklearn.metrics.confusion_matrix.html), podemos calcular a matrix de confusão entre os subconjuntos `y_test` e `y_pred`."
   ]
  },
  {
   "cell_type": "code",
   "execution_count": 26,
   "metadata": {
    "colab": {
     "autoexec": {
      "startup": false,
      "wait_interval": 0
     }
    },
    "colab_type": "code",
    "id": "ZSfeFGulb8oY"
   },
   "outputs": [
    {
     "data": {
      "text/plain": [
       "array([[ 69,  82],\n",
       "       [ 49, 113]])"
      ]
     },
     "execution_count": 26,
     "metadata": {},
     "output_type": "execute_result"
    }
   ],
   "source": [
    "# Elaborar a matriz de confusão:\n",
    "from sklearn.metrics import confusion_matrix\n",
    "\n",
    "confusion_matrix(y_test, y_pred)"
   ]
  },
  {
   "cell_type": "markdown",
   "metadata": {},
   "source": [
    "####  <span style = \"color:red\">Código Original.</span>\n",
    "<!---\n",
    "# Elaborar a matriz de confusão:\n",
    "from sklearn.metrics import confusion_matrix\n",
    "\n",
    "confusion_matrix(y_test, y_pred)\n",
    "-->"
   ]
  },
  {
   "cell_type": "markdown",
   "metadata": {},
   "source": [
    "#### Podemos importar a matriz de confusão para um mapa de calor, com a função [`sns.heatmap()`](https://seaborn.pydata.org/generated/seaborn.heatmap.html) da biblioteca `seaborn`."
   ]
  },
  {
   "cell_type": "code",
   "execution_count": 218,
   "metadata": {
    "colab": {
     "autoexec": {
      "startup": false,
      "wait_interval": 0
     }
    },
    "colab_type": "code",
    "id": "oFi0cfjmb8oa"
   },
   "outputs": [
    {
     "data": {
      "image/png": "[encoded data removed]",
      "text/plain": [
       "<Figure size 432x288 with 2 Axes>"
      ]
     },
     "metadata": {
      "needs_background": "light"
     },
     "output_type": "display_data"
    }
   ],
   "source": [
    "import seaborn as sns\n",
    "\n",
    "sns.heatmap(confusion_matrix(y_test, \n",
    "                             y_pred\n",
    "                            ),\n",
    "            annot = True\n",
    "           )\n",
    "plt.ylabel('Verdadeiros')\n",
    "plt.xlabel('Previstos');"
   ]
  },
  {
   "cell_type": "markdown",
   "metadata": {},
   "source": [
    "####  <span style = \"color:red\">Código Original.</span>\n",
    "<!---\n",
    "import seaborn as sns\n",
    "\n",
    "sns.heatmap(confusion_matrix(y_test, y_pred))\n",
    "plt.ylabel('Verdadeiros')\n",
    "plt.xlabel('Previstos');\n",
    "-->"
   ]
  },
  {
   "cell_type": "markdown",
   "metadata": {},
   "source": [
    "#### Lembrando que as classes previstas são `['Down', 'Up']`."
   ]
  },
  {
   "cell_type": "code",
   "execution_count": 27,
   "metadata": {
    "colab": {
     "autoexec": {
      "startup": false,
      "wait_interval": 0
     }
    },
    "colab_type": "code",
    "id": "tAh_u_iCb8of"
   },
   "outputs": [
    {
     "data": {
      "text/plain": [
       "array(['Down', 'Up'], dtype=object)"
      ]
     },
     "execution_count": 27,
     "metadata": {},
     "output_type": "execute_result"
    }
   ],
   "source": [
    "# Lembrar dos valores dos rótulos que foram criados com o método LabelEncoder()\n",
    "le.classes_"
   ]
  },
  {
   "cell_type": "markdown",
   "metadata": {},
   "source": [
    "####  <span style = \"color:red\">Código Original.</span>\n",
    "<!---\n",
    "le.classes_\n",
    "-->"
   ]
  },
  {
   "cell_type": "markdown",
   "metadata": {
    "colab_type": "text",
    "id": "0PDwUr2ob8oh"
   },
   "source": [
    "#### Conclusão: Não parece ser fácil prever a evolução das ações com base nos recursos utilizados. O modelo tem um viés para prever que as ações vão subir. "
   ]
  },
  {
   "cell_type": "markdown",
   "metadata": {},
   "source": [
    "#### Calculamos a acurácia com a função [`accuracy_score()`](https://scikit-learn.org/stable/modules/generated/sklearn.metrics.accuracy_score.html)."
   ]
  },
  {
   "cell_type": "code",
   "execution_count": 28,
   "metadata": {},
   "outputs": [
    {
     "data": {
      "text/plain": [
       "0.5814696485623003"
      ]
     },
     "execution_count": 28,
     "metadata": {},
     "output_type": "execute_result"
    }
   ],
   "source": [
    "from sklearn.metrics import accuracy_score\n",
    "accuracy_score(y_test, y_pred)"
   ]
  },
  {
   "cell_type": "markdown",
   "metadata": {},
   "source": [
    "#### Calculamos a precisão com a função [`precision_score`](https://scikit-learn.org/stable/modules/generated/sklearn.metrics.precision_score.html)"
   ]
  },
  {
   "cell_type": "code",
   "execution_count": 29,
   "metadata": {},
   "outputs": [
    {
     "data": {
      "text/plain": [
       "0.5794871794871795"
      ]
     },
     "execution_count": 29,
     "metadata": {},
     "output_type": "execute_result"
    }
   ],
   "source": [
    "from sklearn.metrics import precision_score\n",
    "precision_score(y_test, y_pred)"
   ]
  },
  {
   "cell_type": "markdown",
   "metadata": {},
   "source": [
    "#### E calculamos a precisão com a função  [`recall_score`](https://scikit-learn.org/stable/modules/generated/sklearn.metrics.recall_score.html)."
   ]
  },
  {
   "cell_type": "code",
   "execution_count": 30,
   "metadata": {},
   "outputs": [
    {
     "data": {
      "text/plain": [
       "0.6975308641975309"
      ]
     },
     "execution_count": 30,
     "metadata": {},
     "output_type": "execute_result"
    }
   ],
   "source": [
    "from sklearn.metrics import recall_score\n",
    "recall_score(y_test, y_pred)"
   ]
  },
  {
   "cell_type": "markdown",
   "metadata": {},
   "source": [
    "##  <span style = \"color:blue\">Prática Independente.</span>\n",
    "<!---\n",
    "-->"
   ]
  },
  {
   "cell_type": "markdown",
   "metadata": {},
   "source": [
    "#### Agora pratique a classificação de casos de câncer de próstata com o arquivo anexo `'cancer-prostate.csv'`, nele você encontrará informações sobre:\n",
    "\n",
    "- `'id'`, \n",
    "- `'diagnosis_result'`\n",
    "- `'radius'`\n",
    "- `'texture'` \n",
    "- `'perimeter'`\n",
    "- `'area'`\n",
    "- `'smoothness'`\n",
    "- `'compactness'` \n",
    "- `'symmetry'`\n",
    "- `'fractal_dimension'`"
   ]
  },
  {
   "cell_type": "code",
   "execution_count": 47,
   "metadata": {},
   "outputs": [],
   "source": [
    "df= pd.read_csv('cancer-prostate.csv')"
   ]
  },
  {
   "cell_type": "markdown",
   "metadata": {},
   "source": [
    "####  <span style = \"color:red\">Código Original.</span>\n",
    "<!---\n",
    "import numpy as np\n",
    "import pandas as pd\n",
    "from sklearn.model_selection import train_test_split\n",
    "from sklearn.neighbors import KNeighborsClassifier\n",
    "from sklearn.metrics import confusion_matrix\n",
    "-->"
   ]
  },
  {
   "cell_type": "code",
   "execution_count": 42,
   "metadata": {},
   "outputs": [
    {
     "data": {
      "text/html": [
       "<div>\n",
       "<style scoped>\n",
       "    .dataframe tbody tr th:only-of-type {\n",
       "        vertical-align: middle;\n",
       "    }\n",
       "\n",
       "    .dataframe tbody tr th {\n",
       "        vertical-align: top;\n",
       "    }\n",
       "\n",
       "    .dataframe thead th {\n",
       "        text-align: right;\n",
       "    }\n",
       "</style>\n",
       "<table border=\"1\" class=\"dataframe\">\n",
       "  <thead>\n",
       "    <tr style=\"text-align: right;\">\n",
       "      <th></th>\n",
       "      <th>id</th>\n",
       "      <th>diagnosis_result</th>\n",
       "      <th>radius</th>\n",
       "      <th>texture</th>\n",
       "      <th>perimeter</th>\n",
       "      <th>area</th>\n",
       "      <th>smoothness</th>\n",
       "      <th>compactness</th>\n",
       "      <th>symmetry</th>\n",
       "      <th>fractal_dimension</th>\n",
       "    </tr>\n",
       "  </thead>\n",
       "  <tbody>\n",
       "    <tr>\n",
       "      <th>0</th>\n",
       "      <td>1</td>\n",
       "      <td>M</td>\n",
       "      <td>23</td>\n",
       "      <td>12</td>\n",
       "      <td>151</td>\n",
       "      <td>954</td>\n",
       "      <td>0.143</td>\n",
       "      <td>0.278</td>\n",
       "      <td>0.242</td>\n",
       "      <td>0.079</td>\n",
       "    </tr>\n",
       "    <tr>\n",
       "      <th>1</th>\n",
       "      <td>2</td>\n",
       "      <td>B</td>\n",
       "      <td>9</td>\n",
       "      <td>13</td>\n",
       "      <td>133</td>\n",
       "      <td>1326</td>\n",
       "      <td>0.143</td>\n",
       "      <td>0.079</td>\n",
       "      <td>0.181</td>\n",
       "      <td>0.057</td>\n",
       "    </tr>\n",
       "    <tr>\n",
       "      <th>2</th>\n",
       "      <td>3</td>\n",
       "      <td>M</td>\n",
       "      <td>21</td>\n",
       "      <td>27</td>\n",
       "      <td>130</td>\n",
       "      <td>1203</td>\n",
       "      <td>0.125</td>\n",
       "      <td>0.160</td>\n",
       "      <td>0.207</td>\n",
       "      <td>0.060</td>\n",
       "    </tr>\n",
       "    <tr>\n",
       "      <th>3</th>\n",
       "      <td>4</td>\n",
       "      <td>M</td>\n",
       "      <td>14</td>\n",
       "      <td>16</td>\n",
       "      <td>78</td>\n",
       "      <td>386</td>\n",
       "      <td>0.070</td>\n",
       "      <td>0.284</td>\n",
       "      <td>0.260</td>\n",
       "      <td>0.097</td>\n",
       "    </tr>\n",
       "    <tr>\n",
       "      <th>4</th>\n",
       "      <td>5</td>\n",
       "      <td>M</td>\n",
       "      <td>9</td>\n",
       "      <td>19</td>\n",
       "      <td>135</td>\n",
       "      <td>1297</td>\n",
       "      <td>0.141</td>\n",
       "      <td>0.133</td>\n",
       "      <td>0.181</td>\n",
       "      <td>0.059</td>\n",
       "    </tr>\n",
       "  </tbody>\n",
       "</table>\n",
       "</div>"
      ],
      "text/plain": [
       "   id diagnosis_result  radius  texture  perimeter  area  smoothness  \\\n",
       "0   1                M      23       12        151   954       0.143   \n",
       "1   2                B       9       13        133  1326       0.143   \n",
       "2   3                M      21       27        130  1203       0.125   \n",
       "3   4                M      14       16         78   386       0.070   \n",
       "4   5                M       9       19        135  1297       0.141   \n",
       "\n",
       "   compactness  symmetry  fractal_dimension  \n",
       "0        0.278     0.242              0.079  \n",
       "1        0.079     0.181              0.057  \n",
       "2        0.160     0.207              0.060  \n",
       "3        0.284     0.260              0.097  \n",
       "4        0.133     0.181              0.059  "
      ]
     },
     "execution_count": 42,
     "metadata": {},
     "output_type": "execute_result"
    }
   ],
   "source": [
    "df.head()"
   ]
  },
  {
   "cell_type": "code",
   "execution_count": 56,
   "metadata": {},
   "outputs": [
    {
     "data": {
      "text/plain": [
       "M    62\n",
       "B    38\n",
       "Name: diagnosis_result, dtype: int64"
      ]
     },
     "execution_count": 56,
     "metadata": {},
     "output_type": "execute_result"
    }
   ],
   "source": [
    "#Balanceamento das classes\n",
    "df['diagnosis_result'].value_counts()"
   ]
  },
  {
   "cell_type": "markdown",
   "metadata": {},
   "source": [
    "Vemos que temos mais câncers malignos que benignos. Isto pode ser um problema ao enviesar o modelo com mais dados de somente uma classe. Neste caso, precisaríamos analisar o problema que temos em mão junto à pouca quantidade de dados (100 diagnósticos) e pensar na(s) melhor(es) técnicas de balanceamento a ser utilizada."
   ]
  },
  {
   "cell_type": "markdown",
   "metadata": {},
   "source": [
    "####  <span style = \"color:red\">Código Original.</span>\n",
    "<!---\n",
    "df = pd.read_csv('cancer-prostate.csv')\n",
    "df.sample(5)\n",
    "-->"
   ]
  },
  {
   "cell_type": "markdown",
   "metadata": {},
   "source": [
    "####  <span style = \"color:red\">Código Original.</span>\n",
    "<!---\n",
    "df.columns\n",
    "#df.shape\n",
    "-->"
   ]
  },
  {
   "cell_type": "markdown",
   "metadata": {},
   "source": [
    "#### Realize o reescalonamento dos atributos descritivos e a codificação dos targets, ajustando-os para se submeterem à separação entre conjuntos de treino e teste. Calcule o melhor valor para o número de vizinhos através da observação do menor resíduo."
   ]
  },
  {
   "cell_type": "markdown",
   "metadata": {},
   "source": [
    "####  <span style = \"color:red\">Código Original.</span>\n",
    "<!---\n",
    "# Matriz de atributos descritivos\n",
    "X = df[['radius', 'texture', 'perimeter', 'area', 'smoothness', 'compactness', 'symmetry', 'fractal_dimension']]\n",
    "X = preprocessing.scale(X, axis = 0)\n",
    "\n",
    "# Vetor de targets\n",
    "le = preprocessing.LabelEncoder()\n",
    "y = le.fit_transform(df['diagnosis_result'])\n",
    "print(y)\n",
    "-->"
   ]
  },
  {
   "cell_type": "code",
   "execution_count": 43,
   "metadata": {},
   "outputs": [
    {
     "name": "stdout",
     "output_type": "stream",
     "text": [
      "[1 0 1 1 1 0 1 1 1 1 1 1 0 1 1 1 1 1 1 0 0 0 1 1 1 1 1 1 1 1 1 1 1 1 1 1 1\n",
      " 0 1 1 1 1 1 1 1 1 0 1 0 0 0 0 0 1 1 0 1 1 0 0 0 0 1 0 1 1 0 0 0 0 1 0 1 1\n",
      " 0 1 0 1 1 0 0 0 1 1 0 1 1 1 0 0 0 1 0 0 1 1 0 0 0 1]\n"
     ]
    }
   ],
   "source": [
    "#Padronização das variáveis preditoras\n",
    "preditoras= list(df.columns)\n",
    "preditoras.remove('diagnosis_result')\n",
    "preditoras.remove('id')\n",
    "\n",
    "X = df[preditoras]\n",
    "X = preprocessing.scale(X, \n",
    "                        axis = 0\n",
    "                       )\n",
    "\n",
    "#Vetor de variável resposta\n",
    "le = preprocessing.LabelEncoder()\n",
    "\n",
    "y = le.fit_transform(df['diagnosis_result'])\n",
    "\n",
    "print(y)"
   ]
  },
  {
   "cell_type": "markdown",
   "metadata": {},
   "source": [
    "####  <span style = \"color:red\">Código Original.</span>\n",
    "<!---\n",
    "from sklearn.model_selection import train_test_split\n",
    "\n",
    "X_train, X_test, y_train, y_test = train_test_split(X, y)\n",
    "-->"
   ]
  },
  {
   "cell_type": "code",
   "execution_count": 46,
   "metadata": {},
   "outputs": [],
   "source": [
    "# Calcular os scores de validação cruzada sobre os recursos padronizados\n",
    "\n",
    "scores_para_df_standar = []\n",
    "\n",
    "error_rates = {}\n",
    "\n",
    "for i in range(1, 50, 5):\n",
    "    \n",
    "    model = KNeighborsClassifier(n_neighbors = i)\n",
    "    \n",
    "    cv_scores = cross_val_score(model, \n",
    "                                X, \n",
    "                                y, \n",
    "                                cv = 5\n",
    "                               )\n",
    "    \n",
    "    dict_row_score = {'score_medio':np.mean(cv_scores),\n",
    "                      'score_std':np.std(cv_scores),\n",
    "                      'n_neighbours':i\n",
    "                     }\n",
    "    scores_para_df_standar.append(dict_row_score)\n",
    "    \n",
    "    error = 1 - np.mean(cross_val_score(model, \n",
    "                                        X, \n",
    "                                        y, \n",
    "                                        cv = 5\n",
    "                                       )\n",
    "                       )\n",
    "    error_rates.update({i:error})"
   ]
  },
  {
   "cell_type": "markdown",
   "metadata": {},
   "source": [
    "####  <span style = \"color:red\">Código Original.</span>\n",
    "<!---\n",
    "# Calcular os scores de validação cruzada novamente, mas desta vez sobre os recursos padronizados\n",
    "from sklearn.model_selection import cross_val_score\n",
    "\n",
    "scores_para_df_standar = []\n",
    "\n",
    "error_rates = {}\n",
    "\n",
    "for i in range(1, 50, 5):\n",
    "    \n",
    "    model = KNeighborsClassifier(n_neighbors = i)\n",
    "    \n",
    "    cv_scores = cross_val_score(model, \n",
    "                                X, \n",
    "                                y, \n",
    "                                cv = 5\n",
    "                               )\n",
    "    \n",
    "    dict_row_score = {'score_medio':np.mean(cv_scores),\n",
    "                      'score_std':np.std(cv_scores),\n",
    "                      'n_neighbours':i\n",
    "                     }\n",
    "    scores_para_df_standar.append(dict_row_score)\n",
    "    \n",
    "    error = 1 - np.mean(cross_val_score(model, X, y, cv = 5))\n",
    "    error_rates.update({i:error})\n",
    "-->"
   ]
  },
  {
   "cell_type": "code",
   "execution_count": 48,
   "metadata": {},
   "outputs": [
    {
     "data": {
      "text/plain": [
       "11"
      ]
     },
     "execution_count": 48,
     "metadata": {},
     "output_type": "execute_result"
    }
   ],
   "source": [
    "kBest = min(error_rates, key = error_rates.get)\n",
    "kBest"
   ]
  },
  {
   "cell_type": "markdown",
   "metadata": {},
   "source": [
    "####  <span style = \"color:red\">Código Original.</span>\n",
    "<!---\n",
    "error_rates\n",
    "kneighbors = min(error_rates, key = error_rates.get)\n",
    "kneighbors\n",
    "-->"
   ]
  },
  {
   "cell_type": "markdown",
   "metadata": {},
   "source": [
    "#### Depois disso instancie um objeto para receber o modelo de kNN e ajuste os dados de treino. "
   ]
  },
  {
   "cell_type": "code",
   "execution_count": 49,
   "metadata": {},
   "outputs": [],
   "source": [
    "#Separação de dados de treino e de teste\n",
    "X_train, X_test, y_train, y_test = train_test_split(X,y)"
   ]
  },
  {
   "cell_type": "code",
   "execution_count": 50,
   "metadata": {},
   "outputs": [
    {
     "data": {
      "text/plain": [
       "KNeighborsClassifier(n_neighbors=11)"
      ]
     },
     "execution_count": 50,
     "metadata": {},
     "output_type": "execute_result"
    }
   ],
   "source": [
    "# Escolher o modelo ideal que foi indicado pela validação cruzada\n",
    "model = KNeighborsClassifier(n_neighbors = kBest)\n",
    "\n",
    "# Ajustá-lo sobre os dados de treinamento\n",
    "model.fit(X_train, y_train)"
   ]
  },
  {
   "cell_type": "markdown",
   "metadata": {},
   "source": [
    "####  <span style = \"color:red\">Código Original.</span>\n",
    "<!---\n",
    "# Escolher o modelo ideal que foi indicado pela validação cruzada\n",
    "\n",
    "model = KNeighborsClassifier(n_neighbors = kneighbors)\n",
    "\n",
    "# Ajustá-lo sobre os dados de treinamento\n",
    "model.fit(X_train, y_train)\n",
    "-->"
   ]
  },
  {
   "cell_type": "markdown",
   "metadata": {},
   "source": [
    "####  <span style = \"color:red\">Código Original.</span>\n",
    "<!---\n",
    "# Ele é utilizado para prever em teste\n",
    "y_pred = model.predict(X_test)\n",
    "-->"
   ]
  },
  {
   "cell_type": "markdown",
   "metadata": {},
   "source": [
    "#### Faça suas previsões e construa uma matriz de confusão para checar a acurácia de seu modelo, crie um mapa de calor para confrontrar os valores previstos com os observados."
   ]
  },
  {
   "cell_type": "code",
   "execution_count": 52,
   "metadata": {},
   "outputs": [],
   "source": [
    "# Predições nos dados de TESTE\n",
    "y_pred = model.predict(X_test)"
   ]
  },
  {
   "cell_type": "markdown",
   "metadata": {},
   "source": [
    "####  <span style = \"color:red\">Código Original.</span>\n",
    "<!---\n",
    "# Elaborar a matriz de confusão:\n",
    "from sklearn.metrics import confusion_matrix\n",
    "\n",
    "confusion_matrix(y_test, y_pred)\n",
    "-->"
   ]
  },
  {
   "cell_type": "code",
   "execution_count": 54,
   "metadata": {},
   "outputs": [
    {
     "data": {
      "image/png": "[encoded data removed]",
      "text/plain": [
       "<Figure size 432x288 with 2 Axes>"
      ]
     },
     "metadata": {
      "needs_background": "light"
     },
     "output_type": "display_data"
    }
   ],
   "source": [
    "import seaborn as sns\n",
    "\n",
    "sns.heatmap(confusion_matrix(y_test, \n",
    "                             y_pred\n",
    "                            ),\n",
    "            annot = True\n",
    "           )\n",
    "plt.ylabel('Verdadeiros')\n",
    "plt.xlabel('Previstos');"
   ]
  },
  {
   "cell_type": "markdown",
   "metadata": {},
   "source": [
    "####  <span style = \"color:red\">Código Original.</span>\n",
    "<!---\n",
    "import seaborn as sns\n",
    "\n",
    "sns.heatmap(confusion_matrix(y_test, \n",
    "                             y_pred\n",
    "                            ),\n",
    "            annot = True\n",
    "           )\n",
    "plt.ylabel('Verdadeiros')\n",
    "plt.xlabel('Previstos');\n",
    "-->"
   ]
  },
  {
   "cell_type": "markdown",
   "metadata": {},
   "source": [
    "O modelo conseguiu prever bem as pessoas que não tinham câncer (4) e aquelas que tinham (13).\n",
    "\n",
    "O ponto crítico aqui são seus 4 erros. A matriz de confusão nos diz que o modelo indicou que 4 pessoas não tinham câncer quando na verdade elas tinham. Isto é um ponto extramamente crítico mesmo que o o número de erros seja bem menor que o número de acertos. Neste caso, nós indicaríamos que 4 pessoas não tinham câncer quando na verdade tinham. Isso levaria a pessoa a não iniciar o tratamento necessário (quanto antes descoberto o câncer e iniciado o tratamento maior a chance de cura). Neste caso poderíamos evitar a morte por câncer ao descobrir a doença antes que ela estivesse em estágio avançado/crítico."
   ]
  },
  {
   "cell_type": "markdown",
   "metadata": {},
   "source": [
    "####  <span style = \"color:red\">Código Original.</span>\n",
    "<!---\n",
    "# Lembrar dos valores dos rótulos que foram criados com o método LabelEncoder()\n",
    "le.classes_\n",
    "-->"
   ]
  },
  {
   "cell_type": "markdown",
   "metadata": {
    "colab": {
     "autoexec": {
      "startup": false,
      "wait_interval": 0
     }
    },
    "colab_type": "code",
    "id": "-FDHwN-kb8oi"
   },
   "source": [
    "####  <span style = \"color:blue\">Código Original.</span>\n",
    "<!---\n",
    "[``]()\n",
    "-->"
   ]
  }
 ],
 "metadata": {
  "colab": {
   "default_view": {},
   "name": "Práctica Guiada Intro a Clasificación (KNN)_pt_br.ipynb",
   "provenance": [],
   "version": "0.3.2",
   "views": {}
  },
  "kernelspec": {
   "display_name": "Python 3",
   "language": "python",
   "name": "python3"
  },
  "language_info": {
   "codemirror_mode": {
    "name": "ipython",
    "version": 3
   },
   "file_extension": ".py",
   "mimetype": "text/x-python",
   "name": "python",
   "nbconvert_exporter": "python",
   "pygments_lexer": "ipython3",
   "version": "3.8.3"
  }
 },
 "nbformat": 4,
 "nbformat_minor": 4
}
