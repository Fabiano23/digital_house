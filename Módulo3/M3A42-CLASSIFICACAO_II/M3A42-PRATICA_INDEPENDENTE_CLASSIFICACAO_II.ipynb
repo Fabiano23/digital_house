{
 "cells": [
  {
   "cell_type": "markdown",
   "metadata": {},
   "source": [
    "# PRÁTICA INDEPENDENTE: kNN."
   ]
  },
  {
   "cell_type": "markdown",
   "metadata": {},
   "source": [
    "## Introdução\n",
    "\n",
    "#### A partir do dataset `wdbc`, construir um classificador baseado em kNN. Ele contém uma série de features que foram computadas a partir de imagens digitalizadas de amostras de tecido mamário. Os atributos descrevem características dos núcleos celulares nas imagens. \n",
    "\n",
    "#### As features são as seguintes:\n",
    "\n",
    "* ID number \n",
    "* Diagnosis (M = malignant, B = benign) \n",
    "\n",
    "#### Dez features computadas sobre cada núcleo celular (dando origem a 30 features -uma por núcleo-)\n",
    "\n",
    "* radius (mean of distances from center to points on the perimeter) \n",
    "* texture (standard deviation of gray-scale values) \n",
    "* perimeter \n",
    "* area \n",
    "* smoothness (local variation in radius lengths) \n",
    "* compactness ($\\frac{perimeter^{2}}{area} - 1.0$) \n",
    "* concavity (severity of concave portions of the contour) \n",
    "* concave points (number of concave portions of the contour) \n",
    "* symmetry \n",
    "* fractal dimension (\"coastline approximation\" - 1)"
   ]
  },
  {
   "cell_type": "markdown",
   "metadata": {},
   "source": [
    "#### Exercício 1: Importar as bibliotecas necessárias."
   ]
  },
  {
   "cell_type": "code",
   "execution_count": 48,
   "metadata": {},
   "outputs": [],
   "source": [
    "import pandas as pd\n",
    "import numpy as np\n",
    "import matplotlib.pyplot as plt\n",
    "import seaborn as sns\n",
    "from sklearn.model_selection import train_test_split\n",
    "from sklearn import preprocessing\n",
    "from sklearn.neighbors import KNeighborsClassifier\n",
    "from sklearn.model_selection import cross_val_score\n",
    "from sklearn.metrics import confusion_matrix"
   ]
  },
  {
   "cell_type": "markdown",
   "metadata": {},
   "source": [
    "#### Exercício 2. Ler o dataset a partir do arquivo \"wdbc.data\" em anexo e realizar ums inspeção inicial nos dados."
   ]
  },
  {
   "cell_type": "code",
   "execution_count": 10,
   "metadata": {},
   "outputs": [],
   "source": [
    "df= pd.read_csv('wdbc.data', header= None)"
   ]
  },
  {
   "cell_type": "code",
   "execution_count": 11,
   "metadata": {},
   "outputs": [
    {
     "data": {
      "text/html": [
       "<div>\n",
       "<style scoped>\n",
       "    .dataframe tbody tr th:only-of-type {\n",
       "        vertical-align: middle;\n",
       "    }\n",
       "\n",
       "    .dataframe tbody tr th {\n",
       "        vertical-align: top;\n",
       "    }\n",
       "\n",
       "    .dataframe thead th {\n",
       "        text-align: right;\n",
       "    }\n",
       "</style>\n",
       "<table border=\"1\" class=\"dataframe\">\n",
       "  <thead>\n",
       "    <tr style=\"text-align: right;\">\n",
       "      <th></th>\n",
       "      <th>0</th>\n",
       "      <th>1</th>\n",
       "      <th>2</th>\n",
       "      <th>3</th>\n",
       "      <th>4</th>\n",
       "      <th>5</th>\n",
       "      <th>6</th>\n",
       "      <th>7</th>\n",
       "      <th>8</th>\n",
       "      <th>9</th>\n",
       "      <th>...</th>\n",
       "      <th>22</th>\n",
       "      <th>23</th>\n",
       "      <th>24</th>\n",
       "      <th>25</th>\n",
       "      <th>26</th>\n",
       "      <th>27</th>\n",
       "      <th>28</th>\n",
       "      <th>29</th>\n",
       "      <th>30</th>\n",
       "      <th>31</th>\n",
       "    </tr>\n",
       "  </thead>\n",
       "  <tbody>\n",
       "    <tr>\n",
       "      <th>0</th>\n",
       "      <td>842302</td>\n",
       "      <td>M</td>\n",
       "      <td>17.99</td>\n",
       "      <td>10.38</td>\n",
       "      <td>122.80</td>\n",
       "      <td>1001.0</td>\n",
       "      <td>0.11840</td>\n",
       "      <td>0.27760</td>\n",
       "      <td>0.3001</td>\n",
       "      <td>0.14710</td>\n",
       "      <td>...</td>\n",
       "      <td>25.38</td>\n",
       "      <td>17.33</td>\n",
       "      <td>184.60</td>\n",
       "      <td>2019.0</td>\n",
       "      <td>0.1622</td>\n",
       "      <td>0.6656</td>\n",
       "      <td>0.7119</td>\n",
       "      <td>0.2654</td>\n",
       "      <td>0.4601</td>\n",
       "      <td>0.11890</td>\n",
       "    </tr>\n",
       "    <tr>\n",
       "      <th>1</th>\n",
       "      <td>842517</td>\n",
       "      <td>M</td>\n",
       "      <td>20.57</td>\n",
       "      <td>17.77</td>\n",
       "      <td>132.90</td>\n",
       "      <td>1326.0</td>\n",
       "      <td>0.08474</td>\n",
       "      <td>0.07864</td>\n",
       "      <td>0.0869</td>\n",
       "      <td>0.07017</td>\n",
       "      <td>...</td>\n",
       "      <td>24.99</td>\n",
       "      <td>23.41</td>\n",
       "      <td>158.80</td>\n",
       "      <td>1956.0</td>\n",
       "      <td>0.1238</td>\n",
       "      <td>0.1866</td>\n",
       "      <td>0.2416</td>\n",
       "      <td>0.1860</td>\n",
       "      <td>0.2750</td>\n",
       "      <td>0.08902</td>\n",
       "    </tr>\n",
       "    <tr>\n",
       "      <th>2</th>\n",
       "      <td>84300903</td>\n",
       "      <td>M</td>\n",
       "      <td>19.69</td>\n",
       "      <td>21.25</td>\n",
       "      <td>130.00</td>\n",
       "      <td>1203.0</td>\n",
       "      <td>0.10960</td>\n",
       "      <td>0.15990</td>\n",
       "      <td>0.1974</td>\n",
       "      <td>0.12790</td>\n",
       "      <td>...</td>\n",
       "      <td>23.57</td>\n",
       "      <td>25.53</td>\n",
       "      <td>152.50</td>\n",
       "      <td>1709.0</td>\n",
       "      <td>0.1444</td>\n",
       "      <td>0.4245</td>\n",
       "      <td>0.4504</td>\n",
       "      <td>0.2430</td>\n",
       "      <td>0.3613</td>\n",
       "      <td>0.08758</td>\n",
       "    </tr>\n",
       "    <tr>\n",
       "      <th>3</th>\n",
       "      <td>84348301</td>\n",
       "      <td>M</td>\n",
       "      <td>11.42</td>\n",
       "      <td>20.38</td>\n",
       "      <td>77.58</td>\n",
       "      <td>386.1</td>\n",
       "      <td>0.14250</td>\n",
       "      <td>0.28390</td>\n",
       "      <td>0.2414</td>\n",
       "      <td>0.10520</td>\n",
       "      <td>...</td>\n",
       "      <td>14.91</td>\n",
       "      <td>26.50</td>\n",
       "      <td>98.87</td>\n",
       "      <td>567.7</td>\n",
       "      <td>0.2098</td>\n",
       "      <td>0.8663</td>\n",
       "      <td>0.6869</td>\n",
       "      <td>0.2575</td>\n",
       "      <td>0.6638</td>\n",
       "      <td>0.17300</td>\n",
       "    </tr>\n",
       "    <tr>\n",
       "      <th>4</th>\n",
       "      <td>84358402</td>\n",
       "      <td>M</td>\n",
       "      <td>20.29</td>\n",
       "      <td>14.34</td>\n",
       "      <td>135.10</td>\n",
       "      <td>1297.0</td>\n",
       "      <td>0.10030</td>\n",
       "      <td>0.13280</td>\n",
       "      <td>0.1980</td>\n",
       "      <td>0.10430</td>\n",
       "      <td>...</td>\n",
       "      <td>22.54</td>\n",
       "      <td>16.67</td>\n",
       "      <td>152.20</td>\n",
       "      <td>1575.0</td>\n",
       "      <td>0.1374</td>\n",
       "      <td>0.2050</td>\n",
       "      <td>0.4000</td>\n",
       "      <td>0.1625</td>\n",
       "      <td>0.2364</td>\n",
       "      <td>0.07678</td>\n",
       "    </tr>\n",
       "  </tbody>\n",
       "</table>\n",
       "<p>5 rows × 32 columns</p>\n",
       "</div>"
      ],
      "text/plain": [
       "         0  1      2      3       4       5        6        7       8   \\\n",
       "0    842302  M  17.99  10.38  122.80  1001.0  0.11840  0.27760  0.3001   \n",
       "1    842517  M  20.57  17.77  132.90  1326.0  0.08474  0.07864  0.0869   \n",
       "2  84300903  M  19.69  21.25  130.00  1203.0  0.10960  0.15990  0.1974   \n",
       "3  84348301  M  11.42  20.38   77.58   386.1  0.14250  0.28390  0.2414   \n",
       "4  84358402  M  20.29  14.34  135.10  1297.0  0.10030  0.13280  0.1980   \n",
       "\n",
       "        9   ...     22     23      24      25      26      27      28      29  \\\n",
       "0  0.14710  ...  25.38  17.33  184.60  2019.0  0.1622  0.6656  0.7119  0.2654   \n",
       "1  0.07017  ...  24.99  23.41  158.80  1956.0  0.1238  0.1866  0.2416  0.1860   \n",
       "2  0.12790  ...  23.57  25.53  152.50  1709.0  0.1444  0.4245  0.4504  0.2430   \n",
       "3  0.10520  ...  14.91  26.50   98.87   567.7  0.2098  0.8663  0.6869  0.2575   \n",
       "4  0.10430  ...  22.54  16.67  152.20  1575.0  0.1374  0.2050  0.4000  0.1625   \n",
       "\n",
       "       30       31  \n",
       "0  0.4601  0.11890  \n",
       "1  0.2750  0.08902  \n",
       "2  0.3613  0.08758  \n",
       "3  0.6638  0.17300  \n",
       "4  0.2364  0.07678  \n",
       "\n",
       "[5 rows x 32 columns]"
      ]
     },
     "execution_count": 11,
     "metadata": {},
     "output_type": "execute_result"
    }
   ],
   "source": [
    "df.head()"
   ]
  },
  {
   "cell_type": "code",
   "execution_count": 12,
   "metadata": {
    "scrolled": true
   },
   "outputs": [
    {
     "name": "stdout",
     "output_type": "stream",
     "text": [
      "<class 'pandas.core.frame.DataFrame'>\n",
      "RangeIndex: 569 entries, 0 to 568\n",
      "Data columns (total 32 columns):\n",
      " #   Column  Non-Null Count  Dtype  \n",
      "---  ------  --------------  -----  \n",
      " 0   0       569 non-null    int64  \n",
      " 1   1       569 non-null    object \n",
      " 2   2       569 non-null    float64\n",
      " 3   3       569 non-null    float64\n",
      " 4   4       569 non-null    float64\n",
      " 5   5       569 non-null    float64\n",
      " 6   6       569 non-null    float64\n",
      " 7   7       569 non-null    float64\n",
      " 8   8       569 non-null    float64\n",
      " 9   9       569 non-null    float64\n",
      " 10  10      569 non-null    float64\n",
      " 11  11      569 non-null    float64\n",
      " 12  12      569 non-null    float64\n",
      " 13  13      569 non-null    float64\n",
      " 14  14      569 non-null    float64\n",
      " 15  15      569 non-null    float64\n",
      " 16  16      569 non-null    float64\n",
      " 17  17      569 non-null    float64\n",
      " 18  18      569 non-null    float64\n",
      " 19  19      569 non-null    float64\n",
      " 20  20      569 non-null    float64\n",
      " 21  21      569 non-null    float64\n",
      " 22  22      569 non-null    float64\n",
      " 23  23      569 non-null    float64\n",
      " 24  24      569 non-null    float64\n",
      " 25  25      569 non-null    float64\n",
      " 26  26      569 non-null    float64\n",
      " 27  27      569 non-null    float64\n",
      " 28  28      569 non-null    float64\n",
      " 29  29      569 non-null    float64\n",
      " 30  30      569 non-null    float64\n",
      " 31  31      569 non-null    float64\n",
      "dtypes: float64(30), int64(1), object(1)\n",
      "memory usage: 142.4+ KB\n"
     ]
    }
   ],
   "source": [
    "df.info()"
   ]
  },
  {
   "cell_type": "code",
   "execution_count": 16,
   "metadata": {},
   "outputs": [],
   "source": [
    "df.columns= ['id', 'diagnosis', 1, 2, 3, 4, 5, 6, 7, 8, 9, 10, 11, 12, 13, 14, 15,\n",
    "             16, 17, 18, 19, 20, 21, 22, 23, 24, 25, 26, 27, 28, 29, 30]"
   ]
  },
  {
   "cell_type": "code",
   "execution_count": 17,
   "metadata": {},
   "outputs": [
    {
     "data": {
      "text/plain": [
       "B    357\n",
       "M    212\n",
       "Name: diagnosis, dtype: int64"
      ]
     },
     "execution_count": 17,
     "metadata": {},
     "output_type": "execute_result"
    }
   ],
   "source": [
    "#Balanceamento das classes\n",
    "df['diagnosis'].value_counts()"
   ]
  },
  {
   "cell_type": "markdown",
   "metadata": {},
   "source": [
    "#### Exercício 3: Fazer o split entre os atributos descritivos e o target."
   ]
  },
  {
   "cell_type": "code",
   "execution_count": 20,
   "metadata": {},
   "outputs": [
    {
     "name": "stdout",
     "output_type": "stream",
     "text": [
      "      1      2      3       4        5        6       7        8       9   \\\n",
      "0  17.99  10.38  122.8  1001.0  0.11840  0.27760  0.3001  0.14710  0.2419   \n",
      "1  20.57  17.77  132.9  1326.0  0.08474  0.07864  0.0869  0.07017  0.1812   \n",
      "\n",
      "        10  ...     21     22     23      24      25      26      27      28  \\\n",
      "0  0.07871  ...  25.38  17.33  184.6  2019.0  0.1622  0.6656  0.7119  0.2654   \n",
      "1  0.05667  ...  24.99  23.41  158.8  1956.0  0.1238  0.1866  0.2416  0.1860   \n",
      "\n",
      "       29       30  \n",
      "0  0.4601  0.11890  \n",
      "1  0.2750  0.08902  \n",
      "\n",
      "[2 rows x 30 columns]\n"
     ]
    }
   ],
   "source": [
    "#Variáveis preditoras\n",
    "preditoras= list(df.columns)\n",
    "preditoras.remove('id')\n",
    "preditoras.remove('diagnosis')\n",
    "X= df[preditoras]\n",
    "\n",
    "print(X[:2])"
   ]
  },
  {
   "cell_type": "code",
   "execution_count": 26,
   "metadata": {},
   "outputs": [
    {
     "name": "stdout",
     "output_type": "stream",
     "text": [
      "[[ 1.09706398e+00 -2.07333501e+00  1.26993369e+00  9.84374905e-01\n",
      "   1.56846633e+00  3.28351467e+00  2.65287398e+00  2.53247522e+00\n",
      "   2.21751501e+00  2.25574689e+00  2.48973393e+00 -5.65265059e-01\n",
      "   2.83303087e+00  2.48757756e+00 -2.14001647e-01  1.31686157e+00\n",
      "   7.24026158e-01  6.60819941e-01  1.14875667e+00  9.07083081e-01\n",
      "   1.88668963e+00 -1.35929347e+00  2.30360062e+00  2.00123749e+00\n",
      "   1.30768627e+00  2.61666502e+00  2.10952635e+00  2.29607613e+00\n",
      "   2.75062224e+00  1.93701461e+00]\n",
      " [ 1.82982061e+00 -3.53632408e-01  1.68595471e+00  1.90870825e+00\n",
      "  -8.26962447e-01 -4.87071673e-01 -2.38458552e-02  5.48144156e-01\n",
      "   1.39236330e-03 -8.68652457e-01  4.99254601e-01 -8.76243603e-01\n",
      "   2.63326966e-01  7.42401948e-01 -6.05350847e-01 -6.92926270e-01\n",
      "  -4.40780058e-01  2.60162067e-01 -8.05450380e-01 -9.94437403e-02\n",
      "   1.80592744e+00 -3.69203222e-01  1.53512599e+00  1.89048899e+00\n",
      "  -3.75611957e-01 -4.30444219e-01 -1.46748968e-01  1.08708430e+00\n",
      "  -2.43889668e-01  2.81189987e-01]]\n"
     ]
    }
   ],
   "source": [
    "#Padronização das medidas dos atributos\n",
    "X = preprocessing.scale(X, \n",
    "                        axis = 0\n",
    "                       )\n",
    "print(X[:2])"
   ]
  },
  {
   "cell_type": "code",
   "execution_count": 27,
   "metadata": {},
   "outputs": [
    {
     "name": "stdout",
     "output_type": "stream",
     "text": [
      "[1 1 1 1 1]\n"
     ]
    }
   ],
   "source": [
    "#Vetor com variável resposta\n",
    "le = preprocessing.LabelEncoder()\n",
    "y = le.fit_transform(df['diagnosis']) #Processamento de categóricas\n",
    "y\n",
    "print(y[:5])"
   ]
  },
  {
   "cell_type": "markdown",
   "metadata": {},
   "source": [
    "#### Exercício 4. Fazer o split entre `test` e `training`."
   ]
  },
  {
   "cell_type": "code",
   "execution_count": 28,
   "metadata": {},
   "outputs": [],
   "source": [
    "X_train, X_test, y_train, y_test = train_test_split(X,y)"
   ]
  },
  {
   "cell_type": "markdown",
   "metadata": {},
   "source": [
    "#### Exercício 5: Definir o parâmetro k em 3."
   ]
  },
  {
   "cell_type": "code",
   "execution_count": 29,
   "metadata": {},
   "outputs": [],
   "source": [
    "model = KNeighborsClassifier(n_neighbors = 3)"
   ]
  },
  {
   "cell_type": "code",
   "execution_count": 30,
   "metadata": {},
   "outputs": [
    {
     "data": {
      "text/plain": [
       "KNeighborsClassifier(n_neighbors=3)"
      ]
     },
     "execution_count": 30,
     "metadata": {},
     "output_type": "execute_result"
    }
   ],
   "source": [
    "# Ajustá-lo sobre os dados de treinamento\n",
    "model.fit(X_train, y_train)"
   ]
  },
  {
   "cell_type": "markdown",
   "metadata": {},
   "source": [
    "#### Exercício 6: Avaliar o desempenho do modelo em termos de `score`."
   ]
  },
  {
   "cell_type": "code",
   "execution_count": 44,
   "metadata": {},
   "outputs": [
    {
     "data": {
      "text/plain": [
       "0.958041958041958"
      ]
     },
     "execution_count": 44,
     "metadata": {},
     "output_type": "execute_result"
    }
   ],
   "source": [
    "model.score(X_test, y_test)"
   ]
  },
  {
   "cell_type": "markdown",
   "metadata": {},
   "source": [
    "#### Exercício 7: Fazer a previsão do conjunto de testing."
   ]
  },
  {
   "cell_type": "code",
   "execution_count": 45,
   "metadata": {},
   "outputs": [],
   "source": [
    "# Predições nos dados de TESTE\n",
    "y_pred = model.predict(X_test)"
   ]
  },
  {
   "cell_type": "markdown",
   "metadata": {},
   "source": [
    "#### Exercício 8: Usar uma matriz de confusão para observar os acertos e erros na classificação."
   ]
  },
  {
   "cell_type": "code",
   "execution_count": 49,
   "metadata": {},
   "outputs": [
    {
     "data": {
      "image/png": "[encoded data removed]",
      "text/plain": [
       "<Figure size 432x288 with 2 Axes>"
      ]
     },
     "metadata": {
      "needs_background": "light"
     },
     "output_type": "display_data"
    }
   ],
   "source": [
    "sns.heatmap(confusion_matrix(y_test, \n",
    "                             y_pred\n",
    "                            ),\n",
    "            annot = True\n",
    "           )\n",
    "plt.ylabel('Verdadeiros')\n",
    "plt.xlabel('Previstos');"
   ]
  },
  {
   "cell_type": "markdown",
   "metadata": {},
   "source": [
    "#### Exercício 9: Encontre o melhor k para o modelo e refaça suas previsões."
   ]
  },
  {
   "cell_type": "markdown",
   "metadata": {},
   "source": [
    "Importamos o método `cross_val_score` do módulo `model_selection` do `sklearn` ."
   ]
  },
  {
   "cell_type": "code",
   "execution_count": 51,
   "metadata": {},
   "outputs": [],
   "source": [
    "# Calcular os scores de validação cruzada sobre os recursos já padronizados\n",
    "\n",
    "scores_para_df_standar = []\n",
    "\n",
    "error_rates = {}\n",
    "\n",
    "for i in range(1, 100, 5):\n",
    "    \n",
    "    model = KNeighborsClassifier(n_neighbors = i)\n",
    "    \n",
    "    cv_scores = cross_val_score(model, \n",
    "                                X, \n",
    "                                y, \n",
    "                                cv = 5\n",
    "                               )\n",
    "    \n",
    "    dict_row_score = {'score_medio':np.mean(cv_scores),\n",
    "                      'score_std':np.std(cv_scores),\n",
    "                      'n_neighbours':i\n",
    "                     }\n",
    "    scores_para_df_standar.append(dict_row_score)\n",
    "    \n",
    "    error = 1 - np.mean(cross_val_score(model, \n",
    "                                        X, \n",
    "                                        y, \n",
    "                                        cv = 5\n",
    "                                       )\n",
    "                       )\n",
    "    error_rates.update({i:error})"
   ]
  },
  {
   "cell_type": "code",
   "execution_count": 52,
   "metadata": {},
   "outputs": [
    {
     "data": {
      "text/html": [
       "<div>\n",
       "<style scoped>\n",
       "    .dataframe tbody tr th:only-of-type {\n",
       "        vertical-align: middle;\n",
       "    }\n",
       "\n",
       "    .dataframe tbody tr th {\n",
       "        vertical-align: top;\n",
       "    }\n",
       "\n",
       "    .dataframe thead th {\n",
       "        text-align: right;\n",
       "    }\n",
       "</style>\n",
       "<table border=\"1\" class=\"dataframe\">\n",
       "  <thead>\n",
       "    <tr style=\"text-align: right;\">\n",
       "      <th></th>\n",
       "      <th>score_medio</th>\n",
       "      <th>score_std</th>\n",
       "      <th>n_neighbours</th>\n",
       "    </tr>\n",
       "  </thead>\n",
       "  <tbody>\n",
       "    <tr>\n",
       "      <th>0</th>\n",
       "      <td>0.950769</td>\n",
       "      <td>0.016353</td>\n",
       "      <td>1</td>\n",
       "    </tr>\n",
       "    <tr>\n",
       "      <th>1</th>\n",
       "      <td>0.968359</td>\n",
       "      <td>0.013146</td>\n",
       "      <td>6</td>\n",
       "    </tr>\n",
       "    <tr>\n",
       "      <th>2</th>\n",
       "      <td>0.963111</td>\n",
       "      <td>0.020285</td>\n",
       "      <td>11</td>\n",
       "    </tr>\n",
       "    <tr>\n",
       "      <th>3</th>\n",
       "      <td>0.957833</td>\n",
       "      <td>0.011600</td>\n",
       "      <td>16</td>\n",
       "    </tr>\n",
       "    <tr>\n",
       "      <th>4</th>\n",
       "      <td>0.952569</td>\n",
       "      <td>0.016223</td>\n",
       "      <td>21</td>\n",
       "    </tr>\n",
       "    <tr>\n",
       "      <th>5</th>\n",
       "      <td>0.954339</td>\n",
       "      <td>0.017841</td>\n",
       "      <td>26</td>\n",
       "    </tr>\n",
       "    <tr>\n",
       "      <th>6</th>\n",
       "      <td>0.952585</td>\n",
       "      <td>0.019643</td>\n",
       "      <td>31</td>\n",
       "    </tr>\n",
       "    <tr>\n",
       "      <th>7</th>\n",
       "      <td>0.954324</td>\n",
       "      <td>0.015049</td>\n",
       "      <td>36</td>\n",
       "    </tr>\n",
       "    <tr>\n",
       "      <th>8</th>\n",
       "      <td>0.954324</td>\n",
       "      <td>0.015049</td>\n",
       "      <td>41</td>\n",
       "    </tr>\n",
       "    <tr>\n",
       "      <th>9</th>\n",
       "      <td>0.956094</td>\n",
       "      <td>0.016595</td>\n",
       "      <td>46</td>\n",
       "    </tr>\n",
       "    <tr>\n",
       "      <th>10</th>\n",
       "      <td>0.952585</td>\n",
       "      <td>0.019643</td>\n",
       "      <td>51</td>\n",
       "    </tr>\n",
       "    <tr>\n",
       "      <th>11</th>\n",
       "      <td>0.949076</td>\n",
       "      <td>0.015016</td>\n",
       "      <td>56</td>\n",
       "    </tr>\n",
       "    <tr>\n",
       "      <th>12</th>\n",
       "      <td>0.949061</td>\n",
       "      <td>0.013966</td>\n",
       "      <td>61</td>\n",
       "    </tr>\n",
       "    <tr>\n",
       "      <th>13</th>\n",
       "      <td>0.943798</td>\n",
       "      <td>0.016189</td>\n",
       "      <td>66</td>\n",
       "    </tr>\n",
       "    <tr>\n",
       "      <th>14</th>\n",
       "      <td>0.942043</td>\n",
       "      <td>0.015202</td>\n",
       "      <td>71</td>\n",
       "    </tr>\n",
       "    <tr>\n",
       "      <th>15</th>\n",
       "      <td>0.940289</td>\n",
       "      <td>0.014991</td>\n",
       "      <td>76</td>\n",
       "    </tr>\n",
       "    <tr>\n",
       "      <th>16</th>\n",
       "      <td>0.938534</td>\n",
       "      <td>0.017451</td>\n",
       "      <td>81</td>\n",
       "    </tr>\n",
       "    <tr>\n",
       "      <th>17</th>\n",
       "      <td>0.935026</td>\n",
       "      <td>0.023195</td>\n",
       "      <td>86</td>\n",
       "    </tr>\n",
       "    <tr>\n",
       "      <th>18</th>\n",
       "      <td>0.933271</td>\n",
       "      <td>0.023845</td>\n",
       "      <td>91</td>\n",
       "    </tr>\n",
       "    <tr>\n",
       "      <th>19</th>\n",
       "      <td>0.929747</td>\n",
       "      <td>0.019901</td>\n",
       "      <td>96</td>\n",
       "    </tr>\n",
       "  </tbody>\n",
       "</table>\n",
       "</div>"
      ],
      "text/plain": [
       "    score_medio  score_std  n_neighbours\n",
       "0      0.950769   0.016353             1\n",
       "1      0.968359   0.013146             6\n",
       "2      0.963111   0.020285            11\n",
       "3      0.957833   0.011600            16\n",
       "4      0.952569   0.016223            21\n",
       "5      0.954339   0.017841            26\n",
       "6      0.952585   0.019643            31\n",
       "7      0.954324   0.015049            36\n",
       "8      0.954324   0.015049            41\n",
       "9      0.956094   0.016595            46\n",
       "10     0.952585   0.019643            51\n",
       "11     0.949076   0.015016            56\n",
       "12     0.949061   0.013966            61\n",
       "13     0.943798   0.016189            66\n",
       "14     0.942043   0.015202            71\n",
       "15     0.940289   0.014991            76\n",
       "16     0.938534   0.017451            81\n",
       "17     0.935026   0.023195            86\n",
       "18     0.933271   0.023845            91\n",
       "19     0.929747   0.019901            96"
      ]
     },
     "execution_count": 52,
     "metadata": {},
     "output_type": "execute_result"
    }
   ],
   "source": [
    "#Dataframe com os Scores medios e os desvios padrão de scores para cada número de K testado\n",
    "df_scores_standar = pd.DataFrame(scores_para_df_standar)\n",
    "df_scores_standar"
   ]
  },
  {
   "cell_type": "code",
   "execution_count": 55,
   "metadata": {},
   "outputs": [
    {
     "data": {
      "text/plain": [
       "{1: 0.04923148579413128,\n",
       " 6: 0.03164104952647118,\n",
       " 11: 0.03688868188169536,\n",
       " 16: 0.04216736531594467,\n",
       " 21: 0.04743052321068153,\n",
       " 26: 0.04566061170625679,\n",
       " 31: 0.04741499767116897,\n",
       " 36: 0.04567613724576913,\n",
       " 41: 0.04567613724576913,\n",
       " 46: 0.04390622574134451,\n",
       " 51: 0.04741499767116897,\n",
       " 56: 0.05092376960099365,\n",
       " 61: 0.0509392951405061,\n",
       " 66: 0.05620245303524318,\n",
       " 71: 0.05795683900015525,\n",
       " 76: 0.05971122496506742,\n",
       " 81: 0.06146561092997982,\n",
       " 86: 0.06497438285980439,\n",
       " 91: 0.06672876882471679,\n",
       " 96: 0.0702530662940537}"
      ]
     },
     "execution_count": 55,
     "metadata": {},
     "output_type": "execute_result"
    }
   ],
   "source": [
    "# erros de cada numero de K calculado (quanto mais próximo de zero, melhor)\n",
    "error_rates"
   ]
  },
  {
   "cell_type": "code",
   "execution_count": 56,
   "metadata": {},
   "outputs": [
    {
     "data": {
      "text/plain": [
       "6"
      ]
     },
     "execution_count": 56,
     "metadata": {},
     "output_type": "execute_result"
    }
   ],
   "source": [
    "#Número de K com o menor erro\n",
    "kBest = min(error_rates, key = error_rates.get)\n",
    "kBest"
   ]
  },
  {
   "cell_type": "code",
   "execution_count": 57,
   "metadata": {},
   "outputs": [],
   "source": [
    "#Instanciando novamente o modelo com melhor valor para K\n",
    "model = KNeighborsClassifier(n_neighbors = kBest)"
   ]
  },
  {
   "cell_type": "code",
   "execution_count": 58,
   "metadata": {},
   "outputs": [
    {
     "data": {
      "text/plain": [
       "KNeighborsClassifier(n_neighbors=6)"
      ]
     },
     "execution_count": 58,
     "metadata": {},
     "output_type": "execute_result"
    }
   ],
   "source": [
    "# Ajustá-lo sobre os dados de treinamento\n",
    "model.fit(X_train, y_train)"
   ]
  },
  {
   "cell_type": "code",
   "execution_count": 59,
   "metadata": {},
   "outputs": [],
   "source": [
    "# Predições nos dados de TESTE agora com K otimizado\n",
    "y_pred = model.predict(X_test)"
   ]
  },
  {
   "cell_type": "code",
   "execution_count": 60,
   "metadata": {},
   "outputs": [
    {
     "data": {
      "image/png": "[encoded data removed]",
      "text/plain": [
       "<Figure size 432x288 with 2 Axes>"
      ]
     },
     "metadata": {
      "needs_background": "light"
     },
     "output_type": "display_data"
    }
   ],
   "source": [
    "#Matriz de confusão\n",
    "\n",
    "sns.heatmap(confusion_matrix(y_test, \n",
    "                             y_pred\n",
    "                            ),\n",
    "            annot = True\n",
    "           )\n",
    "plt.ylabel('Verdadeiros')\n",
    "plt.xlabel('Previstos');"
   ]
  },
  {
   "cell_type": "markdown",
   "metadata": {},
   "source": [
    "Vemos que além de errar menos o modelo distribui os seus erros de uma forma que pensando na natureza do problema me parecer fazer mais sentido.\n",
    "\n",
    "Sem o K otimizado ele havia errado o mesmo número de vezes, porém com uma quantidade diferente em cada classe. Havia indicado que 1 pessoa tinha cancer quando na verdade não tinha e havia indicado que 5 não tinha quando na verdade tinham. No modelo com o K otimizado ele errou um a mais no primeiro caso e um a menos no segundo.\n",
    "\n",
    "Neste caso, este parece ser um erro menos prejudicial. Explico: no caso de errar menos quem estava de fato com câncer, o modelo está evitando que uma pessoa descubra que tenha câncer em um estágio mais avançado e com menor probabilidade de efeitos positivos do tratamento, isto é, probabilidade de cura;\n",
    "\n",
    "Quando ele diz que alguém está com câncer e na verdade esta pessoa não está, o maior dano seria a pessoa fazer o tratamento, mas sem o risco de perder sua vida (já que não tem câncer) como no primeiro tipo de erro."
   ]
  }
 ],
 "metadata": {
  "kernelspec": {
   "display_name": "Python 3",
   "language": "python",
   "name": "python3"
  },
  "language_info": {
   "codemirror_mode": {
    "name": "ipython",
    "version": 3
   },
   "file_extension": ".py",
   "mimetype": "text/x-python",
   "name": "python",
   "nbconvert_exporter": "python",
   "pygments_lexer": "ipython3",
   "version": "3.8.3"
  }
 },
 "nbformat": 4,
 "nbformat_minor": 4
}
