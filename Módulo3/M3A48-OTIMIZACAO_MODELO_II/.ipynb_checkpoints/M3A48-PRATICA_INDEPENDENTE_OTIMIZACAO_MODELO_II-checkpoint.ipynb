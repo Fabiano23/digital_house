{
 "cells": [
  {
   "cell_type": "markdown",
   "metadata": {
    "id": "aBFZR7ZpDvC9"
   },
   "source": [
    "# PRÁTICA INDEPENDENTE: Otimização de modelos"
   ]
  },
  {
   "cell_type": "markdown",
   "metadata": {},
   "source": [
    "#### Agora, aplicaremos todos os conceitos que vimos de otimização. Usaremos `ParemeterGrid`, `ParameterSampler`, `GridSearch` e `RandomSearch`. Usaremos também o `dataset` `'diabetes.csv'`."
   ]
  },
  {
   "cell_type": "markdown",
   "metadata": {
    "id": "9wMkAEOIDvC3"
   },
   "source": [
    "# Instruções"
   ]
  },
  {
   "cell_type": "markdown",
   "metadata": {},
   "source": [
    "#### Baixe os pacotes necessários e leia o arquivo `'diabetes.csv'`."
   ]
  },
  {
   "cell_type": "code",
   "execution_count": 1,
   "metadata": {},
   "outputs": [],
   "source": [
    "import pandas as pd\n",
    "import numpy as np\n",
    "from sklearn.pipeline import make_pipeline\n",
    "from sklearn.pipeline import Pipeline\n",
    "from sklearn.model_selection import cross_val_score, train_test_split, StratifiedKFold\n",
    "from sklearn.preprocessing import MinMaxScaler\n",
    "from sklearn.neighbors import KNeighborsClassifier\n",
    "from sklearn.model_selection import GridSearchCV\n",
    "from sklearn.model_selection import RandomizedSearchCV\n",
    "from sklearn.metrics import accuracy_score\n",
    "import itertools "
   ]
  },
  {
   "cell_type": "code",
   "execution_count": 2,
   "metadata": {},
   "outputs": [
    {
     "data": {
      "text/html": [
       "<div>\n",
       "<style scoped>\n",
       "    .dataframe tbody tr th:only-of-type {\n",
       "        vertical-align: middle;\n",
       "    }\n",
       "\n",
       "    .dataframe tbody tr th {\n",
       "        vertical-align: top;\n",
       "    }\n",
       "\n",
       "    .dataframe thead th {\n",
       "        text-align: right;\n",
       "    }\n",
       "</style>\n",
       "<table border=\"1\" class=\"dataframe\">\n",
       "  <thead>\n",
       "    <tr style=\"text-align: right;\">\n",
       "      <th></th>\n",
       "      <th>pregnant</th>\n",
       "      <th>glucose</th>\n",
       "      <th>bp</th>\n",
       "      <th>skin</th>\n",
       "      <th>insulin</th>\n",
       "      <th>bmi</th>\n",
       "      <th>pedigree</th>\n",
       "      <th>age</th>\n",
       "      <th>label</th>\n",
       "    </tr>\n",
       "  </thead>\n",
       "  <tbody>\n",
       "    <tr>\n",
       "      <th>0</th>\n",
       "      <td>6</td>\n",
       "      <td>148</td>\n",
       "      <td>72</td>\n",
       "      <td>35</td>\n",
       "      <td>0</td>\n",
       "      <td>33.6</td>\n",
       "      <td>0.627</td>\n",
       "      <td>50</td>\n",
       "      <td>1</td>\n",
       "    </tr>\n",
       "    <tr>\n",
       "      <th>1</th>\n",
       "      <td>1</td>\n",
       "      <td>85</td>\n",
       "      <td>66</td>\n",
       "      <td>29</td>\n",
       "      <td>0</td>\n",
       "      <td>26.6</td>\n",
       "      <td>0.351</td>\n",
       "      <td>31</td>\n",
       "      <td>0</td>\n",
       "    </tr>\n",
       "    <tr>\n",
       "      <th>2</th>\n",
       "      <td>8</td>\n",
       "      <td>183</td>\n",
       "      <td>64</td>\n",
       "      <td>0</td>\n",
       "      <td>0</td>\n",
       "      <td>23.3</td>\n",
       "      <td>0.672</td>\n",
       "      <td>32</td>\n",
       "      <td>1</td>\n",
       "    </tr>\n",
       "    <tr>\n",
       "      <th>3</th>\n",
       "      <td>1</td>\n",
       "      <td>89</td>\n",
       "      <td>66</td>\n",
       "      <td>23</td>\n",
       "      <td>94</td>\n",
       "      <td>28.1</td>\n",
       "      <td>0.167</td>\n",
       "      <td>21</td>\n",
       "      <td>0</td>\n",
       "    </tr>\n",
       "    <tr>\n",
       "      <th>4</th>\n",
       "      <td>0</td>\n",
       "      <td>137</td>\n",
       "      <td>40</td>\n",
       "      <td>35</td>\n",
       "      <td>168</td>\n",
       "      <td>43.1</td>\n",
       "      <td>2.288</td>\n",
       "      <td>33</td>\n",
       "      <td>1</td>\n",
       "    </tr>\n",
       "  </tbody>\n",
       "</table>\n",
       "</div>"
      ],
      "text/plain": [
       "   pregnant  glucose  bp  skin  insulin   bmi  pedigree  age  label\n",
       "0         6      148  72    35        0  33.6     0.627   50      1\n",
       "1         1       85  66    29        0  26.6     0.351   31      0\n",
       "2         8      183  64     0        0  23.3     0.672   32      1\n",
       "3         1       89  66    23       94  28.1     0.167   21      0\n",
       "4         0      137  40    35      168  43.1     2.288   33      1"
      ]
     },
     "execution_count": 2,
     "metadata": {},
     "output_type": "execute_result"
    }
   ],
   "source": [
    "df= pd.read_csv('diabetes.csv')\n",
    "df.head()"
   ]
  },
  {
   "cell_type": "markdown",
   "metadata": {
    "id": "G1S7n2XADvC-"
   },
   "source": [
    "# Exercício 1 - Separação Treino, Teste e Validação"
   ]
  },
  {
   "cell_type": "markdown",
   "metadata": {
    "id": "EIOQoPwmDvC-"
   },
   "source": [
    "#### Primeiramente, teste a estratégia de dividir em treino, teste e validação. Ou seja, teremos 3 datasets. Siga o passo a passo abaixo."
   ]
  },
  {
   "cell_type": "markdown",
   "metadata": {
    "id": "G0S3WBXrDvC-"
   },
   "source": [
    "1. Defina um Pipeline com `kNN` e `MinMaxScaler`. Defina também a validação `StratifiedKFold`;\n",
    "2. Divida o `df` em `df_train`, `df_test` e `df_val`. Sugestão de percentuais: $70\\%$, $15\\%$, $15\\%$;\n",
    "3. Crie a rede de parâmetros para o `grid search` (varie métrica de distância, número de vizinhos e pesos de votação);\n",
    "4. Crie a rede de parâmetros para o `random search` (varie métrica de distância, número de vizinhos e pesos de votação). Use $50$ iterações;\n",
    "5. Execute um laço para o `grid search`;\n",
    "6. Execute um loop para o `random search`;\n",
    "7. Avalie a performance e os conjuntos de hiperparametros associados (lembre-se de que o objetivo é pegar o conjunto, cujo erro de validação é o menor)."
   ]
  },
  {
   "cell_type": "markdown",
   "metadata": {
    "id": "l4J2bJ1LDvC_"
   },
   "source": [
    "#### Dica: Divida primeiro em `df_train` e `df_test` e depois use o `df_train` para dividr em `df_train` e `df_Val`. Lembre de imprimir os parâmetros escolhidos e a pontuação (`score`) obtida. Use sempre `neg_log_loss` como métrica."
   ]
  },
  {
   "cell_type": "code",
   "execution_count": 3,
   "metadata": {},
   "outputs": [],
   "source": [
    "#Criando pipeline para KNN\n",
    "pipeline_knn= Pipeline(steps = [('pre_processor', MinMaxScaler()), \n",
    "                             ('knn', KNeighborsClassifier()) \n",
    "                            ]\n",
    "                   )\n",
    "\n",
    "#Objeto de estratificação dos dados\n",
    "skf = StratifiedKFold(n_splits = 10, \n",
    "                      shuffle = True, \n",
    "                      random_state = 42\n",
    "                     )  "
   ]
  },
  {
   "cell_type": "markdown",
   "metadata": {},
   "source": [
    "Split de treino, teste e validação"
   ]
  },
  {
   "cell_type": "code",
   "execution_count": 4,
   "metadata": {},
   "outputs": [],
   "source": [
    "#Treino e teste\n",
    "df_train, df_test = train_test_split(df, \n",
    "                                   stratify = df['label'], \n",
    "                                   test_size = 0.15, \n",
    "                                   random_state = 123\n",
    "                                  )\n",
    "\n",
    "#Treino e validação\n",
    "df_train, df_val = train_test_split(df_train, \n",
    "                                    stratify = df_train['label'], \n",
    "                                    test_size = 0.15, \n",
    "                                    random_state = 123\n",
    "                                   )"
   ]
  },
  {
   "cell_type": "code",
   "execution_count": 5,
   "metadata": {},
   "outputs": [
    {
     "name": "stdout",
     "output_type": "stream",
     "text": [
      "554 554\n",
      "116 116\n",
      "98 98\n"
     ]
    }
   ],
   "source": [
    "X_train, y_train = df_train.drop('label', axis = 1), df_train['label']\n",
    "X_test, y_test = df_test.drop('label', axis = 1), df_test['label']\n",
    "X_val, y_val = df_val.drop('label', axis = 1), df_val['label']\n",
    "\n",
    "print(len(X_train), len(y_train))\n",
    "print(len(X_test), len(y_test))\n",
    "print(len(X_val), len(y_val))"
   ]
  },
  {
   "cell_type": "markdown",
   "metadata": {},
   "source": [
    "GridSearchCV"
   ]
  },
  {
   "cell_type": "code",
   "execution_count": 6,
   "metadata": {},
   "outputs": [],
   "source": [
    "#Hiperparametros que serão testados\n",
    "\n",
    "n_k_grid = list(range(1, 51))\n",
    "\n",
    "pesos_opc_grid = ['uniform', 'distance']\n",
    "\n",
    "metricas_distancia_grid= ['euclidean', 'manhattan', 'chebyshev']"
   ]
  },
  {
   "cell_type": "code",
   "execution_count": 7,
   "metadata": {
    "id": "xhUZhXsmDvDA"
   },
   "outputs": [
    {
     "name": "stdout",
     "output_type": "stream",
     "text": [
      "Temos ao todo 300 combinações possíveis\n"
     ]
    }
   ],
   "source": [
    "#Dicionário com todos os parâmetros para o grid search\n",
    "param_grid = dict(knn__n_neighbors = n_k_grid, \n",
    "                  knn__weights = pesos_opc_grid, \n",
    "                  knn__metric = metricas_distancia_grid)\n",
    "\n",
    "#Todas as combinações possíveis com intertools.product\n",
    "todas_as_combinacoes = list(itertools.product(n_k_grid, pesos_opc_grid, metricas_distancia_grid))\n",
    "\n",
    "print(f'Temos ao todo {len(todas_as_combinacoes)} combinações possíveis')"
   ]
  },
  {
   "cell_type": "code",
   "execution_count": 8,
   "metadata": {},
   "outputs": [
    {
     "data": {
      "text/plain": [
       "GridSearchCV(cv=StratifiedKFold(n_splits=10, random_state=42, shuffle=True),\n",
       "             estimator=Pipeline(steps=[('pre_processor', MinMaxScaler()),\n",
       "                                       ('knn', KNeighborsClassifier())]),\n",
       "             param_grid={'knn__metric': ['euclidean', 'manhattan', 'chebyshev'],\n",
       "                         'knn__n_neighbors': [1, 2, 3, 4, 5, 6, 7, 8, 9, 10, 11,\n",
       "                                              12, 13, 14, 15, 16, 17, 18, 19,\n",
       "                                              20, 21, 22, 23, 24, 25, 26, 27,\n",
       "                                              28, 29, 30, ...],\n",
       "                         'knn__weights': ['uniform', 'distance']},\n",
       "             scoring='neg_log_loss')"
      ]
     },
     "execution_count": 8,
     "metadata": {},
     "output_type": "execute_result"
    }
   ],
   "source": [
    "#Instanciando objeto grid realizando o pipeline_knn, com todas as combinações de parâmetros possíveis em param_grid \n",
    "# e realizando a estritificação cruzada definida em skf.\n",
    "grid = GridSearchCV(pipeline_knn,\n",
    "                    param_grid= param_grid, \n",
    "                    cv = skf, \n",
    "                    scoring = 'neg_log_loss'\n",
    "                   )\n",
    "#Ajustando dados de treino ao grid\n",
    "grid.fit(X_train, y_train)"
   ]
  },
  {
   "cell_type": "markdown",
   "metadata": {},
   "source": [
    "RandomSearchCV"
   ]
  },
  {
   "cell_type": "code",
   "execution_count": 9,
   "metadata": {},
   "outputs": [],
   "source": [
    "#Crie a rede de parâmetros para o random search (varie métrica de distância, \n",
    "#                                                número de vizinhos e pesos de votação). Use  50  iterações;\n",
    "\n",
    "\n",
    "n_k_random= list(range(1, 101))\n",
    "\n",
    "metricas_distancia_random= ['euclidean', 'chebyshev']\n",
    "\n",
    "pesos_opc_random = ['uniform', 'distance']\n",
    "\n",
    "\n",
    "#Dicionário com todos os parâmetros para o random search\n",
    "param_random = dict(knn__n_neighbors = n_k_random, \n",
    "                  knn__weights = pesos_opc_random,\n",
    "                  knn__metric= metricas_distancia_random\n",
    "                 )\n",
    "\n",
    "#print(param_random)"
   ]
  },
  {
   "cell_type": "code",
   "execution_count": 10,
   "metadata": {},
   "outputs": [
    {
     "data": {
      "text/plain": [
       "RandomizedSearchCV(cv=StratifiedKFold(n_splits=10, random_state=42, shuffle=True),\n",
       "                   estimator=Pipeline(steps=[('pre_processor', MinMaxScaler()),\n",
       "                                             ('knn', KNeighborsClassifier())]),\n",
       "                   n_iter=50,\n",
       "                   param_distributions={'knn__metric': ['euclidean',\n",
       "                                                        'chebyshev'],\n",
       "                                        'knn__n_neighbors': [1, 2, 3, 4, 5, 6,\n",
       "                                                             7, 8, 9, 10, 11,\n",
       "                                                             12, 13, 14, 15, 16,\n",
       "                                                             17, 18, 19, 20, 21,\n",
       "                                                             22, 23, 24, 25, 26,\n",
       "                                                             27, 28, 29, 30, ...],\n",
       "                                        'knn__weights': ['uniform',\n",
       "                                                         'distance']},\n",
       "                   scoring='neg_log_loss')"
      ]
     },
     "execution_count": 10,
     "metadata": {},
     "output_type": "execute_result"
    }
   ],
   "source": [
    "random = RandomizedSearchCV(estimator= pipeline_knn,\n",
    "                   param_distributions= param_random, \n",
    "                    cv = skf, \n",
    "                    scoring = 'neg_log_loss',\n",
    "                    n_iter= 50\n",
    "                   )\n",
    "#Ajustando dados de treino ao random\n",
    "random.fit(X_train, y_train)"
   ]
  },
  {
   "cell_type": "markdown",
   "metadata": {},
   "source": [
    "Combinação de parâmetros com melhor performance"
   ]
  },
  {
   "cell_type": "code",
   "execution_count": 11,
   "metadata": {},
   "outputs": [
    {
     "name": "stdout",
     "output_type": "stream",
     "text": [
      "GRID:\n",
      "\n",
      "Score ----> -0.5102263386078122\n",
      "Parâmetros com melhor performance: {'knn__metric': 'manhattan', 'knn__n_neighbors': 35, 'knn__weights': 'distance'}\n"
     ]
    }
   ],
   "source": [
    "#Score e melhores parâmetros do Grid\n",
    "print('GRID:')\n",
    "print()\n",
    "print(f'Score ----> {grid.best_score_}')\n",
    "print(f'Parâmetros com melhor performance: {grid.best_params_}')"
   ]
  },
  {
   "cell_type": "code",
   "execution_count": 12,
   "metadata": {},
   "outputs": [
    {
     "name": "stdout",
     "output_type": "stream",
     "text": [
      "RANDOM:\n",
      "\n",
      "Score ----> -0.5204232064988531\n",
      "Parâmetros com melhor performance: {'knn__weights': 'distance', 'knn__n_neighbors': 44, 'knn__metric': 'euclidean'}\n"
     ]
    }
   ],
   "source": [
    "#Score e melhores parâmetros do Random\n",
    "print('RANDOM:')\n",
    "print()\n",
    "print(f'Score ----> {random.best_score_}')\n",
    "print(f'Parâmetros com melhor performance: {random.best_params_}')"
   ]
  },
  {
   "cell_type": "markdown",
   "metadata": {},
   "source": [
    "Como estamos lidando com um métrica que mede o erro, quanto menor melhor. Neste caso estamos usando a métrica neg_log_loss que nos retorna números negativos. Portanto, quanto maior o valor absoluto retornado, porque está em negativo, melhor é o score da combinação de parâmetros em questão."
   ]
  },
  {
   "cell_type": "code",
   "execution_count": 13,
   "metadata": {},
   "outputs": [],
   "source": [
    "#Instanciando random search pipeline com a melhor combinação de parâmetros\n",
    "melhor_knn= random.best_estimator_"
   ]
  },
  {
   "cell_type": "code",
   "execution_count": 14,
   "metadata": {},
   "outputs": [
    {
     "data": {
      "text/plain": [
       "Pipeline(steps=[('pre_processor', MinMaxScaler()),\n",
       "                ('knn',\n",
       "                 KNeighborsClassifier(metric='euclidean', n_neighbors=44,\n",
       "                                      weights='distance'))])"
      ]
     },
     "execution_count": 14,
     "metadata": {},
     "output_type": "execute_result"
    }
   ],
   "source": [
    "#Ajustando modelo aos dados de treino\n",
    "melhor_knn.fit(X_train, \n",
    "             y_train\n",
    "            )"
   ]
  },
  {
   "cell_type": "code",
   "execution_count": 15,
   "metadata": {},
   "outputs": [],
   "source": [
    "#Predição\n",
    "y_pred= melhor_knn.predict(X_test)"
   ]
  },
  {
   "cell_type": "code",
   "execution_count": 16,
   "metadata": {},
   "outputs": [
    {
     "data": {
      "text/plain": [
       "0.8017241379310345"
      ]
     },
     "execution_count": 16,
     "metadata": {},
     "output_type": "execute_result"
    }
   ],
   "source": [
    "#Acurácia\n",
    "accuracy_score(y_pred, y_test)"
   ]
  },
  {
   "cell_type": "markdown",
   "metadata": {
    "id": "-EjpUIjYDvDB"
   },
   "source": [
    "# Exercício 2 - Cross Validation"
   ]
  },
  {
   "cell_type": "markdown",
   "metadata": {
    "id": "tTizZvmvDvDB"
   },
   "source": [
    "#### Reaproveitando os passos $1, 2, 3, 4$ do tópico $2$, realize as validações cruzadas com `Grid Search` e `Random Search`. Lembre de imprimir os melhores parâmetros e a prontuação (`score`) obtida."
   ]
  },
  {
   "cell_type": "code",
   "execution_count": null,
   "metadata": {},
   "outputs": [],
   "source": []
  },
  {
   "cell_type": "code",
   "execution_count": null,
   "metadata": {},
   "outputs": [],
   "source": []
  },
  {
   "cell_type": "code",
   "execution_count": null,
   "metadata": {
    "id": "9t3x6FLxDvDB"
   },
   "outputs": [],
   "source": []
  },
  {
   "cell_type": "code",
   "execution_count": null,
   "metadata": {},
   "outputs": [],
   "source": []
  },
  {
   "cell_type": "code",
   "execution_count": null,
   "metadata": {},
   "outputs": [],
   "source": []
  },
  {
   "cell_type": "code",
   "execution_count": null,
   "metadata": {},
   "outputs": [],
   "source": []
  },
  {
   "cell_type": "code",
   "execution_count": null,
   "metadata": {},
   "outputs": [],
   "source": []
  },
  {
   "cell_type": "code",
   "execution_count": null,
   "metadata": {},
   "outputs": [],
   "source": []
  },
  {
   "cell_type": "code",
   "execution_count": null,
   "metadata": {},
   "outputs": [],
   "source": []
  },
  {
   "cell_type": "code",
   "execution_count": null,
   "metadata": {},
   "outputs": [],
   "source": []
  },
  {
   "cell_type": "code",
   "execution_count": null,
   "metadata": {},
   "outputs": [],
   "source": []
  },
  {
   "cell_type": "code",
   "execution_count": null,
   "metadata": {},
   "outputs": [],
   "source": []
  },
  {
   "cell_type": "code",
   "execution_count": null,
   "metadata": {},
   "outputs": [],
   "source": []
  },
  {
   "cell_type": "code",
   "execution_count": null,
   "metadata": {
    "id": "oXQ-4cSbDvDC"
   },
   "outputs": [],
   "source": []
  },
  {
   "cell_type": "code",
   "execution_count": null,
   "metadata": {},
   "outputs": [],
   "source": []
  },
  {
   "cell_type": "markdown",
   "metadata": {
    "id": "dGfoBs8YDvDC"
   },
   "source": [
    "#### Avalie a performance no treino e na validação"
   ]
  },
  {
   "cell_type": "markdown",
   "metadata": {
    "id": "lmtTgtKEDvDC"
   },
   "source": [
    "#### OBS: Não estamos preocupado com performance. A ideia é exercitar a construção desses `steps`. O `dataset` não é tão grande e podemos sofrer com isso."
   ]
  },
  {
   "cell_type": "code",
   "execution_count": null,
   "metadata": {},
   "outputs": [],
   "source": []
  }
 ],
 "metadata": {
  "colab": {
   "name": "DSTN07 - Otimização II (Prática Independente).ipynb",
   "provenance": []
  },
  "kernelspec": {
   "display_name": "Python 3",
   "language": "python",
   "name": "python3"
  },
  "language_info": {
   "codemirror_mode": {
    "name": "ipython",
    "version": 3
   },
   "file_extension": ".py",
   "mimetype": "text/x-python",
   "name": "python",
   "nbconvert_exporter": "python",
   "pygments_lexer": "ipython3",
   "version": "3.8.3"
  },
  "toc": {
   "base_numbering": 1,
   "nav_menu": {},
   "number_sections": true,
   "sideBar": true,
   "skip_h1_title": false,
   "title_cell": "Table of Contents",
   "title_sidebar": "Contents",
   "toc_cell": false,
   "toc_position": {},
   "toc_section_display": true,
   "toc_window_display": false
  }
 },
 "nbformat": 4,
 "nbformat_minor": 4
}
