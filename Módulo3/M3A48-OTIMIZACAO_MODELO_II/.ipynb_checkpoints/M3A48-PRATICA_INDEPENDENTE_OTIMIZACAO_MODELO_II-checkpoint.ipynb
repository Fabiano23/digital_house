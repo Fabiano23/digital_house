{
 "cells": [
  {
   "cell_type": "markdown",
   "metadata": {
    "id": "aBFZR7ZpDvC9"
   },
   "source": [
    "# PRÁTICA INDEPENDENTE: Otimização de modelos"
   ]
  },
  {
   "cell_type": "markdown",
   "metadata": {},
   "source": [
    "#### Agora, aplicaremos todos os conceitos que vimos de otimização. Usaremos `ParemeterGrid`, `ParameterSampler`, `GridSearch` e `RandomSearch`. Usaremos também o `dataset` `'diabetes.csv'`."
   ]
  },
  {
   "cell_type": "markdown",
   "metadata": {
    "id": "9wMkAEOIDvC3"
   },
   "source": [
    "# Instruções"
   ]
  },
  {
   "cell_type": "markdown",
   "metadata": {},
   "source": [
    "#### Baixe os pacotes necessários e leia o arquivo `'diabetes.csv'`."
   ]
  },
  {
   "cell_type": "code",
   "execution_count": 1,
   "metadata": {},
   "outputs": [],
   "source": [
    "import pandas as pd\n",
    "import numpy as np\n",
    "from sklearn.pipeline import make_pipeline\n",
    "from sklearn.pipeline import Pipeline\n",
    "from sklearn.model_selection import cross_val_score, train_test_split, StratifiedKFold\n",
    "from sklearn.preprocessing import MinMaxScaler\n",
    "from sklearn.neighbors import KNeighborsClassifier\n",
    "from sklearn.model_selection import ParameterGrid\n",
    "from sklearn.model_selection import GridSearchCV\n",
    "from sklearn.model_selection import RandomizedSearchCV\n",
    "from sklearn.metrics import accuracy_score\n",
    "import itertools\n",
    "import random"
   ]
  },
  {
   "cell_type": "code",
   "execution_count": 2,
   "metadata": {},
   "outputs": [
    {
     "data": {
      "text/html": [
       "<div>\n",
       "<style scoped>\n",
       "    .dataframe tbody tr th:only-of-type {\n",
       "        vertical-align: middle;\n",
       "    }\n",
       "\n",
       "    .dataframe tbody tr th {\n",
       "        vertical-align: top;\n",
       "    }\n",
       "\n",
       "    .dataframe thead th {\n",
       "        text-align: right;\n",
       "    }\n",
       "</style>\n",
       "<table border=\"1\" class=\"dataframe\">\n",
       "  <thead>\n",
       "    <tr style=\"text-align: right;\">\n",
       "      <th></th>\n",
       "      <th>pregnant</th>\n",
       "      <th>glucose</th>\n",
       "      <th>bp</th>\n",
       "      <th>skin</th>\n",
       "      <th>insulin</th>\n",
       "      <th>bmi</th>\n",
       "      <th>pedigree</th>\n",
       "      <th>age</th>\n",
       "      <th>label</th>\n",
       "    </tr>\n",
       "  </thead>\n",
       "  <tbody>\n",
       "    <tr>\n",
       "      <th>0</th>\n",
       "      <td>6</td>\n",
       "      <td>148</td>\n",
       "      <td>72</td>\n",
       "      <td>35</td>\n",
       "      <td>0</td>\n",
       "      <td>33.6</td>\n",
       "      <td>0.627</td>\n",
       "      <td>50</td>\n",
       "      <td>1</td>\n",
       "    </tr>\n",
       "    <tr>\n",
       "      <th>1</th>\n",
       "      <td>1</td>\n",
       "      <td>85</td>\n",
       "      <td>66</td>\n",
       "      <td>29</td>\n",
       "      <td>0</td>\n",
       "      <td>26.6</td>\n",
       "      <td>0.351</td>\n",
       "      <td>31</td>\n",
       "      <td>0</td>\n",
       "    </tr>\n",
       "    <tr>\n",
       "      <th>2</th>\n",
       "      <td>8</td>\n",
       "      <td>183</td>\n",
       "      <td>64</td>\n",
       "      <td>0</td>\n",
       "      <td>0</td>\n",
       "      <td>23.3</td>\n",
       "      <td>0.672</td>\n",
       "      <td>32</td>\n",
       "      <td>1</td>\n",
       "    </tr>\n",
       "    <tr>\n",
       "      <th>3</th>\n",
       "      <td>1</td>\n",
       "      <td>89</td>\n",
       "      <td>66</td>\n",
       "      <td>23</td>\n",
       "      <td>94</td>\n",
       "      <td>28.1</td>\n",
       "      <td>0.167</td>\n",
       "      <td>21</td>\n",
       "      <td>0</td>\n",
       "    </tr>\n",
       "    <tr>\n",
       "      <th>4</th>\n",
       "      <td>0</td>\n",
       "      <td>137</td>\n",
       "      <td>40</td>\n",
       "      <td>35</td>\n",
       "      <td>168</td>\n",
       "      <td>43.1</td>\n",
       "      <td>2.288</td>\n",
       "      <td>33</td>\n",
       "      <td>1</td>\n",
       "    </tr>\n",
       "  </tbody>\n",
       "</table>\n",
       "</div>"
      ],
      "text/plain": [
       "   pregnant  glucose  bp  skin  insulin   bmi  pedigree  age  label\n",
       "0         6      148  72    35        0  33.6     0.627   50      1\n",
       "1         1       85  66    29        0  26.6     0.351   31      0\n",
       "2         8      183  64     0        0  23.3     0.672   32      1\n",
       "3         1       89  66    23       94  28.1     0.167   21      0\n",
       "4         0      137  40    35      168  43.1     2.288   33      1"
      ]
     },
     "execution_count": 2,
     "metadata": {},
     "output_type": "execute_result"
    }
   ],
   "source": [
    "df= pd.read_csv('diabetes.csv')\n",
    "df.head()"
   ]
  },
  {
   "cell_type": "markdown",
   "metadata": {
    "id": "G1S7n2XADvC-"
   },
   "source": [
    "# Exercício 1 - Separação Treino, Teste e Validação"
   ]
  },
  {
   "cell_type": "markdown",
   "metadata": {
    "id": "EIOQoPwmDvC-"
   },
   "source": [
    "#### Primeiramente, teste a estratégia de dividir em treino, teste e validação. Ou seja, teremos 3 datasets. Siga o passo a passo abaixo."
   ]
  },
  {
   "cell_type": "markdown",
   "metadata": {
    "id": "G0S3WBXrDvC-"
   },
   "source": [
    "1. Defina um Pipeline com `kNN` e `MinMaxScaler`. Defina também a validação `StratifiedKFold`;\n",
    "2. Divida o `df` em `df_train`, `df_test` e `df_val`. Sugestão de percentuais: $70\\%$, $15\\%$, $15\\%$;\n",
    "3. Crie a rede de parâmetros para o `grid search` (varie métrica de distância, número de vizinhos e pesos de votação);\n",
    "4. Crie a rede de parâmetros para o `random search` (varie métrica de distância, número de vizinhos e pesos de votação). Use $50$ iterações;\n",
    "5. Execute um laço para o `grid search`;\n",
    "6. Execute um loop para o `random search`;\n",
    "7. Avalie a performance e os conjuntos de hiperparametros associados (lembre-se de que o objetivo é pegar o conjunto, cujo erro de validação é o menor)."
   ]
  },
  {
   "cell_type": "markdown",
   "metadata": {
    "id": "l4J2bJ1LDvC_"
   },
   "source": [
    "#### Dica: Divida primeiro em `df_train` e `df_test` e depois use o `df_train` para dividr em `df_train` e `df_Val`. Lembre de imprimir os parâmetros escolhidos e a pontuação (`score`) obtida. Use sempre `neg_log_loss` como métrica."
   ]
  },
  {
   "cell_type": "code",
   "execution_count": 3,
   "metadata": {},
   "outputs": [],
   "source": [
    "#Criando pipeline para KNN\n",
    "pipeline_knn= Pipeline(steps = [('pre_processor', MinMaxScaler()), \n",
    "                             ('knn', KNeighborsClassifier()) \n",
    "                            ]\n",
    "                   )\n",
    "\n",
    "#Objeto de estratificação dos dados\n",
    "skf = StratifiedKFold(n_splits = 10, \n",
    "                      shuffle = True, \n",
    "                      random_state = 42\n",
    "                     ) "
   ]
  },
  {
   "cell_type": "markdown",
   "metadata": {},
   "source": [
    "Split de treino, teste e validação"
   ]
  },
  {
   "cell_type": "code",
   "execution_count": 4,
   "metadata": {},
   "outputs": [],
   "source": [
    "#Treino e teste\n",
    "df_train, df_test = train_test_split(df, \n",
    "                                   stratify = df['label'], \n",
    "                                   test_size = 0.15, \n",
    "                                   random_state = 123\n",
    "                                  )\n",
    "\n",
    "#Treino e validação\n",
    "df_train, df_val = train_test_split(df_train, \n",
    "                                    stratify = df_train['label'], \n",
    "                                    test_size = 0.15, \n",
    "                                    random_state = 123\n",
    "                                   )"
   ]
  },
  {
   "cell_type": "code",
   "execution_count": 5,
   "metadata": {},
   "outputs": [
    {
     "name": "stdout",
     "output_type": "stream",
     "text": [
      "554 554\n",
      "116 116\n",
      "98 98\n"
     ]
    }
   ],
   "source": [
    "X_train, y_train = df_train.drop('label', axis = 1), df_train['label']\n",
    "X_test, y_test = df_test.drop('label', axis = 1), df_test['label']\n",
    "X_val, y_val = df_val.drop('label', axis = 1), df_val['label']\n",
    "\n",
    "print(len(X_train), len(y_train))\n",
    "print(len(X_test), len(y_test))\n",
    "print(len(X_val), len(y_val))"
   ]
  },
  {
   "cell_type": "markdown",
   "metadata": {},
   "source": [
    "GridSearch"
   ]
  },
  {
   "cell_type": "code",
   "execution_count": 6,
   "metadata": {},
   "outputs": [],
   "source": [
    "#Hiperparametros que serão testados\n",
    "n_k_grid = list(range(1, 51))\n",
    "\n",
    "pesos_opc_grid = ['uniform', 'distance']\n",
    "\n",
    "metricas_distancia_grid= ['euclidean', 'manhattan', 'chebyshev']"
   ]
  },
  {
   "cell_type": "code",
   "execution_count": 7,
   "metadata": {
    "id": "xhUZhXsmDvDA"
   },
   "outputs": [
    {
     "name": "stdout",
     "output_type": "stream",
     "text": [
      "Temos ao todo 300 combinações possíveis\n"
     ]
    }
   ],
   "source": [
    "#Dicionário com todos os parâmetros para o grid search\n",
    "param_grid = dict(knn__n_neighbors = n_k_grid, \n",
    "                  knn__weights = pesos_opc_grid, \n",
    "                  knn__metric = metricas_distancia_grid)\n",
    "\n",
    "#Todas as combinações possíveis com intertools.product\n",
    "all_combinations = list(itertools.product(n_k_grid, pesos_opc_grid, metricas_distancia_grid))\n",
    "\n",
    "print(f'Temos ao todo {len(all_combinations)} combinações possíveis')"
   ]
  },
  {
   "cell_type": "code",
   "execution_count": 8,
   "metadata": {},
   "outputs": [],
   "source": [
    "#Lista que guardará a acurácia de treino, validação e os parâmetros associados a elas\n",
    "accuracy_grid = []\n",
    "y_val_true= y_val\n",
    "\n",
    "\n",
    "#Acurácia do modelo em treino e validação em todas as combinações de parâmetros possíveis\n",
    "for combination in list(ParameterGrid(param_grid)):\n",
    "    \n",
    "    knn = KNeighborsClassifier(n_neighbors= combination['knn__n_neighbors'], \n",
    "                              weights= combination['knn__weights'],\n",
    "                              metric= combination['knn__metric'])\n",
    "    \n",
    "    knn.fit(X_train, y_train)\n",
    "    \n",
    "    y_train_pred = knn.predict(X_train)    \n",
    "    y_val_pred = knn.predict(X_val)\n",
    "    \n",
    "    accuracy_train = accuracy_score(y_train_pred, y_train)\n",
    "    accuracy_val = accuracy_score(y_val_pred, y_val)\n",
    "\n",
    "    \n",
    "    accuracy_grid.append([accuracy_train, accuracy_val, combination])"
   ]
  },
  {
   "cell_type": "code",
   "execution_count": 9,
   "metadata": {},
   "outputs": [
    {
     "name": "stdout",
     "output_type": "stream",
     "text": [
      "Train Accuracy: 1.0\n",
      "Validation Accuracy: 0.8061224489795918\n",
      "Parameters: [{'knn__metric': 'manhattan', 'knn__n_neighbors': 6, 'knn__weights': 'distance'}]\n"
     ]
    }
   ],
   "source": [
    "#Dataframe com todas as acurácias de treino e validação para todos os parâmetros testados\n",
    "df_accuracy_grid= pd.DataFrame(accuracy_grid, columns= ['train_accuracy', 'val_accuracy', 'parameters'])\n",
    "\n",
    "#Melhores acurácias de treino e validação e seus parâmetros\n",
    "best_parameters= df_accuracy_grid.sort_values(by= 'val_accuracy', ascending= False).head(1)\n",
    "train_accuracy= best_parameters['train_accuracy'].values[0]\n",
    "val_accuracy= best_parameters['val_accuracy'].values[0]\n",
    "parameters= best_parameters['parameters'].values\n",
    "\n",
    "print(f'Train Accuracy: {train_accuracy}')\n",
    "print(f'Validation Accuracy: {val_accuracy}')\n",
    "print(f'Parameters: {parameters}')"
   ]
  },
  {
   "cell_type": "markdown",
   "metadata": {},
   "source": [
    "RandomSearch"
   ]
  },
  {
   "cell_type": "code",
   "execution_count": 10,
   "metadata": {},
   "outputs": [],
   "source": [
    "#Crie a rede de parâmetros para o random search (varie métrica de distância, \n",
    "#                                                número de vizinhos e pesos de votação). Use  50  iterações;\n",
    "\n",
    "\n",
    "n_k_random= list(range(1, 101))\n",
    "\n",
    "metricas_distancia_random= ['euclidean', 'chebyshev']\n",
    "\n",
    "pesos_opc_random = ['uniform', 'distance']\n",
    "\n",
    "\n",
    "#Dicionário com todos os parâmetros para o random search\n",
    "param_random = dict(knn__n_neighbors = n_k_random, \n",
    "                  knn__weights = pesos_opc_random,\n",
    "                  knn__metric= metricas_distancia_random\n",
    "                 )"
   ]
  },
  {
   "cell_type": "code",
   "execution_count": 11,
   "metadata": {},
   "outputs": [],
   "source": [
    "#Lista que guardará as acurácias de treino e validação e os parametros associados a elas no random\n",
    "accuracy_random = []\n",
    "\n",
    "y_val_true= y_val\n",
    "\n",
    "for i in range (1, 100):\n",
    "    combination= random.choice(list(ParameterGrid(param_random)))\n",
    "    \n",
    "    knn = KNeighborsClassifier(n_neighbors= combination['knn__n_neighbors'], \n",
    "                              weights= combination['knn__weights'],\n",
    "                              metric= combination['knn__metric'])\n",
    "    \n",
    "    knn = KNeighborsClassifier()\n",
    "    knn.fit(X_train, y_train)\n",
    "    y_val_calc = knn.predict(X_train)    \n",
    "    y_val_pred = knn.predict(X_val)\n",
    "    \n",
    "    accuracy_train = accuracy_score(y_val_calc, y_train)\n",
    "    accuracy_val = accuracy_score(y_val_pred, y_val)\n",
    "\n",
    "   \n",
    "    accuracy_random.append([accuracy_train, accuracy_val, combination])"
   ]
  },
  {
   "cell_type": "code",
   "execution_count": 12,
   "metadata": {},
   "outputs": [
    {
     "name": "stdout",
     "output_type": "stream",
     "text": [
      "Train Accuracy: 0.7906137184115524\n",
      "Validation Accuracy: 0.7551020408163265\n",
      "Parameters: [{'knn__metric': 'chebyshev', 'knn__n_neighbors': 5, 'knn__weights': 'uniform'}]\n"
     ]
    }
   ],
   "source": [
    "#Dataframe com todas as acurácias de treino e validação para todos os parâmetros testados\n",
    "df_accuracy_random= pd.DataFrame(accuracy_random, columns= ['train_accuracy', 'val_accuracy', 'parameters'])\n",
    "\n",
    "#Melhores acurácias de treino e validação e seus parâmetros\n",
    "best_parameters= df_accuracy_random.sort_values(by= 'val_accuracy', ascending= False).head(1)\n",
    "train_accuracy= best_parameters['train_accuracy'].values[0]\n",
    "val_accuracy= best_parameters['val_accuracy'].values[0]\n",
    "parameters= best_parameters['parameters'].values\n",
    "\n",
    "print(f'Train Accuracy: {train_accuracy}')\n",
    "print(f'Validation Accuracy: {val_accuracy}')\n",
    "print(f'Parameters: {parameters}')"
   ]
  },
  {
   "cell_type": "markdown",
   "metadata": {},
   "source": [
    "Combinação de parâmetros com melhor performance foi do Grid com 80% de acurácia no conjunto de validação."
   ]
  },
  {
   "cell_type": "markdown",
   "metadata": {
    "id": "-EjpUIjYDvDB"
   },
   "source": [
    "# Exercício 2 - Cross Validation"
   ]
  },
  {
   "cell_type": "markdown",
   "metadata": {
    "id": "tTizZvmvDvDB"
   },
   "source": [
    "#### Reaproveitando os passos $1, 2, 3, 4$ do tópico $2$, realize as validações cruzadas com `Grid Search` e `Random Search`. Lembre de imprimir os melhores parâmetros e a prontuação (`score`) obtida."
   ]
  },
  {
   "cell_type": "markdown",
   "metadata": {},
   "source": [
    "GridSearchCV"
   ]
  },
  {
   "cell_type": "code",
   "execution_count": 13,
   "metadata": {},
   "outputs": [
    {
     "data": {
      "text/plain": [
       "GridSearchCV(cv=StratifiedKFold(n_splits=10, random_state=42, shuffle=True),\n",
       "             estimator=Pipeline(steps=[('pre_processor', MinMaxScaler()),\n",
       "                                       ('knn', KNeighborsClassifier())]),\n",
       "             param_grid={'knn__metric': ['euclidean', 'manhattan', 'chebyshev'],\n",
       "                         'knn__n_neighbors': [1, 2, 3, 4, 5, 6, 7, 8, 9, 10, 11,\n",
       "                                              12, 13, 14, 15, 16, 17, 18, 19,\n",
       "                                              20, 21, 22, 23, 24, 25, 26, 27,\n",
       "                                              28, 29, 30, ...],\n",
       "                         'knn__weights': ['uniform', 'distance']},\n",
       "             scoring='neg_log_loss')"
      ]
     },
     "execution_count": 13,
     "metadata": {},
     "output_type": "execute_result"
    }
   ],
   "source": [
    "#Instanciando objeto grid realizando o pipeline_knn, com todas as combinações de parâmetros possíveis em param_grid \n",
    "# e realizando a estritificação cruzada definida em skf.\n",
    "grid = GridSearchCV(pipeline_knn,\n",
    "                    param_grid= param_grid, \n",
    "                    cv = skf, \n",
    "                    scoring = 'neg_log_loss'\n",
    "                   )\n",
    "#Ajustando dados de treino ao grid\n",
    "grid.fit(X_train, y_train)"
   ]
  },
  {
   "cell_type": "code",
   "execution_count": 14,
   "metadata": {
    "id": "9t3x6FLxDvDB"
   },
   "outputs": [
    {
     "name": "stdout",
     "output_type": "stream",
     "text": [
      "GRID:\n",
      "\n",
      "Score ----> -0.5102263386078122\n",
      "Parâmetros com melhor performance: {'knn__metric': 'manhattan', 'knn__n_neighbors': 35, 'knn__weights': 'distance'}\n"
     ]
    }
   ],
   "source": [
    "#Score e melhores parâmetros do Grid\n",
    "print('GRID:')\n",
    "print()\n",
    "print(f'Score ----> {grid.best_score_}')\n",
    "print(f'Parâmetros com melhor performance: {grid.best_params_}')"
   ]
  },
  {
   "cell_type": "markdown",
   "metadata": {},
   "source": [
    "RandomSearchCV"
   ]
  },
  {
   "cell_type": "code",
   "execution_count": 15,
   "metadata": {},
   "outputs": [
    {
     "data": {
      "text/plain": [
       "RandomizedSearchCV(cv=StratifiedKFold(n_splits=10, random_state=42, shuffle=True),\n",
       "                   estimator=Pipeline(steps=[('pre_processor', MinMaxScaler()),\n",
       "                                             ('knn', KNeighborsClassifier())]),\n",
       "                   n_iter=50,\n",
       "                   param_distributions={'knn__metric': ['euclidean',\n",
       "                                                        'chebyshev'],\n",
       "                                        'knn__n_neighbors': [1, 2, 3, 4, 5, 6,\n",
       "                                                             7, 8, 9, 10, 11,\n",
       "                                                             12, 13, 14, 15, 16,\n",
       "                                                             17, 18, 19, 20, 21,\n",
       "                                                             22, 23, 24, 25, 26,\n",
       "                                                             27, 28, 29, 30, ...],\n",
       "                                        'knn__weights': ['uniform',\n",
       "                                                         'distance']},\n",
       "                   scoring='neg_log_loss')"
      ]
     },
     "execution_count": 15,
     "metadata": {},
     "output_type": "execute_result"
    }
   ],
   "source": [
    "random = RandomizedSearchCV(estimator= pipeline_knn,\n",
    "                   param_distributions= param_random, \n",
    "                    cv = skf, \n",
    "                    scoring = 'neg_log_loss',\n",
    "                    n_iter= 50\n",
    "                   )\n",
    "#Ajustando dados de treino ao random\n",
    "random.fit(X_train, y_train)"
   ]
  },
  {
   "cell_type": "code",
   "execution_count": 16,
   "metadata": {},
   "outputs": [
    {
     "name": "stdout",
     "output_type": "stream",
     "text": [
      "RANDOM:\n",
      "\n",
      "Score ----> -0.5234792868634808\n",
      "Parâmetros com melhor performance: {'knn__weights': 'distance', 'knn__n_neighbors': 49, 'knn__metric': 'euclidean'}\n"
     ]
    }
   ],
   "source": [
    "#Score e melhores parâmetros do Random\n",
    "print('RANDOM:')\n",
    "print()\n",
    "print(f'Score ----> {random.best_score_}')\n",
    "print(f'Parâmetros com melhor performance: {random.best_params_}')"
   ]
  },
  {
   "cell_type": "markdown",
   "metadata": {},
   "source": [
    "Como estamos lidando com um métrica que mede o erro, quanto menor melhor. Neste caso estamos usando a métrica neg_log_loss que nos retorna números negativos. Portanto, quanto maior o valor absoluto retornado, porque está em negativo, melhor é o score da combinação de parâmetros em questão."
   ]
  },
  {
   "cell_type": "code",
   "execution_count": 17,
   "metadata": {},
   "outputs": [],
   "source": [
    "#Instanciando random search pipeline com a melhor combinação de parâmetros\n",
    "melhor_knn= random.best_estimator_"
   ]
  },
  {
   "cell_type": "code",
   "execution_count": 18,
   "metadata": {},
   "outputs": [
    {
     "data": {
      "text/plain": [
       "Pipeline(steps=[('pre_processor', MinMaxScaler()),\n",
       "                ('knn',\n",
       "                 KNeighborsClassifier(metric='euclidean', n_neighbors=49,\n",
       "                                      weights='distance'))])"
      ]
     },
     "execution_count": 18,
     "metadata": {},
     "output_type": "execute_result"
    }
   ],
   "source": [
    "#Ajustando modelo aos dados de treino\n",
    "melhor_knn.fit(X_train, \n",
    "             y_train\n",
    "            )"
   ]
  },
  {
   "cell_type": "code",
   "execution_count": 19,
   "metadata": {},
   "outputs": [],
   "source": [
    "#Predição no conjunto de teste\n",
    "y_pred_test= melhor_knn.predict(X_test)"
   ]
  },
  {
   "cell_type": "code",
   "execution_count": 20,
   "metadata": {},
   "outputs": [
    {
     "data": {
      "text/plain": [
       "0.7931034482758621"
      ]
     },
     "execution_count": 20,
     "metadata": {},
     "output_type": "execute_result"
    }
   ],
   "source": [
    "#Acurácia de teste\n",
    "accuracy_score(y_pred_test, y_test)"
   ]
  },
  {
   "cell_type": "markdown",
   "metadata": {
    "id": "dGfoBs8YDvDC"
   },
   "source": [
    "#### Avalie a performance no treino e na validação"
   ]
  },
  {
   "cell_type": "markdown",
   "metadata": {
    "id": "lmtTgtKEDvDC"
   },
   "source": [
    "#### OBS: Não estamos preocupado com performance. A ideia é exercitar a construção desses `steps`. O `dataset` não é tão grande e podemos sofrer com isso."
   ]
  },
  {
   "cell_type": "code",
   "execution_count": 21,
   "metadata": {},
   "outputs": [
    {
     "name": "stdout",
     "output_type": "stream",
     "text": [
      "Acurácia no treino: 1.0\n",
      "Acurácia na validação: 0.7448979591836735\n"
     ]
    }
   ],
   "source": [
    "#Predição no conjunto de treino e validação\n",
    "y_pred_train= melhor_knn.predict(X_train)\n",
    "y_pred_val= melhor_knn.predict(X_val)\n",
    "\n",
    "#Acurácias nos conjuntos de treino e de validação\n",
    "acuracia_treino= accuracy_score(y_pred_train, y_train)\n",
    "acuracia_val= accuracy_score(y_pred_val, y_val)\n",
    "\n",
    "print(f'Acurácia no treino: {acuracia_treino}')\n",
    "print(f'Acurácia na validação: {acuracia_val}')"
   ]
  },
  {
   "cell_type": "markdown",
   "metadata": {},
   "source": [
    "Vemos que temos um overffiting, isto é, o modelo entendeu muito bem a dinâmica do conjunto de treino e previu com 100% de acurácia tal conjunto. Porém, como era de se esperar, sua performance diminui quando é apresentado a conjuntos diferentes como o de teste e de validação. \n",
    "Contudo, não temos uma acurácia tão ruim assim, sendo a de teste 79% e de validação 74%."
   ]
  }
 ],
 "metadata": {
  "colab": {
   "name": "DSTN07 - Otimização II (Prática Independente).ipynb",
   "provenance": []
  },
  "kernelspec": {
   "display_name": "Python 3",
   "language": "python",
   "name": "python3"
  },
  "language_info": {
   "codemirror_mode": {
    "name": "ipython",
    "version": 3
   },
   "file_extension": ".py",
   "mimetype": "text/x-python",
   "name": "python",
   "nbconvert_exporter": "python",
   "pygments_lexer": "ipython3",
   "version": "3.8.3"
  },
  "toc": {
   "base_numbering": 1,
   "nav_menu": {},
   "number_sections": true,
   "sideBar": true,
   "skip_h1_title": false,
   "title_cell": "Table of Contents",
   "title_sidebar": "Contents",
   "toc_cell": false,
   "toc_position": {},
   "toc_section_display": true,
   "toc_window_display": false
  }
 },
 "nbformat": 4,
 "nbformat_minor": 4
}
