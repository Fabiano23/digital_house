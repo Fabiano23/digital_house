{
 "cells": [
  {
   "cell_type": "markdown",
   "metadata": {},
   "source": [
    "## Limitações na Seleção de Conjuntos de Dados e a Importância da Validação Cruzada"
   ]
  },
  {
   "cell_type": "markdown",
   "metadata": {},
   "source": [
    "#### Neste notebook observaremos como a escolha do conjunto treino e teste para calibração e validação de modelos pode ter um papel fundamental na performance do modelo. O método de validação cruzada (Cross-Validation, CV) será apresentado como uma forma mais criteriosa para estimar a real capacidade de generalização de modelos na predição de novos dados."
   ]
  },
  {
   "cell_type": "markdown",
   "metadata": {},
   "source": [
    "### Importando bibliotecas básicas de trabalho"
   ]
  },
  {
   "cell_type": "code",
   "execution_count": 124,
   "metadata": {},
   "outputs": [],
   "source": [
    "import pandas as pd\n",
    "import numpy as np\n",
    "import matplotlib.pyplot as plt"
   ]
  },
  {
   "cell_type": "markdown",
   "metadata": {},
   "source": [
    "#### Para esta atividade, trabalharemos com uma amostra reduzida da base de dados de preços de casas em boston, disponível no scikitlearn. A redução desta base é uma tentativa de reproduzir um conjunto comumente encontrado em problemas reais do dia-a-dia de um cientista de dados, em que a qualidade e disponibilidade de dados é em muitos casos limitada."
   ]
  },
  {
   "cell_type": "markdown",
   "metadata": {},
   "source": [
    "### Importando a base de estudo"
   ]
  },
  {
   "cell_type": "code",
   "execution_count": 125,
   "metadata": {},
   "outputs": [],
   "source": [
    "from sklearn.datasets import load_boston"
   ]
  },
  {
   "cell_type": "code",
   "execution_count": 126,
   "metadata": {},
   "outputs": [],
   "source": [
    "boston = load_boston()"
   ]
  },
  {
   "cell_type": "code",
   "execution_count": 127,
   "metadata": {},
   "outputs": [
    {
     "name": "stdout",
     "output_type": "stream",
     "text": [
      ".. _boston_dataset:\n",
      "\n",
      "Boston house prices dataset\n",
      "---------------------------\n",
      "\n",
      "**Data Set Characteristics:**  \n",
      "\n",
      "    :Number of Instances: 506 \n",
      "\n",
      "    :Number of Attributes: 13 numeric/categorical predictive. Median Value (attribute 14) is usually the target.\n",
      "\n",
      "    :Attribute Information (in order):\n",
      "        - CRIM     per capita crime rate by town\n",
      "        - ZN       proportion of residential land zoned for lots over 25,000 sq.ft.\n",
      "        - INDUS    proportion of non-retail business acres per town\n",
      "        - CHAS     Charles River dummy variable (= 1 if tract bounds river; 0 otherwise)\n",
      "        - NOX      nitric oxides concentration (parts per 10 million)\n",
      "        - RM       average number of rooms per dwelling\n",
      "        - AGE      proportion of owner-occupied units built prior to 1940\n",
      "        - DIS      weighted distances to five Boston employment centres\n",
      "        - RAD      index of accessibility to radial highways\n",
      "        - TAX      full-value property-tax rate per $10,000\n",
      "        - PTRATIO  pupil-teacher ratio by town\n",
      "        - B        1000(Bk - 0.63)^2 where Bk is the proportion of blacks by town\n",
      "        - LSTAT    % lower status of the population\n",
      "        - MEDV     Median value of owner-occupied homes in $1000's\n",
      "\n",
      "    :Missing Attribute Values: None\n",
      "\n",
      "    :Creator: Harrison, D. and Rubinfeld, D.L.\n",
      "\n",
      "This is a copy of UCI ML housing dataset.\n",
      "https://archive.ics.uci.edu/ml/machine-learning-databases/housing/\n",
      "\n",
      "\n",
      "This dataset was taken from the StatLib library which is maintained at Carnegie Mellon University.\n",
      "\n",
      "The Boston house-price data of Harrison, D. and Rubinfeld, D.L. 'Hedonic\n",
      "prices and the demand for clean air', J. Environ. Economics & Management,\n",
      "vol.5, 81-102, 1978.   Used in Belsley, Kuh & Welsch, 'Regression diagnostics\n",
      "...', Wiley, 1980.   N.B. Various transformations are used in the table on\n",
      "pages 244-261 of the latter.\n",
      "\n",
      "The Boston house-price data has been used in many machine learning papers that address regression\n",
      "problems.   \n",
      "     \n",
      ".. topic:: References\n",
      "\n",
      "   - Belsley, Kuh & Welsch, 'Regression diagnostics: Identifying Influential Data and Sources of Collinearity', Wiley, 1980. 244-261.\n",
      "   - Quinlan,R. (1993). Combining Instance-Based and Model-Based Learning. In Proceedings on the Tenth International Conference of Machine Learning, 236-243, University of Massachusetts, Amherst. Morgan Kaufmann.\n",
      "\n"
     ]
    }
   ],
   "source": [
    "print(boston.DESCR)"
   ]
  },
  {
   "cell_type": "markdown",
   "metadata": {},
   "source": [
    "#### Após carregarmos a base completa, podemos gerar um sub-conjunto a partir do seguinte comando:"
   ]
  },
  {
   "cell_type": "code",
   "execution_count": 128,
   "metadata": {},
   "outputs": [],
   "source": [
    "df = pd.concat([pd.DataFrame(boston.data, columns = boston.feature_names), \n",
    "                pd.DataFrame(boston.target, columns = ['MEDV'])], \n",
    "               axis = 1\n",
    "              ).sample(100, random_state = 0).reset_index(drop = True)"
   ]
  },
  {
   "cell_type": "markdown",
   "metadata": {},
   "source": [
    "### Análise da variável resposta"
   ]
  },
  {
   "cell_type": "markdown",
   "metadata": {},
   "source": [
    "#### Em seguida, podemos avaliar a distribuição da variável resposta correspondente aos valores de propriedades (MEDV)."
   ]
  },
  {
   "cell_type": "code",
   "execution_count": 129,
   "metadata": {},
   "outputs": [
    {
     "data": {
      "image/png": "[encoded data removed]",
      "text/plain": [
       "<Figure size 1152x432 with 2 Axes>"
      ]
     },
     "metadata": {
      "needs_background": "light"
     },
     "output_type": "display_data"
    }
   ],
   "source": [
    "fig, ax = plt.subplots(1, \n",
    "                       2, \n",
    "                       figsize = (16, 6)\n",
    "                      )\n",
    "df['MEDV'].hist(bins = 20, \n",
    "                ax = ax[0]\n",
    "               )\n",
    "ax[0].set(xlabel = 'valor', \n",
    "          ylabel = 'observacoes'\n",
    "         )\n",
    "ax[1] = plt.scatter(df['MEDV'], \n",
    "                    df['MEDV'], \n",
    "                    s = 5\n",
    "                   )\n",
    "plt.xlabel('valor')\n",
    "plt.ylabel('valor');"
   ]
  },
  {
   "cell_type": "markdown",
   "metadata": {},
   "source": [
    "## Modelo Preditivo"
   ]
  },
  {
   "cell_type": "markdown",
   "metadata": {},
   "source": [
    "#### Nesta etapa, vamos gerar rapidamente um modelo preditivo e avaliar sua performance. Como uma opção para problemas supervisionados de regressão, escolhemos para este exemplo o algorítmo de árvores de decisão."
   ]
  },
  {
   "cell_type": "code",
   "execution_count": 130,
   "metadata": {},
   "outputs": [],
   "source": [
    "from sklearn.tree import DecisionTreeRegressor\n",
    "from sklearn.model_selection import train_test_split\n",
    "from sklearn import metrics"
   ]
  },
  {
   "cell_type": "markdown",
   "metadata": {},
   "source": [
    "Em seguida, podemos gerar uma função que gera e avalia modelos com o algoritmo selecionado. Como métrica de avaliação, escolhemos avaliar o erro médio absolute (absolute mean error, MAE)."
   ]
  },
  {
   "cell_type": "code",
   "execution_count": 131,
   "metadata": {},
   "outputs": [],
   "source": [
    "def pred_price(df):\n",
    "    # separando o conjunto total em conjunto treino e teste\n",
    "    X_train, X_test, y_train, y_test = train_test_split(df.drop(['MEDV'], axis=1), \n",
    "                                                        df['MEDV'], \n",
    "                                                        test_size = 0.3\n",
    "                                                       )\n",
    "    # definindo o modelo\n",
    "    model = DecisionTreeRegressor()\n",
    "    # otimizando os hiperparâmetros do modelo\n",
    "    model.fit(X_train, y_train)\n",
    "    # avaliando o modelo gerado\n",
    "    y_pred = model.predict(X_test)\n",
    "    return metrics.mean_absolute_error(y_test, y_pred)"
   ]
  },
  {
   "cell_type": "markdown",
   "metadata": {},
   "source": [
    "#### Agora, com a nossa função concluída, vamos rodar o modelo:"
   ]
  },
  {
   "cell_type": "code",
   "execution_count": 132,
   "metadata": {},
   "outputs": [
    {
     "data": {
      "text/plain": [
       "4.0233333333333325"
      ]
     },
     "execution_count": 132,
     "metadata": {},
     "output_type": "execute_result"
    }
   ],
   "source": [
    "pred_price(df)"
   ]
  },
  {
   "cell_type": "markdown",
   "metadata": {},
   "source": [
    "#### Talvez você tenha observado um valor muito diferente do apresentado acima. Vamos rodar o modelo novamente!"
   ]
  },
  {
   "cell_type": "code",
   "execution_count": 133,
   "metadata": {},
   "outputs": [
    {
     "data": {
      "text/plain": [
       "3.5"
      ]
     },
     "execution_count": 133,
     "metadata": {},
     "output_type": "execute_result"
    }
   ],
   "source": [
    "pred_price(df)"
   ]
  },
  {
   "cell_type": "markdown",
   "metadata": {},
   "source": [
    "#### E novamente."
   ]
  },
  {
   "cell_type": "code",
   "execution_count": 134,
   "metadata": {},
   "outputs": [
    {
     "data": {
      "text/plain": [
       "3.89"
      ]
     },
     "execution_count": 134,
     "metadata": {},
     "output_type": "execute_result"
    }
   ],
   "source": [
    "pred_price(df)"
   ]
  },
  {
   "cell_type": "markdown",
   "metadata": {},
   "source": [
    "#### E uma última vez."
   ]
  },
  {
   "cell_type": "code",
   "execution_count": 135,
   "metadata": {},
   "outputs": [
    {
     "data": {
      "text/plain": [
       "4.5666666666666655"
      ]
     },
     "execution_count": 135,
     "metadata": {},
     "output_type": "execute_result"
    }
   ],
   "source": [
    "pred_price(df)"
   ]
  },
  {
   "cell_type": "markdown",
   "metadata": {},
   "source": [
    "##### Comparando os valores obtidos em cada rodada, podemos observar que o valor de MAE obtido muda drasticamente em cada rodada.\n",
    "\n",
    "- O quanto esta variação é relevante em comparação à distribuição de valores?\n",
    "- O que será que está acontecendo com o modelo? Qual a razão de tal variação?"
   ]
  },
  {
   "cell_type": "markdown",
   "metadata": {},
   "source": [
    "#### Para responder a primeira pergunta, podemos primeiramente obter uma estatística mais rebusta da variação da performance do modelo"
   ]
  },
  {
   "cell_type": "code",
   "execution_count": 136,
   "metadata": {},
   "outputs": [],
   "source": [
    "a = []\n",
    "for i in range(100):\n",
    "    a.append(pred_price(df))"
   ]
  },
  {
   "cell_type": "code",
   "execution_count": 137,
   "metadata": {},
   "outputs": [
    {
     "data": {
      "image/png": "[encoded data removed]",
      "text/plain": [
       "<Figure size 1152x360 with 1 Axes>"
      ]
     },
     "metadata": {
      "needs_background": "light"
     },
     "output_type": "display_data"
    }
   ],
   "source": [
    "fig = plt.figure(figsize = (16, 5)\n",
    "                )\n",
    "plt.plot(a, 'o-')\n",
    "plt.plot(np.repeat(np.array(a).mean(), len(a)), \n",
    "         'r--'\n",
    "        )\n",
    "plt.xlabel('rodada')\n",
    "plt.ylabel('MAE');"
   ]
  },
  {
   "cell_type": "markdown",
   "metadata": {},
   "source": [
    "#### E comparar com a distribuição dos valores da variável resposta da base"
   ]
  },
  {
   "cell_type": "code",
   "execution_count": 138,
   "metadata": {},
   "outputs": [
    {
     "data": {
      "text/plain": [
       "count    100.000000\n",
       "mean      22.185000\n",
       "std        9.137086\n",
       "min        5.600000\n",
       "25%       17.075000\n",
       "50%       20.550000\n",
       "75%       23.825000\n",
       "max       50.000000\n",
       "Name: MEDV, dtype: float64"
      ]
     },
     "execution_count": 138,
     "metadata": {},
     "output_type": "execute_result"
    }
   ],
   "source": [
    "df['MEDV'].describe()"
   ]
  },
  {
   "cell_type": "markdown",
   "metadata": {},
   "source": [
    "#### Pelo gráfico gerado acima, podemos ver que o MAE obtido pelos modelos chega a ser tão alto quanto 7 unidades, que é  próximo do desvio padrão da própria distribuição do conjunto! Ou seja, a performance do modelo é bastante instável para termos uma solução aceitável. "
   ]
  },
  {
   "cell_type": "markdown",
   "metadata": {},
   "source": [
    "#### Porém, se tivessemos limitado nosso estudo a pegar somente o primeiro resultado de validação esterna deste conjunto, possívelmente poderiamos ter sido enganados por um valor baixo de MAE, que nos indicaria um 'bom modelo' para aplicação."
   ]
  },
  {
   "cell_type": "markdown",
   "metadata": {},
   "source": [
    "#### Finalmente, para responder a segunda pergunta, podemos observar novamente a distribuição do conjunto de dados inicial"
   ]
  },
  {
   "cell_type": "code",
   "execution_count": 139,
   "metadata": {},
   "outputs": [
    {
     "data": {
      "image/png": "[encoded data removed]",
      "text/plain": [
       "<Figure size 1152x360 with 1 Axes>"
      ]
     },
     "metadata": {
      "needs_background": "light"
     },
     "output_type": "display_data"
    }
   ],
   "source": [
    "fig = plt.figure(figsize = (16, 5)\n",
    "                )\n",
    "plt.scatter(df['MEDV'], \n",
    "            df['MEDV'], \n",
    "            s = 8\n",
    "           )\n",
    "plt.xlabel('valor')\n",
    "plt.ylabel('valor');"
   ]
  },
  {
   "cell_type": "markdown",
   "metadata": {},
   "source": [
    "#### Nesta distribuição de valores de casas (MEDV), podemos observar uma escasses de observações em certas regiões. Como discutido em sala de aula (ver slides), esta situação pode explicar em uma grande variação na performance do modelo pelo fato de que ao selecionarmos aleatoriamente o conjunto teste e treino, podemos gerar distribuições muito distintas. \n",
    "\n",
    "##### Este fato faz com que, por exemplo, algumas amostras no conjunto teste não possuam um representante similar no conjunto treino. Em outras palavras, podemos gerar distribuições no conjunto treino que não são representativas da distribuição inicial."
   ]
  },
  {
   "cell_type": "markdown",
   "metadata": {},
   "source": [
    "## Validação Cruzada"
   ]
  },
  {
   "cell_type": "markdown",
   "metadata": {},
   "source": [
    "#### Uma forma de obter uma estimativa de performance mais realista do modelo na predição da variável resposta em novas observações é a validação cruzada. Este método consiste em separar o conjunto treino em diversos subconjuntos treinos menores e rodar vários modelos alternando o papel dos subconjuntos como parte do treino ou como um conjunto teste interno (ver slides da aula). A validação cruzada permite avaliar a estabilidade e capacidade de generalização do modelo proposto."
   ]
  },
  {
   "cell_type": "markdown",
   "metadata": {},
   "source": [
    "#### Na etapa anterior, ao executar o modelo diversas vezes e obter uma estimativa da variação de performance e da performance média, já realizamos o tipo mais simples de validação externa: Sub-amostragem Repetitiva Aleatória. Este método consiste em selecionar aleatoriamente subconjuntos treino e teste e avaliar a performance de forma iterativa. Porém, como aprendemos em sala de aula, uma forma mais eficiente de validação cruzada consiste em separar o conjunto treino em K conjuntos de tamanhos iguais e avaliar a performance em todas as permutações possíveis, em um processo conhecido como K-fold (ver slides da aula)."
   ]
  },
  {
   "cell_type": "markdown",
   "metadata": {},
   "source": [
    "#### Para avaliar o modelo utilizando o método K-fold, podemos inicialmente quebrar o conjunto de dados em treino e teste. Ao conjunto teste que não entrará no processo de validação cruzada podemos dar o nome de conjunto Hold-Out."
   ]
  },
  {
   "cell_type": "code",
   "execution_count": 140,
   "metadata": {},
   "outputs": [],
   "source": [
    "X_train, X_test, y_train, y_test = train_test_split(df.drop(['MEDV'], axis=1), \n",
    "                                                    df['MEDV'], \n",
    "                                                    test_size = 0.2, \n",
    "                                                    random_state = 0\n",
    "                                                   )"
   ]
  },
  {
   "cell_type": "markdown",
   "metadata": {},
   "source": [
    "Podemos então importar a função cross_val_score implementada no scikitlearn para gerar a análise de validação cruzada"
   ]
  },
  {
   "cell_type": "code",
   "execution_count": 141,
   "metadata": {},
   "outputs": [],
   "source": [
    "from sklearn.model_selection import cross_val_score"
   ]
  },
  {
   "cell_type": "markdown",
   "metadata": {},
   "source": [
    "#### E definir a função para executar este processo. Por consistência, continuaremos com a métrica de erro médio absoluto (MAE)."
   ]
  },
  {
   "cell_type": "code",
   "execution_count": 142,
   "metadata": {},
   "outputs": [],
   "source": [
    "def run_cv(X_train, y_train, k):\n",
    "    model = DecisionTreeRegressor()\n",
    "    \n",
    "    score = cross_val_score(model, \n",
    "                            X_train, \n",
    "                            y_train, \n",
    "                            scoring = 'neg_mean_absolute_error', \n",
    "                            cv = k\n",
    "                           )\n",
    "    return score*-1"
   ]
  },
  {
   "cell_type": "markdown",
   "metadata": {},
   "source": [
    "#### Vamos então gerar a analizar uma lista de resultados de performance para cada combinação do K-fold."
   ]
  },
  {
   "cell_type": "markdown",
   "metadata": {},
   "source": [
    "#### Primeiramente, quebrando a base de treino em 20 subconjuntos (K=20)"
   ]
  },
  {
   "cell_type": "code",
   "execution_count": 143,
   "metadata": {},
   "outputs": [
    {
     "name": "stdout",
     "output_type": "stream",
     "text": [
      "mean 5.25375\n",
      "std 2.706846354616383\n"
     ]
    }
   ],
   "source": [
    "score20 = run_cv(X_train, y_train, 20)\n",
    "print('mean', score20.mean())\n",
    "print('std', score20.std())"
   ]
  },
  {
   "cell_type": "code",
   "execution_count": 144,
   "metadata": {},
   "outputs": [
    {
     "data": {
      "image/png": "[encoded data removed]",
      "text/plain": [
       "<Figure size 1008x432 with 1 Axes>"
      ]
     },
     "metadata": {
      "needs_background": "light"
     },
     "output_type": "display_data"
    }
   ],
   "source": [
    "fig = plt.figure(figsize = (14,6))\n",
    "plt.bar(range(len(score20)), \n",
    "        score20\n",
    "       )\n",
    "plt.grid()\n",
    "plt.xlabel('Número do fold')\n",
    "plt.ylabel('MAE');"
   ]
  },
  {
   "cell_type": "markdown",
   "metadata": {},
   "source": [
    "#### Podemos observar uma grande variação nos valores de MAE obtidos para cada rodada. Isso significa que nosso modelo é muito instável. Como discutido em sala de aula, uma forma de aumentar a estabilidade de conjuntos de dados com baixa redundância é reduzir o número de K, aumentando o tamanho de cada subconjunto e maximizando a chance de ambos possuirem dados representativos em todas as regiões. Este processo um balanço entre aumento da estabilidade do modelo pela redução do K e diminuição da performance geral dos conjuntos treinos do K-fold, uma vez o total de amostras nos conjuntos treinos passa a ser menor."
   ]
  },
  {
   "cell_type": "markdown",
   "metadata": {},
   "source": [
    "#### Vamos testar a validação cruzada com k=10"
   ]
  },
  {
   "cell_type": "code",
   "execution_count": 145,
   "metadata": {},
   "outputs": [
    {
     "name": "stdout",
     "output_type": "stream",
     "text": [
      "mean 5.0575\n",
      "std 1.9368321429592188\n"
     ]
    }
   ],
   "source": [
    "score10 = run_cv(X_train, \n",
    "                 y_train, \n",
    "                 10\n",
    "                )\n",
    "print('mean', score10.mean())\n",
    "print('std', score10.std())"
   ]
  },
  {
   "cell_type": "code",
   "execution_count": 146,
   "metadata": {},
   "outputs": [
    {
     "data": {
      "image/png": "[encoded data removed]",
      "text/plain": [
       "<Figure size 1008x432 with 1 Axes>"
      ]
     },
     "metadata": {
      "needs_background": "light"
     },
     "output_type": "display_data"
    }
   ],
   "source": [
    "fig = plt.figure(figsize = (14,6)\n",
    "                )\n",
    "plt.bar(range(len(score10)), \n",
    "        score10\n",
    "       )\n",
    "plt.grid()\n",
    "plt.xlabel('Número do fold')\n",
    "plt.ylabel('MAE');"
   ]
  },
  {
   "cell_type": "markdown",
   "metadata": {},
   "source": [
    "#### Testemos para $k = 5$."
   ]
  },
  {
   "cell_type": "code",
   "execution_count": 147,
   "metadata": {},
   "outputs": [
    {
     "name": "stdout",
     "output_type": "stream",
     "text": [
      "mean 4.4925\n",
      "std 1.2021946077902699\n"
     ]
    }
   ],
   "source": [
    "score5 = run_cv(X_train, \n",
    "                y_train, \n",
    "                5\n",
    "               )\n",
    "print('mean', score5.mean())\n",
    "print('std', score5.std())"
   ]
  },
  {
   "cell_type": "code",
   "execution_count": 148,
   "metadata": {},
   "outputs": [
    {
     "data": {
      "image/png": "[encoded data removed]",
      "text/plain": [
       "<Figure size 1008x432 with 1 Axes>"
      ]
     },
     "metadata": {
      "needs_background": "light"
     },
     "output_type": "display_data"
    }
   ],
   "source": [
    "fig = plt.figure(figsize = (14,6)\n",
    "                )\n",
    "plt.bar(range(len(score5)), \n",
    "        score5\n",
    "       )\n",
    "plt.grid()\n",
    "plt.xlabel('Número do fold')\n",
    "plt.ylabel('MAE');"
   ]
  },
  {
   "cell_type": "markdown",
   "metadata": {},
   "source": [
    "#### E reduzir mais ainda para $k = 2$."
   ]
  },
  {
   "cell_type": "code",
   "execution_count": 149,
   "metadata": {},
   "outputs": [
    {
     "name": "stdout",
     "output_type": "stream",
     "text": [
      "mean 5.1525\n",
      "std 0.43000000000000105\n"
     ]
    }
   ],
   "source": [
    "score2 = run_cv(X_train, \n",
    "                y_train, \n",
    "                2\n",
    "               )\n",
    "print('mean', score2.mean())\n",
    "print('std', score2.std())"
   ]
  },
  {
   "cell_type": "code",
   "execution_count": 150,
   "metadata": {},
   "outputs": [
    {
     "data": {
      "image/png": "[encoded data removed]",
      "text/plain": [
       "<Figure size 1008x432 with 1 Axes>"
      ]
     },
     "metadata": {
      "needs_background": "light"
     },
     "output_type": "display_data"
    }
   ],
   "source": [
    "fig = plt.figure(figsize = (14,6) )\n",
    "plt.bar(range(len(score2)), \n",
    "        score2\n",
    "       )\n",
    "plt.grid()\n",
    "plt.xlabel('Número do fold')\n",
    "plt.ylabel('MAE');"
   ]
  },
  {
   "cell_type": "markdown",
   "metadata": {},
   "source": [
    "#### Podemos então comparar o desvio médio padrão (std) nas performances em cada valor de `k-fold`."
   ]
  },
  {
   "cell_type": "code",
   "execution_count": 151,
   "metadata": {},
   "outputs": [
    {
     "data": {
      "image/png": "[encoded data removed]",
      "text/plain": [
       "<Figure size 1008x432 with 1 Axes>"
      ]
     },
     "metadata": {
      "needs_background": "light"
     },
     "output_type": "display_data"
    }
   ],
   "source": [
    "fig = plt.figure(figsize=(14,6))\n",
    "plt.bar(range(4), [score20.std(),\n",
    "                   score10.std(),\n",
    "                   score5.std(),\n",
    "                   score2.std()]);\n",
    "plt.xticks(range(4), ('K=20', 'K=10', 'K=5', 'K=2')\n",
    "          )\n",
    "plt.xlabel('Validação Cruzada K-Fold')\n",
    "plt.ylabel('STD');"
   ]
  },
  {
   "cell_type": "markdown",
   "metadata": {},
   "source": [
    "#### Observando o gráfico acima, podemos notar que a partir da variação de performance na análise de K-fold para diferentes valores de K podemos encontrar a faixa de K em que o modelo apresenta a maior estabilidade possível dentro e ter uma ideia mais realista das limitações do modelo e do conjunto de dados para a construção de modelos preditivos "
   ]
  },
  {
   "cell_type": "markdown",
   "metadata": {},
   "source": [
    "## Leave-One-Out (LOO)"
   ]
  },
  {
   "cell_type": "markdown",
   "metadata": {},
   "source": [
    "#### Além de ser uma ferramenta poderosa para avaliar a estabilidade dos modelos preditivos, outra aplicação bastante útil da validação cruzada é a identificação de outliers no conjunto de dados. Ao ajustarmos o número de folds (o valor de K) para o número de elementos no conjunto, podemos identificar quais observações são mais difíceis de serem preditas pelo modelo quando as mesmas se encontram como conjunto teste na validação cruzada. \n",
    "\n",
    "#### O fato destas observações apresentarem um erro grande de predição pode ter como origem uma baixa sua baixíssima representatividade na distribuição de valores da variável resposta (talvez um erro de medida?) ou em uma região específica da distribuição de features."
   ]
  },
  {
   "cell_type": "markdown",
   "metadata": {},
   "source": [
    "#### Para tentarmos identificar outliers no nosso conjunto de dados, vamos utilizar a função que construímos (run_cv) para computar os erros de predição para um K-fold com valor de K correspondendo ao número de observações no nosso conjunto."
   ]
  },
  {
   "cell_type": "code",
   "execution_count": 152,
   "metadata": {},
   "outputs": [],
   "source": [
    "score_LOO = run_cv(X_train, y_train, X_train.shape[0])"
   ]
  },
  {
   "cell_type": "code",
   "execution_count": 153,
   "metadata": {},
   "outputs": [
    {
     "data": {
      "image/png": "[encoded data removed]",
      "text/plain": [
       "<Figure size 1008x432 with 1 Axes>"
      ]
     },
     "metadata": {
      "needs_background": "light"
     },
     "output_type": "display_data"
    }
   ],
   "source": [
    "fig = plt.figure(figsize = (14,6)\n",
    "                )\n",
    "plt.bar(range(len(score_LOO)), \n",
    "        score_LOO\n",
    "       )\n",
    "plt.xticks(np.arange(0, len(score_LOO)+1 , 4.0)\n",
    "          )\n",
    "plt.xlabel('Número do fold')\n",
    "plt.ylabel('MAE');"
   ]
  },
  {
   "cell_type": "markdown",
   "metadata": {},
   "source": [
    "#### A partir do gráfico acima mostrando os erros de predição para cada uma das observações como conjunto teste, podemos selecionar os folds com maior erro e identificar os valores de MEDV da variável resposta. No gráfico apresentado acima, os folds de maior erro de predição (maior MAE) são os folds 20 e 75"
   ]
  },
  {
   "cell_type": "markdown",
   "metadata": {},
   "source": [
    "#### Podemos gerar um novo conjunto treino excluindo estes 2 casos com MAE acima de 20 unidades."
   ]
  },
  {
   "cell_type": "code",
   "execution_count": 154,
   "metadata": {},
   "outputs": [],
   "source": [
    "X_train_filtered = X_train.iloc[np.where(score_LOO < 20)]\n",
    "y_train_filtered = y_train.iloc[np.where(score_LOO < 20)]"
   ]
  },
  {
   "cell_type": "code",
   "execution_count": 155,
   "metadata": {},
   "outputs": [
    {
     "name": "stdout",
     "output_type": "stream",
     "text": [
      "Observações da base original: 80\n",
      "Observações da base filtrada: 78\n"
     ]
    }
   ],
   "source": [
    "print('Observações da base original:', y_train.shape[0])\n",
    "print('Observações da base filtrada:', y_train_filtered.shape[0])"
   ]
  },
  {
   "cell_type": "markdown",
   "metadata": {},
   "source": [
    "#### Finalmente, a fim de avaliar o efeito destes potenciais outliers nos modelos preditivos, podemos executar novamente nosso estudo inicial com a funcão run_cv e comparar a performance média na presença ou ausência destas observações selecionadas"
   ]
  },
  {
   "cell_type": "code",
   "execution_count": 156,
   "metadata": {},
   "outputs": [
    {
     "name": "stdout",
     "output_type": "stream",
     "text": [
      "MAE para o conjunto original: 4.7627\n",
      "STD para o conjunto original: 1.6117\n"
     ]
    }
   ],
   "source": [
    "with_outliers = []\n",
    "for i in range(100):\n",
    "    with_outliers.append(run_cv(X_train, \n",
    "                                y_train, 10)\n",
    "                        )\n",
    "print('MAE para o conjunto original: %1.4f' % np.array(with_outliers).mean())\n",
    "print('STD para o conjunto original: %1.4f' % np.array(with_outliers).std())"
   ]
  },
  {
   "cell_type": "code",
   "execution_count": 157,
   "metadata": {},
   "outputs": [
    {
     "name": "stdout",
     "output_type": "stream",
     "text": [
      "MAE para o conjunto filtrado: 4.0477\n",
      "STD para o conjunto filtrado: 1.3067\n"
     ]
    }
   ],
   "source": [
    "no_outliers = []\n",
    "for i in range(100):\n",
    "    no_outliers.append(run_cv(X_train_filtered, \n",
    "                              y_train_filtered, \n",
    "                              10\n",
    "                             )\n",
    "                      )\n",
    "print('MAE para o conjunto filtrado: %1.4f' % np.array(no_outliers).mean())\n",
    "print('STD para o conjunto filtrado: %1.4f' % np.array(no_outliers).std())"
   ]
  },
  {
   "cell_type": "markdown",
   "metadata": {},
   "source": [
    "#### Comparando os resultados acima, podemos ver que a remoção de apenas 2 observações identificadas pelo método Leave-One-Out como possíveis outliers permite obtermos um modelo com melhor performance (menor MAE) e estabilidade (menor STD)."
   ]
  },
  {
   "cell_type": "markdown",
   "metadata": {},
   "source": [
    "## Estratificação"
   ]
  },
  {
   "cell_type": "markdown",
   "metadata": {},
   "source": [
    "#### Como vimos em sala de aula, a quebra de uma base de forma aleatória pode levar a sub-conjuntos com distribuições muito diferentes, principalmente quando a base de dados é escassa. \n",
    "\n",
    "#### Uma forma eficiente de tentarmos evitar este problema é a estratificação, que busca separar os subconjuntos da forma mais homogênea possível, com base em uma variável resposta (veja slides da aula)."
   ]
  },
  {
   "cell_type": "markdown",
   "metadata": {},
   "source": [
    "#### Estratificação: dividir o dataset em subgrupos homogêneos entre si, de forma a maximizar a similaridade das distribuições dos subconjuntos à distribuição do conjunto original."
   ]
  },
  {
   "cell_type": "markdown",
   "metadata": {},
   "source": [
    "##### Para separar subconjuntos, os métodos de estratificação distribuiem grupos de observações com a mesma variável resposta de forma a equilibrar os subconjuntos finais. Este método é bastante prático quando aplicado a problemas de classificação, em que as próprias categorias podem ser utilizadas como critério para construir os sub-conjuntos. \n",
    "\n",
    "#### Como o problema que enfrentamos neste estudo é um caso de regressão com uma variável resposta contínua, uma alternativa para aplicar o método de estratificação é gerar uma nova variável resposta segmentada por faixas de valores e utiliza-la como índice para agrupar a variável e finalmente gerarmos subconjutos balanceados."
   ]
  },
  {
   "cell_type": "markdown",
   "metadata": {},
   "source": [
    "#### Podemos testar esta estratégia na base original, para separar os conjuntos treino e teste "
   ]
  },
  {
   "cell_type": "code",
   "execution_count": 158,
   "metadata": {},
   "outputs": [],
   "source": [
    "df['FAIXA_VALOR'] = df['MEDV'].astype('O')\n",
    "\n",
    "df.loc[(df['MEDV'] <= 20), \n",
    "       'FAIXA_VALOR'] = 'baixo'\n",
    "\n",
    "df.loc[(df['MEDV'] > 20), \n",
    "       'FAIXA_VALOR'] = 'alto'\n",
    "\n",
    "# df.loc[(df['MEDV']<=10), 'FAIXA_VALOR'] = 'muito-baixo'\n",
    "# df.loc[(df['MEDV']>10) & (df['MEDV']<=20), 'FAIXA_VALOR'] = 'baixo'\n",
    "# df.loc[(df['MEDV']>20) & (df['MEDV']<=30), 'FAIXA_VALOR'] = 'medio'\n",
    "# df.loc[(df['MEDV']>30) & (df['MEDV']<40), 'FAIXA_VALOR'] = 'alto'\n",
    "# df.loc[(df['MEDV']>=40), 'FAIXA_VALOR'] = 'muito-alto'"
   ]
  },
  {
   "cell_type": "code",
   "execution_count": 159,
   "metadata": {},
   "outputs": [
    {
     "data": {
      "text/plain": [
       "alto     55\n",
       "baixo    45\n",
       "Name: FAIXA_VALOR, dtype: int64"
      ]
     },
     "execution_count": 159,
     "metadata": {},
     "output_type": "execute_result"
    }
   ],
   "source": [
    "df['FAIXA_VALOR'].value_counts()"
   ]
  },
  {
   "cell_type": "markdown",
   "metadata": {},
   "source": [
    "#### Partindo desta nova segmentação da distribuição da variável resposta, podemos comparar a performance dos modelos gerados no inicio desta prática (com a função pred_value) com a performance obtida incluindo a etapa de estratificação na construção dos conjuntos de dados."
   ]
  },
  {
   "cell_type": "markdown",
   "metadata": {},
   "source": [
    "#### Incluindo a opção de estratificação na função inicial `'pred_price'`."
   ]
  },
  {
   "cell_type": "code",
   "execution_count": 160,
   "metadata": {},
   "outputs": [],
   "source": [
    "def pred_price_strat(df, strat_label=None):\n",
    "    # separando o conjunto total em conjunto treino e teste\n",
    "    X_train, X_test, y_train, y_test = train_test_split(df.drop(['MEDV'], axis = 1),\n",
    "                                                        df['MEDV'],\n",
    "                                                        test_size = -.3,\n",
    "                                                        stratify = strat_label, \n",
    "                                                        random_state = 0\n",
    "                                                       )\n",
    "    # definindo o modelo\n",
    "    model = DecisionTreeRegressor()\n",
    "    # otimizando os hiperparâmetros do modelo\n",
    "    model.fit(X_train, y_train)\n",
    "    # avaliando o modelo gerado\n",
    "    y_pred = model.predict(X_test)\n",
    "    return metrics.mean_absolute_error(y_test, y_pred)"
   ]
  },
  {
   "cell_type": "markdown",
   "metadata": {},
   "source": [
    "#### Rodando os modelos sem estratificação."
   ]
  },
  {
   "cell_type": "code",
   "execution_count": 161,
   "metadata": {},
   "outputs": [
    {
     "ename": "ValueError",
     "evalue": "test_size=-0.3 should be either positive and smaller than the number of samples 100 or a float in the (0, 1) range",
     "output_type": "error",
     "traceback": [
      "\u001b[0;31m---------------------------------------------------------------------------\u001b[0m",
      "\u001b[0;31mValueError\u001b[0m                                Traceback (most recent call last)",
      "\u001b[0;32m<ipython-input-161-aaa7ed43be02>\u001b[0m in \u001b[0;36m<module>\u001b[0;34m\u001b[0m\n\u001b[1;32m      2\u001b[0m \u001b[0mwith_strat\u001b[0m \u001b[0;34m=\u001b[0m \u001b[0;34m[\u001b[0m\u001b[0;34m]\u001b[0m\u001b[0;34m\u001b[0m\u001b[0;34m\u001b[0m\u001b[0m\n\u001b[1;32m      3\u001b[0m \u001b[0;32mfor\u001b[0m \u001b[0mi\u001b[0m \u001b[0;32min\u001b[0m \u001b[0mrange\u001b[0m\u001b[0;34m(\u001b[0m\u001b[0;36m100\u001b[0m\u001b[0;34m)\u001b[0m\u001b[0;34m:\u001b[0m\u001b[0;34m\u001b[0m\u001b[0;34m\u001b[0m\u001b[0m\n\u001b[0;32m----> 4\u001b[0;31m     no_strat.append(pred_price_strat(df.drop('FAIXA_VALOR', axis = 1)\n\u001b[0m\u001b[1;32m      5\u001b[0m                                     )\n\u001b[1;32m      6\u001b[0m                    )\n",
      "\u001b[0;32m<ipython-input-160-142ddba0c70c>\u001b[0m in \u001b[0;36mpred_price_strat\u001b[0;34m(df, strat_label)\u001b[0m\n\u001b[1;32m      5\u001b[0m                                                         \u001b[0mtest_size\u001b[0m \u001b[0;34m=\u001b[0m \u001b[0;34m-\u001b[0m\u001b[0;36m.3\u001b[0m\u001b[0;34m,\u001b[0m\u001b[0;34m\u001b[0m\u001b[0;34m\u001b[0m\u001b[0m\n\u001b[1;32m      6\u001b[0m                                                         \u001b[0mstratify\u001b[0m \u001b[0;34m=\u001b[0m \u001b[0mstrat_label\u001b[0m\u001b[0;34m,\u001b[0m\u001b[0;34m\u001b[0m\u001b[0;34m\u001b[0m\u001b[0m\n\u001b[0;32m----> 7\u001b[0;31m                                                         \u001b[0mrandom_state\u001b[0m \u001b[0;34m=\u001b[0m \u001b[0;36m0\u001b[0m\u001b[0;34m\u001b[0m\u001b[0;34m\u001b[0m\u001b[0m\n\u001b[0m\u001b[1;32m      8\u001b[0m                                                        )\n\u001b[1;32m      9\u001b[0m     \u001b[0;31m# definindo o modelo\u001b[0m\u001b[0;34m\u001b[0m\u001b[0;34m\u001b[0m\u001b[0;34m\u001b[0m\u001b[0m\n",
      "\u001b[0;32m~/opt/anaconda3/lib/python3.7/site-packages/sklearn/model_selection/_split.py\u001b[0m in \u001b[0;36mtrain_test_split\u001b[0;34m(*arrays, **options)\u001b[0m\n\u001b[1;32m   2129\u001b[0m     \u001b[0mn_samples\u001b[0m \u001b[0;34m=\u001b[0m \u001b[0m_num_samples\u001b[0m\u001b[0;34m(\u001b[0m\u001b[0marrays\u001b[0m\u001b[0;34m[\u001b[0m\u001b[0;36m0\u001b[0m\u001b[0;34m]\u001b[0m\u001b[0;34m)\u001b[0m\u001b[0;34m\u001b[0m\u001b[0;34m\u001b[0m\u001b[0m\n\u001b[1;32m   2130\u001b[0m     n_train, n_test = _validate_shuffle_split(n_samples, test_size, train_size,\n\u001b[0;32m-> 2131\u001b[0;31m                                               default_test_size=0.25)\n\u001b[0m\u001b[1;32m   2132\u001b[0m \u001b[0;34m\u001b[0m\u001b[0m\n\u001b[1;32m   2133\u001b[0m     \u001b[0;32mif\u001b[0m \u001b[0mshuffle\u001b[0m \u001b[0;32mis\u001b[0m \u001b[0;32mFalse\u001b[0m\u001b[0;34m:\u001b[0m\u001b[0;34m\u001b[0m\u001b[0;34m\u001b[0m\u001b[0m\n",
      "\u001b[0;32m~/opt/anaconda3/lib/python3.7/site-packages/sklearn/model_selection/_split.py\u001b[0m in \u001b[0;36m_validate_shuffle_split\u001b[0;34m(n_samples, test_size, train_size, default_test_size)\u001b[0m\n\u001b[1;32m   1764\u001b[0m         raise ValueError('test_size={0} should be either positive and smaller'\n\u001b[1;32m   1765\u001b[0m                          \u001b[0;34m' than the number of samples {1} or a float in the '\u001b[0m\u001b[0;34m\u001b[0m\u001b[0;34m\u001b[0m\u001b[0m\n\u001b[0;32m-> 1766\u001b[0;31m                          '(0, 1) range'.format(test_size, n_samples))\n\u001b[0m\u001b[1;32m   1767\u001b[0m \u001b[0;34m\u001b[0m\u001b[0m\n\u001b[1;32m   1768\u001b[0m     if (train_size_type == 'i' and (train_size >= n_samples or train_size <= 0)\n",
      "\u001b[0;31mValueError\u001b[0m: test_size=-0.3 should be either positive and smaller than the number of samples 100 or a float in the (0, 1) range"
     ]
    }
   ],
   "source": [
    "no_strat = []\n",
    "with_strat = []\n",
    "for i in range(100):\n",
    "    no_strat.append(pred_price_strat(df.drop('FAIXA_VALOR', axis = 1)\n",
    "                                    )\n",
    "                   )\n",
    "    \n",
    "    with_strat.append(pred_price_strat(df.drop('FAIXA_VALOR', axis = 1), \n",
    "                                       df['FAIXA_VALOR'].values\n",
    "                                      )\n",
    "                     )"
   ]
  },
  {
   "cell_type": "markdown",
   "metadata": {},
   "source": [
    "#### Podemos comparar o desvio padrão dos valores de MAE para cada caso."
   ]
  },
  {
   "cell_type": "code",
   "execution_count": null,
   "metadata": {},
   "outputs": [],
   "source": [
    "np.array(no_strat).std()"
   ]
  },
  {
   "cell_type": "code",
   "execution_count": null,
   "metadata": {},
   "outputs": [],
   "source": [
    "np.array(with_strat).std()"
   ]
  },
  {
   "cell_type": "markdown",
   "metadata": {},
   "source": [
    "#### E plotar os gráficos de cada conjunto de predições."
   ]
  },
  {
   "cell_type": "code",
   "execution_count": null,
   "metadata": {},
   "outputs": [],
   "source": [
    "fig = plt.figure(figsize = (14,6))\n",
    "\n",
    "plt.plot(range(len(no_strat)), \n",
    "         no_strat, \n",
    "         c = 'k', \n",
    "         label = \"no stratification\"\n",
    "        )\n",
    "plt.plot(range(len(with_strat)), \n",
    "         with_strat, \n",
    "         c = 'r', \n",
    "         label = \"with stratification\"\n",
    "        )\n",
    "plt.legend()\n",
    "plt.xlabel('run')\n",
    "plt.ylabel('MAE');"
   ]
  },
  {
   "cell_type": "markdown",
   "metadata": {},
   "source": [
    "#### E finalmente, podemos observar que adicionar a opção de estratificação os modelos gerados permite reduzir a instabilidade dos modelos."
   ]
  }
 ],
 "metadata": {
  "kernelspec": {
   "display_name": "Python 3",
   "language": "python",
   "name": "python3"
  },
  "language_info": {
   "codemirror_mode": {
    "name": "ipython",
    "version": 3
   },
   "file_extension": ".py",
   "mimetype": "text/x-python",
   "name": "python",
   "nbconvert_exporter": "python",
   "pygments_lexer": "ipython3",
   "version": "3.7.6"
  }
 },
 "nbformat": 4,
 "nbformat_minor": 4
}
