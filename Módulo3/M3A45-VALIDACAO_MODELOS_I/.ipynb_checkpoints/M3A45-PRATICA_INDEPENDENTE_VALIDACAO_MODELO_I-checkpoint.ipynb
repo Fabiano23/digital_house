{
 "cells": [
  {
   "cell_type": "markdown",
   "metadata": {},
   "source": [
    "# Prática Independente: Feature Engineering e validação de modelos."
   ]
  },
  {
   "cell_type": "markdown",
   "metadata": {},
   "source": [
    "### Feature Engineering."
   ]
  },
  {
   "cell_type": "markdown",
   "metadata": {},
   "source": [
    "#### Exercício 1: Acesse o link com a [lista das montanhas mais altas do mundo](https://en.wikipedia.org/wiki/List_of_highest_mountains_on_Earth) e crie um dicionário para as cinco primeiras, em termos de altura, contendo dados sobre `Mountain`, `Height`, `First Ascent` e `Country`."
   ]
  },
  {
   "cell_type": "code",
   "execution_count": 1,
   "metadata": {},
   "outputs": [],
   "source": [
    "import pandas as pd\n",
    "import numpy as np\n",
    "import matplotlib.pyplot as plt\n",
    "import seaborn as sns\n",
    "from sklearn.preprocessing import PolynomialFeatures\n",
    "from sklearn.linear_model import LinearRegression\n",
    "from sklearn.pipeline import make_pipeline\n",
    "from sklearn.model_selection import validation_curve"
   ]
  },
  {
   "cell_type": "code",
   "execution_count": 2,
   "metadata": {},
   "outputs": [
    {
     "data": {
      "text/html": [
       "<div>\n",
       "<style scoped>\n",
       "    .dataframe tbody tr th:only-of-type {\n",
       "        vertical-align: middle;\n",
       "    }\n",
       "\n",
       "    .dataframe tbody tr th {\n",
       "        vertical-align: top;\n",
       "    }\n",
       "\n",
       "    .dataframe thead th {\n",
       "        text-align: right;\n",
       "    }\n",
       "</style>\n",
       "<table border=\"1\" class=\"dataframe\">\n",
       "  <thead>\n",
       "    <tr style=\"text-align: right;\">\n",
       "      <th></th>\n",
       "      <th>mountain</th>\n",
       "      <th>height</th>\n",
       "      <th>first_ascent</th>\n",
       "      <th>country</th>\n",
       "    </tr>\n",
       "  </thead>\n",
       "  <tbody>\n",
       "    <tr>\n",
       "      <th>0</th>\n",
       "      <td>Everest</td>\n",
       "      <td>8.848</td>\n",
       "      <td>1953</td>\n",
       "      <td>China</td>\n",
       "    </tr>\n",
       "    <tr>\n",
       "      <th>1</th>\n",
       "      <td>K2</td>\n",
       "      <td>8.611</td>\n",
       "      <td>1954</td>\n",
       "      <td>China</td>\n",
       "    </tr>\n",
       "    <tr>\n",
       "      <th>2</th>\n",
       "      <td>Kangchenjunga</td>\n",
       "      <td>8.586</td>\n",
       "      <td>1955</td>\n",
       "      <td>India</td>\n",
       "    </tr>\n",
       "    <tr>\n",
       "      <th>3</th>\n",
       "      <td>Lhotse</td>\n",
       "      <td>8.516</td>\n",
       "      <td>1956</td>\n",
       "      <td>China</td>\n",
       "    </tr>\n",
       "    <tr>\n",
       "      <th>4</th>\n",
       "      <td>Makalu</td>\n",
       "      <td>8.485</td>\n",
       "      <td>1955</td>\n",
       "      <td>China</td>\n",
       "    </tr>\n",
       "  </tbody>\n",
       "</table>\n",
       "</div>"
      ],
      "text/plain": [
       "        mountain  height  first_ascent country\n",
       "0        Everest   8.848          1953   China\n",
       "1             K2   8.611          1954   China\n",
       "2  Kangchenjunga   8.586          1955   India\n",
       "3         Lhotse   8.516          1956   China\n",
       "4         Makalu   8.485          1955   China"
      ]
     },
     "execution_count": 2,
     "metadata": {},
     "output_type": "execute_result"
    }
   ],
   "source": [
    "dados= {'mountain': ['Everest', 'K2', 'Kangchenjunga', 'Lhotse', 'Makalu'], \n",
    "        'height': [8.848, 8.611, 8.586, 8.516, 8.485], \n",
    "        'first_ascent': [1953, 1954, 1955, 1956, 1955], \n",
    "        'country': ['China', 'China', 'India', 'China', 'China']}\n",
    "\n",
    "df= pd.DataFrame(dados, columns= dados.keys())\n",
    "df.head()"
   ]
  },
  {
   "cell_type": "markdown",
   "metadata": {},
   "source": [
    "#### Exercício 2: Aplique a técnica `one hot-encoding` à lista de dicionários recém criados, para gerar a \"dummiezação\" das variáveis categóricas."
   ]
  },
  {
   "cell_type": "code",
   "execution_count": 3,
   "metadata": {},
   "outputs": [
    {
     "data": {
      "text/html": [
       "<div>\n",
       "<style scoped>\n",
       "    .dataframe tbody tr th:only-of-type {\n",
       "        vertical-align: middle;\n",
       "    }\n",
       "\n",
       "    .dataframe tbody tr th {\n",
       "        vertical-align: top;\n",
       "    }\n",
       "\n",
       "    .dataframe thead th {\n",
       "        text-align: right;\n",
       "    }\n",
       "</style>\n",
       "<table border=\"1\" class=\"dataframe\">\n",
       "  <thead>\n",
       "    <tr style=\"text-align: right;\">\n",
       "      <th></th>\n",
       "      <th>height</th>\n",
       "      <th>first_ascent</th>\n",
       "      <th>mountain_Everest</th>\n",
       "      <th>mountain_K2</th>\n",
       "      <th>mountain_Kangchenjunga</th>\n",
       "      <th>mountain_Lhotse</th>\n",
       "      <th>mountain_Makalu</th>\n",
       "      <th>country_China</th>\n",
       "      <th>country_India</th>\n",
       "    </tr>\n",
       "  </thead>\n",
       "  <tbody>\n",
       "    <tr>\n",
       "      <th>0</th>\n",
       "      <td>8.848</td>\n",
       "      <td>1953</td>\n",
       "      <td>1</td>\n",
       "      <td>0</td>\n",
       "      <td>0</td>\n",
       "      <td>0</td>\n",
       "      <td>0</td>\n",
       "      <td>1</td>\n",
       "      <td>0</td>\n",
       "    </tr>\n",
       "    <tr>\n",
       "      <th>1</th>\n",
       "      <td>8.611</td>\n",
       "      <td>1954</td>\n",
       "      <td>0</td>\n",
       "      <td>1</td>\n",
       "      <td>0</td>\n",
       "      <td>0</td>\n",
       "      <td>0</td>\n",
       "      <td>1</td>\n",
       "      <td>0</td>\n",
       "    </tr>\n",
       "    <tr>\n",
       "      <th>2</th>\n",
       "      <td>8.586</td>\n",
       "      <td>1955</td>\n",
       "      <td>0</td>\n",
       "      <td>0</td>\n",
       "      <td>1</td>\n",
       "      <td>0</td>\n",
       "      <td>0</td>\n",
       "      <td>0</td>\n",
       "      <td>1</td>\n",
       "    </tr>\n",
       "    <tr>\n",
       "      <th>3</th>\n",
       "      <td>8.516</td>\n",
       "      <td>1956</td>\n",
       "      <td>0</td>\n",
       "      <td>0</td>\n",
       "      <td>0</td>\n",
       "      <td>1</td>\n",
       "      <td>0</td>\n",
       "      <td>1</td>\n",
       "      <td>0</td>\n",
       "    </tr>\n",
       "    <tr>\n",
       "      <th>4</th>\n",
       "      <td>8.485</td>\n",
       "      <td>1955</td>\n",
       "      <td>0</td>\n",
       "      <td>0</td>\n",
       "      <td>0</td>\n",
       "      <td>0</td>\n",
       "      <td>1</td>\n",
       "      <td>1</td>\n",
       "      <td>0</td>\n",
       "    </tr>\n",
       "  </tbody>\n",
       "</table>\n",
       "</div>"
      ],
      "text/plain": [
       "   height  first_ascent  mountain_Everest  mountain_K2  \\\n",
       "0   8.848          1953                 1            0   \n",
       "1   8.611          1954                 0            1   \n",
       "2   8.586          1955                 0            0   \n",
       "3   8.516          1956                 0            0   \n",
       "4   8.485          1955                 0            0   \n",
       "\n",
       "   mountain_Kangchenjunga  mountain_Lhotse  mountain_Makalu  country_China  \\\n",
       "0                       0                0                0              1   \n",
       "1                       0                0                0              1   \n",
       "2                       1                0                0              0   \n",
       "3                       0                1                0              1   \n",
       "4                       0                0                1              1   \n",
       "\n",
       "   country_India  \n",
       "0              0  \n",
       "1              0  \n",
       "2              1  \n",
       "3              0  \n",
       "4              0  "
      ]
     },
     "execution_count": 3,
     "metadata": {},
     "output_type": "execute_result"
    }
   ],
   "source": [
    "#Usando função get_dummies do pandas\n",
    "\n",
    "df_dummies= pd.get_dummies(df)\n",
    "df_dummies"
   ]
  },
  {
   "cell_type": "code",
   "execution_count": 4,
   "metadata": {},
   "outputs": [],
   "source": [
    "df_copy= df.copy()\n",
    "\n",
    "#Usando label encoder do SkLearn\n",
    "from sklearn import preprocessing\n",
    "le = preprocessing.LabelEncoder()\n",
    "\n",
    "df_copy['mountain']= le.fit_transform(df['mountain'])\n",
    "df_copy['country']= le.fit_transform(df['country'])"
   ]
  },
  {
   "cell_type": "markdown",
   "metadata": {},
   "source": [
    "#### Exercício 3: Recupere os nomes dos atributos \"dummiezados\" e os inspecione."
   ]
  },
  {
   "cell_type": "code",
   "execution_count": 5,
   "metadata": {},
   "outputs": [
    {
     "name": "stdout",
     "output_type": "stream",
     "text": [
      "['Everest' 'K2' 'Kangchenjunga' 'Lhotse' 'Makalu']------>[0 1 2 3 4]\n",
      "\n",
      "['China' 'India']------>[0 1]\n"
     ]
    }
   ],
   "source": [
    "print(df['mountain'].unique(), df_copy['mountain'].unique(), sep= '------>')\n",
    "print()\n",
    "print(df['country'].unique(), df_copy['country'].unique(), sep= '------>')"
   ]
  },
  {
   "cell_type": "code",
   "execution_count": 6,
   "metadata": {},
   "outputs": [
    {
     "data": {
      "text/html": [
       "<div>\n",
       "<style scoped>\n",
       "    .dataframe tbody tr th:only-of-type {\n",
       "        vertical-align: middle;\n",
       "    }\n",
       "\n",
       "    .dataframe tbody tr th {\n",
       "        vertical-align: top;\n",
       "    }\n",
       "\n",
       "    .dataframe thead th {\n",
       "        text-align: right;\n",
       "    }\n",
       "</style>\n",
       "<table border=\"1\" class=\"dataframe\">\n",
       "  <thead>\n",
       "    <tr style=\"text-align: right;\">\n",
       "      <th></th>\n",
       "      <th>mountain</th>\n",
       "      <th>height</th>\n",
       "      <th>first_ascent</th>\n",
       "      <th>country</th>\n",
       "    </tr>\n",
       "  </thead>\n",
       "  <tbody>\n",
       "    <tr>\n",
       "      <th>count</th>\n",
       "      <td>5.000000</td>\n",
       "      <td>5.000000</td>\n",
       "      <td>5.000000</td>\n",
       "      <td>5.000000</td>\n",
       "    </tr>\n",
       "    <tr>\n",
       "      <th>mean</th>\n",
       "      <td>2.000000</td>\n",
       "      <td>8.609200</td>\n",
       "      <td>1954.600000</td>\n",
       "      <td>0.200000</td>\n",
       "    </tr>\n",
       "    <tr>\n",
       "      <th>std</th>\n",
       "      <td>1.581139</td>\n",
       "      <td>0.142898</td>\n",
       "      <td>1.140175</td>\n",
       "      <td>0.447214</td>\n",
       "    </tr>\n",
       "    <tr>\n",
       "      <th>min</th>\n",
       "      <td>0.000000</td>\n",
       "      <td>8.485000</td>\n",
       "      <td>1953.000000</td>\n",
       "      <td>0.000000</td>\n",
       "    </tr>\n",
       "    <tr>\n",
       "      <th>25%</th>\n",
       "      <td>1.000000</td>\n",
       "      <td>8.516000</td>\n",
       "      <td>1954.000000</td>\n",
       "      <td>0.000000</td>\n",
       "    </tr>\n",
       "    <tr>\n",
       "      <th>50%</th>\n",
       "      <td>2.000000</td>\n",
       "      <td>8.586000</td>\n",
       "      <td>1955.000000</td>\n",
       "      <td>0.000000</td>\n",
       "    </tr>\n",
       "    <tr>\n",
       "      <th>75%</th>\n",
       "      <td>3.000000</td>\n",
       "      <td>8.611000</td>\n",
       "      <td>1955.000000</td>\n",
       "      <td>0.000000</td>\n",
       "    </tr>\n",
       "    <tr>\n",
       "      <th>max</th>\n",
       "      <td>4.000000</td>\n",
       "      <td>8.848000</td>\n",
       "      <td>1956.000000</td>\n",
       "      <td>1.000000</td>\n",
       "    </tr>\n",
       "  </tbody>\n",
       "</table>\n",
       "</div>"
      ],
      "text/plain": [
       "       mountain    height  first_ascent   country\n",
       "count  5.000000  5.000000      5.000000  5.000000\n",
       "mean   2.000000  8.609200   1954.600000  0.200000\n",
       "std    1.581139  0.142898      1.140175  0.447214\n",
       "min    0.000000  8.485000   1953.000000  0.000000\n",
       "25%    1.000000  8.516000   1954.000000  0.000000\n",
       "50%    2.000000  8.586000   1955.000000  0.000000\n",
       "75%    3.000000  8.611000   1955.000000  0.000000\n",
       "max    4.000000  8.848000   1956.000000  1.000000"
      ]
     },
     "execution_count": 6,
     "metadata": {},
     "output_type": "execute_result"
    }
   ],
   "source": [
    "df_copy.describe()"
   ]
  },
  {
   "cell_type": "markdown",
   "metadata": {},
   "source": [
    "#### Exercício 4: Calcule a matriz esparsa dos dados."
   ]
  },
  {
   "cell_type": "code",
   "execution_count": 7,
   "metadata": {},
   "outputs": [
    {
     "data": {
      "text/plain": [
       "array([[0.000e+00, 8.848e+00, 1.953e+03, 0.000e+00],\n",
       "       [1.000e+00, 8.611e+00, 1.954e+03, 0.000e+00],\n",
       "       [2.000e+00, 8.586e+00, 1.955e+03, 1.000e+00],\n",
       "       [3.000e+00, 8.516e+00, 1.956e+03, 0.000e+00],\n",
       "       [4.000e+00, 8.485e+00, 1.955e+03, 0.000e+00]])"
      ]
     },
     "execution_count": 7,
     "metadata": {},
     "output_type": "execute_result"
    }
   ],
   "source": [
    "from scipy.sparse import csr_matrix\n",
    "matriz_esparsa= csr_matrix(df_copy).toarray()\n",
    "\n",
    "matriz_esparsa"
   ]
  },
  {
   "cell_type": "markdown",
   "metadata": {},
   "source": [
    "### Validação de modelos."
   ]
  },
  {
   "cell_type": "markdown",
   "metadata": {},
   "source": [
    "#### Exercício 5: A partir das definições a seguir, construa a validação dos modelos a serem aplicados para ajustar os pontos criados."
   ]
  },
  {
   "cell_type": "code",
   "execution_count": 8,
   "metadata": {},
   "outputs": [
    {
     "name": "stdout",
     "output_type": "stream",
     "text": [
      "[[1.73907352e-01]\n",
      " [5.18867376e-01]\n",
      " [1.30815988e-08]\n",
      " [9.14049845e-02]\n",
      " [2.15372915e-02]\n",
      " [8.52641608e-03]\n",
      " [3.46928663e-02]\n",
      " [1.19412216e-01]\n",
      " [1.57424429e-01]\n",
      " [2.90323473e-01]\n",
      " [1.75724041e-01]\n",
      " [4.69525764e-01]\n",
      " [4.18007224e-02]\n",
      " [7.71090232e-01]\n",
      " [7.50080261e-04]\n",
      " [4.49526682e-01]\n",
      " [1.74143298e-01]\n",
      " [3.12134324e-01]\n",
      " [1.97084925e-02]\n",
      " [3.92442000e-02]\n",
      " [6.41191864e-01]\n",
      " [9.37530479e-01]\n",
      " [9.82347155e-02]\n",
      " [4.79310604e-01]\n",
      " [7.68057946e-01]\n",
      " [8.00321082e-01]\n",
      " [7.23251789e-03]\n",
      " [1.52527609e-03]\n",
      " [2.88423714e-02]\n",
      " [7.71134256e-01]\n",
      " [9.67209972e-03]\n",
      " [1.77331632e-01]\n",
      " [9.17552352e-01]\n",
      " [2.84265221e-01]\n",
      " [4.78693941e-01]\n",
      " [9.95501134e-02]\n",
      " [4.71283524e-01]\n",
      " [6.96600012e-01]\n",
      " [3.34461088e-04]\n",
      " [5.62716493e-01]]\n",
      "[1.73907352e-01 5.18867376e-01 1.30815988e-08 9.14049845e-02\n",
      " 2.15372915e-02 8.52641608e-03 3.46928663e-02 1.19412216e-01\n",
      " 1.57424429e-01 2.90323473e-01 1.75724041e-01 4.69525764e-01\n",
      " 4.18007224e-02 7.71090232e-01 7.50080261e-04 4.49526682e-01\n",
      " 1.74143298e-01 3.12134324e-01 1.97084925e-02 3.92442000e-02\n",
      " 6.41191864e-01 9.37530479e-01 9.82347155e-02 4.79310604e-01\n",
      " 7.68057946e-01 8.00321082e-01 7.23251789e-03 1.52527609e-03\n",
      " 2.88423714e-02 7.71134256e-01 9.67209972e-03 1.77331632e-01\n",
      " 9.17552352e-01 2.84265221e-01 4.78693941e-01 9.95501134e-02\n",
      " 4.71283524e-01 6.96600012e-01 3.34461088e-04 5.62716493e-01]\n"
     ]
    }
   ],
   "source": [
    "def make_data(N, err = 1.0, rseed = 1):\n",
    "    '''\n",
    "    randomly sample the data \n",
    "    '''\n",
    "    rng = np.random.RandomState(rseed)\n",
    "    \n",
    "    X = rng.rand(N, 1) ** 2\n",
    "    y = 10 - 1. / (X.ravel() + 0.1)\n",
    "    if err > 0:\n",
    "        y += err * rng.randn(N)\n",
    "    return X, y\n",
    "\n",
    "X, y = make_data(40)\n",
    "print(X)\n",
    "print(X.ravel())"
   ]
  },
  {
   "cell_type": "code",
   "execution_count": 55,
   "metadata": {},
   "outputs": [
    {
     "data": {
      "text/plain": [
       "array([[1.        ],\n",
       "       [1.01563126],\n",
       "       [1.03126253],\n",
       "       [1.04689379],\n",
       "       [1.06252505]])"
      ]
     },
     "execution_count": 55,
     "metadata": {},
     "output_type": "execute_result"
    }
   ],
   "source": [
    "X_test = np.linspace(1.0, 8.8, 500).reshape(-1,1)\n",
    "X_test[:5]"
   ]
  },
  {
   "cell_type": "code",
   "execution_count": 11,
   "metadata": {},
   "outputs": [],
   "source": [
    "def PolynomialRegression(degree = 2, **kwargs):\n",
    "    return make_pipeline(PolynomialFeatures(degree),\n",
    "                         LinearRegression(**kwargs)\n",
    "                        )"
   ]
  },
  {
   "cell_type": "markdown",
   "metadata": {},
   "source": [
    "#### Exercício 5 (continuação): Teste os graus `[1, 3, 5, 7, 9]` para os pontos gerados."
   ]
  },
  {
   "cell_type": "code",
   "execution_count": 16,
   "metadata": {},
   "outputs": [
    {
     "name": "stderr",
     "output_type": "stream",
     "text": [
      "/home/fabiano/anaconda3/lib/python3.8/site-packages/sklearn/utils/validation.py:68: FutureWarning: Pass param_name=polynomialfeatures__degree as keyword args. From version 0.25 passing these as positional arguments will result in an error\n",
      "  warnings.warn(\"Pass {} as keyword args. From version 0.25 \"\n"
     ]
    },
    {
     "data": {
      "image/png": "[encoded data removed]",
      "text/plain": [
       "<Figure size 1296x432 with 1 Axes>"
      ]
     },
     "metadata": {
      "needs_background": "light"
     },
     "output_type": "display_data"
    }
   ],
   "source": [
    "degree = [1, 3, 5, 7, 9]\n",
    "\n",
    "train_score, val_score = validation_curve(PolynomialRegression(), \n",
    "                                          X, \n",
    "                                          y, \n",
    "                                          'polynomialfeatures__degree', \n",
    "                                          param_range = degree, \n",
    "                                          cv = 5\n",
    "                                         )\n",
    "plt.figure( figsize = (18, 6))\n",
    "plt.plot(degree, \n",
    "         np.mean(train_score, axis = 1), \n",
    "         color = 'blue', \n",
    "         label = 'training score'\n",
    "        )\n",
    "plt.plot(degree, \n",
    "         np.mean(val_score, axis = 1), \n",
    "         color = 'red', \n",
    "         label = 'validation score'\n",
    "        )\n",
    "plt.legend(loc = 'best')\n",
    "plt.ylim(0, 1)\n",
    "plt.xlabel('degree')\n",
    "plt.ylabel('score');"
   ]
  },
  {
   "cell_type": "markdown",
   "metadata": {},
   "source": [
    "#### Exercício 5 (continuação): Escolha o grau que melhor ajusta a regressão aos pontos."
   ]
  },
  {
   "cell_type": "code",
   "execution_count": 17,
   "metadata": {},
   "outputs": [
    {
     "data": {
      "text/plain": [
       "0.9714613417423948"
      ]
     },
     "execution_count": 17,
     "metadata": {},
     "output_type": "execute_result"
    }
   ],
   "source": [
    "np.max(val_score)"
   ]
  },
  {
   "cell_type": "markdown",
   "metadata": {},
   "source": [
    "#### Exercício 5 (continuação): Plote os pontos gerados e a curva de ajuste final."
   ]
  },
  {
   "cell_type": "code",
   "execution_count": 56,
   "metadata": {},
   "outputs": [
    {
     "data": {
      "image/png": "[encoded data removed]",
      "text/plain": [
       "<Figure size 432x288 with 1 Axes>"
      ]
     },
     "metadata": {},
     "output_type": "display_data"
    }
   ],
   "source": [
    "import seaborn; seaborn.set()  # plot formatting\n",
    "\n",
    "plt.scatter(X.ravel(), \n",
    "            y\n",
    "           )\n",
    "\n",
    "lim = plt.axis()\n",
    "\n",
    "y_test = PolynomialRegression(5).fit(X, y).predict(X_test)\n",
    "\n",
    "plt.plot(X_test.ravel(), \n",
    "         y_test,\n",
    "         )\n",
    "plt.axis(lim);"
   ]
  },
  {
   "cell_type": "code",
   "execution_count": null,
   "metadata": {},
   "outputs": [],
   "source": []
  },
  {
   "cell_type": "code",
   "execution_count": null,
   "metadata": {},
   "outputs": [],
   "source": []
  }
 ],
 "metadata": {
  "kernelspec": {
   "display_name": "Python 3",
   "language": "python",
   "name": "python3"
  },
  "language_info": {
   "codemirror_mode": {
    "name": "ipython",
    "version": 3
   },
   "file_extension": ".py",
   "mimetype": "text/x-python",
   "name": "python",
   "nbconvert_exporter": "python",
   "pygments_lexer": "ipython3",
   "version": "3.8.3"
  }
 },
 "nbformat": 4,
 "nbformat_minor": 4
}
