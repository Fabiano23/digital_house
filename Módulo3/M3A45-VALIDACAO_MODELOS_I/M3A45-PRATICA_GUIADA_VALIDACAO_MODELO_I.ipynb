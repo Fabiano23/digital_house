{
 "cells": [
  {
   "cell_type": "markdown",
   "metadata": {},
   "source": [
    "# Introdução\n",
    "\n",
    "## [Cross-Validation: avaliando o desempenho do estimador](https://scikit-learn.org/stable/modules/cross_validation.html#cross-validation)\n",
    "\n",
    "\n",
    "#### Aprender os parâmetros de uma função de previsão e testá-los com os mesmos dados é um erro metodológico: um modelo que apenas repetisse os rótulos das amostras que acabara de ver teria uma pontuação perfeita, mas falharia em prever algo útil ainda. dados não vistos. \n",
    "\n",
    "\n",
    "#### Essa situação é chamada de sobreajuste. Para evitá-lo, é prática comum ao executar um experimento de aprendizado de máquina (supervisionado) manter parte dos dados disponíveis como um conjunto de testes [`X_test`, `y_test`](https://elitedatascience.com/model-training). Observe que a palavra \"experimento\" não se destina a indicar apenas o uso acadêmico, porque mesmo em ambientes comerciais, o aprendizado de máquina geralmente começa experimentalmente. Aqui está um fluxograma do fluxo de trabalho típico de [validação cruzada](https://www.youtube.com/watch?v=e0JcXMzhtdY&ab_channel=AnalyticsUniversity) no treinamento do modelo. Os melhores parâmetros podem ser determinados pelas técnicas de pesquisa em grade.\n",
    "\n",
    "<br>\n",
    "<img src=\"scikit2.png\" style=\"height:300px\">\n",
    "<br>"
   ]
  },
  {
   "cell_type": "markdown",
   "metadata": {},
   "source": [
    "# Demais Aplicações do Cross_Validation\n",
    "\n",
    "#### A [validação cruzada](https://www.analyticsvidhya.com/blog/2018/05/improve-model-performance-cross-validation-in-python-r/) é uma peça essencial na caixa de ferramentas do cientista de Dados. Isso nos permite utilizar melhor nossos dados. Antes de discutirmos os cinco motivos para usar a validação cruzada, vamos examinar brevemente o que é a [validação cruzada](https://www.youtube.com/watch?v=fSytzGwwBVw&ab_channel=StatQuestwithJoshStarmer) e mostrar algumas estratégias comuns.\n",
    "\n",
    "#### Quando estamos construindo um modelo de aprendizado de máquina usando alguns dados, geralmente dividimos nossos dados em conjuntos de [treinamento e validação / teste](https://medium.com/analytics-vidhya/training-validation-and-test-set-in-machine-learning-7fab555c1080). O conjunto de treinamento é usado para treinar o modelo, e o conjunto de validação / teste é usado para validá-lo em dados nunca vistos antes. A abordagem clássica é fazer uma divisão simples de $80\\%$ a $20\\%$, às vezes com valores diferentes, como $70\\%$ a $30\\%$ ou $90\\%$ a $10\\%$. Na validação cruzada, fazemos mais de uma divisão. \n",
    "\n",
    "#### Podemos fazer $3$, $5$, $10$ ou qualquer número $K$ de divisões. Essas divisões são chamadas de [dobras](https://medium.com/analytics-vidhya/introduction-to-cross-validation-k-fold-7ed9cbd0ed7b) e há muitas estratégias com as quais podemos criar essas dobras."
   ]
  },
  {
   "cell_type": "markdown",
   "metadata": {},
   "source": [
    "<img src=\"kfold.png\" align=\"center\" width=\"80%\">"
   ]
  },
  {
   "cell_type": "markdown",
   "metadata": {},
   "source": [
    "[`Simple K-Folds`](https://medium.datadriveninvestor.com/k-fold-cross-validation-6b8518070833) - dividimos nossos dados em $K$ partes, vamos usar $K = 3$ para um exemplo de brinquedo. Se tivermos $3000$ instâncias em nosso conjunto de dados, dividimos em três partes, parte $1$, parte $2$ e parte $3$. Em seguida, construímos três modelos diferentes, cada modelo é treinado em duas partes e testado no terceiro. Nosso primeiro modelo é treinado nas partes 1 e 2 e testado na parte 3. Nosso segundo modelo é treinado nas partes $1$ e $3$ e testado na parte $2$ e assim por diante.\n",
    "\n",
    "[`Live One Out`](https://machinelearningmastery.com/loocv-for-evaluating-machine-learning-algorithms/) - Esta é a maneira mais extrema de fazer a validação cruzada. Para cada instância em nosso conjunto de dados, construímos um modelo usando todas as outras instâncias e testamos na instância selecionada.\n",
    "\n",
    "[`Stratified Cross-Validation`](https://towardsdatascience.com/what-is-stratified-cross-validation-in-machine-learning-8844f3e7ae8e) - Quando dividimos os dados em [`folds`](https://www.kdnuggets.com/2018/10/5-reasons-cross-validation-data-science-projects.html), queremos garantir que cada parte seja um bom representante de todos os dados. O exemplo mais básico é que queremos a mesma proporção de classes diferentes em cada parte. Na maioria das vezes, isso acontece apenas aleatoriamente, mas às vezes, em conjuntos de dados complexos, precisamos aplicar uma distribuição correta para cada parte.\n",
    "\n",
    "#### Aqui estão as cinco razões pelas quais você deve usar a Validação Cruzada:\n",
    "\n",
    "1. Utilizar todos os dados;\n",
    "2. Obter a melhor métrica;\n",
    "3. Aplicação em [`Stacking`](https://towardsdatascience.com/a-practical-guide-to-stacking-using-scikit-learn-91e8d021863d) de modelos;\n",
    "4. Trabalhar com dados agrupados e dependentes;\n",
    "5. `Fine-Tuning` de parâmetros;\n",
    "\n",
    "-------------"
   ]
  },
  {
   "cell_type": "markdown",
   "metadata": {},
   "source": [
    "# Utilização de Cross-Validation: os cinco porquês\n",
    "\n",
    "## 1. Utilizar TODOS os dados\n",
    "\n",
    "<img src=\"utilizar_todos_dados.png\" align=\"center\" width=\"65%\">\n",
    "\n",
    "\n",
    "#### Quando temos muito poucos dados, dividí-los em conjunto de treinamento e teste pode nos deixar com um conjunto de testes muito pequeno. Digamos que temos apenas $100$ observações. Se fizermos uma divisão simples de $80$ a $20$, obteremos $20$ observações em nosso conjunto de testes. Não é suficiente. Podemos obter quase qualquer desempenho neste conjunto apenas devido ao acaso. O problema é ainda pior quando temos um projeto com várias classes. Se tivermos $10$ classes e apenas $20$ observações, nos resta apenas $2$ observações para cada classe, em média. Testar qualquer coisa em apenas duas observações não pode levar a uma conclusão real.\n",
    "\n",
    "\n",
    "#### Se usarmos a validação cruzada nesse caso, construiremos $K$ modelos diferentes, para que possamos fazer previsões em todos os nossos dados. Para cada instância, fazemos uma previsão por um modelo que não viu essa observação e, portanto, estamos recebendo $100$ observações em nosso conjunto de testes. Para o problema de várias classes, obtemos $10$ observações para cada classe, em média, e é muito melhor do que apenas $2$. \n",
    "\n",
    "#### Depois de avaliarmos nosso algoritmo de aprendizado (veja o item 2 abaixo), agora podemos treinar nosso modelo em todos os nossos dados, porque se nossos $5$ modelos tiveram desempenho semelhante usando conjuntos de treino diferentes, assumimos que, treinando-os em todos os dados, obteremos um desempenho semelhante.\n",
    "\n",
    "#### Ao fazer a validação cruzada, podemos usar todas as nossas $100$ observações, tanto para treinamento quanto para teste, enquanto avaliamos nosso algoritmo de aprendizado em dados nunca antes vistos.\n",
    " \n",
    "____________"
   ]
  },
  {
   "cell_type": "markdown",
   "metadata": {},
   "source": [
    "## 2. Obter mais MÉTRICAS\n",
    "\n",
    "<img src=\"obter_metricas.png\" align=\"center\" width=\"60%\">\n",
    "\n",
    "#### Conforme mencionado no item $1$, quando criamos cinco modelos diferentes usando nosso algoritmo de aprendizado e o testamos em cinco conjuntos de testes diferentes, podemos ter mais confiança no desempenho do algoritmo. Quando fazemos uma única avaliação em nosso conjunto de testes, obtemos apenas um resultado. Esse resultado pode ser devido ao acaso ou a um teste enviesado por algum motivo. Treinando cinco (ou dez) modelos diferentes, podemos entender melhor o que está acontecendo. \n",
    "\n",
    "#### Digamos que treinamos cinco modelos e usamos a precisão como medida. Nós podemos acabar em várias situações diferentes. O melhor cenário é que nossa precisão seja semelhante em todas as nossas dobras (`folds`), por exemplo, $92.0$, $91.5$, $92.0$, $92.5$ e $91.8$. Isso significa que nosso algoritmo e nossos dados são consistente e podemos ter certeza de que, treinando-o em todos os conjuntos de dados e implantando-os na produção, resultará em desempenho semelhante.\n",
    "\n",
    "#### No entanto, poderíamos terminar em um cenário um pouco diferente, como $92.0$, $44.0$, $91.5$, $92.5$ e $91.8$. Esses resultados parecem muito estranhos. Parece que uma de nossas dobras é de uma distribuição diferente. Temos que voltar e garantir que nossos dados sejam o que achamos que são.\n",
    "\n",
    "#### O pior cenário em que podemos acabar é quando temos uma variação considerável em nossos resultados, digamos $80.1$, $44.3$, $99.2$, $60$ e $87.0$. Aqui parece que nosso algoritmo ou nossos dados,ou ambos, não são consistentes, pode ser que nosso algoritmo é incapaz de aprender ou nossos dados são muito complicados.\n",
    "\n",
    "\n",
    "#### Usando a validação cruzada, podemos obter mais métricas e tirar conclusões importantes sobre nosso algoritmo e nossos dados.\n",
    "\n",
    "_____________"
   ]
  },
  {
   "cell_type": "markdown",
   "metadata": {},
   "source": [
    "## 3. Utilizar STACKING de modelos\n",
    "\n",
    "<img src=\"stacking_de_modelos.png\" align=\"center\" width=\"60%\">\n",
    "\n",
    "#### Às vezes, queremos (ou precisamos) criar um [`pipeline`](https://scikit-learn.org/stable/modules/compose.html) de modelos para resolver alguma coisa. Pense em redes neurais, por exemplo. Nós podemos criar muitas camadas. Cada camada pode usar a visualização da camada e aprender uma nova representação de nossos dados para, eventualmente, conseguir produzir boas previsões. Somos capazes de treinar essas diferentes camadas porque usamos o algoritmo de retropropagação. Cada camada calcula seu erro e o passa de volta para a camada anterior.\n",
    "\n",
    "\n",
    "#### Quando fazemos algo semelhante, mas não usamos redes neurais, não podemos treiná-lo da mesma maneira, porque nem sempre existe um \"erro\" (ou derivado) claro que podemos transmitir.\n",
    "\n",
    "\n",
    "#### Por exemplo, podemos criar um modelo de floresta aleatória (ou Random Forest) que prevê algo para nós e, logo depois, queremos fazer uma regressão linear que se baseie em previsões anteriores e produza algum número real.\n",
    "\n",
    "\n",
    "#### A parte crítica aqui é que nosso segundo modelo deve aprender sobre as previsões de nosso primeiro modelo. A melhor solução aqui é usar dois conjuntos de dados diferentes para cada modelo. Nós treinamos nossa Floresta Aleatória no conjunto de dados `A`. Em seguida, usamos o conjunto de dados `B` para fazer uma previsão usando-o. Em seguida, usamos as previsões do conjunto de dados `B` para treinar nosso segundo modelo (a regressão logística) e, finalmente, usamos o conjunto de dados `C` para avaliar nossa solução completa. Fazemos previsões usando o primeiro modelo, passamos para o nosso segundo modelo e depois as comparamos com a verdade fundamental.\n",
    "\n",
    "\n",
    "#### Quando temos dados limitados (como na maioria dos casos), não podemos realmente fazê-lo. Além disso, não podemos treinar os dois modelos no mesmo conjunto de dados, porque, então, nosso segundo modelo aprende sobre as previsões que nosso primeiro modelo já viu. Provavelmente estes serão excessivamente ajustados ou, pelo menos, terão melhores resultados do que em um conjunto diferente. Isso significa que nosso segundo algoritmo não é treinado para o que será testado. Isso pode levar a diferentes efeitos em nossas avaliações finais que serão difíceis de entender.\n",
    "\n",
    "\n",
    "#### Ao usar a validação cruzada, podemos fazer previsões em nosso conjunto de dados da mesma maneira descrita anteriormente e, portanto, a entrada de nossos modelos do segundo serão previsões reais sobre dados que nosso primeiro modelo nunca viu antes.\n",
    "\n",
    "_________________"
   ]
  },
  {
   "cell_type": "markdown",
   "metadata": {},
   "source": [
    "## 4. Trabalhar com dados DEPENDENTES / AGRUPADOS\n",
    "\n",
    "<img src=\"dados_dependentes_agrupados.png\" align=\"center\" width=\"70%\">\n",
    "\n",
    "#### Quando realizamos um `train-test split` de nossos dados, assumimos que nossos exemplos são independentes. Isso significa que, conhecer / ver alguma instância não nos ajudará a entender outras instâncias. No entanto, esse nem sempre é o caso.\n",
    "\n",
    "#### Considere um sistema de reconhecimento de fala. Nossos dados podem incluir diferentes palestrantes dizendo palavras diferentes. Vejamos o reconhecimento de dígitos falados. Neste conjunto de dados, por exemplo, existem $3$ alto-falantes e $1500$ gravações ($500$ para cada alto-falante). Se fizermos uma divisão aleatória, nosso conjunto de treinamento e teste compartilhará o mesmo orador dizendo as mesmas palavras! Obviamente, isso aumentará o desempenho do algoritmo, mas uma vez testados em um novo alto-falante, nossos resultados serão muito piores.\n",
    "\n",
    "#### A maneira correta de fazer isso é dividir os alto-falantes, ou seja, use dois alto-falantes para treinamento e o terceiro para testes. No entanto, testaremos nosso algoritmo apenas em um alto-falante. Não é suficiente. Precisamos saber o desempenho do nosso algoritmo em diferentes alto-falantes.\n",
    "\n",
    "#### Podemos usar a validação cruzada no nível dos alto-falantes. Treinaremos três modelos, cada vez usando um alto-falante para teste e outros dois para treinamento. Dessa forma, poderemos avaliar melhor nosso algoritmo (como descrito acima) e finalmente construir nosso modelo em todos os alto-falantes.\n",
    "\n",
    "___________"
   ]
  },
  {
   "cell_type": "markdown",
   "metadata": {},
   "source": [
    "## 5. Fine TUNNING de Parâmetros\n",
    "\n",
    "<img src=\"tunando_hiperparametros.png\" align=\"center\" width=\"60%\">\n",
    "\n",
    "#### O Consjunto de treinamento é o conjunto de dados utilizados para treinar o modelo, aperfeiçoando parâmetros.o modelo realizarás suas predições com base no que aprender em treino. O conjunto de validação é é um conjunto separado, usado para validar o modelo, durante o treinamento, ajudando a obter informaçõesque auxiliam o ajuste dos hiperparâmetros, muito útil para evitar que os dados sofram `overfiting` no ocnjunto de trinamento (double check). O conjunto de teste é utilizado para testar o modelo após este ter sido treinado, separado dos outros conjuntos, é utilizado após a fase da validação.\n",
    "\n",
    "#### Dividindo nossos dados em três conjuntos, em vez de dois, abordaremos os mesmos problemas de que falamos antes, especialmente se não tivermos muitos dados. Ao fazer a validação cruzada, podemos executar todas essas etapas usando um único conjunto.\n",
    "\n",
    "____________"
   ]
  },
  {
   "cell_type": "markdown",
   "metadata": {},
   "source": [
    "## Conclusão\n",
    "\n",
    "#### A validação cruzada é uma ferramenta muito poderosa. Isso nos ajuda a usar melhor nossos dados e fornece muito mais informações sobre o desempenho do nosso algoritmo. Em modelos complexos de aprendizado de máquina, às vezes é fácil não prestar atenção suficiente e usar os mesmos dados em diferentes etapas do pipeline. Isso pode levar a um desempenho bom, mas não real, na maioria dos casos, ou introduzir efeitos colaterais estranhos em outros. Temos que prestar atenção em que confiamos em nossos modelos. A validação cruzada nos ajuda quando lidamos com desafios não triviais em nossos projetos de ciência de dados.\n",
    "\n",
    "----"
   ]
  },
  {
   "cell_type": "markdown",
   "metadata": {},
   "source": [
    "# Funcionamento da Validação de Modelos (Cross Validation)\n",
    "\n",
    "#### Há sempre a necessidade de validar a estabilidade do seu modelo. Você simplesmente não pode ajustar o modelo aos seus dados de treinamento e esperar que funcione com precisão para os dados reais que nunca viu antes. Você precisa de algum tipo de garantia de que o seu modelo tenha corrigido a maioria dos padrões dos dados, e não esteja captando muito o ruído ou, em outras palavras, um viés.\n",
    "\n",
    "#### O processo de decidir se os resultados numéricos, quantificando relações hipotetizadas entre variáveis, são aceitáveis como descrições dos dados, é conhecido como validação. Geralmente uma estimativa de erro para o modelo é feita após o treinamento, mais conhecido como avaliação de resíduos. Nesse processo, é feita uma estimativa numérica da diferença nas respostas previstas e originais, também chamada de erro de treinamento. No entanto, isso só nos dá uma idéia sobre o quão bem o nosso modelo faz em dados usados para treiná-lo. Agora é possível que o modelo esteja subajustando ou super adaptando os dados. Assim, o problema com essa técnica de avaliação é que ela não fornece uma indicação de quão bem o aluno irá generalizar para um conjunto de dados independente / invisível. Obter essa ideia sobre o nosso modelo é conhecido como validação cruzada. ([Cross-Validation in Machine Learning](https://towardsdatascience.com/cross-validation-in-machine-learning-72924a69872f))\n",
    "\n",
    "## Hiperparâmetros e validação de modelos\n",
    "\n",
    "#### O processo para construção de um modelo de aprendizado de máquina supervisionado pode ser divido em:\n",
    "\n",
    "- Escolha de uma classe de modelo;\n",
    "\n",
    "- Escolha dos hiperparâmetros do modelo;\n",
    "\n",
    "- Ajuste do modelo aos dados de treinamento;\n",
    "\n",
    "- Uso do modelo para prever rótulos para novos dados.\n",
    "\n",
    "#### As duas primeiras partes disso - a escolha do modelo e a escolha dos hiperparâmetros - talvez sejam a parte mais importante do uso dessas ferramentas e técnicas de maneira eficaz. Para fazer uma escolha informada, precisamos de uma maneira de validar que nosso modelo e nossos hiperparâmetros são adequados aos dados. Enquanto isso pode parecer simples, existem algumas armadilhas que você deve evitar para fazer isso de forma eficaz.\n",
    "\n",
    "## Validação de Modelo na prática\n",
    "\n",
    "<br>\n",
    "<img src=\"validation_set.png\" style=\"height:300px\">\n",
    "<br>\n",
    "\n",
    "#### Em princípio, a validação do modelo é muito simples: depois de escolher um modelo e seus hiperparâmetros, podemos estimar o quão eficaz ele é aplicando-o a alguns dos dados de treinamento e comparando a previsão com o valor conhecido.\n",
    "___________"
   ]
  },
  {
   "cell_type": "markdown",
   "metadata": {
    "colab_type": "text",
    "id": "3XQFqLklNrY0"
   },
   "source": [
    "# Exemplo\n",
    "\n",
    "#### Vamos estudar um exemplo do uso de validação cruzada para calcular as curvas de validação de uma classe de modelos. Aqui, vamos usar um modelo de *regressão polinomial*: é um modelo linear generalizado, em que o grau dos polinômios é um parâmetro configurável. \n",
    "\n",
    "#### Por exemplo, um polinômio de grau $1$ ajusta uma linha reta aos dados; para os parâmetros coeficiente linear $a$, coeficiente angular $b$ e saída $y$ do modelo: \n",
    "\n",
    "$$\n",
    "y = ax + b\n",
    "$$\n",
    "\n",
    "### Um polinômio de grau $3$ ajusta uma curva cúbica aos dados; para parâmetros $a, b, c, d$: \n",
    "\n",
    "$$\n",
    "y = ax^3 + bx^2 + cx + d\n",
    "$$\n",
    "\n",
    "#### Isso pode ser generalizado a qualquer número de recursos polinomiais.\n",
    "\n",
    "#### Em `Scikit-Learn`, é possível implementar esse modelo com uma simples regressão linear combinada com o pré-processador polinomial (polynomial preprocessor).\n",
    "\n",
    "#### É vantajoso usar um `pipeline` para organizar essas operações sequencialmente. "
   ]
  },
  {
   "cell_type": "markdown",
   "metadata": {},
   "source": [
    "## Importando as bibliotecas"
   ]
  },
  {
   "cell_type": "code",
   "execution_count": 1,
   "metadata": {
    "colab": {
     "autoexec": {
      "startup": false,
      "wait_interval": 0
     }
    },
    "colab_type": "code",
    "id": "kAXp4DUNNrY1"
   },
   "outputs": [],
   "source": [
    "# importando as bibliotecas\n",
    "from sklearn.preprocessing import PolynomialFeatures\n",
    "from sklearn.linear_model import LinearRegression\n",
    "from sklearn.pipeline import make_pipeline\n"
   ]
  },
  {
   "cell_type": "markdown",
   "metadata": {},
   "source": [
    "## Definindo uma função para aplicação de regressão linear\n",
    "\n",
    "#### Esta função permite a aplicação de função exponencial polinomial para as features dos dados"
   ]
  },
  {
   "cell_type": "code",
   "execution_count": 2,
   "metadata": {},
   "outputs": [],
   "source": [
    "# definindo uma função para o pipeline para uma regressão polinimial\n",
    "def PolynomialRegression(degree = 2, **kwargs):\n",
    "    return make_pipeline(PolynomialFeatures(degree), LinearRegression(**kwargs))"
   ]
  },
  {
   "cell_type": "markdown",
   "metadata": {
    "colab_type": "text",
    "id": "P7wVPcsKNrY4"
   },
   "source": [
    "## Criando os dados\n",
    "\n",
    "#### Agora vamos criar alguns dados sintéticos (artificiais, inventados), aos quais o nosso modelo será ajustado em seguida."
   ]
  },
  {
   "cell_type": "code",
   "execution_count": 3,
   "metadata": {
    "colab": {
     "autoexec": {
      "startup": false,
      "wait_interval": 0
     }
    },
    "colab_type": "code",
    "id": "VrS-qMFfNrY5"
   },
   "outputs": [],
   "source": [
    "# iportando as bibliotecas\n",
    "import numpy as np\n",
    "\n",
    "# definindo uma função para gerar dados\n",
    "def make_data(N, err = 1.0, rseed = 1):\n",
    "    '''\n",
    "    Randomly sample the data\n",
    "    '''\n",
    "    rng = np.random.RandomState(rseed)\n",
    "    X = rng.rand(N, 1) ** 2\n",
    "    y = 10 - 1. / (X.ravel() + 0.1)\n",
    "    if err > 0:\n",
    "        y += err * rng.randn(N)\n",
    "    return X, y\n",
    "\n",
    "X, y = make_data(40)"
   ]
  },
  {
   "cell_type": "code",
   "execution_count": 4,
   "metadata": {},
   "outputs": [
    {
     "data": {
      "text/plain": [
       "((40, 1), (40,))"
      ]
     },
     "execution_count": 4,
     "metadata": {},
     "output_type": "execute_result"
    }
   ],
   "source": [
    "X.shape,y.shape"
   ]
  },
  {
   "cell_type": "markdown",
   "metadata": {
    "colab_type": "text",
    "id": "HhWdOoxfNrY8"
   },
   "source": [
    "#### Agora podemos visualizar nossos dados, junto com os ajustes polinomiais de vários graus. Este código é auxiliar e não é necessário entender todos os detalhes para seguir o exemplo."
   ]
  },
  {
   "cell_type": "markdown",
   "metadata": {},
   "source": [
    "## Verificação da aderência aos dados\n",
    "\n",
    "#### Podemos identificar qual é o grau da função polinomial que mais se adapta à configuração dos dados"
   ]
  },
  {
   "cell_type": "code",
   "execution_count": 5,
   "metadata": {
    "colab": {
     "autoexec": {
      "startup": false,
      "wait_interval": 0
     }
    },
    "colab_type": "code",
    "id": "wV5bSiuINrY8"
   },
   "outputs": [
    {
     "data": {
      "image/png": "[encoded data removed]",
      "text/plain": [
       "<Figure size 432x288 with 1 Axes>"
      ]
     },
     "metadata": {},
     "output_type": "display_data"
    }
   ],
   "source": [
    "# importando as bibliotecas\n",
    "%matplotlib inline\n",
    "import matplotlib.pyplot as plt\n",
    "import seaborn; seaborn.set() # plot formatting\n",
    "\n",
    "# definindo um vetor bidimensional para novos dados de entrada com 500 pontos\n",
    "X_test = np.linspace(-0.1, 1.1, 500)[:, None]\n",
    "\n",
    "# plotando uma dispersão com os dados gerados originalmente\n",
    "plt.scatter(X.ravel(), \n",
    "            y, \n",
    "            color = 'black' \n",
    "           )\n",
    "axis = plt.axis()\n",
    "\n",
    "# criando predições de funções com graus 1,3 e 5 com PolynomialRegression\n",
    "# plotando os gráficos destas funções \n",
    "for degree in [1, 3, 5]:\n",
    "    y_test = PolynomialRegression(degree).fit(X, y).predict(X_test)\n",
    "    plt.plot(X_test.ravel(), \n",
    "             y_test, \n",
    "             label = 'degree={0}'.format(degree)\n",
    "            )\n",
    "plt.xlim(-0.1, 1.0)\n",
    "plt.ylim(-2, 12)\n",
    "plt.legend(loc='best');"
   ]
  },
  {
   "cell_type": "markdown",
   "metadata": {
    "colab_type": "text",
    "id": "frxRNubeNrZA"
   },
   "source": [
    "#### Nesse caso, \"o botão\" que controla a complexidade do modelo é o grau do polinômio, que pode ser qualquer inteiro não negativo.\n",
    "\n",
    "#### Uma interessante pergunta a ser feita: qual grau de polinômio fornece um compromisso apropriado entre viés (superajuste do treino) e variância (subajuste do teste)?\n",
    "\n",
    "- Variância: A diferença no ajuste do modelo entre diferentes `datasets` de treino e de teste.\n",
    "\n",
    "- Viés, a condição de um modelo superajustado (`overfiting`) ao conjunto de treino\n",
    "\n",
    "\n",
    "#### Podemos prosseguir visualizando a curva de validação para este conjunto de dados e modelo específicos; isso pode ser feito facilmente usando a função [`validation_curve`](https://scikit-learn.org/stable/modules/generated/sklearn.model_selection.validation_curve.html), fornecida por `Scikit-Learn`.\n",
    "\n",
    "#### Dado um modelo, um conjunto de dados, um nome de parâmetro e um intervalo a ser explorado, essa função calculará automaticamente tanto o `score` de treinamento como o `score` de validação ao longo do intervalo."
   ]
  },
  {
   "cell_type": "markdown",
   "metadata": {},
   "source": [
    "## Verificação do parâmetro que mais adere aos dados (grau da polinomial)."
   ]
  },
  {
   "cell_type": "code",
   "execution_count": 6,
   "metadata": {
    "colab": {
     "autoexec": {
      "startup": false,
      "wait_interval": 0
     }
    },
    "colab_type": "code",
    "id": "_N9Bk0ILNrZA"
   },
   "outputs": [
    {
     "name": "stderr",
     "output_type": "stream",
     "text": [
      "/Users/rudineycasali/opt/anaconda3/lib/python3.7/site-packages/sklearn/utils/validation.py:71: FutureWarning: Pass param_name=polynomialfeatures__degree, param_range=[ 0  1  2  3  4  5  6  7  8  9 10 11 12 13 14 15 16 17 18 19 20] as keyword args. From version 0.25 passing these as positional arguments will result in an error\n",
      "  FutureWarning)\n"
     ]
    },
    {
     "data": {
      "image/png": "[encoded data removed]",
      "text/plain": [
       "<Figure size 432x288 with 1 Axes>"
      ]
     },
     "metadata": {},
     "output_type": "display_data"
    }
   ],
   "source": [
    "# importando as bibliotecas\n",
    "from sklearn.model_selection import validation_curve\n",
    "\n",
    "# obendo os scores de validação para treino e teste\n",
    "# utilizando a classe validation curve\n",
    "degree = np.arange(0, 21)\n",
    "train_score, val_score = validation_curve(PolynomialRegression(), \n",
    "                                          X, \n",
    "                                          y, \n",
    "                                          'polynomialfeatures__degree', \n",
    "                                          degree, \n",
    "                                          cv = 7\n",
    "                                         )\n",
    "\n",
    "# plotando as curvas de teste e validação\n",
    "plt.plot(degree, \n",
    "         np.median(train_score, 1), \n",
    "         color = 'blue', \n",
    "         label = 'training score'\n",
    "        )\n",
    "plt.plot(degree, \n",
    "         np.median(val_score, 1), \n",
    "         color = 'red', \n",
    "         label = 'validation score'\n",
    "        )\n",
    "plt.legend(loc = 'best')\n",
    "plt.ylim(0, 1)\n",
    "plt.xlabel('degree')\n",
    "plt.ylabel('score');"
   ]
  },
  {
   "cell_type": "code",
   "execution_count": 7,
   "metadata": {},
   "outputs": [
    {
     "data": {
      "text/plain": [
       "0.9756825288227936"
      ]
     },
     "execution_count": 7,
     "metadata": {},
     "output_type": "execute_result"
    }
   ],
   "source": [
    "val_score.ravel().max()"
   ]
  },
  {
   "cell_type": "code",
   "execution_count": 8,
   "metadata": {},
   "outputs": [
    {
     "data": {
      "text/plain": [
       "(array([9]), array([4]))"
      ]
     },
     "execution_count": 8,
     "metadata": {},
     "output_type": "execute_result"
    }
   ],
   "source": [
    "np.where(val_score == val_score.ravel().max())"
   ]
  },
  {
   "cell_type": "markdown",
   "metadata": {
    "colab_type": "text",
    "id": "_qOyWN6iNrZD"
   },
   "source": [
    "#### Este gráfico mostra precisamente o comportamento qualitativo que esperamos: o `score` de treinamento sempre é maior que o `score` de validação; o `score` de treinamento cresce lentamente junto com a complexidade do modelo; e o `score` de validação atinge um máximo antes de finalmente começar a cair à medida que o modelo é superajustado. \n",
    "\n",
    "#### A partir da curva de validação, é possível interpretar que o compromisso ideal entre viés e variância é encontrado com um polinômio de terceira ordem; podemos calcular e mostrar esse ajuste sobre os dados originais.\n",
    "\n",
    "## Plotando o gráfico de melhor ajuste da curva "
   ]
  },
  {
   "cell_type": "markdown",
   "metadata": {},
   "source": [
    "#### Vamos utilizar uma função da polinomial de grau $3$ para plotar a curva de malor ajuste aos pontos."
   ]
  },
  {
   "cell_type": "code",
   "execution_count": 9,
   "metadata": {
    "colab": {
     "autoexec": {
      "startup": false,
      "wait_interval": 0
     }
    },
    "colab_type": "code",
    "id": "AbuTN2xENrZE"
   },
   "outputs": [
    {
     "data": {
      "image/png": "[encoded data removed]",
      "text/plain": [
       "<Figure size 432x288 with 1 Axes>"
      ]
     },
     "metadata": {},
     "output_type": "display_data"
    }
   ],
   "source": [
    "# plotando o gráfico de melhor ajuste\n",
    "plt.scatter(X.ravel(), \n",
    "            y, \n",
    "            color = 'black'\n",
    "           )\n",
    "lim = plt.axis()\n",
    "y_test = PolynomialRegression(3).fit(X, y).predict(X_test)\n",
    "plt.plot(X_test.ravel(), \n",
    "         y_test,color = 'red'\n",
    "        );\n",
    "plt.axis(lim);"
   ]
  },
  {
   "cell_type": "markdown",
   "metadata": {
    "colab_type": "text",
    "id": "yB8PNCJVNrZG"
   },
   "source": [
    "#### Note que encontrar esse modelo ideal não exigiu que fosse calculado apenas o `score` de treinamento, mas examinando o relacionamento entre os `scores` de treinamento e validação, conseguimos obter um insight válido sobre o desempenho do modelo.\n",
    "\n",
    "____________"
   ]
  },
  {
   "cell_type": "markdown",
   "metadata": {},
   "source": [
    "# MATERIAL COMPLEMENTAR\n",
    "\n",
    "#### Há várias formas de visualização do comportamento de [validação cruzada](https://scikit-learn.org/stable/auto_examples/model_selection/plot_cv_indices.html#sphx-glr-auto-examples-model-selection-plot-cv-indices-py) no scikit-learn\n",
    "\n",
    "#### A escolha do objeto de validação cruzada correto é uma parte crucial do ajuste adequado de um modelo. Existem várias maneiras de dividir dados em conjuntos de treinamento e teste, a fim de evitar o ajuste excessivo do modelo, padronizar o número de grupos nos conjuntos de testes etc.\n",
    "\n",
    "#### Este exemplo visualiza o comportamento de vários objetos comuns do `scikit-learn` para comparação.\n",
    "\n",
    "<br>\n",
    "<img src=\"scikit_learn.png\" style=\"height:1000px\">\n",
    "<br>"
   ]
  },
  {
   "cell_type": "markdown",
   "metadata": {},
   "source": [
    "________"
   ]
  },
  {
   "cell_type": "markdown",
   "metadata": {},
   "source": [
    "# Dicas para os alunos participarem da comunidade de Machine Learning e Ciência de Dados\n",
    "\n",
    "## Ciênica de dados do Banco BCG\n",
    "[BCG](https://www.bcg.com/pt-br/default.aspx)\n",
    "\n",
    "## Google oferece projetos para participação remunerada\n",
    "[Google Summer of Code](https://summerofcode.withgoogle.com/)\n",
    "\n",
    "## Eventos na área de Ciência de Dados\n",
    "[Meetup](https://www.meetup.com/pt-BR/#_=_)\n",
    "\n",
    "## Canal no Youtube do Nubank\n",
    "[Nubank on the Stage](https://www.youtube.com/results?search_query=nubank+on+the+stage)\n",
    "\n",
    "## Comunidade organizadora de eventos mundias em Ciência de Dados\n",
    "[PAPIs](https://www.papis.io/)\n",
    "\n",
    "## Ferramenta do Facebook para séries temporais\n",
    "[FBProphet](https://facebook.github.io/prophet/docs/quick_start.html)\n",
    "\n",
    "## Comunidade de Ciência de Dados\n",
    "[Data Hackers](https://datahackers.com.br/0)\n",
    "\n",
    "## Livro com conceitos de Python para Machine Learning\n",
    "[Python Data Science Handbook: Essential Tools for Working with Data](https://play.google.com/store/books/details?id=6omNDQAAQBAJ&rdid=book-6omNDQAAQBAJ&rdot=1&source=gbs_atb&pcampaignid=books_booksearch_atb)\n"
   ]
  },
  {
   "cell_type": "code",
   "execution_count": null,
   "metadata": {},
   "outputs": [],
   "source": []
  }
 ],
 "metadata": {
  "colab": {
   "default_view": {},
   "name": "PRACTICA GUIADA - Integrando conceptos nuevos_pt_br.ipynb",
   "provenance": [],
   "version": "0.3.2",
   "views": {}
  },
  "hide_input": false,
  "kernelspec": {
   "display_name": "Python 3",
   "language": "python",
   "name": "python3"
  },
  "language_info": {
   "codemirror_mode": {
    "name": "ipython",
    "version": 3
   },
   "file_extension": ".py",
   "mimetype": "text/x-python",
   "name": "python",
   "nbconvert_exporter": "python",
   "pygments_lexer": "ipython3",
   "version": "3.7.6"
  },
  "latex_envs": {
   "LaTeX_envs_menu_present": true,
   "autoclose": false,
   "autocomplete": true,
   "bibliofile": "biblio.bib",
   "cite_by": "apalike",
   "current_citInitial": 1,
   "eqLabelWithNumbers": true,
   "eqNumInitial": 1,
   "hotkeys": {
    "equation": "Ctrl-E",
    "itemize": "Ctrl-I"
   },
   "labels_anchors": false,
   "latex_user_defs": false,
   "report_style_numbering": false,
   "user_envs_cfg": false
  },
  "toc": {
   "base_numbering": 1,
   "nav_menu": {},
   "number_sections": true,
   "sideBar": true,
   "skip_h1_title": false,
   "title_cell": "Table of Contents",
   "title_sidebar": "Contents",
   "toc_cell": false,
   "toc_position": {},
   "toc_section_display": true,
   "toc_window_display": false
  },
  "varInspector": {
   "cols": {
    "lenName": 16,
    "lenType": 16,
    "lenVar": 40
   },
   "kernels_config": {
    "python": {
     "delete_cmd_postfix": "",
     "delete_cmd_prefix": "del ",
     "library": "var_list.py",
     "varRefreshCmd": "print(var_dic_list())"
    },
    "r": {
     "delete_cmd_postfix": ") ",
     "delete_cmd_prefix": "rm(",
     "library": "var_list.r",
     "varRefreshCmd": "cat(var_dic_list()) "
    }
   },
   "types_to_exclude": [
    "module",
    "function",
    "builtin_function_or_method",
    "instance",
    "_Feature"
   ],
   "window_display": false
  }
 },
 "nbformat": 4,
 "nbformat_minor": 4
}
