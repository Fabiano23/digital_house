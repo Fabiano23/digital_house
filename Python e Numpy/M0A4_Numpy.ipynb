{
  "nbformat": 4,
  "nbformat_minor": 0,
  "metadata": {
    "colab": {
      "name": "M0A4-Numpy.ipynb",
      "provenance": [],
      "collapsed_sections": [
        "m2C8qWprxidk",
        "nU7wVkdMnBM7",
        "mYMlm7Zhxidp",
        "HTbAFTr0xidt",
        "gzTkT3I0nBN8",
        "QuUUjvyYxieR",
        "akEDWjpYnBPX",
        "eAl9HGV-xieS",
        "r2o5xq_JnBP6",
        "Ug1s1mLaxieu",
        "n1nLHtodnBQ7"
      ]
    },
    "kernelspec": {
      "display_name": "Python 3",
      "language": "python",
      "name": "python3"
    },
    "language_info": {
      "codemirror_mode": {
        "name": "ipython",
        "version": 3
      },
      "file_extension": ".py",
      "mimetype": "text/x-python",
      "name": "python",
      "nbconvert_exporter": "python",
      "pygments_lexer": "ipython3",
      "version": "3.7.6"
    }
  },
  "cells": [
    {
      "cell_type": "markdown",
      "metadata": {
        "id": "BLpPAJTcxidi"
      },
      "source": [
        "# NumPy "
      ]
    },
    {
      "cell_type": "markdown",
      "metadata": {
        "id": "5Iipo9u6nBMz"
      },
      "source": [
        "#### Nessa aula vamos aprender um pouco sobre como trabalhar com a biblioteca [Numpy](https://numpy.org/). Um pacote para a linguagem Python que suporta arranjos e matrizes multidimensionais, contendo uma coleção de funções matemáticas para trabalhar com estas estruturas."
      ]
    },
    {
      "cell_type": "markdown",
      "metadata": {
        "id": "m2C8qWprxidk"
      },
      "source": [
        "### Carregar e checar a versão de [`NumPy`](https://realpython.com/tutorials/numpy/)."
      ]
    },
    {
      "cell_type": "markdown",
      "metadata": {
        "id": "nU7wVkdMnBM7"
      },
      "source": [
        "#### Como o NumPy não é nativo do Python nós precisamos fazer uma importação da biblioteca. E para checar sua versão com a ajuda do atributo [`.__version__`](https://www.python.org/dev/peps/pep-0396/)."
      ]
    },
    {
      "cell_type": "code",
      "metadata": {
        "id": "NE-lE3pxxidl",
        "outputId": "9bc802f4-9e8f-4bc6-ac35-492886a79a64",
        "colab": {
          "base_uri": "https://localhost:8080/",
          "height": 35
        }
      },
      "source": [
        "#s!pip install numpy\n",
        "import numpy as np\n",
        "\n",
        "#vamos verificar a versão instalada\n",
        "np.__version__"
      ],
      "execution_count": 1,
      "outputs": [
        {
          "output_type": "execute_result",
          "data": {
            "application/vnd.google.colaboratory.intrinsic+json": {
              "type": "string"
            },
            "text/plain": [
              "'1.18.5'"
            ]
          },
          "metadata": {
            "tags": []
          },
          "execution_count": 1
        }
      ]
    },
    {
      "cell_type": "markdown",
      "metadata": {
        "id": "mYMlm7Zhxidp"
      },
      "source": [
        "#### O [`Numpy`](https://towardsdatascience.com/the-ultimate-beginners-guide-to-numpy-f5a2f99aef54#:~:text=NumPy%20can%20be%20used%20to,on%20these%20arrays%20and%20matrices.) é uma biblioteca com ferramentas para o trabalho com arranjos N-dimensionais. Vamos usar o método [`.arrange()`](https://numpy.org/doc/stable/reference/generated/numpy.arange.html), que retorna valores com espaçamento uniforme em um determinado intervalo."
      ]
    },
    {
      "cell_type": "code",
      "metadata": {
        "id": "OSZHXPT7xidq",
        "outputId": "735be884-1a3e-4b6e-ada8-5a1b16b1c01d",
        "colab": {
          "base_uri": "https://localhost:8080/"
        }
      },
      "source": [
        "x = np.arange(10)\n",
        "print(x)\n",
        "#type(x)"
      ],
      "execution_count": 4,
      "outputs": [
        {
          "output_type": "stream",
          "text": [
            "[0 1 2 3 4 5 6 7 8 9]\n"
          ],
          "name": "stdout"
        }
      ]
    },
    {
      "cell_type": "markdown",
      "metadata": {
        "id": "HTbAFTr0xidt"
      },
      "source": [
        "### Começaremos exercitando as listas."
      ]
    },
    {
      "cell_type": "markdown",
      "metadata": {
        "id": "UZ65anqYnBNX"
      },
      "source": [
        "#### Será criada uma lista de $0$ à $1000000$ e em seguida uma segunda lista, cujos elementos  são o quadrado de cada elemento da primeira lista."
      ]
    },
    {
      "cell_type": "code",
      "metadata": {
        "id": "hXLgMFsUxidt",
        "outputId": "f0cc089a-3eaa-49e5-81a4-18b789b6a52d",
        "colab": {
          "base_uri": "https://localhost:8080/"
        }
      },
      "source": [
        "%%time\n",
        "\n",
        "z = list(range(1000000))\n",
        "z2 = []\n",
        "for i in range(0, len(z)):\n",
        "    z2.append(z[i] ** 2)"
      ],
      "execution_count": 6,
      "outputs": [
        {
          "output_type": "stream",
          "text": [
            "CPU times: user 448 ms, sys: 38.1 ms, total: 486 ms\n",
            "Wall time: 489 ms\n"
          ],
          "name": "stdout"
        }
      ]
    },
    {
      "cell_type": "markdown",
      "metadata": {
        "id": "P8ooQ26Qxidw"
      },
      "source": [
        "#### Agora vamos ver como é a performance do array comparada com a lista. Observe que para isso usamos o [comando mágico](https://ipython.org/ipython-doc/3/interactive/magics.html) [`%%time`](https://ipython.readthedocs.io/en/stable/interactive/magics.html#magic-timeit)."
      ]
    },
    {
      "cell_type": "code",
      "metadata": {
        "id": "dmafG1Hoxidw",
        "outputId": "57d5d73d-716f-483e-afab-ffd9d0e37f54",
        "colab": {
          "base_uri": "https://localhost:8080/"
        }
      },
      "source": [
        "%%time\n",
        "\n",
        "y = np.arange(1000000)\n",
        "y = y ** 2"
      ],
      "execution_count": 9,
      "outputs": [
        {
          "output_type": "stream",
          "text": [
            "CPU times: user 4.83 ms, sys: 0 ns, total: 4.83 ms\n",
            "Wall time: 8.05 ms\n"
          ],
          "name": "stdout"
        }
      ]
    },
    {
      "cell_type": "markdown",
      "metadata": {
        "id": "iK-RJhfJxidz"
      },
      "source": [
        "#### A uma lista podemos adicionar vários tipos diferentes de variáveis. "
      ]
    },
    {
      "cell_type": "code",
      "metadata": {
        "id": "wW2bG4cNxidz",
        "outputId": "a80fc3e8-c401-48c3-9264-7419ac860a4a",
        "colab": {
          "base_uri": "https://localhost:8080/"
        }
      },
      "source": [
        "animal = ['Dog', 'Mammal', 45, 7]\n",
        "print(animal)"
      ],
      "execution_count": 10,
      "outputs": [
        {
          "output_type": "stream",
          "text": [
            "['Dog', 'Mammal', 45, 7]\n"
          ],
          "name": "stdout"
        }
      ]
    },
    {
      "cell_type": "markdown",
      "metadata": {
        "id": "gzTkT3I0nBN8"
      },
      "source": [
        "#### Com um [arranjo Numpy](https://towardsdatascience.com/numpy-array-all-you-want-to-know-d3f8503a2f8f) isso não acontece, todas as variáveis serão do mesmo tipo. "
      ]
    },
    {
      "cell_type": "markdown",
      "metadata": {
        "id": "cMyibtSgnxnl"
      },
      "source": [
        "Nesse caso ele tranforma os nossos números em strings"
      ]
    },
    {
      "cell_type": "code",
      "metadata": {
        "id": "QVzr3UpFxid4",
        "outputId": "09802089-10b2-45e3-9c3a-e2deea1db4cd",
        "colab": {
          "base_uri": "https://localhost:8080/"
        }
      },
      "source": [
        "np.array(animal)"
      ],
      "execution_count": 11,
      "outputs": [
        {
          "output_type": "execute_result",
          "data": {
            "text/plain": [
              "array(['Dog', 'Mammal', '45', '7'], dtype='<U6')"
            ]
          },
          "metadata": {
            "tags": []
          },
          "execution_count": 11
        }
      ]
    },
    {
      "cell_type": "markdown",
      "metadata": {
        "id": "e-_XI9KJxid7"
      },
      "source": [
        "#### Um [arranjo Numpy](https://machinelearningmastery.com/gentle-introduction-n-dimensional-arrays-python-numpy/) pode ter [quantas dimensões](https://numpy.org/doc/stable/reference/arrays.ndarray.html) desejarmos, porém é comum termos arranjos de $1$, $2$ e $3$ dimensões. Como será um arranjo de $3$ dimensões? O método [`.arange()`](https://numpy.org/doc/stable/reference/generated/numpy.arange.html) retorna valores com espaçamento uniforme em um determinado intervalo e o método [`.reshape()`](https://numpy.org/doc/stable/reference/generated/numpy.reshape.html) dá uma nova forma a uma matriz sem alterar seus dados."
      ]
    },
    {
      "cell_type": "markdown",
      "metadata": {
        "id": "644o2KoKoXmX"
      },
      "source": [
        "Obs: Repare que o produto dos argumentos passados em `.reshape()` precisa ser mesmo valor de elementos em nosso array."
      ]
    },
    {
      "cell_type": "code",
      "metadata": {
        "id": "BKT6NQsNxid7",
        "outputId": "9f0ebe63-15cb-4e00-aa1c-a3776a858267",
        "colab": {
          "base_uri": "https://localhost:8080/"
        }
      },
      "source": [
        "ndim = np.arange(27).reshape(3, 3, 3)\n",
        "print(ndim)"
      ],
      "execution_count": 13,
      "outputs": [
        {
          "output_type": "stream",
          "text": [
            "[[[ 0  1  2]\n",
            "  [ 3  4  5]\n",
            "  [ 6  7  8]]\n",
            "\n",
            " [[ 9 10 11]\n",
            "  [12 13 14]\n",
            "  [15 16 17]]\n",
            "\n",
            " [[18 19 20]\n",
            "  [21 22 23]\n",
            "  [24 25 26]]]\n"
          ],
          "name": "stdout"
        }
      ]
    },
    {
      "cell_type": "markdown",
      "metadata": {
        "id": "hWMVCovenBOS"
      },
      "source": [
        "#### Um array de quatro dimensões."
      ]
    },
    {
      "cell_type": "code",
      "metadata": {
        "id": "4ZK6mvKwxid-",
        "outputId": "8ede34c6-29da-4f57-882a-e07b02d1f380"
      },
      "source": [
        "twos = np.arange(16).reshape(2, 2, 2, 2)\n",
        "print(twos)"
      ],
      "execution_count": null,
      "outputs": [
        {
          "output_type": "stream",
          "text": [
            "[[[[ 0  1]\n",
            "   [ 2  3]]\n",
            "\n",
            "  [[ 4  5]\n",
            "   [ 6  7]]]\n",
            "\n",
            "\n",
            " [[[ 8  9]\n",
            "   [10 11]]\n",
            "\n",
            "  [[12 13]\n",
            "   [14 15]]]]\n"
          ],
          "name": "stdout"
        }
      ]
    },
    {
      "cell_type": "markdown",
      "metadata": {
        "id": "KP6bV2PFxieA"
      },
      "source": [
        "#### Talvez você deseje utilizar um arranjo para salvar dados e precise fazer uma declaração de variável inicialmente para \"guardar\" memória para salvar futuros dados. Há algumas maneiras de se fazer isso, observe as os métodos:\n",
        "- [`.ones()`](https://numpy.org/doc/stable/reference/generated/numpy.ones.html), retorne uma nova matriz de forma e tipo fornecidos, preenchida com uns.\n",
        "- [`.zeros()`](https://numpy.org/doc/stable/reference/generated/numpy.zeros.html), retorne uma nova matriz de forma e tipo fornecidos, preenchida com zeros.\n",
        "- [`.eye()`](https://numpy.org/doc/stable/reference/generated/numpy.eye.html), retorne uma matriz 2-D com uns na diagonal e zeros em outros lugares."
      ]
    },
    {
      "cell_type": "code",
      "metadata": {
        "id": "kqA16A70xieA",
        "outputId": "6fc8d248-2009-426e-c9d0-4ad5a847878f",
        "colab": {
          "base_uri": "https://localhost:8080/"
        }
      },
      "source": [
        "print(np.ones((3, 5)), end = '\\n\\n')\n",
        "print(np.zeros((3, 5)), end = '\\n\\n')\n",
        "print(np.eye(3, 3))"
      ],
      "execution_count": 14,
      "outputs": [
        {
          "output_type": "stream",
          "text": [
            "[[1. 1. 1. 1. 1.]\n",
            " [1. 1. 1. 1. 1.]\n",
            " [1. 1. 1. 1. 1.]]\n",
            "\n",
            "[[0. 0. 0. 0. 0.]\n",
            " [0. 0. 0. 0. 0.]\n",
            " [0. 0. 0. 0. 0.]]\n",
            "\n",
            "[[1. 0. 0.]\n",
            " [0. 1. 0.]\n",
            " [0. 0. 1.]]\n"
          ],
          "name": "stdout"
        }
      ]
    },
    {
      "cell_type": "markdown",
      "metadata": {
        "id": "D43gZABwxieC"
      },
      "source": [
        "#### Como acessar dados dentro do arranjo? Vamos criar um arranjo de maneira randômica de tamanho (número de elementos) $15$ com o método [`.randint()`](https://docs.scipy.org/doc/numpy-1.15.1/reference/generated/numpy.random.randint.html), que retorne inteiros aleatoriamente."
      ]
    },
    {
      "cell_type": "markdown",
      "metadata": {
        "id": "I6D8wC8apotq"
      },
      "source": [
        "Obs: O parâmetro `low` passado sem o parâmetro `high` retorna somente valores abaixo do valor passado. Nesse caso, somente valores abaixo de 10."
      ]
    },
    {
      "cell_type": "code",
      "metadata": {
        "id": "Y0mBPQavxieD",
        "outputId": "6408ec72-b569-493c-e2b4-3bcace698d6f",
        "colab": {
          "base_uri": "https://localhost:8080/"
        }
      },
      "source": [
        "data = np.random.randint(low = 10, size = 15)\n",
        "print(data)"
      ],
      "execution_count": 15,
      "outputs": [
        {
          "output_type": "stream",
          "text": [
            "[5 5 7 2 0 0 5 3 8 6 5 9 9 2 4]\n"
          ],
          "name": "stdout"
        }
      ]
    },
    {
      "cell_type": "markdown",
      "metadata": {
        "id": "q9BtavrWnBO1"
      },
      "source": [
        "#### Fazemos uma [slice](https://towardsdatascience.com/working-with-numpy-arrays-slicing-4453ec757ff0) dos dados."
      ]
    },
    {
      "cell_type": "code",
      "metadata": {
        "id": "tWTCi_3PxieH",
        "outputId": "0ceea5dd-9199-4117-c90f-f86197c44a43",
        "colab": {
          "base_uri": "https://localhost:8080/"
        }
      },
      "source": [
        "data[4: 8]"
      ],
      "execution_count": 16,
      "outputs": [
        {
          "output_type": "execute_result",
          "data": {
            "text/plain": [
              "array([0, 0, 5, 3])"
            ]
          },
          "metadata": {
            "tags": []
          },
          "execution_count": 16
        }
      ]
    },
    {
      "cell_type": "markdown",
      "metadata": {
        "id": "5L4cH-vfnBPC"
      },
      "source": [
        "#### E alteramos sua [forma](https://towardsdatascience.com/reshaping-numpy-arrays-in-python-a-step-by-step-pictorial-tutorial-aed5f471cf0b)."
      ]
    },
    {
      "cell_type": "code",
      "metadata": {
        "id": "9TVXPjUxxieK",
        "outputId": "11cd404a-fa93-4aae-8f95-59dc2731d48e",
        "colab": {
          "base_uri": "https://localhost:8080/"
        }
      },
      "source": [
        "data = data.reshape(3, 5)\n",
        "data"
      ],
      "execution_count": 17,
      "outputs": [
        {
          "output_type": "execute_result",
          "data": {
            "text/plain": [
              "array([[5, 5, 7, 2, 0],\n",
              "       [0, 5, 3, 8, 6],\n",
              "       [5, 9, 9, 2, 4]])"
            ]
          },
          "metadata": {
            "tags": []
          },
          "execution_count": 17
        }
      ]
    },
    {
      "cell_type": "code",
      "metadata": {
        "id": "1qU_mZYaxieO",
        "outputId": "4d19190d-1314-4b85-c812-7d2dc007a25d",
        "colab": {
          "base_uri": "https://localhost:8080/"
        }
      },
      "source": [
        "#data[2, 4]\n",
        "data[:, 0:1]"
      ],
      "execution_count": 29,
      "outputs": [
        {
          "output_type": "execute_result",
          "data": {
            "text/plain": [
              "array([[5],\n",
              "       [0],\n",
              "       [5]])"
            ]
          },
          "metadata": {
            "tags": []
          },
          "execution_count": 29
        }
      ]
    },
    {
      "cell_type": "markdown",
      "metadata": {
        "id": "QuUUjvyYxieR"
      },
      "source": [
        "####  <span style = \"color:blue\">Prática Independente.</span>\n",
        "\n",
        "Coloque a lista seguinte em ordem crescente:\n",
        "\n",
        "1. lista_exercico = [8, 5, 2, 4, 9]"
      ]
    },
    {
      "cell_type": "code",
      "metadata": {
        "id": "ntIoJOA2q0N2",
        "outputId": "ae6180d5-4265-4222-f37d-36718b4b91f9",
        "colab": {
          "base_uri": "https://localhost:8080/"
        }
      },
      "source": [
        "lista_exercico = [8, 5, 2, 4, 9]\n",
        "lista_exercico.sort()\n",
        "lista_exercico"
      ],
      "execution_count": 31,
      "outputs": [
        {
          "output_type": "execute_result",
          "data": {
            "text/plain": [
              "[2, 4, 5, 8, 9]"
            ]
          },
          "metadata": {
            "tags": []
          },
          "execution_count": 31
        }
      ]
    },
    {
      "cell_type": "markdown",
      "metadata": {
        "id": "akEDWjpYnBPX"
      },
      "source": [
        "####  <span style = \"color:red\">Código original.</span>\n",
        "<!--- \n",
        "x = np.array([8, 5, 2, 4, 9])\n",
        "print(np.argsort(x))\n",
        "#print(x[x.argsort()])\n",
        "#print(x)\n",
        "-->"
      ]
    },
    {
      "cell_type": "markdown",
      "metadata": {
        "id": "eAl9HGV-xieS"
      },
      "source": [
        "#### o método [`.argsort()`](https://numpy.org/doc/stable/reference/generated/numpy.argsort.html) retorna os índices que ordenariam um arranjo."
      ]
    },
    {
      "cell_type": "code",
      "metadata": {
        "id": "tD9Xch4kxieS",
        "outputId": "46886627-6cb1-4d03-8e30-d5ad7ee1407e",
        "colab": {
          "base_uri": "https://localhost:8080/"
        }
      },
      "source": [
        "x = np.array([8, 5, 2, 4, 9])\n",
        "#type(x)\n",
        "\n",
        "#índices de ordenação do arranjo\n",
        "print(np.argsort(x))\n",
        "\n",
        "#Arranjo ordenado\n",
        "print(x[x.argsort()])\n",
        "\n",
        "#Arranjo original não modifica somente com a aplicação da função .argsort()\n",
        "print(x)"
      ],
      "execution_count": 33,
      "outputs": [
        {
          "output_type": "stream",
          "text": [
            "[2 3 1 0 4]\n",
            "[2 4 5 8 9]\n",
            "[8 5 2 4 9]\n"
          ],
          "name": "stdout"
        }
      ]
    },
    {
      "cell_type": "markdown",
      "metadata": {
        "id": "EDfXaV9OnBPi"
      },
      "source": [
        "#### Podemos usar o seqüênciamento de índices de um arranjo em um outro."
      ]
    },
    {
      "cell_type": "code",
      "metadata": {
        "id": "5gJRdiZrxieV"
      },
      "source": [
        "grade = np.array([3, 5, 1, 6, 2, 7])\n",
        "ages = np.array([8, 10, 6, 11, 7, 12])"
      ],
      "execution_count": 37,
      "outputs": []
    },
    {
      "cell_type": "code",
      "metadata": {
        "id": "Y0aixxuSxieZ",
        "outputId": "69f43da8-fba7-4928-ffbd-bdbc3f1f39d6",
        "colab": {
          "base_uri": "https://localhost:8080/"
        }
      },
      "source": [
        "sort_index = np.argsort(ages)\n",
        "sort_index"
      ],
      "execution_count": 38,
      "outputs": [
        {
          "output_type": "execute_result",
          "data": {
            "text/plain": [
              "array([2, 4, 0, 1, 3, 5])"
            ]
          },
          "metadata": {
            "tags": []
          },
          "execution_count": 38
        }
      ]
    },
    {
      "cell_type": "code",
      "metadata": {
        "id": "HbAICaQoxied",
        "outputId": "6cba62bb-429b-40c9-f362-f4210166cdaa",
        "colab": {
          "base_uri": "https://localhost:8080/"
        }
      },
      "source": [
        "print(grade[sort_index])\n",
        "print(ages[sort_index])"
      ],
      "execution_count": 39,
      "outputs": [
        {
          "output_type": "stream",
          "text": [
            "[1 2 3 5 6 7]\n",
            "[ 6  7  8 10 11 12]\n"
          ],
          "name": "stdout"
        }
      ]
    },
    {
      "cell_type": "markdown",
      "metadata": {
        "id": "r2o5xq_JnBP6"
      },
      "source": [
        "#### Em ordem decrescente. "
      ]
    },
    {
      "cell_type": "code",
      "metadata": {
        "id": "6jUAD4JHxief",
        "outputId": "3364eeb2-ddac-4710-af06-3ef3da2f3296",
        "colab": {
          "base_uri": "https://localhost:8080/"
        }
      },
      "source": [
        "#print(ages[sort_index])\n",
        "#print(list(ages[sort_index]))\n",
        "print(list(ages[sort_index])[::-1])\n"
      ],
      "execution_count": 40,
      "outputs": [
        {
          "output_type": "stream",
          "text": [
            "[12, 11, 10, 8, 7, 6]\n"
          ],
          "name": "stdout"
        }
      ]
    },
    {
      "cell_type": "markdown",
      "metadata": {
        "id": "jY5AUly6xiei"
      },
      "source": [
        "### Vamos manipular algum array"
      ]
    },
    {
      "cell_type": "markdown",
      "metadata": {
        "id": "RTBUNWijsYn3"
      },
      "source": [
        "O parâmetro `low` passado junto com o `high` retorna somente valores dentro do intervalor entre os dois de caráter semi aberto.\n",
        "\n",
        "Nesse caso ele retornará somente valores no intervalo entre -10 (inclusivo) e 10 (exclusivo, então vai só até o 9)"
      ]
    },
    {
      "cell_type": "code",
      "metadata": {
        "id": "Ot3ZNPD8xiei",
        "outputId": "6bbbef13-d214-427d-fc97-14bca591a2b2",
        "colab": {
          "base_uri": "https://localhost:8080/"
        }
      },
      "source": [
        "import numpy.random as npr\n",
        "\n",
        "x = npr.randint(low= -10, high= 10, size = 100)\n",
        "print(x)"
      ],
      "execution_count": 51,
      "outputs": [
        {
          "output_type": "stream",
          "text": [
            "[ -1   4  -5  -6   5   7   1  -8   8  -3   1  -9  -9   7   5   9   6   6\n",
            " -10   1   9   0   3   6   9 -10   0   6   1   0   9   6   8 -10  -2  -2\n",
            "   0   9  -6  -7   2   8  -4 -10   3  -2  -3  -5   4   5  -3   9  -8   1\n",
            "  -5   8   0  -7  -5  -5   5  -9  -9  -1  -5   0   9  -5  -9   4   1   8\n",
            "  -5   3  -7   7  -6   0  -2   6  -6   0   3  -2  -6   9   5  -9  -2   2\n",
            "   8   3  -7   2   7   1   8  -6  -1   6]\n"
          ],
          "name": "stdout"
        }
      ]
    },
    {
      "cell_type": "markdown",
      "metadata": {
        "id": "5NBmEbYGxiel"
      },
      "source": [
        "####  <span style = \"color:blue\">Prática independente.</span>\n",
        "\n",
        "1. No array acima, substitua os valores menores que $-1$ por $-1$, e valores maiores que $5$ por $5$."
      ]
    },
    {
      "cell_type": "code",
      "metadata": {
        "id": "u2Yyvdivs7Gt"
      },
      "source": [
        "#x[x < -1] = -1\n",
        "#x[x > 5] = 5\n",
        "#x"
      ],
      "execution_count": 50,
      "outputs": []
    },
    {
      "cell_type": "markdown",
      "metadata": {
        "id": "w6Qu8MzhnBQN"
      },
      "source": [
        "#### Uma forma de fácil com uma única operação é fazer uso do método [`.clip()`](https://numpy.org/doc/stable/reference/generated/numpy.clip.html), que recorta as bordas de um dado intervalo, criando um subespaço."
      ]
    },
    {
      "cell_type": "code",
      "metadata": {
        "id": "MwmrE2CMxiem",
        "outputId": "3f624798-8055-4a66-9251-1964d366d29d",
        "colab": {
          "base_uri": "https://localhost:8080/"
        }
      },
      "source": [
        "#z = x.clip(-1, 5) \n",
        "#print(z)\n",
        "print(x.clip(-1, 5))"
      ],
      "execution_count": 52,
      "outputs": [
        {
          "output_type": "stream",
          "text": [
            "[-1  4 -1 -1  5  5  1 -1  5 -1  1 -1 -1  5  5  5  5  5 -1  1  5  0  3  5\n",
            "  5 -1  0  5  1  0  5  5  5 -1 -1 -1  0  5 -1 -1  2  5 -1 -1  3 -1 -1 -1\n",
            "  4  5 -1  5 -1  1 -1  5  0 -1 -1 -1  5 -1 -1 -1 -1  0  5 -1 -1  4  1  5\n",
            " -1  3 -1  5 -1  0 -1  5 -1  0  3 -1 -1  5  5 -1 -1  2  5  3 -1  2  5  1\n",
            "  5 -1 -1  5]\n"
          ],
          "name": "stdout"
        }
      ]
    },
    {
      "cell_type": "markdown",
      "metadata": {
        "id": "JQRNOofBuPLL"
      },
      "source": [
        "Se somente aplcarmos a função no array ele permanece com os valores originais"
      ]
    },
    {
      "cell_type": "code",
      "metadata": {
        "id": "AjWIicgTnBQW",
        "outputId": "cc5f5788-f1e8-4915-8342-0c62c1e96598",
        "colab": {
          "base_uri": "https://localhost:8080/"
        }
      },
      "source": [
        "print(x)"
      ],
      "execution_count": 53,
      "outputs": [
        {
          "output_type": "stream",
          "text": [
            "[ -1   4  -5  -6   5   7   1  -8   8  -3   1  -9  -9   7   5   9   6   6\n",
            " -10   1   9   0   3   6   9 -10   0   6   1   0   9   6   8 -10  -2  -2\n",
            "   0   9  -6  -7   2   8  -4 -10   3  -2  -3  -5   4   5  -3   9  -8   1\n",
            "  -5   8   0  -7  -5  -5   5  -9  -9  -1  -5   0   9  -5  -9   4   1   8\n",
            "  -5   3  -7   7  -6   0  -2   6  -6   0   3  -2  -6   9   5  -9  -2   2\n",
            "   8   3  -7   2   7   1   8  -6  -1   6]\n"
          ],
          "name": "stdout"
        }
      ]
    },
    {
      "cell_type": "markdown",
      "metadata": {
        "id": "NCmbwCPIxiep"
      },
      "source": [
        "#### Suponha que você precisa realizar uma escolha aleatória de um número determinado de elementos de `x`, como podemos fazer isso? \n",
        "\n",
        "#### É possível aplicar o método [`.choice()`](https://docs.scipy.org/doc//numpy-1.10.4/reference/generated/numpy.random.choice.html), gera uma amostra aleatória de uma determinada matriz unidimensional."
      ]
    },
    {
      "cell_type": "markdown",
      "metadata": {
        "id": "8v5S31_dug-1"
      },
      "source": [
        "Obs: o parâmetro `replace` é pra dizermos se queremos gerar essas amostra com números repetidos ou não. Nesse caso não queremos, então lhe damos o booleano `False`."
      ]
    },
    {
      "cell_type": "code",
      "metadata": {
        "id": "jdOEPxjxxiep",
        "outputId": "444f804e-549a-400e-c554-dae17a3e0c1c",
        "colab": {
          "base_uri": "https://localhost:8080/"
        }
      },
      "source": [
        "y = npr.choice(x, 10, replace = False)\n",
        "y"
      ],
      "execution_count": 61,
      "outputs": [
        {
          "output_type": "execute_result",
          "data": {
            "text/plain": [
              "array([ 0,  1, -2,  6,  9, -3,  0, -8,  8,  6])"
            ]
          },
          "metadata": {
            "tags": []
          },
          "execution_count": 61
        }
      ]
    },
    {
      "cell_type": "markdown",
      "metadata": {
        "id": "vEn4Riezxier"
      },
      "source": [
        "#### É possível, com a ajuda do parâmetro `p`, associar valores de probabilidades a cada entrada em `y` e realizar uma escolha não tão aleatória assim. Para o caso de `p` não ser fornecido, a amostra assume uma distribuição uniforme sobre todas as entradas em um. "
      ]
    },
    {
      "cell_type": "code",
      "metadata": {
        "id": "bPBoIq73xies",
        "outputId": "c946248f-0bf4-4f52-f57a-4a3db7d23d8b",
        "colab": {
          "base_uri": "https://localhost:8080/"
        }
      },
      "source": [
        "y = npr.choice(y, size= 10, p = [.05, .15, .15, .15, .05, .1, 0.10, .07, .08, 0.1])\n",
        "y"
      ],
      "execution_count": 66,
      "outputs": [
        {
          "output_type": "execute_result",
          "data": {
            "text/plain": [
              "array([ 6,  1,  1,  6,  6, -8,  6,  9,  6,  9])"
            ]
          },
          "metadata": {
            "tags": []
          },
          "execution_count": 66
        }
      ]
    },
    {
      "cell_type": "markdown",
      "metadata": {
        "id": "Ug1s1mLaxieu"
      },
      "source": [
        "####  <span style = \"color:blue\">Prática independente.</span>\n",
        "\n",
        "1. Encontre os elementos unicos do array a seguir.\n",
        "2. O retorno deve ser o elemento e seu index.\n",
        "3. A quantidade observada de cada elemento."
      ]
    },
    {
      "cell_type": "code",
      "metadata": {
        "id": "lMGlflP0xieu"
      },
      "source": [
        "symbols = np.array(['BCD', \n",
        "                    'ACD', \n",
        "                    'ACD', \n",
        "                    'ACD', \n",
        "                    'ABD', \n",
        "                    'ABC', \n",
        "                    'ABC', \n",
        "                    'ABD', \n",
        "                    'ABD',\n",
        "                    'BCD', \n",
        "                    'BCD', \n",
        "                    'ABC', \n",
        "                    'ABC', \n",
        "                    'BCD', \n",
        "                    'ACD']\n",
        "                  )"
      ],
      "execution_count": 67,
      "outputs": []
    },
    {
      "cell_type": "code",
      "metadata": {
        "id": "O4qMlseMxQEr",
        "outputId": "fefa3e04-63ae-41a8-e739-6fb6842b2cab",
        "colab": {
          "base_uri": "https://localhost:8080/"
        }
      },
      "source": [
        "#Elementos únicos\n",
        "print(np.unique(symbols))\n",
        "\n",
        "#Elementos e índices: um array com os elementos e outro com seus respectivos índices\n",
        "print(np.unique(symbols, return_index= True))\n",
        "\n",
        "#Elementos e contagem: um array com os elementos e outro com suas respectivas frequências\n",
        "print(np.unique(symbols, return_counts= True))"
      ],
      "execution_count": 71,
      "outputs": [
        {
          "output_type": "stream",
          "text": [
            "['ABC' 'ABD' 'ACD' 'BCD']\n",
            "(array(['ABC', 'ABD', 'ACD', 'BCD'], dtype='<U3'), array([5, 4, 1, 0]))\n",
            "(array(['ABC', 'ABD', 'ACD', 'BCD'], dtype='<U3'), array([4, 3, 4, 4]))\n"
          ],
          "name": "stdout"
        }
      ]
    },
    {
      "cell_type": "markdown",
      "metadata": {
        "id": "n1nLHtodnBQ7"
      },
      "source": [
        "#### O método [`.unique()`](https://numpy.org/doc/stable/reference/generated/numpy.unique.html), que encontra os elementos exclusivos de uma matriz e seus elementos exclusivos classificados.\n",
        "\n",
        "- `return_index`, para casos `True`, retorna os índices do arranjo que resultam na matriz exclusiva.\n",
        "- `return_counts`, para casos `True`, retorna o número de vezes que cada item exclusivo aparece em ar."
      ]
    },
    {
      "cell_type": "markdown",
      "metadata": {
        "id": "IWoDDBbQnBQ9"
      },
      "source": [
        "#### Existem três saídas opcionais, além dos elementos exclusivos:"
      ]
    },
    {
      "cell_type": "code",
      "metadata": {
        "id": "Ni-XkAhxxiex"
      },
      "source": [
        "a, b, c = np.unique(symbols, \n",
        "                    return_index = True,\n",
        "                    return_counts = True                  \n",
        "                   )"
      ],
      "execution_count": 77,
      "outputs": []
    },
    {
      "cell_type": "markdown",
      "metadata": {
        "id": "UVfXGrsRnBRJ"
      },
      "source": [
        "#### Os valores da matriz de entrada que fornecem os valores únicos."
      ]
    },
    {
      "cell_type": "code",
      "metadata": {
        "id": "WOqyTnxaxiez",
        "outputId": "637a9ef1-59f6-418f-c99b-25ee40f58d20",
        "colab": {
          "base_uri": "https://localhost:8080/"
        }
      },
      "source": [
        "a"
      ],
      "execution_count": 78,
      "outputs": [
        {
          "output_type": "execute_result",
          "data": {
            "text/plain": [
              "array(['ABC', 'ABD', 'ACD', 'BCD'], dtype='<U3')"
            ]
          },
          "metadata": {
            "tags": []
          },
          "execution_count": 78
        }
      ]
    },
    {
      "cell_type": "markdown",
      "metadata": {
        "id": "EdfuQ-tCnBRn"
      },
      "source": [
        "#### Os índices da matriz única que reconstrói a matriz de entrada."
      ]
    },
    {
      "cell_type": "code",
      "metadata": {
        "id": "Rhu8ts3_xie7",
        "outputId": "d8be8a64-d1c5-4f49-c943-e338aa9ed67a",
        "colab": {
          "base_uri": "https://localhost:8080/"
        }
      },
      "source": [
        "b"
      ],
      "execution_count": 80,
      "outputs": [
        {
          "output_type": "execute_result",
          "data": {
            "text/plain": [
              "array([5, 4, 1, 0])"
            ]
          },
          "metadata": {
            "tags": []
          },
          "execution_count": 80
        }
      ]
    },
    {
      "cell_type": "markdown",
      "metadata": {
        "id": "zMVgYNH4nBRT"
      },
      "source": [
        "#### O número de vezes que cada valor único aparece na matriz de entrada."
      ]
    },
    {
      "cell_type": "code",
      "metadata": {
        "id": "kMNIJ3hSxie1",
        "outputId": "4386cd30-0e0e-413e-949c-e3864ae916aa",
        "colab": {
          "base_uri": "https://localhost:8080/"
        }
      },
      "source": [
        "c"
      ],
      "execution_count": 79,
      "outputs": [
        {
          "output_type": "execute_result",
          "data": {
            "text/plain": [
              "array([4, 3, 4, 4])"
            ]
          },
          "metadata": {
            "tags": []
          },
          "execution_count": 79
        }
      ]
    },
    {
      "cell_type": "markdown",
      "metadata": {
        "id": "_RX1dghKnBRc"
      },
      "source": [
        "#### A forma do arranjo `a` pode ser encontrada com o atributo [`.shape`](https://numpy.org/devdocs/reference/generated/numpy.shape.html), que retorna uma tupla com as dimensões do arranjo correspondente."
      ]
    },
    {
      "cell_type": "code",
      "metadata": {
        "id": "sMSomg3txie5",
        "outputId": "5b7c76f7-0929-42a5-8e5c-2b161d407381",
        "colab": {
          "base_uri": "https://localhost:8080/"
        }
      },
      "source": [
        "a.shape"
      ],
      "execution_count": 81,
      "outputs": [
        {
          "output_type": "execute_result",
          "data": {
            "text/plain": [
              "(4,)"
            ]
          },
          "metadata": {
            "tags": []
          },
          "execution_count": 81
        }
      ]
    },
    {
      "cell_type": "markdown",
      "metadata": {
        "id": "87PiDOkhxie-"
      },
      "source": [
        "#### Podemos operar com diferentes arranjos e uma das formas é através da [`concatenação`](https://cmdlinetips.com/2018/04/how-to-concatenate-arrays-in-numpy/#:~:text=17%20%2C%2018%20%5D%5D) dos mesmos. A função [`.concatenate()`](https://numpy.org/doc/stable/reference/generated/numpy.concatenate.html) une a uma sequência de matrizes ao longo de um eixo existente."
      ]
    },
    {
      "cell_type": "code",
      "metadata": {
        "id": "73YNLJ3txie-"
      },
      "source": [
        "array_1 = [[1, 2],\n",
        "           [3, 4]\n",
        "          ]\n",
        "\n",
        "array_2 = [[5, 6],\n",
        "           [7, 8]\n",
        "          ]\n",
        "\n",
        "\n",
        "#[a00 a01]\n",
        "#[a10 a11]"
      ],
      "execution_count": 83,
      "outputs": []
    },
    {
      "cell_type": "code",
      "metadata": {
        "id": "5HIhzurwxifA",
        "outputId": "fb463c64-0dff-45cf-9d2f-42a3ff67fa3a",
        "colab": {
          "base_uri": "https://localhost:8080/"
        }
      },
      "source": [
        "np.concatenate((array_1, \n",
        "                array_2), \n",
        "               axis = 0\n",
        "              )"
      ],
      "execution_count": 84,
      "outputs": [
        {
          "output_type": "execute_result",
          "data": {
            "text/plain": [
              "array([[1, 2],\n",
              "       [3, 4],\n",
              "       [5, 6],\n",
              "       [7, 8]])"
            ]
          },
          "metadata": {
            "tags": []
          },
          "execution_count": 84
        }
      ]
    },
    {
      "cell_type": "markdown",
      "metadata": {
        "id": "R47wqSHGnBSP"
      },
      "source": [
        "#### O parâmetro `axis` identifica o eixo ao longo do qual as matrizes serão unidas. Se o eixo for `NONE`, as matrizes serão [niveladas](https://www.w3resource.com/numpy/manipulation/ndarray-flatten.php#:~:text=ndarray.-,flatten()%20function,array%20collapsed%20into%20one%20dimension.&text='C'%20means%20to%20flatten%20in,(Fortran%2D%20style)%20order.) antes do uso. O padrão é $0$."
      ]
    },
    {
      "cell_type": "code",
      "metadata": {
        "id": "DmxSDRi3xifC",
        "outputId": "8be0b401-663d-426a-cd50-e43af42f2bd6",
        "colab": {
          "base_uri": "https://localhost:8080/"
        }
      },
      "source": [
        "np.concatenate((array_1, \n",
        "                array_2)\n",
        "               , axis = 1\n",
        "              )"
      ],
      "execution_count": 85,
      "outputs": [
        {
          "output_type": "execute_result",
          "data": {
            "text/plain": [
              "array([[1, 2, 5, 6],\n",
              "       [3, 4, 7, 8]])"
            ]
          },
          "metadata": {
            "tags": []
          },
          "execution_count": 85
        }
      ]
    },
    {
      "cell_type": "markdown",
      "metadata": {
        "id": "2A2QksSXxifG"
      },
      "source": [
        "#### Um arranjo colapsado ([flatten Array](https://towardsdatascience.com/numpy-array-manipulation-5d2b42354688)) retorna uma cópia da matriz original."
      ]
    },
    {
      "cell_type": "code",
      "metadata": {
        "id": "H9L-c3ldxifK",
        "outputId": "624972ff-90b6-4bdc-936d-f3b6c0968809",
        "colab": {
          "base_uri": "https://localhost:8080/"
        }
      },
      "source": [
        "arr = np.arange(27).reshape(3, 3, 3)\n",
        "arr"
      ],
      "execution_count": 86,
      "outputs": [
        {
          "output_type": "execute_result",
          "data": {
            "text/plain": [
              "array([[[ 0,  1,  2],\n",
              "        [ 3,  4,  5],\n",
              "        [ 6,  7,  8]],\n",
              "\n",
              "       [[ 9, 10, 11],\n",
              "        [12, 13, 14],\n",
              "        [15, 16, 17]],\n",
              "\n",
              "       [[18, 19, 20],\n",
              "        [21, 22, 23],\n",
              "        [24, 25, 26]]])"
            ]
          },
          "metadata": {
            "tags": []
          },
          "execution_count": 86
        }
      ]
    },
    {
      "cell_type": "markdown",
      "metadata": {
        "id": "c9MIzBtSnBSk"
      },
      "source": [
        "#### O método [`.flatten()`](https://numpy.org/doc/stable/reference/generated/numpy.ndarray.flatten.html) retorna uma cópia da matriz colapsada em uma dimensão."
      ]
    },
    {
      "cell_type": "code",
      "metadata": {
        "id": "dh4Coa9XxifN",
        "outputId": "4856fa1e-fe27-4131-84c6-8ae4d3f223d2",
        "colab": {
          "base_uri": "https://localhost:8080/"
        }
      },
      "source": [
        "arr.flatten()"
      ],
      "execution_count": 87,
      "outputs": [
        {
          "output_type": "execute_result",
          "data": {
            "text/plain": [
              "array([ 0,  1,  2,  3,  4,  5,  6,  7,  8,  9, 10, 11, 12, 13, 14, 15, 16,\n",
              "       17, 18, 19, 20, 21, 22, 23, 24, 25, 26])"
            ]
          },
          "metadata": {
            "tags": []
          },
          "execution_count": 87
        }
      ]
    },
    {
      "cell_type": "markdown",
      "metadata": {
        "id": "kyqObGW1xifR"
      },
      "source": [
        "#### O método [`.randit()`](https://docs.scipy.org/doc/numpy-1.15.0/reference/generated/numpy.random.randint.html) retorna inteiros aleatórios da distribuição “uniforme discreta” do tipo `d` especificado no intervalo “meio aberto” [baixo, alto). Se alto for Nenhum (o padrão), os resultados serão de [0, baixo)."
      ]
    },
    {
      "cell_type": "code",
      "metadata": {
        "id": "9q6jVUwKxifS",
        "outputId": "00405b12-daa1-4565-efcb-6c95502c09ab",
        "colab": {
          "base_uri": "https://localhost:8080/"
        }
      },
      "source": [
        "x = npr.randint(low= -10, high= 10, size = 100)\n",
        "x"
      ],
      "execution_count": 89,
      "outputs": [
        {
          "output_type": "execute_result",
          "data": {
            "text/plain": [
              "array([  6,   0, -10,   8,   8,   0,  -5,  -3,  -2,   3,  -3,   8,   8,\n",
              "        -4,   1,  -9,   2,   6,   8,  -7,  -5,   4,  -8,  -3,   5,  -3,\n",
              "        -1,  -8,   7,   0,  -3,  -1,   5,   8,  -3,   7,   4,   5,  -6,\n",
              "        -9,   5,  -1,  -1,  -1,   0,   2,  -7,   9,   8,  -2,  -1,   3,\n",
              "        -9,   6,  -4,   8,   8,  -2,   3,  -6, -10,   8,   7, -10,   7,\n",
              "        -7,   0,   4,  -4,  -2, -10,  -7,   4,  -7,  -9,   2, -10,  -4,\n",
              "        -7,   7, -10,   4,  -9,  -4,   3,  -4,   2,  -7,  -6,  -7,   6,\n",
              "         3,   0,   4,   4,  -3,   9,  -6,   2,   4])"
            ]
          },
          "metadata": {
            "tags": []
          },
          "execution_count": 89
        }
      ]
    },
    {
      "cell_type": "markdown",
      "metadata": {
        "id": "1pRJ_m4anBTS"
      },
      "source": [
        "#### O método [`where()`](https://numpy.org/doc/stable/reference/generated/numpy.where.html) retorna elementos escolhidos de `x` ou `y` dependendo da condição."
      ]
    },
    {
      "cell_type": "code",
      "metadata": {
        "id": "10RV17TvxifU",
        "outputId": "d6aa8a45-c634-4e32-acb0-e38e8ba22dbf",
        "colab": {
          "base_uri": "https://localhost:8080/"
        }
      },
      "source": [
        "positive = np.where(x > 0, 200, x)\n",
        "print(positive)"
      ],
      "execution_count": 96,
      "outputs": [
        {
          "output_type": "stream",
          "text": [
            "[200   0 -10 200 200   0  -5  -3  -2 200  -3 200 200  -4 200  -9 200 200\n",
            " 200  -7  -5 200  -8  -3 200  -3  -1  -8 200   0  -3  -1 200 200  -3 200\n",
            " 200 200  -6  -9 200  -1  -1  -1   0 200  -7 200 200  -2  -1 200  -9 200\n",
            "  -4 200 200  -2 200  -6 -10 200 200 -10 200  -7   0 200  -4  -2 -10  -7\n",
            " 200  -7  -9 200 -10  -4  -7 200 -10 200  -9  -4 200  -4 200  -7  -6  -7\n",
            " 200 200   0 200 200  -3 200  -6 200 200]\n"
          ],
          "name": "stdout"
        }
      ]
    },
    {
      "cell_type": "code",
      "metadata": {
        "id": "OBjRqiIXxifX",
        "outputId": "34d12c86-de74-4abf-e8b1-448225d4e9aa",
        "colab": {
          "base_uri": "https://localhost:8080/"
        }
      },
      "source": [
        "positive.shape"
      ],
      "execution_count": 97,
      "outputs": [
        {
          "output_type": "execute_result",
          "data": {
            "text/plain": [
              "(100,)"
            ]
          },
          "metadata": {
            "tags": []
          },
          "execution_count": 97
        }
      ]
    }
  ]
}