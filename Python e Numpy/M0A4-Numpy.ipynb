{
 "cells": [
  {
   "cell_type": "markdown",
   "metadata": {
    "colab_type": "text",
    "id": "BLpPAJTcxidi"
   },
   "source": [
    "# NumPy "
   ]
  },
  {
   "cell_type": "markdown",
   "metadata": {},
   "source": [
    "#### Nessa aula vamos aprender um pouco sobre como trabalhar com a biblioteca [Numpy](https://numpy.org/). Um pacote para a linguagem Python que suporta arranjos e matrizes multidimensionais, contendo uma coleção de funções matemáticas para trabalhar com estas estruturas."
   ]
  },
  {
   "cell_type": "markdown",
   "metadata": {
    "colab_type": "text",
    "id": "m2C8qWprxidk"
   },
   "source": [
    "### Carregar e checar a versão de [`NumPy`](https://realpython.com/tutorials/numpy/)."
   ]
  },
  {
   "cell_type": "markdown",
   "metadata": {},
   "source": [
    "#### Como o NumPy não é nativo do Python nós precisamos fazer uma importação da biblioteca. E para checar sua versão com a ajuda do atributo [`.__version__`](https://www.python.org/dev/peps/pep-0396/)."
   ]
  },
  {
   "cell_type": "code",
   "execution_count": 3,
   "metadata": {
    "colab": {},
    "colab_type": "code",
    "id": "NE-lE3pxxidl",
    "outputId": "2f2bb4d8-5193-4436-a859-9822bf9c1d1c"
   },
   "outputs": [
    {
     "data": {
      "text/plain": [
       "'1.18.1'"
      ]
     },
     "execution_count": 3,
     "metadata": {},
     "output_type": "execute_result"
    }
   ],
   "source": [
    "#s!pip install numpy\n",
    "import numpy as np\n",
    "\n",
    "#vamos verificar a versão instalada\n",
    "np.__version__"
   ]
  },
  {
   "cell_type": "markdown",
   "metadata": {
    "colab_type": "text",
    "id": "mYMlm7Zhxidp"
   },
   "source": [
    "#### O [`Numpy`](https://towardsdatascience.com/the-ultimate-beginners-guide-to-numpy-f5a2f99aef54#:~:text=NumPy%20can%20be%20used%20to,on%20these%20arrays%20and%20matrices.) é uma biblioteca com ferramentas para o trabalho com arranjos N-dimensionais. Vamos usar o método [`.arrange()`](https://numpy.org/doc/stable/reference/generated/numpy.arange.html), que retorna valores com espaçamento uniforme em um determinado intervalo."
   ]
  },
  {
   "cell_type": "code",
   "execution_count": 6,
   "metadata": {
    "colab": {},
    "colab_type": "code",
    "id": "OSZHXPT7xidq"
   },
   "outputs": [
    {
     "name": "stdout",
     "output_type": "stream",
     "text": [
      "[0 1 2 3 4 5 6 7 8 9]\n"
     ]
    }
   ],
   "source": [
    "x = np.arange(10)\n",
    "print(x)\n",
    "#type(x)"
   ]
  },
  {
   "cell_type": "markdown",
   "metadata": {
    "colab_type": "text",
    "id": "HTbAFTr0xidt"
   },
   "source": [
    "### Começaremos exercitando as lista."
   ]
  },
  {
   "cell_type": "markdown",
   "metadata": {},
   "source": [
    "#### Será criada uma lista de $0$ à $1000000$ e em seguida uma segunda lista, cujos elementos  são o quadrado de cada elemento da primeira lista."
   ]
  },
  {
   "cell_type": "code",
   "execution_count": 9,
   "metadata": {
    "colab": {},
    "colab_type": "code",
    "id": "hXLgMFsUxidt"
   },
   "outputs": [
    {
     "name": "stdout",
     "output_type": "stream",
     "text": [
      "CPU times: user 586 ms, sys: 83.5 ms, total: 670 ms\n",
      "Wall time: 1.16 s\n"
     ]
    }
   ],
   "source": [
    "%%time\n",
    "\n",
    "z = list(range(1000000))\n",
    "z2 = []\n",
    "for i in range(0, len(z)):\n",
    "    z2.append(z[i] ** 2)"
   ]
  },
  {
   "cell_type": "markdown",
   "metadata": {
    "colab_type": "text",
    "id": "P8ooQ26Qxidw"
   },
   "source": [
    "#### Agora vamos ver como é a performance do array comparada com a lista. Observe que para isso usamos o [comando mágico](https://ipython.org/ipython-doc/3/interactive/magics.html) [`%%time`](https://ipython.readthedocs.io/en/stable/interactive/magics.html#magic-timeit)."
   ]
  },
  {
   "cell_type": "code",
   "execution_count": 10,
   "metadata": {
    "colab": {},
    "colab_type": "code",
    "id": "dmafG1Hoxidw"
   },
   "outputs": [
    {
     "name": "stdout",
     "output_type": "stream",
     "text": [
      "CPU times: user 6.22 ms, sys: 7.75 ms, total: 14 ms\n",
      "Wall time: 27.1 ms\n"
     ]
    }
   ],
   "source": [
    "%%time\n",
    "\n",
    "y = np.arange(1000000)\n",
    "y = y ** 2"
   ]
  },
  {
   "cell_type": "markdown",
   "metadata": {
    "colab_type": "text",
    "id": "iK-RJhfJxidz"
   },
   "source": [
    "#### A uma lista podemos adicionar vários tipos diferentes de variáveis. "
   ]
  },
  {
   "cell_type": "code",
   "execution_count": 11,
   "metadata": {
    "colab": {},
    "colab_type": "code",
    "id": "wW2bG4cNxidz",
    "outputId": "d6469e6d-a406-43ba-e72c-10270c609708"
   },
   "outputs": [
    {
     "name": "stdout",
     "output_type": "stream",
     "text": [
      "['Dog', 'Mammal', 45, 7]\n"
     ]
    }
   ],
   "source": [
    "animal = ['Dog', 'Mammal', 45, 7]\n",
    "print(animal)"
   ]
  },
  {
   "cell_type": "markdown",
   "metadata": {},
   "source": [
    "#### Com um [arranjo Numpy](https://towardsdatascience.com/numpy-array-all-you-want-to-know-d3f8503a2f8f) isso não acontece, todas as variáveis serão do mesmo tipo. "
   ]
  },
  {
   "cell_type": "code",
   "execution_count": 12,
   "metadata": {
    "colab": {},
    "colab_type": "code",
    "id": "QVzr3UpFxid4",
    "outputId": "5f0e07d8-6ceb-418c-ff39-af5056ca23ef"
   },
   "outputs": [
    {
     "data": {
      "text/plain": [
       "array(['Dog', 'Mammal', '45', '7'], dtype='<U6')"
      ]
     },
     "execution_count": 12,
     "metadata": {},
     "output_type": "execute_result"
    }
   ],
   "source": [
    "np.array(animal)"
   ]
  },
  {
   "cell_type": "markdown",
   "metadata": {
    "colab_type": "text",
    "id": "e-_XI9KJxid7"
   },
   "source": [
    "#### Um [arranjo Numpy](https://machinelearningmastery.com/gentle-introduction-n-dimensional-arrays-python-numpy/) pode ter [quantas dimensões](https://numpy.org/doc/stable/reference/arrays.ndarray.html) desejarmos, porém é comum termos arranjos de $1$, $2$ e $3$ dimensões. Como será um arranjo de $3$ dimensões? O método [`.arrange()`](https://numpy.org/doc/stable/reference/generated/numpy.arange.html) retorna valores com espaçamento uniforme em um determinado intervalo e o método [`.reshape()`](https://numpy.org/doc/stable/reference/generated/numpy.reshape.html) dá uma nova forma a uma matriz sem alterar seus dados."
   ]
  },
  {
   "cell_type": "code",
   "execution_count": 14,
   "metadata": {
    "colab": {},
    "colab_type": "code",
    "id": "BKT6NQsNxid7"
   },
   "outputs": [
    {
     "name": "stdout",
     "output_type": "stream",
     "text": [
      "[[[ 0  1  2]\n",
      "  [ 3  4  5]\n",
      "  [ 6  7  8]]\n",
      "\n",
      " [[ 9 10 11]\n",
      "  [12 13 14]\n",
      "  [15 16 17]]\n",
      "\n",
      " [[18 19 20]\n",
      "  [21 22 23]\n",
      "  [24 25 26]]]\n"
     ]
    }
   ],
   "source": [
    "ndim = np.arange(27).reshape(3, 3, 3)\n",
    "print(ndim)"
   ]
  },
  {
   "cell_type": "markdown",
   "metadata": {},
   "source": [
    "#### Um array de quatro dimensões."
   ]
  },
  {
   "cell_type": "code",
   "execution_count": 16,
   "metadata": {
    "colab": {},
    "colab_type": "code",
    "id": "4ZK6mvKwxid-"
   },
   "outputs": [
    {
     "name": "stdout",
     "output_type": "stream",
     "text": [
      "[[[[ 0  1]\n",
      "   [ 2  3]]\n",
      "\n",
      "  [[ 4  5]\n",
      "   [ 6  7]]]\n",
      "\n",
      "\n",
      " [[[ 8  9]\n",
      "   [10 11]]\n",
      "\n",
      "  [[12 13]\n",
      "   [14 15]]]]\n"
     ]
    }
   ],
   "source": [
    "twos = np.arange(16).reshape(2, 2, 2, 2)\n",
    "print(twos)"
   ]
  },
  {
   "cell_type": "markdown",
   "metadata": {
    "colab_type": "text",
    "id": "KP6bV2PFxieA"
   },
   "source": [
    "#### Talvez você deseje utilizar um arranjo para salvar dados e precise fazer uma declaração de variável inicialmente para \"guardar\" memória para salvar futuros dados. Há algumas maneiras de se fazer isso, observe as os métodos:\n",
    "- [`.ones()`](https://numpy.org/doc/stable/reference/generated/numpy.ones.html), retorne uma nova matriz de forma e tipo fornecidos, preenchida com uns.\n",
    "- [`.zeros()`](https://numpy.org/doc/stable/reference/generated/numpy.zeros.html), retorne uma nova matriz de forma e tipo fornecidos, preenchida com zeros.\n",
    "- [`.eye()`](https://numpy.org/doc/stable/reference/generated/numpy.eye.html), retorne uma matriz 2-D com uns na diagonal e zeros em outros lugares."
   ]
  },
  {
   "cell_type": "code",
   "execution_count": 21,
   "metadata": {
    "colab": {},
    "colab_type": "code",
    "id": "kqA16A70xieA",
    "outputId": "3b4bfbf3-05f6-4e1f-ac4b-662e42c99896"
   },
   "outputs": [
    {
     "name": "stdout",
     "output_type": "stream",
     "text": [
      "[[1. 0. 0.]\n",
      " [0. 1. 0.]\n",
      " [0. 0. 1.]]\n"
     ]
    }
   ],
   "source": [
    "#print(np.ones((3, 5)), end = '\\n\\n')\n",
    "#print(np.zeros((3, 5)), end = '\\n\\n')\n",
    "print(np.eye(3, 3))"
   ]
  },
  {
   "cell_type": "markdown",
   "metadata": {
    "colab_type": "text",
    "id": "D43gZABwxieC"
   },
   "source": [
    "#### Como acessar dados dentro do arranjo? Vamos criar um arranjo de maneira randômica de tamanho $15$ com o método [`.randint()`](https://docs.scipy.org/doc/numpy-1.15.1/reference/generated/numpy.random.randint.html), que retorne inteiros aleatóriamente."
   ]
  },
  {
   "cell_type": "code",
   "execution_count": 37,
   "metadata": {
    "colab": {},
    "colab_type": "code",
    "id": "Y0mBPQavxieD",
    "outputId": "f1085dfd-6be5-4374-845b-1c2d447127a1"
   },
   "outputs": [
    {
     "name": "stdout",
     "output_type": "stream",
     "text": [
      "[3 4 4 0 1 1 1 0 3 5 2 2 7 2 7]\n"
     ]
    }
   ],
   "source": [
    "data = np.random.randint(low = 10, size = 15)\n",
    "print(data)"
   ]
  },
  {
   "cell_type": "markdown",
   "metadata": {},
   "source": [
    "#### Fazemos uma [slice](https://towardsdatascience.com/working-with-numpy-arrays-slicing-4453ec757ff0) dos dados."
   ]
  },
  {
   "cell_type": "code",
   "execution_count": 38,
   "metadata": {
    "colab": {},
    "colab_type": "code",
    "id": "tWTCi_3PxieH",
    "outputId": "190f7a01-c978-43d2-a1c1-bd87057653ee"
   },
   "outputs": [
    {
     "data": {
      "text/plain": [
       "array([1, 1, 1, 0])"
      ]
     },
     "execution_count": 38,
     "metadata": {},
     "output_type": "execute_result"
    }
   ],
   "source": [
    "data[4: 8]"
   ]
  },
  {
   "cell_type": "markdown",
   "metadata": {},
   "source": [
    "#### E alteramos sua [forma](https://towardsdatascience.com/reshaping-numpy-arrays-in-python-a-step-by-step-pictorial-tutorial-aed5f471cf0b)."
   ]
  },
  {
   "cell_type": "code",
   "execution_count": 39,
   "metadata": {
    "colab": {},
    "colab_type": "code",
    "id": "9TVXPjUxxieK",
    "outputId": "2d44b775-d29c-4673-d46b-9e4906f7afcd"
   },
   "outputs": [
    {
     "data": {
      "text/plain": [
       "array([[3, 4, 4, 0, 1],\n",
       "       [1, 1, 0, 3, 5],\n",
       "       [2, 2, 7, 2, 7]])"
      ]
     },
     "execution_count": 39,
     "metadata": {},
     "output_type": "execute_result"
    }
   ],
   "source": [
    "data = data.reshape(3, 5)\n",
    "data"
   ]
  },
  {
   "cell_type": "code",
   "execution_count": 50,
   "metadata": {
    "colab": {},
    "colab_type": "code",
    "id": "1qU_mZYaxieO",
    "outputId": "9806885f-518d-423f-abef-22232e2212ff"
   },
   "outputs": [
    {
     "data": {
      "text/plain": [
       "array([[3],\n",
       "       [1],\n",
       "       [2]])"
      ]
     },
     "execution_count": 50,
     "metadata": {},
     "output_type": "execute_result"
    }
   ],
   "source": [
    "#data[3,3]\n",
    "data[:, 0: 1]"
   ]
  },
  {
   "cell_type": "markdown",
   "metadata": {
    "colab_type": "text",
    "id": "QuUUjvyYxieR"
   },
   "source": [
    "####  <span style = \"color:blue\">Prática Independente.</span>\n",
    "\n",
    "Coloque a lista seguinte e em ordem crescente:\n",
    "\n",
    "1. lista_exercico = [8, 5, 2, 4, 9]"
   ]
  },
  {
   "cell_type": "markdown",
   "metadata": {},
   "source": [
    "####  <span style = \"color:red\">Código original.</span>\n",
    "<!--- \n",
    "x = np.array([8, 5, 2, 4, 9])\n",
    "print(np.argsort(x))\n",
    "#print(x[x.argsort()])\n",
    "#print(x)\n",
    "-->"
   ]
  },
  {
   "cell_type": "markdown",
   "metadata": {
    "colab_type": "text",
    "id": "eAl9HGV-xieS"
   },
   "source": [
    "#### o método [`.argsort()`](https://numpy.org/doc/stable/reference/generated/numpy.argsort.html) retorna os índices que ordenariam uma arranjo."
   ]
  },
  {
   "cell_type": "code",
   "execution_count": 55,
   "metadata": {
    "colab": {},
    "colab_type": "code",
    "id": "tD9Xch4kxieS"
   },
   "outputs": [
    {
     "name": "stdout",
     "output_type": "stream",
     "text": [
      "[2 3 1 0 4]\n",
      "[2 4 5 8 9]\n"
     ]
    }
   ],
   "source": [
    "x = np.array([8, 5, 2, 4, 9])\n",
    "#type(x)\n",
    "print(np.argsort(x))\n",
    "print(x[x.argsort()])\n",
    "#print(x)"
   ]
  },
  {
   "cell_type": "markdown",
   "metadata": {},
   "source": [
    "#### Podemos usar o seqüênciamento de índices de um arranjo e um outro."
   ]
  },
  {
   "cell_type": "code",
   "execution_count": 56,
   "metadata": {
    "colab": {},
    "colab_type": "code",
    "id": "5gJRdiZrxieV"
   },
   "outputs": [],
   "source": [
    "grade = np.array([3, 5, 1, 6, 2, 7])\n",
    "ages = np.array([8, 10, 6, 11, 7, 12])"
   ]
  },
  {
   "cell_type": "code",
   "execution_count": 58,
   "metadata": {
    "colab": {},
    "colab_type": "code",
    "id": "Y0aixxuSxieZ"
   },
   "outputs": [
    {
     "data": {
      "text/plain": [
       "array([2, 4, 0, 1, 3, 5])"
      ]
     },
     "execution_count": 58,
     "metadata": {},
     "output_type": "execute_result"
    }
   ],
   "source": [
    "sort_index = np.argsort(ages)\n",
    "sort_index"
   ]
  },
  {
   "cell_type": "code",
   "execution_count": 60,
   "metadata": {
    "colab": {},
    "colab_type": "code",
    "id": "HbAICaQoxied"
   },
   "outputs": [
    {
     "name": "stdout",
     "output_type": "stream",
     "text": [
      "[1 2 3 5 6 7]\n",
      "[ 6  7  8 10 11 12]\n"
     ]
    }
   ],
   "source": [
    "print(grade[sort_index])\n",
    "print(ages[sort_index])"
   ]
  },
  {
   "cell_type": "markdown",
   "metadata": {},
   "source": [
    "#### Em ordem decrescente. "
   ]
  },
  {
   "cell_type": "code",
   "execution_count": 66,
   "metadata": {
    "colab": {},
    "colab_type": "code",
    "id": "6jUAD4JHxief"
   },
   "outputs": [
    {
     "name": "stdout",
     "output_type": "stream",
     "text": [
      "[12, 11, 10, 8, 7, 6]\n"
     ]
    }
   ],
   "source": [
    "#print(ages[sort_index])\n",
    "#print(list(ages[sort_index]))\n",
    "print(list(ages[sort_index])[::-1])\n"
   ]
  },
  {
   "cell_type": "markdown",
   "metadata": {
    "colab_type": "text",
    "id": "jY5AUly6xiei"
   },
   "source": [
    "### Vamos manipular algum array"
   ]
  },
  {
   "cell_type": "code",
   "execution_count": 70,
   "metadata": {
    "colab": {},
    "colab_type": "code",
    "id": "Ot3ZNPD8xiei",
    "outputId": "5e67e1b6-c847-4cbc-f3ca-117325bfb3c3"
   },
   "outputs": [
    {
     "name": "stdout",
     "output_type": "stream",
     "text": [
      "[ -6   0   1  -1   4   0   9  -5  -9  -3   3  -3   4  -9  -9  -5  -1   0\n",
      "  -6   8  -5   3   7   7   8   4   5  -2   2  -5   5   9   7   7  -6   8\n",
      "  -4  -8   0   3  -3   8   8  -3  -4   0  -6  -9   0   5 -10  -3  -6  -4\n",
      "   6   4  -4   0   3   6  -1   1  -2   3  -6  -3   2   5  -6   2  -6   9\n",
      "   8   9   6   9   0   9   8  -7   2   6   8  -4  -1  -5   3  -6 -10  -7\n",
      "  -5   2  -9  -5  -5  -6  -1 -10   4  -9]\n"
     ]
    }
   ],
   "source": [
    "import numpy.random #as npr\n",
    "#x = numpy.random.randint(-10, 10, size = 100)\n",
    "x = npr.randint(-10, 10, size = 100)\n",
    "print(x)"
   ]
  },
  {
   "cell_type": "markdown",
   "metadata": {
    "colab_type": "text",
    "id": "5NBmEbYGxiel"
   },
   "source": [
    "####  <span style = \"color:blue\">Prática independente.</span>\n",
    "\n",
    "1. No array acima, substitua os valores menores que $-1$ por $-1$, e valores maiores que $5$ por $5$. Fazendo uso de [`for`]."
   ]
  },
  {
   "cell_type": "markdown",
   "metadata": {},
   "source": [
    "#### Uma forma de fácil com uma única operação é fazer uso do método [`.clip()`](https://numpy.org/doc/stable/reference/generated/numpy.clip.html), que recorta as bordas de um dado intervalo, criando um subespaço."
   ]
  },
  {
   "cell_type": "code",
   "execution_count": 78,
   "metadata": {
    "colab": {},
    "colab_type": "code",
    "id": "MwmrE2CMxiem",
    "outputId": "567e8527-86fc-485e-8129-82adac2d15c8"
   },
   "outputs": [
    {
     "name": "stdout",
     "output_type": "stream",
     "text": [
      "[-1  0  1 -1  4  0  5 -1 -1 -1  3 -1  4 -1 -1 -1 -1  0 -1  5 -1  3  5  5\n",
      "  5  4  5 -1  2 -1  5  5  5  5 -1  5 -1 -1  0  3 -1  5  5 -1 -1  0 -1 -1\n",
      "  0  5 -1 -1 -1 -1  5  4 -1  0  3  5 -1  1 -1  3 -1 -1  2  5 -1  2 -1  5\n",
      "  5  5  5  5  0  5  5 -1  2  5  5 -1 -1 -1  3 -1 -1 -1 -1  2 -1 -1 -1 -1\n",
      " -1 -1  4 -1]\n"
     ]
    }
   ],
   "source": [
    "#z = x.clip(-1, 5) \n",
    "#print(z)\n",
    "print(x.clip(-1, 5))"
   ]
  },
  {
   "cell_type": "code",
   "execution_count": 79,
   "metadata": {},
   "outputs": [
    {
     "name": "stdout",
     "output_type": "stream",
     "text": [
      "[ -6   0   1  -1   4   0   9  -5  -9  -3   3  -3   4  -9  -9  -5  -1   0\n",
      "  -6   8  -5   3   7   7   8   4   5  -2   2  -5   5   9   7   7  -6   8\n",
      "  -4  -8   0   3  -3   8   8  -3  -4   0  -6  -9   0   5 -10  -3  -6  -4\n",
      "   6   4  -4   0   3   6  -1   1  -2   3  -6  -3   2   5  -6   2  -6   9\n",
      "   8   9   6   9   0   9   8  -7   2   6   8  -4  -1  -5   3  -6 -10  -7\n",
      "  -5   2  -9  -5  -5  -6  -1 -10   4  -9]\n"
     ]
    }
   ],
   "source": [
    "print(x)"
   ]
  },
  {
   "cell_type": "markdown",
   "metadata": {
    "colab_type": "text",
    "id": "NCmbwCPIxiep"
   },
   "source": [
    "#### Suponha que você precisa realizar uma escolha aleatória de um número determindo de elementos de `x`, como podemos fazer isso? \n",
    "\n",
    "#### É possível aplicar o método [`.choice()`](https://docs.scipy.org/doc//numpy-1.10.4/reference/generated/numpy.random.choice.html), gera uma amostra aleatória de uma determinada matriz unidimensional."
   ]
  },
  {
   "cell_type": "code",
   "execution_count": 84,
   "metadata": {
    "colab": {},
    "colab_type": "code",
    "id": "jdOEPxjxxiep",
    "outputId": "30233b4f-74f6-4347-ce80-da6bf356e008"
   },
   "outputs": [
    {
     "data": {
      "text/plain": [
       "array([ 9,  4,  8,  3, -9, -5,  8, -4, -4,  5])"
      ]
     },
     "execution_count": 84,
     "metadata": {},
     "output_type": "execute_result"
    }
   ],
   "source": [
    "y = npr.choice(x, 10, replace = False)\n",
    "y"
   ]
  },
  {
   "cell_type": "markdown",
   "metadata": {
    "colab_type": "text",
    "id": "vEn4Riezxier"
   },
   "source": [
    "#### É possível, com a ajuda do parâmetro `p`, associar valores de probabilidades a cada entrada em `y` e realizar uma escolha não tão aleatória assim. Para o caso de `p` não ser fornecido, a amostra assume uma distribuição uniforme sobre todas as entradas em um. "
   ]
  },
  {
   "cell_type": "code",
   "execution_count": 85,
   "metadata": {
    "colab": {},
    "colab_type": "code",
    "id": "bPBoIq73xies",
    "outputId": "f64511a1-7cc8-4013-a0ca-10348270bc2e"
   },
   "outputs": [
    {
     "data": {
      "text/plain": [
       "array([-4,  8, -5, -4,  4, -4,  3, -4, -4,  9])"
      ]
     },
     "execution_count": 85,
     "metadata": {},
     "output_type": "execute_result"
    }
   ],
   "source": [
    "y = npr.choice(y, 10, p = [.05, .1, .15, .15, .05, .1, 0.15, .07, .08, 0.1])\n",
    "y"
   ]
  },
  {
   "cell_type": "markdown",
   "metadata": {
    "colab_type": "text",
    "id": "Ug1s1mLaxieu"
   },
   "source": [
    "####  <span style = \"color:blue\">Prática independente.</span>\n",
    "\n",
    "1. Encontre os elementos unicos do array a seguir.\n",
    "2. O retorno deve ser o elemento e seu index.\n",
    "3. A quantidade observada de cada elemento."
   ]
  },
  {
   "cell_type": "code",
   "execution_count": 87,
   "metadata": {
    "colab": {},
    "colab_type": "code",
    "id": "lMGlflP0xieu"
   },
   "outputs": [],
   "source": [
    "symbols = np.array(['BCD', \n",
    "                    'ACD', \n",
    "                    'ACD', \n",
    "                    'ACD', \n",
    "                    'ABD', \n",
    "                    'ABC', \n",
    "                    'ABC', \n",
    "                    'ABD', \n",
    "                    'ABD',\n",
    "                    'BCD', \n",
    "                    'BCD', \n",
    "                    'ABC', \n",
    "                    'ABC', \n",
    "                    'BCD', \n",
    "                    'ACD']\n",
    "                  )"
   ]
  },
  {
   "cell_type": "markdown",
   "metadata": {},
   "source": [
    "#### O método [`.unique()`](https://numpy.org/doc/stable/reference/generated/numpy.unique.html), que encontra os elementos exclusivos de uma matriz e seus elementos exclusivos classificados.\n",
    "\n",
    "- `return_index`, para casos `True`, retorna os índices do arranjo que resultam na matriz exclusiva.\n",
    "- `return_counts`, para casos `True`, retorna o número de vezes que cada item exclusivo aparece em ar."
   ]
  },
  {
   "cell_type": "markdown",
   "metadata": {},
   "source": [
    "#### Existem três saídas opcionais, além dos elementos exclusivos:"
   ]
  },
  {
   "cell_type": "code",
   "execution_count": 94,
   "metadata": {
    "colab": {},
    "colab_type": "code",
    "id": "Ni-XkAhxxiex"
   },
   "outputs": [],
   "source": [
    "a, b, c = np.unique(symbols, \n",
    "                    return_counts = True,\n",
    "                    return_index = True                    \n",
    "                   )"
   ]
  },
  {
   "cell_type": "markdown",
   "metadata": {},
   "source": [
    "#### Os valores da matriz de entrada que fornecem os valores únicos."
   ]
  },
  {
   "cell_type": "code",
   "execution_count": 95,
   "metadata": {
    "colab": {},
    "colab_type": "code",
    "id": "WOqyTnxaxiez",
    "outputId": "3fe3e885-0589-450a-c4ef-6c74a7cdf492"
   },
   "outputs": [
    {
     "data": {
      "text/plain": [
       "array(['ABC', 'ABD', 'ACD', 'BCD'], dtype='<U3')"
      ]
     },
     "execution_count": 95,
     "metadata": {},
     "output_type": "execute_result"
    }
   ],
   "source": [
    "a"
   ]
  },
  {
   "cell_type": "markdown",
   "metadata": {},
   "source": [
    "#### O número de vezes que cada valor único aparece na matriz de entrada."
   ]
  },
  {
   "cell_type": "code",
   "execution_count": 96,
   "metadata": {
    "colab": {},
    "colab_type": "code",
    "id": "kMNIJ3hSxie1",
    "outputId": "8987a258-7d8f-4e73-c372-cfd4c6818b97"
   },
   "outputs": [
    {
     "data": {
      "text/plain": [
       "array([4, 3, 4, 4])"
      ]
     },
     "execution_count": 96,
     "metadata": {},
     "output_type": "execute_result"
    }
   ],
   "source": [
    "c"
   ]
  },
  {
   "cell_type": "markdown",
   "metadata": {},
   "source": [
    "#### A forma do arranjo `a` pode ser encontrada com o atributo [`.shape`](https://numpy.org/devdocs/reference/generated/numpy.shape.html), que retorna uma tupla com as dimensões do arranjos correspondente."
   ]
  },
  {
   "cell_type": "code",
   "execution_count": 97,
   "metadata": {
    "colab": {},
    "colab_type": "code",
    "id": "sMSomg3txie5",
    "outputId": "2f41feff-eb49-475a-c71a-352f35945835"
   },
   "outputs": [
    {
     "data": {
      "text/plain": [
       "(4,)"
      ]
     },
     "execution_count": 97,
     "metadata": {},
     "output_type": "execute_result"
    }
   ],
   "source": [
    "a.shape"
   ]
  },
  {
   "cell_type": "markdown",
   "metadata": {},
   "source": [
    "#### Os índices da matriz única que reconstrói a matriz de entrada."
   ]
  },
  {
   "cell_type": "code",
   "execution_count": 98,
   "metadata": {
    "colab": {},
    "colab_type": "code",
    "id": "Rhu8ts3_xie7",
    "outputId": "8241c44e-b48a-46a0-9196-aefe5c5693f1"
   },
   "outputs": [
    {
     "data": {
      "text/plain": [
       "array([5, 4, 1, 0])"
      ]
     },
     "execution_count": 98,
     "metadata": {},
     "output_type": "execute_result"
    }
   ],
   "source": [
    "b"
   ]
  },
  {
   "cell_type": "markdown",
   "metadata": {
    "colab_type": "text",
    "id": "87PiDOkhxie-"
   },
   "source": [
    "#### Podemos operar com diferrentes arranjos e uma das formas é através da [`concatenação`](https://cmdlinetips.com/2018/04/how-to-concatenate-arrays-in-numpy/#:~:text=17%20%2C%2018%20%5D%5D) dos mesmos. A função [`.concatenate()`](https://numpy.org/doc/stable/reference/generated/numpy.concatenate.html) une a uma sequência de matrizes ao longo de um eixo existente."
   ]
  },
  {
   "cell_type": "code",
   "execution_count": 99,
   "metadata": {
    "colab": {},
    "colab_type": "code",
    "id": "73YNLJ3txie-"
   },
   "outputs": [],
   "source": [
    "array_1 = [[1, 2],\n",
    "           [3, 4]\n",
    "          ]\n",
    "\n",
    "array_2 = [[5, 6],\n",
    "           [7, 8]\n",
    "          ]\n",
    "\n",
    "\n",
    "#[a00 a01]\n",
    "#[a10 a11]"
   ]
  },
  {
   "cell_type": "code",
   "execution_count": 102,
   "metadata": {
    "colab": {},
    "colab_type": "code",
    "id": "5HIhzurwxifA",
    "outputId": "2265af22-b446-4920-abac-1929bd7cca32"
   },
   "outputs": [
    {
     "data": {
      "text/plain": [
       "array([[1, 2],\n",
       "       [3, 4],\n",
       "       [5, 6],\n",
       "       [7, 8]])"
      ]
     },
     "execution_count": 102,
     "metadata": {},
     "output_type": "execute_result"
    }
   ],
   "source": [
    "np.concatenate((array_1, \n",
    "                array_2), \n",
    "               axis = 0\n",
    "              )"
   ]
  },
  {
   "cell_type": "markdown",
   "metadata": {},
   "source": [
    "#### O parâmetro `axis` identifica o eixo ao longo do qual as matrizes serão unidas. Se o eixo for `NONE`, as matrizes serão [niveladas](https://www.w3resource.com/numpy/manipulation/ndarray-flatten.php#:~:text=ndarray.-,flatten()%20function,array%20collapsed%20into%20one%20dimension.&text='C'%20means%20to%20flatten%20in,(Fortran%2D%20style)%20order.) antes do uso. O padrão é $0$."
   ]
  },
  {
   "cell_type": "code",
   "execution_count": 103,
   "metadata": {
    "colab": {},
    "colab_type": "code",
    "id": "DmxSDRi3xifC",
    "outputId": "f53c01b9-7ec4-4bbb-e10d-b898053077fe"
   },
   "outputs": [
    {
     "data": {
      "text/plain": [
       "array([[1, 2, 5, 6],\n",
       "       [3, 4, 7, 8]])"
      ]
     },
     "execution_count": 103,
     "metadata": {},
     "output_type": "execute_result"
    }
   ],
   "source": [
    "np.concatenate((array_1, \n",
    "                array_2)\n",
    "               , axis = 1\n",
    "              )"
   ]
  },
  {
   "cell_type": "markdown",
   "metadata": {
    "colab_type": "text",
    "id": "2A2QksSXxifG"
   },
   "source": [
    "#### Um arranjo colapsado ([flatten Array](https://towardsdatascience.com/numpy-array-manipulation-5d2b42354688)) retorna uma cópia da matriz original."
   ]
  },
  {
   "cell_type": "code",
   "execution_count": 105,
   "metadata": {
    "colab": {},
    "colab_type": "code",
    "id": "H9L-c3ldxifK",
    "outputId": "bde06900-cf0e-4880-afeb-05d953319c95"
   },
   "outputs": [
    {
     "data": {
      "text/plain": [
       "array([[[ 0,  1,  2],\n",
       "        [ 3,  4,  5],\n",
       "        [ 6,  7,  8]],\n",
       "\n",
       "       [[ 9, 10, 11],\n",
       "        [12, 13, 14],\n",
       "        [15, 16, 17]],\n",
       "\n",
       "       [[18, 19, 20],\n",
       "        [21, 22, 23],\n",
       "        [24, 25, 26]]])"
      ]
     },
     "execution_count": 105,
     "metadata": {},
     "output_type": "execute_result"
    }
   ],
   "source": [
    "arr = np.arange(27).reshape(3, 3, 3)\n",
    "arr"
   ]
  },
  {
   "cell_type": "markdown",
   "metadata": {},
   "source": [
    "#### O método [`.flatten()`](https://numpy.org/doc/stable/reference/generated/numpy.ndarray.flatten.html) retorna uma cópia da matriz, colapsada em uma dimensão."
   ]
  },
  {
   "cell_type": "code",
   "execution_count": null,
   "metadata": {
    "colab": {},
    "colab_type": "code",
    "id": "dh4Coa9XxifN",
    "outputId": "c0b0b9ec-cf59-41fb-bf30-025e6c301423"
   },
   "outputs": [],
   "source": [
    "arr.flatten()"
   ]
  },
  {
   "cell_type": "markdown",
   "metadata": {
    "colab_type": "text",
    "id": "kyqObGW1xifR"
   },
   "source": [
    "#### O método [`.randit()`](https://docs.scipy.org/doc/numpy-1.15.0/reference/generated/numpy.random.randint.html) retorna inteiros aleatórios da distribuição “uniforme discreta” do tipo `d` especificado no intervalo “meio aberto” [baixo, alto). Se alto for Nenhum (o padrão), os resultados serão de [0, baixo)."
   ]
  },
  {
   "cell_type": "code",
   "execution_count": 107,
   "metadata": {
    "colab": {},
    "colab_type": "code",
    "id": "9q6jVUwKxifS",
    "outputId": "a1ba3a49-3230-46c5-81e7-b85c9ceb98a2"
   },
   "outputs": [
    {
     "data": {
      "text/plain": [
       "array([ -6,   4,  -3,   5,   3,  -2,   2,   6,   5,   2,   4,  -2,   2,\n",
       "        -1,   5,   2,   9,  -6,  -3,  -9,   3,   5,   5,   9,   6, -10,\n",
       "        -5,  -9,  -6,  -2,   7,  -4, -10,   3,   7,   6,  -2,   8,  -1,\n",
       "        -5,   7,   5,   3,   2,   4,   1,  -8,  -1,  -2,   2,   9,   7,\n",
       "         7,   2,   0,  -2,  -4,  -1,   5,  -7,   8,   1,  -3,   0,   1,\n",
       "        -8,   5,   8,   6,   3,   2,  -4,   4,  -9,   2,  -2,   9,  -2,\n",
       "         5,   5,  -8,   8,  -4,  -9, -10,  -2,   6,  -8,  -9,   0,  -5,\n",
       "       -10,  -3,   0,   3,  -7,   7,  -6,   0,  -2])"
      ]
     },
     "execution_count": 107,
     "metadata": {},
     "output_type": "execute_result"
    }
   ],
   "source": [
    "x = npr.randint(-10, 10, size = 100)\n",
    "x"
   ]
  },
  {
   "cell_type": "markdown",
   "metadata": {},
   "source": [
    "#### O método [`where()`](https://numpy.org/doc/stable/reference/generated/numpy.where.html) retorna elementos escolhidos de `x` ou `y` dependendo da condição."
   ]
  },
  {
   "cell_type": "code",
   "execution_count": 114,
   "metadata": {
    "colab": {},
    "colab_type": "code",
    "id": "10RV17TvxifU",
    "outputId": "f9a0a4dc-d218-4265-ff31-f7334b864174"
   },
   "outputs": [
    {
     "name": "stdout",
     "output_type": "stream",
     "text": [
      "[ -6 200  -3 200 200  -2 200 200 200 200 200  -2 200  -1 200 200 200  -6\n",
      "  -3  -9 200 200 200 200 200 -10  -5  -9  -6  -2 200  -4 -10 200 200 200\n",
      "  -2 200  -1  -5 200 200 200 200 200 200  -8  -1  -2 200 200 200 200 200\n",
      "   0  -2  -4  -1 200  -7 200 200  -3   0 200  -8 200 200 200 200 200  -4\n",
      " 200  -9 200  -2 200  -2 200 200  -8 200  -4  -9 -10  -2 200  -8  -9   0\n",
      "  -5 -10  -3   0 200  -7 200  -6   0  -2]\n"
     ]
    }
   ],
   "source": [
    "positive = np.where(x > 0, 200, x)\n",
    "print(positive)"
   ]
  },
  {
   "cell_type": "code",
   "execution_count": null,
   "metadata": {
    "colab": {},
    "colab_type": "code",
    "id": "OBjRqiIXxifX"
   },
   "outputs": [],
   "source": []
  }
 ],
 "metadata": {
  "colab": {
   "name": "Numpy-22-07.ipynb",
   "provenance": []
  },
  "kernelspec": {
   "display_name": "Python 3",
   "language": "python",
   "name": "python3"
  },
  "language_info": {
   "codemirror_mode": {
    "name": "ipython",
    "version": 3
   },
   "file_extension": ".py",
   "mimetype": "text/x-python",
   "name": "python",
   "nbconvert_exporter": "python",
   "pygments_lexer": "ipython3",
   "version": "3.7.6"
  }
 },
 "nbformat": 4,
 "nbformat_minor": 4
}
