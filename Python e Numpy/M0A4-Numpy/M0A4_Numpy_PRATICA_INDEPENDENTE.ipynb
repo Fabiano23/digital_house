{
  "nbformat": 4,
  "nbformat_minor": 0,
  "metadata": {
    "colab": {
      "name": "M0A4-Numpy-PRATICA_INDEPENDENTE.ipynb",
      "provenance": [],
      "collapsed_sections": [
        "mLTN_PWUEixW"
      ]
    },
    "kernelspec": {
      "display_name": "Python 3",
      "language": "python",
      "name": "python3"
    },
    "language_info": {
      "codemirror_mode": {
        "name": "ipython",
        "version": 3
      },
      "file_extension": ".py",
      "mimetype": "text/x-python",
      "name": "python",
      "nbconvert_exporter": "python",
      "pygments_lexer": "ipython3",
      "version": "3.7.6"
    }
  },
  "cells": [
    {
      "cell_type": "markdown",
      "metadata": {
        "id": "PQKTjwErEixI"
      },
      "source": [
        "### Conjuntos de dados &amp; NumPy - csv's, funções, numpy e distribuições\n",
        "\n",
        "#### Executa a célula abaixo para carregar os pacotes exigidos"
      ]
    },
    {
      "cell_type": "code",
      "metadata": {
        "id": "dXgEk8ZREixK"
      },
      "source": [
        "import numpy as np\n",
        "import scipy.stats as stats\n",
        "import csv\n",
        "import seaborn as sns\n",
        "import pandas as pd\n",
        "\n",
        "# Este é necessário no jupyter notebook\n",
        "#%matplotlib inline"
      ],
      "execution_count": 1,
      "outputs": []
    },
    {
      "cell_type": "markdown",
      "metadata": {
        "id": "Mlc30RGuEixN"
      },
      "source": [
        "### Dados de vendas\n",
        "\n",
        "#### Para este laboratório, vamos usar uma versão resumida de um conjunto de dados que contém informações sobre as vendas de estabelecimentos econômicos que serão analisados em detalhes posteriormente.\n",
        "\n",
        "#### O csv tem cerca de 200 linhas de dados e 4 colunas. O caminho especificado do csv ```sales_info.csv``` supõe que está no mesmo diretório que o presente notebook. Caso o tenha baixado em outro diretório, você deverá fazer referência de forma relativa ou absoluta (buscar linux path examples relativa/absoluta no Google)."
      ]
    },
    {
      "cell_type": "markdown",
      "metadata": {
        "id": "QclwehDCEixO"
      },
      "source": [
        "#### Exercício 1 -  Use o método ```read_csv``` da biblioteca Pandas para criar um dataframe a partir do arquivo. "
      ]
    },
    {
      "cell_type": "code",
      "metadata": {
        "id": "8HEGsrJuEixO",
        "outputId": "4aab76dc-b65c-4ee1-d932-f8cd8444b414",
        "colab": {
          "base_uri": "https://localhost:8080/",
          "height": 198
        }
      },
      "source": [
        "dados = pd.read_csv('sales_info.csv')\n",
        "dados.head()"
      ],
      "execution_count": 41,
      "outputs": [
        {
          "output_type": "execute_result",
          "data": {
            "text/html": [
              "<div>\n",
              "<style scoped>\n",
              "    .dataframe tbody tr th:only-of-type {\n",
              "        vertical-align: middle;\n",
              "    }\n",
              "\n",
              "    .dataframe tbody tr th {\n",
              "        vertical-align: top;\n",
              "    }\n",
              "\n",
              "    .dataframe thead th {\n",
              "        text-align: right;\n",
              "    }\n",
              "</style>\n",
              "<table border=\"1\" class=\"dataframe\">\n",
              "  <thead>\n",
              "    <tr style=\"text-align: right;\">\n",
              "      <th></th>\n",
              "      <th>volume_sold</th>\n",
              "      <th>2015_margin</th>\n",
              "      <th>2015_q1_sales</th>\n",
              "      <th>2016_q1_sales</th>\n",
              "    </tr>\n",
              "  </thead>\n",
              "  <tbody>\n",
              "    <tr>\n",
              "      <th>0</th>\n",
              "      <td>18.420760</td>\n",
              "      <td>93.802281</td>\n",
              "      <td>337166.53</td>\n",
              "      <td>337804.05</td>\n",
              "    </tr>\n",
              "    <tr>\n",
              "      <th>1</th>\n",
              "      <td>4.776510</td>\n",
              "      <td>21.082425</td>\n",
              "      <td>22351.86</td>\n",
              "      <td>21736.63</td>\n",
              "    </tr>\n",
              "    <tr>\n",
              "      <th>2</th>\n",
              "      <td>16.602401</td>\n",
              "      <td>93.612494</td>\n",
              "      <td>277764.46</td>\n",
              "      <td>306942.27</td>\n",
              "    </tr>\n",
              "    <tr>\n",
              "      <th>3</th>\n",
              "      <td>4.296111</td>\n",
              "      <td>16.824704</td>\n",
              "      <td>16805.11</td>\n",
              "      <td>9307.75</td>\n",
              "    </tr>\n",
              "    <tr>\n",
              "      <th>4</th>\n",
              "      <td>8.156023</td>\n",
              "      <td>35.011457</td>\n",
              "      <td>54411.42</td>\n",
              "      <td>58939.90</td>\n",
              "    </tr>\n",
              "  </tbody>\n",
              "</table>\n",
              "</div>"
            ],
            "text/plain": [
              "   volume_sold  2015_margin  2015_q1_sales  2016_q1_sales\n",
              "0    18.420760    93.802281      337166.53      337804.05\n",
              "1     4.776510    21.082425       22351.86       21736.63\n",
              "2    16.602401    93.612494      277764.46      306942.27\n",
              "3     4.296111    16.824704       16805.11        9307.75\n",
              "4     8.156023    35.011457       54411.42       58939.90"
            ]
          },
          "metadata": {
            "tags": []
          },
          "execution_count": 41
        }
      ]
    },
    {
      "cell_type": "markdown",
      "metadata": {
        "id": "b34YIk0sEixT"
      },
      "source": [
        "#### Exercício 2 -  Transforme a série em um array de numpy, use o método ```np.array()``` para transformar a série ```volume_sold``` do dataframe gerado em um array de numpy"
      ]
    },
    {
      "cell_type": "code",
      "metadata": {
        "id": "oQP2kBKMEixU"
      },
      "source": [
        "#Passei como argumento da função np.array() a coluna volume_sold dos dados\n",
        "#que selecionados com essa sintaxe retorna um objeto de tipo Series\n",
        "\n",
        "volume_sold = np.array(dados['volume_sold'])"
      ],
      "execution_count": 4,
      "outputs": []
    },
    {
      "cell_type": "markdown",
      "metadata": {
        "id": "mLTN_PWUEixW"
      },
      "source": [
        "#### Exercício 3 - Imprima os 10 primeiros itens da coluna ```volume_sold``` usando o ```array slicing```."
      ]
    },
    {
      "cell_type": "code",
      "metadata": {
        "id": "rcjCNebgEixX",
        "outputId": "940baade-d65c-4723-d3fa-e17ae40a9019",
        "colab": {
          "base_uri": "https://localhost:8080/"
        }
      },
      "source": [
        "#Coluna volume_sold\n",
        "print(dados['volume_sold'].head(10))\n",
        "\n",
        "print('\\n')\n",
        "\n",
        "#Array com valores de volume_sold\n",
        "print(volume_sold[:10])"
      ],
      "execution_count": 9,
      "outputs": [
        {
          "output_type": "stream",
          "text": [
            "0    18.420760\n",
            "1     4.776510\n",
            "2    16.602401\n",
            "3     4.296111\n",
            "4     8.156023\n",
            "5     5.005122\n",
            "6    14.606750\n",
            "7     4.456466\n",
            "8     5.047530\n",
            "9     5.388070\n",
            "Name: volume_sold, dtype: float64\n",
            "\n",
            "\n",
            "[18.42076049  4.77650992 16.60240061  4.2961115   8.15602328  5.00512243\n",
            " 14.60675     4.45646649  5.04752965  5.38807024]\n"
          ],
          "name": "stdout"
        }
      ]
    },
    {
      "cell_type": "markdown",
      "metadata": {
        "id": "xMtaCQnHEixc"
      },
      "source": [
        "#### Exercício 4 - Imprimir o tipo de dado do array, utilize a propriedade dos arrays dtype para conhecer o tipo de dado do array"
      ]
    },
    {
      "cell_type": "code",
      "metadata": {
        "id": "yne8_krpEixc",
        "outputId": "4199ef85-4bb1-4aaa-ea32-c6be679c40c2",
        "colab": {
          "base_uri": "https://localhost:8080/"
        }
      },
      "source": [
        "volume_sold.dtype"
      ],
      "execution_count": 10,
      "outputs": [
        {
          "output_type": "execute_result",
          "data": {
            "text/plain": [
              "dtype('float64')"
            ]
          },
          "metadata": {
            "tags": []
          },
          "execution_count": 10
        }
      ]
    },
    {
      "cell_type": "markdown",
      "metadata": {
        "id": "9ExHhiYFEixg"
      },
      "source": [
        "#### Exercício 5 - Escreva uma função para imprimir as informações resumidas\n",
        "\n",
        "#### A função deve:\n",
        "\n",
        "- Usar dois parâmetros: o nome da coluna e os dados associados a essa coluna\n",
        "- Imprimir as informações, indicando claramente de que se trata cada item impresso:\n",
        "    1. Imprimir o nome da coluna\n",
        "    2. Imprimir a média dos dados usando ```np.mean()```\n",
        "    3. Imprimir a mediana dos dados usando ```np.median()``` \n",
        "    4. Imprimir a moda dos dados arredondados usando ```stats.mode()```\n",
        "    5. Imprimir a variância dos dados usando ```np.var()```\n",
        "    6. Imprimir o desvio padrão dos dados usando ```np.std()```"
      ]
    },
    {
      "cell_type": "code",
      "metadata": {
        "id": "USLL6ML3Eixh"
      },
      "source": [
        "def medidas_estatisticas(conjunto_dados, coluna):\n",
        "  \n",
        "  valores = np.array(conjunto_dados[coluna])\n",
        "  \n",
        "  print(f'Nome da coluna: {coluna}')\n",
        "  print(f'Media: {np.mean(valores):.2f}')\n",
        "  print(f'Mediana: {np.median(valores):.2f}')\n",
        "  print(f'Moda: {stats.mode(valores)[0]}')\n",
        "  print(f'Variância: {np.var(valores):.2f}')\n",
        "  print(f'Desvio padrão: {np.std(valores):.2f}')"
      ],
      "execution_count": 29,
      "outputs": []
    },
    {
      "cell_type": "markdown",
      "metadata": {
        "id": "okB8b4AUEixj"
      },
      "source": [
        "#### Exercício 5a - Usando a função definida, imprimir as medidas para ```volume_sold```"
      ]
    },
    {
      "cell_type": "code",
      "metadata": {
        "id": "D2RuiOsoEixk",
        "outputId": "43aaa9ab-8fad-42d5-8e31-10f051d51e28",
        "colab": {
          "base_uri": "https://localhost:8080/"
        }
      },
      "source": [
        "medidas_estatisticas(dados, 'volume_sold')"
      ],
      "execution_count": 31,
      "outputs": [
        {
          "output_type": "stream",
          "text": [
            "Nome da coluna: volume_sold\n",
            "Media: 10.02\n",
            "Mediana: 8.17\n",
            "Moda: [2.7946315]\n",
            "Variância: 84.13\n",
            "Desvio padrão: 9.17\n"
          ],
          "name": "stdout"
        }
      ]
    },
    {
      "cell_type": "markdown",
      "metadata": {
        "id": "9SWlGptHEixn"
      },
      "source": [
        "#### Exercício 5b - Usando a função definida, imprimir as medidas para ```2015_margin```."
      ]
    },
    {
      "cell_type": "code",
      "metadata": {
        "id": "yvyqO0xjEixp",
        "outputId": "0f1f5ba9-a27c-4757-b1da-26f11129a76f",
        "colab": {
          "base_uri": "https://localhost:8080/"
        }
      },
      "source": [
        "medidas_estatisticas(dados, '2015_margin')"
      ],
      "execution_count": 32,
      "outputs": [
        {
          "output_type": "stream",
          "text": [
            "Nome da coluna: 2015_margin\n",
            "Media: 46.86\n",
            "Mediana: 36.56\n",
            "Moda: [11.9961177]\n",
            "Variância: 2016.06\n",
            "Desvio padrão: 44.90\n"
          ],
          "name": "stdout"
        }
      ]
    },
    {
      "cell_type": "markdown",
      "metadata": {
        "id": "xJZ0XH2GEixs"
      },
      "source": [
        "#### Exercício 5c - Usando a função definida, imprimir as medidas para ```2015_q1_sales```."
      ]
    },
    {
      "cell_type": "code",
      "metadata": {
        "id": "oiX_kDooEixt",
        "outputId": "ba3038a4-83ba-44f2-bbd0-e8b6503e4717",
        "colab": {
          "base_uri": "https://localhost:8080/"
        }
      },
      "source": [
        "medidas_estatisticas(dados, '2015_q1_sales')"
      ],
      "execution_count": 33,
      "outputs": [
        {
          "output_type": "stream",
          "text": [
            "Nome da coluna: 2015_q1_sales\n",
            "Media: 154631.67\n",
            "Mediana: 104199.41\n",
            "Moda: [4151.93]\n",
            "Variância: 47430301462.33\n",
            "Desvio padrão: 217784.99\n"
          ],
          "name": "stdout"
        }
      ]
    },
    {
      "cell_type": "markdown",
      "metadata": {
        "id": "lqNcoBBYEixx"
      },
      "source": [
        "#### Exercício 5d - Usando a função definida, imprimir as medidas para ```2016_q1_sales```."
      ]
    },
    {
      "cell_type": "code",
      "metadata": {
        "id": "q-tQI40rEixz",
        "outputId": "62bbc843-4f48-4a88-abf0-aa32fdf5ccb1",
        "colab": {
          "base_uri": "https://localhost:8080/"
        }
      },
      "source": [
        "medidas_estatisticas(dados, '2016_q1_sales')"
      ],
      "execution_count": 34,
      "outputs": [
        {
          "output_type": "stream",
          "text": [
            "Nome da coluna: 2016_q1_sales\n",
            "Media: 154699.18\n",
            "Mediana: 103207.20\n",
            "Moda: [3536.14]\n",
            "Variância: 47139411653.45\n",
            "Desvio padrão: 217116.12\n"
          ],
          "name": "stdout"
        }
      ]
    },
    {
      "cell_type": "markdown",
      "metadata": {
        "id": "UvleOj7MEix3"
      },
      "source": [
        "#### Exercício 6 - Representar as distribuições graficamente.\n",
        "\n",
        "#### Mais abaixo, fornecemos uma função para representação gráfica chamada ```distribution_plotter()```. Ela usa dois parâmetros: o nome da coluna e os dados associados a essa coluna.\n",
        "\n",
        "#### Em células individuais, representar graficamente as distribuições de cada uma das 4 colunas. Os dados são assimétricos ou simétricos?"
      ]
    },
    {
      "cell_type": "code",
      "metadata": {
        "id": "6r_ExxcxEix4"
      },
      "source": [
        "def distribution_plotter(column, data):\n",
        "    sns.set(rc = {\"figure.figsize\": (10, 7)})\n",
        "    sns.set_style(\"white\")\n",
        "    dist = sns.distplot(data, hist_kws = {'alpha':0.2}, kde_kws = {'linewidth':5})\n",
        "    dist.set_title('Distribuição de ' + column + '\\n', fontsize = 16)"
      ],
      "execution_count": 35,
      "outputs": []
    },
    {
      "cell_type": "code",
      "metadata": {
        "id": "f2PiqvgPEix7",
        "outputId": "ceb38d76-aa74-407d-e8e9-f0818f775233",
        "colab": {
          "base_uri": "https://localhost:8080/",
          "height": 537
        }
      },
      "source": [
        "distribution_plotter(data= dados, column= 'volume_sold')"
      ],
      "execution_count": 36,
      "outputs": [
        {
          "output_type": "stream",
          "text": [
            "/usr/local/lib/python3.6/dist-packages/seaborn/distributions.py:2551: FutureWarning: `distplot` is a deprecated function and will be removed in a future version. Please adapt your code to use either `displot` (a figure-level function with similar flexibility) or `histplot` (an axes-level function for histograms).\n",
            "  warnings.warn(msg, FutureWarning)\n"
          ],
          "name": "stderr"
        },
        {
          "output_type": "display_data",
          "data": {
            "image/png": "[encoded data removed]",
            "text/plain": [
              "<Figure size 720x504 with 1 Axes>"
            ]
          },
          "metadata": {
            "tags": []
          }
        }
      ]
    },
    {
      "cell_type": "code",
      "metadata": {
        "id": "J5rHEP4lEix-",
        "outputId": "04395cc3-dc91-4677-f473-3ed5753ae323",
        "colab": {
          "base_uri": "https://localhost:8080/",
          "height": 537
        }
      },
      "source": [
        "distribution_plotter(data= dados, column= '2015_margin')"
      ],
      "execution_count": 37,
      "outputs": [
        {
          "output_type": "stream",
          "text": [
            "/usr/local/lib/python3.6/dist-packages/seaborn/distributions.py:2551: FutureWarning: `distplot` is a deprecated function and will be removed in a future version. Please adapt your code to use either `displot` (a figure-level function with similar flexibility) or `histplot` (an axes-level function for histograms).\n",
            "  warnings.warn(msg, FutureWarning)\n"
          ],
          "name": "stderr"
        },
        {
          "output_type": "display_data",
          "data": {
            "image/png": "[encoded data removed]",
            "text/plain": [
              "<Figure size 720x504 with 1 Axes>"
            ]
          },
          "metadata": {
            "tags": []
          }
        }
      ]
    },
    {
      "cell_type": "code",
      "metadata": {
        "id": "PaDkBUKGEiyB",
        "outputId": "3fc46149-30ed-47b7-a973-6498ae866114",
        "colab": {
          "base_uri": "https://localhost:8080/",
          "height": 537
        }
      },
      "source": [
        "distribution_plotter(data= dados, column= '2015_q1_sales')"
      ],
      "execution_count": 38,
      "outputs": [
        {
          "output_type": "stream",
          "text": [
            "/usr/local/lib/python3.6/dist-packages/seaborn/distributions.py:2551: FutureWarning: `distplot` is a deprecated function and will be removed in a future version. Please adapt your code to use either `displot` (a figure-level function with similar flexibility) or `histplot` (an axes-level function for histograms).\n",
            "  warnings.warn(msg, FutureWarning)\n"
          ],
          "name": "stderr"
        },
        {
          "output_type": "display_data",
          "data": {
            "image/png": "[encoded data removed]",
            "text/plain": [
              "<Figure size 720x504 with 1 Axes>"
            ]
          },
          "metadata": {
            "tags": []
          }
        }
      ]
    },
    {
      "cell_type": "code",
      "metadata": {
        "id": "1MkOgdw3EiyG",
        "outputId": "6636d9eb-93cb-46ee-d3ef-ed3f421b667c",
        "colab": {
          "base_uri": "https://localhost:8080/",
          "height": 537
        }
      },
      "source": [
        "distribution_plotter(data= dados, column= '2016_q1_sales')"
      ],
      "execution_count": 39,
      "outputs": [
        {
          "output_type": "stream",
          "text": [
            "/usr/local/lib/python3.6/dist-packages/seaborn/distributions.py:2551: FutureWarning: `distplot` is a deprecated function and will be removed in a future version. Please adapt your code to use either `displot` (a figure-level function with similar flexibility) or `histplot` (an axes-level function for histograms).\n",
            "  warnings.warn(msg, FutureWarning)\n"
          ],
          "name": "stderr"
        },
        {
          "output_type": "display_data",
          "data": {
            "image/png": "[encoded data removed]",
            "text/plain": [
              "<Figure size 720x504 with 1 Axes>"
            ]
          },
          "metadata": {
            "tags": []
          }
        }
      ]
    },
    {
      "cell_type": "markdown",
      "metadata": {
        "id": "-DmJf6iTi3d2"
      },
      "source": [
        "Temos distribuições com assimetrias à esquerda. \n",
        "Isso significa que a maioria dos dados nas quatro variáveis estão situados abaixo da media.\n",
        "\n",
        "Isso pode nos indicar que existem produtos ou estabelecimentos incomuns que elevam a media das vendas, mas que as vendas estão, na verdade, baixas na maioria dos estabelecimentos contidos nos dados."
      ]
    }
  ]
}