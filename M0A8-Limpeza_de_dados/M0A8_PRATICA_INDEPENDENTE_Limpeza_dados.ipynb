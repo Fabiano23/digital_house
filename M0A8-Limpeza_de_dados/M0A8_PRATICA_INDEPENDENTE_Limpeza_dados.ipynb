{
  "nbformat": 4,
  "nbformat_minor": 0,
  "metadata": {
    "kernelspec": {
      "display_name": "Python 3",
      "language": "python",
      "name": "python3"
    },
    "language_info": {
      "codemirror_mode": {
        "name": "ipython",
        "version": 3
      },
      "file_extension": ".py",
      "mimetype": "text/x-python",
      "name": "python",
      "nbconvert_exporter": "python",
      "pygments_lexer": "ipython3",
      "version": "3.7.6"
    },
    "colab": {
      "name": "M0A8-PRATICA_INDEPENDENTE_Limpeza_dados.ipynb",
      "provenance": [],
      "collapsed_sections": []
    }
  },
  "cells": [
    {
      "cell_type": "markdown",
      "metadata": {
        "id": "x2g10nWfW2_D"
      },
      "source": [
        "# PRATICA INDEPENDENTE - Limpeza de dados\n",
        "\n",
        "\n",
        "### Utilizando o arquivo \"`sales.csv`\" responda às seguintes questões:"
      ]
    },
    {
      "cell_type": "code",
      "metadata": {
        "id": "wTvVpjwqW2_K"
      },
      "source": [
        "import pandas as pd\n",
        "import numpy as np"
      ],
      "execution_count": null,
      "outputs": []
    },
    {
      "cell_type": "markdown",
      "metadata": {
        "id": "zZ7LqLiGW2_W"
      },
      "source": [
        "#### Exercício 1: Carregá-lo em um dataframe e inspecionar os tipos de dados."
      ]
    },
    {
      "cell_type": "code",
      "metadata": {
        "id": "8xEjS6LsW2_Y"
      },
      "source": [
        "dados = pd.read_csv('sales.csv')"
      ],
      "execution_count": null,
      "outputs": []
    },
    {
      "cell_type": "code",
      "metadata": {
        "id": "82qc0gWPW2_f",
        "outputId": "c7befa67-a73f-4a78-beec-2afce446b73d",
        "colab": {
          "base_uri": "https://localhost:8080/",
          "height": 204
        }
      },
      "source": [
        "dados.head()"
      ],
      "execution_count": null,
      "outputs": [
        {
          "output_type": "execute_result",
          "data": {
            "text/html": [
              "<div>\n",
              "<style scoped>\n",
              "    .dataframe tbody tr th:only-of-type {\n",
              "        vertical-align: middle;\n",
              "    }\n",
              "\n",
              "    .dataframe tbody tr th {\n",
              "        vertical-align: top;\n",
              "    }\n",
              "\n",
              "    .dataframe thead th {\n",
              "        text-align: right;\n",
              "    }\n",
              "</style>\n",
              "<table border=\"1\" class=\"dataframe\">\n",
              "  <thead>\n",
              "    <tr style=\"text-align: right;\">\n",
              "      <th></th>\n",
              "      <th>Account</th>\n",
              "      <th>Name</th>\n",
              "      <th>Rep</th>\n",
              "      <th>Manager</th>\n",
              "      <th>Product</th>\n",
              "      <th>Quantity</th>\n",
              "      <th>Price</th>\n",
              "      <th>Status</th>\n",
              "    </tr>\n",
              "  </thead>\n",
              "  <tbody>\n",
              "    <tr>\n",
              "      <th>0</th>\n",
              "      <td>714466</td>\n",
              "      <td>Trantow-Barrows</td>\n",
              "      <td>Craig Booker</td>\n",
              "      <td>Debra Henley</td>\n",
              "      <td>CPU</td>\n",
              "      <td>1</td>\n",
              "      <td>30000</td>\n",
              "      <td>presented</td>\n",
              "    </tr>\n",
              "    <tr>\n",
              "      <th>1</th>\n",
              "      <td>714467</td>\n",
              "      <td>Trantow-Barrows</td>\n",
              "      <td>Craig Booker</td>\n",
              "      <td>Debra Henley</td>\n",
              "      <td>Software</td>\n",
              "      <td>1</td>\n",
              "      <td>10000</td>\n",
              "      <td>presented</td>\n",
              "    </tr>\n",
              "    <tr>\n",
              "      <th>2</th>\n",
              "      <td>714468</td>\n",
              "      <td>Trantow-Barrows</td>\n",
              "      <td>Craig Booker</td>\n",
              "      <td>Debra Henley</td>\n",
              "      <td>Maintenance</td>\n",
              "      <td>2</td>\n",
              "      <td>5000</td>\n",
              "      <td>pending</td>\n",
              "    </tr>\n",
              "    <tr>\n",
              "      <th>3</th>\n",
              "      <td>737550</td>\n",
              "      <td>Fritsch, Russel and Anderson</td>\n",
              "      <td>Craig Booker</td>\n",
              "      <td>Debra Henley</td>\n",
              "      <td>CPU</td>\n",
              "      <td>1</td>\n",
              "      <td>35000</td>\n",
              "      <td>declined</td>\n",
              "    </tr>\n",
              "    <tr>\n",
              "      <th>4</th>\n",
              "      <td>146832</td>\n",
              "      <td>Kiehn-Spika</td>\n",
              "      <td>Daniel Hilton</td>\n",
              "      <td>Debra Henley</td>\n",
              "      <td>CPU</td>\n",
              "      <td>2</td>\n",
              "      <td>65000</td>\n",
              "      <td>won</td>\n",
              "    </tr>\n",
              "  </tbody>\n",
              "</table>\n",
              "</div>"
            ],
            "text/plain": [
              "   Account                          Name  ...  Price     Status\n",
              "0   714466               Trantow-Barrows  ...  30000  presented\n",
              "1   714467               Trantow-Barrows  ...  10000  presented\n",
              "2   714468               Trantow-Barrows  ...   5000    pending\n",
              "3   737550  Fritsch, Russel and Anderson  ...  35000   declined\n",
              "4   146832                   Kiehn-Spika  ...  65000        won\n",
              "\n",
              "[5 rows x 8 columns]"
            ]
          },
          "metadata": {
            "tags": []
          },
          "execution_count": 175
        }
      ]
    },
    {
      "cell_type": "code",
      "metadata": {
        "id": "xX3xAP4tW2_n",
        "outputId": "2fa5080d-9522-4e16-fca6-8708718dc5dd",
        "colab": {
          "base_uri": "https://localhost:8080/"
        }
      },
      "source": [
        "dados.info()"
      ],
      "execution_count": null,
      "outputs": [
        {
          "output_type": "stream",
          "text": [
            "<class 'pandas.core.frame.DataFrame'>\n",
            "RangeIndex: 17 entries, 0 to 16\n",
            "Data columns (total 8 columns):\n",
            " #   Column    Non-Null Count  Dtype \n",
            "---  ------    --------------  ----- \n",
            " 0   Account   17 non-null     int64 \n",
            " 1   Name      17 non-null     object\n",
            " 2   Rep       17 non-null     object\n",
            " 3   Manager   17 non-null     object\n",
            " 4   Product   17 non-null     object\n",
            " 5   Quantity  17 non-null     int64 \n",
            " 6   Price     17 non-null     int64 \n",
            " 7   Status    17 non-null     object\n",
            "dtypes: int64(3), object(5)\n",
            "memory usage: 1.2+ KB\n"
          ],
          "name": "stdout"
        }
      ]
    },
    {
      "cell_type": "code",
      "metadata": {
        "id": "M8yko7znVehp",
        "outputId": "0db8bbce-12dc-4559-ee4b-86d98a6ffab6",
        "colab": {
          "base_uri": "https://localhost:8080/"
        }
      },
      "source": [
        "print(f'Instâncias: {dados.shape[0]}')\n",
        "print(f'Variáveis: {dados.shape[1]}')"
      ],
      "execution_count": null,
      "outputs": [
        {
          "output_type": "stream",
          "text": [
            "Instâncias: 17\n",
            "Variáveis: 8\n"
          ],
          "name": "stdout"
        }
      ]
    },
    {
      "cell_type": "markdown",
      "metadata": {
        "id": "UizPpWb5c4HW"
      },
      "source": [
        "Temos um pequeno conjunto de dados composto por \n",
        "`nome dos produtos`, `O que é o produto`, `representante de vendas`, `profissional de manutenção do produto`, `valor` (em qual moeda?), `quantidade do produto` e `status do produto`.  "
      ]
    },
    {
      "cell_type": "markdown",
      "metadata": {
        "id": "w9_KZBhsW2_t"
      },
      "source": [
        "#### Exercício 2: Supondo que descobrimos que todos os valores da coluna 1 estão incorretos e que deveríamos somar 1 unidade a cada um deles. Utilizar `df.apply()` para adicionar essa quantidade aos valores."
      ]
    },
    {
      "cell_type": "code",
      "metadata": {
        "id": "wMOKgSCnW2_u"
      },
      "source": [
        "# Utilizando a função apply com lambda para acrescentar um a cada valor na coluna Account\n",
        "dados['Account'] = dados['Account'].apply(lambda x: x + 1)"
      ],
      "execution_count": null,
      "outputs": []
    },
    {
      "cell_type": "code",
      "metadata": {
        "id": "1fG8P4-KfXbG",
        "outputId": "2ff0c3d7-5552-480c-dab8-44aaeec39850",
        "colab": {
          "base_uri": "https://localhost:8080/",
          "height": 204
        }
      },
      "source": [
        "# Conferindo se os valores mudaram\n",
        "dados.head()"
      ],
      "execution_count": null,
      "outputs": [
        {
          "output_type": "execute_result",
          "data": {
            "text/html": [
              "<div>\n",
              "<style scoped>\n",
              "    .dataframe tbody tr th:only-of-type {\n",
              "        vertical-align: middle;\n",
              "    }\n",
              "\n",
              "    .dataframe tbody tr th {\n",
              "        vertical-align: top;\n",
              "    }\n",
              "\n",
              "    .dataframe thead th {\n",
              "        text-align: right;\n",
              "    }\n",
              "</style>\n",
              "<table border=\"1\" class=\"dataframe\">\n",
              "  <thead>\n",
              "    <tr style=\"text-align: right;\">\n",
              "      <th></th>\n",
              "      <th>Account</th>\n",
              "      <th>Name</th>\n",
              "      <th>Rep</th>\n",
              "      <th>Manager</th>\n",
              "      <th>Product</th>\n",
              "      <th>Quantity</th>\n",
              "      <th>Price</th>\n",
              "      <th>Status</th>\n",
              "    </tr>\n",
              "  </thead>\n",
              "  <tbody>\n",
              "    <tr>\n",
              "      <th>0</th>\n",
              "      <td>714467</td>\n",
              "      <td>Trantow-Barrows</td>\n",
              "      <td>Craig Booker</td>\n",
              "      <td>Debra Henley</td>\n",
              "      <td>CPU</td>\n",
              "      <td>1</td>\n",
              "      <td>30000</td>\n",
              "      <td>presented</td>\n",
              "    </tr>\n",
              "    <tr>\n",
              "      <th>1</th>\n",
              "      <td>714468</td>\n",
              "      <td>Trantow-Barrows</td>\n",
              "      <td>Craig Booker</td>\n",
              "      <td>Debra Henley</td>\n",
              "      <td>Software</td>\n",
              "      <td>1</td>\n",
              "      <td>10000</td>\n",
              "      <td>presented</td>\n",
              "    </tr>\n",
              "    <tr>\n",
              "      <th>2</th>\n",
              "      <td>714469</td>\n",
              "      <td>Trantow-Barrows</td>\n",
              "      <td>Craig Booker</td>\n",
              "      <td>Debra Henley</td>\n",
              "      <td>Maintenance</td>\n",
              "      <td>2</td>\n",
              "      <td>5000</td>\n",
              "      <td>pending</td>\n",
              "    </tr>\n",
              "    <tr>\n",
              "      <th>3</th>\n",
              "      <td>737551</td>\n",
              "      <td>Fritsch, Russel and Anderson</td>\n",
              "      <td>Craig Booker</td>\n",
              "      <td>Debra Henley</td>\n",
              "      <td>CPU</td>\n",
              "      <td>1</td>\n",
              "      <td>35000</td>\n",
              "      <td>declined</td>\n",
              "    </tr>\n",
              "    <tr>\n",
              "      <th>4</th>\n",
              "      <td>146833</td>\n",
              "      <td>Kiehn-Spika</td>\n",
              "      <td>Daniel Hilton</td>\n",
              "      <td>Debra Henley</td>\n",
              "      <td>CPU</td>\n",
              "      <td>2</td>\n",
              "      <td>65000</td>\n",
              "      <td>won</td>\n",
              "    </tr>\n",
              "  </tbody>\n",
              "</table>\n",
              "</div>"
            ],
            "text/plain": [
              "   Account                          Name  ...  Price     Status\n",
              "0   714467               Trantow-Barrows  ...  30000  presented\n",
              "1   714468               Trantow-Barrows  ...  10000  presented\n",
              "2   714469               Trantow-Barrows  ...   5000    pending\n",
              "3   737551  Fritsch, Russel and Anderson  ...  35000   declined\n",
              "4   146833                   Kiehn-Spika  ...  65000        won\n",
              "\n",
              "[5 rows x 8 columns]"
            ]
          },
          "metadata": {
            "tags": []
          },
          "execution_count": 179
        }
      ]
    },
    {
      "cell_type": "markdown",
      "metadata": {
        "id": "YpFMWJNLW2_1"
      },
      "source": [
        "#### Exercício 3: Mudar todos os valores da coluna `price` maiores do que `50000` para `NaN`. Realize a contagem dos elementos da coluna `Account`  e depois agrupe o dataframe pelo atributo `Manager`."
      ]
    },
    {
      "cell_type": "markdown",
      "metadata": {
        "id": "vcWB0skTiXAE"
      },
      "source": [
        "Criando um novo objeto x que guarda e modifica a Serie \"Price\" e atribuindo os novos valores NaN ao dataframe original"
      ]
    },
    {
      "cell_type": "code",
      "metadata": {
        "id": "-pOB4-WYW2_2"
      },
      "source": [
        "#x = dados['Price']\n",
        "#x[x > 50000] = np.nan\n",
        "#dados['Price'] = x\n",
        "\n",
        "#dados['Price'].head()"
      ],
      "execution_count": null,
      "outputs": []
    },
    {
      "cell_type": "markdown",
      "metadata": {
        "id": "8CVAPF-hXQeH"
      },
      "source": [
        "Utilizando a função loc para o mesmo procedimento acima"
      ]
    },
    {
      "cell_type": "code",
      "metadata": {
        "id": "KiYCu9aOW3AB",
        "outputId": "f265ea29-4e38-4e91-9220-4802642abec7",
        "colab": {
          "base_uri": "https://localhost:8080/"
        }
      },
      "source": [
        "dados.loc[dados['Price'] > 50000] = np.nan\n",
        "dados['Price'].head()"
      ],
      "execution_count": null,
      "outputs": [
        {
          "output_type": "execute_result",
          "data": {
            "text/plain": [
              "0    30000.0\n",
              "1    10000.0\n",
              "2     5000.0\n",
              "3    35000.0\n",
              "4        NaN\n",
              "Name: Price, dtype: float64"
            ]
          },
          "metadata": {
            "tags": []
          },
          "execution_count": 23
        }
      ]
    },
    {
      "cell_type": "code",
      "metadata": {
        "id": "RgNKF96hW3AH",
        "outputId": "5989bf6f-e25c-478d-ab6f-5cd18f909f84",
        "colab": {
          "base_uri": "https://localhost:8080/"
        }
      },
      "source": [
        "# Contando quantos valores foram tranformados em NaN na coluna Price\n",
        "dados['Price'].isnull().sum()"
      ],
      "execution_count": null,
      "outputs": [
        {
          "output_type": "execute_result",
          "data": {
            "text/plain": [
              "4"
            ]
          },
          "metadata": {
            "tags": []
          },
          "execution_count": 34
        }
      ]
    },
    {
      "cell_type": "markdown",
      "metadata": {
        "id": "YWjAx__ApJIu"
      },
      "source": [
        "Contando os elementos da coluna Account"
      ]
    },
    {
      "cell_type": "code",
      "metadata": {
        "id": "uz08GULLpNWj",
        "outputId": "5b543976-b571-465f-c860-460e30c23f9e",
        "colab": {
          "base_uri": "https://localhost:8080/"
        }
      },
      "source": [
        "dados['Account'].value_counts()"
      ],
      "execution_count": null,
      "outputs": [
        {
          "output_type": "execute_result",
          "data": {
            "text/plain": [
              "218896    2\n",
              "729834    2\n",
              "239345    2\n",
              "163417    1\n",
              "740151    1\n",
              "307600    1\n",
              "146833    1\n",
              "737551    1\n",
              "412291    1\n",
              "141963    1\n",
              "688982    1\n",
              "714469    1\n",
              "714468    1\n",
              "714467    1\n",
              "Name: Account, dtype: int64"
            ]
          },
          "metadata": {
            "tags": []
          },
          "execution_count": 181
        }
      ]
    },
    {
      "cell_type": "markdown",
      "metadata": {
        "id": "tt1VvIHapgjV"
      },
      "source": [
        "Existem valores repetidos. Vamos ver se há instâncias repetidas (exatamente iguais) em todo o dataframe pra conferir se é por isso que os valores de Account se repetem ou se eles na verdade não dizem respeito a algo como que o Id que identifica cada objeto particular."
      ]
    },
    {
      "cell_type": "code",
      "metadata": {
        "id": "Lgfdd_HjpncR",
        "outputId": "68db76d5-c60c-46a5-f87a-a9d0a099e7e2",
        "colab": {
          "base_uri": "https://localhost:8080/"
        }
      },
      "source": [
        "dados.duplicated().sum()"
      ],
      "execution_count": null,
      "outputs": [
        {
          "output_type": "execute_result",
          "data": {
            "text/plain": [
              "0"
            ]
          },
          "metadata": {
            "tags": []
          },
          "execution_count": 185
        }
      ]
    },
    {
      "cell_type": "markdown",
      "metadata": {
        "id": "PaSUxG0zp5Nx"
      },
      "source": [
        "Não existem valores duplicados o que nos indica que a variável Account não representa algo como o Id de cada objeto."
      ]
    },
    {
      "cell_type": "markdown",
      "metadata": {
        "id": "10TD5uZ4qas6"
      },
      "source": [
        "####Agrupando o dataframe pelo atributo Manager"
      ]
    },
    {
      "cell_type": "code",
      "metadata": {
        "id": "iCZlOjBZqecD",
        "outputId": "d92c8ea2-2213-4e09-d9cd-4fac01cf8035",
        "colab": {
          "base_uri": "https://localhost:8080/",
          "height": 576
        }
      },
      "source": [
        "agrupado_por_manager = dados.groupby(by= 'Manager')\n",
        "agrupado_por_manager.head(17)"
      ],
      "execution_count": null,
      "outputs": [
        {
          "output_type": "execute_result",
          "data": {
            "text/html": [
              "<div>\n",
              "<style scoped>\n",
              "    .dataframe tbody tr th:only-of-type {\n",
              "        vertical-align: middle;\n",
              "    }\n",
              "\n",
              "    .dataframe tbody tr th {\n",
              "        vertical-align: top;\n",
              "    }\n",
              "\n",
              "    .dataframe thead th {\n",
              "        text-align: right;\n",
              "    }\n",
              "</style>\n",
              "<table border=\"1\" class=\"dataframe\">\n",
              "  <thead>\n",
              "    <tr style=\"text-align: right;\">\n",
              "      <th></th>\n",
              "      <th>Account</th>\n",
              "      <th>Name</th>\n",
              "      <th>Rep</th>\n",
              "      <th>Manager</th>\n",
              "      <th>Product</th>\n",
              "      <th>Quantity</th>\n",
              "      <th>Price</th>\n",
              "      <th>Status</th>\n",
              "    </tr>\n",
              "  </thead>\n",
              "  <tbody>\n",
              "    <tr>\n",
              "      <th>0</th>\n",
              "      <td>714467</td>\n",
              "      <td>Trantow-Barrows</td>\n",
              "      <td>Craig Booker</td>\n",
              "      <td>Debra Henley</td>\n",
              "      <td>CPU</td>\n",
              "      <td>1</td>\n",
              "      <td>30000</td>\n",
              "      <td>presented</td>\n",
              "    </tr>\n",
              "    <tr>\n",
              "      <th>1</th>\n",
              "      <td>714468</td>\n",
              "      <td>Trantow-Barrows</td>\n",
              "      <td>Craig Booker</td>\n",
              "      <td>Debra Henley</td>\n",
              "      <td>Software</td>\n",
              "      <td>1</td>\n",
              "      <td>10000</td>\n",
              "      <td>presented</td>\n",
              "    </tr>\n",
              "    <tr>\n",
              "      <th>2</th>\n",
              "      <td>714469</td>\n",
              "      <td>Trantow-Barrows</td>\n",
              "      <td>Craig Booker</td>\n",
              "      <td>Debra Henley</td>\n",
              "      <td>Maintenance</td>\n",
              "      <td>2</td>\n",
              "      <td>5000</td>\n",
              "      <td>pending</td>\n",
              "    </tr>\n",
              "    <tr>\n",
              "      <th>3</th>\n",
              "      <td>737551</td>\n",
              "      <td>Fritsch, Russel and Anderson</td>\n",
              "      <td>Craig Booker</td>\n",
              "      <td>Debra Henley</td>\n",
              "      <td>CPU</td>\n",
              "      <td>1</td>\n",
              "      <td>35000</td>\n",
              "      <td>declined</td>\n",
              "    </tr>\n",
              "    <tr>\n",
              "      <th>4</th>\n",
              "      <td>146833</td>\n",
              "      <td>Kiehn-Spika</td>\n",
              "      <td>Daniel Hilton</td>\n",
              "      <td>Debra Henley</td>\n",
              "      <td>CPU</td>\n",
              "      <td>2</td>\n",
              "      <td>65000</td>\n",
              "      <td>won</td>\n",
              "    </tr>\n",
              "    <tr>\n",
              "      <th>5</th>\n",
              "      <td>218896</td>\n",
              "      <td>Kulas Inc</td>\n",
              "      <td>Daniel Hilton</td>\n",
              "      <td>Debra Henley</td>\n",
              "      <td>CPU</td>\n",
              "      <td>2</td>\n",
              "      <td>40000</td>\n",
              "      <td>pending</td>\n",
              "    </tr>\n",
              "    <tr>\n",
              "      <th>6</th>\n",
              "      <td>218896</td>\n",
              "      <td>Kulas Inc</td>\n",
              "      <td>Daniel Hilton</td>\n",
              "      <td>Debra Henley</td>\n",
              "      <td>Software</td>\n",
              "      <td>1</td>\n",
              "      <td>10000</td>\n",
              "      <td>presented</td>\n",
              "    </tr>\n",
              "    <tr>\n",
              "      <th>7</th>\n",
              "      <td>412291</td>\n",
              "      <td>Jerde-Hilpert</td>\n",
              "      <td>john Smith</td>\n",
              "      <td>Debra Henley</td>\n",
              "      <td>Maintenance</td>\n",
              "      <td>2</td>\n",
              "      <td>5000</td>\n",
              "      <td>pending</td>\n",
              "    </tr>\n",
              "    <tr>\n",
              "      <th>8</th>\n",
              "      <td>740151</td>\n",
              "      <td>Barton LLC</td>\n",
              "      <td>john Smith</td>\n",
              "      <td>Debra Henley</td>\n",
              "      <td>CPU</td>\n",
              "      <td>1</td>\n",
              "      <td>35000</td>\n",
              "      <td>declined</td>\n",
              "    </tr>\n",
              "    <tr>\n",
              "      <th>9</th>\n",
              "      <td>141963</td>\n",
              "      <td>Herman LLC</td>\n",
              "      <td>Cedric Moss</td>\n",
              "      <td>Fred Anderson</td>\n",
              "      <td>CPU</td>\n",
              "      <td>2</td>\n",
              "      <td>65000</td>\n",
              "      <td>won</td>\n",
              "    </tr>\n",
              "    <tr>\n",
              "      <th>10</th>\n",
              "      <td>163417</td>\n",
              "      <td>Purdy-Kubde</td>\n",
              "      <td>Cedric Moss</td>\n",
              "      <td>Fred Anderson</td>\n",
              "      <td>CPU</td>\n",
              "      <td>1</td>\n",
              "      <td>30000</td>\n",
              "      <td>presented</td>\n",
              "    </tr>\n",
              "    <tr>\n",
              "      <th>11</th>\n",
              "      <td>239345</td>\n",
              "      <td>Stokes LLC</td>\n",
              "      <td>Cedric Moss</td>\n",
              "      <td>Fred Anderson</td>\n",
              "      <td>Maintenance</td>\n",
              "      <td>1</td>\n",
              "      <td>5000</td>\n",
              "      <td>pending</td>\n",
              "    </tr>\n",
              "    <tr>\n",
              "      <th>12</th>\n",
              "      <td>239345</td>\n",
              "      <td>Stokes LLC</td>\n",
              "      <td>Cedric Moss</td>\n",
              "      <td>Fred Anderson</td>\n",
              "      <td>Software</td>\n",
              "      <td>1</td>\n",
              "      <td>10000</td>\n",
              "      <td>presented</td>\n",
              "    </tr>\n",
              "    <tr>\n",
              "      <th>13</th>\n",
              "      <td>307600</td>\n",
              "      <td>Kassulke, Ondricka and Metz</td>\n",
              "      <td>Wendy Yule</td>\n",
              "      <td>Fred Anderson</td>\n",
              "      <td>Maintenance</td>\n",
              "      <td>3</td>\n",
              "      <td>7000</td>\n",
              "      <td>won</td>\n",
              "    </tr>\n",
              "    <tr>\n",
              "      <th>14</th>\n",
              "      <td>688982</td>\n",
              "      <td>Keeling LLC</td>\n",
              "      <td>Wendy Yule</td>\n",
              "      <td>Fred Anderson</td>\n",
              "      <td>CPU</td>\n",
              "      <td>5</td>\n",
              "      <td>100000</td>\n",
              "      <td>won</td>\n",
              "    </tr>\n",
              "    <tr>\n",
              "      <th>15</th>\n",
              "      <td>729834</td>\n",
              "      <td>Koepp Ltd</td>\n",
              "      <td>Wendy Yule</td>\n",
              "      <td>Fred Anderson</td>\n",
              "      <td>CPU</td>\n",
              "      <td>2</td>\n",
              "      <td>65000</td>\n",
              "      <td>declined</td>\n",
              "    </tr>\n",
              "    <tr>\n",
              "      <th>16</th>\n",
              "      <td>729834</td>\n",
              "      <td>Koepp Ltd</td>\n",
              "      <td>Wendy Yule</td>\n",
              "      <td>Fred Anderson</td>\n",
              "      <td>Monitor</td>\n",
              "      <td>2</td>\n",
              "      <td>5000</td>\n",
              "      <td>presented</td>\n",
              "    </tr>\n",
              "  </tbody>\n",
              "</table>\n",
              "</div>"
            ],
            "text/plain": [
              "    Account                          Name  ...   Price     Status\n",
              "0    714467               Trantow-Barrows  ...   30000  presented\n",
              "1    714468               Trantow-Barrows  ...   10000  presented\n",
              "2    714469               Trantow-Barrows  ...    5000    pending\n",
              "3    737551  Fritsch, Russel and Anderson  ...   35000   declined\n",
              "4    146833                   Kiehn-Spika  ...   65000        won\n",
              "5    218896                     Kulas Inc  ...   40000    pending\n",
              "6    218896                     Kulas Inc  ...   10000  presented\n",
              "7    412291                 Jerde-Hilpert  ...    5000    pending\n",
              "8    740151                    Barton LLC  ...   35000   declined\n",
              "9    141963                    Herman LLC  ...   65000        won\n",
              "10   163417                   Purdy-Kubde  ...   30000  presented\n",
              "11   239345                    Stokes LLC  ...    5000    pending\n",
              "12   239345                    Stokes LLC  ...   10000  presented\n",
              "13   307600   Kassulke, Ondricka and Metz  ...    7000        won\n",
              "14   688982                   Keeling LLC  ...  100000        won\n",
              "15   729834                     Koepp Ltd  ...   65000   declined\n",
              "16   729834                     Koepp Ltd  ...    5000  presented\n",
              "\n",
              "[17 rows x 8 columns]"
            ]
          },
          "metadata": {
            "tags": []
          },
          "execution_count": 192
        }
      ]
    },
    {
      "cell_type": "markdown",
      "metadata": {
        "id": "8WEYu1LCrJH4"
      },
      "source": [
        "O dataframe só possui dois gerentes dos produtos."
      ]
    },
    {
      "cell_type": "markdown",
      "metadata": {
        "id": "BAF4UlFRW3AN"
      },
      "source": [
        "#### Exercício 4: Na coluna `Status` substitua as expressões `won` por `finalized`.  Depois realize uma contagem, usando o método `.value_counts()`, para cada uma das colunas do dataset."
      ]
    },
    {
      "cell_type": "markdown",
      "metadata": {
        "id": "UZz9KBmMavsA"
      },
      "source": [
        "Utilizando o `.loc()`"
      ]
    },
    {
      "cell_type": "code",
      "metadata": {
        "id": "Gic5Lv4zW3AO",
        "outputId": "41cbdf55-3a68-440a-d4a4-6f11c6e39b70",
        "colab": {
          "base_uri": "https://localhost:8080/"
        }
      },
      "source": [
        "dados.loc[dados['Status'] == 'won'] = str('finalized')\n",
        "dados['Status'].head()"
      ],
      "execution_count": null,
      "outputs": [
        {
          "output_type": "execute_result",
          "data": {
            "text/plain": [
              "0    presented\n",
              "1    presented\n",
              "2      pending\n",
              "3     declined\n",
              "4    finalized\n",
              "Name: Status, dtype: object"
            ]
          },
          "metadata": {
            "tags": []
          },
          "execution_count": 44
        }
      ]
    },
    {
      "cell_type": "markdown",
      "metadata": {
        "id": "mvx3XGPbazwE"
      },
      "source": [
        "Utilizando o método `.replace()` pro mesmo objetivo acima"
      ]
    },
    {
      "cell_type": "code",
      "metadata": {
        "id": "jbEmQ1MZaY8-"
      },
      "source": [
        "#dados['Status'].replace('won', 'finalized', inplace=True)"
      ],
      "execution_count": null,
      "outputs": []
    },
    {
      "cell_type": "markdown",
      "metadata": {
        "id": "dQ-9RDCAeUHc"
      },
      "source": [
        "Inserindo o nome das colunas em uma lista e utilizando a estrutura de repetição `for` pra imprimir a contagem das variáveis em cada uma delas"
      ]
    },
    {
      "cell_type": "code",
      "metadata": {
        "id": "qb2rC39KbeOt"
      },
      "source": [
        "columns = list(dados.columns)"
      ],
      "execution_count": null,
      "outputs": []
    },
    {
      "cell_type": "code",
      "metadata": {
        "id": "AQHOjwJGW3AU",
        "outputId": "56e294b5-18e7-4deb-d017-f879e8b6e1fb",
        "colab": {
          "base_uri": "https://localhost:8080/"
        }
      },
      "source": [
        "for column in columns:\n",
        "  print(f'{column}:')\n",
        "  print(dados[column].value_counts())\n",
        "  print('\\n')"
      ],
      "execution_count": null,
      "outputs": [
        {
          "output_type": "stream",
          "text": [
            "Account:\n",
            "218896    2\n",
            "729834    2\n",
            "239345    2\n",
            "163417    1\n",
            "740151    1\n",
            "307600    1\n",
            "146833    1\n",
            "737551    1\n",
            "412291    1\n",
            "141963    1\n",
            "688982    1\n",
            "714469    1\n",
            "714468    1\n",
            "714467    1\n",
            "Name: Account, dtype: int64\n",
            "\n",
            "\n",
            "Name:\n",
            "Trantow-Barrows                 3\n",
            "Koepp Ltd                       2\n",
            "Stokes LLC                      2\n",
            "Kulas Inc                       2\n",
            "Kiehn-Spika                     1\n",
            "Jerde-Hilpert                   1\n",
            "Fritsch, Russel and Anderson    1\n",
            "Herman LLC                      1\n",
            "Barton LLC                      1\n",
            "Purdy-Kubde                     1\n",
            "Kassulke, Ondricka and Metz     1\n",
            "Keeling LLC                     1\n",
            "Name: Name, dtype: int64\n",
            "\n",
            "\n",
            "Rep:\n",
            "Wendy Yule       4\n",
            "Craig Booker     4\n",
            "Cedric Moss      4\n",
            "Daniel Hilton    3\n",
            "john Smith       2\n",
            "Name: Rep, dtype: int64\n",
            "\n",
            "\n",
            "Manager:\n",
            "Debra Henley     9\n",
            "Fred Anderson    8\n",
            "Name: Manager, dtype: int64\n",
            "\n",
            "\n",
            "Product:\n",
            "CPU            9\n",
            "Maintenance    4\n",
            "Software       3\n",
            "Monitor        1\n",
            "Name: Product, dtype: int64\n",
            "\n",
            "\n",
            "Quantity:\n",
            "1    8\n",
            "2    7\n",
            "5    1\n",
            "3    1\n",
            "Name: Quantity, dtype: int64\n",
            "\n",
            "\n",
            "Price:\n",
            "5000      4\n",
            "10000     3\n",
            "65000     3\n",
            "35000     2\n",
            "30000     2\n",
            "100000    1\n",
            "7000      1\n",
            "40000     1\n",
            "Name: Price, dtype: int64\n",
            "\n",
            "\n",
            "Status:\n",
            "presented    6\n",
            "pending      4\n",
            "won          4\n",
            "declined     3\n",
            "Name: Status, dtype: int64\n",
            "\n",
            "\n"
          ],
          "name": "stdout"
        }
      ]
    },
    {
      "cell_type": "markdown",
      "metadata": {
        "id": "8bCTnvEGW3Ae"
      },
      "source": [
        "### Agora utilizando o arquivo \"`googleplaystore.csv`\" realize os seguintes exercícios:"
      ]
    },
    {
      "cell_type": "code",
      "metadata": {
        "id": "DELg53I1W3Af"
      },
      "source": [
        "fonte = 'https://raw.githubusercontent.com/jasonchang0/kaggle-google-apps/master/google-play-store-apps/googleplaystore.csv'"
      ],
      "execution_count": null,
      "outputs": []
    },
    {
      "cell_type": "code",
      "metadata": {
        "id": "iMJZAzzPW3Am",
        "outputId": "adae22b4-ae63-4143-89c3-e99876919aa0",
        "colab": {
          "base_uri": "https://localhost:8080/",
          "height": 340
        }
      },
      "source": [
        "dados_google = pd.read_csv(fonte)\n",
        "dados_google.head()"
      ],
      "execution_count": null,
      "outputs": [
        {
          "output_type": "execute_result",
          "data": {
            "text/html": [
              "<div>\n",
              "<style scoped>\n",
              "    .dataframe tbody tr th:only-of-type {\n",
              "        vertical-align: middle;\n",
              "    }\n",
              "\n",
              "    .dataframe tbody tr th {\n",
              "        vertical-align: top;\n",
              "    }\n",
              "\n",
              "    .dataframe thead th {\n",
              "        text-align: right;\n",
              "    }\n",
              "</style>\n",
              "<table border=\"1\" class=\"dataframe\">\n",
              "  <thead>\n",
              "    <tr style=\"text-align: right;\">\n",
              "      <th></th>\n",
              "      <th>App</th>\n",
              "      <th>Category</th>\n",
              "      <th>Rating</th>\n",
              "      <th>Reviews</th>\n",
              "      <th>Size</th>\n",
              "      <th>Installs</th>\n",
              "      <th>Type</th>\n",
              "      <th>Price</th>\n",
              "      <th>Content Rating</th>\n",
              "      <th>Genres</th>\n",
              "      <th>Last Updated</th>\n",
              "      <th>Current Ver</th>\n",
              "      <th>Android Ver</th>\n",
              "    </tr>\n",
              "  </thead>\n",
              "  <tbody>\n",
              "    <tr>\n",
              "      <th>0</th>\n",
              "      <td>Photo Editor &amp; Candy Camera &amp; Grid &amp; ScrapBook</td>\n",
              "      <td>ART_AND_DESIGN</td>\n",
              "      <td>4.1</td>\n",
              "      <td>159</td>\n",
              "      <td>19M</td>\n",
              "      <td>10,000+</td>\n",
              "      <td>Free</td>\n",
              "      <td>0</td>\n",
              "      <td>Everyone</td>\n",
              "      <td>Art &amp; Design</td>\n",
              "      <td>January 7, 2018</td>\n",
              "      <td>1.0.0</td>\n",
              "      <td>4.0.3 and up</td>\n",
              "    </tr>\n",
              "    <tr>\n",
              "      <th>1</th>\n",
              "      <td>Coloring book moana</td>\n",
              "      <td>ART_AND_DESIGN</td>\n",
              "      <td>3.9</td>\n",
              "      <td>967</td>\n",
              "      <td>14M</td>\n",
              "      <td>500,000+</td>\n",
              "      <td>Free</td>\n",
              "      <td>0</td>\n",
              "      <td>Everyone</td>\n",
              "      <td>Art &amp; Design;Pretend Play</td>\n",
              "      <td>January 15, 2018</td>\n",
              "      <td>2.0.0</td>\n",
              "      <td>4.0.3 and up</td>\n",
              "    </tr>\n",
              "    <tr>\n",
              "      <th>2</th>\n",
              "      <td>U Launcher Lite – FREE Live Cool Themes, Hide ...</td>\n",
              "      <td>ART_AND_DESIGN</td>\n",
              "      <td>4.7</td>\n",
              "      <td>87510</td>\n",
              "      <td>8.7M</td>\n",
              "      <td>5,000,000+</td>\n",
              "      <td>Free</td>\n",
              "      <td>0</td>\n",
              "      <td>Everyone</td>\n",
              "      <td>Art &amp; Design</td>\n",
              "      <td>August 1, 2018</td>\n",
              "      <td>1.2.4</td>\n",
              "      <td>4.0.3 and up</td>\n",
              "    </tr>\n",
              "    <tr>\n",
              "      <th>3</th>\n",
              "      <td>Sketch - Draw &amp; Paint</td>\n",
              "      <td>ART_AND_DESIGN</td>\n",
              "      <td>4.5</td>\n",
              "      <td>215644</td>\n",
              "      <td>25M</td>\n",
              "      <td>50,000,000+</td>\n",
              "      <td>Free</td>\n",
              "      <td>0</td>\n",
              "      <td>Teen</td>\n",
              "      <td>Art &amp; Design</td>\n",
              "      <td>June 8, 2018</td>\n",
              "      <td>Varies with device</td>\n",
              "      <td>4.2 and up</td>\n",
              "    </tr>\n",
              "    <tr>\n",
              "      <th>4</th>\n",
              "      <td>Pixel Draw - Number Art Coloring Book</td>\n",
              "      <td>ART_AND_DESIGN</td>\n",
              "      <td>4.3</td>\n",
              "      <td>967</td>\n",
              "      <td>2.8M</td>\n",
              "      <td>100,000+</td>\n",
              "      <td>Free</td>\n",
              "      <td>0</td>\n",
              "      <td>Everyone</td>\n",
              "      <td>Art &amp; Design;Creativity</td>\n",
              "      <td>June 20, 2018</td>\n",
              "      <td>1.1</td>\n",
              "      <td>4.4 and up</td>\n",
              "    </tr>\n",
              "  </tbody>\n",
              "</table>\n",
              "</div>"
            ],
            "text/plain": [
              "                                                 App  ...   Android Ver\n",
              "0     Photo Editor & Candy Camera & Grid & ScrapBook  ...  4.0.3 and up\n",
              "1                                Coloring book moana  ...  4.0.3 and up\n",
              "2  U Launcher Lite – FREE Live Cool Themes, Hide ...  ...  4.0.3 and up\n",
              "3                              Sketch - Draw & Paint  ...    4.2 and up\n",
              "4              Pixel Draw - Number Art Coloring Book  ...    4.4 and up\n",
              "\n",
              "[5 rows x 13 columns]"
            ]
          },
          "metadata": {
            "tags": []
          },
          "execution_count": 195
        }
      ]
    },
    {
      "cell_type": "markdown",
      "metadata": {
        "id": "ns_lS39BW3Aq"
      },
      "source": [
        "#### Exercício 5: Realize o tratamento dos atributos começando por `price`, utilize a função [`str.replace`](https://docs.python.org/2/library/stdtypes.html?highlight=replace#str.replace) para substituir os valores que não fazem sentido nesse atributo."
      ]
    },
    {
      "cell_type": "code",
      "metadata": {
        "id": "BsgLGZGNW3Ar",
        "outputId": "e9297c90-bb1d-4ebd-bb85-2e5841488be2",
        "colab": {
          "base_uri": "https://localhost:8080/"
        }
      },
      "source": [
        "# Conferindo quais valores únicos estão presentes na coluna 'Price'\n",
        "dados_google['Price'].unique()"
      ],
      "execution_count": null,
      "outputs": [
        {
          "output_type": "execute_result",
          "data": {
            "text/plain": [
              "array(['0', '$4.99', '$3.99', '$6.99', '$1.49', '$2.99', '$7.99', '$5.99',\n",
              "       '$3.49', '$1.99', '$9.99', '$7.49', '$0.99', '$9.00', '$5.49',\n",
              "       '$10.00', '$24.99', '$11.99', '$79.99', '$16.99', '$14.99',\n",
              "       '$1.00', '$29.99', '$12.99', '$2.49', '$10.99', '$1.50', '$19.99',\n",
              "       '$15.99', '$33.99', '$74.99', '$39.99', '$3.95', '$4.49', '$1.70',\n",
              "       '$8.99', '$2.00', '$3.88', '$25.99', '$399.99', '$17.99',\n",
              "       '$400.00', '$3.02', '$1.76', '$4.84', '$4.77', '$1.61', '$2.50',\n",
              "       '$1.59', '$6.49', '$1.29', '$5.00', '$13.99', '$299.99', '$379.99',\n",
              "       '$37.99', '$18.99', '$389.99', '$19.90', '$8.49', '$1.75',\n",
              "       '$14.00', '$4.85', '$46.99', '$109.99', '$154.99', '$3.08',\n",
              "       '$2.59', '$4.80', '$1.96', '$19.40', '$3.90', '$4.59', '$15.46',\n",
              "       '$3.04', '$4.29', '$2.60', '$3.28', '$4.60', '$28.99', '$2.95',\n",
              "       '$2.90', '$1.97', '$200.00', '$89.99', '$2.56', '$30.99', '$3.61',\n",
              "       '$394.99', '$1.26', 'Everyone', '$1.20', '$1.04'], dtype=object)"
            ]
          },
          "metadata": {
            "tags": []
          },
          "execution_count": 108
        }
      ]
    },
    {
      "cell_type": "code",
      "metadata": {
        "id": "F-IoZwZsgfst",
        "outputId": "fbf59323-5c94-4e11-9970-5181edb91a6e",
        "colab": {
          "base_uri": "https://localhost:8080/"
        }
      },
      "source": [
        "# Contando valores 'Everyone' presentes na coluna 'Price'\n",
        "dados_google['Price'].loc[dados_google['Price'] == 'Everyone'].value_counts()"
      ],
      "execution_count": null,
      "outputs": [
        {
          "output_type": "execute_result",
          "data": {
            "text/plain": [
              "Everyone    1\n",
              "Name: Price, dtype: int64"
            ]
          },
          "metadata": {
            "tags": []
          },
          "execution_count": 196
        }
      ]
    },
    {
      "cell_type": "markdown",
      "metadata": {
        "id": "RWaFMrzigOK3"
      },
      "source": [
        "Temos um valor 'Everyone'. Vamos deixá-lo como 0."
      ]
    },
    {
      "cell_type": "code",
      "metadata": {
        "id": "LaXUKQz5ef3X",
        "outputId": "98b7b428-f7f9-41e9-b0e2-2070f1fee477",
        "colab": {
          "base_uri": "https://localhost:8080/"
        }
      },
      "source": [
        "# Tranformando valor 'Everyone' em '0'\n",
        "dados_google['Price']= dados_google['Price'].str.replace('Everyone', '0')\n",
        "\n",
        "#Conferindo se o valor não existe mais na coluna 'Price'\n",
        "dados_google['Price'].loc[dados_google['Price'] == 'Everyone'].sum()"
      ],
      "execution_count": null,
      "outputs": [
        {
          "output_type": "execute_result",
          "data": {
            "text/plain": [
              "0"
            ]
          },
          "metadata": {
            "tags": []
          },
          "execution_count": 198
        }
      ]
    },
    {
      "cell_type": "markdown",
      "metadata": {
        "id": "uMW3IO-TW3Av"
      },
      "source": [
        "#### Exercício 6: Em seguida cheque os valores para `Reviews`, convertendo-o de `str` para `int`."
      ]
    },
    {
      "cell_type": "code",
      "metadata": {
        "id": "PFx7TM2gW3Aw",
        "outputId": "c059d2bc-31b9-43c5-d386-bb567efa5f8b",
        "colab": {
          "base_uri": "https://localhost:8080/"
        }
      },
      "source": [
        "# Antes do tratamento não haviam valores nulos na coluna Reviews\n",
        "dados_google['Reviews'].isnull().sum()"
      ],
      "execution_count": null,
      "outputs": [
        {
          "output_type": "execute_result",
          "data": {
            "text/plain": [
              "0"
            ]
          },
          "metadata": {
            "tags": []
          },
          "execution_count": 199
        }
      ]
    },
    {
      "cell_type": "markdown",
      "metadata": {
        "id": "1LXppLt8h0Jj"
      },
      "source": [
        "Usando a função `pd.to_numeric()` do pandas que transforma os valores da serie passada como argumento para numéricos. O parâmetro `errors` como 'coerce' é pra caso seja encontrado algum valor não possível de passar para tipo numérico seja colocado como NaN."
      ]
    },
    {
      "cell_type": "code",
      "metadata": {
        "id": "oRYUYohjhhjW",
        "outputId": "98c9dd1d-0cc3-4938-d6a9-1dd2e9697c6d",
        "colab": {
          "base_uri": "https://localhost:8080/"
        }
      },
      "source": [
        "pd.to_numeric(dados_google['Reviews'], errors= 'coerce')"
      ],
      "execution_count": null,
      "outputs": [
        {
          "output_type": "execute_result",
          "data": {
            "text/plain": [
              "0           159.0\n",
              "1           967.0\n",
              "2         87510.0\n",
              "3        215644.0\n",
              "4           967.0\n",
              "           ...   \n",
              "10836        38.0\n",
              "10837         4.0\n",
              "10838         3.0\n",
              "10839       114.0\n",
              "10840    398307.0\n",
              "Name: Reviews, Length: 10841, dtype: float64"
            ]
          },
          "metadata": {
            "tags": []
          },
          "execution_count": 201
        }
      ]
    },
    {
      "cell_type": "markdown",
      "metadata": {
        "id": "fUCI9io9W3A1"
      },
      "source": [
        "#### Exercício 7: Agora, complete os valores `na` com a média de cada coluna e agrupe o dataframe resultante por `category`."
      ]
    },
    {
      "cell_type": "code",
      "metadata": {
        "id": "STVEmK4tW3A2",
        "outputId": "dc13dd3a-d94f-46d6-d02a-dfa3bd1b00f5",
        "colab": {
          "base_uri": "https://localhost:8080/"
        }
      },
      "source": [
        "dados_google.isnull().sum()"
      ],
      "execution_count": null,
      "outputs": [
        {
          "output_type": "execute_result",
          "data": {
            "text/plain": [
              "App                  0\n",
              "Category             0\n",
              "Rating            1474\n",
              "Reviews              0\n",
              "Size                 0\n",
              "Installs             0\n",
              "Type                 1\n",
              "Price                0\n",
              "Content Rating       1\n",
              "Genres               0\n",
              "Last Updated         0\n",
              "Current Ver          8\n",
              "Android Ver          3\n",
              "dtype: int64"
            ]
          },
          "metadata": {
            "tags": []
          },
          "execution_count": 120
        }
      ]
    },
    {
      "cell_type": "markdown",
      "metadata": {
        "id": "mhFjSwYamPwo"
      },
      "source": [
        "Preenchendo valores nulos das colunas (com tipos numéricos) do dataframe com suas respectivas medias"
      ]
    },
    {
      "cell_type": "code",
      "metadata": {
        "id": "7kup4vhrW3A_"
      },
      "source": [
        "dados_google.fillna(dados_google.mean(), inplace= True)"
      ],
      "execution_count": null,
      "outputs": []
    },
    {
      "cell_type": "code",
      "metadata": {
        "id": "gWlOROm_kO3S",
        "outputId": "87f28e2d-c6e8-4e86-9bb1-158aa1b0a616",
        "colab": {
          "base_uri": "https://localhost:8080/"
        }
      },
      "source": [
        "# Conferindo quais colunas não possuem mais dados nulos\n",
        "dados_google.isnull().sum()"
      ],
      "execution_count": null,
      "outputs": [
        {
          "output_type": "execute_result",
          "data": {
            "text/plain": [
              "App               0\n",
              "Category          0\n",
              "Rating            0\n",
              "Reviews           0\n",
              "Size              0\n",
              "Installs          0\n",
              "Type              1\n",
              "Price             0\n",
              "Content Rating    1\n",
              "Genres            0\n",
              "Last Updated      0\n",
              "Current Ver       8\n",
              "Android Ver       3\n",
              "dtype: int64"
            ]
          },
          "metadata": {
            "tags": []
          },
          "execution_count": 204
        }
      ]
    },
    {
      "cell_type": "markdown",
      "metadata": {
        "id": "t3CC_ahZlzzY"
      },
      "source": [
        "Os dados que continuaram com valores nulos são porque apresentam tipos categóricos de dados e não numéricos. Nesse sentido demandariam outro tipo de tratamento."
      ]
    },
    {
      "cell_type": "markdown",
      "metadata": {
        "id": "IfhjHXtGmc4w"
      },
      "source": [
        "Imprimindo o dataframe remanescente agrupado pela variável `category`"
      ]
    },
    {
      "cell_type": "code",
      "metadata": {
        "id": "TD6oytmSnMDQ"
      },
      "source": [
        "agrupado_por_categoria = dados_google.groupby(by= 'Category')"
      ],
      "execution_count": null,
      "outputs": []
    },
    {
      "cell_type": "code",
      "metadata": {
        "id": "1N0edxoXml0d",
        "outputId": "4900813f-45d6-4d8c-9fe9-c4468c0d38c1",
        "colab": {
          "base_uri": "https://localhost:8080/",
          "height": 708
        }
      },
      "source": [
        "agrupado_por_categoria.head()"
      ],
      "execution_count": null,
      "outputs": [
        {
          "output_type": "execute_result",
          "data": {
            "text/html": [
              "<div>\n",
              "<style scoped>\n",
              "    .dataframe tbody tr th:only-of-type {\n",
              "        vertical-align: middle;\n",
              "    }\n",
              "\n",
              "    .dataframe tbody tr th {\n",
              "        vertical-align: top;\n",
              "    }\n",
              "\n",
              "    .dataframe thead th {\n",
              "        text-align: right;\n",
              "    }\n",
              "</style>\n",
              "<table border=\"1\" class=\"dataframe\">\n",
              "  <thead>\n",
              "    <tr style=\"text-align: right;\">\n",
              "      <th></th>\n",
              "      <th>App</th>\n",
              "      <th>Category</th>\n",
              "      <th>Rating</th>\n",
              "      <th>Reviews</th>\n",
              "      <th>Size</th>\n",
              "      <th>Installs</th>\n",
              "      <th>Type</th>\n",
              "      <th>Price</th>\n",
              "      <th>Content Rating</th>\n",
              "      <th>Genres</th>\n",
              "      <th>Last Updated</th>\n",
              "      <th>Current Ver</th>\n",
              "      <th>Android Ver</th>\n",
              "    </tr>\n",
              "  </thead>\n",
              "  <tbody>\n",
              "    <tr>\n",
              "      <th>0</th>\n",
              "      <td>Photo Editor &amp; Candy Camera &amp; Grid &amp; ScrapBook</td>\n",
              "      <td>ART_AND_DESIGN</td>\n",
              "      <td>4.1</td>\n",
              "      <td>159</td>\n",
              "      <td>19M</td>\n",
              "      <td>10,000+</td>\n",
              "      <td>Free</td>\n",
              "      <td>0</td>\n",
              "      <td>Everyone</td>\n",
              "      <td>Art &amp; Design</td>\n",
              "      <td>January 7, 2018</td>\n",
              "      <td>1.0.0</td>\n",
              "      <td>4.0.3 and up</td>\n",
              "    </tr>\n",
              "    <tr>\n",
              "      <th>1</th>\n",
              "      <td>Coloring book moana</td>\n",
              "      <td>ART_AND_DESIGN</td>\n",
              "      <td>3.9</td>\n",
              "      <td>967</td>\n",
              "      <td>14M</td>\n",
              "      <td>500,000+</td>\n",
              "      <td>Free</td>\n",
              "      <td>0</td>\n",
              "      <td>Everyone</td>\n",
              "      <td>Art &amp; Design;Pretend Play</td>\n",
              "      <td>January 15, 2018</td>\n",
              "      <td>2.0.0</td>\n",
              "      <td>4.0.3 and up</td>\n",
              "    </tr>\n",
              "    <tr>\n",
              "      <th>2</th>\n",
              "      <td>U Launcher Lite – FREE Live Cool Themes, Hide ...</td>\n",
              "      <td>ART_AND_DESIGN</td>\n",
              "      <td>4.7</td>\n",
              "      <td>87510</td>\n",
              "      <td>8.7M</td>\n",
              "      <td>5,000,000+</td>\n",
              "      <td>Free</td>\n",
              "      <td>0</td>\n",
              "      <td>Everyone</td>\n",
              "      <td>Art &amp; Design</td>\n",
              "      <td>August 1, 2018</td>\n",
              "      <td>1.2.4</td>\n",
              "      <td>4.0.3 and up</td>\n",
              "    </tr>\n",
              "    <tr>\n",
              "      <th>3</th>\n",
              "      <td>Sketch - Draw &amp; Paint</td>\n",
              "      <td>ART_AND_DESIGN</td>\n",
              "      <td>4.5</td>\n",
              "      <td>215644</td>\n",
              "      <td>25M</td>\n",
              "      <td>50,000,000+</td>\n",
              "      <td>Free</td>\n",
              "      <td>0</td>\n",
              "      <td>Teen</td>\n",
              "      <td>Art &amp; Design</td>\n",
              "      <td>June 8, 2018</td>\n",
              "      <td>Varies with device</td>\n",
              "      <td>4.2 and up</td>\n",
              "    </tr>\n",
              "    <tr>\n",
              "      <th>4</th>\n",
              "      <td>Pixel Draw - Number Art Coloring Book</td>\n",
              "      <td>ART_AND_DESIGN</td>\n",
              "      <td>4.3</td>\n",
              "      <td>967</td>\n",
              "      <td>2.8M</td>\n",
              "      <td>100,000+</td>\n",
              "      <td>Free</td>\n",
              "      <td>0</td>\n",
              "      <td>Everyone</td>\n",
              "      <td>Art &amp; Design;Creativity</td>\n",
              "      <td>June 20, 2018</td>\n",
              "      <td>1.1</td>\n",
              "      <td>4.4 and up</td>\n",
              "    </tr>\n",
              "    <tr>\n",
              "      <th>...</th>\n",
              "      <td>...</td>\n",
              "      <td>...</td>\n",
              "      <td>...</td>\n",
              "      <td>...</td>\n",
              "      <td>...</td>\n",
              "      <td>...</td>\n",
              "      <td>...</td>\n",
              "      <td>...</td>\n",
              "      <td>...</td>\n",
              "      <td>...</td>\n",
              "      <td>...</td>\n",
              "      <td>...</td>\n",
              "      <td>...</td>\n",
              "    </tr>\n",
              "    <tr>\n",
              "      <th>3821</th>\n",
              "      <td>T map (te map, T map, navigation)</td>\n",
              "      <td>MAPS_AND_NAVIGATION</td>\n",
              "      <td>4.2</td>\n",
              "      <td>15681</td>\n",
              "      <td>Varies with device</td>\n",
              "      <td>5,000,000+</td>\n",
              "      <td>Free</td>\n",
              "      <td>0</td>\n",
              "      <td>Everyone</td>\n",
              "      <td>Maps &amp; Navigation</td>\n",
              "      <td>August 2, 2018</td>\n",
              "      <td>Varies with device</td>\n",
              "      <td>Varies with device</td>\n",
              "    </tr>\n",
              "    <tr>\n",
              "      <th>3822</th>\n",
              "      <td>MapQuest: Directions, Maps, GPS &amp; Navigation</td>\n",
              "      <td>MAPS_AND_NAVIGATION</td>\n",
              "      <td>4.1</td>\n",
              "      <td>53481</td>\n",
              "      <td>Varies with device</td>\n",
              "      <td>10,000,000+</td>\n",
              "      <td>Free</td>\n",
              "      <td>0</td>\n",
              "      <td>Everyone</td>\n",
              "      <td>Maps &amp; Navigation</td>\n",
              "      <td>May 22, 2018</td>\n",
              "      <td>Varies with device</td>\n",
              "      <td>Varies with device</td>\n",
              "    </tr>\n",
              "    <tr>\n",
              "      <th>3823</th>\n",
              "      <td>Yahoo! transit guide free timetable, operation...</td>\n",
              "      <td>MAPS_AND_NAVIGATION</td>\n",
              "      <td>4.4</td>\n",
              "      <td>104800</td>\n",
              "      <td>22M</td>\n",
              "      <td>10,000,000+</td>\n",
              "      <td>Free</td>\n",
              "      <td>0</td>\n",
              "      <td>Everyone</td>\n",
              "      <td>Maps &amp; Navigation</td>\n",
              "      <td>July 26, 2018</td>\n",
              "      <td>7.0.1</td>\n",
              "      <td>4.0 and up</td>\n",
              "    </tr>\n",
              "    <tr>\n",
              "      <th>3824</th>\n",
              "      <td>乗換NAVITIME　Timetable &amp; Route Search in Japan T...</td>\n",
              "      <td>MAPS_AND_NAVIGATION</td>\n",
              "      <td>4.4</td>\n",
              "      <td>50459</td>\n",
              "      <td>Varies with device</td>\n",
              "      <td>5,000,000+</td>\n",
              "      <td>Free</td>\n",
              "      <td>0</td>\n",
              "      <td>Everyone</td>\n",
              "      <td>Maps &amp; Navigation</td>\n",
              "      <td>July 26, 2018</td>\n",
              "      <td>Varies with device</td>\n",
              "      <td>Varies with device</td>\n",
              "    </tr>\n",
              "    <tr>\n",
              "      <th>10472</th>\n",
              "      <td>Life Made WI-Fi Touchscreen Photo Frame</td>\n",
              "      <td>1.9</td>\n",
              "      <td>19.0</td>\n",
              "      <td>3.0M</td>\n",
              "      <td>1,000+</td>\n",
              "      <td>Free</td>\n",
              "      <td>0</td>\n",
              "      <td>0</td>\n",
              "      <td>NaN</td>\n",
              "      <td>February 11, 2018</td>\n",
              "      <td>1.0.19</td>\n",
              "      <td>4.0 and up</td>\n",
              "      <td>NaN</td>\n",
              "    </tr>\n",
              "  </tbody>\n",
              "</table>\n",
              "<p>166 rows × 13 columns</p>\n",
              "</div>"
            ],
            "text/plain": [
              "                                                     App  ...         Android Ver\n",
              "0         Photo Editor & Candy Camera & Grid & ScrapBook  ...        4.0.3 and up\n",
              "1                                    Coloring book moana  ...        4.0.3 and up\n",
              "2      U Launcher Lite – FREE Live Cool Themes, Hide ...  ...        4.0.3 and up\n",
              "3                                  Sketch - Draw & Paint  ...          4.2 and up\n",
              "4                  Pixel Draw - Number Art Coloring Book  ...          4.4 and up\n",
              "...                                                  ...  ...                 ...\n",
              "3821                   T map (te map, T map, navigation)  ...  Varies with device\n",
              "3822        MapQuest: Directions, Maps, GPS & Navigation  ...  Varies with device\n",
              "3823   Yahoo! transit guide free timetable, operation...  ...          4.0 and up\n",
              "3824   乗換NAVITIME　Timetable & Route Search in Japan T...  ...  Varies with device\n",
              "10472            Life Made WI-Fi Touchscreen Photo Frame  ...                 NaN\n",
              "\n",
              "[166 rows x 13 columns]"
            ]
          },
          "metadata": {
            "tags": []
          },
          "execution_count": 206
        }
      ]
    }
  ]
}