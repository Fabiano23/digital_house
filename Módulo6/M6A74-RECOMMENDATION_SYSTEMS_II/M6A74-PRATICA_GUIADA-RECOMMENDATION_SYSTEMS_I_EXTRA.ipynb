{
 "cells": [
  {
   "cell_type": "markdown",
   "metadata": {},
   "source": [
    "<img src=\"dh_logo.png\" align=\"right\" width=\"50%\">"
   ]
  },
  {
   "cell_type": "markdown",
   "metadata": {},
   "source": [
    "## PCA"
   ]
  },
  {
   "cell_type": "markdown",
   "metadata": {},
   "source": [
    "#### Caso tivessemos $5$ dimensões, cinco filmes nesse caso, para plotar, sería necessário fazer a redução de dimensões para $3$ ou para $2$. Calculando as [componentes principais](https://towardsdatascience.com/the-best-tool-for-better-recommendations-systems-e57142b45f11) para o caso de $5$ filmes, faríamos da seguinte maneira:"
   ]
  },
  {
   "cell_type": "code",
   "execution_count": 238,
   "metadata": {
    "ExecuteTime": {
     "end_time": "2019-06-17T01:42:47.943308Z",
     "start_time": "2019-06-17T01:42:47.935328Z"
    }
   },
   "outputs": [],
   "source": [
    "movie_rating_dropna = movie_rating.dropna()\n",
    "data_pca = movie_rating_dropna.drop(['Usuario'], \n",
    "                                    axis = 1\n",
    "                                   ).values"
   ]
  },
  {
   "cell_type": "code",
   "execution_count": 239,
   "metadata": {
    "ExecuteTime": {
     "end_time": "2019-06-17T01:43:10.031162Z",
     "start_time": "2019-06-17T01:43:10.026176Z"
    }
   },
   "outputs": [
    {
     "data": {
      "text/plain": [
       "array([[0., 5., 1., 5., 3., 5.],\n",
       "       [1., 5., 1., 5., 5., 5.],\n",
       "       [2., 4., 3., 2., 1., 2.],\n",
       "       [5., 5., 1., 5., 5., 5.],\n",
       "       [6., 1., 3., 2., 5., 4.]])"
      ]
     },
     "execution_count": 239,
     "metadata": {},
     "output_type": "execute_result"
    }
   ],
   "source": [
    "data_pca"
   ]
  },
  {
   "cell_type": "code",
   "execution_count": 240,
   "metadata": {
    "ExecuteTime": {
     "end_time": "2019-06-17T01:43:02.725709Z",
     "start_time": "2019-06-17T01:43:02.720722Z"
    }
   },
   "outputs": [],
   "source": [
    "pca = PCA(n_components = 3)\n",
    "principalComponents  = pca.fit_transform(data_pca)"
   ]
  },
  {
   "cell_type": "code",
   "execution_count": 241,
   "metadata": {
    "ExecuteTime": {
     "end_time": "2019-06-17T01:43:35.549883Z",
     "start_time": "2019-06-17T01:43:35.543901Z"
    }
   },
   "outputs": [
    {
     "data": {
      "text/plain": [
       "array([[-3.38323955,  0.32584291, -0.57286375],\n",
       "       [-2.405704  , -1.31725096, -0.73285748],\n",
       "       [ 0.36993687,  4.16200378,  0.7162813 ],\n",
       "       [ 0.49426563, -2.71035765,  1.550396  ],\n",
       "       [ 4.92474104, -0.46023807, -0.96095607]])"
      ]
     },
     "execution_count": 241,
     "metadata": {},
     "output_type": "execute_result"
    }
   ],
   "source": [
    "principalComponents"
   ]
  },
  {
   "cell_type": "markdown",
   "metadata": {},
   "source": [
    "## Escalonamento dos dados"
   ]
  },
  {
   "cell_type": "markdown",
   "metadata": {
    "ExecuteTime": {
     "end_time": "2019-06-19T01:45:19.152003Z",
     "start_time": "2019-06-19T01:45:19.142010Z"
    }
   },
   "source": [
    "#### Ao utilizar a **Distância Euclidiana**, é preciso tomar cuidado com a escala das variáveis. \n",
    "\n",
    "#### Quando vamos mensurar a distância temos que ter cuidado ao comparar medidas de similaridade, como por exemplo Metros versus Idade, ou Metros versus Centímetros, ou Dias versus Anos.\n",
    "\n",
    "Exemplo: Uma criança de $2$ a $4$ anos tem em geral $74$ centímetros de altura, porém, a comparativamente entre $2$ e $74$ há uma ordem de grandeza de diferença de escala, pois $74$ é um número muito maior do que $2$, isso poderia enviesar o nosso modelo fazendo-o interpretar erroneamente a distância entre essas duas medidas. Porém, já que uma criança de $2$ a $4$ anos pode ter $74$ centímetros de altura, precisamos fazer com que essas medidas sejam interpretadas pelo modelo como estando na mesma escala, assim não estariamos enviesando o modelo. Uma forma muito utilizada de fazer isso é como a seguir:\n",
    "\n",
    "<img src=\"min-max-normalisation.jpeg\" align=\"center\" width=\"40%\">  "
   ]
  },
  {
   "cell_type": "markdown",
   "metadata": {},
   "source": [
    "#### Entendendo a escala acima:"
   ]
  },
  {
   "cell_type": "code",
   "execution_count": 242,
   "metadata": {
    "ExecuteTime": {
     "end_time": "2019-06-19T19:12:49.026259Z",
     "start_time": "2019-06-19T19:12:49.004304Z"
    }
   },
   "outputs": [
    {
     "data": {
      "text/html": [
       "<div>\n",
       "<style scoped>\n",
       "    .dataframe tbody tr th:only-of-type {\n",
       "        vertical-align: middle;\n",
       "    }\n",
       "\n",
       "    .dataframe tbody tr th {\n",
       "        vertical-align: top;\n",
       "    }\n",
       "\n",
       "    .dataframe thead th {\n",
       "        text-align: right;\n",
       "    }\n",
       "</style>\n",
       "<table border=\"1\" class=\"dataframe\">\n",
       "  <thead>\n",
       "    <tr style=\"text-align: right;\">\n",
       "      <th></th>\n",
       "      <th>idade</th>\n",
       "      <th>centimetros</th>\n",
       "    </tr>\n",
       "  </thead>\n",
       "  <tbody>\n",
       "    <tr>\n",
       "      <th>0</th>\n",
       "      <td>1</td>\n",
       "      <td>54</td>\n",
       "    </tr>\n",
       "    <tr>\n",
       "      <th>1</th>\n",
       "      <td>3</td>\n",
       "      <td>88</td>\n",
       "    </tr>\n",
       "    <tr>\n",
       "      <th>2</th>\n",
       "      <td>5</td>\n",
       "      <td>110</td>\n",
       "    </tr>\n",
       "    <tr>\n",
       "      <th>3</th>\n",
       "      <td>7</td>\n",
       "      <td>150</td>\n",
       "    </tr>\n",
       "  </tbody>\n",
       "</table>\n",
       "</div>"
      ],
      "text/plain": [
       "   idade  centimetros\n",
       "0      1           54\n",
       "1      3           88\n",
       "2      5          110\n",
       "3      7          150"
      ]
     },
     "execution_count": 242,
     "metadata": {},
     "output_type": "execute_result"
    }
   ],
   "source": [
    "df = pd.DataFrame([[1, 54], \n",
    "                   [3, 88], \n",
    "                   [5, 110], \n",
    "                   [7, 150]\n",
    "                  ], \n",
    "                  columns = [\"idade\", \"centimetros\"]\n",
    "                 )\n",
    "df"
   ]
  },
  {
   "cell_type": "markdown",
   "metadata": {},
   "source": [
    "#### Nossa fórmula ficaria como visto a seguir:\n",
    "\n",
    "```python\n",
    "nova_idade = (idade(indice) - min(idade)) / (max(idade) - min(idade))\n",
    "```\n",
    "\n",
    "#### Vamos adotar biblioteca de `scaling` do `Sklearn`:"
   ]
  },
  {
   "cell_type": "code",
   "execution_count": 243,
   "metadata": {
    "ExecuteTime": {
     "end_time": "2019-06-19T19:13:01.290995Z",
     "start_time": "2019-06-19T19:12:54.069580Z"
    }
   },
   "outputs": [
    {
     "data": {
      "text/plain": [
       "array([[0.        , 0.        ],\n",
       "       [0.33333333, 0.35416667],\n",
       "       [0.66666667, 0.58333333],\n",
       "       [1.        , 1.        ]])"
      ]
     },
     "execution_count": 243,
     "metadata": {},
     "output_type": "execute_result"
    }
   ],
   "source": [
    "from sklearn.preprocessing import MinMaxScaler\n",
    "\n",
    "df = MinMaxScaler().fit_transform(df)\n",
    "df"
   ]
  },
  {
   "cell_type": "markdown",
   "metadata": {},
   "source": [
    "## Medidas de dissimilaridade"
   ]
  },
  {
   "cell_type": "markdown",
   "metadata": {
    "ExecuteTime": {
     "end_time": "2019-06-19T01:46:40.719686Z",
     "start_time": "2019-06-19T01:46:40.710710Z"
    },
    "run_control": {
     "marked": true
    }
   },
   "source": [
    "#### Nem sempre utilizaremos o critério de distância para mensurar a dissimilaridade entre uma observação e outra. Em alguns momentos a distância eucliciana pode não ser a melhor escolha. Por exemplo, se você gostaria de fazer recomendações de itens comprados em uma loja `online`, pode-se dizer que seria melhor indicar os produtos que as pessoas compram em comum."
   ]
  },
  {
   "cell_type": "markdown",
   "metadata": {},
   "source": [
    "#### Observe a matriz a seguir:"
   ]
  },
  {
   "cell_type": "code",
   "execution_count": 249,
   "metadata": {
    "ExecuteTime": {
     "end_time": "2019-06-19T21:20:00.569922Z",
     "start_time": "2019-06-19T21:20:00.550074Z"
    }
   },
   "outputs": [
    {
     "name": "stdout",
     "output_type": "stream",
     "text": [
      "         Meia  Sapatos  Sandalias\n",
      "Maria       1        1          2\n",
      "Joana       4        1          5\n",
      "Roberto    15        0          2\n",
      "Joao        8        0          8\n",
      "Manuel      1        0          0\n",
      "\n",
      "[[ 1  1  2]\n",
      " [ 4  1  5]\n",
      " [15  0  2]\n",
      " [ 8  0  8]\n",
      " [ 1  0  0]]\n"
     ]
    },
    {
     "data": {
      "text/html": [
       "<div>\n",
       "<style scoped>\n",
       "    .dataframe tbody tr th:only-of-type {\n",
       "        vertical-align: middle;\n",
       "    }\n",
       "\n",
       "    .dataframe tbody tr th {\n",
       "        vertical-align: top;\n",
       "    }\n",
       "\n",
       "    .dataframe thead th {\n",
       "        text-align: right;\n",
       "    }\n",
       "</style>\n",
       "<table border=\"1\" class=\"dataframe\">\n",
       "  <thead>\n",
       "    <tr style=\"text-align: right;\">\n",
       "      <th></th>\n",
       "      <th>0</th>\n",
       "      <th>1</th>\n",
       "      <th>2</th>\n",
       "      <th>3</th>\n",
       "      <th>4</th>\n",
       "    </tr>\n",
       "  </thead>\n",
       "  <tbody>\n",
       "    <tr>\n",
       "      <th>0</th>\n",
       "      <td>0.000000</td>\n",
       "      <td>4.242641</td>\n",
       "      <td>14.035669</td>\n",
       "      <td>9.273618</td>\n",
       "      <td>2.236068</td>\n",
       "    </tr>\n",
       "    <tr>\n",
       "      <th>1</th>\n",
       "      <td>4.242641</td>\n",
       "      <td>0.000000</td>\n",
       "      <td>11.445523</td>\n",
       "      <td>5.099020</td>\n",
       "      <td>5.916080</td>\n",
       "    </tr>\n",
       "    <tr>\n",
       "      <th>2</th>\n",
       "      <td>14.035669</td>\n",
       "      <td>11.445523</td>\n",
       "      <td>0.000000</td>\n",
       "      <td>9.219544</td>\n",
       "      <td>14.142136</td>\n",
       "    </tr>\n",
       "    <tr>\n",
       "      <th>3</th>\n",
       "      <td>9.273618</td>\n",
       "      <td>5.099020</td>\n",
       "      <td>9.219544</td>\n",
       "      <td>0.000000</td>\n",
       "      <td>10.630146</td>\n",
       "    </tr>\n",
       "    <tr>\n",
       "      <th>4</th>\n",
       "      <td>2.236068</td>\n",
       "      <td>5.916080</td>\n",
       "      <td>14.142136</td>\n",
       "      <td>10.630146</td>\n",
       "      <td>0.000000</td>\n",
       "    </tr>\n",
       "  </tbody>\n",
       "</table>\n",
       "</div>"
      ],
      "text/plain": [
       "           0          1          2          3          4\n",
       "0   0.000000   4.242641  14.035669   9.273618   2.236068\n",
       "1   4.242641   0.000000  11.445523   5.099020   5.916080\n",
       "2  14.035669  11.445523   0.000000   9.219544  14.142136\n",
       "3   9.273618   5.099020   9.219544   0.000000  10.630146\n",
       "4   2.236068   5.916080  14.142136  10.630146   0.000000"
      ]
     },
     "execution_count": 249,
     "metadata": {},
     "output_type": "execute_result"
    }
   ],
   "source": [
    "compras = pd.DataFrame([[1, 1, 2], \n",
    "                        [4, 1, 5], \n",
    "                        [15, 0, 2], \n",
    "                        [8, 0, 8], \n",
    "                        [1, 0, 0]\n",
    "                       ], \n",
    "                       columns = ['Meia', 'Sapatos', 'Sandalias'], \n",
    "                       index = ['Maria', 'Joana', 'Roberto', 'Joao', 'Manuel']\n",
    "                      )\n",
    "print(compras)\n",
    "print('')\n",
    "compras = compras.values\n",
    "\n",
    "print(compras)\n",
    "\n",
    "pd.DataFrame(np.linalg.norm(compras - compras[ : , None], \n",
    "                            axis = -1\n",
    "                           )\n",
    "            )"
   ]
  },
  {
   "cell_type": "markdown",
   "metadata": {
    "ExecuteTime": {
     "end_time": "2019-06-19T01:47:13.921115Z",
     "start_time": "2019-06-19T01:47:13.907124Z"
    },
    "run_control": {
     "marked": true
    }
   },
   "source": [
    "#### Podemos notar na matriz de distância acima que `Maria` $(0)$ está mais próxima a `Manuel` $(4)$, porém, os mesmos não compraram os mesmos itens, e pior, o `Manuel` não é um comprador nem de sapatos e nem de sandálias. Podemos considerar que se fossemos trabalhar com distância euclidiana nesse caso, estaríamos assumindo que procuramos pessoas que não são compradoras `online` do `site`, ou seja, não são clientes ativos. \n",
    "\n",
    "#### A cliente `Joana` $(1)$ está longe da `Maria` $(0)$, mas as mesmas compraram os mesmos itens na loja, isso não parece muito sensato dado que queremos recomendar produtos que uma compra para a outra.\n",
    "\n",
    "#### Porém, gostaríamos de validar pessoas que compraram produtos similares e assim identificar gostos em comum dessas pessoas. Sendo assim poderíamos trabalhar com a [medida da Correlação](https://towardsdatascience.com/collaborative-filtering-based-recommendation-systems-exemplified-ecbffe1c20b1), que idenfica o quanto os itens que as pessoas compraram andam juntos, na mesma direção até $+ 1$, ou opostas umas as outras até $-1$.\n",
    "\n",
    "#### Por mais que a nossa correlação seja $+$ ou $-$, as compras do usuária `Maria` $(0)$ andam com as compras da usuária `Joana` $(1)$, então as mesmas andam comprando o mesmo item mesmo que em quantidades diferentes. Sendo assim podemos acreditar que quando indicarmos um produto que a `Maria` comprou para a `Joana`, há uma grande possibilidade da mesma se interessar pelo item, maximizando nossas vendas no `site`."
   ]
  },
  {
   "cell_type": "markdown",
   "metadata": {},
   "source": [
    "#### Transformamos as compras de novo em um `Dataframe`."
   ]
  },
  {
   "cell_type": "code",
   "execution_count": 250,
   "metadata": {
    "ExecuteTime": {
     "end_time": "2019-06-19T21:20:01.228342Z",
     "start_time": "2019-06-19T21:20:01.221809Z"
    }
   },
   "outputs": [
    {
     "name": "stdout",
     "output_type": "stream",
     "text": [
      "    0  1  2\n",
      "0   1  1  2\n",
      "1   4  1  5\n",
      "2  15  0  2\n",
      "3   8  0  8\n",
      "4   1  0  0\n"
     ]
    }
   ],
   "source": [
    "compras = pd.DataFrame(compras)\n",
    "print(compras)"
   ]
  },
  {
   "cell_type": "markdown",
   "metadata": {},
   "source": [
    "#### A medida de correlação pede que os compradores sejam colunas ao invés de linhas, é a forma como o pandas funciona para correlacionar os compradores."
   ]
  },
  {
   "cell_type": "code",
   "execution_count": 251,
   "metadata": {
    "ExecuteTime": {
     "end_time": "2019-06-19T21:20:01.520861Z",
     "start_time": "2019-06-19T21:20:01.513914Z"
    }
   },
   "outputs": [
    {
     "name": "stdout",
     "output_type": "stream",
     "text": [
      "   0  1   2  3  4\n",
      "0  1  4  15  8  1\n",
      "1  1  1   0  0  0\n",
      "2  2  5   2  8  0\n"
     ]
    }
   ],
   "source": [
    "compras = compras.T\n",
    "print(compras)"
   ]
  },
  {
   "cell_type": "code",
   "execution_count": 248,
   "metadata": {
    "ExecuteTime": {
     "end_time": "2019-06-19T21:20:01.832755Z",
     "start_time": "2019-06-19T21:20:01.814803Z"
    }
   },
   "outputs": [
    {
     "data": {
      "text/html": [
       "<div>\n",
       "<style scoped>\n",
       "    .dataframe tbody tr th:only-of-type {\n",
       "        vertical-align: middle;\n",
       "    }\n",
       "\n",
       "    .dataframe tbody tr th {\n",
       "        vertical-align: top;\n",
       "    }\n",
       "\n",
       "    .dataframe thead th {\n",
       "        text-align: right;\n",
       "    }\n",
       "</style>\n",
       "<table border=\"1\" class=\"dataframe\">\n",
       "  <thead>\n",
       "    <tr style=\"text-align: right;\">\n",
       "      <th></th>\n",
       "      <th>0</th>\n",
       "      <th>1</th>\n",
       "      <th>2</th>\n",
       "      <th>3</th>\n",
       "      <th>4</th>\n",
       "    </tr>\n",
       "  </thead>\n",
       "  <tbody>\n",
       "    <tr>\n",
       "      <th>0</th>\n",
       "      <td>1.000000</td>\n",
       "      <td>0.693375</td>\n",
       "      <td>-0.389885</td>\n",
       "      <td>0.500000</td>\n",
       "      <td>-0.500000</td>\n",
       "    </tr>\n",
       "    <tr>\n",
       "      <th>1</th>\n",
       "      <td>0.693375</td>\n",
       "      <td>1.000000</td>\n",
       "      <td>0.393217</td>\n",
       "      <td>0.970725</td>\n",
       "      <td>0.277350</td>\n",
       "    </tr>\n",
       "    <tr>\n",
       "      <th>2</th>\n",
       "      <td>-0.389885</td>\n",
       "      <td>0.393217</td>\n",
       "      <td>1.000000</td>\n",
       "      <td>0.602549</td>\n",
       "      <td>0.992434</td>\n",
       "    </tr>\n",
       "    <tr>\n",
       "      <th>3</th>\n",
       "      <td>0.500000</td>\n",
       "      <td>0.970725</td>\n",
       "      <td>0.602549</td>\n",
       "      <td>1.000000</td>\n",
       "      <td>0.500000</td>\n",
       "    </tr>\n",
       "    <tr>\n",
       "      <th>4</th>\n",
       "      <td>-0.500000</td>\n",
       "      <td>0.277350</td>\n",
       "      <td>0.992434</td>\n",
       "      <td>0.500000</td>\n",
       "      <td>1.000000</td>\n",
       "    </tr>\n",
       "  </tbody>\n",
       "</table>\n",
       "</div>"
      ],
      "text/plain": [
       "          0         1         2         3         4\n",
       "0  1.000000  0.693375 -0.389885  0.500000 -0.500000\n",
       "1  0.693375  1.000000  0.393217  0.970725  0.277350\n",
       "2 -0.389885  0.393217  1.000000  0.602549  0.992434\n",
       "3  0.500000  0.970725  0.602549  1.000000  0.500000\n",
       "4 -0.500000  0.277350  0.992434  0.500000  1.000000"
      ]
     },
     "execution_count": 248,
     "metadata": {},
     "output_type": "execute_result"
    }
   ],
   "source": [
    "compras.corr()"
   ]
  },
  {
   "cell_type": "markdown",
   "metadata": {
    "ExecuteTime": {
     "end_time": "2019-06-19T01:48:00.993167Z",
     "start_time": "2019-06-19T01:48:00.984171Z"
    },
    "run_control": {
     "marked": false
    }
   },
   "source": [
    "#### Acima podemos identificar uma relação entre a `Joana` $(1)$ e a `Maria` $(0)$ que compram produtos parecidos mesmo que de forma correlacionada negativamente. O interessante é que a `Maria` $(0)$ e `Joana` $(1)$ estão mais negativamente correlacionadas do que a `Maria` $(0)$ e o `Manuel` $(4)$. Isso significa que a importância da `Maria` $(0)$ com `Joana` $(1)$ é alta, e isso nos diz que podemos recomendar itens que uma compra para a outra."
   ]
  },
  {
   "cell_type": "markdown",
   "metadata": {
    "ExecuteTime": {
     "end_time": "2019-06-19T01:48:54.168127Z",
     "start_time": "2019-06-19T01:48:54.164130Z"
    }
   },
   "source": [
    "## Filtragem Baseada em Itens"
   ]
  },
  {
   "cell_type": "markdown",
   "metadata": {
    "ExecuteTime": {
     "end_time": "2019-06-19T01:49:34.212031Z",
     "start_time": "2019-06-19T01:49:34.205037Z"
    },
    "run_control": {
     "marked": true
    }
   },
   "source": [
    "#### Nós podemos também trabalhar com [Filtragem baseada em Itens](https://www.analyticsvidhya.com/blog/2015/08/beginners-guide-learn-content-based-recommender-systems/). Esse tipo de recomendação é utilizada com bases grandes. Imagine uma base muito grande, ela pode trazer um pouco de dificuldade ao fazer recomendações para usuários, uma vez que os mesmos podem variar demais em relação aos produtos comprados, uma vez que os itens podem não ter mudado com tanta freqüência assim. \n",
    "\n",
    "#### Nesses casos, para bases muito grandes, a filtragem de itens é recomendada. Alguns pontos que valem a pena comentarmos em relação à construção de sistemas de Filtragem:"
   ]
  },
  {
   "cell_type": "markdown",
   "metadata": {
    "ExecuteTime": {
     "end_time": "2019-06-19T02:03:03.937908Z",
     "start_time": "2019-06-19T02:03:03.929913Z"
    }
   },
   "source": [
    "- Cálculos antecipados\n",
    "\n",
    "<img src=\"Download-Time.jpeg\" align=\"center\" width=\"10%\">  \n",
    "\n",
    "- Pré-computar itens\n",
    "\n",
    "<img src=\"3-2-database-free-download-png.png\" align=\"center\" width=\"10%\">  \n",
    "\n",
    "- Média ponderada com itens similares\n",
    "\n",
    "<img src=\"media_ponderada.png\" align=\"center\" width=\"10%\">  \n",
    "\n",
    "- As comparações não mudarão com frequencia\n",
    "\n",
    "<img src=\"comparacoes_frequencia.jpeg\" align=\"center\" width=\"10%\">  \n",
    "\n",
    "- O algoritmo roda de tempos em tempos (menor custo computacional)\n",
    "\n",
    "<img src=\"batch-logo.png\" align=\"center\" width=\"10%\">  "
   ]
  },
  {
   "cell_type": "markdown",
   "metadata": {
    "run_control": {
     "marked": true
    }
   },
   "source": [
    "#### A implementação desse metodo vai além do escopo desse material, porém, vamos comentar algumas propriedades desse algoritmo."
   ]
  },
  {
   "cell_type": "markdown",
   "metadata": {
    "ExecuteTime": {
     "end_time": "2019-06-19T03:56:12.950207Z",
     "start_time": "2019-06-19T03:56:12.928220Z"
    }
   },
   "source": [
    "#### Como o nome diz, iremos fazer uma recomendação baseada em similaridade de itens e por esse motivo devemos ter em mente que como os itens mudam com pouca freqüência esse algoritmo não precisa rodar sempre.\n",
    "\n",
    "#### O que é muito diferente do caso de recomendação por usuários, pois, o tempo todo novos usuários estão assistindo a novos filmes, mas, nem sempre temos filmes novos no catálogo para os usuários assistirem. Por esse motivo não precisamos fazer rodar nosso algoritmo com a base toda o tempo todo.\n",
    "\n",
    "#### Podemos salvar em uma base de dados as similaridade entre todos os filmes, dadas as notas de usuários, com seus respectivos pesos para encontramos em nosso banco de dados.\n",
    "\n",
    "#### Como nem sempre aparecem filmes novos no catálogo posso rodar esse algoritmo semanalmente para recomendar novos filmes aos meus usuários. "
   ]
  },
  {
   "cell_type": "markdown",
   "metadata": {
    "ExecuteTime": {
     "end_time": "2019-06-19T03:52:46.230213Z",
     "start_time": "2019-06-19T03:52:46.206229Z"
    },
    "run_control": {
     "marked": true
    }
   },
   "source": [
    "#### Algumas diferenças entre Filtragem por Usuários e por Itens. "
   ]
  },
  {
   "cell_type": "markdown",
   "metadata": {
    "ExecuteTime": {
     "end_time": "2019-06-19T03:53:54.970771Z",
     "start_time": "2019-06-19T03:53:54.938807Z"
    }
   },
   "source": [
    "#### Usuários:\n",
    "\n",
    "- **1**: Implementação mais simples;\n",
    "\n",
    "- **2**: É indicada para bancos menores, conjuntos densos;\n",
    "\n",
    "- **3**: Por vezes, apenas o cálculo de dissimiladidade já faz um bom trabalho."
   ]
  },
  {
   "cell_type": "markdown",
   "metadata": {},
   "source": [
    "#### Itens:\n",
    "\n",
    "- **1**: Mais rápido, pois os dados já estão em memória; \n",
    "\n",
    "- **2**: Recomendado para bases maiores, com conjuntos esparsos, porém aplicável a conjuntos densos."
   ]
  },
  {
   "cell_type": "markdown",
   "metadata": {},
   "source": [
    "#### Falando sobre o conjunto de dados:\n",
    "    \n",
    "- Conjuntos densos são conjuntos em que muitos usuários deram nota para os filmes;\n",
    "\n",
    "- Conjuntos esparsos são conjuntos em que os usuários deram nota para itens diferentes."
   ]
  },
  {
   "cell_type": "code",
   "execution_count": 252,
   "metadata": {
    "ExecuteTime": {
     "end_time": "2019-06-19T21:25:57.777031Z",
     "start_time": "2019-06-19T21:25:57.612444Z"
    }
   },
   "outputs": [],
   "source": [
    "movie_rating_item = movie_rating.drop(['Usuario'], \n",
    "                                      axis = 1\n",
    "                                     ).transpose().reset_index()"
   ]
  },
  {
   "cell_type": "code",
   "execution_count": 253,
   "metadata": {
    "ExecuteTime": {
     "end_time": "2019-06-19T21:26:03.513995Z",
     "start_time": "2019-06-19T21:26:03.508148Z"
    }
   },
   "outputs": [],
   "source": [
    "movie_rating_item.columns = ['Filmes'] + movie_rating['Usuario'].tolist()"
   ]
  },
  {
   "cell_type": "code",
   "execution_count": 254,
   "metadata": {
    "ExecuteTime": {
     "end_time": "2019-06-19T21:26:09.740932Z",
     "start_time": "2019-06-19T21:26:09.724850Z"
    }
   },
   "outputs": [
    {
     "data": {
      "text/html": [
       "<div>\n",
       "<style scoped>\n",
       "    .dataframe tbody tr th:only-of-type {\n",
       "        vertical-align: middle;\n",
       "    }\n",
       "\n",
       "    .dataframe tbody tr th {\n",
       "        vertical-align: top;\n",
       "    }\n",
       "\n",
       "    .dataframe thead th {\n",
       "        text-align: right;\n",
       "    }\n",
       "</style>\n",
       "<table border=\"1\" class=\"dataframe\">\n",
       "  <thead>\n",
       "    <tr style=\"text-align: right;\">\n",
       "      <th></th>\n",
       "      <th>Filmes</th>\n",
       "      <th>Izabela</th>\n",
       "      <th>Thais</th>\n",
       "      <th>Lorena</th>\n",
       "      <th>Leandro</th>\n",
       "      <th>Uliane</th>\n",
       "      <th>Isis</th>\n",
       "      <th>Marcos</th>\n",
       "    </tr>\n",
       "  </thead>\n",
       "  <tbody>\n",
       "    <tr>\n",
       "      <th>0</th>\n",
       "      <td>Unnamed: 0</td>\n",
       "      <td>0.0</td>\n",
       "      <td>1.0</td>\n",
       "      <td>2.0</td>\n",
       "      <td>3.0</td>\n",
       "      <td>4.0</td>\n",
       "      <td>5.0</td>\n",
       "      <td>6.0</td>\n",
       "    </tr>\n",
       "    <tr>\n",
       "      <th>1</th>\n",
       "      <td>Orgulho &amp; Preconceito</td>\n",
       "      <td>5.0</td>\n",
       "      <td>5.0</td>\n",
       "      <td>4.0</td>\n",
       "      <td>NaN</td>\n",
       "      <td>2.0</td>\n",
       "      <td>5.0</td>\n",
       "      <td>1.0</td>\n",
       "    </tr>\n",
       "    <tr>\n",
       "      <th>2</th>\n",
       "      <td>Velozes e Furiosos</td>\n",
       "      <td>1.0</td>\n",
       "      <td>1.0</td>\n",
       "      <td>3.0</td>\n",
       "      <td>5.0</td>\n",
       "      <td>NaN</td>\n",
       "      <td>1.0</td>\n",
       "      <td>3.0</td>\n",
       "    </tr>\n",
       "    <tr>\n",
       "      <th>3</th>\n",
       "      <td>O Senhor dos anéis</td>\n",
       "      <td>5.0</td>\n",
       "      <td>5.0</td>\n",
       "      <td>2.0</td>\n",
       "      <td>NaN</td>\n",
       "      <td>3.0</td>\n",
       "      <td>5.0</td>\n",
       "      <td>2.0</td>\n",
       "    </tr>\n",
       "    <tr>\n",
       "      <th>4</th>\n",
       "      <td>Star Wars</td>\n",
       "      <td>3.0</td>\n",
       "      <td>5.0</td>\n",
       "      <td>1.0</td>\n",
       "      <td>2.0</td>\n",
       "      <td>NaN</td>\n",
       "      <td>5.0</td>\n",
       "      <td>5.0</td>\n",
       "    </tr>\n",
       "    <tr>\n",
       "      <th>5</th>\n",
       "      <td>De volta para o futuro</td>\n",
       "      <td>5.0</td>\n",
       "      <td>5.0</td>\n",
       "      <td>2.0</td>\n",
       "      <td>4.0</td>\n",
       "      <td>1.0</td>\n",
       "      <td>5.0</td>\n",
       "      <td>4.0</td>\n",
       "    </tr>\n",
       "  </tbody>\n",
       "</table>\n",
       "</div>"
      ],
      "text/plain": [
       "                   Filmes  Izabela  Thais  Lorena  Leandro  Uliane  Isis  \\\n",
       "0              Unnamed: 0      0.0    1.0     2.0      3.0     4.0   5.0   \n",
       "1   Orgulho & Preconceito      5.0    5.0     4.0      NaN     2.0   5.0   \n",
       "2      Velozes e Furiosos      1.0    1.0     3.0      5.0     NaN   1.0   \n",
       "3      O Senhor dos anéis      5.0    5.0     2.0      NaN     3.0   5.0   \n",
       "4               Star Wars      3.0    5.0     1.0      2.0     NaN   5.0   \n",
       "5  De volta para o futuro      5.0    5.0     2.0      4.0     1.0   5.0   \n",
       "\n",
       "   Marcos  \n",
       "0     6.0  \n",
       "1     1.0  \n",
       "2     3.0  \n",
       "3     2.0  \n",
       "4     5.0  \n",
       "5     4.0  "
      ]
     },
     "execution_count": 254,
     "metadata": {},
     "output_type": "execute_result"
    }
   ],
   "source": [
    "movie_rating_item"
   ]
  },
  {
   "cell_type": "code",
   "execution_count": 255,
   "metadata": {
    "ExecuteTime": {
     "end_time": "2019-06-19T21:33:57.728181Z",
     "start_time": "2019-06-19T21:33:57.719167Z"
    }
   },
   "outputs": [],
   "source": [
    "dataset_filmes = movie_rating_item.drop(['Filmes'], \n",
    "                                        axis = 1\n",
    "                                       ).dropna(axis = 1).values"
   ]
  },
  {
   "cell_type": "code",
   "execution_count": 256,
   "metadata": {
    "ExecuteTime": {
     "end_time": "2019-06-19T21:34:05.789661Z",
     "start_time": "2019-06-19T21:34:05.767274Z"
    }
   },
   "outputs": [
    {
     "data": {
      "text/html": [
       "<div>\n",
       "<style scoped>\n",
       "    .dataframe tbody tr th:only-of-type {\n",
       "        vertical-align: middle;\n",
       "    }\n",
       "\n",
       "    .dataframe tbody tr th {\n",
       "        vertical-align: top;\n",
       "    }\n",
       "\n",
       "    .dataframe thead th {\n",
       "        text-align: right;\n",
       "    }\n",
       "</style>\n",
       "<table border=\"1\" class=\"dataframe\">\n",
       "  <thead>\n",
       "    <tr style=\"text-align: right;\">\n",
       "      <th></th>\n",
       "      <th>0</th>\n",
       "      <th>1</th>\n",
       "      <th>2</th>\n",
       "      <th>3</th>\n",
       "      <th>4</th>\n",
       "      <th>5</th>\n",
       "    </tr>\n",
       "  </thead>\n",
       "  <tbody>\n",
       "    <tr>\n",
       "      <th>0</th>\n",
       "      <td>0.000000</td>\n",
       "      <td>8.366600</td>\n",
       "      <td>5.196152</td>\n",
       "      <td>7.549834</td>\n",
       "      <td>5.196152</td>\n",
       "      <td>6.708204</td>\n",
       "    </tr>\n",
       "    <tr>\n",
       "      <th>1</th>\n",
       "      <td>8.366600</td>\n",
       "      <td>0.000000</td>\n",
       "      <td>7.280110</td>\n",
       "      <td>2.236068</td>\n",
       "      <td>5.385165</td>\n",
       "      <td>3.605551</td>\n",
       "    </tr>\n",
       "    <tr>\n",
       "      <th>2</th>\n",
       "      <td>5.196152</td>\n",
       "      <td>7.280110</td>\n",
       "      <td>0.000000</td>\n",
       "      <td>7.071068</td>\n",
       "      <td>6.633250</td>\n",
       "      <td>7.071068</td>\n",
       "    </tr>\n",
       "    <tr>\n",
       "      <th>3</th>\n",
       "      <td>7.549834</td>\n",
       "      <td>2.236068</td>\n",
       "      <td>7.071068</td>\n",
       "      <td>0.000000</td>\n",
       "      <td>3.741657</td>\n",
       "      <td>2.000000</td>\n",
       "    </tr>\n",
       "    <tr>\n",
       "      <th>4</th>\n",
       "      <td>5.196152</td>\n",
       "      <td>5.385165</td>\n",
       "      <td>6.633250</td>\n",
       "      <td>3.741657</td>\n",
       "      <td>0.000000</td>\n",
       "      <td>2.449490</td>\n",
       "    </tr>\n",
       "    <tr>\n",
       "      <th>5</th>\n",
       "      <td>6.708204</td>\n",
       "      <td>3.605551</td>\n",
       "      <td>7.071068</td>\n",
       "      <td>2.000000</td>\n",
       "      <td>2.449490</td>\n",
       "      <td>0.000000</td>\n",
       "    </tr>\n",
       "  </tbody>\n",
       "</table>\n",
       "</div>"
      ],
      "text/plain": [
       "          0         1         2         3         4         5\n",
       "0  0.000000  8.366600  5.196152  7.549834  5.196152  6.708204\n",
       "1  8.366600  0.000000  7.280110  2.236068  5.385165  3.605551\n",
       "2  5.196152  7.280110  0.000000  7.071068  6.633250  7.071068\n",
       "3  7.549834  2.236068  7.071068  0.000000  3.741657  2.000000\n",
       "4  5.196152  5.385165  6.633250  3.741657  0.000000  2.449490\n",
       "5  6.708204  3.605551  7.071068  2.000000  2.449490  0.000000"
      ]
     },
     "execution_count": 256,
     "metadata": {},
     "output_type": "execute_result"
    }
   ],
   "source": [
    "similaridades_filmes = pd.DataFrame(np.linalg.norm(dataset_filmes - dataset_filmes[ : , None], \n",
    "                                                   axis = -1\n",
    "                                                  )\n",
    "                                   )\n",
    "similaridades_filmes"
   ]
  },
  {
   "cell_type": "code",
   "execution_count": 257,
   "metadata": {
    "ExecuteTime": {
     "end_time": "2019-06-19T21:38:51.282628Z",
     "start_time": "2019-06-19T21:38:51.276477Z"
    }
   },
   "outputs": [
    {
     "data": {
      "text/plain": [
       "0                Unnamed: 0\n",
       "1     Orgulho & Preconceito\n",
       "2        Velozes e Furiosos\n",
       "3        O Senhor dos anéis\n",
       "4                 Star Wars\n",
       "5    De volta para o futuro\n",
       "Name: Filmes, dtype: object"
      ]
     },
     "execution_count": 257,
     "metadata": {},
     "output_type": "execute_result"
    }
   ],
   "source": [
    "movie_rating_item.Filmes"
   ]
  },
  {
   "cell_type": "code",
   "execution_count": 259,
   "metadata": {
    "ExecuteTime": {
     "end_time": "2019-06-19T21:35:35.991591Z",
     "start_time": "2019-06-19T21:35:35.981677Z"
    }
   },
   "outputs": [],
   "source": [
    "filmes_vistos = movie_rating.loc[movie_rating['Usuario'] == user\n",
    "                                ].dropna(axis = 1).drop(['Usuario'],\n",
    "                                                        axis = 1\n",
    "                                                       ).keys().tolist()"
   ]
  },
  {
   "cell_type": "code",
   "execution_count": 260,
   "metadata": {
    "ExecuteTime": {
     "end_time": "2019-06-19T21:36:00.798747Z",
     "start_time": "2019-06-19T21:36:00.792867Z"
    }
   },
   "outputs": [
    {
     "data": {
      "text/plain": [
       "['Unnamed: 0', 'Velozes e Furiosos', 'Star Wars', 'De volta para o futuro']"
      ]
     },
     "execution_count": 260,
     "metadata": {},
     "output_type": "execute_result"
    }
   ],
   "source": [
    "filmes_vistos"
   ]
  },
  {
   "cell_type": "code",
   "execution_count": 261,
   "metadata": {
    "ExecuteTime": {
     "end_time": "2019-06-19T21:35:56.422659Z",
     "start_time": "2019-06-19T21:35:56.418755Z"
    }
   },
   "outputs": [],
   "source": [
    "filmes_nao_vistos = list(set(movie_rating) - set(filmes_vistos))"
   ]
  },
  {
   "cell_type": "code",
   "execution_count": 262,
   "metadata": {
    "ExecuteTime": {
     "end_time": "2019-06-19T21:36:05.783689Z",
     "start_time": "2019-06-19T21:36:05.778565Z"
    }
   },
   "outputs": [
    {
     "data": {
      "text/plain": [
       "['Orgulho & Preconceito', 'Usuario', 'O Senhor dos anéis']"
      ]
     },
     "execution_count": 262,
     "metadata": {},
     "output_type": "execute_result"
    }
   ],
   "source": [
    "filmes_nao_vistos"
   ]
  },
  {
   "cell_type": "code",
   "execution_count": 263,
   "metadata": {
    "ExecuteTime": {
     "end_time": "2019-06-19T21:38:13.725027Z",
     "start_time": "2019-06-19T21:38:13.712048Z"
    }
   },
   "outputs": [
    {
     "data": {
      "text/html": [
       "<div>\n",
       "<style scoped>\n",
       "    .dataframe tbody tr th:only-of-type {\n",
       "        vertical-align: middle;\n",
       "    }\n",
       "\n",
       "    .dataframe tbody tr th {\n",
       "        vertical-align: top;\n",
       "    }\n",
       "\n",
       "    .dataframe thead th {\n",
       "        text-align: right;\n",
       "    }\n",
       "</style>\n",
       "<table border=\"1\" class=\"dataframe\">\n",
       "  <thead>\n",
       "    <tr style=\"text-align: right;\">\n",
       "      <th></th>\n",
       "      <th>Filmes</th>\n",
       "      <th>Leandro</th>\n",
       "    </tr>\n",
       "  </thead>\n",
       "  <tbody>\n",
       "    <tr>\n",
       "      <th>0</th>\n",
       "      <td>Unnamed: 0</td>\n",
       "      <td>3.0</td>\n",
       "    </tr>\n",
       "    <tr>\n",
       "      <th>2</th>\n",
       "      <td>Velozes e Furiosos</td>\n",
       "      <td>5.0</td>\n",
       "    </tr>\n",
       "    <tr>\n",
       "      <th>4</th>\n",
       "      <td>Star Wars</td>\n",
       "      <td>2.0</td>\n",
       "    </tr>\n",
       "    <tr>\n",
       "      <th>5</th>\n",
       "      <td>De volta para o futuro</td>\n",
       "      <td>4.0</td>\n",
       "    </tr>\n",
       "  </tbody>\n",
       "</table>\n",
       "</div>"
      ],
      "text/plain": [
       "                   Filmes  Leandro\n",
       "0              Unnamed: 0      3.0\n",
       "2      Velozes e Furiosos      5.0\n",
       "4               Star Wars      2.0\n",
       "5  De volta para o futuro      4.0"
      ]
     },
     "execution_count": 263,
     "metadata": {},
     "output_type": "execute_result"
    }
   ],
   "source": [
    "movie_rating_item.loc[(movie_rating_item.Filmes.isin(filmes_vistos) )][['Filmes', 'Leandro']]"
   ]
  },
  {
   "cell_type": "code",
   "execution_count": 264,
   "metadata": {
    "ExecuteTime": {
     "end_time": "2019-06-19T21:54:06.168404Z",
     "start_time": "2019-06-19T21:54:06.155439Z"
    }
   },
   "outputs": [],
   "source": [
    "similaridades_filmes = 1 / (1 + similaridades_filmes)"
   ]
  },
  {
   "cell_type": "code",
   "execution_count": 265,
   "metadata": {
    "ExecuteTime": {
     "end_time": "2019-06-19T21:54:07.665078Z",
     "start_time": "2019-06-19T21:54:07.652113Z"
    }
   },
   "outputs": [
    {
     "data": {
      "text/html": [
       "<div>\n",
       "<style scoped>\n",
       "    .dataframe tbody tr th:only-of-type {\n",
       "        vertical-align: middle;\n",
       "    }\n",
       "\n",
       "    .dataframe tbody tr th {\n",
       "        vertical-align: top;\n",
       "    }\n",
       "\n",
       "    .dataframe thead th {\n",
       "        text-align: right;\n",
       "    }\n",
       "</style>\n",
       "<table border=\"1\" class=\"dataframe\">\n",
       "  <thead>\n",
       "    <tr style=\"text-align: right;\">\n",
       "      <th></th>\n",
       "      <th>0</th>\n",
       "      <th>1</th>\n",
       "      <th>2</th>\n",
       "      <th>3</th>\n",
       "      <th>4</th>\n",
       "      <th>5</th>\n",
       "    </tr>\n",
       "  </thead>\n",
       "  <tbody>\n",
       "    <tr>\n",
       "      <th>0</th>\n",
       "      <td>1.000000</td>\n",
       "      <td>0.106762</td>\n",
       "      <td>0.161390</td>\n",
       "      <td>0.116961</td>\n",
       "      <td>0.161390</td>\n",
       "      <td>0.129732</td>\n",
       "    </tr>\n",
       "    <tr>\n",
       "      <th>1</th>\n",
       "      <td>0.106762</td>\n",
       "      <td>1.000000</td>\n",
       "      <td>0.120771</td>\n",
       "      <td>0.309017</td>\n",
       "      <td>0.156613</td>\n",
       "      <td>0.217129</td>\n",
       "    </tr>\n",
       "    <tr>\n",
       "      <th>2</th>\n",
       "      <td>0.161390</td>\n",
       "      <td>0.120771</td>\n",
       "      <td>1.000000</td>\n",
       "      <td>0.123899</td>\n",
       "      <td>0.131006</td>\n",
       "      <td>0.123899</td>\n",
       "    </tr>\n",
       "    <tr>\n",
       "      <th>3</th>\n",
       "      <td>0.116961</td>\n",
       "      <td>0.309017</td>\n",
       "      <td>0.123899</td>\n",
       "      <td>1.000000</td>\n",
       "      <td>0.210897</td>\n",
       "      <td>0.333333</td>\n",
       "    </tr>\n",
       "    <tr>\n",
       "      <th>4</th>\n",
       "      <td>0.161390</td>\n",
       "      <td>0.156613</td>\n",
       "      <td>0.131006</td>\n",
       "      <td>0.210897</td>\n",
       "      <td>1.000000</td>\n",
       "      <td>0.289898</td>\n",
       "    </tr>\n",
       "    <tr>\n",
       "      <th>5</th>\n",
       "      <td>0.129732</td>\n",
       "      <td>0.217129</td>\n",
       "      <td>0.123899</td>\n",
       "      <td>0.333333</td>\n",
       "      <td>0.289898</td>\n",
       "      <td>1.000000</td>\n",
       "    </tr>\n",
       "  </tbody>\n",
       "</table>\n",
       "</div>"
      ],
      "text/plain": [
       "          0         1         2         3         4         5\n",
       "0  1.000000  0.106762  0.161390  0.116961  0.161390  0.129732\n",
       "1  0.106762  1.000000  0.120771  0.309017  0.156613  0.217129\n",
       "2  0.161390  0.120771  1.000000  0.123899  0.131006  0.123899\n",
       "3  0.116961  0.309017  0.123899  1.000000  0.210897  0.333333\n",
       "4  0.161390  0.156613  0.131006  0.210897  1.000000  0.289898\n",
       "5  0.129732  0.217129  0.123899  0.333333  0.289898  1.000000"
      ]
     },
     "execution_count": 265,
     "metadata": {},
     "output_type": "execute_result"
    }
   ],
   "source": [
    "similaridades_filmes"
   ]
  },
  {
   "cell_type": "code",
   "execution_count": 266,
   "metadata": {
    "ExecuteTime": {
     "end_time": "2019-06-19T21:54:18.431245Z",
     "start_time": "2019-06-19T21:54:18.425250Z"
    }
   },
   "outputs": [
    {
     "data": {
      "text/plain": [
       "0    1.000000\n",
       "1    0.106762\n",
       "2    0.161390\n",
       "3    0.116961\n",
       "4    0.161390\n",
       "5    0.129732\n",
       "Name: 0, dtype: float64"
      ]
     },
     "execution_count": 266,
     "metadata": {},
     "output_type": "execute_result"
    }
   ],
   "source": [
    "similaridades_filmes[0]"
   ]
  },
  {
   "cell_type": "code",
   "execution_count": 268,
   "metadata": {
    "ExecuteTime": {
     "end_time": "2019-06-19T21:54:20.238011Z",
     "start_time": "2019-06-19T21:54:20.224000Z"
    }
   },
   "outputs": [],
   "source": [
    "movie_rating_item_leandro = pd.concat([movie_rating_item.loc[(movie_rating_item.Filmes.isin(filmes_vistos))][['Filmes', 'Leandro']], \n",
    "                                       similaridades_filmes[0], similaridades_filmes[2]\n",
    "                                      ],\n",
    "                                      axis = 1\n",
    "                                     ).dropna()"
   ]
  },
  {
   "cell_type": "code",
   "execution_count": 269,
   "metadata": {
    "ExecuteTime": {
     "end_time": "2019-06-19T21:54:21.146143Z",
     "start_time": "2019-06-19T21:54:21.141380Z"
    }
   },
   "outputs": [],
   "source": [
    "movie_rating_item_leandro = movie_rating_item_leandro.rename(columns = {'Leandro':'Notas dadas por Leandro', \n",
    "                                                                        0:'Sim. Org e Prec', \n",
    "                                                                        2: 'Sim. Senhor d. A.'\n",
    "                                                                       }\n",
    "                                                            )"
   ]
  },
  {
   "cell_type": "code",
   "execution_count": 270,
   "metadata": {
    "ExecuteTime": {
     "end_time": "2019-06-19T21:54:21.823278Z",
     "start_time": "2019-06-19T21:54:21.811393Z"
    }
   },
   "outputs": [
    {
     "data": {
      "text/html": [
       "<div>\n",
       "<style scoped>\n",
       "    .dataframe tbody tr th:only-of-type {\n",
       "        vertical-align: middle;\n",
       "    }\n",
       "\n",
       "    .dataframe tbody tr th {\n",
       "        vertical-align: top;\n",
       "    }\n",
       "\n",
       "    .dataframe thead th {\n",
       "        text-align: right;\n",
       "    }\n",
       "</style>\n",
       "<table border=\"1\" class=\"dataframe\">\n",
       "  <thead>\n",
       "    <tr style=\"text-align: right;\">\n",
       "      <th></th>\n",
       "      <th>Filmes</th>\n",
       "      <th>Notas dadas por Leandro</th>\n",
       "      <th>Sim. Org e Prec</th>\n",
       "      <th>Sim. Senhor d. A.</th>\n",
       "    </tr>\n",
       "  </thead>\n",
       "  <tbody>\n",
       "    <tr>\n",
       "      <th>0</th>\n",
       "      <td>Unnamed: 0</td>\n",
       "      <td>3.0</td>\n",
       "      <td>1.000000</td>\n",
       "      <td>0.161390</td>\n",
       "    </tr>\n",
       "    <tr>\n",
       "      <th>2</th>\n",
       "      <td>Velozes e Furiosos</td>\n",
       "      <td>5.0</td>\n",
       "      <td>0.161390</td>\n",
       "      <td>1.000000</td>\n",
       "    </tr>\n",
       "    <tr>\n",
       "      <th>4</th>\n",
       "      <td>Star Wars</td>\n",
       "      <td>2.0</td>\n",
       "      <td>0.161390</td>\n",
       "      <td>0.131006</td>\n",
       "    </tr>\n",
       "    <tr>\n",
       "      <th>5</th>\n",
       "      <td>De volta para o futuro</td>\n",
       "      <td>4.0</td>\n",
       "      <td>0.129732</td>\n",
       "      <td>0.123899</td>\n",
       "    </tr>\n",
       "  </tbody>\n",
       "</table>\n",
       "</div>"
      ],
      "text/plain": [
       "                   Filmes  Notas dadas por Leandro  Sim. Org e Prec  \\\n",
       "0              Unnamed: 0                      3.0         1.000000   \n",
       "2      Velozes e Furiosos                      5.0         0.161390   \n",
       "4               Star Wars                      2.0         0.161390   \n",
       "5  De volta para o futuro                      4.0         0.129732   \n",
       "\n",
       "   Sim. Senhor d. A.  \n",
       "0           0.161390  \n",
       "2           1.000000  \n",
       "4           0.131006  \n",
       "5           0.123899  "
      ]
     },
     "execution_count": 270,
     "metadata": {},
     "output_type": "execute_result"
    }
   ],
   "source": [
    "movie_rating_item_leandro"
   ]
  },
  {
   "cell_type": "code",
   "execution_count": 274,
   "metadata": {
    "ExecuteTime": {
     "end_time": "2019-06-19T21:54:37.751249Z",
     "start_time": "2019-06-19T21:54:37.742274Z"
    }
   },
   "outputs": [],
   "source": [
    "movie_rating_item_leandro['Sim. Org e Prec x Notas'] = movie_rating_item_leandro['Notas dadas por Leandro'\n",
    "                                                                                ] * movie_rating_item_leandro['Sim. Org e Prec'] "
   ]
  },
  {
   "cell_type": "code",
   "execution_count": 275,
   "metadata": {
    "ExecuteTime": {
     "end_time": "2019-06-19T21:54:38.455229Z",
     "start_time": "2019-06-19T21:54:38.440334Z"
    }
   },
   "outputs": [
    {
     "data": {
      "text/html": [
       "<div>\n",
       "<style scoped>\n",
       "    .dataframe tbody tr th:only-of-type {\n",
       "        vertical-align: middle;\n",
       "    }\n",
       "\n",
       "    .dataframe tbody tr th {\n",
       "        vertical-align: top;\n",
       "    }\n",
       "\n",
       "    .dataframe thead th {\n",
       "        text-align: right;\n",
       "    }\n",
       "</style>\n",
       "<table border=\"1\" class=\"dataframe\">\n",
       "  <thead>\n",
       "    <tr style=\"text-align: right;\">\n",
       "      <th></th>\n",
       "      <th>Filmes</th>\n",
       "      <th>Notas dadas por Leandro</th>\n",
       "      <th>Sim. Org e Prec</th>\n",
       "      <th>Sim. Senhor d. A.</th>\n",
       "      <th>Sim. Org e Prec x Notas</th>\n",
       "      <th>Sim. Senhor d. A. x Notas</th>\n",
       "    </tr>\n",
       "  </thead>\n",
       "  <tbody>\n",
       "    <tr>\n",
       "      <th>0</th>\n",
       "      <td>Unnamed: 0</td>\n",
       "      <td>3.0</td>\n",
       "      <td>1.000000</td>\n",
       "      <td>0.161390</td>\n",
       "      <td>3.000000</td>\n",
       "      <td>0.484171</td>\n",
       "    </tr>\n",
       "    <tr>\n",
       "      <th>2</th>\n",
       "      <td>Velozes e Furiosos</td>\n",
       "      <td>5.0</td>\n",
       "      <td>0.161390</td>\n",
       "      <td>1.000000</td>\n",
       "      <td>0.806952</td>\n",
       "      <td>5.000000</td>\n",
       "    </tr>\n",
       "    <tr>\n",
       "      <th>4</th>\n",
       "      <td>Star Wars</td>\n",
       "      <td>2.0</td>\n",
       "      <td>0.161390</td>\n",
       "      <td>0.131006</td>\n",
       "      <td>0.322781</td>\n",
       "      <td>0.262012</td>\n",
       "    </tr>\n",
       "    <tr>\n",
       "      <th>5</th>\n",
       "      <td>De volta para o futuro</td>\n",
       "      <td>4.0</td>\n",
       "      <td>0.129732</td>\n",
       "      <td>0.123899</td>\n",
       "      <td>0.518928</td>\n",
       "      <td>0.495597</td>\n",
       "    </tr>\n",
       "  </tbody>\n",
       "</table>\n",
       "</div>"
      ],
      "text/plain": [
       "                   Filmes  Notas dadas por Leandro  Sim. Org e Prec  \\\n",
       "0              Unnamed: 0                      3.0         1.000000   \n",
       "2      Velozes e Furiosos                      5.0         0.161390   \n",
       "4               Star Wars                      2.0         0.161390   \n",
       "5  De volta para o futuro                      4.0         0.129732   \n",
       "\n",
       "   Sim. Senhor d. A.  Sim. Org e Prec x Notas  Sim. Senhor d. A. x Notas  \n",
       "0           0.161390                 3.000000                   0.484171  \n",
       "2           1.000000                 0.806952                   5.000000  \n",
       "4           0.131006                 0.322781                   0.262012  \n",
       "5           0.123899                 0.518928                   0.495597  "
      ]
     },
     "execution_count": 275,
     "metadata": {},
     "output_type": "execute_result"
    }
   ],
   "source": [
    "movie_rating_item_leandro"
   ]
  },
  {
   "cell_type": "code",
   "execution_count": 276,
   "metadata": {
    "ExecuteTime": {
     "end_time": "2019-06-19T21:55:32.053449Z",
     "start_time": "2019-06-19T21:55:32.046462Z"
    }
   },
   "outputs": [],
   "source": [
    "movie_rating_item_leandro['Sim. Senhor d. A. x Notas'] = movie_rating_item_leandro['Notas dadas por Leandro'\n",
    "                                                                                  ] * movie_rating_item_leandro['Sim. Senhor d. A.'] "
   ]
  },
  {
   "cell_type": "code",
   "execution_count": 277,
   "metadata": {
    "ExecuteTime": {
     "end_time": "2019-06-19T21:55:41.563233Z",
     "start_time": "2019-06-19T21:55:41.551305Z"
    }
   },
   "outputs": [
    {
     "data": {
      "text/html": [
       "<div>\n",
       "<style scoped>\n",
       "    .dataframe tbody tr th:only-of-type {\n",
       "        vertical-align: middle;\n",
       "    }\n",
       "\n",
       "    .dataframe tbody tr th {\n",
       "        vertical-align: top;\n",
       "    }\n",
       "\n",
       "    .dataframe thead th {\n",
       "        text-align: right;\n",
       "    }\n",
       "</style>\n",
       "<table border=\"1\" class=\"dataframe\">\n",
       "  <thead>\n",
       "    <tr style=\"text-align: right;\">\n",
       "      <th></th>\n",
       "      <th>Filmes</th>\n",
       "      <th>Notas dadas por Leandro</th>\n",
       "      <th>Sim. Org e Prec</th>\n",
       "      <th>Sim. Senhor d. A.</th>\n",
       "      <th>Sim. Org e Prec x Notas</th>\n",
       "      <th>Sim. Senhor d. A. x Notas</th>\n",
       "    </tr>\n",
       "  </thead>\n",
       "  <tbody>\n",
       "    <tr>\n",
       "      <th>0</th>\n",
       "      <td>Unnamed: 0</td>\n",
       "      <td>3.0</td>\n",
       "      <td>1.000000</td>\n",
       "      <td>0.161390</td>\n",
       "      <td>3.000000</td>\n",
       "      <td>0.484171</td>\n",
       "    </tr>\n",
       "    <tr>\n",
       "      <th>2</th>\n",
       "      <td>Velozes e Furiosos</td>\n",
       "      <td>5.0</td>\n",
       "      <td>0.161390</td>\n",
       "      <td>1.000000</td>\n",
       "      <td>0.806952</td>\n",
       "      <td>5.000000</td>\n",
       "    </tr>\n",
       "    <tr>\n",
       "      <th>4</th>\n",
       "      <td>Star Wars</td>\n",
       "      <td>2.0</td>\n",
       "      <td>0.161390</td>\n",
       "      <td>0.131006</td>\n",
       "      <td>0.322781</td>\n",
       "      <td>0.262012</td>\n",
       "    </tr>\n",
       "    <tr>\n",
       "      <th>5</th>\n",
       "      <td>De volta para o futuro</td>\n",
       "      <td>4.0</td>\n",
       "      <td>0.129732</td>\n",
       "      <td>0.123899</td>\n",
       "      <td>0.518928</td>\n",
       "      <td>0.495597</td>\n",
       "    </tr>\n",
       "  </tbody>\n",
       "</table>\n",
       "</div>"
      ],
      "text/plain": [
       "                   Filmes  Notas dadas por Leandro  Sim. Org e Prec  \\\n",
       "0              Unnamed: 0                      3.0         1.000000   \n",
       "2      Velozes e Furiosos                      5.0         0.161390   \n",
       "4               Star Wars                      2.0         0.161390   \n",
       "5  De volta para o futuro                      4.0         0.129732   \n",
       "\n",
       "   Sim. Senhor d. A.  Sim. Org e Prec x Notas  Sim. Senhor d. A. x Notas  \n",
       "0           0.161390                 3.000000                   0.484171  \n",
       "2           1.000000                 0.806952                   5.000000  \n",
       "4           0.131006                 0.322781                   0.262012  \n",
       "5           0.123899                 0.518928                   0.495597  "
      ]
     },
     "execution_count": 277,
     "metadata": {},
     "output_type": "execute_result"
    }
   ],
   "source": [
    "movie_rating_item_leandro"
   ]
  },
  {
   "cell_type": "code",
   "execution_count": 279,
   "metadata": {
    "ExecuteTime": {
     "end_time": "2019-06-19T21:57:32.218241Z",
     "start_time": "2019-06-19T21:57:32.212216Z"
    }
   },
   "outputs": [
    {
     "data": {
      "text/plain": [
       "3.200426717545168"
      ]
     },
     "execution_count": 279,
     "metadata": {},
     "output_type": "execute_result"
    }
   ],
   "source": [
    "movie_rating_item_leandro['Sim. Org e Prec x Notas'].sum() / movie_rating_item_leandro['Sim. Org e Prec'].sum()"
   ]
  },
  {
   "cell_type": "code",
   "execution_count": 280,
   "metadata": {
    "ExecuteTime": {
     "end_time": "2019-06-19T21:58:28.142375Z",
     "start_time": "2019-06-19T21:58:28.135496Z"
    }
   },
   "outputs": [
    {
     "data": {
      "text/plain": [
       "4.407116920775932"
      ]
     },
     "execution_count": 280,
     "metadata": {},
     "output_type": "execute_result"
    }
   ],
   "source": [
    "movie_rating_item_leandro['Sim. Senhor d. A. x Notas'].sum() / movie_rating_item_leandro['Sim. Senhor d. A.'].sum()"
   ]
  },
  {
   "cell_type": "code",
   "execution_count": null,
   "metadata": {},
   "outputs": [],
   "source": []
  }
 ],
 "metadata": {
  "kernelspec": {
   "display_name": "Python 3",
   "language": "python",
   "name": "python3"
  },
  "language_info": {
   "codemirror_mode": {
    "name": "ipython",
    "version": 3
   },
   "file_extension": ".py",
   "mimetype": "text/x-python",
   "name": "python",
   "nbconvert_exporter": "python",
   "pygments_lexer": "ipython3",
   "version": "3.7.6"
  },
  "toc": {
   "base_numbering": 1,
   "nav_menu": {},
   "number_sections": true,
   "sideBar": true,
   "skip_h1_title": false,
   "title_cell": "Table of Contents",
   "title_sidebar": "Contents",
   "toc_cell": false,
   "toc_position": {},
   "toc_section_display": true,
   "toc_window_display": false
  }
 },
 "nbformat": 4,
 "nbformat_minor": 4
}
