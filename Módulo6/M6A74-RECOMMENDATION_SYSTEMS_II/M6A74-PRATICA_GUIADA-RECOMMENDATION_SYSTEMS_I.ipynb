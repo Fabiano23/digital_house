{
 "cells": [
  {
   "cell_type": "markdown",
   "metadata": {},
   "source": [
    "<img src=\"dh_logo.png\" align=\"right\" width=\"50%\">"
   ]
  },
  {
   "cell_type": "markdown",
   "metadata": {},
   "source": [
    "# Sistemas de recomendação - os sistemas que podem prever aquilo que seus clientes querem"
   ]
  },
  {
   "cell_type": "markdown",
   "metadata": {},
   "source": [
    "\n",
    "#### Atualmente, muitas empresas investem boa parte do seus esforços em seus sistemas de recomendação. Empresas como a [`Target`](https://www.target.com/), [`Amazon`](https://www.amazon.com/) e [`Netflix`](https://www.netflix.com/browse) utilizam esse tipo de sistema de maneira extremamente eficiente. \n",
    "\n",
    "<img src=\"empresas.png\" align=\"center\" width=\"40%\">\n",
    "\n",
    "- A `Amazon`, por exemplo, foi capaz de [aumentar seu  faturamento](https://evdelo.com/amazons-recommendation-algorithm-drives-35-of-its-sales/) em $35\\%$;\n",
    "    \n",
    "- A `Netflix` [aumentou suas visualizações](https://www.businessinsider.com/netflixs-recommendation-engine-drives-75-of-viewership-2012-4) em $75\\%$;   \n",
    "\n",
    "- A `Target`, com seu volume absurdo de informações de compra de seus clientes, foi capaz de [descobrir uma gravidez](https://www.forbes.com/sites/kashmirhill/2012/02/16/how-target-figured-out-a-teen-girl-was-pregnant-before-her-father-did/?sh=7f7452d06668) de uma adolescente antes mesmo de seu próprio pai."
   ]
  },
  {
   "cell_type": "markdown",
   "metadata": {},
   "source": [
    "## Algumas das áreas de aplicação:"
   ]
  },
  {
   "cell_type": "markdown",
   "metadata": {},
   "source": [
    "#### Para  um [sistema de recomendação](https://tryolabs.com/blog/introduction-to-recommender-systems/) fazer sentido, é necessário ter um volume de dados considerável para que haja o entendimento da equipe de negócios seja mais efetivo. Os sistemas de recomendação são geralmente usados nas seguintes casos:\n",
    "\n",
    "<br>\n",
    "\n",
    "- **e-Commerce**: Esse tipo de formato de negócio é o melhor existente atualmente para a aplicação de sistemas de recomendação, uma vez que geram uma grande quantidade de informações de consumo dos seus clientes.\n",
    "\n",
    "- **Varejo:** Quando ainda não existiam e-Commerces muito bem estabelecidos, as grandes empresas de varejo já eram capazes de construir modelos estatísticos para descobrir as melhores maneiras de recomendar seus produtos, enviando catálogos personalizados para seus clientes. A `Target` é um ótimo exemplo disso.\n",
    "\n",
    "- **Bancos**: Os bancos, assim como empresas de cartão, sabem praticamente todos os detalhes da nossa vida financeira, e isso torna os seus dados muito poderosos e valiosos para fazer recomendações de serviços (aumento de crédito, empréstimos,...). É justamente por esse motivos que muitas empresas tem serviços de cartões em suas lojas!(Renner, C&A,...)\n",
    "\n",
    "- **Telecom**: Dados de empresas de telecomunicações também são extremamente valiosos, uma vez que essas empresas têm o registro de cada interação dos seus usuários. Como o portifólio dessas empresas não é muito grande, resolver seus problemas de recomendação acaba sendo algo mais simplificado."
   ]
  },
  {
   "cell_type": "markdown",
   "metadata": {},
   "source": [
    "## Benefícios dos sistemas de recomendação:"
   ]
  },
  {
   "cell_type": "markdown",
   "metadata": {
    "ExecuteTime": {
     "end_time": "2019-06-16T14:53:17.271692Z",
     "start_time": "2019-06-16T14:53:17.266705Z"
    }
   },
   "source": [
    "#### Os sistemas de recomendação trazem diversos benefícios às empresas que os utilizam. Dentre eles temos:\n",
    "<br>\n",
    "\n",
    "- **Aumentar conversão/vendas**: Existem diversas formas de atingir esse objetivo, como fazer campanhas de `marketing` por exemplo, que acabam sendo bem caras dependendo de como a campanha é construída. Os sistemas de recomendação são uma alternativa automatizada e de esforço e custo muitas vezes muito menor. \n",
    "\n",
    "- **Aumentar a satisfação do usuário**: Fazer recomendações mais assertivas reduz o esforço do seu cliente para encontrar aquilo que ele deseja antes mesmo dele procurar. Além disso a **personalização** dessas indicações tornam seus clientes muito mais próximos da sua marca \n",
    "\n",
    "- **Aumentar a lealdade**: Fazendo seus clientes gastarem mais tempos em seu site aumenta a familiaridade deles com a interface apresentada e a marca em si, aumentando a probabilidade deles fazerem compras futuras.\n",
    "\n",
    "- **Redução do `churn`**: Sistemas de recomendação podem tornar suas ações de recuperação de seus clientes muito mais efetivas, que podem ser feitas através de `e-mails`, `sms`, `whatsapp` ou até por correio. Essas ações podem ser feitas ainda utilizando cupons de desconto aliadas aos resultados dos sistemas de recomendação para aumentar sua assertividade. \n",
    "\n",
    "#### Todas esses benefícios têm impacto direto em uma das métricas mais importantes existentes atualmente para a maioria das empresas: \n",
    "\n",
    "- O [`customer lifetime value`](https://www.shopify.com/encyclopedia/customer-lifetime-value-clv#:~:text=The%20lifetime%20value%20of%20a,your%20products%2C%20during%20their%20lifetime.) (CLV), definido como a quantia total de dinheiro que se espera que um cliente gaste em seu negócio ou em seus produtos durante a vida dele.\n",
    "\n",
    "#### Antigamente as empresas, principalmente as de grande porte, não possuíam uma preocupação com esse tipo de métrica já que seu poder acabava sendo muito maior do que o poder do consumidor.\n",
    "\n",
    "#### Atualmente, o aumento do acesso aos meios de produção, o crescimento do número de concorrentes, bem como o crescimento do modelo [`as a service`](https://wiprodigital.com/2020/01/14/transforming-to-as-a-service-business-models/), em que você paga apenas enquanto usar um serviço, eliminando assim a necessidade de um contrato de obrigatoriedade de uso por muitos anos, levaram o mercado a pbservar essa métrica como muito importante para as empresas, trazendo a necessidade de garantir um bom relacionamento com seu cliente. "
   ]
  },
  {
   "cell_type": "markdown",
   "metadata": {},
   "source": [
    "## Tipos de sistemas de recomendação"
   ]
  },
  {
   "cell_type": "markdown",
   "metadata": {
    "ExecuteTime": {
     "end_time": "2019-06-16T16:51:00.139815Z",
     "start_time": "2019-06-16T16:51:00.133797Z"
    }
   },
   "source": [
    "#### Existem três [tipos de sistema de recomendação](https://towardsdatascience.com/brief-on-recommender-systems-b86a1068a4dd). Os principais tipos existentes atualmente são:\n",
    "\n",
    "- Recuperação direta da informação; \n",
    "\n",
    "- Filtragem por conteúdo;\n",
    "\n",
    "- Filtragem colaborativa."
   ]
  },
  {
   "cell_type": "markdown",
   "metadata": {},
   "source": [
    "## Recuperação direta da informação"
   ]
  },
  {
   "cell_type": "markdown",
   "metadata": {},
   "source": [
    "#### Esse tipo de sistema de recomendação é um dos mais simples que existem e não possuem muita inteligência. Eles são feitos através da verificação de palavras chaves, qual foi a palavra chave/ produto mais pesquisado, para então exibir para o cliente como \"Mais vendido\" ou \"Mais clicado\". Nesse caso, basta apena fazer a contagem por produto ou por palavra chave e evidenciar isso para o cliente.  "
   ]
  },
  {
   "cell_type": "markdown",
   "metadata": {},
   "source": [
    "<img src=\"sistema_recomendacao_1.png\" align=\"center\" width=\"40%\">  "
   ]
  },
  {
   "cell_type": "markdown",
   "metadata": {},
   "source": [
    "## Filtragem por conteúdo"
   ]
  },
  {
   "cell_type": "markdown",
   "metadata": {},
   "source": [
    "#### Nesse caso, são usadas as características do produto e/ou descrição do mesmo. Por exemplo, falando em filmes, pegaríamos a descrição desses filmes e verificaríamos a similaridade entre as descrições. No caso de livros, faríamos a verificação da sinopse do livro para fazer essa verificação de similaridade."
   ]
  },
  {
   "cell_type": "markdown",
   "metadata": {},
   "source": [
    "<img src=\"filragem_por_conteudo.jpg\" align=\"center\" width=\"40%\"> "
   ]
  },
  {
   "cell_type": "markdown",
   "metadata": {},
   "source": [
    "## Filtragem Colaborativa"
   ]
  },
  {
   "cell_type": "markdown",
   "metadata": {
    "ExecuteTime": {
     "end_time": "2019-06-16T16:51:00.139815Z",
     "start_time": "2019-06-16T16:51:00.133797Z"
    }
   },
   "source": [
    "#### Essa é uma das técnicas mais utilizadas hoje em dia pra construir sistemas de recomendação. Ela compara perfis de compradores, verificando seus itens em comum e indicando os itens complementares. Vamos entrar num detalhe um pouco maior observando e discutindo as imagens abaixo: "
   ]
  },
  {
   "cell_type": "markdown",
   "metadata": {},
   "source": [
    "<img src=\"sistema-de-recomendacao-com-filtragem-colaborativa_2.png\" align=\"center\" width=\"30%\">  "
   ]
  },
  {
   "cell_type": "markdown",
   "metadata": {},
   "source": [
    "#### A imagem mostrada acima nos indica por exemplo que a primeira compradora de frutas e o terceiro tem em comum a melancia e o morango, enquanto que a compradora do meio possui apenas um item em comum com os outros dois. \n",
    "\n",
    "#### Dessa forma, consideramos que a compradora $1$ e o comprador $3$ tem um perfil mais próximo. O próximo passo é identificar os seus elementos complementares, que para esse caso serão a laranja e a uva, uma vez que estes foram comprados pela compradora $1$ e não pelo comprador $3$."
   ]
  },
  {
   "cell_type": "markdown",
   "metadata": {},
   "source": [
    "<img src=\"sistema-de-recomendacao-com-filtragem-colaborativa.png\" align=\"center\" width=\"50%\"> "
   ]
  },
  {
   "cell_type": "markdown",
   "metadata": {},
   "source": [
    "#### Na imagem mostrada acima, vemos que os usuários $A$ e $B$ têm dois itens em comum: o **item A** e o **item B**, e que o **item C** pertence apenas ao grupo de objetos escolhidos pelo usuário $B$. Dessa forma, como eles possuem itens em comum, podemos considerar que existe um certo grau de similaridade entre eles, fazendo com que a indicação do **item C** possa ser feita com maior chances de sucesso para o  comrpador $B$. "
   ]
  },
  {
   "cell_type": "markdown",
   "metadata": {},
   "source": [
    "## Base de dados para analisarmos"
   ]
  },
  {
   "cell_type": "markdown",
   "metadata": {},
   "source": [
    "<img src=\"base_de_dados.png\" align=\"center\" width=\"50%\"> "
   ]
  },
  {
   "cell_type": "markdown",
   "metadata": {},
   "source": [
    "#### Vamos utilizar a base mostrada acima para ser o nosso estudo de caso. Para podermos indicar filmes para um usuário, vamos calcuar a similaridade entre os mesmos. "
   ]
  },
  {
   "cell_type": "code",
   "execution_count": 1,
   "metadata": {
    "ExecuteTime": {
     "end_time": "2019-06-18T21:45:08.958661Z",
     "start_time": "2019-06-18T21:45:08.292751Z"
    }
   },
   "outputs": [],
   "source": [
    "import pandas as pd\n",
    "import numpy as np\n",
    "import matplotlib.pyplot as plt\n",
    "from mpl_toolkits.mplot3d import Axes3D\n",
    "from sklearn.decomposition import PCA"
   ]
  },
  {
   "cell_type": "code",
   "execution_count": 2,
   "metadata": {
    "ExecuteTime": {
     "end_time": "2019-06-18T21:45:09.369971Z",
     "start_time": "2019-06-18T21:45:09.342561Z"
    }
   },
   "outputs": [],
   "source": [
    "movie_rating = pd.read_csv('movie_rating.csv')"
   ]
  },
  {
   "cell_type": "code",
   "execution_count": 3,
   "metadata": {
    "ExecuteTime": {
     "end_time": "2019-06-18T21:45:11.473380Z",
     "start_time": "2019-06-18T21:45:11.461412Z"
    }
   },
   "outputs": [
    {
     "data": {
      "text/html": [
       "<div>\n",
       "<style scoped>\n",
       "    .dataframe tbody tr th:only-of-type {\n",
       "        vertical-align: middle;\n",
       "    }\n",
       "\n",
       "    .dataframe tbody tr th {\n",
       "        vertical-align: top;\n",
       "    }\n",
       "\n",
       "    .dataframe thead th {\n",
       "        text-align: right;\n",
       "    }\n",
       "</style>\n",
       "<table border=\"1\" class=\"dataframe\">\n",
       "  <thead>\n",
       "    <tr style=\"text-align: right;\">\n",
       "      <th></th>\n",
       "      <th>Unnamed: 0</th>\n",
       "      <th>Usuario</th>\n",
       "      <th>Orgulho &amp; Preconceito</th>\n",
       "      <th>Velozes e Furiosos</th>\n",
       "      <th>O Senhor dos anéis</th>\n",
       "      <th>Star Wars</th>\n",
       "      <th>De volta para o futuro</th>\n",
       "    </tr>\n",
       "  </thead>\n",
       "  <tbody>\n",
       "    <tr>\n",
       "      <th>0</th>\n",
       "      <td>0</td>\n",
       "      <td>Izabela</td>\n",
       "      <td>5.0</td>\n",
       "      <td>1.0</td>\n",
       "      <td>5.0</td>\n",
       "      <td>3.0</td>\n",
       "      <td>5</td>\n",
       "    </tr>\n",
       "    <tr>\n",
       "      <th>1</th>\n",
       "      <td>1</td>\n",
       "      <td>Thais</td>\n",
       "      <td>5.0</td>\n",
       "      <td>1.0</td>\n",
       "      <td>5.0</td>\n",
       "      <td>5.0</td>\n",
       "      <td>5</td>\n",
       "    </tr>\n",
       "    <tr>\n",
       "      <th>2</th>\n",
       "      <td>2</td>\n",
       "      <td>Lorena</td>\n",
       "      <td>4.0</td>\n",
       "      <td>3.0</td>\n",
       "      <td>2.0</td>\n",
       "      <td>1.0</td>\n",
       "      <td>2</td>\n",
       "    </tr>\n",
       "    <tr>\n",
       "      <th>3</th>\n",
       "      <td>3</td>\n",
       "      <td>Leandro</td>\n",
       "      <td>NaN</td>\n",
       "      <td>5.0</td>\n",
       "      <td>NaN</td>\n",
       "      <td>2.0</td>\n",
       "      <td>4</td>\n",
       "    </tr>\n",
       "    <tr>\n",
       "      <th>4</th>\n",
       "      <td>4</td>\n",
       "      <td>Uliane</td>\n",
       "      <td>2.0</td>\n",
       "      <td>NaN</td>\n",
       "      <td>3.0</td>\n",
       "      <td>NaN</td>\n",
       "      <td>1</td>\n",
       "    </tr>\n",
       "    <tr>\n",
       "      <th>5</th>\n",
       "      <td>5</td>\n",
       "      <td>Isis</td>\n",
       "      <td>5.0</td>\n",
       "      <td>1.0</td>\n",
       "      <td>5.0</td>\n",
       "      <td>5.0</td>\n",
       "      <td>5</td>\n",
       "    </tr>\n",
       "    <tr>\n",
       "      <th>6</th>\n",
       "      <td>6</td>\n",
       "      <td>Marcos</td>\n",
       "      <td>1.0</td>\n",
       "      <td>3.0</td>\n",
       "      <td>2.0</td>\n",
       "      <td>5.0</td>\n",
       "      <td>4</td>\n",
       "    </tr>\n",
       "  </tbody>\n",
       "</table>\n",
       "</div>"
      ],
      "text/plain": [
       "   Unnamed: 0  Usuario  Orgulho & Preconceito  Velozes e Furiosos  \\\n",
       "0           0  Izabela                    5.0                 1.0   \n",
       "1           1    Thais                    5.0                 1.0   \n",
       "2           2   Lorena                    4.0                 3.0   \n",
       "3           3  Leandro                    NaN                 5.0   \n",
       "4           4   Uliane                    2.0                 NaN   \n",
       "5           5     Isis                    5.0                 1.0   \n",
       "6           6   Marcos                    1.0                 3.0   \n",
       "\n",
       "   O Senhor dos anéis  Star Wars  De volta para o futuro  \n",
       "0                 5.0        3.0                       5  \n",
       "1                 5.0        5.0                       5  \n",
       "2                 2.0        1.0                       2  \n",
       "3                 NaN        2.0                       4  \n",
       "4                 3.0        NaN                       1  \n",
       "5                 5.0        5.0                       5  \n",
       "6                 2.0        5.0                       4  "
      ]
     },
     "execution_count": 3,
     "metadata": {},
     "output_type": "execute_result"
    }
   ],
   "source": [
    "movie_rating"
   ]
  },
  {
   "cell_type": "markdown",
   "metadata": {},
   "source": [
    "#### Como pode-se ver, a base possi duas pessoas que não viram alguns dos filmes explicitados na tabela acima, que são: `'Usuario': Leandro` e `'Usuario': Uliane`. Dessa forma, inicialmente precisamos verificar quem viu os mesmos filmes que eles para podermos identificar similaridade de perfis. <br>"
   ]
  },
  {
   "cell_type": "markdown",
   "metadata": {},
   "source": [
    "### Analisando os filmes da `Leandro`:"
   ]
  },
  {
   "cell_type": "markdown",
   "metadata": {},
   "source": [
    "#### Para `Leandro`, ficaríamos com a seguinte tabela:"
   ]
  },
  {
   "cell_type": "code",
   "execution_count": 5,
   "metadata": {
    "ExecuteTime": {
     "end_time": "2019-06-18T21:45:15.113446Z",
     "start_time": "2019-06-18T21:45:15.102476Z"
    }
   },
   "outputs": [
    {
     "data": {
      "text/html": [
       "<div>\n",
       "<style scoped>\n",
       "    .dataframe tbody tr th:only-of-type {\n",
       "        vertical-align: middle;\n",
       "    }\n",
       "\n",
       "    .dataframe tbody tr th {\n",
       "        vertical-align: top;\n",
       "    }\n",
       "\n",
       "    .dataframe thead th {\n",
       "        text-align: right;\n",
       "    }\n",
       "</style>\n",
       "<table border=\"1\" class=\"dataframe\">\n",
       "  <thead>\n",
       "    <tr style=\"text-align: right;\">\n",
       "      <th></th>\n",
       "      <th>Unnamed: 0</th>\n",
       "      <th>Usuario</th>\n",
       "      <th>Velozes e Furiosos</th>\n",
       "      <th>Star Wars</th>\n",
       "      <th>De volta para o futuro</th>\n",
       "    </tr>\n",
       "  </thead>\n",
       "  <tbody>\n",
       "    <tr>\n",
       "      <th>0</th>\n",
       "      <td>0</td>\n",
       "      <td>Izabela</td>\n",
       "      <td>1.0</td>\n",
       "      <td>3.0</td>\n",
       "      <td>5</td>\n",
       "    </tr>\n",
       "    <tr>\n",
       "      <th>1</th>\n",
       "      <td>1</td>\n",
       "      <td>Thais</td>\n",
       "      <td>1.0</td>\n",
       "      <td>5.0</td>\n",
       "      <td>5</td>\n",
       "    </tr>\n",
       "    <tr>\n",
       "      <th>2</th>\n",
       "      <td>2</td>\n",
       "      <td>Lorena</td>\n",
       "      <td>3.0</td>\n",
       "      <td>1.0</td>\n",
       "      <td>2</td>\n",
       "    </tr>\n",
       "    <tr>\n",
       "      <th>3</th>\n",
       "      <td>3</td>\n",
       "      <td>Leandro</td>\n",
       "      <td>5.0</td>\n",
       "      <td>2.0</td>\n",
       "      <td>4</td>\n",
       "    </tr>\n",
       "    <tr>\n",
       "      <th>4</th>\n",
       "      <td>5</td>\n",
       "      <td>Isis</td>\n",
       "      <td>1.0</td>\n",
       "      <td>5.0</td>\n",
       "      <td>5</td>\n",
       "    </tr>\n",
       "    <tr>\n",
       "      <th>5</th>\n",
       "      <td>6</td>\n",
       "      <td>Marcos</td>\n",
       "      <td>3.0</td>\n",
       "      <td>5.0</td>\n",
       "      <td>4</td>\n",
       "    </tr>\n",
       "  </tbody>\n",
       "</table>\n",
       "</div>"
      ],
      "text/plain": [
       "   Unnamed: 0  Usuario  Velozes e Furiosos  Star Wars  De volta para o futuro\n",
       "0           0  Izabela                 1.0        3.0                       5\n",
       "1           1    Thais                 1.0        5.0                       5\n",
       "2           2   Lorena                 3.0        1.0                       2\n",
       "3           3  Leandro                 5.0        2.0                       4\n",
       "4           5     Isis                 1.0        5.0                       5\n",
       "5           6   Marcos                 3.0        5.0                       4"
      ]
     },
     "execution_count": 5,
     "metadata": {},
     "output_type": "execute_result"
    }
   ],
   "source": [
    "movie_rating_leandro = movie_rating.drop(['Orgulho & Preconceito', 'O Senhor dos anéis'],\n",
    "                                         axis = 1\n",
    "                                        ).dropna()\n",
    "\n",
    "movie_rating_leandro.reset_index(drop = True) "
   ]
  },
  {
   "cell_type": "markdown",
   "metadata": {},
   "source": [
    "#### Vamos agora plotar o gráfico de dispersão para dois e três pontos:"
   ]
  },
  {
   "cell_type": "code",
   "execution_count": 8,
   "metadata": {
    "ExecuteTime": {
     "end_time": "2019-06-18T21:45:17.399734Z",
     "start_time": "2019-06-18T21:45:17.210242Z"
    }
   },
   "outputs": [
    {
     "data": {
      "image/png": "[encoded data removed]",
      "text/plain": [
       "<Figure size 432x288 with 1 Axes>"
      ]
     },
     "metadata": {
      "needs_background": "light"
     },
     "output_type": "display_data"
    }
   ],
   "source": [
    "x_lea = movie_rating_leandro['Velozes e Furiosos']\n",
    "y_lea = movie_rating_leandro['Star Wars']\n",
    "\n",
    "plt.xlabel(\"Velozes e Furiosos\",\n",
    "           fontsize = 15\n",
    "          )\n",
    "plt.ylabel(\"Star Wars\", \n",
    "           fontsize = 15\n",
    "          )\n",
    "# plot grafico de dispersao\n",
    "plt.scatter(x_lea, \n",
    "            y_lea\n",
    "           );"
   ]
  },
  {
   "cell_type": "markdown",
   "metadata": {},
   "source": [
    "#### Podemos plotar os nomes dos usuários como rótulos no gráfico."
   ]
  },
  {
   "cell_type": "code",
   "execution_count": 84,
   "metadata": {},
   "outputs": [
    {
     "data": {
      "text/plain": [
       "0    Text(1.0, 3.0, 'Izabela')\n",
       "1      Text(1.0, 5.0, 'Thais')\n",
       "2     Text(3.0, 1.0, 'Lorena')\n",
       "3    Text(5.0, 2.0, 'Leandro')\n",
       "5       Text(1.0, 5.0, 'Isis')\n",
       "6     Text(3.0, 5.0, 'Marcos')\n",
       "dtype: object"
      ]
     },
     "execution_count": 84,
     "metadata": {},
     "output_type": "execute_result"
    },
    {
     "data": {
      "image/png": "[encoded data removed]",
      "text/plain": [
       "<Figure size 720x720 with 1 Axes>"
      ]
     },
     "metadata": {
      "needs_background": "light"
     },
     "output_type": "display_data"
    }
   ],
   "source": [
    "ax = movie_rating_leandro.plot(x = 'Velozes e Furiosos',\n",
    "             y = 'Star Wars',\n",
    "             kind = 'scatter', \n",
    "             figsize = (10, 10)\n",
    "            )\n",
    "movie_rating_leandro[['Velozes e Furiosos', \n",
    "                      'Star Wars', \n",
    "                      'Usuario']\n",
    "                    ].apply(lambda x: ax.text(* x ),\n",
    "                            axis = 1\n",
    "                           )"
   ]
  },
  {
   "cell_type": "markdown",
   "metadata": {},
   "source": [
    "#### Plotando o gráfico em três dimensões:"
   ]
  },
  {
   "cell_type": "code",
   "execution_count": 85,
   "metadata": {
    "ExecuteTime": {
     "end_time": "2019-06-18T21:45:20.013488Z",
     "start_time": "2019-06-18T21:45:19.848893Z"
    }
   },
   "outputs": [
    {
     "data": {
      "image/png": "[encoded data removed]",
      "text/plain": [
       "<Figure size 576x432 with 1 Axes>"
      ]
     },
     "metadata": {
      "needs_background": "light"
     },
     "output_type": "display_data"
    }
   ],
   "source": [
    "fig3 = plt.figure(2,figsize = (8, 6))\n",
    "\n",
    "ax_lea = fig3.add_subplot(111, \n",
    "                          projection = '3d'\n",
    "                         )\n",
    "\n",
    "x = movie_rating_leandro[\"Velozes e Furiosos\"].tolist()\n",
    "y = movie_rating_leandro[\"Star Wars\"].tolist()\n",
    "z = movie_rating_leandro[\"De volta para o futuro\"].tolist()\n",
    "\n",
    "ax_lea.scatter(x, y, z, \n",
    "               c = 'r', \n",
    "               marker = 'o'\n",
    "              )\n",
    "\n",
    "ax_lea.set_xlabel(\"Velozes e Furiosos\")\n",
    "ax_lea.set_ylabel(\"Star Wars\")\n",
    "ax_lea.set_zlabel(\"De volta para o futuro\")\n",
    "\n",
    "\n",
    "\n",
    "\n",
    "plt.show()"
   ]
  },
  {
   "cell_type": "markdown",
   "metadata": {},
   "source": [
    "#### Vamos plotar a matriz das distâncias euclidianas, usando o [método]((https://sparrow.dev/numpy-norm/#:~:text=When%20np.,the%20vector%20in%20Euclidean%20space.)) [`numpy.linalg.norm`](https://numpy.org/doc/stable/reference/generated/numpy.linalg.norm.html)."
   ]
  },
  {
   "cell_type": "code",
   "execution_count": 86,
   "metadata": {
    "ExecuteTime": {
     "end_time": "2019-06-19T21:31:06.432685Z",
     "start_time": "2019-06-19T21:31:06.419742Z"
    }
   },
   "outputs": [
    {
     "data": {
      "text/html": [
       "<div>\n",
       "<style scoped>\n",
       "    .dataframe tbody tr th:only-of-type {\n",
       "        vertical-align: middle;\n",
       "    }\n",
       "\n",
       "    .dataframe tbody tr th {\n",
       "        vertical-align: top;\n",
       "    }\n",
       "\n",
       "    .dataframe thead th {\n",
       "        text-align: right;\n",
       "    }\n",
       "</style>\n",
       "<table border=\"1\" class=\"dataframe\">\n",
       "  <thead>\n",
       "    <tr style=\"text-align: right;\">\n",
       "      <th></th>\n",
       "      <th>Unnamed: 0</th>\n",
       "      <th>Usuario</th>\n",
       "      <th>Velozes e Furiosos</th>\n",
       "      <th>Star Wars</th>\n",
       "      <th>De volta para o futuro</th>\n",
       "    </tr>\n",
       "  </thead>\n",
       "  <tbody>\n",
       "    <tr>\n",
       "      <th>0</th>\n",
       "      <td>0</td>\n",
       "      <td>Izabela</td>\n",
       "      <td>1.0</td>\n",
       "      <td>3.0</td>\n",
       "      <td>5</td>\n",
       "    </tr>\n",
       "    <tr>\n",
       "      <th>1</th>\n",
       "      <td>1</td>\n",
       "      <td>Thais</td>\n",
       "      <td>1.0</td>\n",
       "      <td>5.0</td>\n",
       "      <td>5</td>\n",
       "    </tr>\n",
       "    <tr>\n",
       "      <th>2</th>\n",
       "      <td>2</td>\n",
       "      <td>Lorena</td>\n",
       "      <td>3.0</td>\n",
       "      <td>1.0</td>\n",
       "      <td>2</td>\n",
       "    </tr>\n",
       "    <tr>\n",
       "      <th>3</th>\n",
       "      <td>3</td>\n",
       "      <td>Leandro</td>\n",
       "      <td>5.0</td>\n",
       "      <td>2.0</td>\n",
       "      <td>4</td>\n",
       "    </tr>\n",
       "    <tr>\n",
       "      <th>5</th>\n",
       "      <td>5</td>\n",
       "      <td>Isis</td>\n",
       "      <td>1.0</td>\n",
       "      <td>5.0</td>\n",
       "      <td>5</td>\n",
       "    </tr>\n",
       "    <tr>\n",
       "      <th>6</th>\n",
       "      <td>6</td>\n",
       "      <td>Marcos</td>\n",
       "      <td>3.0</td>\n",
       "      <td>5.0</td>\n",
       "      <td>4</td>\n",
       "    </tr>\n",
       "  </tbody>\n",
       "</table>\n",
       "</div>"
      ],
      "text/plain": [
       "   Unnamed: 0  Usuario  Velozes e Furiosos  Star Wars  De volta para o futuro\n",
       "0           0  Izabela                 1.0        3.0                       5\n",
       "1           1    Thais                 1.0        5.0                       5\n",
       "2           2   Lorena                 3.0        1.0                       2\n",
       "3           3  Leandro                 5.0        2.0                       4\n",
       "5           5     Isis                 1.0        5.0                       5\n",
       "6           6   Marcos                 3.0        5.0                       4"
      ]
     },
     "execution_count": 86,
     "metadata": {},
     "output_type": "execute_result"
    }
   ],
   "source": [
    "movie_rating_leandro#.columns"
   ]
  },
  {
   "cell_type": "code",
   "execution_count": 87,
   "metadata": {
    "ExecuteTime": {
     "end_time": "2019-06-18T21:45:20.967121Z",
     "start_time": "2019-06-18T21:45:20.957149Z"
    }
   },
   "outputs": [
    {
     "data": {
      "text/plain": [
       "array([[0., 1., 3., 5.],\n",
       "       [1., 1., 5., 5.],\n",
       "       [2., 3., 1., 2.],\n",
       "       [3., 5., 2., 4.],\n",
       "       [5., 1., 5., 5.],\n",
       "       [6., 3., 5., 4.]])"
      ]
     },
     "execution_count": 87,
     "metadata": {},
     "output_type": "execute_result"
    }
   ],
   "source": [
    "dataset_visual_lea = movie_rating_leandro.drop(['Usuario'], \n",
    "                                               axis = 1\n",
    "                                              ).values\n",
    "dataset_visual_lea"
   ]
  },
  {
   "cell_type": "code",
   "execution_count": 88,
   "metadata": {},
   "outputs": [
    {
     "data": {
      "text/html": [
       "<div>\n",
       "<style scoped>\n",
       "    .dataframe tbody tr th:only-of-type {\n",
       "        vertical-align: middle;\n",
       "    }\n",
       "\n",
       "    .dataframe tbody tr th {\n",
       "        vertical-align: top;\n",
       "    }\n",
       "\n",
       "    .dataframe thead th {\n",
       "        text-align: right;\n",
       "    }\n",
       "</style>\n",
       "<table border=\"1\" class=\"dataframe\">\n",
       "  <thead>\n",
       "    <tr style=\"text-align: right;\">\n",
       "      <th></th>\n",
       "      <th>0</th>\n",
       "      <th>1</th>\n",
       "      <th>2</th>\n",
       "      <th>3</th>\n",
       "    </tr>\n",
       "  </thead>\n",
       "  <tbody>\n",
       "    <tr>\n",
       "      <th>0</th>\n",
       "      <td>8.660254</td>\n",
       "      <td>4.898979</td>\n",
       "      <td>4.123106</td>\n",
       "      <td>3.316625</td>\n",
       "    </tr>\n",
       "    <tr>\n",
       "      <th>1</th>\n",
       "      <td>6.855655</td>\n",
       "      <td>4.898979</td>\n",
       "      <td>5.385165</td>\n",
       "      <td>3.316625</td>\n",
       "    </tr>\n",
       "    <tr>\n",
       "      <th>2</th>\n",
       "      <td>5.567764</td>\n",
       "      <td>4.000000</td>\n",
       "      <td>7.280110</td>\n",
       "      <td>5.916080</td>\n",
       "    </tr>\n",
       "    <tr>\n",
       "      <th>3</th>\n",
       "      <td>5.196152</td>\n",
       "      <td>7.483315</td>\n",
       "      <td>5.385165</td>\n",
       "      <td>2.645751</td>\n",
       "    </tr>\n",
       "    <tr>\n",
       "      <th>4</th>\n",
       "      <td>7.416198</td>\n",
       "      <td>4.898979</td>\n",
       "      <td>5.385165</td>\n",
       "      <td>3.316625</td>\n",
       "    </tr>\n",
       "    <tr>\n",
       "      <th>5</th>\n",
       "      <td>9.327379</td>\n",
       "      <td>4.000000</td>\n",
       "      <td>5.385165</td>\n",
       "      <td>2.645751</td>\n",
       "    </tr>\n",
       "  </tbody>\n",
       "</table>\n",
       "</div>"
      ],
      "text/plain": [
       "          0         1         2         3\n",
       "0  8.660254  4.898979  4.123106  3.316625\n",
       "1  6.855655  4.898979  5.385165  3.316625\n",
       "2  5.567764  4.000000  7.280110  5.916080\n",
       "3  5.196152  7.483315  5.385165  2.645751\n",
       "4  7.416198  4.898979  5.385165  3.316625\n",
       "5  9.327379  4.000000  5.385165  2.645751"
      ]
     },
     "execution_count": 88,
     "metadata": {},
     "output_type": "execute_result"
    }
   ],
   "source": [
    "pd.DataFrame(np.linalg.norm(dataset_visual_lea - dataset_visual_lea[ : , None],\n",
    "                            ord = None,\n",
    "                            axis = 1\n",
    "                           )\n",
    "            )"
   ]
  },
  {
   "cell_type": "code",
   "execution_count": 89,
   "metadata": {},
   "outputs": [],
   "source": [
    "#print('dataset_visual_lea:', dataset_visual_lea[ : , :])\n",
    "#print('dataset_visual_lea[ : , None]:', dataset_visual_lea[ : , None])\n",
    "#print('dataset_visual_lea - dataset_visual_lea[ : , None]:', dataset_visual_lea - dataset_visual_lea[ : , None])\n",
    "#dataset_visual_lea\n",
    "#np.linalg.norm(dataset_visual_lea - dataset_visual_lea[ : , None], ord = None, axis = 1)"
   ]
  },
  {
   "cell_type": "markdown",
   "metadata": {},
   "source": [
    "#### Em que o índice trás os nomes dos `'Usuários'`:\n",
    "\n",
    "- **0**: Izabela\n",
    "- **1**: Thais\n",
    "- **2**: Lorena\n",
    "- **3**: Leandro\n",
    "- **4**: Isis\n",
    "- **5**: Marcos"
   ]
  },
  {
   "cell_type": "markdown",
   "metadata": {},
   "source": [
    "#### Observando a tabela de distâncias acima, verificamos que `Leandro` $(3)$ tem um perfil mais próximo de `Lorena` $(2)$. Dessa forma, poderíamos indicar para Leandro os filmes que lorena viu e mais gostou, que nesses caso seria Orgulho e Preconceito. "
   ]
  },
  {
   "cell_type": "markdown",
   "metadata": {},
   "source": [
    "### Analisando os filmes da `Uliane`:"
   ]
  },
  {
   "cell_type": "markdown",
   "metadata": {},
   "source": [
    "#### Para `Uliane`, ficaríamos com a seguinte tabela:"
   ]
  },
  {
   "cell_type": "code",
   "execution_count": 102,
   "metadata": {
    "ExecuteTime": {
     "end_time": "2019-06-18T21:45:23.415193Z",
     "start_time": "2019-06-18T21:45:23.405194Z"
    }
   },
   "outputs": [
    {
     "data": {
      "text/html": [
       "<div>\n",
       "<style scoped>\n",
       "    .dataframe tbody tr th:only-of-type {\n",
       "        vertical-align: middle;\n",
       "    }\n",
       "\n",
       "    .dataframe tbody tr th {\n",
       "        vertical-align: top;\n",
       "    }\n",
       "\n",
       "    .dataframe thead th {\n",
       "        text-align: right;\n",
       "    }\n",
       "</style>\n",
       "<table border=\"1\" class=\"dataframe\">\n",
       "  <thead>\n",
       "    <tr style=\"text-align: right;\">\n",
       "      <th></th>\n",
       "      <th>Unnamed: 0</th>\n",
       "      <th>Usuario</th>\n",
       "      <th>Orgulho &amp; Preconceito</th>\n",
       "      <th>O Senhor dos anéis</th>\n",
       "      <th>De volta para o futuro</th>\n",
       "    </tr>\n",
       "  </thead>\n",
       "  <tbody>\n",
       "    <tr>\n",
       "      <th>0</th>\n",
       "      <td>0</td>\n",
       "      <td>Izabela</td>\n",
       "      <td>5.0</td>\n",
       "      <td>5.0</td>\n",
       "      <td>5</td>\n",
       "    </tr>\n",
       "    <tr>\n",
       "      <th>1</th>\n",
       "      <td>1</td>\n",
       "      <td>Thais</td>\n",
       "      <td>5.0</td>\n",
       "      <td>5.0</td>\n",
       "      <td>5</td>\n",
       "    </tr>\n",
       "    <tr>\n",
       "      <th>2</th>\n",
       "      <td>2</td>\n",
       "      <td>Lorena</td>\n",
       "      <td>4.0</td>\n",
       "      <td>2.0</td>\n",
       "      <td>2</td>\n",
       "    </tr>\n",
       "    <tr>\n",
       "      <th>3</th>\n",
       "      <td>4</td>\n",
       "      <td>Uliane</td>\n",
       "      <td>2.0</td>\n",
       "      <td>3.0</td>\n",
       "      <td>1</td>\n",
       "    </tr>\n",
       "    <tr>\n",
       "      <th>4</th>\n",
       "      <td>5</td>\n",
       "      <td>Isis</td>\n",
       "      <td>5.0</td>\n",
       "      <td>5.0</td>\n",
       "      <td>5</td>\n",
       "    </tr>\n",
       "    <tr>\n",
       "      <th>5</th>\n",
       "      <td>6</td>\n",
       "      <td>Marcos</td>\n",
       "      <td>1.0</td>\n",
       "      <td>2.0</td>\n",
       "      <td>4</td>\n",
       "    </tr>\n",
       "  </tbody>\n",
       "</table>\n",
       "</div>"
      ],
      "text/plain": [
       "   Unnamed: 0  Usuario  Orgulho & Preconceito  O Senhor dos anéis  \\\n",
       "0           0  Izabela                    5.0                 5.0   \n",
       "1           1    Thais                    5.0                 5.0   \n",
       "2           2   Lorena                    4.0                 2.0   \n",
       "3           4   Uliane                    2.0                 3.0   \n",
       "4           5     Isis                    5.0                 5.0   \n",
       "5           6   Marcos                    1.0                 2.0   \n",
       "\n",
       "   De volta para o futuro  \n",
       "0                       5  \n",
       "1                       5  \n",
       "2                       2  \n",
       "3                       1  \n",
       "4                       5  \n",
       "5                       4  "
      ]
     },
     "execution_count": 102,
     "metadata": {},
     "output_type": "execute_result"
    }
   ],
   "source": [
    "movie_rating_uli = movie_rating.drop(['Velozes e Furiosos', \n",
    "                                      'Star Wars'],\n",
    "                                     axis = 1\n",
    "                                    ).dropna()\n",
    "movie_rating_uli.reset_index(drop = True)"
   ]
  },
  {
   "cell_type": "code",
   "execution_count": 103,
   "metadata": {
    "ExecuteTime": {
     "end_time": "2019-06-18T21:45:39.032361Z",
     "start_time": "2019-06-18T21:45:38.817424Z"
    }
   },
   "outputs": [
    {
     "data": {
      "image/png": "[encoded data removed]",
      "text/plain": [
       "<Figure size 432x288 with 1 Axes>"
      ]
     },
     "metadata": {
      "needs_background": "light"
     },
     "output_type": "display_data"
    }
   ],
   "source": [
    "x_uli = movie_rating_uli['Orgulho & Preconceito']\n",
    "y_uli = movie_rating_uli['O Senhor dos anéis']\n",
    "\n",
    "plt.xlabel(\"Orgulho & Preconceito\",\n",
    "           fontsize = 15\n",
    "          )\n",
    "plt.ylabel(\"O Senhor dos anéis\",\n",
    "           fontsize = 15\n",
    "          )\n",
    "# plot grafico de dispersao\n",
    "plt.scatter(x_uli, y_uli);"
   ]
  },
  {
   "cell_type": "markdown",
   "metadata": {},
   "source": [
    "#### Podemos plotar os nomes dos usuários como rótulos no gráfico."
   ]
  },
  {
   "cell_type": "code",
   "execution_count": 104,
   "metadata": {},
   "outputs": [
    {
     "data": {
      "text/plain": [
       "0    Text(5.0, 5.0, 'Izabela')\n",
       "1      Text(5.0, 5.0, 'Thais')\n",
       "2     Text(4.0, 2.0, 'Lorena')\n",
       "4     Text(2.0, 3.0, 'Uliane')\n",
       "5       Text(5.0, 5.0, 'Isis')\n",
       "6     Text(1.0, 2.0, 'Marcos')\n",
       "dtype: object"
      ]
     },
     "execution_count": 104,
     "metadata": {},
     "output_type": "execute_result"
    },
    {
     "data": {
      "image/png": "[encoded data removed]",
      "text/plain": [
       "<Figure size 720x720 with 1 Axes>"
      ]
     },
     "metadata": {
      "needs_background": "light"
     },
     "output_type": "display_data"
    }
   ],
   "source": [
    "ax = movie_rating_uli.plot(x = 'Orgulho & Preconceito',\n",
    "             y = 'O Senhor dos anéis',\n",
    "             kind = 'scatter', \n",
    "             figsize = (10, 10)\n",
    "            )\n",
    "movie_rating_uli[['Orgulho & Preconceito', \n",
    "                      'O Senhor dos anéis', \n",
    "                      'Usuario']\n",
    "                    ].apply(lambda x: ax.text(* x ),\n",
    "                            axis = 1\n",
    "                           )"
   ]
  },
  {
   "cell_type": "code",
   "execution_count": 105,
   "metadata": {
    "ExecuteTime": {
     "end_time": "2019-06-18T21:45:41.877626Z",
     "start_time": "2019-06-18T21:45:41.871643Z"
    }
   },
   "outputs": [
    {
     "data": {
      "text/plain": [
       "array([[0., 5., 5., 5.],\n",
       "       [1., 5., 5., 5.],\n",
       "       [2., 4., 2., 2.],\n",
       "       [4., 2., 3., 1.],\n",
       "       [5., 5., 5., 5.],\n",
       "       [6., 1., 2., 4.]])"
      ]
     },
     "execution_count": 105,
     "metadata": {},
     "output_type": "execute_result"
    }
   ],
   "source": [
    "dataset_visual_uli = movie_rating_uli.drop(['Usuario'],\n",
    "                                           axis = 1 \n",
    "                                          ).values\n",
    "dataset_visual_uli"
   ]
  },
  {
   "cell_type": "code",
   "execution_count": 106,
   "metadata": {
    "ExecuteTime": {
     "end_time": "2019-06-18T21:45:43.841969Z",
     "start_time": "2019-06-18T21:45:43.703327Z"
    }
   },
   "outputs": [
    {
     "data": {
      "image/png": "[encoded data removed]",
      "text/plain": [
       "<Figure size 576x432 with 1 Axes>"
      ]
     },
     "metadata": {
      "needs_background": "light"
     },
     "output_type": "display_data"
    }
   ],
   "source": [
    "fig = plt.figure(2,figsize = (8, 6))\n",
    "ax = fig.add_subplot(111, \n",
    "                     projection = '3d'\n",
    "                    )\n",
    "\n",
    "x = movie_rating_uli['Orgulho & Preconceito'].tolist()\n",
    "y = movie_rating_uli['O Senhor dos anéis'].tolist()\n",
    "z = movie_rating_uli['De volta para o futuro'].tolist()\n",
    "\n",
    "ax.scatter(x, y, z, \n",
    "           c = 'r', \n",
    "           marker = 'o'\n",
    "          )\n",
    "ax.set_xlabel('Orgulho & Preconceito')\n",
    "ax.set_ylabel('O Senhor dos anéis')\n",
    "ax.set_zlabel('De volta para o futuro')\n",
    "\n",
    "plt.show()"
   ]
  },
  {
   "cell_type": "markdown",
   "metadata": {},
   "source": [
    "#### Através desse gráfico de dispersão, podemos ver como cada usuário se comporta para os dois filmes selecionados. Podemos ver que `Izabela`, `Thais` e `Isis` tiveram exatamente a mesma nota pros dois filmes. Lorena aparentemente ficou mais próxima de `Izabela`, `Isis` e `Thais`. Os `'Usuários'` `Leandro` e `Marcos` mais à esquerta e `Uliane`. "
   ]
  },
  {
   "cell_type": "code",
   "execution_count": 109,
   "metadata": {},
   "outputs": [],
   "source": [
    "#movie_rating.values"
   ]
  },
  {
   "cell_type": "markdown",
   "metadata": {},
   "source": [
    "#### Calculando então a distância euclidiana entre esses pontos temos: "
   ]
  },
  {
   "cell_type": "code",
   "execution_count": 110,
   "metadata": {
    "ExecuteTime": {
     "end_time": "2019-06-18T21:45:46.235236Z",
     "start_time": "2019-06-18T21:45:46.226257Z"
    }
   },
   "outputs": [
    {
     "data": {
      "text/html": [
       "<div>\n",
       "<style scoped>\n",
       "    .dataframe tbody tr th:only-of-type {\n",
       "        vertical-align: middle;\n",
       "    }\n",
       "\n",
       "    .dataframe tbody tr th {\n",
       "        vertical-align: top;\n",
       "    }\n",
       "\n",
       "    .dataframe thead th {\n",
       "        text-align: right;\n",
       "    }\n",
       "</style>\n",
       "<table border=\"1\" class=\"dataframe\">\n",
       "  <thead>\n",
       "    <tr style=\"text-align: right;\">\n",
       "      <th></th>\n",
       "      <th>0</th>\n",
       "      <th>1</th>\n",
       "      <th>2</th>\n",
       "      <th>3</th>\n",
       "    </tr>\n",
       "  </thead>\n",
       "  <tbody>\n",
       "    <tr>\n",
       "      <th>0</th>\n",
       "      <td>9.055385</td>\n",
       "      <td>5.099020</td>\n",
       "      <td>4.690416</td>\n",
       "      <td>5.099020</td>\n",
       "    </tr>\n",
       "    <tr>\n",
       "      <th>1</th>\n",
       "      <td>7.211103</td>\n",
       "      <td>5.099020</td>\n",
       "      <td>4.690416</td>\n",
       "      <td>5.099020</td>\n",
       "    </tr>\n",
       "    <tr>\n",
       "      <th>2</th>\n",
       "      <td>5.830952</td>\n",
       "      <td>4.000000</td>\n",
       "      <td>5.291503</td>\n",
       "      <td>5.656854</td>\n",
       "    </tr>\n",
       "    <tr>\n",
       "      <th>3</th>\n",
       "      <td>5.830952</td>\n",
       "      <td>5.656854</td>\n",
       "      <td>3.741657</td>\n",
       "      <td>7.615773</td>\n",
       "    </tr>\n",
       "    <tr>\n",
       "      <th>4</th>\n",
       "      <td>7.211103</td>\n",
       "      <td>5.099020</td>\n",
       "      <td>4.690416</td>\n",
       "      <td>5.099020</td>\n",
       "    </tr>\n",
       "    <tr>\n",
       "      <th>5</th>\n",
       "      <td>9.055385</td>\n",
       "      <td>7.615773</td>\n",
       "      <td>5.291503</td>\n",
       "      <td>4.000000</td>\n",
       "    </tr>\n",
       "  </tbody>\n",
       "</table>\n",
       "</div>"
      ],
      "text/plain": [
       "          0         1         2         3\n",
       "0  9.055385  5.099020  4.690416  5.099020\n",
       "1  7.211103  5.099020  4.690416  5.099020\n",
       "2  5.830952  4.000000  5.291503  5.656854\n",
       "3  5.830952  5.656854  3.741657  7.615773\n",
       "4  7.211103  5.099020  4.690416  5.099020\n",
       "5  9.055385  7.615773  5.291503  4.000000"
      ]
     },
     "execution_count": 110,
     "metadata": {},
     "output_type": "execute_result"
    }
   ],
   "source": [
    "pd.DataFrame(np.linalg.norm(dataset_visual_uli - dataset_visual_uli[ : , None],\n",
    "                            ord = None,\n",
    "                            axis = 1\n",
    "                           )\n",
    "            )"
   ]
  },
  {
   "cell_type": "markdown",
   "metadata": {},
   "source": [
    "- **0**: Izabela\n",
    "- **1**: Thais\n",
    "- **2**: Lorena\n",
    "- **3**: Uliane\n",
    "- **4**: Isis\n",
    "- **5**: Marcos"
   ]
  },
  {
   "cell_type": "markdown",
   "metadata": {},
   "source": [
    "#### Obsesrvando a tabela de distâncias acima, verificamos que `Uliane` $(3)$ tem um perfil mais próximo de `Lorena` $(2)$. Dessa forma, poderíamos indicar para `Uliane` o filme `Velozes e Furiosos`, sendo este o filme que `Lorena` mais gostou dos que `Uliane` ainda não viu."
   ]
  },
  {
   "cell_type": "markdown",
   "metadata": {},
   "source": [
    "#### Uma boa opção também é atribuir pesos aos usuários mais próximos ou seu usuário de interesse para tornar essas recomendações mais efetivas."
   ]
  },
  {
   "cell_type": "markdown",
   "metadata": {},
   "source": [
    "## Automatizando a etapa anterior"
   ]
  },
  {
   "cell_type": "markdown",
   "metadata": {},
   "source": [
    "### Mostrando a parte prática passo a passo"
   ]
  },
  {
   "cell_type": "markdown",
   "metadata": {},
   "source": [
    "#### Vamos apresentar aqui uma opção de como transformar o que foi feito anteriormente em uma função para podermos recomendar filmes para todos os clientes que tenham filmes não vistos. \n",
    "\n",
    "#### Nessa caso, vamos indicar o filme com maior nota do usuário com perfil mais próximo ao daquele cliente para o qual queremos indicar um filme. \n",
    "\n",
    "#### A principal função do desenvolvimento que vamos fazer aqui é conseguir verificar cada passo da função que queremos criar para podermos validar os resultados que serão gerados. "
   ]
  },
  {
   "cell_type": "markdown",
   "metadata": {},
   "source": [
    "#### Primeiramente, vamos identificar quais são os clientes da base que possuem filmes não vistos:"
   ]
  },
  {
   "cell_type": "code",
   "execution_count": 134,
   "metadata": {},
   "outputs": [],
   "source": [
    "#movie_rating.set_index(['Usuario']).transpose().isna().sum()\n",
    "#pd.DataFrame(movie_rating.set_index(['Usuario']).transpose().isna().sum()).reset_index()\n",
    "#empty_movies[0]# != 0"
   ]
  },
  {
   "cell_type": "code",
   "execution_count": 132,
   "metadata": {
    "ExecuteTime": {
     "end_time": "2019-06-18T21:45:48.595994Z",
     "start_time": "2019-06-18T21:45:48.589014Z"
    }
   },
   "outputs": [],
   "source": [
    "#Identificando clientes que possuem filmes não vistos\n",
    "empty_movies = pd.DataFrame(movie_rating.set_index(['Usuario']\n",
    "                                                  ).transpose().isna().sum()\n",
    "                           ).reset_index()\n",
    "\n",
    "empty_movies = empty_movies[empty_movies[0] != 0 ]['Usuario'].tolist()"
   ]
  },
  {
   "cell_type": "code",
   "execution_count": 135,
   "metadata": {
    "ExecuteTime": {
     "end_time": "2019-06-18T21:45:50.322090Z",
     "start_time": "2019-06-18T21:45:50.318101Z"
    }
   },
   "outputs": [
    {
     "data": {
      "text/plain": [
       "['Leandro', 'Uliane']"
      ]
     },
     "execution_count": 135,
     "metadata": {},
     "output_type": "execute_result"
    }
   ],
   "source": [
    "empty_movies"
   ]
  },
  {
   "cell_type": "markdown",
   "metadata": {},
   "source": [
    "#### Agora vamos criar uma tabela vazia para podermos colocar os resultados que queremos ver como resultado da função:"
   ]
  },
  {
   "cell_type": "code",
   "execution_count": 137,
   "metadata": {
    "ExecuteTime": {
     "end_time": "2019-06-19T02:12:03.179586Z",
     "start_time": "2019-06-19T02:12:03.168616Z"
    }
   },
   "outputs": [
    {
     "data": {
      "text/html": [
       "<div>\n",
       "<style scoped>\n",
       "    .dataframe tbody tr th:only-of-type {\n",
       "        vertical-align: middle;\n",
       "    }\n",
       "\n",
       "    .dataframe tbody tr th {\n",
       "        vertical-align: top;\n",
       "    }\n",
       "\n",
       "    .dataframe thead th {\n",
       "        text-align: right;\n",
       "    }\n",
       "</style>\n",
       "<table border=\"1\" class=\"dataframe\">\n",
       "  <thead>\n",
       "    <tr style=\"text-align: right;\">\n",
       "      <th></th>\n",
       "      <th>usuario_de_interesse</th>\n",
       "      <th>usuario_com_perfil_mais_proximo</th>\n",
       "      <th>filme_recomendado</th>\n",
       "    </tr>\n",
       "  </thead>\n",
       "  <tbody>\n",
       "  </tbody>\n",
       "</table>\n",
       "</div>"
      ],
      "text/plain": [
       "Empty DataFrame\n",
       "Columns: [usuario_de_interesse, usuario_com_perfil_mais_proximo, filme_recomendado]\n",
       "Index: []"
      ]
     },
     "execution_count": 137,
     "metadata": {},
     "output_type": "execute_result"
    }
   ],
   "source": [
    "df_result = pd.DataFrame(columns = ['usuario_de_interesse', \n",
    "                                    'usuario_com_perfil_mais_proximo', \n",
    "                                    'filme_recomendado'\n",
    "                                   ]\n",
    "                        )\n",
    "df_result"
   ]
  },
  {
   "cell_type": "markdown",
   "metadata": {},
   "source": [
    "#### Fazendo manualmente a primeira iteração da nossa função, vamos escolher então o primeiro usuáro da nossa lista e usuários que possuem filmes não vistos, que para esse caso será `Leandro`."
   ]
  },
  {
   "cell_type": "code",
   "execution_count": 138,
   "metadata": {
    "ExecuteTime": {
     "end_time": "2019-06-18T21:45:52.751693Z",
     "start_time": "2019-06-18T21:45:52.748679Z"
    }
   },
   "outputs": [],
   "source": [
    "user = empty_movies[0]"
   ]
  },
  {
   "cell_type": "code",
   "execution_count": 139,
   "metadata": {
    "ExecuteTime": {
     "end_time": "2019-06-18T21:45:54.529545Z",
     "start_time": "2019-06-18T21:45:54.525516Z"
    }
   },
   "outputs": [
    {
     "data": {
      "text/plain": [
       "'Leandro'"
      ]
     },
     "execution_count": 139,
     "metadata": {},
     "output_type": "execute_result"
    }
   ],
   "source": [
    "user"
   ]
  },
  {
   "cell_type": "code",
   "execution_count": 142,
   "metadata": {},
   "outputs": [
    {
     "data": {
      "text/html": [
       "<div>\n",
       "<style scoped>\n",
       "    .dataframe tbody tr th:only-of-type {\n",
       "        vertical-align: middle;\n",
       "    }\n",
       "\n",
       "    .dataframe tbody tr th {\n",
       "        vertical-align: top;\n",
       "    }\n",
       "\n",
       "    .dataframe thead th {\n",
       "        text-align: right;\n",
       "    }\n",
       "</style>\n",
       "<table border=\"1\" class=\"dataframe\">\n",
       "  <thead>\n",
       "    <tr style=\"text-align: right;\">\n",
       "      <th></th>\n",
       "      <th>Unnamed: 0</th>\n",
       "      <th>Usuario</th>\n",
       "      <th>Orgulho &amp; Preconceito</th>\n",
       "      <th>Velozes e Furiosos</th>\n",
       "      <th>O Senhor dos anéis</th>\n",
       "      <th>Star Wars</th>\n",
       "      <th>De volta para o futuro</th>\n",
       "    </tr>\n",
       "  </thead>\n",
       "  <tbody>\n",
       "    <tr>\n",
       "      <th>0</th>\n",
       "      <td>0</td>\n",
       "      <td>Izabela</td>\n",
       "      <td>5.0</td>\n",
       "      <td>1.0</td>\n",
       "      <td>5.0</td>\n",
       "      <td>3.0</td>\n",
       "      <td>5</td>\n",
       "    </tr>\n",
       "    <tr>\n",
       "      <th>1</th>\n",
       "      <td>1</td>\n",
       "      <td>Thais</td>\n",
       "      <td>5.0</td>\n",
       "      <td>1.0</td>\n",
       "      <td>5.0</td>\n",
       "      <td>5.0</td>\n",
       "      <td>5</td>\n",
       "    </tr>\n",
       "    <tr>\n",
       "      <th>2</th>\n",
       "      <td>2</td>\n",
       "      <td>Lorena</td>\n",
       "      <td>4.0</td>\n",
       "      <td>3.0</td>\n",
       "      <td>2.0</td>\n",
       "      <td>1.0</td>\n",
       "      <td>2</td>\n",
       "    </tr>\n",
       "    <tr>\n",
       "      <th>3</th>\n",
       "      <td>3</td>\n",
       "      <td>Leandro</td>\n",
       "      <td>NaN</td>\n",
       "      <td>5.0</td>\n",
       "      <td>NaN</td>\n",
       "      <td>2.0</td>\n",
       "      <td>4</td>\n",
       "    </tr>\n",
       "    <tr>\n",
       "      <th>4</th>\n",
       "      <td>4</td>\n",
       "      <td>Uliane</td>\n",
       "      <td>2.0</td>\n",
       "      <td>NaN</td>\n",
       "      <td>3.0</td>\n",
       "      <td>NaN</td>\n",
       "      <td>1</td>\n",
       "    </tr>\n",
       "    <tr>\n",
       "      <th>5</th>\n",
       "      <td>5</td>\n",
       "      <td>Isis</td>\n",
       "      <td>5.0</td>\n",
       "      <td>1.0</td>\n",
       "      <td>5.0</td>\n",
       "      <td>5.0</td>\n",
       "      <td>5</td>\n",
       "    </tr>\n",
       "    <tr>\n",
       "      <th>6</th>\n",
       "      <td>6</td>\n",
       "      <td>Marcos</td>\n",
       "      <td>1.0</td>\n",
       "      <td>3.0</td>\n",
       "      <td>2.0</td>\n",
       "      <td>5.0</td>\n",
       "      <td>4</td>\n",
       "    </tr>\n",
       "  </tbody>\n",
       "</table>\n",
       "</div>"
      ],
      "text/plain": [
       "   Unnamed: 0  Usuario  Orgulho & Preconceito  Velozes e Furiosos  \\\n",
       "0           0  Izabela                    5.0                 1.0   \n",
       "1           1    Thais                    5.0                 1.0   \n",
       "2           2   Lorena                    4.0                 3.0   \n",
       "3           3  Leandro                    NaN                 5.0   \n",
       "4           4   Uliane                    2.0                 NaN   \n",
       "5           5     Isis                    5.0                 1.0   \n",
       "6           6   Marcos                    1.0                 3.0   \n",
       "\n",
       "   O Senhor dos anéis  Star Wars  De volta para o futuro  \n",
       "0                 5.0        3.0                       5  \n",
       "1                 5.0        5.0                       5  \n",
       "2                 2.0        1.0                       2  \n",
       "3                 NaN        2.0                       4  \n",
       "4                 3.0        NaN                       1  \n",
       "5                 5.0        5.0                       5  \n",
       "6                 2.0        5.0                       4  "
      ]
     },
     "execution_count": 142,
     "metadata": {},
     "output_type": "execute_result"
    }
   ],
   "source": [
    "movie_rating"
   ]
  },
  {
   "cell_type": "markdown",
   "metadata": {},
   "source": [
    "#### Agora vamos filtrar os filmes que o nosso usuário dessa iteração, `Leandro`, já viu para podermos comparar seu perfil com o das pessoas pessoas que viram os mesmos filmes:"
   ]
  },
  {
   "cell_type": "code",
   "execution_count": 143,
   "metadata": {
    "ExecuteTime": {
     "end_time": "2019-06-18T21:45:55.443025Z",
     "start_time": "2019-06-18T21:45:55.436043Z"
    }
   },
   "outputs": [],
   "source": [
    "filmes_vistos = movie_rating.loc[movie_rating['Usuario'] == user].dropna(axis = 1).drop(['Usuario'], \n",
    "                                                                                        axis = 1\n",
    "                                                                                       ).keys().tolist()"
   ]
  },
  {
   "cell_type": "code",
   "execution_count": 144,
   "metadata": {
    "ExecuteTime": {
     "end_time": "2019-06-18T21:45:57.118108Z",
     "start_time": "2019-06-18T21:45:57.114120Z"
    }
   },
   "outputs": [
    {
     "data": {
      "text/plain": [
       "['Unnamed: 0', 'Velozes e Furiosos', 'Star Wars', 'De volta para o futuro']"
      ]
     },
     "execution_count": 144,
     "metadata": {},
     "output_type": "execute_result"
    }
   ],
   "source": [
    "filmes_vistos"
   ]
  },
  {
   "cell_type": "markdown",
   "metadata": {},
   "source": [
    "#### Agora vamos encontrar os filmes não vistos do nosso usuário, ou seja, os filmes que poderemos indicar pra ele:"
   ]
  },
  {
   "cell_type": "code",
   "execution_count": 145,
   "metadata": {
    "ExecuteTime": {
     "end_time": "2019-06-18T21:46:15.622756Z",
     "start_time": "2019-06-18T21:46:15.619762Z"
    }
   },
   "outputs": [],
   "source": [
    "filmes_nao_vistos = list(set(movie_rating) - set(filmes_vistos))"
   ]
  },
  {
   "cell_type": "code",
   "execution_count": 146,
   "metadata": {
    "ExecuteTime": {
     "end_time": "2019-06-18T21:46:16.131133Z",
     "start_time": "2019-06-18T21:46:16.127102Z"
    }
   },
   "outputs": [
    {
     "data": {
      "text/plain": [
       "['Orgulho & Preconceito', 'Usuario', 'O Senhor dos anéis']"
      ]
     },
     "execution_count": 146,
     "metadata": {},
     "output_type": "execute_result"
    }
   ],
   "source": [
    "filmes_nao_vistos"
   ]
  },
  {
   "cell_type": "markdown",
   "metadata": {},
   "source": [
    "#### Observem que nesse caso temos a coluna `'Usuario'` também, mas ela está aí apenas para facilitar algumas partes do desenvolvimento. \n",
    "\n",
    "#### Os nossos filmes que iremos verificar se vale a pena ou não indicar para o nosso usuário são `Orgulho & Preconceito` ou `O Senhor dos anéis`. Nesse caso vamos indicar apenas um filme, ou seja, aquele que tiver a maior avaliação do usuário que possui o perfil mais próximo daquele que queremos enviar indicações. "
   ]
  },
  {
   "cell_type": "code",
   "execution_count": 147,
   "metadata": {
    "ExecuteTime": {
     "end_time": "2019-06-18T21:46:16.544028Z",
     "start_time": "2019-06-18T21:46:16.539041Z"
    }
   },
   "outputs": [
    {
     "data": {
      "text/plain": [
       "['Unnamed: 0',\n",
       " 'Velozes e Furiosos',\n",
       " 'Star Wars',\n",
       " 'De volta para o futuro',\n",
       " 'Usuario']"
      ]
     },
     "execution_count": 147,
     "metadata": {},
     "output_type": "execute_result"
    }
   ],
   "source": [
    "filmes_vistos.append('Usuario')\n",
    "filmes_vistos"
   ]
  },
  {
   "cell_type": "code",
   "execution_count": 148,
   "metadata": {
    "ExecuteTime": {
     "end_time": "2019-06-18T21:46:21.186699Z",
     "start_time": "2019-06-18T21:46:21.180705Z"
    }
   },
   "outputs": [
    {
     "data": {
      "text/plain": [
       "['Izabela', 'Thais', 'Lorena', 'Leandro', 'Isis', 'Marcos']"
      ]
     },
     "execution_count": 148,
     "metadata": {},
     "output_type": "execute_result"
    }
   ],
   "source": [
    "users = movie_rating[filmes_vistos].dropna()['Usuario'].tolist()\n",
    "users"
   ]
  },
  {
   "cell_type": "markdown",
   "metadata": {},
   "source": [
    "#### Abaixo, transformamos a nossa tabela de notas dos filmes em um `numpy array` multidimensional para usarmos ele na função [`numpy.linalg.norm()`](https://numpy.org/doc/stable/reference/generated/numpy.linalg.norm.html) que irá nos trazer as distâncias euclidinas, ou seja, o quão próximo os usuários estão uns dos outros. "
   ]
  },
  {
   "cell_type": "code",
   "execution_count": 149,
   "metadata": {
    "ExecuteTime": {
     "end_time": "2019-06-18T21:46:23.102198Z",
     "start_time": "2019-06-18T21:46:23.091267Z"
    }
   },
   "outputs": [
    {
     "data": {
      "text/plain": [
       "array([[0., 1., 3., 5.],\n",
       "       [1., 1., 5., 5.],\n",
       "       [2., 3., 1., 2.],\n",
       "       [3., 5., 2., 4.],\n",
       "       [5., 1., 5., 5.],\n",
       "       [6., 3., 5., 4.]])"
      ]
     },
     "execution_count": 149,
     "metadata": {},
     "output_type": "execute_result"
    }
   ],
   "source": [
    "dataset_values = movie_rating[filmes_vistos].dropna().drop(['Usuario'], \n",
    "                                                           axis = 1\n",
    "                                                          ).values\n",
    "dataset_values"
   ]
  },
  {
   "cell_type": "code",
   "execution_count": 150,
   "metadata": {
    "ExecuteTime": {
     "end_time": "2019-06-18T21:46:25.203244Z",
     "start_time": "2019-06-18T21:46:25.199250Z"
    }
   },
   "outputs": [
    {
     "data": {
      "text/plain": [
       "3"
      ]
     },
     "execution_count": 150,
     "metadata": {},
     "output_type": "execute_result"
    }
   ],
   "source": [
    "users.index(user)"
   ]
  },
  {
   "cell_type": "markdown",
   "metadata": {},
   "source": [
    "#### Apenas para visualizarmos, abaixo trazemoz as distâncias calculadas entre o usuario de interesse, que possui índice $3$ e por isso o índice $3$ não aparece abaixo, e os demais usuários. \n",
    "\n",
    "#### As manipulações feitas na célula imediatamente seguinte à célula abaixo foram feitas para encontrarmos o índice do usuário mais próximo do usuário em questão, ou seja, o que possui menor distância."
   ]
  },
  {
   "cell_type": "code",
   "execution_count": 152,
   "metadata": {
    "ExecuteTime": {
     "end_time": "2019-06-18T21:46:25.796695Z",
     "start_time": "2019-06-18T21:46:25.786684Z"
    }
   },
   "outputs": [
    {
     "data": {
      "text/plain": [
       "0    5.196152\n",
       "1    5.477226\n",
       "2    3.162278\n",
       "4    5.477226\n",
       "5    4.690416\n",
       "Name: 3, dtype: float64"
      ]
     },
     "execution_count": 152,
     "metadata": {},
     "output_type": "execute_result"
    }
   ],
   "source": [
    "pd.DataFrame(np.linalg.norm(dataset_values - dataset_values[ : , None], \n",
    "                            axis = -1\n",
    "                           )\n",
    "            )[users.index(user)].drop([users.index(user)],\n",
    "                                      axis = 0\n",
    "                                     )"
   ]
  },
  {
   "cell_type": "code",
   "execution_count": 153,
   "metadata": {
    "ExecuteTime": {
     "end_time": "2019-06-18T21:46:30.963954Z",
     "start_time": "2019-06-18T21:46:30.958969Z"
    }
   },
   "outputs": [],
   "source": [
    "min_dist_index = pd.DataFrame(np.linalg.norm(dataset_values - dataset_values[ : , None], \n",
    "                                             axis = -1\n",
    "                                            )\n",
    "                             )[users.index(user)].drop([users.index(user)], \n",
    "                                                       axis = 0\n",
    "                                                      ).idxmin() "
   ]
  },
  {
   "cell_type": "code",
   "execution_count": 154,
   "metadata": {
    "ExecuteTime": {
     "end_time": "2019-06-19T01:57:04.309880Z",
     "start_time": "2019-06-19T01:57:04.286943Z"
    }
   },
   "outputs": [
    {
     "data": {
      "text/plain": [
       "2"
      ]
     },
     "execution_count": 154,
     "metadata": {},
     "output_type": "execute_result"
    }
   ],
   "source": [
    "min_dist_index"
   ]
  },
  {
   "cell_type": "code",
   "execution_count": 155,
   "metadata": {
    "ExecuteTime": {
     "end_time": "2019-06-19T02:04:46.891862Z",
     "start_time": "2019-06-19T02:04:46.887857Z"
    }
   },
   "outputs": [
    {
     "data": {
      "text/plain": [
       "['Izabela', 'Thais', 'Lorena', 'Leandro', 'Isis', 'Marcos']"
      ]
     },
     "execution_count": 155,
     "metadata": {},
     "output_type": "execute_result"
    }
   ],
   "source": [
    "users"
   ]
  },
  {
   "cell_type": "code",
   "execution_count": 156,
   "metadata": {
    "ExecuteTime": {
     "end_time": "2019-06-18T21:46:38.024185Z",
     "start_time": "2019-06-18T21:46:38.020182Z"
    }
   },
   "outputs": [
    {
     "data": {
      "text/plain": [
       "'Lorena'"
      ]
     },
     "execution_count": 156,
     "metadata": {},
     "output_type": "execute_result"
    }
   ],
   "source": [
    "users[min_dist_index]"
   ]
  },
  {
   "cell_type": "markdown",
   "metadata": {},
   "source": [
    "#### Acima, vimos que o índice encontrado foi referente à usuária `Lorena`. Observe que a lista `users` possui apenas os usuários da tabela resultando para `Leandro`, ou seja, para esse caso não existe a usuária `Uliane`. \n",
    "\n",
    "#### Abaixo filtramos na tabela original os filmes não vistos de `Leandro` que foram avaliados por `Lorena`."
   ]
  },
  {
   "cell_type": "code",
   "execution_count": 157,
   "metadata": {
    "ExecuteTime": {
     "end_time": "2019-06-18T21:46:38.918795Z",
     "start_time": "2019-06-18T21:46:38.914763Z"
    }
   },
   "outputs": [],
   "source": [
    "filmes_nao_vistos.append('Usuario')"
   ]
  },
  {
   "cell_type": "code",
   "execution_count": 158,
   "metadata": {
    "ExecuteTime": {
     "end_time": "2019-06-18T21:46:39.890644Z",
     "start_time": "2019-06-18T21:46:39.886646Z"
    }
   },
   "outputs": [
    {
     "data": {
      "text/plain": [
       "['Orgulho & Preconceito', 'Usuario', 'O Senhor dos anéis', 'Usuario']"
      ]
     },
     "execution_count": 158,
     "metadata": {},
     "output_type": "execute_result"
    }
   ],
   "source": [
    "filmes_nao_vistos"
   ]
  },
  {
   "cell_type": "code",
   "execution_count": 159,
   "metadata": {
    "ExecuteTime": {
     "end_time": "2019-06-18T21:46:40.596399Z",
     "start_time": "2019-06-18T21:46:40.587384Z"
    }
   },
   "outputs": [
    {
     "data": {
      "text/html": [
       "<div>\n",
       "<style scoped>\n",
       "    .dataframe tbody tr th:only-of-type {\n",
       "        vertical-align: middle;\n",
       "    }\n",
       "\n",
       "    .dataframe tbody tr th {\n",
       "        vertical-align: top;\n",
       "    }\n",
       "\n",
       "    .dataframe thead th {\n",
       "        text-align: right;\n",
       "    }\n",
       "</style>\n",
       "<table border=\"1\" class=\"dataframe\">\n",
       "  <thead>\n",
       "    <tr style=\"text-align: right;\">\n",
       "      <th></th>\n",
       "      <th>Orgulho &amp; Preconceito</th>\n",
       "      <th>Usuario</th>\n",
       "      <th>O Senhor dos anéis</th>\n",
       "      <th>Usuario</th>\n",
       "    </tr>\n",
       "  </thead>\n",
       "  <tbody>\n",
       "    <tr>\n",
       "      <th>2</th>\n",
       "      <td>4.0</td>\n",
       "      <td>Lorena</td>\n",
       "      <td>2.0</td>\n",
       "      <td>Lorena</td>\n",
       "    </tr>\n",
       "  </tbody>\n",
       "</table>\n",
       "</div>"
      ],
      "text/plain": [
       "   Orgulho & Preconceito Usuario  O Senhor dos anéis Usuario\n",
       "2                    4.0  Lorena                 2.0  Lorena"
      ]
     },
     "execution_count": 159,
     "metadata": {},
     "output_type": "execute_result"
    }
   ],
   "source": [
    "movie_rating[filmes_nao_vistos].loc[(movie_rating['Usuario'] == users[min_dist_index])]"
   ]
  },
  {
   "cell_type": "markdown",
   "metadata": {},
   "source": [
    "#### Observando a tabela acima, vemos que o filme melhor avaliado por `Lorena` foi `Orgulho & Preconceito` e que por isso, para esse caso, será o filme que vamos indicar para `Leandro`. "
   ]
  },
  {
   "cell_type": "code",
   "execution_count": 161,
   "metadata": {
    "ExecuteTime": {
     "end_time": "2019-06-18T21:46:41.127347Z",
     "start_time": "2019-06-18T21:46:41.117375Z"
    }
   },
   "outputs": [],
   "source": [
    "filme_recomendado = max(movie_rating[filmes_nao_vistos].loc[(movie_rating['Usuario'] == users[min_dist_index])].drop('Usuario', \n",
    "                                                                                                                     axis = 1\n",
    "                                                                                                                    )\n",
    "                       )"
   ]
  },
  {
   "cell_type": "code",
   "execution_count": 162,
   "metadata": {
    "ExecuteTime": {
     "end_time": "2019-06-18T21:46:41.679895Z",
     "start_time": "2019-06-18T21:46:41.673912Z"
    }
   },
   "outputs": [
    {
     "data": {
      "text/plain": [
       "'Orgulho & Preconceito'"
      ]
     },
     "execution_count": 162,
     "metadata": {},
     "output_type": "execute_result"
    }
   ],
   "source": [
    "filme_recomendado"
   ]
  },
  {
   "cell_type": "code",
   "execution_count": 163,
   "metadata": {
    "ExecuteTime": {
     "end_time": "2019-06-19T02:11:33.231715Z",
     "start_time": "2019-06-19T02:11:33.227726Z"
    }
   },
   "outputs": [
    {
     "data": {
      "text/plain": [
       "'Orgulho & Preconceito'"
      ]
     },
     "execution_count": 163,
     "metadata": {},
     "output_type": "execute_result"
    }
   ],
   "source": [
    "filme_recomendado"
   ]
  },
  {
   "cell_type": "code",
   "execution_count": 164,
   "metadata": {
    "ExecuteTime": {
     "end_time": "2019-06-19T02:12:56.219679Z",
     "start_time": "2019-06-19T02:12:56.210697Z"
    }
   },
   "outputs": [
    {
     "data": {
      "text/html": [
       "<div>\n",
       "<style scoped>\n",
       "    .dataframe tbody tr th:only-of-type {\n",
       "        vertical-align: middle;\n",
       "    }\n",
       "\n",
       "    .dataframe tbody tr th {\n",
       "        vertical-align: top;\n",
       "    }\n",
       "\n",
       "    .dataframe thead th {\n",
       "        text-align: right;\n",
       "    }\n",
       "</style>\n",
       "<table border=\"1\" class=\"dataframe\">\n",
       "  <thead>\n",
       "    <tr style=\"text-align: right;\">\n",
       "      <th></th>\n",
       "      <th>usuario_de_interesse</th>\n",
       "      <th>usuario_com_perfil_mais_proximo</th>\n",
       "      <th>filme_recomendado</th>\n",
       "    </tr>\n",
       "  </thead>\n",
       "  <tbody>\n",
       "    <tr>\n",
       "      <th>0</th>\n",
       "      <td>Leandro</td>\n",
       "      <td>Lorena</td>\n",
       "      <td>Orgulho &amp; Preconceito</td>\n",
       "    </tr>\n",
       "  </tbody>\n",
       "</table>\n",
       "</div>"
      ],
      "text/plain": [
       "  usuario_de_interesse usuario_com_perfil_mais_proximo      filme_recomendado\n",
       "0              Leandro                          Lorena  Orgulho & Preconceito"
      ]
     },
     "execution_count": 164,
     "metadata": {},
     "output_type": "execute_result"
    }
   ],
   "source": [
    "df_result = df_result.append({'usuario_de_interesse': user, \n",
    "                              'usuario_com_perfil_mais_proximo': users[min_dist_index], \n",
    "                              'filme_recomendado': filme_recomendado\n",
    "                             }, \n",
    "                             ignore_index = True\n",
    "                            )\n",
    "df_result "
   ]
  },
  {
   "cell_type": "markdown",
   "metadata": {},
   "source": [
    "#### Com a solução calculada, apendemos o resultado na nossa tabela de resultados como mostrado acima. \n",
    "\n",
    "#### Abaixo, temos a função que de fato roda o que fizemos acima, de forma generalizada, para qualquer tamanho de base."
   ]
  },
  {
   "cell_type": "code",
   "execution_count": 166,
   "metadata": {
    "ExecuteTime": {
     "end_time": "2019-06-19T02:16:17.383887Z",
     "start_time": "2019-06-19T02:16:17.375909Z"
    }
   },
   "outputs": [],
   "source": [
    "def recommender(movie_rating):\n",
    "    #Encontrando os usuários que tem filmes não vistos na base\n",
    "    empty_movies = pd.DataFrame(movie_rating.set_index(['Usuario']).transpose().isna().sum()).reset_index()\n",
    "    empty_movies = empty_movies[empty_movies[0] != 0 ]['Usuario'].tolist()\n",
    "    \n",
    "    #Criando um dataframe para inserir os resultados desejados\n",
    "#    df_result = pd.DataFrame(columns=['Usuário de interesse', \n",
    "#                                      'Usuário com perfil mais próximo', \n",
    "#                                      'Filme recomendado'], \n",
    "#                             index = range(len(empty_movies))\n",
    "#                            )\n",
    "    df_result = pd.DataFrame(columns = ['Usuário de interesse', \n",
    "                                        'Usuário com perfil mais próximo', \n",
    "                                        'Filme recomendado'\n",
    "                                       ]\n",
    "                            )\n",
    "    \n",
    "    #Para cada usuário com espaços vazios na base, vamos encontrar o usuário mais próximo\n",
    "    for i,user in enumerate(empty_movies):\n",
    "        \n",
    "        #Filtrando a base para ter apenas os usuários que viram os mesmos filmes do usuário de interesse\n",
    "        filmes_vistos = movie_rating.loc[movie_rating['Usuario'] == user].dropna(axis = 1).drop(['Usuario'],\n",
    "                                                                                                axis = 1\n",
    "                                                                                               ).keys().tolist()\n",
    "        \n",
    "        #Guardando os filmes não vistos para a parte de recomendação\n",
    "        filmes_nao_vistos = list(set(movie_rating) - set(filmes_vistos))\n",
    "        filmes_vistos.append('Usuario')\n",
    "        \n",
    "        #Guardando os usuários que já viram os mesmos filmes do usuário de interesse\n",
    "        users = movie_rating[filmes_vistos].dropna()['Usuario'].tolist()\n",
    "        \n",
    "        #Transformando o dataframe em uma matriz\n",
    "        dataset_values = movie_rating[filmes_vistos].dropna().drop(['Usuario'], \n",
    "                                                                   axis = 1\n",
    "                                                                  ).values\n",
    "        \n",
    "        #Pegando o index do usuário com a menor distância\n",
    "        min_dist_index = pd.DataFrame(np.linalg.norm(dataset_values - dataset_values[ : , None], \n",
    "                                                     axis = -1\n",
    "                                                    )\n",
    "                                     )[users.index(user)].drop([users.index(user)], \n",
    "                                                               axis = 0\n",
    "                                                              ).idxmin()\n",
    "        \n",
    "        #Pegando o filme recomendado\n",
    "        filme_recomendado = max(movie_rating[filmes_nao_vistos].loc[(movie_rating['Usuario'] == users[min_dist_index])].drop('Usuario', \n",
    "                                                                                                                             axis = 1 \n",
    "                                                                                                                            )\n",
    "                               )\n",
    "        \n",
    "        #Preenchendo a tabela com os resultados\n",
    "        df_result = df_result.append({'Usuário de interesse': user, \n",
    "                                      'Usuário com perfil mais próximo': users[min_dist_index], \n",
    "                                      'Filme recomendado': filme_recomendado\n",
    "                                     }, \n",
    "                                     ignore_index = True\n",
    "                                    )\n",
    "        \n",
    "        del filmes_vistos, filmes_nao_vistos\n",
    "            \n",
    "    return(df_result)\n",
    "            "
   ]
  },
  {
   "cell_type": "code",
   "execution_count": 167,
   "metadata": {
    "ExecuteTime": {
     "end_time": "2019-06-19T02:16:17.933455Z",
     "start_time": "2019-06-19T02:16:17.888538Z"
    }
   },
   "outputs": [
    {
     "data": {
      "text/html": [
       "<div>\n",
       "<style scoped>\n",
       "    .dataframe tbody tr th:only-of-type {\n",
       "        vertical-align: middle;\n",
       "    }\n",
       "\n",
       "    .dataframe tbody tr th {\n",
       "        vertical-align: top;\n",
       "    }\n",
       "\n",
       "    .dataframe thead th {\n",
       "        text-align: right;\n",
       "    }\n",
       "</style>\n",
       "<table border=\"1\" class=\"dataframe\">\n",
       "  <thead>\n",
       "    <tr style=\"text-align: right;\">\n",
       "      <th></th>\n",
       "      <th>Usuário de interesse</th>\n",
       "      <th>Usuário com perfil mais próximo</th>\n",
       "      <th>Filme recomendado</th>\n",
       "    </tr>\n",
       "  </thead>\n",
       "  <tbody>\n",
       "    <tr>\n",
       "      <th>0</th>\n",
       "      <td>Leandro</td>\n",
       "      <td>Lorena</td>\n",
       "      <td>Orgulho &amp; Preconceito</td>\n",
       "    </tr>\n",
       "    <tr>\n",
       "      <th>1</th>\n",
       "      <td>Uliane</td>\n",
       "      <td>Lorena</td>\n",
       "      <td>Velozes e Furiosos</td>\n",
       "    </tr>\n",
       "  </tbody>\n",
       "</table>\n",
       "</div>"
      ],
      "text/plain": [
       "  Usuário de interesse Usuário com perfil mais próximo      Filme recomendado\n",
       "0              Leandro                          Lorena  Orgulho & Preconceito\n",
       "1               Uliane                          Lorena     Velozes e Furiosos"
      ]
     },
     "execution_count": 167,
     "metadata": {},
     "output_type": "execute_result"
    }
   ],
   "source": [
    "recommender(movie_rating)"
   ]
  },
  {
   "cell_type": "markdown",
   "metadata": {},
   "source": [
    "#### Podemos utilizar a simetria calculada para fazermos uma média ponderada e estimarmos a possível nota dada aos filmes. Para conseguirmos trazer um pouco mais de robustez nos nossos cálculos, podemos estimar qual seria a nota dos filmes não avaliados utilizando os cálculos de similaridade que já fizemos anteriormente.\n",
    "\n",
    "#### Nessa caso, ao invés de excluírmos `Uliane` da tabela resultante de `Leandro`, vamos calcular a similaridade entre eles considerando os filmes que eles têm em comum, que nesse caso será apeas o filme `De Volta Para o Futuro`.\n",
    "\n",
    "#### Partindo da mesma ideia da etapa anterior, precisamos encontrar quais são os usuários que não avaliaram alguns dos filmes da base de dados."
   ]
  },
  {
   "cell_type": "code",
   "execution_count": 168,
   "metadata": {
    "ExecuteTime": {
     "end_time": "2019-06-19T03:01:46.114177Z",
     "start_time": "2019-06-19T03:01:46.104204Z"
    }
   },
   "outputs": [
    {
     "data": {
      "text/plain": [
       "['Leandro', 'Uliane']"
      ]
     },
     "execution_count": 168,
     "metadata": {},
     "output_type": "execute_result"
    }
   ],
   "source": [
    "#Encontrando os usuários que tem filmes não vistos na base\n",
    "empty_movies = pd.DataFrame(movie_rating.set_index(['Usuario']).transpose().isna().sum()\n",
    "                           ).reset_index()\n",
    "empty_movies = empty_movies[empty_movies[0]!= 0 ]['Usuario'].tolist()\n",
    "empty_movies"
   ]
  },
  {
   "cell_type": "markdown",
   "metadata": {},
   "source": [
    "#### Testando então primeiramente com o usuário `Leandro`, temos:"
   ]
  },
  {
   "cell_type": "code",
   "execution_count": 169,
   "metadata": {
    "ExecuteTime": {
     "end_time": "2019-06-19T03:01:47.960238Z",
     "start_time": "2019-06-19T03:01:47.957246Z"
    }
   },
   "outputs": [],
   "source": [
    "i = 0\n",
    "user = 'Leandro'"
   ]
  },
  {
   "cell_type": "markdown",
   "metadata": {},
   "source": [
    "#### Agora pegaremos todos os usuários da base, incluindo `Uliane` pra calcularmos a proximodade com o usuário de interesse desta iteração. Tomamos todos os usuários da base."
   ]
  },
  {
   "cell_type": "code",
   "execution_count": 179,
   "metadata": {
    "ExecuteTime": {
     "end_time": "2019-06-19T03:01:52.571703Z",
     "start_time": "2019-06-19T03:01:52.567713Z"
    }
   },
   "outputs": [],
   "source": [
    "users = movie_rating['Usuario'].tolist()"
   ]
  },
  {
   "cell_type": "code",
   "execution_count": 180,
   "metadata": {
    "ExecuteTime": {
     "end_time": "2019-06-19T11:04:21.478886Z",
     "start_time": "2019-06-19T11:04:21.456932Z"
    }
   },
   "outputs": [
    {
     "data": {
      "text/plain": [
       "['Izabela', 'Thais', 'Lorena', 'Leandro', 'Uliane', 'Isis', 'Marcos']"
      ]
     },
     "execution_count": 180,
     "metadata": {},
     "output_type": "execute_result"
    }
   ],
   "source": [
    "users"
   ]
  },
  {
   "cell_type": "markdown",
   "metadata": {
    "ExecuteTime": {
     "end_time": "2019-06-19T11:17:02.428532Z",
     "start_time": "2019-06-19T11:17:02.315834Z"
    }
   },
   "source": [
    "#### Agora vamos criar uma tabela para inserir as similaridades entre os usuários de interesse e os demais. Criamos um `dataframe` para colocarmos os resultados das similaridades."
   ]
  },
  {
   "cell_type": "code",
   "execution_count": 181,
   "metadata": {
    "ExecuteTime": {
     "end_time": "2019-06-19T11:18:55.423759Z",
     "start_time": "2019-06-19T11:18:55.417421Z"
    }
   },
   "outputs": [],
   "source": [
    "df_all_similarities = pd.DataFrame(columns = empty_movies, \n",
    "                                   index = users\n",
    "                                  )"
   ]
  },
  {
   "cell_type": "code",
   "execution_count": 182,
   "metadata": {
    "ExecuteTime": {
     "end_time": "2019-06-19T11:18:57.017522Z",
     "start_time": "2019-06-19T11:18:56.788847Z"
    }
   },
   "outputs": [
    {
     "data": {
      "text/html": [
       "<div>\n",
       "<style scoped>\n",
       "    .dataframe tbody tr th:only-of-type {\n",
       "        vertical-align: middle;\n",
       "    }\n",
       "\n",
       "    .dataframe tbody tr th {\n",
       "        vertical-align: top;\n",
       "    }\n",
       "\n",
       "    .dataframe thead th {\n",
       "        text-align: right;\n",
       "    }\n",
       "</style>\n",
       "<table border=\"1\" class=\"dataframe\">\n",
       "  <thead>\n",
       "    <tr style=\"text-align: right;\">\n",
       "      <th></th>\n",
       "      <th>Leandro</th>\n",
       "      <th>Uliane</th>\n",
       "    </tr>\n",
       "  </thead>\n",
       "  <tbody>\n",
       "    <tr>\n",
       "      <th>Izabela</th>\n",
       "      <td>NaN</td>\n",
       "      <td>NaN</td>\n",
       "    </tr>\n",
       "    <tr>\n",
       "      <th>Thais</th>\n",
       "      <td>NaN</td>\n",
       "      <td>NaN</td>\n",
       "    </tr>\n",
       "    <tr>\n",
       "      <th>Lorena</th>\n",
       "      <td>NaN</td>\n",
       "      <td>NaN</td>\n",
       "    </tr>\n",
       "    <tr>\n",
       "      <th>Leandro</th>\n",
       "      <td>NaN</td>\n",
       "      <td>NaN</td>\n",
       "    </tr>\n",
       "    <tr>\n",
       "      <th>Uliane</th>\n",
       "      <td>NaN</td>\n",
       "      <td>NaN</td>\n",
       "    </tr>\n",
       "    <tr>\n",
       "      <th>Isis</th>\n",
       "      <td>NaN</td>\n",
       "      <td>NaN</td>\n",
       "    </tr>\n",
       "    <tr>\n",
       "      <th>Marcos</th>\n",
       "      <td>NaN</td>\n",
       "      <td>NaN</td>\n",
       "    </tr>\n",
       "  </tbody>\n",
       "</table>\n",
       "</div>"
      ],
      "text/plain": [
       "        Leandro Uliane\n",
       "Izabela     NaN    NaN\n",
       "Thais       NaN    NaN\n",
       "Lorena      NaN    NaN\n",
       "Leandro     NaN    NaN\n",
       "Uliane      NaN    NaN\n",
       "Isis        NaN    NaN\n",
       "Marcos      NaN    NaN"
      ]
     },
     "execution_count": 182,
     "metadata": {},
     "output_type": "execute_result"
    }
   ],
   "source": [
    "df_all_similarities"
   ]
  },
  {
   "cell_type": "markdown",
   "metadata": {},
   "source": [
    "#### Vamos calcular então a iteração que vai trazer, por exemplo, a distâcia entre `Leandro` e `Thais` e colocar esse valor na tabela que criamos acima. \n",
    "\n",
    "#### Aqui, vamos filtrar a tabela oridigal para trazer apenas os usuários definidos para essa iteração, depois vamos excluir as colunas que tiverem linhas nulas para termos apenas os filmes em comum e em seguida removemos a coluna de usuários para termos apenas as avaliações que vamos comparar."
   ]
  },
  {
   "cell_type": "code",
   "execution_count": 185,
   "metadata": {
    "ExecuteTime": {
     "end_time": "2019-06-19T13:00:40.009416Z",
     "start_time": "2019-06-19T13:00:40.001464Z"
    }
   },
   "outputs": [],
   "source": [
    "teste = movie_rating[['Usuario', \n",
    "                      'Orgulho & Preconceito'\n",
    "                     ]\n",
    "                    ].loc[movie_rating['Usuario'].isin(['Leandro', \n",
    "                                                        'Uliane'\n",
    "                                                       ]\n",
    "                                                      )\n",
    "                         ].dropna(axis = 1).drop(['Usuario'],\n",
    "                                                 axis = 1\n",
    "                                                )"
   ]
  },
  {
   "cell_type": "code",
   "execution_count": 186,
   "metadata": {
    "ExecuteTime": {
     "end_time": "2019-06-19T13:01:19.211899Z",
     "start_time": "2019-06-19T13:01:19.207912Z"
    }
   },
   "outputs": [
    {
     "data": {
      "text/plain": [
       "0"
      ]
     },
     "execution_count": 186,
     "metadata": {},
     "output_type": "execute_result"
    }
   ],
   "source": [
    "teste.shape[1]"
   ]
  },
  {
   "cell_type": "markdown",
   "metadata": {},
   "source": [
    "#### O Teste para visualização de como fica a tabela para comparar `Leandro` e `Uliane`."
   ]
  },
  {
   "cell_type": "code",
   "execution_count": 188,
   "metadata": {
    "ExecuteTime": {
     "end_time": "2019-06-19T12:05:32.007031Z",
     "start_time": "2019-06-19T12:05:31.982073Z"
    }
   },
   "outputs": [
    {
     "data": {
      "text/html": [
       "<div>\n",
       "<style scoped>\n",
       "    .dataframe tbody tr th:only-of-type {\n",
       "        vertical-align: middle;\n",
       "    }\n",
       "\n",
       "    .dataframe tbody tr th {\n",
       "        vertical-align: top;\n",
       "    }\n",
       "\n",
       "    .dataframe thead th {\n",
       "        text-align: right;\n",
       "    }\n",
       "</style>\n",
       "<table border=\"1\" class=\"dataframe\">\n",
       "  <thead>\n",
       "    <tr style=\"text-align: right;\">\n",
       "      <th></th>\n",
       "      <th>Unnamed: 0</th>\n",
       "      <th>De volta para o futuro</th>\n",
       "    </tr>\n",
       "  </thead>\n",
       "  <tbody>\n",
       "    <tr>\n",
       "      <th>3</th>\n",
       "      <td>3</td>\n",
       "      <td>4</td>\n",
       "    </tr>\n",
       "    <tr>\n",
       "      <th>4</th>\n",
       "      <td>4</td>\n",
       "      <td>1</td>\n",
       "    </tr>\n",
       "  </tbody>\n",
       "</table>\n",
       "</div>"
      ],
      "text/plain": [
       "   Unnamed: 0  De volta para o futuro\n",
       "3           3                       4\n",
       "4           4                       1"
      ]
     },
     "execution_count": 188,
     "metadata": {},
     "output_type": "execute_result"
    }
   ],
   "source": [
    "movie_rating.loc[movie_rating['Usuario'].isin(['Leandro','Uliane'])].dropna(axis = 1).drop(['Usuario'],\n",
    "                                                                                           axis = 1\n",
    "                                                                                          )"
   ]
  },
  {
   "cell_type": "code",
   "execution_count": 190,
   "metadata": {
    "ExecuteTime": {
     "end_time": "2019-06-19T12:00:25.997886Z",
     "start_time": "2019-06-19T12:00:25.578997Z"
    }
   },
   "outputs": [],
   "source": [
    "other_user = 'Thais'\n",
    "user = 'Leandro'\n",
    "movie_rating_two_users = movie_rating.loc[movie_rating['Usuario'].isin([user, \n",
    "                                                                        other_user\n",
    "                                                                       ]\n",
    "                                                                      )\n",
    "                                         ]\n",
    "movie_rating_two_users = movie_rating_two_users.dropna(axis = 1\n",
    "                                                      ).drop(['Usuario'], \n",
    "                                                             axis = 1\n",
    "                                                            ).values"
   ]
  },
  {
   "cell_type": "code",
   "execution_count": 191,
   "metadata": {
    "ExecuteTime": {
     "end_time": "2019-06-19T12:00:26.158441Z",
     "start_time": "2019-06-19T12:00:26.103156Z"
    }
   },
   "outputs": [
    {
     "data": {
      "text/plain": [
       "array([[1., 1., 5., 5.],\n",
       "       [3., 5., 2., 4.]])"
      ]
     },
     "execution_count": 191,
     "metadata": {},
     "output_type": "execute_result"
    }
   ],
   "source": [
    "movie_rating_two_users"
   ]
  },
  {
   "cell_type": "markdown",
   "metadata": {},
   "source": [
    "#### Calculamos então a distância entre `Thais` e `Leandro`, com base nos filmes que ambos tinham em comum e inserimos os resultados na tabela para armazenar a distância calculada:"
   ]
  },
  {
   "cell_type": "code",
   "execution_count": 192,
   "metadata": {
    "ExecuteTime": {
     "end_time": "2019-06-19T12:57:48.311678Z",
     "start_time": "2019-06-19T12:57:48.120314Z"
    }
   },
   "outputs": [
    {
     "data": {
      "text/plain": [
       "5.477225575051661"
      ]
     },
     "execution_count": 192,
     "metadata": {},
     "output_type": "execute_result"
    }
   ],
   "source": [
    "np.linalg.norm(movie_rating_two_users - movie_rating_two_users[ : , None], \n",
    "               axis = -1\n",
    "              )[0][1]"
   ]
  },
  {
   "cell_type": "code",
   "execution_count": 197,
   "metadata": {
    "ExecuteTime": {
     "end_time": "2019-06-19T13:10:35.864526Z",
     "start_time": "2019-06-19T13:10:35.763234Z"
    }
   },
   "outputs": [],
   "source": [
    "df_all_similarities.loc[(df_all_similarities.index == other_user), \n",
    "                        user] = np.linalg.norm(movie_rating_two_users - movie_rating_two_users[ : , None],\n",
    "                                               axis = -1\n",
    "                                              )[0][1]"
   ]
  },
  {
   "cell_type": "code",
   "execution_count": 198,
   "metadata": {
    "ExecuteTime": {
     "end_time": "2019-06-19T13:10:39.193586Z",
     "start_time": "2019-06-19T13:10:39.186604Z"
    }
   },
   "outputs": [
    {
     "data": {
      "text/html": [
       "<div>\n",
       "<style scoped>\n",
       "    .dataframe tbody tr th:only-of-type {\n",
       "        vertical-align: middle;\n",
       "    }\n",
       "\n",
       "    .dataframe tbody tr th {\n",
       "        vertical-align: top;\n",
       "    }\n",
       "\n",
       "    .dataframe thead tr th {\n",
       "        text-align: left;\n",
       "    }\n",
       "</style>\n",
       "<table border=\"1\" class=\"dataframe\">\n",
       "  <thead>\n",
       "    <tr>\n",
       "      <th></th>\n",
       "      <th>Leandro</th>\n",
       "      <th>Uliane</th>\n",
       "    </tr>\n",
       "  </thead>\n",
       "  <tbody>\n",
       "    <tr>\n",
       "      <th>Izabela</th>\n",
       "      <td>0.16139</td>\n",
       "      <td>0.129732</td>\n",
       "    </tr>\n",
       "    <tr>\n",
       "      <th>Thais</th>\n",
       "      <td>0.154387</td>\n",
       "      <td>0.139579</td>\n",
       "    </tr>\n",
       "    <tr>\n",
       "      <th>Lorena</th>\n",
       "      <td>0.240253</td>\n",
       "      <td>0.240253</td>\n",
       "    </tr>\n",
       "    <tr>\n",
       "      <th>Leandro</th>\n",
       "      <td>NaN</td>\n",
       "      <td>0.240253</td>\n",
       "    </tr>\n",
       "    <tr>\n",
       "      <th>Uliane</th>\n",
       "      <td>0.240253</td>\n",
       "      <td>NaN</td>\n",
       "    </tr>\n",
       "    <tr>\n",
       "      <th>Isis</th>\n",
       "      <td>0.154387</td>\n",
       "      <td>0.154387</td>\n",
       "    </tr>\n",
       "    <tr>\n",
       "      <th>Marcos</th>\n",
       "      <td>0.175734</td>\n",
       "      <td>3.872983</td>\n",
       "    </tr>\n",
       "  </tbody>\n",
       "</table>\n",
       "</div>"
      ],
      "text/plain": [
       "          Leandro    Uliane\n",
       "Izabela   0.16139  0.129732\n",
       "Thais    0.154387  0.139579\n",
       "Lorena   0.240253  0.240253\n",
       "Leandro       NaN  0.240253\n",
       "Uliane   0.240253       NaN\n",
       "Isis     0.154387  0.154387\n",
       "Marcos   0.175734  3.872983"
      ]
     },
     "execution_count": 198,
     "metadata": {},
     "output_type": "execute_result"
    }
   ],
   "source": [
    "df_all_similarities"
   ]
  },
  {
   "cell_type": "markdown",
   "metadata": {},
   "source": [
    "#### Criamos então o código abaixo para calcular as distâncias para todos os usuários e generalizar para qualquer tamanho de tabela. Além disso, para que consigamos entender melhor as grandezas calculadas e enxergá-las semelhantes a uma porcentagem, vamos fazer `distancia_transformada = 1/(1 + distância)`. "
   ]
  },
  {
   "cell_type": "code",
   "execution_count": 200,
   "metadata": {
    "ExecuteTime": {
     "end_time": "2019-06-19T13:25:45.397597Z",
     "start_time": "2019-06-19T13:25:45.232041Z"
    },
    "code_folding": []
   },
   "outputs": [],
   "source": [
    "df_all_similarities = pd.DataFrame(columns = [empty_movies], \n",
    "                                   index = ['Izabela', 'Thais', 'Lorena', \n",
    "                                            'Leandro', 'Uliane', 'Isis', 'Marcos'\n",
    "                                           ]\n",
    "                                  )\n",
    "for user in empty_movies:\n",
    "    for other_user in users:\n",
    "        movie_rating_two_users = movie_rating.loc[movie_rating['Usuario'].isin([user, \n",
    "                                                                                other_user]\n",
    "                                                                              )\n",
    "                                                 ]\n",
    "        movie_rating_two_users = movie_rating_two_users.dropna(axis = 1).drop(['Usuario'], \n",
    "                                                                              axis = 1\n",
    "                                                                             ).values\n",
    "       \n",
    "        if other_user != user:\n",
    "            df_all_similarities.loc[(df_all_similarities.index == other_user), \n",
    "                                    user] = 1 / (1 + np.linalg.norm(movie_rating_two_users - movie_rating_two_users[ : , None],\n",
    "                                                                    axis = -1\n",
    "                                                                   )[0][1])\n",
    "#            df_all_similarities.loc[(df_all_similarities.index == other_user), \n",
    "#                                    user] = np.linalg.norm(movie_rating_two_users - movie_rating_two_users[:, None],\n",
    "#                                                           axis = -1\n",
    "#                                                          )[0][1]"
   ]
  },
  {
   "cell_type": "markdown",
   "metadata": {},
   "source": [
    "Dê dois cliques para ver a resposta:\n",
    "\n",
    "<!--\n",
    "df_all_similarities = pd.DataFrame(columns=[empty_movies],index=['Izabela', 'Thais', 'Lorena', 'Leandro', 'Uliane', 'Isis', 'Marcos'])\n",
    "for user in empty_movies:\n",
    "    for other_user in users:\n",
    "        movie_rating_two_users = movie_rating.loc[movie_rating['Usuario'].isin([user,other_user])]\n",
    "        movie_rating_two_users = movie_rating_two_users.dropna(axis=1).drop(['Usuario'],axis=1).values\n",
    "       \n",
    "        if other_user != user:\n",
    "            df_all_similarities.loc[(df_all_similarities.index == other_user),user] = 1/(1+np.linalg.norm(movie_rating_two_users - movie_rating_two_users[:,None], axis=-1)[0][1])\n",
    "            #df_all_similarities.loc[(df_all_similarities.index == other_user),user] = np.linalg.norm(movie_rating_two_users - movie_rating_two_users[:,None], axis=-1)[0][1]\n",
    "-->"
   ]
  },
  {
   "cell_type": "code",
   "execution_count": 201,
   "metadata": {
    "ExecuteTime": {
     "end_time": "2019-06-19T13:25:51.071268Z",
     "start_time": "2019-06-19T13:25:51.062293Z"
    }
   },
   "outputs": [
    {
     "data": {
      "text/html": [
       "<div>\n",
       "<style scoped>\n",
       "    .dataframe tbody tr th:only-of-type {\n",
       "        vertical-align: middle;\n",
       "    }\n",
       "\n",
       "    .dataframe tbody tr th {\n",
       "        vertical-align: top;\n",
       "    }\n",
       "\n",
       "    .dataframe thead tr th {\n",
       "        text-align: left;\n",
       "    }\n",
       "</style>\n",
       "<table border=\"1\" class=\"dataframe\">\n",
       "  <thead>\n",
       "    <tr>\n",
       "      <th></th>\n",
       "      <th>Leandro</th>\n",
       "      <th>Uliane</th>\n",
       "    </tr>\n",
       "  </thead>\n",
       "  <tbody>\n",
       "    <tr>\n",
       "      <th>Izabela</th>\n",
       "      <td>0.16139</td>\n",
       "      <td>0.129732</td>\n",
       "    </tr>\n",
       "    <tr>\n",
       "      <th>Thais</th>\n",
       "      <td>0.154387</td>\n",
       "      <td>0.139579</td>\n",
       "    </tr>\n",
       "    <tr>\n",
       "      <th>Lorena</th>\n",
       "      <td>0.240253</td>\n",
       "      <td>0.240253</td>\n",
       "    </tr>\n",
       "    <tr>\n",
       "      <th>Leandro</th>\n",
       "      <td>NaN</td>\n",
       "      <td>0.240253</td>\n",
       "    </tr>\n",
       "    <tr>\n",
       "      <th>Uliane</th>\n",
       "      <td>0.240253</td>\n",
       "      <td>NaN</td>\n",
       "    </tr>\n",
       "    <tr>\n",
       "      <th>Isis</th>\n",
       "      <td>0.154387</td>\n",
       "      <td>0.154387</td>\n",
       "    </tr>\n",
       "    <tr>\n",
       "      <th>Marcos</th>\n",
       "      <td>0.175734</td>\n",
       "      <td>0.205213</td>\n",
       "    </tr>\n",
       "  </tbody>\n",
       "</table>\n",
       "</div>"
      ],
      "text/plain": [
       "          Leandro    Uliane\n",
       "Izabela   0.16139  0.129732\n",
       "Thais    0.154387  0.139579\n",
       "Lorena   0.240253  0.240253\n",
       "Leandro       NaN  0.240253\n",
       "Uliane   0.240253       NaN\n",
       "Isis     0.154387  0.154387\n",
       "Marcos   0.175734  0.205213"
      ]
     },
     "execution_count": 201,
     "metadata": {},
     "output_type": "execute_result"
    }
   ],
   "source": [
    "df_all_similarities"
   ]
  },
  {
   "cell_type": "markdown",
   "metadata": {},
   "source": [
    "#### Aqui fazemos o mesmo processo da prática anterior, para tomarmos os filmes vistos e os filmes não vistos pra o usuário da iteração, nesss caso, `Leandro`. Guardamos os filmes não vistos para a parte de recomendação."
   ]
  },
  {
   "cell_type": "code",
   "execution_count": 206,
   "metadata": {
    "ExecuteTime": {
     "end_time": "2019-06-19T13:42:22.417709Z",
     "start_time": "2019-06-19T13:42:22.414714Z"
    }
   },
   "outputs": [],
   "source": [
    "user = 'Leandro'"
   ]
  },
  {
   "cell_type": "code",
   "execution_count": 208,
   "metadata": {
    "ExecuteTime": {
     "end_time": "2019-06-19T13:42:22.957261Z",
     "start_time": "2019-06-19T13:42:22.948286Z"
    }
   },
   "outputs": [],
   "source": [
    "filmes_vistos = movie_rating.loc[movie_rating['Usuario'] == user\n",
    "                                ].dropna(axis = 1).drop(['Usuario'],\n",
    "                                                        axis = 1\n",
    "                                                       ).keys().tolist()\n",
    "\n",
    "\n",
    "filmes_nao_vistos = list(set(movie_rating) - set(filmes_vistos + ['Usuario']\n",
    "                                                )\n",
    "                        )"
   ]
  },
  {
   "cell_type": "code",
   "execution_count": 209,
   "metadata": {
    "ExecuteTime": {
     "end_time": "2019-06-19T13:42:23.472883Z",
     "start_time": "2019-06-19T13:42:23.467896Z"
    }
   },
   "outputs": [
    {
     "data": {
      "text/plain": [
       "['Orgulho & Preconceito', 'O Senhor dos anéis']"
      ]
     },
     "execution_count": 209,
     "metadata": {},
     "output_type": "execute_result"
    }
   ],
   "source": [
    "filmes_nao_vistos"
   ]
  },
  {
   "cell_type": "code",
   "execution_count": 210,
   "metadata": {
    "ExecuteTime": {
     "end_time": "2019-06-19T13:42:24.114636Z",
     "start_time": "2019-06-19T13:42:24.111644Z"
    }
   },
   "outputs": [],
   "source": [
    "filmes_vistos.append('Usuario')"
   ]
  },
  {
   "cell_type": "code",
   "execution_count": 211,
   "metadata": {
    "ExecuteTime": {
     "end_time": "2019-06-19T13:42:24.584380Z",
     "start_time": "2019-06-19T13:42:24.578395Z"
    }
   },
   "outputs": [
    {
     "data": {
      "text/plain": [
       "['Unnamed: 0',\n",
       " 'Velozes e Furiosos',\n",
       " 'Star Wars',\n",
       " 'De volta para o futuro',\n",
       " 'Usuario']"
      ]
     },
     "execution_count": 211,
     "metadata": {},
     "output_type": "execute_result"
    }
   ],
   "source": [
    "filmes_vistos"
   ]
  },
  {
   "cell_type": "markdown",
   "metadata": {},
   "source": [
    "#### Vamos filtrar então a tabela de distâncias para pegar apenas o usuário da iteração:"
   ]
  },
  {
   "cell_type": "code",
   "execution_count": 212,
   "metadata": {
    "ExecuteTime": {
     "end_time": "2019-06-19T13:29:59.844457Z",
     "start_time": "2019-06-19T13:29:59.839470Z"
    }
   },
   "outputs": [
    {
     "data": {
      "text/plain": [
       "['Orgulho & Preconceito', 'O Senhor dos anéis']"
      ]
     },
     "execution_count": 212,
     "metadata": {},
     "output_type": "execute_result"
    }
   ],
   "source": [
    "list(set(movie_rating) - set(filmes_vistos))"
   ]
  },
  {
   "cell_type": "code",
   "execution_count": 213,
   "metadata": {
    "ExecuteTime": {
     "end_time": "2019-06-19T13:42:26.872774Z",
     "start_time": "2019-06-19T13:42:26.867798Z"
    }
   },
   "outputs": [],
   "source": [
    "df_all_similarities_aux = df_all_similarities[user]"
   ]
  },
  {
   "cell_type": "code",
   "execution_count": 214,
   "metadata": {
    "ExecuteTime": {
     "end_time": "2019-06-19T13:42:27.396947Z",
     "start_time": "2019-06-19T13:42:27.390965Z"
    }
   },
   "outputs": [
    {
     "data": {
      "text/html": [
       "<div>\n",
       "<style scoped>\n",
       "    .dataframe tbody tr th:only-of-type {\n",
       "        vertical-align: middle;\n",
       "    }\n",
       "\n",
       "    .dataframe tbody tr th {\n",
       "        vertical-align: top;\n",
       "    }\n",
       "\n",
       "    .dataframe thead tr th {\n",
       "        text-align: left;\n",
       "    }\n",
       "</style>\n",
       "<table border=\"1\" class=\"dataframe\">\n",
       "  <thead>\n",
       "    <tr>\n",
       "      <th></th>\n",
       "      <th>Leandro</th>\n",
       "    </tr>\n",
       "  </thead>\n",
       "  <tbody>\n",
       "    <tr>\n",
       "      <th>Izabela</th>\n",
       "      <td>0.16139</td>\n",
       "    </tr>\n",
       "    <tr>\n",
       "      <th>Thais</th>\n",
       "      <td>0.154387</td>\n",
       "    </tr>\n",
       "    <tr>\n",
       "      <th>Lorena</th>\n",
       "      <td>0.240253</td>\n",
       "    </tr>\n",
       "    <tr>\n",
       "      <th>Leandro</th>\n",
       "      <td>NaN</td>\n",
       "    </tr>\n",
       "    <tr>\n",
       "      <th>Uliane</th>\n",
       "      <td>0.240253</td>\n",
       "    </tr>\n",
       "    <tr>\n",
       "      <th>Isis</th>\n",
       "      <td>0.154387</td>\n",
       "    </tr>\n",
       "    <tr>\n",
       "      <th>Marcos</th>\n",
       "      <td>0.175734</td>\n",
       "    </tr>\n",
       "  </tbody>\n",
       "</table>\n",
       "</div>"
      ],
      "text/plain": [
       "          Leandro\n",
       "Izabela   0.16139\n",
       "Thais    0.154387\n",
       "Lorena   0.240253\n",
       "Leandro       NaN\n",
       "Uliane   0.240253\n",
       "Isis     0.154387\n",
       "Marcos   0.175734"
      ]
     },
     "execution_count": 214,
     "metadata": {},
     "output_type": "execute_result"
    }
   ],
   "source": [
    "df_all_similarities_aux"
   ]
  },
  {
   "cell_type": "markdown",
   "metadata": {},
   "source": [
    "#### Vamos concatenar então a tabela que contém as similaridades com a tabela que contém as avaliações dos filmes que `Leandro` não viu, para que possamos fazer a nossa **média ponderada**. \n",
    "\n",
    "#### Nesses caso, os pesos serão as similaridades transformadas que calculaos anteriormente, ou seja, multiplicaremos cada nota pela sua respectiva similaridade, somaremos esse resultado e dividiremos pela soma das similaridades."
   ]
  },
  {
   "cell_type": "code",
   "execution_count": 217,
   "metadata": {
    "ExecuteTime": {
     "end_time": "2019-06-19T13:44:33.518611Z",
     "start_time": "2019-06-19T13:44:33.508639Z"
    }
   },
   "outputs": [
    {
     "data": {
      "text/html": [
       "<div>\n",
       "<style scoped>\n",
       "    .dataframe tbody tr th:only-of-type {\n",
       "        vertical-align: middle;\n",
       "    }\n",
       "\n",
       "    .dataframe tbody tr th {\n",
       "        vertical-align: top;\n",
       "    }\n",
       "\n",
       "    .dataframe thead th {\n",
       "        text-align: right;\n",
       "    }\n",
       "</style>\n",
       "<table border=\"1\" class=\"dataframe\">\n",
       "  <thead>\n",
       "    <tr style=\"text-align: right;\">\n",
       "      <th></th>\n",
       "      <th>(index,)</th>\n",
       "      <th>(Leandro,)</th>\n",
       "      <th>Orgulho &amp; Preconceito</th>\n",
       "      <th>O Senhor dos anéis</th>\n",
       "    </tr>\n",
       "  </thead>\n",
       "  <tbody>\n",
       "    <tr>\n",
       "      <th>0</th>\n",
       "      <td>Izabela</td>\n",
       "      <td>0.16139</td>\n",
       "      <td>5.0</td>\n",
       "      <td>5.0</td>\n",
       "    </tr>\n",
       "    <tr>\n",
       "      <th>1</th>\n",
       "      <td>Thais</td>\n",
       "      <td>0.154387</td>\n",
       "      <td>5.0</td>\n",
       "      <td>5.0</td>\n",
       "    </tr>\n",
       "    <tr>\n",
       "      <th>2</th>\n",
       "      <td>Lorena</td>\n",
       "      <td>0.240253</td>\n",
       "      <td>4.0</td>\n",
       "      <td>2.0</td>\n",
       "    </tr>\n",
       "    <tr>\n",
       "      <th>3</th>\n",
       "      <td>Leandro</td>\n",
       "      <td>NaN</td>\n",
       "      <td>NaN</td>\n",
       "      <td>NaN</td>\n",
       "    </tr>\n",
       "    <tr>\n",
       "      <th>4</th>\n",
       "      <td>Uliane</td>\n",
       "      <td>0.240253</td>\n",
       "      <td>2.0</td>\n",
       "      <td>3.0</td>\n",
       "    </tr>\n",
       "    <tr>\n",
       "      <th>5</th>\n",
       "      <td>Isis</td>\n",
       "      <td>0.154387</td>\n",
       "      <td>5.0</td>\n",
       "      <td>5.0</td>\n",
       "    </tr>\n",
       "    <tr>\n",
       "      <th>6</th>\n",
       "      <td>Marcos</td>\n",
       "      <td>0.175734</td>\n",
       "      <td>1.0</td>\n",
       "      <td>2.0</td>\n",
       "    </tr>\n",
       "  </tbody>\n",
       "</table>\n",
       "</div>"
      ],
      "text/plain": [
       "  (index,) (Leandro,)  Orgulho & Preconceito  O Senhor dos anéis\n",
       "0  Izabela    0.16139                    5.0                 5.0\n",
       "1    Thais   0.154387                    5.0                 5.0\n",
       "2   Lorena   0.240253                    4.0                 2.0\n",
       "3  Leandro        NaN                    NaN                 NaN\n",
       "4   Uliane   0.240253                    2.0                 3.0\n",
       "5     Isis   0.154387                    5.0                 5.0\n",
       "6   Marcos   0.175734                    1.0                 2.0"
      ]
     },
     "execution_count": 217,
     "metadata": {},
     "output_type": "execute_result"
    }
   ],
   "source": [
    "df_result = pd.concat([df_all_similarities_aux.reset_index(), \n",
    "                       movie_rating[filmes_nao_vistos]], \n",
    "                      axis = 1\n",
    "                     )#.dropna()\n",
    "df_result"
   ]
  },
  {
   "cell_type": "code",
   "execution_count": 218,
   "metadata": {
    "ExecuteTime": {
     "end_time": "2019-06-19T13:44:35.656928Z",
     "start_time": "2019-06-19T13:44:35.546220Z"
    }
   },
   "outputs": [
    {
     "data": {
      "text/plain": [
       "Index([('index',), ('Leandro',), 'Orgulho & Preconceito',\n",
       "       'O Senhor dos anéis'],\n",
       "      dtype='object')"
      ]
     },
     "execution_count": 218,
     "metadata": {},
     "output_type": "execute_result"
    }
   ],
   "source": [
    "df_result.keys()"
   ]
  },
  {
   "cell_type": "markdown",
   "metadata": {},
   "source": [
    "#### Tomando como exemplo, temos que a nota estimada para o filme `Orgulho e Precnceito`:"
   ]
  },
  {
   "cell_type": "code",
   "execution_count": 220,
   "metadata": {
    "ExecuteTime": {
     "end_time": "2019-06-19T17:37:11.308994Z",
     "start_time": "2019-06-19T17:37:11.301377Z"
    }
   },
   "outputs": [
    {
     "data": {
      "text/plain": [
       "3.9680758008442614"
      ]
     },
     "execution_count": 220,
     "metadata": {},
     "output_type": "execute_result"
    }
   ],
   "source": [
    "sum((df_result[('Leandro', )] * df_result['Orgulho & Preconceito']\n",
    "    ).fillna(0)\n",
    "   )"
   ]
  },
  {
   "cell_type": "markdown",
   "metadata": {},
   "source": [
    "#### Abaixo, uma forma generalizada para fazer esse cálculo:"
   ]
  },
  {
   "cell_type": "code",
   "execution_count": 223,
   "metadata": {
    "ExecuteTime": {
     "end_time": "2019-06-19T18:01:00.918326Z",
     "start_time": "2019-06-19T18:01:00.897380Z"
    }
   },
   "outputs": [],
   "source": [
    "df_notas_estimadas = pd.DataFrame(columns = ['Usuario', 'Filme', 'Nota estimada'])\n",
    "\n",
    "for i, filme in enumerate(filmes_nao_vistos):\n",
    "    df_result['Sx' + filme] = df_result[str(filme)] * df_result[df_result.keys()[1]] \n",
    "    df_notas_estimadas = df_notas_estimadas.append({'Usuario': user, \n",
    "                                                    'Filme': filme, \n",
    "                                                    'Nota estimada': sum(df_result['Sx' + filme].fillna(0)\n",
    "                                                                        ) / sum(df_result[df_result.keys()[1]].fillna(0))}, \n",
    "                                                   ignore_index = True\n",
    "                                                  )"
   ]
  },
  {
   "cell_type": "code",
   "execution_count": 224,
   "metadata": {
    "ExecuteTime": {
     "end_time": "2019-06-19T18:01:02.089963Z",
     "start_time": "2019-06-19T18:01:02.080062Z"
    }
   },
   "outputs": [
    {
     "data": {
      "text/html": [
       "<div>\n",
       "<style scoped>\n",
       "    .dataframe tbody tr th:only-of-type {\n",
       "        vertical-align: middle;\n",
       "    }\n",
       "\n",
       "    .dataframe tbody tr th {\n",
       "        vertical-align: top;\n",
       "    }\n",
       "\n",
       "    .dataframe thead th {\n",
       "        text-align: right;\n",
       "    }\n",
       "</style>\n",
       "<table border=\"1\" class=\"dataframe\">\n",
       "  <thead>\n",
       "    <tr style=\"text-align: right;\">\n",
       "      <th></th>\n",
       "      <th>Usuario</th>\n",
       "      <th>Filme</th>\n",
       "      <th>Nota estimada</th>\n",
       "    </tr>\n",
       "  </thead>\n",
       "  <tbody>\n",
       "    <tr>\n",
       "      <th>0</th>\n",
       "      <td>Leandro</td>\n",
       "      <td>Orgulho &amp; Preconceito</td>\n",
       "      <td>3.522779</td>\n",
       "    </tr>\n",
       "    <tr>\n",
       "      <th>1</th>\n",
       "      <td>Leandro</td>\n",
       "      <td>O Senhor dos anéis</td>\n",
       "      <td>3.465501</td>\n",
       "    </tr>\n",
       "  </tbody>\n",
       "</table>\n",
       "</div>"
      ],
      "text/plain": [
       "   Usuario                  Filme  Nota estimada\n",
       "0  Leandro  Orgulho & Preconceito       3.522779\n",
       "1  Leandro     O Senhor dos anéis       3.465501"
      ]
     },
     "execution_count": 224,
     "metadata": {},
     "output_type": "execute_result"
    }
   ],
   "source": [
    "df_notas_estimadas"
   ]
  },
  {
   "cell_type": "code",
   "execution_count": 225,
   "metadata": {
    "ExecuteTime": {
     "end_time": "2019-06-19T18:16:45.558246Z",
     "start_time": "2019-06-19T18:16:45.542667Z"
    }
   },
   "outputs": [
    {
     "data": {
      "text/html": [
       "<div>\n",
       "<style scoped>\n",
       "    .dataframe tbody tr th:only-of-type {\n",
       "        vertical-align: middle;\n",
       "    }\n",
       "\n",
       "    .dataframe tbody tr th {\n",
       "        vertical-align: top;\n",
       "    }\n",
       "\n",
       "    .dataframe thead th {\n",
       "        text-align: right;\n",
       "    }\n",
       "</style>\n",
       "<table border=\"1\" class=\"dataframe\">\n",
       "  <thead>\n",
       "    <tr style=\"text-align: right;\">\n",
       "      <th></th>\n",
       "      <th>Usuario</th>\n",
       "      <th>Filme</th>\n",
       "      <th>Nota estimada</th>\n",
       "    </tr>\n",
       "  </thead>\n",
       "  <tbody>\n",
       "    <tr>\n",
       "      <th>0</th>\n",
       "      <td>Leandro</td>\n",
       "      <td>Orgulho &amp; Preconceito</td>\n",
       "      <td>3.522779</td>\n",
       "    </tr>\n",
       "    <tr>\n",
       "      <th>1</th>\n",
       "      <td>Leandro</td>\n",
       "      <td>O Senhor dos anéis</td>\n",
       "      <td>3.465501</td>\n",
       "    </tr>\n",
       "  </tbody>\n",
       "</table>\n",
       "</div>"
      ],
      "text/plain": [
       "   Usuario                  Filme  Nota estimada\n",
       "0  Leandro  Orgulho & Preconceito       3.522779\n",
       "1  Leandro     O Senhor dos anéis       3.465501"
      ]
     },
     "execution_count": 225,
     "metadata": {},
     "output_type": "execute_result"
    }
   ],
   "source": [
    "df_notas_estimadas.loc[df_notas_estimadas['Nota estimada'] >= 3]"
   ]
  },
  {
   "cell_type": "code",
   "execution_count": 232,
   "metadata": {
    "ExecuteTime": {
     "end_time": "2019-06-19T18:26:45.037792Z",
     "start_time": "2019-06-19T18:26:45.019861Z"
    }
   },
   "outputs": [],
   "source": [
    "def estimating_note(movie_rating, threashold):\n",
    "    \n",
    "    users = movie_rating['Usuario'].tolist()\n",
    "    empty_movies = pd.DataFrame(movie_rating.set_index(['Usuario']).transpose().isna().sum()).reset_index()\n",
    "    empty_movies = empty_movies[empty_movies[0] != 0]['Usuario'].tolist()\n",
    "    \n",
    "    df_all_similarities = pd.DataFrame(columns = [empty_movies],\n",
    "                                       index = ['Izabela', 'Thais', 'Lorena', \n",
    "                                                'Leandro', 'Uliane', 'Isis', 'Marcos'\n",
    "                                               ]\n",
    "                                      )\n",
    "    df_notas_estimadas_all_users = pd.DataFrame(columns = ['Usuario', 'Filme', 'Nota estimada']\n",
    "                                               )\n",
    "    for j,user in enumerate(empty_movies):\n",
    "        for other_user in users:\n",
    "            movie_rating_two_users = movie_rating.loc[movie_rating['Usuario'].isin([user, \n",
    "                                                                                    other_user]\n",
    "                                                                                  )\n",
    "                                                     ]\n",
    "            movie_rating_two_users = movie_rating_two_users.dropna(axis = 1).drop(['Usuario'], \n",
    "                                                                                  axis = 1\n",
    "                                                                                 ).values\n",
    "\n",
    "            if other_user != user:\n",
    "                df_all_similarities.loc[(df_all_similarities.index == other_user), \n",
    "                                        user] = 1 / (1 + np.linalg.norm(movie_rating_two_users - movie_rating_two_users[ : , None], \n",
    "                                                                    axis = -1\n",
    "                                                                       )[0][1]\n",
    "                                                  )\n",
    "#                df_all_similarities.loc[(df_all_similarities.index == other_user), \n",
    "#                                        user] = np.linalg.norm(movie_rating_two_users - movie_rating_two_users[ : , None], \n",
    "#                                                               axis = -1\n",
    "#                                                              )[0][1]\n",
    "       \n",
    "        filmes_vistos = movie_rating.loc[movie_rating['Usuario'] == user].dropna(axis = 1).drop(['Usuario'], \n",
    "                                                                                                axis = 1\n",
    "                                                                                               ).keys().tolist()\n",
    "#        Guardando os filmes não vistos para a parte de recomendação\n",
    "        filmes_nao_vistos = list(set(movie_rating) - set(filmes_vistos))\n",
    "        filmes_nao_vistos = set(filmes_nao_vistos) - set(['Usuario'])\n",
    "\n",
    "        df_all_similarities_aux = df_all_similarities[user]\n",
    "        df_result = pd.concat([df_all_similarities_aux.reset_index(), movie_rating[filmes_nao_vistos]], \n",
    "                              axis = 1\n",
    "                             ).dropna()\n",
    "        \n",
    "        df_notas_estimadas = pd.DataFrame(columns = ['Usuario', 'Filme', 'Nota estimada'])\n",
    "        \n",
    "#        make the weighted average\n",
    "        for i,filme in enumerate(filmes_nao_vistos):\n",
    "            df_result['Sx'+filme] = df_result[str(filme)] * df_result[df_result.keys()[1]] \n",
    "            df_notas_estimadas = df_notas_estimadas.append({'Usuario': user, \n",
    "                                                            'Filme': filme, \n",
    "                                                            'Nota estimada': sum(df_result['Sx' + filme].fillna(0)) / sum(df_result[df_result.keys()[1]].fillna(0))}, \n",
    "                                                           ignore_index = True\n",
    "                                                          )\n",
    "        \n",
    "        print(df_notas_estimadas)\n",
    "#        df_notas_estimadas = df_notas_estimadas.loc[df_notas_estimadas['Nota estimada'] == df_notas_estimadas['Nota estimada'].max()]\n",
    "        df_notas_estimadas = df_notas_estimadas.loc[df_notas_estimadas['Nota estimada'] >= threashold]\n",
    "        df_notas_estimadas_all_users = pd.concat([df_notas_estimadas_all_users,df_notas_estimadas])\n",
    "            \n",
    "    return df_notas_estimadas_all_users"
   ]
  },
  {
   "cell_type": "code",
   "execution_count": 234,
   "metadata": {
    "ExecuteTime": {
     "end_time": "2019-06-19T18:26:45.735453Z",
     "start_time": "2019-06-19T18:26:45.501497Z"
    }
   },
   "outputs": [
    {
     "name": "stdout",
     "output_type": "stream",
     "text": [
      "   Usuario                  Filme  Nota estimada\n",
      "0  Leandro  Orgulho & Preconceito       3.522779\n",
      "1  Leandro     O Senhor dos anéis       3.465501\n",
      "  Usuario               Filme  Nota estimada\n",
      "0  Uliane           Star Wars       3.250220\n",
      "1  Uliane  Velozes e Furiosos       2.669295\n"
     ]
    },
    {
     "data": {
      "text/html": [
       "<div>\n",
       "<style scoped>\n",
       "    .dataframe tbody tr th:only-of-type {\n",
       "        vertical-align: middle;\n",
       "    }\n",
       "\n",
       "    .dataframe tbody tr th {\n",
       "        vertical-align: top;\n",
       "    }\n",
       "\n",
       "    .dataframe thead th {\n",
       "        text-align: right;\n",
       "    }\n",
       "</style>\n",
       "<table border=\"1\" class=\"dataframe\">\n",
       "  <thead>\n",
       "    <tr style=\"text-align: right;\">\n",
       "      <th></th>\n",
       "      <th>Usuario</th>\n",
       "      <th>Filme</th>\n",
       "      <th>Nota estimada</th>\n",
       "    </tr>\n",
       "  </thead>\n",
       "  <tbody>\n",
       "    <tr>\n",
       "      <th>0</th>\n",
       "      <td>Leandro</td>\n",
       "      <td>Orgulho &amp; Preconceito</td>\n",
       "      <td>3.522779</td>\n",
       "    </tr>\n",
       "    <tr>\n",
       "      <th>1</th>\n",
       "      <td>Leandro</td>\n",
       "      <td>O Senhor dos anéis</td>\n",
       "      <td>3.465501</td>\n",
       "    </tr>\n",
       "    <tr>\n",
       "      <th>0</th>\n",
       "      <td>Uliane</td>\n",
       "      <td>Star Wars</td>\n",
       "      <td>3.250220</td>\n",
       "    </tr>\n",
       "  </tbody>\n",
       "</table>\n",
       "</div>"
      ],
      "text/plain": [
       "   Usuario                  Filme  Nota estimada\n",
       "0  Leandro  Orgulho & Preconceito       3.522779\n",
       "1  Leandro     O Senhor dos anéis       3.465501\n",
       "0   Uliane              Star Wars       3.250220"
      ]
     },
     "execution_count": 234,
     "metadata": {},
     "output_type": "execute_result"
    }
   ],
   "source": [
    "estimating_note(movie_rating, 3)"
   ]
  }
 ],
 "metadata": {
  "kernelspec": {
   "display_name": "Python 3",
   "language": "python",
   "name": "python3"
  },
  "language_info": {
   "codemirror_mode": {
    "name": "ipython",
    "version": 3
   },
   "file_extension": ".py",
   "mimetype": "text/x-python",
   "name": "python",
   "nbconvert_exporter": "python",
   "pygments_lexer": "ipython3",
   "version": "3.7.6"
  },
  "toc": {
   "base_numbering": 1,
   "nav_menu": {},
   "number_sections": true,
   "sideBar": true,
   "skip_h1_title": false,
   "title_cell": "Table of Contents",
   "title_sidebar": "Contents",
   "toc_cell": false,
   "toc_position": {},
   "toc_section_display": true,
   "toc_window_display": false
  }
 },
 "nbformat": 4,
 "nbformat_minor": 4
}
