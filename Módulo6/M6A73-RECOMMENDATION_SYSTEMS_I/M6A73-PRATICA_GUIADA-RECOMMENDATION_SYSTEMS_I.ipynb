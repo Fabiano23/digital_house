{
 "cells": [
  {
   "cell_type": "markdown",
   "metadata": {},
   "source": [
    "<img src=\"dh_logo.png\" align=\"right\" width=\"50%\">"
   ]
  },
  {
   "cell_type": "markdown",
   "metadata": {},
   "source": [
    "# Prática Guiada - Sistemas de Recomendação I."
   ]
  },
  {
   "cell_type": "markdown",
   "metadata": {},
   "source": [
    "#### Me sendo indivíduos com preferências únicas, consumidores tendem a apresentar comportamentos padronizados, os [sistemas de recomendação](https://towardsdatascience.com/introduction-to-recommender-systems-6c66cf15ada) devem aprender esses padrões e [sugerir novos produtos](https://towardsdatascience.com/tagged/recommendation-system) aos consumidores, de acordo com seus gostos particulares.\n",
    "\n",
    "#### Sistemas de Recomendação podem ser encontrados:\n",
    "\n",
    "- Vendas, \"Onde comprar...?\";\n",
    "- Alimentaçõ, \"Onde comer...?\";\n",
    "- Empregos, \"Onde aplicar para uma posição...?\";\n",
    "- Redes sociais, \"Que amizade sugerir...?\"."
   ]
  },
  {
   "cell_type": "code",
   "execution_count": 1,
   "metadata": {},
   "outputs": [],
   "source": [
    "import pandas as pd\n",
    "import numpy as np\n",
    "import matplotlib.pyplot as plt\n",
    "from sklearn.preprocessing import MinMaxScaler\n",
    "from sklearn.decomposition import PCA\n",
    "from sklearn.neighbors import KNeighborsRegressor \n",
    "from sklearn.metrics.pairwise import cosine_similarity\n",
    "from sklearn.metrics import jaccard_score"
   ]
  },
  {
   "cell_type": "markdown",
   "metadata": {},
   "source": [
    "#### Vamos instanciar um `dataset` com um conjunto de dados para construirmos um sistema de recomendações. O arquivo `'ex1.csv'` trás dados cujas linhas podem ser interpretadas como usuários e as colunas podem ser interpretadas como items oferecidos pelo serviço."
   ]
  },
  {
   "cell_type": "code",
   "execution_count": 2,
   "metadata": {},
   "outputs": [
    {
     "data": {
      "text/html": [
       "<div>\n",
       "<style scoped>\n",
       "    .dataframe tbody tr th:only-of-type {\n",
       "        vertical-align: middle;\n",
       "    }\n",
       "\n",
       "    .dataframe tbody tr th {\n",
       "        vertical-align: top;\n",
       "    }\n",
       "\n",
       "    .dataframe thead th {\n",
       "        text-align: right;\n",
       "    }\n",
       "</style>\n",
       "<table border=\"1\" class=\"dataframe\">\n",
       "  <thead>\n",
       "    <tr style=\"text-align: right;\">\n",
       "      <th></th>\n",
       "      <th>0</th>\n",
       "      <th>1</th>\n",
       "      <th>2</th>\n",
       "      <th>3</th>\n",
       "      <th>4</th>\n",
       "      <th>5</th>\n",
       "      <th>6</th>\n",
       "      <th>7</th>\n",
       "      <th>8</th>\n",
       "      <th>9</th>\n",
       "    </tr>\n",
       "  </thead>\n",
       "  <tbody>\n",
       "    <tr>\n",
       "      <th>0</th>\n",
       "      <td>-1.0</td>\n",
       "      <td>-6.0</td>\n",
       "      <td>5.0</td>\n",
       "      <td>-10.0</td>\n",
       "      <td>7.0</td>\n",
       "      <td>6.0</td>\n",
       "      <td>7.0</td>\n",
       "      <td>-2.0</td>\n",
       "      <td>-1.0</td>\n",
       "      <td>-10.0</td>\n",
       "    </tr>\n",
       "    <tr>\n",
       "      <th>1</th>\n",
       "      <td>6.0</td>\n",
       "      <td>7.0</td>\n",
       "      <td>3.0</td>\n",
       "      <td>2.0</td>\n",
       "      <td>-9.0</td>\n",
       "      <td>-3.0</td>\n",
       "      <td>8.0</td>\n",
       "      <td>3.0</td>\n",
       "      <td>6.0</td>\n",
       "      <td>-10.0</td>\n",
       "    </tr>\n",
       "    <tr>\n",
       "      <th>2</th>\n",
       "      <td>3.0</td>\n",
       "      <td>-10.0</td>\n",
       "      <td>1.0</td>\n",
       "      <td>-8.0</td>\n",
       "      <td>3.0</td>\n",
       "      <td>8.0</td>\n",
       "      <td>4.0</td>\n",
       "      <td>1.0</td>\n",
       "      <td>-6.0</td>\n",
       "      <td>-10.0</td>\n",
       "    </tr>\n",
       "    <tr>\n",
       "      <th>3</th>\n",
       "      <td>2.0</td>\n",
       "      <td>-2.0</td>\n",
       "      <td>-3.0</td>\n",
       "      <td>-7.0</td>\n",
       "      <td>-6.0</td>\n",
       "      <td>4.0</td>\n",
       "      <td>5.0</td>\n",
       "      <td>2.0</td>\n",
       "      <td>6.0</td>\n",
       "      <td>-7.0</td>\n",
       "    </tr>\n",
       "    <tr>\n",
       "      <th>4</th>\n",
       "      <td>0.0</td>\n",
       "      <td>3.0</td>\n",
       "      <td>-3.0</td>\n",
       "      <td>-9.0</td>\n",
       "      <td>-4.0</td>\n",
       "      <td>5.0</td>\n",
       "      <td>3.0</td>\n",
       "      <td>1.0</td>\n",
       "      <td>7.0</td>\n",
       "      <td>-5.0</td>\n",
       "    </tr>\n",
       "    <tr>\n",
       "      <th>5</th>\n",
       "      <td>5.0</td>\n",
       "      <td>NaN</td>\n",
       "      <td>-3.0</td>\n",
       "      <td>-5.0</td>\n",
       "      <td>-10.0</td>\n",
       "      <td>6.0</td>\n",
       "      <td>5.0</td>\n",
       "      <td>3.0</td>\n",
       "      <td>NaN</td>\n",
       "      <td>-5.0</td>\n",
       "    </tr>\n",
       "  </tbody>\n",
       "</table>\n",
       "</div>"
      ],
      "text/plain": [
       "     0     1    2     3     4    5    6    7    8     9\n",
       "0 -1.0  -6.0  5.0 -10.0   7.0  6.0  7.0 -2.0 -1.0 -10.0\n",
       "1  6.0   7.0  3.0   2.0  -9.0 -3.0  8.0  3.0  6.0 -10.0\n",
       "2  3.0 -10.0  1.0  -8.0   3.0  8.0  4.0  1.0 -6.0 -10.0\n",
       "3  2.0  -2.0 -3.0  -7.0  -6.0  4.0  5.0  2.0  6.0  -7.0\n",
       "4  0.0   3.0 -3.0  -9.0  -4.0  5.0  3.0  1.0  7.0  -5.0\n",
       "5  5.0   NaN -3.0  -5.0 -10.0  6.0  5.0  3.0  NaN  -5.0"
      ]
     },
     "execution_count": 2,
     "metadata": {},
     "output_type": "execute_result"
    }
   ],
   "source": [
    "ex1 = pd.read_csv('ex1.csv')\n",
    "ex1#.describe()"
   ]
  },
  {
   "cell_type": "markdown",
   "metadata": {},
   "source": [
    "#### Vamos realizar um `scaling` dos dados com o método [`sklearn.preprocessing.MinMaxScaler()`](https://scikit-learn.org/stable/modules/generated/sklearn.preprocessing.MinMaxScaler.html) para facilitar sua modelização."
   ]
  },
  {
   "cell_type": "code",
   "execution_count": 3,
   "metadata": {},
   "outputs": [
    {
     "data": {
      "text/html": [
       "<div>\n",
       "<style scoped>\n",
       "    .dataframe tbody tr th:only-of-type {\n",
       "        vertical-align: middle;\n",
       "    }\n",
       "\n",
       "    .dataframe tbody tr th {\n",
       "        vertical-align: top;\n",
       "    }\n",
       "\n",
       "    .dataframe thead th {\n",
       "        text-align: right;\n",
       "    }\n",
       "</style>\n",
       "<table border=\"1\" class=\"dataframe\">\n",
       "  <thead>\n",
       "    <tr style=\"text-align: right;\">\n",
       "      <th></th>\n",
       "      <th>0</th>\n",
       "      <th>1</th>\n",
       "      <th>2</th>\n",
       "      <th>3</th>\n",
       "      <th>4</th>\n",
       "      <th>5</th>\n",
       "      <th>6</th>\n",
       "      <th>7</th>\n",
       "      <th>8</th>\n",
       "      <th>9</th>\n",
       "    </tr>\n",
       "  </thead>\n",
       "  <tbody>\n",
       "    <tr>\n",
       "      <th>0</th>\n",
       "      <td>1.00</td>\n",
       "      <td>3.12</td>\n",
       "      <td>10.00</td>\n",
       "      <td>1.00</td>\n",
       "      <td>10.00</td>\n",
       "      <td>8.36</td>\n",
       "      <td>8.2</td>\n",
       "      <td>1.0</td>\n",
       "      <td>4.46</td>\n",
       "      <td>1.0</td>\n",
       "    </tr>\n",
       "    <tr>\n",
       "      <th>1</th>\n",
       "      <td>10.00</td>\n",
       "      <td>10.00</td>\n",
       "      <td>7.75</td>\n",
       "      <td>10.00</td>\n",
       "      <td>1.53</td>\n",
       "      <td>1.00</td>\n",
       "      <td>10.0</td>\n",
       "      <td>10.0</td>\n",
       "      <td>9.31</td>\n",
       "      <td>1.0</td>\n",
       "    </tr>\n",
       "    <tr>\n",
       "      <th>2</th>\n",
       "      <td>6.14</td>\n",
       "      <td>1.00</td>\n",
       "      <td>5.50</td>\n",
       "      <td>2.50</td>\n",
       "      <td>7.88</td>\n",
       "      <td>10.00</td>\n",
       "      <td>2.8</td>\n",
       "      <td>6.4</td>\n",
       "      <td>1.00</td>\n",
       "      <td>1.0</td>\n",
       "    </tr>\n",
       "    <tr>\n",
       "      <th>3</th>\n",
       "      <td>4.86</td>\n",
       "      <td>5.24</td>\n",
       "      <td>1.00</td>\n",
       "      <td>3.25</td>\n",
       "      <td>3.12</td>\n",
       "      <td>6.73</td>\n",
       "      <td>4.6</td>\n",
       "      <td>8.2</td>\n",
       "      <td>9.31</td>\n",
       "      <td>6.4</td>\n",
       "    </tr>\n",
       "    <tr>\n",
       "      <th>4</th>\n",
       "      <td>2.29</td>\n",
       "      <td>7.88</td>\n",
       "      <td>1.00</td>\n",
       "      <td>1.75</td>\n",
       "      <td>4.18</td>\n",
       "      <td>7.55</td>\n",
       "      <td>1.0</td>\n",
       "      <td>6.4</td>\n",
       "      <td>10.00</td>\n",
       "      <td>10.0</td>\n",
       "    </tr>\n",
       "    <tr>\n",
       "      <th>5</th>\n",
       "      <td>8.71</td>\n",
       "      <td>NaN</td>\n",
       "      <td>1.00</td>\n",
       "      <td>4.75</td>\n",
       "      <td>1.00</td>\n",
       "      <td>8.36</td>\n",
       "      <td>4.6</td>\n",
       "      <td>10.0</td>\n",
       "      <td>NaN</td>\n",
       "      <td>10.0</td>\n",
       "    </tr>\n",
       "  </tbody>\n",
       "</table>\n",
       "</div>"
      ],
      "text/plain": [
       "       0      1      2      3      4      5     6     7      8     9\n",
       "0   1.00   3.12  10.00   1.00  10.00   8.36   8.2   1.0   4.46   1.0\n",
       "1  10.00  10.00   7.75  10.00   1.53   1.00  10.0  10.0   9.31   1.0\n",
       "2   6.14   1.00   5.50   2.50   7.88  10.00   2.8   6.4   1.00   1.0\n",
       "3   4.86   5.24   1.00   3.25   3.12   6.73   4.6   8.2   9.31   6.4\n",
       "4   2.29   7.88   1.00   1.75   4.18   7.55   1.0   6.4  10.00  10.0\n",
       "5   8.71    NaN   1.00   4.75   1.00   8.36   4.6  10.0    NaN  10.0"
      ]
     },
     "execution_count": 3,
     "metadata": {},
     "output_type": "execute_result"
    }
   ],
   "source": [
    "# Inicializa scaler com range de 1 a 10\n",
    "sc = MinMaxScaler(feature_range = (1, 10))\n",
    "#sc\n",
    "ex1_scaled = pd.DataFrame(sc.fit_transform(ex1)).round(2)\n",
    "ex1_scaled"
   ]
  },
  {
   "cell_type": "markdown",
   "metadata": {},
   "source": [
    "#### Podemos interpretar esse conjunto de dados como avaliações / interações de usuários com itens. Então vamos definir os nomes para os índices `rows` e para as colunas `columns`."
   ]
  },
  {
   "cell_type": "code",
   "execution_count": 4,
   "metadata": {},
   "outputs": [
    {
     "data": {
      "text/html": [
       "<div>\n",
       "<style scoped>\n",
       "    .dataframe tbody tr th:only-of-type {\n",
       "        vertical-align: middle;\n",
       "    }\n",
       "\n",
       "    .dataframe tbody tr th {\n",
       "        vertical-align: top;\n",
       "    }\n",
       "\n",
       "    .dataframe thead th {\n",
       "        text-align: right;\n",
       "    }\n",
       "</style>\n",
       "<table border=\"1\" class=\"dataframe\">\n",
       "  <thead>\n",
       "    <tr style=\"text-align: right;\">\n",
       "      <th></th>\n",
       "      <th>item_0</th>\n",
       "      <th>item_1</th>\n",
       "      <th>item_2</th>\n",
       "      <th>item_3</th>\n",
       "      <th>item_4</th>\n",
       "      <th>item_5</th>\n",
       "      <th>item_6</th>\n",
       "      <th>item_7</th>\n",
       "      <th>item_8</th>\n",
       "      <th>item_9</th>\n",
       "    </tr>\n",
       "  </thead>\n",
       "  <tbody>\n",
       "    <tr>\n",
       "      <th>user_0</th>\n",
       "      <td>1.00</td>\n",
       "      <td>3.12</td>\n",
       "      <td>10.00</td>\n",
       "      <td>1.00</td>\n",
       "      <td>10.00</td>\n",
       "      <td>8.36</td>\n",
       "      <td>8.2</td>\n",
       "      <td>1.0</td>\n",
       "      <td>4.46</td>\n",
       "      <td>1.0</td>\n",
       "    </tr>\n",
       "    <tr>\n",
       "      <th>user_1</th>\n",
       "      <td>10.00</td>\n",
       "      <td>10.00</td>\n",
       "      <td>7.75</td>\n",
       "      <td>10.00</td>\n",
       "      <td>1.53</td>\n",
       "      <td>1.00</td>\n",
       "      <td>10.0</td>\n",
       "      <td>10.0</td>\n",
       "      <td>9.31</td>\n",
       "      <td>1.0</td>\n",
       "    </tr>\n",
       "    <tr>\n",
       "      <th>user_2</th>\n",
       "      <td>6.14</td>\n",
       "      <td>1.00</td>\n",
       "      <td>5.50</td>\n",
       "      <td>2.50</td>\n",
       "      <td>7.88</td>\n",
       "      <td>10.00</td>\n",
       "      <td>2.8</td>\n",
       "      <td>6.4</td>\n",
       "      <td>1.00</td>\n",
       "      <td>1.0</td>\n",
       "    </tr>\n",
       "    <tr>\n",
       "      <th>user_3</th>\n",
       "      <td>4.86</td>\n",
       "      <td>5.24</td>\n",
       "      <td>1.00</td>\n",
       "      <td>3.25</td>\n",
       "      <td>3.12</td>\n",
       "      <td>6.73</td>\n",
       "      <td>4.6</td>\n",
       "      <td>8.2</td>\n",
       "      <td>9.31</td>\n",
       "      <td>6.4</td>\n",
       "    </tr>\n",
       "    <tr>\n",
       "      <th>user_4</th>\n",
       "      <td>2.29</td>\n",
       "      <td>7.88</td>\n",
       "      <td>1.00</td>\n",
       "      <td>1.75</td>\n",
       "      <td>4.18</td>\n",
       "      <td>7.55</td>\n",
       "      <td>1.0</td>\n",
       "      <td>6.4</td>\n",
       "      <td>10.00</td>\n",
       "      <td>10.0</td>\n",
       "    </tr>\n",
       "    <tr>\n",
       "      <th>user_5</th>\n",
       "      <td>8.71</td>\n",
       "      <td>NaN</td>\n",
       "      <td>1.00</td>\n",
       "      <td>4.75</td>\n",
       "      <td>1.00</td>\n",
       "      <td>8.36</td>\n",
       "      <td>4.6</td>\n",
       "      <td>10.0</td>\n",
       "      <td>NaN</td>\n",
       "      <td>10.0</td>\n",
       "    </tr>\n",
       "  </tbody>\n",
       "</table>\n",
       "</div>"
      ],
      "text/plain": [
       "        item_0  item_1  item_2  item_3  item_4  item_5  item_6  item_7  \\\n",
       "user_0    1.00    3.12   10.00    1.00   10.00    8.36     8.2     1.0   \n",
       "user_1   10.00   10.00    7.75   10.00    1.53    1.00    10.0    10.0   \n",
       "user_2    6.14    1.00    5.50    2.50    7.88   10.00     2.8     6.4   \n",
       "user_3    4.86    5.24    1.00    3.25    3.12    6.73     4.6     8.2   \n",
       "user_4    2.29    7.88    1.00    1.75    4.18    7.55     1.0     6.4   \n",
       "user_5    8.71     NaN    1.00    4.75    1.00    8.36     4.6    10.0   \n",
       "\n",
       "        item_8  item_9  \n",
       "user_0    4.46     1.0  \n",
       "user_1    9.31     1.0  \n",
       "user_2    1.00     1.0  \n",
       "user_3    9.31     6.4  \n",
       "user_4   10.00    10.0  \n",
       "user_5     NaN    10.0  "
      ]
     },
     "execution_count": 4,
     "metadata": {},
     "output_type": "execute_result"
    }
   ],
   "source": [
    "rows = [f'user_{i}' for i in range(ex1_scaled.shape[0])]\n",
    "columns = [f'item_{i}' for i in range(ex1_scaled.shape[1])]\n",
    "\n",
    "ex1_scaled.columns = columns\n",
    "ex1_scaled.index = rows\n",
    "ex1_scaled"
   ]
  },
  {
   "cell_type": "markdown",
   "metadata": {},
   "source": [
    "#### Uma vez contruído o `dataframe` a ser usado, vamos gerar recomendações.\n",
    "\n",
    "     - Podemos tomar a média das avaliações e sugerir sempre os itens melhor avaliados."
   ]
  },
  {
   "cell_type": "code",
   "execution_count": 5,
   "metadata": {},
   "outputs": [],
   "source": [
    "def recommend_mean(n_recommendations, interactions):\n",
    "    recommendations = interactions.mean(axis = 0).sort_values(ascending = False).index.tolist()[ : n_recommendations]\n",
    "    return recommendations"
   ]
  },
  {
   "cell_type": "code",
   "execution_count": 6,
   "metadata": {},
   "outputs": [],
   "source": [
    "#n_recommendations = 3\n",
    "#ex1_scaled.mean(axis = 0).sort_values(ascending = False).index.tolist()[ : n_recommendations]"
   ]
  },
  {
   "cell_type": "code",
   "execution_count": 7,
   "metadata": {},
   "outputs": [
    {
     "data": {
      "text/plain": [
       "['item_5', 'item_7', 'item_8', 'item_0', 'item_1']"
      ]
     },
     "execution_count": 7,
     "metadata": {},
     "output_type": "execute_result"
    }
   ],
   "source": [
    "recommend_mean(5, ex1_scaled)"
   ]
  },
  {
   "cell_type": "markdown",
   "metadata": {},
   "source": [
    "#### Há vantagens em sistemas de recomendação, entreleas estão:\n",
    "\n",
    "- Exposição ampla aos items disponíveis;\n",
    "- Encorajamento do uso contínuo e compra de produtos;\n",
    "- Experiência personalizada;"
   ]
  },
  {
   "cell_type": "markdown",
   "metadata": {},
   "source": [
    "#### Entretanto recomendar produtos com base na média das avaliações tem alguns problemas:\n",
    "\n",
    "- Sempre os mesmos produtos;\n",
    "- Ciclo vicioso;\n",
    "- Sem personalização;\n",
    "- Dificuldade de inserção de novos produtos;.\n",
    "\n",
    "#### É necessária, então, uma nova estratégia. Talvez buscar por usuários similares. A questão é como identificar usuários similares a partir de suas avaliações."
   ]
  },
  {
   "cell_type": "markdown",
   "metadata": {},
   "source": [
    "- Queremos recomendar itens ainda não vistos para o usuário `user_5`. Como identificar se ele tem mais propensão a gostar do `item 8` ou do `item 1`?"
   ]
  },
  {
   "cell_type": "markdown",
   "metadata": {},
   "source": [
    "#### Um sistema de recomendação costuma ter duas aproximações. A Filtragem Colaborativa, em que os dados de usuários com preferências semelhantes são utilizados para a sugestão de itens e Filtragem Baseada em Conteúdo, em que os dados dos próprios usuários são utilizados para que o sistema faça sugestões de items semelhantes.\n",
    "\n",
    "<img src=\"RECOMMENDATION_SYSTEMS.png\" width=\"463\" height=\"301\" />\n",
    "\n",
    "- [`Collaborative Filtering`](https://towardsdatascience.com/tagged/collaborative-filtering): Dados de usuários semelhantes são utilizados para as recomendações items.\n",
    "\n",
    "- [`Content Based Filtering`](https://towardsdatascience.com/tagged/content-based-filtering): Dados do próprio usuário são utilizados para as recomendações de items semelhantes."
   ]
  },
  {
   "cell_type": "markdown",
   "metadata": {},
   "source": [
    "<h1><center>As preferências semelhantes anteriores podem informar as preferências futuras</center></h1>"
   ]
  },
  {
   "cell_type": "markdown",
   "metadata": {},
   "source": [
    "### Collaborative Filtering"
   ]
  },
  {
   "cell_type": "markdown",
   "metadata": {},
   "source": [
    "#### A filtragem colaborativa, ou [`Collaborative Filtering`](https://towardsdatascience.com/essentials-of-recommendation-engines-content-based-and-collaborative-filtering-31521c964922) tenta descobrir quais itens são populares entre os outros usuários e que poderiam ser recomendados para um usuário específico."
   ]
  },
  {
   "cell_type": "markdown",
   "metadata": {},
   "source": [
    "#### Correlação: \n",
    "\n",
    "#### A [correlação de Pearson](https://towardsdatascience.com/tagged/pearson-correlation) mede quão bem a distribuição de duas variáveis pode ser representada por uma reta. Assim, usuários que apresentem uma boa correlação positiva tendem a avaliar os itens de forma parecida."
   ]
  },
  {
   "cell_type": "code",
   "execution_count": 8,
   "metadata": {},
   "outputs": [
    {
     "data": {
      "text/html": [
       "<div>\n",
       "<style scoped>\n",
       "    .dataframe tbody tr th:only-of-type {\n",
       "        vertical-align: middle;\n",
       "    }\n",
       "\n",
       "    .dataframe tbody tr th {\n",
       "        vertical-align: top;\n",
       "    }\n",
       "\n",
       "    .dataframe thead th {\n",
       "        text-align: right;\n",
       "    }\n",
       "</style>\n",
       "<table border=\"1\" class=\"dataframe\">\n",
       "  <thead>\n",
       "    <tr style=\"text-align: right;\">\n",
       "      <th></th>\n",
       "      <th>user_0</th>\n",
       "      <th>user_1</th>\n",
       "      <th>user_2</th>\n",
       "      <th>user_3</th>\n",
       "      <th>user_4</th>\n",
       "      <th>user_5</th>\n",
       "    </tr>\n",
       "  </thead>\n",
       "  <tbody>\n",
       "    <tr>\n",
       "      <th>user_0</th>\n",
       "      <td>1.000000</td>\n",
       "      <td>-0.363247</td>\n",
       "      <td>0.450552</td>\n",
       "      <td>-0.430991</td>\n",
       "      <td>-0.296703</td>\n",
       "      <td>-0.731074</td>\n",
       "    </tr>\n",
       "    <tr>\n",
       "      <th>user_1</th>\n",
       "      <td>-0.363247</td>\n",
       "      <td>1.000000</td>\n",
       "      <td>-0.410021</td>\n",
       "      <td>0.018939</td>\n",
       "      <td>-0.369807</td>\n",
       "      <td>-0.018451</td>\n",
       "    </tr>\n",
       "    <tr>\n",
       "      <th>user_2</th>\n",
       "      <td>0.450552</td>\n",
       "      <td>-0.410021</td>\n",
       "      <td>1.000000</td>\n",
       "      <td>-0.158850</td>\n",
       "      <td>-0.251396</td>\n",
       "      <td>-0.080114</td>\n",
       "    </tr>\n",
       "    <tr>\n",
       "      <th>user_3</th>\n",
       "      <td>-0.430991</td>\n",
       "      <td>0.018939</td>\n",
       "      <td>-0.158850</td>\n",
       "      <td>1.000000</td>\n",
       "      <td>0.776855</td>\n",
       "      <td>0.894062</td>\n",
       "    </tr>\n",
       "    <tr>\n",
       "      <th>user_4</th>\n",
       "      <td>-0.296703</td>\n",
       "      <td>-0.369807</td>\n",
       "      <td>-0.251396</td>\n",
       "      <td>0.776855</td>\n",
       "      <td>1.000000</td>\n",
       "      <td>0.658376</td>\n",
       "    </tr>\n",
       "    <tr>\n",
       "      <th>user_5</th>\n",
       "      <td>-0.731074</td>\n",
       "      <td>-0.018451</td>\n",
       "      <td>-0.080114</td>\n",
       "      <td>0.894062</td>\n",
       "      <td>0.658376</td>\n",
       "      <td>1.000000</td>\n",
       "    </tr>\n",
       "  </tbody>\n",
       "</table>\n",
       "</div>"
      ],
      "text/plain": [
       "          user_0    user_1    user_2    user_3    user_4    user_5\n",
       "user_0  1.000000 -0.363247  0.450552 -0.430991 -0.296703 -0.731074\n",
       "user_1 -0.363247  1.000000 -0.410021  0.018939 -0.369807 -0.018451\n",
       "user_2  0.450552 -0.410021  1.000000 -0.158850 -0.251396 -0.080114\n",
       "user_3 -0.430991  0.018939 -0.158850  1.000000  0.776855  0.894062\n",
       "user_4 -0.296703 -0.369807 -0.251396  0.776855  1.000000  0.658376\n",
       "user_5 -0.731074 -0.018451 -0.080114  0.894062  0.658376  1.000000"
      ]
     },
     "execution_count": 8,
     "metadata": {},
     "output_type": "execute_result"
    }
   ],
   "source": [
    "corr_matrix_user = ex1_scaled.T.corr()\n",
    "corr_matrix_user"
   ]
  },
  {
   "cell_type": "markdown",
   "metadata": {},
   "source": [
    "#### Encontramos os usuários mais correlacionados com o `user_5`."
   ]
  },
  {
   "cell_type": "code",
   "execution_count": 9,
   "metadata": {},
   "outputs": [
    {
     "data": {
      "text/plain": [
       "user_5    1.000000\n",
       "user_3    0.894062\n",
       "user_4    0.658376\n",
       "user_1   -0.018451\n",
       "user_2   -0.080114\n",
       "user_0   -0.731074\n",
       "Name: user_5, dtype: float64"
      ]
     },
     "execution_count": 9,
     "metadata": {},
     "output_type": "execute_result"
    }
   ],
   "source": [
    "corr_matrix_user['user_5'].sort_values(ascending = False)"
   ]
  },
  {
   "cell_type": "markdown",
   "metadata": {},
   "source": [
    "#### Vemos que o usuário que apresenta maior correlação com o usuário `user_5` é o usuário `user_3`. Observe gráfico."
   ]
  },
  {
   "cell_type": "code",
   "execution_count": 10,
   "metadata": {},
   "outputs": [
    {
     "data": {
      "text/html": [
       "<div>\n",
       "<style scoped>\n",
       "    .dataframe tbody tr th:only-of-type {\n",
       "        vertical-align: middle;\n",
       "    }\n",
       "\n",
       "    .dataframe tbody tr th {\n",
       "        vertical-align: top;\n",
       "    }\n",
       "\n",
       "    .dataframe thead th {\n",
       "        text-align: right;\n",
       "    }\n",
       "</style>\n",
       "<table border=\"1\" class=\"dataframe\">\n",
       "  <thead>\n",
       "    <tr style=\"text-align: right;\">\n",
       "      <th></th>\n",
       "      <th>item_0</th>\n",
       "      <th>item_1</th>\n",
       "      <th>item_2</th>\n",
       "      <th>item_3</th>\n",
       "      <th>item_4</th>\n",
       "      <th>item_5</th>\n",
       "      <th>item_6</th>\n",
       "      <th>item_7</th>\n",
       "      <th>item_8</th>\n",
       "      <th>item_9</th>\n",
       "    </tr>\n",
       "  </thead>\n",
       "  <tbody>\n",
       "    <tr>\n",
       "      <th>user_0</th>\n",
       "      <td>1.00</td>\n",
       "      <td>3.12</td>\n",
       "      <td>10.00</td>\n",
       "      <td>1.00</td>\n",
       "      <td>10.00</td>\n",
       "      <td>8.36</td>\n",
       "      <td>8.2</td>\n",
       "      <td>1.0</td>\n",
       "      <td>4.46</td>\n",
       "      <td>1.0</td>\n",
       "    </tr>\n",
       "    <tr>\n",
       "      <th>user_1</th>\n",
       "      <td>10.00</td>\n",
       "      <td>10.00</td>\n",
       "      <td>7.75</td>\n",
       "      <td>10.00</td>\n",
       "      <td>1.53</td>\n",
       "      <td>1.00</td>\n",
       "      <td>10.0</td>\n",
       "      <td>10.0</td>\n",
       "      <td>9.31</td>\n",
       "      <td>1.0</td>\n",
       "    </tr>\n",
       "    <tr>\n",
       "      <th>user_2</th>\n",
       "      <td>6.14</td>\n",
       "      <td>1.00</td>\n",
       "      <td>5.50</td>\n",
       "      <td>2.50</td>\n",
       "      <td>7.88</td>\n",
       "      <td>10.00</td>\n",
       "      <td>2.8</td>\n",
       "      <td>6.4</td>\n",
       "      <td>1.00</td>\n",
       "      <td>1.0</td>\n",
       "    </tr>\n",
       "    <tr>\n",
       "      <th>user_3</th>\n",
       "      <td>4.86</td>\n",
       "      <td>5.24</td>\n",
       "      <td>1.00</td>\n",
       "      <td>3.25</td>\n",
       "      <td>3.12</td>\n",
       "      <td>6.73</td>\n",
       "      <td>4.6</td>\n",
       "      <td>8.2</td>\n",
       "      <td>9.31</td>\n",
       "      <td>6.4</td>\n",
       "    </tr>\n",
       "    <tr>\n",
       "      <th>user_4</th>\n",
       "      <td>2.29</td>\n",
       "      <td>7.88</td>\n",
       "      <td>1.00</td>\n",
       "      <td>1.75</td>\n",
       "      <td>4.18</td>\n",
       "      <td>7.55</td>\n",
       "      <td>1.0</td>\n",
       "      <td>6.4</td>\n",
       "      <td>10.00</td>\n",
       "      <td>10.0</td>\n",
       "    </tr>\n",
       "    <tr>\n",
       "      <th>user_5</th>\n",
       "      <td>8.71</td>\n",
       "      <td>NaN</td>\n",
       "      <td>1.00</td>\n",
       "      <td>4.75</td>\n",
       "      <td>1.00</td>\n",
       "      <td>8.36</td>\n",
       "      <td>4.6</td>\n",
       "      <td>10.0</td>\n",
       "      <td>NaN</td>\n",
       "      <td>10.0</td>\n",
       "    </tr>\n",
       "  </tbody>\n",
       "</table>\n",
       "</div>"
      ],
      "text/plain": [
       "        item_0  item_1  item_2  item_3  item_4  item_5  item_6  item_7  \\\n",
       "user_0    1.00    3.12   10.00    1.00   10.00    8.36     8.2     1.0   \n",
       "user_1   10.00   10.00    7.75   10.00    1.53    1.00    10.0    10.0   \n",
       "user_2    6.14    1.00    5.50    2.50    7.88   10.00     2.8     6.4   \n",
       "user_3    4.86    5.24    1.00    3.25    3.12    6.73     4.6     8.2   \n",
       "user_4    2.29    7.88    1.00    1.75    4.18    7.55     1.0     6.4   \n",
       "user_5    8.71     NaN    1.00    4.75    1.00    8.36     4.6    10.0   \n",
       "\n",
       "        item_8  item_9  \n",
       "user_0    4.46     1.0  \n",
       "user_1    9.31     1.0  \n",
       "user_2    1.00     1.0  \n",
       "user_3    9.31     6.4  \n",
       "user_4   10.00    10.0  \n",
       "user_5     NaN    10.0  "
      ]
     },
     "execution_count": 10,
     "metadata": {},
     "output_type": "execute_result"
    }
   ],
   "source": [
    "#ex1_scaled = ex1_scaled.fillna(0)\n",
    "ex1_scaled\n",
    "#ex1_scaled.loc['user_5']\n",
    "#ex1_scaled.shape[1]"
   ]
  },
  {
   "cell_type": "code",
   "execution_count": 11,
   "metadata": {},
   "outputs": [
    {
     "data": {
      "image/png": "[encoded data removed]",
      "text/plain": [
       "<Figure size 1080x576 with 1 Axes>"
      ]
     },
     "metadata": {
      "needs_background": "light"
     },
     "output_type": "display_data"
    }
   ],
   "source": [
    "# Gráfico de notas de user_3 e user_5 para todos os itens\n",
    "plt.figure(figsize = (15, 8))\n",
    "plt.scatter(ex1_scaled.loc['user_3'], \n",
    "            ex1_scaled.loc['user_5']\n",
    "           )\n",
    "\n",
    "for i in range(ex1_scaled.shape[1]):\n",
    "    plt.annotate(ex1_scaled.loc['user_3'].index[i],\n",
    "                 (ex1_scaled.loc['user_3'].values[i], \n",
    "                  ex1_scaled.loc['user_5'].values[i])\n",
    "                )\n",
    "    \n",
    "plt.xticks(np.arange(0, 11, 0.5))\n",
    "plt.yticks(np.arange(0, 11, 0.5))\n",
    "plt.show()"
   ]
  },
  {
   "cell_type": "markdown",
   "metadata": {},
   "source": [
    "#### Parece que de fato, conseguimos ajustar uma reta sobre esses valores. Isso quer dizer que estes dois usuários avaliam os itens de forma muito semelhante. Então é razoável assumir que o usuário `user_5` avaliaria de forma semelhante ao usuário `user_3` os itens que ele ainda não viu."
   ]
  },
  {
   "cell_type": "code",
   "execution_count": 12,
   "metadata": {},
   "outputs": [],
   "source": [
    "def recommend_corr(user_idx, n_recommendations, interactions):\n",
    "    user = f'user_{user_idx}'\n",
    "    most_similar_user = (interactions.T.corr().drop(user)[user].sort_values(ascending = False).index[0])\n",
    "\n",
    "    unseen_items = [item for item in interactions.loc[user].index if np.isnan(interactions.loc[(user), item])]\n",
    "\n",
    "    unseen_scores = interactions.loc[user].fillna(interactions.loc[most_similar_user])[unseen_items]\n",
    "    print('Usuário mais similar:', \n",
    "          most_similar_user\n",
    "         )\n",
    "    return unseen_scores.sort_values(ascending = False).index.tolist()[:n_recommendations]"
   ]
  },
  {
   "cell_type": "markdown",
   "metadata": {},
   "source": [
    "#### Podemos gerar recomendação baseada em correlação entre usuários"
   ]
  },
  {
   "cell_type": "code",
   "execution_count": 13,
   "metadata": {},
   "outputs": [
    {
     "name": "stdout",
     "output_type": "stream",
     "text": [
      "Usuário mais similar: user_3\n"
     ]
    },
    {
     "data": {
      "text/plain": [
       "['item_8']"
      ]
     },
     "execution_count": 13,
     "metadata": {},
     "output_type": "execute_result"
    }
   ],
   "source": [
    "recommend_corr(5, 1, ex1_scaled)"
   ]
  },
  {
   "cell_type": "markdown",
   "metadata": {},
   "source": [
    "#### Podemos também usar o modelo dos `k` vizinhos mais próximos ([`kNN`](https://medium.com/learning-machine-learning/recommending-animes-using-nearest-neighbors-61320a1a5934))."
   ]
  },
  {
   "cell_type": "code",
   "execution_count": 14,
   "metadata": {},
   "outputs": [],
   "source": [
    "def recommend_knn(user_idx, interactions, n_recommendations, n_neighbors, distance_metric):\n",
    "    \n",
    "    knn = KNeighborsRegressor(n_neighbors = n_neighbors, \n",
    "                              weights = 'distance', \n",
    "                              metric = distance_metric\n",
    "                             )\n",
    "    \n",
    "    user = f'user_{user_idx}'\n",
    "\n",
    "    unseen_items = [item for item in interactions.columns if np.isnan(interactions.loc[user, item])]\n",
    "    \n",
    "    X = (interactions.drop(user).drop(unseen_items, axis = 1))\n",
    "    \n",
    "    y = (interactions.drop(user)[unseen_items])\n",
    "    \n",
    "    knn.fit(X, y)\n",
    "    \n",
    "    X_user = interactions.loc[[user]].drop(unseen_items, axis = 1)\n",
    "    \n",
    "    interactions_unseen = knn.predict(X_user)\n",
    "    \n",
    "    interactions_user = interactions.copy()\n",
    "    interactions_user.loc[user, unseen_items] = interactions_unseen\n",
    "    \n",
    "    print('Usuário mais similar:')\n",
    "    display(interactions_user.loc[user, unseen_items].sort_values(ascending = False))\n",
    "    \n",
    "    return interactions_user.loc[user, unseen_items].sort_values(ascending = False).index.tolist()[:n_recommendations]\n"
   ]
  },
  {
   "cell_type": "markdown",
   "metadata": {},
   "source": [
    "#### Usuários como o `user_5` também viram:"
   ]
  },
  {
   "cell_type": "code",
   "execution_count": 15,
   "metadata": {},
   "outputs": [
    {
     "name": "stdout",
     "output_type": "stream",
     "text": [
      "Usuário mais similar:\n"
     ]
    },
    {
     "data": {
      "text/plain": [
       "item_8    8.791112\n",
       "item_1    5.395276\n",
       "Name: user_5, dtype: float64"
      ]
     },
     "metadata": {},
     "output_type": "display_data"
    },
    {
     "data": {
      "text/plain": [
       "['item_8']"
      ]
     },
     "execution_count": 15,
     "metadata": {},
     "output_type": "execute_result"
    }
   ],
   "source": [
    "recommend_knn(5, ex1_scaled, 1, 3, 'cosine')"
   ]
  },
  {
   "cell_type": "markdown",
   "metadata": {},
   "source": [
    "### Content Based Filtering"
   ]
  },
  {
   "cell_type": "markdown",
   "metadata": {},
   "source": [
    "#### A [Filtragem baseada em conteúdo](https://towardsdatascience.com/tagged/content-based-filtering) tenta descobrir quais são os aspectos preferidos de um item para o usuário e então faz recomendações de itens que compartilham desses aspectos. Essa abordagem recomenda itens semelhantes aos que o usuário já consumiu.\n",
    "\n",
    "#### Vamos criar uma nova observação no `dataset` `ex1_scaled`."
   ]
  },
  {
   "cell_type": "code",
   "execution_count": 16,
   "metadata": {},
   "outputs": [
    {
     "data": {
      "text/html": [
       "<div>\n",
       "<style scoped>\n",
       "    .dataframe tbody tr th:only-of-type {\n",
       "        vertical-align: middle;\n",
       "    }\n",
       "\n",
       "    .dataframe tbody tr th {\n",
       "        vertical-align: top;\n",
       "    }\n",
       "\n",
       "    .dataframe thead th {\n",
       "        text-align: right;\n",
       "    }\n",
       "</style>\n",
       "<table border=\"1\" class=\"dataframe\">\n",
       "  <thead>\n",
       "    <tr style=\"text-align: right;\">\n",
       "      <th></th>\n",
       "      <th>item_0</th>\n",
       "      <th>item_1</th>\n",
       "      <th>item_2</th>\n",
       "      <th>item_3</th>\n",
       "      <th>item_4</th>\n",
       "      <th>item_5</th>\n",
       "      <th>item_6</th>\n",
       "      <th>item_7</th>\n",
       "      <th>item_8</th>\n",
       "      <th>item_9</th>\n",
       "    </tr>\n",
       "  </thead>\n",
       "  <tbody>\n",
       "    <tr>\n",
       "      <th>user_0</th>\n",
       "      <td>1.00</td>\n",
       "      <td>3.12</td>\n",
       "      <td>10.00</td>\n",
       "      <td>1.00</td>\n",
       "      <td>10.00</td>\n",
       "      <td>8.36</td>\n",
       "      <td>8.2</td>\n",
       "      <td>1.0</td>\n",
       "      <td>4.46</td>\n",
       "      <td>1.0</td>\n",
       "    </tr>\n",
       "    <tr>\n",
       "      <th>user_1</th>\n",
       "      <td>10.00</td>\n",
       "      <td>10.00</td>\n",
       "      <td>7.75</td>\n",
       "      <td>10.00</td>\n",
       "      <td>1.53</td>\n",
       "      <td>1.00</td>\n",
       "      <td>10.0</td>\n",
       "      <td>10.0</td>\n",
       "      <td>9.31</td>\n",
       "      <td>1.0</td>\n",
       "    </tr>\n",
       "    <tr>\n",
       "      <th>user_2</th>\n",
       "      <td>6.14</td>\n",
       "      <td>1.00</td>\n",
       "      <td>5.50</td>\n",
       "      <td>2.50</td>\n",
       "      <td>7.88</td>\n",
       "      <td>10.00</td>\n",
       "      <td>2.8</td>\n",
       "      <td>6.4</td>\n",
       "      <td>1.00</td>\n",
       "      <td>1.0</td>\n",
       "    </tr>\n",
       "    <tr>\n",
       "      <th>user_3</th>\n",
       "      <td>4.86</td>\n",
       "      <td>5.24</td>\n",
       "      <td>1.00</td>\n",
       "      <td>3.25</td>\n",
       "      <td>3.12</td>\n",
       "      <td>6.73</td>\n",
       "      <td>4.6</td>\n",
       "      <td>8.2</td>\n",
       "      <td>9.31</td>\n",
       "      <td>6.4</td>\n",
       "    </tr>\n",
       "    <tr>\n",
       "      <th>user_4</th>\n",
       "      <td>2.29</td>\n",
       "      <td>7.88</td>\n",
       "      <td>1.00</td>\n",
       "      <td>1.75</td>\n",
       "      <td>4.18</td>\n",
       "      <td>7.55</td>\n",
       "      <td>1.0</td>\n",
       "      <td>6.4</td>\n",
       "      <td>10.00</td>\n",
       "      <td>10.0</td>\n",
       "    </tr>\n",
       "    <tr>\n",
       "      <th>user_5</th>\n",
       "      <td>8.71</td>\n",
       "      <td>NaN</td>\n",
       "      <td>1.00</td>\n",
       "      <td>4.75</td>\n",
       "      <td>1.00</td>\n",
       "      <td>8.36</td>\n",
       "      <td>4.6</td>\n",
       "      <td>10.0</td>\n",
       "      <td>NaN</td>\n",
       "      <td>10.0</td>\n",
       "    </tr>\n",
       "    <tr>\n",
       "      <th>user_6</th>\n",
       "      <td>4.00</td>\n",
       "      <td>10.00</td>\n",
       "      <td>6.00</td>\n",
       "      <td>NaN</td>\n",
       "      <td>NaN</td>\n",
       "      <td>NaN</td>\n",
       "      <td>NaN</td>\n",
       "      <td>NaN</td>\n",
       "      <td>NaN</td>\n",
       "      <td>NaN</td>\n",
       "    </tr>\n",
       "  </tbody>\n",
       "</table>\n",
       "</div>"
      ],
      "text/plain": [
       "        item_0  item_1  item_2  item_3  item_4  item_5  item_6  item_7  \\\n",
       "user_0    1.00    3.12   10.00    1.00   10.00    8.36     8.2     1.0   \n",
       "user_1   10.00   10.00    7.75   10.00    1.53    1.00    10.0    10.0   \n",
       "user_2    6.14    1.00    5.50    2.50    7.88   10.00     2.8     6.4   \n",
       "user_3    4.86    5.24    1.00    3.25    3.12    6.73     4.6     8.2   \n",
       "user_4    2.29    7.88    1.00    1.75    4.18    7.55     1.0     6.4   \n",
       "user_5    8.71     NaN    1.00    4.75    1.00    8.36     4.6    10.0   \n",
       "user_6    4.00   10.00    6.00     NaN     NaN     NaN     NaN     NaN   \n",
       "\n",
       "        item_8  item_9  \n",
       "user_0    4.46     1.0  \n",
       "user_1    9.31     1.0  \n",
       "user_2    1.00     1.0  \n",
       "user_3    9.31     6.4  \n",
       "user_4   10.00    10.0  \n",
       "user_5     NaN    10.0  \n",
       "user_6     NaN     NaN  "
      ]
     },
     "execution_count": 16,
     "metadata": {},
     "output_type": "execute_result"
    }
   ],
   "source": [
    "ex1_scaled.loc['user_6', \n",
    "               ['item_0', 'item_1', 'item_2']\n",
    "              ] = [4., 10., 6.]\n",
    "\n",
    "ex1_scaled"
   ]
  },
  {
   "cell_type": "markdown",
   "metadata": {},
   "source": [
    "#### Agora dispomos também de algumas informações sobre os filmes, vamos ler um novo `dataset`"
   ]
  },
  {
   "cell_type": "code",
   "execution_count": 17,
   "metadata": {},
   "outputs": [
    {
     "data": {
      "text/html": [
       "<div>\n",
       "<style scoped>\n",
       "    .dataframe tbody tr th:only-of-type {\n",
       "        vertical-align: middle;\n",
       "    }\n",
       "\n",
       "    .dataframe tbody tr th {\n",
       "        vertical-align: top;\n",
       "    }\n",
       "\n",
       "    .dataframe thead th {\n",
       "        text-align: right;\n",
       "    }\n",
       "</style>\n",
       "<table border=\"1\" class=\"dataframe\">\n",
       "  <thead>\n",
       "    <tr style=\"text-align: right;\">\n",
       "      <th></th>\n",
       "      <th>duration_min</th>\n",
       "      <th>budget_M</th>\n",
       "      <th>year</th>\n",
       "      <th>genre</th>\n",
       "    </tr>\n",
       "  </thead>\n",
       "  <tbody>\n",
       "    <tr>\n",
       "      <th>item_0</th>\n",
       "      <td>105</td>\n",
       "      <td>13</td>\n",
       "      <td>2004</td>\n",
       "      <td>action</td>\n",
       "    </tr>\n",
       "    <tr>\n",
       "      <th>item_1</th>\n",
       "      <td>96</td>\n",
       "      <td>0</td>\n",
       "      <td>2019</td>\n",
       "      <td>comedy</td>\n",
       "    </tr>\n",
       "    <tr>\n",
       "      <th>item_2</th>\n",
       "      <td>118</td>\n",
       "      <td>6</td>\n",
       "      <td>2001</td>\n",
       "      <td>drama</td>\n",
       "    </tr>\n",
       "    <tr>\n",
       "      <th>item_3</th>\n",
       "      <td>80</td>\n",
       "      <td>9</td>\n",
       "      <td>2002</td>\n",
       "      <td>drama</td>\n",
       "    </tr>\n",
       "    <tr>\n",
       "      <th>item_4</th>\n",
       "      <td>105</td>\n",
       "      <td>4</td>\n",
       "      <td>2006</td>\n",
       "      <td>action</td>\n",
       "    </tr>\n",
       "    <tr>\n",
       "      <th>item_5</th>\n",
       "      <td>106</td>\n",
       "      <td>11</td>\n",
       "      <td>2009</td>\n",
       "      <td>action</td>\n",
       "    </tr>\n",
       "    <tr>\n",
       "      <th>item_6</th>\n",
       "      <td>89</td>\n",
       "      <td>16</td>\n",
       "      <td>2004</td>\n",
       "      <td>action</td>\n",
       "    </tr>\n",
       "    <tr>\n",
       "      <th>item_7</th>\n",
       "      <td>90</td>\n",
       "      <td>11</td>\n",
       "      <td>2009</td>\n",
       "      <td>action</td>\n",
       "    </tr>\n",
       "    <tr>\n",
       "      <th>item_8</th>\n",
       "      <td>126</td>\n",
       "      <td>14</td>\n",
       "      <td>2010</td>\n",
       "      <td>action</td>\n",
       "    </tr>\n",
       "    <tr>\n",
       "      <th>item_9</th>\n",
       "      <td>87</td>\n",
       "      <td>5</td>\n",
       "      <td>2008</td>\n",
       "      <td>drama</td>\n",
       "    </tr>\n",
       "  </tbody>\n",
       "</table>\n",
       "</div>"
      ],
      "text/plain": [
       "        duration_min  budget_M  year   genre\n",
       "item_0           105        13  2004  action\n",
       "item_1            96         0  2019  comedy\n",
       "item_2           118         6  2001   drama\n",
       "item_3            80         9  2002   drama\n",
       "item_4           105         4  2006  action\n",
       "item_5           106        11  2009  action\n",
       "item_6            89        16  2004  action\n",
       "item_7            90        11  2009  action\n",
       "item_8           126        14  2010  action\n",
       "item_9            87         5  2008   drama"
      ]
     },
     "execution_count": 17,
     "metadata": {},
     "output_type": "execute_result"
    }
   ],
   "source": [
    "items = pd.read_csv('ex2.csv', \n",
    "                    index_col = 0\n",
    "                   )\n",
    "items"
   ]
  },
  {
   "cell_type": "markdown",
   "metadata": {},
   "source": [
    "#### Criamos vairáveis `dummies` para o atributo `'genre'` e reescalonamos os valores."
   ]
  },
  {
   "cell_type": "code",
   "execution_count": 18,
   "metadata": {},
   "outputs": [
    {
     "data": {
      "text/html": [
       "<div>\n",
       "<style scoped>\n",
       "    .dataframe tbody tr th:only-of-type {\n",
       "        vertical-align: middle;\n",
       "    }\n",
       "\n",
       "    .dataframe tbody tr th {\n",
       "        vertical-align: top;\n",
       "    }\n",
       "\n",
       "    .dataframe thead th {\n",
       "        text-align: right;\n",
       "    }\n",
       "</style>\n",
       "<table border=\"1\" class=\"dataframe\">\n",
       "  <thead>\n",
       "    <tr style=\"text-align: right;\">\n",
       "      <th></th>\n",
       "      <th>duration_min</th>\n",
       "      <th>budget_M</th>\n",
       "      <th>year</th>\n",
       "      <th>genre_action</th>\n",
       "      <th>genre_comedy</th>\n",
       "      <th>genre_drama</th>\n",
       "    </tr>\n",
       "  </thead>\n",
       "  <tbody>\n",
       "    <tr>\n",
       "      <th>item_0</th>\n",
       "      <td>0.543478</td>\n",
       "      <td>0.8125</td>\n",
       "      <td>0.166667</td>\n",
       "      <td>1.0</td>\n",
       "      <td>0.0</td>\n",
       "      <td>0.0</td>\n",
       "    </tr>\n",
       "    <tr>\n",
       "      <th>item_1</th>\n",
       "      <td>0.347826</td>\n",
       "      <td>0.0000</td>\n",
       "      <td>1.000000</td>\n",
       "      <td>0.0</td>\n",
       "      <td>1.0</td>\n",
       "      <td>0.0</td>\n",
       "    </tr>\n",
       "    <tr>\n",
       "      <th>item_2</th>\n",
       "      <td>0.826087</td>\n",
       "      <td>0.3750</td>\n",
       "      <td>0.000000</td>\n",
       "      <td>0.0</td>\n",
       "      <td>0.0</td>\n",
       "      <td>1.0</td>\n",
       "    </tr>\n",
       "    <tr>\n",
       "      <th>item_3</th>\n",
       "      <td>0.000000</td>\n",
       "      <td>0.5625</td>\n",
       "      <td>0.055556</td>\n",
       "      <td>0.0</td>\n",
       "      <td>0.0</td>\n",
       "      <td>1.0</td>\n",
       "    </tr>\n",
       "    <tr>\n",
       "      <th>item_4</th>\n",
       "      <td>0.543478</td>\n",
       "      <td>0.2500</td>\n",
       "      <td>0.277778</td>\n",
       "      <td>1.0</td>\n",
       "      <td>0.0</td>\n",
       "      <td>0.0</td>\n",
       "    </tr>\n",
       "    <tr>\n",
       "      <th>item_5</th>\n",
       "      <td>0.565217</td>\n",
       "      <td>0.6875</td>\n",
       "      <td>0.444444</td>\n",
       "      <td>1.0</td>\n",
       "      <td>0.0</td>\n",
       "      <td>0.0</td>\n",
       "    </tr>\n",
       "    <tr>\n",
       "      <th>item_6</th>\n",
       "      <td>0.195652</td>\n",
       "      <td>1.0000</td>\n",
       "      <td>0.166667</td>\n",
       "      <td>1.0</td>\n",
       "      <td>0.0</td>\n",
       "      <td>0.0</td>\n",
       "    </tr>\n",
       "    <tr>\n",
       "      <th>item_7</th>\n",
       "      <td>0.217391</td>\n",
       "      <td>0.6875</td>\n",
       "      <td>0.444444</td>\n",
       "      <td>1.0</td>\n",
       "      <td>0.0</td>\n",
       "      <td>0.0</td>\n",
       "    </tr>\n",
       "    <tr>\n",
       "      <th>item_8</th>\n",
       "      <td>1.000000</td>\n",
       "      <td>0.8750</td>\n",
       "      <td>0.500000</td>\n",
       "      <td>1.0</td>\n",
       "      <td>0.0</td>\n",
       "      <td>0.0</td>\n",
       "    </tr>\n",
       "    <tr>\n",
       "      <th>item_9</th>\n",
       "      <td>0.152174</td>\n",
       "      <td>0.3125</td>\n",
       "      <td>0.388889</td>\n",
       "      <td>0.0</td>\n",
       "      <td>0.0</td>\n",
       "      <td>1.0</td>\n",
       "    </tr>\n",
       "  </tbody>\n",
       "</table>\n",
       "</div>"
      ],
      "text/plain": [
       "        duration_min  budget_M      year  genre_action  genre_comedy  \\\n",
       "item_0      0.543478    0.8125  0.166667           1.0           0.0   \n",
       "item_1      0.347826    0.0000  1.000000           0.0           1.0   \n",
       "item_2      0.826087    0.3750  0.000000           0.0           0.0   \n",
       "item_3      0.000000    0.5625  0.055556           0.0           0.0   \n",
       "item_4      0.543478    0.2500  0.277778           1.0           0.0   \n",
       "item_5      0.565217    0.6875  0.444444           1.0           0.0   \n",
       "item_6      0.195652    1.0000  0.166667           1.0           0.0   \n",
       "item_7      0.217391    0.6875  0.444444           1.0           0.0   \n",
       "item_8      1.000000    0.8750  0.500000           1.0           0.0   \n",
       "item_9      0.152174    0.3125  0.388889           0.0           0.0   \n",
       "\n",
       "        genre_drama  \n",
       "item_0          0.0  \n",
       "item_1          0.0  \n",
       "item_2          1.0  \n",
       "item_3          1.0  \n",
       "item_4          0.0  \n",
       "item_5          0.0  \n",
       "item_6          0.0  \n",
       "item_7          0.0  \n",
       "item_8          0.0  \n",
       "item_9          1.0  "
      ]
     },
     "execution_count": 18,
     "metadata": {},
     "output_type": "execute_result"
    }
   ],
   "source": [
    "items_scaled = pd.get_dummies(items)\n",
    "\n",
    "sc = MinMaxScaler()\n",
    "items_scaled = pd.DataFrame(sc.fit_transform(items_scaled), \n",
    "                            columns = items_scaled.columns, \n",
    "                            index = items_scaled.index\n",
    "                           )\n",
    "items_scaled"
   ]
  },
  {
   "cell_type": "markdown",
   "metadata": {},
   "source": [
    "#### A seguir criamos uma função que recomenda itens semelhantes."
   ]
  },
  {
   "cell_type": "code",
   "execution_count": 19,
   "metadata": {},
   "outputs": [],
   "source": [
    "def recommend_similar_item(user_idx, interactions, items_info, n_recommendations, distance):\n",
    "\n",
    "    user = f'user_{user_idx}'\n",
    "\n",
    "    favorite_item = interactions.loc[user].sort_values(ascending = False).index.tolist()[0]\n",
    "\n",
    "    if distance == 'euclidean':\n",
    "        distances = [np.linalg.norm(items_info.loc[favorite_item] - items_info.loc[item]) for item in items_info.index]\n",
    "\n",
    "    similar_items = items_info.copy()\n",
    "    similar_items['distance_to_favorite'] = distances\n",
    "\n",
    "    return similar_items.drop(favorite_item).sort_values(by = 'distance_to_favorite').index.tolist()[ : n_recommendations]"
   ]
  },
  {
   "cell_type": "markdown",
   "metadata": {},
   "source": [
    "#### Vamos fazer uma recomendação para o usuário `user_6` com base em itens similares ao seu item favorito."
   ]
  },
  {
   "cell_type": "code",
   "execution_count": 20,
   "metadata": {},
   "outputs": [
    {
     "data": {
      "text/plain": [
       "['item_9', 'item_4', 'item_7']"
      ]
     },
     "execution_count": 20,
     "metadata": {},
     "output_type": "execute_result"
    }
   ],
   "source": [
    "recommend_similar_item(6, \n",
    "                       ex1_scaled, \n",
    "                       items_scaled, \n",
    "                       3, \n",
    "                       'euclidean'\n",
    "                      )"
   ]
  },
  {
   "cell_type": "markdown",
   "metadata": {},
   "source": [
    "#### Lê-mos dois novos `dataset`."
   ]
  },
  {
   "cell_type": "code",
   "execution_count": 21,
   "metadata": {},
   "outputs": [],
   "source": [
    "users = pd.read_csv('ex3.csv', \n",
    "                    sep = ';', \n",
    "                    index_col = 0\n",
    "                   )\n",
    "\n",
    "movies = pd.read_csv('ex3-2.csv', \n",
    "                     sep = ';', \n",
    "                     index_col = 0\n",
    "                    )"
   ]
  },
  {
   "cell_type": "markdown",
   "metadata": {},
   "source": [
    "#### E criamos umas matriz de interação de usuários com itens."
   ]
  },
  {
   "cell_type": "code",
   "execution_count": 22,
   "metadata": {},
   "outputs": [
    {
     "data": {
      "text/html": [
       "<div>\n",
       "<style scoped>\n",
       "    .dataframe tbody tr th:only-of-type {\n",
       "        vertical-align: middle;\n",
       "    }\n",
       "\n",
       "    .dataframe tbody tr th {\n",
       "        vertical-align: top;\n",
       "    }\n",
       "\n",
       "    .dataframe thead th {\n",
       "        text-align: right;\n",
       "    }\n",
       "</style>\n",
       "<table border=\"1\" class=\"dataframe\">\n",
       "  <thead>\n",
       "    <tr style=\"text-align: right;\">\n",
       "      <th></th>\n",
       "      <th>item_0</th>\n",
       "      <th>item_1</th>\n",
       "      <th>item_2</th>\n",
       "      <th>item_3</th>\n",
       "      <th>item_4</th>\n",
       "      <th>item_5</th>\n",
       "      <th>item_6</th>\n",
       "      <th>item_7</th>\n",
       "      <th>item_8</th>\n",
       "      <th>item_9</th>\n",
       "    </tr>\n",
       "  </thead>\n",
       "  <tbody>\n",
       "    <tr>\n",
       "      <th>user_0</th>\n",
       "      <td>1</td>\n",
       "      <td>5</td>\n",
       "      <td>4</td>\n",
       "      <td>1</td>\n",
       "      <td>4</td>\n",
       "      <td>2</td>\n",
       "      <td>7</td>\n",
       "      <td>3</td>\n",
       "      <td>5</td>\n",
       "      <td>6</td>\n",
       "    </tr>\n",
       "    <tr>\n",
       "      <th>user_1</th>\n",
       "      <td>4</td>\n",
       "      <td>6</td>\n",
       "      <td>2</td>\n",
       "      <td>4</td>\n",
       "      <td>2</td>\n",
       "      <td>1</td>\n",
       "      <td>7</td>\n",
       "      <td>5</td>\n",
       "      <td>6</td>\n",
       "      <td>3</td>\n",
       "    </tr>\n",
       "    <tr>\n",
       "      <th>user_2</th>\n",
       "      <td>5</td>\n",
       "      <td>7</td>\n",
       "      <td>2</td>\n",
       "      <td>5</td>\n",
       "      <td>2</td>\n",
       "      <td>3</td>\n",
       "      <td>10</td>\n",
       "      <td>8</td>\n",
       "      <td>7</td>\n",
       "      <td>5</td>\n",
       "    </tr>\n",
       "    <tr>\n",
       "      <th>user_3</th>\n",
       "      <td>2</td>\n",
       "      <td>4</td>\n",
       "      <td>2</td>\n",
       "      <td>2</td>\n",
       "      <td>2</td>\n",
       "      <td>1</td>\n",
       "      <td>5</td>\n",
       "      <td>3</td>\n",
       "      <td>4</td>\n",
       "      <td>3</td>\n",
       "    </tr>\n",
       "    <tr>\n",
       "      <th>user_4</th>\n",
       "      <td>3</td>\n",
       "      <td>8</td>\n",
       "      <td>5</td>\n",
       "      <td>3</td>\n",
       "      <td>5</td>\n",
       "      <td>2</td>\n",
       "      <td>10</td>\n",
       "      <td>5</td>\n",
       "      <td>8</td>\n",
       "      <td>7</td>\n",
       "    </tr>\n",
       "    <tr>\n",
       "      <th>user_5</th>\n",
       "      <td>1</td>\n",
       "      <td>3</td>\n",
       "      <td>2</td>\n",
       "      <td>1</td>\n",
       "      <td>2</td>\n",
       "      <td>5</td>\n",
       "      <td>8</td>\n",
       "      <td>6</td>\n",
       "      <td>3</td>\n",
       "      <td>7</td>\n",
       "    </tr>\n",
       "  </tbody>\n",
       "</table>\n",
       "</div>"
      ],
      "text/plain": [
       "        item_0  item_1  item_2  item_3  item_4  item_5  item_6  item_7  \\\n",
       "user_0       1       5       4       1       4       2       7       3   \n",
       "user_1       4       6       2       4       2       1       7       5   \n",
       "user_2       5       7       2       5       2       3      10       8   \n",
       "user_3       2       4       2       2       2       1       5       3   \n",
       "user_4       3       8       5       3       5       2      10       5   \n",
       "user_5       1       3       2       1       2       5       8       6   \n",
       "\n",
       "        item_8  item_9  \n",
       "user_0       5       6  \n",
       "user_1       6       3  \n",
       "user_2       7       5  \n",
       "user_3       4       3  \n",
       "user_4       8       7  \n",
       "user_5       3       7  "
      ]
     },
     "execution_count": 22,
     "metadata": {},
     "output_type": "execute_result"
    }
   ],
   "source": [
    "users_movies = pd.DataFrame(np.dot(users.to_numpy(), movies.T.to_numpy()), \n",
    "                            index = users.index, \n",
    "                            columns = movies.index\n",
    "                           )\n",
    "users_movies"
   ]
  },
  {
   "cell_type": "markdown",
   "metadata": {},
   "source": [
    "### Métricas de Similaridade"
   ]
  },
  {
   "cell_type": "markdown",
   "metadata": {},
   "source": [
    "#### Cosine Similarity\n",
    "\n",
    "#### A semelhança entre dois itens pode ser medida com a aplicação do conceito de [similaridade de cosenos](https://medium.com/@mark.rethana/building-a-song-recommendation-system-using-cosine-similarity-and-euclidian-distance-748fdfc832fd).\n",
    "\n",
    "<img src=\"Similaridade.png\" width=\"585\" height=\"424\" />"
   ]
  },
  {
   "cell_type": "markdown",
   "metadata": {},
   "source": [
    " - Verstáil, funciona para variáveis numéricas e categóricas;\n",
    " - Considera como similares usuários com interações proporcionais."
   ]
  },
  {
   "cell_type": "markdown",
   "metadata": {},
   "source": [
    "#### A seguir podemos criar uma matriz de similaridade entre os itens dada pelos cossenos dos ângulos entre os vetores de cada usuário. Faremos isso com o método [`sklearn.metrics.pairwise.cosine_similarity()`](https://scikit-learn.org/stable/modules/generated/sklearn.metrics.pairwise.cosine_similarity.html)"
   ]
  },
  {
   "cell_type": "code",
   "execution_count": 23,
   "metadata": {},
   "outputs": [
    {
     "data": {
      "text/html": [
       "<div>\n",
       "<style scoped>\n",
       "    .dataframe tbody tr th:only-of-type {\n",
       "        vertical-align: middle;\n",
       "    }\n",
       "\n",
       "    .dataframe tbody tr th {\n",
       "        vertical-align: top;\n",
       "    }\n",
       "\n",
       "    .dataframe thead th {\n",
       "        text-align: right;\n",
       "    }\n",
       "</style>\n",
       "<table border=\"1\" class=\"dataframe\">\n",
       "  <thead>\n",
       "    <tr style=\"text-align: right;\">\n",
       "      <th></th>\n",
       "      <th>user_0</th>\n",
       "      <th>user_1</th>\n",
       "      <th>user_2</th>\n",
       "      <th>user_3</th>\n",
       "      <th>user_4</th>\n",
       "    </tr>\n",
       "  </thead>\n",
       "  <tbody>\n",
       "    <tr>\n",
       "      <th>user_0</th>\n",
       "      <td>1.000000</td>\n",
       "      <td>0.583907</td>\n",
       "      <td>0.807719</td>\n",
       "      <td>0.613416</td>\n",
       "      <td>0.561033</td>\n",
       "    </tr>\n",
       "    <tr>\n",
       "      <th>user_1</th>\n",
       "      <td>0.583907</td>\n",
       "      <td>1.000000</td>\n",
       "      <td>0.608159</td>\n",
       "      <td>0.802004</td>\n",
       "      <td>0.632819</td>\n",
       "    </tr>\n",
       "    <tr>\n",
       "      <th>user_2</th>\n",
       "      <td>0.807719</td>\n",
       "      <td>0.608159</td>\n",
       "      <td>1.000000</td>\n",
       "      <td>0.714895</td>\n",
       "      <td>0.610336</td>\n",
       "    </tr>\n",
       "    <tr>\n",
       "      <th>user_3</th>\n",
       "      <td>0.613416</td>\n",
       "      <td>0.802004</td>\n",
       "      <td>0.714895</td>\n",
       "      <td>1.000000</td>\n",
       "      <td>0.937147</td>\n",
       "    </tr>\n",
       "    <tr>\n",
       "      <th>user_4</th>\n",
       "      <td>0.561033</td>\n",
       "      <td>0.632819</td>\n",
       "      <td>0.610336</td>\n",
       "      <td>0.937147</td>\n",
       "      <td>1.000000</td>\n",
       "    </tr>\n",
       "  </tbody>\n",
       "</table>\n",
       "</div>"
      ],
      "text/plain": [
       "          user_0    user_1    user_2    user_3    user_4\n",
       "user_0  1.000000  0.583907  0.807719  0.613416  0.561033\n",
       "user_1  0.583907  1.000000  0.608159  0.802004  0.632819\n",
       "user_2  0.807719  0.608159  1.000000  0.714895  0.610336\n",
       "user_3  0.613416  0.802004  0.714895  1.000000  0.937147\n",
       "user_4  0.561033  0.632819  0.610336  0.937147  1.000000"
      ]
     },
     "execution_count": 23,
     "metadata": {},
     "output_type": "execute_result"
    }
   ],
   "source": [
    "pd.DataFrame(cosine_similarity(ex1_scaled.drop(['user_5', 'user_6'])), \n",
    "             index = ex1_scaled.index[:5], \n",
    "             columns = ex1_scaled.index[:5]\n",
    "            )"
   ]
  },
  {
   "cell_type": "markdown",
   "metadata": {},
   "source": [
    "#### Jaccard Index\n",
    "\n",
    "\n",
    "#### O índice de Jaccard, ou coeficiente de similaridade de Jaccard é definido como o tamanho da interseção dividido pelo tamanho da união de dois conjuntos de rótulos, é usado para comparar o conjunto de rótulos previstos para uma amostra com o conjunto correspondente de rótulos em `y_true`.\n",
    "\n",
    "<img src=\"jaccardIndex.png\" width=\"700\" height=\"470\" />\n",
    "\n",
    "#### A similaridade de Jaccard, aplicável com o método [`sklearn.metrics.jaccard_score()`](https://scikit-learn.org/stable/modules/generated/sklearn.metrics.jaccard_score.html) é útil apenas quando os vetores contêm valores binários. Se eles tiverem classificações ou classificações que podem assumir vários valores, a similaridade de Jaccard não é aplicável."
   ]
  },
  {
   "cell_type": "markdown",
   "metadata": {},
   "source": [
    "    - Mais apropriada para variáveis categóricas"
   ]
  },
  {
   "cell_type": "markdown",
   "metadata": {},
   "source": [
    "#### A seguir calculamos o índice de jaccard para dois filmes."
   ]
  },
  {
   "cell_type": "code",
   "execution_count": 24,
   "metadata": {},
   "outputs": [
    {
     "data": {
      "text/plain": [
       "1.0"
      ]
     },
     "execution_count": 24,
     "metadata": {},
     "output_type": "execute_result"
    }
   ],
   "source": [
    "jaccard_score(movies.loc['item_1'].values, \n",
    "              movies.loc['item_8'].values\n",
    "             )"
   ]
  },
  {
   "cell_type": "code",
   "execution_count": null,
   "metadata": {},
   "outputs": [],
   "source": []
  }
 ],
 "metadata": {
  "kernelspec": {
   "display_name": "Python 3",
   "language": "python",
   "name": "python3"
  },
  "language_info": {
   "codemirror_mode": {
    "name": "ipython",
    "version": 3
   },
   "file_extension": ".py",
   "mimetype": "text/x-python",
   "name": "python",
   "nbconvert_exporter": "python",
   "pygments_lexer": "ipython3",
   "version": "3.7.6"
  }
 },
 "nbformat": 4,
 "nbformat_minor": 4
}
