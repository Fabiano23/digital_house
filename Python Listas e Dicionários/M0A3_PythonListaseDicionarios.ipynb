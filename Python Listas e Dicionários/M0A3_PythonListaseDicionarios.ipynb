{
  "nbformat": 4,
  "nbformat_minor": 0,
  "metadata": {
    "colab": {
      "name": "M0A3_PythonListaseDicionarios.ipynb",
      "provenance": [],
      "collapsed_sections": [
        "TNXvZRhTbIb9",
        "ZwLX6JOAbIcN",
        "0z-gc9ZGbIcd",
        "N4N-BCWlbIcr",
        "iTjYInYwyDFV",
        "km72R3S-bIc9",
        "gHbf3p-IbIdJ",
        "Re2TqsbCbIda",
        "gHSG68hlbIdx",
        "LGkX4x7PbIeI",
        "olMLjcembIet",
        "39_00zH3bIe3",
        "pDKlfbp9bIfE",
        "QCDN_EsxbIfp",
        "i6rw5TX_bIgT",
        "ZjMWW5bPbIgf",
        "PyQvTjoRbIg1",
        "OkI3XHZhbIhA",
        "ppaYUB6gbIhL",
        "CGTdH0HoyDGO",
        "Er8NiYhWbIiC",
        "ylFvcGDKbIiT",
        "dcYRxADKbIip",
        "MnKOhFFkbIis",
        "WJH7jIL8bIi9",
        "LgmuIhSQyDGe",
        "CK_rr7t_bIjV",
        "tfkiv4PpbIjh",
        "XcwlAVHNbIjp",
        "8yMr9OSfbIjx",
        "5FV_Ex8wbIj8",
        "0xQgjlJFbIkE",
        "H4n9wAw7bIkr",
        "5hA90JrTbIk6",
        "jZwDU9uVbIlR",
        "VJi_azCXbIll",
        "L6yAu8n8yDG-",
        "6h6-kWcobImU",
        "9uaJK8rEbImZ",
        "eE92_k6syDHP",
        "SK10aF6SbImz",
        "zq0fvS61bIm2",
        "mtotjJtwbInn",
        "clSiTp96bIn5",
        "iM0uxuyPbIn_",
        "YlfKHGywbIoP",
        "IhF2ziq3bIoi",
        "FcnQnPRabIov",
        "mHrQNNd2bIo0",
        "zZRfjAeMbIpC",
        "yIx-kLDybIpJ",
        "vNxl-CUebIpO",
        "Gcdvz-O5bIpT",
        "zkuvmkgvbIpY",
        "lgOAVAojbIpk",
        "pEfoxSNIbIpr",
        "P25gvoqvyDH3",
        "q2u-7gvgbIqM",
        "llPp1ZIdyDH3",
        "_oYPGQ_TbIqO"
      ]
    },
    "kernelspec": {
      "display_name": "Python 3",
      "language": "python",
      "name": "python3"
    },
    "language_info": {
      "codemirror_mode": {
        "name": "ipython",
        "version": 3
      },
      "file_extension": ".py",
      "mimetype": "text/x-python",
      "name": "python",
      "nbconvert_exporter": "python",
      "pygments_lexer": "ipython3",
      "version": "3.7.6"
    }
  },
  "cells": [
    {
      "cell_type": "markdown",
      "metadata": {
        "id": "EY4nE-u2yDFJ"
      },
      "source": [
        "# Nessa aula vamos discutir a base dos comando do python"
      ]
    },
    {
      "cell_type": "markdown",
      "metadata": {
        "id": "76tBRJtubIbw"
      },
      "source": [
        "## 1 - Vamos começar trabalhando manipulando algumas variáveis"
      ]
    },
    {
      "cell_type": "markdown",
      "metadata": {
        "id": "TNXvZRhTbIb9"
      },
      "source": [
        "#### Podemos definir uma variável dando um nome para ela, da seguinte maneira"
      ]
    },
    {
      "cell_type": "code",
      "metadata": {
        "id": "x6EKEfuYyDFK"
      },
      "source": [
        "age = 30"
      ],
      "execution_count": null,
      "outputs": []
    },
    {
      "cell_type": "markdown",
      "metadata": {
        "id": "ZwLX6JOAbIcN"
      },
      "source": [
        "#### Podemos imprimir o valor da variável, como?"
      ]
    },
    {
      "cell_type": "code",
      "metadata": {
        "id": "OG63eI7tyDFO",
        "outputId": "b14562c4-6eeb-4f9b-f06b-c1675286b590"
      },
      "source": [
        "print(age)"
      ],
      "execution_count": null,
      "outputs": [
        {
          "output_type": "stream",
          "text": [
            "30\n"
          ],
          "name": "stdout"
        }
      ]
    },
    {
      "cell_type": "markdown",
      "metadata": {
        "id": "0z-gc9ZGbIcd"
      },
      "source": [
        "#### Podemos também imprimir a variável sem dar nome a ela."
      ]
    },
    {
      "cell_type": "code",
      "metadata": {
        "id": "H6fICTDCyDFQ",
        "outputId": "efac1559-b945-46a5-bc95-fa03626e0df3"
      },
      "source": [
        "print(30)"
      ],
      "execution_count": null,
      "outputs": [
        {
          "output_type": "stream",
          "text": [
            "30\n"
          ],
          "name": "stdout"
        }
      ]
    },
    {
      "cell_type": "markdown",
      "metadata": {
        "id": "N4N-BCWlbIcr"
      },
      "source": [
        "#### Porém quando temos uma variável com nome, temos a grande vantagem de poder mudar seu valor:"
      ]
    },
    {
      "cell_type": "code",
      "metadata": {
        "id": "vcCttoPnyDFT",
        "outputId": "87feb966-df9f-4f48-a8a1-125d24556987"
      },
      "source": [
        "age = 30\n",
        "print(age)\n",
        "age = 40\n",
        "print(age)"
      ],
      "execution_count": null,
      "outputs": [
        {
          "output_type": "stream",
          "text": [
            "30\n",
            "40\n"
          ],
          "name": "stdout"
        }
      ]
    },
    {
      "cell_type": "markdown",
      "metadata": {
        "id": "iTjYInYwyDFV"
      },
      "source": [
        "### Boas práticas em relação ao definirmos nomes de variáveis. "
      ]
    },
    {
      "cell_type": "markdown",
      "metadata": {
        "id": "km72R3S-bIc9"
      },
      "source": [
        "#### Nomes compostos de variáveis são separados por _ , esse padrão é conhecido como: snake_case in Python. Nomes não podem começar com números, porém podem conter números, se duas variáveis forém mudar de valores sempre usar letras minusculas. "
      ]
    },
    {
      "cell_type": "code",
      "metadata": {
        "id": "7C1eTQqByDFW"
      },
      "source": [
        "friend_age = 23\n",
        "countries_visited = 90"
      ],
      "execution_count": null,
      "outputs": []
    },
    {
      "cell_type": "markdown",
      "metadata": {
        "id": "gHbf3p-IbIdJ"
      },
      "source": [
        "#### Se sua variável tiver um valor fixo escrever em letras maiusculas. "
      ]
    },
    {
      "cell_type": "code",
      "metadata": {
        "id": "tVvZjitEyDFY"
      },
      "source": [
        "PI = 3.14159\n",
        "RADIANS_TO_DEGREES = 180 / PI"
      ],
      "execution_count": null,
      "outputs": []
    },
    {
      "cell_type": "markdown",
      "metadata": {
        "id": "yph63zhiyDFa"
      },
      "source": [
        "### Vamos falar de números?"
      ]
    },
    {
      "cell_type": "markdown",
      "metadata": {
        "id": "Re2TqsbCbIda"
      },
      "source": [
        "#### vamos ter dois tipos de número em python."
      ]
    },
    {
      "cell_type": "code",
      "metadata": {
        "id": "lSTyhkDPyDFb"
      },
      "source": [
        "age = 35  # integer\n",
        "PI = 3.14159  # float"
      ],
      "execution_count": null,
      "outputs": []
    },
    {
      "cell_type": "markdown",
      "metadata": {
        "id": "W4lzPxnryDFg"
      },
      "source": [
        "### Operações Matemáticas"
      ]
    },
    {
      "cell_type": "markdown",
      "metadata": {
        "id": "gHSG68hlbIdx"
      },
      "source": [
        "#### Nada de especial acontece."
      ]
    },
    {
      "cell_type": "code",
      "metadata": {
        "id": "HVZG8X0ryDFh",
        "outputId": "2232571c-518a-495e-ae71-3285d66c56f1"
      },
      "source": [
        "maths_operation = 1 + 3 * 4 / 2 - 2\n",
        "print(maths_operation)"
      ],
      "execution_count": null,
      "outputs": [
        {
          "output_type": "stream",
          "text": [
            "5.0\n"
          ],
          "name": "stdout"
        }
      ]
    },
    {
      "cell_type": "code",
      "metadata": {
        "id": "6S7wb_hLyDFj"
      },
      "source": [
        "#### Se eu tenho apenas números de tipo inteiros por que o resultado foi um número de [tipo](https://www.tutorialspoint.com/python/python_variable_types.htm) float?"
      ],
      "execution_count": null,
      "outputs": []
    },
    {
      "cell_type": "markdown",
      "metadata": {
        "id": "LGkX4x7PbIeI"
      },
      "source": [
        "#### O resultado da divisão é sempre um float."
      ]
    },
    {
      "cell_type": "code",
      "metadata": {
        "id": "ejQ6fipPyDFm",
        "outputId": "727deb6e-efab-457e-b49b-51a7624fe9cb"
      },
      "source": [
        "float_division = 12 / 3\n",
        "print(float_division)"
      ],
      "execution_count": null,
      "outputs": [
        {
          "output_type": "stream",
          "text": [
            "4.0\n"
          ],
          "name": "stdout"
        }
      ]
    },
    {
      "cell_type": "code",
      "metadata": {
        "id": "limIaofEyDFp"
      },
      "source": [
        "#### E a multiplicação?"
      ],
      "execution_count": null,
      "outputs": []
    },
    {
      "cell_type": "code",
      "metadata": {
        "id": "7pUjVYPxbIef",
        "outputId": "b5ff1e8e-e335-4019-e338-60066a6977ae"
      },
      "source": [
        "multiplication = 3 * 2.5\n",
        "multiplication"
      ],
      "execution_count": null,
      "outputs": [
        {
          "output_type": "execute_result",
          "data": {
            "text/plain": [
              "7.5"
            ]
          },
          "metadata": {
            "tags": []
          },
          "execution_count": 73
        }
      ]
    },
    {
      "cell_type": "markdown",
      "metadata": {
        "id": "olMLjcembIet"
      },
      "source": [
        "#### E se somarmos um inteiro com um float?"
      ]
    },
    {
      "cell_type": "code",
      "metadata": {
        "id": "V0Nh_PoYbIeu",
        "outputId": "6d6b485e-9969-4443-93f5-f7d4d01966e5"
      },
      "source": [
        "Soma_int_float = 2 + 3.0\n",
        "Soma_int_float"
      ],
      "execution_count": null,
      "outputs": [
        {
          "output_type": "execute_result",
          "data": {
            "text/plain": [
              "5.0"
            ]
          },
          "metadata": {
            "tags": []
          },
          "execution_count": 74
        }
      ]
    },
    {
      "cell_type": "markdown",
      "metadata": {
        "id": "39_00zH3bIe3"
      },
      "source": [
        "#### A divisão inteira pode pegar somente a parte inteira da divisão."
      ]
    },
    {
      "cell_type": "code",
      "metadata": {
        "id": "gMM0SOzvyDFr",
        "outputId": "b0a3efeb-219c-45c7-afc7-391944004c79"
      },
      "source": [
        "integer_division = 12 // 3  # não é um tipo de arredondamento\n",
        "print(integer_division)"
      ],
      "execution_count": null,
      "outputs": [
        {
          "output_type": "stream",
          "text": [
            "4\n"
          ],
          "name": "stdout"
        }
      ]
    },
    {
      "cell_type": "markdown",
      "metadata": {
        "id": "pDKlfbp9bIfE"
      },
      "source": [
        "#### O [comando](https://www.freecodecamp.org/news/the-python-modulo-operator-what-does-the-symbol-mean-in-python-solved/) a seguir retorna o resto da divisão do número da esquerda pelo da direita."
      ]
    },
    {
      "cell_type": "code",
      "metadata": {
        "id": "rWIsSER1yDFt",
        "outputId": "9e52c031-8d6f-4fc8-fc2e-b3cae474b951"
      },
      "source": [
        "remainder = 12 % 5\n",
        "print(remainder)"
      ],
      "execution_count": null,
      "outputs": [
        {
          "output_type": "stream",
          "text": [
            "2\n"
          ],
          "name": "stdout"
        }
      ]
    },
    {
      "cell_type": "code",
      "metadata": {
        "id": "HJhwLt8ByDFv",
        "outputId": "e53d9aa8-3f1c-4ba3-8dc8-f70d15c5960b"
      },
      "source": [
        "x = 37\n",
        "remainder = x % 2\n",
        "print(remainder)"
      ],
      "execution_count": null,
      "outputs": [
        {
          "output_type": "stream",
          "text": [
            "1\n"
          ],
          "name": "stdout"
        }
      ]
    },
    {
      "cell_type": "markdown",
      "metadata": {
        "id": "8JEsbzTjyDFz"
      },
      "source": [
        "### Variáveis podem ser palavras? Frases?"
      ]
    },
    {
      "cell_type": "markdown",
      "metadata": {
        "id": "QCDN_EsxbIfp"
      },
      "source": [
        "##### O [slice](https://www.digitalocean.com/community/tutorials/how-to-index-and-slice-strings-in-python-3) é uma operação muito comum em python."
      ]
    },
    {
      "cell_type": "code",
      "metadata": {
        "id": "wMsyMETeyDF0"
      },
      "source": [
        "my_string = \"Hello, world!\"\n",
        "single_quote_string = 'Hello, world!'"
      ],
      "execution_count": null,
      "outputs": []
    },
    {
      "cell_type": "code",
      "metadata": {
        "id": "WX4-KiozyDF6",
        "outputId": "988e36aa-6e45-4588-e562-ee021cf8e676"
      },
      "source": [
        "str = 'Hello World!'\n",
        "\n",
        "print (str)          # imprimi a string completa\n",
        "print (str[0])       # imprimi o primeiro caracter da string\n",
        "print (str[2:5])     # imprimi do terceiro ao quinto caracter\n",
        "print (str[2:])      # imprimi os caracteres a partir do terceiro\n",
        "print (str * 2)      # imprimi a string duas vezes"
      ],
      "execution_count": null,
      "outputs": [
        {
          "output_type": "stream",
          "text": [
            "Hello World!\n",
            "H\n",
            "llo\n",
            "llo World!\n",
            "Hello World!Hello World!\n"
          ],
          "name": "stdout"
        }
      ]
    },
    {
      "cell_type": "code",
      "metadata": {
        "id": "urmOYaCAyDF8"
      },
      "source": [
        "string_with_quotes = \"Hello, it's me.\"\n",
        "another_with_quotes = 'He said \"You are amazing!\" yesterday.'"
      ],
      "execution_count": null,
      "outputs": []
    },
    {
      "cell_type": "code",
      "metadata": {
        "id": "NpJnb9uayDF-"
      },
      "source": [
        "multiline = \"\"\"\n",
        "Hello, world.\n",
        "\n",
        "My name is Jose. Welcome to my program.\n",
        "\"\"\""
      ],
      "execution_count": null,
      "outputs": []
    },
    {
      "cell_type": "markdown",
      "metadata": {
        "id": "i6rw5TX_bIgT"
      },
      "source": [
        "#### como juntar palavras formar frases? Por que esse procedimento é tão importante? Como você usaria ele no trabalho do dia a dia?"
      ]
    },
    {
      "cell_type": "code",
      "metadata": {
        "id": "LBw8TCgKyDGA"
      },
      "source": [
        "name = \"Jose\"\n",
        "greeting = \"Hello, \" + name"
      ],
      "execution_count": null,
      "outputs": []
    },
    {
      "cell_type": "markdown",
      "metadata": {
        "id": "ZjMWW5bPbIgf"
      },
      "source": [
        "#### É possível juntar número com uma palavra? "
      ]
    },
    {
      "cell_type": "code",
      "metadata": {
        "id": "t2Rds950yDGD",
        "outputId": "5fa64dc8-160b-44b8-88d7-9fe132bda37a"
      },
      "source": [
        "age = str(34)\n",
        "age = \"You are \" + age\n",
        "print(age)"
      ],
      "execution_count": null,
      "outputs": [
        {
          "output_type": "error",
          "ename": "TypeError",
          "evalue": "'str' object is not callable",
          "traceback": [
            "\u001b[0;31m---------------------------------------------------------------------------\u001b[0m",
            "\u001b[0;31mTypeError\u001b[0m                                 Traceback (most recent call last)",
            "\u001b[0;32m<ipython-input-83-f72133049769>\u001b[0m in \u001b[0;36m<module>\u001b[0;34m\u001b[0m\n\u001b[0;32m----> 1\u001b[0;31m \u001b[0mage\u001b[0m \u001b[0;34m=\u001b[0m \u001b[0mstr\u001b[0m\u001b[0;34m(\u001b[0m\u001b[0;36m34\u001b[0m\u001b[0;34m)\u001b[0m\u001b[0;34m\u001b[0m\u001b[0;34m\u001b[0m\u001b[0m\n\u001b[0m\u001b[1;32m      2\u001b[0m \u001b[0mage\u001b[0m \u001b[0;34m=\u001b[0m \u001b[0;34m\"You are \"\u001b[0m \u001b[0;34m+\u001b[0m \u001b[0mage\u001b[0m\u001b[0;34m\u001b[0m\u001b[0;34m\u001b[0m\u001b[0m\n\u001b[1;32m      3\u001b[0m \u001b[0mprint\u001b[0m\u001b[0;34m(\u001b[0m\u001b[0mage\u001b[0m\u001b[0;34m)\u001b[0m\u001b[0;34m\u001b[0m\u001b[0;34m\u001b[0m\u001b[0m\n",
            "\u001b[0;31mTypeError\u001b[0m: 'str' object is not callable"
          ]
        }
      ]
    },
    {
      "cell_type": "code",
      "metadata": {
        "id": "y_LmXgrtyDGF",
        "outputId": "5d581216-3737-4f51-bf9d-1c1aab85fb1e"
      },
      "source": [
        "age = 34\n",
        "another_greeting = f\"I am {age}\"\n",
        "print(another_greeting)"
      ],
      "execution_count": null,
      "outputs": [
        {
          "output_type": "stream",
          "text": [
            "I am 34\n"
          ],
          "name": "stdout"
        }
      ]
    },
    {
      "cell_type": "markdown",
      "metadata": {
        "id": "PyQvTjoRbIg1"
      },
      "source": [
        "#### Há alguma [maneira diferente de fazer isso](https://pyformat.info/)?"
      ]
    },
    {
      "cell_type": "code",
      "metadata": {
        "id": "9Cy29YzHyDGI",
        "outputId": "e060f0c0-0bd6-4fbf-e268-f6157f310955"
      },
      "source": [
        "age = 999\n",
        "another_greeting = \"I am {}\".format(age)\n",
        "print(another_greeting)"
      ],
      "execution_count": null,
      "outputs": [
        {
          "output_type": "stream",
          "text": [
            "I am 999\n"
          ],
          "name": "stdout"
        }
      ]
    },
    {
      "cell_type": "markdown",
      "metadata": {
        "id": "OkI3XHZhbIhA"
      },
      "source": [
        "#### Vamos atualizar o valor de age?"
      ]
    },
    {
      "cell_type": "code",
      "metadata": {
        "id": "GH-ZGxByyDGK",
        "outputId": "19c8ff19-9b42-4f78-b0f8-8659b908c4f1"
      },
      "source": [
        "age = 78\n",
        "print(another_greeting)"
      ],
      "execution_count": null,
      "outputs": [
        {
          "output_type": "stream",
          "text": [
            "I am 999\n"
          ],
          "name": "stdout"
        }
      ]
    },
    {
      "cell_type": "markdown",
      "metadata": {
        "id": "ppaYUB6gbIhL"
      },
      "source": [
        "#### Tem como solucionar esse problema?"
      ]
    },
    {
      "cell_type": "code",
      "metadata": {
        "id": "o5wJXCm9yDGM",
        "outputId": "70dcd0d0-80eb-4c57-ce3a-fb6588c9b19e"
      },
      "source": [
        "another_greeting = \"I am {age}\"\n",
        "final_greeting = another_greeting.format(age = 204)\n",
        "print(final_greeting)"
      ],
      "execution_count": null,
      "outputs": [
        {
          "output_type": "stream",
          "text": [
            "I am 204\n"
          ],
          "name": "stdout"
        }
      ]
    },
    {
      "cell_type": "markdown",
      "metadata": {
        "id": "CGTdH0HoyDGO"
      },
      "source": [
        "### Quem sabe um pouco de interação"
      ]
    },
    {
      "cell_type": "code",
      "metadata": {
        "id": "4I2l8-qsyDGO",
        "outputId": "ef71db43-e88c-4ab7-b1f8-d41768e23191"
      },
      "source": [
        "my_name = \"Elis\"\n",
        "your_name = input(\"Enter your name: \")\n",
        "\n",
        "print(f\"Hello {your_name}. My name is {my_name}.\")"
      ],
      "execution_count": null,
      "outputs": [
        {
          "output_type": "stream",
          "text": [
            "Enter your name:  maria\n"
          ],
          "name": "stdin"
        },
        {
          "output_type": "stream",
          "text": [
            "Hello maria. My name is Elis.\n"
          ],
          "name": "stdout"
        }
      ]
    },
    {
      "cell_type": "code",
      "metadata": {
        "id": "a4TYcviSyDGR",
        "outputId": "923f9e66-8896-4ba7-bae5-9e702a4b017a"
      },
      "source": [
        "age = int(input(\"Enter your age: \"))\n",
        "print(f\"You have lived for {age * 12} months.\")"
      ],
      "execution_count": null,
      "outputs": [
        {
          "output_type": "stream",
          "text": [
            "Enter your age:  35\n"
          ],
          "name": "stdin"
        },
        {
          "output_type": "stream",
          "text": [
            "You have lived for 420 months.\n"
          ],
          "name": "stdout"
        }
      ]
    },
    {
      "cell_type": "code",
      "metadata": {
        "id": "cwy0UKLcyDGS"
      },
      "source": [
        "#### Para brincar um pouco, calcule a quantidade de segundos ao invés de meses."
      ],
      "execution_count": null,
      "outputs": []
    },
    {
      "cell_type": "code",
      "metadata": {
        "id": "5CEM6YgTbIh5",
        "outputId": "d1e71d46-9df4-4964-c7b4-589dc9d63005"
      },
      "source": [
        "age = int(input(\"Enter your age: \"))\n",
        "print(f\"You have lived for {age * 12 * 30 * 24 * 60 * 60} seconds.\")"
      ],
      "execution_count": null,
      "outputs": [
        {
          "output_type": "stream",
          "text": [
            "Enter your age:  27\n"
          ],
          "name": "stdin"
        },
        {
          "output_type": "stream",
          "text": [
            "You have lived for 839808000 seconds.\n"
          ],
          "name": "stdout"
        }
      ]
    },
    {
      "cell_type": "markdown",
      "metadata": {
        "id": "U0J4I_DqyDGU"
      },
      "source": [
        "### Já tivemos um primeiro contato com as variáveis, agora podemos fazer algumas comparações?"
      ]
    },
    {
      "cell_type": "markdown",
      "metadata": {
        "id": "Er8NiYhWbIiC"
      },
      "source": [
        "#### Vamos ver os sinais de comparação mais importantes."
      ]
    },
    {
      "cell_type": "code",
      "metadata": {
        "id": "zr7RXDZEyDGW"
      },
      "source": [
        "### A == B  (vamos verificar se A é igual a B)\n",
        "### A > B (vamos verificar se A é maior que B)\n",
        "### A < B (vamos verificar se B é maior que A)\n",
        "### A >= B (vamos verificar se A é maior ou igual a B)\n",
        "### A != B (Vamos verificar se A é diferente de B)"
      ],
      "execution_count": null,
      "outputs": []
    },
    {
      "cell_type": "code",
      "metadata": {
        "id": "qx4UETfbbIiM",
        "outputId": "0e72ba0a-243c-4135-9f74-0237a2a892dc"
      },
      "source": [
        "A = 150\n",
        "B = 140\n",
        "print(\"A == B:\", A == B)\n",
        "print(\"A > B:\", A > B)\n",
        "print(\"A < B:\", A < B)\n",
        "print(\"A >= B:\", A >= B)\n",
        "print(\"A <= B:\", A <= B)\n",
        "print(\"A != B:\", A != B)"
      ],
      "execution_count": null,
      "outputs": [
        {
          "output_type": "stream",
          "text": [
            "A == B: False\n",
            "A > B: True\n",
            "A < B: False\n",
            "A >= B: True\n",
            "A <= B: False\n",
            "A != B: True\n"
          ],
          "name": "stdout"
        }
      ]
    },
    {
      "cell_type": "markdown",
      "metadata": {
        "id": "ylFvcGDKbIiT"
      },
      "source": [
        "#### O comparativo vale palavras também? Vamos comparar a variável `my_name` com a variável `name`."
      ]
    },
    {
      "cell_type": "code",
      "metadata": {
        "id": "CaVaN6C6yDGY",
        "outputId": "5b672520-bc8a-4aab-dfbb-0384158c7d00"
      },
      "source": [
        "name = \"EliS\"\n",
        "print(\"name == my_name:\", name == my_name)"
      ],
      "execution_count": null,
      "outputs": [
        {
          "output_type": "stream",
          "text": [
            "name == my_name: False\n"
          ],
          "name": "stdout"
        }
      ]
    },
    {
      "cell_type": "markdown",
      "metadata": {
        "id": "YV-Jkc3yyDGa"
      },
      "source": [
        "### E se for necessário utilizar multiplas condições?"
      ]
    },
    {
      "cell_type": "code",
      "metadata": {
        "id": "CgSwXLAHyDGa"
      },
      "source": [
        "name = \"EliS\"\n",
        "name_2 = \"Elis\"\n",
        "name_3 = \"ElIs\""
      ],
      "execution_count": null,
      "outputs": []
    },
    {
      "cell_type": "markdown",
      "metadata": {
        "id": "dcYRxADKbIip"
      },
      "source": [
        "#### `or`: A ação será executada se alguma condição for satisfeita \n",
        "#### `and`: A ação será executada se todas condições forem satisfeitas "
      ]
    },
    {
      "cell_type": "markdown",
      "metadata": {
        "id": "MnKOhFFkbIis"
      },
      "source": [
        "#### Vamos fazer um print [condicional]()?"
      ]
    },
    {
      "cell_type": "code",
      "metadata": {
        "id": "BxXtdeG_bIiu",
        "outputId": "3bcd6d1d-5ed7-4860-bec2-23b2691241d8"
      },
      "source": [
        "if name == my_name or name_3 == my_name or name_2 == my_name:\n",
        "    print (name)"
      ],
      "execution_count": null,
      "outputs": [
        {
          "output_type": "stream",
          "text": [
            "EliS\n"
          ],
          "name": "stdout"
        }
      ]
    },
    {
      "cell_type": "markdown",
      "metadata": {
        "id": "WJH7jIL8bIi9"
      },
      "source": [
        "#### Vamos fazer um print condicional?"
      ]
    },
    {
      "cell_type": "code",
      "metadata": {
        "id": "DVq4LrwnyDGc"
      },
      "source": [
        "if name == my_name and name_3 == my_name and name_2 == my_name:\n",
        "    print (name)"
      ],
      "execution_count": null,
      "outputs": []
    },
    {
      "cell_type": "markdown",
      "metadata": {
        "id": "LgmuIhSQyDGe"
      },
      "source": [
        "#### E se em uma aplicação for necessário ter $1000$ nomes, vamos ter que definir $1000$ variáveis? Qual a melhor maneira? Podemos usar uma [lista](https://docs.python.org/2/tutorial/datastructures.html)."
      ]
    },
    {
      "cell_type": "code",
      "metadata": {
        "id": "aR_idxDxyDGe"
      },
      "source": [
        "#maneira 1:\n",
        "friend1 = \"Rolf\"\n",
        "friend2 = \"Bob\"\n",
        "friend3 = \"Anne\"\n",
        "\n",
        "#maneira 2\n",
        "friend = [\"Rolf\", \n",
        "          \"Anne\", \n",
        "          \"Bob\"]"
      ],
      "execution_count": null,
      "outputs": []
    },
    {
      "cell_type": "markdown",
      "metadata": {
        "id": "CK_rr7t_bIjV"
      },
      "source": [
        "#### Para imprimir elementos de uma lista, o primeiro elemento da lista é localizado pelo `index 0`, index = localizador."
      ]
    },
    {
      "cell_type": "code",
      "metadata": {
        "id": "PMi51Hl9yDGg",
        "outputId": "ca1c5b5b-5638-48c3-cf62-9e3732855005"
      },
      "source": [
        "print (friend[0])"
      ],
      "execution_count": null,
      "outputs": [
        {
          "output_type": "stream",
          "text": [
            "Rolf\n"
          ],
          "name": "stdout"
        }
      ]
    },
    {
      "cell_type": "markdown",
      "metadata": {
        "id": "tfkiv4PpbIjh"
      },
      "source": [
        "#### O comprimento de uma lista é dado pela função [`len()`](https://docs.python.org/pt-br/3/library/functions.html#len), uma das funções [`Built in`](https://docs.python.org/pt-br/3/library/functions.html) do Python."
      ]
    },
    {
      "cell_type": "code",
      "metadata": {
        "id": "USV_WEp4yDGi",
        "outputId": "f85e4f85-ab95-438f-a34e-894dbca957a9"
      },
      "source": [
        "len(friend)"
      ],
      "execution_count": null,
      "outputs": [
        {
          "output_type": "execute_result",
          "data": {
            "text/plain": [
              "3"
            ]
          },
          "metadata": {
            "tags": []
          },
          "execution_count": 110
        }
      ]
    },
    {
      "cell_type": "markdown",
      "metadata": {
        "id": "XcwlAVHNbIjp"
      },
      "source": [
        "#### O valor máximo contido em uma lista pode ser obtido com a função [`max()`](https://docs.python.org/pt-br/3/library/functions.html#max)."
      ]
    },
    {
      "cell_type": "code",
      "metadata": {
        "id": "eXi2cS5QyDGk",
        "outputId": "f27ec48b-0ce0-4766-b5f9-a281ac829c6e"
      },
      "source": [
        "max(friend)"
      ],
      "execution_count": null,
      "outputs": [
        {
          "output_type": "execute_result",
          "data": {
            "text/plain": [
              "'Rolf'"
            ]
          },
          "metadata": {
            "tags": []
          },
          "execution_count": 111
        }
      ]
    },
    {
      "cell_type": "markdown",
      "metadata": {
        "id": "8yMr9OSfbIjx"
      },
      "source": [
        "#### O valor máximo contido em uma lista pode ser obtido com a função [`min()`](https://docs.python.org/pt-br/3/library/functions.html#min)."
      ]
    },
    {
      "cell_type": "code",
      "metadata": {
        "id": "woBiyk3-yDGm",
        "outputId": "2c7bbfbc-3bdf-4767-dfd1-a017220644c8"
      },
      "source": [
        "min(friend)"
      ],
      "execution_count": null,
      "outputs": [
        {
          "output_type": "execute_result",
          "data": {
            "text/plain": [
              "'Anne'"
            ]
          },
          "metadata": {
            "tags": []
          },
          "execution_count": 112
        }
      ]
    },
    {
      "cell_type": "markdown",
      "metadata": {
        "id": "5FV_Ex8wbIj8"
      },
      "source": [
        "#### Podemos adicionar ou remover elementos com a função [`append()`](https://towardsdatascience.com/append-in-python-41c37453400)."
      ]
    },
    {
      "cell_type": "code",
      "metadata": {
        "id": "cP54Dm8NyDGo",
        "outputId": "c1c2e7cd-1f70-4bd6-af3a-69be906b0d89"
      },
      "source": [
        "friend.append(str(3))\n",
        "print (friend)"
      ],
      "execution_count": null,
      "outputs": [
        {
          "output_type": "error",
          "ename": "TypeError",
          "evalue": "'str' object is not callable",
          "traceback": [
            "\u001b[0;31m---------------------------------------------------------------------------\u001b[0m",
            "\u001b[0;31mTypeError\u001b[0m                                 Traceback (most recent call last)",
            "\u001b[0;32m<ipython-input-113-9ea7accc428d>\u001b[0m in \u001b[0;36m<module>\u001b[0;34m\u001b[0m\n\u001b[0;32m----> 1\u001b[0;31m \u001b[0mfriend\u001b[0m\u001b[0;34m.\u001b[0m\u001b[0mappend\u001b[0m\u001b[0;34m(\u001b[0m\u001b[0mstr\u001b[0m\u001b[0;34m(\u001b[0m\u001b[0;36m3\u001b[0m\u001b[0;34m)\u001b[0m\u001b[0;34m)\u001b[0m\u001b[0;34m\u001b[0m\u001b[0;34m\u001b[0m\u001b[0m\n\u001b[0m\u001b[1;32m      2\u001b[0m \u001b[0mprint\u001b[0m \u001b[0;34m(\u001b[0m\u001b[0mfriend\u001b[0m\u001b[0;34m)\u001b[0m\u001b[0;34m\u001b[0m\u001b[0;34m\u001b[0m\u001b[0m\n",
            "\u001b[0;31mTypeError\u001b[0m: 'str' object is not callable"
          ]
        }
      ]
    },
    {
      "cell_type": "markdown",
      "metadata": {
        "id": "bljfAMpxhPra"
      },
      "source": [
        "O erro fora proposital pra demonstrar a importância da não utilização de palavras reservadas do python como nomes de variáveis."
      ]
    },
    {
      "cell_type": "markdown",
      "metadata": {
        "id": "0xQgjlJFbIkE"
      },
      "source": [
        "#### Como podemos localizar algum elemento específico?"
      ]
    },
    {
      "cell_type": "code",
      "metadata": {
        "id": "JZNWZ1wByDGq",
        "outputId": "1255eda9-e645-403f-f650-044d41013f81"
      },
      "source": [
        "friend.index('Anne')"
      ],
      "execution_count": null,
      "outputs": [
        {
          "output_type": "execute_result",
          "data": {
            "text/plain": [
              "1"
            ]
          },
          "metadata": {
            "tags": []
          },
          "execution_count": 114
        }
      ]
    },
    {
      "cell_type": "code",
      "metadata": {
        "id": "c2nHW_ElyDGu"
      },
      "source": [
        "#### É considerada boa prática fazer listas com apenas um tipo de informação, ou seja, adicionar o número 3 (mesmo que em formato de string) na lista friend, não é considerado uam boa prática."
      ],
      "execution_count": null,
      "outputs": []
    },
    {
      "cell_type": "markdown",
      "metadata": {
        "id": "H4n9wAw7bIkr"
      },
      "source": [
        "#### podemos ainda remover um elemento."
      ]
    },
    {
      "cell_type": "code",
      "metadata": {
        "id": "FFBH6cuhbIkt",
        "outputId": "7453dce7-be14-4fdc-cc6b-b6fd42788c66",
        "colab": {
          "base_uri": "https://localhost:8080/"
        }
      },
      "source": [
        "lst = [1, 2, 3]\n",
        "for i in lst[:]:\n",
        "    print(i, lst)\n",
        "    lst.remove(i)"
      ],
      "execution_count": 1,
      "outputs": [
        {
          "output_type": "stream",
          "text": [
            "1 [1, 2, 3]\n",
            "2 [2, 3]\n",
            "3 [3]\n"
          ],
          "name": "stdout"
        }
      ]
    },
    {
      "cell_type": "code",
      "metadata": {
        "id": "Uq68W5hQyDGx",
        "outputId": "9eb7008f-6cbf-4360-b412-9e69ffb76c46"
      },
      "source": [
        "#friend.remove(2)\n",
        "#friend.remove('Rolf')\n",
        "friend"
      ],
      "execution_count": null,
      "outputs": [
        {
          "output_type": "execute_result",
          "data": {
            "text/plain": [
              "['Rolf', 'Anne', 'Bob']"
            ]
          },
          "metadata": {
            "tags": []
          },
          "execution_count": 116
        }
      ]
    },
    {
      "cell_type": "markdown",
      "metadata": {
        "id": "5hA90JrTbIk6"
      },
      "source": [
        "#### Vamos trabalhar com uma lista de números agora."
      ]
    },
    {
      "cell_type": "code",
      "metadata": {
        "id": "eF3VWckiyDGy",
        "outputId": "d83e34da-76a3-4dda-a599-d0c8a83c12c7"
      },
      "source": [
        "import random\n",
        "lista_teste = random.sample(range(1, 100), 10)\n",
        "sum(lista_teste)"
      ],
      "execution_count": null,
      "outputs": [
        {
          "output_type": "execute_result",
          "data": {
            "text/plain": [
              "585"
            ]
          },
          "metadata": {
            "tags": []
          },
          "execution_count": 117
        }
      ]
    },
    {
      "cell_type": "code",
      "metadata": {
        "id": "k_SEEVhayDG0",
        "outputId": "640ae54a-68b0-4f92-cfef-be4cb0afd13f"
      },
      "source": [
        "len(lista_teste)"
      ],
      "execution_count": null,
      "outputs": [
        {
          "output_type": "execute_result",
          "data": {
            "text/plain": [
              "10"
            ]
          },
          "metadata": {
            "tags": []
          },
          "execution_count": 118
        }
      ]
    },
    {
      "cell_type": "markdown",
      "metadata": {
        "id": "YC0vQBkfyDG4"
      },
      "source": [
        "### Que tal adiconarmos uma coisa diferente, chamada ['for loop'](https://realpython.com/python-for-loop/)."
      ]
    },
    {
      "cell_type": "markdown",
      "metadata": {
        "id": "jZwDU9uVbIlR"
      },
      "source": [
        "#### Vamos criar uma estrutura [`for`](https://docs.python.org/3/tutorial/controlflow.html)."
      ]
    },
    {
      "cell_type": "code",
      "metadata": {
        "id": "dW0WeCnyyDG5",
        "outputId": "bf136e33-c8b3-4f5e-daeb-82188fdece80"
      },
      "source": [
        "for i in range (0, len(friend)):\n",
        "    print (friend[i])"
      ],
      "execution_count": null,
      "outputs": [
        {
          "output_type": "stream",
          "text": [
            "Rolf\n",
            "Anne\n",
            "Bob\n"
          ],
          "name": "stdout"
        }
      ]
    },
    {
      "cell_type": "code",
      "metadata": {
        "id": "yD2n2syDyDG7",
        "outputId": "0cf0a8aa-63ab-4395-e099-54ef140c5818"
      },
      "source": [
        "for amigo in friend:\n",
        "    print(amigo)"
      ],
      "execution_count": null,
      "outputs": [
        {
          "output_type": "stream",
          "text": [
            "Rolf\n",
            "Anne\n",
            "Bob\n"
          ],
          "name": "stdout"
        }
      ]
    },
    {
      "cell_type": "markdown",
      "metadata": {
        "id": "VJi_azCXbIll"
      },
      "source": [
        "#### Podemos fazer um loop duplo?"
      ]
    },
    {
      "cell_type": "code",
      "metadata": {
        "id": "7o9gXdkfyDG8",
        "outputId": "344332de-c2a7-40fd-ae54-2221acd85a57"
      },
      "source": [
        "idade = [12, 14, 10]\n",
        "for i in range (0, len(friend)):\n",
        "    for j in range (0, len(idade)):\n",
        "        print (friend[i], ' ', idade[j])"
      ],
      "execution_count": null,
      "outputs": [
        {
          "output_type": "stream",
          "text": [
            "Rolf   12\n",
            "Rolf   14\n",
            "Rolf   10\n",
            "Anne   12\n",
            "Anne   14\n",
            "Anne   10\n",
            "Bob   12\n",
            "Bob   14\n",
            "Bob   10\n"
          ],
          "name": "stdout"
        }
      ]
    },
    {
      "cell_type": "markdown",
      "metadata": {
        "id": "L6yAu8n8yDG-"
      },
      "source": [
        "#### Podemos fazer uma lista de [listas](https://www.geeksforgeeks.org/python-list/)."
      ]
    },
    {
      "cell_type": "code",
      "metadata": {
        "id": "a2uBHIxeyDG-",
        "outputId": "931de76c-377b-47ae-bab5-a733fbebdf29"
      },
      "source": [
        "friends = [[\"Rolf\", 24], [\"Bob\", 30], [\"Anne\", 27]]\n",
        "print(friends[0][1])  # 24\n",
        "print(friends[1][0])  # Bob"
      ],
      "execution_count": null,
      "outputs": [
        {
          "output_type": "stream",
          "text": [
            "24\n",
            "Bob\n"
          ],
          "name": "stdout"
        }
      ]
    },
    {
      "cell_type": "code",
      "metadata": {
        "id": "2qtSSj0kyDHB"
      },
      "source": [
        "#### \"Tem como remover apenas 'Rolf'\", você pergunta?"
      ],
      "execution_count": null,
      "outputs": []
    },
    {
      "cell_type": "code",
      "metadata": {
        "id": "9dcTglYEbImD"
      },
      "source": [
        "lst = friends\n",
        "#lst.remove[[\"Rolf\"]]    \n",
        "#del lst[0]\n",
        "#lst"
      ],
      "execution_count": null,
      "outputs": []
    },
    {
      "cell_type": "code",
      "metadata": {
        "id": "ivwr7kCxyDHE"
      },
      "source": [
        "#### Como faço para adicionar uma nova lista em uma lista de listas?"
      ],
      "execution_count": null,
      "outputs": []
    },
    {
      "cell_type": "code",
      "metadata": {
        "id": "P6vZlKnobImN",
        "outputId": "653dcc48-bf73-43c3-e981-ad19cc41d502"
      },
      "source": [
        "lst.append(['Maria', 29])\n",
        "lst"
      ],
      "execution_count": null,
      "outputs": [
        {
          "output_type": "execute_result",
          "data": {
            "text/plain": [
              "[['Rolf', 24], ['Bob', 30], ['Anne', 27], ['Maria', 29]]"
            ]
          },
          "metadata": {
            "tags": []
          },
          "execution_count": 124
        }
      ]
    },
    {
      "cell_type": "markdown",
      "metadata": {
        "id": "z2QQF7YGyDHI"
      },
      "source": [
        "### Já ouviu falar em [tuplas](https://www.tutorialspoint.com/python/python_tuples.htm)?"
      ]
    },
    {
      "cell_type": "markdown",
      "metadata": {
        "id": "6h6-kWcobImU"
      },
      "source": [
        "#### Uma tupla é uma coleção de objetos ordenados e imutáveis. tuplas são sequências, assim como listas. As diferenças entre tuplas e listas são: \n",
        "\n",
        "- As tuplas não podem ser alteradas, \n",
        "- Ao contrário das listas as tuplas usam parênteses, enquanto as listas usam colchetes. "
      ]
    },
    {
      "cell_type": "code",
      "metadata": {
        "id": "ICrCqIaVyDHJ"
      },
      "source": [
        "amigos_novos = ('João', 'Lindomar')"
      ],
      "execution_count": null,
      "outputs": []
    },
    {
      "cell_type": "markdown",
      "metadata": {
        "id": "9uaJK8rEbImZ"
      },
      "source": [
        "#### Tenta remover 'João'."
      ]
    },
    {
      "cell_type": "code",
      "metadata": {
        "id": "CLTY4tZGyDHK",
        "outputId": "c98da99e-93a9-4b73-9d1e-2bfa1b5228f4"
      },
      "source": [
        " amigos_novos.remove('João')"
      ],
      "execution_count": null,
      "outputs": [
        {
          "output_type": "error",
          "ename": "AttributeError",
          "evalue": "'tuple' object has no attribute 'remove'",
          "traceback": [
            "\u001b[0;31m---------------------------------------------------------------------------\u001b[0m",
            "\u001b[0;31mAttributeError\u001b[0m                            Traceback (most recent call last)",
            "\u001b[0;32m<ipython-input-126-b40433e4455c>\u001b[0m in \u001b[0;36m<module>\u001b[0;34m\u001b[0m\n\u001b[0;32m----> 1\u001b[0;31m \u001b[0mamigos_novos\u001b[0m\u001b[0;34m.\u001b[0m\u001b[0mremove\u001b[0m\u001b[0;34m(\u001b[0m\u001b[0;34m'João'\u001b[0m\u001b[0;34m)\u001b[0m\u001b[0;34m\u001b[0m\u001b[0;34m\u001b[0m\u001b[0m\n\u001b[0m",
            "\u001b[0;31mAttributeError\u001b[0m: 'tuple' object has no attribute 'remove'"
          ]
        }
      ]
    },
    {
      "cell_type": "markdown",
      "metadata": {
        "id": "SYK1ivAch-8U"
      },
      "source": [
        "Devido a não serem alteráveis as tuplas são importantes quando necessitamos guardar informações que não podem ser modificadas e termos confiança de que isso não irá acontecer."
      ]
    },
    {
      "cell_type": "markdown",
      "metadata": {
        "id": "eE92_k6syDHP"
      },
      "source": [
        "####  <span style = \"color:blue\">Prática Independente.</span>\n",
        "\n",
        "1. Vocês terão 15 minutos para essa tarefa. \n",
        "2. Vocês receberão duas listas e sua tarefa é encontrar os elementos comuns em ambas, salvando-os em uma terceira lista.\n",
        "3. A lista de elementos comuns não pode conter elementos repetidos.\n",
        "4. As listas são:\n",
        "    1. lista1 = [1, 100, 23, 40, 23, 50, 50, 49, 50]\n",
        "    2. lista2 = [30, 50, 80, 70, 40, 40, 34, 32, 40, 50]"
      ]
    },
    {
      "cell_type": "markdown",
      "metadata": {
        "id": "BHH7gWy7iTxW"
      },
      "source": [
        "Usando o tipo de armazenamento de dados set podemos transformar as duas listas em sets, aplicar a função intersection que retorna o elementos presentes em ambos os sets em que a função é aplicada. Depois disso é só retornarmos o set criado para um objeto de tipo lista."
      ]
    },
    {
      "cell_type": "code",
      "metadata": {
        "id": "y55lsAMVyDHP",
        "outputId": "8f442cb4-3f19-4510-f9f3-6a6bfb2162e8",
        "colab": {
          "base_uri": "https://localhost:8080/"
        }
      },
      "source": [
        "lista1 = [1, 100, 23, 40, 23, 50, 50, 49, 50]\n",
        "lista2 = [30, 50, 80, 70, 40, 40, 34, 32, 40, 50]\n",
        "\n",
        "lista_elementos_comuns = list(set(lista1).intersection(set(lista2)))\n",
        "lista_elementos_comuns"
      ],
      "execution_count": 8,
      "outputs": [
        {
          "output_type": "execute_result",
          "data": {
            "text/plain": [
              "[40, 50]"
            ]
          },
          "metadata": {
            "tags": []
          },
          "execution_count": 8
        }
      ]
    },
    {
      "cell_type": "markdown",
      "metadata": {
        "id": "SK10aF6SbImz"
      },
      "source": [
        "####  <span style = \"color:red\">Código Original.</span>\n",
        "<!---\n",
        "lista1 = [1, 100, 23, 40, 23, 50, 50, 49, 50]\n",
        "lista2 = [30, 50, 80, 70, 40, 40, 34, 32, 40, 50]\n",
        "    \n",
        "set1 = set(lista1)\n",
        "set2 = set(lista2)\n",
        "set3 = set1.intersection(set2)\n",
        "set3\n",
        "-->"
      ]
    },
    {
      "cell_type": "markdown",
      "metadata": {
        "id": "_4vLqi7GyDHS"
      },
      "source": [
        "### Conjuntos."
      ]
    },
    {
      "cell_type": "markdown",
      "metadata": {
        "id": "zq0fvS61bIm2"
      },
      "source": [
        "#### Em Python, um [Conjunto](http://theautomatic.net/2019/05/29/all-about-python-sets/#:~:text=We%20can%20test%20if%20two,normal%20%E2%80%9C%3D%3D%E2%80%9D%20operator.&text=Notice%20%E2%80%93%20since%20sets%20are%20unordered,same%20elements%2C%20regardless%20of%20order.) é uma coleção não ordenada de elementos únicos.\n",
        "\n",
        "#### [Conjuntos]() são declarados com chaves `{}` e novos elementos podem ser adicionados com o método [`.add()`](https://www.geeksforgeeks.org/set-add-python/)."
      ]
    },
    {
      "cell_type": "code",
      "metadata": {
        "id": "ilEHp_Y3yDHT",
        "outputId": "e6995ea5-5062-4458-d182-a3626fa46484"
      },
      "source": [
        "#como declarar?\n",
        "amigos_mala = {'Maria', 'Luciana'}\n",
        "\n",
        "#adicionar novos elementos\n",
        "amigos_mala.add('Marcos')\n",
        "amigos_mala.add('Marta')\n",
        "print(amigos_mala)"
      ],
      "execution_count": null,
      "outputs": [
        {
          "output_type": "stream",
          "text": [
            "{'Luciana', 'Maria', 'Marta', 'Marcos'}\n"
          ],
          "name": "stdout"
        }
      ]
    },
    {
      "cell_type": "markdown",
      "metadata": {
        "id": "Jppg7O0gbIm8"
      },
      "source": [
        "#### Também é possível remover elementos."
      ]
    },
    {
      "cell_type": "code",
      "metadata": {
        "id": "jU4MdcqebIm9",
        "outputId": "6ccde0e8-373e-49a5-e260-45a23778a3ca"
      },
      "source": [
        "amigos_mala.remove('Marta')\n",
        "print(amigos_mala)"
      ],
      "execution_count": null,
      "outputs": [
        {
          "output_type": "stream",
          "text": [
            "{'Luciana', 'Maria', 'Marcos'}\n"
          ],
          "name": "stdout"
        }
      ]
    },
    {
      "cell_type": "code",
      "metadata": {
        "id": "PcPlRN6HbInH"
      },
      "source": [
        "#### Ao adicionar novos elementos sua posição será aleatória."
      ],
      "execution_count": null,
      "outputs": []
    },
    {
      "cell_type": "code",
      "metadata": {
        "id": "4urwaC0ryDHU",
        "outputId": "941a7890-bc80-4345-84bf-9a2ab0390141"
      },
      "source": [
        "amigos_mala.add('Pedro')\n",
        "print(amigos_mala)"
      ],
      "execution_count": null,
      "outputs": [
        {
          "output_type": "stream",
          "text": [
            "{'Luciana', 'Maria', 'Pedro', 'Marcos'}\n"
          ],
          "name": "stdout"
        }
      ]
    },
    {
      "cell_type": "markdown",
      "metadata": {
        "id": "xwOw48B6j41X"
      },
      "source": [
        "Por que trabalhos com [`set`](https://realpython.com/python-sets/)?"
      ]
    },
    {
      "cell_type": "markdown",
      "metadata": {
        "id": "mtotjJtwbInn"
      },
      "source": [
        "##### Vamos criar um novo `set`."
      ]
    },
    {
      "cell_type": "code",
      "metadata": {
        "id": "486QrRLPyDHY"
      },
      "source": [
        "amigos_DH = {'Luis', 'Marcos', 'Julia', 'Liz'}"
      ],
      "execution_count": null,
      "outputs": []
    },
    {
      "cell_type": "code",
      "metadata": {
        "id": "BhH9lBaVyDHa",
        "outputId": "91e9c2ee-2c10-43db-b6d6-1afd104e2a18"
      },
      "source": [
        "mala_mas_nao_DH = amigos_mala.difference(amigos_DH)\n",
        "print (mala_mas_nao_DH)"
      ],
      "execution_count": null,
      "outputs": [
        {
          "output_type": "stream",
          "text": [
            "{'Luciana', 'Maria', 'Pedro'}\n"
          ],
          "name": "stdout"
        }
      ]
    },
    {
      "cell_type": "markdown",
      "metadata": {
        "id": "clSiTp96bIn5"
      },
      "source": [
        "#### Vemos quais amigos exclusivos em ambos os `sets` com o método [`.symmetric_difference()`](https://beginnersbook.com/2019/04/python-set-symmetric_difference-method/)."
      ]
    },
    {
      "cell_type": "code",
      "metadata": {
        "id": "Ggs68t74yDHc",
        "outputId": "096dabe8-db76-4fe1-a608-d7cd663d3a59"
      },
      "source": [
        "nao_esta_ambos = amigos_mala.symmetric_difference(amigos_DH)\n",
        "nao_esta_ambos"
      ],
      "execution_count": null,
      "outputs": [
        {
          "output_type": "execute_result",
          "data": {
            "text/plain": [
              "{'Julia', 'Liz', 'Luciana', 'Luis', 'Maria', 'Pedro'}"
            ]
          },
          "metadata": {
            "tags": []
          },
          "execution_count": 134
        }
      ]
    },
    {
      "cell_type": "markdown",
      "metadata": {
        "id": "iM0uxuyPbIn_"
      },
      "source": [
        "#### A intersecção é feita com o método [`.intersection()`](https://www.geeksforgeeks.org/intersection-function-python/)."
      ]
    },
    {
      "cell_type": "code",
      "metadata": {
        "id": "2TpAJmJ_yDHf",
        "outputId": "5754f4c0-3d73-4f4c-ab1e-bc19a261093a"
      },
      "source": [
        "interseccao = amigos_mala.intersection(amigos_DH)\n",
        "interseccao"
      ],
      "execution_count": null,
      "outputs": [
        {
          "output_type": "execute_result",
          "data": {
            "text/plain": [
              "{'Marcos'}"
            ]
          },
          "metadata": {
            "tags": []
          },
          "execution_count": 135
        }
      ]
    },
    {
      "cell_type": "markdown",
      "metadata": {
        "id": "YlfKHGywbIoP"
      },
      "source": [
        "#### A união dos conjuntos é realizada com o método [`.union()`](https://www.geeksforgeeks.org/union-function-python/)."
      ]
    },
    {
      "cell_type": "code",
      "metadata": {
        "id": "BCJKOxX4yDHg",
        "outputId": "e7e25af9-2e48-43d0-b9cd-9cd187b90bc9"
      },
      "source": [
        "uniao = amigos_mala.union(amigos_DH)\n",
        "uniao"
      ],
      "execution_count": null,
      "outputs": [
        {
          "output_type": "execute_result",
          "data": {
            "text/plain": [
              "{'Julia', 'Liz', 'Luciana', 'Luis', 'Marcos', 'Maria', 'Pedro'}"
            ]
          },
          "metadata": {
            "tags": []
          },
          "execution_count": 136
        }
      ]
    },
    {
      "cell_type": "markdown",
      "metadata": {
        "id": "IhF2ziq3bIoi"
      },
      "source": [
        "#### Como a manipulação de listas pode se beneficiar dessas operações?"
      ]
    },
    {
      "cell_type": "code",
      "metadata": {
        "id": "RnckPzfMyDHi",
        "outputId": "aeba7b35-dfeb-4d9a-f12d-658f3444b1dc"
      },
      "source": [
        "lista = ['Julia', \n",
        "         'Liz', \n",
        "         'Luciana', \n",
        "         'Luis', \n",
        "         'Maria', \n",
        "         'Julia', \n",
        "         'Liz', \n",
        "         'Luciana', \n",
        "         'Luis', \n",
        "         'Maria']\n",
        "\n",
        "lista2 = ['Julia', \n",
        "          'Liz', \n",
        "          'Luciana2', \n",
        "          'Luis2', \n",
        "          'Maria2']\n",
        "\n",
        "interseccao_list = set(lista).intersection(set(lista2))\n",
        "interseccao_list"
      ],
      "execution_count": null,
      "outputs": [
        {
          "output_type": "execute_result",
          "data": {
            "text/plain": [
              "{'Julia', 'Liz'}"
            ]
          },
          "metadata": {
            "tags": []
          },
          "execution_count": 137
        }
      ]
    },
    {
      "cell_type": "markdown",
      "metadata": {
        "id": "8LKDQyyeyDHm"
      },
      "source": [
        "### Dicionário."
      ]
    },
    {
      "cell_type": "markdown",
      "metadata": {
        "id": "FcnQnPRabIov"
      },
      "source": [
        "#### Em Python, um [Dicionário](https://docs.python.org/3/c-api/dict.html?highlight=dictionary#dictionary-objects) é uma estrutura de dados que é mais geralmente conhecida como uma [matriz associativa](https://en.wikipedia.org/wiki/Associative_array). \n",
        "\n",
        "#### Um [dicionário](https://realpython.com/python-dicts/) consiste em uma coleção de pares de valores-chave. Cada par de valor-chave mapeia a chave para seu valor associado. Ele pode ser declarado com um par `chave: valor`."
      ]
    },
    {
      "cell_type": "code",
      "metadata": {
        "id": "smGExJ2MyDHm"
      },
      "source": [
        "friend_ages = {\"Rolf\": 24, \"Adam\": 30, \"Anne\": 27, 'Zé': 24}"
      ],
      "execution_count": 10,
      "outputs": []
    },
    {
      "cell_type": "markdown",
      "metadata": {
        "id": "mHrQNNd2bIo0"
      },
      "source": [
        "#### Como encontrar valores em um dicionário?"
      ]
    },
    {
      "cell_type": "code",
      "metadata": {
        "id": "SPVw4IZEyDHn",
        "outputId": "8cb18296-0bed-4167-fcb7-336a96fe82a5"
      },
      "source": [
        "print(friend_ages['Zé'])"
      ],
      "execution_count": null,
      "outputs": [
        {
          "output_type": "stream",
          "text": [
            "24\n"
          ],
          "name": "stdout"
        }
      ]
    },
    {
      "cell_type": "markdown",
      "metadata": {
        "id": "zZRfjAeMbIpC"
      },
      "source": [
        "#### Como adicionar mais elementos?"
      ]
    },
    {
      "cell_type": "code",
      "metadata": {
        "id": "g7LPMXDgyDHp",
        "outputId": "ac60d9d1-b8a4-46d4-aea0-825d6e341255"
      },
      "source": [
        "friend_ages['Breno'] = 33\n",
        "friend_ages"
      ],
      "execution_count": null,
      "outputs": [
        {
          "output_type": "execute_result",
          "data": {
            "text/plain": [
              "{'Rolf': 24, 'Adam': 30, 'Anne': 27, 'Zé': 24, 'Breno': 33}"
            ]
          },
          "metadata": {
            "tags": []
          },
          "execution_count": 140
        }
      ]
    },
    {
      "cell_type": "markdown",
      "metadata": {
        "id": "yIx-kLDybIpJ"
      },
      "source": [
        "#### Outros comandos que podem ajudar:"
      ]
    },
    {
      "cell_type": "code",
      "metadata": {
        "id": "wP7SFJZ_yDHq"
      },
      "source": [
        "#friend_ages.keys()\n",
        "#friend_ages.values()\n",
        "#friend_ages.items()"
      ],
      "execution_count": null,
      "outputs": []
    },
    {
      "cell_type": "markdown",
      "metadata": {
        "id": "vNxl-CUebIpO"
      },
      "source": [
        "#### O método [`.values()`](https://www.geeksforgeeks.org/python-dictionary-values/#:~:text=values()%20is%20an%20inbuilt,available%20in%20a%20given%20dictionary.&text=Returns%3A,stored%20in%20a%20reversed%20manner.) retorna uma lista de todos os valores disponíveis em um determinado dicionário."
      ]
    },
    {
      "cell_type": "code",
      "metadata": {
        "id": "Yw1doPHyyDHs",
        "outputId": "7b3da136-2891-43eb-acfa-351a7b50e9e4"
      },
      "source": [
        "friend_ages.values()"
      ],
      "execution_count": null,
      "outputs": [
        {
          "output_type": "execute_result",
          "data": {
            "text/plain": [
              "dict_values([24, 30, 27, 24, 33])"
            ]
          },
          "metadata": {
            "tags": []
          },
          "execution_count": 142
        }
      ]
    },
    {
      "cell_type": "markdown",
      "metadata": {
        "id": "Gcdvz-O5bIpT"
      },
      "source": [
        "#### O método [`popitem()`](https://www.programiz.com/python-programming/methods/dictionary/popitem) vai remover e retornar o último par de elementos (chave, valor) inserido no dicionário."
      ]
    },
    {
      "cell_type": "code",
      "metadata": {
        "id": "ZZgVMLSYyDHv"
      },
      "source": [
        "key, value = friend_ages.popitem()"
      ],
      "execution_count": null,
      "outputs": []
    },
    {
      "cell_type": "markdown",
      "metadata": {
        "id": "zkuvmkgvbIpY"
      },
      "source": [
        "#### O método [`.item()`](https://www.tutorialspoint.com/python/dictionary_items.htm) retorna uma lista de pares de tupla de dict (chave, valor)."
      ]
    },
    {
      "cell_type": "code",
      "metadata": {
        "id": "4Eu4sAoIyDHw",
        "outputId": "e9f27f62-b438-4f97-95ac-aebeffc6f955"
      },
      "source": [
        "friend_ages.items()"
      ],
      "execution_count": null,
      "outputs": [
        {
          "output_type": "execute_result",
          "data": {
            "text/plain": [
              "dict_items([('Rolf', 24), ('Adam', 30), ('Anne', 27), ('Zé', 24)])"
            ]
          },
          "metadata": {
            "tags": []
          },
          "execution_count": 144
        }
      ]
    },
    {
      "cell_type": "code",
      "metadata": {
        "id": "xFoVdVXPyDHy",
        "outputId": "93d9ef4f-58bd-430e-aab8-4aee288e958d"
      },
      "source": [
        "len(friend_ages)"
      ],
      "execution_count": null,
      "outputs": [
        {
          "output_type": "execute_result",
          "data": {
            "text/plain": [
              "4"
            ]
          },
          "metadata": {
            "tags": []
          },
          "execution_count": 145
        }
      ]
    },
    {
      "cell_type": "markdown",
      "metadata": {
        "id": "lgOAVAojbIpk"
      },
      "source": [
        "#### Podemos alterar o valor de uma das chaves."
      ]
    },
    {
      "cell_type": "code",
      "metadata": {
        "id": "HbGuE4mDyDHz",
        "outputId": "b71c6bd2-1996-4e98-cba5-160a62c9e4f7"
      },
      "source": [
        "friend_ages[\"Rolf\"] = 25\n",
        "print(friend_ages)"
      ],
      "execution_count": null,
      "outputs": [
        {
          "output_type": "stream",
          "text": [
            "{'Rolf': 25, 'Adam': 30, 'Anne': 27, 'Zé': 24}\n"
          ],
          "name": "stdout"
        }
      ]
    },
    {
      "cell_type": "markdown",
      "metadata": {
        "id": "pEfoxSNIbIpr"
      },
      "source": [
        "#### Podemos ainda converter uma lista de tuplas em um dicionário, utilizando a função [`dict`](https://www.programiz.com/python-programming/methods/built-in/dict)."
      ]
    },
    {
      "cell_type": "code",
      "metadata": {
        "id": "TZnfUB-YyDH1",
        "outputId": "3a37cb63-20b5-4e39-8c2f-398cd5edbb51"
      },
      "source": [
        "friends = [(\"Rolf\", 24), (\"Adam\", 30), (\"Anne\", 27)]\n",
        "friend_ages1 = dict(friends)\n",
        "print(friend_ages)"
      ],
      "execution_count": null,
      "outputs": [
        {
          "output_type": "stream",
          "text": [
            "{'Rolf': 25, 'Adam': 30, 'Anne': 27, 'Zé': 24}\n"
          ],
          "name": "stdout"
        }
      ]
    },
    {
      "cell_type": "code",
      "metadata": {
        "id": "WKTyK2qhyDH2",
        "outputId": "568a79fb-9f81-4666-9d60-042b3d2f74a3"
      },
      "source": [
        "#friend_ages['Rolf']\n",
        "friend_ages1"
      ],
      "execution_count": null,
      "outputs": [
        {
          "output_type": "execute_result",
          "data": {
            "text/plain": [
              "{'Rolf': 24, 'Adam': 30, 'Anne': 27}"
            ]
          },
          "metadata": {
            "tags": []
          },
          "execution_count": 148
        }
      ]
    },
    {
      "cell_type": "markdown",
      "metadata": {
        "id": "P25gvoqvyDH3"
      },
      "source": [
        "####  <span style = \"color:blue\">Prática Independente.</span>\n",
        "\n",
        "1. Vamos trabalhar com o dicionário `friend_ages`.\n",
        "2. Imprima somente os nomes dos amigos com idade igual ou superior à 25."
      ]
    },
    {
      "cell_type": "code",
      "metadata": {
        "id": "7RYrSD0_bIqB",
        "outputId": "76a6fb45-de87-4de7-fbd4-8fc9d33e7280",
        "colab": {
          "base_uri": "https://localhost:8080/"
        }
      },
      "source": [
        "for pessoa in friend_ages.items():\n",
        "  if pessoa[1] >= 25:\n",
        "    print(pessoa[0])"
      ],
      "execution_count": 17,
      "outputs": [
        {
          "output_type": "stream",
          "text": [
            "Adam\n",
            "Anne\n"
          ],
          "name": "stdout"
        }
      ]
    },
    {
      "cell_type": "markdown",
      "metadata": {
        "id": "q2u-7gvgbIqM"
      },
      "source": [
        "####  <span style = \"color:red\">Código Original.</span>\n",
        "<!---\n",
        "friends_adultos = {k: v for (k,v) in friend_ages.items() if v > 25}\n",
        "friends_adultos\n",
        "-->"
      ]
    },
    {
      "cell_type": "markdown",
      "metadata": {
        "id": "llPp1ZIdyDH3"
      },
      "source": [
        "### Essa parte é extra para vocês estudarem após a aula"
      ]
    },
    {
      "cell_type": "markdown",
      "metadata": {
        "id": "_oYPGQ_TbIqO"
      },
      "source": [
        "#### Estruturas [`while`](https://realpython.com/python-while-loop/) e [`if`.](https://www.guru99.com/if-loop-python-conditional-structures.html#:~:text=Python%20if%20Statement%20is%20used,code%20for%20the%20else%20condition.)"
      ]
    },
    {
      "cell_type": "code",
      "metadata": {
        "id": "uEfkL4guyDH4",
        "outputId": "52574d81-24a1-4b64-9a4f-611cf2baac32"
      },
      "source": [
        "import random\n",
        "lista_teste = random.sample(range(1, 100), 10)\n",
        "\n",
        "while len(lista_teste) > 5:\n",
        "    print(\"A lista atual é:\", lista_teste)\n",
        "    \n",
        "    user_input = int(input('Digite um número para ser excluído: '))\n",
        "    \n",
        "    if user_input in lista_teste:\n",
        "        lista_teste.remove(user_input)\n",
        "        \n",
        "print(\"Vamos parar por aqui\")"
      ],
      "execution_count": null,
      "outputs": [
        {
          "output_type": "stream",
          "text": [
            "A lista atual é: [27, 70, 86, 9, 77, 21, 89, 38, 64, 74]\n"
          ],
          "name": "stdout"
        },
        {
          "output_type": "stream",
          "text": [
            "Digite um número para ser excluído:  27\n"
          ],
          "name": "stdin"
        },
        {
          "output_type": "stream",
          "text": [
            "A lista atual é: [70, 86, 9, 77, 21, 89, 38, 64, 74]\n"
          ],
          "name": "stdout"
        },
        {
          "output_type": "stream",
          "text": [
            "Digite um número para ser excluído:  70\n"
          ],
          "name": "stdin"
        },
        {
          "output_type": "stream",
          "text": [
            "A lista atual é: [86, 9, 77, 21, 89, 38, 64, 74]\n"
          ],
          "name": "stdout"
        },
        {
          "output_type": "stream",
          "text": [
            "Digite um número para ser excluído:  86\n"
          ],
          "name": "stdin"
        },
        {
          "output_type": "stream",
          "text": [
            "A lista atual é: [9, 77, 21, 89, 38, 64, 74]\n"
          ],
          "name": "stdout"
        },
        {
          "output_type": "stream",
          "text": [
            "Digite um número para ser excluído:  9\n"
          ],
          "name": "stdin"
        },
        {
          "output_type": "stream",
          "text": [
            "A lista atual é: [77, 21, 89, 38, 64, 74]\n"
          ],
          "name": "stdout"
        },
        {
          "output_type": "stream",
          "text": [
            "Digite um número para ser excluído:  77\n"
          ],
          "name": "stdin"
        },
        {
          "output_type": "stream",
          "text": [
            "Vamos parar por aqui\n"
          ],
          "name": "stdout"
        }
      ]
    },
    {
      "cell_type": "code",
      "metadata": {
        "id": "0z64aBFCyDH6",
        "outputId": "6ab077f6-635e-4129-aaeb-c4f7f77f8db7"
      },
      "source": [
        "friends = [(\"Rolf\", 25), \n",
        "           (\"Anne\", 37), \n",
        "           (\"Charlie\", 31), \n",
        "           (\"Bob\", 22)]\n",
        "\n",
        "for name, age in friends:  \n",
        "    print(f\"{name} is {age} years old.\")"
      ],
      "execution_count": null,
      "outputs": [
        {
          "output_type": "stream",
          "text": [
            "Rolf is 25 years old.\n",
            "Anne is 37 years old.\n",
            "Charlie is 31 years old.\n",
            "Bob is 22 years old.\n"
          ],
          "name": "stdout"
        }
      ]
    },
    {
      "cell_type": "code",
      "metadata": {
        "id": "TEKpkw6ByDH8",
        "outputId": "3ac733e3-a36c-4df5-882d-7777ef4ef320"
      },
      "source": [
        "cars = [\"ok\", \n",
        "        \"ok\", \n",
        "        \"ok\", \n",
        "        \"faulty\", \n",
        "        \"ok\", \n",
        "        \"ok\"]\n",
        "\n",
        "for status in cars:\n",
        "    if status == \"faulty\":\n",
        "        print(\"Stopping the production line!\")\n",
        "        break\n",
        "\n",
        "    else:\n",
        "        print(\"All cars built successfully. No faulty cars!\")"
      ],
      "execution_count": null,
      "outputs": [
        {
          "output_type": "stream",
          "text": [
            "All cars built successfully. No faulty cars!\n",
            "All cars built successfully. No faulty cars!\n",
            "All cars built successfully. No faulty cars!\n",
            "Stopping the production line!\n"
          ],
          "name": "stdout"
        }
      ]
    }
  ]
}