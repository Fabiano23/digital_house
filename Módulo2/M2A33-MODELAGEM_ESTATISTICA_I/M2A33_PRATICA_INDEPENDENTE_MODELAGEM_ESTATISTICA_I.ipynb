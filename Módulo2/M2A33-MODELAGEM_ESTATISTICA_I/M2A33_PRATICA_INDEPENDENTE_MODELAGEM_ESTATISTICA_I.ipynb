{
  "nbformat": 4,
  "nbformat_minor": 0,
  "metadata": {
    "kernelspec": {
      "display_name": "Python 3",
      "language": "python",
      "name": "python3"
    },
    "language_info": {
      "codemirror_mode": {
        "name": "ipython",
        "version": 3
      },
      "file_extension": ".py",
      "mimetype": "text/x-python",
      "name": "python",
      "nbconvert_exporter": "python",
      "pygments_lexer": "ipython3",
      "version": "3.7.6"
    },
    "colab": {
      "name": "M2A33-PRATICA_INDEPENDENTE_MODELAGEM_ESTATISTICA_I.ipynb",
      "provenance": [],
      "collapsed_sections": [
        "M7mLxv0unn-5",
        "JmruXUWYnn-8",
        "om0VUwH5nn--",
        "JGFWtLOFnn-_",
        "TLYhMqbUnn-_",
        "URjr8x6Xnn_B",
        "O2tteJm-nn_B"
      ]
    }
  },
  "cells": [
    {
      "cell_type": "markdown",
      "metadata": {
        "id": "orDg4W6Dnn-r"
      },
      "source": [
        "# Prática Independente - Modelagem estatística I."
      ]
    },
    {
      "cell_type": "code",
      "metadata": {
        "id": "tdYQTcK1ntXF"
      },
      "source": [
        "import pandas as pd\n",
        "import numpy as np\n",
        "import seaborn as sns\n",
        "import matplotlib.pyplot as plt\n",
        "\n",
        "# Tamanho padrões das figuras e a fonte de seus textos neste notebook\n",
        "plt.rcParams['figure.figsize'] = (10, 8)\n",
        "plt.rcParams['font.size'] = 14"
      ],
      "execution_count": 92,
      "outputs": []
    },
    {
      "cell_type": "markdown",
      "metadata": {
        "id": "efWpHLtq0gL2"
      },
      "source": [
        "#Funções que serão utilizadas ao longo do notebook"
      ]
    },
    {
      "cell_type": "code",
      "metadata": {
        "id": "GLhkp3de0fh6"
      },
      "source": [
        "def EDA (df):\n",
        "    \"\"\"Função que retona algumas métricas de análise estatística descritiva personalizadas\"\"\"\n",
        "    eda_df = {}\n",
        "    eda_df['Amount_NaN'] = df.isnull().sum()\n",
        "    eda_df['%_NaN'] = df.isnull().mean().round(2)\n",
        "    eda_df['DType'] = df.dtypes\n",
        "    eda_df['Amount_Data'] = df.count()\n",
        "    \n",
        "    # Outro ponto para ser verificado, porque para criar a coluna com a quantidade de valores unicos por coluna\n",
        "    # Não utilizei a função df.unique() \n",
        "    colunas = sorted(df.columns.tolist(), key=str.lower, reverse=False)\n",
        "    eda_df['Amount_Unique'] = filtered_result = list(map(lambda x: len(df[x].unique().tolist()), colunas))\n",
        "    \n",
        "    eda_df['Mean'] = np.round(df.mean(), 2)\n",
        "    eda_df['Median'] = np.round(df.median(), 2)\n",
        "    \n",
        "    eda_df['Max'] = df.max()\n",
        "    eda_df['Min'] = df.min()\n",
        "    eda_df['STD'] = np.round(df.std(), 2)\n",
        "    \n",
        "    return pd.DataFrame(eda_df)"
      ],
      "execution_count": 41,
      "outputs": []
    },
    {
      "cell_type": "code",
      "metadata": {
        "id": "Pink5_pg2ezl"
      },
      "source": [
        "from scipy import stats\n",
        "\n",
        "def normal(df, col, threshold = 0.05):\n",
        "\n",
        "  \"\"\"Função que retorna se uma distribuição é ou não normal\"\"\"\n",
        "  try:\n",
        "    zscore, p_value = stats.normaltest(df[col])\n",
        "    #print('p_value:', p_value)\n",
        "    #print(\"stats.normaltest(df['{}']):\".format(col), stats.normaltest(df[col]))\n",
        "        \n",
        "    if p_value < threshold:\n",
        "      result = 'A distribuição não é normal'\n",
        "    else:\n",
        "      result = 'A distribuição é normal' \n",
        "  except:\n",
        "    zscore = p_value = np.nan\n",
        "    result = 'Não aplicável'\n",
        "  return result"
      ],
      "execution_count": 43,
      "outputs": []
    },
    {
      "cell_type": "markdown",
      "metadata": {
        "id": "GxT4VP60nn-3"
      },
      "source": [
        "\n",
        "### Data fields:\n",
        "\n",
        "#### Aqui está uma breve descrição dos dados.\n",
        "\n",
        "- SalePrice - the property's sale price in dollars. This is the target variable that you're trying to predict.\n",
        "- MSSubClass: The building class\n",
        "- MSZoning: The general zoning classification\n",
        "- LotFrontage: Linear feet of street connected to property\n",
        "- LotArea: Lot size in square feet\n",
        "- Street: Type of road access\n",
        "- Alley: Type of alley access\n",
        "- LotShape: General shape of property\n",
        "- LandContour: Flatness of the property\n",
        "- Utilities: Type of utilities available\n",
        "- LotConfig: Lot configuration\n",
        "- LandSlope: Slope of property\n",
        "- Neighborhood: Physical locations within Ames city limits\n",
        "- Condition1: Proximity to main road or railroad\n",
        "- Condition2: Proximity to main road or railroad (if a second is present)\n",
        "- BldgType: Type of dwelling\n",
        "- HouseStyle: Style of dwelling\n",
        "- OverallQual: Overall material and finish quality\n",
        "- OverallCond: Overall condition rating\n",
        "- YearBuilt: Original construction date\n",
        "- YearRemodAdd: Remodel date\n",
        "- RoofStyle: Type of roof\n",
        "- RoofMatl: Roof material\n",
        "- Exterior1st: Exterior covering on house\n",
        "- Exterior2nd: Exterior covering on house (if more than one material)\n",
        "- MasVnrType: Masonry veneer type\n",
        "- MasVnrArea: Masonry veneer area in square feet\n",
        "- ExterQual: Exterior material quality\n",
        "- ExterCond: Present condition of the material on the exterior\n",
        "- Foundation: Type of foundation\n",
        "- BsmtQual: Height of the basement\n",
        "- BsmtCond: General condition of the basement\n",
        "- BsmtExposure: Walkout or garden level basement walls\n",
        "- BsmtFinType1: Quality of basement finished area\n",
        "- BsmtFinSF1: Type 1 finished square feet\n",
        "- BsmtFinType2: Quality of second finished area (if present)\n",
        "- BsmtFinSF2: Type 2 finished square feet\n",
        "- BsmtUnfSF: Unfinished square feet of basement area\n",
        "- TotalBsmtSF: Total square feet of basement area\n",
        "- Heating: Type of heating\n",
        "- HeatingQC: Heating quality and condition\n",
        "- CentralAir: Central air conditioning\n",
        "- Electrical: Electrical system\n",
        "- 1stFlrSF: First Floor square feet\n",
        "- 2ndFlrSF: Second floor square feet\n",
        "- LowQualFinSF: Low quality finished square feet (all floors)\n",
        "- GrLivArea: Above grade (ground) living area square feet\n",
        "- BsmtFullBath: Basement full bathrooms\n",
        "- BsmtHalfBath: Basement half bathrooms\n",
        "- FullBath: Full bathrooms above grade\n",
        "- HalfBath: Half baths above grade\n",
        "- Bedroom: Number of bedrooms above basement level\n",
        "- Kitchen: Number of kitchens\n",
        "- KitchenQual: Kitchen quality\n",
        "- TotRmsAbvGrd: Total rooms above grade (does not include bathrooms)\n",
        "- Functional: Home functionality rating\n",
        "- Fireplaces: Number of fireplaces\n",
        "- FireplaceQu: Fireplace quality\n",
        "- GarageType: Garage location\n",
        "- GarageYrBlt: Year garage was built\n",
        "- GarageFinish: Interior finish of the garage\n",
        "- GarageCars: Size of garage in car capacity\n",
        "- GarageArea: Size of garage in square feet\n",
        "- GarageQual: Garage quality\n",
        "- GarageCond: Garage condition\n",
        "- PavedDrive: Paved driveway\n",
        "- WoodDeckSF: Wood deck area in square feet\n",
        "- OpenPorchSF: Open porch area in square feet\n",
        "- EnclosedPorch: Enclosed porch area in square feet\n",
        "- 3SsnPorch: Three season porch area in square feet\n",
        "- ScreenPorch: Screen porch area in square feet\n",
        "- PoolArea: Pool area in square feet\n",
        "- PoolQC: Pool quality\n",
        "- Fence: Fence quality\n",
        "- MiscFeature: Miscellaneous feature not covered in other categories\n",
        "- MiscVal: Value of miscellaneous feature\n",
        "- MoSold: Month Sold\n",
        "- YrSold: Year Sold\n",
        "- SaleType: Type of sale\n",
        "- SaleCondition: Condition of sale    "
      ]
    },
    {
      "cell_type": "markdown",
      "metadata": {
        "id": "M7mLxv0unn-5"
      },
      "source": [
        "#### Exercício 1 - Faça a leitura do arquivo `IowaHousePricing.csv` e obtenha as informações iniciais para a decrição do `dataset`."
      ]
    },
    {
      "cell_type": "code",
      "metadata": {
        "colab": {
          "base_uri": "https://localhost:8080/",
          "height": 253
        },
        "id": "NYVcTxrynn-5",
        "outputId": "53939099-f964-4975-f14b-ea65489ebc71"
      },
      "source": [
        "dados = pd.read_csv('IowaHousePricing.csv')\n",
        "dados.head()"
      ],
      "execution_count": 6,
      "outputs": [
        {
          "output_type": "execute_result",
          "data": {
            "text/html": [
              "<div>\n",
              "<style scoped>\n",
              "    .dataframe tbody tr th:only-of-type {\n",
              "        vertical-align: middle;\n",
              "    }\n",
              "\n",
              "    .dataframe tbody tr th {\n",
              "        vertical-align: top;\n",
              "    }\n",
              "\n",
              "    .dataframe thead th {\n",
              "        text-align: right;\n",
              "    }\n",
              "</style>\n",
              "<table border=\"1\" class=\"dataframe\">\n",
              "  <thead>\n",
              "    <tr style=\"text-align: right;\">\n",
              "      <th></th>\n",
              "      <th>Id</th>\n",
              "      <th>MSSubClass</th>\n",
              "      <th>MSZoning</th>\n",
              "      <th>LotFrontage</th>\n",
              "      <th>LotArea</th>\n",
              "      <th>Street</th>\n",
              "      <th>Alley</th>\n",
              "      <th>LotShape</th>\n",
              "      <th>LandContour</th>\n",
              "      <th>Utilities</th>\n",
              "      <th>LotConfig</th>\n",
              "      <th>LandSlope</th>\n",
              "      <th>Neighborhood</th>\n",
              "      <th>Condition1</th>\n",
              "      <th>Condition2</th>\n",
              "      <th>BldgType</th>\n",
              "      <th>HouseStyle</th>\n",
              "      <th>OverallQual</th>\n",
              "      <th>OverallCond</th>\n",
              "      <th>YearBuilt</th>\n",
              "      <th>YearRemodAdd</th>\n",
              "      <th>RoofStyle</th>\n",
              "      <th>RoofMatl</th>\n",
              "      <th>Exterior1st</th>\n",
              "      <th>Exterior2nd</th>\n",
              "      <th>MasVnrType</th>\n",
              "      <th>MasVnrArea</th>\n",
              "      <th>ExterQual</th>\n",
              "      <th>ExterCond</th>\n",
              "      <th>Foundation</th>\n",
              "      <th>BsmtQual</th>\n",
              "      <th>BsmtCond</th>\n",
              "      <th>BsmtExposure</th>\n",
              "      <th>BsmtFinType1</th>\n",
              "      <th>BsmtFinSF1</th>\n",
              "      <th>BsmtFinType2</th>\n",
              "      <th>BsmtFinSF2</th>\n",
              "      <th>BsmtUnfSF</th>\n",
              "      <th>TotalBsmtSF</th>\n",
              "      <th>Heating</th>\n",
              "      <th>...</th>\n",
              "      <th>CentralAir</th>\n",
              "      <th>Electrical</th>\n",
              "      <th>1stFlrSF</th>\n",
              "      <th>2ndFlrSF</th>\n",
              "      <th>LowQualFinSF</th>\n",
              "      <th>GrLivArea</th>\n",
              "      <th>BsmtFullBath</th>\n",
              "      <th>BsmtHalfBath</th>\n",
              "      <th>FullBath</th>\n",
              "      <th>HalfBath</th>\n",
              "      <th>BedroomAbvGr</th>\n",
              "      <th>KitchenAbvGr</th>\n",
              "      <th>KitchenQual</th>\n",
              "      <th>TotRmsAbvGrd</th>\n",
              "      <th>Functional</th>\n",
              "      <th>Fireplaces</th>\n",
              "      <th>FireplaceQu</th>\n",
              "      <th>GarageType</th>\n",
              "      <th>GarageYrBlt</th>\n",
              "      <th>GarageFinish</th>\n",
              "      <th>GarageCars</th>\n",
              "      <th>GarageArea</th>\n",
              "      <th>GarageQual</th>\n",
              "      <th>GarageCond</th>\n",
              "      <th>PavedDrive</th>\n",
              "      <th>WoodDeckSF</th>\n",
              "      <th>OpenPorchSF</th>\n",
              "      <th>EnclosedPorch</th>\n",
              "      <th>3SsnPorch</th>\n",
              "      <th>ScreenPorch</th>\n",
              "      <th>PoolArea</th>\n",
              "      <th>PoolQC</th>\n",
              "      <th>Fence</th>\n",
              "      <th>MiscFeature</th>\n",
              "      <th>MiscVal</th>\n",
              "      <th>MoSold</th>\n",
              "      <th>YrSold</th>\n",
              "      <th>SaleType</th>\n",
              "      <th>SaleCondition</th>\n",
              "      <th>SalePrice</th>\n",
              "    </tr>\n",
              "  </thead>\n",
              "  <tbody>\n",
              "    <tr>\n",
              "      <th>0</th>\n",
              "      <td>1</td>\n",
              "      <td>60</td>\n",
              "      <td>RL</td>\n",
              "      <td>65.0</td>\n",
              "      <td>8450</td>\n",
              "      <td>Pave</td>\n",
              "      <td>NaN</td>\n",
              "      <td>Reg</td>\n",
              "      <td>Lvl</td>\n",
              "      <td>AllPub</td>\n",
              "      <td>Inside</td>\n",
              "      <td>Gtl</td>\n",
              "      <td>CollgCr</td>\n",
              "      <td>Norm</td>\n",
              "      <td>Norm</td>\n",
              "      <td>1Fam</td>\n",
              "      <td>2Story</td>\n",
              "      <td>7</td>\n",
              "      <td>5</td>\n",
              "      <td>2003</td>\n",
              "      <td>2003</td>\n",
              "      <td>Gable</td>\n",
              "      <td>CompShg</td>\n",
              "      <td>VinylSd</td>\n",
              "      <td>VinylSd</td>\n",
              "      <td>BrkFace</td>\n",
              "      <td>196.0</td>\n",
              "      <td>Gd</td>\n",
              "      <td>TA</td>\n",
              "      <td>PConc</td>\n",
              "      <td>Gd</td>\n",
              "      <td>TA</td>\n",
              "      <td>No</td>\n",
              "      <td>GLQ</td>\n",
              "      <td>706.0</td>\n",
              "      <td>Unf</td>\n",
              "      <td>0.0</td>\n",
              "      <td>150.0</td>\n",
              "      <td>856.0</td>\n",
              "      <td>GasA</td>\n",
              "      <td>...</td>\n",
              "      <td>Y</td>\n",
              "      <td>SBrkr</td>\n",
              "      <td>856</td>\n",
              "      <td>854</td>\n",
              "      <td>0</td>\n",
              "      <td>1710</td>\n",
              "      <td>1.0</td>\n",
              "      <td>0.0</td>\n",
              "      <td>2</td>\n",
              "      <td>1</td>\n",
              "      <td>3</td>\n",
              "      <td>1</td>\n",
              "      <td>Gd</td>\n",
              "      <td>8</td>\n",
              "      <td>Typ</td>\n",
              "      <td>0</td>\n",
              "      <td>NaN</td>\n",
              "      <td>Attchd</td>\n",
              "      <td>2003.0</td>\n",
              "      <td>RFn</td>\n",
              "      <td>2.0</td>\n",
              "      <td>548.0</td>\n",
              "      <td>TA</td>\n",
              "      <td>TA</td>\n",
              "      <td>Y</td>\n",
              "      <td>0</td>\n",
              "      <td>61</td>\n",
              "      <td>0</td>\n",
              "      <td>0</td>\n",
              "      <td>0</td>\n",
              "      <td>0</td>\n",
              "      <td>NaN</td>\n",
              "      <td>NaN</td>\n",
              "      <td>NaN</td>\n",
              "      <td>0</td>\n",
              "      <td>2</td>\n",
              "      <td>2008</td>\n",
              "      <td>WD</td>\n",
              "      <td>Normal</td>\n",
              "      <td>208500.0</td>\n",
              "    </tr>\n",
              "    <tr>\n",
              "      <th>1</th>\n",
              "      <td>2</td>\n",
              "      <td>20</td>\n",
              "      <td>RL</td>\n",
              "      <td>80.0</td>\n",
              "      <td>9600</td>\n",
              "      <td>Pave</td>\n",
              "      <td>NaN</td>\n",
              "      <td>Reg</td>\n",
              "      <td>Lvl</td>\n",
              "      <td>AllPub</td>\n",
              "      <td>FR2</td>\n",
              "      <td>Gtl</td>\n",
              "      <td>Veenker</td>\n",
              "      <td>Feedr</td>\n",
              "      <td>Norm</td>\n",
              "      <td>1Fam</td>\n",
              "      <td>1Story</td>\n",
              "      <td>6</td>\n",
              "      <td>8</td>\n",
              "      <td>1976</td>\n",
              "      <td>1976</td>\n",
              "      <td>Gable</td>\n",
              "      <td>CompShg</td>\n",
              "      <td>MetalSd</td>\n",
              "      <td>MetalSd</td>\n",
              "      <td>None</td>\n",
              "      <td>0.0</td>\n",
              "      <td>TA</td>\n",
              "      <td>TA</td>\n",
              "      <td>CBlock</td>\n",
              "      <td>Gd</td>\n",
              "      <td>TA</td>\n",
              "      <td>Gd</td>\n",
              "      <td>ALQ</td>\n",
              "      <td>978.0</td>\n",
              "      <td>Unf</td>\n",
              "      <td>0.0</td>\n",
              "      <td>284.0</td>\n",
              "      <td>1262.0</td>\n",
              "      <td>GasA</td>\n",
              "      <td>...</td>\n",
              "      <td>Y</td>\n",
              "      <td>SBrkr</td>\n",
              "      <td>1262</td>\n",
              "      <td>0</td>\n",
              "      <td>0</td>\n",
              "      <td>1262</td>\n",
              "      <td>0.0</td>\n",
              "      <td>1.0</td>\n",
              "      <td>2</td>\n",
              "      <td>0</td>\n",
              "      <td>3</td>\n",
              "      <td>1</td>\n",
              "      <td>TA</td>\n",
              "      <td>6</td>\n",
              "      <td>Typ</td>\n",
              "      <td>1</td>\n",
              "      <td>TA</td>\n",
              "      <td>Attchd</td>\n",
              "      <td>1976.0</td>\n",
              "      <td>RFn</td>\n",
              "      <td>2.0</td>\n",
              "      <td>460.0</td>\n",
              "      <td>TA</td>\n",
              "      <td>TA</td>\n",
              "      <td>Y</td>\n",
              "      <td>298</td>\n",
              "      <td>0</td>\n",
              "      <td>0</td>\n",
              "      <td>0</td>\n",
              "      <td>0</td>\n",
              "      <td>0</td>\n",
              "      <td>NaN</td>\n",
              "      <td>NaN</td>\n",
              "      <td>NaN</td>\n",
              "      <td>0</td>\n",
              "      <td>5</td>\n",
              "      <td>2007</td>\n",
              "      <td>WD</td>\n",
              "      <td>Normal</td>\n",
              "      <td>181500.0</td>\n",
              "    </tr>\n",
              "    <tr>\n",
              "      <th>2</th>\n",
              "      <td>3</td>\n",
              "      <td>60</td>\n",
              "      <td>RL</td>\n",
              "      <td>68.0</td>\n",
              "      <td>11250</td>\n",
              "      <td>Pave</td>\n",
              "      <td>NaN</td>\n",
              "      <td>IR1</td>\n",
              "      <td>Lvl</td>\n",
              "      <td>AllPub</td>\n",
              "      <td>Inside</td>\n",
              "      <td>Gtl</td>\n",
              "      <td>CollgCr</td>\n",
              "      <td>Norm</td>\n",
              "      <td>Norm</td>\n",
              "      <td>1Fam</td>\n",
              "      <td>2Story</td>\n",
              "      <td>7</td>\n",
              "      <td>5</td>\n",
              "      <td>2001</td>\n",
              "      <td>2002</td>\n",
              "      <td>Gable</td>\n",
              "      <td>CompShg</td>\n",
              "      <td>VinylSd</td>\n",
              "      <td>VinylSd</td>\n",
              "      <td>BrkFace</td>\n",
              "      <td>162.0</td>\n",
              "      <td>Gd</td>\n",
              "      <td>TA</td>\n",
              "      <td>PConc</td>\n",
              "      <td>Gd</td>\n",
              "      <td>TA</td>\n",
              "      <td>Mn</td>\n",
              "      <td>GLQ</td>\n",
              "      <td>486.0</td>\n",
              "      <td>Unf</td>\n",
              "      <td>0.0</td>\n",
              "      <td>434.0</td>\n",
              "      <td>920.0</td>\n",
              "      <td>GasA</td>\n",
              "      <td>...</td>\n",
              "      <td>Y</td>\n",
              "      <td>SBrkr</td>\n",
              "      <td>920</td>\n",
              "      <td>866</td>\n",
              "      <td>0</td>\n",
              "      <td>1786</td>\n",
              "      <td>1.0</td>\n",
              "      <td>0.0</td>\n",
              "      <td>2</td>\n",
              "      <td>1</td>\n",
              "      <td>3</td>\n",
              "      <td>1</td>\n",
              "      <td>Gd</td>\n",
              "      <td>6</td>\n",
              "      <td>Typ</td>\n",
              "      <td>1</td>\n",
              "      <td>TA</td>\n",
              "      <td>Attchd</td>\n",
              "      <td>2001.0</td>\n",
              "      <td>RFn</td>\n",
              "      <td>2.0</td>\n",
              "      <td>608.0</td>\n",
              "      <td>TA</td>\n",
              "      <td>TA</td>\n",
              "      <td>Y</td>\n",
              "      <td>0</td>\n",
              "      <td>42</td>\n",
              "      <td>0</td>\n",
              "      <td>0</td>\n",
              "      <td>0</td>\n",
              "      <td>0</td>\n",
              "      <td>NaN</td>\n",
              "      <td>NaN</td>\n",
              "      <td>NaN</td>\n",
              "      <td>0</td>\n",
              "      <td>9</td>\n",
              "      <td>2008</td>\n",
              "      <td>WD</td>\n",
              "      <td>Normal</td>\n",
              "      <td>223500.0</td>\n",
              "    </tr>\n",
              "    <tr>\n",
              "      <th>3</th>\n",
              "      <td>4</td>\n",
              "      <td>70</td>\n",
              "      <td>RL</td>\n",
              "      <td>60.0</td>\n",
              "      <td>9550</td>\n",
              "      <td>Pave</td>\n",
              "      <td>NaN</td>\n",
              "      <td>IR1</td>\n",
              "      <td>Lvl</td>\n",
              "      <td>AllPub</td>\n",
              "      <td>Corner</td>\n",
              "      <td>Gtl</td>\n",
              "      <td>Crawfor</td>\n",
              "      <td>Norm</td>\n",
              "      <td>Norm</td>\n",
              "      <td>1Fam</td>\n",
              "      <td>2Story</td>\n",
              "      <td>7</td>\n",
              "      <td>5</td>\n",
              "      <td>1915</td>\n",
              "      <td>1970</td>\n",
              "      <td>Gable</td>\n",
              "      <td>CompShg</td>\n",
              "      <td>Wd Sdng</td>\n",
              "      <td>Wd Shng</td>\n",
              "      <td>None</td>\n",
              "      <td>0.0</td>\n",
              "      <td>TA</td>\n",
              "      <td>TA</td>\n",
              "      <td>BrkTil</td>\n",
              "      <td>TA</td>\n",
              "      <td>Gd</td>\n",
              "      <td>No</td>\n",
              "      <td>ALQ</td>\n",
              "      <td>216.0</td>\n",
              "      <td>Unf</td>\n",
              "      <td>0.0</td>\n",
              "      <td>540.0</td>\n",
              "      <td>756.0</td>\n",
              "      <td>GasA</td>\n",
              "      <td>...</td>\n",
              "      <td>Y</td>\n",
              "      <td>SBrkr</td>\n",
              "      <td>961</td>\n",
              "      <td>756</td>\n",
              "      <td>0</td>\n",
              "      <td>1717</td>\n",
              "      <td>1.0</td>\n",
              "      <td>0.0</td>\n",
              "      <td>1</td>\n",
              "      <td>0</td>\n",
              "      <td>3</td>\n",
              "      <td>1</td>\n",
              "      <td>Gd</td>\n",
              "      <td>7</td>\n",
              "      <td>Typ</td>\n",
              "      <td>1</td>\n",
              "      <td>Gd</td>\n",
              "      <td>Detchd</td>\n",
              "      <td>1998.0</td>\n",
              "      <td>Unf</td>\n",
              "      <td>3.0</td>\n",
              "      <td>642.0</td>\n",
              "      <td>TA</td>\n",
              "      <td>TA</td>\n",
              "      <td>Y</td>\n",
              "      <td>0</td>\n",
              "      <td>35</td>\n",
              "      <td>272</td>\n",
              "      <td>0</td>\n",
              "      <td>0</td>\n",
              "      <td>0</td>\n",
              "      <td>NaN</td>\n",
              "      <td>NaN</td>\n",
              "      <td>NaN</td>\n",
              "      <td>0</td>\n",
              "      <td>2</td>\n",
              "      <td>2006</td>\n",
              "      <td>WD</td>\n",
              "      <td>Abnorml</td>\n",
              "      <td>140000.0</td>\n",
              "    </tr>\n",
              "    <tr>\n",
              "      <th>4</th>\n",
              "      <td>5</td>\n",
              "      <td>60</td>\n",
              "      <td>RL</td>\n",
              "      <td>84.0</td>\n",
              "      <td>14260</td>\n",
              "      <td>Pave</td>\n",
              "      <td>NaN</td>\n",
              "      <td>IR1</td>\n",
              "      <td>Lvl</td>\n",
              "      <td>AllPub</td>\n",
              "      <td>FR2</td>\n",
              "      <td>Gtl</td>\n",
              "      <td>NoRidge</td>\n",
              "      <td>Norm</td>\n",
              "      <td>Norm</td>\n",
              "      <td>1Fam</td>\n",
              "      <td>2Story</td>\n",
              "      <td>8</td>\n",
              "      <td>5</td>\n",
              "      <td>2000</td>\n",
              "      <td>2000</td>\n",
              "      <td>Gable</td>\n",
              "      <td>CompShg</td>\n",
              "      <td>VinylSd</td>\n",
              "      <td>VinylSd</td>\n",
              "      <td>BrkFace</td>\n",
              "      <td>350.0</td>\n",
              "      <td>Gd</td>\n",
              "      <td>TA</td>\n",
              "      <td>PConc</td>\n",
              "      <td>Gd</td>\n",
              "      <td>TA</td>\n",
              "      <td>Av</td>\n",
              "      <td>GLQ</td>\n",
              "      <td>655.0</td>\n",
              "      <td>Unf</td>\n",
              "      <td>0.0</td>\n",
              "      <td>490.0</td>\n",
              "      <td>1145.0</td>\n",
              "      <td>GasA</td>\n",
              "      <td>...</td>\n",
              "      <td>Y</td>\n",
              "      <td>SBrkr</td>\n",
              "      <td>1145</td>\n",
              "      <td>1053</td>\n",
              "      <td>0</td>\n",
              "      <td>2198</td>\n",
              "      <td>1.0</td>\n",
              "      <td>0.0</td>\n",
              "      <td>2</td>\n",
              "      <td>1</td>\n",
              "      <td>4</td>\n",
              "      <td>1</td>\n",
              "      <td>Gd</td>\n",
              "      <td>9</td>\n",
              "      <td>Typ</td>\n",
              "      <td>1</td>\n",
              "      <td>TA</td>\n",
              "      <td>Attchd</td>\n",
              "      <td>2000.0</td>\n",
              "      <td>RFn</td>\n",
              "      <td>3.0</td>\n",
              "      <td>836.0</td>\n",
              "      <td>TA</td>\n",
              "      <td>TA</td>\n",
              "      <td>Y</td>\n",
              "      <td>192</td>\n",
              "      <td>84</td>\n",
              "      <td>0</td>\n",
              "      <td>0</td>\n",
              "      <td>0</td>\n",
              "      <td>0</td>\n",
              "      <td>NaN</td>\n",
              "      <td>NaN</td>\n",
              "      <td>NaN</td>\n",
              "      <td>0</td>\n",
              "      <td>12</td>\n",
              "      <td>2008</td>\n",
              "      <td>WD</td>\n",
              "      <td>Normal</td>\n",
              "      <td>250000.0</td>\n",
              "    </tr>\n",
              "  </tbody>\n",
              "</table>\n",
              "<p>5 rows × 81 columns</p>\n",
              "</div>"
            ],
            "text/plain": [
              "   Id  MSSubClass MSZoning  ...  SaleType  SaleCondition SalePrice\n",
              "0   1          60       RL  ...        WD         Normal  208500.0\n",
              "1   2          20       RL  ...        WD         Normal  181500.0\n",
              "2   3          60       RL  ...        WD         Normal  223500.0\n",
              "3   4          70       RL  ...        WD        Abnorml  140000.0\n",
              "4   5          60       RL  ...        WD         Normal  250000.0\n",
              "\n",
              "[5 rows x 81 columns]"
            ]
          },
          "metadata": {
            "tags": []
          },
          "execution_count": 6
        }
      ]
    },
    {
      "cell_type": "code",
      "metadata": {
        "colab": {
          "base_uri": "https://localhost:8080/"
        },
        "id": "NwEN8ctrnn-6",
        "outputId": "9211138e-b2ed-4393-b781-061c5bb3bb20"
      },
      "source": [
        "dados.info()"
      ],
      "execution_count": 7,
      "outputs": [
        {
          "output_type": "stream",
          "text": [
            "<class 'pandas.core.frame.DataFrame'>\n",
            "RangeIndex: 2919 entries, 0 to 2918\n",
            "Data columns (total 81 columns):\n",
            " #   Column         Non-Null Count  Dtype  \n",
            "---  ------         --------------  -----  \n",
            " 0   Id             2919 non-null   int64  \n",
            " 1   MSSubClass     2919 non-null   int64  \n",
            " 2   MSZoning       2915 non-null   object \n",
            " 3   LotFrontage    2433 non-null   float64\n",
            " 4   LotArea        2919 non-null   int64  \n",
            " 5   Street         2919 non-null   object \n",
            " 6   Alley          198 non-null    object \n",
            " 7   LotShape       2919 non-null   object \n",
            " 8   LandContour    2919 non-null   object \n",
            " 9   Utilities      2917 non-null   object \n",
            " 10  LotConfig      2919 non-null   object \n",
            " 11  LandSlope      2919 non-null   object \n",
            " 12  Neighborhood   2919 non-null   object \n",
            " 13  Condition1     2919 non-null   object \n",
            " 14  Condition2     2919 non-null   object \n",
            " 15  BldgType       2919 non-null   object \n",
            " 16  HouseStyle     2919 non-null   object \n",
            " 17  OverallQual    2919 non-null   int64  \n",
            " 18  OverallCond    2919 non-null   int64  \n",
            " 19  YearBuilt      2919 non-null   int64  \n",
            " 20  YearRemodAdd   2919 non-null   int64  \n",
            " 21  RoofStyle      2919 non-null   object \n",
            " 22  RoofMatl       2919 non-null   object \n",
            " 23  Exterior1st    2918 non-null   object \n",
            " 24  Exterior2nd    2918 non-null   object \n",
            " 25  MasVnrType     2895 non-null   object \n",
            " 26  MasVnrArea     2896 non-null   float64\n",
            " 27  ExterQual      2919 non-null   object \n",
            " 28  ExterCond      2919 non-null   object \n",
            " 29  Foundation     2919 non-null   object \n",
            " 30  BsmtQual       2838 non-null   object \n",
            " 31  BsmtCond       2837 non-null   object \n",
            " 32  BsmtExposure   2837 non-null   object \n",
            " 33  BsmtFinType1   2840 non-null   object \n",
            " 34  BsmtFinSF1     2918 non-null   float64\n",
            " 35  BsmtFinType2   2839 non-null   object \n",
            " 36  BsmtFinSF2     2918 non-null   float64\n",
            " 37  BsmtUnfSF      2918 non-null   float64\n",
            " 38  TotalBsmtSF    2918 non-null   float64\n",
            " 39  Heating        2919 non-null   object \n",
            " 40  HeatingQC      2919 non-null   object \n",
            " 41  CentralAir     2919 non-null   object \n",
            " 42  Electrical     2918 non-null   object \n",
            " 43  1stFlrSF       2919 non-null   int64  \n",
            " 44  2ndFlrSF       2919 non-null   int64  \n",
            " 45  LowQualFinSF   2919 non-null   int64  \n",
            " 46  GrLivArea      2919 non-null   int64  \n",
            " 47  BsmtFullBath   2917 non-null   float64\n",
            " 48  BsmtHalfBath   2917 non-null   float64\n",
            " 49  FullBath       2919 non-null   int64  \n",
            " 50  HalfBath       2919 non-null   int64  \n",
            " 51  BedroomAbvGr   2919 non-null   int64  \n",
            " 52  KitchenAbvGr   2919 non-null   int64  \n",
            " 53  KitchenQual    2918 non-null   object \n",
            " 54  TotRmsAbvGrd   2919 non-null   int64  \n",
            " 55  Functional     2917 non-null   object \n",
            " 56  Fireplaces     2919 non-null   int64  \n",
            " 57  FireplaceQu    1499 non-null   object \n",
            " 58  GarageType     2762 non-null   object \n",
            " 59  GarageYrBlt    2760 non-null   float64\n",
            " 60  GarageFinish   2760 non-null   object \n",
            " 61  GarageCars     2918 non-null   float64\n",
            " 62  GarageArea     2918 non-null   float64\n",
            " 63  GarageQual     2760 non-null   object \n",
            " 64  GarageCond     2760 non-null   object \n",
            " 65  PavedDrive     2919 non-null   object \n",
            " 66  WoodDeckSF     2919 non-null   int64  \n",
            " 67  OpenPorchSF    2919 non-null   int64  \n",
            " 68  EnclosedPorch  2919 non-null   int64  \n",
            " 69  3SsnPorch      2919 non-null   int64  \n",
            " 70  ScreenPorch    2919 non-null   int64  \n",
            " 71  PoolArea       2919 non-null   int64  \n",
            " 72  PoolQC         10 non-null     object \n",
            " 73  Fence          571 non-null    object \n",
            " 74  MiscFeature    105 non-null    object \n",
            " 75  MiscVal        2919 non-null   int64  \n",
            " 76  MoSold         2919 non-null   int64  \n",
            " 77  YrSold         2919 non-null   int64  \n",
            " 78  SaleType       2918 non-null   object \n",
            " 79  SaleCondition  2919 non-null   object \n",
            " 80  SalePrice      1460 non-null   float64\n",
            "dtypes: float64(12), int64(26), object(43)\n",
            "memory usage: 1.8+ MB\n"
          ],
          "name": "stdout"
        }
      ]
    },
    {
      "cell_type": "markdown",
      "metadata": {
        "id": "9DK13Rzypuze"
      },
      "source": [
        "1) Temos 2919 linhas e 81 colunas (80 variáveis preditoras a priori já que uma é a variável resposta - preço da casa).\n",
        "\n",
        "2) Colunas com grande quantidade de valores nulos:\n",
        "\n",
        "  a) Alley; b) FireplaceQu; c) PoolQC; d) Fence; e) MiscFeature e f) SalePrice (variável resposta). "
      ]
    },
    {
      "cell_type": "markdown",
      "metadata": {
        "id": "JmruXUWYnn-8"
      },
      "source": [
        "#### Exercício 2 - Faça uma seleção inicial do número de colunas que você imagina que possuam uma maior relevância para o `dataset` e realize uma contagem inicial do número de nulos e sua porcentagem no `dataset`, incluindo os tipos e a contagem de cada tipo de dado. Calcule também os valores de tendencia central de cada coluna do `dataset`."
      ]
    },
    {
      "cell_type": "code",
      "metadata": {
        "colab": {
          "base_uri": "https://localhost:8080/"
        },
        "id": "K-ZO7KMDnn-9",
        "outputId": "e269659a-e2b6-4918-d2c3-a55cbbc92a11"
      },
      "source": [
        "#Vamos destacar as variáveis que possuem de 50% pra cima de correlação linear com a variável target (salePrice)\n",
        "dados_corr = dados.corr()[dados.corr()>= 0.50]['SalePrice'].dropna()\n",
        "dados_corr"
      ],
      "execution_count": 24,
      "outputs": [
        {
          "output_type": "execute_result",
          "data": {
            "text/plain": [
              "OverallQual     0.790982\n",
              "YearBuilt       0.522897\n",
              "YearRemodAdd    0.507101\n",
              "TotalBsmtSF     0.613581\n",
              "1stFlrSF        0.605852\n",
              "GrLivArea       0.708624\n",
              "FullBath        0.560664\n",
              "TotRmsAbvGrd    0.533723\n",
              "GarageCars      0.640409\n",
              "GarageArea      0.623431\n",
              "SalePrice       1.000000\n",
              "Name: SalePrice, dtype: float64"
            ]
          },
          "metadata": {
            "tags": []
          },
          "execution_count": 24
        }
      ]
    },
    {
      "cell_type": "markdown",
      "metadata": {
        "id": "KNWwH3T4vTn1"
      },
      "source": [
        "OverallQual: Overall material and finish quality\n",
        "\n",
        "YearBuilt: Original construction date\n",
        "\n",
        "YearRemodAdd: Remodel date\n",
        "\n",
        "TotalBsmtSF: Total square feet of basement area\n",
        "\n",
        "1stFlrSF: First Floor square feet\n",
        "\n",
        "GrLivArea: Above grade (ground) living area square feet\n",
        "\n",
        "FullBath: Full bathrooms above grade\n",
        "\n",
        "TotRmsAbvGrd: Total rooms above grade (does not include bathrooms)\n",
        "\n",
        "GarageCars: Size of garage in car capacity\n",
        "\n",
        "GarageArea: Size of garage in square feet\n",
        "\n",
        "SalePrice: the property's sale price in dollars. This is the target variable that you're trying to predict.\n",
        "\n"
      ]
    },
    {
      "cell_type": "code",
      "metadata": {
        "colab": {
          "base_uri": "https://localhost:8080/",
          "height": 173
        },
        "id": "ncg0Qx9ms16V",
        "outputId": "b32a6409-8333-41a7-c67b-190be44e375e"
      },
      "source": [
        "#Correlação de GarageCars, GarageArea, 1stFlrSF e TotalBsmtSF\n",
        "dados[['GarageCars', 'GarageArea', '1stFlrSF', 'TotalBsmtSF']].corr()"
      ],
      "execution_count": 80,
      "outputs": [
        {
          "output_type": "execute_result",
          "data": {
            "text/html": [
              "<div>\n",
              "<style scoped>\n",
              "    .dataframe tbody tr th:only-of-type {\n",
              "        vertical-align: middle;\n",
              "    }\n",
              "\n",
              "    .dataframe tbody tr th {\n",
              "        vertical-align: top;\n",
              "    }\n",
              "\n",
              "    .dataframe thead th {\n",
              "        text-align: right;\n",
              "    }\n",
              "</style>\n",
              "<table border=\"1\" class=\"dataframe\">\n",
              "  <thead>\n",
              "    <tr style=\"text-align: right;\">\n",
              "      <th></th>\n",
              "      <th>GarageCars</th>\n",
              "      <th>GarageArea</th>\n",
              "      <th>1stFlrSF</th>\n",
              "      <th>TotalBsmtSF</th>\n",
              "    </tr>\n",
              "  </thead>\n",
              "  <tbody>\n",
              "    <tr>\n",
              "      <th>GarageCars</th>\n",
              "      <td>1.000000</td>\n",
              "      <td>0.889700</td>\n",
              "      <td>0.440540</td>\n",
              "      <td>0.437997</td>\n",
              "    </tr>\n",
              "    <tr>\n",
              "      <th>GarageArea</th>\n",
              "      <td>0.889700</td>\n",
              "      <td>1.000000</td>\n",
              "      <td>0.492011</td>\n",
              "      <td>0.486067</td>\n",
              "    </tr>\n",
              "    <tr>\n",
              "      <th>1stFlrSF</th>\n",
              "      <td>0.440540</td>\n",
              "      <td>0.492011</td>\n",
              "      <td>1.000000</td>\n",
              "      <td>0.801670</td>\n",
              "    </tr>\n",
              "    <tr>\n",
              "      <th>TotalBsmtSF</th>\n",
              "      <td>0.437997</td>\n",
              "      <td>0.486067</td>\n",
              "      <td>0.801670</td>\n",
              "      <td>1.000000</td>\n",
              "    </tr>\n",
              "  </tbody>\n",
              "</table>\n",
              "</div>"
            ],
            "text/plain": [
              "             GarageCars  GarageArea  1stFlrSF  TotalBsmtSF\n",
              "GarageCars     1.000000    0.889700  0.440540     0.437997\n",
              "GarageArea     0.889700    1.000000  0.492011     0.486067\n",
              "1stFlrSF       0.440540    0.492011  1.000000     0.801670\n",
              "TotalBsmtSF    0.437997    0.486067  0.801670     1.000000"
            ]
          },
          "metadata": {
            "tags": []
          },
          "execution_count": 80
        }
      ]
    },
    {
      "cell_type": "markdown",
      "metadata": {
        "id": "8JbcPCHusS4j"
      },
      "source": [
        "GarageCars (quantos carros cabem na garagem) e GarageArea (Area da garagem) não faz sentido, pois são a mesma informação dada em unidades diferentes. Nesse caso teríamos um problema de multicolinearidade e o nosso modelo seria afetado negativamente por não saber qual das variáveis considerar no cálculo. A mesma ideia vale para TotalBsmtSF e 1stFlrSF (vamos retirar 1stFlrSF)."
      ]
    },
    {
      "cell_type": "code",
      "metadata": {
        "colab": {
          "base_uri": "https://localhost:8080/",
          "height": 289
        },
        "id": "KVjmDr5Lnn-9",
        "outputId": "636adbac-2564-4705-d248-b2ca7d5bbc1a"
      },
      "source": [
        "#Novo dataframe somente com as variáveis com correlação linear maior ou igual a 50%\n",
        "dados_preditoras = dados[dados_corr.index.tolist()]\n",
        "\n",
        "#Retirando GarageCars para não haver multicolinearidade\n",
        "dados_preditoras.drop(['GarageCars', '1stFlrSF'], axis= 1, inplace= True)\n",
        "\n",
        "#Primeiras cinco linhas do novo dataframe gerado\n",
        "dados_preditoras.head()"
      ],
      "execution_count": 81,
      "outputs": [
        {
          "output_type": "stream",
          "text": [
            "/usr/local/lib/python3.6/dist-packages/pandas/core/frame.py:4174: SettingWithCopyWarning: \n",
            "A value is trying to be set on a copy of a slice from a DataFrame\n",
            "\n",
            "See the caveats in the documentation: https://pandas.pydata.org/pandas-docs/stable/user_guide/indexing.html#returning-a-view-versus-a-copy\n",
            "  errors=errors,\n"
          ],
          "name": "stderr"
        },
        {
          "output_type": "execute_result",
          "data": {
            "text/html": [
              "<div>\n",
              "<style scoped>\n",
              "    .dataframe tbody tr th:only-of-type {\n",
              "        vertical-align: middle;\n",
              "    }\n",
              "\n",
              "    .dataframe tbody tr th {\n",
              "        vertical-align: top;\n",
              "    }\n",
              "\n",
              "    .dataframe thead th {\n",
              "        text-align: right;\n",
              "    }\n",
              "</style>\n",
              "<table border=\"1\" class=\"dataframe\">\n",
              "  <thead>\n",
              "    <tr style=\"text-align: right;\">\n",
              "      <th></th>\n",
              "      <th>OverallQual</th>\n",
              "      <th>YearBuilt</th>\n",
              "      <th>YearRemodAdd</th>\n",
              "      <th>TotalBsmtSF</th>\n",
              "      <th>GrLivArea</th>\n",
              "      <th>FullBath</th>\n",
              "      <th>TotRmsAbvGrd</th>\n",
              "      <th>GarageArea</th>\n",
              "      <th>SalePrice</th>\n",
              "    </tr>\n",
              "  </thead>\n",
              "  <tbody>\n",
              "    <tr>\n",
              "      <th>0</th>\n",
              "      <td>7</td>\n",
              "      <td>2003</td>\n",
              "      <td>2003</td>\n",
              "      <td>856.0</td>\n",
              "      <td>1710</td>\n",
              "      <td>2</td>\n",
              "      <td>8</td>\n",
              "      <td>548.0</td>\n",
              "      <td>208500.0</td>\n",
              "    </tr>\n",
              "    <tr>\n",
              "      <th>1</th>\n",
              "      <td>6</td>\n",
              "      <td>1976</td>\n",
              "      <td>1976</td>\n",
              "      <td>1262.0</td>\n",
              "      <td>1262</td>\n",
              "      <td>2</td>\n",
              "      <td>6</td>\n",
              "      <td>460.0</td>\n",
              "      <td>181500.0</td>\n",
              "    </tr>\n",
              "    <tr>\n",
              "      <th>2</th>\n",
              "      <td>7</td>\n",
              "      <td>2001</td>\n",
              "      <td>2002</td>\n",
              "      <td>920.0</td>\n",
              "      <td>1786</td>\n",
              "      <td>2</td>\n",
              "      <td>6</td>\n",
              "      <td>608.0</td>\n",
              "      <td>223500.0</td>\n",
              "    </tr>\n",
              "    <tr>\n",
              "      <th>3</th>\n",
              "      <td>7</td>\n",
              "      <td>1915</td>\n",
              "      <td>1970</td>\n",
              "      <td>756.0</td>\n",
              "      <td>1717</td>\n",
              "      <td>1</td>\n",
              "      <td>7</td>\n",
              "      <td>642.0</td>\n",
              "      <td>140000.0</td>\n",
              "    </tr>\n",
              "    <tr>\n",
              "      <th>4</th>\n",
              "      <td>8</td>\n",
              "      <td>2000</td>\n",
              "      <td>2000</td>\n",
              "      <td>1145.0</td>\n",
              "      <td>2198</td>\n",
              "      <td>2</td>\n",
              "      <td>9</td>\n",
              "      <td>836.0</td>\n",
              "      <td>250000.0</td>\n",
              "    </tr>\n",
              "  </tbody>\n",
              "</table>\n",
              "</div>"
            ],
            "text/plain": [
              "   OverallQual  YearBuilt  YearRemodAdd  ...  TotRmsAbvGrd  GarageArea  SalePrice\n",
              "0            7       2003          2003  ...             8       548.0   208500.0\n",
              "1            6       1976          1976  ...             6       460.0   181500.0\n",
              "2            7       2001          2002  ...             6       608.0   223500.0\n",
              "3            7       1915          1970  ...             7       642.0   140000.0\n",
              "4            8       2000          2000  ...             9       836.0   250000.0\n",
              "\n",
              "[5 rows x 9 columns]"
            ]
          },
          "metadata": {
            "tags": []
          },
          "execution_count": 81
        }
      ]
    },
    {
      "cell_type": "code",
      "metadata": {
        "colab": {
          "base_uri": "https://localhost:8080/",
          "height": 328
        },
        "id": "ygeWyFQh0mkd",
        "outputId": "57574776-96e1-45d3-fe69-b6693167b7c9"
      },
      "source": [
        "EDA(dados_preditoras)"
      ],
      "execution_count": 82,
      "outputs": [
        {
          "output_type": "execute_result",
          "data": {
            "text/html": [
              "<div>\n",
              "<style scoped>\n",
              "    .dataframe tbody tr th:only-of-type {\n",
              "        vertical-align: middle;\n",
              "    }\n",
              "\n",
              "    .dataframe tbody tr th {\n",
              "        vertical-align: top;\n",
              "    }\n",
              "\n",
              "    .dataframe thead th {\n",
              "        text-align: right;\n",
              "    }\n",
              "</style>\n",
              "<table border=\"1\" class=\"dataframe\">\n",
              "  <thead>\n",
              "    <tr style=\"text-align: right;\">\n",
              "      <th></th>\n",
              "      <th>Amount_NaN</th>\n",
              "      <th>%_NaN</th>\n",
              "      <th>DType</th>\n",
              "      <th>Amount_Data</th>\n",
              "      <th>Amount_Unique</th>\n",
              "      <th>Mean</th>\n",
              "      <th>Median</th>\n",
              "      <th>Max</th>\n",
              "      <th>Min</th>\n",
              "      <th>STD</th>\n",
              "    </tr>\n",
              "  </thead>\n",
              "  <tbody>\n",
              "    <tr>\n",
              "      <th>OverallQual</th>\n",
              "      <td>0</td>\n",
              "      <td>0.0</td>\n",
              "      <td>int64</td>\n",
              "      <td>2919</td>\n",
              "      <td>5</td>\n",
              "      <td>6.09</td>\n",
              "      <td>6.0</td>\n",
              "      <td>10.0</td>\n",
              "      <td>1.0</td>\n",
              "      <td>1.41</td>\n",
              "    </tr>\n",
              "    <tr>\n",
              "      <th>YearBuilt</th>\n",
              "      <td>0</td>\n",
              "      <td>0.0</td>\n",
              "      <td>int64</td>\n",
              "      <td>2919</td>\n",
              "      <td>604</td>\n",
              "      <td>1971.31</td>\n",
              "      <td>1973.0</td>\n",
              "      <td>2010.0</td>\n",
              "      <td>1872.0</td>\n",
              "      <td>30.29</td>\n",
              "    </tr>\n",
              "    <tr>\n",
              "      <th>YearRemodAdd</th>\n",
              "      <td>0</td>\n",
              "      <td>0.0</td>\n",
              "      <td>int64</td>\n",
              "      <td>2919</td>\n",
              "      <td>1292</td>\n",
              "      <td>1984.26</td>\n",
              "      <td>1993.0</td>\n",
              "      <td>2010.0</td>\n",
              "      <td>1950.0</td>\n",
              "      <td>20.89</td>\n",
              "    </tr>\n",
              "    <tr>\n",
              "      <th>TotalBsmtSF</th>\n",
              "      <td>1</td>\n",
              "      <td>0.0</td>\n",
              "      <td>float64</td>\n",
              "      <td>2918</td>\n",
              "      <td>10</td>\n",
              "      <td>1051.78</td>\n",
              "      <td>989.5</td>\n",
              "      <td>6110.0</td>\n",
              "      <td>0.0</td>\n",
              "      <td>440.77</td>\n",
              "    </tr>\n",
              "    <tr>\n",
              "      <th>GrLivArea</th>\n",
              "      <td>0</td>\n",
              "      <td>0.0</td>\n",
              "      <td>int64</td>\n",
              "      <td>2919</td>\n",
              "      <td>664</td>\n",
              "      <td>1500.76</td>\n",
              "      <td>1444.0</td>\n",
              "      <td>5642.0</td>\n",
              "      <td>334.0</td>\n",
              "      <td>506.05</td>\n",
              "    </tr>\n",
              "    <tr>\n",
              "      <th>FullBath</th>\n",
              "      <td>0</td>\n",
              "      <td>0.0</td>\n",
              "      <td>int64</td>\n",
              "      <td>2919</td>\n",
              "      <td>1059</td>\n",
              "      <td>1.57</td>\n",
              "      <td>2.0</td>\n",
              "      <td>4.0</td>\n",
              "      <td>0.0</td>\n",
              "      <td>0.55</td>\n",
              "    </tr>\n",
              "    <tr>\n",
              "      <th>TotRmsAbvGrd</th>\n",
              "      <td>0</td>\n",
              "      <td>0.0</td>\n",
              "      <td>int64</td>\n",
              "      <td>2919</td>\n",
              "      <td>14</td>\n",
              "      <td>6.45</td>\n",
              "      <td>6.0</td>\n",
              "      <td>15.0</td>\n",
              "      <td>2.0</td>\n",
              "      <td>1.57</td>\n",
              "    </tr>\n",
              "    <tr>\n",
              "      <th>GarageArea</th>\n",
              "      <td>1</td>\n",
              "      <td>0.0</td>\n",
              "      <td>float64</td>\n",
              "      <td>2918</td>\n",
              "      <td>118</td>\n",
              "      <td>472.87</td>\n",
              "      <td>480.0</td>\n",
              "      <td>1488.0</td>\n",
              "      <td>0.0</td>\n",
              "      <td>215.39</td>\n",
              "    </tr>\n",
              "    <tr>\n",
              "      <th>SalePrice</th>\n",
              "      <td>1459</td>\n",
              "      <td>0.5</td>\n",
              "      <td>float64</td>\n",
              "      <td>1460</td>\n",
              "      <td>61</td>\n",
              "      <td>180921.20</td>\n",
              "      <td>163000.0</td>\n",
              "      <td>755000.0</td>\n",
              "      <td>34900.0</td>\n",
              "      <td>79442.50</td>\n",
              "    </tr>\n",
              "  </tbody>\n",
              "</table>\n",
              "</div>"
            ],
            "text/plain": [
              "              Amount_NaN  %_NaN    DType  ...       Max      Min       STD\n",
              "OverallQual            0    0.0    int64  ...      10.0      1.0      1.41\n",
              "YearBuilt              0    0.0    int64  ...    2010.0   1872.0     30.29\n",
              "YearRemodAdd           0    0.0    int64  ...    2010.0   1950.0     20.89\n",
              "TotalBsmtSF            1    0.0  float64  ...    6110.0      0.0    440.77\n",
              "GrLivArea              0    0.0    int64  ...    5642.0    334.0    506.05\n",
              "FullBath               0    0.0    int64  ...       4.0      0.0      0.55\n",
              "TotRmsAbvGrd           0    0.0    int64  ...      15.0      2.0      1.57\n",
              "GarageArea             1    0.0  float64  ...    1488.0      0.0    215.39\n",
              "SalePrice           1459    0.5  float64  ...  755000.0  34900.0  79442.50\n",
              "\n",
              "[9 rows x 10 columns]"
            ]
          },
          "metadata": {
            "tags": []
          },
          "execution_count": 82
        }
      ]
    },
    {
      "cell_type": "markdown",
      "metadata": {
        "id": "q9lfgKNp09ok"
      },
      "source": [
        "1) Temos enorme quantidade de dados faltando na variável que queremos prever (o preço das casas): 50%. Isto é um grande problema. Quando temos dados faltando em variáveis preditoras, podemos fazer a utilização de modelos para prever esses valores faltantes baseado em outras linhas com dados não faltantes. Porém, neste caso, por ser justamente a variável que queremos prever, não me parece fazer sentido a utilização de tais técnicas.\n",
        "\n",
        "2) Não temos variáveis categóricas, mas algumas são possíveis de criar: \n",
        "\n",
        "  a) calcular a diferença do ano de construção e ano de renovação, se a diferença for maior que 0 damos o valor de 1 aquela linha indicando que a casa foi renovada; caso contrário, damos o valor de zero indicando que a casa não foi renovada. Criaríamos, assim, uma nova variável categórica.\n",
        "\n",
        "  b) Outra variável possível é calcular este ano de renovação em relação à data atual e levar em consideração se faz muitos ou poucos anos que a casa foi renovada. Seria uma variável quantitativa discreta, neste caso."
      ]
    },
    {
      "cell_type": "markdown",
      "metadata": {
        "id": "om0VUwH5nn--"
      },
      "source": [
        "#### Exercício 3 - Calcule o histograma dos principais atributos."
      ]
    },
    {
      "cell_type": "markdown",
      "metadata": {
        "id": "NKswPCKq3xol"
      },
      "source": [
        "OverallQual"
      ]
    },
    {
      "cell_type": "code",
      "metadata": {
        "colab": {
          "base_uri": "https://localhost:8080/",
          "height": 381
        },
        "id": "GKaihwfL3zHA",
        "outputId": "205664b0-3aa7-4d21-cafe-6fc033668be0"
      },
      "source": [
        "#Aqui o parâmetro discrete nos retorna os tamanhos da barra levando em conta que os dados tem uma variável quantitativa discreta\n",
        "sns.displot(dados_preditoras['OverallQual'], discrete= True)\n",
        "\n",
        "#Título\n",
        "plt.title('Distribuição da qualidade do material e acabamento das casas');"
      ],
      "execution_count": 93,
      "outputs": [
        {
          "output_type": "display_data",
          "data": {
            "image/png": "[encoded data removed]",
            "text/plain": [
              "<Figure size 360x360 with 1 Axes>"
            ]
          },
          "metadata": {
            "tags": [],
            "needs_background": "light"
          }
        }
      ]
    },
    {
      "cell_type": "markdown",
      "metadata": {
        "id": "A5lX5CXX30gx"
      },
      "source": [
        "As casas possuem, num intervalo de 1 a 10, em media 6 pontos de qualidade de material e acabamento. Estando concentradas no intervalor de cinco e 7. Isto nos indica algo como que \"mediano\", no sentido popular do termo, isto é: em geral não são casas com baixa qualidade nesse aspecto e nem muita alta também. A moda se encontra em 5, seria o \"mais ou menos\" tendo em vista o intervalo das notas."
      ]
    },
    {
      "cell_type": "markdown",
      "metadata": {
        "id": "fcfLA3Pk7gek"
      },
      "source": [
        "Ano de construção e ano de renovação"
      ]
    },
    {
      "cell_type": "code",
      "metadata": {
        "colab": {
          "base_uri": "https://localhost:8080/",
          "height": 525
        },
        "id": "q2z4JW2Mnn--",
        "outputId": "8824af3e-7780-49ab-dfe1-baa153b794b1"
      },
      "source": [
        "#binwidth -> largura do bin: cada barra representará 10 anos. \n",
        "#Estamos, portanto, analisando a quantidade de contruções por década\n",
        "sns.histplot(dados_preditoras['YearBuilt'], binwidth= 10)\n",
        "\n",
        "#Título\n",
        "plt.title('Construções de casas por Década');"
      ],
      "execution_count": 96,
      "outputs": [
        {
          "output_type": "display_data",
          "data": {
            "image/png": "[encoded data removed]",
            "text/plain": [
              "<Figure size 720x576 with 1 Axes>"
            ]
          },
          "metadata": {
            "tags": [],
            "needs_background": "light"
          }
        }
      ]
    },
    {
      "cell_type": "markdown",
      "metadata": {
        "id": "q1Zqh_W5_r5U"
      },
      "source": [
        "Vemos que temos uma concentração alta de casas contruídas entre 1960 e 1980 e a maior quantidade de construções se deu em anos mais recentes (entre 2000 e 2010). Importante ressaltar que possuímos casas bem antigas (datadas do século XIX)."
      ]
    },
    {
      "cell_type": "markdown",
      "metadata": {
        "id": "nLnomfWMBKaS"
      },
      "source": [
        "TotalBsmtSF: Total square feet of basement area"
      ]
    },
    {
      "cell_type": "code",
      "metadata": {
        "colab": {
          "base_uri": "https://localhost:8080/",
          "height": 543
        },
        "id": "AWR6x8U0BM5H",
        "outputId": "59b9e1b7-5628-45f3-e3b8-f8b7c67cea83"
      },
      "source": [
        "#Histograma\n",
        "sns.histplot(dados_preditoras['TotalBsmtSF'])\n",
        "\n",
        "#Título\n",
        "plt.title('Tamanho da base das casas em pés quadrados');\n",
        "\n",
        "#Indicando se a distribuição é ou não normal\n",
        "normal(dados_preditoras, 'TotalBsmtSF')"
      ],
      "execution_count": 88,
      "outputs": [
        {
          "output_type": "execute_result",
          "data": {
            "application/vnd.google.colaboratory.intrinsic+json": {
              "type": "string"
            },
            "text/plain": [
              "'A distribuição é normal'"
            ]
          },
          "metadata": {
            "tags": []
          },
          "execution_count": 88
        },
        {
          "output_type": "display_data",
          "data": {
            "image/png": "[encoded data removed]",
            "text/plain": [
              "<Figure size 720x576 with 1 Axes>"
            ]
          },
          "metadata": {
            "tags": [],
            "needs_background": "light"
          }
        }
      ]
    },
    {
      "cell_type": "markdown",
      "metadata": {
        "id": "HnxW_26dDISw"
      },
      "source": [
        "Temos uma distribuição um pouco enviesada à direita (apesar de estatisticamente termos uma distribuição normal indicada pelo teste) e com um número de casas com tamanho da base de 0. \n",
        "\n",
        "Como não temos casas com 0 GrLivArea, isto pode nos indicar não que esse 0 não faça sentido, mas que somente a parte de cima da casa está sendo colocada à venda, por exemplo. \n",
        "\n",
        "Poderíamos pensar em condensar essas informações do tamanho total da casa (somando as colunas que medem espaços da casa em pés quadrados) ou perderíamos informações singulares que poderia ser levadas em conta pelo modelo numa variação \"qualitativa entre tamanho do segundo andar e da garagem\" (sendo aquele mais valioso que este ou vice-versa)?"
      ]
    },
    {
      "cell_type": "markdown",
      "metadata": {
        "id": "v6j81DHWGKd8"
      },
      "source": [
        "SalePrice -> Variável que queremos prever"
      ]
    },
    {
      "cell_type": "code",
      "metadata": {
        "colab": {
          "base_uri": "https://localhost:8080/",
          "height": 543
        },
        "id": "oylHBVzcBJqa",
        "outputId": "924911f6-4709-4736-91f3-d5c4c7787ded"
      },
      "source": [
        "#Histograma\n",
        "sns.histplot(dados_preditoras['SalePrice'])\n",
        "\n",
        "#Título\n",
        "plt.title('Distribuição dos preços das casas');\n",
        "\n",
        "#Indicando se a distribuição é ou não normal\n",
        "normal(dados_preditoras, 'SalePrice')"
      ],
      "execution_count": 97,
      "outputs": [
        {
          "output_type": "execute_result",
          "data": {
            "application/vnd.google.colaboratory.intrinsic+json": {
              "type": "string"
            },
            "text/plain": [
              "'A distribuição é normal'"
            ]
          },
          "metadata": {
            "tags": []
          },
          "execution_count": 97
        },
        {
          "output_type": "display_data",
          "data": {
            "image/png": "[encoded data removed]",
            "text/plain": [
              "<Figure size 720x576 with 1 Axes>"
            ]
          },
          "metadata": {
            "tags": [],
            "needs_background": "light"
          }
        }
      ]
    },
    {
      "cell_type": "markdown",
      "metadata": {
        "id": "Xzuxm1fUG1PP"
      },
      "source": [
        "Os preços das casas estão concentrados em valores de 100 a 200 mil dólares tendo algumas poucas casas com valores mais altos (acima de 500 mil dólares). Apesar desta cauda na direita da distribuição, nosso teste estístico está nos indicando que temos uma distribuição normal: tal fator provavelmente nos ajudaria no momento de construção de um modelo linear já que um de seus pressupostos é a normalidade das distribuições utilizadas nele. Precisamos ressaltar que, porém, temos 50% dos dados faltando em preço das casas. Nesse sentido, parece que estamos perdendo muito de variação e comportamento do preço das casas e não saberíamos se de fato o modelo teria boa performance em exemplos reais após sua construção."
      ]
    },
    {
      "cell_type": "markdown",
      "metadata": {
        "id": "JGFWtLOFnn-_"
      },
      "source": [
        "#### Exercício 4 - Estude como a média dos tamanhos dos lotes variou com o ano de construção."
      ]
    },
    {
      "cell_type": "code",
      "metadata": {
        "id": "1O6ylIa0nn-_"
      },
      "source": [
        ""
      ],
      "execution_count": null,
      "outputs": []
    },
    {
      "cell_type": "markdown",
      "metadata": {
        "id": "TLYhMqbUnn-_"
      },
      "source": [
        "#### Exercício 5 - Encontre as casas cujo ano de reforma ocorreu dentro de 10 anos do ano de contrução."
      ]
    },
    {
      "cell_type": "code",
      "metadata": {
        "id": "kr4wwuCqnn_A"
      },
      "source": [
        ""
      ],
      "execution_count": null,
      "outputs": []
    },
    {
      "cell_type": "code",
      "metadata": {
        "id": "HU3x9svpnn_A"
      },
      "source": [
        ""
      ],
      "execution_count": null,
      "outputs": []
    },
    {
      "cell_type": "markdown",
      "metadata": {
        "id": "URjr8x6Xnn_B"
      },
      "source": [
        "#### Exercício 6 - Estude a dispersão entre a área construídeo e o preçode venda."
      ]
    },
    {
      "cell_type": "code",
      "metadata": {
        "id": "b2TpvkEjnn_B"
      },
      "source": [
        ""
      ],
      "execution_count": null,
      "outputs": []
    },
    {
      "cell_type": "markdown",
      "metadata": {
        "id": "O2tteJm-nn_B"
      },
      "source": [
        "#### Exercício 7 - Estude como a dispersão entre a área construída e o preço se altera com o classificação de zoneamento."
      ]
    },
    {
      "cell_type": "code",
      "metadata": {
        "id": "xfTZiUoYnn_C"
      },
      "source": [
        ""
      ],
      "execution_count": null,
      "outputs": []
    },
    {
      "cell_type": "code",
      "metadata": {
        "id": "LE_cQD8Qnn_C"
      },
      "source": [
        ""
      ],
      "execution_count": null,
      "outputs": []
    }
  ]
}