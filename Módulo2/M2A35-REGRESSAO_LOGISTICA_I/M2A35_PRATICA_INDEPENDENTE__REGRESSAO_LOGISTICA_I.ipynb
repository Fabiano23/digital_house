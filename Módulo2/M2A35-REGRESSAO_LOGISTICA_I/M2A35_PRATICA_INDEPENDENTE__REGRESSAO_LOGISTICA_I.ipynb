{
  "nbformat": 4,
  "nbformat_minor": 0,
  "metadata": {
    "colab": {
      "name": "M2A35-PRATICA_INDEPENDENTE__REGRESSAO_LOGISTICA_I.ipynb",
      "provenance": [],
      "collapsed_sections": [
        "TEnngLU-ewDU"
      ]
    },
    "kernelspec": {
      "display_name": "Python 3",
      "language": "python",
      "name": "python3"
    },
    "language_info": {
      "codemirror_mode": {
        "name": "ipython",
        "version": 3
      },
      "file_extension": ".py",
      "mimetype": "text/x-python",
      "name": "python",
      "nbconvert_exporter": "python",
      "pygments_lexer": "ipython3",
      "version": "3.7.6"
    }
  },
  "cells": [
    {
      "cell_type": "markdown",
      "metadata": {
        "id": "mYma6EF3hYLc"
      },
      "source": [
        "# PRATICA INDEPENDENTE: Regressão logística. "
      ]
    },
    {
      "cell_type": "markdown",
      "metadata": {
        "id": "xMSgP1sDhYLj"
      },
      "source": [
        "### Introdução.\n",
        "\n",
        "#### Nessa prática independente estamos interessados em entender como os seguintes atributos descritivos afetam a probabilidade de admissão ou não admissão de cada candidato. \n",
        "\n",
        "* gre: Graduate Record Exam.\n",
        "* gpa: Grade Point Average - nota média.\n",
        "* Prestige: Prestígio da instituição de proveniência.\n",
        "\n",
        "#### Para isso, é construída uma amostra de 400 pedidos de admissão em universidades, 10 universidades e as informações correspondentes são registradas.\n",
        "\n",
        "#### A variável dependente é o resultado final da admissão, com o estudante admitido ($admit = 1$) ou não admitido ($admit = 0$)."
      ]
    },
    {
      "cell_type": "markdown",
      "metadata": {
        "id": "Oq12DLOphYLo"
      },
      "source": [
        "#### Exercício 1: Importe as bibliotecas necessárias para a realização de uma análise exploratória e uma regressão logística  capaz de prever os casos de admissão. Crie um dataframe a partir dos dados do arquivo `'binary.csv'`. Lembre-se que o valor `prestige = 1` é o mais alto na escala de medidas desse atributo."
      ]
    },
    {
      "cell_type": "code",
      "metadata": {
        "id": "ymODRjkjewCS"
      },
      "source": [
        "#Pacotes que serão usados\n",
        "import statsmodels.api as sm\n",
        "import pandas as pd\n",
        "import numpy as np\n",
        "import seaborn as sns\n",
        "import matplotlib.pyplot as plt\n",
        "from sklearn.linear_model import LogisticRegression\n",
        "from sklearn.preprocessing import StandardScaler\n",
        "from sklearn.model_selection import KFold\n",
        "from sklearn.metrics import confusion_matrix \n",
        "from sklearn.metrics import accuracy_score, classification_report\n",
        "from sklearn.model_selection import train_test_split\n",
        "\n",
        "# Tamanho padrões das figuras e a fonte de seus textos neste notebook\n",
        "plt.rcParams['figure.figsize'] = (10, 8)\n",
        "plt.rcParams['font.size'] = 14"
      ],
      "execution_count": 60,
      "outputs": []
    },
    {
      "cell_type": "code",
      "metadata": {
        "colab": {
          "base_uri": "https://localhost:8080/",
          "height": 204
        },
        "id": "88ohS31sewCV",
        "outputId": "fb7af903-9797-4cb4-aa43-9fff47d23ecd"
      },
      "source": [
        "dados= pd.read_csv('binary.csv')\n",
        "dados.head()"
      ],
      "execution_count": 61,
      "outputs": [
        {
          "output_type": "execute_result",
          "data": {
            "text/html": [
              "<div>\n",
              "<style scoped>\n",
              "    .dataframe tbody tr th:only-of-type {\n",
              "        vertical-align: middle;\n",
              "    }\n",
              "\n",
              "    .dataframe tbody tr th {\n",
              "        vertical-align: top;\n",
              "    }\n",
              "\n",
              "    .dataframe thead th {\n",
              "        text-align: right;\n",
              "    }\n",
              "</style>\n",
              "<table border=\"1\" class=\"dataframe\">\n",
              "  <thead>\n",
              "    <tr style=\"text-align: right;\">\n",
              "      <th></th>\n",
              "      <th>admit</th>\n",
              "      <th>gre</th>\n",
              "      <th>gpa</th>\n",
              "      <th>prestige</th>\n",
              "    </tr>\n",
              "  </thead>\n",
              "  <tbody>\n",
              "    <tr>\n",
              "      <th>0</th>\n",
              "      <td>0</td>\n",
              "      <td>380</td>\n",
              "      <td>3.61</td>\n",
              "      <td>3</td>\n",
              "    </tr>\n",
              "    <tr>\n",
              "      <th>1</th>\n",
              "      <td>1</td>\n",
              "      <td>660</td>\n",
              "      <td>3.67</td>\n",
              "      <td>3</td>\n",
              "    </tr>\n",
              "    <tr>\n",
              "      <th>2</th>\n",
              "      <td>1</td>\n",
              "      <td>800</td>\n",
              "      <td>4.00</td>\n",
              "      <td>1</td>\n",
              "    </tr>\n",
              "    <tr>\n",
              "      <th>3</th>\n",
              "      <td>1</td>\n",
              "      <td>640</td>\n",
              "      <td>3.19</td>\n",
              "      <td>4</td>\n",
              "    </tr>\n",
              "    <tr>\n",
              "      <th>4</th>\n",
              "      <td>0</td>\n",
              "      <td>520</td>\n",
              "      <td>2.93</td>\n",
              "      <td>4</td>\n",
              "    </tr>\n",
              "  </tbody>\n",
              "</table>\n",
              "</div>"
            ],
            "text/plain": [
              "   admit  gre   gpa  prestige\n",
              "0      0  380  3.61         3\n",
              "1      1  660  3.67         3\n",
              "2      1  800  4.00         1\n",
              "3      1  640  3.19         4\n",
              "4      0  520  2.93         4"
            ]
          },
          "metadata": {
            "tags": []
          },
          "execution_count": 61
        }
      ]
    },
    {
      "cell_type": "markdown",
      "metadata": {
        "id": "q8jmDe4sewCc"
      },
      "source": [
        "#### Exercício 2: Estude as medidas centrais da distribuição, faça a contagem dos valores de `admit` para ter uma ideia da distribuição de casos aceitos e não aceitos. \n",
        "\n",
        "#### Crie uma análise exploratória gráfica dos dados, com um gráfico do tipo  `pairplot` para todos os atributos do dataset. \n",
        "\n",
        "#### Faça também um gráfico do tipo `FacetGrid`, separando por `prestige` a população de casos `admit = 0` e `admit = 1`. Você pode usar os atributos `gre` e `gpa` como eixos das dispersões."
      ]
    },
    {
      "cell_type": "code",
      "metadata": {
        "colab": {
          "base_uri": "https://localhost:8080/",
          "height": 297
        },
        "id": "L8QDAuxBewCd",
        "outputId": "3dee50de-ba06-4ff8-8db8-0a51708d91e1"
      },
      "source": [
        "#a)Medidas centrais\n",
        "dados.describe()"
      ],
      "execution_count": 3,
      "outputs": [
        {
          "output_type": "execute_result",
          "data": {
            "text/html": [
              "<div>\n",
              "<style scoped>\n",
              "    .dataframe tbody tr th:only-of-type {\n",
              "        vertical-align: middle;\n",
              "    }\n",
              "\n",
              "    .dataframe tbody tr th {\n",
              "        vertical-align: top;\n",
              "    }\n",
              "\n",
              "    .dataframe thead th {\n",
              "        text-align: right;\n",
              "    }\n",
              "</style>\n",
              "<table border=\"1\" class=\"dataframe\">\n",
              "  <thead>\n",
              "    <tr style=\"text-align: right;\">\n",
              "      <th></th>\n",
              "      <th>admit</th>\n",
              "      <th>gre</th>\n",
              "      <th>gpa</th>\n",
              "      <th>prestige</th>\n",
              "    </tr>\n",
              "  </thead>\n",
              "  <tbody>\n",
              "    <tr>\n",
              "      <th>count</th>\n",
              "      <td>400.000000</td>\n",
              "      <td>400.000000</td>\n",
              "      <td>400.000000</td>\n",
              "      <td>400.00000</td>\n",
              "    </tr>\n",
              "    <tr>\n",
              "      <th>mean</th>\n",
              "      <td>0.317500</td>\n",
              "      <td>587.700000</td>\n",
              "      <td>3.389900</td>\n",
              "      <td>2.48500</td>\n",
              "    </tr>\n",
              "    <tr>\n",
              "      <th>std</th>\n",
              "      <td>0.466087</td>\n",
              "      <td>115.516536</td>\n",
              "      <td>0.380567</td>\n",
              "      <td>0.94446</td>\n",
              "    </tr>\n",
              "    <tr>\n",
              "      <th>min</th>\n",
              "      <td>0.000000</td>\n",
              "      <td>220.000000</td>\n",
              "      <td>2.260000</td>\n",
              "      <td>1.00000</td>\n",
              "    </tr>\n",
              "    <tr>\n",
              "      <th>25%</th>\n",
              "      <td>0.000000</td>\n",
              "      <td>520.000000</td>\n",
              "      <td>3.130000</td>\n",
              "      <td>2.00000</td>\n",
              "    </tr>\n",
              "    <tr>\n",
              "      <th>50%</th>\n",
              "      <td>0.000000</td>\n",
              "      <td>580.000000</td>\n",
              "      <td>3.395000</td>\n",
              "      <td>2.00000</td>\n",
              "    </tr>\n",
              "    <tr>\n",
              "      <th>75%</th>\n",
              "      <td>1.000000</td>\n",
              "      <td>660.000000</td>\n",
              "      <td>3.670000</td>\n",
              "      <td>3.00000</td>\n",
              "    </tr>\n",
              "    <tr>\n",
              "      <th>max</th>\n",
              "      <td>1.000000</td>\n",
              "      <td>800.000000</td>\n",
              "      <td>4.000000</td>\n",
              "      <td>4.00000</td>\n",
              "    </tr>\n",
              "  </tbody>\n",
              "</table>\n",
              "</div>"
            ],
            "text/plain": [
              "            admit         gre         gpa   prestige\n",
              "count  400.000000  400.000000  400.000000  400.00000\n",
              "mean     0.317500  587.700000    3.389900    2.48500\n",
              "std      0.466087  115.516536    0.380567    0.94446\n",
              "min      0.000000  220.000000    2.260000    1.00000\n",
              "25%      0.000000  520.000000    3.130000    2.00000\n",
              "50%      0.000000  580.000000    3.395000    2.00000\n",
              "75%      1.000000  660.000000    3.670000    3.00000\n",
              "max      1.000000  800.000000    4.000000    4.00000"
            ]
          },
          "metadata": {
            "tags": []
          },
          "execution_count": 3
        }
      ]
    },
    {
      "cell_type": "code",
      "metadata": {
        "colab": {
          "base_uri": "https://localhost:8080/"
        },
        "id": "y3XKarQtewCg",
        "outputId": "bae063aa-8f47-4346-b0e8-97467bf82ae5"
      },
      "source": [
        "#b)Contagem valores Admit\n",
        "cont = dados['admit'].value_counts()\n",
        "print(f'Número de não aceitos: {cont[0]}')\n",
        "print(f'Número de aceitos: {cont[1]}')"
      ],
      "execution_count": 4,
      "outputs": [
        {
          "output_type": "stream",
          "text": [
            "Número de não aceitos: 273\n",
            "Número de aceitos: 127\n"
          ],
          "name": "stdout"
        }
      ]
    },
    {
      "cell_type": "code",
      "metadata": {
        "colab": {
          "base_uri": "https://localhost:8080/",
          "height": 726
        },
        "id": "_gAVyKK-hYMP",
        "outputId": "532a353e-ac8c-42c2-ab93-ae607dff35aa"
      },
      "source": [
        "#c)Pairplot dos dados\n",
        "sns.pairplot(dados);"
      ],
      "execution_count": 5,
      "outputs": [
        {
          "output_type": "display_data",
          "data": {
            "image/png": "[encoded data removed]",
            "text/plain": [
              "<Figure size 720x720 with 20 Axes>"
            ]
          },
          "metadata": {
            "tags": [],
            "needs_background": "light"
          }
        }
      ]
    },
    {
      "cell_type": "code",
      "metadata": {
        "colab": {
          "base_uri": "https://localhost:8080/",
          "height": 455
        },
        "id": "uJXm-9i4hYMg",
        "outputId": "f522d7c8-784b-4e08-8eb9-6a4d584801ea"
      },
      "source": [
        "#d)Gráfico FacetGrid\n",
        "g= sns.FacetGrid(dados, col='prestige', row= 'admit')\n",
        "\n",
        "g.map_dataframe(sns.scatterplot, x='gre', y='gpa')\n",
        "\n",
        "g.set_axis_labels('gre', \"gpa\");"
      ],
      "execution_count": 6,
      "outputs": [
        {
          "output_type": "display_data",
          "data": {
            "image/png": "[encoded data removed]",
            "text/plain": [
              "<Figure size 864x432 with 8 Axes>"
            ]
          },
          "metadata": {
            "tags": [],
            "needs_background": "light"
          }
        }
      ]
    },
    {
      "cell_type": "markdown",
      "metadata": {
        "id": "yohwflbJ04Md"
      },
      "source": [
        "É difícil perceber alguma correlação muito forte de acordo com a instituição do candidato. Isto pode nos indicar que o prestígio da instituição não possui tanta relevância na sua admissão ou não."
      ]
    },
    {
      "cell_type": "markdown",
      "metadata": {
        "id": "XDpwXvoUhYMt"
      },
      "source": [
        "#### Exercício 3: Crie um conjunto de boxplots para as distribuições `gre`, `gpa` e `prestige`, em função dos valores de `admit` para entender melhor como cada um dos atributos acima influencia a admissão dos estudantes."
      ]
    },
    {
      "cell_type": "code",
      "metadata": {
        "colab": {
          "base_uri": "https://localhost:8080/",
          "height": 295
        },
        "id": "tZHxJ4fohYMx",
        "outputId": "d6d0a5d4-2756-4095-d2ca-50bd03f9fb85"
      },
      "source": [
        "#a)gre\n",
        "ax= sns.boxplot(x='prestige', y='gre', hue='admit',\n",
        "                 data=dados)\n",
        "\n",
        "ax.set_title('Notas recordes por intituição de prestígio e admissão ou não dos candidatos');"
      ],
      "execution_count": 7,
      "outputs": [
        {
          "output_type": "display_data",
          "data": {
            "image/png": "[encoded data removed]",
            "text/plain": [
              "<Figure size 432x288 with 1 Axes>"
            ]
          },
          "metadata": {
            "tags": [],
            "needs_background": "light"
          }
        }
      ]
    },
    {
      "cell_type": "markdown",
      "metadata": {
        "id": "TB_b6TtC2o3A"
      },
      "source": [
        "Aqueles que foram admitidos possuem uma concentração de notas recordes maiores do que aqueles que não. Ao contrário do gráfico de dispersão feito no exercício 2, agora podemos ver que de fato as notas daqueles em intituições de maior prestígio (1 é o maior prestígio), se concentram ligeiramente em valores mais altos (tanto dos candidatos admitidos quanto dos que não o foram): As caixas daqueles de instituição com maior prestígio estão acima daqueles com menor prestígio."
      ]
    },
    {
      "cell_type": "code",
      "metadata": {
        "colab": {
          "base_uri": "https://localhost:8080/",
          "height": 295
        },
        "id": "BOdUIURy4bTr",
        "outputId": "3a6a9d70-f7d4-4984-ca5a-c8616df1c667"
      },
      "source": [
        "#a)gpa\n",
        "ax= sns.boxplot(x='prestige', y='gpa', hue='admit',\n",
        "                 data=dados)\n",
        "\n",
        "ax.set_title('Notas medias por intituição de prestígio e admissão ou não dos candidatos');"
      ],
      "execution_count": 8,
      "outputs": [
        {
          "output_type": "display_data",
          "data": {
            "image/png": "[encoded data removed]",
            "text/plain": [
              "<Figure size 432x288 with 1 Axes>"
            ]
          },
          "metadata": {
            "tags": [],
            "needs_background": "light"
          }
        }
      ]
    },
    {
      "cell_type": "markdown",
      "metadata": {
        "id": "7nj6gjC84-Im"
      },
      "source": [
        "Aqui á não percebemos a mesma relação no exercício anterior: vemos que as medias dos alunos admitidos se concentram de fato em valores maiores do que as daqueles que não foram admitidos. Porém, as instituições com maior prestígio já não estão com as notas medias concentradas em valores mais altos que as intituições de menores prestítgios.\n",
        "\n",
        "Isto pode nos indicar que uma coisa é o candidato retirar uma nota alta em UMA prova, outra diferentes e mais complicada é manter a regularidade e manter suas notas em valores altos. Levando isso em conta, os alunos de instituição nível 3 demonstram maior regularidade nas suas notas, aparentemente."
      ]
    },
    {
      "cell_type": "markdown",
      "metadata": {
        "id": "Y8BXZleFhYNB"
      },
      "source": [
        "#### Exercício 4: Crie também uma `crosstab()` cruzando os dados de admissão `admit` com o prestígio da instituição de origem do candidato, para estudar as contagens de admissão e inadmissão."
      ]
    },
    {
      "cell_type": "code",
      "metadata": {
        "id": "Ga6S1xxahYNE"
      },
      "source": [
        "#Contagem de nãoa admitidos e não admitidos por prestígio da instituição\n",
        "adm_por_instituicao = pd.crosstab(index= dados['prestige'], columns= dados['admit'])\n",
        "\n",
        "#Porcentagem de não admitidos por prestígio da instituição\n",
        "adm_por_instituicao['prop_nao_adm']= (adm_por_instituicao[0] / (adm_por_instituicao[0] + adm_por_instituicao[1])) * 100\n",
        "adm_por_instituicao['prop_nao_adm']= round(adm_por_instituicao['prop_nao_adm'], 2)\n",
        "\n",
        "#Porcentagem de admitidos por prestígio da instituição\n",
        "adm_por_instituicao['prop_adm']= (adm_por_instituicao[1] / (adm_por_instituicao[0] + adm_por_instituicao[1])) * 100\n",
        "adm_por_instituicao['prop_adm']= round(adm_por_instituicao['prop_adm'], 2)"
      ],
      "execution_count": 62,
      "outputs": []
    },
    {
      "cell_type": "code",
      "metadata": {
        "colab": {
          "base_uri": "https://localhost:8080/",
          "height": 204
        },
        "id": "I2b3yAsB7L3g",
        "outputId": "450803a9-ff56-4899-e5dc-e85221d7dce7"
      },
      "source": [
        "adm_por_instituicao"
      ],
      "execution_count": 63,
      "outputs": [
        {
          "output_type": "execute_result",
          "data": {
            "text/html": [
              "<div>\n",
              "<style scoped>\n",
              "    .dataframe tbody tr th:only-of-type {\n",
              "        vertical-align: middle;\n",
              "    }\n",
              "\n",
              "    .dataframe tbody tr th {\n",
              "        vertical-align: top;\n",
              "    }\n",
              "\n",
              "    .dataframe thead th {\n",
              "        text-align: right;\n",
              "    }\n",
              "</style>\n",
              "<table border=\"1\" class=\"dataframe\">\n",
              "  <thead>\n",
              "    <tr style=\"text-align: right;\">\n",
              "      <th>admit</th>\n",
              "      <th>0</th>\n",
              "      <th>1</th>\n",
              "      <th>prop_nao_adm</th>\n",
              "      <th>prop_adm</th>\n",
              "    </tr>\n",
              "    <tr>\n",
              "      <th>prestige</th>\n",
              "      <th></th>\n",
              "      <th></th>\n",
              "      <th></th>\n",
              "      <th></th>\n",
              "    </tr>\n",
              "  </thead>\n",
              "  <tbody>\n",
              "    <tr>\n",
              "      <th>1</th>\n",
              "      <td>28</td>\n",
              "      <td>33</td>\n",
              "      <td>45.90</td>\n",
              "      <td>54.10</td>\n",
              "    </tr>\n",
              "    <tr>\n",
              "      <th>2</th>\n",
              "      <td>97</td>\n",
              "      <td>54</td>\n",
              "      <td>64.24</td>\n",
              "      <td>35.76</td>\n",
              "    </tr>\n",
              "    <tr>\n",
              "      <th>3</th>\n",
              "      <td>93</td>\n",
              "      <td>28</td>\n",
              "      <td>76.86</td>\n",
              "      <td>23.14</td>\n",
              "    </tr>\n",
              "    <tr>\n",
              "      <th>4</th>\n",
              "      <td>55</td>\n",
              "      <td>12</td>\n",
              "      <td>82.09</td>\n",
              "      <td>17.91</td>\n",
              "    </tr>\n",
              "  </tbody>\n",
              "</table>\n",
              "</div>"
            ],
            "text/plain": [
              "admit      0   1  prop_nao_adm  prop_adm\n",
              "prestige                                \n",
              "1         28  33         45.90     54.10\n",
              "2         97  54         64.24     35.76\n",
              "3         93  28         76.86     23.14\n",
              "4         55  12         82.09     17.91"
            ]
          },
          "metadata": {
            "tags": []
          },
          "execution_count": 63
        }
      ]
    },
    {
      "cell_type": "markdown",
      "metadata": {
        "id": "YoV-y5AM9Yq8"
      },
      "source": [
        "Agora, ao contrário do gráfico de dispersão, podemos claramente ver que há sim a diferenção de admissão ou não admissão por prestígio da instituição.\n",
        "\n",
        "A porcentagem de não admitidos AUMENTA quanto menor o prestígio da instituição e a porcentagem de admitidos DIMINUI quanto menor o prestígio das instituições."
      ]
    },
    {
      "cell_type": "markdown",
      "metadata": {
        "id": "YhTX8moNhYNP"
      },
      "source": [
        "#### Exercício 5: Realize a dmummiezação da variável `prestige`  com a função [`.get_dummies()`](https://pandas.pydata.org/pandas-docs/stable/reference/api/pandas.get_dummies.html), instanciando um novo dataframe  e então concatene o novo dataframe dos atributos dummiezados com o dataframe original .\n",
        "\n",
        "#### Separe os dados entre os atributos descritivos e o target e realize a divisão do dataframe em subconjuntos de treino e teste."
      ]
    },
    {
      "cell_type": "code",
      "metadata": {
        "colab": {
          "base_uri": "https://localhost:8080/",
          "height": 204
        },
        "id": "56h6yZMjhYNR",
        "outputId": "2bd3814e-33fd-4c2d-bcd5-2322feb05af1"
      },
      "source": [
        "#Podemos utilizar o parâmetro drop_first igual a True para retirar a primeira coluna (no caso as instituições de prestígio 1)\n",
        "#O modelo entenderá que se a observação não for de prestígio 2, 3 ou 4, ela será uma instituição de prestígio 1\n",
        "dummy_prestige = pd.get_dummies(dados['prestige'], prefix= 'prestige', drop_first= True)\n",
        "dummy_prestige.head()"
      ],
      "execution_count": 64,
      "outputs": [
        {
          "output_type": "execute_result",
          "data": {
            "text/html": [
              "<div>\n",
              "<style scoped>\n",
              "    .dataframe tbody tr th:only-of-type {\n",
              "        vertical-align: middle;\n",
              "    }\n",
              "\n",
              "    .dataframe tbody tr th {\n",
              "        vertical-align: top;\n",
              "    }\n",
              "\n",
              "    .dataframe thead th {\n",
              "        text-align: right;\n",
              "    }\n",
              "</style>\n",
              "<table border=\"1\" class=\"dataframe\">\n",
              "  <thead>\n",
              "    <tr style=\"text-align: right;\">\n",
              "      <th></th>\n",
              "      <th>prestige_2</th>\n",
              "      <th>prestige_3</th>\n",
              "      <th>prestige_4</th>\n",
              "    </tr>\n",
              "  </thead>\n",
              "  <tbody>\n",
              "    <tr>\n",
              "      <th>0</th>\n",
              "      <td>0</td>\n",
              "      <td>1</td>\n",
              "      <td>0</td>\n",
              "    </tr>\n",
              "    <tr>\n",
              "      <th>1</th>\n",
              "      <td>0</td>\n",
              "      <td>1</td>\n",
              "      <td>0</td>\n",
              "    </tr>\n",
              "    <tr>\n",
              "      <th>2</th>\n",
              "      <td>0</td>\n",
              "      <td>0</td>\n",
              "      <td>0</td>\n",
              "    </tr>\n",
              "    <tr>\n",
              "      <th>3</th>\n",
              "      <td>0</td>\n",
              "      <td>0</td>\n",
              "      <td>1</td>\n",
              "    </tr>\n",
              "    <tr>\n",
              "      <th>4</th>\n",
              "      <td>0</td>\n",
              "      <td>0</td>\n",
              "      <td>1</td>\n",
              "    </tr>\n",
              "  </tbody>\n",
              "</table>\n",
              "</div>"
            ],
            "text/plain": [
              "   prestige_2  prestige_3  prestige_4\n",
              "0           0           1           0\n",
              "1           0           1           0\n",
              "2           0           0           0\n",
              "3           0           0           1\n",
              "4           0           0           1"
            ]
          },
          "metadata": {
            "tags": []
          },
          "execution_count": 64
        }
      ]
    },
    {
      "cell_type": "code",
      "metadata": {
        "colab": {
          "base_uri": "https://localhost:8080/",
          "height": 204
        },
        "id": "V2XfT8JBjSWN",
        "outputId": "ce4a0ed5-3920-40be-eeaf-8f191ef3dcf6"
      },
      "source": [
        "#Concatenando dataframe dummies dos prestígios com o original\n",
        "dados_tratados = pd.concat([dados, dummy_prestige], axis= 1)\n",
        "\n",
        "#Retirando coluna prestígio do dataframe gerado\n",
        "dados_tratados.drop(labels= 'prestige', axis= 1, inplace= True)\n",
        "\n",
        "#Conferindo mudanças\n",
        "dados_tratados.head()"
      ],
      "execution_count": 65,
      "outputs": [
        {
          "output_type": "execute_result",
          "data": {
            "text/html": [
              "<div>\n",
              "<style scoped>\n",
              "    .dataframe tbody tr th:only-of-type {\n",
              "        vertical-align: middle;\n",
              "    }\n",
              "\n",
              "    .dataframe tbody tr th {\n",
              "        vertical-align: top;\n",
              "    }\n",
              "\n",
              "    .dataframe thead th {\n",
              "        text-align: right;\n",
              "    }\n",
              "</style>\n",
              "<table border=\"1\" class=\"dataframe\">\n",
              "  <thead>\n",
              "    <tr style=\"text-align: right;\">\n",
              "      <th></th>\n",
              "      <th>admit</th>\n",
              "      <th>gre</th>\n",
              "      <th>gpa</th>\n",
              "      <th>prestige_2</th>\n",
              "      <th>prestige_3</th>\n",
              "      <th>prestige_4</th>\n",
              "    </tr>\n",
              "  </thead>\n",
              "  <tbody>\n",
              "    <tr>\n",
              "      <th>0</th>\n",
              "      <td>0</td>\n",
              "      <td>380</td>\n",
              "      <td>3.61</td>\n",
              "      <td>0</td>\n",
              "      <td>1</td>\n",
              "      <td>0</td>\n",
              "    </tr>\n",
              "    <tr>\n",
              "      <th>1</th>\n",
              "      <td>1</td>\n",
              "      <td>660</td>\n",
              "      <td>3.67</td>\n",
              "      <td>0</td>\n",
              "      <td>1</td>\n",
              "      <td>0</td>\n",
              "    </tr>\n",
              "    <tr>\n",
              "      <th>2</th>\n",
              "      <td>1</td>\n",
              "      <td>800</td>\n",
              "      <td>4.00</td>\n",
              "      <td>0</td>\n",
              "      <td>0</td>\n",
              "      <td>0</td>\n",
              "    </tr>\n",
              "    <tr>\n",
              "      <th>3</th>\n",
              "      <td>1</td>\n",
              "      <td>640</td>\n",
              "      <td>3.19</td>\n",
              "      <td>0</td>\n",
              "      <td>0</td>\n",
              "      <td>1</td>\n",
              "    </tr>\n",
              "    <tr>\n",
              "      <th>4</th>\n",
              "      <td>0</td>\n",
              "      <td>520</td>\n",
              "      <td>2.93</td>\n",
              "      <td>0</td>\n",
              "      <td>0</td>\n",
              "      <td>1</td>\n",
              "    </tr>\n",
              "  </tbody>\n",
              "</table>\n",
              "</div>"
            ],
            "text/plain": [
              "   admit  gre   gpa  prestige_2  prestige_3  prestige_4\n",
              "0      0  380  3.61           0           1           0\n",
              "1      1  660  3.67           0           1           0\n",
              "2      1  800  4.00           0           0           0\n",
              "3      1  640  3.19           0           0           1\n",
              "4      0  520  2.93           0           0           1"
            ]
          },
          "metadata": {
            "tags": []
          },
          "execution_count": 65
        }
      ]
    },
    {
      "cell_type": "code",
      "metadata": {
        "id": "_YzGfjoajLd3"
      },
      "source": [
        "#Separando variáveis preditoras\n",
        "X= dados_tratados[['gre',\t'gpa', 'prestige_2', 'prestige_3', 'prestige_4']]\n",
        "\n",
        "#Separando variável que queremos prever\n",
        "y= dados_tratados['admit']\n",
        "\n",
        "#Separando conjuntos de treino e de teste\n",
        "X_treino, X_teste, y_treino, y_teste = train_test_split(X, y)"
      ],
      "execution_count": 108,
      "outputs": []
    },
    {
      "cell_type": "markdown",
      "metadata": {
        "id": "Th2cNfMYhYOW"
      },
      "source": [
        "#### Exercício 6: Aplique o processo de criação de uma regressão logística com a padronização dos dados. \n",
        "\n",
        "#### Submeta os dados às regressões estudadas com o auxílio das bibliotecas `sklearn` e `statsmodels` e discuta os resultados."
      ]
    },
    {
      "cell_type": "markdown",
      "metadata": {
        "id": "3MQa3BNoewC8"
      },
      "source": [
        "#### padronização:"
      ]
    },
    {
      "cell_type": "code",
      "metadata": {
        "id": "U6yrWqqNewC8"
      },
      "source": [
        "from sklearn import preprocessing\n",
        "#Treinando dados de treino para padronização\n",
        "scaler = preprocessing.StandardScaler().fit(X)\n",
        "\n",
        "#Dados de treino padronizados\n",
        "X_escalonado = scaler.transform(X)"
      ],
      "execution_count": 87,
      "outputs": []
    },
    {
      "cell_type": "markdown",
      "metadata": {
        "id": "x7BuO-aFsjNc"
      },
      "source": [
        "#### 6-a) Regressão Logística com o `sklearn`:"
      ]
    },
    {
      "cell_type": "markdown",
      "metadata": {
        "id": "zdgVqzQ-EMLK"
      },
      "source": [
        "Vamos utilizar o método KFold que divide os dados em conjuntos de treino e teste de forma aleatória um determinado número de vezes e guardar as métricas e parâmetros tida(o)s com cada conjunto gerado."
      ]
    },
    {
      "cell_type": "code",
      "metadata": {
        "id": "gRfns31KewDB"
      },
      "source": [
        "#Instanciando objeto KFold com seus argumentos\n",
        "kf = KFold(n_splits = 10, #numero de conjuntos de treino e teste que o KFold irá gerar\n",
        "           shuffle = True, #Aleatoriedade dos conjuntos de treino e teste\n",
        "           random_state = 1 # ''\n",
        "          )\n",
        "\n",
        "#Instanciando objeto LogisticRegression para aplicar o modelo em cada conjunto gerado\n",
        "logit = LogisticRegression()"
      ],
      "execution_count": 88,
      "outputs": []
    },
    {
      "cell_type": "code",
      "metadata": {
        "id": "-BgV1IF0ewDE"
      },
      "source": [
        "kf_y_preds = [] #lista que guardará as predições de cada conjunto\n",
        "kf_model = [] #lista que guardará o modelo de cada conjunto\n",
        "kf_coefs = [] #lista que guardará os coeficientes de cada conjunto\n",
        "kf_scores = [] #lista que guardará a proporção de acertos de cada conjunto\n",
        "kf_matrix = [] #lista que guardará a matriz de confusão de cada conjunto"
      ],
      "execution_count": 89,
      "outputs": []
    },
    {
      "cell_type": "code",
      "metadata": {
        "colab": {
          "base_uri": "https://localhost:8080/"
        },
        "id": "Ca01WlXGOb5v",
        "outputId": "e70bc1ba-bfe3-4f8e-bfb5-28f8b8e6137d"
      },
      "source": [
        "#Gerando 10 conjuntos de treino e teste aleatórios e guardando as informações de cada um nas listas explicadas acima \n",
        "for k, (treino_index, teste_index) in enumerate(kf.split(X_escalonado)):\n",
        "    \n",
        "    model = logit.fit(X_escalonado[treino_index], \n",
        "                      y[treino_index]\n",
        "                     )\n",
        "    kf_model.append(model)\n",
        "    \n",
        "    coefs = model.coef_\n",
        "    \n",
        "    y_preds = model.predict(X_escalonado[teste_index])\n",
        "    \n",
        "    kf_y_preds.append(y_preds)\n",
        "    \n",
        "    kf_coefs.append(coefs)\n",
        "    \n",
        "    scores = accuracy_score(y[teste_index],\n",
        "                            y_preds\n",
        "                           )\n",
        "    \n",
        "    kf_scores.append(scores)\n",
        "    \n",
        "    matrix = confusion_matrix(y[teste_index], \n",
        "                              y_preds\n",
        "                             )\n",
        "    \n",
        "    kf_matrix.append(matrix)\n",
        "    \n",
        "    print(\"K\", k, \" = \", scores, sep = \"\")"
      ],
      "execution_count": 90,
      "outputs": [
        {
          "output_type": "stream",
          "text": [
            "K0 = 0.65\n",
            "K1 = 0.75\n",
            "K2 = 0.85\n",
            "K3 = 0.65\n",
            "K4 = 0.825\n",
            "K5 = 0.6\n",
            "K6 = 0.625\n",
            "K7 = 0.6\n",
            "K8 = 0.825\n",
            "K9 = 0.65\n"
          ],
          "name": "stdout"
        }
      ]
    },
    {
      "cell_type": "markdown",
      "metadata": {
        "id": "ezhK7BbdKzBW"
      },
      "source": [
        "Podemos avaliar o desempenho desse modelo tirando a média dos coeficientes de determinação dos valores da lista kf_scores."
      ]
    },
    {
      "cell_type": "code",
      "metadata": {
        "colab": {
          "base_uri": "https://localhost:8080/"
        },
        "id": "U-EHsVQTewDM",
        "outputId": "61b444d9-5297-44bf-8f2f-459bbe00ad91"
      },
      "source": [
        "print(f'Acurácia media: {np.mean(kf_scores) * 100}%')\n",
        "print(f'Total de linhas: {len(dados_tratados)}')"
      ],
      "execution_count": 119,
      "outputs": [
        {
          "output_type": "stream",
          "text": [
            "Acurácia media: 70.25%\n",
            "Total de linhas: 400\n"
          ],
          "name": "stdout"
        }
      ]
    },
    {
      "cell_type": "markdown",
      "metadata": {
        "id": "eqBROSK1LBkc"
      },
      "source": [
        "Vemos que não temos um modelo com uma performance tão boa, tendo em media 70.25% de acertos."
      ]
    },
    {
      "cell_type": "markdown",
      "metadata": {
        "id": "zUr2c0G5LZVC"
      },
      "source": [
        "A melhor performance foi com os parâmetros no k==4. Vamos olhar a matriz de confusão de tal modelo"
      ]
    },
    {
      "cell_type": "code",
      "metadata": {
        "colab": {
          "base_uri": "https://localhost:8080/"
        },
        "id": "Qwagsv9fLYeD",
        "outputId": "23772156-d785-4e31-afe9-345655641836"
      },
      "source": [
        "kf_matrix[4]"
      ],
      "execution_count": 94,
      "outputs": [
        {
          "output_type": "execute_result",
          "data": {
            "text/plain": [
              "array([[31,  1],\n",
              "       [ 6,  2]])"
            ]
          },
          "metadata": {
            "tags": []
          },
          "execution_count": 94
        }
      ]
    },
    {
      "cell_type": "markdown",
      "metadata": {
        "id": "ZsTEn0J3Lxx-"
      },
      "source": [
        "A matriz de confusão nos indica que de 31 previsões que o modelo disse que era admitido ele acertou (era de fato admitido);\n",
        "\n",
        "1 disse que era não adimitdo e era admitido;\n",
        "\n",
        "De 6 que o modelo disse que era admitido, era na verdade não admitido.\n",
        "E de 2 que disse que não era admitido ele acertou (era de fato não admitido).\n",
        "\n",
        "Nesse sentido, ele teve um maior numero de acertos naqueles que eram de fato admitidos e poucos erros naqueles que não o eram."
      ]
    },
    {
      "cell_type": "markdown",
      "metadata": {
        "id": "TEnngLU-ewDU"
      },
      "source": [
        "####6-b) Regressão Logística com o  `statsmodels`:"
      ]
    },
    {
      "cell_type": "markdown",
      "metadata": {
        "id": "NJBqwDaSI3nd"
      },
      "source": [
        "Utilizando o statsmodel precisamos adicionar a constante (intercepto) dos dados primeiro, já que a biblioteca não faz automaticamente como no SKLearn"
      ]
    },
    {
      "cell_type": "code",
      "metadata": {
        "id": "2xt3XEMtewDV"
      },
      "source": [
        "#Constante do modelo de regressão logística dos nossos dados\n",
        "X = sm.tools.add_constant(X)"
      ],
      "execution_count": 109,
      "outputs": []
    },
    {
      "cell_type": "code",
      "metadata": {
        "id": "4bRV8jxmewDY"
      },
      "source": [
        "#Separação de dados de treino e teste\n",
        "X_treino, X_teste, y_treino, y_teste = train_test_split(X, y)"
      ],
      "execution_count": 110,
      "outputs": []
    },
    {
      "cell_type": "code",
      "metadata": {
        "id": "XxUlDbjQewDc",
        "colab": {
          "base_uri": "https://localhost:8080/"
        },
        "outputId": "8da0b3be-7330-41b1-d083-7b1787fa9130"
      },
      "source": [
        "#Instanciando objeto de regressão logística do StatsModel\n",
        "logistica = sm.Logit(y_treino, X_treino)\n",
        "\n",
        "#Treinando modelo\n",
        "resultado = logistica.fit()\n",
        "\n",
        "#Olhando sumário de métricas e valores estatísticos do modelo gerado\n",
        "print(resultado.summary2())"
      ],
      "execution_count": 111,
      "outputs": [
        {
          "output_type": "stream",
          "text": [
            "Optimization terminated successfully.\n",
            "         Current function value: 0.578968\n",
            "         Iterations 5\n",
            "                         Results: Logit\n",
            "=================================================================\n",
            "Model:              Logit            Pseudo R-squared: 0.069     \n",
            "Dependent Variable: admit            AIC:              359.3809  \n",
            "Date:               2021-02-22 15:12 BIC:              381.6036  \n",
            "No. Observations:   300              Log-Likelihood:   -173.69   \n",
            "Df Model:           5                LL-Null:          -186.52   \n",
            "Df Residuals:       294              LLR p-value:      0.00010366\n",
            "Converged:          1.0000           Scale:            1.0000    \n",
            "No. Iterations:     5.0000                                       \n",
            "------------------------------------------------------------------\n",
            "               Coef.   Std.Err.     z     P>|z|    [0.025   0.975]\n",
            "------------------------------------------------------------------\n",
            "const         -3.4785    1.3023  -2.6710  0.0076  -6.0310  -0.9260\n",
            "gre            0.0028    0.0012   2.2421  0.0250   0.0004   0.0052\n",
            "gpa            0.5483    0.3709   1.4783  0.1393  -0.1787   1.2752\n",
            "prestige_2    -0.6764    0.3645  -1.8557  0.0635  -1.3907   0.0380\n",
            "prestige_3    -1.3184    0.4026  -3.2749  0.0011  -2.1075  -0.5294\n",
            "prestige_4    -1.3744    0.4704  -2.9217  0.0035  -2.2964  -0.4524\n",
            "=================================================================\n",
            "\n"
          ],
          "name": "stdout"
        }
      ]
    },
    {
      "cell_type": "markdown",
      "metadata": {
        "id": "1yp_fomoKSHB"
      },
      "source": [
        "O parâmetro P > |z| nos indica sobre a real significancia da variável em questão na construção do modelo. Se este valor for menor que 0.05, podemos indicar que a variável possui (com 95% de confiança) relevância na variável que queremos prever. Nesse caso podemos retirar a variável gpa e reavaliar is números do modelo. \n",
        "\n",
        "Repare também que o pseudo R² deu um valor muito baixo, isso pode nos indicar tanto que a variável GPA está afetando nosso modelo de forma negativa; quanto nosso baixo número de dados e/ou que as variáveis preditoras não explicam bem a a admissão ou não de alguém."
      ]
    },
    {
      "cell_type": "code",
      "metadata": {
        "id": "zN8AifyZewDf",
        "colab": {
          "base_uri": "https://localhost:8080/"
        },
        "outputId": "60bacecb-de35-498e-fafe-198bfa314cd4"
      },
      "source": [
        "#Retirando variável GPA dos dados\n",
        "X.drop(labels= 'gpa', axis= 1, inplace= True)\n",
        "\n",
        "#Recalculando a constante com o novo dataset\n",
        "X = sm.tools.add_constant(X) #Constante do modelo de regressão logística dos nossos dados\n",
        "\n",
        "#Separação de dados de treino e teste\n",
        "X_treino, X_teste, y_treino, y_teste = train_test_split(X, y)\n",
        "\n",
        "#Instanciando objeto de regressão logística do StatsModel\n",
        "logistica = sm.Logit(y_treino, X_treino)\n",
        "\n",
        "#Treinando modelo\n",
        "resultado = logistica.fit()\n",
        "\n",
        "#Olhando sumário de métricas e valores estatísticos do modelo gerado\n",
        "print(resultado.summary2())"
      ],
      "execution_count": 112,
      "outputs": [
        {
          "output_type": "stream",
          "text": [
            "Optimization terminated successfully.\n",
            "         Current function value: 0.588342\n",
            "         Iterations 5\n",
            "                         Results: Logit\n",
            "=================================================================\n",
            "Model:              Logit            Pseudo R-squared: 0.079     \n",
            "Dependent Variable: admit            AIC:              363.0050  \n",
            "Date:               2021-02-22 15:12 BIC:              381.5239  \n",
            "No. Observations:   300              Log-Likelihood:   -176.50   \n",
            "Df Model:           4                LL-Null:          -191.64   \n",
            "Df Residuals:       295              LLR p-value:      4.3027e-06\n",
            "Converged:          1.0000           Scale:            1.0000    \n",
            "No. Iterations:     5.0000                                       \n",
            "------------------------------------------------------------------\n",
            "               Coef.   Std.Err.     z     P>|z|    [0.025   0.975]\n",
            "------------------------------------------------------------------\n",
            "const         -1.7560    0.7680  -2.2863  0.0222  -3.2613  -0.2507\n",
            "gre            0.0033    0.0012   2.8214  0.0048   0.0010   0.0055\n",
            "prestige_2    -0.6368    0.3558  -1.7895  0.0735  -1.3342   0.0607\n",
            "prestige_3    -1.4640    0.3963  -3.6945  0.0002  -2.2407  -0.6874\n",
            "prestige_4    -1.5042    0.4536  -3.3161  0.0009  -2.3932  -0.6151\n",
            "=================================================================\n",
            "\n"
          ],
          "name": "stdout"
        }
      ]
    },
    {
      "cell_type": "markdown",
      "metadata": {
        "id": "HVeHVITlTXd4"
      },
      "source": [
        "Vamos olhar a matriz de confusão do modelo. Aqui vamos indicar que se houver maior que 50% de probabilidade de alguém ser admitido, iremos indicar como admitido, do contrário, vamos indicar que não será admitido."
      ]
    },
    {
      "cell_type": "code",
      "metadata": {
        "id": "Il5e_zO8ewDh",
        "colab": {
          "base_uri": "https://localhost:8080/"
        },
        "outputId": "9736e5a9-b56c-4750-d3e6-b1ca04ac2823"
      },
      "source": [
        "y_pred = resultado.predict(X_teste) > 0.5\n",
        "\n",
        "matriz_conf = confusion_matrix(y_teste, y_pred)\n",
        "acertos= matriz_conf[0][0] + matriz_conf[1][1]\n",
        "erros= matriz_conf[0][1] + matriz_conf[1][0]\n",
        "acertos_adm= matriz_conf[0][0]\n",
        "erros_adm= matriz_conf[0][1]\n",
        "acertos_nao_adm= matriz_conf[1][1]\n",
        "erros_nao_adm= matriz_conf[1][0]\n",
        "\n",
        "print(f'Total de acertos: {acertos}')\n",
        "print(f'Total de acertos admitidos (previsão era admitidos): {acertos_adm}')\n",
        "print(f'Total de acertos não eram admitidos (previsão não eram admitidos): {acertos_nao_adm}')\n",
        "\n",
        "print()\n",
        "print(f'Total de erros: {erros}')\n",
        "print(f'Total de erros admitidos (previsão era admitidos): {erros_adm}')\n",
        "print(f'Total de erros não admitidos (previsão não era admitidos): {erros_nao_adm}')"
      ],
      "execution_count": 118,
      "outputs": [
        {
          "output_type": "stream",
          "text": [
            "Total de acertos: 77\n",
            "Total de acertos admitidos (previsão era admitidos): 68\n",
            "Total de acertos não eram admitidos (previsão não eram admitidos): 9\n",
            "\n",
            "Total de erros: 23\n",
            "Total de erros admitidos (previsão era admitidos): 6\n",
            "Total de erros não admitidos (previsão não era admitidos): 17\n"
          ],
          "name": "stdout"
        }
      ]
    },
    {
      "cell_type": "code",
      "metadata": {
        "id": "hFUw9_drewDk",
        "colab": {
          "base_uri": "https://localhost:8080/"
        },
        "outputId": "b93bfbc9-40f5-414d-ef37-cd4ec176959c"
      },
      "source": [
        "matriz_conf"
      ],
      "execution_count": 116,
      "outputs": [
        {
          "output_type": "execute_result",
          "data": {
            "text/plain": [
              "array([[68,  6],\n",
              "       [17,  9]])"
            ]
          },
          "metadata": {
            "tags": []
          },
          "execution_count": 116
        }
      ]
    },
    {
      "cell_type": "markdown",
      "metadata": {
        "id": "e691l7qVV45w"
      },
      "source": [
        "Vemos que a maior parte dos acertos do modelo (68) foram daqueles que foram de fato admitidos.\n",
        "\n",
        "A menor parte de acertos (6) foram daqueles que o modelo indicou como admitidos e não o foram.\n",
        "\n",
        "Neste caso, podemos pensar que é preferível que o modelo erre menos onde de fato errou, isto é, aqueles que disse que era admitido e não o foram do que naqueles que ele previu como não admitidos e o foram.\n",
        "\n",
        "Porém, se este modelo tivesse em vista esta previsão para o candidato planejar a sua vida tendo em vista a admissão ou não admissão, o planejar com antecedência a mudança de cidade, por exemplo, baseado na predição de que será admitido seria mais problemático."
      ]
    }
  ]
}