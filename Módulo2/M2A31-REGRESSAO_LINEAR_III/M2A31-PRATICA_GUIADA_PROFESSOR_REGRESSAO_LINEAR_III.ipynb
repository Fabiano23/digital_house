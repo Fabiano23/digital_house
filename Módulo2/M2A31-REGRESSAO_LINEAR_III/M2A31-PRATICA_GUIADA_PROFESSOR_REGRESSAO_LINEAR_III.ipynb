{
 "cells": [
  {
   "cell_type": "markdown",
   "metadata": {},
   "source": [
    "# PRÁTICA GUIADA: Regressão Linear com scikit-Learn e statsmodels"
   ]
  },
  {
   "cell_type": "markdown",
   "metadata": {},
   "source": [
    "#### Vamos investigar o dataset imobiliário usando regressão linear. Vamos usar duas bibliotecas (ou pacotes) diferentes, com exemplos que podem ser encontrados na documentação oficial.\n",
    "\n",
    "- [Doc statsmodels: regressão linear](http://statsmodels.sourceforge.net/devel/examples/#regression)\n",
    "- [Doc scikit-learn: regressão linear](http://scikit-learn.org/stable/modules/generated/sklearn.linear_model.LinearRegression.html)"
   ]
  },
  {
   "cell_type": "markdown",
   "metadata": {},
   "source": [
    "## 1. Introdução\n",
    "\n",
    "#### Já tivemos contato e nos familiarizamos com a biblioteca scikit-learn. Para esse notebook precisaremos baixar as seguintes classes de funções:\n",
    "\n",
    "- [`matplotlib.pyplot`](https://matplotlib.org/api/pyplot_api.html)\n",
    "\n",
    "- [`sklearn.metrics.mean_squared_error`](https://scikit-learn.org/stable/modules/generated/sklearn.metrics.mean_squared_error.html)\n",
    "\n",
    "- [`sklearn.datasets`](https://scikit-learn.org/stable/datasets/index.html)\n",
    "\n",
    "- [`sklearn.linear_model`](https://scikit-learn.org/stable/modules/linear_model.html)\n",
    "\n",
    "- [`sklearn.metrics.r2_score`](https://scikit-learn.org/stable/modules/generated/sklearn.metrics.r2_score.html)\n",
    "\n",
    "- [`sklearn.model_selection.train_test_split`](https://scikit-learn.org/stable/modules/generated/sklearn.model_selection.train_test_split.html)\n",
    "\n",
    "#### Lembrando que devemos ativar a função mágica [`%matplotlib inline`](https://ipython.readthedocs.io/en/stable/interactive/magics.html). "
   ]
  },
  {
   "cell_type": "code",
   "execution_count": 89,
   "metadata": {},
   "outputs": [],
   "source": [
    "%matplotlib inline\n",
    "from matplotlib import pyplot as plt\n",
    "from sklearn import datasets, linear_model\n",
    "from sklearn.metrics import mean_squared_error, r2_score\n",
    "from sklearn.model_selection import train_test_split"
   ]
  },
  {
   "cell_type": "markdown",
   "metadata": {},
   "source": [
    "####  <span style = \"color:red\">Código Original.</span>\n",
    "<!---\n",
    "%matplotlib inline\n",
    "from matplotlib import pyplot as plt\n",
    "from sklearn import datasets, linear_model\n",
    "from sklearn.metrics import mean_squared_error, r2_score\n",
    "from sklearn.model_selection import train_test_split\n",
    "-->"
   ]
  },
  {
   "cell_type": "markdown",
   "metadata": {},
   "source": [
    "#### A biblioteca também inclui alguns [datasets](https://scikit-learn.org/stable/datasets/toy_dataset.html), dentre eles vamos trabalhar com o `boston house-prices`, que pode ser carregado com o método  [`datasets.load_boston()`](https://scikit-learn.org/stable/modules/generated/sklearn.datasets.load_boston.html#sklearn.datasets.load_boston)."
   ]
  },
  {
   "cell_type": "code",
   "execution_count": 91,
   "metadata": {},
   "outputs": [
    {
     "name": "stdout",
     "output_type": "stream",
     "text": [
      ".. _boston_dataset:\n",
      "\n",
      "Boston house prices dataset\n",
      "---------------------------\n",
      "\n",
      "**Data Set Characteristics:**  \n",
      "\n",
      "    :Number of Instances: 506 \n",
      "\n",
      "    :Number of Attributes: 13 numeric/categorical predictive. Median Value (attribute 14) is usually the target.\n",
      "\n",
      "    :Attribute Information (in order):\n",
      "        - CRIM     per capita crime rate by town\n",
      "        - ZN       proportion of residential land zoned for lots over 25,000 sq.ft.\n",
      "        - INDUS    proportion of non-retail business acres per town\n",
      "        - CHAS     Charles River dummy variable (= 1 if tract bounds river; 0 otherwise)\n",
      "        - NOX      nitric oxides concentration (parts per 10 million)\n",
      "        - RM       average number of rooms per dwelling\n",
      "        - AGE      proportion of owner-occupied units built prior to 1940\n",
      "        - DIS      weighted distances to five Boston employment centres\n",
      "        - RAD      index of accessibility to radial highways\n",
      "        - TAX      full-value property-tax rate per $10,000\n",
      "        - PTRATIO  pupil-teacher ratio by town\n",
      "        - B        1000(Bk - 0.63)^2 where Bk is the proportion of blacks by town\n",
      "        - LSTAT    % lower status of the population\n",
      "        - MEDV     Median value of owner-occupied homes in $1000's\n",
      "\n",
      "    :Missing Attribute Values: None\n",
      "\n",
      "    :Creator: Harrison, D. and Rubinfeld, D.L.\n",
      "\n",
      "This is a copy of UCI ML housing dataset.\n",
      "https://archive.ics.uci.edu/ml/machine-learning-databases/housing/\n",
      "\n",
      "\n",
      "This dataset was taken from the StatLib library which is maintained at Carnegie Mellon University.\n",
      "\n",
      "The Boston house-price data of Harrison, D. and Rubinfeld, D.L. 'Hedonic\n",
      "prices and the demand for clean air', J. Environ. Economics & Management,\n",
      "vol.5, 81-102, 1978.   Used in Belsley, Kuh & Welsch, 'Regression diagnostics\n",
      "...', Wiley, 1980.   N.B. Various transformations are used in the table on\n",
      "pages 244-261 of the latter.\n",
      "\n",
      "The Boston house-price data has been used in many machine learning papers that address regression\n",
      "problems.   \n",
      "     \n",
      ".. topic:: References\n",
      "\n",
      "   - Belsley, Kuh & Welsch, 'Regression diagnostics: Identifying Influential Data and Sources of Collinearity', Wiley, 1980. 244-261.\n",
      "   - Quinlan,R. (1993). Combining Instance-Based and Model-Based Learning. In Proceedings on the Tenth International Conference of Machine Learning, 236-243, University of Massachusetts, Amherst. Morgan Kaufmann.\n",
      "\n"
     ]
    }
   ],
   "source": [
    "data = datasets.load_boston()\n",
    "print (data.DESCR)\n",
    "#data = datasets.load_boston(return_X_y = True)\n",
    "#print (data)"
   ]
  },
  {
   "cell_type": "code",
   "execution_count": 56,
   "metadata": {},
   "outputs": [],
   "source": [
    "#data.data"
   ]
  },
  {
   "cell_type": "markdown",
   "metadata": {},
   "source": [
    "####  <span style = \"color:red\">Código Original.</span>\n",
    "<!---\n",
    "data = datasets.load_boston()\n",
    "print (data.DESCR)\n",
    "#data = datasets.load_boston(return_X_y = True)\n",
    "#print (data)\n",
    "-->"
   ]
  },
  {
   "cell_type": "markdown",
   "metadata": {},
   "source": [
    "## 2. Conhecendo o formato dos datsets de scikit-learn"
   ]
  },
  {
   "cell_type": "markdown",
   "metadata": {},
   "source": [
    "#### Observe o tipo associado ao dataset `data`, você perceberá que ele é um [`sklearn.utils.Bunch`](https://scikit-learn.org/stable/modules/generated/sklearn.utils.Bunch.html). Esse objeto funciona como um container que expõe chaves como atributos. Eles são às vezes são usados como saída para funções e métodos. Os objetos do tipo `bunch`  estendem os dicionários, permitindo que os valores sejam acessados por chave, `bunch [\"value_key\"]` ou por um atributo, `bunch.valor_key`."
   ]
  },
  {
   "cell_type": "code",
   "execution_count": 92,
   "metadata": {},
   "outputs": [
    {
     "data": {
      "text/plain": [
       "sklearn.utils.Bunch"
      ]
     },
     "execution_count": 92,
     "metadata": {},
     "output_type": "execute_result"
    }
   ],
   "source": [
    "type(data)"
   ]
  },
  {
   "cell_type": "markdown",
   "metadata": {},
   "source": [
    "####  <span style = \"color:red\">Código Original.</span>\n",
    "<!---\n",
    "type(data)\n",
    "-->"
   ]
  },
  {
   "cell_type": "markdown",
   "metadata": {},
   "source": [
    "#### Vamos imprimir os nomes das features com a ajuda do atributo [`feature_names`](https://scikit-learn.org/stable/modules/generated/sklearn.datasets.load_boston.html#sklearn.datasets.load_boston), podemos ainda realizar a observação do conjunto de valores das variáveis dependentes e independente associados a um determinado índice, por exemplo zero, com as funções [`.data[]`](https://scikit-learn.org/stable/modules/generated/sklearn.datasets.load_boston.html#sklearn.datasets.load_boston) e [`target[]`](https://scikit-learn.org/stable/modules/generated/sklearn.datasets.load_boston.html#sklearn.datasets.load_boston).\n"
   ]
  },
  {
   "cell_type": "code",
   "execution_count": 101,
   "metadata": {},
   "outputs": [
    {
     "name": "stdout",
     "output_type": "stream",
     "text": [
      "['CRIM' 'ZN' 'INDUS' 'CHAS' 'NOX' 'RM' 'AGE' 'DIS' 'RAD' 'TAX' 'PTRATIO'\n",
      " 'B' 'LSTAT']\n"
     ]
    }
   ],
   "source": [
    "print(data.feature_names)\n",
    "#print(data.target)\n",
    "#print(data.data)\n",
    "#print(data.data[0])\n",
    "#print(data.target[0])"
   ]
  },
  {
   "cell_type": "markdown",
   "metadata": {},
   "source": [
    "####  <span style = \"color:red\">Código Original.</span>\n",
    "<!---\n",
    "#print (data.feature_names)\n",
    "#print (data.data[0])\n",
    "print (data.target[0])\n",
    "-->"
   ]
  },
  {
   "cell_type": "markdown",
   "metadata": {},
   "source": [
    "#### Como podem ver, a Scikit-learn já separou o preço das casas do resto das variáveis."
   ]
  },
  {
   "cell_type": "markdown",
   "metadata": {},
   "source": [
    "## 3. Estimando o modelo de regressão linear"
   ]
  },
  {
   "cell_type": "markdown",
   "metadata": {},
   "source": [
    "#### Primeiro, colocamos os dados em um `dataframe` e verificamos se tudo foi carregado corretamente.\n",
    "\n",
    "#### Para isso vamos usar as bibliotecas [`numpy`](https://numpy.org/) e [`pandas`](https://pandas.pydata.org/) para realizarmos o tratamento dos dados. Vamos precisar também aplciar o método  [`DataFrame`](https://pandas.pydata.org/pandas-docs/stable/reference/api/pandas.DataFrame.html) para converter os objetos que recebem os dados `data` e os objetivos `targets` em em `dataframes` homônimos. Para o primeiro vamos observar os parâmetros `columns = data.feature_names` e para o segundo, `columns = [\"MEDV\"]`, para a coluna alvo que queremos determinar."
   ]
  },
  {
   "cell_type": "code",
   "execution_count": 105,
   "metadata": {},
   "outputs": [
    {
     "data": {
      "text/html": [
       "<div>\n",
       "<style scoped>\n",
       "    .dataframe tbody tr th:only-of-type {\n",
       "        vertical-align: middle;\n",
       "    }\n",
       "\n",
       "    .dataframe tbody tr th {\n",
       "        vertical-align: top;\n",
       "    }\n",
       "\n",
       "    .dataframe thead th {\n",
       "        text-align: right;\n",
       "    }\n",
       "</style>\n",
       "<table border=\"1\" class=\"dataframe\">\n",
       "  <thead>\n",
       "    <tr style=\"text-align: right;\">\n",
       "      <th></th>\n",
       "      <th>CRIM</th>\n",
       "      <th>ZN</th>\n",
       "      <th>INDUS</th>\n",
       "      <th>CHAS</th>\n",
       "      <th>NOX</th>\n",
       "      <th>RM</th>\n",
       "      <th>AGE</th>\n",
       "      <th>DIS</th>\n",
       "      <th>RAD</th>\n",
       "      <th>TAX</th>\n",
       "      <th>PTRATIO</th>\n",
       "      <th>B</th>\n",
       "      <th>LSTAT</th>\n",
       "    </tr>\n",
       "  </thead>\n",
       "  <tbody>\n",
       "    <tr>\n",
       "      <th>0</th>\n",
       "      <td>0.00632</td>\n",
       "      <td>18.0</td>\n",
       "      <td>2.31</td>\n",
       "      <td>0.0</td>\n",
       "      <td>0.538</td>\n",
       "      <td>6.575</td>\n",
       "      <td>65.2</td>\n",
       "      <td>4.0900</td>\n",
       "      <td>1.0</td>\n",
       "      <td>296.0</td>\n",
       "      <td>15.3</td>\n",
       "      <td>396.90</td>\n",
       "      <td>4.98</td>\n",
       "    </tr>\n",
       "    <tr>\n",
       "      <th>1</th>\n",
       "      <td>0.02731</td>\n",
       "      <td>0.0</td>\n",
       "      <td>7.07</td>\n",
       "      <td>0.0</td>\n",
       "      <td>0.469</td>\n",
       "      <td>6.421</td>\n",
       "      <td>78.9</td>\n",
       "      <td>4.9671</td>\n",
       "      <td>2.0</td>\n",
       "      <td>242.0</td>\n",
       "      <td>17.8</td>\n",
       "      <td>396.90</td>\n",
       "      <td>9.14</td>\n",
       "    </tr>\n",
       "    <tr>\n",
       "      <th>2</th>\n",
       "      <td>0.02729</td>\n",
       "      <td>0.0</td>\n",
       "      <td>7.07</td>\n",
       "      <td>0.0</td>\n",
       "      <td>0.469</td>\n",
       "      <td>7.185</td>\n",
       "      <td>61.1</td>\n",
       "      <td>4.9671</td>\n",
       "      <td>2.0</td>\n",
       "      <td>242.0</td>\n",
       "      <td>17.8</td>\n",
       "      <td>392.83</td>\n",
       "      <td>4.03</td>\n",
       "    </tr>\n",
       "    <tr>\n",
       "      <th>3</th>\n",
       "      <td>0.03237</td>\n",
       "      <td>0.0</td>\n",
       "      <td>2.18</td>\n",
       "      <td>0.0</td>\n",
       "      <td>0.458</td>\n",
       "      <td>6.998</td>\n",
       "      <td>45.8</td>\n",
       "      <td>6.0622</td>\n",
       "      <td>3.0</td>\n",
       "      <td>222.0</td>\n",
       "      <td>18.7</td>\n",
       "      <td>394.63</td>\n",
       "      <td>2.94</td>\n",
       "    </tr>\n",
       "    <tr>\n",
       "      <th>4</th>\n",
       "      <td>0.06905</td>\n",
       "      <td>0.0</td>\n",
       "      <td>2.18</td>\n",
       "      <td>0.0</td>\n",
       "      <td>0.458</td>\n",
       "      <td>7.147</td>\n",
       "      <td>54.2</td>\n",
       "      <td>6.0622</td>\n",
       "      <td>3.0</td>\n",
       "      <td>222.0</td>\n",
       "      <td>18.7</td>\n",
       "      <td>396.90</td>\n",
       "      <td>5.33</td>\n",
       "    </tr>\n",
       "  </tbody>\n",
       "</table>\n",
       "</div>"
      ],
      "text/plain": [
       "      CRIM    ZN  INDUS  CHAS    NOX     RM   AGE     DIS  RAD    TAX  \\\n",
       "0  0.00632  18.0   2.31   0.0  0.538  6.575  65.2  4.0900  1.0  296.0   \n",
       "1  0.02731   0.0   7.07   0.0  0.469  6.421  78.9  4.9671  2.0  242.0   \n",
       "2  0.02729   0.0   7.07   0.0  0.469  7.185  61.1  4.9671  2.0  242.0   \n",
       "3  0.03237   0.0   2.18   0.0  0.458  6.998  45.8  6.0622  3.0  222.0   \n",
       "4  0.06905   0.0   2.18   0.0  0.458  7.147  54.2  6.0622  3.0  222.0   \n",
       "\n",
       "   PTRATIO       B  LSTAT  \n",
       "0     15.3  396.90   4.98  \n",
       "1     17.8  396.90   9.14  \n",
       "2     17.8  392.83   4.03  \n",
       "3     18.7  394.63   2.94  \n",
       "4     18.7  396.90   5.33  "
      ]
     },
     "execution_count": 105,
     "metadata": {},
     "output_type": "execute_result"
    }
   ],
   "source": [
    "import numpy as np\n",
    "import pandas as pd\n",
    "\n",
    "df = pd.DataFrame(data.data, \n",
    "                  columns = data.feature_names\n",
    "                 )\n",
    "\n",
    "# Colocamos o target (preço das casas -- MEDV) em outro DataFrame\n",
    "targets = pd.DataFrame(data.target, \n",
    "                       columns = [\"MEDV\"]\n",
    "                      )\n",
    "\n",
    "# Vemos as primeiras filas de dados\n",
    "df.head()\n",
    "#targets.head()"
   ]
  },
  {
   "cell_type": "code",
   "execution_count": 61,
   "metadata": {},
   "outputs": [],
   "source": [
    "#df.head()\n",
    "#targets.head()"
   ]
  },
  {
   "cell_type": "markdown",
   "metadata": {},
   "source": [
    "####  <span style = \"color:red\">Código Original.</span>\n",
    "<!---\n",
    "import numpy as np\n",
    "import pandas as pd\n",
    "df = pd.DataFrame(data.data, columns=data.feature_names)\n",
    "\n",
    "# Colocamos o target (preço das casas -- MEDV) em outro DataFrame\n",
    "targets = pd.DataFrame(data.target, columns = [\"MEDV\"])\n",
    "\n",
    "# Vemos as primeiras filas de dados\n",
    "print (df.head())\n",
    "print (targets.head())\n",
    "-->"
   ]
  },
  {
   "cell_type": "markdown",
   "metadata": {},
   "source": [
    "- Identificamos visualmente algumas variáveis que pareçam relacionadas com o preço, RM e LSTAT. \n",
    "\n",
    "- Vamos analisá-las separadamente e, depois, juntas."
   ]
  },
  {
   "cell_type": "markdown",
   "metadata": {},
   "source": [
    "#### Vamos gerar as matrizes `X = df[[\"RM\"]]`  e o target `y = targets[\"MEDV\"]`."
   ]
  },
  {
   "cell_type": "code",
   "execution_count": 106,
   "metadata": {},
   "outputs": [],
   "source": [
    "# Geramos as matrizes e o target\n",
    "X = df[[\"RM\"]]\n",
    "y = targets[\"MEDV\"]"
   ]
  },
  {
   "cell_type": "markdown",
   "metadata": {},
   "source": [
    "####  <span style = \"color:red\">Código Original.</span>\n",
    "<!---\n",
    "# Geramos as matrizes e o target\n",
    "X = df[[\"RM\"]]\n",
    "y = targets[\"MEDV\"]\n",
    "-->"
   ]
  },
  {
   "cell_type": "markdown",
   "metadata": {},
   "source": [
    "#### O próximo passo é instanciar um modelo `lm` com a ajuda da função [`linear_model.LinearRegression()`](https://scikit-learn.org/stable/modules/generated/sklearn.linear_model.LinearRegression.html). \n",
    "\n",
    "#### Depois disso podemos ajustar os pontos com o método [`.fit()`](https://scikit-learn.org/stable/modules/generated/sklearn.linear_model.LinearRegression.html#sklearn.linear_model.LinearRegression.fit) e realizar as previsões com  o método [`.predict()`](https://scikit-learn.org/stable/modules/generated/sklearn.linear_model.LinearRegression.html#sklearn.linear_model.LinearRegression.predict).\n",
    "\n",
    "#### Os métodos [`.intercept_`](https://scikit-learn.org/stable/modules/linear_model.html) e [`.coef_`](https://scikit-learn.org/stable/modules/linear_model.html) nos dão os valores dos coeficientes linear e angular. O método [`.score()`](https://scikit-learn.org/stable/modules/generated/sklearn.linear_model.LinearRegression.html#sklearn.linear_model.LinearRegression.score) retorna o coeficiente de determinação [R^2](https://www.statisticshowto.com/probability-and-statistics/coefficient-of-determination-r-squared/) da previsão."
   ]
  },
  {
   "cell_type": "code",
   "execution_count": 63,
   "metadata": {},
   "outputs": [
    {
     "name": "stdout",
     "output_type": "stream",
     "text": [
      "Intercepto=   -34.67062077643857\n",
      "RM=   [9.10210898]\n",
      "R2_train=   0.48352545599133423\n"
     ]
    }
   ],
   "source": [
    "lm = linear_model.LinearRegression()\n",
    "model = lm.fit(X, y)\n",
    "predictions = lm.predict(X)\n",
    "\n",
    "print ('Intercepto=', ' ', model.intercept_)\n",
    "print ('RM=', ' ', model.coef_)\n",
    "print ('R2_train=', ' ', model.score(X, y))"
   ]
  },
  {
   "cell_type": "markdown",
   "metadata": {},
   "source": [
    "####  <span style = \"color:red\">Código Original.</span>\n",
    "<!---\n",
    "# Instanciamos, Ajustamos, etc.\n",
    "lm = linear_model.LinearRegression()\n",
    "model = lm.fit(X, y)\n",
    "predictions = lm.predict(X)\n",
    "\n",
    "print ('Intercepto=', ' ', model.intercept_)\n",
    "print ('RM=', ' ', model.coef_)\n",
    "print ('R2_train=', ' ', model.score(X, y))\n",
    "-->"
   ]
  },
  {
   "cell_type": "markdown",
   "metadata": {},
   "source": [
    "#### Para tornar o processo mais ágil, vamos criar uma função que resuma os coeficientes, o interceptor e o $R^{2}$, ela terá como argumentos as quantidades `\"model\"` um objeto com o modelo e `\"X\"`, uma matriz de variáveis independentes."
   ]
  },
  {
   "cell_type": "code",
   "execution_count": 65,
   "metadata": {},
   "outputs": [],
   "source": [
    "def sum_mod(model, X):\n",
    "    a = pd.DataFrame(model.coef_ , \n",
    "                     X.columns.values\n",
    "                    )\n",
    "    \n",
    "    a = a.append(pd.DataFrame([model.intercept_,\n",
    "                               model.score(X, y)], \n",
    "                              index = ['Intecept',\n",
    "                                       'R2'\n",
    "                                      ]\n",
    "                             )\n",
    "                )\n",
    "    print(a)\n",
    "    return(a)"
   ]
  },
  {
   "cell_type": "markdown",
   "metadata": {},
   "source": [
    "####  <span style = \"color:red\">Código Original.</span>\n",
    "<!---\n",
    "def sum_mod(model, X):\n",
    "    a = pd.DataFrame(model.coef_ , \n",
    "                     X.columns.values\n",
    "                    )\n",
    "    \n",
    "    a = a.append(pd.DataFrame([model.intercept_, \n",
    "                               model.score(X, y)], \n",
    "                              index = ['Intecept',\n",
    "                                       'R2'\n",
    "                                      ]\n",
    "                             )\n",
    "                )\n",
    "    return(a)\n",
    "-->"
   ]
  },
  {
   "cell_type": "markdown",
   "metadata": {},
   "source": [
    "#### Podemos representar graficamente os atributos do objeto `X` , em função do alvo no objeto `y` com o método [`.scatter()`](https://matplotlib.org/api/_as_gen/matplotlib.pyplot.scatter.html), observe os parâmetros `s = 30,` `c = 'r'`, `marker = '+'`, `zorder = 10`. Você pode também explorar os atributos `.xlabel()`, `.ylabel()` e `.show()`."
   ]
  },
  {
   "cell_type": "code",
   "execution_count": 66,
   "metadata": {},
   "outputs": [
    {
     "data": {
      "image/png": "[encoded data removed]",
      "text/plain": [
       "<Figure size 432x288 with 1 Axes>"
      ]
     },
     "metadata": {
      "needs_background": "light"
     },
     "output_type": "display_data"
    }
   ],
   "source": [
    "plt.scatter(X, \n",
    "            y, \n",
    "            s = 30, \n",
    "            c = 'r', \n",
    "            marker = '+', \n",
    "            zorder = 10\n",
    "           )\n",
    "plt.xlabel(\"RM\")\n",
    "plt.ylabel(\"Valores reais MEDV\")\n",
    "plt.show()"
   ]
  },
  {
   "cell_type": "markdown",
   "metadata": {},
   "source": [
    "####  <span style = \"color:red\">Código Original.</span>\n",
    "<!---\n",
    "# Representamos graficamente a variável X contra a variável Y\n",
    "plt.scatter(X, y, s=30, c='r', marker='+', zorder=10)\n",
    "plt.xlabel(\"RM\")\n",
    "plt.ylabel(\"Valores reais MEDV\")\n",
    "plt.show()\n",
    "-->"
   ]
  },
  {
   "cell_type": "markdown",
   "metadata": {},
   "source": [
    "#### O mesmo pode ser representado para as predições `predictions`, aqui podemos plotar também uma linha (y, y) para ter uma ideia de escala e disposição dos ponteos."
   ]
  },
  {
   "cell_type": "code",
   "execution_count": 67,
   "metadata": {},
   "outputs": [
    {
     "data": {
      "image/png": "[encoded data removed]",
      "text/plain": [
       "<Figure size 432x288 with 1 Axes>"
      ]
     },
     "metadata": {
      "needs_background": "light"
     },
     "output_type": "display_data"
    }
   ],
   "source": [
    "plt.plot(y, \n",
    "         y, \n",
    "         '-.', \n",
    "         c = 'grey'\n",
    "        )\n",
    "\n",
    "plt.scatter(predictions, \n",
    "            y, \n",
    "            s = 30, \n",
    "            c = 'r', \n",
    "            marker = '+', \n",
    "            zorder = 10\n",
    "           )\n",
    "plt.xlabel(\"Previsões de MEDV usando RM\")\n",
    "plt.ylabel(\"Valores reais MEDV\")\n",
    "plt.show()"
   ]
  },
  {
   "cell_type": "markdown",
   "metadata": {},
   "source": [
    "####  <span style = \"color:red\">Código Original.</span>\n",
    "<!---\n",
    "plt.plot(y, \n",
    "         y, \n",
    "         '-.', \n",
    "         c = 'grey'\n",
    "        )\n",
    "\n",
    "plt.scatter(predictions, \n",
    "            y, \n",
    "            s = 30, \n",
    "            c = 'r', \n",
    "            marker = '+', \n",
    "            zorder = 10\n",
    "           )\n",
    "plt.xlabel(\"Previsões de MEDV usando RM\")\n",
    "plt.ylabel(\"Valores reais MEDV\")\n",
    "plt.show()\n",
    "-->"
   ]
  },
  {
   "cell_type": "markdown",
   "metadata": {},
   "source": [
    "#### Podemos calcular o erro de nosso ajuste com o auxílio da função [`.mean_squared_error()`](https://scikit-learn.org/stable/modules/generated/sklearn.metrics.mean_squared_error.html) e então chamar a função que definimos `.sum_mod()` para calcular os coeficientes de ajuste e o grau de acurácia $R^{2}$."
   ]
  },
  {
   "cell_type": "code",
   "execution_count": 68,
   "metadata": {},
   "outputs": [
    {
     "name": "stdout",
     "output_type": "stream",
     "text": [
      "EMC: 43.60055177116956\n",
      "                  0\n",
      "RM         9.102109\n",
      "Intecept -34.670621\n",
      "R2         0.483525\n"
     ]
    },
    {
     "data": {
      "text/html": [
       "<div>\n",
       "<style scoped>\n",
       "    .dataframe tbody tr th:only-of-type {\n",
       "        vertical-align: middle;\n",
       "    }\n",
       "\n",
       "    .dataframe tbody tr th {\n",
       "        vertical-align: top;\n",
       "    }\n",
       "\n",
       "    .dataframe thead th {\n",
       "        text-align: right;\n",
       "    }\n",
       "</style>\n",
       "<table border=\"1\" class=\"dataframe\">\n",
       "  <thead>\n",
       "    <tr style=\"text-align: right;\">\n",
       "      <th></th>\n",
       "      <th>0</th>\n",
       "    </tr>\n",
       "  </thead>\n",
       "  <tbody>\n",
       "    <tr>\n",
       "      <th>RM</th>\n",
       "      <td>9.102109</td>\n",
       "    </tr>\n",
       "    <tr>\n",
       "      <th>Intecept</th>\n",
       "      <td>-34.670621</td>\n",
       "    </tr>\n",
       "    <tr>\n",
       "      <th>R2</th>\n",
       "      <td>0.483525</td>\n",
       "    </tr>\n",
       "  </tbody>\n",
       "</table>\n",
       "</div>"
      ],
      "text/plain": [
       "                  0\n",
       "RM         9.102109\n",
       "Intecept -34.670621\n",
       "R2         0.483525"
      ]
     },
     "execution_count": 68,
     "metadata": {},
     "output_type": "execute_result"
    }
   ],
   "source": [
    "print (\"EMC:\", mean_squared_error(y, predictions)) # erro quadrático médio\n",
    "sum_mod(model, X)"
   ]
  },
  {
   "cell_type": "markdown",
   "metadata": {},
   "source": [
    "####  <span style = \"color:red\">Código Original.</span>\n",
    "<!---\n",
    "print (\"EMC:\", mean_squared_error(y, predictions)) # erro quadrático médio\n",
    "sum_mod(model, X)\n",
    "-->"
   ]
  },
  {
   "cell_type": "markdown",
   "metadata": {},
   "source": [
    "- O que podem dizer ao comparar os dois gráficos? Como interpretam o último gráfico ? O que ele diz sobre o modelo? O que podem dizer sobre a relação entre RM e MEDV?\n",
    "\n",
    "- O que podem dizer ao comparar este modelo com o anterior? "
   ]
  },
  {
   "cell_type": "markdown",
   "metadata": {},
   "source": [
    "#### A seguir vamos plotar nossa predição `predictions` em comparação com os valores reais `y`, mas agora considerando os atributos `'LSTAT'` e `'MEDV'`. \n",
    "\n",
    "#### Vamos instanciar um modelo de regressão `lm` \n",
    "linear_model.LinearRegression\n",
    "[`LinearRegression()`](https://scikit-learn.org/stable/modules/generated/sklearn.linear_model.LinearRegression.html), da biblioteca [`sklearn.linear_model`](https://scikit-learn.org/stable/modules/classes.html#module-sklearn.linear_model).\n",
    "\n",
    "#### Arranjos de atributos e targets devem ser criados para que o modelo possa ser submetido ao ajuste `.fit()` e à previsão `.predict()` dos rótulos.\n",
    "\n",
    "#### Por fim as funções `plot()` e `.scatter()` são usadas para a impressão do gráfico. Vamos também imprimir o erro quadrático médio `mean_squared_error()` entre as previões e as observações."
   ]
  },
  {
   "cell_type": "code",
   "execution_count": 69,
   "metadata": {},
   "outputs": [
    {
     "data": {
      "image/png": "[encoded data removed]",
      "text/plain": [
       "<Figure size 432x288 with 1 Axes>"
      ]
     },
     "metadata": {
      "needs_background": "light"
     },
     "output_type": "display_data"
    },
    {
     "name": "stdout",
     "output_type": "stream",
     "text": [
      "EMC: 38.48296722989414\n",
      "                  0\n",
      "LSTAT     -0.950049\n",
      "Intecept  34.553841\n",
      "R2         0.544146\n"
     ]
    }
   ],
   "source": [
    "lm = linear_model.LinearRegression()\n",
    "\n",
    "X = df[[\"LSTAT\"]]\n",
    "y = targets[\"MEDV\"]\n",
    "\n",
    "model = lm.fit(X, y)\n",
    "predictions = lm.predict(X)\n",
    "\n",
    "# Representamos graficamente o modelo\n",
    "plt.plot(y, \n",
    "         y, \n",
    "         '--', \n",
    "         c = 'grey'\n",
    "        )\n",
    "plt.scatter(predictions, \n",
    "            y, \n",
    "            s = 30, \n",
    "            c = 'r', \n",
    "            marker = '+', \n",
    "            zorder = 10\n",
    "           )\n",
    "plt.xlabel(\"Previsões de MEDV usando LSTAT\")\n",
    "plt.ylabel(\"Valores reais MEDV\")\n",
    "plt.show()\n",
    "print (\"EMC:\", mean_squared_error(y, predictions))\n",
    "sum_mod(model, X)\n",
    "prevMSE = mean_squared_error(y, predictions)"
   ]
  },
  {
   "cell_type": "markdown",
   "metadata": {},
   "source": [
    "####  <span style = \"color:red\">Código Original.</span>\n",
    "<!---\n",
    "lm = linear_model.LinearRegression()\n",
    "\n",
    "X = df[[\"LSTAT\"]]\n",
    "y = targets[\"MEDV\"]\n",
    "\n",
    "model = lm.fit(X, y)\n",
    "predictions = lm.predict(X)\n",
    "\n",
    "# Representamos graficamente o modelo\n",
    "plt.plot(y, \n",
    "         y, \n",
    "         '--', \n",
    "         c = 'grey'\n",
    "        )\n",
    "plt.scatter(predictions, \n",
    "            y, \n",
    "            s = 30, \n",
    "            c = 'r', \n",
    "            marker = '+', \n",
    "            zorder = 10\n",
    "           )\n",
    "plt.xlabel(\"Previsões de MEDV usando LSTAT\")\n",
    "plt.ylabel(\"Valores reais MEDV\")\n",
    "plt.show()\n",
    "print (\"EMC:\", mean_squared_error(y, predictions))\n",
    "sum_mod(model, X)\n",
    "-->"
   ]
  },
  {
   "cell_type": "markdown",
   "metadata": {},
   "source": [
    "- O que pode ser dito sobre o a relação (\"LSTAT\", \"MEDV\")."
   ]
  },
  {
   "cell_type": "markdown",
   "metadata": {},
   "source": [
    "#### Avaliamos as influências dos atributos  `'RM'` e `'LSTAT'` sobre o valor médio das casas ocupadas pelos próprios donos `'MEDV'` separadamente, vamos agora gerar um modelo que tome as duas variáveis ao mesmo tempo.\n",
    "\n",
    "#### Repetimos o processo de instanciamento de um modelo, separamos o `dataset` original em atributos e `target`, ajustamos os pontos e realizamos as previsões.\n",
    "\n",
    "#### Quando plotarmos as previsões de `'MEDV'` usando `'RM'` e `'LSTAT'` e calcularmos o erro quadrático médio (EQM), poderemos comparar os três modelos e discutir aquele que melhor ajusta os pontos. "
   ]
  },
  {
   "cell_type": "markdown",
   "metadata": {},
   "source": [
    "####  <span style = \"color:red\">Código Original.</span>\n",
    "<!---\n",
    "lm = linear_model.LinearRegression()\n",
    "\n",
    "X = df[[\"RM\", \"LSTAT\"]]\n",
    "y = targets[\"MEDV\"]\n",
    "\n",
    "model = lm.fit(X, y)\n",
    "predictions = model.predict(X)\n",
    "\n",
    "# Plot the model\n",
    "plt.plot(y,\n",
    "        y, \n",
    "        '-.',\n",
    "        c = 'grey'\n",
    "        )\n",
    "plt.scatter(predictions, \n",
    "            y, \n",
    "            s = 30 , \n",
    "            c = 'r', \n",
    "            marker = '+', \n",
    "            zorder = 10\n",
    "           )\n",
    "plt.xlabel(\"Previsões de MEDV usando RM e LSTAT\")\n",
    "plt.ylabel(\"Valores reais MEDV\")\n",
    "plt.show()\n",
    "print (\"EMC:\", mean_squared_error(y, predictions))\n",
    "prevMSE = mean_squared_error(y, predictions)\n",
    "-->"
   ]
  },
  {
   "cell_type": "markdown",
   "metadata": {},
   "source": [
    "## Comparando os modelos\n",
    "\n",
    "#### Um modelo perfeito pareceria uma linha reta a 45 graus como a que vemos em cinza."
   ]
  },
  {
   "cell_type": "markdown",
   "metadata": {},
   "source": [
    "### Exercício\n",
    "\n",
    "#### Construa um modelo que leve em conta todos os atributos, investigue a dispersão `(predictions, y)`."
   ]
  },
  {
   "cell_type": "code",
   "execution_count": 70,
   "metadata": {},
   "outputs": [
    {
     "data": {
      "text/plain": [
       "array(['CRIM', 'ZN', 'INDUS', 'CHAS', 'NOX', 'RM', 'AGE', 'DIS', 'RAD',\n",
       "       'TAX', 'PTRATIO', 'B', 'LSTAT'], dtype=object)"
      ]
     },
     "execution_count": 70,
     "metadata": {},
     "output_type": "execute_result"
    }
   ],
   "source": [
    "df.columns.values"
   ]
  },
  {
   "cell_type": "code",
   "execution_count": 71,
   "metadata": {},
   "outputs": [
    {
     "data": {
      "image/png": "[encoded data removed]",
      "text/plain": [
       "<Figure size 432x288 with 1 Axes>"
      ]
     },
     "metadata": {
      "needs_background": "light"
     },
     "output_type": "display_data"
    },
    {
     "name": "stdout",
     "output_type": "stream",
     "text": [
      "EMC: 21.894831181729202\n",
      "Melhoria:  True\n",
      "                  0\n",
      "CRIM      -0.108011\n",
      "ZN         0.046420\n",
      "INDUS      0.020559\n",
      "CHAS       2.686734\n",
      "NOX      -17.766611\n",
      "RM         3.809865\n",
      "AGE        0.000692\n",
      "DIS       -1.475567\n",
      "RAD        0.306049\n",
      "TAX       -0.012335\n",
      "PTRATIO   -0.952747\n",
      "B          0.009312\n",
      "LSTAT     -0.524758\n",
      "Intecept  36.459488\n",
      "R2         0.740643\n",
      "                  0\n",
      "CRIM      -0.108011\n",
      "ZN         0.046420\n",
      "INDUS      0.020559\n",
      "CHAS       2.686734\n",
      "NOX      -17.766611\n",
      "RM         3.809865\n",
      "AGE        0.000692\n",
      "DIS       -1.475567\n",
      "RAD        0.306049\n",
      "TAX       -0.012335\n",
      "PTRATIO   -0.952747\n",
      "B          0.009312\n",
      "LSTAT     -0.524758\n",
      "Intecept  36.459488\n",
      "R2         0.740643\n"
     ]
    }
   ],
   "source": [
    "lm = linear_model.LinearRegression()\n",
    "\n",
    "#X = df[['CRIM','ZN','INDUS','CHAS','NOX','RM','AGE','DIS','RAD','TAX','PTRATIO','B','LSTAT']]\n",
    "X = df[list(df.columns.values)]\n",
    "#X = df[['RM', 'LSTAT']]\n",
    "\n",
    "y = targets['MEDV']\n",
    "\n",
    "model = lm.fit(X, y)\n",
    "predictions = model.predict(X)\n",
    "\n",
    "plt.plot(y, \n",
    "         y, \n",
    "         '-.', \n",
    "         c = 'grey'\n",
    "        )\n",
    "plt.scatter(predictions, \n",
    "            y, \n",
    "            s = 30, \n",
    "            c = 'r', \n",
    "            marker = '+', \n",
    "            zorder = 10\n",
    "           )\n",
    "plt.xlabel(\"Previsões de MEDV usando todas as variáveis\")\n",
    "plt.ylabel(\"Valores reais MEDV\")\n",
    "plt.show()\n",
    "print (\"EMC:\", mean_squared_error(y, predictions))\n",
    "print (\"Melhoria: \", mean_squared_error(y, predictions) < prevMSE)\n",
    "\n",
    "print (sum_mod(model, X))"
   ]
  },
  {
   "cell_type": "markdown",
   "metadata": {},
   "source": [
    "####  <span style = \"color:red\">Código Original.</span>\n",
    "<!---\n",
    "-->"
   ]
  },
  {
   "cell_type": "markdown",
   "metadata": {},
   "source": [
    "## Introdução a Statsmodels"
   ]
  },
  {
   "cell_type": "markdown",
   "metadata": {},
   "source": [
    "#### Agora vejamos como usar a biblioteca [`statsmodels.api`](https://www.statsmodels.org/stable/index.html), também popular para realizar regressões. O statsmodel é um módulo Python que oferece diversas classes e funções para a estimação de modelos estatísticos.\n",
    "\n",
    "\n",
    "#### A diferença aqui ocorre quando vamos ajustar o modelo, isso deve ser feito juntamente com a função  [`statsmodels.api.OLS`](https://www.statsmodels.org/devel/generated/statsmodels.regression.linear_model.OLS.html), que usa o método [Ordinary Least Squares](https://en.wikipedia.org/wiki/Ordinary_least_squares), uma forma de escolher o melhor modelo através dos parâmetros que geram os mínimos quadrados ([Least squares](https://en.wikipedia.org/wiki/Least_squares)).\n",
    "\n",
    "#### As demais funções que vimos até o momento permanecem na construção:\n",
    "\n",
    "- `.fit()`; \n",
    "- `.predict()`;\n",
    "- `.plot()`;\n",
    "- `.scatter()`;\n",
    "- `mean_squared_error`."
   ]
  },
  {
   "cell_type": "code",
   "execution_count": 75,
   "metadata": {},
   "outputs": [
    {
     "data": {
      "image/png": "[encoded data removed]",
      "text/plain": [
       "<Figure size 432x288 with 1 Axes>"
      ]
     },
     "metadata": {
      "needs_background": "light"
     },
     "output_type": "display_data"
    },
    {
     "name": "stdout",
     "output_type": "stream",
     "text": [
      "EMC: 58.41063543210173\n",
      "                                 OLS Regression Results                                \n",
      "=======================================================================================\n",
      "Dep. Variable:                   MEDV   R-squared (uncentered):                   0.901\n",
      "Model:                            OLS   Adj. R-squared (uncentered):              0.901\n",
      "Method:                 Least Squares   F-statistic:                              4615.\n",
      "Date:                Mon, 01 Feb 2021   Prob (F-statistic):                   3.74e-256\n",
      "Time:                        18:41:16   Log-Likelihood:                         -1747.1\n",
      "No. Observations:                 506   AIC:                                      3496.\n",
      "Df Residuals:                     505   BIC:                                      3500.\n",
      "Df Model:                           1                                                  \n",
      "Covariance Type:            nonrobust                                                  \n",
      "==============================================================================\n",
      "                 coef    std err          t      P>|t|      [0.025      0.975]\n",
      "------------------------------------------------------------------------------\n",
      "RM             3.6534      0.054     67.930      0.000       3.548       3.759\n",
      "==============================================================================\n",
      "Omnibus:                       83.295   Durbin-Watson:                   0.493\n",
      "Prob(Omnibus):                  0.000   Jarque-Bera (JB):              152.507\n",
      "Skew:                           0.955   Prob(JB):                     7.65e-34\n",
      "Kurtosis:                       4.894   Cond. No.                         1.00\n",
      "==============================================================================\n",
      "\n",
      "Warnings:\n",
      "[1] Standard Errors assume that the covariance matrix of the errors is correctly specified.\n"
     ]
    }
   ],
   "source": [
    "import statsmodels.api as sm\n",
    "\n",
    "X = df[[\"RM\"]]\n",
    "y = targets[[\"MEDV\"]]\n",
    "\n",
    "# Notar a diferença na ordem de X e y neste caso\n",
    "model = sm.OLS(y, X).fit()\n",
    "predictions = model.predict(X)\n",
    "\n",
    "# Representamos graficamente os resultados\n",
    "plt.plot(y, \n",
    "         y, \n",
    "         '-.', \n",
    "         c = 'grey'\n",
    "        )\n",
    "plt.scatter(predictions, y, s=30, c='r', marker='+', zorder=10)\n",
    "plt.xlabel(\"Previsões usando RM\")\n",
    "plt.ylabel(\"Valores reais MEDV\")\n",
    "plt.show()\n",
    "\n",
    "# Imprimimos o MSE e um resumo do modelo\n",
    "print (\"EMC:\", mean_squared_error(y, predictions))\n",
    "print (model.summary())"
   ]
  },
  {
   "cell_type": "markdown",
   "metadata": {},
   "source": [
    "###  <span style = \"color:red\">Código Original.</span>\n",
    "<!---\n",
    "import statsmodels.api as sm\n",
    "\n",
    "X = df[[\"RM\"]]\n",
    "y = targets[[\"MEDV\"]]\n",
    "\n",
    "# Notar a diferença na ordem de X e y neste caso\n",
    "model = sm.OLS(y, X).fit()\n",
    "predictions = model.predict(X)\n",
    "\n",
    "# Representamos graficamente os resultados\n",
    "plt.plot(y, \n",
    "         y, \n",
    "         '-.', \n",
    "         c = 'grey'\n",
    "        )\n",
    "plt.scatter(predictions, y, s=30, c='r', marker='+', zorder=10)\n",
    "plt.xlabel(\"Previsões usando RM\")\n",
    "plt.ylabel(\"Valores reais MEDV\")\n",
    "plt.show()\n",
    "\n",
    "# Imprimimos o MSE e um resumo do modelo\n",
    "print (\"EMC:\", mean_squared_error(y, predictions))\n",
    "print (model.summary())\n",
    "-->"
   ]
  },
  {
   "cell_type": "markdown",
   "metadata": {},
   "source": [
    "#### Vamos redefinir o objeto `X` em `statsmodels` com a expressão  `X = sm.add_constant(X) `.\n",
    "\n",
    "#### A função [`statsmodels.tools.tools.add_constant()`](https://www.statsmodels.org/stable/generated/statsmodels.tools.tools.add_constant.html) acresenta uma coluna de uns ao arranjo pois o coeficiente linear `interecept` não está incluído por padrão no `statsmodels` e deve ser adicionado pelo usuário."
   ]
  },
  {
   "cell_type": "code",
   "execution_count": 76,
   "metadata": {},
   "outputs": [
    {
     "data": {
      "image/png": "[encoded data removed]",
      "text/plain": [
       "<Figure size 432x288 with 1 Axes>"
      ]
     },
     "metadata": {
      "needs_background": "light"
     },
     "output_type": "display_data"
    },
    {
     "name": "stdout",
     "output_type": "stream",
     "text": [
      "EMC: 43.60055177116956\n",
      "                            OLS Regression Results                            \n",
      "==============================================================================\n",
      "Dep. Variable:                   MEDV   R-squared:                       0.484\n",
      "Model:                            OLS   Adj. R-squared:                  0.483\n",
      "Method:                 Least Squares   F-statistic:                     471.8\n",
      "Date:                Mon, 01 Feb 2021   Prob (F-statistic):           2.49e-74\n",
      "Time:                        18:41:34   Log-Likelihood:                -1673.1\n",
      "No. Observations:                 506   AIC:                             3350.\n",
      "Df Residuals:                     504   BIC:                             3359.\n",
      "Df Model:                           1                                         \n",
      "Covariance Type:            nonrobust                                         \n",
      "==============================================================================\n",
      "                 coef    std err          t      P>|t|      [0.025      0.975]\n",
      "------------------------------------------------------------------------------\n",
      "const        -34.6706      2.650    -13.084      0.000     -39.877     -29.465\n",
      "RM             9.1021      0.419     21.722      0.000       8.279       9.925\n",
      "==============================================================================\n",
      "Omnibus:                      102.585   Durbin-Watson:                   0.684\n",
      "Prob(Omnibus):                  0.000   Jarque-Bera (JB):              612.449\n",
      "Skew:                           0.726   Prob(JB):                    1.02e-133\n",
      "Kurtosis:                       8.190   Cond. No.                         58.4\n",
      "==============================================================================\n",
      "\n",
      "Warnings:\n",
      "[1] Standard Errors assume that the covariance matrix of the errors is correctly specified.\n"
     ]
    }
   ],
   "source": [
    "X = sm.add_constant(X)\n",
    "\n",
    "model = sm.OLS(y, X).fit()\n",
    "predictions = model.predict(X)\n",
    "\n",
    "# Representamos graficamente os resultados\n",
    "plt.plot(y, \n",
    "         y, \n",
    "         '-.', \n",
    "         c = 'grey'\n",
    "        )\n",
    "plt.scatter(predictions, \n",
    "            y, \n",
    "            s = 30, \n",
    "            c = 'r', \n",
    "            marker = '+', \n",
    "            zorder = 10\n",
    "           )\n",
    "plt.xlabel(\"Previsões usando RM\")\n",
    "plt.ylabel(\"Valores reais MEDV\")\n",
    "plt.show()\n",
    "\n",
    "# Imprimimos o MSE e um resumo do modelo\n",
    "print (\"EMC:\", mean_squared_error(y, predictions))\n",
    "print (model.summary())"
   ]
  },
  {
   "cell_type": "markdown",
   "metadata": {},
   "source": [
    "###  <span style = \"color:red\">Código Original.</span>\n",
    "<!---\n",
    "X = sm.add_constant(X)\n",
    "\n",
    "model = sm.OLS(y, X).fit()\n",
    "predictions = model.predict(X)\n",
    "\n",
    "# Representamos graficamente os resultados\n",
    "plt.plot(y, \n",
    "         y, \n",
    "         '-.', \n",
    "         c = 'grey'\n",
    "        )\n",
    "plt.scatter(predictions, \n",
    "            y, \n",
    "            s = 30, \n",
    "            c = 'r', \n",
    "            marker = '+', \n",
    "            zorder = 10\n",
    "           )\n",
    "plt.xlabel(\"Previsões usando RM\")\n",
    "plt.ylabel(\"Valores reais MEDV\")\n",
    "plt.show()\n",
    "\n",
    "# Imprimimos o MSE e um resumo do modelo\n",
    "print (\"EMC:\", mean_squared_error(y, predictions))\n",
    "print (model.summary())\n",
    "-->"
   ]
  },
  {
   "cell_type": "markdown",
   "metadata": {},
   "source": [
    "#### Para terminar, vamos usar todas os atributos como preditores para realizar a previsão do nosso target."
   ]
  },
  {
   "cell_type": "code",
   "execution_count": 78,
   "metadata": {},
   "outputs": [
    {
     "data": {
      "image/png": "[encoded data removed]",
      "text/plain": [
       "<Figure size 432x288 with 1 Axes>"
      ]
     },
     "metadata": {
      "needs_background": "light"
     },
     "output_type": "display_data"
    },
    {
     "name": "stdout",
     "output_type": "stream",
     "text": [
      "EMC: 24.166099330126492\n",
      "                                 OLS Regression Results                                \n",
      "=======================================================================================\n",
      "Dep. Variable:                   MEDV   R-squared (uncentered):                   0.959\n",
      "Model:                            OLS   Adj. R-squared (uncentered):              0.958\n",
      "Method:                 Least Squares   F-statistic:                              891.3\n",
      "Date:                Mon, 01 Feb 2021   Prob (F-statistic):                        0.00\n",
      "Time:                        18:42:05   Log-Likelihood:                         -1523.8\n",
      "No. Observations:                 506   AIC:                                      3074.\n",
      "Df Residuals:                     493   BIC:                                      3128.\n",
      "Df Model:                          13                                                  \n",
      "Covariance Type:            nonrobust                                                  \n",
      "==============================================================================\n",
      "                 coef    std err          t      P>|t|      [0.025      0.975]\n",
      "------------------------------------------------------------------------------\n",
      "CRIM          -0.0929      0.034     -2.699      0.007      -0.161      -0.025\n",
      "ZN             0.0487      0.014      3.382      0.001       0.020       0.077\n",
      "INDUS         -0.0041      0.064     -0.063      0.950      -0.131       0.123\n",
      "CHAS           2.8540      0.904      3.157      0.002       1.078       4.630\n",
      "NOX           -2.8684      3.359     -0.854      0.394      -9.468       3.731\n",
      "RM             5.9281      0.309     19.178      0.000       5.321       6.535\n",
      "AGE           -0.0073      0.014     -0.526      0.599      -0.034       0.020\n",
      "DIS           -0.9685      0.196     -4.951      0.000      -1.353      -0.584\n",
      "RAD            0.1712      0.067      2.564      0.011       0.040       0.302\n",
      "TAX           -0.0094      0.004     -2.395      0.017      -0.017      -0.002\n",
      "PTRATIO       -0.3922      0.110     -3.570      0.000      -0.608      -0.176\n",
      "B              0.0149      0.003      5.528      0.000       0.010       0.020\n",
      "LSTAT         -0.4163      0.051     -8.197      0.000      -0.516      -0.317\n",
      "==============================================================================\n",
      "Omnibus:                      204.082   Durbin-Watson:                   0.999\n",
      "Prob(Omnibus):                  0.000   Jarque-Bera (JB):             1374.225\n",
      "Skew:                           1.609   Prob(JB):                    3.90e-299\n",
      "Kurtosis:                      10.404   Cond. No.                     8.50e+03\n",
      "==============================================================================\n",
      "\n",
      "Warnings:\n",
      "[1] Standard Errors assume that the covariance matrix of the errors is correctly specified.\n",
      "[2] The condition number is large, 8.5e+03. This might indicate that there are\n",
      "strong multicollinearity or other numerical problems.\n"
     ]
    }
   ],
   "source": [
    "X = sm.add_constant(X)\n",
    "X = df[list(df.columns.values)]\n",
    "model = sm.OLS(y, X).fit()\n",
    "predictions = model.predict(X)\n",
    "\n",
    "# Representamos graficamente os resultados\n",
    "plt.plot(y, \n",
    "         y, \n",
    "         '-.', \n",
    "         c = 'grey'\n",
    "        )\n",
    "plt.scatter(predictions, \n",
    "            y, \n",
    "            s = 30, \n",
    "            c = 'r', \n",
    "            marker = '+', \n",
    "            zorder = 10\n",
    "           )\n",
    "plt.xlabel(\"Previsões usando RM\")\n",
    "plt.ylabel(\"Valores reais MEDV\")\n",
    "plt.show()\n",
    "\n",
    "# Imprimimos o MSE e um resumo do modelo\n",
    "print (\"EMC:\", mean_squared_error(y, predictions))\n",
    "print (model.summary())"
   ]
  },
  {
   "cell_type": "markdown",
   "metadata": {},
   "source": [
    "###  <span style = \"color:red\">Código Original.</span>\n",
    "<!---\n",
    "X = sm.add_constant(X)\n",
    "X = df[list(df.columns.values)]\n",
    "model = sm.OLS(y, X).fit()\n",
    "predictions = model.predict(X)\n",
    "\n",
    "# Representamos graficamente os resultados\n",
    "plt.plot(y, \n",
    "         y, \n",
    "         '-.', \n",
    "         c = 'grey'\n",
    "        )\n",
    "plt.scatter(predictions, \n",
    "            y, \n",
    "            s = 30, \n",
    "            c = 'r', \n",
    "            marker = '+', \n",
    "            zorder = 10\n",
    "           )\n",
    "plt.xlabel(\"Previsões usando RM\")\n",
    "plt.ylabel(\"Valores reais MEDV\")\n",
    "plt.show()\n",
    "\n",
    "# Imprimimos o MSE e um resumo do modelo\n",
    "print (\"EMC:\", mean_squared_error(y, predictions))\n",
    "print (model.summary())\n",
    "-->"
   ]
  },
  {
   "cell_type": "markdown",
   "metadata": {},
   "source": [
    "#### O método [`.summary()`](https://www.statsmodels.org/dev/examples/notebooks/generated/ols.html) é muito poderoso para descrever o ajuste do modelo aos dados, tanto que torna o `statomodel` uma biblioteca preferível para esse ponto. Vamos a seguir discutir alguns dos principais pontos do sumário apresentado pelo método acima.\n",
    "\n",
    "- [Hipótese nula](https://www.statisticshowto.com/probability-and-statistics/null-hypothesis/) $H_{0}$: Não há relação entre as variáveis preditoras e a variável target: \n",
    "    ($y_{H_{0}} = a_{0}$)\n",
    "- [Hipótese alternativa](https://www.statisticshowto.com/what-is-an-alternate-hypothesis/) $H_{1}$: Há relação entre as variáveis preditoras e a variável target: \n",
    "    ($y_{H_{1}} = a_{0} + b_{1}x_{1} + ... + b_{n}x_{n}$).\n",
    "\n",
    "    1. <b>R-square</b>: Proporsão de variância da variável dependente predita pelas variáveis independentes, fit perfeito (= 1), \n",
    "\n",
    "    2. <b>Adj. R-squared</b>: Penaliza modelos com atributos desnecessários. Valores R-square = Adj. R-squared indicam que não há atributos desnecessários no modelo.\n",
    "\n",
    "    3. <b>F-statistic </b>: Avalia a significância do modelo de modo geral, Em regs. múltiplas ele compara o modelo sem preditores ($y_{H_{0}}$) com o modelo especificado ($y_{H_{1}}$) diz que os modelos são iguais, $H_{1}$ diz que $y_{H_{0}}$ é pior. Valores altos indicam rejeição de $H_{0}$.\n",
    "\n",
    "    4. <b>Prob (F-statistic) </b>: Probabilidade de obter resultados de testes pelo menos tão extremos quanto os resultados realmente observados, assumindo que a hipótese nula esteja correta. Valores baixos ($p-value < 0.05$) indicam rejeição de $H_{0}$. \n",
    "    \n",
    "    5. <b> Log_likelihood </b>: testa a semelhança dos estimadores com os coeficientes reais através da comparação entre o modelo com os coeficientes calculados e um modelo com o Beta igual a zero. Para que o modelo se demontre semelhante, devemos ter um resultado negativo. Para mais informações acesse [Likelihood Ratio Test for Linear Regression](https://math.stackexchange.com/questions/123750/likelihood-ratio-test-for-linear-regression). \n",
    "    \n",
    "    6. <b>AIC</b>: teste de AKAIKE para verificar a divergência entre o modelo ajustado e o modelo \"real\". Quanto menor for seu valor, melhor é o ajuste matemático para minimização dos erros quadráticos. Para um bom ajuste, o resultado deve ser um número bem próximo a zero. Para mais informações [Critérios para seleção de modelos baseados na razão de verossimilhança](http://arquivo.ufv.br/dbg/resumos2008b/Resumo%20Claudomiro.htm)\n",
    "\n",
    "    7. <b>BIC</b>: Critério de informação Bayesiano onde o critério é definido como a estatística que maximiza a probabilidade de se identificar o verdadeiro modelo dentre os estimadores avaliados. Quanto menor for seu valor, melhor é o ajuste matemático para minimização dos erros quadráticos. Para mais informações [Critérios para seleção de modelos baseados na razão de verossimilhança](http://arquivo.ufv.br/dbg/resumos2008b/Resumo%20Claudomiro.htm). \n",
    "    \n",
    "    8. <b>t</b> : Teste (t-test) para inferir se um determinado atributo é significante ou relevante para um determinado target. Considera a relação entre um determinado atributo e o target, sem levar em conta as influências dos demais atributos. Um atributo por vez. Valores altos indicam rejeição de $H_{0}$.\n",
    "    \n",
    "    9. <b>P>|t|</b>: P-value associado ao respectivo t (t-test). Valores baixos ($p-value < 0.05$) indicam rejeição de $H_{0}$.\n",
    "    \n",
    "    10. <b>Omnibus</b>: Testa se a variação explicada em um conjunto de dados é significativamente maior do que a variação inexplicada. Seu teste de probabilidade deve tender a zero (distribuição normal dos erros). Para ler mais sobre este teste acesse [Omnibus test](https://en.wikipedia.org/wiki/Omnibus_test).\n",
    "    \n",
    "    11. <b>Durbin-Watson (Endogeneidade)</b>: A estatística Durbin Watson (DW) é um teste de autocorrelação nos resíduos de uma análise de regressão estatística. A estatística Durbin-Watson sempre terá um valor entre 0 e 4. Um valor de 2,0 significa que não há autocorrelação detectada na amostra. Valores de 0 a menos de 2 indicam autocorrelação positiva e valores de 2 a 4 indicam autocorrelação negativa - serve para verificar a endogeneidade. Dessa forma, o valor esperado para o teste Durbin-Watson deve estar próximo de 2 para indicar erros aleatórios independentes. Para mais informações acesse [Durbin Watson Statistic Definition](https://www.investopedia.com/terms/d/durbin-watson-statistic.asp). \n",
    "    \n",
    "    12. <b>Jarque-Bera (Distribuição-Normal dos Erros)</b>: teste para determinar se os dados da amostra têm assimetria e curtose correspondentes a uma distribuição normal. O teste recebeu o nome de Carlos Jarque e Anil K. Bera. A estatística do teste é sempre não-negativa. Se estiver longe de zero, sinaliza que os dados não têm uma distribuição normal. Ainda, seu teste de probabilidade deve tender a zero (distribuição normal dos erros). Para mais informações acesse [Jarque-Bera test](https://en.wikipedia.org/wiki/Jarque%E2%80%93Bera_test)    "
   ]
  },
  {
   "cell_type": "markdown",
   "metadata": {},
   "source": [
    "##  <span style = \"color:blue\">Prática Independente.</span>"
   ]
  },
  {
   "cell_type": "markdown",
   "metadata": {},
   "source": [
    "#### Considere o dataset `demografia.csv` sobre dados demográficosdo IBGE e explore os dados primeiramente. Capte as variáveis dummies com a função [`get_dummies`](https://pandas.pydata.org/pandas-docs/stable/reference/api/pandas.get_dummies.html). \n",
    "\n",
    "#### Considere todas as features para a regressão linear múltima, observando a biblioteca [`statsmodels.api`](https://www.statsmodels.org/stable/index.html), e discuta o relatório gerado pela aplicação do método [`.summary()`](https://www.statsmodels.org/dev/examples/notebooks/generated/ols.html)."
   ]
  },
  {
   "cell_type": "code",
   "execution_count": 79,
   "metadata": {},
   "outputs": [
    {
     "data": {
      "text/html": [
       "<div>\n",
       "<style scoped>\n",
       "    .dataframe tbody tr th:only-of-type {\n",
       "        vertical-align: middle;\n",
       "    }\n",
       "\n",
       "    .dataframe tbody tr th {\n",
       "        vertical-align: top;\n",
       "    }\n",
       "\n",
       "    .dataframe thead th {\n",
       "        text-align: right;\n",
       "    }\n",
       "</style>\n",
       "<table border=\"1\" class=\"dataframe\">\n",
       "  <thead>\n",
       "    <tr style=\"text-align: right;\">\n",
       "      <th></th>\n",
       "      <th>seq</th>\n",
       "      <th>id</th>\n",
       "      <th>idade</th>\n",
       "      <th>sexo</th>\n",
       "      <th>anos_estudo</th>\n",
       "      <th>cor/raca</th>\n",
       "      <th>salario</th>\n",
       "      <th>estado_civil</th>\n",
       "      <th>regiao</th>\n",
       "    </tr>\n",
       "  </thead>\n",
       "  <tbody>\n",
       "    <tr>\n",
       "      <th>0</th>\n",
       "      <td>0</td>\n",
       "      <td>1.100190e+10</td>\n",
       "      <td>53</td>\n",
       "      <td>homem</td>\n",
       "      <td>5.0</td>\n",
       "      <td>Parda</td>\n",
       "      <td>63600.000000</td>\n",
       "      <td>1.0</td>\n",
       "      <td>norte</td>\n",
       "    </tr>\n",
       "    <tr>\n",
       "      <th>1</th>\n",
       "      <td>1</td>\n",
       "      <td>1.100190e+10</td>\n",
       "      <td>49</td>\n",
       "      <td>mulher</td>\n",
       "      <td>8.0</td>\n",
       "      <td>Amarela</td>\n",
       "      <td>NaN</td>\n",
       "      <td>1.0</td>\n",
       "      <td>norte</td>\n",
       "    </tr>\n",
       "    <tr>\n",
       "      <th>2</th>\n",
       "      <td>2</td>\n",
       "      <td>1.100190e+10</td>\n",
       "      <td>22</td>\n",
       "      <td>mulher</td>\n",
       "      <td>11.0</td>\n",
       "      <td>Indigena</td>\n",
       "      <td>4352.400391</td>\n",
       "      <td>0.0</td>\n",
       "      <td>nordeste</td>\n",
       "    </tr>\n",
       "    <tr>\n",
       "      <th>3</th>\n",
       "      <td>3</td>\n",
       "      <td>1.100190e+10</td>\n",
       "      <td>55</td>\n",
       "      <td>homem</td>\n",
       "      <td>15.0</td>\n",
       "      <td>Amarela</td>\n",
       "      <td>96600.000000</td>\n",
       "      <td>1.0</td>\n",
       "      <td>norte</td>\n",
       "    </tr>\n",
       "    <tr>\n",
       "      <th>4</th>\n",
       "      <td>4</td>\n",
       "      <td>1.100190e+10</td>\n",
       "      <td>56</td>\n",
       "      <td>mulher</td>\n",
       "      <td>15.0</td>\n",
       "      <td>Amarela</td>\n",
       "      <td>157800.000000</td>\n",
       "      <td>1.0</td>\n",
       "      <td>norte</td>\n",
       "    </tr>\n",
       "  </tbody>\n",
       "</table>\n",
       "</div>"
      ],
      "text/plain": [
       "   seq            id  idade    sexo  anos_estudo  cor/raca        salario  \\\n",
       "0    0  1.100190e+10     53   homem          5.0     Parda   63600.000000   \n",
       "1    1  1.100190e+10     49  mulher          8.0   Amarela            NaN   \n",
       "2    2  1.100190e+10     22  mulher         11.0  Indigena    4352.400391   \n",
       "3    3  1.100190e+10     55   homem         15.0   Amarela   96600.000000   \n",
       "4    4  1.100190e+10     56  mulher         15.0   Amarela  157800.000000   \n",
       "\n",
       "   estado_civil    regiao  \n",
       "0           1.0     norte  \n",
       "1           1.0     norte  \n",
       "2           0.0  nordeste  \n",
       "3           1.0     norte  \n",
       "4           1.0     norte  "
      ]
     },
     "execution_count": 79,
     "metadata": {},
     "output_type": "execute_result"
    }
   ],
   "source": [
    "IBGE = pd.read_csv(\"demografia.csv\")\n",
    "IBGE.head()"
   ]
  },
  {
   "cell_type": "code",
   "execution_count": 80,
   "metadata": {},
   "outputs": [
    {
     "data": {
      "text/html": [
       "<div>\n",
       "<style scoped>\n",
       "    .dataframe tbody tr th:only-of-type {\n",
       "        vertical-align: middle;\n",
       "    }\n",
       "\n",
       "    .dataframe tbody tr th {\n",
       "        vertical-align: top;\n",
       "    }\n",
       "\n",
       "    .dataframe thead th {\n",
       "        text-align: right;\n",
       "    }\n",
       "</style>\n",
       "<table border=\"1\" class=\"dataframe\">\n",
       "  <thead>\n",
       "    <tr style=\"text-align: right;\">\n",
       "      <th></th>\n",
       "      <th>seq</th>\n",
       "      <th>id</th>\n",
       "      <th>idade</th>\n",
       "      <th>anos_estudo</th>\n",
       "      <th>salario</th>\n",
       "      <th>estado_civil</th>\n",
       "      <th>sexo_homem</th>\n",
       "      <th>sexo_mulher</th>\n",
       "      <th>cor/raca_Branca</th>\n",
       "      <th>cor/raca_Indigena</th>\n",
       "      <th>cor/raca_Parda</th>\n",
       "      <th>cor/raca_Preta</th>\n",
       "      <th>regiao_nordeste</th>\n",
       "      <th>regiao_norte</th>\n",
       "      <th>regiao_sudeste</th>\n",
       "      <th>regiao_sul</th>\n",
       "    </tr>\n",
       "  </thead>\n",
       "  <tbody>\n",
       "    <tr>\n",
       "      <th>0</th>\n",
       "      <td>0</td>\n",
       "      <td>1.100190e+10</td>\n",
       "      <td>53</td>\n",
       "      <td>5.0</td>\n",
       "      <td>63600.000000</td>\n",
       "      <td>1.0</td>\n",
       "      <td>1</td>\n",
       "      <td>0</td>\n",
       "      <td>0</td>\n",
       "      <td>0</td>\n",
       "      <td>1</td>\n",
       "      <td>0</td>\n",
       "      <td>0</td>\n",
       "      <td>1</td>\n",
       "      <td>0</td>\n",
       "      <td>0</td>\n",
       "    </tr>\n",
       "    <tr>\n",
       "      <th>1</th>\n",
       "      <td>1</td>\n",
       "      <td>1.100190e+10</td>\n",
       "      <td>49</td>\n",
       "      <td>8.0</td>\n",
       "      <td>NaN</td>\n",
       "      <td>1.0</td>\n",
       "      <td>0</td>\n",
       "      <td>1</td>\n",
       "      <td>0</td>\n",
       "      <td>0</td>\n",
       "      <td>0</td>\n",
       "      <td>0</td>\n",
       "      <td>0</td>\n",
       "      <td>1</td>\n",
       "      <td>0</td>\n",
       "      <td>0</td>\n",
       "    </tr>\n",
       "    <tr>\n",
       "      <th>2</th>\n",
       "      <td>2</td>\n",
       "      <td>1.100190e+10</td>\n",
       "      <td>22</td>\n",
       "      <td>11.0</td>\n",
       "      <td>4352.400391</td>\n",
       "      <td>0.0</td>\n",
       "      <td>0</td>\n",
       "      <td>1</td>\n",
       "      <td>0</td>\n",
       "      <td>1</td>\n",
       "      <td>0</td>\n",
       "      <td>0</td>\n",
       "      <td>1</td>\n",
       "      <td>0</td>\n",
       "      <td>0</td>\n",
       "      <td>0</td>\n",
       "    </tr>\n",
       "    <tr>\n",
       "      <th>3</th>\n",
       "      <td>3</td>\n",
       "      <td>1.100190e+10</td>\n",
       "      <td>55</td>\n",
       "      <td>15.0</td>\n",
       "      <td>96600.000000</td>\n",
       "      <td>1.0</td>\n",
       "      <td>1</td>\n",
       "      <td>0</td>\n",
       "      <td>0</td>\n",
       "      <td>0</td>\n",
       "      <td>0</td>\n",
       "      <td>0</td>\n",
       "      <td>0</td>\n",
       "      <td>1</td>\n",
       "      <td>0</td>\n",
       "      <td>0</td>\n",
       "    </tr>\n",
       "    <tr>\n",
       "      <th>4</th>\n",
       "      <td>4</td>\n",
       "      <td>1.100190e+10</td>\n",
       "      <td>56</td>\n",
       "      <td>15.0</td>\n",
       "      <td>157800.000000</td>\n",
       "      <td>1.0</td>\n",
       "      <td>0</td>\n",
       "      <td>1</td>\n",
       "      <td>0</td>\n",
       "      <td>0</td>\n",
       "      <td>0</td>\n",
       "      <td>0</td>\n",
       "      <td>0</td>\n",
       "      <td>1</td>\n",
       "      <td>0</td>\n",
       "      <td>0</td>\n",
       "    </tr>\n",
       "  </tbody>\n",
       "</table>\n",
       "</div>"
      ],
      "text/plain": [
       "   seq            id  idade  anos_estudo        salario  estado_civil  \\\n",
       "0    0  1.100190e+10     53          5.0   63600.000000           1.0   \n",
       "1    1  1.100190e+10     49          8.0            NaN           1.0   \n",
       "2    2  1.100190e+10     22         11.0    4352.400391           0.0   \n",
       "3    3  1.100190e+10     55         15.0   96600.000000           1.0   \n",
       "4    4  1.100190e+10     56         15.0  157800.000000           1.0   \n",
       "\n",
       "   sexo_homem  sexo_mulher  cor/raca_Branca  cor/raca_Indigena  \\\n",
       "0           1            0                0                  0   \n",
       "1           0            1                0                  0   \n",
       "2           0            1                0                  1   \n",
       "3           1            0                0                  0   \n",
       "4           0            1                0                  0   \n",
       "\n",
       "   cor/raca_Parda  cor/raca_Preta  regiao_nordeste  regiao_norte  \\\n",
       "0               1               0                0             1   \n",
       "1               0               0                0             1   \n",
       "2               0               0                1             0   \n",
       "3               0               0                0             1   \n",
       "4               0               0                0             1   \n",
       "\n",
       "   regiao_sudeste  regiao_sul  \n",
       "0               0           0  \n",
       "1               0           0  \n",
       "2               0           0  \n",
       "3               0           0  \n",
       "4               0           0  "
      ]
     },
     "execution_count": 80,
     "metadata": {},
     "output_type": "execute_result"
    }
   ],
   "source": [
    "IBGE2 = pd.get_dummies(IBGE, drop_first = True)\n",
    "IBGE2.head()"
   ]
  },
  {
   "cell_type": "code",
   "execution_count": 81,
   "metadata": {},
   "outputs": [],
   "source": [
    "feature_cols = ['idade', \n",
    "                'anos_estudo', \n",
    "                'estado_civil', \n",
    "                'sexo_homem', \n",
    "                'sexo_mulher', \n",
    "                'cor/raca_Branca',\n",
    "                'cor/raca_Indigena',\n",
    "                'cor/raca_Parda',\n",
    "                'cor/raca_Preta',\n",
    "                'regiao_nordeste',\n",
    "                'regiao_norte',\n",
    "                'regiao_sudeste',\n",
    "                'regiao_sul'\n",
    "               ]"
   ]
  },
  {
   "cell_type": "code",
   "execution_count": 82,
   "metadata": {},
   "outputs": [],
   "source": [
    "IBGE2.dropna(subset = ['salario'], \n",
    "             inplace = True\n",
    "            )\n",
    "IBGE2.dropna(subset = feature_cols, \n",
    "             inplace = True\n",
    "            )"
   ]
  },
  {
   "cell_type": "code",
   "execution_count": 83,
   "metadata": {},
   "outputs": [],
   "source": [
    "X = IBGE2[feature_cols]\n",
    "y = IBGE2['salario']"
   ]
  },
  {
   "cell_type": "code",
   "execution_count": 84,
   "metadata": {},
   "outputs": [
    {
     "name": "stdout",
     "output_type": "stream",
     "text": [
      "EMC: 7632578719.732509\n",
      "                            OLS Regression Results                            \n",
      "==============================================================================\n",
      "Dep. Variable:                salario   R-squared:                       0.035\n",
      "Model:                            OLS   Adj. R-squared:                  0.035\n",
      "Method:                 Least Squares   F-statistic:                     132.6\n",
      "Date:                Mon, 01 Feb 2021   Prob (F-statistic):               0.00\n",
      "Time:                        18:42:22   Log-Likelihood:            -6.0833e+05\n",
      "No. Observations:               47538   AIC:                         1.217e+06\n",
      "Df Residuals:                   47524   BIC:                         1.217e+06\n",
      "Df Model:                          13                                         \n",
      "Covariance Type:            nonrobust                                         \n",
      "=====================================================================================\n",
      "                        coef    std err          t      P>|t|      [0.025      0.975]\n",
      "-------------------------------------------------------------------------------------\n",
      "const             -4.847e+04   1.78e+04     -2.728      0.006   -8.33e+04   -1.36e+04\n",
      "idade              1195.8367     38.912     30.732      0.000    1119.569    1272.105\n",
      "anos_estudo        3491.4561    123.800     28.202      0.000    3248.807    3734.105\n",
      "estado_civil       1404.5032    855.387      1.642      0.101    -272.067    3081.074\n",
      "sexo_homem        -5713.6254   1.72e+04     -0.333      0.739   -3.93e+04    2.79e+04\n",
      "sexo_mulher       -1.514e+04   1.72e+04     -0.882      0.378   -4.88e+04    1.85e+04\n",
      "cor/raca_Branca    4223.9032   4615.804      0.915      0.360   -4823.136    1.33e+04\n",
      "cor/raca_Indigena  1573.0378   6354.454      0.248      0.804   -1.09e+04     1.4e+04\n",
      "cor/raca_Parda     1315.5025   4623.082      0.285      0.776   -7745.802    1.04e+04\n",
      "cor/raca_Preta    -1059.5017   4795.348     -0.221      0.825   -1.05e+04    8339.448\n",
      "regiao_nordeste    2.756e+04   5.05e+04      0.546      0.585   -7.14e+04    1.27e+05\n",
      "regiao_norte      -3027.5874   1232.351     -2.457      0.014   -5443.012    -612.163\n",
      "regiao_sudeste       97.0017   1084.950      0.089      0.929   -2029.516    2223.519\n",
      "regiao_sul        -3519.0941   1306.900     -2.693      0.007   -6080.636    -957.552\n",
      "==============================================================================\n",
      "Omnibus:                    74140.559   Durbin-Watson:                   1.967\n",
      "Prob(Omnibus):                  0.000   Jarque-Bera (JB):         25000472.958\n",
      "Skew:                          10.336   Prob(JB):                         0.00\n",
      "Kurtosis:                     113.428   Cond. No.                     5.03e+03\n",
      "==============================================================================\n",
      "\n",
      "Warnings:\n",
      "[1] Standard Errors assume that the covariance matrix of the errors is correctly specified.\n",
      "[2] The condition number is large, 5.03e+03. This might indicate that there are\n",
      "strong multicollinearity or other numerical problems.\n"
     ]
    }
   ],
   "source": [
    "X = IBGE2[feature_cols]\n",
    "X = sm.add_constant(X)\n",
    "\n",
    "linreg = sm.OLS(y, X).fit()\n",
    "yhat = linreg.predict(X)\n",
    "\n",
    "print (\"EMC:\", mean_squared_error(IBGE2['salario'], \n",
    "                                  yhat\n",
    "                                 )\n",
    "      )\n",
    "print (linreg.summary())"
   ]
  },
  {
   "cell_type": "markdown",
   "metadata": {},
   "source": [
    "#### Agora considere a avaliação do sumário anterior e proponha alterações ao conjunto de atributos descritivos inicial, para que seja possível obter uma avaliação melhorada da regressão."
   ]
  },
  {
   "cell_type": "code",
   "execution_count": 85,
   "metadata": {},
   "outputs": [],
   "source": [
    "feature_cols = ['idade', \n",
    "                'anos_estudo',\n",
    "                'regiao_norte'\n",
    "               ]"
   ]
  },
  {
   "cell_type": "code",
   "execution_count": 86,
   "metadata": {},
   "outputs": [],
   "source": [
    "IBGE2.dropna(subset = ['salario'], inplace = True)\n",
    "IBGE2.dropna(subset = feature_cols, inplace = True)"
   ]
  },
  {
   "cell_type": "code",
   "execution_count": 87,
   "metadata": {},
   "outputs": [],
   "source": [
    "X = IBGE2[feature_cols]\n",
    "y = IBGE2['salario']"
   ]
  },
  {
   "cell_type": "code",
   "execution_count": 88,
   "metadata": {},
   "outputs": [
    {
     "name": "stdout",
     "output_type": "stream",
     "text": [
      "EMC: 7658561039.358665\n",
      "                            OLS Regression Results                            \n",
      "==============================================================================\n",
      "Dep. Variable:                salario   R-squared:                       0.032\n",
      "Model:                            OLS   Adj. R-squared:                  0.032\n",
      "Method:                 Least Squares   F-statistic:                     519.0\n",
      "Date:                Mon, 01 Feb 2021   Prob (F-statistic):               0.00\n",
      "Time:                        18:42:36   Log-Likelihood:            -6.0841e+05\n",
      "No. Observations:               47538   AIC:                         1.217e+06\n",
      "Df Residuals:                   47534   BIC:                         1.217e+06\n",
      "Df Model:                           3                                         \n",
      "Covariance Type:            nonrobust                                         \n",
      "================================================================================\n",
      "                   coef    std err          t      P>|t|      [0.025      0.975]\n",
      "--------------------------------------------------------------------------------\n",
      "const        -5.509e+04   2014.450    -27.346      0.000    -5.9e+04   -5.11e+04\n",
      "idade         1212.2009     37.861     32.017      0.000    1137.993    1286.409\n",
      "anos_estudo   3396.9527    120.769     28.128      0.000    3160.243    3633.662\n",
      "regiao_norte -3133.8624    974.901     -3.215      0.001   -5044.682   -1223.043\n",
      "==============================================================================\n",
      "Omnibus:                    74058.576   Durbin-Watson:                   1.968\n",
      "Prob(Omnibus):                  0.000   Jarque-Bera (JB):         24834454.938\n",
      "Skew:                          10.315   Prob(JB):                         0.00\n",
      "Kurtosis:                     113.056   Cond. No.                         202.\n",
      "==============================================================================\n",
      "\n",
      "Warnings:\n",
      "[1] Standard Errors assume that the covariance matrix of the errors is correctly specified.\n"
     ]
    }
   ],
   "source": [
    "X = IBGE2[feature_cols]\n",
    "X = sm.add_constant(X)\n",
    "\n",
    "linreg = sm.OLS(y, X).fit()\n",
    "yhat = linreg.predict(X)\n",
    "\n",
    "print (\"EMC:\", mean_squared_error(IBGE2['salario'], yhat))\n",
    "print (linreg.summary())"
   ]
  },
  {
   "cell_type": "markdown",
   "metadata": {},
   "source": [
    "####  <span style = \"color:blue\">Código Original.</span>\n",
    "<!---\n",
    "[``]()\n",
    "-->"
   ]
  },
  {
   "cell_type": "code",
   "execution_count": null,
   "metadata": {},
   "outputs": [],
   "source": []
  },
  {
   "cell_type": "code",
   "execution_count": null,
   "metadata": {},
   "outputs": [],
   "source": []
  }
 ],
 "metadata": {
  "anaconda-cloud": {},
  "kernelspec": {
   "display_name": "Python 3",
   "language": "python",
   "name": "python3"
  },
  "language_info": {
   "codemirror_mode": {
    "name": "ipython",
    "version": 3
   },
   "file_extension": ".py",
   "mimetype": "text/x-python",
   "name": "python",
   "nbconvert_exporter": "python",
   "pygments_lexer": "ipython3",
   "version": "3.7.6"
  }
 },
 "nbformat": 4,
 "nbformat_minor": 4
}
