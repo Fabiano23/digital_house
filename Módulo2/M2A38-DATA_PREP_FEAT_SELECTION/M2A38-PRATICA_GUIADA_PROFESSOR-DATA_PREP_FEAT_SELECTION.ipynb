{
 "cells": [
  {
   "cell_type": "markdown",
   "metadata": {},
   "source": [
    "# Introdução"
   ]
  },
  {
   "cell_type": "markdown",
   "metadata": {},
   "source": [
    "<img src=\"dataPrepConcepts.jpg\" width=1280 height=720 />"
   ]
  },
  {
   "cell_type": "markdown",
   "metadata": {},
   "source": [
    "#### Para utilizarmos os algoritmos de [machine-learning precisamos passar números!"
   ]
  },
  {
   "cell_type": "markdown",
   "metadata": {},
   "source": [
    "#### Nossos datasets geralmente são um mix de variáveis numéricas e qualitativas categóricas. Em tese, as variáveis numéricas não precisam de nenhum tratamento para serem passadas para os algoritmos de machine learning, mas mesmo assim, alguns tratamentos específicos, os quais abordaremos em seguida, podem trazer alguns benefíicios durante o treinamento dos nossos modelos. Já as variáveis qualitativas (categóricas), exigem um pré-tratamento para poderem ser transformadas em números. Veremos a seguir algumas formas de fazer isso, quais seus pontos fortes, fracos e abordaremos como fazer esse pré-processamento na prática, com o auxílio de pipelines do ```scikit-learn```."
   ]
  },
  {
   "cell_type": "markdown",
   "metadata": {},
   "source": [
    "#### Vamos usar o dataset de diabetes para nossos exemplos."
   ]
  },
  {
   "cell_type": "markdown",
   "metadata": {},
   "source": [
    "# Setup"
   ]
  },
  {
   "cell_type": "code",
   "execution_count": 2,
   "metadata": {},
   "outputs": [],
   "source": [
    "#!pip install category-encoders\n",
    "#!pip install \n",
    "#!pip install --upgrade category-encoders\n",
    "#!pip install --upgrade feature_engine\n",
    "#!pip install -U feature-engine\n",
    "\n",
    "#from feature_engine import categorical_encoders as ce\n",
    "#from feature_engine.categorical_encoders import CountFrequencyCategoricalEncoder"
   ]
  },
  {
   "cell_type": "code",
   "execution_count": 69,
   "metadata": {},
   "outputs": [],
   "source": [
    "# libs\n",
    "# para installar o category_encoder use --> !pip install category-encoders\n",
    "# para instalalr o feature_engine use --> !pip install  feature-enginge\n",
    "\n",
    "\n",
    "\n",
    "import pandas as pd\n",
    "import numpy as np\n",
    "import seaborn as sns\n",
    "import matplotlib.pyplot as plt\n",
    "from sklearn.preprocessing import MinMaxScaler, StandardScaler, RobustScaler, OneHotEncoder, OrdinalEncoder\n",
    "from category_encoders import TargetEncoder\n",
    "#from feature_engine.encoding import RareLabelEncoder\n",
    "#from feature_engine.categorical_encoders import RareLabelCategoricalEncoder, CountFrequencyCategoricalEncoder\n",
    "from feature_engine.encoding import RareLabelEncoder, MeanEncoder, CountFrequencyEncoder\n",
    "from feature_engine.discretisation import DecisionTreeDiscretiser\n",
    "from feature_engine.imputation import (AddMissingIndicator, MeanMedianImputer, CategoricalImputer) \n",
    "from sklearn.model_selection import train_test_split\n",
    "from sklearn.compose import ColumnTransformer\n",
    "from sklearn.pipeline import Pipeline\n",
    "from sklearn.linear_model import LogisticRegression\n",
    "import warnings\n",
    "warnings.filterwarnings('ignore')"
   ]
  },
  {
   "cell_type": "code",
   "execution_count": 4,
   "metadata": {},
   "outputs": [],
   "source": [
    "# dados\n",
    "df_diabetes = pd.read_csv('diabetes.csv')\n",
    "df_titanic = pd.read_csv('titanic_reduced.csv')"
   ]
  },
  {
   "cell_type": "code",
   "execution_count": 5,
   "metadata": {},
   "outputs": [
    {
     "name": "stdout",
     "output_type": "stream",
     "text": [
      "<class 'pandas.core.frame.DataFrame'>\n",
      "RangeIndex: 891 entries, 0 to 890\n",
      "Data columns (total 5 columns):\n",
      " #   Column    Non-Null Count  Dtype  \n",
      "---  ------    --------------  -----  \n",
      " 0   Embarked  889 non-null    object \n",
      " 1   Age       714 non-null    float64\n",
      " 2   Sex       891 non-null    object \n",
      " 3   Pclass    891 non-null    object \n",
      " 4   Survived  891 non-null    int64  \n",
      "dtypes: float64(1), int64(1), object(3)\n",
      "memory usage: 34.9+ KB\n"
     ]
    }
   ],
   "source": [
    "#df_titanic.isnull()#.count()\n",
    "df_titanic.info()\n",
    "#df_titanic['Age'].isnull().any()\n",
    "#df_titanic.isnull().any()\n",
    "#df_titanic = df_titanic.dropna(subset = ['Embarked', \n",
    "#                         'Age'\n",
    "#                        ]\n",
    "#              )"
   ]
  },
  {
   "cell_type": "markdown",
   "metadata": {},
   "source": [
    "#### Removemos os nulos."
   ]
  },
  {
   "cell_type": "code",
   "execution_count": 6,
   "metadata": {},
   "outputs": [],
   "source": [
    "df_diabetes = df_diabetes.dropna()\n",
    "df_titanic = df_titanic.dropna()"
   ]
  },
  {
   "cell_type": "code",
   "execution_count": 7,
   "metadata": {},
   "outputs": [
    {
     "data": {
      "text/html": [
       "<div>\n",
       "<style scoped>\n",
       "    .dataframe tbody tr th:only-of-type {\n",
       "        vertical-align: middle;\n",
       "    }\n",
       "\n",
       "    .dataframe tbody tr th {\n",
       "        vertical-align: top;\n",
       "    }\n",
       "\n",
       "    .dataframe thead th {\n",
       "        text-align: right;\n",
       "    }\n",
       "</style>\n",
       "<table border=\"1\" class=\"dataframe\">\n",
       "  <thead>\n",
       "    <tr style=\"text-align: right;\">\n",
       "      <th></th>\n",
       "      <th>preg</th>\n",
       "      <th>plas</th>\n",
       "      <th>pres</th>\n",
       "      <th>skin</th>\n",
       "      <th>insu</th>\n",
       "      <th>mass</th>\n",
       "      <th>pedi</th>\n",
       "      <th>age</th>\n",
       "      <th>class</th>\n",
       "    </tr>\n",
       "  </thead>\n",
       "  <tbody>\n",
       "    <tr>\n",
       "      <th>0</th>\n",
       "      <td>6</td>\n",
       "      <td>148</td>\n",
       "      <td>72</td>\n",
       "      <td>35</td>\n",
       "      <td>0</td>\n",
       "      <td>33.6</td>\n",
       "      <td>0.627</td>\n",
       "      <td>50</td>\n",
       "      <td>tested_positive</td>\n",
       "    </tr>\n",
       "    <tr>\n",
       "      <th>1</th>\n",
       "      <td>1</td>\n",
       "      <td>85</td>\n",
       "      <td>66</td>\n",
       "      <td>29</td>\n",
       "      <td>0</td>\n",
       "      <td>26.6</td>\n",
       "      <td>0.351</td>\n",
       "      <td>31</td>\n",
       "      <td>tested_negative</td>\n",
       "    </tr>\n",
       "    <tr>\n",
       "      <th>2</th>\n",
       "      <td>8</td>\n",
       "      <td>183</td>\n",
       "      <td>64</td>\n",
       "      <td>0</td>\n",
       "      <td>0</td>\n",
       "      <td>23.3</td>\n",
       "      <td>0.672</td>\n",
       "      <td>32</td>\n",
       "      <td>tested_positive</td>\n",
       "    </tr>\n",
       "    <tr>\n",
       "      <th>3</th>\n",
       "      <td>1</td>\n",
       "      <td>89</td>\n",
       "      <td>66</td>\n",
       "      <td>23</td>\n",
       "      <td>94</td>\n",
       "      <td>28.1</td>\n",
       "      <td>0.167</td>\n",
       "      <td>21</td>\n",
       "      <td>tested_negative</td>\n",
       "    </tr>\n",
       "    <tr>\n",
       "      <th>4</th>\n",
       "      <td>0</td>\n",
       "      <td>137</td>\n",
       "      <td>40</td>\n",
       "      <td>35</td>\n",
       "      <td>168</td>\n",
       "      <td>43.1</td>\n",
       "      <td>2.288</td>\n",
       "      <td>33</td>\n",
       "      <td>tested_positive</td>\n",
       "    </tr>\n",
       "  </tbody>\n",
       "</table>\n",
       "</div>"
      ],
      "text/plain": [
       "   preg  plas  pres  skin  insu  mass   pedi  age            class\n",
       "0     6   148    72    35     0  33.6  0.627   50  tested_positive\n",
       "1     1    85    66    29     0  26.6  0.351   31  tested_negative\n",
       "2     8   183    64     0     0  23.3  0.672   32  tested_positive\n",
       "3     1    89    66    23    94  28.1  0.167   21  tested_negative\n",
       "4     0   137    40    35   168  43.1  2.288   33  tested_positive"
      ]
     },
     "execution_count": 7,
     "metadata": {},
     "output_type": "execute_result"
    }
   ],
   "source": [
    "df_diabetes.head()"
   ]
  },
  {
   "cell_type": "code",
   "execution_count": 8,
   "metadata": {},
   "outputs": [],
   "source": [
    "# Dividindo em X e Y\n",
    "X_diabetes = df_diabetes.drop('class', \n",
    "                              axis = 1\n",
    "                             )\n",
    "Y_diabetes = df_diabetes['class']\n",
    "X_titanic = df_titanic.drop('Survived', \n",
    "                            axis = 1\n",
    "                           )\n",
    "Y_titanic = df_titanic['Survived']\n",
    "\n",
    "\n"
   ]
  },
  {
   "cell_type": "code",
   "execution_count": 9,
   "metadata": {},
   "outputs": [],
   "source": [
    "# Dividindo em treino e teste\n",
    "X_train_diabetes, X_test_diabetes, y_train_diabetes, y_test_diabetes = train_test_split(X_diabetes, \n",
    "                                                                                        Y_diabetes, \n",
    "                                                                                        train_size = 0.85, \n",
    "                                                                                        random_state = 123\n",
    "                                                                                       )\n",
    "X_train_titanic, X_test_titanic, y_train_titanic, y_test_titanic = train_test_split(X_titanic, \n",
    "                                                                                    Y_titanic, \n",
    "                                                                                    train_size = 0.85, \n",
    "                                                                                    random_state = 123\n",
    "                                                                                   )"
   ]
  },
  {
   "cell_type": "markdown",
   "metadata": {},
   "source": [
    "# Data Preparation"
   ]
  },
  {
   "cell_type": "markdown",
   "metadata": {},
   "source": [
    "#### O processo de data preparation é anterior ao treinamento do algoritmo de machine-learning. A ideia é criar um processo que, para cada entrada (feature/variável), realize uma transformação específica. Vamos descrever algumas dessas transformações a partir de agora, começando pelas variáveis numéricas."
   ]
  },
  {
   "cell_type": "markdown",
   "metadata": {},
   "source": [
    "## Variáveis Numéricas"
   ]
  },
  {
   "cell_type": "markdown",
   "metadata": {},
   "source": [
    "#### As variáveis mais fáceis de lidar são as do tipo numérico, pois os algoritmos de machine-learning já são capazes de interpretá-las em sua forma \"bruta\". Contudo os algoritmos  e seus processos de otimização podem se beneficiar desse processso de transformação. No geral, os algoritmos de machine learning não entendem que as features são de unidades diferentes e podem assumir que variáveis com escala maior devem receber um \"peso\" maior por isso. Geralmente, algoritmos que se baseiam no cálculo de distâncias ou descidas de gradiente podem sofrer com o fator de escala. Para evitar esse tipo de situação, nós utilizamos métodos de scaling. Agora vamos apresentar três processos de transformação, suas características, pontos fortes e fracos."
   ]
  },
  {
   "cell_type": "markdown",
   "metadata": {},
   "source": [
    "### MinMax Scaler"
   ]
  },
  {
   "cell_type": "markdown",
   "metadata": {},
   "source": [
    "<img src=\"featureScaling.png\" height=416 width=426/>"
   ]
  },
  {
   "cell_type": "markdown",
   "metadata": {},
   "source": [
    "#### O primeiro transformador que veremos é o MinMaxScaler, que é dado pela expressão abaixo:"
   ]
  },
  {
   "cell_type": "markdown",
   "metadata": {},
   "source": [
    "<img src=https://cdn-images-1.medium.com/max/800/0*K2QwZ16bEAxA4hUe.jpg height=300 width=300 />"
   ]
  },
  {
   "cell_type": "markdown",
   "metadata": {},
   "source": [
    "#### Dado uma variável X, transformaremos cada valor de X por meio da expressão acima. Para isso, precisaremos:\n",
    "- Extrair o Mínimo do vetor X\n",
    "- Extrair o Máximo do vetor X"
   ]
  },
  {
   "cell_type": "code",
   "execution_count": 10,
   "metadata": {},
   "outputs": [],
   "source": [
    "# extraindo x para scaling\n",
    "x_age_train = X_train_diabetes[['age']]\n",
    "x_mass_train = X_train_diabetes[['mass']]"
   ]
  },
  {
   "cell_type": "code",
   "execution_count": 11,
   "metadata": {},
   "outputs": [
    {
     "data": {
      "image/png": "[encoded data removed]",
      "text/plain": [
       "<Figure size 432x288 with 1 Axes>"
      ]
     },
     "metadata": {
      "needs_background": "light"
     },
     "output_type": "display_data"
    },
    {
     "data": {
      "image/png": "[encoded data removed]",
      "text/plain": [
       "<Figure size 432x288 with 1 Axes>"
      ]
     },
     "metadata": {
      "needs_background": "light"
     },
     "output_type": "display_data"
    }
   ],
   "source": [
    "# Checando as distribuições\n",
    "sns.kdeplot(x_age_train['age'])\n",
    "plt.show()\n",
    "sns.kdeplot(x_mass_train['mass'])\n",
    "plt.show()"
   ]
  },
  {
   "cell_type": "code",
   "execution_count": 12,
   "metadata": {},
   "outputs": [],
   "source": [
    "# Extraindo máximos e mínimos\n",
    "x_age_min = np.min(x_age_train)\n",
    "x_age_max = np.max(x_age_train)\n",
    "x_mass_min = np.min(x_mass_train)\n",
    "x_mass_max = np.max(x_mass_train)"
   ]
  },
  {
   "cell_type": "code",
   "execution_count": 13,
   "metadata": {},
   "outputs": [],
   "source": [
    "# Transformando  age\n",
    "x_age_train['min_max'] = (x_age_train - x_age_min) / (x_age_max - x_age_min)\n",
    "# Transformando mass\n",
    "x_mass_train['min_max'] = (x_mass_train - x_mass_min) / (x_mass_max - x_mass_min)"
   ]
  },
  {
   "cell_type": "code",
   "execution_count": 14,
   "metadata": {},
   "outputs": [
    {
     "data": {
      "image/png": "[encoded data removed]",
      "text/plain": [
       "<Figure size 432x288 with 1 Axes>"
      ]
     },
     "metadata": {
      "needs_background": "light"
     },
     "output_type": "display_data"
    },
    {
     "data": {
      "image/png": "[encoded data removed]",
      "text/plain": [
       "<Figure size 432x288 with 1 Axes>"
      ]
     },
     "metadata": {
      "needs_background": "light"
     },
     "output_type": "display_data"
    }
   ],
   "source": [
    "# Checando as distribuições\n",
    "sns.kdeplot(x_age_train['min_max'])\n",
    "plt.show()\n",
    "sns.kdeplot(x_mass_train['min_max'])\n",
    "plt.show()"
   ]
  },
  {
   "cell_type": "markdown",
   "metadata": {},
   "source": [
    "#### Note que o formato das distribuições não se altera!! Apenas o range de valores é alterado, para que seja comportado entre $0$ e $1$."
   ]
  },
  {
   "cell_type": "markdown",
   "metadata": {},
   "source": [
    "> **Alerta: As transformações precisam ser realizadas no treino e no teste!! Contudo, precisamos utilizar os parâmetros obtidos da base de treino (mínimo e máximo) para replicar a transformação na base de teste. Ou seja, quando formos realizar a transformação, utilizaremos os valores mínimo e máximo extraidos do vetor de treino!!!**"
   ]
  },
  {
   "cell_type": "markdown",
   "metadata": {},
   "source": [
    "#### Mas como fica isso em produção? Preciso guardar esses valores em algum lugar?\n",
    "\n",
    "#### SIM."
   ]
  },
  {
   "cell_type": "markdown",
   "metadata": {},
   "source": [
    "#### Mas para isso o [`scikit-learn`]() conta com uma série de Classes e Métodos que irão nos ajudar nessa etapa. Implementaremos a classe [`MinMaxScaler`]()."
   ]
  },
  {
   "cell_type": "code",
   "execution_count": 15,
   "metadata": {},
   "outputs": [],
   "source": [
    "# Usando o MinMaxScaler do scikit-learn\n",
    "# note que podemos passar uma tupla com o range desejado no fim da transformação\n",
    "min_max_scaler = MinMaxScaler(feature_range = (0,1))"
   ]
  },
  {
   "cell_type": "markdown",
   "metadata": {},
   "source": [
    "#### Para utilizar esse transformador, precisaremos dos métodos [`.fit()`]() e [`.transform()`]()."
   ]
  },
  {
   "cell_type": "markdown",
   "metadata": {},
   "source": [
    "#### No método [`.fit()`](), o transformador extrai o que precisa para realizar a transformação. No nosso caso, isso equivale a extrair os valores máximo e mínimo do vetor. Para isso, passaremos o nosso vetor como parâmetro."
   ]
  },
  {
   "cell_type": "code",
   "execution_count": 16,
   "metadata": {},
   "outputs": [
    {
     "data": {
      "text/plain": [
       "MinMaxScaler()"
      ]
     },
     "execution_count": 16,
     "metadata": {},
     "output_type": "execute_result"
    }
   ],
   "source": [
    "# precisamos aplicar um reshape\n",
    "min_max_scaler.fit(X_train_diabetes[['age']])"
   ]
  },
  {
   "cell_type": "code",
   "execution_count": 17,
   "metadata": {},
   "outputs": [
    {
     "data": {
      "text/plain": [
       "array([[0.11666667],\n",
       "       [0.48333333],\n",
       "       [0.7       ],\n",
       "       [0.41666667],\n",
       "       [0.05      ],\n",
       "       [0.26666667],\n",
       "       [0.35      ],\n",
       "       [0.01666667],\n",
       "       [0.03333333],\n",
       "       [0.03333333],\n",
       "       [0.51666667],\n",
       "       [0.7       ],\n",
       "       [0.08333333],\n",
       "       [0.15      ],\n",
       "       [0.05      ],\n",
       "       [0.48333333],\n",
       "       [0.28333333],\n",
       "       [0.01666667],\n",
       "       [0.13333333],\n",
       "       [0.        ],\n",
       "       [0.1       ],\n",
       "       [0.76666667],\n",
       "       [0.26666667],\n",
       "       [0.1       ],\n",
       "       [0.15      ],\n",
       "       [0.01666667],\n",
       "       [0.55      ],\n",
       "       [0.01666667],\n",
       "       [0.        ],\n",
       "       [0.11666667],\n",
       "       [0.25      ],\n",
       "       [0.35      ],\n",
       "       [0.16666667],\n",
       "       [0.03333333],\n",
       "       [0.68333333],\n",
       "       [0.        ],\n",
       "       [0.06666667],\n",
       "       [0.33333333],\n",
       "       [0.11666667],\n",
       "       [0.06666667],\n",
       "       [0.13333333],\n",
       "       [0.3       ],\n",
       "       [0.08333333],\n",
       "       [0.41666667],\n",
       "       [0.05      ],\n",
       "       [0.01666667],\n",
       "       [0.4       ],\n",
       "       [0.43333333],\n",
       "       [0.08333333],\n",
       "       [0.11666667],\n",
       "       [0.26666667],\n",
       "       [0.3       ],\n",
       "       [0.01666667],\n",
       "       [0.05      ],\n",
       "       [0.31666667],\n",
       "       [0.5       ],\n",
       "       [0.11666667],\n",
       "       [0.08333333],\n",
       "       [0.35      ],\n",
       "       [0.01666667],\n",
       "       [0.18333333],\n",
       "       [0.03333333],\n",
       "       [0.16666667],\n",
       "       [0.45      ],\n",
       "       [0.        ],\n",
       "       [0.01666667],\n",
       "       [0.15      ],\n",
       "       [0.13333333],\n",
       "       [0.75      ],\n",
       "       [0.4       ],\n",
       "       [0.11666667],\n",
       "       [0.5       ],\n",
       "       [0.61666667],\n",
       "       [0.35      ],\n",
       "       [0.3       ],\n",
       "       [0.        ],\n",
       "       [0.11666667],\n",
       "       [0.11666667],\n",
       "       [0.1       ],\n",
       "       [0.06666667],\n",
       "       [0.06666667],\n",
       "       [0.06666667],\n",
       "       [0.05      ],\n",
       "       [0.01666667],\n",
       "       [0.01666667],\n",
       "       [0.05      ],\n",
       "       [0.06666667],\n",
       "       [0.43333333],\n",
       "       [0.06666667],\n",
       "       [0.        ],\n",
       "       [0.06666667],\n",
       "       [0.33333333],\n",
       "       [0.03333333],\n",
       "       [0.33333333],\n",
       "       [0.15      ],\n",
       "       [0.25      ],\n",
       "       [0.01666667],\n",
       "       [0.11666667],\n",
       "       [0.05      ],\n",
       "       [0.25      ],\n",
       "       [0.21666667],\n",
       "       [0.        ],\n",
       "       [0.43333333],\n",
       "       [0.2       ],\n",
       "       [0.25      ],\n",
       "       [0.33333333],\n",
       "       [0.03333333],\n",
       "       [0.15      ],\n",
       "       [0.4       ],\n",
       "       [0.55      ],\n",
       "       [0.03333333],\n",
       "       [0.08333333],\n",
       "       [0.        ],\n",
       "       [0.11666667],\n",
       "       [0.2       ],\n",
       "       [0.36666667],\n",
       "       [0.05      ],\n",
       "       [0.65      ],\n",
       "       [0.35      ],\n",
       "       [0.28333333],\n",
       "       [0.21666667],\n",
       "       [0.23333333],\n",
       "       [0.        ],\n",
       "       [0.26666667],\n",
       "       [0.01666667],\n",
       "       [0.11666667],\n",
       "       [0.25      ],\n",
       "       [0.01666667],\n",
       "       [0.06666667],\n",
       "       [0.5       ],\n",
       "       [0.2       ],\n",
       "       [0.48333333],\n",
       "       [0.15      ],\n",
       "       [0.33333333],\n",
       "       [0.01666667],\n",
       "       [0.        ],\n",
       "       [0.        ],\n",
       "       [0.31666667],\n",
       "       [0.1       ],\n",
       "       [0.36666667],\n",
       "       [0.3       ],\n",
       "       [0.13333333],\n",
       "       [0.06666667],\n",
       "       [0.46666667],\n",
       "       [0.3       ],\n",
       "       [0.01666667],\n",
       "       [0.7       ],\n",
       "       [0.28333333],\n",
       "       [0.01666667],\n",
       "       [0.        ],\n",
       "       [0.06666667],\n",
       "       [0.06666667],\n",
       "       [0.48333333],\n",
       "       [0.38333333],\n",
       "       [0.16666667],\n",
       "       [0.25      ],\n",
       "       [0.36666667],\n",
       "       [0.        ],\n",
       "       [0.05      ],\n",
       "       [0.05      ],\n",
       "       [0.3       ],\n",
       "       [0.11666667],\n",
       "       [0.03333333],\n",
       "       [0.1       ],\n",
       "       [0.01666667],\n",
       "       [0.18333333],\n",
       "       [0.6       ],\n",
       "       [0.45      ],\n",
       "       [0.06666667],\n",
       "       [0.2       ],\n",
       "       [0.26666667],\n",
       "       [0.61666667],\n",
       "       [0.11666667],\n",
       "       [0.65      ],\n",
       "       [0.28333333],\n",
       "       [0.68333333],\n",
       "       [0.26666667],\n",
       "       [0.03333333],\n",
       "       [0.28333333],\n",
       "       [0.28333333],\n",
       "       [0.08333333],\n",
       "       [0.16666667],\n",
       "       [0.2       ],\n",
       "       [0.2       ],\n",
       "       [0.13333333],\n",
       "       [0.13333333],\n",
       "       [0.65      ],\n",
       "       [0.11666667],\n",
       "       [0.48333333],\n",
       "       [0.35      ],\n",
       "       [0.23333333],\n",
       "       [0.1       ],\n",
       "       [0.28333333],\n",
       "       [0.01666667],\n",
       "       [0.66666667],\n",
       "       [0.15      ],\n",
       "       [0.4       ],\n",
       "       [0.16666667],\n",
       "       [0.06666667],\n",
       "       [0.3       ],\n",
       "       [0.5       ],\n",
       "       [0.11666667],\n",
       "       [0.13333333],\n",
       "       [0.1       ],\n",
       "       [0.4       ],\n",
       "       [0.15      ],\n",
       "       [0.16666667],\n",
       "       [0.16666667],\n",
       "       [0.05      ],\n",
       "       [0.01666667],\n",
       "       [0.06666667],\n",
       "       [0.08333333],\n",
       "       [0.23333333],\n",
       "       [0.2       ],\n",
       "       [0.05      ],\n",
       "       [0.01666667],\n",
       "       [0.06666667],\n",
       "       [0.11666667],\n",
       "       [0.05      ],\n",
       "       [0.03333333],\n",
       "       [0.26666667],\n",
       "       [0.4       ],\n",
       "       [0.73333333],\n",
       "       [0.08333333],\n",
       "       [0.13333333],\n",
       "       [0.        ],\n",
       "       [0.4       ],\n",
       "       [0.3       ],\n",
       "       [0.03333333],\n",
       "       [0.73333333],\n",
       "       [0.18333333],\n",
       "       [0.05      ],\n",
       "       [0.2       ],\n",
       "       [0.23333333],\n",
       "       [0.6       ],\n",
       "       [0.26666667],\n",
       "       [0.11666667],\n",
       "       [0.03333333],\n",
       "       [0.41666667],\n",
       "       [0.05      ],\n",
       "       [0.        ],\n",
       "       [0.53333333],\n",
       "       [0.55      ],\n",
       "       [0.06666667],\n",
       "       [0.41666667],\n",
       "       [0.11666667],\n",
       "       [0.05      ],\n",
       "       [0.05      ],\n",
       "       [0.41666667],\n",
       "       [0.01666667],\n",
       "       [0.23333333],\n",
       "       [0.56666667],\n",
       "       [0.08333333],\n",
       "       [0.25      ],\n",
       "       [0.01666667],\n",
       "       [0.61666667],\n",
       "       [0.08333333],\n",
       "       [0.05      ],\n",
       "       [0.31666667],\n",
       "       [0.33333333],\n",
       "       [0.1       ],\n",
       "       [0.1       ],\n",
       "       [0.05      ],\n",
       "       [0.6       ],\n",
       "       [0.03333333],\n",
       "       [0.13333333],\n",
       "       [0.51666667],\n",
       "       [0.        ],\n",
       "       [0.15      ],\n",
       "       [0.31666667],\n",
       "       [0.01666667],\n",
       "       [0.        ],\n",
       "       [0.05      ],\n",
       "       [0.61666667],\n",
       "       [0.05      ],\n",
       "       [0.01666667],\n",
       "       [0.16666667],\n",
       "       [0.31666667],\n",
       "       [0.08333333],\n",
       "       [0.1       ],\n",
       "       [0.05      ],\n",
       "       [0.03333333],\n",
       "       [0.        ],\n",
       "       [0.1       ],\n",
       "       [0.38333333],\n",
       "       [0.01666667],\n",
       "       [0.01666667],\n",
       "       [0.06666667],\n",
       "       [0.21666667],\n",
       "       [0.06666667],\n",
       "       [0.56666667],\n",
       "       [0.1       ],\n",
       "       [0.13333333],\n",
       "       [0.11666667],\n",
       "       [0.13333333],\n",
       "       [0.06666667],\n",
       "       [0.4       ],\n",
       "       [0.18333333],\n",
       "       [0.48333333],\n",
       "       [0.18333333],\n",
       "       [0.35      ],\n",
       "       [0.4       ],\n",
       "       [0.08333333],\n",
       "       [0.01666667],\n",
       "       [0.08333333],\n",
       "       [0.31666667],\n",
       "       [0.33333333],\n",
       "       [0.13333333],\n",
       "       [0.66666667],\n",
       "       [0.08333333],\n",
       "       [0.        ],\n",
       "       [0.08333333],\n",
       "       [0.16666667],\n",
       "       [0.25      ],\n",
       "       [0.41666667],\n",
       "       [0.13333333],\n",
       "       [0.03333333],\n",
       "       [0.        ],\n",
       "       [0.03333333],\n",
       "       [0.03333333],\n",
       "       [0.05      ],\n",
       "       [0.71666667],\n",
       "       [0.15      ],\n",
       "       [0.03333333],\n",
       "       [0.05      ],\n",
       "       [0.        ],\n",
       "       [0.85      ],\n",
       "       [0.15      ],\n",
       "       [0.05      ],\n",
       "       [0.1       ],\n",
       "       [0.31666667],\n",
       "       [0.01666667],\n",
       "       [0.05      ],\n",
       "       [0.21666667],\n",
       "       [0.25      ],\n",
       "       [0.33333333],\n",
       "       [0.01666667],\n",
       "       [0.38333333],\n",
       "       [0.08333333],\n",
       "       [0.11666667],\n",
       "       [0.08333333],\n",
       "       [0.2       ],\n",
       "       [0.28333333],\n",
       "       [0.        ],\n",
       "       [0.1       ],\n",
       "       [0.05      ],\n",
       "       [0.33333333],\n",
       "       [0.01666667],\n",
       "       [0.3       ],\n",
       "       [0.01666667],\n",
       "       [0.06666667],\n",
       "       [0.25      ],\n",
       "       [0.28333333],\n",
       "       [0.41666667],\n",
       "       [0.15      ],\n",
       "       [0.31666667],\n",
       "       [0.08333333],\n",
       "       [0.03333333],\n",
       "       [0.33333333],\n",
       "       [0.        ],\n",
       "       [0.13333333],\n",
       "       [0.03333333],\n",
       "       [0.1       ],\n",
       "       [0.21666667],\n",
       "       [0.16666667],\n",
       "       [0.        ],\n",
       "       [0.        ],\n",
       "       [0.6       ],\n",
       "       [0.31666667],\n",
       "       [0.13333333],\n",
       "       [0.16666667],\n",
       "       [0.21666667],\n",
       "       [0.03333333],\n",
       "       [0.26666667],\n",
       "       [0.        ],\n",
       "       [0.        ],\n",
       "       [0.05      ],\n",
       "       [0.08333333],\n",
       "       [0.16666667],\n",
       "       [0.06666667],\n",
       "       [0.01666667],\n",
       "       [0.33333333],\n",
       "       [0.        ],\n",
       "       [0.        ],\n",
       "       [0.01666667],\n",
       "       [0.7       ],\n",
       "       [0.3       ],\n",
       "       [0.16666667],\n",
       "       [0.41666667],\n",
       "       [0.18333333],\n",
       "       [0.28333333],\n",
       "       [0.01666667],\n",
       "       [0.11666667],\n",
       "       [0.06666667],\n",
       "       [0.11666667],\n",
       "       [0.2       ],\n",
       "       [0.        ],\n",
       "       [0.13333333],\n",
       "       [0.01666667],\n",
       "       [0.75      ],\n",
       "       [0.41666667],\n",
       "       [0.61666667],\n",
       "       [0.03333333],\n",
       "       [0.03333333],\n",
       "       [0.33333333],\n",
       "       [0.11666667],\n",
       "       [0.03333333],\n",
       "       [0.51666667],\n",
       "       [0.01666667],\n",
       "       [0.51666667],\n",
       "       [0.35      ],\n",
       "       [0.        ],\n",
       "       [0.01666667],\n",
       "       [0.53333333],\n",
       "       [0.18333333],\n",
       "       [0.01666667],\n",
       "       [0.21666667],\n",
       "       [0.35      ],\n",
       "       [0.15      ],\n",
       "       [0.35      ],\n",
       "       [0.18333333],\n",
       "       [0.03333333],\n",
       "       [0.43333333],\n",
       "       [0.03333333],\n",
       "       [0.06666667],\n",
       "       [0.06666667],\n",
       "       [0.38333333],\n",
       "       [0.41666667],\n",
       "       [0.31666667],\n",
       "       [0.08333333],\n",
       "       [0.01666667],\n",
       "       [0.23333333],\n",
       "       [0.        ],\n",
       "       [0.21666667],\n",
       "       [0.13333333],\n",
       "       [0.01666667],\n",
       "       [0.        ],\n",
       "       [0.        ],\n",
       "       [0.01666667],\n",
       "       [0.05      ],\n",
       "       [0.65      ],\n",
       "       [0.55      ],\n",
       "       [0.46666667],\n",
       "       [0.        ],\n",
       "       [0.        ],\n",
       "       [0.51666667],\n",
       "       [0.1       ],\n",
       "       [0.05      ],\n",
       "       [0.08333333],\n",
       "       [0.81666667],\n",
       "       [0.06666667],\n",
       "       [0.05      ],\n",
       "       [0.35      ],\n",
       "       [0.15      ],\n",
       "       [0.11666667],\n",
       "       [0.36666667],\n",
       "       [0.1       ],\n",
       "       [0.51666667],\n",
       "       [0.26666667],\n",
       "       [0.1       ],\n",
       "       [0.35      ],\n",
       "       [0.01666667],\n",
       "       [0.1       ],\n",
       "       [0.03333333],\n",
       "       [0.05      ],\n",
       "       [0.1       ],\n",
       "       [0.01666667],\n",
       "       [0.33333333],\n",
       "       [0.25      ],\n",
       "       [0.06666667],\n",
       "       [0.        ],\n",
       "       [0.01666667],\n",
       "       [0.3       ],\n",
       "       [0.06666667],\n",
       "       [0.2       ],\n",
       "       [0.05      ],\n",
       "       [0.11666667],\n",
       "       [1.        ],\n",
       "       [0.35      ],\n",
       "       [0.11666667],\n",
       "       [0.03333333],\n",
       "       [0.01666667],\n",
       "       [0.33333333],\n",
       "       [0.63333333],\n",
       "       [0.36666667],\n",
       "       [0.61666667],\n",
       "       [0.2       ],\n",
       "       [0.11666667],\n",
       "       [0.05      ],\n",
       "       [0.03333333],\n",
       "       [0.28333333],\n",
       "       [0.16666667],\n",
       "       [0.36666667],\n",
       "       [0.01666667],\n",
       "       [0.13333333],\n",
       "       [0.06666667],\n",
       "       [0.01666667],\n",
       "       [0.33333333],\n",
       "       [0.        ],\n",
       "       [0.06666667],\n",
       "       [0.08333333],\n",
       "       [0.21666667],\n",
       "       [0.06666667],\n",
       "       [0.05      ],\n",
       "       [0.45      ],\n",
       "       [0.33333333],\n",
       "       [0.75      ],\n",
       "       [0.46666667],\n",
       "       [0.53333333],\n",
       "       [0.18333333],\n",
       "       [0.11666667],\n",
       "       [0.6       ],\n",
       "       [0.53333333],\n",
       "       [0.1       ],\n",
       "       [0.36666667],\n",
       "       [0.38333333],\n",
       "       [0.01666667],\n",
       "       [0.25      ],\n",
       "       [0.01666667],\n",
       "       [0.23333333],\n",
       "       [0.15      ],\n",
       "       [0.05      ],\n",
       "       [0.26666667],\n",
       "       [0.63333333],\n",
       "       [0.15      ],\n",
       "       [0.01666667],\n",
       "       [0.28333333],\n",
       "       [0.36666667],\n",
       "       [0.36666667],\n",
       "       [0.06666667],\n",
       "       [0.        ],\n",
       "       [0.        ],\n",
       "       [0.05      ],\n",
       "       [0.11666667],\n",
       "       [0.13333333],\n",
       "       [0.06666667],\n",
       "       [0.1       ],\n",
       "       [0.13333333],\n",
       "       [0.08333333],\n",
       "       [0.        ],\n",
       "       [0.13333333],\n",
       "       [0.4       ],\n",
       "       [0.05      ],\n",
       "       [0.13333333],\n",
       "       [0.15      ],\n",
       "       [0.16666667],\n",
       "       [0.4       ],\n",
       "       [0.31666667],\n",
       "       [0.01666667],\n",
       "       [0.4       ],\n",
       "       [0.56666667],\n",
       "       [0.18333333],\n",
       "       [0.        ],\n",
       "       [0.56666667],\n",
       "       [0.08333333],\n",
       "       [0.06666667],\n",
       "       [0.5       ],\n",
       "       [0.08333333],\n",
       "       [0.36666667],\n",
       "       [0.05      ],\n",
       "       [0.26666667],\n",
       "       [0.5       ],\n",
       "       [0.        ],\n",
       "       [0.        ],\n",
       "       [0.76666667],\n",
       "       [0.1       ],\n",
       "       [0.48333333],\n",
       "       [0.01666667],\n",
       "       [0.11666667],\n",
       "       [0.55      ],\n",
       "       [0.11666667],\n",
       "       [0.01666667],\n",
       "       [0.33333333],\n",
       "       [0.26666667],\n",
       "       [0.08333333],\n",
       "       [0.01666667],\n",
       "       [0.        ],\n",
       "       [0.01666667],\n",
       "       [0.13333333],\n",
       "       [0.25      ],\n",
       "       [0.76666667],\n",
       "       [0.36666667],\n",
       "       [0.38333333],\n",
       "       [0.65      ],\n",
       "       [0.26666667],\n",
       "       [0.68333333],\n",
       "       [0.13333333],\n",
       "       [0.13333333],\n",
       "       [0.        ],\n",
       "       [0.35      ],\n",
       "       [0.36666667],\n",
       "       [0.        ],\n",
       "       [0.43333333],\n",
       "       [0.68333333],\n",
       "       [0.01666667],\n",
       "       [0.01666667],\n",
       "       [0.35      ],\n",
       "       [0.        ],\n",
       "       [0.16666667],\n",
       "       [0.33333333],\n",
       "       [0.16666667],\n",
       "       [0.1       ],\n",
       "       [0.23333333],\n",
       "       [0.75      ],\n",
       "       [0.01666667],\n",
       "       [0.51666667],\n",
       "       [0.        ],\n",
       "       [0.06666667],\n",
       "       [0.21666667],\n",
       "       [0.05      ],\n",
       "       [0.45      ],\n",
       "       [0.18333333],\n",
       "       [0.05      ],\n",
       "       [0.16666667],\n",
       "       [0.16666667],\n",
       "       [0.35      ],\n",
       "       [0.31666667],\n",
       "       [0.23333333],\n",
       "       [0.41666667],\n",
       "       [0.1       ],\n",
       "       [0.58333333],\n",
       "       [0.01666667],\n",
       "       [0.18333333],\n",
       "       [0.03333333],\n",
       "       [0.06666667],\n",
       "       [0.        ],\n",
       "       [0.1       ],\n",
       "       [0.08333333],\n",
       "       [0.06666667],\n",
       "       [0.33333333],\n",
       "       [0.11666667],\n",
       "       [0.41666667],\n",
       "       [0.08333333],\n",
       "       [0.13333333],\n",
       "       [0.03333333],\n",
       "       [0.01666667],\n",
       "       [0.18333333],\n",
       "       [0.06666667],\n",
       "       [0.05      ],\n",
       "       [0.35      ],\n",
       "       [0.25      ],\n",
       "       [0.2       ],\n",
       "       [0.8       ],\n",
       "       [0.1       ],\n",
       "       [0.01666667],\n",
       "       [0.16666667],\n",
       "       [0.01666667],\n",
       "       [0.03333333],\n",
       "       [0.25      ],\n",
       "       [0.        ],\n",
       "       [0.15      ],\n",
       "       [0.41666667]])"
      ]
     },
     "execution_count": 17,
     "metadata": {},
     "output_type": "execute_result"
    }
   ],
   "source": [
    "# para realizar a transformação usamos o .transform()\n",
    "min_max_scaler.transform(X_train_diabetes[['age']])"
   ]
  },
  {
   "cell_type": "markdown",
   "metadata": {},
   "source": [
    "#### Se quisermos aplicar no nosso dataset de treino inteiro, ou seja, em todas nossas features de uma vez, podemos passar o dataframe de treino inteiro. Além disso, o método [`.fit_transform()`]() permite extrair os parâmetros e já aplicar a transformação desejada."
   ]
  },
  {
   "cell_type": "code",
   "execution_count": 18,
   "metadata": {},
   "outputs": [],
   "source": [
    "X_train_diabetes_scaled = min_max_scaler.fit_transform(X_train_diabetes)"
   ]
  },
  {
   "cell_type": "code",
   "execution_count": 19,
   "metadata": {},
   "outputs": [
    {
     "data": {
      "text/html": [
       "<div>\n",
       "<style scoped>\n",
       "    .dataframe tbody tr th:only-of-type {\n",
       "        vertical-align: middle;\n",
       "    }\n",
       "\n",
       "    .dataframe tbody tr th {\n",
       "        vertical-align: top;\n",
       "    }\n",
       "\n",
       "    .dataframe thead th {\n",
       "        text-align: right;\n",
       "    }\n",
       "</style>\n",
       "<table border=\"1\" class=\"dataframe\">\n",
       "  <thead>\n",
       "    <tr style=\"text-align: right;\">\n",
       "      <th></th>\n",
       "      <th>preg</th>\n",
       "      <th>plas</th>\n",
       "      <th>pres</th>\n",
       "      <th>skin</th>\n",
       "      <th>insu</th>\n",
       "      <th>mass</th>\n",
       "      <th>pedi</th>\n",
       "      <th>age</th>\n",
       "    </tr>\n",
       "  </thead>\n",
       "  <tbody>\n",
       "    <tr>\n",
       "      <th>0</th>\n",
       "      <td>0.058824</td>\n",
       "      <td>0.502513</td>\n",
       "      <td>0.590164</td>\n",
       "      <td>0.121212</td>\n",
       "      <td>0.094086</td>\n",
       "      <td>0.425926</td>\n",
       "      <td>0.247652</td>\n",
       "      <td>0.116667</td>\n",
       "    </tr>\n",
       "    <tr>\n",
       "      <th>1</th>\n",
       "      <td>0.647059</td>\n",
       "      <td>0.693467</td>\n",
       "      <td>0.606557</td>\n",
       "      <td>0.262626</td>\n",
       "      <td>0.193548</td>\n",
       "      <td>0.607744</td>\n",
       "      <td>0.204526</td>\n",
       "      <td>0.483333</td>\n",
       "    </tr>\n",
       "    <tr>\n",
       "      <th>2</th>\n",
       "      <td>0.235294</td>\n",
       "      <td>0.663317</td>\n",
       "      <td>0.704918</td>\n",
       "      <td>0.313131</td>\n",
       "      <td>0.000000</td>\n",
       "      <td>0.471380</td>\n",
       "      <td>0.145602</td>\n",
       "      <td>0.700000</td>\n",
       "    </tr>\n",
       "    <tr>\n",
       "      <th>3</th>\n",
       "      <td>0.235294</td>\n",
       "      <td>0.577889</td>\n",
       "      <td>0.590164</td>\n",
       "      <td>0.000000</td>\n",
       "      <td>0.000000</td>\n",
       "      <td>0.486532</td>\n",
       "      <td>0.127242</td>\n",
       "      <td>0.416667</td>\n",
       "    </tr>\n",
       "    <tr>\n",
       "      <th>4</th>\n",
       "      <td>0.058824</td>\n",
       "      <td>0.683417</td>\n",
       "      <td>0.606557</td>\n",
       "      <td>0.505051</td>\n",
       "      <td>0.274194</td>\n",
       "      <td>0.629630</td>\n",
       "      <td>0.137062</td>\n",
       "      <td>0.050000</td>\n",
       "    </tr>\n",
       "    <tr>\n",
       "      <th>...</th>\n",
       "      <td>...</td>\n",
       "      <td>...</td>\n",
       "      <td>...</td>\n",
       "      <td>...</td>\n",
       "      <td>...</td>\n",
       "      <td>...</td>\n",
       "      <td>...</td>\n",
       "      <td>...</td>\n",
       "    </tr>\n",
       "    <tr>\n",
       "      <th>647</th>\n",
       "      <td>0.352941</td>\n",
       "      <td>0.467337</td>\n",
       "      <td>0.409836</td>\n",
       "      <td>0.303030</td>\n",
       "      <td>0.086022</td>\n",
       "      <td>0.483165</td>\n",
       "      <td>0.118702</td>\n",
       "      <td>0.033333</td>\n",
       "    </tr>\n",
       "    <tr>\n",
       "      <th>648</th>\n",
       "      <td>0.000000</td>\n",
       "      <td>0.623116</td>\n",
       "      <td>0.573770</td>\n",
       "      <td>0.202020</td>\n",
       "      <td>0.000000</td>\n",
       "      <td>0.461279</td>\n",
       "      <td>0.075149</td>\n",
       "      <td>0.250000</td>\n",
       "    </tr>\n",
       "    <tr>\n",
       "      <th>649</th>\n",
       "      <td>0.058824</td>\n",
       "      <td>0.547739</td>\n",
       "      <td>0.491803</td>\n",
       "      <td>0.080808</td>\n",
       "      <td>0.244624</td>\n",
       "      <td>0.427609</td>\n",
       "      <td>0.371050</td>\n",
       "      <td>0.000000</td>\n",
       "    </tr>\n",
       "    <tr>\n",
       "      <th>650</th>\n",
       "      <td>0.294118</td>\n",
       "      <td>0.497487</td>\n",
       "      <td>0.442623</td>\n",
       "      <td>0.282828</td>\n",
       "      <td>0.111559</td>\n",
       "      <td>0.572391</td>\n",
       "      <td>0.179761</td>\n",
       "      <td>0.150000</td>\n",
       "    </tr>\n",
       "    <tr>\n",
       "      <th>651</th>\n",
       "      <td>0.705882</td>\n",
       "      <td>0.422111</td>\n",
       "      <td>0.590164</td>\n",
       "      <td>0.313131</td>\n",
       "      <td>0.000000</td>\n",
       "      <td>0.500000</td>\n",
       "      <td>0.093510</td>\n",
       "      <td>0.416667</td>\n",
       "    </tr>\n",
       "  </tbody>\n",
       "</table>\n",
       "<p>652 rows × 8 columns</p>\n",
       "</div>"
      ],
      "text/plain": [
       "         preg      plas      pres      skin      insu      mass      pedi  \\\n",
       "0    0.058824  0.502513  0.590164  0.121212  0.094086  0.425926  0.247652   \n",
       "1    0.647059  0.693467  0.606557  0.262626  0.193548  0.607744  0.204526   \n",
       "2    0.235294  0.663317  0.704918  0.313131  0.000000  0.471380  0.145602   \n",
       "3    0.235294  0.577889  0.590164  0.000000  0.000000  0.486532  0.127242   \n",
       "4    0.058824  0.683417  0.606557  0.505051  0.274194  0.629630  0.137062   \n",
       "..        ...       ...       ...       ...       ...       ...       ...   \n",
       "647  0.352941  0.467337  0.409836  0.303030  0.086022  0.483165  0.118702   \n",
       "648  0.000000  0.623116  0.573770  0.202020  0.000000  0.461279  0.075149   \n",
       "649  0.058824  0.547739  0.491803  0.080808  0.244624  0.427609  0.371050   \n",
       "650  0.294118  0.497487  0.442623  0.282828  0.111559  0.572391  0.179761   \n",
       "651  0.705882  0.422111  0.590164  0.313131  0.000000  0.500000  0.093510   \n",
       "\n",
       "          age  \n",
       "0    0.116667  \n",
       "1    0.483333  \n",
       "2    0.700000  \n",
       "3    0.416667  \n",
       "4    0.050000  \n",
       "..        ...  \n",
       "647  0.033333  \n",
       "648  0.250000  \n",
       "649  0.000000  \n",
       "650  0.150000  \n",
       "651  0.416667  \n",
       "\n",
       "[652 rows x 8 columns]"
      ]
     },
     "execution_count": 19,
     "metadata": {},
     "output_type": "execute_result"
    }
   ],
   "source": [
    "pd.DataFrame(X_train_diabetes_scaled, \n",
    "             columns = X_train_diabetes.columns\n",
    "            )"
   ]
  },
  {
   "cell_type": "markdown",
   "metadata": {},
   "source": [
    "No fim, precisamos realizar a transformação no nosso conjunto de teste! Para isso, basta chamar o método ```.transform()```"
   ]
  },
  {
   "cell_type": "code",
   "execution_count": 20,
   "metadata": {},
   "outputs": [
    {
     "data": {
      "text/plain": [
       "array([[0.41176471, 0.90954774, 0.68852459, 0.21212121, 0.25806452,\n",
       "        0.6043771 , 0.21690863, 0.5       ],\n",
       "       [0.11764706, 0.63819095, 0.47540984, 0.24242424, 0.36962366,\n",
       "        0.46632997, 0.6498719 , 0.06666667],\n",
       "       [0.64705882, 0.69346734, 0.62295082, 0.        , 0.        ,\n",
       "        0.55892256, 0.14602904, 0.23333333],\n",
       "       [0.11764706, 0.40703518, 0.49180328, 0.22222222, 0.        ,\n",
       "        0.46632997, 0.09052092, 0.06666667],\n",
       "       [0.        , 0.42211055, 0.67213115, 0.31313131, 0.16801075,\n",
       "        0.64309764, 0.06618275, 0.03333333],\n",
       "       [0.52941176, 0.70351759, 0.7704918 , 0.        , 0.        ,\n",
       "        0.55050505, 0.28010248, 0.4       ],\n",
       "       [0.47058824, 0.98994975, 0.60655738, 0.        , 0.        ,\n",
       "        0.43602694, 0.47523484, 0.3       ],\n",
       "       [0.47058824, 0.60301508, 0.        , 0.        , 0.        ,\n",
       "        0.50505051, 0.04483348, 0.28333333],\n",
       "       [0.41176471, 0.80904523, 0.70491803, 0.        , 0.        ,\n",
       "        0.51178451, 0.03714774, 0.43333333],\n",
       "       [0.23529412, 0.60301508, 0.55737705, 0.        , 0.        ,\n",
       "        0.4983165 , 0.26942784, 0.21666667],\n",
       "       [0.41176471, 0.93969849, 0.40983607, 0.33333333, 0.52688172,\n",
       "        0.57070707, 0.31938514, 0.21666667],\n",
       "       [0.11764706, 0.43718593, 0.        , 0.23232323, 0.        ,\n",
       "        0.48653199, 0.29675491, 0.06666667],\n",
       "       [0.05882353, 0.48743719, 0.55737705, 0.21212121, 0.        ,\n",
       "        0.45791246, 0.43424424, 0.01666667],\n",
       "       [0.23529412, 0.61809045, 0.6557377 , 0.15151515, 0.23655914,\n",
       "        0.53872054, 0.1558497 , 0.21666667],\n",
       "       [0.35294118, 0.9798995 , 0.57377049, 0.        , 0.        ,\n",
       "        0.52020202, 0.10674637, 0.16666667],\n",
       "       [0.        , 0.50753769, 0.52459016, 0.17171717, 0.        ,\n",
       "        0.35353535, 0.07429547, 0.        ],\n",
       "       [0.70588235, 0.46231156, 0.50819672, 0.07070707, 0.34677419,\n",
       "        0.46464646, 0.36208369, 0.38333333],\n",
       "       [0.05882353, 0.44221106, 0.50819672, 0.24242424, 0.05913978,\n",
       "        0.503367  , 0.14688301, 0.03333333],\n",
       "       [0.17647059, 0.49748744, 0.50819672, 0.19191919, 0.09946237,\n",
       "        0.36700337, 0.08582408, 0.08333333],\n",
       "       [0.        , 0.50251256, 0.72131148, 0.60606061, 0.14784946,\n",
       "        0.78787879, 0.37745517, 0.16666667],\n",
       "       [0.41176471, 0.66834171, 0.68852459, 0.        , 0.        ,\n",
       "        0.67676768, 0.26387703, 0.26666667],\n",
       "       [0.05882353, 0.49748744, 0.59016393, 0.3030303 , 0.02419355,\n",
       "        0.64983165, 0.14261315, 0.        ],\n",
       "       [0.17647059, 0.64321608, 0.59016393, 0.25252525, 0.25537634,\n",
       "        0.54545455, 0.20111016, 0.1       ],\n",
       "       [0.41176471, 0.97487437, 0.55737705, 0.28282828, 0.        ,\n",
       "        0.6043771 , 0.28479932, 0.33333333],\n",
       "       [0.29411765, 0.93969849, 0.62295082, 0.27272727, 0.27822581,\n",
       "        0.73400673, 0.40819812, 0.53333333],\n",
       "       [0.11764706, 0.42211055, 0.40983607, 0.23232323, 0.10215054,\n",
       "        0.51178451, 0.38001708, 0.        ],\n",
       "       [0.05882353, 0.39698492, 0.6147541 , 0.3030303 , 0.        ,\n",
       "        0.53872054, 0.13578138, 0.01666667],\n",
       "       [0.11764706, 0.51256281, 0.70491803, 0.36363636, 0.16129032,\n",
       "        0.76599327, 0.02092229, 0.03333333],\n",
       "       [0.58823529, 0.45226131, 0.69672131, 0.32323232, 0.        ,\n",
       "        0.58754209, 0.31895816, 0.58333333],\n",
       "       [0.76470588, 0.79396985, 0.93442623, 0.        , 0.        ,\n",
       "        0.71212121, 0.0764304 , 0.38333333],\n",
       "       [0.        , 0.47236181, 0.57377049, 0.27272727, 0.15456989,\n",
       "        0.73232323, 0.11485909, 0.        ],\n",
       "       [0.        , 0.64824121, 0.90163934, 0.46464646, 0.17473118,\n",
       "        1.12962963, 0.1029035 , 0.08333333],\n",
       "       [0.17647059, 0.96984925, 0.57377049, 0.31313131, 0.        ,\n",
       "        0.58754209, 0.06959863, 0.06666667],\n",
       "       [0.        , 0.45728643, 0.55737705, 0.32323232, 0.28225806,\n",
       "        0.67171717, 0.1293766 , 0.06666667],\n",
       "       [0.        , 0.57286432, 0.6557377 , 0.34343434, 0.38306452,\n",
       "        0.74410774, 0.03800171, 0.1       ],\n",
       "       [0.47058824, 0.56281407, 0.59016393, 0.        , 0.        ,\n",
       "        0.3973064 , 0.32536294, 0.61666667],\n",
       "       [0.        , 0.68844221, 0.32786885, 0.35353535, 0.22580645,\n",
       "        0.72558923, 0.94363792, 0.2       ],\n",
       "       [0.23529412, 0.51758794, 0.49180328, 0.33333333, 0.25806452,\n",
       "        0.4040404 , 0.37916311, 0.2       ],\n",
       "       [0.        , 0.42211055, 0.52459016, 0.22222222, 0.08870968,\n",
       "        0.6026936 , 0.19940222, 0.        ],\n",
       "       [0.        , 0.65829146, 0.54098361, 0.4040404 , 0.        ,\n",
       "        0.57744108, 0.05038429, 0.01666667],\n",
       "       [0.05882353, 0.39698492, 0.6557377 , 0.25252525, 0.04973118,\n",
       "        0.42760943, 0.21562767, 0.01666667],\n",
       "       [0.17647059, 0.69849246, 0.44262295, 0.        , 0.        ,\n",
       "        0.43097643, 0.1383433 , 0.01666667],\n",
       "       [0.58823529, 0.57788945, 0.        , 0.        , 0.        ,\n",
       "        0.        , 0.07813834, 0.15      ],\n",
       "       [0.        , 0.80904523, 0.40983607, 0.        , 0.        ,\n",
       "        0.36868687, 0.07514944, 0.73333333],\n",
       "       [0.58823529, 0.47236181, 0.59016393, 0.18181818, 0.        ,\n",
       "        0.38888889, 0.22075149, 0.58333333],\n",
       "       [0.58823529, 0.61306533, 0.55737705, 0.        , 0.        ,\n",
       "        0.52525253, 0.07685739, 0.33333333],\n",
       "       [0.23529412, 0.94974874, 0.90163934, 0.31313131, 0.        ,\n",
       "        0.47979798, 0.25704526, 0.26666667],\n",
       "       [0.05882353, 0.36683417, 0.40983607, 0.1010101 , 0.        ,\n",
       "        0.38720539, 0.07258753, 0.        ],\n",
       "       [0.17647059, 0.53266332, 0.44262295, 0.21212121, 0.21236559,\n",
       "        0.52020202, 0.09137489, 0.05      ],\n",
       "       [0.11764706, 0.48241206, 0.55737705, 0.13131313, 0.06586022,\n",
       "        0.35521886, 0.24295474, 0.08333333],\n",
       "       [0.        , 0.52763819, 0.55737705, 0.22222222, 0.        ,\n",
       "        0.33670034, 0.06746371, 0.01666667],\n",
       "       [0.17647059, 0.49748744, 0.44262295, 0.19191919, 0.1155914 ,\n",
       "        0.43097643, 0.0324509 , 0.05      ],\n",
       "       [0.        , 0.54271357, 0.55737705, 0.2020202 , 0.        ,\n",
       "        0.45959596, 0.30273271, 0.18333333],\n",
       "       [0.11764706, 0.45226131, 0.6557377 , 0.14141414, 0.07392473,\n",
       "        0.41077441, 0.07301452, 0.05      ],\n",
       "       [0.05882353, 0.70351759, 0.60655738, 0.26262626, 0.24193548,\n",
       "        0.40572391, 0.32023911, 0.03333333],\n",
       "       [0.05882353, 0.55778894, 0.70491803, 0.19191919, 0.        ,\n",
       "        0.50673401, 0.02775406, 0.03333333],\n",
       "       [0.        , 0.65829146, 0.        , 0.        , 0.        ,\n",
       "        0.72727273, 0.08198121, 0.08333333],\n",
       "       [0.35294118, 0.67336683, 0.57377049, 0.23232323, 0.17473118,\n",
       "        0.5959596 , 0.19812126, 0.13333333],\n",
       "       [0.05882353, 0.90954774, 0.52459016, 0.3030303 , 0.24193548,\n",
       "        0.57407407, 0.10674637, 0.28333333],\n",
       "       [0.47058824, 0.63316583, 0.72131148, 0.36363636, 0.14516129,\n",
       "        0.64814815, 0.11571307, 0.46666667],\n",
       "       [0.35294118, 0.52763819, 0.6557377 , 0.28282828, 0.        ,\n",
       "        0.54713805, 0.34158839, 0.08333333],\n",
       "       [0.29411765, 0.        , 0.6557377 , 0.32323232, 0.        ,\n",
       "        0.69023569, 0.11443211, 0.26666667],\n",
       "       [0.52941176, 0.61306533, 0.45901639, 0.        , 0.        ,\n",
       "        0.56060606, 0.44235696, 0.2       ],\n",
       "       [0.05882353, 0.58291457, 0.57377049, 0.28282828, 0.        ,\n",
       "        0.46127946, 0.05380017, 0.        ],\n",
       "       [0.47058824, 0.60301508, 0.70491803, 0.        , 0.        ,\n",
       "        0.47811448, 0.07728437, 0.01666667],\n",
       "       [0.05882353, 0.        , 0.60655738, 0.2020202 , 0.03091398,\n",
       "        0.46632997, 0.09436379, 0.        ],\n",
       "       [0.58823529, 0.84422111, 0.60655738, 0.        , 0.        ,\n",
       "        0.63973064, 0.19598634, 0.21666667],\n",
       "       [0.29411765, 0.61809045, 0.60655738, 0.4040404 , 0.10349462,\n",
       "        0.57407407, 0.08155423, 0.11666667],\n",
       "       [0.17647059, 0.49748744, 0.6557377 , 0.11111111, 0.08602151,\n",
       "        0.32491582, 0.08795901, 0.15      ],\n",
       "       [0.11764706, 0.64824121, 0.60655738, 0.26262626, 0.27553763,\n",
       "        0.55892256, 0.21904355, 0.06666667],\n",
       "       [0.47058824, 0.45728643, 0.67213115, 0.        , 0.        ,\n",
       "        0.5993266 , 0.21733561, 0.78333333],\n",
       "       [0.11764706, 0.77889447, 0.42622951, 0.27272727, 0.72580645,\n",
       "        0.65151515, 0.06917165, 0.06666667],\n",
       "       [0.52941176, 0.72864322, 0.6557377 , 0.46464646, 0.17473118,\n",
       "        0.63804714, 0.23868488, 0.31666667],\n",
       "       [0.29411765, 0.52261307, 0.60655738, 0.        , 0.        ,\n",
       "        0.48484848, 0.03202391, 0.45      ],\n",
       "       [0.17647059, 0.70854271, 0.        , 0.        , 0.        ,\n",
       "        0.50505051, 0.29163108, 0.1       ],\n",
       "       [0.05882353, 0.55778894, 0.50819672, 0.13131313, 0.24462366,\n",
       "        0.4040404 , 0.02561913, 0.03333333],\n",
       "       [0.23529412, 0.42713568, 0.47540984, 0.22222222, 0.06586022,\n",
       "        0.46801347, 0.09735269, 0.11666667],\n",
       "       [0.35294118, 0.6281407 , 0.63934426, 0.31313131, 0.        ,\n",
       "        0.46464646, 0.20794193, 0.46666667],\n",
       "       [0.05882353, 0.94974874, 0.49180328, 0.23232323, 1.13709677,\n",
       "        0.50673401, 0.13663535, 0.63333333],\n",
       "       [0.35294118, 0.51256281, 0.67213115, 0.        , 0.        ,\n",
       "        0.51851852, 0.04355252, 0.25      ],\n",
       "       [0.35294118, 0.6281407 , 0.55737705, 0.3030303 , 0.16129032,\n",
       "        0.50505051, 0.1648164 , 0.18333333],\n",
       "       [0.58823529, 0.89949749, 0.57377049, 0.        , 0.        ,\n",
       "        0.59090909, 0.05209223, 0.26666667],\n",
       "       [0.29411765, 0.68341709, 0.67213115, 0.        , 0.        ,\n",
       "        0.        , 0.23996584, 0.8       ],\n",
       "       [0.41176471, 0.75376884, 0.54098361, 0.42424242, 0.45967742,\n",
       "        0.58417508, 0.27327071, 0.35      ],\n",
       "       [0.        , 0.5879397 , 0.6557377 , 0.31313131, 0.07123656,\n",
       "        0.76094276, 0.00469684, 0.05      ],\n",
       "       [0.17647059, 0.4120603 , 0.57377049, 0.        , 0.        ,\n",
       "        0.35521886, 0.13279249, 0.06666667],\n",
       "       [0.17647059, 0.91457286, 0.60655738, 0.        , 0.        ,\n",
       "        0.51346801, 0.11400512, 0.13333333],\n",
       "       [0.52941176, 0.44723618, 0.50819672, 0.        , 0.        ,\n",
       "        0.37878788, 0.02732707, 0.2       ],\n",
       "       [0.52941176, 0.85929648, 0.90163934, 0.24242424, 0.32258065,\n",
       "        0.76430976, 0.27455167, 0.55      ],\n",
       "       [0.52941176, 0.56281407, 0.67213115, 0.24242424, 0.        ,\n",
       "        0.47474747, 0.51409052, 0.48333333],\n",
       "       [0.11764706, 0.49748744, 0.42622951, 0.15151515, 0.12634409,\n",
       "        0.41414141, 0.23868488, 0.        ],\n",
       "       [0.23529412, 0.72361809, 0.47540984, 0.28282828, 0.18817204,\n",
       "        0.496633  , 0.08923997, 0.26666667],\n",
       "       [0.        , 0.45728643, 0.6557377 , 0.        , 0.        ,\n",
       "        0.54545455, 0.22331341, 0.1       ],\n",
       "       [0.35294118, 0.49246231, 0.47540984, 0.33333333, 0.25537634,\n",
       "        0.57239057, 0.15029889, 0.36666667],\n",
       "       [0.05882353, 0.60301508, 0.6557377 , 0.48484848, 0.2688172 ,\n",
       "        0.65488215, 0.46285226, 0.33333333],\n",
       "       [0.29411765, 0.58291457, 0.60655738, 0.        , 0.        ,\n",
       "        0.43097643, 0.05251921, 0.15      ],\n",
       "       [0.        , 0.64824121, 0.6557377 , 0.        , 0.        ,\n",
       "        0.52525253, 0.26686593, 0.13333333],\n",
       "       [0.17647059, 0.86934673, 0.67213115, 0.48484848, 0.625     ,\n",
       "        0.64646465, 0.87916311, 0.06666667],\n",
       "       [0.11764706, 0.63819095, 0.37704918, 0.21212121, 0.45026882,\n",
       "        0.57912458, 0.04184458, 0.01666667],\n",
       "       [0.17647059, 0.50251256, 0.55737705, 0.23232323, 0.10887097,\n",
       "        0.53198653, 0.37190436, 0.11666667],\n",
       "       [0.41176471, 0.51758794, 0.54098361, 0.32323232, 0.        ,\n",
       "        0.65824916, 0.11357814, 0.16666667],\n",
       "       [0.47058824, 0.77386935, 0.63934426, 0.32323232, 0.        ,\n",
       "        0.54545455, 0.1558497 , 0.4       ],\n",
       "       [0.        , 0.51256281, 0.6147541 , 0.23232323, 0.        ,\n",
       "        0.        , 0.21093083, 0.        ],\n",
       "       [0.        , 0.49748744, 0.        , 0.        , 0.        ,\n",
       "        0.42087542, 0.07472246, 0.01666667],\n",
       "       [0.11764706, 0.49748744, 0.57377049, 0.16161616, 0.05913978,\n",
       "        0.34343434, 0.06703672, 0.1       ],\n",
       "       [0.        , 0.65829146, 0.72131148, 0.        , 0.        ,\n",
       "        0.53198653, 0.28394535, 0.18333333],\n",
       "       [0.05882353, 0.46231156, 0.50819672, 0.25252525, 0.05510753,\n",
       "        0.32828283, 0.17250213, 0.06666667],\n",
       "       [0.17647059, 0.86934673, 0.63934426, 0.39393939, 0.24865591,\n",
       "        0.56902357, 0.38087105, 0.16666667],\n",
       "       [0.76470588, 0.53266332, 0.57377049, 0.        , 0.        ,\n",
       "        0.57575758, 0.07386849, 0.51666667],\n",
       "       [0.11764706, 0.44221106, 0.47540984, 0.26262626, 0.02150538,\n",
       "        0.47811448, 0.29376601, 0.01666667],\n",
       "       [0.05882353, 0.86934673, 0.60655738, 0.        , 0.        ,\n",
       "        0.61952862, 0.00426985, 0.28333333],\n",
       "       [0.11764706, 0.47236181, 0.55737705, 0.18181818, 0.10215054,\n",
       "        0.43771044, 0.20623399, 0.        ],\n",
       "       [0.52941176, 0.65326633, 0.57377049, 0.        , 0.        ,\n",
       "        0.57575758, 0.24508967, 0.4       ],\n",
       "       [0.58823529, 0.50753769, 0.70491803, 0.37373737, 0.        ,\n",
       "        0.76767677, 0.45175064, 0.28333333],\n",
       "       [0.64705882, 0.63819095, 0.86885246, 0.        , 0.        ,\n",
       "        0.65656566, 0.04782237, 0.5       ],\n",
       "       [0.05882353, 0.35678392, 0.63934426, 0.50505051, 0.06048387,\n",
       "        0.55892256, 0.14688301, 0.        ]])"
      ]
     },
     "execution_count": 20,
     "metadata": {},
     "output_type": "execute_result"
    }
   ],
   "source": [
    "min_max_scaler.transform(X_test_diabetes)"
   ]
  },
  {
   "cell_type": "markdown",
   "metadata": {},
   "source": [
    "#### Desvantagem: \n",
    "- O método é sensível a `outliers`."
   ]
  },
  {
   "cell_type": "markdown",
   "metadata": {},
   "source": [
    "### Standard Scaler"
   ]
  },
  {
   "cell_type": "markdown",
   "metadata": {},
   "source": [
    "#### Nós já vimos o Standard Scaler, quando falamos de padronização de uma curva normal.  "
   ]
  },
  {
   "cell_type": "markdown",
   "metadata": {},
   "source": [
    "<img src=zscore.GIF height=330 width=242/>"
   ]
  },
  {
   "cell_type": "markdown",
   "metadata": {},
   "source": [
    "#### Nesse método, extraímos a média e o desvio padrão. A partir daí, subtraímos a média de cada amostra e dividimos o resultado pelo desvio padrão."
   ]
  },
  {
   "cell_type": "markdown",
   "metadata": {},
   "source": [
    "#### Após a transformação, os dados ficam centrados em $0$ e possuem desvio padrão igual a $1$. "
   ]
  },
  {
   "cell_type": "markdown",
   "metadata": {},
   "source": [
    ">Atenção: Esse método não cria uma distribuição normal."
   ]
  },
  {
   "cell_type": "markdown",
   "metadata": {},
   "source": [
    "#### Inicializando o objeto."
   ]
  },
  {
   "cell_type": "code",
   "execution_count": 21,
   "metadata": {},
   "outputs": [],
   "source": [
    "standard_scaler = StandardScaler()"
   ]
  },
  {
   "cell_type": "markdown",
   "metadata": {},
   "source": [
    "#### Aplicamos o [`fit_transform()`]() na base de treino."
   ]
  },
  {
   "cell_type": "code",
   "execution_count": 22,
   "metadata": {},
   "outputs": [],
   "source": [
    "X_train_diabetes_standard = standard_scaler.fit_transform(X_train_diabetes)\n",
    "X_train_diabetes_standard = pd.DataFrame(X_train_diabetes_standard, \n",
    "                                         columns = X_train_diabetes.columns\n",
    "                                        )"
   ]
  },
  {
   "cell_type": "markdown",
   "metadata": {},
   "source": [
    "#### Distribuições de mass e age após a transformação."
   ]
  },
  {
   "cell_type": "code",
   "execution_count": 23,
   "metadata": {},
   "outputs": [
    {
     "data": {
      "image/png": "[encoded data removed]",
      "text/plain": [
       "<Figure size 432x288 with 1 Axes>"
      ]
     },
     "metadata": {
      "needs_background": "light"
     },
     "output_type": "display_data"
    },
    {
     "data": {
      "image/png": "[encoded data removed]",
      "text/plain": [
       "<Figure size 432x288 with 1 Axes>"
      ]
     },
     "metadata": {
      "needs_background": "light"
     },
     "output_type": "display_data"
    }
   ],
   "source": [
    "sns.kdeplot(X_train_diabetes_standard['mass'])\n",
    "plt.show()\n",
    "sns.kdeplot(X_train_diabetes_standard['age'])\n",
    "plt.show()"
   ]
  },
  {
   "cell_type": "markdown",
   "metadata": {},
   "source": [
    "#### Note que o [`StandardScaler`]() centra os dados em $0$. Além disso, não há um range definido, como no [`MinMaxScaler. Porém, o range das features é próximo."
   ]
  },
  {
   "cell_type": "markdown",
   "metadata": {},
   "source": [
    "#### Calculamos o desvio padrão de `'mass'` e `'age'`."
   ]
  },
  {
   "cell_type": "code",
   "execution_count": 24,
   "metadata": {},
   "outputs": [
    {
     "name": "stdout",
     "output_type": "stream",
     "text": [
      "1.0\n",
      "0.999999999999999\n"
     ]
    }
   ],
   "source": [
    "print(np.std(X_train_diabetes_standard['mass']))\n",
    "print(np.std(X_train_diabetes_standard['age']))"
   ]
  },
  {
   "cell_type": "markdown",
   "metadata": {},
   "source": [
    "#### Se os nossos dados possuem distribuição normal, os algoritmos podem se beneficiar mais utilizando [`StandardScaler`]() em vez de [`MinMaxScaler`]()."
   ]
  },
  {
   "cell_type": "markdown",
   "metadata": {},
   "source": [
    "#### Desvantagem: \n",
    "- Sensível a `outliers`."
   ]
  },
  {
   "cell_type": "markdown",
   "metadata": {},
   "source": [
    "### Robust Scaler"
   ]
  },
  {
   "cell_type": "markdown",
   "metadata": {},
   "source": [
    "#### Um método robusto a outlier é o RobustScaler. Essa transformação é similar à transformação MinMax, porém utilizar os Quartis 1 e 3 para aplicar o scaling, em vez dos valores máximo e mínimo."
   ]
  },
  {
   "cell_type": "markdown",
   "metadata": {},
   "source": [
    "<img src=\"robustScaler.png\" height=289 width=161/>"
   ]
  },
  {
   "cell_type": "markdown",
   "metadata": {},
   "source": [
    "#### O método implementado no [`scikit-learn`]() subtrai a mediana ($Q2$) no lugar de $Q1$."
   ]
  },
  {
   "cell_type": "code",
   "execution_count": 25,
   "metadata": {},
   "outputs": [],
   "source": [
    "robust_scaler = RobustScaler()"
   ]
  },
  {
   "cell_type": "markdown",
   "metadata": {},
   "source": [
    "#### Ajustamos nosso modelo."
   ]
  },
  {
   "cell_type": "code",
   "execution_count": 26,
   "metadata": {},
   "outputs": [],
   "source": [
    "X_train_diabetes_robust = robust_scaler.fit_transform(X_train_diabetes)\n",
    "X_train_diabetes_robust = pd.DataFrame(X_train_diabetes_robust, \n",
    "                                       columns = X_train_diabetes.columns\n",
    "                                      )"
   ]
  },
  {
   "cell_type": "markdown",
   "metadata": {},
   "source": [
    "#### Centralizamos e reescalonamos os dados com o método [`robust_scaler.transform()`](https://scikit-learn.org/stable/modules/generated/sklearn.preprocessing.RobustScaler.html#sklearn.preprocessing.RobustScaler.transform) e convertemos o subconjunto de teste em um `dataframe`."
   ]
  },
  {
   "cell_type": "code",
   "execution_count": 27,
   "metadata": {},
   "outputs": [],
   "source": [
    "# transform\n",
    "X_test_diabetes_robust = robust_scaler.transform(X_test_diabetes)\n",
    "# dataframe\n",
    "X_test_diabetes_robust = pd.DataFrame(X_test_diabetes_robust, \n",
    "                                      columns = X_train_diabetes.columns\n",
    "                                     )"
   ]
  },
  {
   "cell_type": "markdown",
   "metadata": {},
   "source": [
    "#### Checando o antes e o depois das distribuições."
   ]
  },
  {
   "cell_type": "code",
   "execution_count": 28,
   "metadata": {},
   "outputs": [
    {
     "data": {
      "image/png": "[encoded data removed]",
      "text/plain": [
       "<Figure size 432x288 with 1 Axes>"
      ]
     },
     "metadata": {
      "needs_background": "light"
     },
     "output_type": "display_data"
    }
   ],
   "source": [
    "sns.kdeplot(X_train_diabetes['age'], \n",
    "            label = 'original'\n",
    "           )\n",
    "sns.kdeplot(X_train_diabetes_robust['age'], \n",
    "            label = 'scaled'\n",
    "           )\n",
    "plt.show()"
   ]
  },
  {
   "cell_type": "markdown",
   "metadata": {},
   "source": [
    "#### Note que o `range` muda, fica mais comportado, e que não há outliers."
   ]
  },
  {
   "cell_type": "markdown",
   "metadata": {},
   "source": [
    "> **OBSERVAÇÃO**: Não há uma regra de ouro ou garantia de melhoria do modelo utilizando algum transformador. Só podemos realmente falar algo após o treinamento do modelo. Além disso, um mesmo modelo pode se beneficiar de diferentes transformadores em situações diferentes. Porém, vale salientar que determinados algoritmos, como [`PCA`](https://towardsdatascience.com/pca-a-practical-journey-preprocessing-encoding-and-inspiring-applications-64371cb134a) ou [`KMeans`](https://medium.com/analytics-vidhya/why-is-scaling-required-in-knn-and-k-means-8129e4d88ed7), exigem a aplicação de um transformador específico. No geral, as performances são parecidas com diferentes transformadores, mas essa é uma configuração que pode ser ajustada para resultar na melhor performance possível."
   ]
  },
  {
   "cell_type": "markdown",
   "metadata": {},
   "source": [
    "## Variáveis Qualitativas (Categóricas)"
   ]
  },
  {
   "cell_type": "markdown",
   "metadata": {},
   "source": [
    "#### Variáveis numéricas não apresentam muitos problemas em produção. Quando falamos em variáveis [qualitativas](https://towardsdatascience.com/all-about-categorical-variable-encoding-305f3361fd02) temos problemas em potencial para os quais precisamos ter uma rota de fuga."
   ]
  },
  {
   "cell_type": "markdown",
   "metadata": {},
   "source": [
    "#### Os 2 principais problemas são:\n",
    "\n",
    "- Novos níveis nas variáveis.\n",
    "- Níveis raros."
   ]
  },
  {
   "cell_type": "markdown",
   "metadata": {},
   "source": [
    "#### Antes de falar desses dois problemas, vamos mostrar como podemos codificar variáveis qualitativas como números."
   ]
  },
  {
   "cell_type": "markdown",
   "metadata": {},
   "source": [
    "#### Nesse dataset, temos as seguintes variáveis categóricas:"
   ]
  },
  {
   "cell_type": "markdown",
   "metadata": {},
   "source": [
    "- `Embarked`: Indica o porto em que o passageiro embarcou.\n",
    "- `Sex`: Indica o sexo do passageiro.\n",
    "- `Pclass`: Classe que o passageiro viajou."
   ]
  },
  {
   "cell_type": "markdown",
   "metadata": {},
   "source": [
    "### One-Hot Encoder"
   ]
  },
  {
   "cell_type": "markdown",
   "metadata": {},
   "source": [
    "#### Esse primeiro transformador já conhecemos! Isso mesmo, já conhecemos, porém chamamos ele de [`pd.get_dummies()`](https://pandas.pydata.org/pandas-docs/stable/reference/api/pandas.get_dummies.html)."
   ]
  },
  {
   "cell_type": "markdown",
   "metadata": {},
   "source": [
    "#### Um dos principais motivos para utilizarmos o [`One-Hot Encoder`](https://machinelearningmastery.com/how-to-one-hot-encode-sequence-data-in-python/) no lugar do [`.get_dummies()`](https://albertum.medium.com/preprocessing-onehotencoder-vs-pandas-get-dummies-3de1f3d77dcc) é sua integração com a classe com [`Pipelines`](https://medium.com/user-pipeline/machine-learning-feature-encoding-with-onehotencoder-inside-a-pipeline-76d440940f4b) do [`scikit-learn`](https://www.ritchieng.com/machinelearning-one-hot-encoding/), que utilizaremos na última fase da aula."
   ]
  },
  {
   "cell_type": "markdown",
   "metadata": {},
   "source": [
    "#### A ideia é que para cada nível da variável categórica se crie uma coluna, a qual poderá receber o valor $0$ ou $1$."
   ]
  },
  {
   "cell_type": "markdown",
   "metadata": {},
   "source": [
    "<img src=\"getDummies.png\" height=2808 width=710/>"
   ]
  },
  {
   "cell_type": "markdown",
   "metadata": {},
   "source": [
    "#### Vamos usar o [`OneHotEncoder`](https://towardsdatascience.com/one-hot-encoding-multicollinearity-and-the-dummy-variable-trap-b5840be3c41a) para codificar as variáveis."
   ]
  },
  {
   "cell_type": "code",
   "execution_count": 45,
   "metadata": {},
   "outputs": [],
   "source": [
    "cat_cols = ['Embarked', \n",
    "            'Pclass', \n",
    "            'Sex'\n",
    "           ]\n",
    "ohe = OneHotEncoder(sparse = False)"
   ]
  },
  {
   "cell_type": "code",
   "execution_count": 46,
   "metadata": {},
   "outputs": [],
   "source": [
    "X_train_titanic = X_train_titanic.loc[:, cat_cols]"
   ]
  },
  {
   "cell_type": "code",
   "execution_count": 47,
   "metadata": {},
   "outputs": [],
   "source": [
    "X_train_titanic_onehot = ohe.fit_transform(X_train_titanic)"
   ]
  },
  {
   "cell_type": "code",
   "execution_count": 48,
   "metadata": {},
   "outputs": [],
   "source": [
    "X_test_titanic = X_test_titanic.loc[:, cat_cols]"
   ]
  },
  {
   "cell_type": "code",
   "execution_count": 49,
   "metadata": {},
   "outputs": [],
   "source": [
    "X_test_titanic_onehot = ohe.transform(X_test_titanic)"
   ]
  },
  {
   "cell_type": "code",
   "execution_count": 50,
   "metadata": {},
   "outputs": [
    {
     "data": {
      "text/plain": [
       "array(['x0_C', 'x0_Q', 'x0_S', 'x1_1st', 'x1_2nd', 'x1_3rd', 'x2_female',\n",
       "       'x2_male'], dtype=object)"
      ]
     },
     "execution_count": 50,
     "metadata": {},
     "output_type": "execute_result"
    }
   ],
   "source": [
    "ohe.get_feature_names()"
   ]
  },
  {
   "cell_type": "code",
   "execution_count": 51,
   "metadata": {},
   "outputs": [
    {
     "data": {
      "text/html": [
       "<div>\n",
       "<style scoped>\n",
       "    .dataframe tbody tr th:only-of-type {\n",
       "        vertical-align: middle;\n",
       "    }\n",
       "\n",
       "    .dataframe tbody tr th {\n",
       "        vertical-align: top;\n",
       "    }\n",
       "\n",
       "    .dataframe thead th {\n",
       "        text-align: right;\n",
       "    }\n",
       "</style>\n",
       "<table border=\"1\" class=\"dataframe\">\n",
       "  <thead>\n",
       "    <tr style=\"text-align: right;\">\n",
       "      <th></th>\n",
       "      <th>x0_C</th>\n",
       "      <th>x0_Q</th>\n",
       "      <th>x0_S</th>\n",
       "      <th>x1_1st</th>\n",
       "      <th>x1_2nd</th>\n",
       "      <th>x1_3rd</th>\n",
       "      <th>x2_female</th>\n",
       "      <th>x2_male</th>\n",
       "    </tr>\n",
       "  </thead>\n",
       "  <tbody>\n",
       "    <tr>\n",
       "      <th>0</th>\n",
       "      <td>0.0</td>\n",
       "      <td>0.0</td>\n",
       "      <td>1.0</td>\n",
       "      <td>0.0</td>\n",
       "      <td>0.0</td>\n",
       "      <td>1.0</td>\n",
       "      <td>0.0</td>\n",
       "      <td>1.0</td>\n",
       "    </tr>\n",
       "    <tr>\n",
       "      <th>1</th>\n",
       "      <td>0.0</td>\n",
       "      <td>0.0</td>\n",
       "      <td>1.0</td>\n",
       "      <td>0.0</td>\n",
       "      <td>0.0</td>\n",
       "      <td>1.0</td>\n",
       "      <td>0.0</td>\n",
       "      <td>1.0</td>\n",
       "    </tr>\n",
       "    <tr>\n",
       "      <th>2</th>\n",
       "      <td>1.0</td>\n",
       "      <td>0.0</td>\n",
       "      <td>0.0</td>\n",
       "      <td>1.0</td>\n",
       "      <td>0.0</td>\n",
       "      <td>0.0</td>\n",
       "      <td>1.0</td>\n",
       "      <td>0.0</td>\n",
       "    </tr>\n",
       "    <tr>\n",
       "      <th>3</th>\n",
       "      <td>0.0</td>\n",
       "      <td>0.0</td>\n",
       "      <td>1.0</td>\n",
       "      <td>0.0</td>\n",
       "      <td>1.0</td>\n",
       "      <td>0.0</td>\n",
       "      <td>1.0</td>\n",
       "      <td>0.0</td>\n",
       "    </tr>\n",
       "    <tr>\n",
       "      <th>4</th>\n",
       "      <td>0.0</td>\n",
       "      <td>0.0</td>\n",
       "      <td>1.0</td>\n",
       "      <td>1.0</td>\n",
       "      <td>0.0</td>\n",
       "      <td>0.0</td>\n",
       "      <td>0.0</td>\n",
       "      <td>1.0</td>\n",
       "    </tr>\n",
       "    <tr>\n",
       "      <th>...</th>\n",
       "      <td>...</td>\n",
       "      <td>...</td>\n",
       "      <td>...</td>\n",
       "      <td>...</td>\n",
       "      <td>...</td>\n",
       "      <td>...</td>\n",
       "      <td>...</td>\n",
       "      <td>...</td>\n",
       "    </tr>\n",
       "    <tr>\n",
       "      <th>102</th>\n",
       "      <td>0.0</td>\n",
       "      <td>0.0</td>\n",
       "      <td>1.0</td>\n",
       "      <td>0.0</td>\n",
       "      <td>0.0</td>\n",
       "      <td>1.0</td>\n",
       "      <td>0.0</td>\n",
       "      <td>1.0</td>\n",
       "    </tr>\n",
       "    <tr>\n",
       "      <th>103</th>\n",
       "      <td>0.0</td>\n",
       "      <td>0.0</td>\n",
       "      <td>1.0</td>\n",
       "      <td>0.0</td>\n",
       "      <td>0.0</td>\n",
       "      <td>1.0</td>\n",
       "      <td>0.0</td>\n",
       "      <td>1.0</td>\n",
       "    </tr>\n",
       "    <tr>\n",
       "      <th>104</th>\n",
       "      <td>0.0</td>\n",
       "      <td>0.0</td>\n",
       "      <td>1.0</td>\n",
       "      <td>0.0</td>\n",
       "      <td>0.0</td>\n",
       "      <td>1.0</td>\n",
       "      <td>0.0</td>\n",
       "      <td>1.0</td>\n",
       "    </tr>\n",
       "    <tr>\n",
       "      <th>105</th>\n",
       "      <td>0.0</td>\n",
       "      <td>0.0</td>\n",
       "      <td>1.0</td>\n",
       "      <td>0.0</td>\n",
       "      <td>0.0</td>\n",
       "      <td>1.0</td>\n",
       "      <td>0.0</td>\n",
       "      <td>1.0</td>\n",
       "    </tr>\n",
       "    <tr>\n",
       "      <th>106</th>\n",
       "      <td>0.0</td>\n",
       "      <td>0.0</td>\n",
       "      <td>1.0</td>\n",
       "      <td>0.0</td>\n",
       "      <td>0.0</td>\n",
       "      <td>1.0</td>\n",
       "      <td>0.0</td>\n",
       "      <td>1.0</td>\n",
       "    </tr>\n",
       "  </tbody>\n",
       "</table>\n",
       "<p>107 rows × 8 columns</p>\n",
       "</div>"
      ],
      "text/plain": [
       "     x0_C  x0_Q  x0_S  x1_1st  x1_2nd  x1_3rd  x2_female  x2_male\n",
       "0     0.0   0.0   1.0     0.0     0.0     1.0        0.0      1.0\n",
       "1     0.0   0.0   1.0     0.0     0.0     1.0        0.0      1.0\n",
       "2     1.0   0.0   0.0     1.0     0.0     0.0        1.0      0.0\n",
       "3     0.0   0.0   1.0     0.0     1.0     0.0        1.0      0.0\n",
       "4     0.0   0.0   1.0     1.0     0.0     0.0        0.0      1.0\n",
       "..    ...   ...   ...     ...     ...     ...        ...      ...\n",
       "102   0.0   0.0   1.0     0.0     0.0     1.0        0.0      1.0\n",
       "103   0.0   0.0   1.0     0.0     0.0     1.0        0.0      1.0\n",
       "104   0.0   0.0   1.0     0.0     0.0     1.0        0.0      1.0\n",
       "105   0.0   0.0   1.0     0.0     0.0     1.0        0.0      1.0\n",
       "106   0.0   0.0   1.0     0.0     0.0     1.0        0.0      1.0\n",
       "\n",
       "[107 rows x 8 columns]"
      ]
     },
     "execution_count": 51,
     "metadata": {},
     "output_type": "execute_result"
    }
   ],
   "source": [
    "pd.DataFrame(X_test_titanic_onehot, \n",
    "             columns = ohe.get_feature_names()\n",
    "            )"
   ]
  },
  {
   "cell_type": "markdown",
   "metadata": {},
   "source": [
    "#### Desvantagens:\n",
    "\n",
    "- Se a variável possui muitos níveis (estados do brasil), muitas colunas serão criadas e isso pode ser um problema em termos de processamento e de alta dimensionalidade ([maldição da dimensionalidade](https://towardsdatascience.com/the-curse-of-dimensionality-50dc6e49aa1e)).\n",
    "- Alguns modelos (árvores) se beneficiam mais de outros métodos."
   ]
  },
  {
   "cell_type": "markdown",
   "metadata": {},
   "source": [
    "### OrdinalEncoder"
   ]
  },
  {
   "cell_type": "markdown",
   "metadata": {},
   "source": [
    "#### Quando houverem variáveis categóricas ordinais, estas serão melhor codificadas pelo [`OrdinalEncoder()`](https://scikit-learn.org/stable/modules/generated/sklearn.preprocessing.OrdinalEncoder.html). O [`OrdinalEncoder`](https://medium.com/analytics-vidhya/types-of-categorical-data-encoding-schemes-a5bbeb4ba02b) atribui um número para cada nível da variável, de acordo com a ordem pré-estabelecida pelo usuário."
   ]
  },
  {
   "cell_type": "markdown",
   "metadata": {},
   "source": [
    "<img src=\"ordinalEncoder.png\" height=1696 width=710/>"
   ]
  },
  {
   "cell_type": "code",
   "execution_count": 52,
   "metadata": {},
   "outputs": [],
   "source": [
    "X_train_titanic_class = X_train_titanic.loc[:, ['Pclass']]"
   ]
  },
  {
   "cell_type": "markdown",
   "metadata": {},
   "source": [
    "#### Note que `Poor` $<$ `Good` $<$ `Very Good` $<$ `Excellent`. "
   ]
  },
  {
   "cell_type": "code",
   "execution_count": 53,
   "metadata": {},
   "outputs": [],
   "source": [
    "order_levels = ['1st', '2nd', '3rd']"
   ]
  },
  {
   "cell_type": "code",
   "execution_count": 54,
   "metadata": {},
   "outputs": [],
   "source": [
    "oe = OrdinalEncoder(categories = [order_levels])"
   ]
  },
  {
   "cell_type": "code",
   "execution_count": 55,
   "metadata": {},
   "outputs": [
    {
     "data": {
      "text/plain": [
       "array([[2.],\n",
       "       [0.],\n",
       "       [1.],\n",
       "       [1.],\n",
       "       [2.],\n",
       "       [1.],\n",
       "       [2.],\n",
       "       [2.],\n",
       "       [1.],\n",
       "       [2.],\n",
       "       [1.],\n",
       "       [0.],\n",
       "       [2.],\n",
       "       [2.],\n",
       "       [2.],\n",
       "       [2.],\n",
       "       [2.],\n",
       "       [2.],\n",
       "       [0.],\n",
       "       [1.],\n",
       "       [2.],\n",
       "       [2.],\n",
       "       [1.],\n",
       "       [2.],\n",
       "       [2.],\n",
       "       [0.],\n",
       "       [1.],\n",
       "       [0.],\n",
       "       [0.],\n",
       "       [1.],\n",
       "       [1.],\n",
       "       [2.],\n",
       "       [2.],\n",
       "       [2.],\n",
       "       [2.],\n",
       "       [0.],\n",
       "       [2.],\n",
       "       [0.],\n",
       "       [1.],\n",
       "       [2.],\n",
       "       [1.],\n",
       "       [2.],\n",
       "       [2.],\n",
       "       [1.],\n",
       "       [2.],\n",
       "       [2.],\n",
       "       [2.],\n",
       "       [2.],\n",
       "       [1.],\n",
       "       [0.],\n",
       "       [1.],\n",
       "       [1.],\n",
       "       [2.],\n",
       "       [0.],\n",
       "       [2.],\n",
       "       [1.],\n",
       "       [0.],\n",
       "       [2.],\n",
       "       [2.],\n",
       "       [1.],\n",
       "       [0.],\n",
       "       [0.],\n",
       "       [2.],\n",
       "       [0.],\n",
       "       [2.],\n",
       "       [1.],\n",
       "       [0.],\n",
       "       [1.],\n",
       "       [1.],\n",
       "       [0.],\n",
       "       [0.],\n",
       "       [1.],\n",
       "       [2.],\n",
       "       [2.],\n",
       "       [0.],\n",
       "       [0.],\n",
       "       [1.],\n",
       "       [0.],\n",
       "       [0.],\n",
       "       [2.],\n",
       "       [1.],\n",
       "       [2.],\n",
       "       [2.],\n",
       "       [1.],\n",
       "       [1.],\n",
       "       [2.],\n",
       "       [1.],\n",
       "       [0.],\n",
       "       [2.],\n",
       "       [0.],\n",
       "       [0.],\n",
       "       [2.],\n",
       "       [2.],\n",
       "       [1.],\n",
       "       [1.],\n",
       "       [0.],\n",
       "       [2.],\n",
       "       [1.],\n",
       "       [2.],\n",
       "       [1.],\n",
       "       [2.],\n",
       "       [0.],\n",
       "       [2.],\n",
       "       [2.],\n",
       "       [0.],\n",
       "       [2.],\n",
       "       [2.],\n",
       "       [2.],\n",
       "       [2.],\n",
       "       [1.],\n",
       "       [0.],\n",
       "       [0.],\n",
       "       [0.],\n",
       "       [2.],\n",
       "       [2.],\n",
       "       [1.],\n",
       "       [2.],\n",
       "       [1.],\n",
       "       [0.],\n",
       "       [2.],\n",
       "       [1.],\n",
       "       [1.],\n",
       "       [2.],\n",
       "       [2.],\n",
       "       [2.],\n",
       "       [1.],\n",
       "       [0.],\n",
       "       [0.],\n",
       "       [0.],\n",
       "       [2.],\n",
       "       [2.],\n",
       "       [1.],\n",
       "       [0.],\n",
       "       [2.],\n",
       "       [2.],\n",
       "       [2.],\n",
       "       [2.],\n",
       "       [0.],\n",
       "       [0.],\n",
       "       [2.],\n",
       "       [2.],\n",
       "       [1.],\n",
       "       [2.],\n",
       "       [1.],\n",
       "       [0.],\n",
       "       [1.],\n",
       "       [2.],\n",
       "       [2.],\n",
       "       [0.],\n",
       "       [2.],\n",
       "       [1.],\n",
       "       [2.],\n",
       "       [2.],\n",
       "       [2.],\n",
       "       [2.],\n",
       "       [2.],\n",
       "       [0.],\n",
       "       [2.],\n",
       "       [1.],\n",
       "       [2.],\n",
       "       [1.],\n",
       "       [2.],\n",
       "       [0.],\n",
       "       [2.],\n",
       "       [2.],\n",
       "       [0.],\n",
       "       [2.],\n",
       "       [0.],\n",
       "       [2.],\n",
       "       [0.],\n",
       "       [0.],\n",
       "       [0.],\n",
       "       [1.],\n",
       "       [0.],\n",
       "       [0.],\n",
       "       [2.],\n",
       "       [1.],\n",
       "       [1.],\n",
       "       [1.],\n",
       "       [2.],\n",
       "       [2.],\n",
       "       [2.],\n",
       "       [2.],\n",
       "       [0.],\n",
       "       [1.],\n",
       "       [2.],\n",
       "       [1.],\n",
       "       [0.],\n",
       "       [1.],\n",
       "       [1.],\n",
       "       [2.],\n",
       "       [0.],\n",
       "       [1.],\n",
       "       [0.],\n",
       "       [2.],\n",
       "       [1.],\n",
       "       [1.],\n",
       "       [1.],\n",
       "       [2.],\n",
       "       [0.],\n",
       "       [2.],\n",
       "       [2.],\n",
       "       [1.],\n",
       "       [0.],\n",
       "       [0.],\n",
       "       [2.],\n",
       "       [0.],\n",
       "       [2.],\n",
       "       [2.],\n",
       "       [1.],\n",
       "       [1.],\n",
       "       [0.],\n",
       "       [0.],\n",
       "       [0.],\n",
       "       [1.],\n",
       "       [2.],\n",
       "       [0.],\n",
       "       [2.],\n",
       "       [0.],\n",
       "       [2.],\n",
       "       [1.],\n",
       "       [1.],\n",
       "       [2.],\n",
       "       [0.],\n",
       "       [2.],\n",
       "       [0.],\n",
       "       [2.],\n",
       "       [1.],\n",
       "       [0.],\n",
       "       [2.],\n",
       "       [1.],\n",
       "       [2.],\n",
       "       [1.],\n",
       "       [2.],\n",
       "       [2.],\n",
       "       [1.],\n",
       "       [2.],\n",
       "       [1.],\n",
       "       [0.],\n",
       "       [2.],\n",
       "       [0.],\n",
       "       [1.],\n",
       "       [1.],\n",
       "       [0.],\n",
       "       [1.],\n",
       "       [0.],\n",
       "       [2.],\n",
       "       [2.],\n",
       "       [2.],\n",
       "       [2.],\n",
       "       [2.],\n",
       "       [2.],\n",
       "       [0.],\n",
       "       [0.],\n",
       "       [2.],\n",
       "       [2.],\n",
       "       [2.],\n",
       "       [0.],\n",
       "       [0.],\n",
       "       [2.],\n",
       "       [0.],\n",
       "       [1.],\n",
       "       [2.],\n",
       "       [1.],\n",
       "       [1.],\n",
       "       [0.],\n",
       "       [2.],\n",
       "       [2.],\n",
       "       [1.],\n",
       "       [1.],\n",
       "       [2.],\n",
       "       [1.],\n",
       "       [2.],\n",
       "       [2.],\n",
       "       [1.],\n",
       "       [2.],\n",
       "       [2.],\n",
       "       [2.],\n",
       "       [1.],\n",
       "       [0.],\n",
       "       [2.],\n",
       "       [2.],\n",
       "       [2.],\n",
       "       [0.],\n",
       "       [1.],\n",
       "       [2.],\n",
       "       [1.],\n",
       "       [2.],\n",
       "       [0.],\n",
       "       [2.],\n",
       "       [0.],\n",
       "       [1.],\n",
       "       [2.],\n",
       "       [0.],\n",
       "       [2.],\n",
       "       [2.],\n",
       "       [1.],\n",
       "       [0.],\n",
       "       [2.],\n",
       "       [2.],\n",
       "       [1.],\n",
       "       [2.],\n",
       "       [1.],\n",
       "       [2.],\n",
       "       [0.],\n",
       "       [2.],\n",
       "       [2.],\n",
       "       [0.],\n",
       "       [2.],\n",
       "       [0.],\n",
       "       [2.],\n",
       "       [2.],\n",
       "       [2.],\n",
       "       [1.],\n",
       "       [2.],\n",
       "       [2.],\n",
       "       [1.],\n",
       "       [0.],\n",
       "       [2.],\n",
       "       [0.],\n",
       "       [1.],\n",
       "       [2.],\n",
       "       [2.],\n",
       "       [2.],\n",
       "       [1.],\n",
       "       [2.],\n",
       "       [0.],\n",
       "       [1.],\n",
       "       [2.],\n",
       "       [2.],\n",
       "       [1.],\n",
       "       [2.],\n",
       "       [2.],\n",
       "       [0.],\n",
       "       [0.],\n",
       "       [2.],\n",
       "       [0.],\n",
       "       [2.],\n",
       "       [0.],\n",
       "       [2.],\n",
       "       [2.],\n",
       "       [0.],\n",
       "       [2.],\n",
       "       [1.],\n",
       "       [1.],\n",
       "       [2.],\n",
       "       [0.],\n",
       "       [2.],\n",
       "       [2.],\n",
       "       [1.],\n",
       "       [1.],\n",
       "       [2.],\n",
       "       [0.],\n",
       "       [2.],\n",
       "       [2.],\n",
       "       [0.],\n",
       "       [2.],\n",
       "       [1.],\n",
       "       [1.],\n",
       "       [2.],\n",
       "       [2.],\n",
       "       [2.],\n",
       "       [1.],\n",
       "       [0.],\n",
       "       [1.],\n",
       "       [0.],\n",
       "       [2.],\n",
       "       [0.],\n",
       "       [1.],\n",
       "       [2.],\n",
       "       [2.],\n",
       "       [2.],\n",
       "       [2.],\n",
       "       [0.],\n",
       "       [2.],\n",
       "       [2.],\n",
       "       [2.],\n",
       "       [1.],\n",
       "       [0.],\n",
       "       [0.],\n",
       "       [0.],\n",
       "       [2.],\n",
       "       [0.],\n",
       "       [0.],\n",
       "       [2.],\n",
       "       [0.],\n",
       "       [2.],\n",
       "       [1.],\n",
       "       [2.],\n",
       "       [0.],\n",
       "       [1.],\n",
       "       [1.],\n",
       "       [2.],\n",
       "       [1.],\n",
       "       [0.],\n",
       "       [2.],\n",
       "       [2.],\n",
       "       [2.],\n",
       "       [0.],\n",
       "       [0.],\n",
       "       [2.],\n",
       "       [1.],\n",
       "       [1.],\n",
       "       [2.],\n",
       "       [2.],\n",
       "       [2.],\n",
       "       [0.],\n",
       "       [2.],\n",
       "       [2.],\n",
       "       [1.],\n",
       "       [1.],\n",
       "       [0.],\n",
       "       [2.],\n",
       "       [1.],\n",
       "       [2.],\n",
       "       [2.],\n",
       "       [2.],\n",
       "       [0.],\n",
       "       [0.],\n",
       "       [0.],\n",
       "       [2.],\n",
       "       [0.],\n",
       "       [2.],\n",
       "       [2.],\n",
       "       [0.],\n",
       "       [2.],\n",
       "       [2.],\n",
       "       [2.],\n",
       "       [2.],\n",
       "       [2.],\n",
       "       [2.],\n",
       "       [2.],\n",
       "       [0.],\n",
       "       [2.],\n",
       "       [1.],\n",
       "       [2.],\n",
       "       [2.],\n",
       "       [0.],\n",
       "       [2.],\n",
       "       [0.],\n",
       "       [2.],\n",
       "       [0.],\n",
       "       [0.],\n",
       "       [0.],\n",
       "       [1.],\n",
       "       [2.],\n",
       "       [1.],\n",
       "       [0.],\n",
       "       [2.],\n",
       "       [2.],\n",
       "       [0.],\n",
       "       [2.],\n",
       "       [0.],\n",
       "       [0.],\n",
       "       [2.],\n",
       "       [2.],\n",
       "       [2.],\n",
       "       [2.],\n",
       "       [0.],\n",
       "       [2.],\n",
       "       [2.],\n",
       "       [2.],\n",
       "       [2.],\n",
       "       [0.],\n",
       "       [2.],\n",
       "       [1.],\n",
       "       [1.],\n",
       "       [0.],\n",
       "       [0.],\n",
       "       [2.],\n",
       "       [2.],\n",
       "       [1.],\n",
       "       [0.],\n",
       "       [1.],\n",
       "       [2.],\n",
       "       [2.],\n",
       "       [1.],\n",
       "       [0.],\n",
       "       [0.],\n",
       "       [2.],\n",
       "       [0.],\n",
       "       [2.],\n",
       "       [0.],\n",
       "       [1.],\n",
       "       [2.],\n",
       "       [2.],\n",
       "       [0.],\n",
       "       [2.],\n",
       "       [2.],\n",
       "       [2.],\n",
       "       [2.],\n",
       "       [1.],\n",
       "       [0.],\n",
       "       [1.],\n",
       "       [1.],\n",
       "       [2.],\n",
       "       [2.],\n",
       "       [2.],\n",
       "       [2.],\n",
       "       [1.],\n",
       "       [0.],\n",
       "       [2.],\n",
       "       [2.],\n",
       "       [0.],\n",
       "       [2.],\n",
       "       [0.],\n",
       "       [1.],\n",
       "       [1.],\n",
       "       [0.],\n",
       "       [2.],\n",
       "       [2.],\n",
       "       [2.],\n",
       "       [1.],\n",
       "       [0.],\n",
       "       [1.],\n",
       "       [2.],\n",
       "       [0.],\n",
       "       [1.],\n",
       "       [2.],\n",
       "       [1.],\n",
       "       [0.],\n",
       "       [2.],\n",
       "       [0.],\n",
       "       [1.],\n",
       "       [1.],\n",
       "       [0.],\n",
       "       [2.],\n",
       "       [2.],\n",
       "       [2.],\n",
       "       [2.],\n",
       "       [2.],\n",
       "       [2.],\n",
       "       [1.],\n",
       "       [2.],\n",
       "       [1.],\n",
       "       [2.],\n",
       "       [2.],\n",
       "       [0.],\n",
       "       [1.],\n",
       "       [1.],\n",
       "       [0.],\n",
       "       [2.],\n",
       "       [2.],\n",
       "       [1.],\n",
       "       [0.],\n",
       "       [2.],\n",
       "       [0.],\n",
       "       [2.],\n",
       "       [0.],\n",
       "       [1.],\n",
       "       [2.],\n",
       "       [2.],\n",
       "       [1.],\n",
       "       [0.],\n",
       "       [2.],\n",
       "       [2.],\n",
       "       [0.],\n",
       "       [2.],\n",
       "       [2.],\n",
       "       [2.],\n",
       "       [0.],\n",
       "       [2.],\n",
       "       [1.],\n",
       "       [2.],\n",
       "       [2.],\n",
       "       [0.],\n",
       "       [2.],\n",
       "       [2.],\n",
       "       [2.],\n",
       "       [0.],\n",
       "       [2.],\n",
       "       [2.],\n",
       "       [1.],\n",
       "       [1.],\n",
       "       [1.],\n",
       "       [1.],\n",
       "       [1.],\n",
       "       [2.],\n",
       "       [0.],\n",
       "       [2.],\n",
       "       [1.],\n",
       "       [0.],\n",
       "       [1.],\n",
       "       [1.],\n",
       "       [2.],\n",
       "       [0.],\n",
       "       [2.],\n",
       "       [2.],\n",
       "       [2.],\n",
       "       [0.],\n",
       "       [2.],\n",
       "       [0.],\n",
       "       [2.],\n",
       "       [1.],\n",
       "       [2.],\n",
       "       [1.],\n",
       "       [2.],\n",
       "       [1.],\n",
       "       [2.],\n",
       "       [1.],\n",
       "       [2.],\n",
       "       [2.],\n",
       "       [2.],\n",
       "       [0.],\n",
       "       [2.]])"
      ]
     },
     "execution_count": 55,
     "metadata": {},
     "output_type": "execute_result"
    }
   ],
   "source": [
    "oe.fit_transform(X_train_titanic_class)"
   ]
  },
  {
   "cell_type": "markdown",
   "metadata": {},
   "source": [
    "#### Se não especificarmos a ordem dos níveis, o transformador atribui os `labels` por ordem alfabética nos níveis."
   ]
  },
  {
   "cell_type": "code",
   "execution_count": 56,
   "metadata": {},
   "outputs": [
    {
     "data": {
      "text/plain": [
       "array([[2., 2., 1.],\n",
       "       [2., 0., 1.],\n",
       "       [2., 1., 1.],\n",
       "       ...,\n",
       "       [2., 2., 1.],\n",
       "       [2., 0., 1.],\n",
       "       [2., 2., 1.]])"
      ]
     },
     "execution_count": 56,
     "metadata": {},
     "output_type": "execute_result"
    }
   ],
   "source": [
    "oe = OrdinalEncoder()\n",
    "oe.fit_transform(X_train_titanic)"
   ]
  },
  {
   "cell_type": "code",
   "execution_count": 57,
   "metadata": {},
   "outputs": [
    {
     "data": {
      "text/html": [
       "<div>\n",
       "<style scoped>\n",
       "    .dataframe tbody tr th:only-of-type {\n",
       "        vertical-align: middle;\n",
       "    }\n",
       "\n",
       "    .dataframe tbody tr th {\n",
       "        vertical-align: top;\n",
       "    }\n",
       "\n",
       "    .dataframe thead th {\n",
       "        text-align: right;\n",
       "    }\n",
       "</style>\n",
       "<table border=\"1\" class=\"dataframe\">\n",
       "  <thead>\n",
       "    <tr style=\"text-align: right;\">\n",
       "      <th></th>\n",
       "      <th>Embarked</th>\n",
       "      <th>Pclass</th>\n",
       "      <th>Sex</th>\n",
       "    </tr>\n",
       "  </thead>\n",
       "  <tbody>\n",
       "    <tr>\n",
       "      <th>173</th>\n",
       "      <td>S</td>\n",
       "      <td>3rd</td>\n",
       "      <td>male</td>\n",
       "    </tr>\n",
       "    <tr>\n",
       "      <th>6</th>\n",
       "      <td>S</td>\n",
       "      <td>1st</td>\n",
       "      <td>male</td>\n",
       "    </tr>\n",
       "    <tr>\n",
       "      <th>340</th>\n",
       "      <td>S</td>\n",
       "      <td>2nd</td>\n",
       "      <td>male</td>\n",
       "    </tr>\n",
       "    <tr>\n",
       "      <th>314</th>\n",
       "      <td>S</td>\n",
       "      <td>2nd</td>\n",
       "      <td>male</td>\n",
       "    </tr>\n",
       "    <tr>\n",
       "      <th>565</th>\n",
       "      <td>S</td>\n",
       "      <td>3rd</td>\n",
       "      <td>male</td>\n",
       "    </tr>\n",
       "    <tr>\n",
       "      <th>...</th>\n",
       "      <td>...</td>\n",
       "      <td>...</td>\n",
       "      <td>...</td>\n",
       "    </tr>\n",
       "    <tr>\n",
       "      <th>125</th>\n",
       "      <td>C</td>\n",
       "      <td>3rd</td>\n",
       "      <td>male</td>\n",
       "    </tr>\n",
       "    <tr>\n",
       "      <th>401</th>\n",
       "      <td>S</td>\n",
       "      <td>3rd</td>\n",
       "      <td>male</td>\n",
       "    </tr>\n",
       "    <tr>\n",
       "      <th>480</th>\n",
       "      <td>S</td>\n",
       "      <td>3rd</td>\n",
       "      <td>male</td>\n",
       "    </tr>\n",
       "    <tr>\n",
       "      <th>456</th>\n",
       "      <td>S</td>\n",
       "      <td>1st</td>\n",
       "      <td>male</td>\n",
       "    </tr>\n",
       "    <tr>\n",
       "      <th>646</th>\n",
       "      <td>S</td>\n",
       "      <td>3rd</td>\n",
       "      <td>male</td>\n",
       "    </tr>\n",
       "  </tbody>\n",
       "</table>\n",
       "<p>605 rows × 3 columns</p>\n",
       "</div>"
      ],
      "text/plain": [
       "    Embarked Pclass   Sex\n",
       "173        S    3rd  male\n",
       "6          S    1st  male\n",
       "340        S    2nd  male\n",
       "314        S    2nd  male\n",
       "565        S    3rd  male\n",
       "..       ...    ...   ...\n",
       "125        C    3rd  male\n",
       "401        S    3rd  male\n",
       "480        S    3rd  male\n",
       "456        S    1st  male\n",
       "646        S    3rd  male\n",
       "\n",
       "[605 rows x 3 columns]"
      ]
     },
     "execution_count": 57,
     "metadata": {},
     "output_type": "execute_result"
    }
   ],
   "source": [
    "X_train_titanic"
   ]
  },
  {
   "cell_type": "markdown",
   "metadata": {},
   "source": [
    "### Frequency Encoder"
   ]
  },
  {
   "cell_type": "markdown",
   "metadata": {},
   "source": [
    "#### Quando temos muitos níveis nas variáveis categóricas ou mesmo elas não possuem nenhum grau ordinal, podemos utilizar o [`CountFrequencyEncoder()`](https://feature-engine.readthedocs.io/en/latest/encoding/CountFrequencyEncoder.html). O método [`Frequency Encoder`](https://towardsdatascience.com/how-to-encode-categorical-data-d44dde313131) substitui cada nível de classe por sua frequência nos dados de treino."
   ]
  },
  {
   "cell_type": "code",
   "execution_count": 73,
   "metadata": {},
   "outputs": [
    {
     "data": {
      "text/plain": [
       "male      0.642975\n",
       "female    0.357025\n",
       "Name: Sex, dtype: float64"
      ]
     },
     "execution_count": 73,
     "metadata": {},
     "output_type": "execute_result"
    }
   ],
   "source": [
    "X_train_titanic['Sex'].value_counts(normalize = True)"
   ]
  },
  {
   "cell_type": "markdown",
   "metadata": {},
   "source": [
    "Por exemplo, na variável Sex, male seria substituído por 0.65 e female por 0.35."
   ]
  },
  {
   "cell_type": "code",
   "execution_count": 74,
   "metadata": {},
   "outputs": [],
   "source": [
    "cfce = CountFrequencyEncoder(encoding_method = 'frequency', \n",
    "                                        variables = ['Embarked', \n",
    "                                                     'Pclass', \n",
    "                                                     'Sex'\n",
    "                                                    ]\n",
    "                                       )"
   ]
  },
  {
   "cell_type": "code",
   "execution_count": 75,
   "metadata": {},
   "outputs": [
    {
     "data": {
      "text/html": [
       "<div>\n",
       "<style scoped>\n",
       "    .dataframe tbody tr th:only-of-type {\n",
       "        vertical-align: middle;\n",
       "    }\n",
       "\n",
       "    .dataframe tbody tr th {\n",
       "        vertical-align: top;\n",
       "    }\n",
       "\n",
       "    .dataframe thead th {\n",
       "        text-align: right;\n",
       "    }\n",
       "</style>\n",
       "<table border=\"1\" class=\"dataframe\">\n",
       "  <thead>\n",
       "    <tr style=\"text-align: right;\">\n",
       "      <th></th>\n",
       "      <th>Embarked</th>\n",
       "      <th>Pclass</th>\n",
       "      <th>Sex</th>\n",
       "    </tr>\n",
       "  </thead>\n",
       "  <tbody>\n",
       "    <tr>\n",
       "      <th>173</th>\n",
       "      <td>0.770248</td>\n",
       "      <td>0.485950</td>\n",
       "      <td>0.642975</td>\n",
       "    </tr>\n",
       "    <tr>\n",
       "      <th>6</th>\n",
       "      <td>0.770248</td>\n",
       "      <td>0.266116</td>\n",
       "      <td>0.642975</td>\n",
       "    </tr>\n",
       "    <tr>\n",
       "      <th>340</th>\n",
       "      <td>0.770248</td>\n",
       "      <td>0.247934</td>\n",
       "      <td>0.642975</td>\n",
       "    </tr>\n",
       "    <tr>\n",
       "      <th>314</th>\n",
       "      <td>0.770248</td>\n",
       "      <td>0.247934</td>\n",
       "      <td>0.642975</td>\n",
       "    </tr>\n",
       "    <tr>\n",
       "      <th>565</th>\n",
       "      <td>0.770248</td>\n",
       "      <td>0.485950</td>\n",
       "      <td>0.642975</td>\n",
       "    </tr>\n",
       "    <tr>\n",
       "      <th>...</th>\n",
       "      <td>...</td>\n",
       "      <td>...</td>\n",
       "      <td>...</td>\n",
       "    </tr>\n",
       "    <tr>\n",
       "      <th>125</th>\n",
       "      <td>0.186777</td>\n",
       "      <td>0.485950</td>\n",
       "      <td>0.642975</td>\n",
       "    </tr>\n",
       "    <tr>\n",
       "      <th>401</th>\n",
       "      <td>0.770248</td>\n",
       "      <td>0.485950</td>\n",
       "      <td>0.642975</td>\n",
       "    </tr>\n",
       "    <tr>\n",
       "      <th>480</th>\n",
       "      <td>0.770248</td>\n",
       "      <td>0.485950</td>\n",
       "      <td>0.642975</td>\n",
       "    </tr>\n",
       "    <tr>\n",
       "      <th>456</th>\n",
       "      <td>0.770248</td>\n",
       "      <td>0.266116</td>\n",
       "      <td>0.642975</td>\n",
       "    </tr>\n",
       "    <tr>\n",
       "      <th>646</th>\n",
       "      <td>0.770248</td>\n",
       "      <td>0.485950</td>\n",
       "      <td>0.642975</td>\n",
       "    </tr>\n",
       "  </tbody>\n",
       "</table>\n",
       "<p>605 rows × 3 columns</p>\n",
       "</div>"
      ],
      "text/plain": [
       "     Embarked    Pclass       Sex\n",
       "173  0.770248  0.485950  0.642975\n",
       "6    0.770248  0.266116  0.642975\n",
       "340  0.770248  0.247934  0.642975\n",
       "314  0.770248  0.247934  0.642975\n",
       "565  0.770248  0.485950  0.642975\n",
       "..        ...       ...       ...\n",
       "125  0.186777  0.485950  0.642975\n",
       "401  0.770248  0.485950  0.642975\n",
       "480  0.770248  0.485950  0.642975\n",
       "456  0.770248  0.266116  0.642975\n",
       "646  0.770248  0.485950  0.642975\n",
       "\n",
       "[605 rows x 3 columns]"
      ]
     },
     "execution_count": 75,
     "metadata": {},
     "output_type": "execute_result"
    }
   ],
   "source": [
    "cfce.fit_transform(X_train_titanic)"
   ]
  },
  {
   "cell_type": "markdown",
   "metadata": {},
   "source": [
    "### Target Encoder"
   ]
  },
  {
   "cell_type": "markdown",
   "metadata": {},
   "source": [
    "#### Por fim, vamos ver o [`Target Encoder`](https://contrib.scikit-learn.org/category_encoders/targetencoder.html). Esse [método](https://medium.com/analytics-vidhya/target-encoding-vs-one-hot-encoding-with-simple-examples-276a7e7b3e64) é parecido com o anterior. Porém, em vez de olhar simplesmente a freqüência dos níveis, ele observa a freqüência dos níveis nos níveis das variáveis resposta, no caso do `Target` ser categórico, e a média do `Target`, no caso do `Target` ser continuo."
   ]
  },
  {
   "cell_type": "code",
   "execution_count": 79,
   "metadata": {},
   "outputs": [],
   "source": [
    "te = TargetEncoder(cols = ['Embarked', \n",
    "                           'Pclass', \n",
    "                           'Sex'\n",
    "                          ]\n",
    "                  )"
   ]
  },
  {
   "cell_type": "code",
   "execution_count": 80,
   "metadata": {},
   "outputs": [
    {
     "data": {
      "text/html": [
       "<div>\n",
       "<style scoped>\n",
       "    .dataframe tbody tr th:only-of-type {\n",
       "        vertical-align: middle;\n",
       "    }\n",
       "\n",
       "    .dataframe tbody tr th {\n",
       "        vertical-align: top;\n",
       "    }\n",
       "\n",
       "    .dataframe thead th {\n",
       "        text-align: right;\n",
       "    }\n",
       "</style>\n",
       "<table border=\"1\" class=\"dataframe\">\n",
       "  <thead>\n",
       "    <tr style=\"text-align: right;\">\n",
       "      <th></th>\n",
       "      <th>Embarked</th>\n",
       "      <th>Pclass</th>\n",
       "      <th>Sex</th>\n",
       "    </tr>\n",
       "  </thead>\n",
       "  <tbody>\n",
       "    <tr>\n",
       "      <th>173</th>\n",
       "      <td>0.360515</td>\n",
       "      <td>0.231293</td>\n",
       "      <td>0.195373</td>\n",
       "    </tr>\n",
       "    <tr>\n",
       "      <th>6</th>\n",
       "      <td>0.360515</td>\n",
       "      <td>0.627329</td>\n",
       "      <td>0.195373</td>\n",
       "    </tr>\n",
       "    <tr>\n",
       "      <th>340</th>\n",
       "      <td>0.360515</td>\n",
       "      <td>0.473333</td>\n",
       "      <td>0.195373</td>\n",
       "    </tr>\n",
       "    <tr>\n",
       "      <th>314</th>\n",
       "      <td>0.360515</td>\n",
       "      <td>0.473333</td>\n",
       "      <td>0.195373</td>\n",
       "    </tr>\n",
       "    <tr>\n",
       "      <th>565</th>\n",
       "      <td>0.360515</td>\n",
       "      <td>0.231293</td>\n",
       "      <td>0.195373</td>\n",
       "    </tr>\n",
       "    <tr>\n",
       "      <th>...</th>\n",
       "      <td>...</td>\n",
       "      <td>...</td>\n",
       "      <td>...</td>\n",
       "    </tr>\n",
       "    <tr>\n",
       "      <th>125</th>\n",
       "      <td>0.566372</td>\n",
       "      <td>0.231293</td>\n",
       "      <td>0.195373</td>\n",
       "    </tr>\n",
       "    <tr>\n",
       "      <th>401</th>\n",
       "      <td>0.360515</td>\n",
       "      <td>0.231293</td>\n",
       "      <td>0.195373</td>\n",
       "    </tr>\n",
       "    <tr>\n",
       "      <th>480</th>\n",
       "      <td>0.360515</td>\n",
       "      <td>0.231293</td>\n",
       "      <td>0.195373</td>\n",
       "    </tr>\n",
       "    <tr>\n",
       "      <th>456</th>\n",
       "      <td>0.360515</td>\n",
       "      <td>0.627329</td>\n",
       "      <td>0.195373</td>\n",
       "    </tr>\n",
       "    <tr>\n",
       "      <th>646</th>\n",
       "      <td>0.360515</td>\n",
       "      <td>0.231293</td>\n",
       "      <td>0.195373</td>\n",
       "    </tr>\n",
       "  </tbody>\n",
       "</table>\n",
       "<p>605 rows × 3 columns</p>\n",
       "</div>"
      ],
      "text/plain": [
       "     Embarked    Pclass       Sex\n",
       "173  0.360515  0.231293  0.195373\n",
       "6    0.360515  0.627329  0.195373\n",
       "340  0.360515  0.473333  0.195373\n",
       "314  0.360515  0.473333  0.195373\n",
       "565  0.360515  0.231293  0.195373\n",
       "..        ...       ...       ...\n",
       "125  0.566372  0.231293  0.195373\n",
       "401  0.360515  0.231293  0.195373\n",
       "480  0.360515  0.231293  0.195373\n",
       "456  0.360515  0.627329  0.195373\n",
       "646  0.360515  0.231293  0.195373\n",
       "\n",
       "[605 rows x 3 columns]"
      ]
     },
     "execution_count": 80,
     "metadata": {},
     "output_type": "execute_result"
    }
   ],
   "source": [
    "te.fit_transform(X_train_titanic, \n",
    "                 y_train_titanic\n",
    "                )"
   ]
  },
  {
   "cell_type": "code",
   "execution_count": 81,
   "metadata": {},
   "outputs": [],
   "source": [
    "df_train_titanic = pd.concat([X_train_titanic, \n",
    "                              y_train_titanic], \n",
    "                             axis = 1\n",
    "                            )"
   ]
  },
  {
   "cell_type": "code",
   "execution_count": 82,
   "metadata": {},
   "outputs": [
    {
     "data": {
      "text/html": [
       "<div>\n",
       "<style scoped>\n",
       "    .dataframe tbody tr th:only-of-type {\n",
       "        vertical-align: middle;\n",
       "    }\n",
       "\n",
       "    .dataframe tbody tr th {\n",
       "        vertical-align: top;\n",
       "    }\n",
       "\n",
       "    .dataframe thead th {\n",
       "        text-align: right;\n",
       "    }\n",
       "</style>\n",
       "<table border=\"1\" class=\"dataframe\">\n",
       "  <thead>\n",
       "    <tr style=\"text-align: right;\">\n",
       "      <th></th>\n",
       "      <th>Survived</th>\n",
       "    </tr>\n",
       "    <tr>\n",
       "      <th>Sex</th>\n",
       "      <th></th>\n",
       "    </tr>\n",
       "  </thead>\n",
       "  <tbody>\n",
       "    <tr>\n",
       "      <th>female</th>\n",
       "      <td>0.759259</td>\n",
       "    </tr>\n",
       "    <tr>\n",
       "      <th>male</th>\n",
       "      <td>0.195373</td>\n",
       "    </tr>\n",
       "  </tbody>\n",
       "</table>\n",
       "</div>"
      ],
      "text/plain": [
       "        Survived\n",
       "Sex             \n",
       "female  0.759259\n",
       "male    0.195373"
      ]
     },
     "execution_count": 82,
     "metadata": {},
     "output_type": "execute_result"
    }
   ],
   "source": [
    "df_train_titanic.groupby('Sex').mean()"
   ]
  },
  {
   "cell_type": "markdown",
   "metadata": {},
   "source": [
    "# Column Transformer"
   ]
  },
  {
   "cell_type": "markdown",
   "metadata": {},
   "source": [
    "#### Até agora vimos como aplicar as transformações em dados categóricos e numéricos separadamente. Teríamos que coletar os resultados de nossas transformações e agrupá-los para formar um conjunto transformado para inserir em um modelo de Machine Learning. Agora iremos aprender a como realizar todos os processamentos em um único passo, com o auxílio das Classes [`Columns Transformer`](https://machinelearningmastery.com/columntransformer-for-numerical-and-categorical-data/) e `Pipeline`."
   ]
  },
  {
   "cell_type": "markdown",
   "metadata": {},
   "source": [
    "#### Vamos ler o `dataset` não reduzido do `titanic`."
   ]
  },
  {
   "cell_type": "code",
   "execution_count": 83,
   "metadata": {},
   "outputs": [],
   "source": [
    "df_titanic = pd.read_csv('titanic1.csv')"
   ]
  },
  {
   "cell_type": "code",
   "execution_count": 84,
   "metadata": {},
   "outputs": [
    {
     "data": {
      "text/html": [
       "<div>\n",
       "<style scoped>\n",
       "    .dataframe tbody tr th:only-of-type {\n",
       "        vertical-align: middle;\n",
       "    }\n",
       "\n",
       "    .dataframe tbody tr th {\n",
       "        vertical-align: top;\n",
       "    }\n",
       "\n",
       "    .dataframe thead th {\n",
       "        text-align: right;\n",
       "    }\n",
       "</style>\n",
       "<table border=\"1\" class=\"dataframe\">\n",
       "  <thead>\n",
       "    <tr style=\"text-align: right;\">\n",
       "      <th></th>\n",
       "      <th>Pclass</th>\n",
       "      <th>Age</th>\n",
       "      <th>Sex</th>\n",
       "      <th>Embarked</th>\n",
       "      <th>Survived</th>\n",
       "    </tr>\n",
       "  </thead>\n",
       "  <tbody>\n",
       "    <tr>\n",
       "      <th>0</th>\n",
       "      <td>3rd</td>\n",
       "      <td>22.0</td>\n",
       "      <td>male</td>\n",
       "      <td>S</td>\n",
       "      <td>0</td>\n",
       "    </tr>\n",
       "    <tr>\n",
       "      <th>1</th>\n",
       "      <td>1st</td>\n",
       "      <td>38.0</td>\n",
       "      <td>female</td>\n",
       "      <td>C</td>\n",
       "      <td>1</td>\n",
       "    </tr>\n",
       "    <tr>\n",
       "      <th>2</th>\n",
       "      <td>3rd</td>\n",
       "      <td>26.0</td>\n",
       "      <td>female</td>\n",
       "      <td>S</td>\n",
       "      <td>1</td>\n",
       "    </tr>\n",
       "    <tr>\n",
       "      <th>3</th>\n",
       "      <td>1st</td>\n",
       "      <td>35.0</td>\n",
       "      <td>female</td>\n",
       "      <td>S</td>\n",
       "      <td>1</td>\n",
       "    </tr>\n",
       "    <tr>\n",
       "      <th>4</th>\n",
       "      <td>3rd</td>\n",
       "      <td>35.0</td>\n",
       "      <td>male</td>\n",
       "      <td>S</td>\n",
       "      <td>0</td>\n",
       "    </tr>\n",
       "    <tr>\n",
       "      <th>...</th>\n",
       "      <td>...</td>\n",
       "      <td>...</td>\n",
       "      <td>...</td>\n",
       "      <td>...</td>\n",
       "      <td>...</td>\n",
       "    </tr>\n",
       "    <tr>\n",
       "      <th>707</th>\n",
       "      <td>3rd</td>\n",
       "      <td>39.0</td>\n",
       "      <td>female</td>\n",
       "      <td>Q</td>\n",
       "      <td>0</td>\n",
       "    </tr>\n",
       "    <tr>\n",
       "      <th>708</th>\n",
       "      <td>2nd</td>\n",
       "      <td>27.0</td>\n",
       "      <td>male</td>\n",
       "      <td>S</td>\n",
       "      <td>0</td>\n",
       "    </tr>\n",
       "    <tr>\n",
       "      <th>709</th>\n",
       "      <td>1st</td>\n",
       "      <td>19.0</td>\n",
       "      <td>female</td>\n",
       "      <td>S</td>\n",
       "      <td>1</td>\n",
       "    </tr>\n",
       "    <tr>\n",
       "      <th>710</th>\n",
       "      <td>1st</td>\n",
       "      <td>26.0</td>\n",
       "      <td>male</td>\n",
       "      <td>C</td>\n",
       "      <td>1</td>\n",
       "    </tr>\n",
       "    <tr>\n",
       "      <th>711</th>\n",
       "      <td>3rd</td>\n",
       "      <td>32.0</td>\n",
       "      <td>male</td>\n",
       "      <td>Q</td>\n",
       "      <td>0</td>\n",
       "    </tr>\n",
       "  </tbody>\n",
       "</table>\n",
       "<p>712 rows × 5 columns</p>\n",
       "</div>"
      ],
      "text/plain": [
       "    Pclass   Age     Sex Embarked  Survived\n",
       "0      3rd  22.0    male        S         0\n",
       "1      1st  38.0  female        C         1\n",
       "2      3rd  26.0  female        S         1\n",
       "3      1st  35.0  female        S         1\n",
       "4      3rd  35.0    male        S         0\n",
       "..     ...   ...     ...      ...       ...\n",
       "707    3rd  39.0  female        Q         0\n",
       "708    2nd  27.0    male        S         0\n",
       "709    1st  19.0  female        S         1\n",
       "710    1st  26.0    male        C         1\n",
       "711    3rd  32.0    male        Q         0\n",
       "\n",
       "[712 rows x 5 columns]"
      ]
     },
     "execution_count": 84,
     "metadata": {},
     "output_type": "execute_result"
    }
   ],
   "source": [
    "df_titanic"
   ]
  },
  {
   "cell_type": "markdown",
   "metadata": {},
   "source": [
    "#### Nele, temos as variáveis:\n",
    "\n",
    "- `Embarked`: Qualitativa Nominal\n",
    "- `Sex`: Qualitativa Nominal\n",
    "- `Age`: Numérica Contínua\n",
    "- `Pclass`: Qualitativa Ordinal\n",
    "- `Survived`: Target Qualitativo Binário"
   ]
  },
  {
   "cell_type": "markdown",
   "metadata": {},
   "source": [
    "#### Dessa forma, vamos utilizar os seguintes transformadores:\n",
    "\n",
    "- OrdinalEncoder: `Pclass`\n",
    "- MinMaxScaler: `Age`\n",
    "- OneHotEncoder: `Sex`, `Embarked`"
   ]
  },
  {
   "cell_type": "markdown",
   "metadata": {},
   "source": [
    "#### Além disso, iremos usar, ao final do processamento, o modelo de Regressão Logística do ```Scikit-Learn```"
   ]
  },
  {
   "cell_type": "markdown",
   "metadata": {},
   "source": [
    "#### Para construir nosso transformador universal precisamos criar tuplas."
   ]
  },
  {
   "cell_type": "markdown",
   "metadata": {},
   "source": [
    "#### O primeiro elemento da tupla será um identificador, uma `string`, que identifica o nome do processo (pode ser qualquer nome). O segundo elemento é o transformador em si e suas propriedades, se houverem. O terceiro elemento é uma lista com o nome das colunas que irão receber o processamento."
   ]
  },
  {
   "cell_type": "code",
   "execution_count": 87,
   "metadata": {},
   "outputs": [],
   "source": [
    "pipe_cat_ordinal = ('ordinal_encoder', \n",
    "                    OrdinalEncoder(categories = [['1st', '2nd', '3rd']]), \n",
    "                    ['Pclass']\n",
    "                   )\n",
    "pipe_cat_one_hot = ('one_hot_encoder', \n",
    "                    OneHotEncoder(), \n",
    "                    ['Sex', 'Embarked']\n",
    "                   )\n",
    "pipe_num_min_max = ('min_max_scaler', \n",
    "                    MinMaxScaler(), \n",
    "                    ['Age']\n",
    "                   )"
   ]
  },
  {
   "cell_type": "markdown",
   "metadata": {},
   "source": [
    "#### Feito isso, colocamos tudo numa lista e passamos para a classe [`ColumnTransformer`](https://scikit-learn.org/stable/modules/generated/sklearn.compose.ColumnTransformer.html)."
   ]
  },
  {
   "cell_type": "code",
   "execution_count": 88,
   "metadata": {},
   "outputs": [],
   "source": [
    "transformers = [pipe_cat_ordinal,\n",
    "                pipe_cat_one_hot,\n",
    "                pipe_num_min_max\n",
    "               ]\n",
    "pre_processor = ColumnTransformer(transformers)"
   ]
  },
  {
   "cell_type": "markdown",
   "metadata": {},
   "source": [
    "#### Por fim, usaremos a classe [`Pipeline`](https://scikit-learn.org/stable/auto_examples/compose/plot_column_transformer_mixed_types.html) que irá combinar as etapas de pré-processamento e treinamento/previsão."
   ]
  },
  {
   "cell_type": "markdown",
   "metadata": {},
   "source": [
    "#### Para essa classe, passamos uma lista de tuplas. Sempre o modelo vem por último!! Antes dele, pode vir qualquer transformador, qualquer classe que possua o método [`fit`]() e [`transform`]()."
   ]
  },
  {
   "cell_type": "markdown",
   "metadata": {},
   "source": [
    "#### Aqui iremos passar para nosso [`pipeline`](https://scikit-learn.org/stable/modules/generated/sklearn.pipeline.Pipeline.html) o [`pre_processor`](https://scikit-learn.org/stable/modules/preprocessing.html) que acabamos de criar. Esse será nosso `step` número 1, seguido do `step` número 2, que será o modelo de [Regressão Logística]()."
   ]
  },
  {
   "cell_type": "code",
   "execution_count": 90,
   "metadata": {},
   "outputs": [],
   "source": [
    "model = Pipeline(steps = [('pre_processor', pre_processor),\n",
    "                          ('reg_log', LogisticRegression(random_state = 123))\n",
    "                         ]\n",
    "                )"
   ]
  },
  {
   "cell_type": "markdown",
   "metadata": {},
   "source": [
    "#### Vamos dividir nossos dados em treino e teste."
   ]
  },
  {
   "cell_type": "code",
   "execution_count": 91,
   "metadata": {},
   "outputs": [],
   "source": [
    "X_titanic1 = df_titanic.drop('Survived', axis = 1)\n",
    "Y_titanic1 = df_titanic['Survived']\n",
    "X_train_titanic1, X_test_titanic1, Y_train_titanic1, Y_test_titanic1 = train_test_split(X_titanic1, \n",
    "                                                                                        Y_titanic1, \n",
    "                                                                                        train_size = 0.85, \n",
    "                                                                                        random_state = 123\n",
    "                                                                                       )"
   ]
  },
  {
   "cell_type": "markdown",
   "metadata": {},
   "source": [
    "#### Com nosso `pipeline` construído, só precisamos chamar o método `.fit()` e depois o método `.predict()` para realizar previsões com nosso modelo."
   ]
  },
  {
   "cell_type": "code",
   "execution_count": 92,
   "metadata": {},
   "outputs": [
    {
     "data": {
      "text/plain": [
       "Pipeline(steps=[('pre_processor',\n",
       "                 ColumnTransformer(transformers=[('ordinal_encoder',\n",
       "                                                  OrdinalEncoder(categories=[['1st',\n",
       "                                                                              '2nd',\n",
       "                                                                              '3rd']]),\n",
       "                                                  ['Pclass']),\n",
       "                                                 ('one_hot_encoder',\n",
       "                                                  OneHotEncoder(),\n",
       "                                                  ['Sex', 'Embarked']),\n",
       "                                                 ('min_max_scaler',\n",
       "                                                  MinMaxScaler(), ['Age'])])),\n",
       "                ('reg_log', LogisticRegression(random_state=123))])"
      ]
     },
     "execution_count": 92,
     "metadata": {},
     "output_type": "execute_result"
    }
   ],
   "source": [
    "model.fit(X_train_titanic1, Y_train_titanic1)"
   ]
  },
  {
   "cell_type": "code",
   "execution_count": 93,
   "metadata": {},
   "outputs": [
    {
     "data": {
      "text/plain": [
       "array([0, 0, 1, 1, 0, 1, 0, 1, 1, 0, 0, 0, 0, 0, 0, 0, 1, 1, 0, 1, 0, 0,\n",
       "       1, 1, 0, 1, 0, 0, 0, 1, 1, 0, 0, 1, 1, 0, 0, 1, 0, 0, 1, 0, 1, 0,\n",
       "       0, 0, 1, 1, 0, 1, 0, 1, 1, 1, 0, 0, 0, 1, 0, 0, 0, 0, 0, 0, 1, 0,\n",
       "       1, 1, 1, 0, 1, 0, 1, 1, 1, 0, 1, 0, 0, 1, 0, 0, 0, 0, 0, 0, 0, 1,\n",
       "       0, 1, 0, 1, 1, 0, 0, 0, 0, 1, 1, 1, 1, 1, 0, 0, 0, 0, 0])"
      ]
     },
     "execution_count": 93,
     "metadata": {},
     "output_type": "execute_result"
    }
   ],
   "source": [
    "model.predict(X_test_titanic1)"
   ]
  },
  {
   "cell_type": "markdown",
   "metadata": {},
   "source": [
    "#### Vamos visualizar nosso pipeline de pré-processamento e modelagem."
   ]
  },
  {
   "cell_type": "code",
   "execution_count": 94,
   "metadata": {},
   "outputs": [],
   "source": [
    "from sklearn import set_config\n",
    "set_config(display = 'diagram')"
   ]
  },
  {
   "cell_type": "code",
   "execution_count": 95,
   "metadata": {},
   "outputs": [
    {
     "data": {
      "text/html": [
       "<style>div.sk-top-container {color: black;background-color: white;}div.sk-toggleable {background-color: white;}label.sk-toggleable__label {cursor: pointer;display: block;width: 100%;margin-bottom: 0;padding: 0.2em 0.3em;box-sizing: border-box;text-align: center;}div.sk-toggleable__content {max-height: 0;max-width: 0;overflow: hidden;text-align: left;background-color: #f0f8ff;}div.sk-toggleable__content pre {margin: 0.2em;color: black;border-radius: 0.25em;background-color: #f0f8ff;}input.sk-toggleable__control:checked~div.sk-toggleable__content {max-height: 200px;max-width: 100%;overflow: auto;}div.sk-estimator input.sk-toggleable__control:checked~label.sk-toggleable__label {background-color: #d4ebff;}div.sk-label input.sk-toggleable__control:checked~label.sk-toggleable__label {background-color: #d4ebff;}input.sk-hidden--visually {border: 0;clip: rect(1px 1px 1px 1px);clip: rect(1px, 1px, 1px, 1px);height: 1px;margin: -1px;overflow: hidden;padding: 0;position: absolute;width: 1px;}div.sk-estimator {font-family: monospace;background-color: #f0f8ff;margin: 0.25em 0.25em;border: 1px dotted black;border-radius: 0.25em;box-sizing: border-box;}div.sk-estimator:hover {background-color: #d4ebff;}div.sk-parallel-item::after {content: \"\";width: 100%;border-bottom: 1px solid gray;flex-grow: 1;}div.sk-label:hover label.sk-toggleable__label {background-color: #d4ebff;}div.sk-serial::before {content: \"\";position: absolute;border-left: 1px solid gray;box-sizing: border-box;top: 2em;bottom: 0;left: 50%;}div.sk-serial {display: flex;flex-direction: column;align-items: center;background-color: white;}div.sk-item {z-index: 1;}div.sk-parallel {display: flex;align-items: stretch;justify-content: center;background-color: white;}div.sk-parallel-item {display: flex;flex-direction: column;position: relative;background-color: white;}div.sk-parallel-item:first-child::after {align-self: flex-end;width: 50%;}div.sk-parallel-item:last-child::after {align-self: flex-start;width: 50%;}div.sk-parallel-item:only-child::after {width: 0;}div.sk-dashed-wrapped {border: 1px dashed gray;margin: 0.2em;box-sizing: border-box;padding-bottom: 0.1em;background-color: white;position: relative;}div.sk-label label {font-family: monospace;font-weight: bold;background-color: white;display: inline-block;line-height: 1.2em;}div.sk-label-container {position: relative;z-index: 2;text-align: center;}div.sk-container {display: inline-block;position: relative;}</style><div class=\"sk-top-container\"><div class=\"sk-container\"><div class=\"sk-item sk-dashed-wrapped\"><div class=\"sk-label-container\"><div class=\"sk-label sk-toggleable\"><input class=\"sk-toggleable__control sk-hidden--visually\" id=\"8f329796-0e47-4856-8cae-a3d52bf09fb6\" type=\"checkbox\" ><label class=\"sk-toggleable__label\" for=\"8f329796-0e47-4856-8cae-a3d52bf09fb6\">Pipeline</label><div class=\"sk-toggleable__content\"><pre>Pipeline(steps=[('pre_processor',\n",
       "                 ColumnTransformer(transformers=[('ordinal_encoder',\n",
       "                                                  OrdinalEncoder(categories=[['1st',\n",
       "                                                                              '2nd',\n",
       "                                                                              '3rd']]),\n",
       "                                                  ['Pclass']),\n",
       "                                                 ('one_hot_encoder',\n",
       "                                                  OneHotEncoder(),\n",
       "                                                  ['Sex', 'Embarked']),\n",
       "                                                 ('min_max_scaler',\n",
       "                                                  MinMaxScaler(), ['Age'])])),\n",
       "                ('reg_log', LogisticRegression(random_state=123))])</pre></div></div></div><div class=\"sk-serial\"><div class=\"sk-item sk-dashed-wrapped\"><div class=\"sk-label-container\"><div class=\"sk-label sk-toggleable\"><input class=\"sk-toggleable__control sk-hidden--visually\" id=\"86418e84-2cda-4e41-a605-4f4e0eb2570e\" type=\"checkbox\" ><label class=\"sk-toggleable__label\" for=\"86418e84-2cda-4e41-a605-4f4e0eb2570e\">pre_processor: ColumnTransformer</label><div class=\"sk-toggleable__content\"><pre>ColumnTransformer(transformers=[('ordinal_encoder',\n",
       "                                 OrdinalEncoder(categories=[['1st', '2nd',\n",
       "                                                             '3rd']]),\n",
       "                                 ['Pclass']),\n",
       "                                ('one_hot_encoder', OneHotEncoder(),\n",
       "                                 ['Sex', 'Embarked']),\n",
       "                                ('min_max_scaler', MinMaxScaler(), ['Age'])])</pre></div></div></div><div class=\"sk-parallel\"><div class=\"sk-parallel-item\"><div class=\"sk-item\"><div class=\"sk-label-container\"><div class=\"sk-label sk-toggleable\"><input class=\"sk-toggleable__control sk-hidden--visually\" id=\"e7f991be-777c-431e-8025-97082ccbe4b4\" type=\"checkbox\" ><label class=\"sk-toggleable__label\" for=\"e7f991be-777c-431e-8025-97082ccbe4b4\">ordinal_encoder</label><div class=\"sk-toggleable__content\"><pre>['Pclass']</pre></div></div></div><div class=\"sk-serial\"><div class=\"sk-item\"><div class=\"sk-estimator sk-toggleable\"><input class=\"sk-toggleable__control sk-hidden--visually\" id=\"1a439947-d914-47f8-a6db-abd29b399079\" type=\"checkbox\" ><label class=\"sk-toggleable__label\" for=\"1a439947-d914-47f8-a6db-abd29b399079\">OrdinalEncoder</label><div class=\"sk-toggleable__content\"><pre>OrdinalEncoder(categories=[['1st', '2nd', '3rd']])</pre></div></div></div></div></div></div><div class=\"sk-parallel-item\"><div class=\"sk-item\"><div class=\"sk-label-container\"><div class=\"sk-label sk-toggleable\"><input class=\"sk-toggleable__control sk-hidden--visually\" id=\"5ab6b0d5-9b10-46a0-bb4c-e9a6815785d2\" type=\"checkbox\" ><label class=\"sk-toggleable__label\" for=\"5ab6b0d5-9b10-46a0-bb4c-e9a6815785d2\">one_hot_encoder</label><div class=\"sk-toggleable__content\"><pre>['Sex', 'Embarked']</pre></div></div></div><div class=\"sk-serial\"><div class=\"sk-item\"><div class=\"sk-estimator sk-toggleable\"><input class=\"sk-toggleable__control sk-hidden--visually\" id=\"ef035a7e-a980-4086-97be-204db4015813\" type=\"checkbox\" ><label class=\"sk-toggleable__label\" for=\"ef035a7e-a980-4086-97be-204db4015813\">OneHotEncoder</label><div class=\"sk-toggleable__content\"><pre>OneHotEncoder()</pre></div></div></div></div></div></div><div class=\"sk-parallel-item\"><div class=\"sk-item\"><div class=\"sk-label-container\"><div class=\"sk-label sk-toggleable\"><input class=\"sk-toggleable__control sk-hidden--visually\" id=\"2791eeab-4d52-4704-9b96-62ecc46e73ab\" type=\"checkbox\" ><label class=\"sk-toggleable__label\" for=\"2791eeab-4d52-4704-9b96-62ecc46e73ab\">min_max_scaler</label><div class=\"sk-toggleable__content\"><pre>['Age']</pre></div></div></div><div class=\"sk-serial\"><div class=\"sk-item\"><div class=\"sk-estimator sk-toggleable\"><input class=\"sk-toggleable__control sk-hidden--visually\" id=\"91ad2e3f-5427-4a2d-bab4-d54ecafe43fb\" type=\"checkbox\" ><label class=\"sk-toggleable__label\" for=\"91ad2e3f-5427-4a2d-bab4-d54ecafe43fb\">MinMaxScaler</label><div class=\"sk-toggleable__content\"><pre>MinMaxScaler()</pre></div></div></div></div></div></div></div></div><div class=\"sk-item\"><div class=\"sk-estimator sk-toggleable\"><input class=\"sk-toggleable__control sk-hidden--visually\" id=\"274eee94-8f91-4074-96ab-e8c3238a2c4f\" type=\"checkbox\" ><label class=\"sk-toggleable__label\" for=\"274eee94-8f91-4074-96ab-e8c3238a2c4f\">LogisticRegression</label><div class=\"sk-toggleable__content\"><pre>LogisticRegression(random_state=123)</pre></div></div></div></div></div></div></div>"
      ],
      "text/plain": [
       "Pipeline(steps=[('pre_processor',\n",
       "                 ColumnTransformer(transformers=[('ordinal_encoder',\n",
       "                                                  OrdinalEncoder(categories=[['1st',\n",
       "                                                                              '2nd',\n",
       "                                                                              '3rd']]),\n",
       "                                                  ['Pclass']),\n",
       "                                                 ('one_hot_encoder',\n",
       "                                                  OneHotEncoder(),\n",
       "                                                  ['Sex', 'Embarked']),\n",
       "                                                 ('min_max_scaler',\n",
       "                                                  MinMaxScaler(), ['Age'])])),\n",
       "                ('reg_log', LogisticRegression(random_state=123))])"
      ]
     },
     "execution_count": 95,
     "metadata": {},
     "output_type": "execute_result"
    }
   ],
   "source": [
    "model"
   ]
  },
  {
   "cell_type": "markdown",
   "metadata": {},
   "source": [
    "> Observação: Além de lidar com pré-processamento dos dados, um pipeline de modelagem precisa lidar com preenchimento de valores faltosos e tratamento de novos níveis que podem surgir em variáveis categóricas. Por exemplo: digamos que treinamos um modelo para prever vendas em pontos de venda que usam PicPay. Uma das variáveis utilizadas foi o Estado ao qual o estabelecimento pertence. Contudo, o PicPay expandiu para novos Estados e, inclusive Estados que não participaram do treinamento do modelo. Dessa forma, mesmo não tendo visto nada sobre aquele Estado, o modelo deve ser capaz de realizar alguma estimativa. Aprenderemos nas aulas de classificação como tratar esse e outros problemas relacionados às variáveis categóricas, como a questão de níveis raros."
   ]
  },
  {
   "cell_type": "code",
   "execution_count": null,
   "metadata": {},
   "outputs": [],
   "source": [
    " "
   ]
  },
  {
   "cell_type": "code",
   "execution_count": null,
   "metadata": {},
   "outputs": [],
   "source": []
  },
  {
   "cell_type": "code",
   "execution_count": null,
   "metadata": {},
   "outputs": [],
   "source": []
  },
  {
   "cell_type": "code",
   "execution_count": null,
   "metadata": {},
   "outputs": [],
   "source": []
  },
  {
   "cell_type": "code",
   "execution_count": null,
   "metadata": {},
   "outputs": [],
   "source": []
  },
  {
   "cell_type": "code",
   "execution_count": null,
   "metadata": {},
   "outputs": [],
   "source": []
  }
 ],
 "metadata": {
  "kernelspec": {
   "display_name": "Python 3",
   "language": "python",
   "name": "python3"
  },
  "language_info": {
   "codemirror_mode": {
    "name": "ipython",
    "version": 3
   },
   "file_extension": ".py",
   "mimetype": "text/x-python",
   "name": "python",
   "nbconvert_exporter": "python",
   "pygments_lexer": "ipython3",
   "version": "3.7.6"
  },
  "latex_envs": {
   "LaTeX_envs_menu_present": true,
   "autoclose": false,
   "autocomplete": true,
   "bibliofile": "biblio.bib",
   "cite_by": "apalike",
   "current_citInitial": 1,
   "eqLabelWithNumbers": true,
   "eqNumInitial": 1,
   "hotkeys": {
    "equation": "Ctrl-E",
    "itemize": "Ctrl-I"
   },
   "labels_anchors": false,
   "latex_user_defs": false,
   "report_style_numbering": false,
   "user_envs_cfg": false
  },
  "toc": {
   "base_numbering": 1,
   "nav_menu": {},
   "number_sections": true,
   "sideBar": true,
   "skip_h1_title": false,
   "title_cell": "Table of Contents",
   "title_sidebar": "Contents",
   "toc_cell": false,
   "toc_position": {},
   "toc_section_display": true,
   "toc_window_display": false
  },
  "toc-autonumbering": true,
  "varInspector": {
   "cols": {
    "lenName": 16,
    "lenType": 16,
    "lenVar": 40
   },
   "kernels_config": {
    "python": {
     "delete_cmd_postfix": "",
     "delete_cmd_prefix": "del ",
     "library": "var_list.py",
     "varRefreshCmd": "print(var_dic_list())"
    },
    "r": {
     "delete_cmd_postfix": ") ",
     "delete_cmd_prefix": "rm(",
     "library": "var_list.r",
     "varRefreshCmd": "cat(var_dic_list()) "
    }
   },
   "types_to_exclude": [
    "module",
    "function",
    "builtin_function_or_method",
    "instance",
    "_Feature"
   ],
   "window_display": false
  }
 },
 "nbformat": 4,
 "nbformat_minor": 4
}
