{
  "nbformat": 4,
  "nbformat_minor": 0,
  "metadata": {
    "kernelspec": {
      "display_name": "Python 3",
      "language": "python",
      "name": "python3"
    },
    "language_info": {
      "codemirror_mode": {
        "name": "ipython",
        "version": 3
      },
      "file_extension": ".py",
      "mimetype": "text/x-python",
      "name": "python",
      "nbconvert_exporter": "python",
      "pygments_lexer": "ipython3",
      "version": "3.7.6"
    },
    "colab": {
      "name": "M2A32-PRATICA_INDEPENDENTE_REGRESSAO_LINEAR_IV.ipynb",
      "provenance": [],
      "collapsed_sections": []
    }
  },
  "cells": [
    {
      "cell_type": "markdown",
      "metadata": {
        "id": "V9iWeqId4UI5"
      },
      "source": [
        "# Prática Independente - Regressão IV."
      ]
    },
    {
      "cell_type": "markdown",
      "metadata": {
        "id": "YsgodMLh4UJJ"
      },
      "source": [
        "## Dados abertos do Airbnb no Rio de Janeiro:\n",
        "\n",
        "#### Desde 2008, os hóspedes e anfitriões têm usado o Airbnb para expandir as possibilidades de viagem e apresentar uma forma mais única e personalizada de experimentar o mundo. Este conjunto de dados descreve a atividade de listagem e as métricas em Rio de Janeiro, RJ para 2020.\n",
        "\n",
        "### Conteúdo:\n",
        "\n",
        "#### O arquivo `'AB_RJ_2020.csv'` inclui todas as informações necessárias para descobrir mais sobre hosts, disponibilidade geográfica, métricas necessárias para fazer previsões e tirar conclusões.\n",
        "\n",
        "#### Este conjunto de dados [públicos](http://insideairbnb.com/) faz parte do [Airbnb](https://www.airbnb.com.br/)."
      ]
    },
    {
      "cell_type": "markdown",
      "metadata": {
        "id": "yucSqfc94UJK"
      },
      "source": [
        "<img src=\"RegMetroRJ.png\" width=\"1532\" height=\"1037\" align=\"center\"/>"
      ]
    },
    {
      "cell_type": "code",
      "metadata": {
        "id": "rT8FCUnW4X9d",
        "colab": {
          "base_uri": "https://localhost:8080/"
        },
        "outputId": "a429c383-1db0-4328-c42a-0be9cb0bf413"
      },
      "source": [
        "import pandas as pd\n",
        "import matplotlib.pyplot as plt\n",
        "import seaborn as sns\n",
        "import numpy as np\n",
        "from scipy import stats\n",
        "import statsmodels.api as sm\n",
        "from sklearn.preprocessing import OrdinalEncoder\n",
        "from sklearn.impute import KNNImputer\n",
        "from sklearn.linear_model import LinearRegression\n",
        "from sklearn.preprocessing import StandardScaler\n",
        "from sklearn.metrics import mean_absolute_error\n",
        "from sklearn.metrics import mean_squared_error\n",
        "from sklearn.model_selection import train_test_split\n",
        "\n",
        "# Tamanho padrões das figuras e a fonte de seus textos neste notebook\n",
        "plt.rcParams['figure.figsize'] = (10, 8)\n",
        "plt.rcParams['font.size'] = 14"
      ],
      "execution_count": 1,
      "outputs": [
        {
          "output_type": "stream",
          "text": [
            "/usr/local/lib/python3.6/dist-packages/statsmodels/tools/_testing.py:19: FutureWarning: pandas.util.testing is deprecated. Use the functions in the public API at pandas.testing instead.\n",
            "  import pandas.util.testing as tm\n"
          ],
          "name": "stderr"
        }
      ]
    },
    {
      "cell_type": "markdown",
      "metadata": {
        "id": "EEsL0WRNVxRb"
      },
      "source": [
        "#Funções que serão utilizadas ao longo do notebook"
      ]
    },
    {
      "cell_type": "code",
      "metadata": {
        "id": "dSCryW9h6JSN"
      },
      "source": [
        "def EDA (df):\n",
        "    \"\"\"Função que retona algumas métricas de análise estatística descritiva personalizadas\"\"\"\n",
        "    eda_df = {}\n",
        "    eda_df['Amount_NaN'] = df.isnull().sum()\n",
        "    eda_df['%_NaN'] = df.isnull().mean().round(2)\n",
        "    eda_df['DType'] = df.dtypes\n",
        "    eda_df['Amount_Data'] = df.count()\n",
        "    \n",
        "    # Outro ponto para ser verificado, porque para criar a coluna com a quantidade de valores unicos por coluna\n",
        "    # Não utilizei a função df.unique() \n",
        "    colunas = sorted(df.columns.tolist(), key=str.lower, reverse=False)\n",
        "    eda_df['Amount_Unique'] = filtered_result = list(map(lambda x: len(df[x].unique().tolist()), colunas))\n",
        "    \n",
        "    eda_df['Mean'] = np.round(df.mean(), 2)\n",
        "    eda_df['Median'] = np.round(df.median(), 2)\n",
        "    \n",
        "    eda_df['Max'] = df.max()\n",
        "    eda_df['Min'] = df.min()\n",
        "    eda_df['STD'] = np.round(df.std(), 2)\n",
        "    \n",
        "    return pd.DataFrame(eda_df)"
      ],
      "execution_count": 2,
      "outputs": []
    },
    {
      "cell_type": "code",
      "metadata": {
        "id": "Cs6HbgL7V1SH"
      },
      "source": [
        "from scipy import stats\n",
        "\n",
        "def normal(df, col, threshold = 0.05):\n",
        "\n",
        "  \"\"\"Função que retorna se uma distribuição é ou não normal\"\"\"\n",
        "  try:\n",
        "    zscore, p_value = stats.normaltest(df[col])\n",
        "    #print('p_value:', p_value)\n",
        "    #print(\"stats.normaltest(df['{}']):\".format(col), stats.normaltest(df[col]))\n",
        "        \n",
        "    if p_value < threshold:\n",
        "      result = 'A distribuição não é normal'\n",
        "    else:\n",
        "      result = 'A distribuição é normal' \n",
        "  except:\n",
        "    zscore = p_value = np.nan\n",
        "    result = 'Não aplicável'\n",
        "  return result"
      ],
      "execution_count": 3,
      "outputs": []
    },
    {
      "cell_type": "code",
      "metadata": {
        "id": "9q_V7LlqWgY3"
      },
      "source": [
        "#Instanciado objeto OrdinalEncoder\n",
        "encoder = OrdinalEncoder()\n",
        "\n",
        "def encode(data):\n",
        "    \"\"\"função que codifica valores não nulos e substitui no dataset original\"\"\"\n",
        "    #retira os valores nulos dataset\n",
        "    nao_nulos = np.array(data.dropna())\n",
        "    #reshape dos dados para codificação\n",
        "    impute_reshape = nao_nulos.reshape(-1,1)\n",
        "    #codifica os dados\n",
        "    impute_ordinal = encoder.fit_transform(impute_reshape)\n",
        "    #Atribui os valores codificados de volta a valores não nulos\n",
        "    data.loc[data.notnull()] = np.squeeze(impute_ordinal)\n",
        "    return data"
      ],
      "execution_count": 4,
      "outputs": []
    },
    {
      "cell_type": "markdown",
      "metadata": {
        "id": "Sxje2npy4UJL"
      },
      "source": [
        "#### Exercício 1 - Realize uma análise exploratória nos dados abertos do AirBNB para a cidade do Rio de Janeiro."
      ]
    },
    {
      "cell_type": "code",
      "metadata": {
        "id": "89DeNlhI4UJL",
        "colab": {
          "base_uri": "https://localhost:8080/",
          "height": 476
        },
        "outputId": "b71a8f63-ca45-4baf-b853-2dd80dc8e379"
      },
      "source": [
        "dados = pd.read_csv('AB_RJ_2020.csv', index_col= 'id')\n",
        "dados.head()"
      ],
      "execution_count": 5,
      "outputs": [
        {
          "output_type": "execute_result",
          "data": {
            "text/html": [
              "<div>\n",
              "<style scoped>\n",
              "    .dataframe tbody tr th:only-of-type {\n",
              "        vertical-align: middle;\n",
              "    }\n",
              "\n",
              "    .dataframe tbody tr th {\n",
              "        vertical-align: top;\n",
              "    }\n",
              "\n",
              "    .dataframe thead th {\n",
              "        text-align: right;\n",
              "    }\n",
              "</style>\n",
              "<table border=\"1\" class=\"dataframe\">\n",
              "  <thead>\n",
              "    <tr style=\"text-align: right;\">\n",
              "      <th></th>\n",
              "      <th>name</th>\n",
              "      <th>host_id</th>\n",
              "      <th>host_name</th>\n",
              "      <th>neighbourhood</th>\n",
              "      <th>latitude</th>\n",
              "      <th>longitude</th>\n",
              "      <th>room_type</th>\n",
              "      <th>price</th>\n",
              "      <th>minimum_nights</th>\n",
              "      <th>number_of_reviews</th>\n",
              "      <th>last_review</th>\n",
              "      <th>reviews_per_month</th>\n",
              "      <th>calculated_host_listings_count</th>\n",
              "      <th>availability_365</th>\n",
              "    </tr>\n",
              "    <tr>\n",
              "      <th>id</th>\n",
              "      <th></th>\n",
              "      <th></th>\n",
              "      <th></th>\n",
              "      <th></th>\n",
              "      <th></th>\n",
              "      <th></th>\n",
              "      <th></th>\n",
              "      <th></th>\n",
              "      <th></th>\n",
              "      <th></th>\n",
              "      <th></th>\n",
              "      <th></th>\n",
              "      <th></th>\n",
              "      <th></th>\n",
              "    </tr>\n",
              "  </thead>\n",
              "  <tbody>\n",
              "    <tr>\n",
              "      <th>17878</th>\n",
              "      <td>Very Nice 2Br in Copacabana w. balcony, fast WiFi</td>\n",
              "      <td>68997</td>\n",
              "      <td>Matthias</td>\n",
              "      <td>Rio de Janeiro, Brazil</td>\n",
              "      <td>-22.96592</td>\n",
              "      <td>-43.17896</td>\n",
              "      <td>Entire home/apt</td>\n",
              "      <td>$500.00</td>\n",
              "      <td>5</td>\n",
              "      <td>259</td>\n",
              "      <td>2020-12-26</td>\n",
              "      <td>2.03</td>\n",
              "      <td>1</td>\n",
              "      <td>0</td>\n",
              "    </tr>\n",
              "    <tr>\n",
              "      <th>25026</th>\n",
              "      <td>Beautiful Modern Decorated Studio in Copa</td>\n",
              "      <td>3746246</td>\n",
              "      <td>Ghizlane</td>\n",
              "      <td>Rio de Janeiro, Brazil</td>\n",
              "      <td>-22.97712</td>\n",
              "      <td>-43.19045</td>\n",
              "      <td>Entire home/apt</td>\n",
              "      <td>$160.00</td>\n",
              "      <td>7</td>\n",
              "      <td>238</td>\n",
              "      <td>2020-02-15</td>\n",
              "      <td>1.85</td>\n",
              "      <td>11</td>\n",
              "      <td>335</td>\n",
              "    </tr>\n",
              "    <tr>\n",
              "      <th>35636</th>\n",
              "      <td>Cosy flat close to Ipanema beach</td>\n",
              "      <td>153232</td>\n",
              "      <td>Patricia</td>\n",
              "      <td>Rio de Janeiro, Brazil</td>\n",
              "      <td>-22.98816</td>\n",
              "      <td>-43.19359</td>\n",
              "      <td>Entire home/apt</td>\n",
              "      <td>$259.00</td>\n",
              "      <td>2</td>\n",
              "      <td>181</td>\n",
              "      <td>2020-03-15</td>\n",
              "      <td>2.07</td>\n",
              "      <td>1</td>\n",
              "      <td>267</td>\n",
              "    </tr>\n",
              "    <tr>\n",
              "      <th>35764</th>\n",
              "      <td>COPACABANA SEA BREEZE  -  RIO - 20 X Superhost</td>\n",
              "      <td>153691</td>\n",
              "      <td>Patricia Miranda &amp; Paulo</td>\n",
              "      <td>Rio de Janeiro, Brazil</td>\n",
              "      <td>-22.98127</td>\n",
              "      <td>-43.19046</td>\n",
              "      <td>Entire home/apt</td>\n",
              "      <td>$157.00</td>\n",
              "      <td>3</td>\n",
              "      <td>346</td>\n",
              "      <td>2020-12-20</td>\n",
              "      <td>2.78</td>\n",
              "      <td>1</td>\n",
              "      <td>89</td>\n",
              "    </tr>\n",
              "    <tr>\n",
              "      <th>41198</th>\n",
              "      <td>Modern 2bed,Top end of Copacabana</td>\n",
              "      <td>178975</td>\n",
              "      <td>Nicky</td>\n",
              "      <td>NaN</td>\n",
              "      <td>-22.97962</td>\n",
              "      <td>-43.19230</td>\n",
              "      <td>Entire home/apt</td>\n",
              "      <td>$1,035.00</td>\n",
              "      <td>3</td>\n",
              "      <td>18</td>\n",
              "      <td>2016-02-09</td>\n",
              "      <td>0.19</td>\n",
              "      <td>2</td>\n",
              "      <td>365</td>\n",
              "    </tr>\n",
              "  </tbody>\n",
              "</table>\n",
              "</div>"
            ],
            "text/plain": [
              "                                                    name  ...  availability_365\n",
              "id                                                        ...                  \n",
              "17878  Very Nice 2Br in Copacabana w. balcony, fast WiFi  ...                 0\n",
              "25026          Beautiful Modern Decorated Studio in Copa  ...               335\n",
              "35636                   Cosy flat close to Ipanema beach  ...               267\n",
              "35764     COPACABANA SEA BREEZE  -  RIO - 20 X Superhost  ...                89\n",
              "41198                  Modern 2bed,Top end of Copacabana  ...               365\n",
              "\n",
              "[5 rows x 14 columns]"
            ]
          },
          "metadata": {
            "tags": []
          },
          "execution_count": 5
        }
      ]
    },
    {
      "cell_type": "code",
      "metadata": {
        "colab": {
          "base_uri": "https://localhost:8080/"
        },
        "id": "k9sZqpzM9HU6",
        "outputId": "a280639d-b529-480f-b56c-6b276aa08054"
      },
      "source": [
        "print(f'Instâncias: {dados.shape[0]}')\n",
        "print(f'Variáveis: {dados.shape[1]}')"
      ],
      "execution_count": 6,
      "outputs": [
        {
          "output_type": "stream",
          "text": [
            "Instâncias: 25784\n",
            "Variáveis: 14\n"
          ],
          "name": "stdout"
        }
      ]
    },
    {
      "cell_type": "code",
      "metadata": {
        "colab": {
          "base_uri": "https://localhost:8080/",
          "height": 483
        },
        "id": "zNFQq_9W4UJM",
        "outputId": "23f85056-3263-40ba-ec29-157a249ed76c"
      },
      "source": [
        "EDA(dados)"
      ],
      "execution_count": 7,
      "outputs": [
        {
          "output_type": "execute_result",
          "data": {
            "text/html": [
              "<div>\n",
              "<style scoped>\n",
              "    .dataframe tbody tr th:only-of-type {\n",
              "        vertical-align: middle;\n",
              "    }\n",
              "\n",
              "    .dataframe tbody tr th {\n",
              "        vertical-align: top;\n",
              "    }\n",
              "\n",
              "    .dataframe thead th {\n",
              "        text-align: right;\n",
              "    }\n",
              "</style>\n",
              "<table border=\"1\" class=\"dataframe\">\n",
              "  <thead>\n",
              "    <tr style=\"text-align: right;\">\n",
              "      <th></th>\n",
              "      <th>Amount_NaN</th>\n",
              "      <th>%_NaN</th>\n",
              "      <th>DType</th>\n",
              "      <th>Amount_Data</th>\n",
              "      <th>Amount_Unique</th>\n",
              "      <th>Mean</th>\n",
              "      <th>Median</th>\n",
              "      <th>Max</th>\n",
              "      <th>Min</th>\n",
              "      <th>STD</th>\n",
              "    </tr>\n",
              "  </thead>\n",
              "  <tbody>\n",
              "    <tr>\n",
              "      <th>availability_365</th>\n",
              "      <td>0</td>\n",
              "      <td>0.00</td>\n",
              "      <td>int64</td>\n",
              "      <td>25784</td>\n",
              "      <td>366</td>\n",
              "      <td>215.30</td>\n",
              "      <td>247.00</td>\n",
              "      <td>365</td>\n",
              "      <td>0</td>\n",
              "      <td>1.408900e+02</td>\n",
              "    </tr>\n",
              "    <tr>\n",
              "      <th>calculated_host_listings_count</th>\n",
              "      <td>0</td>\n",
              "      <td>0.00</td>\n",
              "      <td>int64</td>\n",
              "      <td>25784</td>\n",
              "      <td>48</td>\n",
              "      <td>6.58</td>\n",
              "      <td>1.00</td>\n",
              "      <td>200</td>\n",
              "      <td>1</td>\n",
              "      <td>2.000000e+01</td>\n",
              "    </tr>\n",
              "    <tr>\n",
              "      <th>host_id</th>\n",
              "      <td>0</td>\n",
              "      <td>0.00</td>\n",
              "      <td>int64</td>\n",
              "      <td>25784</td>\n",
              "      <td>16946</td>\n",
              "      <td>96308131.49</td>\n",
              "      <td>58502919.50</td>\n",
              "      <td>381289871</td>\n",
              "      <td>3607</td>\n",
              "      <td>1.041834e+08</td>\n",
              "    </tr>\n",
              "    <tr>\n",
              "      <th>host_name</th>\n",
              "      <td>8</td>\n",
              "      <td>0.00</td>\n",
              "      <td>object</td>\n",
              "      <td>25776</td>\n",
              "      <td>5076</td>\n",
              "      <td>NaN</td>\n",
              "      <td>NaN</td>\n",
              "      <td>NaN</td>\n",
              "      <td>NaN</td>\n",
              "      <td>NaN</td>\n",
              "    </tr>\n",
              "    <tr>\n",
              "      <th>last_review</th>\n",
              "      <td>9932</td>\n",
              "      <td>0.39</td>\n",
              "      <td>object</td>\n",
              "      <td>15852</td>\n",
              "      <td>1447</td>\n",
              "      <td>NaN</td>\n",
              "      <td>NaN</td>\n",
              "      <td>NaN</td>\n",
              "      <td>NaN</td>\n",
              "      <td>NaN</td>\n",
              "    </tr>\n",
              "    <tr>\n",
              "      <th>latitude</th>\n",
              "      <td>0</td>\n",
              "      <td>0.00</td>\n",
              "      <td>float64</td>\n",
              "      <td>25784</td>\n",
              "      <td>9782</td>\n",
              "      <td>-22.97</td>\n",
              "      <td>-22.97</td>\n",
              "      <td>-22.7498</td>\n",
              "      <td>-23.0729</td>\n",
              "      <td>3.000000e-02</td>\n",
              "    </tr>\n",
              "    <tr>\n",
              "      <th>longitude</th>\n",
              "      <td>0</td>\n",
              "      <td>0.00</td>\n",
              "      <td>float64</td>\n",
              "      <td>25784</td>\n",
              "      <td>12093</td>\n",
              "      <td>-43.25</td>\n",
              "      <td>-43.20</td>\n",
              "      <td>-43.1049</td>\n",
              "      <td>-43.7048</td>\n",
              "      <td>1.000000e-01</td>\n",
              "    </tr>\n",
              "    <tr>\n",
              "      <th>minimum_nights</th>\n",
              "      <td>0</td>\n",
              "      <td>0.00</td>\n",
              "      <td>int64</td>\n",
              "      <td>25784</td>\n",
              "      <td>67</td>\n",
              "      <td>4.77</td>\n",
              "      <td>2.00</td>\n",
              "      <td>1000</td>\n",
              "      <td>1</td>\n",
              "      <td>1.904000e+01</td>\n",
              "    </tr>\n",
              "    <tr>\n",
              "      <th>name</th>\n",
              "      <td>29</td>\n",
              "      <td>0.00</td>\n",
              "      <td>object</td>\n",
              "      <td>25755</td>\n",
              "      <td>25086</td>\n",
              "      <td>NaN</td>\n",
              "      <td>NaN</td>\n",
              "      <td>NaN</td>\n",
              "      <td>NaN</td>\n",
              "      <td>NaN</td>\n",
              "    </tr>\n",
              "    <tr>\n",
              "      <th>neighbourhood</th>\n",
              "      <td>11675</td>\n",
              "      <td>0.45</td>\n",
              "      <td>object</td>\n",
              "      <td>14109</td>\n",
              "      <td>270</td>\n",
              "      <td>NaN</td>\n",
              "      <td>NaN</td>\n",
              "      <td>NaN</td>\n",
              "      <td>NaN</td>\n",
              "      <td>NaN</td>\n",
              "    </tr>\n",
              "    <tr>\n",
              "      <th>number_of_reviews</th>\n",
              "      <td>0</td>\n",
              "      <td>0.00</td>\n",
              "      <td>int64</td>\n",
              "      <td>25784</td>\n",
              "      <td>273</td>\n",
              "      <td>11.96</td>\n",
              "      <td>1.00</td>\n",
              "      <td>431</td>\n",
              "      <td>0</td>\n",
              "      <td>2.937000e+01</td>\n",
              "    </tr>\n",
              "    <tr>\n",
              "      <th>price</th>\n",
              "      <td>0</td>\n",
              "      <td>0.00</td>\n",
              "      <td>object</td>\n",
              "      <td>25784</td>\n",
              "      <td>2187</td>\n",
              "      <td>NaN</td>\n",
              "      <td>NaN</td>\n",
              "      <td>$999.00</td>\n",
              "      <td>$0.00</td>\n",
              "      <td>NaN</td>\n",
              "    </tr>\n",
              "    <tr>\n",
              "      <th>reviews_per_month</th>\n",
              "      <td>9932</td>\n",
              "      <td>0.39</td>\n",
              "      <td>float64</td>\n",
              "      <td>15852</td>\n",
              "      <td>477</td>\n",
              "      <td>0.59</td>\n",
              "      <td>0.24</td>\n",
              "      <td>14.55</td>\n",
              "      <td>0.01</td>\n",
              "      <td>8.200000e-01</td>\n",
              "    </tr>\n",
              "    <tr>\n",
              "      <th>room_type</th>\n",
              "      <td>0</td>\n",
              "      <td>0.00</td>\n",
              "      <td>object</td>\n",
              "      <td>25784</td>\n",
              "      <td>4</td>\n",
              "      <td>NaN</td>\n",
              "      <td>NaN</td>\n",
              "      <td>Shared room</td>\n",
              "      <td>Entire home/apt</td>\n",
              "      <td>NaN</td>\n",
              "    </tr>\n",
              "  </tbody>\n",
              "</table>\n",
              "</div>"
            ],
            "text/plain": [
              "                                Amount_NaN  ...           STD\n",
              "availability_365                         0  ...  1.408900e+02\n",
              "calculated_host_listings_count           0  ...  2.000000e+01\n",
              "host_id                                  0  ...  1.041834e+08\n",
              "host_name                                8  ...           NaN\n",
              "last_review                           9932  ...           NaN\n",
              "latitude                                 0  ...  3.000000e-02\n",
              "longitude                                0  ...  1.000000e-01\n",
              "minimum_nights                           0  ...  1.904000e+01\n",
              "name                                    29  ...           NaN\n",
              "neighbourhood                        11675  ...           NaN\n",
              "number_of_reviews                        0  ...  2.937000e+01\n",
              "price                                    0  ...           NaN\n",
              "reviews_per_month                     9932  ...  8.200000e-01\n",
              "room_type                                0  ...           NaN\n",
              "\n",
              "[14 rows x 10 columns]"
            ]
          },
          "metadata": {
            "tags": []
          },
          "execution_count": 7
        }
      ]
    },
    {
      "cell_type": "markdown",
      "metadata": {
        "id": "uIj1uh-o6nib"
      },
      "source": [
        "1) Temos 25.784 instâncias no dataset e 14 variáveis a priori;\n",
        "\n",
        "2) Temos muitos dados nulos nas variáveis last_review, neighbourhood e reviews_per_month\n",
        "\n",
        "3) Precisamos tratar os dados da coluna price para tranformá-los em tipo numérico para utilizarmos no modelo de regressão com o tipo correto\n",
        "\n",
        "4) Temos uma media de 215 em que os hosts estão disponíveis, por ano, com uma mediana de 247 e moda de 365. A maioria está disponivel o ano todo, porém possuímos outliers com o número de 0 (seria um erro nos dados?) disponíveis por ano que podem estar puxando a media pra baixo.\n",
        "\n",
        "5) Olhando mediana e media podemos indicar que a maioria dos dados de minímo de noite (para a paga do valor indicado) está entre 2 e 5)."
      ]
    },
    {
      "cell_type": "code",
      "metadata": {
        "colab": {
          "base_uri": "https://localhost:8080/"
        },
        "id": "MJsMt---FSUE",
        "outputId": "1f1c2339-fc19-475f-a215-1076b3ce9a3f"
      },
      "source": [
        "dados['host_name'].value_counts()"
      ],
      "execution_count": 8,
      "outputs": [
        {
          "output_type": "execute_result",
          "data": {
            "text/plain": [
              "Daniel           318\n",
              "Maria            270\n",
              "Marcelo          243\n",
              "Ricardo          212\n",
              "Carlos           196\n",
              "                ... \n",
              "Hakumi             1\n",
              "Juliana De         1\n",
              "Rubs               1\n",
              "Kauany             1\n",
              "Fabiana Karla      1\n",
              "Name: host_name, Length: 5075, dtype: int64"
            ]
          },
          "metadata": {
            "tags": []
          },
          "execution_count": 8
        }
      ]
    },
    {
      "cell_type": "markdown",
      "metadata": {
        "id": "SZdVCcz8FtBw"
      },
      "source": [
        "Ao contar o número de hosts por pessoas vemos muitas que se repetem. Isso pode se dar porque só o primeiro nome está contido e assim são pessoas diferentes com nomes iguais ou pode haver pessoas com maior número de locais disponiveis na plataforma Airbnd e outras que colocam a vaga de forma mais eventual."
      ]
    },
    {
      "cell_type": "markdown",
      "metadata": {
        "id": "-ZOf9NJD4UJP"
      },
      "source": [
        "#### Exercício 2 -Faça a limpeza dos dados."
      ]
    },
    {
      "cell_type": "markdown",
      "metadata": {
        "id": "yK7od2AHgKY5"
      },
      "source": [
        "1) Ao explorar a coluna neighbourhood encontramos hosts do Bairro Rio de Janeiro escrito de duas formas diferentes: 'río (ascento agudo no i) de janeiro e rio (sem acento agudo no i) de janeiro. Vamos padronizar os dados retirando o acento agudo desses i's. \n",
        "\n",
        "2) Vamos retirar colunas que não serão utilizadas no modelo e passar os nomes daquelas que possuem variáveis categóricas para variáveis numéricas.\n",
        "\n",
        "3) Além disso iremos aproveitar e passar todos os seus nomes para minúsculos. Assim evitamos que os mesmos tipos de quartos ou mesmos bairros sejam codificados como diferentes por estarem escritos de forma diferente."
      ]
    },
    {
      "cell_type": "code",
      "metadata": {
        "id": "ZGcYeZKyg3mz"
      },
      "source": [
        "#Retirando colunas que não serão utilizadas\n",
        "dados.drop(labels= ['host_name', 'host_id', 'name', 'last_review'], axis= 1, inplace= True)\n",
        "\n",
        "#Passando valores de colunas categóricas para letras minúsculas\n",
        "colunas_minusculas = ['neighbourhood', 'room_type']\n",
        "for coluna in colunas_minusculas:\n",
        "  dados[coluna].str.lower()\n",
        "\n",
        "#Padronizando nome do bairro rio de janeiro\n",
        "dados['neighbourhood']= dados['neighbourhood'].str.replace('í', 'i', regex= True)"
      ],
      "execution_count": 9,
      "outputs": []
    },
    {
      "cell_type": "markdown",
      "metadata": {
        "id": "YvlQt9WMgGuI"
      },
      "source": [
        "Vamos transformar a coluna price de object para numérica"
      ]
    },
    {
      "cell_type": "code",
      "metadata": {
        "colab": {
          "base_uri": "https://localhost:8080/"
        },
        "id": "Fm5IgN9k4UJR",
        "outputId": "835f3cf7-a261-4b78-d7e0-1b800100f06f"
      },
      "source": [
        "#Modificando coluna de preço de object para int\n",
        "dados['price']= dados['price'].str.replace('$', '', regex= True)\n",
        "dados['price']= dados['price'].str.replace(',', '', regex= True)\n",
        "dados['price'] = pd.to_numeric(dados['price'])\n",
        "\n",
        "dados['price'].head()"
      ],
      "execution_count": 10,
      "outputs": [
        {
          "output_type": "execute_result",
          "data": {
            "text/plain": [
              "id\n",
              "17878     500.0\n",
              "25026     160.0\n",
              "35636     259.0\n",
              "35764     157.0\n",
              "41198    1035.0\n",
              "Name: price, dtype: float64"
            ]
          },
          "metadata": {
            "tags": []
          },
          "execution_count": 10
        }
      ]
    },
    {
      "cell_type": "markdown",
      "metadata": {
        "id": "kQTJUA7hWtV8"
      },
      "source": [
        "Um dos pressupostos da regressão linear é que a distribuição das variáveis sejam normalizadas: vamos fazer o teste estatístico pra sabermos se a distribuição de nossa variável resposta (o preço dos hosts) é ou não normal."
      ]
    },
    {
      "cell_type": "code",
      "metadata": {
        "colab": {
          "base_uri": "https://localhost:8080/",
          "height": 35
        },
        "id": "vgbhU0FoW5jU",
        "outputId": "0f8a2607-0421-42a8-eb91-e25dceb91de0"
      },
      "source": [
        "normal(dados, 'price')"
      ],
      "execution_count": 11,
      "outputs": [
        {
          "output_type": "execute_result",
          "data": {
            "application/vnd.google.colaboratory.intrinsic+json": {
              "type": "string"
            },
            "text/plain": [
              "'A distribuição não é normal'"
            ]
          },
          "metadata": {
            "tags": []
          },
          "execution_count": 11
        }
      ]
    },
    {
      "cell_type": "markdown",
      "metadata": {
        "id": "gGStMEvaXBZJ"
      },
      "source": [
        "Como não temos uma distribuição normalizada, provavelmente teremos problemas com o modelo no exercício 4. Para comparar a performance do modelo, vamos fazer um com as medidas originais dos preços (distribuição não normal) e depois calcularmos o logaritmo de cada preço e refazer o modelo baseado nessa medida e vermos se o modelo tem melhoria na performance. Mas primeiro vamos continuar o processo de limpeza e tratamento dos dados."
      ]
    },
    {
      "cell_type": "markdown",
      "metadata": {
        "id": "tCOtqgOYMpVZ"
      },
      "source": [
        "Vamos preencher os valores faltantes numericos usando o algoritmo [KNNImputer](https://scikit-learn.org/stable/modules/generated/sklearn.impute.KNNImputer.html) que distribui os dados em pontos n-dimensionais (sendo n o total de variáveis independentes) e prediz um valor para o dado faltante baseado na sua proximidade nesse espaço com pontos que não possuem dados faltantes. Primeiro, porém, temos de codificar as variáveis categóricas com dados numéricos em nosso dataset."
      ]
    },
    {
      "cell_type": "code",
      "metadata": {
        "colab": {
          "base_uri": "https://localhost:8080/",
          "height": 394
        },
        "id": "yJU97xeIn1PJ",
        "outputId": "c4854e5e-24bc-445b-cdb2-def2a1c50198"
      },
      "source": [
        "#Codificando colunas categóricas de nossos dados\n",
        "colunas_cat = ['neighbourhood', 'room_type']\n",
        "\n",
        "for coluna in colunas_cat:\n",
        "  encode(dados[coluna])\n",
        "\n",
        "dados.sample(4)"
      ],
      "execution_count": 12,
      "outputs": [
        {
          "output_type": "stream",
          "text": [
            "/usr/local/lib/python3.6/dist-packages/pandas/core/indexing.py:670: SettingWithCopyWarning: \n",
            "A value is trying to be set on a copy of a slice from a DataFrame\n",
            "\n",
            "See the caveats in the documentation: https://pandas.pydata.org/pandas-docs/stable/user_guide/indexing.html#returning-a-view-versus-a-copy\n",
            "  iloc._setitem_with_indexer(indexer, value)\n",
            "/usr/local/lib/python3.6/dist-packages/pandas/core/indexing.py:670: SettingWithCopyWarning: \n",
            "A value is trying to be set on a copy of a slice from a DataFrame\n",
            "\n",
            "See the caveats in the documentation: https://pandas.pydata.org/pandas-docs/stable/user_guide/indexing.html#returning-a-view-versus-a-copy\n",
            "  iloc._setitem_with_indexer(indexer, value)\n"
          ],
          "name": "stderr"
        },
        {
          "output_type": "execute_result",
          "data": {
            "text/html": [
              "<div>\n",
              "<style scoped>\n",
              "    .dataframe tbody tr th:only-of-type {\n",
              "        vertical-align: middle;\n",
              "    }\n",
              "\n",
              "    .dataframe tbody tr th {\n",
              "        vertical-align: top;\n",
              "    }\n",
              "\n",
              "    .dataframe thead th {\n",
              "        text-align: right;\n",
              "    }\n",
              "</style>\n",
              "<table border=\"1\" class=\"dataframe\">\n",
              "  <thead>\n",
              "    <tr style=\"text-align: right;\">\n",
              "      <th></th>\n",
              "      <th>neighbourhood</th>\n",
              "      <th>latitude</th>\n",
              "      <th>longitude</th>\n",
              "      <th>room_type</th>\n",
              "      <th>price</th>\n",
              "      <th>minimum_nights</th>\n",
              "      <th>number_of_reviews</th>\n",
              "      <th>reviews_per_month</th>\n",
              "      <th>calculated_host_listings_count</th>\n",
              "      <th>availability_365</th>\n",
              "    </tr>\n",
              "    <tr>\n",
              "      <th>id</th>\n",
              "      <th></th>\n",
              "      <th></th>\n",
              "      <th></th>\n",
              "      <th></th>\n",
              "      <th></th>\n",
              "      <th></th>\n",
              "      <th></th>\n",
              "      <th></th>\n",
              "      <th></th>\n",
              "      <th></th>\n",
              "    </tr>\n",
              "  </thead>\n",
              "  <tbody>\n",
              "    <tr>\n",
              "      <th>2685031</th>\n",
              "      <td>214</td>\n",
              "      <td>-22.94082</td>\n",
              "      <td>-43.17752</td>\n",
              "      <td>2.0</td>\n",
              "      <td>600.0</td>\n",
              "      <td>2</td>\n",
              "      <td>0</td>\n",
              "      <td>NaN</td>\n",
              "      <td>1</td>\n",
              "      <td>0</td>\n",
              "    </tr>\n",
              "    <tr>\n",
              "      <th>2395690</th>\n",
              "      <td>214</td>\n",
              "      <td>-22.96957</td>\n",
              "      <td>-43.18522</td>\n",
              "      <td>2.0</td>\n",
              "      <td>513.0</td>\n",
              "      <td>5</td>\n",
              "      <td>0</td>\n",
              "      <td>NaN</td>\n",
              "      <td>1</td>\n",
              "      <td>363</td>\n",
              "    </tr>\n",
              "    <tr>\n",
              "      <th>2211732</th>\n",
              "      <td>181</td>\n",
              "      <td>-22.98454</td>\n",
              "      <td>-43.19597</td>\n",
              "      <td>0.0</td>\n",
              "      <td>1590.0</td>\n",
              "      <td>2</td>\n",
              "      <td>80</td>\n",
              "      <td>1.80</td>\n",
              "      <td>1</td>\n",
              "      <td>248</td>\n",
              "    </tr>\n",
              "    <tr>\n",
              "      <th>33689287</th>\n",
              "      <td>NaN</td>\n",
              "      <td>-23.01977</td>\n",
              "      <td>-43.46170</td>\n",
              "      <td>2.0</td>\n",
              "      <td>65.0</td>\n",
              "      <td>2</td>\n",
              "      <td>23</td>\n",
              "      <td>1.13</td>\n",
              "      <td>2</td>\n",
              "      <td>287</td>\n",
              "    </tr>\n",
              "  </tbody>\n",
              "</table>\n",
              "</div>"
            ],
            "text/plain": [
              "         neighbourhood  ...  availability_365\n",
              "id                      ...                  \n",
              "2685031            214  ...                 0\n",
              "2395690            214  ...               363\n",
              "2211732            181  ...               248\n",
              "33689287           NaN  ...               287\n",
              "\n",
              "[4 rows x 10 columns]"
            ]
          },
          "metadata": {
            "tags": []
          },
          "execution_count": 12
        }
      ]
    },
    {
      "cell_type": "markdown",
      "metadata": {
        "id": "rsp2gs2aown5"
      },
      "source": [
        "Agora que temos nossa coluna de bairros com valores numéricos representando cada bairro, podemos fazer o preenchimento dos valores faltantes utilizando o KNNImputer"
      ]
    },
    {
      "cell_type": "code",
      "metadata": {
        "colab": {
          "base_uri": "https://localhost:8080/",
          "height": 224
        },
        "id": "TiVNIW3NjH8O",
        "outputId": "cf0ae92e-663b-48cd-f31d-deaa70978648"
      },
      "source": [
        "#Instanciando objeto KNNImputer com 7 números vizinhos de parametro, pesos iguais para todos os vizinhos dentro desses 7\n",
        "#E distância euclidiana para calcular as distâncias entre os pontos\n",
        "imputer = KNNImputer(n_neighbors=5, weights='uniform', metric='nan_euclidean')\n",
        "\n",
        "#Treinando modelo\n",
        "imputer.fit(dados)\n",
        "\n",
        "#Transformando o dataset original com os valores nulos implementados\n",
        "dados_transf = imputer.transform(dados)\n",
        "\n",
        "#Retornando os dados para um dataframe pandas com as categorias em formato numérico\n",
        "dados_transf = pd.DataFrame(imputer.fit_transform(dados_transf), columns = dados.columns)\n",
        "dados_transf.head()"
      ],
      "execution_count": 13,
      "outputs": [
        {
          "output_type": "execute_result",
          "data": {
            "text/html": [
              "<div>\n",
              "<style scoped>\n",
              "    .dataframe tbody tr th:only-of-type {\n",
              "        vertical-align: middle;\n",
              "    }\n",
              "\n",
              "    .dataframe tbody tr th {\n",
              "        vertical-align: top;\n",
              "    }\n",
              "\n",
              "    .dataframe thead th {\n",
              "        text-align: right;\n",
              "    }\n",
              "</style>\n",
              "<table border=\"1\" class=\"dataframe\">\n",
              "  <thead>\n",
              "    <tr style=\"text-align: right;\">\n",
              "      <th></th>\n",
              "      <th>neighbourhood</th>\n",
              "      <th>latitude</th>\n",
              "      <th>longitude</th>\n",
              "      <th>room_type</th>\n",
              "      <th>price</th>\n",
              "      <th>minimum_nights</th>\n",
              "      <th>number_of_reviews</th>\n",
              "      <th>reviews_per_month</th>\n",
              "      <th>calculated_host_listings_count</th>\n",
              "      <th>availability_365</th>\n",
              "    </tr>\n",
              "  </thead>\n",
              "  <tbody>\n",
              "    <tr>\n",
              "      <th>0</th>\n",
              "      <td>181.0</td>\n",
              "      <td>-22.96592</td>\n",
              "      <td>-43.17896</td>\n",
              "      <td>0.0</td>\n",
              "      <td>500.0</td>\n",
              "      <td>5.0</td>\n",
              "      <td>259.0</td>\n",
              "      <td>2.03</td>\n",
              "      <td>1.0</td>\n",
              "      <td>0.0</td>\n",
              "    </tr>\n",
              "    <tr>\n",
              "      <th>1</th>\n",
              "      <td>181.0</td>\n",
              "      <td>-22.97712</td>\n",
              "      <td>-43.19045</td>\n",
              "      <td>0.0</td>\n",
              "      <td>160.0</td>\n",
              "      <td>7.0</td>\n",
              "      <td>238.0</td>\n",
              "      <td>1.85</td>\n",
              "      <td>11.0</td>\n",
              "      <td>335.0</td>\n",
              "    </tr>\n",
              "    <tr>\n",
              "      <th>2</th>\n",
              "      <td>181.0</td>\n",
              "      <td>-22.98816</td>\n",
              "      <td>-43.19359</td>\n",
              "      <td>0.0</td>\n",
              "      <td>259.0</td>\n",
              "      <td>2.0</td>\n",
              "      <td>181.0</td>\n",
              "      <td>2.07</td>\n",
              "      <td>1.0</td>\n",
              "      <td>267.0</td>\n",
              "    </tr>\n",
              "    <tr>\n",
              "      <th>3</th>\n",
              "      <td>181.0</td>\n",
              "      <td>-22.98127</td>\n",
              "      <td>-43.19046</td>\n",
              "      <td>0.0</td>\n",
              "      <td>157.0</td>\n",
              "      <td>3.0</td>\n",
              "      <td>346.0</td>\n",
              "      <td>2.78</td>\n",
              "      <td>1.0</td>\n",
              "      <td>89.0</td>\n",
              "    </tr>\n",
              "    <tr>\n",
              "      <th>4</th>\n",
              "      <td>168.6</td>\n",
              "      <td>-22.97962</td>\n",
              "      <td>-43.19230</td>\n",
              "      <td>0.0</td>\n",
              "      <td>1035.0</td>\n",
              "      <td>3.0</td>\n",
              "      <td>18.0</td>\n",
              "      <td>0.19</td>\n",
              "      <td>2.0</td>\n",
              "      <td>365.0</td>\n",
              "    </tr>\n",
              "  </tbody>\n",
              "</table>\n",
              "</div>"
            ],
            "text/plain": [
              "   neighbourhood  latitude  ...  calculated_host_listings_count  availability_365\n",
              "0          181.0 -22.96592  ...                             1.0               0.0\n",
              "1          181.0 -22.97712  ...                            11.0             335.0\n",
              "2          181.0 -22.98816  ...                             1.0             267.0\n",
              "3          181.0 -22.98127  ...                             1.0              89.0\n",
              "4          168.6 -22.97962  ...                             2.0             365.0\n",
              "\n",
              "[5 rows x 10 columns]"
            ]
          },
          "metadata": {
            "tags": []
          },
          "execution_count": 13
        }
      ]
    },
    {
      "cell_type": "markdown",
      "metadata": {
        "id": "t7u40CPt8YMZ"
      },
      "source": [
        "Agora vamos resumir a coluna de neighbourhood com a proporção que aquele bairro aparece no dataset"
      ]
    },
    {
      "cell_type": "code",
      "metadata": {
        "colab": {
          "base_uri": "https://localhost:8080/",
          "height": 204
        },
        "id": "N8miAOI08XEE",
        "outputId": "47bcbb05-046c-4ae2-bc1a-0535a841a7ff"
      },
      "source": [
        "frequencia_bairros = pd.DataFrame()\n",
        "frequencia_bairros['neighbourhood'] = dados_transf['neighbourhood'].value_counts(normalize = True).index.tolist()\n",
        "frequencia_bairros['frequencia_neighbourhood'] = dados_transf['neighbourhood'].value_counts(normalize = True).tolist()\n",
        "frequencia_bairros.head()"
      ],
      "execution_count": 14,
      "outputs": [
        {
          "output_type": "execute_result",
          "data": {
            "text/html": [
              "<div>\n",
              "<style scoped>\n",
              "    .dataframe tbody tr th:only-of-type {\n",
              "        vertical-align: middle;\n",
              "    }\n",
              "\n",
              "    .dataframe tbody tr th {\n",
              "        vertical-align: top;\n",
              "    }\n",
              "\n",
              "    .dataframe thead th {\n",
              "        text-align: right;\n",
              "    }\n",
              "</style>\n",
              "<table border=\"1\" class=\"dataframe\">\n",
              "  <thead>\n",
              "    <tr style=\"text-align: right;\">\n",
              "      <th></th>\n",
              "      <th>neighbourhood</th>\n",
              "      <th>frequencia_neighbourhood</th>\n",
              "    </tr>\n",
              "  </thead>\n",
              "  <tbody>\n",
              "    <tr>\n",
              "      <th>0</th>\n",
              "      <td>181.0</td>\n",
              "      <td>0.226575</td>\n",
              "    </tr>\n",
              "    <tr>\n",
              "      <th>1</th>\n",
              "      <td>54.0</td>\n",
              "      <td>0.087845</td>\n",
              "    </tr>\n",
              "    <tr>\n",
              "      <th>2</th>\n",
              "      <td>15.0</td>\n",
              "      <td>0.029165</td>\n",
              "    </tr>\n",
              "    <tr>\n",
              "      <th>3</th>\n",
              "      <td>214.0</td>\n",
              "      <td>0.028971</td>\n",
              "    </tr>\n",
              "    <tr>\n",
              "      <th>4</th>\n",
              "      <td>94.0</td>\n",
              "      <td>0.021641</td>\n",
              "    </tr>\n",
              "  </tbody>\n",
              "</table>\n",
              "</div>"
            ],
            "text/plain": [
              "   neighbourhood  frequencia_neighbourhood\n",
              "0          181.0                  0.226575\n",
              "1           54.0                  0.087845\n",
              "2           15.0                  0.029165\n",
              "3          214.0                  0.028971\n",
              "4           94.0                  0.021641"
            ]
          },
          "metadata": {
            "tags": []
          },
          "execution_count": 14
        }
      ]
    },
    {
      "cell_type": "markdown",
      "metadata": {
        "id": "XR9euZru-Wnr"
      },
      "source": [
        "Junção dos dataframes dados_transf e frequencia_bairros com o método .merge() que mescla DataFrames ou objetos nomeados do tipo Series com uma junção de estilo de banco de dados. Depois podemos eliminar a coluna neighbourhood."
      ]
    },
    {
      "cell_type": "code",
      "metadata": {
        "colab": {
          "base_uri": "https://localhost:8080/",
          "height": 224
        },
        "id": "xrPS3uSV-Tef",
        "outputId": "3a36f35e-988f-49a4-96ba-8684e36cb1e5"
      },
      "source": [
        "dados_transf = dados_transf.merge(frequencia_bairros, \n",
        "                                on = 'neighbourhood'\n",
        "                               )\n",
        "dados_transf.drop(labels= 'neighbourhood', axis= 1, inplace= True)\n",
        "\n",
        "dados_transf.head()"
      ],
      "execution_count": 15,
      "outputs": [
        {
          "output_type": "execute_result",
          "data": {
            "text/html": [
              "<div>\n",
              "<style scoped>\n",
              "    .dataframe tbody tr th:only-of-type {\n",
              "        vertical-align: middle;\n",
              "    }\n",
              "\n",
              "    .dataframe tbody tr th {\n",
              "        vertical-align: top;\n",
              "    }\n",
              "\n",
              "    .dataframe thead th {\n",
              "        text-align: right;\n",
              "    }\n",
              "</style>\n",
              "<table border=\"1\" class=\"dataframe\">\n",
              "  <thead>\n",
              "    <tr style=\"text-align: right;\">\n",
              "      <th></th>\n",
              "      <th>latitude</th>\n",
              "      <th>longitude</th>\n",
              "      <th>room_type</th>\n",
              "      <th>price</th>\n",
              "      <th>minimum_nights</th>\n",
              "      <th>number_of_reviews</th>\n",
              "      <th>reviews_per_month</th>\n",
              "      <th>calculated_host_listings_count</th>\n",
              "      <th>availability_365</th>\n",
              "      <th>frequencia_neighbourhood</th>\n",
              "    </tr>\n",
              "  </thead>\n",
              "  <tbody>\n",
              "    <tr>\n",
              "      <th>0</th>\n",
              "      <td>-22.96592</td>\n",
              "      <td>-43.17896</td>\n",
              "      <td>0.0</td>\n",
              "      <td>500.0</td>\n",
              "      <td>5.0</td>\n",
              "      <td>259.0</td>\n",
              "      <td>2.03</td>\n",
              "      <td>1.0</td>\n",
              "      <td>0.0</td>\n",
              "      <td>0.226575</td>\n",
              "    </tr>\n",
              "    <tr>\n",
              "      <th>1</th>\n",
              "      <td>-22.97712</td>\n",
              "      <td>-43.19045</td>\n",
              "      <td>0.0</td>\n",
              "      <td>160.0</td>\n",
              "      <td>7.0</td>\n",
              "      <td>238.0</td>\n",
              "      <td>1.85</td>\n",
              "      <td>11.0</td>\n",
              "      <td>335.0</td>\n",
              "      <td>0.226575</td>\n",
              "    </tr>\n",
              "    <tr>\n",
              "      <th>2</th>\n",
              "      <td>-22.98816</td>\n",
              "      <td>-43.19359</td>\n",
              "      <td>0.0</td>\n",
              "      <td>259.0</td>\n",
              "      <td>2.0</td>\n",
              "      <td>181.0</td>\n",
              "      <td>2.07</td>\n",
              "      <td>1.0</td>\n",
              "      <td>267.0</td>\n",
              "      <td>0.226575</td>\n",
              "    </tr>\n",
              "    <tr>\n",
              "      <th>3</th>\n",
              "      <td>-22.98127</td>\n",
              "      <td>-43.19046</td>\n",
              "      <td>0.0</td>\n",
              "      <td>157.0</td>\n",
              "      <td>3.0</td>\n",
              "      <td>346.0</td>\n",
              "      <td>2.78</td>\n",
              "      <td>1.0</td>\n",
              "      <td>89.0</td>\n",
              "      <td>0.226575</td>\n",
              "    </tr>\n",
              "    <tr>\n",
              "      <th>4</th>\n",
              "      <td>-22.98599</td>\n",
              "      <td>-43.20299</td>\n",
              "      <td>0.0</td>\n",
              "      <td>6685.0</td>\n",
              "      <td>2.0</td>\n",
              "      <td>80.0</td>\n",
              "      <td>0.72</td>\n",
              "      <td>5.0</td>\n",
              "      <td>0.0</td>\n",
              "      <td>0.226575</td>\n",
              "    </tr>\n",
              "  </tbody>\n",
              "</table>\n",
              "</div>"
            ],
            "text/plain": [
              "   latitude  longitude  ...  availability_365  frequencia_neighbourhood\n",
              "0 -22.96592  -43.17896  ...               0.0                  0.226575\n",
              "1 -22.97712  -43.19045  ...             335.0                  0.226575\n",
              "2 -22.98816  -43.19359  ...             267.0                  0.226575\n",
              "3 -22.98127  -43.19046  ...              89.0                  0.226575\n",
              "4 -22.98599  -43.20299  ...               0.0                  0.226575\n",
              "\n",
              "[5 rows x 10 columns]"
            ]
          },
          "metadata": {
            "tags": []
          },
          "execution_count": 15
        }
      ]
    },
    {
      "cell_type": "code",
      "metadata": {
        "colab": {
          "base_uri": "https://localhost:8080/",
          "height": 359
        },
        "id": "2rNK2GGxrnx1",
        "outputId": "4ab25500-e0f7-4cc9-b6fc-e20c9c87737d"
      },
      "source": [
        "EDA(dados_transf)"
      ],
      "execution_count": 16,
      "outputs": [
        {
          "output_type": "execute_result",
          "data": {
            "text/html": [
              "<div>\n",
              "<style scoped>\n",
              "    .dataframe tbody tr th:only-of-type {\n",
              "        vertical-align: middle;\n",
              "    }\n",
              "\n",
              "    .dataframe tbody tr th {\n",
              "        vertical-align: top;\n",
              "    }\n",
              "\n",
              "    .dataframe thead th {\n",
              "        text-align: right;\n",
              "    }\n",
              "</style>\n",
              "<table border=\"1\" class=\"dataframe\">\n",
              "  <thead>\n",
              "    <tr style=\"text-align: right;\">\n",
              "      <th></th>\n",
              "      <th>Amount_NaN</th>\n",
              "      <th>%_NaN</th>\n",
              "      <th>DType</th>\n",
              "      <th>Amount_Data</th>\n",
              "      <th>Amount_Unique</th>\n",
              "      <th>Mean</th>\n",
              "      <th>Median</th>\n",
              "      <th>Max</th>\n",
              "      <th>Min</th>\n",
              "      <th>STD</th>\n",
              "    </tr>\n",
              "  </thead>\n",
              "  <tbody>\n",
              "    <tr>\n",
              "      <th>latitude</th>\n",
              "      <td>0</td>\n",
              "      <td>0.0</td>\n",
              "      <td>float64</td>\n",
              "      <td>25784</td>\n",
              "      <td>366</td>\n",
              "      <td>-22.97</td>\n",
              "      <td>-22.97</td>\n",
              "      <td>-22.749820</td>\n",
              "      <td>-23.072860</td>\n",
              "      <td>0.03</td>\n",
              "    </tr>\n",
              "    <tr>\n",
              "      <th>longitude</th>\n",
              "      <td>0</td>\n",
              "      <td>0.0</td>\n",
              "      <td>float64</td>\n",
              "      <td>25784</td>\n",
              "      <td>48</td>\n",
              "      <td>-43.25</td>\n",
              "      <td>-43.20</td>\n",
              "      <td>-43.104860</td>\n",
              "      <td>-43.704790</td>\n",
              "      <td>0.10</td>\n",
              "    </tr>\n",
              "    <tr>\n",
              "      <th>room_type</th>\n",
              "      <td>0</td>\n",
              "      <td>0.0</td>\n",
              "      <td>float64</td>\n",
              "      <td>25784</td>\n",
              "      <td>93</td>\n",
              "      <td>0.58</td>\n",
              "      <td>0.00</td>\n",
              "      <td>3.000000</td>\n",
              "      <td>0.000000</td>\n",
              "      <td>0.94</td>\n",
              "    </tr>\n",
              "    <tr>\n",
              "      <th>price</th>\n",
              "      <td>0</td>\n",
              "      <td>0.0</td>\n",
              "      <td>float64</td>\n",
              "      <td>25784</td>\n",
              "      <td>9782</td>\n",
              "      <td>879.82</td>\n",
              "      <td>380.00</td>\n",
              "      <td>593266.000000</td>\n",
              "      <td>0.000000</td>\n",
              "      <td>5179.76</td>\n",
              "    </tr>\n",
              "    <tr>\n",
              "      <th>minimum_nights</th>\n",
              "      <td>0</td>\n",
              "      <td>0.0</td>\n",
              "      <td>float64</td>\n",
              "      <td>25784</td>\n",
              "      <td>12093</td>\n",
              "      <td>4.77</td>\n",
              "      <td>2.00</td>\n",
              "      <td>1000.000000</td>\n",
              "      <td>1.000000</td>\n",
              "      <td>19.04</td>\n",
              "    </tr>\n",
              "    <tr>\n",
              "      <th>number_of_reviews</th>\n",
              "      <td>0</td>\n",
              "      <td>0.0</td>\n",
              "      <td>float64</td>\n",
              "      <td>25784</td>\n",
              "      <td>67</td>\n",
              "      <td>11.96</td>\n",
              "      <td>1.00</td>\n",
              "      <td>431.000000</td>\n",
              "      <td>0.000000</td>\n",
              "      <td>29.37</td>\n",
              "    </tr>\n",
              "    <tr>\n",
              "      <th>reviews_per_month</th>\n",
              "      <td>0</td>\n",
              "      <td>0.0</td>\n",
              "      <td>float64</td>\n",
              "      <td>25784</td>\n",
              "      <td>273</td>\n",
              "      <td>0.44</td>\n",
              "      <td>0.18</td>\n",
              "      <td>14.550000</td>\n",
              "      <td>0.010000</td>\n",
              "      <td>0.68</td>\n",
              "    </tr>\n",
              "    <tr>\n",
              "      <th>calculated_host_listings_count</th>\n",
              "      <td>0</td>\n",
              "      <td>0.0</td>\n",
              "      <td>float64</td>\n",
              "      <td>25784</td>\n",
              "      <td>2187</td>\n",
              "      <td>6.58</td>\n",
              "      <td>1.00</td>\n",
              "      <td>200.000000</td>\n",
              "      <td>1.000000</td>\n",
              "      <td>20.00</td>\n",
              "    </tr>\n",
              "    <tr>\n",
              "      <th>availability_365</th>\n",
              "      <td>0</td>\n",
              "      <td>0.0</td>\n",
              "      <td>float64</td>\n",
              "      <td>25784</td>\n",
              "      <td>1297</td>\n",
              "      <td>215.30</td>\n",
              "      <td>247.00</td>\n",
              "      <td>365.000000</td>\n",
              "      <td>0.000000</td>\n",
              "      <td>140.89</td>\n",
              "    </tr>\n",
              "    <tr>\n",
              "      <th>frequencia_neighbourhood</th>\n",
              "      <td>0</td>\n",
              "      <td>0.0</td>\n",
              "      <td>float64</td>\n",
              "      <td>25784</td>\n",
              "      <td>4</td>\n",
              "      <td>0.06</td>\n",
              "      <td>0.01</td>\n",
              "      <td>0.226575</td>\n",
              "      <td>0.000039</td>\n",
              "      <td>0.09</td>\n",
              "    </tr>\n",
              "  </tbody>\n",
              "</table>\n",
              "</div>"
            ],
            "text/plain": [
              "                                Amount_NaN  %_NaN  ...        Min      STD\n",
              "latitude                                 0    0.0  ... -23.072860     0.03\n",
              "longitude                                0    0.0  ... -43.704790     0.10\n",
              "room_type                                0    0.0  ...   0.000000     0.94\n",
              "price                                    0    0.0  ...   0.000000  5179.76\n",
              "minimum_nights                           0    0.0  ...   1.000000    19.04\n",
              "number_of_reviews                        0    0.0  ...   0.000000    29.37\n",
              "reviews_per_month                        0    0.0  ...   0.010000     0.68\n",
              "calculated_host_listings_count           0    0.0  ...   1.000000    20.00\n",
              "availability_365                         0    0.0  ...   0.000000   140.89\n",
              "frequencia_neighbourhood                 0    0.0  ...   0.000039     0.09\n",
              "\n",
              "[10 rows x 10 columns]"
            ]
          },
          "metadata": {
            "tags": []
          },
          "execution_count": 16
        }
      ]
    },
    {
      "cell_type": "markdown",
      "metadata": {
        "id": "BDH8wS8n4UJU"
      },
      "source": [
        "#### Exercício 3 - Analise os dados e realize a anonimização dos mesmos. "
      ]
    },
    {
      "cell_type": "markdown",
      "metadata": {
        "id": "zg3w3vHvsFux"
      },
      "source": [
        "Já o fizemos ao retirar as colunas que dizem respeito ao nomes dos hosts e nome dos donos dos hosts no exercício 2."
      ]
    },
    {
      "cell_type": "markdown",
      "metadata": {
        "id": "3WWiDuP54UJW"
      },
      "source": [
        "#### Exercício 4 - Crie um modelo de regressão para os preços dos apartamentos."
      ]
    },
    {
      "cell_type": "markdown",
      "metadata": {
        "id": "fClAQQRu5xbh"
      },
      "source": [
        "####Predição preços unidade original"
      ]
    },
    {
      "cell_type": "markdown",
      "metadata": {
        "id": "SOe5ywG1APS0"
      },
      "source": [
        "\n",
        "1) Separar um dataframe com as variáveis independentes e ou array numpy com a variável resposta (preço dos hosts)\n",
        "\n",
        "2) Separar os dados em subconjuntos de treino e de teste\n",
        "\n",
        "3) Padronizar os dados das variáveis independentes com o z_score: Vamos normalizar os dados para ter nossas variáveis preditoras na mesma unidade, neste caso, seus desvios em relação a media da própria distribuição: o [z-score](https://www.investopedia.com/terms/z/zscore.asp#:~:text=A%20Z%2Dscore%20is%20a,standard%20deviations%20from%20the%20mean.&text=A%20Z%2Dscore%20of%201.0,standard%20deviation%20from%20the%20mean.)\n",
        "\n",
        "4) Treinar modelo\n",
        "\n",
        "5) Analisar seu R² e seus coeficientes\n",
        "\n",
        "6) Fazer predições e analisar erro medio absoluto (quantos reais o modelo está errando para cima ou para baixo em media)"
      ]
    },
    {
      "cell_type": "code",
      "metadata": {
        "colab": {
          "base_uri": "https://localhost:8080/"
        },
        "id": "SPDSfZnSCY1k",
        "outputId": "3dddb42b-6e03-42a3-e4f4-0bdf5d8af86a"
      },
      "source": [
        "#Para que haja os mesmos resultados quando o notebook for rodado novamente\n",
        "np.random.RandomState(3)\n",
        "\n",
        "#Variáveis que utilizaremos para a previsão\n",
        "var_independentes = dados_transf.columns.to_list()\n",
        "\n",
        "#Retirando variável resposta\n",
        "var_independentes.remove('price')\n",
        "\n",
        "#Dataframe com as variáveis que utilizaremos para revisão\n",
        "X= dados_transf[var_independentes]\n",
        "\n",
        "#Variável que queremos prever\n",
        "y= dados_transf['price']\n",
        "\n",
        "#Separação de dados de treino (70%) e de teste (30%)\n",
        "X_treino, X_teste, y_treino, y_teste = train_test_split(X.values, y, test_size = 0.3)\n",
        "\n",
        "#Instanciando objeto StandardScaler\n",
        "scaler = StandardScaler().fit(X_treino)\n",
        "\n",
        "#Z-Scores dos dados de treino e de teste\n",
        "x_treino_norm = scaler.transform(X_treino)\n",
        "x_teste_norm = scaler.transform(X_teste)\n",
        "\n",
        "#Instanciando objeto Linear Regression e ajustando modelo com os dados de treino\n",
        "reg = LinearRegression().fit(x_treino_norm, y_treino)\n",
        "\n",
        "#R² do nosso modelo\n",
        "print(f'R²: {reg.score(x_treino_norm, y_treino)}')\n",
        "\n",
        "#Coeficientes de acordo com a variável\n",
        "importancia_df = pd.DataFrame()\n",
        "importancia_df['colunas'] = var_independentes\n",
        "importancia_df['importancia'] = list(reg.coef_)\n",
        "print(importancia_df)"
      ],
      "execution_count": 17,
      "outputs": [
        {
          "output_type": "stream",
          "text": [
            "R²: 0.004566661900818114\n",
            "                          colunas  importancia\n",
            "0                        latitude  -144.683928\n",
            "1                       longitude    24.881926\n",
            "2                       room_type  -119.148665\n",
            "3                  minimum_nights     4.793618\n",
            "4               number_of_reviews  -164.451000\n",
            "5               reviews_per_month    25.548173\n",
            "6  calculated_host_listings_count   224.829157\n",
            "7                availability_365   158.400614\n",
            "8        frequencia_neighbourhood   -19.043905\n"
          ],
          "name": "stdout"
        }
      ]
    },
    {
      "cell_type": "markdown",
      "metadata": {
        "id": "ugX-W2nyEfax"
      },
      "source": [
        "Cruzando coeficientes das variáveis em relação à variável resposta: como cada variável independente influencia a variável dependente:"
      ]
    },
    {
      "cell_type": "markdown",
      "metadata": {
        "id": "R5HujITQCyD8"
      },
      "source": [
        "1) R² -> Vemos que nosso R² (medida que nos indica o quantos nossas variáveis independentes estão explicando a variação de nossa variável resposta) tem um valor bem baixo (o ideal seria mais próximo de 1 possível). Porém, como colocamos nossas variáveis numa escala diferente isto acaba afetando a métrica do R².\n",
        "\n",
        "2) Coeficientes:\n",
        "\n",
        "  a) Conforme aumenta a latitude o preço tem a tendência de diminuir R$144 reais e com o aumento da longitude o preço tende a diminuir em R$24 reais. Isso nos indica, claro, padrões de comportamento dos preços de acordo com a região que o host está presente.\n",
        "\n",
        "  b) (0 - 'Entire home/apt'), (1 - 'Private room', (2 - 'Shared room'), (3 - 'Hotel room'). A codificação dos tipos de quartos segue um ordem qualitativa de quanto maior o número que o quarto foi codificado, menos privado e menor ele o é. Nesse sentido, o coeficiente de room_type nos indica que quanto menor for o quarto e menos privado tal fator tem a tendência de diminuir o preço em R$119 reais.\n",
        "\n",
        "  c) O coeficiente de minímo por noite nos indica que quanto o maior o número de minímo per noite a tendência é a subida do preço em R$4 reais. Portanto, dentre os dados e os bairros analisados, a tendência de aumento no preço se ficarmos uma noite a mais no host é de 4 reais.\n",
        "\n",
        "  d) A tendência conforme o aumento do número de reviews sobe é de diminuição do preço em aproximadamente R$164 reais. Duas hipóteses podem ser levantadas aqui: d1) os hosts mais baratos são aqueles com maior frequência de clientes e esses clientes dão o retorno positivo; ou d2) os hosts mais baratos possuem maior número de clientes, mas estes retornam com reviews negativos. Para confirmar se os reviews são positivos ou negativos precisaríamos olhar sua distribuição (se forem reviews em formatos de notas) e/ou aplicar um modelo de análise de sentimento (se os reviews forem comentários).\n",
        "\n",
        "  e) A tendência dos preços é de aumentar R$158 reais quanto o host permanece mais dias disponiveis por ano.\n",
        "\n",
        "  f) Conforme o aumento na frequência de hosts em um bairro, menor o seu preço. Isto nos indica a questão da concorrência na região: quanto maior o número de hosts mais próximos o preço geralmente diminui devido à disputa com a concorrência. Este comportamento é comum em vários tipos de negócios. A tendência é o preço diminuir seu valor em R$19 reais se houver maior número de concorrentes. Uma variação não muito alta."
      ]
    },
    {
      "cell_type": "markdown",
      "metadata": {
        "id": "K9a5gicXSEuy"
      },
      "source": [
        "Vamos fazer as predições e então ver o erro medio absoluto (pegando o valor exatamente em reais que estamos errando em media dos preços) do nosso modelo."
      ]
    },
    {
      "cell_type": "code",
      "metadata": {
        "colab": {
          "base_uri": "https://localhost:8080/"
        },
        "id": "QH1Sh2GESHzk",
        "outputId": "26e78dba-badb-42e2-df9a-da4ddd3bde75"
      },
      "source": [
        "np.random.RandomState(5)\n",
        "#Predições\n",
        "y_pred = reg.predict(x_teste_norm)\n",
        "\n",
        "#Erro medio absoluto\n",
        "erro_abs_medio = mean_absolute_error(y_teste, y_pred)\n",
        "print(f'Erro absoluto medio: {erro_abs_medio}')"
      ],
      "execution_count": 18,
      "outputs": [
        {
          "output_type": "stream",
          "text": [
            "Erro absoluto medio: 800.7232311953723\n"
          ],
          "name": "stdout"
        }
      ]
    },
    {
      "cell_type": "markdown",
      "metadata": {
        "id": "WxQsKtsZNPL0"
      },
      "source": [
        "Estamos errando os preços dos hosts em media (tanto pra positivo quanto negativo já que pegamos o valor absoluto das diferenças dos valores reais e das predições) R$800.72. É um erro de fato muito alto quanto o nosso R² baixíssimo estava nos indicando. Vamos tentar (re)escalonar os preços colocando eles em seus valores logarítmicos e medir novamente a performance do modelo."
      ]
    },
    {
      "cell_type": "markdown",
      "metadata": {
        "id": "2Lg5iC7a4XXm"
      },
      "source": [
        "####Predição com os preços em Log"
      ]
    },
    {
      "cell_type": "markdown",
      "metadata": {
        "id": "M6ffINIODyHa"
      },
      "source": [
        "Como indicado quando analisamos a dstribuição dos preços na sua unidade original, eles não apresentam uma distribuição normal. Agora iremos fazer os mesmos passos feitos acima, porém com os preços reescalonados para seu valor logarítmico e ver se a performance do modelo é melhorada."
      ]
    },
    {
      "cell_type": "code",
      "metadata": {
        "colab": {
          "base_uri": "https://localhost:8080/"
        },
        "id": "EhiVaDJSVIwO",
        "outputId": "88e896a8-0088-42dd-9f27-59269777f766"
      },
      "source": [
        "dados_transf['price_log'] = np.log(dados_transf['price'])\n",
        "dados_transf['price_log'].head()"
      ],
      "execution_count": 23,
      "outputs": [
        {
          "output_type": "execute_result",
          "data": {
            "text/plain": [
              "0    6.214608\n",
              "1    5.075174\n",
              "2    5.556828\n",
              "3    5.056246\n",
              "4    8.807621\n",
              "Name: price_log, dtype: float64"
            ]
          },
          "metadata": {
            "tags": []
          },
          "execution_count": 23
        }
      ]
    },
    {
      "cell_type": "code",
      "metadata": {
        "colab": {
          "base_uri": "https://localhost:8080/"
        },
        "id": "3dzsgPWQ0XSm",
        "outputId": "f17ab3d2-7649-4c59-921c-8b62c81ced33"
      },
      "source": [
        "#Retirando dados com valores infinitos dos dados com os preços em logaritmicos para utilizar no modelo de regressão linear\n",
        "dados_transf.replace([np.inf, -np.inf], np.nan, inplace= True)\n",
        "dados_transf.dropna(subset=['price_log'], axis= 0, inplace= True)\n",
        "\n",
        "#Conferindo se perdemos muitas linhas ao fazer essa remoção\n",
        "len(dados_transf)"
      ],
      "execution_count": 26,
      "outputs": [
        {
          "output_type": "execute_result",
          "data": {
            "text/plain": [
              "25777"
            ]
          },
          "metadata": {
            "tags": []
          },
          "execution_count": 26
        }
      ]
    },
    {
      "cell_type": "code",
      "metadata": {
        "colab": {
          "base_uri": "https://localhost:8080/"
        },
        "id": "B78zYL4kVqaX",
        "outputId": "afabcaac-0a32-4f55-e092-c7c9c5651861"
      },
      "source": [
        "np.random.RandomState(6)\n",
        "#Dataframe com as variáveis que utilizaremos para revisão\n",
        "X= dados_transf[var_independentes]\n",
        "\n",
        "#Variável que queremos prever\n",
        "y= dados_transf['price_log']\n",
        "\n",
        "#Separação de dados de treino (70%) e de teste (30%)\n",
        "X_treino, X_teste, y_treino, y_teste = train_test_split(X.values, y, test_size = 0.3, random_state= 2)\n",
        "\n",
        "#Padronizando escala de variáveis indepedentes com z_score\n",
        "scaler = StandardScaler().fit(X_treino)\n",
        "\n",
        "#Z-Scores dos dados de treino e de teste das independentes\n",
        "x_treino_norm = scaler.transform(X_treino)\n",
        "x_teste_norm = scaler.transform(X_teste)\n",
        "\n",
        "#Instanciando objeto Linear Regression e ajustando modelo com os dados de treino\n",
        "reg = LinearRegression().fit(x_treino_norm, y_treino)\n",
        "np.random.RandomState(2)\n",
        "\n",
        "#R² do nosso modelo\n",
        "print(f'R²: {reg.score(x_treino_norm, y_treino)}')\n",
        "\n",
        "#Predições do modelo\n",
        "y_pred = reg.predict(x_teste_norm)\n",
        "\n",
        "#Erro medio absoluto do \"novo\" modelo\n",
        "erro_abs_medio = mean_absolute_error(y_teste, y_pred)\n",
        "print(f'Erro absoluto medio: {erro_abs_medio}')"
      ],
      "execution_count": 27,
      "outputs": [
        {
          "output_type": "stream",
          "text": [
            "R²: 0.2884205898466399\n",
            "Erro absoluto medio: 0.669144653093172\n"
          ],
          "name": "stdout"
        }
      ]
    },
    {
      "cell_type": "markdown",
      "metadata": {
        "id": "XT3Km_L74Foh"
      },
      "source": [
        "O nosso R² já demonstra um aumento considerável com a alteração feita, mas ainda temos escalas diferentes. Então, para termos a real dimensão de melhoria ou não no modelo, vamos analisar o erro medio absoluto:"
      ]
    },
    {
      "cell_type": "markdown",
      "metadata": {
        "id": "9sK8F3IL4uF6"
      },
      "source": [
        "Temos um modelo que performa muito melhor que aquele com os preços em sua unidade original. Porém, como o erro aqui é bem pequeno, o nosso modelo pode estar tendo aquilo que é chamado de overffiting: ele está se ajustando tão bem aos dados que passamos que não conseguiria calcular com a mesma acurácia dados novos com comportamentos diferentes."
      ]
    }
  ]
}