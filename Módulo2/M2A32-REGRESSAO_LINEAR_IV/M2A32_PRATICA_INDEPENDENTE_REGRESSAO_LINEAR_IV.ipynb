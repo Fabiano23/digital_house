{
  "nbformat": 4,
  "nbformat_minor": 0,
  "metadata": {
    "kernelspec": {
      "display_name": "Python 3",
      "language": "python",
      "name": "python3"
    },
    "language_info": {
      "codemirror_mode": {
        "name": "ipython",
        "version": 3
      },
      "file_extension": ".py",
      "mimetype": "text/x-python",
      "name": "python",
      "nbconvert_exporter": "python",
      "pygments_lexer": "ipython3",
      "version": "3.7.6"
    },
    "colab": {
      "name": "M2A32-PRATICA_INDEPENDENTE_REGRESSAO_LINEAR_IV.ipynb",
      "provenance": [],
      "collapsed_sections": [
        "-ZOf9NJD4UJP",
        "BDH8wS8n4UJU",
        "3WWiDuP54UJW"
      ]
    }
  },
  "cells": [
    {
      "cell_type": "markdown",
      "metadata": {
        "id": "V9iWeqId4UI5"
      },
      "source": [
        "# Prática Independente - Regressão IV."
      ]
    },
    {
      "cell_type": "markdown",
      "metadata": {
        "id": "YsgodMLh4UJJ"
      },
      "source": [
        "## Dados abertos do Airbnb no Rio de Janeiro:\n",
        "\n",
        "#### Desde 2008, os hóspedes e anfitriões têm usado o Airbnb para expandir as possibilidades de viagem e apresentar uma forma mais única e personalizada de experimentar o mundo. Este conjunto de dados descreve a atividade de listagem e as métricas em Rio de Janeiro, RJ para 2020.\n",
        "\n",
        "### Conteúdo:\n",
        "\n",
        "#### O arquivo `'AB_RJ_2020.csv'` inclui todas as informações necessárias para descobrir mais sobre hosts, disponibilidade geográfica, métricas necessárias para fazer previsões e tirar conclusões.\n",
        "\n",
        "#### Este conjunto de dados [públicos](http://insideairbnb.com/) faz parte do [Airbnb](https://www.airbnb.com.br/)."
      ]
    },
    {
      "cell_type": "markdown",
      "metadata": {
        "id": "yucSqfc94UJK"
      },
      "source": [
        "<img src=\"RegMetroRJ.png\" width=\"1532\" height=\"1037\" align=\"center\"/>"
      ]
    },
    {
      "cell_type": "code",
      "metadata": {
        "id": "rT8FCUnW4X9d"
      },
      "source": [
        "import pandas as pd\n",
        "import matplotlib.pyplot as plt\n",
        "import seaborn as sns\n",
        "import numpy as np\n",
        "from scipy import stats\n",
        "\n",
        "# Tamanho padrões das figuras e a fonte de seus textos neste notebook\n",
        "plt.rcParams['figure.figsize'] = (10, 8)\n",
        "plt.rcParams['font.size'] = 14"
      ],
      "execution_count": 3,
      "outputs": []
    },
    {
      "cell_type": "code",
      "metadata": {
        "id": "dSCryW9h6JSN"
      },
      "source": [
        "def EDA (df):\n",
        "    eda_df = {}\n",
        "    eda_df['Amount_NaN'] = df.isnull().sum()\n",
        "    eda_df['%_NaN'] = df.isnull().mean().round(2)\n",
        "    eda_df['DType'] = df.dtypes\n",
        "    eda_df['Amount_Data'] = df.count()\n",
        "    \n",
        "    # Outro ponto para ser verificado, porque para criar a coluna com a quantidade de valores unicos por coluna\n",
        "    # Não utilizei a função df.unique() \n",
        "    colunas = sorted(df.columns.tolist(), key=str.lower, reverse=False)\n",
        "    eda_df['Amount_Unique'] = filtered_result = list(map(lambda x: len(df[x].unique().tolist()), colunas))\n",
        "    \n",
        "    eda_df['Mean'] = np.round(df.mean(), 2)\n",
        "    eda_df['Median'] = np.round(df.median(), 2)\n",
        "    \n",
        "    eda_df['Max'] = df.max()\n",
        "    eda_df['Min'] = df.min()\n",
        "    eda_df['STD'] = np.round(df.std(), 2)\n",
        "    \n",
        "    return pd.DataFrame(eda_df)"
      ],
      "execution_count": 1,
      "outputs": []
    },
    {
      "cell_type": "markdown",
      "metadata": {
        "id": "Sxje2npy4UJL"
      },
      "source": [
        "#### Exercício 1 - Realize uma análise explanatória nos dados abertos do AirBNB para a cidade do Rio de Janeiro."
      ]
    },
    {
      "cell_type": "code",
      "metadata": {
        "id": "89DeNlhI4UJL"
      },
      "source": [
        "dados = pd.read_csv('AB_RJ_2020.csv', parse_dates= True, index_col= 'id')\n",
        "#dados.head()"
      ],
      "execution_count": 4,
      "outputs": []
    },
    {
      "cell_type": "code",
      "metadata": {
        "colab": {
          "base_uri": "https://localhost:8080/"
        },
        "id": "k9sZqpzM9HU6",
        "outputId": "514e1e30-74ed-46ac-82da-0229036f1c87"
      },
      "source": [
        "print(f'Instâncias: {dados.shape[0]}')\n",
        "print(f'Variáveis: {dados.shape[1]}')"
      ],
      "execution_count": 5,
      "outputs": [
        {
          "output_type": "stream",
          "text": [
            "Instâncias: 25784\n",
            "Variáveis: 14\n"
          ],
          "name": "stdout"
        }
      ]
    },
    {
      "cell_type": "code",
      "metadata": {
        "colab": {
          "base_uri": "https://localhost:8080/",
          "height": 483
        },
        "id": "zNFQq_9W4UJM",
        "outputId": "7b97d485-ace4-45a6-975b-3ec03ab95d05"
      },
      "source": [
        "EDA(dados)"
      ],
      "execution_count": 6,
      "outputs": [
        {
          "output_type": "execute_result",
          "data": {
            "text/html": [
              "<div>\n",
              "<style scoped>\n",
              "    .dataframe tbody tr th:only-of-type {\n",
              "        vertical-align: middle;\n",
              "    }\n",
              "\n",
              "    .dataframe tbody tr th {\n",
              "        vertical-align: top;\n",
              "    }\n",
              "\n",
              "    .dataframe thead th {\n",
              "        text-align: right;\n",
              "    }\n",
              "</style>\n",
              "<table border=\"1\" class=\"dataframe\">\n",
              "  <thead>\n",
              "    <tr style=\"text-align: right;\">\n",
              "      <th></th>\n",
              "      <th>Amount_NaN</th>\n",
              "      <th>%_NaN</th>\n",
              "      <th>DType</th>\n",
              "      <th>Amount_Data</th>\n",
              "      <th>Amount_Unique</th>\n",
              "      <th>Mean</th>\n",
              "      <th>Median</th>\n",
              "      <th>Max</th>\n",
              "      <th>Min</th>\n",
              "      <th>STD</th>\n",
              "    </tr>\n",
              "  </thead>\n",
              "  <tbody>\n",
              "    <tr>\n",
              "      <th>availability_365</th>\n",
              "      <td>0</td>\n",
              "      <td>0.00</td>\n",
              "      <td>int64</td>\n",
              "      <td>25784</td>\n",
              "      <td>366</td>\n",
              "      <td>215.30</td>\n",
              "      <td>247.00</td>\n",
              "      <td>365</td>\n",
              "      <td>0</td>\n",
              "      <td>1.408900e+02</td>\n",
              "    </tr>\n",
              "    <tr>\n",
              "      <th>calculated_host_listings_count</th>\n",
              "      <td>0</td>\n",
              "      <td>0.00</td>\n",
              "      <td>int64</td>\n",
              "      <td>25784</td>\n",
              "      <td>48</td>\n",
              "      <td>6.58</td>\n",
              "      <td>1.00</td>\n",
              "      <td>200</td>\n",
              "      <td>1</td>\n",
              "      <td>2.000000e+01</td>\n",
              "    </tr>\n",
              "    <tr>\n",
              "      <th>host_id</th>\n",
              "      <td>0</td>\n",
              "      <td>0.00</td>\n",
              "      <td>int64</td>\n",
              "      <td>25784</td>\n",
              "      <td>16946</td>\n",
              "      <td>96308131.49</td>\n",
              "      <td>58502919.50</td>\n",
              "      <td>381289871</td>\n",
              "      <td>3607</td>\n",
              "      <td>1.041834e+08</td>\n",
              "    </tr>\n",
              "    <tr>\n",
              "      <th>host_name</th>\n",
              "      <td>8</td>\n",
              "      <td>0.00</td>\n",
              "      <td>object</td>\n",
              "      <td>25776</td>\n",
              "      <td>5076</td>\n",
              "      <td>NaN</td>\n",
              "      <td>NaN</td>\n",
              "      <td>NaN</td>\n",
              "      <td>NaN</td>\n",
              "      <td>NaN</td>\n",
              "    </tr>\n",
              "    <tr>\n",
              "      <th>last_review</th>\n",
              "      <td>9932</td>\n",
              "      <td>0.39</td>\n",
              "      <td>object</td>\n",
              "      <td>15852</td>\n",
              "      <td>1447</td>\n",
              "      <td>NaN</td>\n",
              "      <td>NaN</td>\n",
              "      <td>NaN</td>\n",
              "      <td>NaN</td>\n",
              "      <td>NaN</td>\n",
              "    </tr>\n",
              "    <tr>\n",
              "      <th>latitude</th>\n",
              "      <td>0</td>\n",
              "      <td>0.00</td>\n",
              "      <td>float64</td>\n",
              "      <td>25784</td>\n",
              "      <td>9782</td>\n",
              "      <td>-22.97</td>\n",
              "      <td>-22.97</td>\n",
              "      <td>-22.7498</td>\n",
              "      <td>-23.0729</td>\n",
              "      <td>3.000000e-02</td>\n",
              "    </tr>\n",
              "    <tr>\n",
              "      <th>longitude</th>\n",
              "      <td>0</td>\n",
              "      <td>0.00</td>\n",
              "      <td>float64</td>\n",
              "      <td>25784</td>\n",
              "      <td>12093</td>\n",
              "      <td>-43.25</td>\n",
              "      <td>-43.20</td>\n",
              "      <td>-43.1049</td>\n",
              "      <td>-43.7048</td>\n",
              "      <td>1.000000e-01</td>\n",
              "    </tr>\n",
              "    <tr>\n",
              "      <th>minimum_nights</th>\n",
              "      <td>0</td>\n",
              "      <td>0.00</td>\n",
              "      <td>int64</td>\n",
              "      <td>25784</td>\n",
              "      <td>67</td>\n",
              "      <td>4.77</td>\n",
              "      <td>2.00</td>\n",
              "      <td>1000</td>\n",
              "      <td>1</td>\n",
              "      <td>1.904000e+01</td>\n",
              "    </tr>\n",
              "    <tr>\n",
              "      <th>name</th>\n",
              "      <td>29</td>\n",
              "      <td>0.00</td>\n",
              "      <td>object</td>\n",
              "      <td>25755</td>\n",
              "      <td>25086</td>\n",
              "      <td>NaN</td>\n",
              "      <td>NaN</td>\n",
              "      <td>NaN</td>\n",
              "      <td>NaN</td>\n",
              "      <td>NaN</td>\n",
              "    </tr>\n",
              "    <tr>\n",
              "      <th>neighbourhood</th>\n",
              "      <td>11675</td>\n",
              "      <td>0.45</td>\n",
              "      <td>object</td>\n",
              "      <td>14109</td>\n",
              "      <td>270</td>\n",
              "      <td>NaN</td>\n",
              "      <td>NaN</td>\n",
              "      <td>NaN</td>\n",
              "      <td>NaN</td>\n",
              "      <td>NaN</td>\n",
              "    </tr>\n",
              "    <tr>\n",
              "      <th>number_of_reviews</th>\n",
              "      <td>0</td>\n",
              "      <td>0.00</td>\n",
              "      <td>int64</td>\n",
              "      <td>25784</td>\n",
              "      <td>273</td>\n",
              "      <td>11.96</td>\n",
              "      <td>1.00</td>\n",
              "      <td>431</td>\n",
              "      <td>0</td>\n",
              "      <td>2.937000e+01</td>\n",
              "    </tr>\n",
              "    <tr>\n",
              "      <th>price</th>\n",
              "      <td>0</td>\n",
              "      <td>0.00</td>\n",
              "      <td>object</td>\n",
              "      <td>25784</td>\n",
              "      <td>2187</td>\n",
              "      <td>NaN</td>\n",
              "      <td>NaN</td>\n",
              "      <td>$999.00</td>\n",
              "      <td>$0.00</td>\n",
              "      <td>NaN</td>\n",
              "    </tr>\n",
              "    <tr>\n",
              "      <th>reviews_per_month</th>\n",
              "      <td>9932</td>\n",
              "      <td>0.39</td>\n",
              "      <td>float64</td>\n",
              "      <td>15852</td>\n",
              "      <td>477</td>\n",
              "      <td>0.59</td>\n",
              "      <td>0.24</td>\n",
              "      <td>14.55</td>\n",
              "      <td>0.01</td>\n",
              "      <td>8.200000e-01</td>\n",
              "    </tr>\n",
              "    <tr>\n",
              "      <th>room_type</th>\n",
              "      <td>0</td>\n",
              "      <td>0.00</td>\n",
              "      <td>object</td>\n",
              "      <td>25784</td>\n",
              "      <td>4</td>\n",
              "      <td>NaN</td>\n",
              "      <td>NaN</td>\n",
              "      <td>Shared room</td>\n",
              "      <td>Entire home/apt</td>\n",
              "      <td>NaN</td>\n",
              "    </tr>\n",
              "  </tbody>\n",
              "</table>\n",
              "</div>"
            ],
            "text/plain": [
              "                                Amount_NaN  ...           STD\n",
              "availability_365                         0  ...  1.408900e+02\n",
              "calculated_host_listings_count           0  ...  2.000000e+01\n",
              "host_id                                  0  ...  1.041834e+08\n",
              "host_name                                8  ...           NaN\n",
              "last_review                           9932  ...           NaN\n",
              "latitude                                 0  ...  3.000000e-02\n",
              "longitude                                0  ...  1.000000e-01\n",
              "minimum_nights                           0  ...  1.904000e+01\n",
              "name                                    29  ...           NaN\n",
              "neighbourhood                        11675  ...           NaN\n",
              "number_of_reviews                        0  ...  2.937000e+01\n",
              "price                                    0  ...           NaN\n",
              "reviews_per_month                     9932  ...  8.200000e-01\n",
              "room_type                                0  ...           NaN\n",
              "\n",
              "[14 rows x 10 columns]"
            ]
          },
          "metadata": {
            "tags": []
          },
          "execution_count": 6
        }
      ]
    },
    {
      "cell_type": "markdown",
      "metadata": {
        "id": "uIj1uh-o6nib"
      },
      "source": [
        "1) Temos 25.784 instâncias no dataset e 14 variáveis a priori;\n",
        "\n",
        "2) Temos muitos dados nulos nas variáveis last_review, neighbourhood e reviews_per_month\n",
        "\n",
        "3) Precisamos tratar os dados da coluna price para tranformá-los em tipo Float\n",
        "\n",
        "4) Temos uma media de 215 em que os hosts estão disponíveis, por ano, com uma mediana de 247 e moda de 365. A maioria está disponivel o ano todo, porém possuímos outliers com o número de 0 disponíveis por ano que podem estar puxando a media pra baixo.\n",
        "\n",
        "5) Olhando mediana e media podemos indicar que a maioria dos dados de minímo de noite (para a paga do valor indicado) está entre 2 e 5)."
      ]
    },
    {
      "cell_type": "code",
      "metadata": {
        "colab": {
          "base_uri": "https://localhost:8080/"
        },
        "id": "MJsMt---FSUE",
        "outputId": "a802db6b-2c4d-4178-f690-e8ad5c8645b0"
      },
      "source": [
        "dados['host_name'].value_counts()"
      ],
      "execution_count": 7,
      "outputs": [
        {
          "output_type": "execute_result",
          "data": {
            "text/plain": [
              "Daniel               318\n",
              "Maria                270\n",
              "Marcelo              243\n",
              "Ricardo              212\n",
              "Carlos               196\n",
              "                    ... \n",
              "Marcelo Caetano        1\n",
              "Rosilea                1\n",
              "Isaia                  1\n",
              "Iran                   1\n",
              "Marcus Vinicius A      1\n",
              "Name: host_name, Length: 5075, dtype: int64"
            ]
          },
          "metadata": {
            "tags": []
          },
          "execution_count": 7
        }
      ]
    },
    {
      "cell_type": "markdown",
      "metadata": {
        "id": "SZdVCcz8FtBw"
      },
      "source": [
        "Ao contar o número de hosts por pessoas vemos muitas que se repetem. Isso pode se dar porque só o primeiro nome está contido e assim são pessoas diferentes com nomes iguais, ou pode haver pessoas com maior número de locais disponiveis na plataforma Airbnd e outras que colocam a vaga de forma mais eventual."
      ]
    },
    {
      "cell_type": "markdown",
      "metadata": {
        "id": "-ZOf9NJD4UJP"
      },
      "source": [
        "#### Exercício 2 -Faça a limpeza dos dados."
      ]
    },
    {
      "cell_type": "code",
      "metadata": {
        "colab": {
          "base_uri": "https://localhost:8080/"
        },
        "id": "Fm5IgN9k4UJR",
        "outputId": "9fc0a74b-e41d-445b-cbee-c823bf555bd1"
      },
      "source": [
        "#Modificando coluna de preço de object para float\n",
        "dados['price']= dados['price'].str.replace('$', '', regex= True)\n",
        "dados['price']= dados['price'].str.replace(',', '', regex= True)\n",
        "dados['price']= dados['price'].str.replace('.', '', regex= True)\n",
        "dados['price'] = pd.to_numeric(dados['price'])\n",
        "\n",
        "dados['price'].dtype"
      ],
      "execution_count": 8,
      "outputs": [
        {
          "output_type": "execute_result",
          "data": {
            "text/plain": [
              "dtype('int64')"
            ]
          },
          "metadata": {
            "tags": []
          },
          "execution_count": 8
        }
      ]
    },
    {
      "cell_type": "markdown",
      "metadata": {
        "id": "tCOtqgOYMpVZ"
      },
      "source": [
        "Imputar os valores faltantes em neighbourhood usando os vizinhos mais próximos em Longitude e Latitude."
      ]
    },
    {
      "cell_type": "markdown",
      "metadata": {
        "id": "BDH8wS8n4UJU"
      },
      "source": [
        "#### Exercício 3 - Analise os dados e realize a anonimização dos mesmos. "
      ]
    },
    {
      "cell_type": "code",
      "metadata": {
        "id": "k8aKqDWN4UJU"
      },
      "source": [
        ""
      ],
      "execution_count": null,
      "outputs": []
    },
    {
      "cell_type": "code",
      "metadata": {
        "id": "5BU7dj4d4UJV"
      },
      "source": [
        ""
      ],
      "execution_count": null,
      "outputs": []
    },
    {
      "cell_type": "code",
      "metadata": {
        "id": "N6JZtlaz4UJW"
      },
      "source": [
        ""
      ],
      "execution_count": null,
      "outputs": []
    },
    {
      "cell_type": "markdown",
      "metadata": {
        "id": "3WWiDuP54UJW"
      },
      "source": [
        "#### Exercício 4 - Crie um modelo de regressão para os preços dos apartamentos."
      ]
    },
    {
      "cell_type": "code",
      "metadata": {
        "id": "nzuy3LAU4UJX"
      },
      "source": [
        ""
      ],
      "execution_count": null,
      "outputs": []
    },
    {
      "cell_type": "code",
      "metadata": {
        "id": "DXrJbP2g4UJX"
      },
      "source": [
        ""
      ],
      "execution_count": null,
      "outputs": []
    },
    {
      "cell_type": "code",
      "metadata": {
        "id": "G0FkIutg4UJX"
      },
      "source": [
        ""
      ],
      "execution_count": null,
      "outputs": []
    },
    {
      "cell_type": "code",
      "metadata": {
        "id": "ohIUUsCW4UJY"
      },
      "source": [
        ""
      ],
      "execution_count": null,
      "outputs": []
    },
    {
      "cell_type": "code",
      "metadata": {
        "id": "EfR_B5-64UJY"
      },
      "source": [
        ""
      ],
      "execution_count": null,
      "outputs": []
    },
    {
      "cell_type": "code",
      "metadata": {
        "id": "ph66Q_Q44UJY"
      },
      "source": [
        ""
      ],
      "execution_count": null,
      "outputs": []
    },
    {
      "cell_type": "code",
      "metadata": {
        "id": "m5FpCXxs4UJY"
      },
      "source": [
        ""
      ],
      "execution_count": null,
      "outputs": []
    }
  ]
}