{
  "nbformat": 4,
  "nbformat_minor": 0,
  "metadata": {
    "kernelspec": {
      "display_name": "Python 3",
      "language": "python",
      "name": "python3"
    },
    "language_info": {
      "codemirror_mode": {
        "name": "ipython",
        "version": 3
      },
      "file_extension": ".py",
      "mimetype": "text/x-python",
      "name": "python",
      "nbconvert_exporter": "python",
      "pygments_lexer": "ipython3",
      "version": "3.7.6"
    },
    "colab": {
      "name": "M2A32-PRATICA_INDEPENDENTE_REGRESSAO_LINEAR_IV.ipynb",
      "provenance": [],
      "collapsed_sections": []
    }
  },
  "cells": [
    {
      "cell_type": "markdown",
      "metadata": {
        "id": "V9iWeqId4UI5"
      },
      "source": [
        "# Prática Independente - Regressão IV."
      ]
    },
    {
      "cell_type": "markdown",
      "metadata": {
        "id": "YsgodMLh4UJJ"
      },
      "source": [
        "## Dados abertos do Airbnb no Rio de Janeiro:\n",
        "\n",
        "#### Desde 2008, os hóspedes e anfitriões têm usado o Airbnb para expandir as possibilidades de viagem e apresentar uma forma mais única e personalizada de experimentar o mundo. Este conjunto de dados descreve a atividade de listagem e as métricas em Rio de Janeiro, RJ para 2020.\n",
        "\n",
        "### Conteúdo:\n",
        "\n",
        "#### O arquivo `'AB_RJ_2020.csv'` inclui todas as informações necessárias para descobrir mais sobre hosts, disponibilidade geográfica, métricas necessárias para fazer previsões e tirar conclusões.\n",
        "\n",
        "#### Este conjunto de dados [públicos](http://insideairbnb.com/) faz parte do [Airbnb](https://www.airbnb.com.br/)."
      ]
    },
    {
      "cell_type": "markdown",
      "metadata": {
        "id": "yucSqfc94UJK"
      },
      "source": [
        "<img src=\"RegMetroRJ.png\" width=\"1532\" height=\"1037\" align=\"center\"/>"
      ]
    },
    {
      "cell_type": "code",
      "metadata": {
        "id": "rT8FCUnW4X9d",
        "colab": {
          "base_uri": "https://localhost:8080/"
        },
        "outputId": "e6ad92fa-acf5-4436-aea6-fd730d3d391d"
      },
      "source": [
        "import pandas as pd\n",
        "import matplotlib.pyplot as plt\n",
        "import seaborn as sns\n",
        "import numpy as np\n",
        "from scipy import stats\n",
        "import statsmodels.api as sm\n",
        "from sklearn.preprocessing import OrdinalEncoder\n",
        "from sklearn.impute import KNNImputer\n",
        "from sklearn.preprocessing import StandardScaler\n",
        "from sklearn.metrics import accuracy_score, classification_report\n",
        "from sklearn.model_selection import train_test_split\n",
        "\n",
        "# Tamanho padrões das figuras e a fonte de seus textos neste notebook\n",
        "plt.rcParams['figure.figsize'] = (10, 8)\n",
        "plt.rcParams['font.size'] = 14"
      ],
      "execution_count": null,
      "outputs": [
        {
          "output_type": "stream",
          "text": [
            "/usr/local/lib/python3.6/dist-packages/statsmodels/tools/_testing.py:19: FutureWarning: pandas.util.testing is deprecated. Use the functions in the public API at pandas.testing instead.\n",
            "  import pandas.util.testing as tm\n"
          ],
          "name": "stderr"
        }
      ]
    },
    {
      "cell_type": "code",
      "metadata": {
        "id": "dSCryW9h6JSN"
      },
      "source": [
        "def EDA (df):\n",
        "    eda_df = {}\n",
        "    eda_df['Amount_NaN'] = df.isnull().sum()\n",
        "    eda_df['%_NaN'] = df.isnull().mean().round(2)\n",
        "    eda_df['DType'] = df.dtypes\n",
        "    eda_df['Amount_Data'] = df.count()\n",
        "    \n",
        "    # Outro ponto para ser verificado, porque para criar a coluna com a quantidade de valores unicos por coluna\n",
        "    # Não utilizei a função df.unique() \n",
        "    colunas = sorted(df.columns.tolist(), key=str.lower, reverse=False)\n",
        "    eda_df['Amount_Unique'] = filtered_result = list(map(lambda x: len(df[x].unique().tolist()), colunas))\n",
        "    \n",
        "    eda_df['Mean'] = np.round(df.mean(), 2)\n",
        "    eda_df['Median'] = np.round(df.median(), 2)\n",
        "    \n",
        "    eda_df['Max'] = df.max()\n",
        "    eda_df['Min'] = df.min()\n",
        "    eda_df['STD'] = np.round(df.std(), 2)\n",
        "    \n",
        "    return pd.DataFrame(eda_df)"
      ],
      "execution_count": null,
      "outputs": []
    },
    {
      "cell_type": "markdown",
      "metadata": {
        "id": "Sxje2npy4UJL"
      },
      "source": [
        "#### Exercício 1 - Realize uma análise exploratória nos dados abertos do AirBNB para a cidade do Rio de Janeiro."
      ]
    },
    {
      "cell_type": "code",
      "metadata": {
        "id": "89DeNlhI4UJL",
        "colab": {
          "base_uri": "https://localhost:8080/",
          "height": 476
        },
        "outputId": "5d2a9807-1d5e-4029-901d-0d245524fb60"
      },
      "source": [
        "dados = pd.read_csv('AB_RJ_2020.csv', parse_dates= True, index_col= 'id')\n",
        "dados.head()"
      ],
      "execution_count": null,
      "outputs": [
        {
          "output_type": "execute_result",
          "data": {
            "text/html": [
              "<div>\n",
              "<style scoped>\n",
              "    .dataframe tbody tr th:only-of-type {\n",
              "        vertical-align: middle;\n",
              "    }\n",
              "\n",
              "    .dataframe tbody tr th {\n",
              "        vertical-align: top;\n",
              "    }\n",
              "\n",
              "    .dataframe thead th {\n",
              "        text-align: right;\n",
              "    }\n",
              "</style>\n",
              "<table border=\"1\" class=\"dataframe\">\n",
              "  <thead>\n",
              "    <tr style=\"text-align: right;\">\n",
              "      <th></th>\n",
              "      <th>name</th>\n",
              "      <th>host_id</th>\n",
              "      <th>host_name</th>\n",
              "      <th>neighbourhood</th>\n",
              "      <th>latitude</th>\n",
              "      <th>longitude</th>\n",
              "      <th>room_type</th>\n",
              "      <th>price</th>\n",
              "      <th>minimum_nights</th>\n",
              "      <th>number_of_reviews</th>\n",
              "      <th>last_review</th>\n",
              "      <th>reviews_per_month</th>\n",
              "      <th>calculated_host_listings_count</th>\n",
              "      <th>availability_365</th>\n",
              "    </tr>\n",
              "    <tr>\n",
              "      <th>id</th>\n",
              "      <th></th>\n",
              "      <th></th>\n",
              "      <th></th>\n",
              "      <th></th>\n",
              "      <th></th>\n",
              "      <th></th>\n",
              "      <th></th>\n",
              "      <th></th>\n",
              "      <th></th>\n",
              "      <th></th>\n",
              "      <th></th>\n",
              "      <th></th>\n",
              "      <th></th>\n",
              "      <th></th>\n",
              "    </tr>\n",
              "  </thead>\n",
              "  <tbody>\n",
              "    <tr>\n",
              "      <th>17878</th>\n",
              "      <td>Very Nice 2Br in Copacabana w. balcony, fast WiFi</td>\n",
              "      <td>68997</td>\n",
              "      <td>Matthias</td>\n",
              "      <td>Rio de Janeiro, Brazil</td>\n",
              "      <td>-22.96592</td>\n",
              "      <td>-43.17896</td>\n",
              "      <td>Entire home/apt</td>\n",
              "      <td>$500.00</td>\n",
              "      <td>5</td>\n",
              "      <td>259</td>\n",
              "      <td>2020-12-26</td>\n",
              "      <td>2.03</td>\n",
              "      <td>1</td>\n",
              "      <td>0</td>\n",
              "    </tr>\n",
              "    <tr>\n",
              "      <th>25026</th>\n",
              "      <td>Beautiful Modern Decorated Studio in Copa</td>\n",
              "      <td>3746246</td>\n",
              "      <td>Ghizlane</td>\n",
              "      <td>Rio de Janeiro, Brazil</td>\n",
              "      <td>-22.97712</td>\n",
              "      <td>-43.19045</td>\n",
              "      <td>Entire home/apt</td>\n",
              "      <td>$160.00</td>\n",
              "      <td>7</td>\n",
              "      <td>238</td>\n",
              "      <td>2020-02-15</td>\n",
              "      <td>1.85</td>\n",
              "      <td>11</td>\n",
              "      <td>335</td>\n",
              "    </tr>\n",
              "    <tr>\n",
              "      <th>35636</th>\n",
              "      <td>Cosy flat close to Ipanema beach</td>\n",
              "      <td>153232</td>\n",
              "      <td>Patricia</td>\n",
              "      <td>Rio de Janeiro, Brazil</td>\n",
              "      <td>-22.98816</td>\n",
              "      <td>-43.19359</td>\n",
              "      <td>Entire home/apt</td>\n",
              "      <td>$259.00</td>\n",
              "      <td>2</td>\n",
              "      <td>181</td>\n",
              "      <td>2020-03-15</td>\n",
              "      <td>2.07</td>\n",
              "      <td>1</td>\n",
              "      <td>267</td>\n",
              "    </tr>\n",
              "    <tr>\n",
              "      <th>35764</th>\n",
              "      <td>COPACABANA SEA BREEZE  -  RIO - 20 X Superhost</td>\n",
              "      <td>153691</td>\n",
              "      <td>Patricia Miranda &amp; Paulo</td>\n",
              "      <td>Rio de Janeiro, Brazil</td>\n",
              "      <td>-22.98127</td>\n",
              "      <td>-43.19046</td>\n",
              "      <td>Entire home/apt</td>\n",
              "      <td>$157.00</td>\n",
              "      <td>3</td>\n",
              "      <td>346</td>\n",
              "      <td>2020-12-20</td>\n",
              "      <td>2.78</td>\n",
              "      <td>1</td>\n",
              "      <td>89</td>\n",
              "    </tr>\n",
              "    <tr>\n",
              "      <th>41198</th>\n",
              "      <td>Modern 2bed,Top end of Copacabana</td>\n",
              "      <td>178975</td>\n",
              "      <td>Nicky</td>\n",
              "      <td>NaN</td>\n",
              "      <td>-22.97962</td>\n",
              "      <td>-43.19230</td>\n",
              "      <td>Entire home/apt</td>\n",
              "      <td>$1,035.00</td>\n",
              "      <td>3</td>\n",
              "      <td>18</td>\n",
              "      <td>2016-02-09</td>\n",
              "      <td>0.19</td>\n",
              "      <td>2</td>\n",
              "      <td>365</td>\n",
              "    </tr>\n",
              "  </tbody>\n",
              "</table>\n",
              "</div>"
            ],
            "text/plain": [
              "                                                    name  ...  availability_365\n",
              "id                                                        ...                  \n",
              "17878  Very Nice 2Br in Copacabana w. balcony, fast WiFi  ...                 0\n",
              "25026          Beautiful Modern Decorated Studio in Copa  ...               335\n",
              "35636                   Cosy flat close to Ipanema beach  ...               267\n",
              "35764     COPACABANA SEA BREEZE  -  RIO - 20 X Superhost  ...                89\n",
              "41198                  Modern 2bed,Top end of Copacabana  ...               365\n",
              "\n",
              "[5 rows x 14 columns]"
            ]
          },
          "metadata": {
            "tags": []
          },
          "execution_count": 4
        }
      ]
    },
    {
      "cell_type": "code",
      "metadata": {
        "colab": {
          "base_uri": "https://localhost:8080/"
        },
        "id": "k9sZqpzM9HU6",
        "outputId": "a7fca217-8c03-422d-a87f-e072af8cd38b"
      },
      "source": [
        "print(f'Instâncias: {dados.shape[0]}')\n",
        "print(f'Variáveis: {dados.shape[1]}')"
      ],
      "execution_count": null,
      "outputs": [
        {
          "output_type": "stream",
          "text": [
            "Instâncias: 25784\n",
            "Variáveis: 14\n"
          ],
          "name": "stdout"
        }
      ]
    },
    {
      "cell_type": "code",
      "metadata": {
        "colab": {
          "base_uri": "https://localhost:8080/",
          "height": 483
        },
        "id": "zNFQq_9W4UJM",
        "outputId": "b9078360-6185-4737-de44-1cbc28d2dbd0"
      },
      "source": [
        "EDA(dados)"
      ],
      "execution_count": null,
      "outputs": [
        {
          "output_type": "execute_result",
          "data": {
            "text/html": [
              "<div>\n",
              "<style scoped>\n",
              "    .dataframe tbody tr th:only-of-type {\n",
              "        vertical-align: middle;\n",
              "    }\n",
              "\n",
              "    .dataframe tbody tr th {\n",
              "        vertical-align: top;\n",
              "    }\n",
              "\n",
              "    .dataframe thead th {\n",
              "        text-align: right;\n",
              "    }\n",
              "</style>\n",
              "<table border=\"1\" class=\"dataframe\">\n",
              "  <thead>\n",
              "    <tr style=\"text-align: right;\">\n",
              "      <th></th>\n",
              "      <th>Amount_NaN</th>\n",
              "      <th>%_NaN</th>\n",
              "      <th>DType</th>\n",
              "      <th>Amount_Data</th>\n",
              "      <th>Amount_Unique</th>\n",
              "      <th>Mean</th>\n",
              "      <th>Median</th>\n",
              "      <th>Max</th>\n",
              "      <th>Min</th>\n",
              "      <th>STD</th>\n",
              "    </tr>\n",
              "  </thead>\n",
              "  <tbody>\n",
              "    <tr>\n",
              "      <th>availability_365</th>\n",
              "      <td>0</td>\n",
              "      <td>0.00</td>\n",
              "      <td>int64</td>\n",
              "      <td>25784</td>\n",
              "      <td>366</td>\n",
              "      <td>215.30</td>\n",
              "      <td>247.00</td>\n",
              "      <td>365</td>\n",
              "      <td>0</td>\n",
              "      <td>1.408900e+02</td>\n",
              "    </tr>\n",
              "    <tr>\n",
              "      <th>calculated_host_listings_count</th>\n",
              "      <td>0</td>\n",
              "      <td>0.00</td>\n",
              "      <td>int64</td>\n",
              "      <td>25784</td>\n",
              "      <td>48</td>\n",
              "      <td>6.58</td>\n",
              "      <td>1.00</td>\n",
              "      <td>200</td>\n",
              "      <td>1</td>\n",
              "      <td>2.000000e+01</td>\n",
              "    </tr>\n",
              "    <tr>\n",
              "      <th>host_id</th>\n",
              "      <td>0</td>\n",
              "      <td>0.00</td>\n",
              "      <td>int64</td>\n",
              "      <td>25784</td>\n",
              "      <td>16946</td>\n",
              "      <td>96308131.49</td>\n",
              "      <td>58502919.50</td>\n",
              "      <td>381289871</td>\n",
              "      <td>3607</td>\n",
              "      <td>1.041834e+08</td>\n",
              "    </tr>\n",
              "    <tr>\n",
              "      <th>host_name</th>\n",
              "      <td>8</td>\n",
              "      <td>0.00</td>\n",
              "      <td>object</td>\n",
              "      <td>25776</td>\n",
              "      <td>5076</td>\n",
              "      <td>NaN</td>\n",
              "      <td>NaN</td>\n",
              "      <td>NaN</td>\n",
              "      <td>NaN</td>\n",
              "      <td>NaN</td>\n",
              "    </tr>\n",
              "    <tr>\n",
              "      <th>last_review</th>\n",
              "      <td>9932</td>\n",
              "      <td>0.39</td>\n",
              "      <td>object</td>\n",
              "      <td>15852</td>\n",
              "      <td>1447</td>\n",
              "      <td>NaN</td>\n",
              "      <td>NaN</td>\n",
              "      <td>NaN</td>\n",
              "      <td>NaN</td>\n",
              "      <td>NaN</td>\n",
              "    </tr>\n",
              "    <tr>\n",
              "      <th>latitude</th>\n",
              "      <td>0</td>\n",
              "      <td>0.00</td>\n",
              "      <td>float64</td>\n",
              "      <td>25784</td>\n",
              "      <td>9782</td>\n",
              "      <td>-22.97</td>\n",
              "      <td>-22.97</td>\n",
              "      <td>-22.7498</td>\n",
              "      <td>-23.0729</td>\n",
              "      <td>3.000000e-02</td>\n",
              "    </tr>\n",
              "    <tr>\n",
              "      <th>longitude</th>\n",
              "      <td>0</td>\n",
              "      <td>0.00</td>\n",
              "      <td>float64</td>\n",
              "      <td>25784</td>\n",
              "      <td>12093</td>\n",
              "      <td>-43.25</td>\n",
              "      <td>-43.20</td>\n",
              "      <td>-43.1049</td>\n",
              "      <td>-43.7048</td>\n",
              "      <td>1.000000e-01</td>\n",
              "    </tr>\n",
              "    <tr>\n",
              "      <th>minimum_nights</th>\n",
              "      <td>0</td>\n",
              "      <td>0.00</td>\n",
              "      <td>int64</td>\n",
              "      <td>25784</td>\n",
              "      <td>67</td>\n",
              "      <td>4.77</td>\n",
              "      <td>2.00</td>\n",
              "      <td>1000</td>\n",
              "      <td>1</td>\n",
              "      <td>1.904000e+01</td>\n",
              "    </tr>\n",
              "    <tr>\n",
              "      <th>name</th>\n",
              "      <td>29</td>\n",
              "      <td>0.00</td>\n",
              "      <td>object</td>\n",
              "      <td>25755</td>\n",
              "      <td>25086</td>\n",
              "      <td>NaN</td>\n",
              "      <td>NaN</td>\n",
              "      <td>NaN</td>\n",
              "      <td>NaN</td>\n",
              "      <td>NaN</td>\n",
              "    </tr>\n",
              "    <tr>\n",
              "      <th>neighbourhood</th>\n",
              "      <td>11675</td>\n",
              "      <td>0.45</td>\n",
              "      <td>object</td>\n",
              "      <td>14109</td>\n",
              "      <td>270</td>\n",
              "      <td>NaN</td>\n",
              "      <td>NaN</td>\n",
              "      <td>NaN</td>\n",
              "      <td>NaN</td>\n",
              "      <td>NaN</td>\n",
              "    </tr>\n",
              "    <tr>\n",
              "      <th>number_of_reviews</th>\n",
              "      <td>0</td>\n",
              "      <td>0.00</td>\n",
              "      <td>int64</td>\n",
              "      <td>25784</td>\n",
              "      <td>273</td>\n",
              "      <td>11.96</td>\n",
              "      <td>1.00</td>\n",
              "      <td>431</td>\n",
              "      <td>0</td>\n",
              "      <td>2.937000e+01</td>\n",
              "    </tr>\n",
              "    <tr>\n",
              "      <th>price</th>\n",
              "      <td>0</td>\n",
              "      <td>0.00</td>\n",
              "      <td>object</td>\n",
              "      <td>25784</td>\n",
              "      <td>2187</td>\n",
              "      <td>NaN</td>\n",
              "      <td>NaN</td>\n",
              "      <td>$999.00</td>\n",
              "      <td>$0.00</td>\n",
              "      <td>NaN</td>\n",
              "    </tr>\n",
              "    <tr>\n",
              "      <th>reviews_per_month</th>\n",
              "      <td>9932</td>\n",
              "      <td>0.39</td>\n",
              "      <td>float64</td>\n",
              "      <td>15852</td>\n",
              "      <td>477</td>\n",
              "      <td>0.59</td>\n",
              "      <td>0.24</td>\n",
              "      <td>14.55</td>\n",
              "      <td>0.01</td>\n",
              "      <td>8.200000e-01</td>\n",
              "    </tr>\n",
              "    <tr>\n",
              "      <th>room_type</th>\n",
              "      <td>0</td>\n",
              "      <td>0.00</td>\n",
              "      <td>object</td>\n",
              "      <td>25784</td>\n",
              "      <td>4</td>\n",
              "      <td>NaN</td>\n",
              "      <td>NaN</td>\n",
              "      <td>Shared room</td>\n",
              "      <td>Entire home/apt</td>\n",
              "      <td>NaN</td>\n",
              "    </tr>\n",
              "  </tbody>\n",
              "</table>\n",
              "</div>"
            ],
            "text/plain": [
              "                                Amount_NaN  ...           STD\n",
              "availability_365                         0  ...  1.408900e+02\n",
              "calculated_host_listings_count           0  ...  2.000000e+01\n",
              "host_id                                  0  ...  1.041834e+08\n",
              "host_name                                8  ...           NaN\n",
              "last_review                           9932  ...           NaN\n",
              "latitude                                 0  ...  3.000000e-02\n",
              "longitude                                0  ...  1.000000e-01\n",
              "minimum_nights                           0  ...  1.904000e+01\n",
              "name                                    29  ...           NaN\n",
              "neighbourhood                        11675  ...           NaN\n",
              "number_of_reviews                        0  ...  2.937000e+01\n",
              "price                                    0  ...           NaN\n",
              "reviews_per_month                     9932  ...  8.200000e-01\n",
              "room_type                                0  ...           NaN\n",
              "\n",
              "[14 rows x 10 columns]"
            ]
          },
          "metadata": {
            "tags": []
          },
          "execution_count": 6
        }
      ]
    },
    {
      "cell_type": "markdown",
      "metadata": {
        "id": "uIj1uh-o6nib"
      },
      "source": [
        "1) Temos 25.784 instâncias no dataset e 14 variáveis a priori;\n",
        "\n",
        "2) Temos muitos dados nulos nas variáveis last_review, neighbourhood e reviews_per_month\n",
        "\n",
        "3) Precisamos tratar os dados da coluna price para tranformá-los em tipo Inteiro para utilizarmos no modelo de regressão com o tipo correto\n",
        "\n",
        "4) Temos uma media de 215 em que os hosts estão disponíveis, por ano, com uma mediana de 247 e moda de 365. A maioria está disponivel o ano todo, porém possuímos outliers com o número de 0 disponíveis por ano que podem estar puxando a media pra baixo.\n",
        "\n",
        "5) Olhando mediana e media podemos indicar que a maioria dos dados de minímo de noite (para a paga do valor indicado) está entre 2 e 5)."
      ]
    },
    {
      "cell_type": "code",
      "metadata": {
        "colab": {
          "base_uri": "https://localhost:8080/"
        },
        "id": "MJsMt---FSUE",
        "outputId": "75f724b7-f685-4277-ec68-b35a8cda78a8"
      },
      "source": [
        "dados['host_name'].value_counts()"
      ],
      "execution_count": null,
      "outputs": [
        {
          "output_type": "execute_result",
          "data": {
            "text/plain": [
              "Daniel               318\n",
              "Maria                270\n",
              "Marcelo              243\n",
              "Ricardo              212\n",
              "Carlos               196\n",
              "                    ... \n",
              "Aldaíza  Aldado        1\n",
              "Elfi                   1\n",
              "Paulo Henrique         1\n",
              "Vanize                 1\n",
              "Luciano E Gláucio      1\n",
              "Name: host_name, Length: 5075, dtype: int64"
            ]
          },
          "metadata": {
            "tags": []
          },
          "execution_count": 7
        }
      ]
    },
    {
      "cell_type": "markdown",
      "metadata": {
        "id": "SZdVCcz8FtBw"
      },
      "source": [
        "Ao contar o número de hosts por pessoas vemos muitas que se repetem. Isso pode se dar porque só o primeiro nome está contido e assim são pessoas diferentes com nomes iguais, ou pode haver pessoas com maior número de locais disponiveis na plataforma Airbnd e outras que colocam a vaga de forma mais eventual."
      ]
    },
    {
      "cell_type": "markdown",
      "metadata": {
        "id": "-ZOf9NJD4UJP"
      },
      "source": [
        "#### Exercício 2 -Faça a limpeza dos dados."
      ]
    },
    {
      "cell_type": "code",
      "metadata": {
        "colab": {
          "base_uri": "https://localhost:8080/"
        },
        "id": "_Li-tPSuhYDw",
        "outputId": "53bce032-0b40-4424-a683-d319ed57e8e6"
      },
      "source": [
        "dados.info()"
      ],
      "execution_count": null,
      "outputs": [
        {
          "output_type": "stream",
          "text": [
            "<class 'pandas.core.frame.DataFrame'>\n",
            "Int64Index: 25784 entries, 17878 to 47221763\n",
            "Data columns (total 14 columns):\n",
            " #   Column                          Non-Null Count  Dtype  \n",
            "---  ------                          --------------  -----  \n",
            " 0   name                            25755 non-null  object \n",
            " 1   host_id                         25784 non-null  int64  \n",
            " 2   host_name                       25776 non-null  object \n",
            " 3   neighbourhood                   14109 non-null  object \n",
            " 4   latitude                        25784 non-null  float64\n",
            " 5   longitude                       25784 non-null  float64\n",
            " 6   room_type                       25784 non-null  object \n",
            " 7   price                           25784 non-null  object \n",
            " 8   minimum_nights                  25784 non-null  int64  \n",
            " 9   number_of_reviews               25784 non-null  int64  \n",
            " 10  last_review                     15852 non-null  object \n",
            " 11  reviews_per_month               15852 non-null  float64\n",
            " 12  calculated_host_listings_count  25784 non-null  int64  \n",
            " 13  availability_365                25784 non-null  int64  \n",
            "dtypes: float64(3), int64(5), object(6)\n",
            "memory usage: 3.0+ MB\n"
          ],
          "name": "stdout"
        }
      ]
    },
    {
      "cell_type": "markdown",
      "metadata": {
        "id": "wh-G4xtYucoS"
      },
      "source": [
        "Vamos retirar colunas que não serão utilizadas no modelo e passar os nomes daquelas que possuem variáveis categóricas para variáveis numéricas."
      ]
    },
    {
      "cell_type": "markdown",
      "metadata": {
        "id": "yK7od2AHgKY5"
      },
      "source": [
        "Ao explorar a coluna neighbourhood encontramos hosts do Bairro Rio de Janeiro escrito de duas formas diferentes: 'río (ascento agudo no i) de janeiro e rio (sem acento agudo no i) de janeiro. Vamos padronizar os dados retirando o acento agudo desses i's. Vamos aproveitar e passar todos os seus nomes para minúsculos e fazer o mesmo para a coluna roo_type. Assim evitamos que os mesmos tipos de quartos ou mesmos bairros sejam codificados como diferentes por estarem escritos de forma diferente."
      ]
    },
    {
      "cell_type": "code",
      "metadata": {
        "id": "ZGcYeZKyg3mz"
      },
      "source": [
        "#Retirando colunas que não serão utilizadas\n",
        "dados.drop(labels= ['host_name', 'host_id', 'name', 'last_review'], axis= 1, inplace= True)\n",
        "\n",
        "#Passando valores de colunas categóricas para letras minúsculas\n",
        "colunas_minusculas = ['neighbourhood', 'room_type']\n",
        "for coluna in colunas_minusculas:\n",
        "  dados[coluna].str.lower()"
      ],
      "execution_count": null,
      "outputs": []
    },
    {
      "cell_type": "code",
      "metadata": {
        "id": "2cNs641dgq-R"
      },
      "source": [
        "#Padronizando nome do bairro rio de janeiro\n",
        "dados['neighbourhood']= dados['neighbourhood'].str.replace('í', 'i', regex= True)"
      ],
      "execution_count": null,
      "outputs": []
    },
    {
      "cell_type": "markdown",
      "metadata": {
        "id": "YvlQt9WMgGuI"
      },
      "source": [
        "Vamos transformar a coluna price de object para int"
      ]
    },
    {
      "cell_type": "code",
      "metadata": {
        "colab": {
          "base_uri": "https://localhost:8080/"
        },
        "id": "Fm5IgN9k4UJR",
        "outputId": "c32baed3-002a-4e2c-bae9-a6adc597ff14"
      },
      "source": [
        "#Modificando coluna de preço de object para int\n",
        "dados['price']= dados['price'].str.replace('$', '', regex= True)\n",
        "dados['price']= dados['price'].str.replace(',', '', regex= True)\n",
        "dados['price']= dados['price'].str.replace('.', '', regex= True)\n",
        "dados['price'] = pd.to_numeric(dados['price'])\n",
        "\n",
        "dados['price'].head()"
      ],
      "execution_count": null,
      "outputs": [
        {
          "output_type": "execute_result",
          "data": {
            "text/plain": [
              "id\n",
              "17878     50000\n",
              "25026     16000\n",
              "35636     25900\n",
              "35764     15700\n",
              "41198    103500\n",
              "Name: price, dtype: int64"
            ]
          },
          "metadata": {
            "tags": []
          },
          "execution_count": 10
        }
      ]
    },
    {
      "cell_type": "markdown",
      "metadata": {
        "id": "tCOtqgOYMpVZ"
      },
      "source": [
        "Vamos preencher os valores faltantes numericos usando o algoritmo [KNNImputer](https://scikit-learn.org/stable/modules/generated/sklearn.impute.KNNImputer.html) que distribui os dados em pontos n-dimensionais (sendo n o total de variáveis independentes) e prediz um valor para o dado faltante baseado na sua proximidade nesse espaço com pontos que não possuem dados faltantes. Primeiro, porém, temos de codificar as variáveis categóricas com dados numéricos em nosso dataset."
      ]
    },
    {
      "cell_type": "code",
      "metadata": {
        "id": "wZ0tl5R3m7b8"
      },
      "source": [
        "#Instanciado objeto OrdinalEncoder\n",
        "encoder = OrdinalEncoder()\n",
        "\n",
        "def encode(data):\n",
        "    '''função que codifica valores não nulos e substitui no dataset original'''\n",
        "    #retira os valores nulos dataset\n",
        "    nao_nulos = np.array(data.dropna())\n",
        "    #reshape dos dados para codificação\n",
        "    impute_reshape = nao_nulos.reshape(-1,1)\n",
        "    #codifica os dados\n",
        "    impute_ordinal = encoder.fit_transform(impute_reshape)\n",
        "    #Atribui os valores codificados de volta a valores não nulos\n",
        "    data.loc[data.notnull()] = np.squeeze(impute_ordinal)\n",
        "    return data"
      ],
      "execution_count": null,
      "outputs": []
    },
    {
      "cell_type": "code",
      "metadata": {
        "colab": {
          "base_uri": "https://localhost:8080/",
          "height": 394
        },
        "id": "yJU97xeIn1PJ",
        "outputId": "ac756ce6-a154-4a61-b728-b54b15df4bee"
      },
      "source": [
        "#Codificando colunas categóricas de nossos dados\n",
        "colunas_categoricas= ['neighbourhood', 'room_type']\n",
        "\n",
        "for coluna in colunas_categoricas:\n",
        "    encode(dados[coluna])\n",
        "\n",
        "dados.sample(4)"
      ],
      "execution_count": null,
      "outputs": [
        {
          "output_type": "stream",
          "text": [
            "/usr/local/lib/python3.6/dist-packages/pandas/core/indexing.py:670: SettingWithCopyWarning: \n",
            "A value is trying to be set on a copy of a slice from a DataFrame\n",
            "\n",
            "See the caveats in the documentation: https://pandas.pydata.org/pandas-docs/stable/user_guide/indexing.html#returning-a-view-versus-a-copy\n",
            "  iloc._setitem_with_indexer(indexer, value)\n",
            "/usr/local/lib/python3.6/dist-packages/pandas/core/indexing.py:670: SettingWithCopyWarning: \n",
            "A value is trying to be set on a copy of a slice from a DataFrame\n",
            "\n",
            "See the caveats in the documentation: https://pandas.pydata.org/pandas-docs/stable/user_guide/indexing.html#returning-a-view-versus-a-copy\n",
            "  iloc._setitem_with_indexer(indexer, value)\n"
          ],
          "name": "stderr"
        },
        {
          "output_type": "execute_result",
          "data": {
            "text/html": [
              "<div>\n",
              "<style scoped>\n",
              "    .dataframe tbody tr th:only-of-type {\n",
              "        vertical-align: middle;\n",
              "    }\n",
              "\n",
              "    .dataframe tbody tr th {\n",
              "        vertical-align: top;\n",
              "    }\n",
              "\n",
              "    .dataframe thead th {\n",
              "        text-align: right;\n",
              "    }\n",
              "</style>\n",
              "<table border=\"1\" class=\"dataframe\">\n",
              "  <thead>\n",
              "    <tr style=\"text-align: right;\">\n",
              "      <th></th>\n",
              "      <th>neighbourhood</th>\n",
              "      <th>latitude</th>\n",
              "      <th>longitude</th>\n",
              "      <th>room_type</th>\n",
              "      <th>price</th>\n",
              "      <th>minimum_nights</th>\n",
              "      <th>number_of_reviews</th>\n",
              "      <th>reviews_per_month</th>\n",
              "      <th>calculated_host_listings_count</th>\n",
              "      <th>availability_365</th>\n",
              "    </tr>\n",
              "    <tr>\n",
              "      <th>id</th>\n",
              "      <th></th>\n",
              "      <th></th>\n",
              "      <th></th>\n",
              "      <th></th>\n",
              "      <th></th>\n",
              "      <th></th>\n",
              "      <th></th>\n",
              "      <th></th>\n",
              "      <th></th>\n",
              "      <th></th>\n",
              "    </tr>\n",
              "  </thead>\n",
              "  <tbody>\n",
              "    <tr>\n",
              "      <th>38381931</th>\n",
              "      <td>54</td>\n",
              "      <td>-22.97481</td>\n",
              "      <td>-43.18867</td>\n",
              "      <td>0.0</td>\n",
              "      <td>25700</td>\n",
              "      <td>2</td>\n",
              "      <td>15</td>\n",
              "      <td>1.18</td>\n",
              "      <td>3</td>\n",
              "      <td>134</td>\n",
              "    </tr>\n",
              "    <tr>\n",
              "      <th>46745536</th>\n",
              "      <td>NaN</td>\n",
              "      <td>-22.96251</td>\n",
              "      <td>-43.22196</td>\n",
              "      <td>0.0</td>\n",
              "      <td>27000</td>\n",
              "      <td>2</td>\n",
              "      <td>0</td>\n",
              "      <td>NaN</td>\n",
              "      <td>4</td>\n",
              "      <td>243</td>\n",
              "    </tr>\n",
              "    <tr>\n",
              "      <th>9164215</th>\n",
              "      <td>181</td>\n",
              "      <td>-23.01294</td>\n",
              "      <td>-43.29212</td>\n",
              "      <td>0.0</td>\n",
              "      <td>500000</td>\n",
              "      <td>7</td>\n",
              "      <td>0</td>\n",
              "      <td>NaN</td>\n",
              "      <td>44</td>\n",
              "      <td>179</td>\n",
              "    </tr>\n",
              "    <tr>\n",
              "      <th>40610868</th>\n",
              "      <td>94</td>\n",
              "      <td>-22.98368</td>\n",
              "      <td>-43.19545</td>\n",
              "      <td>2.0</td>\n",
              "      <td>80000</td>\n",
              "      <td>5</td>\n",
              "      <td>1</td>\n",
              "      <td>0.09</td>\n",
              "      <td>1</td>\n",
              "      <td>82</td>\n",
              "    </tr>\n",
              "  </tbody>\n",
              "</table>\n",
              "</div>"
            ],
            "text/plain": [
              "         neighbourhood  ...  availability_365\n",
              "id                      ...                  \n",
              "38381931            54  ...               134\n",
              "46745536           NaN  ...               243\n",
              "9164215            181  ...               179\n",
              "40610868            94  ...                82\n",
              "\n",
              "[4 rows x 10 columns]"
            ]
          },
          "metadata": {
            "tags": []
          },
          "execution_count": 13
        }
      ]
    },
    {
      "cell_type": "markdown",
      "metadata": {
        "id": "rsp2gs2aown5"
      },
      "source": [
        "Agora que temos nossa coluna de bairros com valores numéricos representando cada bairro, podemos fazer o preenchimento dos valores faltantes utilizando o KNNImputer"
      ]
    },
    {
      "cell_type": "code",
      "metadata": {
        "colab": {
          "base_uri": "https://localhost:8080/",
          "height": 224
        },
        "id": "TiVNIW3NjH8O",
        "outputId": "798b7ebb-36d4-442c-fab8-1e89de9ee0b2"
      },
      "source": [
        "#Instanciando objeto KNNImputer com 7 números vizinhos de parametro, pesos iguais para todos os vizinhos dentro desses 7\n",
        "#E distância euclidiana para calcular as distâncias entre os pontos\n",
        "imputer = KNNImputer(n_neighbors=5, weights='uniform', metric='nan_euclidean')\n",
        "\n",
        "#Treinando modelo\n",
        "imputer.fit(dados)\n",
        "\n",
        "#Transformando o dataset original com os valores nulos implementados\n",
        "dados_transf = imputer.transform(dados)\n",
        "\n",
        "#Retornando os dados para um dataframe pandas com as categorias em formato numérico\n",
        "dados_transf = pd.DataFrame(imputer.fit_transform(dados_transf),columns = dados.columns)\n",
        "dados_transf.head()"
      ],
      "execution_count": null,
      "outputs": [
        {
          "output_type": "execute_result",
          "data": {
            "text/html": [
              "<div>\n",
              "<style scoped>\n",
              "    .dataframe tbody tr th:only-of-type {\n",
              "        vertical-align: middle;\n",
              "    }\n",
              "\n",
              "    .dataframe tbody tr th {\n",
              "        vertical-align: top;\n",
              "    }\n",
              "\n",
              "    .dataframe thead th {\n",
              "        text-align: right;\n",
              "    }\n",
              "</style>\n",
              "<table border=\"1\" class=\"dataframe\">\n",
              "  <thead>\n",
              "    <tr style=\"text-align: right;\">\n",
              "      <th></th>\n",
              "      <th>neighbourhood</th>\n",
              "      <th>latitude</th>\n",
              "      <th>longitude</th>\n",
              "      <th>room_type</th>\n",
              "      <th>price</th>\n",
              "      <th>minimum_nights</th>\n",
              "      <th>number_of_reviews</th>\n",
              "      <th>reviews_per_month</th>\n",
              "      <th>calculated_host_listings_count</th>\n",
              "      <th>availability_365</th>\n",
              "    </tr>\n",
              "  </thead>\n",
              "  <tbody>\n",
              "    <tr>\n",
              "      <th>0</th>\n",
              "      <td>181.0</td>\n",
              "      <td>-22.96592</td>\n",
              "      <td>-43.17896</td>\n",
              "      <td>0.0</td>\n",
              "      <td>50000.0</td>\n",
              "      <td>5.0</td>\n",
              "      <td>259.0</td>\n",
              "      <td>2.03</td>\n",
              "      <td>1.0</td>\n",
              "      <td>0.0</td>\n",
              "    </tr>\n",
              "    <tr>\n",
              "      <th>1</th>\n",
              "      <td>181.0</td>\n",
              "      <td>-22.97712</td>\n",
              "      <td>-43.19045</td>\n",
              "      <td>0.0</td>\n",
              "      <td>16000.0</td>\n",
              "      <td>7.0</td>\n",
              "      <td>238.0</td>\n",
              "      <td>1.85</td>\n",
              "      <td>11.0</td>\n",
              "      <td>335.0</td>\n",
              "    </tr>\n",
              "    <tr>\n",
              "      <th>2</th>\n",
              "      <td>181.0</td>\n",
              "      <td>-22.98816</td>\n",
              "      <td>-43.19359</td>\n",
              "      <td>0.0</td>\n",
              "      <td>25900.0</td>\n",
              "      <td>2.0</td>\n",
              "      <td>181.0</td>\n",
              "      <td>2.07</td>\n",
              "      <td>1.0</td>\n",
              "      <td>267.0</td>\n",
              "    </tr>\n",
              "    <tr>\n",
              "      <th>3</th>\n",
              "      <td>181.0</td>\n",
              "      <td>-22.98127</td>\n",
              "      <td>-43.19046</td>\n",
              "      <td>0.0</td>\n",
              "      <td>15700.0</td>\n",
              "      <td>3.0</td>\n",
              "      <td>346.0</td>\n",
              "      <td>2.78</td>\n",
              "      <td>1.0</td>\n",
              "      <td>89.0</td>\n",
              "    </tr>\n",
              "    <tr>\n",
              "      <th>4</th>\n",
              "      <td>168.6</td>\n",
              "      <td>-22.97962</td>\n",
              "      <td>-43.19230</td>\n",
              "      <td>0.0</td>\n",
              "      <td>103500.0</td>\n",
              "      <td>3.0</td>\n",
              "      <td>18.0</td>\n",
              "      <td>0.19</td>\n",
              "      <td>2.0</td>\n",
              "      <td>365.0</td>\n",
              "    </tr>\n",
              "  </tbody>\n",
              "</table>\n",
              "</div>"
            ],
            "text/plain": [
              "   neighbourhood  latitude  ...  calculated_host_listings_count  availability_365\n",
              "0          181.0 -22.96592  ...                             1.0               0.0\n",
              "1          181.0 -22.97712  ...                            11.0             335.0\n",
              "2          181.0 -22.98816  ...                             1.0             267.0\n",
              "3          181.0 -22.98127  ...                             1.0              89.0\n",
              "4          168.6 -22.97962  ...                             2.0             365.0\n",
              "\n",
              "[5 rows x 10 columns]"
            ]
          },
          "metadata": {
            "tags": []
          },
          "execution_count": 14
        }
      ]
    },
    {
      "cell_type": "code",
      "metadata": {
        "colab": {
          "base_uri": "https://localhost:8080/"
        },
        "id": "2rNK2GGxrnx1",
        "outputId": "77eb8d26-8f8d-4329-cac4-fc0f82103c79"
      },
      "source": [
        "dados_transf.info()"
      ],
      "execution_count": null,
      "outputs": [
        {
          "output_type": "stream",
          "text": [
            "<class 'pandas.core.frame.DataFrame'>\n",
            "RangeIndex: 25784 entries, 0 to 25783\n",
            "Data columns (total 10 columns):\n",
            " #   Column                          Non-Null Count  Dtype  \n",
            "---  ------                          --------------  -----  \n",
            " 0   neighbourhood                   25784 non-null  float64\n",
            " 1   latitude                        25784 non-null  float64\n",
            " 2   longitude                       25784 non-null  float64\n",
            " 3   room_type                       25784 non-null  float64\n",
            " 4   price                           25784 non-null  float64\n",
            " 5   minimum_nights                  25784 non-null  float64\n",
            " 6   number_of_reviews               25784 non-null  float64\n",
            " 7   reviews_per_month               25784 non-null  float64\n",
            " 8   calculated_host_listings_count  25784 non-null  float64\n",
            " 9   availability_365                25784 non-null  float64\n",
            "dtypes: float64(10)\n",
            "memory usage: 2.0 MB\n"
          ],
          "name": "stdout"
        }
      ]
    },
    {
      "cell_type": "markdown",
      "metadata": {
        "id": "BDH8wS8n4UJU"
      },
      "source": [
        "#### Exercício 3 - Analise os dados e realize a anonimização dos mesmos. "
      ]
    },
    {
      "cell_type": "markdown",
      "metadata": {
        "id": "zg3w3vHvsFux"
      },
      "source": [
        "Já o fizemos ao retirar as colunas que dizem respeito ao nomes dos hosts e nome dos donos dos hosts no exercício 2."
      ]
    },
    {
      "cell_type": "markdown",
      "metadata": {
        "id": "3WWiDuP54UJW"
      },
      "source": [
        "#### Exercício 4 - Crie um modelo de regressão para os preços dos apartamentos."
      ]
    },
    {
      "cell_type": "code",
      "metadata": {
        "id": "ph66Q_Q44UJY"
      },
      "source": [
        ""
      ],
      "execution_count": null,
      "outputs": []
    },
    {
      "cell_type": "code",
      "metadata": {
        "id": "m5FpCXxs4UJY"
      },
      "source": [
        ""
      ],
      "execution_count": null,
      "outputs": []
    }
  ]
}