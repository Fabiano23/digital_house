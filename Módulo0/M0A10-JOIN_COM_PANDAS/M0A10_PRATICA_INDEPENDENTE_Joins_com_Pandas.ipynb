{
  "nbformat": 4,
  "nbformat_minor": 0,
  "metadata": {
    "kernelspec": {
      "display_name": "Python 3",
      "language": "python",
      "name": "python3"
    },
    "language_info": {
      "codemirror_mode": {
        "name": "ipython",
        "version": 3
      },
      "file_extension": ".py",
      "mimetype": "text/x-python",
      "name": "python",
      "nbconvert_exporter": "python",
      "pygments_lexer": "ipython3",
      "version": "3.7.6"
    },
    "colab": {
      "name": "M0A10-PRATICA_INDEPENDENTE_Joins_com_Pandas.ipynb",
      "provenance": [],
      "collapsed_sections": [
        "nd-fM0vo9Dxv"
      ]
    }
  },
  "cells": [
    {
      "cell_type": "markdown",
      "metadata": {
        "id": "ZBGinXbQ0YfL"
      },
      "source": [
        "# PRATICA INDEPENDENTE Joins com Pandas."
      ]
    },
    {
      "cell_type": "markdown",
      "metadata": {
        "id": "oY4uWEnt0YfV"
      },
      "source": [
        "### Considerando os datframes a seguir, criados a partir de dicionários, atenda aos exercícios."
      ]
    },
    {
      "cell_type": "code",
      "metadata": {
        "id": "7fSCp1QI0YfX"
      },
      "source": [
        "import pandas as pd\n",
        "\n",
        "df1 = pd.DataFrame({'employee': ['Bob', 'Jake', 'Lisa', 'Sue'], \n",
        "                    'group': ['Accounting', 'Engineering', 'Engineering', 'HR'],\n",
        "                    'absences': [3, 2, 5, 1]\n",
        "                   }\n",
        "                  )\n",
        "#df1\n",
        "\n",
        "df2 = pd.DataFrame({'employee': ['Lisa', 'Bob', 'Jake', 'Sue'], \n",
        "                    'hire_date': [2004, 2008, 2012, 2014]\n",
        "                   }\n",
        "                  )\n",
        "#df2\n",
        "\n",
        "df3 = pd.DataFrame({'group': ['Accounting', 'Engineering', 'HR'], \n",
        "                    'supervisor': ['Carly', 'Guido', 'Steve']\n",
        "                   }\n",
        "                  )\n",
        "#df3"
      ],
      "execution_count": 84,
      "outputs": []
    },
    {
      "cell_type": "markdown",
      "metadata": {
        "id": "H1hKdxI30Yff"
      },
      "source": [
        "#### Exercício 1: Usando a função `.merge()`, obter um dataframe como resultado da intersecão entre `df1` e `df2`. "
      ]
    },
    {
      "cell_type": "code",
      "metadata": {
        "id": "p3TIK4j70Yfg",
        "outputId": "193db0f9-94e9-466c-ed4d-8ef75b828ca4",
        "colab": {
          "base_uri": "https://localhost:8080/",
          "height": 168
        }
      },
      "source": [
        "df_intersecao = df1.merge(df2, on= 'employee')\n",
        "df_intersecao"
      ],
      "execution_count": 85,
      "outputs": [
        {
          "output_type": "execute_result",
          "data": {
            "text/html": [
              "<div>\n",
              "<style scoped>\n",
              "    .dataframe tbody tr th:only-of-type {\n",
              "        vertical-align: middle;\n",
              "    }\n",
              "\n",
              "    .dataframe tbody tr th {\n",
              "        vertical-align: top;\n",
              "    }\n",
              "\n",
              "    .dataframe thead th {\n",
              "        text-align: right;\n",
              "    }\n",
              "</style>\n",
              "<table border=\"1\" class=\"dataframe\">\n",
              "  <thead>\n",
              "    <tr style=\"text-align: right;\">\n",
              "      <th></th>\n",
              "      <th>employee</th>\n",
              "      <th>group</th>\n",
              "      <th>absences</th>\n",
              "      <th>hire_date</th>\n",
              "    </tr>\n",
              "  </thead>\n",
              "  <tbody>\n",
              "    <tr>\n",
              "      <th>0</th>\n",
              "      <td>Bob</td>\n",
              "      <td>Accounting</td>\n",
              "      <td>3</td>\n",
              "      <td>2008</td>\n",
              "    </tr>\n",
              "    <tr>\n",
              "      <th>1</th>\n",
              "      <td>Jake</td>\n",
              "      <td>Engineering</td>\n",
              "      <td>2</td>\n",
              "      <td>2012</td>\n",
              "    </tr>\n",
              "    <tr>\n",
              "      <th>2</th>\n",
              "      <td>Lisa</td>\n",
              "      <td>Engineering</td>\n",
              "      <td>5</td>\n",
              "      <td>2004</td>\n",
              "    </tr>\n",
              "    <tr>\n",
              "      <th>3</th>\n",
              "      <td>Sue</td>\n",
              "      <td>HR</td>\n",
              "      <td>1</td>\n",
              "      <td>2014</td>\n",
              "    </tr>\n",
              "  </tbody>\n",
              "</table>\n",
              "</div>"
            ],
            "text/plain": [
              "  employee        group  absences  hire_date\n",
              "0      Bob   Accounting         3       2008\n",
              "1     Jake  Engineering         2       2012\n",
              "2     Lisa  Engineering         5       2004\n",
              "3      Sue           HR         1       2014"
            ]
          },
          "metadata": {
            "tags": []
          },
          "execution_count": 85
        }
      ]
    },
    {
      "cell_type": "markdown",
      "metadata": {
        "id": "k03lGkrW0Yfm"
      },
      "source": [
        "#### Exercício 2: Calcule também a interseção entre o dataframe criado no exercício anterior e `df3`. "
      ]
    },
    {
      "cell_type": "code",
      "metadata": {
        "id": "TIIZm7e01KAm",
        "outputId": "7ba63eec-d3b4-4653-a2f3-f56d71e64bfd",
        "colab": {
          "base_uri": "https://localhost:8080/"
        }
      },
      "source": [
        "print(df_intersecao)\n",
        "print('\\n')\n",
        "print(df3)"
      ],
      "execution_count": 86,
      "outputs": [
        {
          "output_type": "stream",
          "text": [
            "  employee        group  absences  hire_date\n",
            "0      Bob   Accounting         3       2008\n",
            "1     Jake  Engineering         2       2012\n",
            "2     Lisa  Engineering         5       2004\n",
            "3      Sue           HR         1       2014\n",
            "\n",
            "\n",
            "         group supervisor\n",
            "0   Accounting      Carly\n",
            "1  Engineering      Guido\n",
            "2           HR      Steve\n"
          ],
          "name": "stdout"
        }
      ]
    },
    {
      "cell_type": "code",
      "metadata": {
        "id": "oU6WN27h0Yfn",
        "outputId": "ee15a198-6d46-4786-9db0-7c017454fe4d",
        "colab": {
          "base_uri": "https://localhost:8080/",
          "height": 168
        }
      },
      "source": [
        "df_intersecao = df_intersecao.merge(df3, on= 'group')\n",
        "df_intersecao"
      ],
      "execution_count": 87,
      "outputs": [
        {
          "output_type": "execute_result",
          "data": {
            "text/html": [
              "<div>\n",
              "<style scoped>\n",
              "    .dataframe tbody tr th:only-of-type {\n",
              "        vertical-align: middle;\n",
              "    }\n",
              "\n",
              "    .dataframe tbody tr th {\n",
              "        vertical-align: top;\n",
              "    }\n",
              "\n",
              "    .dataframe thead th {\n",
              "        text-align: right;\n",
              "    }\n",
              "</style>\n",
              "<table border=\"1\" class=\"dataframe\">\n",
              "  <thead>\n",
              "    <tr style=\"text-align: right;\">\n",
              "      <th></th>\n",
              "      <th>employee</th>\n",
              "      <th>group</th>\n",
              "      <th>absences</th>\n",
              "      <th>hire_date</th>\n",
              "      <th>supervisor</th>\n",
              "    </tr>\n",
              "  </thead>\n",
              "  <tbody>\n",
              "    <tr>\n",
              "      <th>0</th>\n",
              "      <td>Bob</td>\n",
              "      <td>Accounting</td>\n",
              "      <td>3</td>\n",
              "      <td>2008</td>\n",
              "      <td>Carly</td>\n",
              "    </tr>\n",
              "    <tr>\n",
              "      <th>1</th>\n",
              "      <td>Jake</td>\n",
              "      <td>Engineering</td>\n",
              "      <td>2</td>\n",
              "      <td>2012</td>\n",
              "      <td>Guido</td>\n",
              "    </tr>\n",
              "    <tr>\n",
              "      <th>2</th>\n",
              "      <td>Lisa</td>\n",
              "      <td>Engineering</td>\n",
              "      <td>5</td>\n",
              "      <td>2004</td>\n",
              "      <td>Guido</td>\n",
              "    </tr>\n",
              "    <tr>\n",
              "      <th>3</th>\n",
              "      <td>Sue</td>\n",
              "      <td>HR</td>\n",
              "      <td>1</td>\n",
              "      <td>2014</td>\n",
              "      <td>Steve</td>\n",
              "    </tr>\n",
              "  </tbody>\n",
              "</table>\n",
              "</div>"
            ],
            "text/plain": [
              "  employee        group  absences  hire_date supervisor\n",
              "0      Bob   Accounting         3       2008      Carly\n",
              "1     Jake  Engineering         2       2012      Guido\n",
              "2     Lisa  Engineering         5       2004      Guido\n",
              "3      Sue           HR         1       2014      Steve"
            ]
          },
          "metadata": {
            "tags": []
          },
          "execution_count": 87
        }
      ]
    },
    {
      "cell_type": "markdown",
      "metadata": {
        "id": "EnAfiTO90Yfs"
      },
      "source": [
        "#### Exercício 3: Usando o dataframe `df4` a seguir, gerar um novo dataframe que contenha o resultado dos três anteriores e `df4`."
      ]
    },
    {
      "cell_type": "code",
      "metadata": {
        "id": "Dg0I3gW_0Yft",
        "outputId": "f246e336-8699-4068-b87a-26aa2002ebb9",
        "colab": {
          "base_uri": "https://localhost:8080/",
          "height": 168
        }
      },
      "source": [
        "df4 = pd.DataFrame({'applier': ['Bob', 'Jake', 'Lisa', 'Sue'], \n",
        "                    'position': ['CTO', 'Senior Developer', 'CFO', 'Head of HR']\n",
        "                   }\n",
        "                  )\n",
        "df4"
      ],
      "execution_count": 88,
      "outputs": [
        {
          "output_type": "execute_result",
          "data": {
            "text/html": [
              "<div>\n",
              "<style scoped>\n",
              "    .dataframe tbody tr th:only-of-type {\n",
              "        vertical-align: middle;\n",
              "    }\n",
              "\n",
              "    .dataframe tbody tr th {\n",
              "        vertical-align: top;\n",
              "    }\n",
              "\n",
              "    .dataframe thead th {\n",
              "        text-align: right;\n",
              "    }\n",
              "</style>\n",
              "<table border=\"1\" class=\"dataframe\">\n",
              "  <thead>\n",
              "    <tr style=\"text-align: right;\">\n",
              "      <th></th>\n",
              "      <th>applier</th>\n",
              "      <th>position</th>\n",
              "    </tr>\n",
              "  </thead>\n",
              "  <tbody>\n",
              "    <tr>\n",
              "      <th>0</th>\n",
              "      <td>Bob</td>\n",
              "      <td>CTO</td>\n",
              "    </tr>\n",
              "    <tr>\n",
              "      <th>1</th>\n",
              "      <td>Jake</td>\n",
              "      <td>Senior Developer</td>\n",
              "    </tr>\n",
              "    <tr>\n",
              "      <th>2</th>\n",
              "      <td>Lisa</td>\n",
              "      <td>CFO</td>\n",
              "    </tr>\n",
              "    <tr>\n",
              "      <th>3</th>\n",
              "      <td>Sue</td>\n",
              "      <td>Head of HR</td>\n",
              "    </tr>\n",
              "  </tbody>\n",
              "</table>\n",
              "</div>"
            ],
            "text/plain": [
              "  applier          position\n",
              "0     Bob               CTO\n",
              "1    Jake  Senior Developer\n",
              "2    Lisa               CFO\n",
              "3     Sue        Head of HR"
            ]
          },
          "metadata": {
            "tags": []
          },
          "execution_count": 88
        }
      ]
    },
    {
      "cell_type": "code",
      "metadata": {
        "id": "s0IGQnFw0Yf0",
        "outputId": "ec557771-20b0-4be1-e13e-28e6be1fc4cf",
        "colab": {
          "base_uri": "https://localhost:8080/",
          "height": 168
        }
      },
      "source": [
        "df_intersecao = df_intersecao.join(df4)\n",
        "df_intersecao"
      ],
      "execution_count": 93,
      "outputs": [
        {
          "output_type": "execute_result",
          "data": {
            "text/html": [
              "<div>\n",
              "<style scoped>\n",
              "    .dataframe tbody tr th:only-of-type {\n",
              "        vertical-align: middle;\n",
              "    }\n",
              "\n",
              "    .dataframe tbody tr th {\n",
              "        vertical-align: top;\n",
              "    }\n",
              "\n",
              "    .dataframe thead th {\n",
              "        text-align: right;\n",
              "    }\n",
              "</style>\n",
              "<table border=\"1\" class=\"dataframe\">\n",
              "  <thead>\n",
              "    <tr style=\"text-align: right;\">\n",
              "      <th></th>\n",
              "      <th>employee</th>\n",
              "      <th>group</th>\n",
              "      <th>absences</th>\n",
              "      <th>hire_date</th>\n",
              "      <th>supervisor</th>\n",
              "      <th>applier</th>\n",
              "      <th>position</th>\n",
              "    </tr>\n",
              "  </thead>\n",
              "  <tbody>\n",
              "    <tr>\n",
              "      <th>0</th>\n",
              "      <td>Bob</td>\n",
              "      <td>Accounting</td>\n",
              "      <td>3</td>\n",
              "      <td>2008</td>\n",
              "      <td>Carly</td>\n",
              "      <td>Bob</td>\n",
              "      <td>CTO</td>\n",
              "    </tr>\n",
              "    <tr>\n",
              "      <th>1</th>\n",
              "      <td>Jake</td>\n",
              "      <td>Engineering</td>\n",
              "      <td>2</td>\n",
              "      <td>2012</td>\n",
              "      <td>Guido</td>\n",
              "      <td>Jake</td>\n",
              "      <td>Senior Developer</td>\n",
              "    </tr>\n",
              "    <tr>\n",
              "      <th>2</th>\n",
              "      <td>Lisa</td>\n",
              "      <td>Engineering</td>\n",
              "      <td>5</td>\n",
              "      <td>2004</td>\n",
              "      <td>Guido</td>\n",
              "      <td>Lisa</td>\n",
              "      <td>CFO</td>\n",
              "    </tr>\n",
              "    <tr>\n",
              "      <th>3</th>\n",
              "      <td>Sue</td>\n",
              "      <td>HR</td>\n",
              "      <td>1</td>\n",
              "      <td>2014</td>\n",
              "      <td>Steve</td>\n",
              "      <td>Sue</td>\n",
              "      <td>Head of HR</td>\n",
              "    </tr>\n",
              "  </tbody>\n",
              "</table>\n",
              "</div>"
            ],
            "text/plain": [
              "  employee        group  absences  ...  supervisor applier          position\n",
              "0      Bob   Accounting         3  ...       Carly     Bob               CTO\n",
              "1     Jake  Engineering         2  ...       Guido    Jake  Senior Developer\n",
              "2     Lisa  Engineering         5  ...       Guido    Lisa               CFO\n",
              "3      Sue           HR         1  ...       Steve     Sue        Head of HR\n",
              "\n",
              "[4 rows x 7 columns]"
            ]
          },
          "metadata": {
            "tags": []
          },
          "execution_count": 93
        }
      ]
    },
    {
      "cell_type": "markdown",
      "metadata": {
        "id": "nJFLnsmD0Yf5"
      },
      "source": [
        "#### Exercício 4: Usar o método [`.drop()`](https://pandas.pydata.org/pandas-docs/stable/reference/api/pandas.DataFrame.drop.html) para eliminar as colunas redundantes."
      ]
    },
    {
      "cell_type": "code",
      "metadata": {
        "id": "xwRyfLBT0Yf6",
        "outputId": "c354b579-d2b0-47af-aa9c-07fe6c043a5b",
        "colab": {
          "base_uri": "https://localhost:8080/",
          "height": 168
        }
      },
      "source": [
        "df_intersecao.drop(columns= 'applier', inplace= True)\n",
        "df_intersecao"
      ],
      "execution_count": 94,
      "outputs": [
        {
          "output_type": "execute_result",
          "data": {
            "text/html": [
              "<div>\n",
              "<style scoped>\n",
              "    .dataframe tbody tr th:only-of-type {\n",
              "        vertical-align: middle;\n",
              "    }\n",
              "\n",
              "    .dataframe tbody tr th {\n",
              "        vertical-align: top;\n",
              "    }\n",
              "\n",
              "    .dataframe thead th {\n",
              "        text-align: right;\n",
              "    }\n",
              "</style>\n",
              "<table border=\"1\" class=\"dataframe\">\n",
              "  <thead>\n",
              "    <tr style=\"text-align: right;\">\n",
              "      <th></th>\n",
              "      <th>employee</th>\n",
              "      <th>group</th>\n",
              "      <th>absences</th>\n",
              "      <th>hire_date</th>\n",
              "      <th>supervisor</th>\n",
              "      <th>position</th>\n",
              "    </tr>\n",
              "  </thead>\n",
              "  <tbody>\n",
              "    <tr>\n",
              "      <th>0</th>\n",
              "      <td>Bob</td>\n",
              "      <td>Accounting</td>\n",
              "      <td>3</td>\n",
              "      <td>2008</td>\n",
              "      <td>Carly</td>\n",
              "      <td>CTO</td>\n",
              "    </tr>\n",
              "    <tr>\n",
              "      <th>1</th>\n",
              "      <td>Jake</td>\n",
              "      <td>Engineering</td>\n",
              "      <td>2</td>\n",
              "      <td>2012</td>\n",
              "      <td>Guido</td>\n",
              "      <td>Senior Developer</td>\n",
              "    </tr>\n",
              "    <tr>\n",
              "      <th>2</th>\n",
              "      <td>Lisa</td>\n",
              "      <td>Engineering</td>\n",
              "      <td>5</td>\n",
              "      <td>2004</td>\n",
              "      <td>Guido</td>\n",
              "      <td>CFO</td>\n",
              "    </tr>\n",
              "    <tr>\n",
              "      <th>3</th>\n",
              "      <td>Sue</td>\n",
              "      <td>HR</td>\n",
              "      <td>1</td>\n",
              "      <td>2014</td>\n",
              "      <td>Steve</td>\n",
              "      <td>Head of HR</td>\n",
              "    </tr>\n",
              "  </tbody>\n",
              "</table>\n",
              "</div>"
            ],
            "text/plain": [
              "  employee        group  absences  hire_date supervisor          position\n",
              "0      Bob   Accounting         3       2008      Carly               CTO\n",
              "1     Jake  Engineering         2       2012      Guido  Senior Developer\n",
              "2     Lisa  Engineering         5       2004      Guido               CFO\n",
              "3      Sue           HR         1       2014      Steve        Head of HR"
            ]
          },
          "metadata": {
            "tags": []
          },
          "execution_count": 94
        }
      ]
    },
    {
      "cell_type": "markdown",
      "metadata": {
        "id": "KbQ9m_8Q0Yf_"
      },
      "source": [
        "#### Exercício 5: Agrupe o dataframe do exercício 4 e calcule a contagem de grupos `group` supervisionado por cada supervisor `supervisor`."
      ]
    },
    {
      "cell_type": "code",
      "metadata": {
        "id": "XVXUas7v0YgA",
        "outputId": "86eae50f-c3a9-4ccf-9bc3-447f6228df96",
        "colab": {
          "base_uri": "https://localhost:8080/"
        }
      },
      "source": [
        "df_intersecao.groupby(by= 'supervisor')['group'].value_counts()"
      ],
      "execution_count": 95,
      "outputs": [
        {
          "output_type": "execute_result",
          "data": {
            "text/plain": [
              "supervisor  group      \n",
              "Carly       Accounting     1\n",
              "Guido       Engineering    2\n",
              "Steve       HR             1\n",
              "Name: group, dtype: int64"
            ]
          },
          "metadata": {
            "tags": []
          },
          "execution_count": 95
        }
      ]
    },
    {
      "cell_type": "markdown",
      "metadata": {
        "id": "fkel8Y8P0YgI"
      },
      "source": [
        "#### Exercício 6: Usando os DataFrames a seguir, realizar um `inner`, `outer`, `left` e `right` `join` entre eles. Antes de executar cada `join`, escrever um comentário com a saída esperada."
      ]
    },
    {
      "cell_type": "code",
      "metadata": {
        "id": "7F0Fkx7n0YgJ"
      },
      "source": [
        "dfA = pd.DataFrame({\"a\":[1],\n",
        "                    \"b\":[2],\n",
        "                    \"c\":[3]\n",
        "                   }\n",
        "                  )\n",
        "dfB = pd.DataFrame({\"a\":[1, 4],\n",
        "                    \"b\":[7, 9],\n",
        "                    \"c\":[8, 9]\n",
        "                    }\n",
        "                  )"
      ],
      "execution_count": 96,
      "outputs": []
    },
    {
      "cell_type": "code",
      "metadata": {
        "id": "DsTJzz6JBWKp",
        "outputId": "ea5fa2ce-909f-4785-d54a-14bf6107c098",
        "colab": {
          "base_uri": "https://localhost:8080/"
        }
      },
      "source": [
        "print(dfA)\n",
        "print('\\n')\n",
        "print(dfB)"
      ],
      "execution_count": 97,
      "outputs": [
        {
          "output_type": "stream",
          "text": [
            "   a  b  c\n",
            "0  1  2  3\n",
            "\n",
            "\n",
            "   a  b  c\n",
            "0  1  7  8\n",
            "1  4  9  9\n"
          ],
          "name": "stdout"
        }
      ]
    },
    {
      "cell_type": "markdown",
      "metadata": {
        "id": "nd-fM0vo9Dxv"
      },
      "source": [
        "####`.merge()`"
      ]
    },
    {
      "cell_type": "markdown",
      "metadata": {
        "id": "Yw2TJP584e9n"
      },
      "source": [
        "O argumento `inner` retorna as chaves dos dataframes passados como argumento. Retorna, nesse caso, as colunas (variáveis) dos dois dataframes com a ordem daquele em que é aplicado a função."
      ]
    },
    {
      "cell_type": "code",
      "metadata": {
        "id": "TRBNHm5Q0YgN",
        "outputId": "5c6710db-b9a1-4194-e7e7-963340a8ae2c",
        "colab": {
          "base_uri": "https://localhost:8080/",
          "height": 48
        }
      },
      "source": [
        "dfA.merge(dfB, how= 'inner')"
      ],
      "execution_count": 98,
      "outputs": [
        {
          "output_type": "execute_result",
          "data": {
            "text/html": [
              "<div>\n",
              "<style scoped>\n",
              "    .dataframe tbody tr th:only-of-type {\n",
              "        vertical-align: middle;\n",
              "    }\n",
              "\n",
              "    .dataframe tbody tr th {\n",
              "        vertical-align: top;\n",
              "    }\n",
              "\n",
              "    .dataframe thead th {\n",
              "        text-align: right;\n",
              "    }\n",
              "</style>\n",
              "<table border=\"1\" class=\"dataframe\">\n",
              "  <thead>\n",
              "    <tr style=\"text-align: right;\">\n",
              "      <th></th>\n",
              "      <th>a</th>\n",
              "      <th>b</th>\n",
              "      <th>c</th>\n",
              "    </tr>\n",
              "  </thead>\n",
              "  <tbody>\n",
              "  </tbody>\n",
              "</table>\n",
              "</div>"
            ],
            "text/plain": [
              "Empty DataFrame\n",
              "Columns: [a, b, c]\n",
              "Index: []"
            ]
          },
          "metadata": {
            "tags": []
          },
          "execution_count": 98
        }
      ]
    },
    {
      "cell_type": "markdown",
      "metadata": {
        "id": "xLEE52vf64Q_"
      },
      "source": [
        "O argumento `outer` retorna um dataframe com as colunas dos dois dataframes e seus respectivos valores (mapeados nos dois dataframes)."
      ]
    },
    {
      "cell_type": "code",
      "metadata": {
        "id": "dFHXGp_k4W8W",
        "outputId": "27cf44fe-741c-4291-e1e2-c0755874e079",
        "colab": {
          "base_uri": "https://localhost:8080/",
          "height": 138
        }
      },
      "source": [
        "dfA.merge(dfB, how= 'outer')"
      ],
      "execution_count": 99,
      "outputs": [
        {
          "output_type": "execute_result",
          "data": {
            "text/html": [
              "<div>\n",
              "<style scoped>\n",
              "    .dataframe tbody tr th:only-of-type {\n",
              "        vertical-align: middle;\n",
              "    }\n",
              "\n",
              "    .dataframe tbody tr th {\n",
              "        vertical-align: top;\n",
              "    }\n",
              "\n",
              "    .dataframe thead th {\n",
              "        text-align: right;\n",
              "    }\n",
              "</style>\n",
              "<table border=\"1\" class=\"dataframe\">\n",
              "  <thead>\n",
              "    <tr style=\"text-align: right;\">\n",
              "      <th></th>\n",
              "      <th>a</th>\n",
              "      <th>b</th>\n",
              "      <th>c</th>\n",
              "    </tr>\n",
              "  </thead>\n",
              "  <tbody>\n",
              "    <tr>\n",
              "      <th>0</th>\n",
              "      <td>1</td>\n",
              "      <td>2</td>\n",
              "      <td>3</td>\n",
              "    </tr>\n",
              "    <tr>\n",
              "      <th>1</th>\n",
              "      <td>1</td>\n",
              "      <td>7</td>\n",
              "      <td>8</td>\n",
              "    </tr>\n",
              "    <tr>\n",
              "      <th>2</th>\n",
              "      <td>4</td>\n",
              "      <td>9</td>\n",
              "      <td>9</td>\n",
              "    </tr>\n",
              "  </tbody>\n",
              "</table>\n",
              "</div>"
            ],
            "text/plain": [
              "   a  b  c\n",
              "0  1  2  3\n",
              "1  1  7  8\n",
              "2  4  9  9"
            ]
          },
          "metadata": {
            "tags": []
          },
          "execution_count": 99
        }
      ]
    },
    {
      "cell_type": "markdown",
      "metadata": {
        "id": "ZQF7vg577Udu"
      },
      "source": [
        "O argumento `left` retorna dataframe somente com os valores do dataframe em que a função é aplicada.Não considera os valores do dataframe passado como argumento na chamada à função. Nesse caso, retorna somente colunas e valores de dfA. "
      ]
    },
    {
      "cell_type": "code",
      "metadata": {
        "id": "3cdsmTMv40we",
        "outputId": "16e43a87-fbcd-4faa-a7e2-0bf169668b21",
        "colab": {
          "base_uri": "https://localhost:8080/",
          "height": 78
        }
      },
      "source": [
        "dfA.merge(dfB, how= 'left')"
      ],
      "execution_count": 100,
      "outputs": [
        {
          "output_type": "execute_result",
          "data": {
            "text/html": [
              "<div>\n",
              "<style scoped>\n",
              "    .dataframe tbody tr th:only-of-type {\n",
              "        vertical-align: middle;\n",
              "    }\n",
              "\n",
              "    .dataframe tbody tr th {\n",
              "        vertical-align: top;\n",
              "    }\n",
              "\n",
              "    .dataframe thead th {\n",
              "        text-align: right;\n",
              "    }\n",
              "</style>\n",
              "<table border=\"1\" class=\"dataframe\">\n",
              "  <thead>\n",
              "    <tr style=\"text-align: right;\">\n",
              "      <th></th>\n",
              "      <th>a</th>\n",
              "      <th>b</th>\n",
              "      <th>c</th>\n",
              "    </tr>\n",
              "  </thead>\n",
              "  <tbody>\n",
              "    <tr>\n",
              "      <th>0</th>\n",
              "      <td>1</td>\n",
              "      <td>2</td>\n",
              "      <td>3</td>\n",
              "    </tr>\n",
              "  </tbody>\n",
              "</table>\n",
              "</div>"
            ],
            "text/plain": [
              "   a  b  c\n",
              "0  1  2  3"
            ]
          },
          "metadata": {
            "tags": []
          },
          "execution_count": 100
        }
      ]
    },
    {
      "cell_type": "markdown",
      "metadata": {
        "id": "RGwQCmuA7pg_"
      },
      "source": [
        "O argumento `right` é o inverso do `left`. Retorna somente os valores do dataframe à direita, isto é, o dataframe que passamos como argumento dentro dos parênteses na chamada à função."
      ]
    },
    {
      "cell_type": "code",
      "metadata": {
        "id": "suKcE2tD7GiC",
        "outputId": "f647f793-be8c-44fa-a257-d25d9c02a1c1",
        "colab": {
          "base_uri": "https://localhost:8080/",
          "height": 108
        }
      },
      "source": [
        "dfA.merge(dfB, how= 'right')"
      ],
      "execution_count": 101,
      "outputs": [
        {
          "output_type": "execute_result",
          "data": {
            "text/html": [
              "<div>\n",
              "<style scoped>\n",
              "    .dataframe tbody tr th:only-of-type {\n",
              "        vertical-align: middle;\n",
              "    }\n",
              "\n",
              "    .dataframe tbody tr th {\n",
              "        vertical-align: top;\n",
              "    }\n",
              "\n",
              "    .dataframe thead th {\n",
              "        text-align: right;\n",
              "    }\n",
              "</style>\n",
              "<table border=\"1\" class=\"dataframe\">\n",
              "  <thead>\n",
              "    <tr style=\"text-align: right;\">\n",
              "      <th></th>\n",
              "      <th>a</th>\n",
              "      <th>b</th>\n",
              "      <th>c</th>\n",
              "    </tr>\n",
              "  </thead>\n",
              "  <tbody>\n",
              "    <tr>\n",
              "      <th>0</th>\n",
              "      <td>1</td>\n",
              "      <td>7</td>\n",
              "      <td>8</td>\n",
              "    </tr>\n",
              "    <tr>\n",
              "      <th>1</th>\n",
              "      <td>4</td>\n",
              "      <td>9</td>\n",
              "      <td>9</td>\n",
              "    </tr>\n",
              "  </tbody>\n",
              "</table>\n",
              "</div>"
            ],
            "text/plain": [
              "   a  b  c\n",
              "0  1  7  8\n",
              "1  4  9  9"
            ]
          },
          "metadata": {
            "tags": []
          },
          "execution_count": 101
        }
      ]
    },
    {
      "cell_type": "markdown",
      "metadata": {
        "id": "WdD2l1Dr9IgT"
      },
      "source": [
        "####`.join()`"
      ]
    },
    {
      "cell_type": "markdown",
      "metadata": {
        "id": "6WRd9hQS-hn7"
      },
      "source": [
        "O argumento `inner` junta os dois dataframes lado a lado com os valores de um mesmo índice. Como nesse caso não temos índice 1 no dfA, ele retorna somente os valores do índice 1 de dfA e dfB justapostos lado a lado."
      ]
    },
    {
      "cell_type": "code",
      "metadata": {
        "id": "of_CXG8u7169",
        "outputId": "af11a3b5-69ee-47b8-bccd-5f5d75b6a15d",
        "colab": {
          "base_uri": "https://localhost:8080/",
          "height": 78
        }
      },
      "source": [
        "dfA.join(dfB, how= 'inner', lsuffix='_dfA', rsuffix='_dfB')"
      ],
      "execution_count": 102,
      "outputs": [
        {
          "output_type": "execute_result",
          "data": {
            "text/html": [
              "<div>\n",
              "<style scoped>\n",
              "    .dataframe tbody tr th:only-of-type {\n",
              "        vertical-align: middle;\n",
              "    }\n",
              "\n",
              "    .dataframe tbody tr th {\n",
              "        vertical-align: top;\n",
              "    }\n",
              "\n",
              "    .dataframe thead th {\n",
              "        text-align: right;\n",
              "    }\n",
              "</style>\n",
              "<table border=\"1\" class=\"dataframe\">\n",
              "  <thead>\n",
              "    <tr style=\"text-align: right;\">\n",
              "      <th></th>\n",
              "      <th>a_dfA</th>\n",
              "      <th>b_dfA</th>\n",
              "      <th>c_dfA</th>\n",
              "      <th>a_dfB</th>\n",
              "      <th>b_dfB</th>\n",
              "      <th>c_dfB</th>\n",
              "    </tr>\n",
              "  </thead>\n",
              "  <tbody>\n",
              "    <tr>\n",
              "      <th>0</th>\n",
              "      <td>1</td>\n",
              "      <td>2</td>\n",
              "      <td>3</td>\n",
              "      <td>1</td>\n",
              "      <td>7</td>\n",
              "      <td>8</td>\n",
              "    </tr>\n",
              "  </tbody>\n",
              "</table>\n",
              "</div>"
            ],
            "text/plain": [
              "   a_dfA  b_dfA  c_dfA  a_dfB  b_dfB  c_dfB\n",
              "0      1      2      3      1      7      8"
            ]
          },
          "metadata": {
            "tags": []
          },
          "execution_count": 102
        }
      ]
    },
    {
      "cell_type": "markdown",
      "metadata": {
        "id": "G8tkDf-v_FXA"
      },
      "source": [
        "O argumento `outer`, por sua vez, retorna uma dataframe completo sem cortar índices. Quando não encontra valores em um índice de algum dataframe em que a função está sendo aplicada, ele os preenche com valores NaN. "
      ]
    },
    {
      "cell_type": "code",
      "metadata": {
        "id": "vXZJsd3W9T4T",
        "outputId": "04ca01b4-0ac2-410e-b728-5dc1cf95936a",
        "colab": {
          "base_uri": "https://localhost:8080/",
          "height": 108
        }
      },
      "source": [
        "dfA.join(dfB, how= 'outer', lsuffix='_dfA', rsuffix='_dfB')"
      ],
      "execution_count": 103,
      "outputs": [
        {
          "output_type": "execute_result",
          "data": {
            "text/html": [
              "<div>\n",
              "<style scoped>\n",
              "    .dataframe tbody tr th:only-of-type {\n",
              "        vertical-align: middle;\n",
              "    }\n",
              "\n",
              "    .dataframe tbody tr th {\n",
              "        vertical-align: top;\n",
              "    }\n",
              "\n",
              "    .dataframe thead th {\n",
              "        text-align: right;\n",
              "    }\n",
              "</style>\n",
              "<table border=\"1\" class=\"dataframe\">\n",
              "  <thead>\n",
              "    <tr style=\"text-align: right;\">\n",
              "      <th></th>\n",
              "      <th>a_dfA</th>\n",
              "      <th>b_dfA</th>\n",
              "      <th>c_dfA</th>\n",
              "      <th>a_dfB</th>\n",
              "      <th>b_dfB</th>\n",
              "      <th>c_dfB</th>\n",
              "    </tr>\n",
              "  </thead>\n",
              "  <tbody>\n",
              "    <tr>\n",
              "      <th>0</th>\n",
              "      <td>1.0</td>\n",
              "      <td>2.0</td>\n",
              "      <td>3.0</td>\n",
              "      <td>1</td>\n",
              "      <td>7</td>\n",
              "      <td>8</td>\n",
              "    </tr>\n",
              "    <tr>\n",
              "      <th>1</th>\n",
              "      <td>NaN</td>\n",
              "      <td>NaN</td>\n",
              "      <td>NaN</td>\n",
              "      <td>4</td>\n",
              "      <td>9</td>\n",
              "      <td>9</td>\n",
              "    </tr>\n",
              "  </tbody>\n",
              "</table>\n",
              "</div>"
            ],
            "text/plain": [
              "   a_dfA  b_dfA  c_dfA  a_dfB  b_dfB  c_dfB\n",
              "0    1.0    2.0    3.0      1      7      8\n",
              "1    NaN    NaN    NaN      4      9      9"
            ]
          },
          "metadata": {
            "tags": []
          },
          "execution_count": 103
        }
      ]
    },
    {
      "cell_type": "markdown",
      "metadata": {
        "id": "rC3L9Cqi_lCK"
      },
      "source": [
        "O argumento `left` utiliza somente os valores dos índices do dataframe da esquerda, isto é, aquele em que a função é aplicada. Nesse sentido, ele mantém somente os valores dos índices que estão neste dataframe e no segundo ao mesmo tempo."
      ]
    },
    {
      "cell_type": "code",
      "metadata": {
        "id": "U_hEYyOa-_A3",
        "outputId": "4f3d94a5-ae8c-44f2-e23b-5504c2353ec8",
        "colab": {
          "base_uri": "https://localhost:8080/",
          "height": 78
        }
      },
      "source": [
        "dfA.join(dfB, how= 'left', lsuffix='_dfA', rsuffix='_dfB')"
      ],
      "execution_count": 104,
      "outputs": [
        {
          "output_type": "execute_result",
          "data": {
            "text/html": [
              "<div>\n",
              "<style scoped>\n",
              "    .dataframe tbody tr th:only-of-type {\n",
              "        vertical-align: middle;\n",
              "    }\n",
              "\n",
              "    .dataframe tbody tr th {\n",
              "        vertical-align: top;\n",
              "    }\n",
              "\n",
              "    .dataframe thead th {\n",
              "        text-align: right;\n",
              "    }\n",
              "</style>\n",
              "<table border=\"1\" class=\"dataframe\">\n",
              "  <thead>\n",
              "    <tr style=\"text-align: right;\">\n",
              "      <th></th>\n",
              "      <th>a_dfA</th>\n",
              "      <th>b_dfA</th>\n",
              "      <th>c_dfA</th>\n",
              "      <th>a_dfB</th>\n",
              "      <th>b_dfB</th>\n",
              "      <th>c_dfB</th>\n",
              "    </tr>\n",
              "  </thead>\n",
              "  <tbody>\n",
              "    <tr>\n",
              "      <th>0</th>\n",
              "      <td>1</td>\n",
              "      <td>2</td>\n",
              "      <td>3</td>\n",
              "      <td>1</td>\n",
              "      <td>7</td>\n",
              "      <td>8</td>\n",
              "    </tr>\n",
              "  </tbody>\n",
              "</table>\n",
              "</div>"
            ],
            "text/plain": [
              "   a_dfA  b_dfA  c_dfA  a_dfB  b_dfB  c_dfB\n",
              "0      1      2      3      1      7      8"
            ]
          },
          "metadata": {
            "tags": []
          },
          "execution_count": 104
        }
      ]
    },
    {
      "cell_type": "markdown",
      "metadata": {
        "id": "rTzcI9Fk_9wF"
      },
      "source": [
        "O argumento `right`, por sua vez, utiliza somente os índices do dataframe da direita, isto é, aquele que está dentro dos parênteses na função. Nesse sentido, ele mantém somente os valores dos índices que estão neste dataframe e no primeiro ao mesmo tempo."
      ]
    },
    {
      "cell_type": "code",
      "metadata": {
        "id": "jALX3POi_bDz",
        "outputId": "a2775045-7ef0-4ca6-d597-f5b9761c7843",
        "colab": {
          "base_uri": "https://localhost:8080/",
          "height": 78
        }
      },
      "source": [
        "dfA.join(dfB, how= 'left', lsuffix='_dfA', rsuffix='_dfB')"
      ],
      "execution_count": 105,
      "outputs": [
        {
          "output_type": "execute_result",
          "data": {
            "text/html": [
              "<div>\n",
              "<style scoped>\n",
              "    .dataframe tbody tr th:only-of-type {\n",
              "        vertical-align: middle;\n",
              "    }\n",
              "\n",
              "    .dataframe tbody tr th {\n",
              "        vertical-align: top;\n",
              "    }\n",
              "\n",
              "    .dataframe thead th {\n",
              "        text-align: right;\n",
              "    }\n",
              "</style>\n",
              "<table border=\"1\" class=\"dataframe\">\n",
              "  <thead>\n",
              "    <tr style=\"text-align: right;\">\n",
              "      <th></th>\n",
              "      <th>a_dfA</th>\n",
              "      <th>b_dfA</th>\n",
              "      <th>c_dfA</th>\n",
              "      <th>a_dfB</th>\n",
              "      <th>b_dfB</th>\n",
              "      <th>c_dfB</th>\n",
              "    </tr>\n",
              "  </thead>\n",
              "  <tbody>\n",
              "    <tr>\n",
              "      <th>0</th>\n",
              "      <td>1</td>\n",
              "      <td>2</td>\n",
              "      <td>3</td>\n",
              "      <td>1</td>\n",
              "      <td>7</td>\n",
              "      <td>8</td>\n",
              "    </tr>\n",
              "  </tbody>\n",
              "</table>\n",
              "</div>"
            ],
            "text/plain": [
              "   a_dfA  b_dfA  c_dfA  a_dfB  b_dfB  c_dfB\n",
              "0      1      2      3      1      7      8"
            ]
          },
          "metadata": {
            "tags": []
          },
          "execution_count": 105
        }
      ]
    }
  ]
}