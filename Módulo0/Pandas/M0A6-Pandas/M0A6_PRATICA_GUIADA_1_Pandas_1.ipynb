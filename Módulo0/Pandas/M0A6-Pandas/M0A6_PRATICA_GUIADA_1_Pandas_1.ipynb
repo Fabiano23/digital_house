{
  "nbformat": 4,
  "nbformat_minor": 0,
  "metadata": {
    "anaconda-cloud": {},
    "kernelspec": {
      "display_name": "Python 3",
      "language": "python",
      "name": "python3"
    },
    "language_info": {
      "codemirror_mode": {
        "name": "ipython",
        "version": 3
      },
      "file_extension": ".py",
      "mimetype": "text/x-python",
      "name": "python",
      "nbconvert_exporter": "python",
      "pygments_lexer": "ipython3",
      "version": "3.7.6"
    },
    "toc-autonumbering": true,
    "toc-showmarkdowntxt": false,
    "toc-showtags": false,
    "colab": {
      "name": "M0A6-PRATICA_GUIADA_1_Pandas_1.ipynb",
      "provenance": [],
      "collapsed_sections": [
        "wYgp6wDm6m_B",
        "Chwr6mOJ6m_D",
        "2UwDDayr6m_s",
        "4ChbTRCV6nAX",
        "J1sBnt4n6nBj",
        "OCveanYT6nDM",
        "gAzBDpXD6nDv",
        "0fAzsgRq6nEC",
        "fLvx6yNz6nEn"
      ]
    }
  },
  "cells": [
    {
      "cell_type": "markdown",
      "metadata": {
        "id": "wYgp6wDm6m_B"
      },
      "source": [
        "# Objetos de Pandas"
      ]
    },
    {
      "cell_type": "markdown",
      "metadata": {
        "id": "zu34b_0M6m_C"
      },
      "source": [
        "## Introdução\n",
        "\n",
        "* Em [Pandas](https://pandas.pydata.org/pandas-docs/stable/user_guide/10min.html), as linhas e colunas são identificadas com tags, além de índices inteiros simples.\n",
        "* É importante entender um pouco das estruturas de [Pandas](https://pandas.pydata.org/).\n",
        "* Três estruturas importantes:\n",
        "    + [`Series`](https://pandas.pydata.org/pandas-docs/stable/reference/api/pandas.Series.html)\n",
        "    + [`DataFrame`](https://pandas.pydata.org/pandas-docs/stable/reference/api/pandas.DataFrame.html)\n",
        "    + [`Index`](https://pandas.pydata.org/pandas-docs/stable/reference/api/pandas.Index.html)"
      ]
    },
    {
      "cell_type": "markdown",
      "metadata": {
        "id": "Chwr6mOJ6m_D"
      },
      "source": [
        "## Importando os pacotes necessários."
      ]
    },
    {
      "cell_type": "code",
      "metadata": {
        "id": "Vm6_FC9H6m_E"
      },
      "source": [
        "import numpy as np\n",
        "import pandas as pd"
      ],
      "execution_count": 1,
      "outputs": []
    },
    {
      "cell_type": "markdown",
      "metadata": {
        "id": "ReUadjA26m_M"
      },
      "source": [
        "# Objetos `Series`\n",
        "\n",
        "* Podem ser considerados como um arranjo indexado de uma única dimensão. \n",
        "* Podem ser criados a partir de uma lista"
      ]
    },
    {
      "cell_type": "markdown",
      "metadata": {
        "id": "cCgDvPuR6m_N"
      },
      "source": [
        "## Principais Atributos"
      ]
    },
    {
      "cell_type": "code",
      "metadata": {
        "id": "x4bmZEwi6m_O",
        "outputId": "1ef92fa4-2812-4d93-ff02-88c88b90e569",
        "colab": {
          "base_uri": "https://localhost:8080/"
        }
      },
      "source": [
        "lista = [0.25, 0.5, 0.75, 1.0]\n",
        "data = pd.Series(lista)\n",
        "\n",
        "print(data)"
      ],
      "execution_count": 2,
      "outputs": [
        {
          "output_type": "stream",
          "text": [
            "0    0.25\n",
            "1    0.50\n",
            "2    0.75\n",
            "3    1.00\n",
            "dtype: float64\n"
          ],
          "name": "stdout"
        }
      ]
    },
    {
      "cell_type": "markdown",
      "metadata": {
        "id": "etYDCAZ_6m_U"
      },
      "source": [
        "* Uma [`Series`](https://towardsdatascience.com/pandas-series-a-lightweight-intro-b7963a0d62a2) encapsula uma sequência de valores e uma de índices.\n",
        "* Podemos acessá-los com os atributos [`values`](https://pandas.pydata.org/pandas-docs/stable/reference/api/pandas.Series.values.html) e [`index`](https://pandas.pydata.org/pandas-docs/stable/reference/api/pandas.Series.index.html)."
      ]
    },
    {
      "cell_type": "code",
      "metadata": {
        "id": "t6K6ojzm6m_V",
        "outputId": "9b03f82c-81a9-4c05-a8ed-87c50825c206",
        "colab": {
          "base_uri": "https://localhost:8080/"
        }
      },
      "source": [
        "data.values"
      ],
      "execution_count": 3,
      "outputs": [
        {
          "output_type": "execute_result",
          "data": {
            "text/plain": [
              "array([0.25, 0.5 , 0.75, 1.  ])"
            ]
          },
          "metadata": {
            "tags": []
          },
          "execution_count": 3
        }
      ]
    },
    {
      "cell_type": "markdown",
      "metadata": {
        "id": "Go69Psfa6m_a"
      },
      "source": [
        "* Um [`index`](https://realpython.com/pandas-dataframe/) é um objeto semelhante a um arranjo."
      ]
    },
    {
      "cell_type": "code",
      "metadata": {
        "id": "8E7vkRw76m_b",
        "outputId": "d9259b0e-c0dd-4aff-dcec-66f8b3af145f",
        "colab": {
          "base_uri": "https://localhost:8080/"
        }
      },
      "source": [
        "data.index"
      ],
      "execution_count": 4,
      "outputs": [
        {
          "output_type": "execute_result",
          "data": {
            "text/plain": [
              "RangeIndex(start=0, stop=4, step=1)"
            ]
          },
          "metadata": {
            "tags": []
          },
          "execution_count": 4
        }
      ]
    },
    {
      "cell_type": "markdown",
      "metadata": {
        "id": "7vmqW2XC6m_g"
      },
      "source": [
        "* Podemos acessar uma [`Series`](https://medium.com/swlh/the-mastery-of-pandas-i-50156db42125) através do índice associado de maneira similar aos arranjos de Numpy: com `[]` ."
      ]
    },
    {
      "cell_type": "code",
      "metadata": {
        "id": "ZaPH2mmM6m_h",
        "outputId": "07c82d99-4446-4bb3-fba8-e61424f1fb79",
        "colab": {
          "base_uri": "https://localhost:8080/"
        }
      },
      "source": [
        "data[1]"
      ],
      "execution_count": 5,
      "outputs": [
        {
          "output_type": "execute_result",
          "data": {
            "text/plain": [
              "0.5"
            ]
          },
          "metadata": {
            "tags": []
          },
          "execution_count": 5
        }
      ]
    },
    {
      "cell_type": "code",
      "metadata": {
        "id": "OOpOJif-6m_m",
        "outputId": "e53e098f-f848-48a0-8047-502458030d06",
        "colab": {
          "base_uri": "https://localhost:8080/"
        }
      },
      "source": [
        "data[1:4]"
      ],
      "execution_count": 6,
      "outputs": [
        {
          "output_type": "execute_result",
          "data": {
            "text/plain": [
              "1    0.50\n",
              "2    0.75\n",
              "3    1.00\n",
              "dtype: float64"
            ]
          },
          "metadata": {
            "tags": []
          },
          "execution_count": 6
        }
      ]
    },
    {
      "cell_type": "markdown",
      "metadata": {
        "id": "2UwDDayr6m_s"
      },
      "source": [
        "## `Series` como uma generalização de um arranjo de `NumPy`"
      ]
    },
    {
      "cell_type": "markdown",
      "metadata": {
        "id": "T3g7P7EC6m_t"
      },
      "source": [
        "#### Vamos aplicar a função [`.Series()`](https://pandas.pydata.org/pandas-docs/stable/reference/api/pandas.Series.html), que retorna um [`Ndarray`](https://numpy.org/doc/stable/reference/generated/numpy.ndarray.html) unidimensional com rótulos de eixo.\n",
        "\n",
        "* A diferença essencial em relação a um [arranjo de Numpy](https://www.learnpython.org/en/Numpy_Arrays) é que enquanto o arranjo tem um índice inteiro implicitamente definido, uma `Series` de [Pandas](https://medium.com/data-hackers/uma-introdu%C3%A7%C3%A3o-simples-ao-pandas-1e15eea37fa1) possui um índice associado aos valores que é explicitamente definido.\n",
        "* Este [índice](https://numpy.org/neps/nep-0021-advanced-indexing.html) explícito fornece capacidades adicionais a uma `Series`.\n",
        "* O índice explícito não precisa ser um número inteiro e nem todos os seus valores devem, necessariamente, ser únicos.\n",
        "* Podem ser `strings`.\n",
        "\n"
      ]
    },
    {
      "cell_type": "code",
      "metadata": {
        "id": "6XgwoFsU6m_u",
        "outputId": "af1a6db8-9693-4d69-ccfd-47b7bebf857d",
        "colab": {
          "base_uri": "https://localhost:8080/"
        }
      },
      "source": [
        "data_0 = pd.Series([0.25, 0.5, 0.75, 1.0])\n",
        "data_0"
      ],
      "execution_count": 8,
      "outputs": [
        {
          "output_type": "execute_result",
          "data": {
            "text/plain": [
              "0    0.25\n",
              "1    0.50\n",
              "2    0.75\n",
              "3    1.00\n",
              "dtype: float64"
            ]
          },
          "metadata": {
            "tags": []
          },
          "execution_count": 8
        }
      ]
    },
    {
      "cell_type": "markdown",
      "metadata": {
        "id": "mlBiXMJF6m_z"
      },
      "source": [
        "#### Podemos definir um rótulo específico para a série com o auxílio do parâmetro `index`."
      ]
    },
    {
      "cell_type": "code",
      "metadata": {
        "id": "sEKxrBAV6m_0",
        "outputId": "ac78ab31-3a89-49a0-f5a2-06dafbbb1e9c",
        "colab": {
          "base_uri": "https://localhost:8080/"
        }
      },
      "source": [
        "data_1 = pd.Series([0.25, 0.5, 0.75, 1.0], \n",
        "                   index = ['a', 'b', 'c', 'd']\n",
        "                  )\n",
        "data_1"
      ],
      "execution_count": 9,
      "outputs": [
        {
          "output_type": "execute_result",
          "data": {
            "text/plain": [
              "a    0.25\n",
              "b    0.50\n",
              "c    0.75\n",
              "d    1.00\n",
              "dtype: float64"
            ]
          },
          "metadata": {
            "tags": []
          },
          "execution_count": 9
        }
      ]
    },
    {
      "cell_type": "code",
      "metadata": {
        "id": "munDvGJt6m_7",
        "outputId": "83dea618-feca-4ddb-fea0-52392a82eab3",
        "colab": {
          "base_uri": "https://localhost:8080/"
        }
      },
      "source": [
        "print(data_1[0])\n",
        "print(data_1['a'])"
      ],
      "execution_count": 10,
      "outputs": [
        {
          "output_type": "stream",
          "text": [
            "0.25\n",
            "0.25\n"
          ],
          "name": "stdout"
        }
      ]
    },
    {
      "cell_type": "markdown",
      "metadata": {
        "id": "2FeOdfJ46m__"
      },
      "source": [
        "#### Como não definimos índices específicos em `data_0`, não podemos procurar por `data_0['a']`."
      ]
    },
    {
      "cell_type": "code",
      "metadata": {
        "id": "c2fxZ9uK6nAA",
        "outputId": "6e8abee4-d1a6-4d46-e34b-d3e43264217e",
        "colab": {
          "base_uri": "https://localhost:8080/",
          "height": 340
        }
      },
      "source": [
        "print(data_0[0])\n",
        "print(data_0['a'])"
      ],
      "execution_count": 11,
      "outputs": [
        {
          "output_type": "stream",
          "text": [
            "0.25\n"
          ],
          "name": "stdout"
        },
        {
          "output_type": "error",
          "ename": "KeyError",
          "evalue": "ignored",
          "traceback": [
            "\u001b[0;31m---------------------------------------------------------------------------\u001b[0m",
            "\u001b[0;31mKeyError\u001b[0m                                  Traceback (most recent call last)",
            "\u001b[0;32m<ipython-input-11-3cb24016a424>\u001b[0m in \u001b[0;36m<module>\u001b[0;34m()\u001b[0m\n\u001b[1;32m      1\u001b[0m \u001b[0mprint\u001b[0m\u001b[0;34m(\u001b[0m\u001b[0mdata_0\u001b[0m\u001b[0;34m[\u001b[0m\u001b[0;36m0\u001b[0m\u001b[0;34m]\u001b[0m\u001b[0;34m)\u001b[0m\u001b[0;34m\u001b[0m\u001b[0;34m\u001b[0m\u001b[0m\n\u001b[0;32m----> 2\u001b[0;31m \u001b[0mprint\u001b[0m\u001b[0;34m(\u001b[0m\u001b[0mdata_0\u001b[0m\u001b[0;34m[\u001b[0m\u001b[0;34m'a'\u001b[0m\u001b[0;34m]\u001b[0m\u001b[0;34m)\u001b[0m\u001b[0;34m\u001b[0m\u001b[0;34m\u001b[0m\u001b[0m\n\u001b[0m",
            "\u001b[0;32m/usr/local/lib/python3.6/dist-packages/pandas/core/series.py\u001b[0m in \u001b[0;36m__getitem__\u001b[0;34m(self, key)\u001b[0m\n\u001b[1;32m    880\u001b[0m \u001b[0;34m\u001b[0m\u001b[0m\n\u001b[1;32m    881\u001b[0m         \u001b[0;32melif\u001b[0m \u001b[0mkey_is_scalar\u001b[0m\u001b[0;34m:\u001b[0m\u001b[0;34m\u001b[0m\u001b[0;34m\u001b[0m\u001b[0m\n\u001b[0;32m--> 882\u001b[0;31m             \u001b[0;32mreturn\u001b[0m \u001b[0mself\u001b[0m\u001b[0;34m.\u001b[0m\u001b[0m_get_value\u001b[0m\u001b[0;34m(\u001b[0m\u001b[0mkey\u001b[0m\u001b[0;34m)\u001b[0m\u001b[0;34m\u001b[0m\u001b[0;34m\u001b[0m\u001b[0m\n\u001b[0m\u001b[1;32m    883\u001b[0m \u001b[0;34m\u001b[0m\u001b[0m\n\u001b[1;32m    884\u001b[0m         \u001b[0;32mif\u001b[0m \u001b[0mis_hashable\u001b[0m\u001b[0;34m(\u001b[0m\u001b[0mkey\u001b[0m\u001b[0;34m)\u001b[0m\u001b[0;34m:\u001b[0m\u001b[0;34m\u001b[0m\u001b[0;34m\u001b[0m\u001b[0m\n",
            "\u001b[0;32m/usr/local/lib/python3.6/dist-packages/pandas/core/series.py\u001b[0m in \u001b[0;36m_get_value\u001b[0;34m(self, label, takeable)\u001b[0m\n\u001b[1;32m    987\u001b[0m \u001b[0;34m\u001b[0m\u001b[0m\n\u001b[1;32m    988\u001b[0m         \u001b[0;31m# Similar to Index.get_value, but we do not fall back to positional\u001b[0m\u001b[0;34m\u001b[0m\u001b[0;34m\u001b[0m\u001b[0;34m\u001b[0m\u001b[0m\n\u001b[0;32m--> 989\u001b[0;31m         \u001b[0mloc\u001b[0m \u001b[0;34m=\u001b[0m \u001b[0mself\u001b[0m\u001b[0;34m.\u001b[0m\u001b[0mindex\u001b[0m\u001b[0;34m.\u001b[0m\u001b[0mget_loc\u001b[0m\u001b[0;34m(\u001b[0m\u001b[0mlabel\u001b[0m\u001b[0;34m)\u001b[0m\u001b[0;34m\u001b[0m\u001b[0;34m\u001b[0m\u001b[0m\n\u001b[0m\u001b[1;32m    990\u001b[0m         \u001b[0;32mreturn\u001b[0m \u001b[0mself\u001b[0m\u001b[0;34m.\u001b[0m\u001b[0mindex\u001b[0m\u001b[0;34m.\u001b[0m\u001b[0m_get_values_for_loc\u001b[0m\u001b[0;34m(\u001b[0m\u001b[0mself\u001b[0m\u001b[0;34m,\u001b[0m \u001b[0mloc\u001b[0m\u001b[0;34m,\u001b[0m \u001b[0mlabel\u001b[0m\u001b[0;34m)\u001b[0m\u001b[0;34m\u001b[0m\u001b[0;34m\u001b[0m\u001b[0m\n\u001b[1;32m    991\u001b[0m \u001b[0;34m\u001b[0m\u001b[0m\n",
            "\u001b[0;32m/usr/local/lib/python3.6/dist-packages/pandas/core/indexes/range.py\u001b[0m in \u001b[0;36mget_loc\u001b[0;34m(self, key, method, tolerance)\u001b[0m\n\u001b[1;32m    356\u001b[0m                 \u001b[0;32mexcept\u001b[0m \u001b[0mValueError\u001b[0m \u001b[0;32mas\u001b[0m \u001b[0merr\u001b[0m\u001b[0;34m:\u001b[0m\u001b[0;34m\u001b[0m\u001b[0;34m\u001b[0m\u001b[0m\n\u001b[1;32m    357\u001b[0m                     \u001b[0;32mraise\u001b[0m \u001b[0mKeyError\u001b[0m\u001b[0;34m(\u001b[0m\u001b[0mkey\u001b[0m\u001b[0;34m)\u001b[0m \u001b[0;32mfrom\u001b[0m \u001b[0merr\u001b[0m\u001b[0;34m\u001b[0m\u001b[0;34m\u001b[0m\u001b[0m\n\u001b[0;32m--> 358\u001b[0;31m             \u001b[0;32mraise\u001b[0m \u001b[0mKeyError\u001b[0m\u001b[0;34m(\u001b[0m\u001b[0mkey\u001b[0m\u001b[0;34m)\u001b[0m\u001b[0;34m\u001b[0m\u001b[0;34m\u001b[0m\u001b[0m\n\u001b[0m\u001b[1;32m    359\u001b[0m         \u001b[0;32mreturn\u001b[0m \u001b[0msuper\u001b[0m\u001b[0;34m(\u001b[0m\u001b[0;34m)\u001b[0m\u001b[0;34m.\u001b[0m\u001b[0mget_loc\u001b[0m\u001b[0;34m(\u001b[0m\u001b[0mkey\u001b[0m\u001b[0;34m,\u001b[0m \u001b[0mmethod\u001b[0m\u001b[0;34m=\u001b[0m\u001b[0mmethod\u001b[0m\u001b[0;34m,\u001b[0m \u001b[0mtolerance\u001b[0m\u001b[0;34m=\u001b[0m\u001b[0mtolerance\u001b[0m\u001b[0;34m)\u001b[0m\u001b[0;34m\u001b[0m\u001b[0;34m\u001b[0m\u001b[0m\n\u001b[1;32m    360\u001b[0m \u001b[0;34m\u001b[0m\u001b[0m\n",
            "\u001b[0;31mKeyError\u001b[0m: 'a'"
          ]
        }
      ]
    },
    {
      "cell_type": "markdown",
      "metadata": {
        "id": "oU3KAh1k6nAF"
      },
      "source": [
        "* Ou pode ser uma sequência não contígua de `int`s."
      ]
    },
    {
      "cell_type": "code",
      "metadata": {
        "id": "Iu0tQI_A6nAG",
        "outputId": "1133decf-58d5-4ebe-8427-2267ee7828df",
        "colab": {
          "base_uri": "https://localhost:8080/"
        }
      },
      "source": [
        "data = pd.Series([0.25, 0.5, 0.75, 1.0], \n",
        "                 index = [2, 5, 3, 1]\n",
        "                )\n",
        "print(data)"
      ],
      "execution_count": 14,
      "outputs": [
        {
          "output_type": "stream",
          "text": [
            "2    0.25\n",
            "5    0.50\n",
            "3    0.75\n",
            "1    1.00\n",
            "dtype: float64\n"
          ],
          "name": "stdout"
        }
      ]
    },
    {
      "cell_type": "code",
      "metadata": {
        "id": "QYzffMZc6nAL",
        "outputId": "8a2cb54d-66e3-4e23-b4a8-c56008b02d39",
        "colab": {
          "base_uri": "https://localhost:8080/"
        }
      },
      "source": [
        "data[5]"
      ],
      "execution_count": 15,
      "outputs": [
        {
          "output_type": "execute_result",
          "data": {
            "text/plain": [
              "0.5"
            ]
          },
          "metadata": {
            "tags": []
          },
          "execution_count": 15
        }
      ]
    },
    {
      "cell_type": "markdown",
      "metadata": {
        "id": "X_z3w82K6nAQ"
      },
      "source": [
        "* Uma `series` contém um parâmetro `name`, que pode ser especificado, correspondendo ao nome dado à `series`. Isso facilitará outros passos que veremos a seguir."
      ]
    },
    {
      "cell_type": "code",
      "metadata": {
        "id": "w_4wh4eB6nAS",
        "outputId": "0790877f-ab7b-4338-ff29-866d969684df",
        "colab": {
          "base_uri": "https://localhost:8080/"
        }
      },
      "source": [
        "data = pd.Series([0.25, 0.5, 0.75, 1.0], \n",
        "                 index = [2, 5, 3, 1], \n",
        "                 name = 'valores')\n",
        "data"
      ],
      "execution_count": 16,
      "outputs": [
        {
          "output_type": "execute_result",
          "data": {
            "text/plain": [
              "2    0.25\n",
              "5    0.50\n",
              "3    0.75\n",
              "1    1.00\n",
              "Name: valores, dtype: float64"
            ]
          },
          "metadata": {
            "tags": []
          },
          "execution_count": 16
        }
      ]
    },
    {
      "cell_type": "markdown",
      "metadata": {
        "id": "4ChbTRCV6nAX"
      },
      "source": [
        "## ``Series`` como um `dict` especializado"
      ]
    },
    {
      "cell_type": "markdown",
      "metadata": {
        "id": "9RbvsXKb6nAY"
      },
      "source": [
        "#### Um [`dict`](https://docs.python.org/pt-br/2.7/c-api/dict.html) é uma estrutura que mapeia um conjunto de chaves arbitrárias para um conjunto de valores de um tipo. Pode ser feita, então, uma [analogia](https://www.geeksforgeeks.org/creating-a-pandas-series-from-dictionary/) entre uma `Series` e um `dict`."
      ]
    },
    {
      "cell_type": "code",
      "metadata": {
        "id": "wyRdJt9l6nAY",
        "outputId": "861e277a-183b-4fa9-ea5a-cd14878a41f5",
        "colab": {
          "base_uri": "https://localhost:8080/"
        }
      },
      "source": [
        "population_dict = {'California': 38332521,\n",
        "                   'Texas': 26448193,\n",
        "                   'New York': 19651127,\n",
        "                   'Florida': 19552860,\n",
        "                   'Illinois': 12882135}\n",
        "\n",
        "population = pd.Series(population_dict, \n",
        "                       name = 'population')\n",
        "population\n",
        "#type(population)"
      ],
      "execution_count": 17,
      "outputs": [
        {
          "output_type": "execute_result",
          "data": {
            "text/plain": [
              "California    38332521\n",
              "Texas         26448193\n",
              "New York      19651127\n",
              "Florida       19552860\n",
              "Illinois      12882135\n",
              "Name: population, dtype: int64"
            ]
          },
          "metadata": {
            "tags": []
          },
          "execution_count": 17
        }
      ]
    },
    {
      "cell_type": "markdown",
      "metadata": {
        "id": "nXIZtUPm6nAd"
      },
      "source": [
        "* Uma `Series` pode ser criada a partir de um `dict`: o índice é retirado das chaves.\n",
        "* Desta forma, pode ser acessado de forma análoga a um `dict`."
      ]
    },
    {
      "cell_type": "code",
      "metadata": {
        "id": "mXa85Ae26nAe",
        "outputId": "12202625-b23a-499e-9d3d-df866fb89ac0",
        "colab": {
          "base_uri": "https://localhost:8080/"
        }
      },
      "source": [
        "print(population['California'])\n",
        "print(population[0])"
      ],
      "execution_count": 19,
      "outputs": [
        {
          "output_type": "stream",
          "text": [
            "38332521\n",
            "38332521\n"
          ],
          "name": "stdout"
        }
      ]
    },
    {
      "cell_type": "markdown",
      "metadata": {
        "id": "HbJ4uO4m6nAi"
      },
      "source": [
        "#### Ao contrário de um `dict` uma` Series` suporta algumas operações ao estilo de um arranjo, como, por exemplo, [`slicing`](https://datacarpentry.org/python-ecology-lesson/03-index-slice-subset/index.html):"
      ]
    },
    {
      "cell_type": "code",
      "metadata": {
        "id": "OGmHy3Ha6nAj",
        "outputId": "7aa709e0-626d-491d-8e92-9c6f523f7554",
        "colab": {
          "base_uri": "https://localhost:8080/"
        }
      },
      "source": [
        "print(population['California':'New York'])\n",
        "print('\\n')\n",
        "population[0:3]"
      ],
      "execution_count": 22,
      "outputs": [
        {
          "output_type": "stream",
          "text": [
            "California    38332521\n",
            "Texas         26448193\n",
            "New York      19651127\n",
            "Name: population, dtype: int64\n",
            "\n",
            "\n"
          ],
          "name": "stdout"
        },
        {
          "output_type": "execute_result",
          "data": {
            "text/plain": [
              "California    38332521\n",
              "Texas         26448193\n",
              "New York      19651127\n",
              "Name: population, dtype: int64"
            ]
          },
          "metadata": {
            "tags": []
          },
          "execution_count": 22
        }
      ]
    },
    {
      "cell_type": "markdown",
      "metadata": {
        "id": "o1hWbpPT6nAo"
      },
      "source": [
        "#### Se criarmos uma `Series` com uma lista de strings, a ordem dos valores é respeitada."
      ]
    },
    {
      "cell_type": "code",
      "metadata": {
        "id": "1bv-A-fr6nAp",
        "outputId": "8ed5858a-e577-4f65-aea6-fa21cd5ce51c",
        "colab": {
          "base_uri": "https://localhost:8080/"
        }
      },
      "source": [
        "states_list = ['Illinois', \n",
        "               'Texas', \n",
        "               'New York', \n",
        "               'Florida', \n",
        "               'California'\n",
        "              ]\n",
        "\n",
        "states_pop = [12882135, \n",
        "              26448193, \n",
        "              19651127, \n",
        "              19552860, \n",
        "              38332521\n",
        "             ]\n",
        "\n",
        "states = pd.Series(states_pop, \n",
        "                   index = states_list, \n",
        "                   name = 'population'\n",
        "                  )\n",
        "states"
      ],
      "execution_count": 23,
      "outputs": [
        {
          "output_type": "execute_result",
          "data": {
            "text/plain": [
              "Illinois      12882135\n",
              "Texas         26448193\n",
              "New York      19651127\n",
              "Florida       19552860\n",
              "California    38332521\n",
              "Name: population, dtype: int64"
            ]
          },
          "metadata": {
            "tags": []
          },
          "execution_count": 23
        }
      ]
    },
    {
      "cell_type": "markdown",
      "metadata": {
        "id": "X7_bTdBe6nAt"
      },
      "source": [
        "#### Podemos imprimir alguns dos valores."
      ]
    },
    {
      "cell_type": "code",
      "metadata": {
        "id": "esjZB-jN6nAt",
        "outputId": "b2da87d6-8cf6-4d87-928a-b4c0982a45ec",
        "colab": {
          "base_uri": "https://localhost:8080/"
        }
      },
      "source": [
        "states['Illinois': \n",
        "       'New York'\n",
        "      ]\n",
        "\n",
        "#states[0:3]"
      ],
      "execution_count": 24,
      "outputs": [
        {
          "output_type": "execute_result",
          "data": {
            "text/plain": [
              "Illinois    12882135\n",
              "Texas       26448193\n",
              "New York    19651127\n",
              "Name: population, dtype: int64"
            ]
          },
          "metadata": {
            "tags": []
          },
          "execution_count": 24
        }
      ]
    },
    {
      "cell_type": "markdown",
      "metadata": {
        "id": "wFTjgDk16nAy"
      },
      "source": [
        "#### Podemos trocar as ordens dos pares `key: value`."
      ]
    },
    {
      "cell_type": "code",
      "metadata": {
        "id": "Uf92TIvK6nAz"
      },
      "source": [
        "states_list = ['California', \n",
        "               'Illinois', \n",
        "               'Texas', \n",
        "               'New York', \n",
        "               'Florida'\n",
        "              ]\n",
        "\n",
        "states_pop = [38332521, \n",
        "              12882135, \n",
        "              26448193, \n",
        "              19651127, \n",
        "              19552860\n",
        "             ]\n",
        "\n",
        "states = pd.Series(states_pop, \n",
        "                   index = states_list\n",
        "                  )"
      ],
      "execution_count": 25,
      "outputs": []
    },
    {
      "cell_type": "code",
      "metadata": {
        "id": "eDPiSxRR6nA3",
        "outputId": "5347507a-f9ae-4214-e579-26f97141cb95",
        "colab": {
          "base_uri": "https://localhost:8080/"
        }
      },
      "source": [
        "print(states['Illinois':'New York'])\n",
        "print('\\n')\n",
        "print(states[1:4])"
      ],
      "execution_count": 27,
      "outputs": [
        {
          "output_type": "stream",
          "text": [
            "Illinois    12882135\n",
            "Texas       26448193\n",
            "New York    19651127\n",
            "dtype: int64\n",
            "\n",
            "\n",
            "Illinois    12882135\n",
            "Texas       26448193\n",
            "New York    19651127\n",
            "dtype: int64\n"
          ],
          "name": "stdout"
        }
      ]
    },
    {
      "cell_type": "markdown",
      "metadata": {
        "id": "CAT2ULHJ6nA7"
      },
      "source": [
        "### Outras formas de construir uma Series."
      ]
    },
    {
      "cell_type": "markdown",
      "metadata": {
        "id": "o07O8v5d6nA8"
      },
      "source": [
        "* Podemos construir `Series` partindo do zero. A forma geral de fazer isso é a seguinte:\n",
        "\n",
        "```python\n",
        "pd.Series(data, index = index)\n",
        "```\n",
        "* `index` é um argumento opcional e `data` pode ser várias coisas"
      ]
    },
    {
      "cell_type": "markdown",
      "metadata": {
        "id": "4vha3CU06nA9"
      },
      "source": [
        "#### Uma lista ou um arranjo de Numpy."
      ]
    },
    {
      "cell_type": "code",
      "metadata": {
        "id": "Ctp1EiRh6nA9",
        "outputId": "73ab7808-bbff-4b13-be52-a490fb6e41e4",
        "colab": {
          "base_uri": "https://localhost:8080/"
        }
      },
      "source": [
        "pd.Series([2, 4, 6]) "
      ],
      "execution_count": 28,
      "outputs": [
        {
          "output_type": "execute_result",
          "data": {
            "text/plain": [
              "0    2\n",
              "1    4\n",
              "2    6\n",
              "dtype: int64"
            ]
          },
          "metadata": {
            "tags": []
          },
          "execution_count": 28
        }
      ]
    },
    {
      "cell_type": "markdown",
      "metadata": {
        "id": "XdkF5IYe6nBG"
      },
      "source": [
        "#### Um escalar repetido ao longo de um índice"
      ]
    },
    {
      "cell_type": "code",
      "metadata": {
        "id": "VsZ_wiR86nBH",
        "outputId": "8cf11bda-d664-4236-bf02-0ace662eed16",
        "colab": {
          "base_uri": "https://localhost:8080/"
        }
      },
      "source": [
        "pd.Series(5, \n",
        "          index = [100, \n",
        "                   200, \n",
        "                   300\n",
        "                  ]\n",
        "         )"
      ],
      "execution_count": 29,
      "outputs": [
        {
          "output_type": "execute_result",
          "data": {
            "text/plain": [
              "100    5\n",
              "200    5\n",
              "300    5\n",
              "dtype: int64"
            ]
          },
          "metadata": {
            "tags": []
          },
          "execution_count": 29
        }
      ]
    },
    {
      "cell_type": "markdown",
      "metadata": {
        "id": "WWyis6396nBL"
      },
      "source": [
        "#### Um dicionário."
      ]
    },
    {
      "cell_type": "code",
      "metadata": {
        "id": "ASX-bMe86nBM",
        "outputId": "3326f185-99ec-43ea-d512-2576f98b2f31",
        "colab": {
          "base_uri": "https://localhost:8080/"
        }
      },
      "source": [
        "pd.Series({2 : 'a', \n",
        "           1 : 'b', \n",
        "           3 : 'c'}\n",
        "         ) "
      ],
      "execution_count": 30,
      "outputs": [
        {
          "output_type": "execute_result",
          "data": {
            "text/plain": [
              "2    a\n",
              "1    b\n",
              "3    c\n",
              "dtype: object"
            ]
          },
          "metadata": {
            "tags": []
          },
          "execution_count": 30
        }
      ]
    },
    {
      "cell_type": "markdown",
      "metadata": {
        "id": "mt00fxrE6nBR"
      },
      "source": [
        "#### Em cada caso, se o que se procura for outro resultado, o índice poderá ser usado explicitamente."
      ]
    },
    {
      "cell_type": "code",
      "metadata": {
        "id": "IVq2fN5k6nBR",
        "outputId": "89c5ab7e-468d-48c0-e4b0-9d30f0b23238",
        "colab": {
          "base_uri": "https://localhost:8080/"
        }
      },
      "source": [
        "pd.Series({2: 'a', 1: 'b', 3: 'c'}, index = [1, 2])\n",
        "#pd.Series({2: 'a', 1: 'b', 3: 'c'}, index = [2, 2])\n",
        "#pd.Series({2: 'a', 1: 'b', 3: 'c'}, index = [3, 2])"
      ],
      "execution_count": 31,
      "outputs": [
        {
          "output_type": "execute_result",
          "data": {
            "text/plain": [
              "1    b\n",
              "2    a\n",
              "dtype: object"
            ]
          },
          "metadata": {
            "tags": []
          },
          "execution_count": 31
        }
      ]
    },
    {
      "cell_type": "code",
      "metadata": {
        "id": "lkalOie56nBV",
        "outputId": "fffccc40-0545-40d2-f657-675af6b141a9",
        "colab": {
          "base_uri": "https://localhost:8080/"
        }
      },
      "source": [
        "pd.Series({2:'a', 1:'b', 3:'c'})"
      ],
      "execution_count": 32,
      "outputs": [
        {
          "output_type": "execute_result",
          "data": {
            "text/plain": [
              "2    a\n",
              "1    b\n",
              "3    c\n",
              "dtype: object"
            ]
          },
          "metadata": {
            "tags": []
          },
          "execution_count": 32
        }
      ]
    },
    {
      "cell_type": "code",
      "metadata": {
        "id": "GUNRtCMv6nBa",
        "outputId": "981f81a0-005f-435a-ce9a-bfec3844e781",
        "colab": {
          "base_uri": "https://localhost:8080/"
        }
      },
      "source": [
        "pd.Series({2:'a', 1:'b', 3:'c'}, index = [2, 3])"
      ],
      "execution_count": 33,
      "outputs": [
        {
          "output_type": "execute_result",
          "data": {
            "text/plain": [
              "2    a\n",
              "3    c\n",
              "dtype: object"
            ]
          },
          "metadata": {
            "tags": []
          },
          "execution_count": 33
        }
      ]
    },
    {
      "cell_type": "code",
      "metadata": {
        "id": "VH_Tj8Ii6nBf",
        "outputId": "7b08cd23-a026-4259-e80b-de0139418908",
        "colab": {
          "base_uri": "https://localhost:8080/"
        }
      },
      "source": [
        "pd.Series([10, 15, 20],index = ['2020-07-12', '2020-07-13', '2020-07-14' ])"
      ],
      "execution_count": 34,
      "outputs": [
        {
          "output_type": "execute_result",
          "data": {
            "text/plain": [
              "2020-07-12    10\n",
              "2020-07-13    15\n",
              "2020-07-14    20\n",
              "dtype: int64"
            ]
          },
          "metadata": {
            "tags": []
          },
          "execution_count": 34
        }
      ]
    },
    {
      "cell_type": "markdown",
      "metadata": {
        "id": "J1sBnt4n6nBj"
      },
      "source": [
        "# Objetos `DataFrame`"
      ]
    },
    {
      "cell_type": "markdown",
      "metadata": {
        "id": "DFrpMd9Y6nBk"
      },
      "source": [
        "#### Outra estrutura fundamental da biblioteca `Pandas` é o [`Dataframe`]((https://www.tutorialspoint.com/python_pandas/python_pandas_dataframe.htm)), que também pode ser pensado como uma generalização de um arranjo de `NumPy` ou como um tipo especial de dicionário.\n",
        "\n",
        "#### Um [`DataFrame`](https://towardsdatascience.com/tagged/pandas-dataframe) é um tipo análogo a uma [`Series`](https://towardsdatascience.com/pandas-series-a-lightweight-intro-b7963a0d62a2#:~:text=What%20is%20a%20Series%3F,of%20holding%20any%20data%20type.&text=So%2C%20in%20terms%20of%20Pandas,belongs%20to%20a%20Pandas%20DataFrame.) em duas dimensões e, portanto, pode ser pensado como uma generalização de um arranjo de Numpy, ou como um conjunto de `Series` alinhados. \n",
        "\n",
        "#### Em outras palavras, um [`dataframe`](https://towardsdatascience.com/introduction-to-pandas-dataframes-b1b61d2cec35) pode ser construído com os mesmos dados de uma série. Para demonstrar isso, vamos gerar uma `Series` com a área de alguns estados:"
      ]
    },
    {
      "cell_type": "code",
      "metadata": {
        "id": "0gBTCnFX6nBk",
        "outputId": "4557b4a0-ac27-4c6a-e43c-ed8679916b3f",
        "colab": {
          "base_uri": "https://localhost:8080/"
        }
      },
      "source": [
        "area_dict = {'California': 423967, \n",
        "             'Texas': 695662, \n",
        "             'New York': 141297,\n",
        "             'Florida': 170312, \n",
        "             'Illinois': 149995}\n",
        "area = pd.Series(area_dict, \n",
        "                 name = 'area'\n",
        "                )\n",
        "area\n",
        "#type(area)"
      ],
      "execution_count": 35,
      "outputs": [
        {
          "output_type": "execute_result",
          "data": {
            "text/plain": [
              "California    423967\n",
              "Texas         695662\n",
              "New York      141297\n",
              "Florida       170312\n",
              "Illinois      149995\n",
              "Name: area, dtype: int64"
            ]
          },
          "metadata": {
            "tags": []
          },
          "execution_count": 35
        }
      ]
    },
    {
      "cell_type": "markdown",
      "metadata": {
        "id": "R7MugShj6nBp"
      },
      "source": [
        "#### Agora, podemos usar um dicionário para construir um objeto bidimensional contendo toda as informações."
      ]
    },
    {
      "cell_type": "code",
      "metadata": {
        "id": "7A0beBMM6nBp"
      },
      "source": [
        "#pd.DataFrame()\n",
        "temporaria = pd.DataFrame()\n",
        "#type(temporaria)\n",
        "#print(temporaria)"
      ],
      "execution_count": 38,
      "outputs": []
    },
    {
      "cell_type": "code",
      "metadata": {
        "id": "aCVgtXLV6nBu",
        "outputId": "bec9e731-aacb-46d1-c958-544a74095687",
        "colab": {
          "base_uri": "https://localhost:8080/",
          "height": 111
        }
      },
      "source": [
        "pd.DataFrame({'a': [1, 4], \n",
        "              'b': [2, 5], \n",
        "              'c': [3, 6]\n",
        "             }\n",
        "            )"
      ],
      "execution_count": 39,
      "outputs": [
        {
          "output_type": "execute_result",
          "data": {
            "text/html": [
              "<div>\n",
              "<style scoped>\n",
              "    .dataframe tbody tr th:only-of-type {\n",
              "        vertical-align: middle;\n",
              "    }\n",
              "\n",
              "    .dataframe tbody tr th {\n",
              "        vertical-align: top;\n",
              "    }\n",
              "\n",
              "    .dataframe thead th {\n",
              "        text-align: right;\n",
              "    }\n",
              "</style>\n",
              "<table border=\"1\" class=\"dataframe\">\n",
              "  <thead>\n",
              "    <tr style=\"text-align: right;\">\n",
              "      <th></th>\n",
              "      <th>a</th>\n",
              "      <th>b</th>\n",
              "      <th>c</th>\n",
              "    </tr>\n",
              "  </thead>\n",
              "  <tbody>\n",
              "    <tr>\n",
              "      <th>0</th>\n",
              "      <td>1</td>\n",
              "      <td>2</td>\n",
              "      <td>3</td>\n",
              "    </tr>\n",
              "    <tr>\n",
              "      <th>1</th>\n",
              "      <td>4</td>\n",
              "      <td>5</td>\n",
              "      <td>6</td>\n",
              "    </tr>\n",
              "  </tbody>\n",
              "</table>\n",
              "</div>"
            ],
            "text/plain": [
              "   a  b  c\n",
              "0  1  2  3\n",
              "1  4  5  6"
            ]
          },
          "metadata": {
            "tags": []
          },
          "execution_count": 39
        }
      ]
    },
    {
      "cell_type": "markdown",
      "metadata": {
        "id": "KQCANzT06nB4"
      },
      "source": [
        "#### Podemos transformar a `series` `population` em um dataframe com a função [`.DataFrame()`](https://pandas.pydata.org/pandas-docs/stable/reference/api/pandas.DataFrame.html), que gera dados tabulados bidimensionais, com tamanho mutável e potencialmente heterogêneos."
      ]
    },
    {
      "cell_type": "code",
      "metadata": {
        "id": "CyDsXz_c6nB7",
        "outputId": "0f707c4a-33a1-418a-efbc-d8cb22fc5bc0",
        "colab": {
          "base_uri": "https://localhost:8080/",
          "height": 204
        }
      },
      "source": [
        "states = pd.DataFrame(population)\n",
        "states"
      ],
      "execution_count": 40,
      "outputs": [
        {
          "output_type": "execute_result",
          "data": {
            "text/html": [
              "<div>\n",
              "<style scoped>\n",
              "    .dataframe tbody tr th:only-of-type {\n",
              "        vertical-align: middle;\n",
              "    }\n",
              "\n",
              "    .dataframe tbody tr th {\n",
              "        vertical-align: top;\n",
              "    }\n",
              "\n",
              "    .dataframe thead th {\n",
              "        text-align: right;\n",
              "    }\n",
              "</style>\n",
              "<table border=\"1\" class=\"dataframe\">\n",
              "  <thead>\n",
              "    <tr style=\"text-align: right;\">\n",
              "      <th></th>\n",
              "      <th>population</th>\n",
              "    </tr>\n",
              "  </thead>\n",
              "  <tbody>\n",
              "    <tr>\n",
              "      <th>California</th>\n",
              "      <td>38332521</td>\n",
              "    </tr>\n",
              "    <tr>\n",
              "      <th>Texas</th>\n",
              "      <td>26448193</td>\n",
              "    </tr>\n",
              "    <tr>\n",
              "      <th>New York</th>\n",
              "      <td>19651127</td>\n",
              "    </tr>\n",
              "    <tr>\n",
              "      <th>Florida</th>\n",
              "      <td>19552860</td>\n",
              "    </tr>\n",
              "    <tr>\n",
              "      <th>Illinois</th>\n",
              "      <td>12882135</td>\n",
              "    </tr>\n",
              "  </tbody>\n",
              "</table>\n",
              "</div>"
            ],
            "text/plain": [
              "            population\n",
              "California    38332521\n",
              "Texas         26448193\n",
              "New York      19651127\n",
              "Florida       19552860\n",
              "Illinois      12882135"
            ]
          },
          "metadata": {
            "tags": []
          },
          "execution_count": 40
        }
      ]
    },
    {
      "cell_type": "code",
      "metadata": {
        "id": "mujmx1B06nCB",
        "outputId": "21714782-1a37-4901-a6e2-df8d9a574db1",
        "colab": {
          "base_uri": "https://localhost:8080/"
        }
      },
      "source": [
        "type(states)"
      ],
      "execution_count": 41,
      "outputs": [
        {
          "output_type": "execute_result",
          "data": {
            "text/plain": [
              "pandas.core.frame.DataFrame"
            ]
          },
          "metadata": {
            "tags": []
          },
          "execution_count": 41
        }
      ]
    },
    {
      "cell_type": "code",
      "metadata": {
        "id": "QwsPb4gu6nCF",
        "outputId": "eb6d801b-9cc8-47a7-aace-864b35b2c4c8",
        "colab": {
          "base_uri": "https://localhost:8080/",
          "height": 111
        }
      },
      "source": [
        "states = pd.DataFrame([population,area])\n",
        "states"
      ],
      "execution_count": 42,
      "outputs": [
        {
          "output_type": "execute_result",
          "data": {
            "text/html": [
              "<div>\n",
              "<style scoped>\n",
              "    .dataframe tbody tr th:only-of-type {\n",
              "        vertical-align: middle;\n",
              "    }\n",
              "\n",
              "    .dataframe tbody tr th {\n",
              "        vertical-align: top;\n",
              "    }\n",
              "\n",
              "    .dataframe thead th {\n",
              "        text-align: right;\n",
              "    }\n",
              "</style>\n",
              "<table border=\"1\" class=\"dataframe\">\n",
              "  <thead>\n",
              "    <tr style=\"text-align: right;\">\n",
              "      <th></th>\n",
              "      <th>California</th>\n",
              "      <th>Texas</th>\n",
              "      <th>New York</th>\n",
              "      <th>Florida</th>\n",
              "      <th>Illinois</th>\n",
              "    </tr>\n",
              "  </thead>\n",
              "  <tbody>\n",
              "    <tr>\n",
              "      <th>population</th>\n",
              "      <td>38332521</td>\n",
              "      <td>26448193</td>\n",
              "      <td>19651127</td>\n",
              "      <td>19552860</td>\n",
              "      <td>12882135</td>\n",
              "    </tr>\n",
              "    <tr>\n",
              "      <th>area</th>\n",
              "      <td>423967</td>\n",
              "      <td>695662</td>\n",
              "      <td>141297</td>\n",
              "      <td>170312</td>\n",
              "      <td>149995</td>\n",
              "    </tr>\n",
              "  </tbody>\n",
              "</table>\n",
              "</div>"
            ],
            "text/plain": [
              "            California     Texas  New York   Florida  Illinois\n",
              "population    38332521  26448193  19651127  19552860  12882135\n",
              "area            423967    695662    141297    170312    149995"
            ]
          },
          "metadata": {
            "tags": []
          },
          "execution_count": 42
        }
      ]
    },
    {
      "cell_type": "markdown",
      "metadata": {
        "id": "v537t7LE6nCI"
      },
      "source": [
        "#### Podemos converter duas ou mais `series` em um dataframe, para isso podemos fazer uso de um [dicionário](https://www.geeksforgeeks.org/how-to-convert-dictionary-to-pandas-dataframe/)."
      ]
    },
    {
      "cell_type": "code",
      "metadata": {
        "id": "j4-gYpzS6nCJ",
        "outputId": "5b94b7ad-1f81-41be-f57a-916680d9ed5b",
        "colab": {
          "base_uri": "https://localhost:8080/",
          "height": 204
        }
      },
      "source": [
        "states = pd.DataFrame({'population':population, \n",
        "                       'area':area\n",
        "                      }\n",
        "                     )\n",
        "states"
      ],
      "execution_count": 43,
      "outputs": [
        {
          "output_type": "execute_result",
          "data": {
            "text/html": [
              "<div>\n",
              "<style scoped>\n",
              "    .dataframe tbody tr th:only-of-type {\n",
              "        vertical-align: middle;\n",
              "    }\n",
              "\n",
              "    .dataframe tbody tr th {\n",
              "        vertical-align: top;\n",
              "    }\n",
              "\n",
              "    .dataframe thead th {\n",
              "        text-align: right;\n",
              "    }\n",
              "</style>\n",
              "<table border=\"1\" class=\"dataframe\">\n",
              "  <thead>\n",
              "    <tr style=\"text-align: right;\">\n",
              "      <th></th>\n",
              "      <th>population</th>\n",
              "      <th>area</th>\n",
              "    </tr>\n",
              "  </thead>\n",
              "  <tbody>\n",
              "    <tr>\n",
              "      <th>California</th>\n",
              "      <td>38332521</td>\n",
              "      <td>423967</td>\n",
              "    </tr>\n",
              "    <tr>\n",
              "      <th>Texas</th>\n",
              "      <td>26448193</td>\n",
              "      <td>695662</td>\n",
              "    </tr>\n",
              "    <tr>\n",
              "      <th>New York</th>\n",
              "      <td>19651127</td>\n",
              "      <td>141297</td>\n",
              "    </tr>\n",
              "    <tr>\n",
              "      <th>Florida</th>\n",
              "      <td>19552860</td>\n",
              "      <td>170312</td>\n",
              "    </tr>\n",
              "    <tr>\n",
              "      <th>Illinois</th>\n",
              "      <td>12882135</td>\n",
              "      <td>149995</td>\n",
              "    </tr>\n",
              "  </tbody>\n",
              "</table>\n",
              "</div>"
            ],
            "text/plain": [
              "            population    area\n",
              "California    38332521  423967\n",
              "Texas         26448193  695662\n",
              "New York      19651127  141297\n",
              "Florida       19552860  170312\n",
              "Illinois      12882135  149995"
            ]
          },
          "metadata": {
            "tags": []
          },
          "execution_count": 43
        }
      ]
    },
    {
      "cell_type": "markdown",
      "metadata": {
        "id": "PmFDBB6u6nCP"
      },
      "source": [
        "#### O atributo [`.index`](https://pandas.pydata.org/pandas-docs/stable/reference/api/pandas.Index.html) retorna uma lista dos índices do dataframe."
      ]
    },
    {
      "cell_type": "code",
      "metadata": {
        "id": "1aKvDhZx6nCQ",
        "outputId": "d94770bf-f6a5-4352-9834-d1704e8f80ce",
        "colab": {
          "base_uri": "https://localhost:8080/"
        }
      },
      "source": [
        "states.index"
      ],
      "execution_count": 44,
      "outputs": [
        {
          "output_type": "execute_result",
          "data": {
            "text/plain": [
              "Index(['California', 'Texas', 'New York', 'Florida', 'Illinois'], dtype='object')"
            ]
          },
          "metadata": {
            "tags": []
          },
          "execution_count": 44
        }
      ]
    },
    {
      "cell_type": "markdown",
      "metadata": {
        "id": "BW0NuYw86nCZ"
      },
      "source": [
        "#### Podemos chamar apenas uma das colunas, ou `series` do dataframe."
      ]
    },
    {
      "cell_type": "code",
      "metadata": {
        "id": "FPnKj2726nCa",
        "outputId": "3d72bd24-db70-45e1-9341-2597296f619f",
        "colab": {
          "base_uri": "https://localhost:8080/"
        }
      },
      "source": [
        "states['population']"
      ],
      "execution_count": 45,
      "outputs": [
        {
          "output_type": "execute_result",
          "data": {
            "text/plain": [
              "California    38332521\n",
              "Texas         26448193\n",
              "New York      19651127\n",
              "Florida       19552860\n",
              "Illinois      12882135\n",
              "Name: population, dtype: int64"
            ]
          },
          "metadata": {
            "tags": []
          },
          "execution_count": 45
        }
      ]
    },
    {
      "cell_type": "code",
      "metadata": {
        "id": "w1zQfLkv6nCe",
        "outputId": "337d8a77-54fb-4965-b5b7-78dd68e002c9",
        "colab": {
          "base_uri": "https://localhost:8080/"
        }
      },
      "source": [
        "type(states['population'])"
      ],
      "execution_count": 46,
      "outputs": [
        {
          "output_type": "execute_result",
          "data": {
            "text/plain": [
              "pandas.core.series.Series"
            ]
          },
          "metadata": {
            "tags": []
          },
          "execution_count": 46
        }
      ]
    },
    {
      "cell_type": "code",
      "metadata": {
        "id": "7BjNS2-O6nCk",
        "outputId": "654ddd39-8c16-4a48-db6d-02ac98307b8d"
      },
      "source": [
        "type(states)"
      ],
      "execution_count": null,
      "outputs": [
        {
          "output_type": "execute_result",
          "data": {
            "text/plain": [
              "pandas.core.frame.DataFrame"
            ]
          },
          "metadata": {
            "tags": []
          },
          "execution_count": 96
        }
      ]
    },
    {
      "cell_type": "markdown",
      "metadata": {
        "id": "_pzvk-w06nCo"
      },
      "source": [
        "## Atributos básicos"
      ]
    },
    {
      "cell_type": "markdown",
      "metadata": {
        "id": "h1cIJP3z6nCp"
      },
      "source": [
        "#### O atributo [`.index`](https://pandas.pydata.org/pandas-docs/stable/reference/api/pandas.Index.html) retorna um objeto básico que armazena rótulos de eixo para todos os objetos `Pandas`."
      ]
    },
    {
      "cell_type": "code",
      "metadata": {
        "id": "j290TNyF6nCr",
        "outputId": "72583640-c596-4ed8-9f40-b631e04886d7",
        "colab": {
          "base_uri": "https://localhost:8080/"
        }
      },
      "source": [
        "states.index"
      ],
      "execution_count": 47,
      "outputs": [
        {
          "output_type": "execute_result",
          "data": {
            "text/plain": [
              "Index(['California', 'Texas', 'New York', 'Florida', 'Illinois'], dtype='object')"
            ]
          },
          "metadata": {
            "tags": []
          },
          "execution_count": 47
        }
      ]
    },
    {
      "cell_type": "markdown",
      "metadata": {
        "id": "w4O5NgBP6nCu"
      },
      "source": [
        "#### O atributo [`.values`](https://pandas.pydata.org/pandas-docs/stable/reference/api/pandas.DataFrame.values.html) retorna uma representação `Numpy` do `DataFrame`."
      ]
    },
    {
      "cell_type": "code",
      "metadata": {
        "id": "CFtJ4aaM6nCv",
        "outputId": "5f6c9d58-4d8d-44c2-950c-57953a4c5574",
        "colab": {
          "base_uri": "https://localhost:8080/"
        }
      },
      "source": [
        "states.values"
      ],
      "execution_count": 48,
      "outputs": [
        {
          "output_type": "execute_result",
          "data": {
            "text/plain": [
              "array([[38332521,   423967],\n",
              "       [26448193,   695662],\n",
              "       [19651127,   141297],\n",
              "       [19552860,   170312],\n",
              "       [12882135,   149995]])"
            ]
          },
          "metadata": {
            "tags": []
          },
          "execution_count": 48
        }
      ]
    },
    {
      "cell_type": "markdown",
      "metadata": {
        "id": "4ScDDT8Z6nCz"
      },
      "source": [
        "#### Além de `index` e `values`, `dataframes` possuem o atributo [`.columns`](https://pandas.pydata.org/pandas-docs/stable/reference/api/pandas.DataFrame.columns.html), que é um objeto do tipo `Index` atribuído às colunas."
      ]
    },
    {
      "cell_type": "code",
      "metadata": {
        "id": "IaMHLu226nC0",
        "outputId": "61804ded-e87a-4fec-8212-3c9cb8c243db",
        "colab": {
          "base_uri": "https://localhost:8080/"
        }
      },
      "source": [
        "states.columns"
      ],
      "execution_count": 49,
      "outputs": [
        {
          "output_type": "execute_result",
          "data": {
            "text/plain": [
              "Index(['population', 'area'], dtype='object')"
            ]
          },
          "metadata": {
            "tags": []
          },
          "execution_count": 49
        }
      ]
    },
    {
      "cell_type": "markdown",
      "metadata": {
        "id": "cq2dTj_O6nC3"
      },
      "source": [
        "## DataFrame como um dicionário especializado:"
      ]
    },
    {
      "cell_type": "markdown",
      "metadata": {
        "id": "FvRNNxUF6nC4"
      },
      "source": [
        "#### De forma similar, podemos pensar o `DataFrame` como um dicionário: \n",
        "    \n",
        "    - Um dicionário mapeia uma chave com um valor.\n",
        "    - Um `DataFrame` mapeia um nome de coluna com uma `Series` de dados.\n",
        "        \n",
        "* Por exemplo, invocar a coluna `area` do `DataFrame` `states` retorna uma `Series`. "
      ]
    },
    {
      "cell_type": "code",
      "metadata": {
        "id": "Y13vrcv76nC4",
        "outputId": "e794696f-8a9a-4953-c641-a62b20ff5846",
        "colab": {
          "base_uri": "https://localhost:8080/"
        }
      },
      "source": [
        "states['area']"
      ],
      "execution_count": 50,
      "outputs": [
        {
          "output_type": "execute_result",
          "data": {
            "text/plain": [
              "California    423967\n",
              "Texas         695662\n",
              "New York      141297\n",
              "Florida       170312\n",
              "Illinois      149995\n",
              "Name: area, dtype: int64"
            ]
          },
          "metadata": {
            "tags": []
          },
          "execution_count": 50
        }
      ]
    },
    {
      "cell_type": "markdown",
      "metadata": {
        "id": "7r3BSWjo6nDA"
      },
      "source": [
        "### Construindo objetos `DataFrame`:"
      ]
    },
    {
      "cell_type": "markdown",
      "metadata": {
        "id": "D2UfXQ3j6nDB"
      },
      "source": [
        "#### A [partir](https://www.geeksforgeeks.org/creating-a-dataframe-from-pandas-series/) de uma [`Series`](https://datatofish.com/convert-pandas-series-to-dataframe/) simples:"
      ]
    },
    {
      "cell_type": "code",
      "metadata": {
        "id": "q_YX5MlJ6nDC",
        "outputId": "8ce14527-807f-472f-de0b-06074c652b7b",
        "colab": {
          "base_uri": "https://localhost:8080/",
          "height": 204
        }
      },
      "source": [
        "pd.DataFrame(population, \n",
        "             columns = ['population']\n",
        "            )"
      ],
      "execution_count": 51,
      "outputs": [
        {
          "output_type": "execute_result",
          "data": {
            "text/html": [
              "<div>\n",
              "<style scoped>\n",
              "    .dataframe tbody tr th:only-of-type {\n",
              "        vertical-align: middle;\n",
              "    }\n",
              "\n",
              "    .dataframe tbody tr th {\n",
              "        vertical-align: top;\n",
              "    }\n",
              "\n",
              "    .dataframe thead th {\n",
              "        text-align: right;\n",
              "    }\n",
              "</style>\n",
              "<table border=\"1\" class=\"dataframe\">\n",
              "  <thead>\n",
              "    <tr style=\"text-align: right;\">\n",
              "      <th></th>\n",
              "      <th>population</th>\n",
              "    </tr>\n",
              "  </thead>\n",
              "  <tbody>\n",
              "    <tr>\n",
              "      <th>California</th>\n",
              "      <td>38332521</td>\n",
              "    </tr>\n",
              "    <tr>\n",
              "      <th>Texas</th>\n",
              "      <td>26448193</td>\n",
              "    </tr>\n",
              "    <tr>\n",
              "      <th>New York</th>\n",
              "      <td>19651127</td>\n",
              "    </tr>\n",
              "    <tr>\n",
              "      <th>Florida</th>\n",
              "      <td>19552860</td>\n",
              "    </tr>\n",
              "    <tr>\n",
              "      <th>Illinois</th>\n",
              "      <td>12882135</td>\n",
              "    </tr>\n",
              "  </tbody>\n",
              "</table>\n",
              "</div>"
            ],
            "text/plain": [
              "            population\n",
              "California    38332521\n",
              "Texas         26448193\n",
              "New York      19651127\n",
              "Florida       19552860\n",
              "Illinois      12882135"
            ]
          },
          "metadata": {
            "tags": []
          },
          "execution_count": 51
        }
      ]
    },
    {
      "cell_type": "markdown",
      "metadata": {
        "id": "0bN2G3eL6nDG"
      },
      "source": [
        "#### A [partir](https://towardsdatascience.com/ultimate-pandas-guide-creating-a-dataframe-9f063e590e78) de uma lista de `dicts`."
      ]
    },
    {
      "cell_type": "code",
      "metadata": {
        "id": "Rs-bIgqR6nDG",
        "outputId": "caa00746-b479-4a15-8c88-95299e3ffaae",
        "colab": {
          "base_uri": "https://localhost:8080/",
          "height": 142
        }
      },
      "source": [
        "data = [{'a': 0, 'b': 0}, \n",
        "        {'a': 1, 'b': 2}, \n",
        "        {'a': 2, 'b': 4}\n",
        "       ]\n",
        "\n",
        "pd.DataFrame(data)"
      ],
      "execution_count": 52,
      "outputs": [
        {
          "output_type": "execute_result",
          "data": {
            "text/html": [
              "<div>\n",
              "<style scoped>\n",
              "    .dataframe tbody tr th:only-of-type {\n",
              "        vertical-align: middle;\n",
              "    }\n",
              "\n",
              "    .dataframe tbody tr th {\n",
              "        vertical-align: top;\n",
              "    }\n",
              "\n",
              "    .dataframe thead th {\n",
              "        text-align: right;\n",
              "    }\n",
              "</style>\n",
              "<table border=\"1\" class=\"dataframe\">\n",
              "  <thead>\n",
              "    <tr style=\"text-align: right;\">\n",
              "      <th></th>\n",
              "      <th>a</th>\n",
              "      <th>b</th>\n",
              "    </tr>\n",
              "  </thead>\n",
              "  <tbody>\n",
              "    <tr>\n",
              "      <th>0</th>\n",
              "      <td>0</td>\n",
              "      <td>0</td>\n",
              "    </tr>\n",
              "    <tr>\n",
              "      <th>1</th>\n",
              "      <td>1</td>\n",
              "      <td>2</td>\n",
              "    </tr>\n",
              "    <tr>\n",
              "      <th>2</th>\n",
              "      <td>2</td>\n",
              "      <td>4</td>\n",
              "    </tr>\n",
              "  </tbody>\n",
              "</table>\n",
              "</div>"
            ],
            "text/plain": [
              "   a  b\n",
              "0  0  0\n",
              "1  1  2\n",
              "2  2  4"
            ]
          },
          "metadata": {
            "tags": []
          },
          "execution_count": 52
        }
      ]
    },
    {
      "cell_type": "markdown",
      "metadata": {
        "id": "OCveanYT6nDM"
      },
      "source": [
        "#### Se a informação sobre um determinado valor for inexistente, o Pandas preenche a célula com [`NaN`](https://pandas.pydata.org/pandas-docs/stable/user_guide/missing_data.html). O Acrônimo `NaN` significa \"not a number\" e é uma das possíveis formas de se representar a falta de determinado valor em um `dataframe`."
      ]
    },
    {
      "cell_type": "code",
      "metadata": {
        "id": "tLenZqve6nDM",
        "outputId": "a65d338b-34ce-4168-b543-ef31d3e289bb",
        "colab": {
          "base_uri": "https://localhost:8080/",
          "height": 142
        }
      },
      "source": [
        "data = [{'a': 0, 'b': 0}, \n",
        "        {'a': 1, 'b': 2}, \n",
        "        {'a': 2, 'c': 4}\n",
        "       ]\n",
        "\n",
        "pd.DataFrame(data)"
      ],
      "execution_count": 53,
      "outputs": [
        {
          "output_type": "execute_result",
          "data": {
            "text/html": [
              "<div>\n",
              "<style scoped>\n",
              "    .dataframe tbody tr th:only-of-type {\n",
              "        vertical-align: middle;\n",
              "    }\n",
              "\n",
              "    .dataframe tbody tr th {\n",
              "        vertical-align: top;\n",
              "    }\n",
              "\n",
              "    .dataframe thead th {\n",
              "        text-align: right;\n",
              "    }\n",
              "</style>\n",
              "<table border=\"1\" class=\"dataframe\">\n",
              "  <thead>\n",
              "    <tr style=\"text-align: right;\">\n",
              "      <th></th>\n",
              "      <th>a</th>\n",
              "      <th>b</th>\n",
              "      <th>c</th>\n",
              "    </tr>\n",
              "  </thead>\n",
              "  <tbody>\n",
              "    <tr>\n",
              "      <th>0</th>\n",
              "      <td>0</td>\n",
              "      <td>0.0</td>\n",
              "      <td>NaN</td>\n",
              "    </tr>\n",
              "    <tr>\n",
              "      <th>1</th>\n",
              "      <td>1</td>\n",
              "      <td>2.0</td>\n",
              "      <td>NaN</td>\n",
              "    </tr>\n",
              "    <tr>\n",
              "      <th>2</th>\n",
              "      <td>2</td>\n",
              "      <td>NaN</td>\n",
              "      <td>4.0</td>\n",
              "    </tr>\n",
              "  </tbody>\n",
              "</table>\n",
              "</div>"
            ],
            "text/plain": [
              "   a    b    c\n",
              "0  0  0.0  NaN\n",
              "1  1  2.0  NaN\n",
              "2  2  NaN  4.0"
            ]
          },
          "metadata": {
            "tags": []
          },
          "execution_count": 53
        }
      ]
    },
    {
      "cell_type": "markdown",
      "metadata": {
        "id": "TdHIA4566nDY"
      },
      "source": [
        "#### Um outro [conceito](https://chrisalbon.com/python/data_wrangling/pandas_list_comprehension/) importante para o uso de ferramentas `Pandas` é o de [`list compreenshion`](https://www.listendata.com/2019/07/python-list-comprehension-with-examples.html)"
      ]
    },
    {
      "cell_type": "code",
      "metadata": {
        "id": "xd4apZad6nDZ",
        "outputId": "2cf12e32-d140-410b-aea3-928833b6fabf",
        "colab": {
          "base_uri": "https://localhost:8080/",
          "height": 204
        }
      },
      "source": [
        "data = [{'a': i, \n",
        "         'b': 2 * i\n",
        "        } for i in range(5)\n",
        "       ]\n",
        "\n",
        "pd.DataFrame(data)"
      ],
      "execution_count": 54,
      "outputs": [
        {
          "output_type": "execute_result",
          "data": {
            "text/html": [
              "<div>\n",
              "<style scoped>\n",
              "    .dataframe tbody tr th:only-of-type {\n",
              "        vertical-align: middle;\n",
              "    }\n",
              "\n",
              "    .dataframe tbody tr th {\n",
              "        vertical-align: top;\n",
              "    }\n",
              "\n",
              "    .dataframe thead th {\n",
              "        text-align: right;\n",
              "    }\n",
              "</style>\n",
              "<table border=\"1\" class=\"dataframe\">\n",
              "  <thead>\n",
              "    <tr style=\"text-align: right;\">\n",
              "      <th></th>\n",
              "      <th>a</th>\n",
              "      <th>b</th>\n",
              "    </tr>\n",
              "  </thead>\n",
              "  <tbody>\n",
              "    <tr>\n",
              "      <th>0</th>\n",
              "      <td>0</td>\n",
              "      <td>0</td>\n",
              "    </tr>\n",
              "    <tr>\n",
              "      <th>1</th>\n",
              "      <td>1</td>\n",
              "      <td>2</td>\n",
              "    </tr>\n",
              "    <tr>\n",
              "      <th>2</th>\n",
              "      <td>2</td>\n",
              "      <td>4</td>\n",
              "    </tr>\n",
              "    <tr>\n",
              "      <th>3</th>\n",
              "      <td>3</td>\n",
              "      <td>6</td>\n",
              "    </tr>\n",
              "    <tr>\n",
              "      <th>4</th>\n",
              "      <td>4</td>\n",
              "      <td>8</td>\n",
              "    </tr>\n",
              "  </tbody>\n",
              "</table>\n",
              "</div>"
            ],
            "text/plain": [
              "   a  b\n",
              "0  0  0\n",
              "1  1  2\n",
              "2  2  4\n",
              "3  3  6\n",
              "4  4  8"
            ]
          },
          "metadata": {
            "tags": []
          },
          "execution_count": 54
        }
      ]
    },
    {
      "cell_type": "markdown",
      "metadata": {
        "id": "5ywUsn0H6nDe"
      },
      "source": [
        "#### De um `dict` de `Series`."
      ]
    },
    {
      "cell_type": "code",
      "metadata": {
        "id": "CooE91OQ6nDf",
        "outputId": "41b155ee-647c-4a73-9d20-7ccb646ea589",
        "colab": {
          "base_uri": "https://localhost:8080/",
          "height": 204
        }
      },
      "source": [
        "pd.DataFrame({'population': population,\n",
        "              'area': area\n",
        "             }\n",
        "            )"
      ],
      "execution_count": 55,
      "outputs": [
        {
          "output_type": "execute_result",
          "data": {
            "text/html": [
              "<div>\n",
              "<style scoped>\n",
              "    .dataframe tbody tr th:only-of-type {\n",
              "        vertical-align: middle;\n",
              "    }\n",
              "\n",
              "    .dataframe tbody tr th {\n",
              "        vertical-align: top;\n",
              "    }\n",
              "\n",
              "    .dataframe thead th {\n",
              "        text-align: right;\n",
              "    }\n",
              "</style>\n",
              "<table border=\"1\" class=\"dataframe\">\n",
              "  <thead>\n",
              "    <tr style=\"text-align: right;\">\n",
              "      <th></th>\n",
              "      <th>population</th>\n",
              "      <th>area</th>\n",
              "    </tr>\n",
              "  </thead>\n",
              "  <tbody>\n",
              "    <tr>\n",
              "      <th>California</th>\n",
              "      <td>38332521</td>\n",
              "      <td>423967</td>\n",
              "    </tr>\n",
              "    <tr>\n",
              "      <th>Texas</th>\n",
              "      <td>26448193</td>\n",
              "      <td>695662</td>\n",
              "    </tr>\n",
              "    <tr>\n",
              "      <th>New York</th>\n",
              "      <td>19651127</td>\n",
              "      <td>141297</td>\n",
              "    </tr>\n",
              "    <tr>\n",
              "      <th>Florida</th>\n",
              "      <td>19552860</td>\n",
              "      <td>170312</td>\n",
              "    </tr>\n",
              "    <tr>\n",
              "      <th>Illinois</th>\n",
              "      <td>12882135</td>\n",
              "      <td>149995</td>\n",
              "    </tr>\n",
              "  </tbody>\n",
              "</table>\n",
              "</div>"
            ],
            "text/plain": [
              "            population    area\n",
              "California    38332521  423967\n",
              "Texas         26448193  695662\n",
              "New York      19651127  141297\n",
              "Florida       19552860  170312\n",
              "Illinois      12882135  149995"
            ]
          },
          "metadata": {
            "tags": []
          },
          "execution_count": 55
        }
      ]
    },
    {
      "cell_type": "code",
      "metadata": {
        "id": "pTFhCnt76nDn",
        "outputId": "27d66014-b521-4ff1-ffdb-e0b1f3e34f7a",
        "colab": {
          "base_uri": "https://localhost:8080/",
          "height": 235
        }
      },
      "source": [
        "area_2 = pd.Series({'California': 423967, \n",
        "                    'Illinois': 149995,\n",
        "                    'Florida': 170312, \n",
        "                    'New York': 141297,\n",
        "                    'Texas': 695662, \n",
        "                    'Alaska':1718000\n",
        "                   }\n",
        "                  ) # adicionado em relação ao caso anterior\n",
        "\n",
        "pd.DataFrame({'population': population,\n",
        "              'area': area_2\n",
        "             }\n",
        "            )"
      ],
      "execution_count": 56,
      "outputs": [
        {
          "output_type": "execute_result",
          "data": {
            "text/html": [
              "<div>\n",
              "<style scoped>\n",
              "    .dataframe tbody tr th:only-of-type {\n",
              "        vertical-align: middle;\n",
              "    }\n",
              "\n",
              "    .dataframe tbody tr th {\n",
              "        vertical-align: top;\n",
              "    }\n",
              "\n",
              "    .dataframe thead th {\n",
              "        text-align: right;\n",
              "    }\n",
              "</style>\n",
              "<table border=\"1\" class=\"dataframe\">\n",
              "  <thead>\n",
              "    <tr style=\"text-align: right;\">\n",
              "      <th></th>\n",
              "      <th>population</th>\n",
              "      <th>area</th>\n",
              "    </tr>\n",
              "  </thead>\n",
              "  <tbody>\n",
              "    <tr>\n",
              "      <th>Alaska</th>\n",
              "      <td>NaN</td>\n",
              "      <td>1718000</td>\n",
              "    </tr>\n",
              "    <tr>\n",
              "      <th>California</th>\n",
              "      <td>38332521.0</td>\n",
              "      <td>423967</td>\n",
              "    </tr>\n",
              "    <tr>\n",
              "      <th>Florida</th>\n",
              "      <td>19552860.0</td>\n",
              "      <td>170312</td>\n",
              "    </tr>\n",
              "    <tr>\n",
              "      <th>Illinois</th>\n",
              "      <td>12882135.0</td>\n",
              "      <td>149995</td>\n",
              "    </tr>\n",
              "    <tr>\n",
              "      <th>New York</th>\n",
              "      <td>19651127.0</td>\n",
              "      <td>141297</td>\n",
              "    </tr>\n",
              "    <tr>\n",
              "      <th>Texas</th>\n",
              "      <td>26448193.0</td>\n",
              "      <td>695662</td>\n",
              "    </tr>\n",
              "  </tbody>\n",
              "</table>\n",
              "</div>"
            ],
            "text/plain": [
              "            population     area\n",
              "Alaska             NaN  1718000\n",
              "California  38332521.0   423967\n",
              "Florida     19552860.0   170312\n",
              "Illinois    12882135.0   149995\n",
              "New York    19651127.0   141297\n",
              "Texas       26448193.0   695662"
            ]
          },
          "metadata": {
            "tags": []
          },
          "execution_count": 56
        }
      ]
    },
    {
      "cell_type": "markdown",
      "metadata": {
        "id": "gAzBDpXD6nDv"
      },
      "source": [
        "#### Perceba no caso acima:\n",
        "\n",
        "* A ordenação alfabética não solicitada.\n",
        "\n",
        "* O preenchimento com 'NaN' na chave 'Alaska', não existente na Series 'population'."
      ]
    },
    {
      "cell_type": "markdown",
      "metadata": {
        "id": "fIuEcpWl6nDw"
      },
      "source": [
        "#### A partir de um arranjo `Numpy` de duas dimensões."
      ]
    },
    {
      "cell_type": "code",
      "metadata": {
        "id": "xyYoBNUR6nDx",
        "outputId": "61289ac4-0956-4428-8307-1344bd64406e",
        "colab": {
          "base_uri": "https://localhost:8080/"
        }
      },
      "source": [
        "lista = ['a', 'b']\n",
        "print(type(lista))\n",
        "print(type(lista[0]))"
      ],
      "execution_count": 57,
      "outputs": [
        {
          "output_type": "stream",
          "text": [
            "<class 'list'>\n",
            "<class 'str'>\n"
          ],
          "name": "stdout"
        }
      ]
    },
    {
      "cell_type": "code",
      "metadata": {
        "id": "y6NrnxNr6nD1",
        "outputId": "ce591a2b-f41d-44b5-cd3f-1ee49e0d8238",
        "colab": {
          "base_uri": "https://localhost:8080/"
        }
      },
      "source": [
        "print(type(states))\n",
        "print(type(states.values))\n",
        "states.values"
      ],
      "execution_count": 58,
      "outputs": [
        {
          "output_type": "stream",
          "text": [
            "<class 'pandas.core.frame.DataFrame'>\n",
            "<class 'numpy.ndarray'>\n"
          ],
          "name": "stdout"
        },
        {
          "output_type": "execute_result",
          "data": {
            "text/plain": [
              "array([[38332521,   423967],\n",
              "       [26448193,   695662],\n",
              "       [19651127,   141297],\n",
              "       [19552860,   170312],\n",
              "       [12882135,   149995]])"
            ]
          },
          "metadata": {
            "tags": []
          },
          "execution_count": 58
        }
      ]
    },
    {
      "cell_type": "markdown",
      "metadata": {
        "id": "gVcteW336nD4"
      },
      "source": [
        "#### Aplicando o atributo `.values` ao `DataFrame` `states`."
      ]
    },
    {
      "cell_type": "code",
      "metadata": {
        "id": "O1kiOXBi6nD4",
        "outputId": "c38b03b8-c648-4d52-8f7d-eaba82e9949c",
        "colab": {
          "base_uri": "https://localhost:8080/",
          "height": 204
        }
      },
      "source": [
        "pd.DataFrame(states.values)"
      ],
      "execution_count": 59,
      "outputs": [
        {
          "output_type": "execute_result",
          "data": {
            "text/html": [
              "<div>\n",
              "<style scoped>\n",
              "    .dataframe tbody tr th:only-of-type {\n",
              "        vertical-align: middle;\n",
              "    }\n",
              "\n",
              "    .dataframe tbody tr th {\n",
              "        vertical-align: top;\n",
              "    }\n",
              "\n",
              "    .dataframe thead th {\n",
              "        text-align: right;\n",
              "    }\n",
              "</style>\n",
              "<table border=\"1\" class=\"dataframe\">\n",
              "  <thead>\n",
              "    <tr style=\"text-align: right;\">\n",
              "      <th></th>\n",
              "      <th>0</th>\n",
              "      <th>1</th>\n",
              "    </tr>\n",
              "  </thead>\n",
              "  <tbody>\n",
              "    <tr>\n",
              "      <th>0</th>\n",
              "      <td>38332521</td>\n",
              "      <td>423967</td>\n",
              "    </tr>\n",
              "    <tr>\n",
              "      <th>1</th>\n",
              "      <td>26448193</td>\n",
              "      <td>695662</td>\n",
              "    </tr>\n",
              "    <tr>\n",
              "      <th>2</th>\n",
              "      <td>19651127</td>\n",
              "      <td>141297</td>\n",
              "    </tr>\n",
              "    <tr>\n",
              "      <th>3</th>\n",
              "      <td>19552860</td>\n",
              "      <td>170312</td>\n",
              "    </tr>\n",
              "    <tr>\n",
              "      <th>4</th>\n",
              "      <td>12882135</td>\n",
              "      <td>149995</td>\n",
              "    </tr>\n",
              "  </tbody>\n",
              "</table>\n",
              "</div>"
            ],
            "text/plain": [
              "          0       1\n",
              "0  38332521  423967\n",
              "1  26448193  695662\n",
              "2  19651127  141297\n",
              "3  19552860  170312\n",
              "4  12882135  149995"
            ]
          },
          "metadata": {
            "tags": []
          },
          "execution_count": 59
        }
      ]
    },
    {
      "cell_type": "markdown",
      "metadata": {
        "id": "EKB_Xgdg6nD9"
      },
      "source": [
        "#### E criamos também um `DataFrame` a partir dos valores de `state`, atribuindo os índices de nossa preferência."
      ]
    },
    {
      "cell_type": "code",
      "metadata": {
        "id": "y4jNnbk46nD-",
        "outputId": "9cce69b7-9289-4b9f-fafc-7e5539bc5b5f",
        "colab": {
          "base_uri": "https://localhost:8080/",
          "height": 204
        }
      },
      "source": [
        "pd.DataFrame(states.values, \n",
        "             columns = ['population', \n",
        "                        'area'\n",
        "                       ], \n",
        "             index = ['California', \n",
        "                      'Texas',\n",
        "                      'New York', \n",
        "                      'Florida', \n",
        "                      'Illinois'\n",
        "                     ]\n",
        "            )"
      ],
      "execution_count": 60,
      "outputs": [
        {
          "output_type": "execute_result",
          "data": {
            "text/html": [
              "<div>\n",
              "<style scoped>\n",
              "    .dataframe tbody tr th:only-of-type {\n",
              "        vertical-align: middle;\n",
              "    }\n",
              "\n",
              "    .dataframe tbody tr th {\n",
              "        vertical-align: top;\n",
              "    }\n",
              "\n",
              "    .dataframe thead th {\n",
              "        text-align: right;\n",
              "    }\n",
              "</style>\n",
              "<table border=\"1\" class=\"dataframe\">\n",
              "  <thead>\n",
              "    <tr style=\"text-align: right;\">\n",
              "      <th></th>\n",
              "      <th>population</th>\n",
              "      <th>area</th>\n",
              "    </tr>\n",
              "  </thead>\n",
              "  <tbody>\n",
              "    <tr>\n",
              "      <th>California</th>\n",
              "      <td>38332521</td>\n",
              "      <td>423967</td>\n",
              "    </tr>\n",
              "    <tr>\n",
              "      <th>Texas</th>\n",
              "      <td>26448193</td>\n",
              "      <td>695662</td>\n",
              "    </tr>\n",
              "    <tr>\n",
              "      <th>New York</th>\n",
              "      <td>19651127</td>\n",
              "      <td>141297</td>\n",
              "    </tr>\n",
              "    <tr>\n",
              "      <th>Florida</th>\n",
              "      <td>19552860</td>\n",
              "      <td>170312</td>\n",
              "    </tr>\n",
              "    <tr>\n",
              "      <th>Illinois</th>\n",
              "      <td>12882135</td>\n",
              "      <td>149995</td>\n",
              "    </tr>\n",
              "  </tbody>\n",
              "</table>\n",
              "</div>"
            ],
            "text/plain": [
              "            population    area\n",
              "California    38332521  423967\n",
              "Texas         26448193  695662\n",
              "New York      19651127  141297\n",
              "Florida       19552860  170312\n",
              "Illinois      12882135  149995"
            ]
          },
          "metadata": {
            "tags": []
          },
          "execution_count": 60
        }
      ]
    },
    {
      "cell_type": "markdown",
      "metadata": {
        "id": "TxCXlo6q6nEB"
      },
      "source": [
        "# O objeto `Index`"
      ]
    },
    {
      "cell_type": "markdown",
      "metadata": {
        "id": "0fAzsgRq6nEC"
      },
      "source": [
        "#### Um [`Index`](https://towardsdatascience.com/pandas-index-explained-b131beaf6f7b) pode ser pensado como um _arranjo imutável_ ou como um conjunto ordenado. Para ilustrar as implicações deste ponto, vamos pensar sobre o exemplo a seguir, no qual construímos um `index` a partir de uma lista de inteiros.\n",
        "\n",
        "#### Os `DataFrames` têm um [`Index`](https://www.geeksforgeeks.org/dealing-with-rows-and-columns-in-pandas-dataframe/) que descreve as linhas e outro que descreve as colunas. O `Index` das linhas é acessado com `df.index` e o de colunas, com `df.columns`. "
      ]
    },
    {
      "cell_type": "markdown",
      "metadata": {
        "id": "da7qk18A6nEC"
      },
      "source": [
        "#### Vamos aplicar à lista literal a seguir o método [pd.Index](https://pandas.pydata.org/pandas-docs/stable/reference/api/pandas.Index.html#pandas-index), que cria um arranjo `ndarray` ordenado e fatiável (sliceable), o objeto básico que armazena rótulos de eixo para todos os objetos pandas."
      ]
    },
    {
      "cell_type": "code",
      "metadata": {
        "id": "At54eylo6nED",
        "outputId": "69dd2de0-e18d-4aea-dab9-523d0b26f961",
        "colab": {
          "base_uri": "https://localhost:8080/"
        }
      },
      "source": [
        "ind = pd.Index([2, 3, 5, 7, 11])\n",
        "print(type(ind))\n",
        "print(ind)"
      ],
      "execution_count": 62,
      "outputs": [
        {
          "output_type": "stream",
          "text": [
            "<class 'pandas.core.indexes.numeric.Int64Index'>\n",
            "Int64Index([2, 3, 5, 7, 11], dtype='int64')\n"
          ],
          "name": "stdout"
        }
      ]
    },
    {
      "cell_type": "markdown",
      "metadata": {
        "id": "_DHSo9ME6nEH"
      },
      "source": [
        "## `Index` como um arranjo imutável.\n",
        "\n",
        "#### Podemos indexar e fazer `slicing` de forma semelhante a um arranjo."
      ]
    },
    {
      "cell_type": "code",
      "metadata": {
        "id": "SVw_xqaC6nEI",
        "outputId": "56a6a3a0-7d81-4d0a-ebd3-3fe98985fb5c",
        "colab": {
          "base_uri": "https://localhost:8080/"
        }
      },
      "source": [
        "ind[1]"
      ],
      "execution_count": 63,
      "outputs": [
        {
          "output_type": "execute_result",
          "data": {
            "text/plain": [
              "3"
            ]
          },
          "metadata": {
            "tags": []
          },
          "execution_count": 63
        }
      ]
    },
    {
      "cell_type": "markdown",
      "metadata": {
        "id": "RQiKCthI6nEM"
      },
      "source": [
        "#### Contagens invertidas também são permitidas."
      ]
    },
    {
      "cell_type": "code",
      "metadata": {
        "id": "MjuMZdAb6nEM",
        "outputId": "4c51d292-ba6b-4d18-ca05-6f75ccb43dc9",
        "colab": {
          "base_uri": "https://localhost:8080/"
        }
      },
      "source": [
        "print(ind[2])\n",
        "print(ind[-2])"
      ],
      "execution_count": 64,
      "outputs": [
        {
          "output_type": "stream",
          "text": [
            "5\n",
            "7\n"
          ],
          "name": "stdout"
        }
      ]
    },
    {
      "cell_type": "markdown",
      "metadata": {
        "id": "Q_-Nj4cp6nEP"
      },
      "source": [
        "#### Os [`Index`](https://pandas.pydata.org/pandas-docs/stable/reference/indexing.html) têm [atributos](https://pandas.pydata.org/pandas-docs/version/0.23.4/generated/pandas.Index.html) semelhantes aos arranjos de `Numpy`."
      ]
    },
    {
      "cell_type": "code",
      "metadata": {
        "id": "wSDCUdFj6nEP",
        "outputId": "aefe5801-4345-4fef-de0a-e85b733229c2",
        "colab": {
          "base_uri": "https://localhost:8080/"
        }
      },
      "source": [
        "print(ind.size, \n",
        "      ind.shape, \n",
        "      ind.ndim, \n",
        "      ind.dtype\n",
        "     )"
      ],
      "execution_count": 65,
      "outputs": [
        {
          "output_type": "stream",
          "text": [
            "5 (5,) 1 int64\n"
          ],
          "name": "stdout"
        }
      ]
    },
    {
      "cell_type": "code",
      "metadata": {
        "id": "30AulZsO6nES",
        "outputId": "03b5d74f-4458-46e5-e99a-9037f914843b",
        "colab": {
          "base_uri": "https://localhost:8080/"
        }
      },
      "source": [
        "states.dtypes"
      ],
      "execution_count": 66,
      "outputs": [
        {
          "output_type": "execute_result",
          "data": {
            "text/plain": [
              "population    int64\n",
              "area          int64\n",
              "dtype: object"
            ]
          },
          "metadata": {
            "tags": []
          },
          "execution_count": 66
        }
      ]
    },
    {
      "cell_type": "markdown",
      "metadata": {
        "id": "DyvyFxcP6nEU"
      },
      "source": [
        "#### Uma diferença entre os ``Index`` e os arranjos de `NumPy` é que os primeiros são imutáveis."
      ]
    },
    {
      "cell_type": "code",
      "metadata": {
        "id": "K3zks3736nEV",
        "outputId": "997db074-4d8d-485d-e05f-673d99de8da1",
        "colab": {
          "base_uri": "https://localhost:8080/",
          "height": 282
        }
      },
      "source": [
        "ind[1] = 0"
      ],
      "execution_count": 67,
      "outputs": [
        {
          "output_type": "error",
          "ename": "TypeError",
          "evalue": "ignored",
          "traceback": [
            "\u001b[0;31m---------------------------------------------------------------------------\u001b[0m",
            "\u001b[0;31mTypeError\u001b[0m                                 Traceback (most recent call last)",
            "\u001b[0;32m<ipython-input-67-906a9fa1424c>\u001b[0m in \u001b[0;36m<module>\u001b[0;34m()\u001b[0m\n\u001b[0;32m----> 1\u001b[0;31m \u001b[0mind\u001b[0m\u001b[0;34m[\u001b[0m\u001b[0;36m1\u001b[0m\u001b[0;34m]\u001b[0m \u001b[0;34m=\u001b[0m \u001b[0;36m0\u001b[0m\u001b[0;34m\u001b[0m\u001b[0;34m\u001b[0m\u001b[0m\n\u001b[0m",
            "\u001b[0;32m/usr/local/lib/python3.6/dist-packages/pandas/core/indexes/base.py\u001b[0m in \u001b[0;36m__setitem__\u001b[0;34m(self, key, value)\u001b[0m\n\u001b[1;32m   4079\u001b[0m \u001b[0;34m\u001b[0m\u001b[0m\n\u001b[1;32m   4080\u001b[0m     \u001b[0;32mdef\u001b[0m \u001b[0m__setitem__\u001b[0m\u001b[0;34m(\u001b[0m\u001b[0mself\u001b[0m\u001b[0;34m,\u001b[0m \u001b[0mkey\u001b[0m\u001b[0;34m,\u001b[0m \u001b[0mvalue\u001b[0m\u001b[0;34m)\u001b[0m\u001b[0;34m:\u001b[0m\u001b[0;34m\u001b[0m\u001b[0;34m\u001b[0m\u001b[0m\n\u001b[0;32m-> 4081\u001b[0;31m         \u001b[0;32mraise\u001b[0m \u001b[0mTypeError\u001b[0m\u001b[0;34m(\u001b[0m\u001b[0;34m\"Index does not support mutable operations\"\u001b[0m\u001b[0;34m)\u001b[0m\u001b[0;34m\u001b[0m\u001b[0;34m\u001b[0m\u001b[0m\n\u001b[0m\u001b[1;32m   4082\u001b[0m \u001b[0;34m\u001b[0m\u001b[0m\n\u001b[1;32m   4083\u001b[0m     \u001b[0;32mdef\u001b[0m \u001b[0m__getitem__\u001b[0m\u001b[0;34m(\u001b[0m\u001b[0mself\u001b[0m\u001b[0;34m,\u001b[0m \u001b[0mkey\u001b[0m\u001b[0;34m)\u001b[0m\u001b[0;34m:\u001b[0m\u001b[0;34m\u001b[0m\u001b[0;34m\u001b[0m\u001b[0m\n",
            "\u001b[0;31mTypeError\u001b[0m: Index does not support mutable operations"
          ]
        }
      ]
    },
    {
      "cell_type": "markdown",
      "metadata": {
        "id": "gD2nw2wZ6nEX"
      },
      "source": [
        "## `Index` como um conjunto ordenado.\n",
        "\n",
        "#### Seguindo as convenções de `Python`, operações de conjuntos podem ser usadas com os `Index`."
      ]
    },
    {
      "cell_type": "code",
      "metadata": {
        "id": "omEA3gLi6nEY"
      },
      "source": [
        "indA = pd.Index([1, 3, 5, 7, 9])\n",
        "indB = pd.Index([2, 3, 5, 7, 11])"
      ],
      "execution_count": 68,
      "outputs": []
    },
    {
      "cell_type": "markdown",
      "metadata": {
        "id": "JVS3q2eQ6nEb"
      },
      "source": [
        "## Operações de index\n",
        "\n",
        "#### Intersecção, ou operação condicional `and` ($\\&$)."
      ]
    },
    {
      "cell_type": "code",
      "metadata": {
        "id": "yGV8kR_r6nEb",
        "outputId": "9aa8fb9c-8720-4a2a-da43-f2e91fc06d8f",
        "colab": {
          "base_uri": "https://localhost:8080/"
        }
      },
      "source": [
        "indA & indB"
      ],
      "execution_count": 69,
      "outputs": [
        {
          "output_type": "execute_result",
          "data": {
            "text/plain": [
              "Int64Index([3, 5, 7], dtype='int64')"
            ]
          },
          "metadata": {
            "tags": []
          },
          "execution_count": 69
        }
      ]
    },
    {
      "cell_type": "markdown",
      "metadata": {
        "id": "Njdiqa6k6nEh"
      },
      "source": [
        "#### União, ou operação condicional `or`($|$))"
      ]
    },
    {
      "cell_type": "code",
      "metadata": {
        "id": "M2WJmcpU6nEh",
        "outputId": "89c27a51-338c-413a-b3e9-ce037f704a54",
        "colab": {
          "base_uri": "https://localhost:8080/"
        }
      },
      "source": [
        "indA | indB"
      ],
      "execution_count": 70,
      "outputs": [
        {
          "output_type": "execute_result",
          "data": {
            "text/plain": [
              "Int64Index([1, 2, 3, 5, 7, 9, 11], dtype='int64')"
            ]
          },
          "metadata": {
            "tags": []
          },
          "execution_count": 70
        }
      ]
    },
    {
      "cell_type": "markdown",
      "metadata": {
        "id": "I6vMTTLQ6nEk"
      },
      "source": [
        "#### Diferença Simétrica, ou operação condicional `xor` (^)"
      ]
    },
    {
      "cell_type": "code",
      "metadata": {
        "id": "ElJXJbff6nEl",
        "outputId": "8c04e78b-5177-4f29-830c-3478345d6b6c",
        "colab": {
          "base_uri": "https://localhost:8080/"
        }
      },
      "source": [
        "indA ^ indB"
      ],
      "execution_count": 71,
      "outputs": [
        {
          "output_type": "execute_result",
          "data": {
            "text/plain": [
              "Int64Index([1, 2, 9, 11], dtype='int64')"
            ]
          },
          "metadata": {
            "tags": []
          },
          "execution_count": 71
        }
      ]
    },
    {
      "cell_type": "markdown",
      "metadata": {
        "id": "fLvx6yNz6nEn"
      },
      "source": [
        "### Operações Lógicas\n",
        "<img src='./operacoes_logicas.png'>"
      ]
    },
    {
      "cell_type": "code",
      "metadata": {
        "id": "2Vw1_Cu-6nEo"
      },
      "source": [
        ""
      ],
      "execution_count": null,
      "outputs": []
    },
    {
      "cell_type": "code",
      "metadata": {
        "id": "jXFjcLg36nEr"
      },
      "source": [
        ""
      ],
      "execution_count": null,
      "outputs": []
    },
    {
      "cell_type": "code",
      "metadata": {
        "id": "nNDfepFB6nEu"
      },
      "source": [
        ""
      ],
      "execution_count": null,
      "outputs": []
    }
  ]
}