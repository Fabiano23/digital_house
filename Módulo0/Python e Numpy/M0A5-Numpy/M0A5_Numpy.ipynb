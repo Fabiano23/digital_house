{
  "nbformat": 4,
  "nbformat_minor": 0,
  "metadata": {
    "kernelspec": {
      "display_name": "Python 3",
      "language": "python",
      "name": "python3"
    },
    "language_info": {
      "codemirror_mode": {
        "name": "ipython",
        "version": 3
      },
      "file_extension": ".py",
      "mimetype": "text/x-python",
      "name": "python",
      "nbconvert_exporter": "python",
      "pygments_lexer": "ipython3",
      "version": "3.7.6"
    },
    "colab": {
      "name": "M0A5-Numpy.ipynb",
      "provenance": [],
      "collapsed_sections": [
        "1n8Fqi1Y4UXU",
        "F13joV9N4UYb",
        "5SPwPkTz4UZE",
        "l6rJnkyZ4UZm",
        "EvSTPlBc4Uae",
        "V_2lV6AZ4UbJ"
      ]
    }
  },
  "cells": [
    {
      "cell_type": "markdown",
      "metadata": {
        "id": "Bq4NlP4h4UWb"
      },
      "source": [
        "# Manipulação de arranjos com Numpy"
      ]
    },
    {
      "cell_type": "markdown",
      "metadata": {
        "id": "RKA6hu2k4UWd"
      },
      "source": [
        "### 1- arranjos no Numpy"
      ]
    },
    {
      "cell_type": "markdown",
      "metadata": {
        "id": "s6sN2hp04UWf"
      },
      "source": [
        "#### Ao contrário das listas do Python, quando criamos um array no [Numpy](https://medium.com/ensina-ai/entendendo-a-biblioteca-numpy-4858fde63355), existe uma restrição de que todos os elementos devem ser do mesmo tipo. Isto faz com que os arrajos do numpy sejam mais eficientes."
      ]
    },
    {
      "cell_type": "markdown",
      "metadata": {
        "id": "S4J4Imk04UWh"
      },
      "source": [
        "#### Vamos começar importando o pacote numpy."
      ]
    },
    {
      "cell_type": "code",
      "metadata": {
        "id": "cWXLJgFk4UWp"
      },
      "source": [
        "import numpy as np"
      ],
      "execution_count": null,
      "outputs": []
    },
    {
      "cell_type": "markdown",
      "metadata": {
        "id": "APSGmZAU4UWv"
      },
      "source": [
        "#### Construímos uma Lista e checamos que se trata de arranjos de inteiros instanciados a partir da lista."
      ]
    },
    {
      "cell_type": "code",
      "metadata": {
        "id": "TtVINfXM4UWw",
        "outputId": "9c4d14c0-6043-4fc8-a6f1-0e5c7952aeb9",
        "colab": {
          "base_uri": "https://localhost:8080/"
        }
      },
      "source": [
        "l = [1, 4, 2, 5, 3]\n",
        "np.array(l)"
      ],
      "execution_count": null,
      "outputs": [
        {
          "output_type": "execute_result",
          "data": {
            "text/plain": [
              "array([1, 4, 2, 5, 3])"
            ]
          },
          "metadata": {
            "tags": []
          },
          "execution_count": 2
        }
      ]
    },
    {
      "cell_type": "markdown",
      "metadata": {
        "id": "b2RiVfz94UW6"
      },
      "source": [
        "#### Podemos também instanciar um arranjo a partir de uma lista literal de inteiros. O atributo [`.dtype`](https://numpy.org/doc/stable/reference/arranjos.dtypes.html) informa o tipo do elemento contido no arranjo."
      ]
    },
    {
      "cell_type": "code",
      "metadata": {
        "id": "vvs2T0vr4UW7",
        "outputId": "b2658766-dd67-406a-b551-7f0cb3d7bdf5",
        "colab": {
          "base_uri": "https://localhost:8080/"
        }
      },
      "source": [
        "a = np.array([1, 4, 2, 5, 3])\n",
        "\n",
        "a.dtype"
      ],
      "execution_count": null,
      "outputs": [
        {
          "output_type": "execute_result",
          "data": {
            "text/plain": [
              "dtype('int64')"
            ]
          },
          "metadata": {
            "tags": []
          },
          "execution_count": 4
        }
      ]
    },
    {
      "cell_type": "markdown",
      "metadata": {
        "id": "XsLv6FMe4UXA"
      },
      "source": [
        "#### Se a lista do python contiver `integers` e `floats`, o arranjo do Numpy transforma tudo em `float` para uniformização dos tipos. "
      ]
    },
    {
      "cell_type": "code",
      "metadata": {
        "id": "acRSqVB74UXB",
        "outputId": "8911bb18-4142-4a55-cae4-ae9e6c1c95da",
        "colab": {
          "base_uri": "https://localhost:8080/"
        }
      },
      "source": [
        "py_list = [3.14, 4, 2, 3]\n",
        "b = np.array(py_list)\n",
        "b.dtype"
      ],
      "execution_count": null,
      "outputs": [
        {
          "output_type": "execute_result",
          "data": {
            "text/plain": [
              "dtype('float64')"
            ]
          },
          "metadata": {
            "tags": []
          },
          "execution_count": 5
        }
      ]
    },
    {
      "cell_type": "markdown",
      "metadata": {
        "id": "I7aaWlQg4UXG"
      },
      "source": [
        "#### Podemos checar o tipo dos dados."
      ]
    },
    {
      "cell_type": "code",
      "metadata": {
        "id": "J1RnDrxE4UXH",
        "outputId": "863ebe3d-bab9-47c1-ac75-6c6d153e3348"
      },
      "source": [
        "np.array(py_list).dtype"
      ],
      "execution_count": null,
      "outputs": [
        {
          "output_type": "execute_result",
          "data": {
            "text/plain": [
              "dtype('float64')"
            ]
          },
          "metadata": {
            "tags": []
          },
          "execution_count": 17
        }
      ]
    },
    {
      "cell_type": "markdown",
      "metadata": {
        "id": "qC9bUqmu4UXN"
      },
      "source": [
        "#### Podemos também tornar a lista em um arranjo."
      ]
    },
    {
      "cell_type": "code",
      "metadata": {
        "id": "1B4sd-d-4UXO",
        "outputId": "94e7639b-23cf-492b-edff-b26ca69b8c71",
        "colab": {
          "base_uri": "https://localhost:8080/"
        }
      },
      "source": [
        "py_list\n",
        "np.array(py_list)"
      ],
      "execution_count": null,
      "outputs": [
        {
          "output_type": "execute_result",
          "data": {
            "text/plain": [
              "array([3.14, 4.  , 2.  , 3.  ])"
            ]
          },
          "metadata": {
            "tags": []
          },
          "execution_count": 6
        }
      ]
    },
    {
      "cell_type": "markdown",
      "metadata": {
        "id": "1n8Fqi1Y4UXU"
      },
      "source": [
        "#### Para criar arranjos específicos, o mais eficiente é fazer isso com os métodos próprios do Numpy. \n",
        "\n",
        "#### É possível criar arranjos de zeros, de uns, de uma seqüência, de valores aleatórios ou de valores com uma certa distribuição estatística, como por exemplo, a distribuição normal.\n",
        "\n",
        "#### Criar um arranjo de zeros:"
      ]
    },
    {
      "cell_type": "code",
      "metadata": {
        "id": "J1fiPxj24UXV",
        "outputId": "424423f7-4b85-4054-f804-bac22825b4a2",
        "colab": {
          "base_uri": "https://localhost:8080/"
        }
      },
      "source": [
        "# Criar um array de longitude 10 cheio de zeros\n",
        "np.zeros(10, dtype = int)"
      ],
      "execution_count": null,
      "outputs": [
        {
          "output_type": "execute_result",
          "data": {
            "text/plain": [
              "array([0, 0, 0, 0, 0, 0, 0, 0, 0, 0])"
            ]
          },
          "metadata": {
            "tags": []
          },
          "execution_count": 9
        }
      ]
    },
    {
      "cell_type": "markdown",
      "metadata": {
        "id": "IS1F6BCJ4UXZ"
      },
      "source": [
        "#### Podemos Inicializar um arranjo vazio [`empty`](https://docs.scipy.org/doc/numpy/reference/generated/numpy.empty.html#numpy-empty), que aloca um espaço na memória mas não a inicializa."
      ]
    },
    {
      "cell_type": "code",
      "metadata": {
        "id": "U-ZPM9jl4UXa",
        "outputId": "ba1e7800-eb5f-4b69-a766-17819784b4af",
        "colab": {
          "base_uri": "https://localhost:8080/"
        }
      },
      "source": [
        "my_array = np.empty([2, 2, 2])\n",
        "my_array"
      ],
      "execution_count": null,
      "outputs": [
        {
          "output_type": "execute_result",
          "data": {
            "text/plain": [
              "array([[[2.33036141e-316, 2.48273508e-312],\n",
              "        [8.48798317e-313, 2.41907520e-312]],\n",
              "\n",
              "       [[2.31297541e-312, 2.46151512e-312],\n",
              "        [4.81378533e-038, 2.25945149e-231]]])"
            ]
          },
          "metadata": {
            "tags": []
          },
          "execution_count": 10
        }
      ]
    },
    {
      "cell_type": "markdown",
      "metadata": {
        "id": "CHd4nZxx4UXg"
      },
      "source": [
        "#### Podemos também criar um Array que contenha números com [distribuição normal](https://numpy.org/doc/stable/reference/random/generated/numpy.random.normal.html?highlight=random%20normal#numpy.random.normal). \n",
        "\n",
        "\n",
        "#### Pode-se inicializar um array de números com distribuição normal, em que o primeiro parâmetro é a média da  distribuição, o segundo parâmetro é o desvio padrão e o terceiro parâmetro é o número de observações."
      ]
    },
    {
      "cell_type": "code",
      "metadata": {
        "id": "wGxyOUCh4UXh"
      },
      "source": [
        "norm = np.random.normal(loc = 0, scale = 1, size = 12)\n",
        "#norm = np.random.normal(0, 1, 12)"
      ],
      "execution_count": null,
      "outputs": []
    },
    {
      "cell_type": "code",
      "metadata": {
        "id": "448adW3n4UXm",
        "outputId": "1b449e00-53a3-4378-c197-6752f955d216",
        "colab": {
          "base_uri": "https://localhost:8080/"
        }
      },
      "source": [
        "norm"
      ],
      "execution_count": null,
      "outputs": [
        {
          "output_type": "execute_result",
          "data": {
            "text/plain": [
              "array([-1.14915874,  1.53567607,  1.15404564, -1.0620932 ,  0.68500353,\n",
              "        2.15808031,  0.12036999,  1.31895669,  0.0142936 , -0.57243788,\n",
              "       -0.8011108 ,  0.87371595])"
            ]
          },
          "metadata": {
            "tags": []
          },
          "execution_count": 12
        }
      ]
    },
    {
      "cell_type": "markdown",
      "metadata": {
        "id": "CIbn6dxt4UXv"
      },
      "source": [
        "#### Também pode-se criar uma distribuição normal aleatória [`.random.normal()`](https://docs.scipy.org/doc/numpy-1.15.0/reference/generated/numpy.random.normal.html) e atribuí-la a uma matriz de dimensão $n \\times m$."
      ]
    },
    {
      "cell_type": "code",
      "metadata": {
        "id": "xqmR2v944UXx",
        "outputId": "c6e7064f-e916-480e-f8a3-0fa5f05a8454",
        "colab": {
          "base_uri": "https://localhost:8080/"
        }
      },
      "source": [
        "norm = np.random.normal(loc = 0, scale = 1, size = (3,4))\n",
        "norm"
      ],
      "execution_count": null,
      "outputs": [
        {
          "output_type": "execute_result",
          "data": {
            "text/plain": [
              "array([[-0.44862943, -0.68709349, -0.41022364, -0.86932972],\n",
              "       [ 0.05151591, -0.51927206,  0.67431907,  1.35200197],\n",
              "       [-2.02983901, -0.28590177, -1.15114645,  1.09241547]])"
            ]
          },
          "metadata": {
            "tags": []
          },
          "execution_count": 13
        }
      ]
    },
    {
      "cell_type": "markdown",
      "metadata": {
        "id": "Z5wyUFPb4UX1"
      },
      "source": [
        "#### Opcionalmente, pode-se usar o método [`.random.seed()`](https://numpy.org/doc/stable/reference/random/generated/numpy.random.seed.html?highlight=random%20seed#numpy.random.seed) para que as escolhas aleatórias sejam reproduzíveis."
      ]
    },
    {
      "cell_type": "code",
      "metadata": {
        "id": "-GoYkJ4L4UX2",
        "outputId": "c07f8f62-a130-41d8-836e-572dd4e488ad",
        "colab": {
          "base_uri": "https://localhost:8080/"
        }
      },
      "source": [
        "np.random.seed(0) \n",
        "norm = np.random.normal(loc = 0, scale = 1, size = (3,4))\n",
        "norm"
      ],
      "execution_count": null,
      "outputs": [
        {
          "output_type": "execute_result",
          "data": {
            "text/plain": [
              "array([[ 1.76405235,  0.40015721,  0.97873798,  2.2408932 ],\n",
              "       [ 1.86755799, -0.97727788,  0.95008842, -0.15135721],\n",
              "       [-0.10321885,  0.4105985 ,  0.14404357,  1.45427351]])"
            ]
          },
          "metadata": {
            "tags": []
          },
          "execution_count": 17
        }
      ]
    },
    {
      "cell_type": "markdown",
      "metadata": {
        "id": "MP19Oxsa4UX7"
      },
      "source": [
        "### 2 - Atributos de um arranjo."
      ]
    },
    {
      "cell_type": "markdown",
      "metadata": {
        "id": "1zG51UnB4UX8"
      },
      "source": [
        "#### Um arranjo de $3$ dimensões com valores aleatórios entre $0$ e $9$ [`.random.randint()`](https://numpy.org/doc/stable/reference/random/generated/numpy.random.randint.html?highlight=random%20randint#numpy-random-randint)."
      ]
    },
    {
      "cell_type": "code",
      "metadata": {
        "id": "8TrdYFUL4UX8",
        "outputId": "ded43234-09a1-4b16-adbb-05e9ff698572",
        "colab": {
          "base_uri": "https://localhost:8080/"
        }
      },
      "source": [
        "x3 = np.random.randint(low = 10,  size = (3, 4, 5))  \n",
        "#x3 = np.random.randint(low = 10, high = 13,  size = (3, 4, 5))  \n",
        "print (x3)"
      ],
      "execution_count": null,
      "outputs": [
        {
          "output_type": "stream",
          "text": [
            "[[[3 8 8 8 2]\n",
            "  [3 2 0 8 8]\n",
            "  [3 8 2 8 4]\n",
            "  [3 0 4 3 6]]\n",
            "\n",
            " [[9 8 0 8 5]\n",
            "  [9 0 9 6 5]\n",
            "  [3 1 8 0 4]\n",
            "  [9 6 5 7 8]]\n",
            "\n",
            " [[8 9 2 8 6]\n",
            "  [6 9 1 6 8]\n",
            "  [8 3 2 3 6]\n",
            "  [3 6 5 7 0]]]\n"
          ],
          "name": "stdout"
        }
      ]
    },
    {
      "cell_type": "markdown",
      "metadata": {
        "id": "GaDQUlhJ4UYB"
      },
      "source": [
        "#### Podemos imprimir o número de dimensões, a forma, o número de elementos, os tipos de elementos, o tamanho de cada elemento e o tamanho total do arranjo."
      ]
    },
    {
      "cell_type": "code",
      "metadata": {
        "id": "65rBtw8p4UYC",
        "outputId": "5dfe38f9-069c-4314-d901-f95d2b771349",
        "colab": {
          "base_uri": "https://localhost:8080/"
        }
      },
      "source": [
        "# O número de dimensões do arranjo\n",
        "print(\"x3 ndim: \", x3.ndim)\n",
        "\n",
        "# A forma do arranjo\n",
        "print(\"x3 shape:\", x3.shape)\n",
        "\n",
        "# O número de elementos do arranjo\n",
        "print(\"x3 size: \", x3.size)\n",
        "\n",
        "# Os tipos dos elementos do arranjo\n",
        "print(\"dtype:\", x3.dtype)\n",
        "\n",
        "# O tamanho de cada elemento do array. Depende do tipo de dados.  \n",
        "print(\"itemsize:\", x3.itemsize, \"bytes\") \n",
        "\n",
        "# O tamanho de todo o array. É calculado desta forma: itemsize * size\n",
        "print(\"nbytes:\", x3.nbytes, \"bytes\") "
      ],
      "execution_count": null,
      "outputs": [
        {
          "output_type": "stream",
          "text": [
            "x3 ndim:  3\n",
            "x3 shape: (3, 4, 5)\n",
            "x3 size:  60\n",
            "dtype: int64\n",
            "itemsize: 8 bytes\n",
            "nbytes: 480 bytes\n"
          ],
          "name": "stdout"
        }
      ]
    },
    {
      "cell_type": "markdown",
      "metadata": {
        "id": "xm5QyJIc4UYG"
      },
      "source": [
        "### 3- Seleção de elementos de um Arranjo.\n",
        "\n",
        "#### É um problema comum querer selecionar os elementos de um arranjo de acordo com algum critério. O Numpy nos oferece três formas de [acessar](https://numpy.org/devdocs/reference/arrays.indexing.html#indexing) <b> de forma eficiente </b> os elementos de um arranjo:\n",
        "* [Array Slicing](https://numpy.org/doc/stable/reference/arrays.indexing.html)\n",
        "* [Fancy Indexing](https://jakevdp.github.io/PythonDataScienceHandbook/02.07-fancy-indexing.html)\n",
        "* [Boolean Indexing](https://numpy.org/devdocs/reference/arrays.indexing.html#boolean-array-indexing)"
      ]
    },
    {
      "cell_type": "markdown",
      "metadata": {
        "id": "fG2DHj8v4UYH"
      },
      "source": [
        "### 3 -1 Array Slicing.\n",
        "\n",
        "#### [Slicing](https://medium.com/python-features/slicing-tricks-lists-str-bytes-6db10066bd23) sobre uma dimensão:  \n",
        "\n",
        "#### O [slicing](https://medium.com/@buch.willi/numpys-indexing-and-slicing-notation-explained-visually-67dc981c22c1) é similar ao das listas do python `[ start : stop : step ]`. \n",
        "\n",
        "#### O índice `stop` não é incluído, mas o `start` é incluído.  Por exemplo, `[1:3]` inclui o índice $1$ mas não o $3$. Funciona como um intervalo semifechado `[a, b)`.\n"
      ]
    },
    {
      "cell_type": "markdown",
      "metadata": {
        "id": "kY7QwlyG4UYI"
      },
      "source": [
        "#### Criamos um arranjo de uma dimensão, usando a função [`np.arange()`](https://numpy.org/doc/stable/reference/generated/numpy.arange.html)."
      ]
    },
    {
      "cell_type": "code",
      "metadata": {
        "id": "g8W5biBq4UYI",
        "outputId": "67f931d2-6731-4570-a298-e8b28b1445ba",
        "colab": {
          "base_uri": "https://localhost:8080/"
        }
      },
      "source": [
        "one_d_array = np.arange(10)\n",
        "one_d_array"
      ],
      "execution_count": null,
      "outputs": [
        {
          "output_type": "execute_result",
          "data": {
            "text/plain": [
              "array([0, 1, 2, 3, 4, 5, 6, 7, 8, 9])"
            ]
          },
          "metadata": {
            "tags": []
          },
          "execution_count": 22
        }
      ]
    },
    {
      "cell_type": "markdown",
      "metadata": {
        "id": "r4OW7Kif4UYN"
      },
      "source": [
        "- Start = 1: Começamos pelo segundo elemento\n",
        "- Stop: Não está definido, então chegamos até o final.\n",
        "- Step: O passo ou distância entre os elementos que será assumida."
      ]
    },
    {
      "cell_type": "code",
      "metadata": {
        "id": "AsFxw7X44UYO",
        "outputId": "fe5eaf28-9a9a-447a-9d04-336445163f9c",
        "colab": {
          "base_uri": "https://localhost:8080/"
        }
      },
      "source": [
        "one_d_array[1::2]  "
      ],
      "execution_count": null,
      "outputs": [
        {
          "output_type": "execute_result",
          "data": {
            "text/plain": [
              "array([1, 3, 5, 7, 9])"
            ]
          },
          "metadata": {
            "tags": []
          },
          "execution_count": 23
        }
      ]
    },
    {
      "cell_type": "markdown",
      "metadata": {
        "id": "18CbrEUN4UYS"
      },
      "source": [
        "#### Para inverter a ordem do arranjo, podemos usar `Step = -1`."
      ]
    },
    {
      "cell_type": "code",
      "metadata": {
        "id": "nCWC_Rwu4UYS",
        "outputId": "39a62252-577a-4a9f-9789-638f0cd7739f",
        "colab": {
          "base_uri": "https://localhost:8080/"
        }
      },
      "source": [
        "one_d_array[::-1]"
      ],
      "execution_count": null,
      "outputs": [
        {
          "output_type": "execute_result",
          "data": {
            "text/plain": [
              "array([9, 8, 7, 6, 5, 4, 3, 2, 1, 0])"
            ]
          },
          "metadata": {
            "tags": []
          },
          "execution_count": 24
        }
      ]
    },
    {
      "cell_type": "markdown",
      "metadata": {
        "id": "j1pgWu5z4UYX"
      },
      "source": [
        "#### Se quisermos fazer `slicing` em [ordem invertida](https://www.askpython.com/python/array/reverse-an-array-in-python)."
      ]
    },
    {
      "cell_type": "code",
      "metadata": {
        "id": "vDKT2Xbm4UYX",
        "outputId": "f16447d0-77e1-48aa-d66f-a80432fbc47d",
        "colab": {
          "base_uri": "https://localhost:8080/"
        }
      },
      "source": [
        "one_d_array[9:2:-2]"
      ],
      "execution_count": null,
      "outputs": [
        {
          "output_type": "execute_result",
          "data": {
            "text/plain": [
              "array([9, 7, 5, 3])"
            ]
          },
          "metadata": {
            "tags": []
          },
          "execution_count": 30
        }
      ]
    },
    {
      "cell_type": "markdown",
      "metadata": {
        "id": "F13joV9N4UYb"
      },
      "source": [
        "#### `Slicing` sobre arranjos de [mais dimensões](https://www.pythoninformer.com/python-libraries/numpy/index-and-slice/):"
      ]
    },
    {
      "cell_type": "markdown",
      "metadata": {
        "id": "lTwMg8gM4UYc"
      },
      "source": [
        "#### Com a mesma lógica, é possível selecionar em duas dimensões."
      ]
    },
    {
      "cell_type": "code",
      "metadata": {
        "id": "ZbhUUAPC4UYd",
        "outputId": "75233362-fe70-4d77-ac96-27a63da7d7da",
        "colab": {
          "base_uri": "https://localhost:8080/"
        }
      },
      "source": [
        "np.random.seed(0)\n",
        "two_d_array = np.random.randint(10, size = (3, 4))\n",
        "two_d_array"
      ],
      "execution_count": null,
      "outputs": [
        {
          "output_type": "execute_result",
          "data": {
            "text/plain": [
              "array([[5, 0, 3, 3],\n",
              "       [7, 9, 3, 5],\n",
              "       [2, 4, 7, 6]])"
            ]
          },
          "metadata": {
            "tags": []
          },
          "execution_count": 32
        }
      ]
    },
    {
      "cell_type": "markdown",
      "metadata": {
        "id": "pRRXKYMc4UYi"
      },
      "source": [
        "#### Quando temos mais de uma dimensão, podemos fazer slicing em cada uma delas separando-as com uma [vírgula](https://numpy.org/devdocs/user/quickstart.html#indexing-slicing-and-iterating). \n",
        "\n",
        "#### Acessar uma coluna: Aqui os dois pontos `( : )` indicam que acessamos todos os elementos de cada fila e o zero depois da vírgula indica que fazemos isso somente na coluna 0 (a primeira)."
      ]
    },
    {
      "cell_type": "code",
      "metadata": {
        "id": "VfAyzkpy4UYj",
        "outputId": "b0b41f88-45b9-475c-af42-bfbc12177b55",
        "colab": {
          "base_uri": "https://localhost:8080/"
        }
      },
      "source": [
        "two_d_array[:, 0]"
      ],
      "execution_count": null,
      "outputs": [
        {
          "output_type": "execute_result",
          "data": {
            "text/plain": [
              "array([5, 7, 2])"
            ]
          },
          "metadata": {
            "tags": []
          },
          "execution_count": 33
        }
      ]
    },
    {
      "cell_type": "markdown",
      "metadata": {
        "id": "69iqxqNK4UYp"
      },
      "source": [
        "#### Para acessar uma linha usamos o mesmo raciocínio."
      ]
    },
    {
      "cell_type": "code",
      "metadata": {
        "id": "-YdmbN_K4UYq",
        "outputId": "31b423bc-f58d-4b76-ad4e-0e1a8984a0f3",
        "colab": {
          "base_uri": "https://localhost:8080/"
        }
      },
      "source": [
        "print(two_d_array[2, :])\n",
        "print(two_d_array[2, 1:])"
      ],
      "execution_count": null,
      "outputs": [
        {
          "output_type": "stream",
          "text": [
            "[2 4 7 6]\n",
            "[4 7 6]\n"
          ],
          "name": "stdout"
        }
      ]
    },
    {
      "cell_type": "markdown",
      "metadata": {
        "id": "3KPB4rja4UYu"
      },
      "source": [
        "#### Outra forma de acessar uma linha."
      ]
    },
    {
      "cell_type": "code",
      "metadata": {
        "id": "0zOwDmEx4UYu",
        "outputId": "1138a0cd-80d8-4511-d540-da0c3dbe3e58",
        "colab": {
          "base_uri": "https://localhost:8080/"
        }
      },
      "source": [
        "two_d_array[2]"
      ],
      "execution_count": null,
      "outputs": [
        {
          "output_type": "execute_result",
          "data": {
            "text/plain": [
              "array([2, 4, 7, 6])"
            ]
          },
          "metadata": {
            "tags": []
          },
          "execution_count": 35
        }
      ]
    },
    {
      "cell_type": "markdown",
      "metadata": {
        "id": "0iCP4Z5e4UYy"
      },
      "source": [
        "#### Um slice de duas colunas."
      ]
    },
    {
      "cell_type": "code",
      "metadata": {
        "id": "alXCR-kc4UYz",
        "outputId": "5e505047-7c4e-4262-8ebd-a2eff123a85e",
        "colab": {
          "base_uri": "https://localhost:8080/"
        }
      },
      "source": [
        "two_d_array[:, 1:3]"
      ],
      "execution_count": null,
      "outputs": [
        {
          "output_type": "execute_result",
          "data": {
            "text/plain": [
              "array([[0, 3],\n",
              "       [9, 3],\n",
              "       [4, 7]])"
            ]
          },
          "metadata": {
            "tags": []
          },
          "execution_count": 39
        }
      ]
    },
    {
      "cell_type": "markdown",
      "metadata": {
        "id": "c7Yo1C014UY3"
      },
      "source": [
        "#### Para acessar um elemento específico."
      ]
    },
    {
      "cell_type": "code",
      "metadata": {
        "id": "MWUGdWks4UY4",
        "outputId": "8ac05bcd-40b5-461e-a95a-1bc9634838ed",
        "colab": {
          "base_uri": "https://localhost:8080/"
        }
      },
      "source": [
        "two_d_array[1:2, 1:2]"
      ],
      "execution_count": null,
      "outputs": [
        {
          "output_type": "execute_result",
          "data": {
            "text/plain": [
              "array([[9]])"
            ]
          },
          "metadata": {
            "tags": []
          },
          "execution_count": 40
        }
      ]
    },
    {
      "cell_type": "markdown",
      "metadata": {
        "id": "A7tzT80G4UY-"
      },
      "source": [
        "#### Todas as colunas listadas em ordem inversa."
      ]
    },
    {
      "cell_type": "code",
      "metadata": {
        "id": "_VHGvZM29QPa",
        "outputId": "f7ff57c6-0875-4e15-ad47-c8df08fb7257",
        "colab": {
          "base_uri": "https://localhost:8080/"
        }
      },
      "source": [
        "two_d_array"
      ],
      "execution_count": null,
      "outputs": [
        {
          "output_type": "execute_result",
          "data": {
            "text/plain": [
              "array([[5, 0, 3, 3],\n",
              "       [7, 9, 3, 5],\n",
              "       [2, 4, 7, 6]])"
            ]
          },
          "metadata": {
            "tags": []
          },
          "execution_count": 43
        }
      ]
    },
    {
      "cell_type": "code",
      "metadata": {
        "id": "X0dMLT7P4UY_",
        "outputId": "5d510d0d-df46-4ff9-af2a-61aa4e2660fb",
        "colab": {
          "base_uri": "https://localhost:8080/"
        }
      },
      "source": [
        "two_d_array[:, ::-1]"
      ],
      "execution_count": null,
      "outputs": [
        {
          "output_type": "execute_result",
          "data": {
            "text/plain": [
              "array([[3, 3, 0, 5],\n",
              "       [5, 3, 9, 7],\n",
              "       [6, 7, 4, 2]])"
            ]
          },
          "metadata": {
            "tags": []
          },
          "execution_count": 42
        }
      ]
    },
    {
      "cell_type": "markdown",
      "metadata": {
        "id": "5SPwPkTz4UZE"
      },
      "source": [
        "#### 3 - 2 Fancy Indexing.\n",
        "\n",
        "#### Esta [técnica](https://scipy-lectures.org/intro/numpy/array_object.html) consiste em gerar listas que contenham os índices dos elementos que queremos selecionar e utilizá-las para realizar a  indexação."
      ]
    },
    {
      "cell_type": "markdown",
      "metadata": {
        "id": "yZJJDzYl4UZF"
      },
      "source": [
        "#### Instanciamos um [gerador](https://numpy.org/doc/stable/reference/random/legacy.html#numpy.random.RandomState) de números pseudo-aleatórios, usando o método [`.RandomState`](https://docs.scipy.org/doc/numpy-1.15.0/reference/generated/numpy.random.RandomState.html)."
      ]
    },
    {
      "cell_type": "code",
      "metadata": {
        "id": "bd3LMjyS4UZF"
      },
      "source": [
        "rand = np.random.RandomState(42)"
      ],
      "execution_count": null,
      "outputs": []
    },
    {
      "cell_type": "code",
      "metadata": {
        "id": "SgaA5Rfm4UZK",
        "outputId": "17eb6429-b2af-451d-c472-11adfb0e6bcb",
        "colab": {
          "base_uri": "https://localhost:8080/"
        }
      },
      "source": [
        "# Pedimos 10 inteiros entre 0 e 99\n",
        "x = rand.randint(100, size = 10)\n",
        "print(x)"
      ],
      "execution_count": null,
      "outputs": [
        {
          "output_type": "stream",
          "text": [
            "[ 1 63 59 20 32 75 57 21 88 48]\n"
          ],
          "name": "stdout"
        }
      ]
    },
    {
      "cell_type": "markdown",
      "metadata": {
        "id": "BXTQhCp94UZP"
      },
      "source": [
        "#### Podemos alterar a forma do arranjo, dependendo da quantidade de elementos e da forma desejada."
      ]
    },
    {
      "cell_type": "code",
      "metadata": {
        "id": "fxTPAu834UZQ",
        "outputId": "81a6f975-461f-465f-ea85-dffceaae38b1",
        "colab": {
          "base_uri": "https://localhost:8080/"
        }
      },
      "source": [
        "y = rand.randint(100, size = 10)\n",
        "#y = rand.randint(100, size = 12)\n",
        "y = y.reshape((2, 5))\n",
        "#y = y.reshape((3, 4))\n",
        "y"
      ],
      "execution_count": null,
      "outputs": [
        {
          "output_type": "execute_result",
          "data": {
            "text/plain": [
              "array([[90, 58, 41, 91, 59],\n",
              "       [79, 14, 61, 61, 46]])"
            ]
          },
          "metadata": {
            "tags": []
          },
          "execution_count": 50
        }
      ]
    },
    {
      "cell_type": "markdown",
      "metadata": {
        "id": "mLjUDAmY4UZW"
      },
      "source": [
        "#### Pode-se acessar um conjunto de elementos criando uma lista com os índices a se acessar."
      ]
    },
    {
      "cell_type": "code",
      "metadata": {
        "id": "pG96U-jV91BR",
        "outputId": "ab51413d-f727-4739-f4e0-90ffcac4ac72",
        "colab": {
          "base_uri": "https://localhost:8080/"
        }
      },
      "source": [
        "sorted(x)"
      ],
      "execution_count": null,
      "outputs": [
        {
          "output_type": "execute_result",
          "data": {
            "text/plain": [
              "[1, 20, 21, 32, 48, 57, 59, 63, 75, 88]"
            ]
          },
          "metadata": {
            "tags": []
          },
          "execution_count": 56
        }
      ]
    },
    {
      "cell_type": "code",
      "metadata": {
        "id": "5gy1nNe44UZX",
        "outputId": "0327b02b-0d1c-4cce-d82c-e17cc381e45c",
        "colab": {
          "base_uri": "https://localhost:8080/"
        }
      },
      "source": [
        "ind = [3, 7, 4]\n",
        "x[ind]"
      ],
      "execution_count": null,
      "outputs": [
        {
          "output_type": "execute_result",
          "data": {
            "text/plain": [
              "array([32, 63, 48])"
            ]
          },
          "metadata": {
            "tags": []
          },
          "execution_count": 57
        }
      ]
    },
    {
      "cell_type": "markdown",
      "metadata": {
        "id": "bg_eyN7U4UZd"
      },
      "source": [
        "#### Também é possível optar por uma seleção por linha e coluna. Criamos um arranjo de $(3 \\times 4)$."
      ]
    },
    {
      "cell_type": "code",
      "metadata": {
        "id": "Gr1pvFFo4UZe",
        "outputId": "b8d0ea47-5a20-4bc7-b353-7e473b94a028",
        "colab": {
          "base_uri": "https://localhost:8080/"
        }
      },
      "source": [
        "X = np.arange(12).reshape((3, 4))\n",
        "#X = np.arange(12).reshape((4, 3))\n",
        "X"
      ],
      "execution_count": null,
      "outputs": [
        {
          "output_type": "execute_result",
          "data": {
            "text/plain": [
              "array([[ 0,  1,  2,  3],\n",
              "       [ 4,  5,  6,  7],\n",
              "       [ 8,  9, 10, 11]])"
            ]
          },
          "metadata": {
            "tags": []
          },
          "execution_count": 60
        }
      ]
    },
    {
      "cell_type": "markdown",
      "metadata": {
        "id": "HqjK-eth4UZh"
      },
      "source": [
        "#### Um arranjo de índices para acessar linhas determinadas."
      ]
    },
    {
      "cell_type": "code",
      "metadata": {
        "id": "pTnuhNtQ4UZi",
        "outputId": "83d354a2-5f48-4fd1-b2a6-7ae5426846eb",
        "colab": {
          "base_uri": "https://localhost:8080/"
        }
      },
      "source": [
        "row = np.array([0, 2])\n",
        "#row\n",
        "X[row, :]\n",
        "#X[[0, 2], : ]"
      ],
      "execution_count": null,
      "outputs": [
        {
          "output_type": "execute_result",
          "data": {
            "text/plain": [
              "array([[ 0,  1,  2,  3],\n",
              "       [ 8,  9, 10, 11]])"
            ]
          },
          "metadata": {
            "tags": []
          },
          "execution_count": 64
        }
      ]
    },
    {
      "cell_type": "markdown",
      "metadata": {
        "id": "l6rJnkyZ4UZm"
      },
      "source": [
        "#### Acessamos posições específicas do arranjo, os índices estão dados pelos arranjos `row` e `col`."
      ]
    },
    {
      "cell_type": "code",
      "metadata": {
        "id": "njehE0aG4UZn",
        "outputId": "ce2eee86-1dfe-4cfa-b8aa-5086e121c789"
      },
      "source": [
        "col = np.array([2, 3])\n",
        "X[row, col]"
      ],
      "execution_count": null,
      "outputs": [
        {
          "output_type": "execute_result",
          "data": {
            "text/plain": [
              "array([ 2, 11])"
            ]
          },
          "metadata": {
            "tags": []
          },
          "execution_count": 44
        }
      ]
    },
    {
      "cell_type": "markdown",
      "metadata": {
        "id": "APJd8ljz4UZu"
      },
      "source": [
        "#### Como exemplo de aplicação de `Fancy Indexing` vamos selecionar pontos aleatórios, usando parâmetros da [distribuição normal multivariada](https://support.minitab.com/pt-br/minitab/18/help-and-how-to/probability-distributions-and-random-data/supporting-topics/distributions/multivariate-normal-distribution/)."
      ]
    },
    {
      "cell_type": "code",
      "metadata": {
        "id": "nVqIp15v4UZw"
      },
      "source": [
        "rand = np.random.RandomState(42)\n",
        "\n",
        "mean = [0, 0]\n",
        "\n",
        "cov = [[1, 2],\n",
        "       [2, 5]]"
      ],
      "execution_count": null,
      "outputs": []
    },
    {
      "cell_type": "markdown",
      "metadata": {
        "id": "VVS8CjGj4UZ4"
      },
      "source": [
        "#### Pegamos 100 pontos (são amostras de duas dimensões) [`.multivariate_normal()`](https://docs.scipy.org/doc/numpy-1.10.1/reference/generated/numpy.random.multivariate_normal.html#numpy-random-multivariate-normal)."
      ]
    },
    {
      "cell_type": "code",
      "metadata": {
        "id": "gKijoGce4UZ5",
        "outputId": "a3fd30ab-162e-4f20-a06c-6f9813e2b6c6",
        "colab": {
          "base_uri": "https://localhost:8080/"
        }
      },
      "source": [
        "X = rand.multivariate_normal(mean, cov, 100)\n",
        "#X\n",
        "X.shape"
      ],
      "execution_count": null,
      "outputs": [
        {
          "output_type": "execute_result",
          "data": {
            "text/plain": [
              "(100, 2)"
            ]
          },
          "metadata": {
            "tags": []
          },
          "execution_count": 69
        }
      ]
    },
    {
      "cell_type": "markdown",
      "metadata": {
        "id": "lSKvcFK14UZ_"
      },
      "source": [
        "#### Fazendo um `slice` de todas as linhas da coluna $0$ ou $1$."
      ]
    },
    {
      "cell_type": "code",
      "metadata": {
        "id": "QdtBv64v4UZ_",
        "outputId": "16cd643b-2812-40ca-fd53-911b937be7ae",
        "colab": {
          "base_uri": "https://localhost:8080/"
        }
      },
      "source": [
        "X[:, 0]\n",
        "#X[:, 1]"
      ],
      "execution_count": null,
      "outputs": [
        {
          "output_type": "execute_result",
          "data": {
            "text/plain": [
              "array([-0.40599258, -1.18122448,  0.30592984, -1.75268695,  0.22610904,\n",
              "        0.60636918,  0.50863666,  1.8087944 ,  0.81547669,  1.37937009,\n",
              "       -1.26768205,  0.4828396 ,  0.46049582,  0.919606  ,  0.66654416,\n",
              "       -0.15293175,  0.41723826, -0.29273577,  0.55696849,  1.15174837,\n",
              "       -0.74783396,  0.22207248,  1.64144866,  0.02103157,  0.35722435,\n",
              "       -0.15204994,  0.391316  , -1.30890483,  0.89366635, -0.67937246,\n",
              "        0.51374789,  1.4798887 , -1.26968657, -0.31750674, -0.08723148,\n",
              "       -0.92246712, -0.56566426,  2.10580041,  0.03400415,  0.67583379,\n",
              "        0.0662893 , -1.16706263,  0.9389648 , -0.97152888,  0.29301567,\n",
              "       -0.46037235,  0.77400336,  0.92232362, -0.37348099,  0.08504839,\n",
              "        1.46860606,  0.62364515, -0.005615  , -1.80941659, -0.20945632,\n",
              "        1.78285987, -0.9982874 ,  0.06232119,  0.47930322, -1.34358292,\n",
              "       -0.38281071, -0.75954778, -1.38043633,  1.131849  ,  0.10060593,\n",
              "        1.40638829,  0.80020468,  0.25630301,  0.84687929, -0.28056053,\n",
              "       -0.71036745,  1.41446454, -0.53929105,  1.64811031, -0.59586224,\n",
              "       -0.36400521,  0.53938128,  0.00260679, -1.90507889,  0.84936873,\n",
              "        0.59928421, -0.75634122, -1.04800791, -1.48535581,  0.5151514 ,\n",
              "        1.13400126, -0.05932052, -0.57217829, -0.56825559, -0.79645264,\n",
              "       -0.25002126,  0.80474146, -0.06678347, -0.40934414,  1.36204232,\n",
              "        0.0847964 ,  0.27892676, -0.30745289,  0.75774974,  0.38361795])"
            ]
          },
          "metadata": {
            "tags": []
          },
          "execution_count": 67
        }
      ]
    },
    {
      "cell_type": "markdown",
      "metadata": {
        "id": "nQOY8dQT4UaG"
      },
      "source": [
        "#### Podemos plotar os valores considerados acima com a ajuda da função [`plt.scatter()`](https://matplotlib.org/3.2.1/api/_as_gen/matplotlib.pyplot.scatter.html#matplotlib-pyplot-scatter)), do pacote [`MatPlotLib`](https://matplotlib.org/). Importamos a biblioteca [`seaborn`](https://seaborn.pydata.org/), para a visualização dos dados.\n",
        "\n",
        "#### Observe a seguir o comando mágico [%matplotlib inline](https://jakevdp.github.io/PythonDataScienceHandbook/04.00-introduction-to-matplotlib.html), que gera as imagens estáticas de seu plot, embutidas no caderno (Jupyter Notebook):"
      ]
    },
    {
      "cell_type": "code",
      "metadata": {
        "id": "82-0pWoP4UaG",
        "outputId": "a6252301-9d64-483c-bd61-ce8a2e68a9d0",
        "colab": {
          "base_uri": "https://localhost:8080/",
          "height": 268
        }
      },
      "source": [
        "#%matplotlib inline\n",
        "import matplotlib.pyplot as plt\n",
        "import seaborn; seaborn.set()  \n",
        "\n",
        "plt.scatter(X[:, 0], X[:, 1]);"
      ],
      "execution_count": null,
      "outputs": [
        {
          "output_type": "display_data",
          "data": {
            "image/png": "[encoded data removed]",
            "text/plain": [
              "<Figure size 432x288 with 1 Axes>"
            ]
          },
          "metadata": {
            "tags": []
          }
        }
      ]
    },
    {
      "cell_type": "markdown",
      "metadata": {
        "id": "irDFbynq4UaL"
      },
      "source": [
        "#### Selecionando-se 20 dos 100 (X.shape[0] = 100) sem reposição [`.random.choice`](https://docs.scipy.org/doc/numpy-1.16.0/reference/generated/numpy.random.choice.html#numpy-random-choice), que gera uma amostra aleatória de uma determinada matriz `1D`."
      ]
    },
    {
      "cell_type": "code",
      "metadata": {
        "id": "dJN0k0uu4UaM",
        "outputId": "59c2fbc9-a654-407a-cd87-a36450217db8",
        "colab": {
          "base_uri": "https://localhost:8080/"
        }
      },
      "source": [
        "indices = np.random.choice(X.shape[0], \n",
        "                           size = 20, \n",
        "                           replace = False\n",
        "                          )\n",
        "indices"
      ],
      "execution_count": null,
      "outputs": [
        {
          "output_type": "execute_result",
          "data": {
            "text/plain": [
              "array([26, 48, 10, 66, 96,  7, 91,  2, 90, 33, 22, 78, 75, 70, 82, 92, 16,\n",
              "       13, 21, 45])"
            ]
          },
          "metadata": {
            "tags": []
          },
          "execution_count": 73
        }
      ]
    },
    {
      "cell_type": "markdown",
      "metadata": {
        "id": "UQOhyjqz4UaR"
      },
      "source": [
        "#### Temos agora um arranjos de índices, que podemos usar para uma seleção de pontos."
      ]
    },
    {
      "cell_type": "code",
      "metadata": {
        "id": "SMvCC27-4UaR",
        "outputId": "97375b4e-3b24-48c4-a39a-476396aa2ab9",
        "colab": {
          "base_uri": "https://localhost:8080/"
        }
      },
      "source": [
        "selection = X[indices] # fancy indexing!!\n",
        "selection.shape"
      ],
      "execution_count": null,
      "outputs": [
        {
          "output_type": "execute_result",
          "data": {
            "text/plain": [
              "(20, 2)"
            ]
          },
          "metadata": {
            "tags": []
          },
          "execution_count": 74
        }
      ]
    },
    {
      "cell_type": "markdown",
      "metadata": {
        "id": "Ml_RfyGP4UaW"
      },
      "source": [
        "#### E essa seleção de pontos pode ser replotada."
      ]
    },
    {
      "cell_type": "code",
      "metadata": {
        "id": "cWFFlDOV4UaX",
        "outputId": "c40b175a-0a85-4a92-9aa5-efc780ac54a1",
        "colab": {
          "base_uri": "https://localhost:8080/",
          "height": 268
        }
      },
      "source": [
        "plt.scatter(X[:, 0], \n",
        "            X[:, 1]\n",
        "           )\n",
        "\n",
        "plt.scatter(selection[:, 0], \n",
        "            selection[:, 1], \n",
        "            facecolor = 'red'\n",
        "           );"
      ],
      "execution_count": null,
      "outputs": [
        {
          "output_type": "display_data",
          "data": {
            "image/png": "[encoded data removed]",
            "text/plain": [
              "<Figure size 432x288 with 1 Axes>"
            ]
          },
          "metadata": {
            "tags": []
          }
        }
      ]
    },
    {
      "cell_type": "markdown",
      "metadata": {
        "id": "EvSTPlBc4Uae"
      },
      "source": [
        "####  3 - 3 Boolean Indexing."
      ]
    },
    {
      "cell_type": "markdown",
      "metadata": {
        "id": "bh836RtY4Uaf"
      },
      "source": [
        "#### Essa [técnica](https://www.tutorialspoint.com/boolean-indexing-in-python) é baseada na criação da chamada [\"máscara booleana\"](https://www.python-course.eu/numpy_masking.php), que é uma lista de valores `True` e `False` usados para selecionar apenas elementos cujo índice corresponde a um valor `True`.  "
      ]
    },
    {
      "cell_type": "markdown",
      "metadata": {
        "id": "iyklAWtI4Uah"
      },
      "source": [
        "![BooleanIndexing1.png](data:image/png;base64,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)![BooleanIndexing1.png](BooleanIndexing1.png)"
      ]
    },
    {
      "cell_type": "markdown",
      "metadata": {
        "id": "wRh13V3f4Uaj"
      },
      "source": [
        "#### Exemplo de aplicação boolean indexing: contar dias de chuva. Temos um dataset que representa a quantidade de precipitações na cidade de Seattle (EUA) no ano de $2014$.\n",
        "\n",
        "#### Usamos [`Pandas`](https://realpython.com/pandas-python-explore-dataset/) para extrair os dados como um arranjo de [`Numpy`](https://realpython.com/python-data-cleaning-numpy-pandas/). O método [`.read_csv()`](https://pandas.pydata.org/pandas-docs/stable/reference/api/pandas.read_csv.html) lê um arquivo de valores separados por vírgula ([csv](https://docs.python.org/3/library/csv.html)) em um [`DataFrame`](https://pandas.pydata.org/pandas-docs/stable/reference/frame.html)."
      ]
    },
    {
      "cell_type": "code",
      "metadata": {
        "id": "OkOYC78_4Uam",
        "outputId": "d31cbc8e-d5df-4ab8-8d62-366830f671fd",
        "colab": {
          "base_uri": "https://localhost:8080/",
          "height": 759
        }
      },
      "source": [
        "import numpy as np\n",
        "import pandas as pd\n",
        "\n",
        "r_df = pd.read_csv('Seattle2014.csv')\n",
        "r_df"
      ],
      "execution_count": null,
      "outputs": [
        {
          "output_type": "execute_result",
          "data": {
            "text/html": [
              "<div>\n",
              "<style scoped>\n",
              "    .dataframe tbody tr th:only-of-type {\n",
              "        vertical-align: middle;\n",
              "    }\n",
              "\n",
              "    .dataframe tbody tr th {\n",
              "        vertical-align: top;\n",
              "    }\n",
              "\n",
              "    .dataframe thead th {\n",
              "        text-align: right;\n",
              "    }\n",
              "</style>\n",
              "<table border=\"1\" class=\"dataframe\">\n",
              "  <thead>\n",
              "    <tr style=\"text-align: right;\">\n",
              "      <th></th>\n",
              "      <th>STATION</th>\n",
              "      <th>STATION_NAME</th>\n",
              "      <th>DATE</th>\n",
              "      <th>PRCP</th>\n",
              "      <th>SNWD</th>\n",
              "      <th>SNOW</th>\n",
              "      <th>TMAX</th>\n",
              "      <th>TMIN</th>\n",
              "      <th>AWND</th>\n",
              "      <th>WDF2</th>\n",
              "      <th>WDF5</th>\n",
              "      <th>WSF2</th>\n",
              "      <th>WSF5</th>\n",
              "      <th>WT01</th>\n",
              "      <th>WT05</th>\n",
              "      <th>WT02</th>\n",
              "      <th>WT03</th>\n",
              "    </tr>\n",
              "  </thead>\n",
              "  <tbody>\n",
              "    <tr>\n",
              "      <th>0</th>\n",
              "      <td>GHCND:USW00024233</td>\n",
              "      <td>SEATTLE TACOMA INTERNATIONAL AIRPORT WA US</td>\n",
              "      <td>20140101</td>\n",
              "      <td>0</td>\n",
              "      <td>0</td>\n",
              "      <td>0</td>\n",
              "      <td>72</td>\n",
              "      <td>33</td>\n",
              "      <td>12</td>\n",
              "      <td>340</td>\n",
              "      <td>310</td>\n",
              "      <td>36</td>\n",
              "      <td>40.0</td>\n",
              "      <td>-9999.0</td>\n",
              "      <td>-9999.0</td>\n",
              "      <td>-9999.0</td>\n",
              "      <td>-9999.0</td>\n",
              "    </tr>\n",
              "    <tr>\n",
              "      <th>1</th>\n",
              "      <td>GHCND:USW00024233</td>\n",
              "      <td>SEATTLE TACOMA INTERNATIONAL AIRPORT WA US</td>\n",
              "      <td>20140102</td>\n",
              "      <td>41</td>\n",
              "      <td>0</td>\n",
              "      <td>0</td>\n",
              "      <td>106</td>\n",
              "      <td>61</td>\n",
              "      <td>32</td>\n",
              "      <td>190</td>\n",
              "      <td>200</td>\n",
              "      <td>94</td>\n",
              "      <td>116.0</td>\n",
              "      <td>-9999.0</td>\n",
              "      <td>-9999.0</td>\n",
              "      <td>-9999.0</td>\n",
              "      <td>-9999.0</td>\n",
              "    </tr>\n",
              "    <tr>\n",
              "      <th>2</th>\n",
              "      <td>GHCND:USW00024233</td>\n",
              "      <td>SEATTLE TACOMA INTERNATIONAL AIRPORT WA US</td>\n",
              "      <td>20140103</td>\n",
              "      <td>15</td>\n",
              "      <td>0</td>\n",
              "      <td>0</td>\n",
              "      <td>89</td>\n",
              "      <td>28</td>\n",
              "      <td>26</td>\n",
              "      <td>30</td>\n",
              "      <td>50</td>\n",
              "      <td>63</td>\n",
              "      <td>72.0</td>\n",
              "      <td>1.0</td>\n",
              "      <td>-9999.0</td>\n",
              "      <td>-9999.0</td>\n",
              "      <td>-9999.0</td>\n",
              "    </tr>\n",
              "    <tr>\n",
              "      <th>3</th>\n",
              "      <td>GHCND:USW00024233</td>\n",
              "      <td>SEATTLE TACOMA INTERNATIONAL AIRPORT WA US</td>\n",
              "      <td>20140104</td>\n",
              "      <td>0</td>\n",
              "      <td>0</td>\n",
              "      <td>0</td>\n",
              "      <td>78</td>\n",
              "      <td>6</td>\n",
              "      <td>27</td>\n",
              "      <td>40</td>\n",
              "      <td>40</td>\n",
              "      <td>45</td>\n",
              "      <td>58.0</td>\n",
              "      <td>1.0</td>\n",
              "      <td>-9999.0</td>\n",
              "      <td>-9999.0</td>\n",
              "      <td>-9999.0</td>\n",
              "    </tr>\n",
              "    <tr>\n",
              "      <th>4</th>\n",
              "      <td>GHCND:USW00024233</td>\n",
              "      <td>SEATTLE TACOMA INTERNATIONAL AIRPORT WA US</td>\n",
              "      <td>20140105</td>\n",
              "      <td>0</td>\n",
              "      <td>0</td>\n",
              "      <td>0</td>\n",
              "      <td>83</td>\n",
              "      <td>-5</td>\n",
              "      <td>37</td>\n",
              "      <td>10</td>\n",
              "      <td>10</td>\n",
              "      <td>67</td>\n",
              "      <td>76.0</td>\n",
              "      <td>-9999.0</td>\n",
              "      <td>-9999.0</td>\n",
              "      <td>-9999.0</td>\n",
              "      <td>-9999.0</td>\n",
              "    </tr>\n",
              "    <tr>\n",
              "      <th>...</th>\n",
              "      <td>...</td>\n",
              "      <td>...</td>\n",
              "      <td>...</td>\n",
              "      <td>...</td>\n",
              "      <td>...</td>\n",
              "      <td>...</td>\n",
              "      <td>...</td>\n",
              "      <td>...</td>\n",
              "      <td>...</td>\n",
              "      <td>...</td>\n",
              "      <td>...</td>\n",
              "      <td>...</td>\n",
              "      <td>...</td>\n",
              "      <td>...</td>\n",
              "      <td>...</td>\n",
              "      <td>...</td>\n",
              "      <td>...</td>\n",
              "    </tr>\n",
              "    <tr>\n",
              "      <th>360</th>\n",
              "      <td>GHCND:USW00024233</td>\n",
              "      <td>SEATTLE TACOMA INTERNATIONAL AIRPORT WA US</td>\n",
              "      <td>20141227</td>\n",
              "      <td>33</td>\n",
              "      <td>0</td>\n",
              "      <td>0</td>\n",
              "      <td>94</td>\n",
              "      <td>44</td>\n",
              "      <td>49</td>\n",
              "      <td>210</td>\n",
              "      <td>210</td>\n",
              "      <td>112</td>\n",
              "      <td>161.0</td>\n",
              "      <td>1.0</td>\n",
              "      <td>-9999.0</td>\n",
              "      <td>-9999.0</td>\n",
              "      <td>-9999.0</td>\n",
              "    </tr>\n",
              "    <tr>\n",
              "      <th>361</th>\n",
              "      <td>GHCND:USW00024233</td>\n",
              "      <td>SEATTLE TACOMA INTERNATIONAL AIRPORT WA US</td>\n",
              "      <td>20141228</td>\n",
              "      <td>41</td>\n",
              "      <td>0</td>\n",
              "      <td>0</td>\n",
              "      <td>67</td>\n",
              "      <td>28</td>\n",
              "      <td>18</td>\n",
              "      <td>50</td>\n",
              "      <td>30</td>\n",
              "      <td>58</td>\n",
              "      <td>72.0</td>\n",
              "      <td>1.0</td>\n",
              "      <td>-9999.0</td>\n",
              "      <td>-9999.0</td>\n",
              "      <td>-9999.0</td>\n",
              "    </tr>\n",
              "    <tr>\n",
              "      <th>362</th>\n",
              "      <td>GHCND:USW00024233</td>\n",
              "      <td>SEATTLE TACOMA INTERNATIONAL AIRPORT WA US</td>\n",
              "      <td>20141229</td>\n",
              "      <td>0</td>\n",
              "      <td>0</td>\n",
              "      <td>0</td>\n",
              "      <td>61</td>\n",
              "      <td>6</td>\n",
              "      <td>43</td>\n",
              "      <td>350</td>\n",
              "      <td>350</td>\n",
              "      <td>76</td>\n",
              "      <td>103.0</td>\n",
              "      <td>1.0</td>\n",
              "      <td>-9999.0</td>\n",
              "      <td>-9999.0</td>\n",
              "      <td>-9999.0</td>\n",
              "    </tr>\n",
              "    <tr>\n",
              "      <th>363</th>\n",
              "      <td>GHCND:USW00024233</td>\n",
              "      <td>SEATTLE TACOMA INTERNATIONAL AIRPORT WA US</td>\n",
              "      <td>20141230</td>\n",
              "      <td>0</td>\n",
              "      <td>0</td>\n",
              "      <td>0</td>\n",
              "      <td>33</td>\n",
              "      <td>-21</td>\n",
              "      <td>36</td>\n",
              "      <td>90</td>\n",
              "      <td>70</td>\n",
              "      <td>63</td>\n",
              "      <td>76.0</td>\n",
              "      <td>-9999.0</td>\n",
              "      <td>-9999.0</td>\n",
              "      <td>-9999.0</td>\n",
              "      <td>-9999.0</td>\n",
              "    </tr>\n",
              "    <tr>\n",
              "      <th>364</th>\n",
              "      <td>GHCND:USW00024233</td>\n",
              "      <td>SEATTLE TACOMA INTERNATIONAL AIRPORT WA US</td>\n",
              "      <td>20141231</td>\n",
              "      <td>0</td>\n",
              "      <td>0</td>\n",
              "      <td>0</td>\n",
              "      <td>33</td>\n",
              "      <td>-27</td>\n",
              "      <td>30</td>\n",
              "      <td>30</td>\n",
              "      <td>-9999</td>\n",
              "      <td>58</td>\n",
              "      <td>NaN</td>\n",
              "      <td>NaN</td>\n",
              "      <td>NaN</td>\n",
              "      <td>NaN</td>\n",
              "      <td>NaN</td>\n",
              "    </tr>\n",
              "  </tbody>\n",
              "</table>\n",
              "<p>365 rows × 17 columns</p>\n",
              "</div>"
            ],
            "text/plain": [
              "               STATION  ...    WT03\n",
              "0    GHCND:USW00024233  ... -9999.0\n",
              "1    GHCND:USW00024233  ... -9999.0\n",
              "2    GHCND:USW00024233  ... -9999.0\n",
              "3    GHCND:USW00024233  ... -9999.0\n",
              "4    GHCND:USW00024233  ... -9999.0\n",
              "..                 ...  ...     ...\n",
              "360  GHCND:USW00024233  ... -9999.0\n",
              "361  GHCND:USW00024233  ... -9999.0\n",
              "362  GHCND:USW00024233  ... -9999.0\n",
              "363  GHCND:USW00024233  ... -9999.0\n",
              "364  GHCND:USW00024233  ...     NaN\n",
              "\n",
              "[365 rows x 17 columns]"
            ]
          },
          "metadata": {
            "tags": []
          },
          "execution_count": 77
        }
      ]
    },
    {
      "cell_type": "markdown",
      "metadata": {
        "id": "XdoaHOiv4Uaq"
      },
      "source": [
        "#### Indexamos uma coluna ([Pandas Series](https://pandas.pydata.org/pandas-docs/stable/user_guide/dsintro.html))."
      ]
    },
    {
      "cell_type": "code",
      "metadata": {
        "id": "ij64sAH_4Uar",
        "outputId": "4ed8beca-8dad-4708-8a9a-6a939844900c",
        "colab": {
          "base_uri": "https://localhost:8080/"
        }
      },
      "source": [
        "r_s = r_df['PRCP']\n",
        "r_s"
      ],
      "execution_count": null,
      "outputs": [
        {
          "output_type": "execute_result",
          "data": {
            "text/plain": [
              "0       0\n",
              "1      41\n",
              "2      15\n",
              "3       0\n",
              "4       0\n",
              "       ..\n",
              "360    33\n",
              "361    41\n",
              "362     0\n",
              "363     0\n",
              "364     0\n",
              "Name: PRCP, Length: 365, dtype: int64"
            ]
          },
          "metadata": {
            "tags": []
          },
          "execution_count": 78
        }
      ]
    },
    {
      "cell_type": "markdown",
      "metadata": {
        "id": "ONVpQWix4Uaw"
      },
      "source": [
        "#### Transformamos a Série em um arranjo de Numpy. Usamos o atributo [`.values`](https://pandas.pydata.org/pandas-docs/stable/reference/api/pandas.Series.values.html), que retornar séris Pandas como arranjos numpy."
      ]
    },
    {
      "cell_type": "code",
      "metadata": {
        "id": "O92YPwhv4Uax",
        "outputId": "629da2a8-4e39-4538-b4a7-482ee9277995",
        "colab": {
          "base_uri": "https://localhost:8080/"
        }
      },
      "source": [
        "rainfall = r_s.values\n",
        "#rainfall\n",
        "#print (\"type:\", type (rainfall))\n",
        "#print (\"shape:\", rainfall.shape)\n",
        "print (rainfall)"
      ],
      "execution_count": null,
      "outputs": [
        {
          "output_type": "stream",
          "text": [
            "[  0  41  15   0   0   3 122  97  58  43 213  15   0   0   0   0   0   0\n",
            "   0   0   0   5   0   0   0   0   0  89 216   0  23  20   0   0   0   0\n",
            "   0   0  51   5 183 170  46  18  94 117 264 145 152  10  30  28  25  61\n",
            " 130   3   0   0   0   5 191 107 165 467  30   0 323  43 188   0   0   5\n",
            "  69  81 277   3   0   5   0   0   0   0   0  41  36   3 221 140   0   0\n",
            "   0   0  25   0  46   0   0  46   0   0   0   0   0   0   5 109 185   0\n",
            " 137   0  51 142  89 124   0  33  69   0   0   0   0   0 333 160  51   0\n",
            "   0 137  20   5   0   0   0   0   0   0   0   0   0   0   0   0  38   0\n",
            "  56   0   0   0   0   0   0   0   0   0   0   0   0   0   0   0   0   0\n",
            "  18  64   0   5  36  13   0   8   3   0   0   0   0   0   0  18  23   0\n",
            "   0   0   0   0   0   0   0   0   0   0   0   0   0   0   0   0   0   0\n",
            "   0   0   0   0   3 193   0   0   0   0   0   0   0   0   0   5   0   0\n",
            "   0   0   0   0   0   0   5 127 216   0  10   0   0   0   0   0   0   0\n",
            "   0   0   0   0   0   0   0  84  13   0  30   0   0   0   0   0   0   0\n",
            "   0   0   0   0   0   0   0   5   3   0   0   0   3 183 203  43  89   0\n",
            "   0   8   0   0   0   0   0   0   0   0   0   0   3  74   0  76  71  86\n",
            "   0  33 150   0 117  10 320  94  41  61  15   8 127   5 254 170   0  18\n",
            " 109  41  48  41   0   0  51   0   0   0   0   0   0   0   0   0   0  36\n",
            " 152   5 119  13 183   3  33 343  36   0   0   0   0   8  30  74   0  91\n",
            "  99 130  69   0   0   0   0   0  28 130  30 196   0   0 206  53   0   0\n",
            "  33  41   0   0   0]\n"
          ],
          "name": "stdout"
        }
      ]
    },
    {
      "cell_type": "markdown",
      "metadata": {
        "id": "iQMlT55T4Ua3"
      },
      "source": [
        "#### Também pode-se explorar este arranjo utilizando um histograma. A funcionalidade da biblioteca [`MatPlotLib`](https://matplotlib.org/3.2.1/index.html)."
      ]
    },
    {
      "cell_type": "code",
      "metadata": {
        "id": "KDWv4oDQ4Ua3"
      },
      "source": [
        "#%matplotlib inline\n",
        "import matplotlib.pyplot as plt\n",
        "import seaborn; seaborn.set()"
      ],
      "execution_count": null,
      "outputs": []
    },
    {
      "cell_type": "markdown",
      "metadata": {
        "id": "sGQfrX6N4Ua_"
      },
      "source": [
        "#### Empregamos a o método [.hist()](https://matplotlib.org/3.2.1/api/_as_gen/matplotlib.pyplot.hist.html#matplotlib-pyplot-hist) para criar um histograma."
      ]
    },
    {
      "cell_type": "code",
      "metadata": {
        "id": "95HV6hCW4UbA",
        "outputId": "a66594fc-3724-4f21-e973-a8196eb4e970",
        "colab": {
          "base_uri": "https://localhost:8080/",
          "height": 268
        }
      },
      "source": [
        "plt.hist(rainfall, bins = 40);"
      ],
      "execution_count": null,
      "outputs": [
        {
          "output_type": "display_data",
          "data": {
            "image/png": "[encoded data removed]",
            "text/plain": [
              "<Figure size 432x288 with 1 Axes>"
            ]
          },
          "metadata": {
            "tags": []
          }
        }
      ]
    },
    {
      "cell_type": "markdown",
      "metadata": {
        "id": "EG-H3wK-4UbF"
      },
      "source": [
        "#### Se aplicarmos uma condição booleana sobre um arranjo de Numpy e ele retorna um novo arranjo com `True` ou `False`. É uma vetorização da operação de comparação."
      ]
    },
    {
      "cell_type": "code",
      "metadata": {
        "id": "_-kDq6KC4UbG",
        "outputId": "a27ec1a8-0236-46f0-f2d3-260322d00c1e",
        "colab": {
          "base_uri": "https://localhost:8080/"
        }
      },
      "source": [
        "print(rainfall == 0)"
      ],
      "execution_count": null,
      "outputs": [
        {
          "output_type": "stream",
          "text": [
            "[ True False False  True  True False False False False False False False\n",
            "  True  True  True  True  True  True  True  True  True False  True  True\n",
            "  True  True  True False False  True False False  True  True  True  True\n",
            "  True  True False False False False False False False False False False\n",
            " False False False False False False False False  True  True  True False\n",
            " False False False False False  True False False False  True  True False\n",
            " False False False False  True False  True  True  True  True  True False\n",
            " False False False False  True  True  True  True False  True False  True\n",
            "  True False  True  True  True  True  True  True False False False  True\n",
            " False  True False False False False  True False False  True  True  True\n",
            "  True  True False False False  True  True False False False  True  True\n",
            "  True  True  True  True  True  True  True  True  True  True False  True\n",
            " False  True  True  True  True  True  True  True  True  True  True  True\n",
            "  True  True  True  True  True  True False False  True False False False\n",
            "  True False False  True  True  True  True  True  True False False  True\n",
            "  True  True  True  True  True  True  True  True  True  True  True  True\n",
            "  True  True  True  True  True  True  True  True  True  True False False\n",
            "  True  True  True  True  True  True  True  True  True False  True  True\n",
            "  True  True  True  True  True  True False False False  True False  True\n",
            "  True  True  True  True  True  True  True  True  True  True  True  True\n",
            "  True False False  True False  True  True  True  True  True  True  True\n",
            "  True  True  True  True  True  True  True False False  True  True  True\n",
            " False False False False False  True  True False  True  True  True  True\n",
            "  True  True  True  True  True  True False False  True False False False\n",
            "  True False False  True False False False False False False False False\n",
            " False False False False  True False False False False False  True  True\n",
            " False  True  True  True  True  True  True  True  True  True  True False\n",
            " False False False False False False False False False  True  True  True\n",
            "  True False False False  True False False False False  True  True  True\n",
            "  True  True False False False False  True  True False False  True  True\n",
            " False False  True  True  True]\n"
          ],
          "name": "stdout"
        }
      ]
    },
    {
      "cell_type": "markdown",
      "metadata": {
        "id": "V_2lV6AZ4UbJ"
      },
      "source": [
        "#### Em vez de fazer um loop e definir um contador, pode-se descrever os valores que nos interessam deste dataset utilizando Numpy:"
      ]
    },
    {
      "cell_type": "markdown",
      "metadata": {
        "id": "AtCDqboC4UbK"
      },
      "source": [
        "#### Primeiro vejamos este comportamento dos booleanos em python nativo."
      ]
    },
    {
      "cell_type": "code",
      "metadata": {
        "id": "90LvE9fd4UbK",
        "outputId": "a180bb4f-6293-4ed2-aaff-79620e245d1d",
        "colab": {
          "base_uri": "https://localhost:8080/"
        }
      },
      "source": [
        "print(\"Soma de Booleanos: \", True + False + True)"
      ],
      "execution_count": null,
      "outputs": [
        {
          "output_type": "stream",
          "text": [
            "Soma de Booleanos:  2\n"
          ],
          "name": "stdout"
        }
      ]
    },
    {
      "cell_type": "markdown",
      "metadata": {
        "id": "5AvWKtP24UbP"
      },
      "source": [
        "#### Soma vetorizada de valores booleanos com Numpy, conta a quantidade de ocorrências do valor `True` na lista."
      ]
    },
    {
      "cell_type": "code",
      "metadata": {
        "id": "pw3M6Jqd4UbQ",
        "outputId": "5f11a159-1f0b-40cf-fe8d-162dd71b84c7",
        "colab": {
          "base_uri": "https://localhost:8080/"
        }
      },
      "source": [
        "print(\"Soma de numpy: \", np.sum([True, False, True, True]))"
      ],
      "execution_count": null,
      "outputs": [
        {
          "output_type": "stream",
          "text": [
            "Soma de numpy:  3\n"
          ],
          "name": "stdout"
        }
      ]
    },
    {
      "cell_type": "markdown",
      "metadata": {
        "id": "qLxGhC7v4UbV"
      },
      "source": [
        "#### Testando o dataset."
      ]
    },
    {
      "cell_type": "code",
      "metadata": {
        "id": "8fmmC0K54UbY",
        "outputId": "4cc9ac91-b325-421c-8498-78a4d587a78e",
        "colab": {
          "base_uri": "https://localhost:8080/"
        }
      },
      "source": [
        "print(\"Número de dias sem chuva: \", np.sum(rainfall == 0))\n",
        "print(\"Número de dias com chuva: \", np.sum(rainfall != 0))\n",
        "print(\"Número de dias com mais de 100 cm de chuva:\", np.sum(rainfall > 100))\n",
        "print(\"Número de dias com chuva, mas não maior do que 100cm :\", np.sum((rainfall > 0) & (rainfall < 100)))"
      ],
      "execution_count": null,
      "outputs": [
        {
          "output_type": "stream",
          "text": [
            "Número de dias sem chuva:  215\n",
            "Número de dias com chuva:  150\n",
            "Número de dias com mais de 100 cm de chuva: 47\n",
            "Número de dias com chuva, mas não maior do que 100cm : 103\n"
          ],
          "name": "stdout"
        }
      ]
    },
    {
      "cell_type": "markdown",
      "metadata": {
        "id": "-rl1mogZFIzQ"
      },
      "source": [
        "Proporções dias com chuva ou sem chuva"
      ]
    },
    {
      "cell_type": "code",
      "metadata": {
        "id": "rE0c4Ey6FEkO",
        "outputId": "219282bf-8c2c-42a0-d74d-104899fbe2a3",
        "colab": {
          "base_uri": "https://localhost:8080/"
        }
      },
      "source": [
        "total = 215 + 150\n",
        "prop_sem_chuva = 215 / total * 100\n",
        "prop_com_chuva = 150 / total * 100\n",
        "\n",
        "print(f'Proporção dias sem chuva: {prop_sem_chuva:.2f}%')\n",
        "print(f'Proporção dias com chuva: {prop_com_chuva:.2f}%')"
      ],
      "execution_count": null,
      "outputs": [
        {
          "output_type": "stream",
          "text": [
            "Proporção dias sem chuva: 58.90%\n",
            "Proporção dias com chuva: 41.10%\n"
          ],
          "name": "stdout"
        }
      ]
    },
    {
      "cell_type": "markdown",
      "metadata": {
        "id": "V1WH_SpNHDMa"
      },
      "source": [
        "Proporções dias com chuva acima ou abaixo de 100 cm"
      ]
    },
    {
      "cell_type": "code",
      "metadata": {
        "id": "PRPLqW1YGlh0",
        "outputId": "67deebc9-aa29-4af2-80fa-ffb67db7e4a5",
        "colab": {
          "base_uri": "https://localhost:8080/"
        }
      },
      "source": [
        "dias_de_chuva = 150\n",
        "prop_chuva_mais_que_cem = 47 / dias_de_chuva * 100\n",
        "prop_chuva_menos_que_cem = 103 / dias_de_chuva * 100\n",
        "\n",
        "print(f'Proporção dias com chuva acima de 100 cm: {prop_chuva_mais_que_cem:.2f}%')\n",
        "print(f'Proporção dias com chuva abaixo de 100 cm: {prop_chuva_menos_que_cem:.2f}%')"
      ],
      "execution_count": null,
      "outputs": [
        {
          "output_type": "stream",
          "text": [
            "Proporção dias com chuva acima de 100 cm: 31.33%\n",
            "Proporção dias com chuva abaixo de 100 cm: 68.67%\n"
          ],
          "name": "stdout"
        }
      ]
    }
  ]
}