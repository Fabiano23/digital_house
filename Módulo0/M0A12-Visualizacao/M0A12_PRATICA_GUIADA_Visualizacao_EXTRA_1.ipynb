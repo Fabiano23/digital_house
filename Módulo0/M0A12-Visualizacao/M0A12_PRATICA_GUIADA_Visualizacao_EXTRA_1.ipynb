{
  "nbformat": 4,
  "nbformat_minor": 0,
  "metadata": {
    "kernelspec": {
      "display_name": "Python 3",
      "language": "python",
      "name": "python3"
    },
    "language_info": {
      "codemirror_mode": {
        "name": "ipython",
        "version": 3
      },
      "file_extension": ".py",
      "mimetype": "text/x-python",
      "name": "python",
      "nbconvert_exporter": "python",
      "pygments_lexer": "ipython3",
      "version": "3.7.6"
    },
    "colab": {
      "name": "M0A12-PRATICA_GUIADA_Visualizacao-EXTRA-1.ipynb",
      "provenance": [],
      "collapsed_sections": [
        "0JJ04ijYL9tJ",
        "DWTFsgiBL9tM"
      ]
    }
  },
  "cells": [
    {
      "cell_type": "markdown",
      "metadata": {
        "id": "r6qfcM8-L9tA"
      },
      "source": [
        "# PRÁTICA GUIADA: Visualização com Seaborn\n",
        "\n",
        "## Substituição de valores, pivot_table e dummies"
      ]
    },
    {
      "cell_type": "code",
      "metadata": {
        "id": "3BFYtpuCL9tB"
      },
      "source": [
        "import numpy as np\n",
        "import pandas as pd\n",
        "\n",
        "import matplotlib.pyplot as plt\n",
        "%matplotlib inline\n",
        "\n",
        "import seaborn as sns"
      ],
      "execution_count": 1,
      "outputs": []
    },
    {
      "cell_type": "markdown",
      "metadata": {
        "id": "q-Z9f_YKL9tC"
      },
      "source": [
        "## 1. Introdução"
      ]
    },
    {
      "cell_type": "markdown",
      "metadata": {
        "id": "j_1BK6A0L9tD"
      },
      "source": [
        "Nesta prática vamos trabalhar com dados de nascimentos nos Estados Unidos. Os dados fornecidos pelo Center for Disease Control (CDC) podem ser encontrados [aqui](https://raw.githubusercontent.com/jakevdp/data-CDCbirths/master/births.csv). Mais informações sobre a análise [aqui](http://andrewgelman.com/2012/06/14/cool-ass-signal-processing-using-gaussian-processes/)."
      ]
    },
    {
      "cell_type": "code",
      "metadata": {
        "id": "3AfS4b8vMScE"
      },
      "source": [
        "fonte= 'https://raw.githubusercontent.com/jakevdp/data-CDCbirths/master/births.csv'"
      ],
      "execution_count": 3,
      "outputs": []
    },
    {
      "cell_type": "code",
      "metadata": {
        "colab": {
          "base_uri": "https://localhost:8080/",
          "height": 204
        },
        "id": "OQl8plWsL9tD",
        "outputId": "860c3e31-314d-4e78-b02a-d94e8733fa04"
      },
      "source": [
        "births = pd.read_csv(fonte, delimiter=',')\n",
        "births.head()"
      ],
      "execution_count": 83,
      "outputs": [
        {
          "output_type": "execute_result",
          "data": {
            "text/html": [
              "<div>\n",
              "<style scoped>\n",
              "    .dataframe tbody tr th:only-of-type {\n",
              "        vertical-align: middle;\n",
              "    }\n",
              "\n",
              "    .dataframe tbody tr th {\n",
              "        vertical-align: top;\n",
              "    }\n",
              "\n",
              "    .dataframe thead th {\n",
              "        text-align: right;\n",
              "    }\n",
              "</style>\n",
              "<table border=\"1\" class=\"dataframe\">\n",
              "  <thead>\n",
              "    <tr style=\"text-align: right;\">\n",
              "      <th></th>\n",
              "      <th>year</th>\n",
              "      <th>month</th>\n",
              "      <th>day</th>\n",
              "      <th>gender</th>\n",
              "      <th>births</th>\n",
              "    </tr>\n",
              "  </thead>\n",
              "  <tbody>\n",
              "    <tr>\n",
              "      <th>0</th>\n",
              "      <td>1969</td>\n",
              "      <td>1</td>\n",
              "      <td>1.0</td>\n",
              "      <td>F</td>\n",
              "      <td>4046</td>\n",
              "    </tr>\n",
              "    <tr>\n",
              "      <th>1</th>\n",
              "      <td>1969</td>\n",
              "      <td>1</td>\n",
              "      <td>1.0</td>\n",
              "      <td>M</td>\n",
              "      <td>4440</td>\n",
              "    </tr>\n",
              "    <tr>\n",
              "      <th>2</th>\n",
              "      <td>1969</td>\n",
              "      <td>1</td>\n",
              "      <td>2.0</td>\n",
              "      <td>F</td>\n",
              "      <td>4454</td>\n",
              "    </tr>\n",
              "    <tr>\n",
              "      <th>3</th>\n",
              "      <td>1969</td>\n",
              "      <td>1</td>\n",
              "      <td>2.0</td>\n",
              "      <td>M</td>\n",
              "      <td>4548</td>\n",
              "    </tr>\n",
              "    <tr>\n",
              "      <th>4</th>\n",
              "      <td>1969</td>\n",
              "      <td>1</td>\n",
              "      <td>3.0</td>\n",
              "      <td>F</td>\n",
              "      <td>4548</td>\n",
              "    </tr>\n",
              "  </tbody>\n",
              "</table>\n",
              "</div>"
            ],
            "text/plain": [
              "   year  month  day gender  births\n",
              "0  1969      1  1.0      F    4046\n",
              "1  1969      1  1.0      M    4440\n",
              "2  1969      1  2.0      F    4454\n",
              "3  1969      1  2.0      M    4548\n",
              "4  1969      1  3.0      F    4548"
            ]
          },
          "metadata": {
            "tags": []
          },
          "execution_count": 83
        }
      ]
    },
    {
      "cell_type": "code",
      "metadata": {
        "colab": {
          "base_uri": "https://localhost:8080/",
          "height": 204
        },
        "id": "dWnN8MD4L9tG",
        "outputId": "a85542e0-a4c8-4a43-d422-7922488d6207"
      },
      "source": [
        "births.tail()"
      ],
      "execution_count": 5,
      "outputs": [
        {
          "output_type": "execute_result",
          "data": {
            "text/html": [
              "<div>\n",
              "<style scoped>\n",
              "    .dataframe tbody tr th:only-of-type {\n",
              "        vertical-align: middle;\n",
              "    }\n",
              "\n",
              "    .dataframe tbody tr th {\n",
              "        vertical-align: top;\n",
              "    }\n",
              "\n",
              "    .dataframe thead th {\n",
              "        text-align: right;\n",
              "    }\n",
              "</style>\n",
              "<table border=\"1\" class=\"dataframe\">\n",
              "  <thead>\n",
              "    <tr style=\"text-align: right;\">\n",
              "      <th></th>\n",
              "      <th>year</th>\n",
              "      <th>month</th>\n",
              "      <th>day</th>\n",
              "      <th>gender</th>\n",
              "      <th>births</th>\n",
              "    </tr>\n",
              "  </thead>\n",
              "  <tbody>\n",
              "    <tr>\n",
              "      <th>15542</th>\n",
              "      <td>2008</td>\n",
              "      <td>10</td>\n",
              "      <td>NaN</td>\n",
              "      <td>M</td>\n",
              "      <td>183219</td>\n",
              "    </tr>\n",
              "    <tr>\n",
              "      <th>15543</th>\n",
              "      <td>2008</td>\n",
              "      <td>11</td>\n",
              "      <td>NaN</td>\n",
              "      <td>F</td>\n",
              "      <td>158939</td>\n",
              "    </tr>\n",
              "    <tr>\n",
              "      <th>15544</th>\n",
              "      <td>2008</td>\n",
              "      <td>11</td>\n",
              "      <td>NaN</td>\n",
              "      <td>M</td>\n",
              "      <td>165468</td>\n",
              "    </tr>\n",
              "    <tr>\n",
              "      <th>15545</th>\n",
              "      <td>2008</td>\n",
              "      <td>12</td>\n",
              "      <td>NaN</td>\n",
              "      <td>F</td>\n",
              "      <td>173215</td>\n",
              "    </tr>\n",
              "    <tr>\n",
              "      <th>15546</th>\n",
              "      <td>2008</td>\n",
              "      <td>12</td>\n",
              "      <td>NaN</td>\n",
              "      <td>M</td>\n",
              "      <td>181235</td>\n",
              "    </tr>\n",
              "  </tbody>\n",
              "</table>\n",
              "</div>"
            ],
            "text/plain": [
              "       year  month  day gender  births\n",
              "15542  2008     10  NaN      M  183219\n",
              "15543  2008     11  NaN      F  158939\n",
              "15544  2008     11  NaN      M  165468\n",
              "15545  2008     12  NaN      F  173215\n",
              "15546  2008     12  NaN      M  181235"
            ]
          },
          "metadata": {
            "tags": []
          },
          "execution_count": 5
        }
      ]
    },
    {
      "cell_type": "code",
      "metadata": {
        "colab": {
          "base_uri": "https://localhost:8080/"
        },
        "id": "sa2I_p5yL9tG",
        "outputId": "ad2be8a0-becc-4393-84cf-015455cc8dc5"
      },
      "source": [
        "births.info()"
      ],
      "execution_count": 6,
      "outputs": [
        {
          "output_type": "stream",
          "text": [
            "<class 'pandas.core.frame.DataFrame'>\n",
            "RangeIndex: 15547 entries, 0 to 15546\n",
            "Data columns (total 5 columns):\n",
            " #   Column  Non-Null Count  Dtype  \n",
            "---  ------  --------------  -----  \n",
            " 0   year    15547 non-null  int64  \n",
            " 1   month   15547 non-null  int64  \n",
            " 2   day     15067 non-null  float64\n",
            " 3   gender  15547 non-null  object \n",
            " 4   births  15547 non-null  int64  \n",
            "dtypes: float64(1), int64(3), object(1)\n",
            "memory usage: 607.4+ KB\n"
          ],
          "name": "stdout"
        }
      ]
    },
    {
      "cell_type": "code",
      "metadata": {
        "colab": {
          "base_uri": "https://localhost:8080/",
          "height": 297
        },
        "id": "nQml2JHfL9tG",
        "outputId": "c6fce45b-81fd-46b5-dffe-cf513daedf11"
      },
      "source": [
        "births.describe()"
      ],
      "execution_count": 7,
      "outputs": [
        {
          "output_type": "execute_result",
          "data": {
            "text/html": [
              "<div>\n",
              "<style scoped>\n",
              "    .dataframe tbody tr th:only-of-type {\n",
              "        vertical-align: middle;\n",
              "    }\n",
              "\n",
              "    .dataframe tbody tr th {\n",
              "        vertical-align: top;\n",
              "    }\n",
              "\n",
              "    .dataframe thead th {\n",
              "        text-align: right;\n",
              "    }\n",
              "</style>\n",
              "<table border=\"1\" class=\"dataframe\">\n",
              "  <thead>\n",
              "    <tr style=\"text-align: right;\">\n",
              "      <th></th>\n",
              "      <th>year</th>\n",
              "      <th>month</th>\n",
              "      <th>day</th>\n",
              "      <th>births</th>\n",
              "    </tr>\n",
              "  </thead>\n",
              "  <tbody>\n",
              "    <tr>\n",
              "      <th>count</th>\n",
              "      <td>15547.000000</td>\n",
              "      <td>15547.000000</td>\n",
              "      <td>15067.000000</td>\n",
              "      <td>15547.000000</td>\n",
              "    </tr>\n",
              "    <tr>\n",
              "      <th>mean</th>\n",
              "      <td>1979.037435</td>\n",
              "      <td>6.515919</td>\n",
              "      <td>17.769894</td>\n",
              "      <td>9762.293561</td>\n",
              "    </tr>\n",
              "    <tr>\n",
              "      <th>std</th>\n",
              "      <td>6.728340</td>\n",
              "      <td>3.449632</td>\n",
              "      <td>15.284034</td>\n",
              "      <td>28552.465810</td>\n",
              "    </tr>\n",
              "    <tr>\n",
              "      <th>min</th>\n",
              "      <td>1969.000000</td>\n",
              "      <td>1.000000</td>\n",
              "      <td>1.000000</td>\n",
              "      <td>1.000000</td>\n",
              "    </tr>\n",
              "    <tr>\n",
              "      <th>25%</th>\n",
              "      <td>1974.000000</td>\n",
              "      <td>4.000000</td>\n",
              "      <td>8.000000</td>\n",
              "      <td>4358.000000</td>\n",
              "    </tr>\n",
              "    <tr>\n",
              "      <th>50%</th>\n",
              "      <td>1979.000000</td>\n",
              "      <td>7.000000</td>\n",
              "      <td>16.000000</td>\n",
              "      <td>4814.000000</td>\n",
              "    </tr>\n",
              "    <tr>\n",
              "      <th>75%</th>\n",
              "      <td>1984.000000</td>\n",
              "      <td>10.000000</td>\n",
              "      <td>24.000000</td>\n",
              "      <td>5289.500000</td>\n",
              "    </tr>\n",
              "    <tr>\n",
              "      <th>max</th>\n",
              "      <td>2008.000000</td>\n",
              "      <td>12.000000</td>\n",
              "      <td>99.000000</td>\n",
              "      <td>199622.000000</td>\n",
              "    </tr>\n",
              "  </tbody>\n",
              "</table>\n",
              "</div>"
            ],
            "text/plain": [
              "               year         month           day         births\n",
              "count  15547.000000  15547.000000  15067.000000   15547.000000\n",
              "mean    1979.037435      6.515919     17.769894    9762.293561\n",
              "std        6.728340      3.449632     15.284034   28552.465810\n",
              "min     1969.000000      1.000000      1.000000       1.000000\n",
              "25%     1974.000000      4.000000      8.000000    4358.000000\n",
              "50%     1979.000000      7.000000     16.000000    4814.000000\n",
              "75%     1984.000000     10.000000     24.000000    5289.500000\n",
              "max     2008.000000     12.000000     99.000000  199622.000000"
            ]
          },
          "metadata": {
            "tags": []
          },
          "execution_count": 7
        }
      ]
    },
    {
      "cell_type": "code",
      "metadata": {
        "colab": {
          "base_uri": "https://localhost:8080/"
        },
        "id": "ZeuOakp7L9tH",
        "outputId": "a444055a-4d88-4f60-f05b-2acdc25e8c2b"
      },
      "source": [
        "births['day'].unique()"
      ],
      "execution_count": 8,
      "outputs": [
        {
          "output_type": "execute_result",
          "data": {
            "text/plain": [
              "array([ 1.,  2.,  3.,  4.,  5.,  6.,  7.,  8.,  9., 10., 11., 12., 13.,\n",
              "       14., 15., 16., 17., 18., 19., 20., 21., 22., 23., 24., 25., 26.,\n",
              "       27., 28., 29., 30., 31., 99., nan])"
            ]
          },
          "metadata": {
            "tags": []
          },
          "execution_count": 8
        }
      ]
    },
    {
      "cell_type": "markdown",
      "metadata": {
        "id": "exom6uCTL9tJ"
      },
      "source": [
        "* Observar que o último elemento do array ```births['day'].unique()```, é uma string, portanto, a função ```isnull()```, retorna ```False``` para esse elemento.\n",
        "* Vamos fazer uma primeira limpeza dos valores incorretos"
      ]
    },
    {
      "cell_type": "code",
      "metadata": {
        "scrolled": true,
        "colab": {
          "base_uri": "https://localhost:8080/"
        },
        "id": "Q1ZlEitQL9tJ",
        "outputId": "37447a1f-3e23-4860-d883-86adcd718873"
      },
      "source": [
        "births['day'].replace(['99','null'], np.nan, inplace=True)\n",
        "births['day'] = births['day'].astype(float)\n",
        "births['day'].unique()"
      ],
      "execution_count": 9,
      "outputs": [
        {
          "output_type": "execute_result",
          "data": {
            "text/plain": [
              "array([ 1.,  2.,  3.,  4.,  5.,  6.,  7.,  8.,  9., 10., 11., 12., 13.,\n",
              "       14., 15., 16., 17., 18., 19., 20., 21., 22., 23., 24., 25., 26.,\n",
              "       27., 28., 29., 30., 31., 99., nan])"
            ]
          },
          "metadata": {
            "tags": []
          },
          "execution_count": 9
        }
      ]
    },
    {
      "cell_type": "markdown",
      "metadata": {
        "id": "0JJ04ijYL9tJ"
      },
      "source": [
        "## 2. Algumas primeiras visualizações com Seaborn"
      ]
    },
    {
      "cell_type": "markdown",
      "metadata": {
        "id": "TEmjZL9JL9tJ"
      },
      "source": [
        "* Queremos obter uma visualização da quantidade de nascimentos por ano. Para isso, primeiro geramos uma tabela (com `pivot_table`) com os dados agregados."
      ]
    },
    {
      "cell_type": "code",
      "metadata": {
        "colab": {
          "base_uri": "https://localhost:8080/",
          "height": 235
        },
        "id": "dAagKiL3L9tJ",
        "outputId": "68f0d1fe-31e8-422c-b6f0-02f59eda40fe"
      },
      "source": [
        "table = births.pivot_table(values = 'births', index='year', columns='gender', aggfunc='sum', margins=True)\n",
        "table.head()"
      ],
      "execution_count": 10,
      "outputs": [
        {
          "output_type": "execute_result",
          "data": {
            "text/html": [
              "<div>\n",
              "<style scoped>\n",
              "    .dataframe tbody tr th:only-of-type {\n",
              "        vertical-align: middle;\n",
              "    }\n",
              "\n",
              "    .dataframe tbody tr th {\n",
              "        vertical-align: top;\n",
              "    }\n",
              "\n",
              "    .dataframe thead th {\n",
              "        text-align: right;\n",
              "    }\n",
              "</style>\n",
              "<table border=\"1\" class=\"dataframe\">\n",
              "  <thead>\n",
              "    <tr style=\"text-align: right;\">\n",
              "      <th>gender</th>\n",
              "      <th>F</th>\n",
              "      <th>M</th>\n",
              "      <th>All</th>\n",
              "    </tr>\n",
              "    <tr>\n",
              "      <th>year</th>\n",
              "      <th></th>\n",
              "      <th></th>\n",
              "      <th></th>\n",
              "    </tr>\n",
              "  </thead>\n",
              "  <tbody>\n",
              "    <tr>\n",
              "      <th>1969</th>\n",
              "      <td>1753634</td>\n",
              "      <td>1846572</td>\n",
              "      <td>3600206</td>\n",
              "    </tr>\n",
              "    <tr>\n",
              "      <th>1970</th>\n",
              "      <td>1819164</td>\n",
              "      <td>1918636</td>\n",
              "      <td>3737800</td>\n",
              "    </tr>\n",
              "    <tr>\n",
              "      <th>1971</th>\n",
              "      <td>1736774</td>\n",
              "      <td>1826774</td>\n",
              "      <td>3563548</td>\n",
              "    </tr>\n",
              "    <tr>\n",
              "      <th>1972</th>\n",
              "      <td>1592347</td>\n",
              "      <td>1673888</td>\n",
              "      <td>3266235</td>\n",
              "    </tr>\n",
              "    <tr>\n",
              "      <th>1973</th>\n",
              "      <td>1533102</td>\n",
              "      <td>1613023</td>\n",
              "      <td>3146125</td>\n",
              "    </tr>\n",
              "  </tbody>\n",
              "</table>\n",
              "</div>"
            ],
            "text/plain": [
              "gender        F        M      All\n",
              "year                             \n",
              "1969    1753634  1846572  3600206\n",
              "1970    1819164  1918636  3737800\n",
              "1971    1736774  1826774  3563548\n",
              "1972    1592347  1673888  3266235\n",
              "1973    1533102  1613023  3146125"
            ]
          },
          "metadata": {
            "tags": []
          },
          "execution_count": 10
        }
      ]
    },
    {
      "cell_type": "markdown",
      "metadata": {
        "id": "CrDR9gWbL9tK"
      },
      "source": [
        "* Vamos tratar os dados de entrada para o gráfico"
      ]
    },
    {
      "cell_type": "code",
      "metadata": {
        "colab": {
          "base_uri": "https://localhost:8080/"
        },
        "id": "gY2Pd7hxL9tK",
        "outputId": "639e1e21-af29-4cd2-d8e2-b7377a744418"
      },
      "source": [
        "anos = table.index[:-1]\n",
        "anos"
      ],
      "execution_count": 11,
      "outputs": [
        {
          "output_type": "execute_result",
          "data": {
            "text/plain": [
              "Index([1969, 1970, 1971, 1972, 1973, 1974, 1975, 1976, 1977, 1978, 1979, 1980,\n",
              "       1981, 1982, 1983, 1984, 1985, 1986, 1987, 1988, 1989, 1990, 1991, 1992,\n",
              "       1993, 1994, 1995, 1996, 1997, 1998, 1999, 2000, 2001, 2002, 2003, 2004,\n",
              "       2005, 2006, 2007, 2008],\n",
              "      dtype='object', name='year')"
            ]
          },
          "metadata": {
            "tags": []
          },
          "execution_count": 11
        }
      ]
    },
    {
      "cell_type": "code",
      "metadata": {
        "colab": {
          "base_uri": "https://localhost:8080/"
        },
        "id": "UyFzaPHrL9tK",
        "outputId": "a41568db-f827-421f-ec4d-4686b9461d7f"
      },
      "source": [
        "type(table)"
      ],
      "execution_count": 12,
      "outputs": [
        {
          "output_type": "execute_result",
          "data": {
            "text/plain": [
              "pandas.core.frame.DataFrame"
            ]
          },
          "metadata": {
            "tags": []
          },
          "execution_count": 12
        }
      ]
    },
    {
      "cell_type": "code",
      "metadata": {
        "colab": {
          "base_uri": "https://localhost:8080/"
        },
        "id": "RssW_HarL9tK",
        "outputId": "e93b35b3-b227-4929-c632-5a9e8ea13947"
      },
      "source": [
        "nascimentos_anos = np.asarray(table.iloc[:-1, -1])\n",
        "nascimentos_anos"
      ],
      "execution_count": 17,
      "outputs": [
        {
          "output_type": "execute_result",
          "data": {
            "text/plain": [
              "array([3600206, 3737800, 3563548, 3266235, 3146125, 3170631, 3153556,\n",
              "       3176476, 3332159, 3338300, 3499795, 3617981, 3635515, 3685457,\n",
              "       3642821, 3673568, 3765064, 3760695, 3813216, 3913793, 4045693,\n",
              "       4162917, 4115342, 4069428, 4004523, 3956925, 3903012, 3894874,\n",
              "       3884329, 3945192, 3963465, 4063823, 4031531, 4027376, 4096092,\n",
              "       4118907, 4145619, 4273225, 4324008, 4255156])"
            ]
          },
          "metadata": {
            "tags": []
          },
          "execution_count": 17
        }
      ]
    },
    {
      "cell_type": "code",
      "metadata": {
        "colab": {
          "base_uri": "https://localhost:8080/"
        },
        "id": "pdUd9F5yL9tK",
        "outputId": "3e6f85a9-e6c0-420c-fbb4-0200b0621c8a"
      },
      "source": [
        "table.shape"
      ],
      "execution_count": 15,
      "outputs": [
        {
          "output_type": "execute_result",
          "data": {
            "text/plain": [
              "(41, 3)"
            ]
          },
          "metadata": {
            "tags": []
          },
          "execution_count": 15
        }
      ]
    },
    {
      "cell_type": "markdown",
      "metadata": {
        "id": "jKVJSSAYL9tL"
      },
      "source": [
        "* Comprovamos que a quantidade de dados para cada eixo está correta."
      ]
    },
    {
      "cell_type": "code",
      "metadata": {
        "colab": {
          "base_uri": "https://localhost:8080/"
        },
        "id": "iL_PgSOsL9tL",
        "outputId": "c0c2d63c-2b66-4554-c57f-9896b994e523"
      },
      "source": [
        "len(anos) == len(nascimentos_anos)"
      ],
      "execution_count": 18,
      "outputs": [
        {
          "output_type": "execute_result",
          "data": {
            "text/plain": [
              "True"
            ]
          },
          "metadata": {
            "tags": []
          },
          "execution_count": 18
        }
      ]
    },
    {
      "cell_type": "markdown",
      "metadata": {
        "id": "XIz4iFcIL9tL"
      },
      "source": [
        "# Construir o gráfico."
      ]
    },
    {
      "cell_type": "code",
      "metadata": {
        "colab": {
          "base_uri": "https://localhost:8080/",
          "height": 546
        },
        "id": "J9dHemg0L9tL",
        "outputId": "ba036174-8a1a-494f-fdf6-ff4808b38b05"
      },
      "source": [
        "plt.figure(figsize=(20,8))\n",
        "\n",
        "plt.title(\"Nascimentos nos EUA (1969-2008)\", fontsize=20)\n",
        "\n",
        "plt.xlabel('Year', fontsize=15)\n",
        "plt.ylabel('Total de nascimentos', fontsize=15)\n",
        "\n",
        "plt.xticks(fontsize=12, rotation=60)\n",
        "plt.yticks(fontsize=12, rotation=90)\n",
        "\n",
        "sns.barplot(x = anos, y = nascimentos_anos );"
      ],
      "execution_count": 19,
      "outputs": [
        {
          "output_type": "display_data",
          "data": {
            "image/png": "[encoded data removed]",
            "text/plain": [
              "<Figure size 1440x576 with 1 Axes>"
            ]
          },
          "metadata": {
            "tags": [],
            "needs_background": "light"
          }
        }
      ]
    },
    {
      "cell_type": "markdown",
      "metadata": {
        "id": "4CPtLNR6L9tL"
      },
      "source": [
        "* Outra opção para gerar o mesmo gráfico..."
      ]
    },
    {
      "cell_type": "code",
      "metadata": {
        "colab": {
          "base_uri": "https://localhost:8080/",
          "height": 546
        },
        "id": "gie0FjNdL9tL",
        "outputId": "78f27260-305d-449e-e277-01144ef5ab8b"
      },
      "source": [
        "plt.figure(figsize=(20,8))\n",
        "\n",
        "plt.title(\"Nascimentos nos EUA (1969-2008)\", fontsize=20)\n",
        "\n",
        "plt.xlabel('Year', fontsize=15)\n",
        "plt.ylabel('Total de nascimentos', fontsize=15)\n",
        "\n",
        "plt.xticks(fontsize=12, rotation=60)\n",
        "plt.yticks(fontsize=12, rotation=90)\n",
        "\n",
        "sns.barplot(x=births['year'], y=births['births'], estimator=np.sum, ci=None);"
      ],
      "execution_count": 20,
      "outputs": [
        {
          "output_type": "display_data",
          "data": {
            "image/png": "[encoded data removed]",
            "text/plain": [
              "<Figure size 1440x576 with 1 Axes>"
            ]
          },
          "metadata": {
            "tags": [],
            "needs_background": "light"
          }
        }
      ]
    },
    {
      "cell_type": "markdown",
      "metadata": {
        "id": "rT1iRmO3L9tL"
      },
      "source": [
        "* Agora, queremos gerar um gráfico do total de nascimentos por década..."
      ]
    },
    {
      "cell_type": "code",
      "metadata": {
        "colab": {
          "base_uri": "https://localhost:8080/",
          "height": 235
        },
        "id": "lB7hk8tkL9tL",
        "outputId": "cee9e288-7e36-41f9-b0db-3ca9d2570977"
      },
      "source": [
        "births['decade'] = 10 * (births['year'] // 10)\n",
        "\n",
        "table2 = births.pivot_table('births', index='decade', columns='gender', aggfunc='sum', margins=True)\n",
        "\n",
        "\n",
        "table2.columns = pd.Index(['F','M','All'])\n",
        "table2.index = pd.Index(['1960','1970','1980','1990','2000','All'])\n",
        "\n",
        "table2"
      ],
      "execution_count": 30,
      "outputs": [
        {
          "output_type": "execute_result",
          "data": {
            "text/html": [
              "<div>\n",
              "<style scoped>\n",
              "    .dataframe tbody tr th:only-of-type {\n",
              "        vertical-align: middle;\n",
              "    }\n",
              "\n",
              "    .dataframe tbody tr th {\n",
              "        vertical-align: top;\n",
              "    }\n",
              "\n",
              "    .dataframe thead th {\n",
              "        text-align: right;\n",
              "    }\n",
              "</style>\n",
              "<table border=\"1\" class=\"dataframe\">\n",
              "  <thead>\n",
              "    <tr style=\"text-align: right;\">\n",
              "      <th></th>\n",
              "      <th>F</th>\n",
              "      <th>M</th>\n",
              "      <th>All</th>\n",
              "    </tr>\n",
              "  </thead>\n",
              "  <tbody>\n",
              "    <tr>\n",
              "      <th>1960</th>\n",
              "      <td>1753634</td>\n",
              "      <td>1846572</td>\n",
              "      <td>3600206</td>\n",
              "    </tr>\n",
              "    <tr>\n",
              "      <th>1970</th>\n",
              "      <td>16263075</td>\n",
              "      <td>17121550</td>\n",
              "      <td>33384625</td>\n",
              "    </tr>\n",
              "    <tr>\n",
              "      <th>1980</th>\n",
              "      <td>18310351</td>\n",
              "      <td>19243452</td>\n",
              "      <td>37553803</td>\n",
              "    </tr>\n",
              "    <tr>\n",
              "      <th>1990</th>\n",
              "      <td>19479454</td>\n",
              "      <td>20420553</td>\n",
              "      <td>39900007</td>\n",
              "    </tr>\n",
              "    <tr>\n",
              "      <th>2000</th>\n",
              "      <td>18229309</td>\n",
              "      <td>19106428</td>\n",
              "      <td>37335737</td>\n",
              "    </tr>\n",
              "    <tr>\n",
              "      <th>All</th>\n",
              "      <td>74035823</td>\n",
              "      <td>77738555</td>\n",
              "      <td>151774378</td>\n",
              "    </tr>\n",
              "  </tbody>\n",
              "</table>\n",
              "</div>"
            ],
            "text/plain": [
              "             F         M        All\n",
              "1960   1753634   1846572    3600206\n",
              "1970  16263075  17121550   33384625\n",
              "1980  18310351  19243452   37553803\n",
              "1990  19479454  20420553   39900007\n",
              "2000  18229309  19106428   37335737\n",
              "All   74035823  77738555  151774378"
            ]
          },
          "metadata": {
            "tags": []
          },
          "execution_count": 30
        }
      ]
    },
    {
      "cell_type": "code",
      "metadata": {
        "id": "o6do0CZ_L9tL",
        "outputId": "21f66f77-198f-4d62-acd5-d6482be3ea08"
      },
      "source": [
        "# Iniciamos o gráfico de barras com a informação a ser representada graficamente.\n",
        "plot = sns.barplot( x = table2.index[0:5], y = table2['All'][0:5], ci=None)\n",
        "\n",
        "# Adicionar o título.\n",
        "plot.set_title('Nascimentos por década', fontdict = {'fontsize': 30, 'verticalalignment':'bottom'})\n",
        "\n",
        "# Ajustar a legenda dos eixos.\n",
        "plot.set_xlabel('Década', fontdict = {'fontsize':19})\n",
        "plot.set_ylabel('Nascimentos', fontdict = {'fontsize':19});"
      ],
      "execution_count": null,
      "outputs": [
        {
          "output_type": "display_data",
          "data": {
            "image/png": "[encoded data removed]",
            "text/plain": [
              "<Figure size 432x288 with 1 Axes>"
            ]
          },
          "metadata": {
            "tags": [],
            "needs_background": "light"
          }
        }
      ]
    },
    {
      "cell_type": "markdown",
      "metadata": {
        "id": "e812YSUrL9tM"
      },
      "source": [
        "### Agora vamos fazer um gráfico separando por gênero"
      ]
    },
    {
      "cell_type": "code",
      "metadata": {
        "id": "TgmDB5jXL9tM"
      },
      "source": [
        "table2['decade'] = table2.index"
      ],
      "execution_count": 33,
      "outputs": []
    },
    {
      "cell_type": "code",
      "metadata": {
        "colab": {
          "base_uri": "https://localhost:8080/",
          "height": 359
        },
        "id": "swNqNvvXL9tM",
        "outputId": "c163f156-2caf-4804-feb9-af032e6f863e"
      },
      "source": [
        "table3 = table2.melt(id_vars=['decade'])\n",
        "\n",
        "table3 = table3.loc[ (table3['decade'] != 'All') & (table3['variable'] != 'All')]\n",
        "\n",
        "table3"
      ],
      "execution_count": 40,
      "outputs": [
        {
          "output_type": "execute_result",
          "data": {
            "text/html": [
              "<div>\n",
              "<style scoped>\n",
              "    .dataframe tbody tr th:only-of-type {\n",
              "        vertical-align: middle;\n",
              "    }\n",
              "\n",
              "    .dataframe tbody tr th {\n",
              "        vertical-align: top;\n",
              "    }\n",
              "\n",
              "    .dataframe thead th {\n",
              "        text-align: right;\n",
              "    }\n",
              "</style>\n",
              "<table border=\"1\" class=\"dataframe\">\n",
              "  <thead>\n",
              "    <tr style=\"text-align: right;\">\n",
              "      <th></th>\n",
              "      <th>decade</th>\n",
              "      <th>variable</th>\n",
              "      <th>value</th>\n",
              "    </tr>\n",
              "  </thead>\n",
              "  <tbody>\n",
              "    <tr>\n",
              "      <th>0</th>\n",
              "      <td>1960</td>\n",
              "      <td>F</td>\n",
              "      <td>1753634</td>\n",
              "    </tr>\n",
              "    <tr>\n",
              "      <th>1</th>\n",
              "      <td>1970</td>\n",
              "      <td>F</td>\n",
              "      <td>16263075</td>\n",
              "    </tr>\n",
              "    <tr>\n",
              "      <th>2</th>\n",
              "      <td>1980</td>\n",
              "      <td>F</td>\n",
              "      <td>18310351</td>\n",
              "    </tr>\n",
              "    <tr>\n",
              "      <th>3</th>\n",
              "      <td>1990</td>\n",
              "      <td>F</td>\n",
              "      <td>19479454</td>\n",
              "    </tr>\n",
              "    <tr>\n",
              "      <th>4</th>\n",
              "      <td>2000</td>\n",
              "      <td>F</td>\n",
              "      <td>18229309</td>\n",
              "    </tr>\n",
              "    <tr>\n",
              "      <th>6</th>\n",
              "      <td>1960</td>\n",
              "      <td>M</td>\n",
              "      <td>1846572</td>\n",
              "    </tr>\n",
              "    <tr>\n",
              "      <th>7</th>\n",
              "      <td>1970</td>\n",
              "      <td>M</td>\n",
              "      <td>17121550</td>\n",
              "    </tr>\n",
              "    <tr>\n",
              "      <th>8</th>\n",
              "      <td>1980</td>\n",
              "      <td>M</td>\n",
              "      <td>19243452</td>\n",
              "    </tr>\n",
              "    <tr>\n",
              "      <th>9</th>\n",
              "      <td>1990</td>\n",
              "      <td>M</td>\n",
              "      <td>20420553</td>\n",
              "    </tr>\n",
              "    <tr>\n",
              "      <th>10</th>\n",
              "      <td>2000</td>\n",
              "      <td>M</td>\n",
              "      <td>19106428</td>\n",
              "    </tr>\n",
              "  </tbody>\n",
              "</table>\n",
              "</div>"
            ],
            "text/plain": [
              "   decade variable     value\n",
              "0    1960        F   1753634\n",
              "1    1970        F  16263075\n",
              "2    1980        F  18310351\n",
              "3    1990        F  19479454\n",
              "4    2000        F  18229309\n",
              "6    1960        M   1846572\n",
              "7    1970        M  17121550\n",
              "8    1980        M  19243452\n",
              "9    1990        M  20420553\n",
              "10   2000        M  19106428"
            ]
          },
          "metadata": {
            "tags": []
          },
          "execution_count": 40
        }
      ]
    },
    {
      "cell_type": "code",
      "metadata": {
        "scrolled": true,
        "colab": {
          "base_uri": "https://localhost:8080/",
          "height": 316
        },
        "id": "a8Rg37OjL9tM",
        "outputId": "17b9e92d-0b46-4a41-b344-3464ac73027d"
      },
      "source": [
        "# Começar o gráfico\n",
        "plot = sns.barplot(x = 'decade', y = 'value', hue = 'variable', data = table3, ci=None);\n",
        "\n",
        "# Adicionar o título.\n",
        "plot.set_title('Nascimentos por década', fontdict = {'fontsize': 21, 'verticalalignment':'bottom'} )\n",
        "\n",
        "# Ajustar a legenda dos eixos.\n",
        "plot.set_xlabel('Década', fontdict = {'fontsize':19})\n",
        "plot.set_ylabel('Nascimentos', fontdict = {'fontsize':19})\n",
        "\n",
        "plt.show()"
      ],
      "execution_count": 42,
      "outputs": [
        {
          "output_type": "display_data",
          "data": {
            "image/png": "[encoded data removed]",
            "text/plain": [
              "<Figure size 432x288 with 1 Axes>"
            ]
          },
          "metadata": {
            "tags": [],
            "needs_background": "light"
          }
        }
      ]
    },
    {
      "cell_type": "markdown",
      "metadata": {
        "id": "DWTFsgiBL9tM"
      },
      "source": [
        "## 5. Algumas formas de visualizar séries de tempo"
      ]
    },
    {
      "cell_type": "code",
      "metadata": {
        "colab": {
          "base_uri": "https://localhost:8080/",
          "height": 318
        },
        "id": "axorSAl7L9tM",
        "outputId": "7163ff09-559e-4bdc-daac-053687834963"
      },
      "source": [
        "# Tomar estilos de Seaborn\n",
        "sns.set(style=\"darkgrid\", palette=\"colorblind\", color_codes=True)  \n",
        "\n",
        "#Criando plot\n",
        "plot = births.pivot_table('births', index='year', \n",
        "columns='gender', aggfunc='sum').plot()\n",
        "\n",
        "# Adicionar o título.\n",
        "plot.set_title('Nascimentos por gênero (1969-2008)', fontdict = {'fontsize': 21, 'verticalalignment':'bottom'} )\n",
        "\n",
        "# Ajustar a legenda dos eixos.\n",
        "plot.set_xlabel('Ano', fontdict = {'fontsize':19})\n",
        "plot.set_ylabel('Nascimentos', fontdict = {'fontsize':19});"
      ],
      "execution_count": 43,
      "outputs": [
        {
          "output_type": "display_data",
          "data": {
            "image/png": "[encoded data removed]",
            "text/plain": [
              "<Figure size 432x288 with 1 Axes>"
            ]
          },
          "metadata": {
            "tags": []
          }
        }
      ]
    },
    {
      "cell_type": "markdown",
      "metadata": {
        "id": "mN-mdGTOL9tM"
      },
      "source": [
        "* Agora plotar a proporção de homens"
      ]
    },
    {
      "cell_type": "code",
      "metadata": {
        "colab": {
          "base_uri": "https://localhost:8080/",
          "height": 235
        },
        "id": "juxSDvfBL9tM",
        "outputId": "cac1ba47-9af4-4a7f-f5b6-782bbd5f83d0"
      },
      "source": [
        "table['M/F'] = round(table['M'] / table['F'], 2)\n",
        "table['%M'] = round(table['M'] / table['All'] * 100, 1)\n",
        "table.head()"
      ],
      "execution_count": 45,
      "outputs": [
        {
          "output_type": "execute_result",
          "data": {
            "text/html": [
              "<div>\n",
              "<style scoped>\n",
              "    .dataframe tbody tr th:only-of-type {\n",
              "        vertical-align: middle;\n",
              "    }\n",
              "\n",
              "    .dataframe tbody tr th {\n",
              "        vertical-align: top;\n",
              "    }\n",
              "\n",
              "    .dataframe thead th {\n",
              "        text-align: right;\n",
              "    }\n",
              "</style>\n",
              "<table border=\"1\" class=\"dataframe\">\n",
              "  <thead>\n",
              "    <tr style=\"text-align: right;\">\n",
              "      <th>gender</th>\n",
              "      <th>F</th>\n",
              "      <th>M</th>\n",
              "      <th>All</th>\n",
              "      <th>M/F</th>\n",
              "      <th>%M</th>\n",
              "    </tr>\n",
              "    <tr>\n",
              "      <th>year</th>\n",
              "      <th></th>\n",
              "      <th></th>\n",
              "      <th></th>\n",
              "      <th></th>\n",
              "      <th></th>\n",
              "    </tr>\n",
              "  </thead>\n",
              "  <tbody>\n",
              "    <tr>\n",
              "      <th>1969</th>\n",
              "      <td>1753634</td>\n",
              "      <td>1846572</td>\n",
              "      <td>3600206</td>\n",
              "      <td>1.05</td>\n",
              "      <td>51.3</td>\n",
              "    </tr>\n",
              "    <tr>\n",
              "      <th>1970</th>\n",
              "      <td>1819164</td>\n",
              "      <td>1918636</td>\n",
              "      <td>3737800</td>\n",
              "      <td>1.05</td>\n",
              "      <td>51.3</td>\n",
              "    </tr>\n",
              "    <tr>\n",
              "      <th>1971</th>\n",
              "      <td>1736774</td>\n",
              "      <td>1826774</td>\n",
              "      <td>3563548</td>\n",
              "      <td>1.05</td>\n",
              "      <td>51.3</td>\n",
              "    </tr>\n",
              "    <tr>\n",
              "      <th>1972</th>\n",
              "      <td>1592347</td>\n",
              "      <td>1673888</td>\n",
              "      <td>3266235</td>\n",
              "      <td>1.05</td>\n",
              "      <td>51.2</td>\n",
              "    </tr>\n",
              "    <tr>\n",
              "      <th>1973</th>\n",
              "      <td>1533102</td>\n",
              "      <td>1613023</td>\n",
              "      <td>3146125</td>\n",
              "      <td>1.05</td>\n",
              "      <td>51.3</td>\n",
              "    </tr>\n",
              "  </tbody>\n",
              "</table>\n",
              "</div>"
            ],
            "text/plain": [
              "gender        F        M      All   M/F    %M\n",
              "year                                         \n",
              "1969    1753634  1846572  3600206  1.05  51.3\n",
              "1970    1819164  1918636  3737800  1.05  51.3\n",
              "1971    1736774  1826774  3563548  1.05  51.3\n",
              "1972    1592347  1673888  3266235  1.05  51.2\n",
              "1973    1533102  1613023  3146125  1.05  51.3"
            ]
          },
          "metadata": {
            "tags": []
          },
          "execution_count": 45
        }
      ]
    },
    {
      "cell_type": "code",
      "metadata": {
        "colab": {
          "base_uri": "https://localhost:8080/",
          "height": 265
        },
        "id": "RETndU7EL9tM",
        "outputId": "366d14a5-6519-4aba-97c1-c6e2a507c43f"
      },
      "source": [
        "sns.set(style=\"darkgrid\", palette=\"Set2\")\n",
        "\n",
        "# Gerar o eixo x com 40 posições (2008-1969) para usar cada um dos anos como tag.\n",
        "\n",
        "plt.xticks([x for x in range(40)], table.index[:-1], rotation=90)\n",
        "\n",
        "# Fazer o gráfico\n",
        "\n",
        "sns.lineplot(data=table['%M'][:-1], legend=False);"
      ],
      "execution_count": 50,
      "outputs": [
        {
          "output_type": "display_data",
          "data": {
            "image/png": "[encoded data removed]",
            "text/plain": [
              "<Figure size 432x288 with 1 Axes>"
            ]
          },
          "metadata": {
            "tags": []
          }
        }
      ]
    },
    {
      "cell_type": "markdown",
      "metadata": {
        "id": "599RjF0aL9tN"
      },
      "source": [
        "## 3. Usando Dummies e filtros"
      ]
    },
    {
      "cell_type": "markdown",
      "metadata": {
        "id": "SWdg1PA8L9tN"
      },
      "source": [
        "* Gerar agora um `DataFrame` que contenha o `gender` como dummy: "
      ]
    },
    {
      "cell_type": "code",
      "metadata": {
        "colab": {
          "base_uri": "https://localhost:8080/",
          "height": 204
        },
        "id": "0sRI0dkUL9tN",
        "outputId": "13345209-3a10-4da7-8835-1c87ae1c7df2"
      },
      "source": [
        "births = births.join(pd.get_dummies(births['gender'], prefix='gender', prefix_sep='_', drop_first=True))\n",
        "births.head()"
      ],
      "execution_count": 61,
      "outputs": [
        {
          "output_type": "execute_result",
          "data": {
            "text/html": [
              "<div>\n",
              "<style scoped>\n",
              "    .dataframe tbody tr th:only-of-type {\n",
              "        vertical-align: middle;\n",
              "    }\n",
              "\n",
              "    .dataframe tbody tr th {\n",
              "        vertical-align: top;\n",
              "    }\n",
              "\n",
              "    .dataframe thead th {\n",
              "        text-align: right;\n",
              "    }\n",
              "</style>\n",
              "<table border=\"1\" class=\"dataframe\">\n",
              "  <thead>\n",
              "    <tr style=\"text-align: right;\">\n",
              "      <th></th>\n",
              "      <th>year</th>\n",
              "      <th>month</th>\n",
              "      <th>day</th>\n",
              "      <th>gender</th>\n",
              "      <th>births</th>\n",
              "      <th>gender_M</th>\n",
              "    </tr>\n",
              "  </thead>\n",
              "  <tbody>\n",
              "    <tr>\n",
              "      <th>0</th>\n",
              "      <td>1969</td>\n",
              "      <td>1</td>\n",
              "      <td>1.0</td>\n",
              "      <td>F</td>\n",
              "      <td>4046</td>\n",
              "      <td>0</td>\n",
              "    </tr>\n",
              "    <tr>\n",
              "      <th>1</th>\n",
              "      <td>1969</td>\n",
              "      <td>1</td>\n",
              "      <td>1.0</td>\n",
              "      <td>M</td>\n",
              "      <td>4440</td>\n",
              "      <td>1</td>\n",
              "    </tr>\n",
              "    <tr>\n",
              "      <th>2</th>\n",
              "      <td>1969</td>\n",
              "      <td>1</td>\n",
              "      <td>2.0</td>\n",
              "      <td>F</td>\n",
              "      <td>4454</td>\n",
              "      <td>0</td>\n",
              "    </tr>\n",
              "    <tr>\n",
              "      <th>3</th>\n",
              "      <td>1969</td>\n",
              "      <td>1</td>\n",
              "      <td>2.0</td>\n",
              "      <td>M</td>\n",
              "      <td>4548</td>\n",
              "      <td>1</td>\n",
              "    </tr>\n",
              "    <tr>\n",
              "      <th>4</th>\n",
              "      <td>1969</td>\n",
              "      <td>1</td>\n",
              "      <td>3.0</td>\n",
              "      <td>F</td>\n",
              "      <td>4548</td>\n",
              "      <td>0</td>\n",
              "    </tr>\n",
              "  </tbody>\n",
              "</table>\n",
              "</div>"
            ],
            "text/plain": [
              "   year  month  day gender  births  gender_M\n",
              "0  1969      1  1.0      F    4046         0\n",
              "1  1969      1  1.0      M    4440         1\n",
              "2  1969      1  2.0      F    4454         0\n",
              "3  1969      1  2.0      M    4548         1\n",
              "4  1969      1  3.0      F    4548         0"
            ]
          },
          "metadata": {
            "tags": []
          },
          "execution_count": 61
        }
      ]
    },
    {
      "cell_type": "markdown",
      "metadata": {
        "id": "tH9QG2CVL9tN"
      },
      "source": [
        "* Eliminar a coluna `gender`"
      ]
    },
    {
      "cell_type": "code",
      "metadata": {
        "colab": {
          "base_uri": "https://localhost:8080/",
          "height": 204
        },
        "id": "uxzMzaJLL9tN",
        "outputId": "0fb4cab8-eaf9-4019-c388-09da9e848dbd"
      },
      "source": [
        "del births['gender']\n",
        "births.head()"
      ],
      "execution_count": 62,
      "outputs": [
        {
          "output_type": "execute_result",
          "data": {
            "text/html": [
              "<div>\n",
              "<style scoped>\n",
              "    .dataframe tbody tr th:only-of-type {\n",
              "        vertical-align: middle;\n",
              "    }\n",
              "\n",
              "    .dataframe tbody tr th {\n",
              "        vertical-align: top;\n",
              "    }\n",
              "\n",
              "    .dataframe thead th {\n",
              "        text-align: right;\n",
              "    }\n",
              "</style>\n",
              "<table border=\"1\" class=\"dataframe\">\n",
              "  <thead>\n",
              "    <tr style=\"text-align: right;\">\n",
              "      <th></th>\n",
              "      <th>year</th>\n",
              "      <th>month</th>\n",
              "      <th>day</th>\n",
              "      <th>births</th>\n",
              "      <th>gender_M</th>\n",
              "    </tr>\n",
              "  </thead>\n",
              "  <tbody>\n",
              "    <tr>\n",
              "      <th>0</th>\n",
              "      <td>1969</td>\n",
              "      <td>1</td>\n",
              "      <td>1.0</td>\n",
              "      <td>4046</td>\n",
              "      <td>0</td>\n",
              "    </tr>\n",
              "    <tr>\n",
              "      <th>1</th>\n",
              "      <td>1969</td>\n",
              "      <td>1</td>\n",
              "      <td>1.0</td>\n",
              "      <td>4440</td>\n",
              "      <td>1</td>\n",
              "    </tr>\n",
              "    <tr>\n",
              "      <th>2</th>\n",
              "      <td>1969</td>\n",
              "      <td>1</td>\n",
              "      <td>2.0</td>\n",
              "      <td>4454</td>\n",
              "      <td>0</td>\n",
              "    </tr>\n",
              "    <tr>\n",
              "      <th>3</th>\n",
              "      <td>1969</td>\n",
              "      <td>1</td>\n",
              "      <td>2.0</td>\n",
              "      <td>4548</td>\n",
              "      <td>1</td>\n",
              "    </tr>\n",
              "    <tr>\n",
              "      <th>4</th>\n",
              "      <td>1969</td>\n",
              "      <td>1</td>\n",
              "      <td>3.0</td>\n",
              "      <td>4548</td>\n",
              "      <td>0</td>\n",
              "    </tr>\n",
              "  </tbody>\n",
              "</table>\n",
              "</div>"
            ],
            "text/plain": [
              "   year  month  day  births  gender_M\n",
              "0  1969      1  1.0    4046         0\n",
              "1  1969      1  1.0    4440         1\n",
              "2  1969      1  2.0    4454         0\n",
              "3  1969      1  2.0    4548         1\n",
              "4  1969      1  3.0    4548         0"
            ]
          },
          "metadata": {
            "tags": []
          },
          "execution_count": 62
        }
      ]
    },
    {
      "cell_type": "markdown",
      "metadata": {
        "id": "Yx3YHuxcL9tN"
      },
      "source": [
        "* Tanto homens quanto mulheres aparecem uma vez para cada dia, portanto, metade dos registros é de homens e a outra metade, de mulheres. \n",
        "* A média de todos os dias deve estar em 0.5 quando ambos os sexos forem informados"
      ]
    },
    {
      "cell_type": "code",
      "metadata": {
        "colab": {
          "base_uri": "https://localhost:8080/",
          "height": 1000
        },
        "id": "85W5Nfl_L9tN",
        "outputId": "90337b72-394d-4262-ede5-39f75df2f99b"
      },
      "source": [
        "probabilidades = births.groupby(['day','month'])['gender_M'].aggregate('mean').unstack()\n",
        "probabilidades"
      ],
      "execution_count": 63,
      "outputs": [
        {
          "output_type": "execute_result",
          "data": {
            "text/html": [
              "<div>\n",
              "<style scoped>\n",
              "    .dataframe tbody tr th:only-of-type {\n",
              "        vertical-align: middle;\n",
              "    }\n",
              "\n",
              "    .dataframe tbody tr th {\n",
              "        vertical-align: top;\n",
              "    }\n",
              "\n",
              "    .dataframe thead th {\n",
              "        text-align: right;\n",
              "    }\n",
              "</style>\n",
              "<table border=\"1\" class=\"dataframe\">\n",
              "  <thead>\n",
              "    <tr style=\"text-align: right;\">\n",
              "      <th>month</th>\n",
              "      <th>1</th>\n",
              "      <th>2</th>\n",
              "      <th>3</th>\n",
              "      <th>4</th>\n",
              "      <th>5</th>\n",
              "      <th>6</th>\n",
              "      <th>7</th>\n",
              "      <th>8</th>\n",
              "      <th>9</th>\n",
              "      <th>10</th>\n",
              "      <th>11</th>\n",
              "      <th>12</th>\n",
              "    </tr>\n",
              "    <tr>\n",
              "      <th>day</th>\n",
              "      <th></th>\n",
              "      <th></th>\n",
              "      <th></th>\n",
              "      <th></th>\n",
              "      <th></th>\n",
              "      <th></th>\n",
              "      <th></th>\n",
              "      <th></th>\n",
              "      <th></th>\n",
              "      <th></th>\n",
              "      <th></th>\n",
              "      <th></th>\n",
              "    </tr>\n",
              "  </thead>\n",
              "  <tbody>\n",
              "    <tr>\n",
              "      <th>1.0</th>\n",
              "      <td>0.5</td>\n",
              "      <td>0.500000</td>\n",
              "      <td>0.5</td>\n",
              "      <td>0.500000</td>\n",
              "      <td>0.50</td>\n",
              "      <td>0.50000</td>\n",
              "      <td>0.5</td>\n",
              "      <td>0.500000</td>\n",
              "      <td>0.500000</td>\n",
              "      <td>0.500000</td>\n",
              "      <td>0.500000</td>\n",
              "      <td>0.5</td>\n",
              "    </tr>\n",
              "    <tr>\n",
              "      <th>2.0</th>\n",
              "      <td>0.5</td>\n",
              "      <td>0.500000</td>\n",
              "      <td>0.5</td>\n",
              "      <td>0.500000</td>\n",
              "      <td>0.50</td>\n",
              "      <td>0.50000</td>\n",
              "      <td>0.5</td>\n",
              "      <td>0.500000</td>\n",
              "      <td>0.500000</td>\n",
              "      <td>0.500000</td>\n",
              "      <td>0.500000</td>\n",
              "      <td>0.5</td>\n",
              "    </tr>\n",
              "    <tr>\n",
              "      <th>3.0</th>\n",
              "      <td>0.5</td>\n",
              "      <td>0.500000</td>\n",
              "      <td>0.5</td>\n",
              "      <td>0.500000</td>\n",
              "      <td>0.50</td>\n",
              "      <td>0.50000</td>\n",
              "      <td>0.5</td>\n",
              "      <td>0.500000</td>\n",
              "      <td>0.500000</td>\n",
              "      <td>0.500000</td>\n",
              "      <td>0.500000</td>\n",
              "      <td>0.5</td>\n",
              "    </tr>\n",
              "    <tr>\n",
              "      <th>4.0</th>\n",
              "      <td>0.5</td>\n",
              "      <td>0.500000</td>\n",
              "      <td>0.5</td>\n",
              "      <td>0.500000</td>\n",
              "      <td>0.50</td>\n",
              "      <td>0.50000</td>\n",
              "      <td>0.5</td>\n",
              "      <td>0.500000</td>\n",
              "      <td>0.500000</td>\n",
              "      <td>0.500000</td>\n",
              "      <td>0.500000</td>\n",
              "      <td>0.5</td>\n",
              "    </tr>\n",
              "    <tr>\n",
              "      <th>5.0</th>\n",
              "      <td>0.5</td>\n",
              "      <td>0.500000</td>\n",
              "      <td>0.5</td>\n",
              "      <td>0.500000</td>\n",
              "      <td>0.50</td>\n",
              "      <td>0.50000</td>\n",
              "      <td>0.5</td>\n",
              "      <td>0.500000</td>\n",
              "      <td>0.500000</td>\n",
              "      <td>0.500000</td>\n",
              "      <td>0.500000</td>\n",
              "      <td>0.5</td>\n",
              "    </tr>\n",
              "    <tr>\n",
              "      <th>6.0</th>\n",
              "      <td>0.5</td>\n",
              "      <td>0.500000</td>\n",
              "      <td>0.5</td>\n",
              "      <td>0.500000</td>\n",
              "      <td>0.50</td>\n",
              "      <td>0.50000</td>\n",
              "      <td>0.5</td>\n",
              "      <td>0.500000</td>\n",
              "      <td>0.500000</td>\n",
              "      <td>0.500000</td>\n",
              "      <td>0.500000</td>\n",
              "      <td>0.5</td>\n",
              "    </tr>\n",
              "    <tr>\n",
              "      <th>7.0</th>\n",
              "      <td>0.5</td>\n",
              "      <td>0.500000</td>\n",
              "      <td>0.5</td>\n",
              "      <td>0.500000</td>\n",
              "      <td>0.50</td>\n",
              "      <td>0.50000</td>\n",
              "      <td>0.5</td>\n",
              "      <td>0.500000</td>\n",
              "      <td>0.500000</td>\n",
              "      <td>0.500000</td>\n",
              "      <td>0.500000</td>\n",
              "      <td>0.5</td>\n",
              "    </tr>\n",
              "    <tr>\n",
              "      <th>8.0</th>\n",
              "      <td>0.5</td>\n",
              "      <td>0.500000</td>\n",
              "      <td>0.5</td>\n",
              "      <td>0.500000</td>\n",
              "      <td>0.50</td>\n",
              "      <td>0.50000</td>\n",
              "      <td>0.5</td>\n",
              "      <td>0.500000</td>\n",
              "      <td>0.500000</td>\n",
              "      <td>0.500000</td>\n",
              "      <td>0.500000</td>\n",
              "      <td>0.5</td>\n",
              "    </tr>\n",
              "    <tr>\n",
              "      <th>9.0</th>\n",
              "      <td>0.5</td>\n",
              "      <td>0.500000</td>\n",
              "      <td>0.5</td>\n",
              "      <td>0.500000</td>\n",
              "      <td>0.50</td>\n",
              "      <td>0.50000</td>\n",
              "      <td>0.5</td>\n",
              "      <td>0.500000</td>\n",
              "      <td>0.500000</td>\n",
              "      <td>0.500000</td>\n",
              "      <td>0.500000</td>\n",
              "      <td>0.5</td>\n",
              "    </tr>\n",
              "    <tr>\n",
              "      <th>10.0</th>\n",
              "      <td>0.5</td>\n",
              "      <td>0.500000</td>\n",
              "      <td>0.5</td>\n",
              "      <td>0.500000</td>\n",
              "      <td>0.50</td>\n",
              "      <td>0.50000</td>\n",
              "      <td>0.5</td>\n",
              "      <td>0.500000</td>\n",
              "      <td>0.500000</td>\n",
              "      <td>0.500000</td>\n",
              "      <td>0.500000</td>\n",
              "      <td>0.5</td>\n",
              "    </tr>\n",
              "    <tr>\n",
              "      <th>11.0</th>\n",
              "      <td>0.5</td>\n",
              "      <td>0.500000</td>\n",
              "      <td>0.5</td>\n",
              "      <td>0.500000</td>\n",
              "      <td>0.50</td>\n",
              "      <td>0.50000</td>\n",
              "      <td>0.5</td>\n",
              "      <td>0.500000</td>\n",
              "      <td>0.500000</td>\n",
              "      <td>0.500000</td>\n",
              "      <td>0.500000</td>\n",
              "      <td>0.5</td>\n",
              "    </tr>\n",
              "    <tr>\n",
              "      <th>12.0</th>\n",
              "      <td>0.5</td>\n",
              "      <td>0.500000</td>\n",
              "      <td>0.5</td>\n",
              "      <td>0.500000</td>\n",
              "      <td>0.50</td>\n",
              "      <td>0.50000</td>\n",
              "      <td>0.5</td>\n",
              "      <td>0.500000</td>\n",
              "      <td>0.500000</td>\n",
              "      <td>0.500000</td>\n",
              "      <td>0.500000</td>\n",
              "      <td>0.5</td>\n",
              "    </tr>\n",
              "    <tr>\n",
              "      <th>13.0</th>\n",
              "      <td>0.5</td>\n",
              "      <td>0.500000</td>\n",
              "      <td>0.5</td>\n",
              "      <td>0.500000</td>\n",
              "      <td>0.50</td>\n",
              "      <td>0.50000</td>\n",
              "      <td>0.5</td>\n",
              "      <td>0.500000</td>\n",
              "      <td>0.500000</td>\n",
              "      <td>0.500000</td>\n",
              "      <td>0.500000</td>\n",
              "      <td>0.5</td>\n",
              "    </tr>\n",
              "    <tr>\n",
              "      <th>14.0</th>\n",
              "      <td>0.5</td>\n",
              "      <td>0.500000</td>\n",
              "      <td>0.5</td>\n",
              "      <td>0.500000</td>\n",
              "      <td>0.50</td>\n",
              "      <td>0.50000</td>\n",
              "      <td>0.5</td>\n",
              "      <td>0.500000</td>\n",
              "      <td>0.500000</td>\n",
              "      <td>0.500000</td>\n",
              "      <td>0.500000</td>\n",
              "      <td>0.5</td>\n",
              "    </tr>\n",
              "    <tr>\n",
              "      <th>15.0</th>\n",
              "      <td>0.5</td>\n",
              "      <td>0.500000</td>\n",
              "      <td>0.5</td>\n",
              "      <td>0.500000</td>\n",
              "      <td>0.50</td>\n",
              "      <td>0.50000</td>\n",
              "      <td>0.5</td>\n",
              "      <td>0.500000</td>\n",
              "      <td>0.500000</td>\n",
              "      <td>0.500000</td>\n",
              "      <td>0.500000</td>\n",
              "      <td>0.5</td>\n",
              "    </tr>\n",
              "    <tr>\n",
              "      <th>16.0</th>\n",
              "      <td>0.5</td>\n",
              "      <td>0.500000</td>\n",
              "      <td>0.5</td>\n",
              "      <td>0.500000</td>\n",
              "      <td>0.50</td>\n",
              "      <td>0.50000</td>\n",
              "      <td>0.5</td>\n",
              "      <td>0.500000</td>\n",
              "      <td>0.500000</td>\n",
              "      <td>0.500000</td>\n",
              "      <td>0.500000</td>\n",
              "      <td>0.5</td>\n",
              "    </tr>\n",
              "    <tr>\n",
              "      <th>17.0</th>\n",
              "      <td>0.5</td>\n",
              "      <td>0.500000</td>\n",
              "      <td>0.5</td>\n",
              "      <td>0.500000</td>\n",
              "      <td>0.50</td>\n",
              "      <td>0.50000</td>\n",
              "      <td>0.5</td>\n",
              "      <td>0.500000</td>\n",
              "      <td>0.500000</td>\n",
              "      <td>0.500000</td>\n",
              "      <td>0.500000</td>\n",
              "      <td>0.5</td>\n",
              "    </tr>\n",
              "    <tr>\n",
              "      <th>18.0</th>\n",
              "      <td>0.5</td>\n",
              "      <td>0.500000</td>\n",
              "      <td>0.5</td>\n",
              "      <td>0.500000</td>\n",
              "      <td>0.50</td>\n",
              "      <td>0.50000</td>\n",
              "      <td>0.5</td>\n",
              "      <td>0.500000</td>\n",
              "      <td>0.500000</td>\n",
              "      <td>0.500000</td>\n",
              "      <td>0.500000</td>\n",
              "      <td>0.5</td>\n",
              "    </tr>\n",
              "    <tr>\n",
              "      <th>19.0</th>\n",
              "      <td>0.5</td>\n",
              "      <td>0.500000</td>\n",
              "      <td>0.5</td>\n",
              "      <td>0.500000</td>\n",
              "      <td>0.50</td>\n",
              "      <td>0.50000</td>\n",
              "      <td>0.5</td>\n",
              "      <td>0.500000</td>\n",
              "      <td>0.500000</td>\n",
              "      <td>0.500000</td>\n",
              "      <td>0.500000</td>\n",
              "      <td>0.5</td>\n",
              "    </tr>\n",
              "    <tr>\n",
              "      <th>20.0</th>\n",
              "      <td>0.5</td>\n",
              "      <td>0.500000</td>\n",
              "      <td>0.5</td>\n",
              "      <td>0.500000</td>\n",
              "      <td>0.50</td>\n",
              "      <td>0.50000</td>\n",
              "      <td>0.5</td>\n",
              "      <td>0.500000</td>\n",
              "      <td>0.500000</td>\n",
              "      <td>0.500000</td>\n",
              "      <td>0.500000</td>\n",
              "      <td>0.5</td>\n",
              "    </tr>\n",
              "    <tr>\n",
              "      <th>21.0</th>\n",
              "      <td>0.5</td>\n",
              "      <td>0.500000</td>\n",
              "      <td>0.5</td>\n",
              "      <td>0.500000</td>\n",
              "      <td>0.50</td>\n",
              "      <td>0.50000</td>\n",
              "      <td>0.5</td>\n",
              "      <td>0.500000</td>\n",
              "      <td>0.500000</td>\n",
              "      <td>0.500000</td>\n",
              "      <td>0.500000</td>\n",
              "      <td>0.5</td>\n",
              "    </tr>\n",
              "    <tr>\n",
              "      <th>22.0</th>\n",
              "      <td>0.5</td>\n",
              "      <td>0.500000</td>\n",
              "      <td>0.5</td>\n",
              "      <td>0.500000</td>\n",
              "      <td>0.50</td>\n",
              "      <td>0.50000</td>\n",
              "      <td>0.5</td>\n",
              "      <td>0.500000</td>\n",
              "      <td>0.500000</td>\n",
              "      <td>0.500000</td>\n",
              "      <td>0.500000</td>\n",
              "      <td>0.5</td>\n",
              "    </tr>\n",
              "    <tr>\n",
              "      <th>23.0</th>\n",
              "      <td>0.5</td>\n",
              "      <td>0.500000</td>\n",
              "      <td>0.5</td>\n",
              "      <td>0.500000</td>\n",
              "      <td>0.50</td>\n",
              "      <td>0.50000</td>\n",
              "      <td>0.5</td>\n",
              "      <td>0.500000</td>\n",
              "      <td>0.500000</td>\n",
              "      <td>0.500000</td>\n",
              "      <td>0.500000</td>\n",
              "      <td>0.5</td>\n",
              "    </tr>\n",
              "    <tr>\n",
              "      <th>24.0</th>\n",
              "      <td>0.5</td>\n",
              "      <td>0.500000</td>\n",
              "      <td>0.5</td>\n",
              "      <td>0.500000</td>\n",
              "      <td>0.50</td>\n",
              "      <td>0.50000</td>\n",
              "      <td>0.5</td>\n",
              "      <td>0.500000</td>\n",
              "      <td>0.500000</td>\n",
              "      <td>0.500000</td>\n",
              "      <td>0.500000</td>\n",
              "      <td>0.5</td>\n",
              "    </tr>\n",
              "    <tr>\n",
              "      <th>25.0</th>\n",
              "      <td>0.5</td>\n",
              "      <td>0.500000</td>\n",
              "      <td>0.5</td>\n",
              "      <td>0.500000</td>\n",
              "      <td>0.50</td>\n",
              "      <td>0.50000</td>\n",
              "      <td>0.5</td>\n",
              "      <td>0.500000</td>\n",
              "      <td>0.500000</td>\n",
              "      <td>0.500000</td>\n",
              "      <td>0.500000</td>\n",
              "      <td>0.5</td>\n",
              "    </tr>\n",
              "    <tr>\n",
              "      <th>26.0</th>\n",
              "      <td>0.5</td>\n",
              "      <td>0.500000</td>\n",
              "      <td>0.5</td>\n",
              "      <td>0.500000</td>\n",
              "      <td>0.50</td>\n",
              "      <td>0.50000</td>\n",
              "      <td>0.5</td>\n",
              "      <td>0.500000</td>\n",
              "      <td>0.500000</td>\n",
              "      <td>0.500000</td>\n",
              "      <td>0.500000</td>\n",
              "      <td>0.5</td>\n",
              "    </tr>\n",
              "    <tr>\n",
              "      <th>27.0</th>\n",
              "      <td>0.5</td>\n",
              "      <td>0.500000</td>\n",
              "      <td>0.5</td>\n",
              "      <td>0.500000</td>\n",
              "      <td>0.50</td>\n",
              "      <td>0.50000</td>\n",
              "      <td>0.5</td>\n",
              "      <td>0.500000</td>\n",
              "      <td>0.500000</td>\n",
              "      <td>0.500000</td>\n",
              "      <td>0.500000</td>\n",
              "      <td>0.5</td>\n",
              "    </tr>\n",
              "    <tr>\n",
              "      <th>28.0</th>\n",
              "      <td>0.5</td>\n",
              "      <td>0.500000</td>\n",
              "      <td>0.5</td>\n",
              "      <td>0.500000</td>\n",
              "      <td>0.50</td>\n",
              "      <td>0.50000</td>\n",
              "      <td>0.5</td>\n",
              "      <td>0.500000</td>\n",
              "      <td>0.500000</td>\n",
              "      <td>0.500000</td>\n",
              "      <td>0.500000</td>\n",
              "      <td>0.5</td>\n",
              "    </tr>\n",
              "    <tr>\n",
              "      <th>29.0</th>\n",
              "      <td>0.5</td>\n",
              "      <td>0.458333</td>\n",
              "      <td>0.5</td>\n",
              "      <td>0.500000</td>\n",
              "      <td>0.50</td>\n",
              "      <td>0.50000</td>\n",
              "      <td>0.5</td>\n",
              "      <td>0.500000</td>\n",
              "      <td>0.500000</td>\n",
              "      <td>0.500000</td>\n",
              "      <td>0.500000</td>\n",
              "      <td>0.5</td>\n",
              "    </tr>\n",
              "    <tr>\n",
              "      <th>30.0</th>\n",
              "      <td>0.5</td>\n",
              "      <td>0.400000</td>\n",
              "      <td>0.5</td>\n",
              "      <td>0.500000</td>\n",
              "      <td>0.50</td>\n",
              "      <td>0.50000</td>\n",
              "      <td>0.5</td>\n",
              "      <td>0.500000</td>\n",
              "      <td>0.500000</td>\n",
              "      <td>0.500000</td>\n",
              "      <td>0.500000</td>\n",
              "      <td>0.5</td>\n",
              "    </tr>\n",
              "    <tr>\n",
              "      <th>31.0</th>\n",
              "      <td>0.5</td>\n",
              "      <td>0.500000</td>\n",
              "      <td>0.5</td>\n",
              "      <td>0.470588</td>\n",
              "      <td>0.50</td>\n",
              "      <td>0.50000</td>\n",
              "      <td>0.5</td>\n",
              "      <td>0.500000</td>\n",
              "      <td>0.526316</td>\n",
              "      <td>0.500000</td>\n",
              "      <td>0.526316</td>\n",
              "      <td>0.5</td>\n",
              "    </tr>\n",
              "    <tr>\n",
              "      <th>99.0</th>\n",
              "      <td>0.5</td>\n",
              "      <td>0.500000</td>\n",
              "      <td>0.5</td>\n",
              "      <td>0.466667</td>\n",
              "      <td>0.44</td>\n",
              "      <td>0.53125</td>\n",
              "      <td>0.5</td>\n",
              "      <td>0.517241</td>\n",
              "      <td>0.448276</td>\n",
              "      <td>0.571429</td>\n",
              "      <td>0.483871</td>\n",
              "      <td>0.5</td>\n",
              "    </tr>\n",
              "  </tbody>\n",
              "</table>\n",
              "</div>"
            ],
            "text/plain": [
              "month   1         2    3         4   ...        9         10        11   12\n",
              "day                                  ...                                   \n",
              "1.0    0.5  0.500000  0.5  0.500000  ...  0.500000  0.500000  0.500000  0.5\n",
              "2.0    0.5  0.500000  0.5  0.500000  ...  0.500000  0.500000  0.500000  0.5\n",
              "3.0    0.5  0.500000  0.5  0.500000  ...  0.500000  0.500000  0.500000  0.5\n",
              "4.0    0.5  0.500000  0.5  0.500000  ...  0.500000  0.500000  0.500000  0.5\n",
              "5.0    0.5  0.500000  0.5  0.500000  ...  0.500000  0.500000  0.500000  0.5\n",
              "6.0    0.5  0.500000  0.5  0.500000  ...  0.500000  0.500000  0.500000  0.5\n",
              "7.0    0.5  0.500000  0.5  0.500000  ...  0.500000  0.500000  0.500000  0.5\n",
              "8.0    0.5  0.500000  0.5  0.500000  ...  0.500000  0.500000  0.500000  0.5\n",
              "9.0    0.5  0.500000  0.5  0.500000  ...  0.500000  0.500000  0.500000  0.5\n",
              "10.0   0.5  0.500000  0.5  0.500000  ...  0.500000  0.500000  0.500000  0.5\n",
              "11.0   0.5  0.500000  0.5  0.500000  ...  0.500000  0.500000  0.500000  0.5\n",
              "12.0   0.5  0.500000  0.5  0.500000  ...  0.500000  0.500000  0.500000  0.5\n",
              "13.0   0.5  0.500000  0.5  0.500000  ...  0.500000  0.500000  0.500000  0.5\n",
              "14.0   0.5  0.500000  0.5  0.500000  ...  0.500000  0.500000  0.500000  0.5\n",
              "15.0   0.5  0.500000  0.5  0.500000  ...  0.500000  0.500000  0.500000  0.5\n",
              "16.0   0.5  0.500000  0.5  0.500000  ...  0.500000  0.500000  0.500000  0.5\n",
              "17.0   0.5  0.500000  0.5  0.500000  ...  0.500000  0.500000  0.500000  0.5\n",
              "18.0   0.5  0.500000  0.5  0.500000  ...  0.500000  0.500000  0.500000  0.5\n",
              "19.0   0.5  0.500000  0.5  0.500000  ...  0.500000  0.500000  0.500000  0.5\n",
              "20.0   0.5  0.500000  0.5  0.500000  ...  0.500000  0.500000  0.500000  0.5\n",
              "21.0   0.5  0.500000  0.5  0.500000  ...  0.500000  0.500000  0.500000  0.5\n",
              "22.0   0.5  0.500000  0.5  0.500000  ...  0.500000  0.500000  0.500000  0.5\n",
              "23.0   0.5  0.500000  0.5  0.500000  ...  0.500000  0.500000  0.500000  0.5\n",
              "24.0   0.5  0.500000  0.5  0.500000  ...  0.500000  0.500000  0.500000  0.5\n",
              "25.0   0.5  0.500000  0.5  0.500000  ...  0.500000  0.500000  0.500000  0.5\n",
              "26.0   0.5  0.500000  0.5  0.500000  ...  0.500000  0.500000  0.500000  0.5\n",
              "27.0   0.5  0.500000  0.5  0.500000  ...  0.500000  0.500000  0.500000  0.5\n",
              "28.0   0.5  0.500000  0.5  0.500000  ...  0.500000  0.500000  0.500000  0.5\n",
              "29.0   0.5  0.458333  0.5  0.500000  ...  0.500000  0.500000  0.500000  0.5\n",
              "30.0   0.5  0.400000  0.5  0.500000  ...  0.500000  0.500000  0.500000  0.5\n",
              "31.0   0.5  0.500000  0.5  0.470588  ...  0.526316  0.500000  0.526316  0.5\n",
              "99.0   0.5  0.500000  0.5  0.466667  ...  0.448276  0.571429  0.483871  0.5\n",
              "\n",
              "[32 rows x 12 columns]"
            ]
          },
          "metadata": {
            "tags": []
          },
          "execution_count": 63
        }
      ]
    },
    {
      "cell_type": "markdown",
      "metadata": {
        "id": "Yj1iWrqeL9tN"
      },
      "source": [
        "* Vemos que não é assim com todos os meses.\n",
        "* Observamos o mês de abril."
      ]
    },
    {
      "cell_type": "code",
      "metadata": {
        "colab": {
          "base_uri": "https://localhost:8080/",
          "height": 419
        },
        "id": "lOUGmwZnL9tN",
        "outputId": "20472e2f-9fd8-4378-9769-693a81412363"
      },
      "source": [
        "births[births['month'] == 4]"
      ],
      "execution_count": 64,
      "outputs": [
        {
          "output_type": "execute_result",
          "data": {
            "text/html": [
              "<div>\n",
              "<style scoped>\n",
              "    .dataframe tbody tr th:only-of-type {\n",
              "        vertical-align: middle;\n",
              "    }\n",
              "\n",
              "    .dataframe tbody tr th {\n",
              "        vertical-align: top;\n",
              "    }\n",
              "\n",
              "    .dataframe thead th {\n",
              "        text-align: right;\n",
              "    }\n",
              "</style>\n",
              "<table border=\"1\" class=\"dataframe\">\n",
              "  <thead>\n",
              "    <tr style=\"text-align: right;\">\n",
              "      <th></th>\n",
              "      <th>year</th>\n",
              "      <th>month</th>\n",
              "      <th>day</th>\n",
              "      <th>births</th>\n",
              "      <th>gender_M</th>\n",
              "    </tr>\n",
              "  </thead>\n",
              "  <tbody>\n",
              "    <tr>\n",
              "      <th>192</th>\n",
              "      <td>1969</td>\n",
              "      <td>4</td>\n",
              "      <td>1.0</td>\n",
              "      <td>4990</td>\n",
              "      <td>0</td>\n",
              "    </tr>\n",
              "    <tr>\n",
              "      <th>193</th>\n",
              "      <td>1969</td>\n",
              "      <td>4</td>\n",
              "      <td>1.0</td>\n",
              "      <td>4970</td>\n",
              "      <td>1</td>\n",
              "    </tr>\n",
              "    <tr>\n",
              "      <th>194</th>\n",
              "      <td>1969</td>\n",
              "      <td>4</td>\n",
              "      <td>2.0</td>\n",
              "      <td>4766</td>\n",
              "      <td>0</td>\n",
              "    </tr>\n",
              "    <tr>\n",
              "      <th>195</th>\n",
              "      <td>1969</td>\n",
              "      <td>4</td>\n",
              "      <td>2.0</td>\n",
              "      <td>5212</td>\n",
              "      <td>1</td>\n",
              "    </tr>\n",
              "    <tr>\n",
              "      <th>196</th>\n",
              "      <td>1969</td>\n",
              "      <td>4</td>\n",
              "      <td>3.0</td>\n",
              "      <td>4682</td>\n",
              "      <td>0</td>\n",
              "    </tr>\n",
              "    <tr>\n",
              "      <th>...</th>\n",
              "      <td>...</td>\n",
              "      <td>...</td>\n",
              "      <td>...</td>\n",
              "      <td>...</td>\n",
              "      <td>...</td>\n",
              "    </tr>\n",
              "    <tr>\n",
              "      <th>15482</th>\n",
              "      <td>2006</td>\n",
              "      <td>4</td>\n",
              "      <td>NaN</td>\n",
              "      <td>169341</td>\n",
              "      <td>1</td>\n",
              "    </tr>\n",
              "    <tr>\n",
              "      <th>15505</th>\n",
              "      <td>2007</td>\n",
              "      <td>4</td>\n",
              "      <td>NaN</td>\n",
              "      <td>165121</td>\n",
              "      <td>0</td>\n",
              "    </tr>\n",
              "    <tr>\n",
              "      <th>15506</th>\n",
              "      <td>2007</td>\n",
              "      <td>4</td>\n",
              "      <td>NaN</td>\n",
              "      <td>173674</td>\n",
              "      <td>1</td>\n",
              "    </tr>\n",
              "    <tr>\n",
              "      <th>15529</th>\n",
              "      <td>2008</td>\n",
              "      <td>4</td>\n",
              "      <td>NaN</td>\n",
              "      <td>169585</td>\n",
              "      <td>0</td>\n",
              "    </tr>\n",
              "    <tr>\n",
              "      <th>15530</th>\n",
              "      <td>2008</td>\n",
              "      <td>4</td>\n",
              "      <td>NaN</td>\n",
              "      <td>177399</td>\n",
              "      <td>1</td>\n",
              "    </tr>\n",
              "  </tbody>\n",
              "</table>\n",
              "<p>1287 rows × 5 columns</p>\n",
              "</div>"
            ],
            "text/plain": [
              "       year  month  day  births  gender_M\n",
              "192    1969      4  1.0    4990         0\n",
              "193    1969      4  1.0    4970         1\n",
              "194    1969      4  2.0    4766         0\n",
              "195    1969      4  2.0    5212         1\n",
              "196    1969      4  3.0    4682         0\n",
              "...     ...    ...  ...     ...       ...\n",
              "15482  2006      4  NaN  169341         1\n",
              "15505  2007      4  NaN  165121         0\n",
              "15506  2007      4  NaN  173674         1\n",
              "15529  2008      4  NaN  169585         0\n",
              "15530  2008      4  NaN  177399         1\n",
              "\n",
              "[1287 rows x 5 columns]"
            ]
          },
          "metadata": {
            "tags": []
          },
          "execution_count": 64
        }
      ]
    },
    {
      "cell_type": "markdown",
      "metadata": {
        "id": "skqDox94L9tN"
      },
      "source": [
        "* Os dados incorretos geram alguns dias em que a proporção não é 50%"
      ]
    },
    {
      "cell_type": "code",
      "metadata": {
        "scrolled": true,
        "colab": {
          "base_uri": "https://localhost:8080/",
          "height": 142
        },
        "id": "4M8CMr_zL9tN",
        "outputId": "df797f45-e401-4c79-94e9-bf5c61e887be"
      },
      "source": [
        "probabilidades[(probabilidades>0.5).any(1)]"
      ],
      "execution_count": 65,
      "outputs": [
        {
          "output_type": "execute_result",
          "data": {
            "text/html": [
              "<div>\n",
              "<style scoped>\n",
              "    .dataframe tbody tr th:only-of-type {\n",
              "        vertical-align: middle;\n",
              "    }\n",
              "\n",
              "    .dataframe tbody tr th {\n",
              "        vertical-align: top;\n",
              "    }\n",
              "\n",
              "    .dataframe thead th {\n",
              "        text-align: right;\n",
              "    }\n",
              "</style>\n",
              "<table border=\"1\" class=\"dataframe\">\n",
              "  <thead>\n",
              "    <tr style=\"text-align: right;\">\n",
              "      <th>month</th>\n",
              "      <th>1</th>\n",
              "      <th>2</th>\n",
              "      <th>3</th>\n",
              "      <th>4</th>\n",
              "      <th>5</th>\n",
              "      <th>6</th>\n",
              "      <th>7</th>\n",
              "      <th>8</th>\n",
              "      <th>9</th>\n",
              "      <th>10</th>\n",
              "      <th>11</th>\n",
              "      <th>12</th>\n",
              "    </tr>\n",
              "    <tr>\n",
              "      <th>day</th>\n",
              "      <th></th>\n",
              "      <th></th>\n",
              "      <th></th>\n",
              "      <th></th>\n",
              "      <th></th>\n",
              "      <th></th>\n",
              "      <th></th>\n",
              "      <th></th>\n",
              "      <th></th>\n",
              "      <th></th>\n",
              "      <th></th>\n",
              "      <th></th>\n",
              "    </tr>\n",
              "  </thead>\n",
              "  <tbody>\n",
              "    <tr>\n",
              "      <th>31.0</th>\n",
              "      <td>0.5</td>\n",
              "      <td>0.5</td>\n",
              "      <td>0.5</td>\n",
              "      <td>0.470588</td>\n",
              "      <td>0.50</td>\n",
              "      <td>0.50000</td>\n",
              "      <td>0.5</td>\n",
              "      <td>0.500000</td>\n",
              "      <td>0.526316</td>\n",
              "      <td>0.500000</td>\n",
              "      <td>0.526316</td>\n",
              "      <td>0.5</td>\n",
              "    </tr>\n",
              "    <tr>\n",
              "      <th>99.0</th>\n",
              "      <td>0.5</td>\n",
              "      <td>0.5</td>\n",
              "      <td>0.5</td>\n",
              "      <td>0.466667</td>\n",
              "      <td>0.44</td>\n",
              "      <td>0.53125</td>\n",
              "      <td>0.5</td>\n",
              "      <td>0.517241</td>\n",
              "      <td>0.448276</td>\n",
              "      <td>0.571429</td>\n",
              "      <td>0.483871</td>\n",
              "      <td>0.5</td>\n",
              "    </tr>\n",
              "  </tbody>\n",
              "</table>\n",
              "</div>"
            ],
            "text/plain": [
              "month   1    2    3         4   ...        9         10        11   12\n",
              "day                             ...                                   \n",
              "31.0   0.5  0.5  0.5  0.470588  ...  0.526316  0.500000  0.526316  0.5\n",
              "99.0   0.5  0.5  0.5  0.466667  ...  0.448276  0.571429  0.483871  0.5\n",
              "\n",
              "[2 rows x 12 columns]"
            ]
          },
          "metadata": {
            "tags": []
          },
          "execution_count": 65
        }
      ]
    },
    {
      "cell_type": "code",
      "metadata": {
        "colab": {
          "base_uri": "https://localhost:8080/",
          "height": 204
        },
        "id": "R7Ngck36L9tO",
        "outputId": "9d58eb19-4007-488b-b2f2-8e6f52c4d69c"
      },
      "source": [
        "probabilidades[(probabilidades<0.5).any(1)]"
      ],
      "execution_count": 66,
      "outputs": [
        {
          "output_type": "execute_result",
          "data": {
            "text/html": [
              "<div>\n",
              "<style scoped>\n",
              "    .dataframe tbody tr th:only-of-type {\n",
              "        vertical-align: middle;\n",
              "    }\n",
              "\n",
              "    .dataframe tbody tr th {\n",
              "        vertical-align: top;\n",
              "    }\n",
              "\n",
              "    .dataframe thead th {\n",
              "        text-align: right;\n",
              "    }\n",
              "</style>\n",
              "<table border=\"1\" class=\"dataframe\">\n",
              "  <thead>\n",
              "    <tr style=\"text-align: right;\">\n",
              "      <th>month</th>\n",
              "      <th>1</th>\n",
              "      <th>2</th>\n",
              "      <th>3</th>\n",
              "      <th>4</th>\n",
              "      <th>5</th>\n",
              "      <th>6</th>\n",
              "      <th>7</th>\n",
              "      <th>8</th>\n",
              "      <th>9</th>\n",
              "      <th>10</th>\n",
              "      <th>11</th>\n",
              "      <th>12</th>\n",
              "    </tr>\n",
              "    <tr>\n",
              "      <th>day</th>\n",
              "      <th></th>\n",
              "      <th></th>\n",
              "      <th></th>\n",
              "      <th></th>\n",
              "      <th></th>\n",
              "      <th></th>\n",
              "      <th></th>\n",
              "      <th></th>\n",
              "      <th></th>\n",
              "      <th></th>\n",
              "      <th></th>\n",
              "      <th></th>\n",
              "    </tr>\n",
              "  </thead>\n",
              "  <tbody>\n",
              "    <tr>\n",
              "      <th>29.0</th>\n",
              "      <td>0.5</td>\n",
              "      <td>0.458333</td>\n",
              "      <td>0.5</td>\n",
              "      <td>0.500000</td>\n",
              "      <td>0.50</td>\n",
              "      <td>0.50000</td>\n",
              "      <td>0.5</td>\n",
              "      <td>0.500000</td>\n",
              "      <td>0.500000</td>\n",
              "      <td>0.500000</td>\n",
              "      <td>0.500000</td>\n",
              "      <td>0.5</td>\n",
              "    </tr>\n",
              "    <tr>\n",
              "      <th>30.0</th>\n",
              "      <td>0.5</td>\n",
              "      <td>0.400000</td>\n",
              "      <td>0.5</td>\n",
              "      <td>0.500000</td>\n",
              "      <td>0.50</td>\n",
              "      <td>0.50000</td>\n",
              "      <td>0.5</td>\n",
              "      <td>0.500000</td>\n",
              "      <td>0.500000</td>\n",
              "      <td>0.500000</td>\n",
              "      <td>0.500000</td>\n",
              "      <td>0.5</td>\n",
              "    </tr>\n",
              "    <tr>\n",
              "      <th>31.0</th>\n",
              "      <td>0.5</td>\n",
              "      <td>0.500000</td>\n",
              "      <td>0.5</td>\n",
              "      <td>0.470588</td>\n",
              "      <td>0.50</td>\n",
              "      <td>0.50000</td>\n",
              "      <td>0.5</td>\n",
              "      <td>0.500000</td>\n",
              "      <td>0.526316</td>\n",
              "      <td>0.500000</td>\n",
              "      <td>0.526316</td>\n",
              "      <td>0.5</td>\n",
              "    </tr>\n",
              "    <tr>\n",
              "      <th>99.0</th>\n",
              "      <td>0.5</td>\n",
              "      <td>0.500000</td>\n",
              "      <td>0.5</td>\n",
              "      <td>0.466667</td>\n",
              "      <td>0.44</td>\n",
              "      <td>0.53125</td>\n",
              "      <td>0.5</td>\n",
              "      <td>0.517241</td>\n",
              "      <td>0.448276</td>\n",
              "      <td>0.571429</td>\n",
              "      <td>0.483871</td>\n",
              "      <td>0.5</td>\n",
              "    </tr>\n",
              "  </tbody>\n",
              "</table>\n",
              "</div>"
            ],
            "text/plain": [
              "month   1         2    3         4   ...        9         10        11   12\n",
              "day                                  ...                                   \n",
              "29.0   0.5  0.458333  0.5  0.500000  ...  0.500000  0.500000  0.500000  0.5\n",
              "30.0   0.5  0.400000  0.5  0.500000  ...  0.500000  0.500000  0.500000  0.5\n",
              "31.0   0.5  0.500000  0.5  0.470588  ...  0.526316  0.500000  0.526316  0.5\n",
              "99.0   0.5  0.500000  0.5  0.466667  ...  0.448276  0.571429  0.483871  0.5\n",
              "\n",
              "[4 rows x 12 columns]"
            ]
          },
          "metadata": {
            "tags": []
          },
          "execution_count": 66
        }
      ]
    },
    {
      "cell_type": "markdown",
      "metadata": {
        "id": "fXkQkAvcL9tO"
      },
      "source": [
        "## 6. Nascimentos por dia"
      ]
    },
    {
      "cell_type": "markdown",
      "metadata": {
        "id": "Fay9urqDL9tO"
      },
      "source": [
        "* Agora vamos estudar a quantidade de nascimentos por dia para diferentes meses do ano."
      ]
    },
    {
      "cell_type": "code",
      "metadata": {
        "colab": {
          "base_uri": "https://localhost:8080/",
          "height": 441
        },
        "id": "BzJEROv4L9tO",
        "outputId": "87badc50-9969-406c-c270-5007ec24231e"
      },
      "source": [
        "for i in range(28,32):\n",
        "    sns.distplot(births['births'][(births['day']==i)]);"
      ],
      "execution_count": 67,
      "outputs": [
        {
          "output_type": "stream",
          "text": [
            "/usr/local/lib/python3.6/dist-packages/seaborn/distributions.py:2551: FutureWarning: `distplot` is a deprecated function and will be removed in a future version. Please adapt your code to use either `displot` (a figure-level function with similar flexibility) or `histplot` (an axes-level function for histograms).\n",
            "  warnings.warn(msg, FutureWarning)\n",
            "/usr/local/lib/python3.6/dist-packages/seaborn/distributions.py:2551: FutureWarning: `distplot` is a deprecated function and will be removed in a future version. Please adapt your code to use either `displot` (a figure-level function with similar flexibility) or `histplot` (an axes-level function for histograms).\n",
            "  warnings.warn(msg, FutureWarning)\n",
            "/usr/local/lib/python3.6/dist-packages/seaborn/distributions.py:2551: FutureWarning: `distplot` is a deprecated function and will be removed in a future version. Please adapt your code to use either `displot` (a figure-level function with similar flexibility) or `histplot` (an axes-level function for histograms).\n",
            "  warnings.warn(msg, FutureWarning)\n",
            "/usr/local/lib/python3.6/dist-packages/seaborn/distributions.py:2551: FutureWarning: `distplot` is a deprecated function and will be removed in a future version. Please adapt your code to use either `displot` (a figure-level function with similar flexibility) or `histplot` (an axes-level function for histograms).\n",
            "  warnings.warn(msg, FutureWarning)\n"
          ],
          "name": "stderr"
        },
        {
          "output_type": "display_data",
          "data": {
            "image/png": "[encoded data removed]",
            "text/plain": [
              "<Figure size 432x288 with 1 Axes>"
            ]
          },
          "metadata": {
            "tags": []
          }
        }
      ]
    },
    {
      "cell_type": "markdown",
      "metadata": {
        "id": "J99CGTb6L9tO"
      },
      "source": [
        "* O dia 28 mostra uma distribuição normal ao longo dos meses"
      ]
    },
    {
      "cell_type": "code",
      "metadata": {
        "colab": {
          "base_uri": "https://localhost:8080/",
          "height": 339
        },
        "id": "ZgJ_vo9rL9tO",
        "outputId": "d47e47fd-7ac2-4d69-be70-0618379aab63"
      },
      "source": [
        "sns.distplot(births['births'][(births['day']==28)]);"
      ],
      "execution_count": 68,
      "outputs": [
        {
          "output_type": "stream",
          "text": [
            "/usr/local/lib/python3.6/dist-packages/seaborn/distributions.py:2551: FutureWarning: `distplot` is a deprecated function and will be removed in a future version. Please adapt your code to use either `displot` (a figure-level function with similar flexibility) or `histplot` (an axes-level function for histograms).\n",
            "  warnings.warn(msg, FutureWarning)\n"
          ],
          "name": "stderr"
        },
        {
          "output_type": "display_data",
          "data": {
            "image/png": "[encoded data removed]",
            "text/plain": [
              "<Figure size 432x288 with 1 Axes>"
            ]
          },
          "metadata": {
            "tags": []
          }
        }
      ]
    },
    {
      "cell_type": "markdown",
      "metadata": {
        "id": "rQVgnvJnL9tO"
      },
      "source": [
        "* A partir do dia 29 é mostrado 0 para os meses que não aparecem \n",
        "* Os dados incorretos distorcem as distribuições nos dias restantes"
      ]
    },
    {
      "cell_type": "code",
      "metadata": {
        "colab": {
          "base_uri": "https://localhost:8080/",
          "height": 339
        },
        "id": "W6lgMDFhL9tO",
        "outputId": "c97bab9c-26e8-431f-915b-b065528322ec"
      },
      "source": [
        "sns.distplot(births['births'][(births['day']==29)]);"
      ],
      "execution_count": 69,
      "outputs": [
        {
          "output_type": "stream",
          "text": [
            "/usr/local/lib/python3.6/dist-packages/seaborn/distributions.py:2551: FutureWarning: `distplot` is a deprecated function and will be removed in a future version. Please adapt your code to use either `displot` (a figure-level function with similar flexibility) or `histplot` (an axes-level function for histograms).\n",
            "  warnings.warn(msg, FutureWarning)\n"
          ],
          "name": "stderr"
        },
        {
          "output_type": "display_data",
          "data": {
            "image/png": "[encoded data removed]",
            "text/plain": [
              "<Figure size 432x288 with 1 Axes>"
            ]
          },
          "metadata": {
            "tags": []
          }
        }
      ]
    },
    {
      "cell_type": "code",
      "metadata": {
        "colab": {
          "base_uri": "https://localhost:8080/",
          "height": 339
        },
        "id": "8f5glAUiL9tO",
        "outputId": "870424ae-404d-4497-c99d-de06da94f82f"
      },
      "source": [
        "sns.distplot(births['births'][(births['day']==30)]);"
      ],
      "execution_count": 70,
      "outputs": [
        {
          "output_type": "stream",
          "text": [
            "/usr/local/lib/python3.6/dist-packages/seaborn/distributions.py:2551: FutureWarning: `distplot` is a deprecated function and will be removed in a future version. Please adapt your code to use either `displot` (a figure-level function with similar flexibility) or `histplot` (an axes-level function for histograms).\n",
            "  warnings.warn(msg, FutureWarning)\n"
          ],
          "name": "stderr"
        },
        {
          "output_type": "display_data",
          "data": {
            "image/png": "[encoded data removed]",
            "text/plain": [
              "<Figure size 432x288 with 1 Axes>"
            ]
          },
          "metadata": {
            "tags": []
          }
        }
      ]
    },
    {
      "cell_type": "code",
      "metadata": {
        "colab": {
          "base_uri": "https://localhost:8080/",
          "height": 339
        },
        "id": "JseylS1_L9tO",
        "outputId": "950c10c8-f528-4031-9861-107686985e07"
      },
      "source": [
        "sns.distplot(births['births'][(births['day']==31)]);"
      ],
      "execution_count": 71,
      "outputs": [
        {
          "output_type": "stream",
          "text": [
            "/usr/local/lib/python3.6/dist-packages/seaborn/distributions.py:2551: FutureWarning: `distplot` is a deprecated function and will be removed in a future version. Please adapt your code to use either `displot` (a figure-level function with similar flexibility) or `histplot` (an axes-level function for histograms).\n",
            "  warnings.warn(msg, FutureWarning)\n"
          ],
          "name": "stderr"
        },
        {
          "output_type": "display_data",
          "data": {
            "image/png": "[encoded data removed]",
            "text/plain": [
              "<Figure size 432x288 with 1 Axes>"
            ]
          },
          "metadata": {
            "tags": []
          }
        }
      ]
    },
    {
      "cell_type": "markdown",
      "metadata": {
        "id": "kBEVtAMJL9tP"
      },
      "source": [
        "* Você eliminaria algum registro? Por quê?\n",
        "* Descobrimos que alguns dados estavam mal carregados no conjunto de dados original"
      ]
    },
    {
      "cell_type": "code",
      "metadata": {
        "colab": {
          "base_uri": "https://localhost:8080/",
          "height": 1000
        },
        "id": "RBwEEyPwL9tP",
        "outputId": "d72d8e55-a539-4efc-fccd-c904ebea1a91"
      },
      "source": [
        "births[births['month'] == 2].head(60)"
      ],
      "execution_count": 72,
      "outputs": [
        {
          "output_type": "execute_result",
          "data": {
            "text/html": [
              "<div>\n",
              "<style scoped>\n",
              "    .dataframe tbody tr th:only-of-type {\n",
              "        vertical-align: middle;\n",
              "    }\n",
              "\n",
              "    .dataframe tbody tr th {\n",
              "        vertical-align: top;\n",
              "    }\n",
              "\n",
              "    .dataframe thead th {\n",
              "        text-align: right;\n",
              "    }\n",
              "</style>\n",
              "<table border=\"1\" class=\"dataframe\">\n",
              "  <thead>\n",
              "    <tr style=\"text-align: right;\">\n",
              "      <th></th>\n",
              "      <th>year</th>\n",
              "      <th>month</th>\n",
              "      <th>day</th>\n",
              "      <th>births</th>\n",
              "      <th>gender_M</th>\n",
              "    </tr>\n",
              "  </thead>\n",
              "  <tbody>\n",
              "    <tr>\n",
              "      <th>64</th>\n",
              "      <td>1969</td>\n",
              "      <td>2</td>\n",
              "      <td>1.0</td>\n",
              "      <td>4394</td>\n",
              "      <td>0</td>\n",
              "    </tr>\n",
              "    <tr>\n",
              "      <th>65</th>\n",
              "      <td>1969</td>\n",
              "      <td>2</td>\n",
              "      <td>1.0</td>\n",
              "      <td>4736</td>\n",
              "      <td>1</td>\n",
              "    </tr>\n",
              "    <tr>\n",
              "      <th>66</th>\n",
              "      <td>1969</td>\n",
              "      <td>2</td>\n",
              "      <td>2.0</td>\n",
              "      <td>4334</td>\n",
              "      <td>0</td>\n",
              "    </tr>\n",
              "    <tr>\n",
              "      <th>67</th>\n",
              "      <td>1969</td>\n",
              "      <td>2</td>\n",
              "      <td>2.0</td>\n",
              "      <td>4480</td>\n",
              "      <td>1</td>\n",
              "    </tr>\n",
              "    <tr>\n",
              "      <th>68</th>\n",
              "      <td>1969</td>\n",
              "      <td>2</td>\n",
              "      <td>3.0</td>\n",
              "      <td>4878</td>\n",
              "      <td>0</td>\n",
              "    </tr>\n",
              "    <tr>\n",
              "      <th>69</th>\n",
              "      <td>1969</td>\n",
              "      <td>2</td>\n",
              "      <td>3.0</td>\n",
              "      <td>5110</td>\n",
              "      <td>1</td>\n",
              "    </tr>\n",
              "    <tr>\n",
              "      <th>70</th>\n",
              "      <td>1969</td>\n",
              "      <td>2</td>\n",
              "      <td>4.0</td>\n",
              "      <td>4796</td>\n",
              "      <td>0</td>\n",
              "    </tr>\n",
              "    <tr>\n",
              "      <th>71</th>\n",
              "      <td>1969</td>\n",
              "      <td>2</td>\n",
              "      <td>4.0</td>\n",
              "      <td>5200</td>\n",
              "      <td>1</td>\n",
              "    </tr>\n",
              "    <tr>\n",
              "      <th>72</th>\n",
              "      <td>1969</td>\n",
              "      <td>2</td>\n",
              "      <td>5.0</td>\n",
              "      <td>4674</td>\n",
              "      <td>0</td>\n",
              "    </tr>\n",
              "    <tr>\n",
              "      <th>73</th>\n",
              "      <td>1969</td>\n",
              "      <td>2</td>\n",
              "      <td>5.0</td>\n",
              "      <td>5002</td>\n",
              "      <td>1</td>\n",
              "    </tr>\n",
              "    <tr>\n",
              "      <th>74</th>\n",
              "      <td>1969</td>\n",
              "      <td>2</td>\n",
              "      <td>6.0</td>\n",
              "      <td>4760</td>\n",
              "      <td>0</td>\n",
              "    </tr>\n",
              "    <tr>\n",
              "      <th>75</th>\n",
              "      <td>1969</td>\n",
              "      <td>2</td>\n",
              "      <td>6.0</td>\n",
              "      <td>4968</td>\n",
              "      <td>1</td>\n",
              "    </tr>\n",
              "    <tr>\n",
              "      <th>76</th>\n",
              "      <td>1969</td>\n",
              "      <td>2</td>\n",
              "      <td>7.0</td>\n",
              "      <td>4940</td>\n",
              "      <td>0</td>\n",
              "    </tr>\n",
              "    <tr>\n",
              "      <th>77</th>\n",
              "      <td>1969</td>\n",
              "      <td>2</td>\n",
              "      <td>7.0</td>\n",
              "      <td>5162</td>\n",
              "      <td>1</td>\n",
              "    </tr>\n",
              "    <tr>\n",
              "      <th>78</th>\n",
              "      <td>1969</td>\n",
              "      <td>2</td>\n",
              "      <td>8.0</td>\n",
              "      <td>4626</td>\n",
              "      <td>0</td>\n",
              "    </tr>\n",
              "    <tr>\n",
              "      <th>79</th>\n",
              "      <td>1969</td>\n",
              "      <td>2</td>\n",
              "      <td>8.0</td>\n",
              "      <td>4636</td>\n",
              "      <td>1</td>\n",
              "    </tr>\n",
              "    <tr>\n",
              "      <th>80</th>\n",
              "      <td>1969</td>\n",
              "      <td>2</td>\n",
              "      <td>9.0</td>\n",
              "      <td>4252</td>\n",
              "      <td>0</td>\n",
              "    </tr>\n",
              "    <tr>\n",
              "      <th>81</th>\n",
              "      <td>1969</td>\n",
              "      <td>2</td>\n",
              "      <td>9.0</td>\n",
              "      <td>4442</td>\n",
              "      <td>1</td>\n",
              "    </tr>\n",
              "    <tr>\n",
              "      <th>82</th>\n",
              "      <td>1969</td>\n",
              "      <td>2</td>\n",
              "      <td>10.0</td>\n",
              "      <td>4958</td>\n",
              "      <td>0</td>\n",
              "    </tr>\n",
              "    <tr>\n",
              "      <th>83</th>\n",
              "      <td>1969</td>\n",
              "      <td>2</td>\n",
              "      <td>10.0</td>\n",
              "      <td>4996</td>\n",
              "      <td>1</td>\n",
              "    </tr>\n",
              "    <tr>\n",
              "      <th>84</th>\n",
              "      <td>1969</td>\n",
              "      <td>2</td>\n",
              "      <td>11.0</td>\n",
              "      <td>4796</td>\n",
              "      <td>0</td>\n",
              "    </tr>\n",
              "    <tr>\n",
              "      <th>85</th>\n",
              "      <td>1969</td>\n",
              "      <td>2</td>\n",
              "      <td>11.0</td>\n",
              "      <td>5060</td>\n",
              "      <td>1</td>\n",
              "    </tr>\n",
              "    <tr>\n",
              "      <th>86</th>\n",
              "      <td>1969</td>\n",
              "      <td>2</td>\n",
              "      <td>12.0</td>\n",
              "      <td>4780</td>\n",
              "      <td>0</td>\n",
              "    </tr>\n",
              "    <tr>\n",
              "      <th>87</th>\n",
              "      <td>1969</td>\n",
              "      <td>2</td>\n",
              "      <td>12.0</td>\n",
              "      <td>5228</td>\n",
              "      <td>1</td>\n",
              "    </tr>\n",
              "    <tr>\n",
              "      <th>88</th>\n",
              "      <td>1969</td>\n",
              "      <td>2</td>\n",
              "      <td>13.0</td>\n",
              "      <td>4850</td>\n",
              "      <td>0</td>\n",
              "    </tr>\n",
              "    <tr>\n",
              "      <th>89</th>\n",
              "      <td>1969</td>\n",
              "      <td>2</td>\n",
              "      <td>13.0</td>\n",
              "      <td>4756</td>\n",
              "      <td>1</td>\n",
              "    </tr>\n",
              "    <tr>\n",
              "      <th>90</th>\n",
              "      <td>1969</td>\n",
              "      <td>2</td>\n",
              "      <td>14.0</td>\n",
              "      <td>5092</td>\n",
              "      <td>0</td>\n",
              "    </tr>\n",
              "    <tr>\n",
              "      <th>91</th>\n",
              "      <td>1969</td>\n",
              "      <td>2</td>\n",
              "      <td>14.0</td>\n",
              "      <td>5262</td>\n",
              "      <td>1</td>\n",
              "    </tr>\n",
              "    <tr>\n",
              "      <th>92</th>\n",
              "      <td>1969</td>\n",
              "      <td>2</td>\n",
              "      <td>15.0</td>\n",
              "      <td>4598</td>\n",
              "      <td>0</td>\n",
              "    </tr>\n",
              "    <tr>\n",
              "      <th>93</th>\n",
              "      <td>1969</td>\n",
              "      <td>2</td>\n",
              "      <td>15.0</td>\n",
              "      <td>4712</td>\n",
              "      <td>1</td>\n",
              "    </tr>\n",
              "    <tr>\n",
              "      <th>94</th>\n",
              "      <td>1969</td>\n",
              "      <td>2</td>\n",
              "      <td>16.0</td>\n",
              "      <td>4118</td>\n",
              "      <td>0</td>\n",
              "    </tr>\n",
              "    <tr>\n",
              "      <th>95</th>\n",
              "      <td>1969</td>\n",
              "      <td>2</td>\n",
              "      <td>16.0</td>\n",
              "      <td>4416</td>\n",
              "      <td>1</td>\n",
              "    </tr>\n",
              "    <tr>\n",
              "      <th>96</th>\n",
              "      <td>1969</td>\n",
              "      <td>2</td>\n",
              "      <td>17.0</td>\n",
              "      <td>4768</td>\n",
              "      <td>0</td>\n",
              "    </tr>\n",
              "    <tr>\n",
              "      <th>97</th>\n",
              "      <td>1969</td>\n",
              "      <td>2</td>\n",
              "      <td>17.0</td>\n",
              "      <td>5054</td>\n",
              "      <td>1</td>\n",
              "    </tr>\n",
              "    <tr>\n",
              "      <th>98</th>\n",
              "      <td>1969</td>\n",
              "      <td>2</td>\n",
              "      <td>18.0</td>\n",
              "      <td>4962</td>\n",
              "      <td>0</td>\n",
              "    </tr>\n",
              "    <tr>\n",
              "      <th>99</th>\n",
              "      <td>1969</td>\n",
              "      <td>2</td>\n",
              "      <td>18.0</td>\n",
              "      <td>5214</td>\n",
              "      <td>1</td>\n",
              "    </tr>\n",
              "    <tr>\n",
              "      <th>100</th>\n",
              "      <td>1969</td>\n",
              "      <td>2</td>\n",
              "      <td>19.0</td>\n",
              "      <td>4788</td>\n",
              "      <td>0</td>\n",
              "    </tr>\n",
              "    <tr>\n",
              "      <th>101</th>\n",
              "      <td>1969</td>\n",
              "      <td>2</td>\n",
              "      <td>19.0</td>\n",
              "      <td>5028</td>\n",
              "      <td>1</td>\n",
              "    </tr>\n",
              "    <tr>\n",
              "      <th>102</th>\n",
              "      <td>1969</td>\n",
              "      <td>2</td>\n",
              "      <td>20.0</td>\n",
              "      <td>4920</td>\n",
              "      <td>0</td>\n",
              "    </tr>\n",
              "    <tr>\n",
              "      <th>103</th>\n",
              "      <td>1969</td>\n",
              "      <td>2</td>\n",
              "      <td>20.0</td>\n",
              "      <td>5062</td>\n",
              "      <td>1</td>\n",
              "    </tr>\n",
              "    <tr>\n",
              "      <th>104</th>\n",
              "      <td>1969</td>\n",
              "      <td>2</td>\n",
              "      <td>21.0</td>\n",
              "      <td>4940</td>\n",
              "      <td>0</td>\n",
              "    </tr>\n",
              "    <tr>\n",
              "      <th>105</th>\n",
              "      <td>1969</td>\n",
              "      <td>2</td>\n",
              "      <td>21.0</td>\n",
              "      <td>4976</td>\n",
              "      <td>1</td>\n",
              "    </tr>\n",
              "    <tr>\n",
              "      <th>106</th>\n",
              "      <td>1969</td>\n",
              "      <td>2</td>\n",
              "      <td>22.0</td>\n",
              "      <td>4484</td>\n",
              "      <td>0</td>\n",
              "    </tr>\n",
              "    <tr>\n",
              "      <th>107</th>\n",
              "      <td>1969</td>\n",
              "      <td>2</td>\n",
              "      <td>22.0</td>\n",
              "      <td>4668</td>\n",
              "      <td>1</td>\n",
              "    </tr>\n",
              "    <tr>\n",
              "      <th>108</th>\n",
              "      <td>1969</td>\n",
              "      <td>2</td>\n",
              "      <td>23.0</td>\n",
              "      <td>4298</td>\n",
              "      <td>0</td>\n",
              "    </tr>\n",
              "    <tr>\n",
              "      <th>109</th>\n",
              "      <td>1969</td>\n",
              "      <td>2</td>\n",
              "      <td>23.0</td>\n",
              "      <td>4406</td>\n",
              "      <td>1</td>\n",
              "    </tr>\n",
              "    <tr>\n",
              "      <th>110</th>\n",
              "      <td>1969</td>\n",
              "      <td>2</td>\n",
              "      <td>24.0</td>\n",
              "      <td>4798</td>\n",
              "      <td>0</td>\n",
              "    </tr>\n",
              "    <tr>\n",
              "      <th>111</th>\n",
              "      <td>1969</td>\n",
              "      <td>2</td>\n",
              "      <td>24.0</td>\n",
              "      <td>5168</td>\n",
              "      <td>1</td>\n",
              "    </tr>\n",
              "    <tr>\n",
              "      <th>112</th>\n",
              "      <td>1969</td>\n",
              "      <td>2</td>\n",
              "      <td>25.0</td>\n",
              "      <td>5196</td>\n",
              "      <td>0</td>\n",
              "    </tr>\n",
              "    <tr>\n",
              "      <th>113</th>\n",
              "      <td>1969</td>\n",
              "      <td>2</td>\n",
              "      <td>25.0</td>\n",
              "      <td>5370</td>\n",
              "      <td>1</td>\n",
              "    </tr>\n",
              "    <tr>\n",
              "      <th>114</th>\n",
              "      <td>1969</td>\n",
              "      <td>2</td>\n",
              "      <td>26.0</td>\n",
              "      <td>4838</td>\n",
              "      <td>0</td>\n",
              "    </tr>\n",
              "    <tr>\n",
              "      <th>115</th>\n",
              "      <td>1969</td>\n",
              "      <td>2</td>\n",
              "      <td>26.0</td>\n",
              "      <td>5210</td>\n",
              "      <td>1</td>\n",
              "    </tr>\n",
              "    <tr>\n",
              "      <th>116</th>\n",
              "      <td>1969</td>\n",
              "      <td>2</td>\n",
              "      <td>27.0</td>\n",
              "      <td>4588</td>\n",
              "      <td>0</td>\n",
              "    </tr>\n",
              "    <tr>\n",
              "      <th>117</th>\n",
              "      <td>1969</td>\n",
              "      <td>2</td>\n",
              "      <td>27.0</td>\n",
              "      <td>5030</td>\n",
              "      <td>1</td>\n",
              "    </tr>\n",
              "    <tr>\n",
              "      <th>118</th>\n",
              "      <td>1969</td>\n",
              "      <td>2</td>\n",
              "      <td>28.0</td>\n",
              "      <td>4792</td>\n",
              "      <td>0</td>\n",
              "    </tr>\n",
              "    <tr>\n",
              "      <th>119</th>\n",
              "      <td>1969</td>\n",
              "      <td>2</td>\n",
              "      <td>28.0</td>\n",
              "      <td>4964</td>\n",
              "      <td>1</td>\n",
              "    </tr>\n",
              "    <tr>\n",
              "      <th>120</th>\n",
              "      <td>1969</td>\n",
              "      <td>2</td>\n",
              "      <td>29.0</td>\n",
              "      <td>50</td>\n",
              "      <td>0</td>\n",
              "    </tr>\n",
              "    <tr>\n",
              "      <th>121</th>\n",
              "      <td>1969</td>\n",
              "      <td>2</td>\n",
              "      <td>29.0</td>\n",
              "      <td>16</td>\n",
              "      <td>1</td>\n",
              "    </tr>\n",
              "    <tr>\n",
              "      <th>122</th>\n",
              "      <td>1969</td>\n",
              "      <td>2</td>\n",
              "      <td>30.0</td>\n",
              "      <td>24</td>\n",
              "      <td>0</td>\n",
              "    </tr>\n",
              "    <tr>\n",
              "      <th>123</th>\n",
              "      <td>1969</td>\n",
              "      <td>2</td>\n",
              "      <td>30.0</td>\n",
              "      <td>28</td>\n",
              "      <td>1</td>\n",
              "    </tr>\n",
              "  </tbody>\n",
              "</table>\n",
              "</div>"
            ],
            "text/plain": [
              "     year  month   day  births  gender_M\n",
              "64   1969      2   1.0    4394         0\n",
              "65   1969      2   1.0    4736         1\n",
              "66   1969      2   2.0    4334         0\n",
              "67   1969      2   2.0    4480         1\n",
              "68   1969      2   3.0    4878         0\n",
              "69   1969      2   3.0    5110         1\n",
              "70   1969      2   4.0    4796         0\n",
              "71   1969      2   4.0    5200         1\n",
              "72   1969      2   5.0    4674         0\n",
              "73   1969      2   5.0    5002         1\n",
              "74   1969      2   6.0    4760         0\n",
              "75   1969      2   6.0    4968         1\n",
              "76   1969      2   7.0    4940         0\n",
              "77   1969      2   7.0    5162         1\n",
              "78   1969      2   8.0    4626         0\n",
              "79   1969      2   8.0    4636         1\n",
              "80   1969      2   9.0    4252         0\n",
              "81   1969      2   9.0    4442         1\n",
              "82   1969      2  10.0    4958         0\n",
              "83   1969      2  10.0    4996         1\n",
              "84   1969      2  11.0    4796         0\n",
              "85   1969      2  11.0    5060         1\n",
              "86   1969      2  12.0    4780         0\n",
              "87   1969      2  12.0    5228         1\n",
              "88   1969      2  13.0    4850         0\n",
              "89   1969      2  13.0    4756         1\n",
              "90   1969      2  14.0    5092         0\n",
              "91   1969      2  14.0    5262         1\n",
              "92   1969      2  15.0    4598         0\n",
              "93   1969      2  15.0    4712         1\n",
              "94   1969      2  16.0    4118         0\n",
              "95   1969      2  16.0    4416         1\n",
              "96   1969      2  17.0    4768         0\n",
              "97   1969      2  17.0    5054         1\n",
              "98   1969      2  18.0    4962         0\n",
              "99   1969      2  18.0    5214         1\n",
              "100  1969      2  19.0    4788         0\n",
              "101  1969      2  19.0    5028         1\n",
              "102  1969      2  20.0    4920         0\n",
              "103  1969      2  20.0    5062         1\n",
              "104  1969      2  21.0    4940         0\n",
              "105  1969      2  21.0    4976         1\n",
              "106  1969      2  22.0    4484         0\n",
              "107  1969      2  22.0    4668         1\n",
              "108  1969      2  23.0    4298         0\n",
              "109  1969      2  23.0    4406         1\n",
              "110  1969      2  24.0    4798         0\n",
              "111  1969      2  24.0    5168         1\n",
              "112  1969      2  25.0    5196         0\n",
              "113  1969      2  25.0    5370         1\n",
              "114  1969      2  26.0    4838         0\n",
              "115  1969      2  26.0    5210         1\n",
              "116  1969      2  27.0    4588         0\n",
              "117  1969      2  27.0    5030         1\n",
              "118  1969      2  28.0    4792         0\n",
              "119  1969      2  28.0    4964         1\n",
              "120  1969      2  29.0      50         0\n",
              "121  1969      2  29.0      16         1\n",
              "122  1969      2  30.0      24         0\n",
              "123  1969      2  30.0      28         1"
            ]
          },
          "metadata": {
            "tags": []
          },
          "execution_count": 72
        }
      ]
    },
    {
      "cell_type": "markdown",
      "metadata": {
        "id": "tV5ci4Nfcf-0"
      },
      "source": [
        "Contando valores nulos em cada coluna do DataFrame"
      ]
    },
    {
      "cell_type": "code",
      "metadata": {
        "colab": {
          "base_uri": "https://localhost:8080/"
        },
        "id": "2UDeMlkAXp3C",
        "outputId": "bdefedc1-eac5-44a6-ed0c-ab1dbb042ee0"
      },
      "source": [
        "births.isnull().sum()"
      ],
      "execution_count": 75,
      "outputs": [
        {
          "output_type": "execute_result",
          "data": {
            "text/plain": [
              "year          0\n",
              "month         0\n",
              "day         480\n",
              "births        0\n",
              "gender_M      0\n",
              "dtype: int64"
            ]
          },
          "metadata": {
            "tags": []
          },
          "execution_count": 75
        }
      ]
    },
    {
      "cell_type": "markdown",
      "metadata": {
        "id": "DdgMLzauXtX2"
      },
      "source": [
        "Temos dados nulos somente na coluna de dias. Se a minha análise precisasse somente de meses, anos, gêneros e quantidade de nascimentos, ela não seria afetada pelos valores faltantes.\n",
        "\n",
        "Porém, se eu precisasse saber os dias específicos onde ocorrem esses valores, teria de lidar com eles.\n",
        "\n",
        "Eu teria a opção de cortar esses valores e perder informações de anos, o que, ao meu ver, seria menos indicado do que ignorar a variável dia com valores nulos.\n",
        "\n",
        "O mais indicado, mas demandaria entender qual problema estava sendo analisado, seria fechar o escopo da análise utilizando total de nascimento (total e por gênero) por meses e anos, pois aí as informações estariam completas.  "
      ]
    },
    {
      "cell_type": "code",
      "metadata": {
        "colab": {
          "base_uri": "https://localhost:8080/",
          "height": 204
        },
        "id": "1LWvtbH4YgIw",
        "outputId": "4097bf23-7da6-4252-da79-94868364bea5"
      },
      "source": [
        "#DataFrame somente onde há valores nulos em dias\n",
        "births_null_days = births[births['day'].isnull()]\n",
        "\n",
        "births_null_days.head()"
      ],
      "execution_count": 97,
      "outputs": [
        {
          "output_type": "execute_result",
          "data": {
            "text/html": [
              "<div>\n",
              "<style scoped>\n",
              "    .dataframe tbody tr th:only-of-type {\n",
              "        vertical-align: middle;\n",
              "    }\n",
              "\n",
              "    .dataframe tbody tr th {\n",
              "        vertical-align: top;\n",
              "    }\n",
              "\n",
              "    .dataframe thead th {\n",
              "        text-align: right;\n",
              "    }\n",
              "</style>\n",
              "<table border=\"1\" class=\"dataframe\">\n",
              "  <thead>\n",
              "    <tr style=\"text-align: right;\">\n",
              "      <th></th>\n",
              "      <th>year</th>\n",
              "      <th>month</th>\n",
              "      <th>day</th>\n",
              "      <th>gender</th>\n",
              "      <th>births</th>\n",
              "    </tr>\n",
              "  </thead>\n",
              "  <tbody>\n",
              "    <tr>\n",
              "      <th>15067</th>\n",
              "      <td>1989</td>\n",
              "      <td>1</td>\n",
              "      <td>NaN</td>\n",
              "      <td>F</td>\n",
              "      <td>156749</td>\n",
              "    </tr>\n",
              "    <tr>\n",
              "      <th>15068</th>\n",
              "      <td>1989</td>\n",
              "      <td>1</td>\n",
              "      <td>NaN</td>\n",
              "      <td>M</td>\n",
              "      <td>164052</td>\n",
              "    </tr>\n",
              "    <tr>\n",
              "      <th>15069</th>\n",
              "      <td>1989</td>\n",
              "      <td>2</td>\n",
              "      <td>NaN</td>\n",
              "      <td>F</td>\n",
              "      <td>146710</td>\n",
              "    </tr>\n",
              "    <tr>\n",
              "      <th>15070</th>\n",
              "      <td>1989</td>\n",
              "      <td>2</td>\n",
              "      <td>NaN</td>\n",
              "      <td>M</td>\n",
              "      <td>154047</td>\n",
              "    </tr>\n",
              "    <tr>\n",
              "      <th>15071</th>\n",
              "      <td>1989</td>\n",
              "      <td>3</td>\n",
              "      <td>NaN</td>\n",
              "      <td>F</td>\n",
              "      <td>165889</td>\n",
              "    </tr>\n",
              "  </tbody>\n",
              "</table>\n",
              "</div>"
            ],
            "text/plain": [
              "       year  month  day gender  births\n",
              "15067  1989      1  NaN      F  156749\n",
              "15068  1989      1  NaN      M  164052\n",
              "15069  1989      2  NaN      F  146710\n",
              "15070  1989      2  NaN      M  154047\n",
              "15071  1989      3  NaN      F  165889"
            ]
          },
          "metadata": {
            "tags": []
          },
          "execution_count": 97
        }
      ]
    },
    {
      "cell_type": "code",
      "metadata": {
        "colab": {
          "base_uri": "https://localhost:8080/",
          "height": 204
        },
        "id": "FYvKRbYLbBrF",
        "outputId": "60f2009d-c5ff-41e7-f8dc-5c302534991b"
      },
      "source": [
        "# DataFrame original\n",
        "births.head()"
      ],
      "execution_count": 98,
      "outputs": [
        {
          "output_type": "execute_result",
          "data": {
            "text/html": [
              "<div>\n",
              "<style scoped>\n",
              "    .dataframe tbody tr th:only-of-type {\n",
              "        vertical-align: middle;\n",
              "    }\n",
              "\n",
              "    .dataframe tbody tr th {\n",
              "        vertical-align: top;\n",
              "    }\n",
              "\n",
              "    .dataframe thead th {\n",
              "        text-align: right;\n",
              "    }\n",
              "</style>\n",
              "<table border=\"1\" class=\"dataframe\">\n",
              "  <thead>\n",
              "    <tr style=\"text-align: right;\">\n",
              "      <th></th>\n",
              "      <th>year</th>\n",
              "      <th>month</th>\n",
              "      <th>day</th>\n",
              "      <th>gender</th>\n",
              "      <th>births</th>\n",
              "    </tr>\n",
              "  </thead>\n",
              "  <tbody>\n",
              "    <tr>\n",
              "      <th>0</th>\n",
              "      <td>1969</td>\n",
              "      <td>1</td>\n",
              "      <td>1.0</td>\n",
              "      <td>F</td>\n",
              "      <td>4046</td>\n",
              "    </tr>\n",
              "    <tr>\n",
              "      <th>1</th>\n",
              "      <td>1969</td>\n",
              "      <td>1</td>\n",
              "      <td>1.0</td>\n",
              "      <td>M</td>\n",
              "      <td>4440</td>\n",
              "    </tr>\n",
              "    <tr>\n",
              "      <th>2</th>\n",
              "      <td>1969</td>\n",
              "      <td>1</td>\n",
              "      <td>2.0</td>\n",
              "      <td>F</td>\n",
              "      <td>4454</td>\n",
              "    </tr>\n",
              "    <tr>\n",
              "      <th>3</th>\n",
              "      <td>1969</td>\n",
              "      <td>1</td>\n",
              "      <td>2.0</td>\n",
              "      <td>M</td>\n",
              "      <td>4548</td>\n",
              "    </tr>\n",
              "    <tr>\n",
              "      <th>4</th>\n",
              "      <td>1969</td>\n",
              "      <td>1</td>\n",
              "      <td>3.0</td>\n",
              "      <td>F</td>\n",
              "      <td>4548</td>\n",
              "    </tr>\n",
              "  </tbody>\n",
              "</table>\n",
              "</div>"
            ],
            "text/plain": [
              "   year  month  day gender  births\n",
              "0  1969      1  1.0      F    4046\n",
              "1  1969      1  1.0      M    4440\n",
              "2  1969      1  2.0      F    4454\n",
              "3  1969      1  2.0      M    4548\n",
              "4  1969      1  3.0      F    4548"
            ]
          },
          "metadata": {
            "tags": []
          },
          "execution_count": 98
        }
      ]
    }
  ]
}