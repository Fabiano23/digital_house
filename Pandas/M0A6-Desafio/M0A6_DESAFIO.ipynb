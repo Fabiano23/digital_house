{
  "nbformat": 4,
  "nbformat_minor": 0,
  "metadata": {
    "anaconda-cloud": {},
    "kernelspec": {
      "display_name": "Python 3",
      "language": "python",
      "name": "python3"
    },
    "language_info": {
      "codemirror_mode": {
        "name": "ipython",
        "version": 3
      },
      "file_extension": ".py",
      "mimetype": "text/x-python",
      "name": "python",
      "nbconvert_exporter": "python",
      "pygments_lexer": "ipython3",
      "version": "3.7.6"
    },
    "colab": {
      "name": "M0A6-DESAFIO.ipynb",
      "provenance": [],
      "collapsed_sections": []
    }
  },
  "cells": [
    {
      "cell_type": "markdown",
      "metadata": {
        "id": "65z0WLb8CtN8"
      },
      "source": [
        "# DESAFIO 0."
      ]
    },
    {
      "cell_type": "markdown",
      "metadata": {
        "id": "SkqIgmNTCtN-"
      },
      "source": [
        "### A partir das bibliotecas a seguir, resolver as questões propostas."
      ]
    },
    {
      "cell_type": "code",
      "metadata": {
        "id": "qzTgdq9yCtN_"
      },
      "source": [
        "import numpy as np\n",
        "import pandas as pd\n",
        "import seaborn as sns\n",
        "import matplotlib.pyplot as plt"
      ],
      "execution_count": null,
      "outputs": []
    },
    {
      "cell_type": "markdown",
      "metadata": {
        "id": "AutIZGgqCtOG"
      },
      "source": [
        "#### Exercício 1:  Faça a leitura inicial dos dados e explore suas informações, estude seus tipos, sua forma e apresente uma análise inicial das medidas de dispersão de seus atributos."
      ]
    },
    {
      "cell_type": "code",
      "metadata": {
        "id": "WkSY3MCbCtOI"
      },
      "source": [
        "dados = pd.read_csv('auto_industry.csv')"
      ],
      "execution_count": null,
      "outputs": []
    },
    {
      "cell_type": "code",
      "metadata": {
        "id": "xCi7gQ3_CtOO",
        "outputId": "12d1ab5d-bc7c-41ac-cd40-4b458870271e",
        "colab": {
          "base_uri": "https://localhost:8080/"
        }
      },
      "source": [
        "print(f'Instâncias: {dados.shape[0]}')\n",
        "print(f'Variáveis: {dados.shape[1]}')"
      ],
      "execution_count": null,
      "outputs": [
        {
          "output_type": "stream",
          "text": [
            "Instâncias: 398\n",
            "Variáveis: 9\n"
          ],
          "name": "stdout"
        }
      ]
    },
    {
      "cell_type": "markdown",
      "metadata": {
        "id": "PbIsfxTH15cS"
      },
      "source": [
        "Olhando, de forma aleatória, 5 instâncias do dataset pra visualizar suas colunas e valores"
      ]
    },
    {
      "cell_type": "code",
      "metadata": {
        "id": "Zs_quWyw11zu",
        "outputId": "e02b5b02-55b6-4aa9-a165-0cbf7f3a4419",
        "colab": {
          "base_uri": "https://localhost:8080/",
          "height": 204
        }
      },
      "source": [
        "dados.sample(5, random_state= 1)"
      ],
      "execution_count": null,
      "outputs": [
        {
          "output_type": "execute_result",
          "data": {
            "text/html": [
              "<div>\n",
              "<style scoped>\n",
              "    .dataframe tbody tr th:only-of-type {\n",
              "        vertical-align: middle;\n",
              "    }\n",
              "\n",
              "    .dataframe tbody tr th {\n",
              "        vertical-align: top;\n",
              "    }\n",
              "\n",
              "    .dataframe thead th {\n",
              "        text-align: right;\n",
              "    }\n",
              "</style>\n",
              "<table border=\"1\" class=\"dataframe\">\n",
              "  <thead>\n",
              "    <tr style=\"text-align: right;\">\n",
              "      <th></th>\n",
              "      <th>mpg</th>\n",
              "      <th>cylinders</th>\n",
              "      <th>displacement</th>\n",
              "      <th>horsepower</th>\n",
              "      <th>weight</th>\n",
              "      <th>acceleration</th>\n",
              "      <th>model_year</th>\n",
              "      <th>origin</th>\n",
              "      <th>name</th>\n",
              "    </tr>\n",
              "  </thead>\n",
              "  <tbody>\n",
              "    <tr>\n",
              "      <th>174</th>\n",
              "      <td>18.0</td>\n",
              "      <td>6</td>\n",
              "      <td>171.0</td>\n",
              "      <td>97.0</td>\n",
              "      <td>2984</td>\n",
              "      <td>14.5</td>\n",
              "      <td>75</td>\n",
              "      <td>usa</td>\n",
              "      <td>ford pinto</td>\n",
              "    </tr>\n",
              "    <tr>\n",
              "      <th>359</th>\n",
              "      <td>28.1</td>\n",
              "      <td>4</td>\n",
              "      <td>141.0</td>\n",
              "      <td>80.0</td>\n",
              "      <td>3230</td>\n",
              "      <td>20.4</td>\n",
              "      <td>81</td>\n",
              "      <td>europe</td>\n",
              "      <td>peugeot 505s turbo diesel</td>\n",
              "    </tr>\n",
              "    <tr>\n",
              "      <th>250</th>\n",
              "      <td>19.4</td>\n",
              "      <td>8</td>\n",
              "      <td>318.0</td>\n",
              "      <td>140.0</td>\n",
              "      <td>3735</td>\n",
              "      <td>13.2</td>\n",
              "      <td>78</td>\n",
              "      <td>usa</td>\n",
              "      <td>dodge diplomat</td>\n",
              "    </tr>\n",
              "    <tr>\n",
              "      <th>274</th>\n",
              "      <td>20.3</td>\n",
              "      <td>5</td>\n",
              "      <td>131.0</td>\n",
              "      <td>103.0</td>\n",
              "      <td>2830</td>\n",
              "      <td>15.9</td>\n",
              "      <td>78</td>\n",
              "      <td>europe</td>\n",
              "      <td>audi 5000</td>\n",
              "    </tr>\n",
              "    <tr>\n",
              "      <th>283</th>\n",
              "      <td>20.2</td>\n",
              "      <td>6</td>\n",
              "      <td>232.0</td>\n",
              "      <td>90.0</td>\n",
              "      <td>3265</td>\n",
              "      <td>18.2</td>\n",
              "      <td>79</td>\n",
              "      <td>usa</td>\n",
              "      <td>amc concord dl 6</td>\n",
              "    </tr>\n",
              "  </tbody>\n",
              "</table>\n",
              "</div>"
            ],
            "text/plain": [
              "      mpg  cylinders  ...  origin                       name\n",
              "174  18.0          6  ...     usa                 ford pinto\n",
              "359  28.1          4  ...  europe  peugeot 505s turbo diesel\n",
              "250  19.4          8  ...     usa             dodge diplomat\n",
              "274  20.3          5  ...  europe                  audi 5000\n",
              "283  20.2          6  ...     usa           amc concord dl 6\n",
              "\n",
              "[5 rows x 9 columns]"
            ]
          },
          "metadata": {
            "tags": []
          },
          "execution_count": 81
        }
      ]
    },
    {
      "cell_type": "markdown",
      "metadata": {
        "id": "RNvMnaH71VDQ"
      },
      "source": [
        "Olhando os tipos de dados em cada coluna, quantas instâncias há em cada uma e, por consequência, se há valores faltantes."
      ]
    },
    {
      "cell_type": "code",
      "metadata": {
        "id": "8UOGd2nq1XMQ",
        "outputId": "8dbb2e26-27f8-41e9-84f4-fb711c32561d",
        "colab": {
          "base_uri": "https://localhost:8080/"
        }
      },
      "source": [
        "dados.info()"
      ],
      "execution_count": null,
      "outputs": [
        {
          "output_type": "stream",
          "text": [
            "<class 'pandas.core.frame.DataFrame'>\n",
            "RangeIndex: 398 entries, 0 to 397\n",
            "Data columns (total 9 columns):\n",
            " #   Column        Non-Null Count  Dtype  \n",
            "---  ------        --------------  -----  \n",
            " 0   mpg           398 non-null    float64\n",
            " 1   cylinders     398 non-null    int64  \n",
            " 2   displacement  398 non-null    float64\n",
            " 3   horsepower    392 non-null    float64\n",
            " 4   weight        398 non-null    int64  \n",
            " 5   acceleration  398 non-null    float64\n",
            " 6   model_year    398 non-null    int64  \n",
            " 7   origin        398 non-null    object \n",
            " 8   name          398 non-null    object \n",
            "dtypes: float64(4), int64(3), object(2)\n",
            "memory usage: 28.1+ KB\n"
          ],
          "name": "stdout"
        }
      ]
    },
    {
      "cell_type": "markdown",
      "metadata": {
        "id": "Nt3i16ZaEUIq"
      },
      "source": [
        "#### Significado das colunas após exploração do dataset\n",
        "\n",
        "[`mpg:`](https://www.carwow.co.uk/guides/running/what-is-mpg-0255#:~:text=Mpg%20stands%20for%20miles%20per,litres) Quantas milhas o carro faz por galão (4.55 litros cada galão).\n",
        "\n",
        "[`cylinders:`](https://www.arnoldclark.com/newsroom/2331-everything-you-need-to-know-about-engine-cylinders) Os cilindros do carro. Quanto mais alto, mais potente o carro, porém mais [combustível é gasto ](https://www.whichcar.com.au/car-advice/what-is-engine-size-and-why-does-it-matter) também.\n",
        "\n",
        "[`displacement:`](https://www.yourmechanic.com/article/what-is-engine-displacement) Quanto mais alto mais potente o carro, porém mais combustível é gasto pra manter seu funcionamento.\n",
        "\n",
        "[`horsepower:`](https://en.wikipedia.org/wiki/Horsepower) Quantos cavalos tem o carro.\n",
        "\n",
        "`weight:` O peso do carro.\n",
        "\n",
        "`acceleration:` Capacidade de aceleração do carro.\n",
        "\n",
        "`model_year:` Ano do modelo do carro.\n",
        "\n",
        "`\torigin:` País de origem.\n",
        "\n",
        "`name:` Nome do carro."
      ]
    },
    {
      "cell_type": "markdown",
      "metadata": {
        "id": "ZjZfbxVc2u1e"
      },
      "source": [
        "#### Questões iniciais"
      ]
    },
    {
      "cell_type": "markdown",
      "metadata": {
        "id": "nJ7LeGEC27bw"
      },
      "source": [
        "Análise descritiva inicial"
      ]
    },
    {
      "cell_type": "code",
      "metadata": {
        "id": "wuMBuU8U2-Yd",
        "outputId": "1709fa2f-898b-4e31-e242-4a814289d2fe",
        "colab": {
          "base_uri": "https://localhost:8080/",
          "height": 297
        }
      },
      "source": [
        "dados.describe()"
      ],
      "execution_count": null,
      "outputs": [
        {
          "output_type": "execute_result",
          "data": {
            "text/html": [
              "<div>\n",
              "<style scoped>\n",
              "    .dataframe tbody tr th:only-of-type {\n",
              "        vertical-align: middle;\n",
              "    }\n",
              "\n",
              "    .dataframe tbody tr th {\n",
              "        vertical-align: top;\n",
              "    }\n",
              "\n",
              "    .dataframe thead th {\n",
              "        text-align: right;\n",
              "    }\n",
              "</style>\n",
              "<table border=\"1\" class=\"dataframe\">\n",
              "  <thead>\n",
              "    <tr style=\"text-align: right;\">\n",
              "      <th></th>\n",
              "      <th>mpg</th>\n",
              "      <th>cylinders</th>\n",
              "      <th>displacement</th>\n",
              "      <th>horsepower</th>\n",
              "      <th>weight</th>\n",
              "      <th>acceleration</th>\n",
              "      <th>model_year</th>\n",
              "    </tr>\n",
              "  </thead>\n",
              "  <tbody>\n",
              "    <tr>\n",
              "      <th>count</th>\n",
              "      <td>398.000000</td>\n",
              "      <td>398.000000</td>\n",
              "      <td>398.000000</td>\n",
              "      <td>392.000000</td>\n",
              "      <td>398.000000</td>\n",
              "      <td>398.000000</td>\n",
              "      <td>398.000000</td>\n",
              "    </tr>\n",
              "    <tr>\n",
              "      <th>mean</th>\n",
              "      <td>23.514573</td>\n",
              "      <td>5.454774</td>\n",
              "      <td>193.425879</td>\n",
              "      <td>104.469388</td>\n",
              "      <td>2970.424623</td>\n",
              "      <td>15.568090</td>\n",
              "      <td>76.010050</td>\n",
              "    </tr>\n",
              "    <tr>\n",
              "      <th>std</th>\n",
              "      <td>7.815984</td>\n",
              "      <td>1.701004</td>\n",
              "      <td>104.269838</td>\n",
              "      <td>38.491160</td>\n",
              "      <td>846.841774</td>\n",
              "      <td>2.757689</td>\n",
              "      <td>3.697627</td>\n",
              "    </tr>\n",
              "    <tr>\n",
              "      <th>min</th>\n",
              "      <td>9.000000</td>\n",
              "      <td>3.000000</td>\n",
              "      <td>68.000000</td>\n",
              "      <td>46.000000</td>\n",
              "      <td>1613.000000</td>\n",
              "      <td>8.000000</td>\n",
              "      <td>70.000000</td>\n",
              "    </tr>\n",
              "    <tr>\n",
              "      <th>25%</th>\n",
              "      <td>17.500000</td>\n",
              "      <td>4.000000</td>\n",
              "      <td>104.250000</td>\n",
              "      <td>75.000000</td>\n",
              "      <td>2223.750000</td>\n",
              "      <td>13.825000</td>\n",
              "      <td>73.000000</td>\n",
              "    </tr>\n",
              "    <tr>\n",
              "      <th>50%</th>\n",
              "      <td>23.000000</td>\n",
              "      <td>4.000000</td>\n",
              "      <td>148.500000</td>\n",
              "      <td>93.500000</td>\n",
              "      <td>2803.500000</td>\n",
              "      <td>15.500000</td>\n",
              "      <td>76.000000</td>\n",
              "    </tr>\n",
              "    <tr>\n",
              "      <th>75%</th>\n",
              "      <td>29.000000</td>\n",
              "      <td>8.000000</td>\n",
              "      <td>262.000000</td>\n",
              "      <td>126.000000</td>\n",
              "      <td>3608.000000</td>\n",
              "      <td>17.175000</td>\n",
              "      <td>79.000000</td>\n",
              "    </tr>\n",
              "    <tr>\n",
              "      <th>max</th>\n",
              "      <td>46.600000</td>\n",
              "      <td>8.000000</td>\n",
              "      <td>455.000000</td>\n",
              "      <td>230.000000</td>\n",
              "      <td>5140.000000</td>\n",
              "      <td>24.800000</td>\n",
              "      <td>82.000000</td>\n",
              "    </tr>\n",
              "  </tbody>\n",
              "</table>\n",
              "</div>"
            ],
            "text/plain": [
              "              mpg   cylinders  ...  acceleration  model_year\n",
              "count  398.000000  398.000000  ...    398.000000  398.000000\n",
              "mean    23.514573    5.454774  ...     15.568090   76.010050\n",
              "std      7.815984    1.701004  ...      2.757689    3.697627\n",
              "min      9.000000    3.000000  ...      8.000000   70.000000\n",
              "25%     17.500000    4.000000  ...     13.825000   73.000000\n",
              "50%     23.000000    4.000000  ...     15.500000   76.000000\n",
              "75%     29.000000    8.000000  ...     17.175000   79.000000\n",
              "max     46.600000    8.000000  ...     24.800000   82.000000\n",
              "\n",
              "[8 rows x 7 columns]"
            ]
          },
          "metadata": {
            "tags": []
          },
          "execution_count": 83
        }
      ]
    },
    {
      "cell_type": "markdown",
      "metadata": {
        "id": "isehi_gbMy6w"
      },
      "source": [
        "Olhando para a função [`.describe()`](https://pandas.pydata.org/pandas-docs/stable/reference/api/pandas.DataFrame.describe.html) que nos dá algumas medidas estatísticas do conjunto de dados passado como parâmetro podemos perceber algumas indicações iniciais sobre a dispersão dos dados.\n",
        "\n",
        "De acordo com o desvio padrão, as variáveis `mpg`(pela sua natureza), `displacement`, `horsepower` e `weight` são as que demonstram os dados mais dispersos, isto é, indivíduos mais distantes das respectivas medias.\n",
        "\n",
        "Enquanto para as variáveis `cylinders` e `aceleration` temos desvios menores e dados menos dispersos. Pela sua natureza as duas também possuem um intervalo de valores menor que as variáveis supracitadas\n",
        "\n",
        "Os anos do modelo dos carros do dataset, por sua vez, estão concentrados no intervalo de 1973 e 1979. Em todo o dataset temos modelos que vão de 1970 até 1982."
      ]
    },
    {
      "cell_type": "markdown",
      "metadata": {
        "id": "Fsm0GJZLJ9ov"
      },
      "source": [
        "O conjunto de dados tem carros de quais origens e quantos carros há de cda uma dessas origens?"
      ]
    },
    {
      "cell_type": "code",
      "metadata": {
        "id": "stnfTQ3f2VTs",
        "outputId": "d875732b-fb61-43f4-af84-cdeca0ce335a",
        "colab": {
          "base_uri": "https://localhost:8080/"
        }
      },
      "source": [
        "dados['origin'].value_counts()"
      ],
      "execution_count": null,
      "outputs": [
        {
          "output_type": "execute_result",
          "data": {
            "text/plain": [
              "usa       249\n",
              "japan      79\n",
              "europe     70\n",
              "Name: origin, dtype: int64"
            ]
          },
          "metadata": {
            "tags": []
          },
          "execution_count": 85
        }
      ]
    },
    {
      "cell_type": "markdown",
      "metadata": {
        "id": "ymKejZDYCtOj"
      },
      "source": [
        "#### Exercício 2:  Procure por valores faltantes nas colunas do dataframe e faça as substituições mais razoáveis."
      ]
    },
    {
      "cell_type": "markdown",
      "metadata": {
        "id": "R4cuE8Q9R3KR"
      },
      "source": [
        "Utilizarei o método [`.isnull()`](https://pandas.pydata.org/pandas-docs/stable/reference/api/pandas.isnull.html) junto ao `.sum()` que me retornam a quantidade de valores faltantes (se houver) para cada coluna do dataset em que são aplicados."
      ]
    },
    {
      "cell_type": "code",
      "metadata": {
        "id": "RLzdAZteCtOl",
        "outputId": "91836b66-823a-4ca5-9625-8174ae2e5778",
        "colab": {
          "base_uri": "https://localhost:8080/"
        }
      },
      "source": [
        "dados.isnull().sum()"
      ],
      "execution_count": null,
      "outputs": [
        {
          "output_type": "execute_result",
          "data": {
            "text/plain": [
              "mpg             0\n",
              "cylinders       0\n",
              "displacement    0\n",
              "horsepower      6\n",
              "weight          0\n",
              "acceleration    0\n",
              "model_year      0\n",
              "origin          0\n",
              "name            0\n",
              "dtype: int64"
            ]
          },
          "metadata": {
            "tags": []
          },
          "execution_count": 86
        }
      ]
    },
    {
      "cell_type": "markdown",
      "metadata": {
        "id": "BI6qYIzxSIL1"
      },
      "source": [
        "Existem valores faltantes na variável referente aos cavalos do carro. Como a variável pode ser importante pra perceber correlações entre as variáveis e possíveis projetos de predição, vamos optar por substituir tais valores e não eliminar esses indivíduos do dataset."
      ]
    },
    {
      "cell_type": "markdown",
      "metadata": {
        "id": "Z7eS4Sq7TsdU"
      },
      "source": [
        "Como está a distribuição dos valores de horsepower?"
      ]
    },
    {
      "cell_type": "code",
      "metadata": {
        "id": "H-XJ7eOUT0NC",
        "outputId": "5a0eb339-aac3-492f-e666-c6641c2de615",
        "colab": {
          "base_uri": "https://localhost:8080/"
        }
      },
      "source": [
        "dados['horsepower'].describe()"
      ],
      "execution_count": null,
      "outputs": [
        {
          "output_type": "execute_result",
          "data": {
            "text/plain": [
              "count    392.000000\n",
              "mean     104.469388\n",
              "std       38.491160\n",
              "min       46.000000\n",
              "25%       75.000000\n",
              "50%       93.500000\n",
              "75%      126.000000\n",
              "max      230.000000\n",
              "Name: horsepower, dtype: float64"
            ]
          },
          "metadata": {
            "tags": []
          },
          "execution_count": 87
        }
      ]
    },
    {
      "cell_type": "markdown",
      "metadata": {
        "id": "cZELrK3AVGG9"
      },
      "source": [
        "Como os dados estão bem dispersos vamos substituir tais valores pela mediana de `horsepower`"
      ]
    },
    {
      "cell_type": "code",
      "metadata": {
        "id": "3uCC-v9GZ5za",
        "outputId": "690034d5-9071-4ea5-c880-f63201c9f82b",
        "colab": {
          "base_uri": "https://localhost:8080/"
        }
      },
      "source": [
        "# Calculando a mediana da coluna horsepower\n",
        "mediana_horsepower = dados['horsepower'].median()\n",
        "print(mediana_horsepower)"
      ],
      "execution_count": null,
      "outputs": [
        {
          "output_type": "stream",
          "text": [
            "93.5\n"
          ],
          "name": "stdout"
        }
      ]
    },
    {
      "cell_type": "code",
      "metadata": {
        "id": "i_aftkkRXDJs"
      },
      "source": [
        "# Substituindo os valores NaN em horsepower pela sua mediana\n",
        "dados['horsepower'] = dados['horsepower'].fillna(mediana_horsepower)"
      ],
      "execution_count": null,
      "outputs": []
    },
    {
      "cell_type": "code",
      "metadata": {
        "id": "I0l-A_SyATIl",
        "outputId": "eecb242f-0a35-41ef-893b-f47eb2156ad7",
        "colab": {
          "base_uri": "https://localhost:8080/"
        }
      },
      "source": [
        "# Conferindo se os valores nulos foram substituídos\n",
        "dados.isnull().sum()"
      ],
      "execution_count": null,
      "outputs": [
        {
          "output_type": "execute_result",
          "data": {
            "text/plain": [
              "mpg             0\n",
              "cylinders       0\n",
              "displacement    0\n",
              "horsepower      0\n",
              "weight          0\n",
              "acceleration    0\n",
              "model_year      0\n",
              "origin          0\n",
              "name            0\n",
              "dtype: int64"
            ]
          },
          "metadata": {
            "tags": []
          },
          "execution_count": 90
        }
      ]
    },
    {
      "cell_type": "markdown",
      "metadata": {
        "id": "n2YCAoLoCtOw"
      },
      "source": [
        "#### Exercício 3: Explore a função [`get_group()`](https://pandas.pydata.org/pandas-docs/stable/reference/api/pandas.core.groupby.GroupBy.get_group.html) para criar um subconjunto dos dados e analisar apenas as entradas referentes à `'origin' = usa`."
      ]
    },
    {
      "cell_type": "code",
      "metadata": {
        "id": "ReZ6LV-GCtOx"
      },
      "source": [
        "usa = dados.groupby(\"origin\").get_group('usa')"
      ],
      "execution_count": null,
      "outputs": []
    },
    {
      "cell_type": "code",
      "metadata": {
        "id": "2nQwzBacCJJv",
        "outputId": "4e8d3d60-89f0-4f1a-b726-9225c5ae691e",
        "colab": {
          "base_uri": "https://localhost:8080/",
          "height": 297
        }
      },
      "source": [
        "dados.describe()"
      ],
      "execution_count": null,
      "outputs": [
        {
          "output_type": "execute_result",
          "data": {
            "text/html": [
              "<div>\n",
              "<style scoped>\n",
              "    .dataframe tbody tr th:only-of-type {\n",
              "        vertical-align: middle;\n",
              "    }\n",
              "\n",
              "    .dataframe tbody tr th {\n",
              "        vertical-align: top;\n",
              "    }\n",
              "\n",
              "    .dataframe thead th {\n",
              "        text-align: right;\n",
              "    }\n",
              "</style>\n",
              "<table border=\"1\" class=\"dataframe\">\n",
              "  <thead>\n",
              "    <tr style=\"text-align: right;\">\n",
              "      <th></th>\n",
              "      <th>mpg</th>\n",
              "      <th>cylinders</th>\n",
              "      <th>displacement</th>\n",
              "      <th>horsepower</th>\n",
              "      <th>weight</th>\n",
              "      <th>acceleration</th>\n",
              "      <th>model_year</th>\n",
              "    </tr>\n",
              "  </thead>\n",
              "  <tbody>\n",
              "    <tr>\n",
              "      <th>count</th>\n",
              "      <td>398.000000</td>\n",
              "      <td>398.000000</td>\n",
              "      <td>398.000000</td>\n",
              "      <td>398.000000</td>\n",
              "      <td>398.000000</td>\n",
              "      <td>398.000000</td>\n",
              "      <td>398.000000</td>\n",
              "    </tr>\n",
              "    <tr>\n",
              "      <th>mean</th>\n",
              "      <td>23.514573</td>\n",
              "      <td>5.454774</td>\n",
              "      <td>193.425879</td>\n",
              "      <td>104.304020</td>\n",
              "      <td>2970.424623</td>\n",
              "      <td>15.568090</td>\n",
              "      <td>76.010050</td>\n",
              "    </tr>\n",
              "    <tr>\n",
              "      <th>std</th>\n",
              "      <td>7.815984</td>\n",
              "      <td>1.701004</td>\n",
              "      <td>104.269838</td>\n",
              "      <td>38.222625</td>\n",
              "      <td>846.841774</td>\n",
              "      <td>2.757689</td>\n",
              "      <td>3.697627</td>\n",
              "    </tr>\n",
              "    <tr>\n",
              "      <th>min</th>\n",
              "      <td>9.000000</td>\n",
              "      <td>3.000000</td>\n",
              "      <td>68.000000</td>\n",
              "      <td>46.000000</td>\n",
              "      <td>1613.000000</td>\n",
              "      <td>8.000000</td>\n",
              "      <td>70.000000</td>\n",
              "    </tr>\n",
              "    <tr>\n",
              "      <th>25%</th>\n",
              "      <td>17.500000</td>\n",
              "      <td>4.000000</td>\n",
              "      <td>104.250000</td>\n",
              "      <td>76.000000</td>\n",
              "      <td>2223.750000</td>\n",
              "      <td>13.825000</td>\n",
              "      <td>73.000000</td>\n",
              "    </tr>\n",
              "    <tr>\n",
              "      <th>50%</th>\n",
              "      <td>23.000000</td>\n",
              "      <td>4.000000</td>\n",
              "      <td>148.500000</td>\n",
              "      <td>93.500000</td>\n",
              "      <td>2803.500000</td>\n",
              "      <td>15.500000</td>\n",
              "      <td>76.000000</td>\n",
              "    </tr>\n",
              "    <tr>\n",
              "      <th>75%</th>\n",
              "      <td>29.000000</td>\n",
              "      <td>8.000000</td>\n",
              "      <td>262.000000</td>\n",
              "      <td>125.000000</td>\n",
              "      <td>3608.000000</td>\n",
              "      <td>17.175000</td>\n",
              "      <td>79.000000</td>\n",
              "    </tr>\n",
              "    <tr>\n",
              "      <th>max</th>\n",
              "      <td>46.600000</td>\n",
              "      <td>8.000000</td>\n",
              "      <td>455.000000</td>\n",
              "      <td>230.000000</td>\n",
              "      <td>5140.000000</td>\n",
              "      <td>24.800000</td>\n",
              "      <td>82.000000</td>\n",
              "    </tr>\n",
              "  </tbody>\n",
              "</table>\n",
              "</div>"
            ],
            "text/plain": [
              "              mpg   cylinders  ...  acceleration  model_year\n",
              "count  398.000000  398.000000  ...    398.000000  398.000000\n",
              "mean    23.514573    5.454774  ...     15.568090   76.010050\n",
              "std      7.815984    1.701004  ...      2.757689    3.697627\n",
              "min      9.000000    3.000000  ...      8.000000   70.000000\n",
              "25%     17.500000    4.000000  ...     13.825000   73.000000\n",
              "50%     23.000000    4.000000  ...     15.500000   76.000000\n",
              "75%     29.000000    8.000000  ...     17.175000   79.000000\n",
              "max     46.600000    8.000000  ...     24.800000   82.000000\n",
              "\n",
              "[8 rows x 7 columns]"
            ]
          },
          "metadata": {
            "tags": []
          },
          "execution_count": 92
        }
      ]
    },
    {
      "cell_type": "code",
      "metadata": {
        "id": "gCCEYXZ6CB7i",
        "outputId": "24c886bb-53ba-49b1-9be7-a87917dae715",
        "colab": {
          "base_uri": "https://localhost:8080/",
          "height": 297
        }
      },
      "source": [
        "usa.describe()"
      ],
      "execution_count": null,
      "outputs": [
        {
          "output_type": "execute_result",
          "data": {
            "text/html": [
              "<div>\n",
              "<style scoped>\n",
              "    .dataframe tbody tr th:only-of-type {\n",
              "        vertical-align: middle;\n",
              "    }\n",
              "\n",
              "    .dataframe tbody tr th {\n",
              "        vertical-align: top;\n",
              "    }\n",
              "\n",
              "    .dataframe thead th {\n",
              "        text-align: right;\n",
              "    }\n",
              "</style>\n",
              "<table border=\"1\" class=\"dataframe\">\n",
              "  <thead>\n",
              "    <tr style=\"text-align: right;\">\n",
              "      <th></th>\n",
              "      <th>mpg</th>\n",
              "      <th>cylinders</th>\n",
              "      <th>displacement</th>\n",
              "      <th>horsepower</th>\n",
              "      <th>weight</th>\n",
              "      <th>acceleration</th>\n",
              "      <th>model_year</th>\n",
              "    </tr>\n",
              "  </thead>\n",
              "  <tbody>\n",
              "    <tr>\n",
              "      <th>count</th>\n",
              "      <td>249.000000</td>\n",
              "      <td>249.000000</td>\n",
              "      <td>249.000000</td>\n",
              "      <td>249.000000</td>\n",
              "      <td>249.000000</td>\n",
              "      <td>249.000000</td>\n",
              "      <td>249.000000</td>\n",
              "    </tr>\n",
              "    <tr>\n",
              "      <th>mean</th>\n",
              "      <td>20.083534</td>\n",
              "      <td>6.248996</td>\n",
              "      <td>245.901606</td>\n",
              "      <td>118.638554</td>\n",
              "      <td>3361.931727</td>\n",
              "      <td>15.033735</td>\n",
              "      <td>75.610442</td>\n",
              "    </tr>\n",
              "    <tr>\n",
              "      <th>std</th>\n",
              "      <td>6.402892</td>\n",
              "      <td>1.661425</td>\n",
              "      <td>98.501839</td>\n",
              "      <td>39.705390</td>\n",
              "      <td>794.792506</td>\n",
              "      <td>2.751112</td>\n",
              "      <td>3.677094</td>\n",
              "    </tr>\n",
              "    <tr>\n",
              "      <th>min</th>\n",
              "      <td>9.000000</td>\n",
              "      <td>4.000000</td>\n",
              "      <td>85.000000</td>\n",
              "      <td>52.000000</td>\n",
              "      <td>1800.000000</td>\n",
              "      <td>8.000000</td>\n",
              "      <td>70.000000</td>\n",
              "    </tr>\n",
              "    <tr>\n",
              "      <th>25%</th>\n",
              "      <td>15.000000</td>\n",
              "      <td>4.000000</td>\n",
              "      <td>151.000000</td>\n",
              "      <td>88.000000</td>\n",
              "      <td>2720.000000</td>\n",
              "      <td>13.000000</td>\n",
              "      <td>73.000000</td>\n",
              "    </tr>\n",
              "    <tr>\n",
              "      <th>50%</th>\n",
              "      <td>18.500000</td>\n",
              "      <td>6.000000</td>\n",
              "      <td>250.000000</td>\n",
              "      <td>105.000000</td>\n",
              "      <td>3365.000000</td>\n",
              "      <td>15.000000</td>\n",
              "      <td>76.000000</td>\n",
              "    </tr>\n",
              "    <tr>\n",
              "      <th>75%</th>\n",
              "      <td>24.000000</td>\n",
              "      <td>8.000000</td>\n",
              "      <td>318.000000</td>\n",
              "      <td>150.000000</td>\n",
              "      <td>4054.000000</td>\n",
              "      <td>16.900000</td>\n",
              "      <td>79.000000</td>\n",
              "    </tr>\n",
              "    <tr>\n",
              "      <th>max</th>\n",
              "      <td>39.000000</td>\n",
              "      <td>8.000000</td>\n",
              "      <td>455.000000</td>\n",
              "      <td>230.000000</td>\n",
              "      <td>5140.000000</td>\n",
              "      <td>22.200000</td>\n",
              "      <td>82.000000</td>\n",
              "    </tr>\n",
              "  </tbody>\n",
              "</table>\n",
              "</div>"
            ],
            "text/plain": [
              "              mpg   cylinders  ...  acceleration  model_year\n",
              "count  249.000000  249.000000  ...    249.000000  249.000000\n",
              "mean    20.083534    6.248996  ...     15.033735   75.610442\n",
              "std      6.402892    1.661425  ...      2.751112    3.677094\n",
              "min      9.000000    4.000000  ...      8.000000   70.000000\n",
              "25%     15.000000    4.000000  ...     13.000000   73.000000\n",
              "50%     18.500000    6.000000  ...     15.000000   76.000000\n",
              "75%     24.000000    8.000000  ...     16.900000   79.000000\n",
              "max     39.000000    8.000000  ...     22.200000   82.000000\n",
              "\n",
              "[8 rows x 7 columns]"
            ]
          },
          "metadata": {
            "tags": []
          },
          "execution_count": 93
        }
      ]
    },
    {
      "cell_type": "markdown",
      "metadata": {
        "id": "854ClrRDCVqf"
      },
      "source": [
        "Ao olhar o desvio padrão das variáveis para o dataset com informações de carros só dos EUA, a distribuição dos seus dados está bem próximo a do dataset original com os carros de Europa e Japão."
      ]
    },
    {
      "cell_type": "markdown",
      "metadata": {
        "id": "v-Ja6hmkCtO2"
      },
      "source": [
        "#### Exercício 4: Remova os elementos duplicados e crie uma tabela de consumo em (Km/L) e altere os nomes dos países de orígem para que todos comecem com letras maiúsculas."
      ]
    },
    {
      "cell_type": "code",
      "metadata": {
        "id": "gfiXpraSCtO3"
      },
      "source": [
        "# Removendo valores duplicados\n",
        "dados.drop_duplicates(inplace= True)"
      ],
      "execution_count": null,
      "outputs": []
    },
    {
      "cell_type": "code",
      "metadata": {
        "id": "SDh3tLt7yeDY"
      },
      "source": [
        "# Criando um novo Dataframe vazio\n",
        "df = pd.DataFrame()"
      ],
      "execution_count": null,
      "outputs": []
    },
    {
      "cell_type": "markdown",
      "metadata": {
        "id": "dI_AbmJuzI3A"
      },
      "source": [
        "[`Fórmula conversão de MPG para KM/L`](https://www.asknumbers.com/mpg-to-kml.aspx)"
      ]
    },
    {
      "cell_type": "code",
      "metadata": {
        "id": "R6BUA51dCtO9",
        "outputId": "8e01a3be-44aa-4949-b1c8-504f53e86640",
        "colab": {
          "base_uri": "https://localhost:8080/",
          "height": 204
        }
      },
      "source": [
        "# Vamos passar as milhas por galão para KM/l e inserir no dataframe criado\n",
        "df['KM/L'] =  round(dados['mpg'] / 2.35, 2)\n",
        "df.head()"
      ],
      "execution_count": null,
      "outputs": [
        {
          "output_type": "execute_result",
          "data": {
            "text/html": [
              "<div>\n",
              "<style scoped>\n",
              "    .dataframe tbody tr th:only-of-type {\n",
              "        vertical-align: middle;\n",
              "    }\n",
              "\n",
              "    .dataframe tbody tr th {\n",
              "        vertical-align: top;\n",
              "    }\n",
              "\n",
              "    .dataframe thead th {\n",
              "        text-align: right;\n",
              "    }\n",
              "</style>\n",
              "<table border=\"1\" class=\"dataframe\">\n",
              "  <thead>\n",
              "    <tr style=\"text-align: right;\">\n",
              "      <th></th>\n",
              "      <th>KM/L</th>\n",
              "    </tr>\n",
              "  </thead>\n",
              "  <tbody>\n",
              "    <tr>\n",
              "      <th>0</th>\n",
              "      <td>7.66</td>\n",
              "    </tr>\n",
              "    <tr>\n",
              "      <th>1</th>\n",
              "      <td>6.38</td>\n",
              "    </tr>\n",
              "    <tr>\n",
              "      <th>2</th>\n",
              "      <td>7.66</td>\n",
              "    </tr>\n",
              "    <tr>\n",
              "      <th>3</th>\n",
              "      <td>6.81</td>\n",
              "    </tr>\n",
              "    <tr>\n",
              "      <th>4</th>\n",
              "      <td>7.23</td>\n",
              "    </tr>\n",
              "  </tbody>\n",
              "</table>\n",
              "</div>"
            ],
            "text/plain": [
              "   KM/L\n",
              "0  7.66\n",
              "1  6.38\n",
              "2  7.66\n",
              "3  6.81\n",
              "4  7.23"
            ]
          },
          "metadata": {
            "tags": []
          },
          "execution_count": 96
        }
      ]
    },
    {
      "cell_type": "code",
      "metadata": {
        "id": "DZULADmMCtPC",
        "outputId": "894bab5c-12bd-4c5c-ff55-067c7f80c08a",
        "colab": {
          "base_uri": "https://localhost:8080/",
          "height": 204
        }
      },
      "source": [
        "# Inserindo nome dos locais de origem dos carros no dataframe criado\n",
        "df['origem'] = dados['origin'].str.capitalize()\n",
        "df.head()"
      ],
      "execution_count": null,
      "outputs": [
        {
          "output_type": "execute_result",
          "data": {
            "text/html": [
              "<div>\n",
              "<style scoped>\n",
              "    .dataframe tbody tr th:only-of-type {\n",
              "        vertical-align: middle;\n",
              "    }\n",
              "\n",
              "    .dataframe tbody tr th {\n",
              "        vertical-align: top;\n",
              "    }\n",
              "\n",
              "    .dataframe thead th {\n",
              "        text-align: right;\n",
              "    }\n",
              "</style>\n",
              "<table border=\"1\" class=\"dataframe\">\n",
              "  <thead>\n",
              "    <tr style=\"text-align: right;\">\n",
              "      <th></th>\n",
              "      <th>KM/L</th>\n",
              "      <th>origem</th>\n",
              "    </tr>\n",
              "  </thead>\n",
              "  <tbody>\n",
              "    <tr>\n",
              "      <th>0</th>\n",
              "      <td>7.66</td>\n",
              "      <td>Usa</td>\n",
              "    </tr>\n",
              "    <tr>\n",
              "      <th>1</th>\n",
              "      <td>6.38</td>\n",
              "      <td>Usa</td>\n",
              "    </tr>\n",
              "    <tr>\n",
              "      <th>2</th>\n",
              "      <td>7.66</td>\n",
              "      <td>Usa</td>\n",
              "    </tr>\n",
              "    <tr>\n",
              "      <th>3</th>\n",
              "      <td>6.81</td>\n",
              "      <td>Usa</td>\n",
              "    </tr>\n",
              "    <tr>\n",
              "      <th>4</th>\n",
              "      <td>7.23</td>\n",
              "      <td>Usa</td>\n",
              "    </tr>\n",
              "  </tbody>\n",
              "</table>\n",
              "</div>"
            ],
            "text/plain": [
              "   KM/L origem\n",
              "0  7.66    Usa\n",
              "1  6.38    Usa\n",
              "2  7.66    Usa\n",
              "3  6.81    Usa\n",
              "4  7.23    Usa"
            ]
          },
          "metadata": {
            "tags": []
          },
          "execution_count": 97
        }
      ]
    },
    {
      "cell_type": "markdown",
      "metadata": {
        "id": "2Swyz3OECtPH"
      },
      "source": [
        "#### Exercício 5:  Imprima a matriz de correlação do dataframe e avalie as relações entre os atributos."
      ]
    },
    {
      "cell_type": "code",
      "metadata": {
        "id": "V2ZfWM50CtPJ",
        "outputId": "0c5cd20a-926a-4fdd-b014-a13810cd3a5f",
        "colab": {
          "base_uri": "https://localhost:8080/",
          "height": 266
        }
      },
      "source": [
        "# Verificando a correlação entre as variáveis\n",
        "correlacao = dados.corr()\n",
        "correlacao"
      ],
      "execution_count": null,
      "outputs": [
        {
          "output_type": "execute_result",
          "data": {
            "text/html": [
              "<div>\n",
              "<style scoped>\n",
              "    .dataframe tbody tr th:only-of-type {\n",
              "        vertical-align: middle;\n",
              "    }\n",
              "\n",
              "    .dataframe tbody tr th {\n",
              "        vertical-align: top;\n",
              "    }\n",
              "\n",
              "    .dataframe thead th {\n",
              "        text-align: right;\n",
              "    }\n",
              "</style>\n",
              "<table border=\"1\" class=\"dataframe\">\n",
              "  <thead>\n",
              "    <tr style=\"text-align: right;\">\n",
              "      <th></th>\n",
              "      <th>mpg</th>\n",
              "      <th>cylinders</th>\n",
              "      <th>displacement</th>\n",
              "      <th>horsepower</th>\n",
              "      <th>weight</th>\n",
              "      <th>acceleration</th>\n",
              "      <th>model_year</th>\n",
              "    </tr>\n",
              "  </thead>\n",
              "  <tbody>\n",
              "    <tr>\n",
              "      <th>mpg</th>\n",
              "      <td>1.000000</td>\n",
              "      <td>-0.775396</td>\n",
              "      <td>-0.804203</td>\n",
              "      <td>-0.773453</td>\n",
              "      <td>-0.831741</td>\n",
              "      <td>0.420289</td>\n",
              "      <td>0.579267</td>\n",
              "    </tr>\n",
              "    <tr>\n",
              "      <th>cylinders</th>\n",
              "      <td>-0.775396</td>\n",
              "      <td>1.000000</td>\n",
              "      <td>0.950721</td>\n",
              "      <td>0.841284</td>\n",
              "      <td>0.896017</td>\n",
              "      <td>-0.505419</td>\n",
              "      <td>-0.348746</td>\n",
              "    </tr>\n",
              "    <tr>\n",
              "      <th>displacement</th>\n",
              "      <td>-0.804203</td>\n",
              "      <td>0.950721</td>\n",
              "      <td>1.000000</td>\n",
              "      <td>0.895778</td>\n",
              "      <td>0.932824</td>\n",
              "      <td>-0.543684</td>\n",
              "      <td>-0.370164</td>\n",
              "    </tr>\n",
              "    <tr>\n",
              "      <th>horsepower</th>\n",
              "      <td>-0.773453</td>\n",
              "      <td>0.841284</td>\n",
              "      <td>0.895778</td>\n",
              "      <td>1.000000</td>\n",
              "      <td>0.862442</td>\n",
              "      <td>-0.686590</td>\n",
              "      <td>-0.413733</td>\n",
              "    </tr>\n",
              "    <tr>\n",
              "      <th>weight</th>\n",
              "      <td>-0.831741</td>\n",
              "      <td>0.896017</td>\n",
              "      <td>0.932824</td>\n",
              "      <td>0.862442</td>\n",
              "      <td>1.000000</td>\n",
              "      <td>-0.417457</td>\n",
              "      <td>-0.306564</td>\n",
              "    </tr>\n",
              "    <tr>\n",
              "      <th>acceleration</th>\n",
              "      <td>0.420289</td>\n",
              "      <td>-0.505419</td>\n",
              "      <td>-0.543684</td>\n",
              "      <td>-0.686590</td>\n",
              "      <td>-0.417457</td>\n",
              "      <td>1.000000</td>\n",
              "      <td>0.288137</td>\n",
              "    </tr>\n",
              "    <tr>\n",
              "      <th>model_year</th>\n",
              "      <td>0.579267</td>\n",
              "      <td>-0.348746</td>\n",
              "      <td>-0.370164</td>\n",
              "      <td>-0.413733</td>\n",
              "      <td>-0.306564</td>\n",
              "      <td>0.288137</td>\n",
              "      <td>1.000000</td>\n",
              "    </tr>\n",
              "  </tbody>\n",
              "</table>\n",
              "</div>"
            ],
            "text/plain": [
              "                   mpg  cylinders  ...  acceleration  model_year\n",
              "mpg           1.000000  -0.775396  ...      0.420289    0.579267\n",
              "cylinders    -0.775396   1.000000  ...     -0.505419   -0.348746\n",
              "displacement -0.804203   0.950721  ...     -0.543684   -0.370164\n",
              "horsepower   -0.773453   0.841284  ...     -0.686590   -0.413733\n",
              "weight       -0.831741   0.896017  ...     -0.417457   -0.306564\n",
              "acceleration  0.420289  -0.505419  ...      1.000000    0.288137\n",
              "model_year    0.579267  -0.348746  ...      0.288137    1.000000\n",
              "\n",
              "[7 rows x 7 columns]"
            ]
          },
          "metadata": {
            "tags": []
          },
          "execution_count": 98
        }
      ]
    },
    {
      "cell_type": "markdown",
      "metadata": {
        "id": "qI74ScrG89om"
      },
      "source": [
        "[`Matriz de correlação`](https://seaborn.pydata.org/examples/many_pairwise_correlations.html)"
      ]
    },
    {
      "cell_type": "code",
      "metadata": {
        "id": "FRjhZsviCtPP",
        "outputId": "5a1e0693-3070-4ca5-aee2-79481ab5e3d9",
        "colab": {
          "base_uri": "https://localhost:8080/",
          "height": 398
        }
      },
      "source": [
        "# Delimitando tamanho da figura da matriz de correlação\n",
        "plt.figure(figsize=(12, 6))\n",
        "\n",
        "# Criando uma máscara pra cortar a correlação das variáveis com elas mesmas\n",
        "mask= np.triu(np.ones_like(correlacao))\n",
        "\n",
        "# Criando matriz de correlação\n",
        "sns.heatmap(correlacao, vmin= -0.8, vmax= 1.0, center= True, annot= True, mask= mask)"
      ],
      "execution_count": null,
      "outputs": [
        {
          "output_type": "execute_result",
          "data": {
            "text/plain": [
              "<matplotlib.axes._subplots.AxesSubplot at 0x7f5ba5120550>"
            ]
          },
          "metadata": {
            "tags": []
          },
          "execution_count": 99
        },
        {
          "output_type": "display_data",
          "data": {
            "image/png": "[encoded data removed]",
            "text/plain": [
              "<Figure size 864x432 with 2 Axes>"
            ]
          },
          "metadata": {
            "tags": []
          }
        }
      ]
    },
    {
      "cell_type": "markdown",
      "metadata": {
        "id": "td4HZsQJ7E6k"
      },
      "source": [
        "[`CORRELAÇÕES`](https://en.wikipedia.org/wiki/Correlation_and_dependence)"
      ]
    },
    {
      "cell_type": "markdown",
      "metadata": {
        "id": "ZrPaVR1a51WC"
      },
      "source": [
        "`CORRELAÇÕES POSITIVAS`:\n",
        "\n",
        "Como a variável displacement diz respeito à medida dos cilindros que compõem o carro, faz sentido que elas (displacement e cylinders) possuam correlação positiva, isto é, quando o valor de uma sobe a outra também e o mesmo vale para o movimento contrário. Nesse sentido, o peso do carro também sobe quando displacement e cylinders sobem.\n",
        "\n",
        "O valor da variável horsepower também possui forte correlação positiva com as variáveis displacement e cylinders. O que faz sentido tendo em vista que ela\n",
        "é uma medida para a potência do carro.\n",
        "\n",
        "`CORRELAÇÕES NEGATIVAS`:\n",
        "\n",
        "A variável `mpg` demonstra forte correlação negativa com `displacement`, o que faz sentido já que ela é quantas milhas o carro faz por galão. Nesse sentido, quanto maior o volume de cilindros do carro, maior será a necessidade de combustível para o manter e, portanto, menor será a distância possível de percorrer por galão. \n",
        "O que parece também levar à correlação negativa entre `mpg` e `weight` do carro, já que carros com maior volume dos cilindros serão mais pesados.\n",
        "\n",
        "Em termos de causalidade, a primeira correlação faz mais sentido."
      ]
    },
    {
      "cell_type": "markdown",
      "metadata": {
        "id": "pZ-hy9opCtPZ"
      },
      "source": [
        "#### Exercício 6: Gere gráficos de [`boxplots `](https://seaborn.pydata.org/generated/seaborn.boxplot.html) para todos os elementos numéricos do dataframe."
      ]
    },
    {
      "cell_type": "code",
      "metadata": {
        "id": "yL1iQeHZAUwD"
      },
      "source": [
        "# Inserindo grades nos boxplots que ajudam na visualização da distribuição dos valores\n",
        "sns.set_theme(style=\"whitegrid\")"
      ],
      "execution_count": null,
      "outputs": []
    },
    {
      "cell_type": "code",
      "metadata": {
        "id": "hXbVqapj-wY_",
        "outputId": "af51c782-f8e3-4222-a371-4474702bb3ca",
        "colab": {
          "base_uri": "https://localhost:8080/",
          "height": 285
        }
      },
      "source": [
        "# MPG\n",
        "sns.boxplot(data= dados['mpg'])"
      ],
      "execution_count": null,
      "outputs": [
        {
          "output_type": "execute_result",
          "data": {
            "text/plain": [
              "<matplotlib.axes._subplots.AxesSubplot at 0x7f5ba4c625c0>"
            ]
          },
          "metadata": {
            "tags": []
          },
          "execution_count": 105
        },
        {
          "output_type": "display_data",
          "data": {
            "image/png": "[encoded data removed]",
            "text/plain": [
              "<Figure size 432x288 with 1 Axes>"
            ]
          },
          "metadata": {
            "tags": []
          }
        }
      ]
    },
    {
      "cell_type": "code",
      "metadata": {
        "id": "hAWHR-p1BHd5",
        "outputId": "9827cb7c-f016-40c4-f4b3-a45e3d5a3a3c",
        "colab": {
          "base_uri": "https://localhost:8080/",
          "height": 285
        }
      },
      "source": [
        "# cylinders\n",
        "sns.boxplot(data= dados['cylinders'])"
      ],
      "execution_count": null,
      "outputs": [
        {
          "output_type": "execute_result",
          "data": {
            "text/plain": [
              "<matplotlib.axes._subplots.AxesSubplot at 0x7f5ba4aaf908>"
            ]
          },
          "metadata": {
            "tags": []
          },
          "execution_count": 106
        },
        {
          "output_type": "display_data",
          "data": {
            "image/png": "[encoded data removed]",
            "text/plain": [
              "<Figure size 432x288 with 1 Axes>"
            ]
          },
          "metadata": {
            "tags": []
          }
        }
      ]
    },
    {
      "cell_type": "code",
      "metadata": {
        "id": "KqkMc6UMA6Vx",
        "outputId": "8ddbdf94-404a-4f81-8cb4-0e4744dd2bf9",
        "colab": {
          "base_uri": "https://localhost:8080/",
          "height": 285
        }
      },
      "source": [
        "# aceleration\n",
        "sns.boxplot(data= dados['acceleration'])"
      ],
      "execution_count": null,
      "outputs": [
        {
          "output_type": "execute_result",
          "data": {
            "text/plain": [
              "<matplotlib.axes._subplots.AxesSubplot at 0x7f5ba4bac390>"
            ]
          },
          "metadata": {
            "tags": []
          },
          "execution_count": 107
        },
        {
          "output_type": "display_data",
          "data": {
            "image/png": "[encoded data removed]",
            "text/plain": [
              "<Figure size 432x288 with 1 Axes>"
            ]
          },
          "metadata": {
            "tags": []
          }
        }
      ]
    },
    {
      "cell_type": "code",
      "metadata": {
        "id": "9ijTk26b-IUV",
        "outputId": "71cbc842-6cbf-44a8-c039-ff9a7d721687",
        "colab": {
          "base_uri": "https://localhost:8080/",
          "height": 285
        }
      },
      "source": [
        "# Distribuição dos valores de `displacement` e `horsepower`\n",
        "sns.boxplot(data= dados[['displacement', 'horsepower']])"
      ],
      "execution_count": null,
      "outputs": [
        {
          "output_type": "execute_result",
          "data": {
            "text/plain": [
              "<matplotlib.axes._subplots.AxesSubplot at 0x7f5ba49f5e48>"
            ]
          },
          "metadata": {
            "tags": []
          },
          "execution_count": 108
        },
        {
          "output_type": "display_data",
          "data": {
            "image/png": "[encoded data removed]",
            "text/plain": [
              "<Figure size 432x288 with 1 Axes>"
            ]
          },
          "metadata": {
            "tags": []
          }
        }
      ]
    },
    {
      "cell_type": "markdown",
      "metadata": {
        "id": "JsR692IN-tQg"
      },
      "source": [
        "Distribuição dos valores de `weight`"
      ]
    },
    {
      "cell_type": "code",
      "metadata": {
        "id": "ttdPPDHx-JHx",
        "outputId": "333e8932-c04d-46ac-82c6-b84d12ec4c86",
        "colab": {
          "base_uri": "https://localhost:8080/",
          "height": 285
        }
      },
      "source": [
        "sns.boxplot(data= dados['weight'])"
      ],
      "execution_count": null,
      "outputs": [
        {
          "output_type": "execute_result",
          "data": {
            "text/plain": [
              "<matplotlib.axes._subplots.AxesSubplot at 0x7f5ba49d26d8>"
            ]
          },
          "metadata": {
            "tags": []
          },
          "execution_count": 109
        },
        {
          "output_type": "display_data",
          "data": {
            "image/png": "[encoded data removed]",
            "text/plain": [
              "<Figure size 432x288 with 1 Axes>"
            ]
          },
          "metadata": {
            "tags": []
          }
        }
      ]
    },
    {
      "cell_type": "code",
      "metadata": {
        "id": "k3tsiPrFA9MB",
        "outputId": "458cab38-ff10-4db8-ef4f-998e727ecc03",
        "colab": {
          "base_uri": "https://localhost:8080/",
          "height": 285
        }
      },
      "source": [
        "# Distribuição dos valores de model year\n",
        "sns.boxplot(data= dados['model_year'])"
      ],
      "execution_count": null,
      "outputs": [
        {
          "output_type": "execute_result",
          "data": {
            "text/plain": [
              "<matplotlib.axes._subplots.AxesSubplot at 0x7f5ba4988630>"
            ]
          },
          "metadata": {
            "tags": []
          },
          "execution_count": 110
        },
        {
          "output_type": "display_data",
          "data": {
            "image/png": "[encoded data removed]",
            "text/plain": [
              "<Figure size 432x288 with 1 Axes>"
            ]
          },
          "metadata": {
            "tags": []
          }
        }
      ]
    },
    {
      "cell_type": "markdown",
      "metadata": {
        "id": "lAky_PZ7CtPe"
      },
      "source": [
        "#### Exercicio 7: Eliminando os elementos `'origin'`, `'name'`, `'model_year'`, calcule a matriz de correlação entre atributos remanecentes, incluindo apenas aquelas correlações que em módulo superam o corte de `0.8`, discuta tambem suas relações de proporcionalidade."
      ]
    },
    {
      "cell_type": "code",
      "metadata": {
        "id": "xl0ObjEwBOcP"
      },
      "source": [
        "# Gerando correlação\n",
        "variaveis_analise = ['mpg', 'cylinders', 'displacement', 'horsepower', 'weight', 'acceleration']\n",
        "corr = dados[variaveis_analise].corr()"
      ],
      "execution_count": null,
      "outputs": []
    },
    {
      "cell_type": "code",
      "metadata": {
        "id": "wnLWxnyFD6af",
        "outputId": "ba1eaee9-06bf-403a-fe20-10b051ffe0f9",
        "colab": {
          "base_uri": "https://localhost:8080/",
          "height": 235
        }
      },
      "source": [
        "# Selecionando somente valores em módulo maiores que 0.8 \n",
        "\n",
        "#corr_condicoes = corr[(corr <= -0.8) | (corr >= 0.8)]\n",
        "corr_condicoes = corr[abs(corr) >= 0.8]\n",
        "\n",
        "corr_condicoes"
      ],
      "execution_count": null,
      "outputs": [
        {
          "output_type": "execute_result",
          "data": {
            "text/html": [
              "<div>\n",
              "<style scoped>\n",
              "    .dataframe tbody tr th:only-of-type {\n",
              "        vertical-align: middle;\n",
              "    }\n",
              "\n",
              "    .dataframe tbody tr th {\n",
              "        vertical-align: top;\n",
              "    }\n",
              "\n",
              "    .dataframe thead th {\n",
              "        text-align: right;\n",
              "    }\n",
              "</style>\n",
              "<table border=\"1\" class=\"dataframe\">\n",
              "  <thead>\n",
              "    <tr style=\"text-align: right;\">\n",
              "      <th></th>\n",
              "      <th>mpg</th>\n",
              "      <th>cylinders</th>\n",
              "      <th>displacement</th>\n",
              "      <th>horsepower</th>\n",
              "      <th>weight</th>\n",
              "      <th>acceleration</th>\n",
              "    </tr>\n",
              "  </thead>\n",
              "  <tbody>\n",
              "    <tr>\n",
              "      <th>mpg</th>\n",
              "      <td>1.000000</td>\n",
              "      <td>NaN</td>\n",
              "      <td>-0.804203</td>\n",
              "      <td>NaN</td>\n",
              "      <td>-0.831741</td>\n",
              "      <td>NaN</td>\n",
              "    </tr>\n",
              "    <tr>\n",
              "      <th>cylinders</th>\n",
              "      <td>NaN</td>\n",
              "      <td>1.000000</td>\n",
              "      <td>0.950721</td>\n",
              "      <td>0.842983</td>\n",
              "      <td>0.896017</td>\n",
              "      <td>NaN</td>\n",
              "    </tr>\n",
              "    <tr>\n",
              "      <th>displacement</th>\n",
              "      <td>-0.804203</td>\n",
              "      <td>0.950721</td>\n",
              "      <td>1.000000</td>\n",
              "      <td>0.897257</td>\n",
              "      <td>0.932824</td>\n",
              "      <td>NaN</td>\n",
              "    </tr>\n",
              "    <tr>\n",
              "      <th>horsepower</th>\n",
              "      <td>NaN</td>\n",
              "      <td>0.842983</td>\n",
              "      <td>0.897257</td>\n",
              "      <td>1.000000</td>\n",
              "      <td>0.864538</td>\n",
              "      <td>NaN</td>\n",
              "    </tr>\n",
              "    <tr>\n",
              "      <th>weight</th>\n",
              "      <td>-0.831741</td>\n",
              "      <td>0.896017</td>\n",
              "      <td>0.932824</td>\n",
              "      <td>0.864538</td>\n",
              "      <td>1.000000</td>\n",
              "      <td>NaN</td>\n",
              "    </tr>\n",
              "    <tr>\n",
              "      <th>acceleration</th>\n",
              "      <td>NaN</td>\n",
              "      <td>NaN</td>\n",
              "      <td>NaN</td>\n",
              "      <td>NaN</td>\n",
              "      <td>NaN</td>\n",
              "      <td>1.0</td>\n",
              "    </tr>\n",
              "  </tbody>\n",
              "</table>\n",
              "</div>"
            ],
            "text/plain": [
              "                   mpg  cylinders  ...    weight  acceleration\n",
              "mpg           1.000000        NaN  ... -0.831741           NaN\n",
              "cylinders          NaN   1.000000  ...  0.896017           NaN\n",
              "displacement -0.804203   0.950721  ...  0.932824           NaN\n",
              "horsepower         NaN   0.842983  ...  0.864538           NaN\n",
              "weight       -0.831741   0.896017  ...  1.000000           NaN\n",
              "acceleration       NaN        NaN  ...       NaN           1.0\n",
              "\n",
              "[6 rows x 6 columns]"
            ]
          },
          "metadata": {
            "tags": []
          },
          "execution_count": 114
        }
      ]
    },
    {
      "cell_type": "markdown",
      "metadata": {
        "id": "-UrI4BWJCtPf"
      },
      "source": [
        "#### Calculando o pairplot das relações remanecentes."
      ]
    },
    {
      "cell_type": "markdown",
      "metadata": {
        "id": "GSddYRiiB_aZ"
      },
      "source": [
        "A variável acceleration foi a única que não demonstrou correlação de ao menos 0.8 em módulo com nenhuma outra variável."
      ]
    },
    {
      "cell_type": "code",
      "metadata": {
        "id": "8NkxjZzqCtPg",
        "outputId": "6cc82f25-6344-457f-bbc4-a5dfaaf0d697",
        "colab": {
          "base_uri": "https://localhost:8080/",
          "height": 918
        }
      },
      "source": [
        "variaveis_remanescentes = ['mpg', 'cylinders', 'displacement', 'horsepower', 'weight']\n",
        "sns.pairplot(data= dados[variaveis_remanescentes])"
      ],
      "execution_count": null,
      "outputs": [
        {
          "output_type": "execute_result",
          "data": {
            "text/plain": [
              "<seaborn.axisgrid.PairGrid at 0x7f5ba4b314a8>"
            ]
          },
          "metadata": {
            "tags": []
          },
          "execution_count": 112
        },
        {
          "output_type": "display_data",
          "data": {
            "image/png": "[encoded data removed]",
            "text/plain": [
              "<Figure size 900x900 with 30 Axes>"
            ]
          },
          "metadata": {
            "tags": []
          }
        }
      ]
    },
    {
      "cell_type": "markdown",
      "metadata": {
        "id": "RbG0y7PMCtPl"
      },
      "source": [
        "#### Calculando agora a matriz de correlação entre os elementos cujas correlações superam o corte proposto."
      ]
    },
    {
      "cell_type": "code",
      "metadata": {
        "id": "_alDVsr2KIu7"
      },
      "source": [
        "# Correlação das variáveis remanescentes\n",
        "# corr_condicoes"
      ],
      "execution_count": null,
      "outputs": []
    },
    {
      "cell_type": "code",
      "metadata": {
        "id": "5H80Zd9YKdfD"
      },
      "source": [
        "# Criando uma máscara pra cortar a correlação das variáveis com elas mesmas\n",
        "mask= np.triu(np.ones_like(corr_condicoes))"
      ],
      "execution_count": null,
      "outputs": []
    },
    {
      "cell_type": "code",
      "metadata": {
        "id": "1hoRSUnPKRkd",
        "outputId": "3cfe9c91-afd1-4406-905b-f8190e38786c",
        "colab": {
          "base_uri": "https://localhost:8080/",
          "height": 354
        }
      },
      "source": [
        "# Matriz de correlação das variáveis remanescentes\n",
        "sns.heatmap(corr_condicoes, vmin= -0.8, vmax= 1.0, mask= mask, center= True, annot= True)"
      ],
      "execution_count": null,
      "outputs": [
        {
          "output_type": "execute_result",
          "data": {
            "text/plain": [
              "<matplotlib.axes._subplots.AxesSubplot at 0x7f5ba40d1320>"
            ]
          },
          "metadata": {
            "tags": []
          },
          "execution_count": 116
        },
        {
          "output_type": "display_data",
          "data": {
            "image/png": "[encoded data removed]",
            "text/plain": [
              "<Figure size 432x288 with 2 Axes>"
            ]
          },
          "metadata": {
            "tags": []
          }
        }
      ]
    },
    {
      "cell_type": "markdown",
      "metadata": {
        "id": "5qfyrSVVCtPv"
      },
      "source": [
        "#### Exercicio 8: Use a função [pivot_table()](https://pandas.pydata.org/pandas-docs/stable/reference/api/pandas.pivot_table.html) para criar uma tabela dinâmica que calcule a média do consumo (miles/galon) `'mpg'`. Divida o dataframe em ano de modelo `'model_year'` e número de cilindros `'cylinders'`. "
      ]
    },
    {
      "cell_type": "code",
      "metadata": {
        "id": "ldDFHIPACtPx",
        "outputId": "b40a181f-ab0e-4090-b906-f97e84c1218a",
        "colab": {
          "base_uri": "https://localhost:8080/",
          "height": 483
        }
      },
      "source": [
        "pd.pivot_table(dados, values= 'mpg', index= ['model_year'],\n",
        "                    columns=['cylinders'], aggfunc=np.mean)"
      ],
      "execution_count": null,
      "outputs": [
        {
          "output_type": "execute_result",
          "data": {
            "text/html": [
              "<div>\n",
              "<style scoped>\n",
              "    .dataframe tbody tr th:only-of-type {\n",
              "        vertical-align: middle;\n",
              "    }\n",
              "\n",
              "    .dataframe tbody tr th {\n",
              "        vertical-align: top;\n",
              "    }\n",
              "\n",
              "    .dataframe thead th {\n",
              "        text-align: right;\n",
              "    }\n",
              "</style>\n",
              "<table border=\"1\" class=\"dataframe\">\n",
              "  <thead>\n",
              "    <tr style=\"text-align: right;\">\n",
              "      <th>cylinders</th>\n",
              "      <th>3</th>\n",
              "      <th>4</th>\n",
              "      <th>5</th>\n",
              "      <th>6</th>\n",
              "      <th>8</th>\n",
              "    </tr>\n",
              "    <tr>\n",
              "      <th>model_year</th>\n",
              "      <th></th>\n",
              "      <th></th>\n",
              "      <th></th>\n",
              "      <th></th>\n",
              "      <th></th>\n",
              "    </tr>\n",
              "  </thead>\n",
              "  <tbody>\n",
              "    <tr>\n",
              "      <th>70</th>\n",
              "      <td>NaN</td>\n",
              "      <td>25.285714</td>\n",
              "      <td>NaN</td>\n",
              "      <td>20.500000</td>\n",
              "      <td>14.111111</td>\n",
              "    </tr>\n",
              "    <tr>\n",
              "      <th>71</th>\n",
              "      <td>NaN</td>\n",
              "      <td>27.461538</td>\n",
              "      <td>NaN</td>\n",
              "      <td>18.000000</td>\n",
              "      <td>13.428571</td>\n",
              "    </tr>\n",
              "    <tr>\n",
              "      <th>72</th>\n",
              "      <td>19.0</td>\n",
              "      <td>23.428571</td>\n",
              "      <td>NaN</td>\n",
              "      <td>NaN</td>\n",
              "      <td>13.615385</td>\n",
              "    </tr>\n",
              "    <tr>\n",
              "      <th>73</th>\n",
              "      <td>18.0</td>\n",
              "      <td>22.727273</td>\n",
              "      <td>NaN</td>\n",
              "      <td>19.000000</td>\n",
              "      <td>13.200000</td>\n",
              "    </tr>\n",
              "    <tr>\n",
              "      <th>74</th>\n",
              "      <td>NaN</td>\n",
              "      <td>27.800000</td>\n",
              "      <td>NaN</td>\n",
              "      <td>17.857143</td>\n",
              "      <td>14.200000</td>\n",
              "    </tr>\n",
              "    <tr>\n",
              "      <th>75</th>\n",
              "      <td>NaN</td>\n",
              "      <td>25.250000</td>\n",
              "      <td>NaN</td>\n",
              "      <td>17.583333</td>\n",
              "      <td>15.666667</td>\n",
              "    </tr>\n",
              "    <tr>\n",
              "      <th>76</th>\n",
              "      <td>NaN</td>\n",
              "      <td>26.766667</td>\n",
              "      <td>NaN</td>\n",
              "      <td>20.000000</td>\n",
              "      <td>14.666667</td>\n",
              "    </tr>\n",
              "    <tr>\n",
              "      <th>77</th>\n",
              "      <td>21.5</td>\n",
              "      <td>29.107143</td>\n",
              "      <td>NaN</td>\n",
              "      <td>19.500000</td>\n",
              "      <td>16.000000</td>\n",
              "    </tr>\n",
              "    <tr>\n",
              "      <th>78</th>\n",
              "      <td>NaN</td>\n",
              "      <td>29.576471</td>\n",
              "      <td>20.3</td>\n",
              "      <td>19.066667</td>\n",
              "      <td>19.050000</td>\n",
              "    </tr>\n",
              "    <tr>\n",
              "      <th>79</th>\n",
              "      <td>NaN</td>\n",
              "      <td>31.525000</td>\n",
              "      <td>25.4</td>\n",
              "      <td>22.950000</td>\n",
              "      <td>18.630000</td>\n",
              "    </tr>\n",
              "    <tr>\n",
              "      <th>80</th>\n",
              "      <td>23.7</td>\n",
              "      <td>34.612000</td>\n",
              "      <td>36.4</td>\n",
              "      <td>25.900000</td>\n",
              "      <td>NaN</td>\n",
              "    </tr>\n",
              "    <tr>\n",
              "      <th>81</th>\n",
              "      <td>NaN</td>\n",
              "      <td>32.814286</td>\n",
              "      <td>NaN</td>\n",
              "      <td>23.428571</td>\n",
              "      <td>26.600000</td>\n",
              "    </tr>\n",
              "    <tr>\n",
              "      <th>82</th>\n",
              "      <td>NaN</td>\n",
              "      <td>32.071429</td>\n",
              "      <td>NaN</td>\n",
              "      <td>28.333333</td>\n",
              "      <td>NaN</td>\n",
              "    </tr>\n",
              "  </tbody>\n",
              "</table>\n",
              "</div>"
            ],
            "text/plain": [
              "cylinders      3          4     5          6          8\n",
              "model_year                                             \n",
              "70           NaN  25.285714   NaN  20.500000  14.111111\n",
              "71           NaN  27.461538   NaN  18.000000  13.428571\n",
              "72          19.0  23.428571   NaN        NaN  13.615385\n",
              "73          18.0  22.727273   NaN  19.000000  13.200000\n",
              "74           NaN  27.800000   NaN  17.857143  14.200000\n",
              "75           NaN  25.250000   NaN  17.583333  15.666667\n",
              "76           NaN  26.766667   NaN  20.000000  14.666667\n",
              "77          21.5  29.107143   NaN  19.500000  16.000000\n",
              "78           NaN  29.576471  20.3  19.066667  19.050000\n",
              "79           NaN  31.525000  25.4  22.950000  18.630000\n",
              "80          23.7  34.612000  36.4  25.900000        NaN\n",
              "81           NaN  32.814286   NaN  23.428571  26.600000\n",
              "82           NaN  32.071429   NaN  28.333333        NaN"
            ]
          },
          "metadata": {
            "tags": []
          },
          "execution_count": 117
        }
      ]
    },
    {
      "cell_type": "markdown",
      "metadata": {
        "id": "yndYFdnvCtP1"
      },
      "source": [
        "#### Exercício 9: Agrupe o dataframe por origem  `'origin'` e número cilindros `'cylinders'` e calcule a média da potência `'horsepower'` dos carros fabricados."
      ]
    },
    {
      "cell_type": "code",
      "metadata": {
        "id": "7i8IfBlICtP2",
        "outputId": "8a2848e1-04bc-42f2-fcd9-9982f572fef3",
        "colab": {
          "base_uri": "https://localhost:8080/",
          "height": 235
        }
      },
      "source": [
        "pd.pivot_table(dados, values= 'horsepower', index= ['cylinders'],\n",
        "                    columns=['origin'], aggfunc=np.mean)"
      ],
      "execution_count": null,
      "outputs": [
        {
          "output_type": "execute_result",
          "data": {
            "text/html": [
              "<div>\n",
              "<style scoped>\n",
              "    .dataframe tbody tr th:only-of-type {\n",
              "        vertical-align: middle;\n",
              "    }\n",
              "\n",
              "    .dataframe tbody tr th {\n",
              "        vertical-align: top;\n",
              "    }\n",
              "\n",
              "    .dataframe thead th {\n",
              "        text-align: right;\n",
              "    }\n",
              "</style>\n",
              "<table border=\"1\" class=\"dataframe\">\n",
              "  <thead>\n",
              "    <tr style=\"text-align: right;\">\n",
              "      <th>origin</th>\n",
              "      <th>europe</th>\n",
              "      <th>japan</th>\n",
              "      <th>usa</th>\n",
              "    </tr>\n",
              "    <tr>\n",
              "      <th>cylinders</th>\n",
              "      <th></th>\n",
              "      <th></th>\n",
              "      <th></th>\n",
              "    </tr>\n",
              "  </thead>\n",
              "  <tbody>\n",
              "    <tr>\n",
              "      <th>3</th>\n",
              "      <td>NaN</td>\n",
              "      <td>99.250000</td>\n",
              "      <td>NaN</td>\n",
              "    </tr>\n",
              "    <tr>\n",
              "      <th>4</th>\n",
              "      <td>78.793651</td>\n",
              "      <td>75.579710</td>\n",
              "      <td>81.479167</td>\n",
              "    </tr>\n",
              "    <tr>\n",
              "      <th>5</th>\n",
              "      <td>82.333333</td>\n",
              "      <td>NaN</td>\n",
              "      <td>NaN</td>\n",
              "    </tr>\n",
              "    <tr>\n",
              "      <th>6</th>\n",
              "      <td>113.500000</td>\n",
              "      <td>115.833333</td>\n",
              "      <td>99.587838</td>\n",
              "    </tr>\n",
              "    <tr>\n",
              "      <th>8</th>\n",
              "      <td>NaN</td>\n",
              "      <td>NaN</td>\n",
              "      <td>158.300971</td>\n",
              "    </tr>\n",
              "  </tbody>\n",
              "</table>\n",
              "</div>"
            ],
            "text/plain": [
              "origin         europe       japan         usa\n",
              "cylinders                                    \n",
              "3                 NaN   99.250000         NaN\n",
              "4           78.793651   75.579710   81.479167\n",
              "5           82.333333         NaN         NaN\n",
              "6          113.500000  115.833333   99.587838\n",
              "8                 NaN         NaN  158.300971"
            ]
          },
          "metadata": {
            "tags": []
          },
          "execution_count": 118
        }
      ]
    },
    {
      "cell_type": "markdown",
      "metadata": {
        "id": "83yYZylqCtP6"
      },
      "source": [
        "#### Exercício 10: Faça uma segregação ainda mais severa com os dados, criando uma lista de intervalos de anos (dois a dois) como corte para a leitura da média de consumo dos veículos produzidos, como agrupados por origem `'origin'`, ano de modelo `'year_model'` e número de cilindros `'cylinders'`. Discuta a evolução na média de consumo, por ano e por país e por cilindro."
      ]
    },
    {
      "cell_type": "code",
      "metadata": {
        "id": "eEnAn9s8DMgc",
        "outputId": "bf13e913-ad0e-4527-b06d-e1757fc7ba0f",
        "colab": {
          "base_uri": "https://localhost:8080/"
        }
      },
      "source": [
        "# Lista com valores intervalares dos anos do modelo (do menor até o maior pulando de dois em dois)\n",
        "lista = list(range(dados['model_year'].min(), dados['model_year'].max() + 1, 2))\n",
        "lista"
      ],
      "execution_count": null,
      "outputs": [
        {
          "output_type": "execute_result",
          "data": {
            "text/plain": [
              "[70, 72, 74, 76, 78, 80, 82]"
            ]
          },
          "metadata": {
            "tags": []
          },
          "execution_count": 119
        }
      ]
    },
    {
      "cell_type": "markdown",
      "metadata": {
        "id": "R4wZeqWGLcCJ"
      },
      "source": [
        "Criando Series com os intervalos dos anos dos modelos com o método\n",
        "[`pd.cut()`](https://pandas.pydata.org/docs/reference/api/pandas.cut.html)"
      ]
    },
    {
      "cell_type": "code",
      "metadata": {
        "id": "-Pc4PKr2IDKG",
        "outputId": "faf1cb76-a532-45fb-960c-015e1ed60fcc",
        "colab": {
          "base_uri": "https://localhost:8080/"
        }
      },
      "source": [
        "ano_modelo_intervalos = pd.cut(dados['model_year'], bins= lista)\n",
        "\n",
        "#Quantos carros há em cada intervalo?\n",
        "ano_modelo_intervalos.value_counts()"
      ],
      "execution_count": null,
      "outputs": [
        {
          "output_type": "execute_result",
          "data": {
            "text/plain": [
              "(72, 74]    67\n",
              "(76, 78]    64\n",
              "(74, 76]    64\n",
              "(80, 82]    60\n",
              "(78, 80]    58\n",
              "(70, 72]    56\n",
              "Name: model_year, dtype: int64"
            ]
          },
          "metadata": {
            "tags": []
          },
          "execution_count": 120
        }
      ]
    },
    {
      "cell_type": "code",
      "metadata": {
        "id": "jUit9BF_CtP7",
        "outputId": "3708ea52-d649-4d43-a4dd-0d783c420b8b",
        "colab": {
          "base_uri": "https://localhost:8080/",
          "height": 824
        }
      },
      "source": [
        "#Pivot table com as condições especificadas acima\n",
        "pd.pivot_table(dados, values= 'mpg', index= [ano_modelo_intervalos, 'cylinders'],\n",
        "                    columns=['origin'], aggfunc=np.mean)"
      ],
      "execution_count": null,
      "outputs": [
        {
          "output_type": "execute_result",
          "data": {
            "text/html": [
              "<div>\n",
              "<style scoped>\n",
              "    .dataframe tbody tr th:only-of-type {\n",
              "        vertical-align: middle;\n",
              "    }\n",
              "\n",
              "    .dataframe tbody tr th {\n",
              "        vertical-align: top;\n",
              "    }\n",
              "\n",
              "    .dataframe thead th {\n",
              "        text-align: right;\n",
              "    }\n",
              "</style>\n",
              "<table border=\"1\" class=\"dataframe\">\n",
              "  <thead>\n",
              "    <tr style=\"text-align: right;\">\n",
              "      <th></th>\n",
              "      <th>origin</th>\n",
              "      <th>europe</th>\n",
              "      <th>japan</th>\n",
              "      <th>usa</th>\n",
              "    </tr>\n",
              "    <tr>\n",
              "      <th>model_year</th>\n",
              "      <th>cylinders</th>\n",
              "      <th></th>\n",
              "      <th></th>\n",
              "      <th></th>\n",
              "    </tr>\n",
              "  </thead>\n",
              "  <tbody>\n",
              "    <tr>\n",
              "      <th rowspan=\"4\" valign=\"top\">(70, 72]</th>\n",
              "      <th>3</th>\n",
              "      <td>NaN</td>\n",
              "      <td>19.000000</td>\n",
              "      <td>NaN</td>\n",
              "    </tr>\n",
              "    <tr>\n",
              "      <th>4</th>\n",
              "      <td>25.000000</td>\n",
              "      <td>27.500000</td>\n",
              "      <td>24.000000</td>\n",
              "    </tr>\n",
              "    <tr>\n",
              "      <th>6</th>\n",
              "      <td>NaN</td>\n",
              "      <td>NaN</td>\n",
              "      <td>18.000000</td>\n",
              "    </tr>\n",
              "    <tr>\n",
              "      <th>8</th>\n",
              "      <td>NaN</td>\n",
              "      <td>NaN</td>\n",
              "      <td>13.550000</td>\n",
              "    </tr>\n",
              "    <tr>\n",
              "      <th rowspan=\"4\" valign=\"top\">(72, 74]</th>\n",
              "      <th>3</th>\n",
              "      <td>NaN</td>\n",
              "      <td>18.000000</td>\n",
              "      <td>NaN</td>\n",
              "    </tr>\n",
              "    <tr>\n",
              "      <th>4</th>\n",
              "      <td>25.384615</td>\n",
              "      <td>27.250000</td>\n",
              "      <td>23.800000</td>\n",
              "    </tr>\n",
              "    <tr>\n",
              "      <th>6</th>\n",
              "      <td>NaN</td>\n",
              "      <td>20.000000</td>\n",
              "      <td>18.357143</td>\n",
              "    </tr>\n",
              "    <tr>\n",
              "      <th>8</th>\n",
              "      <td>NaN</td>\n",
              "      <td>NaN</td>\n",
              "      <td>13.400000</td>\n",
              "    </tr>\n",
              "    <tr>\n",
              "      <th rowspan=\"3\" valign=\"top\">(74, 76]</th>\n",
              "      <th>4</th>\n",
              "      <td>24.961538</td>\n",
              "      <td>29.000000</td>\n",
              "      <td>25.285714</td>\n",
              "    </tr>\n",
              "    <tr>\n",
              "      <th>6</th>\n",
              "      <td>16.500000</td>\n",
              "      <td>19.000000</td>\n",
              "      <td>18.775000</td>\n",
              "    </tr>\n",
              "    <tr>\n",
              "      <th>8</th>\n",
              "      <td>NaN</td>\n",
              "      <td>NaN</td>\n",
              "      <td>15.066667</td>\n",
              "    </tr>\n",
              "    <tr>\n",
              "      <th rowspan=\"5\" valign=\"top\">(76, 78]</th>\n",
              "      <th>3</th>\n",
              "      <td>NaN</td>\n",
              "      <td>21.500000</td>\n",
              "      <td>NaN</td>\n",
              "    </tr>\n",
              "    <tr>\n",
              "      <th>4</th>\n",
              "      <td>30.457143</td>\n",
              "      <td>29.875000</td>\n",
              "      <td>28.216667</td>\n",
              "    </tr>\n",
              "    <tr>\n",
              "      <th>5</th>\n",
              "      <td>20.300000</td>\n",
              "      <td>NaN</td>\n",
              "      <td>NaN</td>\n",
              "    </tr>\n",
              "    <tr>\n",
              "      <th>6</th>\n",
              "      <td>16.600000</td>\n",
              "      <td>22.000000</td>\n",
              "      <td>19.364286</td>\n",
              "    </tr>\n",
              "    <tr>\n",
              "      <th>8</th>\n",
              "      <td>NaN</td>\n",
              "      <td>NaN</td>\n",
              "      <td>17.307143</td>\n",
              "    </tr>\n",
              "    <tr>\n",
              "      <th rowspan=\"5\" valign=\"top\">(78, 80]</th>\n",
              "      <th>3</th>\n",
              "      <td>NaN</td>\n",
              "      <td>23.700000</td>\n",
              "      <td>NaN</td>\n",
              "    </tr>\n",
              "    <tr>\n",
              "      <th>4</th>\n",
              "      <td>35.963636</td>\n",
              "      <td>36.130769</td>\n",
              "      <td>29.100000</td>\n",
              "    </tr>\n",
              "    <tr>\n",
              "      <th>5</th>\n",
              "      <td>30.900000</td>\n",
              "      <td>NaN</td>\n",
              "      <td>NaN</td>\n",
              "    </tr>\n",
              "    <tr>\n",
              "      <th>6</th>\n",
              "      <td>NaN</td>\n",
              "      <td>32.700000</td>\n",
              "      <td>22.400000</td>\n",
              "    </tr>\n",
              "    <tr>\n",
              "      <th>8</th>\n",
              "      <td>NaN</td>\n",
              "      <td>NaN</td>\n",
              "      <td>18.630000</td>\n",
              "    </tr>\n",
              "    <tr>\n",
              "      <th rowspan=\"3\" valign=\"top\">(80, 82]</th>\n",
              "      <th>4</th>\n",
              "      <td>35.120000</td>\n",
              "      <td>34.731579</td>\n",
              "      <td>30.064000</td>\n",
              "    </tr>\n",
              "    <tr>\n",
              "      <th>6</th>\n",
              "      <td>30.700000</td>\n",
              "      <td>24.800000</td>\n",
              "      <td>24.100000</td>\n",
              "    </tr>\n",
              "    <tr>\n",
              "      <th>8</th>\n",
              "      <td>NaN</td>\n",
              "      <td>NaN</td>\n",
              "      <td>26.600000</td>\n",
              "    </tr>\n",
              "  </tbody>\n",
              "</table>\n",
              "</div>"
            ],
            "text/plain": [
              "origin                   europe      japan        usa\n",
              "model_year cylinders                                 \n",
              "(70, 72]   3                NaN  19.000000        NaN\n",
              "           4          25.000000  27.500000  24.000000\n",
              "           6                NaN        NaN  18.000000\n",
              "           8                NaN        NaN  13.550000\n",
              "(72, 74]   3                NaN  18.000000        NaN\n",
              "           4          25.384615  27.250000  23.800000\n",
              "           6                NaN  20.000000  18.357143\n",
              "           8                NaN        NaN  13.400000\n",
              "(74, 76]   4          24.961538  29.000000  25.285714\n",
              "           6          16.500000  19.000000  18.775000\n",
              "           8                NaN        NaN  15.066667\n",
              "(76, 78]   3                NaN  21.500000        NaN\n",
              "           4          30.457143  29.875000  28.216667\n",
              "           5          20.300000        NaN        NaN\n",
              "           6          16.600000  22.000000  19.364286\n",
              "           8                NaN        NaN  17.307143\n",
              "(78, 80]   3                NaN  23.700000        NaN\n",
              "           4          35.963636  36.130769  29.100000\n",
              "           5          30.900000        NaN        NaN\n",
              "           6                NaN  32.700000  22.400000\n",
              "           8                NaN        NaN  18.630000\n",
              "(80, 82]   4          35.120000  34.731579  30.064000\n",
              "           6          30.700000  24.800000  24.100000\n",
              "           8                NaN        NaN  26.600000"
            ]
          },
          "metadata": {
            "tags": []
          },
          "execution_count": 121
        }
      ]
    },
    {
      "cell_type": "markdown",
      "metadata": {
        "id": "Tw0ACvHBND_h"
      },
      "source": [
        "Enquanto Japão e Europa permanecem sem carros com 8 cilindros (na amostra), os EUA já possuem carros com tal quantidade de cilindros desde os anos 1970. Relacionado a isso, somente a partir dos anos 1980 os norte americanos passam a ter carros com 3 cilindros de acordo com a amostra e a media dos carros com 8 cilindros vão aumentando ao longo dos anos. O que pode indicar diferenças e movimentos culturais importantes entre USA, Japão e Europa (variável problemática por representar continente em comparação com outros dois países).\n"
      ]
    },
    {
      "cell_type": "markdown",
      "metadata": {
        "id": "R0Tc51lbCtQU"
      },
      "source": [
        "#### Exercício 11: Crie uma nova coluna com a relação peso/potência para cada veículo e plote um gráfico de dispersão dessa coluna com a de consumo que você criou no exercício 4"
      ]
    },
    {
      "cell_type": "code",
      "metadata": {
        "id": "HqUsr2wkCtQV",
        "outputId": "611464a0-520f-452d-9523-995b575ebf11",
        "colab": {
          "base_uri": "https://localhost:8080/",
          "height": 204
        }
      },
      "source": [
        "df['peso/potencia'] = dados['weight'] / dados['horsepower']\n",
        "df.head()"
      ],
      "execution_count": null,
      "outputs": [
        {
          "output_type": "execute_result",
          "data": {
            "text/html": [
              "<div>\n",
              "<style scoped>\n",
              "    .dataframe tbody tr th:only-of-type {\n",
              "        vertical-align: middle;\n",
              "    }\n",
              "\n",
              "    .dataframe tbody tr th {\n",
              "        vertical-align: top;\n",
              "    }\n",
              "\n",
              "    .dataframe thead th {\n",
              "        text-align: right;\n",
              "    }\n",
              "</style>\n",
              "<table border=\"1\" class=\"dataframe\">\n",
              "  <thead>\n",
              "    <tr style=\"text-align: right;\">\n",
              "      <th></th>\n",
              "      <th>KM/L</th>\n",
              "      <th>origem</th>\n",
              "      <th>peso/potencia</th>\n",
              "    </tr>\n",
              "  </thead>\n",
              "  <tbody>\n",
              "    <tr>\n",
              "      <th>0</th>\n",
              "      <td>7.66</td>\n",
              "      <td>Usa</td>\n",
              "      <td>26.953846</td>\n",
              "    </tr>\n",
              "    <tr>\n",
              "      <th>1</th>\n",
              "      <td>6.38</td>\n",
              "      <td>Usa</td>\n",
              "      <td>22.381818</td>\n",
              "    </tr>\n",
              "    <tr>\n",
              "      <th>2</th>\n",
              "      <td>7.66</td>\n",
              "      <td>Usa</td>\n",
              "      <td>22.906667</td>\n",
              "    </tr>\n",
              "    <tr>\n",
              "      <th>3</th>\n",
              "      <td>6.81</td>\n",
              "      <td>Usa</td>\n",
              "      <td>22.886667</td>\n",
              "    </tr>\n",
              "    <tr>\n",
              "      <th>4</th>\n",
              "      <td>7.23</td>\n",
              "      <td>Usa</td>\n",
              "      <td>24.635714</td>\n",
              "    </tr>\n",
              "  </tbody>\n",
              "</table>\n",
              "</div>"
            ],
            "text/plain": [
              "   KM/L origem  peso/potencia\n",
              "0  7.66    Usa      26.953846\n",
              "1  6.38    Usa      22.381818\n",
              "2  7.66    Usa      22.906667\n",
              "3  6.81    Usa      22.886667\n",
              "4  7.23    Usa      24.635714"
            ]
          },
          "metadata": {
            "tags": []
          },
          "execution_count": 122
        }
      ]
    },
    {
      "cell_type": "code",
      "metadata": {
        "id": "kYEnoiluCtQY",
        "outputId": "f060db5d-a04d-429a-9788-db4978ede5a4",
        "colab": {
          "base_uri": "https://localhost:8080/",
          "height": 302
        }
      },
      "source": [
        "# Gerando gráfico de dispersão\n",
        "sns.scatterplot(x='peso/potencia', y='KM/L', \n",
        "                    data=df)"
      ],
      "execution_count": null,
      "outputs": [
        {
          "output_type": "execute_result",
          "data": {
            "text/plain": [
              "<matplotlib.axes._subplots.AxesSubplot at 0x7f5ba3ff0588>"
            ]
          },
          "metadata": {
            "tags": []
          },
          "execution_count": 123
        },
        {
          "output_type": "display_data",
          "data": {
            "image/png": "[encoded data removed]",
            "text/plain": [
              "<Figure size 432x288 with 1 Axes>"
            ]
          },
          "metadata": {
            "tags": []
          }
        }
      ]
    }
  ]
}