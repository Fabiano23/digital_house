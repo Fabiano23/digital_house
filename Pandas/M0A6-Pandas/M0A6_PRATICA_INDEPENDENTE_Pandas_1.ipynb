{
  "nbformat": 4,
  "nbformat_minor": 0,
  "metadata": {
    "kernelspec": {
      "display_name": "Python 3",
      "language": "python",
      "name": "python3"
    },
    "language_info": {
      "codemirror_mode": {
        "name": "ipython",
        "version": 3
      },
      "file_extension": ".py",
      "mimetype": "text/x-python",
      "name": "python",
      "nbconvert_exporter": "python",
      "pygments_lexer": "ipython3",
      "version": "3.7.6"
    },
    "colab": {
      "name": "M0A6-PRATICA_INDEPENDENTE_Pandas_1.ipynb",
      "provenance": [],
      "collapsed_sections": []
    }
  },
  "cells": [
    {
      "cell_type": "markdown",
      "metadata": {
        "id": "agpbCbWyMStl"
      },
      "source": [
        "# Prática Independente de Pandas 1."
      ]
    },
    {
      "cell_type": "markdown",
      "metadata": {
        "id": "AySG8U-WMStn"
      },
      "source": [
        "### 1. Introdução.\n",
        "\n",
        "#### Diariamente, o Ministério da Saúde, por meio da Secretaria de Vigilância em Saúde (SVS/MS) divulga dados consolidados sobre o [COVID-19](https://covid.saude.gov.br/). Acesso o arquivo \"`HIST_PAINEL_COVIDBR_20mai2020.xlsx`\" e responda às questões a seguir."
      ]
    },
    {
      "cell_type": "markdown",
      "metadata": {
        "id": "gin-gTINMStp"
      },
      "source": [
        "#### Importamos os pacotes a serem usados."
      ]
    },
    {
      "cell_type": "code",
      "metadata": {
        "id": "inFOnqMrMStq"
      },
      "source": [
        "import pandas as pd\n",
        "import numpy as np"
      ],
      "execution_count": null,
      "outputs": []
    },
    {
      "cell_type": "markdown",
      "metadata": {
        "id": "nT4B3foaMStx"
      },
      "source": [
        "#### Importamos os dados a serem usados."
      ]
    },
    {
      "cell_type": "code",
      "metadata": {
        "id": "MwnvfsRbMSty"
      },
      "source": [
        "dados = pd.read_excel('HIST_PAINEL_COVIDBR_20mai2020.xlsx')"
      ],
      "execution_count": null,
      "outputs": []
    },
    {
      "cell_type": "code",
      "metadata": {
        "id": "4-b6lo4eMSt4",
        "outputId": "bac66683-aa49-4894-d07e-e86161f40136",
        "colab": {
          "base_uri": "https://localhost:8080/",
          "height": 309
        }
      },
      "source": [
        "dados.head()"
      ],
      "execution_count": null,
      "outputs": [
        {
          "output_type": "execute_result",
          "data": {
            "text/html": [
              "<div>\n",
              "<style scoped>\n",
              "    .dataframe tbody tr th:only-of-type {\n",
              "        vertical-align: middle;\n",
              "    }\n",
              "\n",
              "    .dataframe tbody tr th {\n",
              "        vertical-align: top;\n",
              "    }\n",
              "\n",
              "    .dataframe thead th {\n",
              "        text-align: right;\n",
              "    }\n",
              "</style>\n",
              "<table border=\"1\" class=\"dataframe\">\n",
              "  <thead>\n",
              "    <tr style=\"text-align: right;\">\n",
              "      <th></th>\n",
              "      <th>regiao</th>\n",
              "      <th>estado</th>\n",
              "      <th>municipio</th>\n",
              "      <th>coduf</th>\n",
              "      <th>codmun</th>\n",
              "      <th>codRegiaoSaude</th>\n",
              "      <th>nomeRegiaoSaude</th>\n",
              "      <th>data</th>\n",
              "      <th>semanaEpi</th>\n",
              "      <th>populacaoTCU2019</th>\n",
              "      <th>casosAcumulado</th>\n",
              "      <th>obitosAcumulado</th>\n",
              "      <th>Recuperadosnovos</th>\n",
              "      <th>emAcompanhamentoNovos</th>\n",
              "    </tr>\n",
              "  </thead>\n",
              "  <tbody>\n",
              "    <tr>\n",
              "      <th>0</th>\n",
              "      <td>Brasil</td>\n",
              "      <td>NaN</td>\n",
              "      <td>NaN</td>\n",
              "      <td>76</td>\n",
              "      <td>NaN</td>\n",
              "      <td>NaN</td>\n",
              "      <td>NaN</td>\n",
              "      <td>2020-02-26</td>\n",
              "      <td>9</td>\n",
              "      <td>210147125.0</td>\n",
              "      <td>1</td>\n",
              "      <td>0</td>\n",
              "      <td>NaN</td>\n",
              "      <td>NaN</td>\n",
              "    </tr>\n",
              "    <tr>\n",
              "      <th>1</th>\n",
              "      <td>Brasil</td>\n",
              "      <td>NaN</td>\n",
              "      <td>NaN</td>\n",
              "      <td>76</td>\n",
              "      <td>NaN</td>\n",
              "      <td>NaN</td>\n",
              "      <td>NaN</td>\n",
              "      <td>2020-02-27</td>\n",
              "      <td>9</td>\n",
              "      <td>210147125.0</td>\n",
              "      <td>1</td>\n",
              "      <td>0</td>\n",
              "      <td>NaN</td>\n",
              "      <td>NaN</td>\n",
              "    </tr>\n",
              "    <tr>\n",
              "      <th>2</th>\n",
              "      <td>Brasil</td>\n",
              "      <td>NaN</td>\n",
              "      <td>NaN</td>\n",
              "      <td>76</td>\n",
              "      <td>NaN</td>\n",
              "      <td>NaN</td>\n",
              "      <td>NaN</td>\n",
              "      <td>2020-02-28</td>\n",
              "      <td>9</td>\n",
              "      <td>210147125.0</td>\n",
              "      <td>1</td>\n",
              "      <td>0</td>\n",
              "      <td>NaN</td>\n",
              "      <td>NaN</td>\n",
              "    </tr>\n",
              "    <tr>\n",
              "      <th>3</th>\n",
              "      <td>Brasil</td>\n",
              "      <td>NaN</td>\n",
              "      <td>NaN</td>\n",
              "      <td>76</td>\n",
              "      <td>NaN</td>\n",
              "      <td>NaN</td>\n",
              "      <td>NaN</td>\n",
              "      <td>2020-02-29</td>\n",
              "      <td>9</td>\n",
              "      <td>210147125.0</td>\n",
              "      <td>2</td>\n",
              "      <td>0</td>\n",
              "      <td>NaN</td>\n",
              "      <td>NaN</td>\n",
              "    </tr>\n",
              "    <tr>\n",
              "      <th>4</th>\n",
              "      <td>Brasil</td>\n",
              "      <td>NaN</td>\n",
              "      <td>NaN</td>\n",
              "      <td>76</td>\n",
              "      <td>NaN</td>\n",
              "      <td>NaN</td>\n",
              "      <td>NaN</td>\n",
              "      <td>2020-03-01</td>\n",
              "      <td>10</td>\n",
              "      <td>210147125.0</td>\n",
              "      <td>2</td>\n",
              "      <td>0</td>\n",
              "      <td>NaN</td>\n",
              "      <td>NaN</td>\n",
              "    </tr>\n",
              "  </tbody>\n",
              "</table>\n",
              "</div>"
            ],
            "text/plain": [
              "   regiao estado  ... Recuperadosnovos  emAcompanhamentoNovos\n",
              "0  Brasil    NaN  ...              NaN                    NaN\n",
              "1  Brasil    NaN  ...              NaN                    NaN\n",
              "2  Brasil    NaN  ...              NaN                    NaN\n",
              "3  Brasil    NaN  ...              NaN                    NaN\n",
              "4  Brasil    NaN  ...              NaN                    NaN\n",
              "\n",
              "[5 rows x 14 columns]"
            ]
          },
          "metadata": {
            "tags": []
          },
          "execution_count": 5
        }
      ]
    },
    {
      "cell_type": "markdown",
      "metadata": {
        "id": "9bXS_0bjMSt9"
      },
      "source": [
        "#### Exercício 1.1: Faça um slice no dataframe para considerar apenas os dados do estado de São Paulo."
      ]
    },
    {
      "cell_type": "code",
      "metadata": {
        "id": "rzzJfDaWSnZm"
      },
      "source": [
        "sao_paulo = np.where(dados['estado']=='SP')\n",
        "\n",
        "#dados.loc[sao_paulo].head()"
      ],
      "execution_count": null,
      "outputs": []
    },
    {
      "cell_type": "markdown",
      "metadata": {
        "id": "jLAdSWp1MSuD"
      },
      "source": [
        "#### Exercício 1.2: Selecione também um dataset contendo apenas os dados para a capital de SP."
      ]
    },
    {
      "cell_type": "code",
      "metadata": {
        "id": "xhsWGvl9MSuE",
        "outputId": "87a64a96-7e1e-44c3-e4da-1127eb824ac8",
        "colab": {
          "base_uri": "https://localhost:8080/",
          "height": 309
        }
      },
      "source": [
        "dados.query('estado == \"SP\"').head()"
      ],
      "execution_count": null,
      "outputs": [
        {
          "output_type": "execute_result",
          "data": {
            "text/html": [
              "<div>\n",
              "<style scoped>\n",
              "    .dataframe tbody tr th:only-of-type {\n",
              "        vertical-align: middle;\n",
              "    }\n",
              "\n",
              "    .dataframe tbody tr th {\n",
              "        vertical-align: top;\n",
              "    }\n",
              "\n",
              "    .dataframe thead th {\n",
              "        text-align: right;\n",
              "    }\n",
              "</style>\n",
              "<table border=\"1\" class=\"dataframe\">\n",
              "  <thead>\n",
              "    <tr style=\"text-align: right;\">\n",
              "      <th></th>\n",
              "      <th>regiao</th>\n",
              "      <th>estado</th>\n",
              "      <th>municipio</th>\n",
              "      <th>coduf</th>\n",
              "      <th>codmun</th>\n",
              "      <th>codRegiaoSaude</th>\n",
              "      <th>nomeRegiaoSaude</th>\n",
              "      <th>data</th>\n",
              "      <th>semanaEpi</th>\n",
              "      <th>populacaoTCU2019</th>\n",
              "      <th>casosAcumulado</th>\n",
              "      <th>obitosAcumulado</th>\n",
              "      <th>Recuperadosnovos</th>\n",
              "      <th>emAcompanhamentoNovos</th>\n",
              "    </tr>\n",
              "  </thead>\n",
              "  <tbody>\n",
              "    <tr>\n",
              "      <th>1359</th>\n",
              "      <td>Sudeste</td>\n",
              "      <td>SP</td>\n",
              "      <td>NaN</td>\n",
              "      <td>35</td>\n",
              "      <td>NaN</td>\n",
              "      <td>NaN</td>\n",
              "      <td>NaN</td>\n",
              "      <td>2020-02-26</td>\n",
              "      <td>9</td>\n",
              "      <td>45919049.0</td>\n",
              "      <td>1</td>\n",
              "      <td>0</td>\n",
              "      <td>NaN</td>\n",
              "      <td>NaN</td>\n",
              "    </tr>\n",
              "    <tr>\n",
              "      <th>1360</th>\n",
              "      <td>Sudeste</td>\n",
              "      <td>SP</td>\n",
              "      <td>NaN</td>\n",
              "      <td>35</td>\n",
              "      <td>NaN</td>\n",
              "      <td>NaN</td>\n",
              "      <td>NaN</td>\n",
              "      <td>2020-02-27</td>\n",
              "      <td>9</td>\n",
              "      <td>45919049.0</td>\n",
              "      <td>1</td>\n",
              "      <td>0</td>\n",
              "      <td>NaN</td>\n",
              "      <td>NaN</td>\n",
              "    </tr>\n",
              "    <tr>\n",
              "      <th>1361</th>\n",
              "      <td>Sudeste</td>\n",
              "      <td>SP</td>\n",
              "      <td>NaN</td>\n",
              "      <td>35</td>\n",
              "      <td>NaN</td>\n",
              "      <td>NaN</td>\n",
              "      <td>NaN</td>\n",
              "      <td>2020-02-28</td>\n",
              "      <td>9</td>\n",
              "      <td>45919049.0</td>\n",
              "      <td>1</td>\n",
              "      <td>0</td>\n",
              "      <td>NaN</td>\n",
              "      <td>NaN</td>\n",
              "    </tr>\n",
              "    <tr>\n",
              "      <th>1362</th>\n",
              "      <td>Sudeste</td>\n",
              "      <td>SP</td>\n",
              "      <td>NaN</td>\n",
              "      <td>35</td>\n",
              "      <td>NaN</td>\n",
              "      <td>NaN</td>\n",
              "      <td>NaN</td>\n",
              "      <td>2020-02-29</td>\n",
              "      <td>9</td>\n",
              "      <td>45919049.0</td>\n",
              "      <td>2</td>\n",
              "      <td>0</td>\n",
              "      <td>NaN</td>\n",
              "      <td>NaN</td>\n",
              "    </tr>\n",
              "    <tr>\n",
              "      <th>1363</th>\n",
              "      <td>Sudeste</td>\n",
              "      <td>SP</td>\n",
              "      <td>NaN</td>\n",
              "      <td>35</td>\n",
              "      <td>NaN</td>\n",
              "      <td>NaN</td>\n",
              "      <td>NaN</td>\n",
              "      <td>2020-03-01</td>\n",
              "      <td>10</td>\n",
              "      <td>45919049.0</td>\n",
              "      <td>2</td>\n",
              "      <td>0</td>\n",
              "      <td>NaN</td>\n",
              "      <td>NaN</td>\n",
              "    </tr>\n",
              "  </tbody>\n",
              "</table>\n",
              "</div>"
            ],
            "text/plain": [
              "       regiao estado  ... Recuperadosnovos  emAcompanhamentoNovos\n",
              "1359  Sudeste     SP  ...              NaN                    NaN\n",
              "1360  Sudeste     SP  ...              NaN                    NaN\n",
              "1361  Sudeste     SP  ...              NaN                    NaN\n",
              "1362  Sudeste     SP  ...              NaN                    NaN\n",
              "1363  Sudeste     SP  ...              NaN                    NaN\n",
              "\n",
              "[5 rows x 14 columns]"
            ]
          },
          "metadata": {
            "tags": []
          },
          "execution_count": 22
        }
      ]
    },
    {
      "cell_type": "markdown",
      "metadata": {
        "id": "w-SyUVSvMSuM"
      },
      "source": [
        "### 2. Explorando o dataset."
      ]
    },
    {
      "cell_type": "markdown",
      "metadata": {
        "id": "Cf1zfdhjMSuN"
      },
      "source": [
        "#### Exercício 2.1. Quantas filas e quantas colunas o dataset tem?"
      ]
    },
    {
      "cell_type": "code",
      "metadata": {
        "id": "pGD8dlKTMSuO",
        "outputId": "2f0ac435-adf5-4a96-eab5-38d6abb3c14c",
        "colab": {
          "base_uri": "https://localhost:8080/"
        }
      },
      "source": [
        "print(f'Instâncias: {dados.shape[0]}')\n",
        "print(f'Variáveis: {dados.shape[1]}')"
      ],
      "execution_count": null,
      "outputs": [
        {
          "output_type": "stream",
          "text": [
            "Instâncias: 95916\n",
            "Variáveis: 14\n"
          ],
          "name": "stdout"
        }
      ]
    },
    {
      "cell_type": "markdown",
      "metadata": {
        "id": "HOM_4MXwMSuU"
      },
      "source": [
        "#### Exercício 2.2 Que informação o dataset tem? Imprima o nome das colunas."
      ]
    },
    {
      "cell_type": "code",
      "metadata": {
        "id": "dw9-MseDMSuV",
        "outputId": "a4b04c5f-066a-45e6-b8f6-4643cb96f912",
        "colab": {
          "base_uri": "https://localhost:8080/"
        }
      },
      "source": [
        "dados.columns"
      ],
      "execution_count": null,
      "outputs": [
        {
          "output_type": "execute_result",
          "data": {
            "text/plain": [
              "Index(['regiao', 'estado', 'municipio', 'coduf', 'codmun', 'codRegiaoSaude',\n",
              "       'nomeRegiaoSaude', 'data', 'semanaEpi', 'populacaoTCU2019',\n",
              "       'casosAcumulado', 'obitosAcumulado', 'Recuperadosnovos',\n",
              "       'emAcompanhamentoNovos'],\n",
              "      dtype='object')"
            ]
          },
          "metadata": {
            "tags": []
          },
          "execution_count": 29
        }
      ]
    },
    {
      "cell_type": "markdown",
      "metadata": {
        "id": "DusTypeMMSuZ"
      },
      "source": [
        "#### Exercício 2.3: Como o dataset está indexado?"
      ]
    },
    {
      "cell_type": "code",
      "metadata": {
        "id": "L_cR_T9NMSua",
        "outputId": "9d8660f0-54e7-4100-f4fb-b747d1d3bf10",
        "colab": {
          "base_uri": "https://localhost:8080/"
        }
      },
      "source": [
        "dados.index"
      ],
      "execution_count": null,
      "outputs": [
        {
          "output_type": "execute_result",
          "data": {
            "text/plain": [
              "RangeIndex(start=0, stop=95916, step=1)"
            ]
          },
          "metadata": {
            "tags": []
          },
          "execution_count": 34
        }
      ]
    },
    {
      "cell_type": "markdown",
      "metadata": {
        "id": "wZ3KG-REZ2RI"
      },
      "source": [
        "Através de índices numéricos. Começando pelo índice zero, indo até o 95916 em intervalos de um em um em cada índice."
      ]
    },
    {
      "cell_type": "markdown",
      "metadata": {
        "id": "GLNzEAf-MSuh"
      },
      "source": [
        "#### Exercício 2.4: Qual é o tipo da quarta coluna?"
      ]
    },
    {
      "cell_type": "code",
      "metadata": {
        "id": "adxwx_BrMSui",
        "outputId": "33e02be4-7de9-43fb-e222-3132c672f8b1",
        "colab": {
          "base_uri": "https://localhost:8080/"
        }
      },
      "source": [
        "print(type(dados['codmun']))\n",
        "print('\\n')\n",
        "print(dados['codmun'].unique())"
      ],
      "execution_count": null,
      "outputs": [
        {
          "output_type": "stream",
          "text": [
            "<class 'pandas.core.series.Series'>\n",
            "\n",
            "\n",
            "[    nan 110000. 110001. ... 522185. 522200. 530010.]\n"
          ],
          "name": "stdout"
        }
      ]
    },
    {
      "cell_type": "markdown",
      "metadata": {
        "id": "r03t5M6FajxY"
      },
      "source": [
        "Ela separada do restante do dataframe é uma `Series` e os valores que ela contém são `NaN` e outros numéricos que representam o código do munícipio da instância correspondente."
      ]
    },
    {
      "cell_type": "markdown",
      "metadata": {
        "id": "Vh8aem0WMSun"
      },
      "source": [
        "#### Exercício 2.5: Qual é o município com o maior número de instâncias no dataset?"
      ]
    },
    {
      "cell_type": "code",
      "metadata": {
        "id": "uOENlncOMSun",
        "outputId": "75d0e4b8-3d18-4928-bb03-01923b2e9a42",
        "colab": {
          "base_uri": "https://localhost:8080/"
        }
      },
      "source": [
        "dados['municipio'].value_counts()"
      ],
      "execution_count": null,
      "outputs": [
        {
          "output_type": "execute_result",
          "data": {
            "text/plain": [
              "Santa Luzia                   128\n",
              "Cruzeiro do Sul               124\n",
              "Bom Jardim                    111\n",
              "São Domingos                  109\n",
              "Palmas                        101\n",
              "                             ... \n",
              "São Sebastião do Tocantins      1\n",
              "Serrania                        1\n",
              "Ubaí                            1\n",
              "Castelândia                     1\n",
              "Guanambi                        1\n",
              "Name: municipio, Length: 3429, dtype: int64"
            ]
          },
          "metadata": {
            "tags": []
          },
          "execution_count": 68
        }
      ]
    },
    {
      "cell_type": "markdown",
      "metadata": {
        "id": "bwRCQOw1b3s7"
      },
      "source": [
        "É o munícipio de Santa Luzia com 128 instâncias. Porém, não é o mesmo município. Se olharmos a coluna estado dos municípios com o nome de Santa Luzia percebemos que há munícipios com este mesmo nome, mas em Estados (Maranhão, Paraíba, Bahia e MInas Gerais) diferentes."
      ]
    },
    {
      "cell_type": "code",
      "metadata": {
        "id": "t-LW9GvIewSY",
        "outputId": "a800e57f-56b9-403b-8d32-845a3a814fa3",
        "colab": {
          "base_uri": "https://localhost:8080/"
        }
      },
      "source": [
        "dados.query('municipio == \"Santa Luzia\"')['estado'].unique()"
      ],
      "execution_count": null,
      "outputs": [
        {
          "output_type": "execute_result",
          "data": {
            "text/plain": [
              "array(['MA', 'PB', 'BA', 'MG'], dtype=object)"
            ]
          },
          "metadata": {
            "tags": []
          },
          "execution_count": 71
        }
      ]
    },
    {
      "cell_type": "markdown",
      "metadata": {
        "id": "sC_c8oxQMSut"
      },
      "source": [
        "#### Exercício 2.6: Como os nomes das regiões de saúde estão distribuídos no dataset? "
      ]
    },
    {
      "cell_type": "code",
      "metadata": {
        "id": "r2dG6MWxMSuu",
        "outputId": "9b5d021b-9160-44a6-a001-28d547f93345",
        "colab": {
          "base_uri": "https://localhost:8080/"
        }
      },
      "source": [
        "dados['nomeRegiaoSaude'].unique()"
      ],
      "execution_count": null,
      "outputs": [
        {
          "output_type": "execute_result",
          "data": {
            "text/plain": [
              "array([nan, 'Zona da Mata', 'Vale do Jamari', 'Café', 'Madeira-Mamoré',\n",
              "       'Central', 'Cone Sul', 'Vale do Guaporé', 'Baixo Acre e Purus',\n",
              "       'Alto Acre', 'Juruá e Tarauacá/Envira', 'Triângulo',\n",
              "       'Alto Solimões', 'Rio Negro e Solimões', 'Rio Madeira',\n",
              "       'Manaus, Entorno e Alto Rio Negro', 'Baixo Amazonas',\n",
              "       'Regional Purus', 'Regional Juruá', 'Médio Amazonas',\n",
              "       'Centro Norte', 'Sul', 'Tocantins', 'Carajás', 'Metropolitana II',\n",
              "       'Marajó I', 'Araguaia', 'Xingu', 'Marajó II', 'Metropolitana I',\n",
              "       'Rio Caetés', 'Metropolitana III', 'Lago de Tucuruí', 'Tapajós',\n",
              "       'Área Central', 'Área Norte', 'Área Sudoeste', 'Cantão',\n",
              "       'Bico do Papagaio', 'Ilha do Bananal', 'Médio Norte Araguaia',\n",
              "       'Cerrado Tocantins Araguaia', 'Sudeste', 'Amor Perfeito',\n",
              "       'Capim Dourado', 'Açailândia', 'Caxias', 'Chapadinha', 'São Luís',\n",
              "       'Bacabal', 'Codó', 'Santa Inês', 'Balsas', 'Zé Doca', 'Imperatriz',\n",
              "       'Itapecuru Mirim', 'Pinheiro', 'Barra do Corda', 'Rosário',\n",
              "       'Viana', 'São João dos Patos', 'Pedreiras', 'Presidente Dutra',\n",
              "       'Timon', 'Entre Rios', 'Chapada das Mangabeiras',\n",
              "       'Serra da Capivara', 'Vale do Sambito',\n",
              "       'Tabuleiros do Alto Parnaíba', 'Cocais', 'Vale do Canindé',\n",
              "       'Vale do Rio Guaribas', 'Vale dos Rios Piauí e Itaueiras',\n",
              "       'Carnaubais', 'Planície Litorânea', '19ª Região Brejo Santo',\n",
              "       '3ª Região Maracanaú', '12ª Região Acaraú', '18ª Região Iguatú',\n",
              "       '14ª Região Tauá', '11ª Região Sobral',\n",
              "       '10ª Região Limoeiro do Norte', '6ª Região Itapipoca',\n",
              "       '20ª Região Crato', '2ª Região Caucaia', '1ª Região Fortaleza',\n",
              "       '7ª Região Aracati', '4ª Região Baturité', '15ª Região Crateús',\n",
              "       '17ª Região Icó', '8ª Região Quixadá',\n",
              "       '21ª Região Juazeiro do Norte', '16ª Região Camocim',\n",
              "       '22ª Região Cascavel', '5ª Região Canindé', '13ª Região Tianguá',\n",
              "       '9ª Região Russas', '4ª Região de Saúde - Caicó',\n",
              "       '8ª Região de Saúde - Açu', '3ª Região de Saúde - João Câmara',\n",
              "       '6ª Região de Saúde - Pau dos Ferros',\n",
              "       '2ª Região de Saúde - Mossoró',\n",
              "       '1ª Região de Saúde - São José de Mipibu',\n",
              "       '5ª Região de Saúde - Santa Cruz',\n",
              "       '7ª Região de Saúde - Metropolitana', '7ª Região', '3ª Região',\n",
              "       '2ª Região', '1ª Região Mata Atlântica', '9ª Região', '5ª Região',\n",
              "       '10ª Região', '15ª Região', '14ª Região', '8ª Região',\n",
              "       '16ª Região', '13ª Região', '12ª Região', '6ª Região', '4ª Região',\n",
              "       '11ª Região', 'Recife', 'Afogados da Ingazeira', 'Petrolina',\n",
              "       'Caruaru', 'Palmares', 'Garanhuns', 'Goiana', 'Ouricuri',\n",
              "       'Arcoverde', 'Salgueiro', 'Serra Talhada', 'Limoeiro',\n",
              "       '5ª Região de Saúde', '7ª Região de Saúde', '4ª Região de Saúde',\n",
              "       '1ª Região de Saúde', '3ª Região de Saúde', '8ª Região de Saúde',\n",
              "       '9ª Região de Saúde', '6ª Região de Saúde', '10ª Região de Saúde',\n",
              "       '2ª Região de Saúde', 'Propriá', 'Aracaju', 'Estância',\n",
              "       'Itabaiana', 'Nossa Senhora da Glória', 'Nossa Senhora do Socorro',\n",
              "       'Lagarto', 'Seabra', 'Alagoinhas', 'Ribeira do Pombal', 'Serrinha',\n",
              "       'Jequié', 'Itabuna', 'Santo Antônio de Jesus', 'Feira de Santana',\n",
              "       'Irecê', 'Vitória da Conquista', 'Brumado', 'Ilhéus', 'Ibotirama',\n",
              "       'Barreiras', 'Porto Seguro', 'Itaberaba', 'Santa Maria da Vitória',\n",
              "       'Cruz das Almas', 'Jacobina', 'Guanambi', 'Valença', 'Camaçari',\n",
              "       'Juazeiro', 'Senhor do Bonfim', 'Salvador', 'Teixeira de Freitas',\n",
              "       'Itapetinga', 'Paulo Afonso', 'Patrocínio Monte Carmelo',\n",
              "       'Sete Lagoas', 'Ipatinga', 'Pedra Azul', 'Resplendor',\n",
              "       'Além Paraíba', 'Alfenas Machado', 'Barbacena', 'Almenara',\n",
              "       'Governador Valadares', 'Passos Piumhi', 'Poços de Caldas',\n",
              "       'Juiz de Fora Lima Duarte Bom Jardim Minas', 'Araçuaí',\n",
              "       'Uberlândia Araguari', 'Araxá', 'Guaxupé',\n",
              "       'Divinópolis Santo Antônio do Monte', 'Leopoldina Cataguases',\n",
              "       'São João del Rei', 'João Monlevade',\n",
              "       'Belo Horizonte Nova Lima Caeté', 'Betim',\n",
              "       'São João Nepomuceno Bicas', 'Três Pontas',\n",
              "       'Montes Claros Bocaiúva', 'Bom Despacho', 'Pouso Alegre',\n",
              "       'Brasília de Minas São Francisco', 'Itajubá', 'Ituiutaba',\n",
              "       'Viçosa', 'Três Corações', 'Santo Antônio do Amparo Campo Belo',\n",
              "       'Minas Novas Turmalina Capelinha', 'Carangola', 'Caratinga',\n",
              "       'Nanuque', 'Patos de Minas', 'Itabira', 'Padre Paraíso',\n",
              "       'São Lourenço', 'Itaobim', 'Uberaba',\n",
              "       'Conselheiro Lafaiete Congonhas', 'Contagem',\n",
              "       'Coronel Fabriciano Timóteo', 'Diamantina', 'Curvelo',\n",
              "       'Ponte Nova', 'Ubá', 'Mantena', 'Varginha', 'Janaúba Monte Azul',\n",
              "       'Muriaé', 'Formiga', 'Frutal Iturama', 'Guanhães', 'Pirapora',\n",
              "       'Pará de Minas', 'Ouro Preto', 'Januária', 'Itaúna',\n",
              "       'Teófilo Otoni Malacacheta Itambacuri', 'São Sebastião do Paraíso',\n",
              "       'Lavras', 'Vespasiano', 'Manhuaçu', 'Unaí', 'Santos Dumont',\n",
              "       'Salinas Taiobeiras', 'Metropolitana', 'Norte',\n",
              "       'Baia da Ilha Grande', 'Noroeste', 'Baixada Litorânea',\n",
              "       'Centro-Sul', 'Médio Paraíba', 'Serrana', 'Adamantina',\n",
              "       'José Bonifácio', 'Mantiqueira', 'Circuito das Águas',\n",
              "       'Vale do Jurumirim', 'Piracicaba', 'Bauru', 'Itapetininga',\n",
              "       'Alta Sorocabana', 'Norte - Barretos', 'Vale das Cachoeiras',\n",
              "       'Consórcios do DRS II', 'Sorocaba', 'Marília',\n",
              "       'Região Metropolitana de Campinas', 'Central do DRS III',\n",
              "       'Votuporanga', 'Lagos do DRS II', 'Polo Cuesta',\n",
              "       'Circuito da Fé e Vale Histórico', 'Itapeva', 'Central do DRS II',\n",
              "       'Araras', 'Catanduva', 'Alto do Tietê', 'Assis', 'Bragança',\n",
              "       'São José do Rio Preto', 'Jaú', 'Vale do Ribeira',\n",
              "       'Horizonte Verde', 'Rota dos Bandeirantes', 'Sul - Barretos',\n",
              "       'Ourinhos', 'Baixada Santista', 'Centro Oeste do DRS III',\n",
              "       'Jundiaí', 'Alto Vale do Paraíba', 'Rio Pardo', 'Franco da Rocha',\n",
              "       'Vale do Paraíba/Região Serrana', 'Litoral Norte', 'Limeira',\n",
              "       'Mananciais', 'Aquífero Guarani', 'Coração do DRS III',\n",
              "       'Grande ABC', 'Norte do DRS III', 'Alta Paulista', 'Fernandópolis',\n",
              "       'Três Colinas', 'Lins', 'Alta Mogiana', 'Tupã', 'Alto Capivari',\n",
              "       'Rio Claro', 'Alta Anhanguera', 'Baixa Mogiana', 'Jales',\n",
              "       'Extremo Oeste Paulista', 'Pontal do Paranapanema',\n",
              "       'Santa Fé do Sul', 'São Paulo', '18ª RS Cornélio Procópio',\n",
              "       '2ª RS Metropolitana', '14ª RS Paranavaí', '17ª RS Londrina',\n",
              "       '8ª RS Francisco Beltrão', '10ª RS Cascavel', '16ª RS Apucarana',\n",
              "       '11ª RS Campo Mourão', '20ª RS Toledo', '19ª RS Jacarezinho',\n",
              "       '3ª RS Ponta Grossa', '7ª RS Pato Branco', '13ª RS Cianorte',\n",
              "       '15ª RS Maringá', '4ª RS Irati', '9ª RS Foz do Iguaçu',\n",
              "       '6ª RS União da Vitória', '5ª RS Guarapuava', '1ª RS Paranaguá',\n",
              "       '21ª RS Telêmaco Borba', '22ª RS Ivaiporã', '12ª RS Umuarama',\n",
              "       'Xanxerê', 'Alto Vale do Itajaí', 'Meio Oeste', 'Oeste',\n",
              "       'Grande Florianópolis', 'Alto Uruguai Catarinense',\n",
              "       'Extremo Oeste', 'Serra Catarinense', 'Nordeste',\n",
              "       'Extremo Sul Catarinense', 'Laguna', 'Foz do Rio Itajaí',\n",
              "       'Médio Vale do Itajaí', 'Alto Vale do Rio do Peixe',\n",
              "       'Planalto Norte', 'Carbonífera', 'Região 18 - Araucárias',\n",
              "       'Região 13 - Diversidade', 'Região 14 - Fronteira Noroeste',\n",
              "       'Região 03 - Fronteira Oeste', 'Região 15 - Caminho das Águas',\n",
              "       'Região 10 - Capital e Vale do Gravataí',\n",
              "       'Região 29 - Vales e Montanhas', 'Região 26 - Uva Vale',\n",
              "       'Região 04 - Belas Praias', 'Região 09 - Carbonífera/Costa Doce',\n",
              "       'Região 19 - Botucaraí', 'Região 16 - Alto Uruguai Gaúcho',\n",
              "       'Região 22 - Pampa', 'Região 25 - Vinhedos e Basalto',\n",
              "       'Região 20 - Rota da Produção',\n",
              "       'Região 24 - Campos de Cima da Serra', 'Região 30 - Vale da Luz',\n",
              "       'Região 08 - Vale do Caí e Metropolitana',\n",
              "       'Região 27 - Jacuí Centro', 'Região 11 - Sete Povos das Missões',\n",
              "       'Região 17 - Planalto', 'Região 07 - Vale dos Sinos',\n",
              "       'Região 28 - Vinte e Oito', 'Região 21 - Sul',\n",
              "       'Região 23 - Caxias e Hortênsias', 'Região 05 - Bons Ventos',\n",
              "       'Região 12 - Portal das Missões', 'Região 02 - Entre Rios',\n",
              "       'Região 01 - Verdes Campos',\n",
              "       'Região 06 - Vale do Paranhana e Costa Serr', 'Campo Grande',\n",
              "       'Dourados', 'Três Lagoas', 'Corumbá', 'Baixada Cuiabana',\n",
              "       'Médio Araguaia', 'Alto Tapajós', 'Sul Matogrossense',\n",
              "       'Norte Araguaia Karajá', 'Noroeste Matogrossense',\n",
              "       'Garças Araguaia', 'Oeste Matogrossense',\n",
              "       'Médio Norte Matogrossense', 'Sudoeste Matogrossense',\n",
              "       'Araguaia Xingu', 'Vale do Peixoto', 'Teles Pires', 'Entorno Sul',\n",
              "       'Pirineus', 'Entorno Norte', 'Estrada de Ferro', 'Centro Sul',\n",
              "       'Sudoeste I', 'Sudoeste II', 'Oeste I', 'São Patrício II',\n",
              "       'Rio Vermelho', 'Serra da Mesa', 'Nordeste I', 'São Patrício I',\n",
              "       'Oeste II', 'Nordeste II', 'Brasília'], dtype=object)"
            ]
          },
          "metadata": {
            "tags": []
          },
          "execution_count": 52
        }
      ]
    },
    {
      "cell_type": "markdown",
      "metadata": {
        "id": "zYMyTQtmMSu0"
      },
      "source": [
        "#### Exercício 2.7: Qual é o número de casos acumulados na capital de SP, no dia 2020-03-31? "
      ]
    },
    {
      "cell_type": "code",
      "metadata": {
        "id": "ylE9TNlrd6o6",
        "outputId": "1146fa22-94ea-48a7-dec1-63daa2e2db8f",
        "colab": {
          "base_uri": "https://localhost:8080/",
          "height": 309
        }
      },
      "source": [
        "dados.head()"
      ],
      "execution_count": null,
      "outputs": [
        {
          "output_type": "execute_result",
          "data": {
            "text/html": [
              "<div>\n",
              "<style scoped>\n",
              "    .dataframe tbody tr th:only-of-type {\n",
              "        vertical-align: middle;\n",
              "    }\n",
              "\n",
              "    .dataframe tbody tr th {\n",
              "        vertical-align: top;\n",
              "    }\n",
              "\n",
              "    .dataframe thead th {\n",
              "        text-align: right;\n",
              "    }\n",
              "</style>\n",
              "<table border=\"1\" class=\"dataframe\">\n",
              "  <thead>\n",
              "    <tr style=\"text-align: right;\">\n",
              "      <th></th>\n",
              "      <th>regiao</th>\n",
              "      <th>estado</th>\n",
              "      <th>municipio</th>\n",
              "      <th>coduf</th>\n",
              "      <th>codmun</th>\n",
              "      <th>codRegiaoSaude</th>\n",
              "      <th>nomeRegiaoSaude</th>\n",
              "      <th>data</th>\n",
              "      <th>semanaEpi</th>\n",
              "      <th>populacaoTCU2019</th>\n",
              "      <th>casosAcumulado</th>\n",
              "      <th>obitosAcumulado</th>\n",
              "      <th>Recuperadosnovos</th>\n",
              "      <th>emAcompanhamentoNovos</th>\n",
              "    </tr>\n",
              "  </thead>\n",
              "  <tbody>\n",
              "    <tr>\n",
              "      <th>0</th>\n",
              "      <td>Brasil</td>\n",
              "      <td>NaN</td>\n",
              "      <td>NaN</td>\n",
              "      <td>76</td>\n",
              "      <td>NaN</td>\n",
              "      <td>NaN</td>\n",
              "      <td>NaN</td>\n",
              "      <td>2020-02-26</td>\n",
              "      <td>9</td>\n",
              "      <td>210147125.0</td>\n",
              "      <td>1</td>\n",
              "      <td>0</td>\n",
              "      <td>NaN</td>\n",
              "      <td>NaN</td>\n",
              "    </tr>\n",
              "    <tr>\n",
              "      <th>1</th>\n",
              "      <td>Brasil</td>\n",
              "      <td>NaN</td>\n",
              "      <td>NaN</td>\n",
              "      <td>76</td>\n",
              "      <td>NaN</td>\n",
              "      <td>NaN</td>\n",
              "      <td>NaN</td>\n",
              "      <td>2020-02-27</td>\n",
              "      <td>9</td>\n",
              "      <td>210147125.0</td>\n",
              "      <td>1</td>\n",
              "      <td>0</td>\n",
              "      <td>NaN</td>\n",
              "      <td>NaN</td>\n",
              "    </tr>\n",
              "    <tr>\n",
              "      <th>2</th>\n",
              "      <td>Brasil</td>\n",
              "      <td>NaN</td>\n",
              "      <td>NaN</td>\n",
              "      <td>76</td>\n",
              "      <td>NaN</td>\n",
              "      <td>NaN</td>\n",
              "      <td>NaN</td>\n",
              "      <td>2020-02-28</td>\n",
              "      <td>9</td>\n",
              "      <td>210147125.0</td>\n",
              "      <td>1</td>\n",
              "      <td>0</td>\n",
              "      <td>NaN</td>\n",
              "      <td>NaN</td>\n",
              "    </tr>\n",
              "    <tr>\n",
              "      <th>3</th>\n",
              "      <td>Brasil</td>\n",
              "      <td>NaN</td>\n",
              "      <td>NaN</td>\n",
              "      <td>76</td>\n",
              "      <td>NaN</td>\n",
              "      <td>NaN</td>\n",
              "      <td>NaN</td>\n",
              "      <td>2020-02-29</td>\n",
              "      <td>9</td>\n",
              "      <td>210147125.0</td>\n",
              "      <td>2</td>\n",
              "      <td>0</td>\n",
              "      <td>NaN</td>\n",
              "      <td>NaN</td>\n",
              "    </tr>\n",
              "    <tr>\n",
              "      <th>4</th>\n",
              "      <td>Brasil</td>\n",
              "      <td>NaN</td>\n",
              "      <td>NaN</td>\n",
              "      <td>76</td>\n",
              "      <td>NaN</td>\n",
              "      <td>NaN</td>\n",
              "      <td>NaN</td>\n",
              "      <td>2020-03-01</td>\n",
              "      <td>10</td>\n",
              "      <td>210147125.0</td>\n",
              "      <td>2</td>\n",
              "      <td>0</td>\n",
              "      <td>NaN</td>\n",
              "      <td>NaN</td>\n",
              "    </tr>\n",
              "  </tbody>\n",
              "</table>\n",
              "</div>"
            ],
            "text/plain": [
              "   regiao estado  ... Recuperadosnovos  emAcompanhamentoNovos\n",
              "0  Brasil    NaN  ...              NaN                    NaN\n",
              "1  Brasil    NaN  ...              NaN                    NaN\n",
              "2  Brasil    NaN  ...              NaN                    NaN\n",
              "3  Brasil    NaN  ...              NaN                    NaN\n",
              "4  Brasil    NaN  ...              NaN                    NaN\n",
              "\n",
              "[5 rows x 14 columns]"
            ]
          },
          "metadata": {
            "tags": []
          },
          "execution_count": 63
        }
      ]
    },
    {
      "cell_type": "code",
      "metadata": {
        "id": "xqZL-ks8MSu1",
        "outputId": "0b3e1298-13da-407c-a5f7-3dcf39f6f2b5",
        "colab": {
          "base_uri": "https://localhost:8080/"
        }
      },
      "source": [
        "sao_paulo_cidade_acumulados = dados.query('municipio == \"São Paulo\" & data == \"2020-03-31\"')['casosAcumulado']\n",
        "sao_paulo_cidade_acumulados = sum(sao_paulo_cidade_acumulados)\n",
        "sao_paulo_cidade_acumulados"
      ],
      "execution_count": null,
      "outputs": [
        {
          "output_type": "execute_result",
          "data": {
            "text/plain": [
              "1885"
            ]
          },
          "metadata": {
            "tags": []
          },
          "execution_count": 86
        }
      ]
    },
    {
      "cell_type": "markdown",
      "metadata": {
        "id": "-iXltBQ4fZGY"
      },
      "source": [
        "####Havia  1885 casos acumulados na cidade de São Paulo em 31 de Março de 2020."
      ]
    },
    {
      "cell_type": "markdown",
      "metadata": {
        "id": "bfl8Kt18MSu5"
      },
      "source": [
        "#### Exercício 2.8: Qual é o número total de casos acumulados para todas as cidades do estado de SP, no dia 2020-03-31? "
      ]
    },
    {
      "cell_type": "code",
      "metadata": {
        "id": "QlDLTW9rMSu6",
        "outputId": "0412d7c9-f1ea-4725-c4d9-c46000e3b3a5",
        "colab": {
          "base_uri": "https://localhost:8080/"
        }
      },
      "source": [
        "sao_paulo_estado_acumulados = dados.query('estado == \"SP\" & data == \"2020-03-31\"')['casosAcumulado']\n",
        "sao_paulo_estado_acumulados = sum(sao_paulo_estado_acumulados)\n",
        "sao_paulo_estado_acumulados"
      ],
      "execution_count": null,
      "outputs": [
        {
          "output_type": "execute_result",
          "data": {
            "text/plain": [
              "4678"
            ]
          },
          "metadata": {
            "tags": []
          },
          "execution_count": 85
        }
      ]
    },
    {
      "cell_type": "code",
      "metadata": {
        "id": "VjPzVzLsgPMJ",
        "outputId": "c4e7ff5b-50b5-44a1-9750-f06b60ac6f86",
        "colab": {
          "base_uri": "https://localhost:8080/"
        }
      },
      "source": [
        "prop_acumulados_na_capital = sao_paulo_cidade_acumulados / sao_paulo_estado_acumulados * 100\n",
        "round(prop_acumulados_na_capital, 2)"
      ],
      "execution_count": null,
      "outputs": [
        {
          "output_type": "execute_result",
          "data": {
            "text/plain": [
              "40.29"
            ]
          },
          "metadata": {
            "tags": []
          },
          "execution_count": 92
        }
      ]
    },
    {
      "cell_type": "markdown",
      "metadata": {
        "id": "XXXniekygru0"
      },
      "source": [
        "####De todos os casos acumulados no Estado de São Paulo no dia  2020-03-31, 40.29% eram da capital."
      ]
    },
    {
      "cell_type": "markdown",
      "metadata": {
        "id": "pazBYf4EMSvA"
      },
      "source": [
        "#### Exercício 2.9: Qual é o valor médio de \"semanaEpi\"  durante todo o período? "
      ]
    },
    {
      "cell_type": "code",
      "metadata": {
        "id": "6EoTcO89MSvA",
        "outputId": "976af297-8b11-4838-cdb0-267f69c94e1e",
        "colab": {
          "base_uri": "https://localhost:8080/"
        }
      },
      "source": [
        "dados['semanaEpi'].mean()"
      ],
      "execution_count": null,
      "outputs": [
        {
          "output_type": "execute_result",
          "data": {
            "text/plain": [
              "18.4131531756954"
            ]
          },
          "metadata": {
            "tags": []
          },
          "execution_count": 93
        }
      ]
    },
    {
      "cell_type": "markdown",
      "metadata": {
        "id": "hG7AmOEiMSvK"
      },
      "source": [
        "### 3. Indexando e organizando os dados."
      ]
    },
    {
      "cell_type": "markdown",
      "metadata": {
        "id": "a9gYPFKGMSvK"
      },
      "source": [
        "#### Exercício 3.1:  Selecionar  valores não duplicados para as coluna 'municipio','coduf', 'codmun', 'codRegiaoSaude' e atribuí-las a um objeto novo chamado 'covid19SPMunicipios'."
      ]
    },
    {
      "cell_type": "markdown",
      "metadata": {
        "id": "89jY4DL3iEbC"
      },
      "source": [
        "####Utilizarei a função [`.drop_duplicates()`](https://pandas.pydata.org/pandas-docs/stable/reference/api/pandas.DataFrame.drop_duplicates.html) que retira os valores duplicados das colunas passadas como argumento em `subset=`. Um outro parâmetro possível é o `keep=` que me deixa escolher qual dos valores duplicados quero manter, o que aparece primeiro ou por último. Como o `default` desse parâmetro é o 'first' não preciso passá-lo."
      ]
    },
    {
      "cell_type": "code",
      "metadata": {
        "id": "yMaq8drEjU-X"
      },
      "source": [
        "colunas = ['municipio', 'coduf', 'codmun', 'codRegiaoSaude']"
      ],
      "execution_count": null,
      "outputs": []
    },
    {
      "cell_type": "code",
      "metadata": {
        "id": "S2RC4t5LMSvL"
      },
      "source": [
        "covid19_sp_municipios = dados.query('estado == \"SP\"').drop_duplicates(subset= colunas)"
      ],
      "execution_count": null,
      "outputs": []
    },
    {
      "cell_type": "markdown",
      "metadata": {
        "id": "ZcqgVHxnMSvQ"
      },
      "source": [
        "#### Exercício 3.2:  Selecionar as primeiras 20 filas de 'covid19SPMunicipios'"
      ]
    },
    {
      "cell_type": "code",
      "metadata": {
        "id": "_LXgAj22MSvS",
        "outputId": "79291437-c341-4812-992a-670ba7e5cf25",
        "colab": {
          "base_uri": "https://localhost:8080/",
          "height": 1000
        }
      },
      "source": [
        "covid19_sp_municipios.head(20)"
      ],
      "execution_count": null,
      "outputs": [
        {
          "output_type": "execute_result",
          "data": {
            "text/html": [
              "<div>\n",
              "<style scoped>\n",
              "    .dataframe tbody tr th:only-of-type {\n",
              "        vertical-align: middle;\n",
              "    }\n",
              "\n",
              "    .dataframe tbody tr th {\n",
              "        vertical-align: top;\n",
              "    }\n",
              "\n",
              "    .dataframe thead th {\n",
              "        text-align: right;\n",
              "    }\n",
              "</style>\n",
              "<table border=\"1\" class=\"dataframe\">\n",
              "  <thead>\n",
              "    <tr style=\"text-align: right;\">\n",
              "      <th></th>\n",
              "      <th>regiao</th>\n",
              "      <th>estado</th>\n",
              "      <th>municipio</th>\n",
              "      <th>coduf</th>\n",
              "      <th>codmun</th>\n",
              "      <th>codRegiaoSaude</th>\n",
              "      <th>nomeRegiaoSaude</th>\n",
              "      <th>data</th>\n",
              "      <th>semanaEpi</th>\n",
              "      <th>populacaoTCU2019</th>\n",
              "      <th>casosAcumulado</th>\n",
              "      <th>obitosAcumulado</th>\n",
              "      <th>Recuperadosnovos</th>\n",
              "      <th>emAcompanhamentoNovos</th>\n",
              "    </tr>\n",
              "  </thead>\n",
              "  <tbody>\n",
              "    <tr>\n",
              "      <th>1359</th>\n",
              "      <td>Sudeste</td>\n",
              "      <td>SP</td>\n",
              "      <td>NaN</td>\n",
              "      <td>35</td>\n",
              "      <td>NaN</td>\n",
              "      <td>NaN</td>\n",
              "      <td>NaN</td>\n",
              "      <td>2020-02-26</td>\n",
              "      <td>9</td>\n",
              "      <td>45919049.0</td>\n",
              "      <td>1</td>\n",
              "      <td>0</td>\n",
              "      <td>NaN</td>\n",
              "      <td>NaN</td>\n",
              "    </tr>\n",
              "    <tr>\n",
              "      <th>57840</th>\n",
              "      <td>Sudeste</td>\n",
              "      <td>SP</td>\n",
              "      <td>NaN</td>\n",
              "      <td>35</td>\n",
              "      <td>350000.0</td>\n",
              "      <td>NaN</td>\n",
              "      <td>NaN</td>\n",
              "      <td>2020-03-28</td>\n",
              "      <td>13</td>\n",
              "      <td>NaN</td>\n",
              "      <td>48</td>\n",
              "      <td>1</td>\n",
              "      <td>NaN</td>\n",
              "      <td>NaN</td>\n",
              "    </tr>\n",
              "    <tr>\n",
              "      <th>57883</th>\n",
              "      <td>Sudeste</td>\n",
              "      <td>SP</td>\n",
              "      <td>Adamantina</td>\n",
              "      <td>35</td>\n",
              "      <td>350010.0</td>\n",
              "      <td>35091.0</td>\n",
              "      <td>Adamantina</td>\n",
              "      <td>2020-04-03</td>\n",
              "      <td>14</td>\n",
              "      <td>35068.0</td>\n",
              "      <td>1</td>\n",
              "      <td>0</td>\n",
              "      <td>NaN</td>\n",
              "      <td>NaN</td>\n",
              "    </tr>\n",
              "    <tr>\n",
              "      <th>57922</th>\n",
              "      <td>Sudeste</td>\n",
              "      <td>SP</td>\n",
              "      <td>Adolfo</td>\n",
              "      <td>35</td>\n",
              "      <td>350020.0</td>\n",
              "      <td>35156.0</td>\n",
              "      <td>José Bonifácio</td>\n",
              "      <td>2020-04-30</td>\n",
              "      <td>18</td>\n",
              "      <td>3562.0</td>\n",
              "      <td>1</td>\n",
              "      <td>0</td>\n",
              "      <td>NaN</td>\n",
              "      <td>NaN</td>\n",
              "    </tr>\n",
              "    <tr>\n",
              "      <th>57943</th>\n",
              "      <td>Sudeste</td>\n",
              "      <td>SP</td>\n",
              "      <td>Aguaí</td>\n",
              "      <td>35</td>\n",
              "      <td>350030.0</td>\n",
              "      <td>35142.0</td>\n",
              "      <td>Mantiqueira</td>\n",
              "      <td>2020-04-23</td>\n",
              "      <td>17</td>\n",
              "      <td>36305.0</td>\n",
              "      <td>1</td>\n",
              "      <td>0</td>\n",
              "      <td>NaN</td>\n",
              "      <td>NaN</td>\n",
              "    </tr>\n",
              "    <tr>\n",
              "      <th>57970</th>\n",
              "      <td>Sudeste</td>\n",
              "      <td>SP</td>\n",
              "      <td>Águas da Prata</td>\n",
              "      <td>35</td>\n",
              "      <td>350040.0</td>\n",
              "      <td>35142.0</td>\n",
              "      <td>Mantiqueira</td>\n",
              "      <td>2020-04-29</td>\n",
              "      <td>18</td>\n",
              "      <td>8180.0</td>\n",
              "      <td>1</td>\n",
              "      <td>0</td>\n",
              "      <td>NaN</td>\n",
              "      <td>NaN</td>\n",
              "    </tr>\n",
              "    <tr>\n",
              "      <th>57992</th>\n",
              "      <td>Sudeste</td>\n",
              "      <td>SP</td>\n",
              "      <td>Águas de Lindóia</td>\n",
              "      <td>35</td>\n",
              "      <td>350050.0</td>\n",
              "      <td>35074.0</td>\n",
              "      <td>Circuito das Águas</td>\n",
              "      <td>2020-04-02</td>\n",
              "      <td>14</td>\n",
              "      <td>18705.0</td>\n",
              "      <td>1</td>\n",
              "      <td>0</td>\n",
              "      <td>NaN</td>\n",
              "      <td>NaN</td>\n",
              "    </tr>\n",
              "    <tr>\n",
              "      <th>58041</th>\n",
              "      <td>Sudeste</td>\n",
              "      <td>SP</td>\n",
              "      <td>Águas de Santa Bárbara</td>\n",
              "      <td>35</td>\n",
              "      <td>350055.0</td>\n",
              "      <td>35061.0</td>\n",
              "      <td>Vale do Jurumirim</td>\n",
              "      <td>2020-05-08</td>\n",
              "      <td>19</td>\n",
              "      <td>6075.0</td>\n",
              "      <td>1</td>\n",
              "      <td>0</td>\n",
              "      <td>NaN</td>\n",
              "      <td>NaN</td>\n",
              "    </tr>\n",
              "    <tr>\n",
              "      <th>58054</th>\n",
              "      <td>Sudeste</td>\n",
              "      <td>SP</td>\n",
              "      <td>Águas de São Pedro</td>\n",
              "      <td>35</td>\n",
              "      <td>350060.0</td>\n",
              "      <td>35103.0</td>\n",
              "      <td>Piracicaba</td>\n",
              "      <td>2020-04-10</td>\n",
              "      <td>15</td>\n",
              "      <td>3451.0</td>\n",
              "      <td>1</td>\n",
              "      <td>0</td>\n",
              "      <td>NaN</td>\n",
              "      <td>NaN</td>\n",
              "    </tr>\n",
              "    <tr>\n",
              "      <th>58095</th>\n",
              "      <td>Sudeste</td>\n",
              "      <td>SP</td>\n",
              "      <td>Agudos</td>\n",
              "      <td>35</td>\n",
              "      <td>350070.0</td>\n",
              "      <td>35062.0</td>\n",
              "      <td>Bauru</td>\n",
              "      <td>2020-04-02</td>\n",
              "      <td>14</td>\n",
              "      <td>37214.0</td>\n",
              "      <td>1</td>\n",
              "      <td>0</td>\n",
              "      <td>NaN</td>\n",
              "      <td>NaN</td>\n",
              "    </tr>\n",
              "    <tr>\n",
              "      <th>58144</th>\n",
              "      <td>Sudeste</td>\n",
              "      <td>SP</td>\n",
              "      <td>Alambari</td>\n",
              "      <td>35</td>\n",
              "      <td>350075.0</td>\n",
              "      <td>35161.0</td>\n",
              "      <td>Itapetininga</td>\n",
              "      <td>2020-04-16</td>\n",
              "      <td>16</td>\n",
              "      <td>6025.0</td>\n",
              "      <td>1</td>\n",
              "      <td>0</td>\n",
              "      <td>NaN</td>\n",
              "      <td>NaN</td>\n",
              "    </tr>\n",
              "    <tr>\n",
              "      <th>58179</th>\n",
              "      <td>Sudeste</td>\n",
              "      <td>SP</td>\n",
              "      <td>Alfredo Marcondes</td>\n",
              "      <td>35</td>\n",
              "      <td>350080.0</td>\n",
              "      <td>35112.0</td>\n",
              "      <td>Alta Sorocabana</td>\n",
              "      <td>2020-05-19</td>\n",
              "      <td>21</td>\n",
              "      <td>4166.0</td>\n",
              "      <td>1</td>\n",
              "      <td>0</td>\n",
              "      <td>NaN</td>\n",
              "      <td>NaN</td>\n",
              "    </tr>\n",
              "    <tr>\n",
              "      <th>58181</th>\n",
              "      <td>Sudeste</td>\n",
              "      <td>SP</td>\n",
              "      <td>Altair</td>\n",
              "      <td>35</td>\n",
              "      <td>350090.0</td>\n",
              "      <td>35051.0</td>\n",
              "      <td>Norte - Barretos</td>\n",
              "      <td>2020-05-16</td>\n",
              "      <td>20</td>\n",
              "      <td>4160.0</td>\n",
              "      <td>1</td>\n",
              "      <td>0</td>\n",
              "      <td>NaN</td>\n",
              "      <td>NaN</td>\n",
              "    </tr>\n",
              "    <tr>\n",
              "      <th>58186</th>\n",
              "      <td>Sudeste</td>\n",
              "      <td>SP</td>\n",
              "      <td>Altinópolis</td>\n",
              "      <td>35</td>\n",
              "      <td>350100.0</td>\n",
              "      <td>35133.0</td>\n",
              "      <td>Vale das Cachoeiras</td>\n",
              "      <td>2020-05-13</td>\n",
              "      <td>20</td>\n",
              "      <td>16184.0</td>\n",
              "      <td>1</td>\n",
              "      <td>0</td>\n",
              "      <td>NaN</td>\n",
              "      <td>NaN</td>\n",
              "    </tr>\n",
              "    <tr>\n",
              "      <th>58194</th>\n",
              "      <td>Sudeste</td>\n",
              "      <td>SP</td>\n",
              "      <td>Alto Alegre</td>\n",
              "      <td>35</td>\n",
              "      <td>350110.0</td>\n",
              "      <td>35023.0</td>\n",
              "      <td>Consórcios do DRS II</td>\n",
              "      <td>2020-05-09</td>\n",
              "      <td>19</td>\n",
              "      <td>4099.0</td>\n",
              "      <td>1</td>\n",
              "      <td>0</td>\n",
              "      <td>NaN</td>\n",
              "      <td>NaN</td>\n",
              "    </tr>\n",
              "    <tr>\n",
              "      <th>58206</th>\n",
              "      <td>Sudeste</td>\n",
              "      <td>SP</td>\n",
              "      <td>Alumínio</td>\n",
              "      <td>35</td>\n",
              "      <td>350115.0</td>\n",
              "      <td>35163.0</td>\n",
              "      <td>Sorocaba</td>\n",
              "      <td>2020-05-12</td>\n",
              "      <td>20</td>\n",
              "      <td>18628.0</td>\n",
              "      <td>1</td>\n",
              "      <td>0</td>\n",
              "      <td>NaN</td>\n",
              "      <td>NaN</td>\n",
              "    </tr>\n",
              "    <tr>\n",
              "      <th>58215</th>\n",
              "      <td>Sudeste</td>\n",
              "      <td>SP</td>\n",
              "      <td>Álvares Machado</td>\n",
              "      <td>35</td>\n",
              "      <td>350130.0</td>\n",
              "      <td>35112.0</td>\n",
              "      <td>Alta Sorocabana</td>\n",
              "      <td>2020-04-28</td>\n",
              "      <td>18</td>\n",
              "      <td>24915.0</td>\n",
              "      <td>1</td>\n",
              "      <td>0</td>\n",
              "      <td>NaN</td>\n",
              "      <td>NaN</td>\n",
              "    </tr>\n",
              "    <tr>\n",
              "      <th>58238</th>\n",
              "      <td>Sudeste</td>\n",
              "      <td>SP</td>\n",
              "      <td>Álvaro de Carvalho</td>\n",
              "      <td>35</td>\n",
              "      <td>350140.0</td>\n",
              "      <td>35093.0</td>\n",
              "      <td>Marília</td>\n",
              "      <td>2020-05-08</td>\n",
              "      <td>19</td>\n",
              "      <td>5227.0</td>\n",
              "      <td>1</td>\n",
              "      <td>0</td>\n",
              "      <td>NaN</td>\n",
              "      <td>NaN</td>\n",
              "    </tr>\n",
              "    <tr>\n",
              "      <th>58251</th>\n",
              "      <td>Sudeste</td>\n",
              "      <td>SP</td>\n",
              "      <td>Americana</td>\n",
              "      <td>35</td>\n",
              "      <td>350160.0</td>\n",
              "      <td>35072.0</td>\n",
              "      <td>Região Metropolitana de Campinas</td>\n",
              "      <td>2020-03-31</td>\n",
              "      <td>14</td>\n",
              "      <td>239597.0</td>\n",
              "      <td>2</td>\n",
              "      <td>0</td>\n",
              "      <td>NaN</td>\n",
              "      <td>NaN</td>\n",
              "    </tr>\n",
              "    <tr>\n",
              "      <th>58302</th>\n",
              "      <td>Sudeste</td>\n",
              "      <td>SP</td>\n",
              "      <td>Américo Brasiliense</td>\n",
              "      <td>35</td>\n",
              "      <td>350170.0</td>\n",
              "      <td>35031.0</td>\n",
              "      <td>Central do DRS III</td>\n",
              "      <td>2020-04-11</td>\n",
              "      <td>15</td>\n",
              "      <td>40504.0</td>\n",
              "      <td>1</td>\n",
              "      <td>0</td>\n",
              "      <td>NaN</td>\n",
              "      <td>NaN</td>\n",
              "    </tr>\n",
              "  </tbody>\n",
              "</table>\n",
              "</div>"
            ],
            "text/plain": [
              "        regiao estado  ... Recuperadosnovos  emAcompanhamentoNovos\n",
              "1359   Sudeste     SP  ...              NaN                    NaN\n",
              "57840  Sudeste     SP  ...              NaN                    NaN\n",
              "57883  Sudeste     SP  ...              NaN                    NaN\n",
              "57922  Sudeste     SP  ...              NaN                    NaN\n",
              "57943  Sudeste     SP  ...              NaN                    NaN\n",
              "57970  Sudeste     SP  ...              NaN                    NaN\n",
              "57992  Sudeste     SP  ...              NaN                    NaN\n",
              "58041  Sudeste     SP  ...              NaN                    NaN\n",
              "58054  Sudeste     SP  ...              NaN                    NaN\n",
              "58095  Sudeste     SP  ...              NaN                    NaN\n",
              "58144  Sudeste     SP  ...              NaN                    NaN\n",
              "58179  Sudeste     SP  ...              NaN                    NaN\n",
              "58181  Sudeste     SP  ...              NaN                    NaN\n",
              "58186  Sudeste     SP  ...              NaN                    NaN\n",
              "58194  Sudeste     SP  ...              NaN                    NaN\n",
              "58206  Sudeste     SP  ...              NaN                    NaN\n",
              "58215  Sudeste     SP  ...              NaN                    NaN\n",
              "58238  Sudeste     SP  ...              NaN                    NaN\n",
              "58251  Sudeste     SP  ...              NaN                    NaN\n",
              "58302  Sudeste     SP  ...              NaN                    NaN\n",
              "\n",
              "[20 rows x 14 columns]"
            ]
          },
          "metadata": {
            "tags": []
          },
          "execution_count": 152
        }
      ]
    },
    {
      "cell_type": "markdown",
      "metadata": {
        "id": "3fc0sXNcMSvW"
      },
      "source": [
        "#### Exercício 3.3:  Selecionar uma amostra aleatória de 100 filas de 'covid19SPMunicipios'"
      ]
    },
    {
      "cell_type": "markdown",
      "metadata": {
        "id": "a3WL0wG6k4LV"
      },
      "source": [
        "Utilizarei a função [`.sample()`](https://pandas.pydata.org/pandas-docs/stable/reference/api/pandas.DataFrame.sample.html) do DataFrame pandas pra me gera uma amostra aleatória no dataframe em que é aplicada.\n",
        "O parâmetro `n=` recebe o tamanho da amostra e tenho a possibilidade de manter essa amostra igual pra reprodutibilidade com o parâmetro `random_state=` lhe dando um número \"identificador\" da amostra gerada."
      ]
    },
    {
      "cell_type": "code",
      "metadata": {
        "id": "uvL0kGLCMSvX"
      },
      "source": [
        "amostra_sp = covid19_sp_municipios.sample(n=100, random_state=1)"
      ],
      "execution_count": null,
      "outputs": []
    },
    {
      "cell_type": "markdown",
      "metadata": {
        "id": "j4Q2BR5GMSvc"
      },
      "source": [
        "#### Exercício 3.4: Escolher todas as colunas, exceto 'coduf'. Utilize a propriedade columns para filtrar na dimensão das colunas."
      ]
    },
    {
      "cell_type": "code",
      "metadata": {
        "id": "NlZhNHIA77J7",
        "outputId": "1b21ad26-421a-4891-9982-0b8084b1a418",
        "colab": {
          "base_uri": "https://localhost:8080/"
        }
      },
      "source": [
        "columns = []\n",
        "for column in amostra_sp.columns:\n",
        "  if column != 'coduf':\n",
        "    columns.append(column)\n",
        "columns"
      ],
      "execution_count": null,
      "outputs": [
        {
          "output_type": "execute_result",
          "data": {
            "text/plain": [
              "['regiao',\n",
              " 'estado',\n",
              " 'municipio',\n",
              " 'codmun',\n",
              " 'codRegiaoSaude',\n",
              " 'nomeRegiaoSaude',\n",
              " 'data',\n",
              " 'semanaEpi',\n",
              " 'populacaoTCU2019',\n",
              " 'casosAcumulado',\n",
              " 'obitosAcumulado',\n",
              " 'Recuperadosnovos',\n",
              " 'emAcompanhamentoNovos']"
            ]
          },
          "metadata": {
            "tags": []
          },
          "execution_count": 156
        }
      ]
    },
    {
      "cell_type": "code",
      "metadata": {
        "id": "h4rZBvs6MSvd"
      },
      "source": [
        "amostra_sp = amostra_sp[columns]"
      ],
      "execution_count": null,
      "outputs": []
    },
    {
      "cell_type": "markdown",
      "metadata": {
        "id": "rG8glc-dMSvi"
      },
      "source": [
        "#### Exercício 3.5: Organizar o dataset dos municípios segundo a população, de forma decrescente."
      ]
    },
    {
      "cell_type": "code",
      "metadata": {
        "scrolled": true,
        "id": "3vqTVcYrMSvj",
        "outputId": "b4500a54-3cfd-48bb-9363-640c92476cb7",
        "colab": {
          "base_uri": "https://localhost:8080/",
          "height": 609
        }
      },
      "source": [
        "amostra_sp.sort_values(by= 'populacaoTCU2019', ascending= False)"
      ],
      "execution_count": null,
      "outputs": [
        {
          "output_type": "execute_result",
          "data": {
            "text/html": [
              "<div>\n",
              "<style scoped>\n",
              "    .dataframe tbody tr th:only-of-type {\n",
              "        vertical-align: middle;\n",
              "    }\n",
              "\n",
              "    .dataframe tbody tr th {\n",
              "        vertical-align: top;\n",
              "    }\n",
              "\n",
              "    .dataframe thead th {\n",
              "        text-align: right;\n",
              "    }\n",
              "</style>\n",
              "<table border=\"1\" class=\"dataframe\">\n",
              "  <thead>\n",
              "    <tr style=\"text-align: right;\">\n",
              "      <th></th>\n",
              "      <th>regiao</th>\n",
              "      <th>estado</th>\n",
              "      <th>municipio</th>\n",
              "      <th>codmun</th>\n",
              "      <th>codRegiaoSaude</th>\n",
              "      <th>nomeRegiaoSaude</th>\n",
              "      <th>data</th>\n",
              "      <th>semanaEpi</th>\n",
              "      <th>populacaoTCU2019</th>\n",
              "      <th>casosAcumulado</th>\n",
              "      <th>obitosAcumulado</th>\n",
              "      <th>Recuperadosnovos</th>\n",
              "      <th>emAcompanhamentoNovos</th>\n",
              "    </tr>\n",
              "  </thead>\n",
              "  <tbody>\n",
              "    <tr>\n",
              "      <th>66530</th>\n",
              "      <td>Sudeste</td>\n",
              "      <td>SP</td>\n",
              "      <td>Osasco</td>\n",
              "      <td>353440.0</td>\n",
              "      <td>35014.0</td>\n",
              "      <td>Rota dos Bandeirantes</td>\n",
              "      <td>2020-03-28</td>\n",
              "      <td>13</td>\n",
              "      <td>698418.0</td>\n",
              "      <td>10</td>\n",
              "      <td>0</td>\n",
              "      <td>NaN</td>\n",
              "      <td>NaN</td>\n",
              "    </tr>\n",
              "    <tr>\n",
              "      <th>70718</th>\n",
              "      <td>Sudeste</td>\n",
              "      <td>SP</td>\n",
              "      <td>Sorocaba</td>\n",
              "      <td>355220.0</td>\n",
              "      <td>35163.0</td>\n",
              "      <td>Sorocaba</td>\n",
              "      <td>2020-03-28</td>\n",
              "      <td>13</td>\n",
              "      <td>679378.0</td>\n",
              "      <td>3</td>\n",
              "      <td>1</td>\n",
              "      <td>NaN</td>\n",
              "      <td>NaN</td>\n",
              "    </tr>\n",
              "    <tr>\n",
              "      <th>63755</th>\n",
              "      <td>Sudeste</td>\n",
              "      <td>SP</td>\n",
              "      <td>Itaquaquecetuba</td>\n",
              "      <td>352310.0</td>\n",
              "      <td>35011.0</td>\n",
              "      <td>Alto do Tietê</td>\n",
              "      <td>2020-03-31</td>\n",
              "      <td>14</td>\n",
              "      <td>370821.0</td>\n",
              "      <td>1</td>\n",
              "      <td>0</td>\n",
              "      <td>NaN</td>\n",
              "      <td>NaN</td>\n",
              "    </tr>\n",
              "    <tr>\n",
              "      <th>65011</th>\n",
              "      <td>Sudeste</td>\n",
              "      <td>SP</td>\n",
              "      <td>Limeira</td>\n",
              "      <td>352690.0</td>\n",
              "      <td>35102.0</td>\n",
              "      <td>Limeira</td>\n",
              "      <td>2020-04-01</td>\n",
              "      <td>14</td>\n",
              "      <td>306114.0</td>\n",
              "      <td>2</td>\n",
              "      <td>0</td>\n",
              "      <td>NaN</td>\n",
              "      <td>NaN</td>\n",
              "    </tr>\n",
              "    <tr>\n",
              "      <th>70832</th>\n",
              "      <td>Sudeste</td>\n",
              "      <td>SP</td>\n",
              "      <td>Suzano</td>\n",
              "      <td>355250.0</td>\n",
              "      <td>35011.0</td>\n",
              "      <td>Alto do Tietê</td>\n",
              "      <td>2020-03-28</td>\n",
              "      <td>13</td>\n",
              "      <td>297637.0</td>\n",
              "      <td>1</td>\n",
              "      <td>0</td>\n",
              "      <td>NaN</td>\n",
              "      <td>NaN</td>\n",
              "    </tr>\n",
              "    <tr>\n",
              "      <th>...</th>\n",
              "      <td>...</td>\n",
              "      <td>...</td>\n",
              "      <td>...</td>\n",
              "      <td>...</td>\n",
              "      <td>...</td>\n",
              "      <td>...</td>\n",
              "      <td>...</td>\n",
              "      <td>...</td>\n",
              "      <td>...</td>\n",
              "      <td>...</td>\n",
              "      <td>...</td>\n",
              "      <td>...</td>\n",
              "      <td>...</td>\n",
              "    </tr>\n",
              "    <tr>\n",
              "      <th>67792</th>\n",
              "      <td>Sudeste</td>\n",
              "      <td>SP</td>\n",
              "      <td>Pontes Gestal</td>\n",
              "      <td>354030.0</td>\n",
              "      <td>35157.0</td>\n",
              "      <td>Votuporanga</td>\n",
              "      <td>2020-05-20</td>\n",
              "      <td>21</td>\n",
              "      <td>2577.0</td>\n",
              "      <td>1</td>\n",
              "      <td>0</td>\n",
              "      <td>NaN</td>\n",
              "      <td>NaN</td>\n",
              "    </tr>\n",
              "    <tr>\n",
              "      <th>69866</th>\n",
              "      <td>Sudeste</td>\n",
              "      <td>SP</td>\n",
              "      <td>São João das Duas Pontes</td>\n",
              "      <td>354920.0</td>\n",
              "      <td>35154.0</td>\n",
              "      <td>Fernandópolis</td>\n",
              "      <td>2020-05-13</td>\n",
              "      <td>20</td>\n",
              "      <td>2568.0</td>\n",
              "      <td>1</td>\n",
              "      <td>1</td>\n",
              "      <td>NaN</td>\n",
              "      <td>NaN</td>\n",
              "    </tr>\n",
              "    <tr>\n",
              "      <th>68789</th>\n",
              "      <td>Sudeste</td>\n",
              "      <td>SP</td>\n",
              "      <td>Sagres</td>\n",
              "      <td>354470.0</td>\n",
              "      <td>35091.0</td>\n",
              "      <td>Adamantina</td>\n",
              "      <td>2020-05-16</td>\n",
              "      <td>20</td>\n",
              "      <td>2432.0</td>\n",
              "      <td>1</td>\n",
              "      <td>0</td>\n",
              "      <td>NaN</td>\n",
              "      <td>NaN</td>\n",
              "    </tr>\n",
              "    <tr>\n",
              "      <th>69088</th>\n",
              "      <td>Sudeste</td>\n",
              "      <td>SP</td>\n",
              "      <td>Santa Cruz da Esperança</td>\n",
              "      <td>354625.0</td>\n",
              "      <td>35133.0</td>\n",
              "      <td>Vale das Cachoeiras</td>\n",
              "      <td>2020-05-07</td>\n",
              "      <td>19</td>\n",
              "      <td>2139.0</td>\n",
              "      <td>2</td>\n",
              "      <td>0</td>\n",
              "      <td>NaN</td>\n",
              "      <td>NaN</td>\n",
              "    </tr>\n",
              "    <tr>\n",
              "      <th>69874</th>\n",
              "      <td>Sudeste</td>\n",
              "      <td>SP</td>\n",
              "      <td>São João do Pau d'Alho</td>\n",
              "      <td>354930.0</td>\n",
              "      <td>35111.0</td>\n",
              "      <td>Alta Paulista</td>\n",
              "      <td>2020-05-14</td>\n",
              "      <td>20</td>\n",
              "      <td>2105.0</td>\n",
              "      <td>1</td>\n",
              "      <td>0</td>\n",
              "      <td>NaN</td>\n",
              "      <td>NaN</td>\n",
              "    </tr>\n",
              "  </tbody>\n",
              "</table>\n",
              "<p>100 rows × 13 columns</p>\n",
              "</div>"
            ],
            "text/plain": [
              "        regiao estado  ... Recuperadosnovos  emAcompanhamentoNovos\n",
              "66530  Sudeste     SP  ...              NaN                    NaN\n",
              "70718  Sudeste     SP  ...              NaN                    NaN\n",
              "63755  Sudeste     SP  ...              NaN                    NaN\n",
              "65011  Sudeste     SP  ...              NaN                    NaN\n",
              "70832  Sudeste     SP  ...              NaN                    NaN\n",
              "...        ...    ...  ...              ...                    ...\n",
              "67792  Sudeste     SP  ...              NaN                    NaN\n",
              "69866  Sudeste     SP  ...              NaN                    NaN\n",
              "68789  Sudeste     SP  ...              NaN                    NaN\n",
              "69088  Sudeste     SP  ...              NaN                    NaN\n",
              "69874  Sudeste     SP  ...              NaN                    NaN\n",
              "\n",
              "[100 rows x 13 columns]"
            ]
          },
          "metadata": {
            "tags": []
          },
          "execution_count": 162
        }
      ]
    },
    {
      "cell_type": "markdown",
      "metadata": {
        "id": "_sfXzRFvMSvo"
      },
      "source": [
        "#### Exercício 3.6: Qual é a população média da população dos municípios, depois de excluirmos aqueles cujas populações são menores que 100000 (cem mil) e maiores que 500000 (quinhentos mil) habitantes?"
      ]
    },
    {
      "cell_type": "code",
      "metadata": {
        "id": "UVzYkL79MSvo",
        "outputId": "e312afca-9c76-4178-de10-b3bfa386344a",
        "colab": {
          "base_uri": "https://localhost:8080/"
        }
      },
      "source": [
        "media = amostra_sp.query('populacaoTCU2019 > 100000 & populacaoTCU2019 < 500000')['populacaoTCU2019'].mean()\n",
        "round(media, 2)                                                                               "
      ],
      "execution_count": null,
      "outputs": [
        {
          "output_type": "execute_result",
          "data": {
            "text/plain": [
              "193933.94"
            ]
          },
          "metadata": {
            "tags": []
          },
          "execution_count": 166
        }
      ]
    },
    {
      "cell_type": "markdown",
      "metadata": {
        "id": "nMaWpGkD-E5R"
      },
      "source": [
        "Media de 193.933 habitantes com as condições especificadas."
      ]
    }
  ]
}